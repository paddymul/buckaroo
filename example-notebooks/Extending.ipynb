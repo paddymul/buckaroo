{
 "cells": [
  {
   "cell_type": "markdown",
   "id": "4d39f5cc-7791-4e90-8108-60752647487c",
   "metadata": {},
   "source": [
    "# Extending Buckaroo\n",
    "Buckaroo is built for exploratory data analysis on unknown data.  Data in the wild is incredibly varied and so are the ways of visualizing it. Most table tools are built around allowing a single bespoke customization, with middle of the road defaults. Buckaroo takes a different approach. Buckaroo lets you build many highly specific configurations and then toggle between them quickly.  This makes it easier to build each configuration because you don't have to solve for every possibility.\n",
    "\n",
    "This document walks you through how to add your own analysis to Buckaroo and allow users to toggle it\n",
    "\n",
    "The extension points are\n",
    "* [PluggableAnalysisFramework](https://buckaroo-data.readthedocs.io/en/latest/articles/pluggable.html) Used to add summary stats and column metadata for use by other steps\n",
    "* [Styling](./styling-howto.ipynb) control the visual display of the table\n",
    "* PostProcessing used to transform an entire dataframe\n",
    "* AutoCleaning Automate transformations for dropping nulls, removing outliers and other pre-processing steps, cleans the dataframe and generates python code.  Not yet supported in 0.6\n",
    "\n",
    "Each extension point is composable, and can be interactively mixed and matched"
   ]
  },
  {
   "cell_type": "code",
   "execution_count": null,
   "id": "73f3516e-2273-495a-b3b9-f68593b0018b",
   "metadata": {
    "tags": []
   },
   "outputs": [],
   "source": [
    "import pandas as pd\n",
    "import numpy as np\n",
    "from buckaroo.dataflow_traditional import StylingAnalysis\n",
    "from buckaroo.pluggable_analysis_framework.pluggable_analysis_framework import ColAnalysis\n",
    "import polars as pl\n",
    "from polars import functions as F\n",
    "from buckaroo.polars_buckaroo import PolarsBuckarooWidget"
   ]
  },
  {
   "cell_type": "code",
   "execution_count": null,
   "id": "45a03efb-ec32-4cda-b443-99425e80a458",
   "metadata": {
    "tags": []
   },
   "outputs": [],
   "source": [
    "ROWS = 200\n",
    "typed_df = pl.DataFrame({'int_col':np.random.randint(1,50, ROWS), 'float_col': np.random.randint(1,30, ROWS)/.7,\n",
    "                         'timestamp':[\"2020-01-01 01:00Z\", \"2020-01-01 02:00Z\", \"2020-02-28 02:00Z\", \"2020-03-15 02:00Z\", None] * 40,\n",
    "                         \"str_col\": [\"foobar\", \"Realllllly long string\", \"\", None, \"normal\"]* 40})\n",
    "typed_df = typed_df.with_columns(timestamp=pl.col('timestamp').str.to_datetime() )"
   ]
  },
  {
   "cell_type": "code",
   "execution_count": null,
   "id": "8086b3b9-f97e-4b4c-9c0a-85566be060a3",
   "metadata": {
    "tags": []
   },
   "outputs": [],
   "source": [
    "pbw = PolarsBuckarooWidget(typed_df)\n",
    "pbw"
   ]
  },
  {
   "cell_type": "markdown",
   "id": "05ecd1e4-1bde-48ce-ac51-bf53f7bb91c4",
   "metadata": {},
   "source": [
    "# Adding a styling analysis\n",
    "The `StylingAnalysis` class is used to control the display of a column based on the column metadata.  \n",
    "\n",
    "\n",
    "Overriding the `config_from_column_metadata(col:str, sd:SingleColumnMetadata) -> ColumnConfig` computes the config for a single column give that column's metadata.\n",
    "\n",
    "This lets you customize based on metadata collected about a column.  This works with the [PluggableAnalysisFramework](https://buckaroo-data.readthedocs.io/en/latest/articles/pluggable.html),  you can specify required fields that are necessary.  Adding requirements like this garuntees that errors are spotted early.\n",
    "\n",
    "StylingAnalysis works for both Polars and Pandas because it only receives a dictionary with simple python values"
   ]
  },
  {
   "cell_type": "code",
   "execution_count": null,
   "id": "c03b5bc4-0025-4b55-9e7c-cc1a69508688",
   "metadata": {
    "tags": []
   },
   "outputs": [],
   "source": [
    "from typing import Any\n",
    "\n",
    "class EverythingStyling(StylingAnalysis):\n",
    "    \"\"\"\n",
    "    This styling shows as much detail as possible\n",
    "    \"\"\"\n",
    "    df_display_name = \"everything\"\n",
    "\n",
    "    pinned_rows = [\n",
    "        {'primary_key_val': 'dtype', 'displayer_args': {'displayer': 'obj' }}]\n",
    "\n",
    "\n",
    "    #Styling analysis handles column iteration for us.\n",
    "    \n",
    "    #the type should be\n",
    "    #def style_column(col:str, column_metadata: SingleColumnMetadata) -> ColumnConfig:\n",
    "    @classmethod\n",
    "    def style_column(kls, col:str, column_metadata: Any) -> Any:\n",
    "        digits = 10\n",
    "        if column_metadata['is_integer']:\n",
    "            disp = {'displayer': 'float', 'min_fraction_digits':0, 'max_fraction_digits':0}\n",
    "        elif column_metadata['is_numeric']:\n",
    "            disp = {'displayer': 'float', 'min_fraction_digits':digits, 'max_fraction_digits':digits}\n",
    "        # FIXME, because we don't have a DataFrame library agnostic way of saying \"is_string\" \n",
    "        # this styling analysis will only work with polars\n",
    "        elif column_metadata['dtype'] == pl.String:\n",
    "            disp = {'displayer': 'string'}\n",
    "        elif column_metadata['dtype'] == pl.Datetime:\n",
    "            disp =  {'displayer': 'datetimeDefault'}\n",
    "        else:\n",
    "            disp = {'displayer': 'obj'}\n",
    "        return {'col_name':col, 'displayer_args': disp }\n",
    "\n",
    "class AbrevStyling(StylingAnalysis):\n",
    "    \"\"\"\n",
    "    This styling shows as much detail as possible\n",
    "    \"\"\"\n",
    "    df_display_name = \"Abrev\"\n",
    "\n",
    "    pinned_rows = [\n",
    "        {'primary_key_val': 'dtype', 'displayer_args': {'displayer': 'obj' }}]\n",
    "\n",
    "    @classmethod\n",
    "    def style_column(kls, col:str, column_metadata: Any) -> Any:\n",
    "        digits = 3\n",
    "        if column_metadata['is_integer']:\n",
    "            disp = {'displayer': 'float', 'min_fraction_digits':0, 'max_fraction_digits':0}\n",
    "        elif column_metadata['is_numeric']:\n",
    "            disp = {'displayer': 'float', 'min_fraction_digits':digits, 'max_fraction_digits':digits}\n",
    "        elif column_metadata['dtype'] == pl.Datetime:\n",
    "            disp = {'displayer': 'datetimeLocaleString','locale': 'en-US',  'args': {}}\n",
    "        elif column_metadata['dtype'] == pl.String:\n",
    "            disp = {'displayer': 'string', 'max_length':15}\n",
    "        else:\n",
    "            disp = {'displayer': 'obj'}\n",
    "        return {'col_name':col, 'displayer_args': disp }\n",
    "base_a_klasses = PolarsBuckarooWidget.analysis_klasses.copy()\n",
    "base_a_klasses.extend([EverythingStyling, AbrevStyling])\n",
    "class EverythingAbrevWidget(PolarsBuckarooWidget):\n",
    "    analysis_klasses = base_a_klasses\n",
    "sbw = EverythingAbrevWidget(\n",
    "    typed_df,\n",
    "    #column_config_overrides={'timestamp':  {'displayer_args':  {  'displayer': 'datetimeDefault'}}}                       \n",
    "                           )\n",
    "sbw"
   ]
  },
  {
   "cell_type": "code",
   "execution_count": null,
   "id": "c257e6c5-7202-4ec2-8474-1493c23b6d66",
   "metadata": {
    "tags": []
   },
   "outputs": [],
   "source": [
    "bw_ = PolarsBuckarooWidget(\n",
    "    typed_df, \n",
    "    column_config_overrides={\n",
    "        'int_col': {'merge_rule': 'hidden'}})\n",
    "bw_"
   ]
  },
  {
   "cell_type": "markdown",
   "id": "a3116fa5-174e-4c67-98d7-dd33dc9b2275",
   "metadata": {},
   "source": [
    "Let's look at pinned_rows, they can be modified by setting `pinned_rows` on Buckaroo Instaniation"
   ]
  },
  {
   "cell_type": "markdown",
   "id": "be8c2eb7-a791-46f8-b3b4-62f596799b21",
   "metadata": {},
   "source": [
    "# lets add a post processing method"
   ]
  },
  {
   "cell_type": "code",
   "execution_count": null,
   "id": "3ca85511-9a03-4477-aaf3-586947d8db02",
   "metadata": {
    "tags": []
   },
   "outputs": [],
   "source": [
    "from polars import functions as F\n",
    "from buckaroo.pluggable_analysis_framework.polars_analysis_management import PolarsAnalysis"
   ]
  },
  {
   "cell_type": "code",
   "execution_count": null,
   "id": "49243e53-e52c-45d8-bcd7-ca98d05ced5a",
   "metadata": {
    "tags": []
   },
   "outputs": [],
   "source": [
    "\n",
    "typed_df.select(F.all(),\n",
    "                pl.col('float_col').lt(5).replace(True, \"foo\").replace(False, None).alias('errored_float'))"
   ]
  },
  {
   "cell_type": "code",
   "execution_count": null,
   "id": "0bdd2826-1716-4b88-b54d-74241f42549d",
   "metadata": {
    "tags": []
   },
   "outputs": [],
   "source": [
    "class ValueCountPostProcessing(PolarsAnalysis):\n",
    "    @classmethod\n",
    "    def post_process_df(kls, df):\n",
    "        result_df = df.select(\n",
    "            F.all().value_counts().implode().list.gather(pl.arange(0, 10), null_on_oob=True).explode().struct.rename_fields(['val', 'unused_count']).struct.field('val').prefix('val_'),\n",
    "            F.all().value_counts().implode().list.gather(pl.arange(0, 10), null_on_oob=True).explode().struct.field('count').prefix('count_'))\n",
    "        return [result_df, {}]\n",
    "    post_processing_method = \"value_counts\"\n",
    "    \n",
    "\n",
    "class TransposeProcessing(ColAnalysis):\n",
    "    @classmethod\n",
    "    def post_process_df(kls, df):\n",
    "        return [df.transpose(), {}]\n",
    "    post_processing_method = \"transpose\"\n",
    "class ShowErrorsPostProcessing(PolarsAnalysis):\n",
    "    @classmethod\n",
    "    def post_process_df(kls, df):\n",
    "        df.select\n",
    "        result_df = df.select(\n",
    "            F.all(),\n",
    "                              \n",
    "            pl.col('float_col').lt(5).replace(True, \"foo\").replace(False, None).alias('errored_float'))\n",
    "        extra_column_config = {\n",
    "            'index': {},\n",
    "            'float_col' : {'column_config_override': { \n",
    "                               {'color_map_config': {\n",
    "                                'color_rule': 'color_not_null',\n",
    "                                'conditional_color': 'red',\n",
    "                                'exist_column': 'errored_float'}}}}}\n",
    "\n",
    "        #return [result_df, extra_column_config]\n",
    "        return [result_df, {}]\n",
    "\n",
    "    post_processing_method = \"show_errors\"\n",
    "    \n",
    "    \n",
    "base_a_klasses = PolarsBuckarooWidget.analysis_klasses.copy()\n",
    "base_a_klasses.extend([#ValueCountPostProcessing, \n",
    "                       #TransposeProcessing, \n",
    "                       ShowErrorsPostProcessing])\n",
    "class VCBuckarooWidget(PolarsBuckarooWidget):\n",
    "    analysis_klasses = base_a_klasses\n",
    "vcb = VCBuckarooWidget(typed_df, debug=False,\n",
    "                      column_config_overrides={'float_col': {'color_map_config': {\n",
    "                                'color_rule': 'color_not_null',\n",
    "                                'conditional_color': 'red',\n",
    "                                'exist_column': 'errored_float'}}}\n",
    "                      )\n",
    "vcb"
   ]
  },
  {
   "cell_type": "code",
   "execution_count": null,
   "id": "216936c9-8863-47af-bbcd-68eab766e91d",
   "metadata": {},
   "outputs": [],
   "source": [
    "class AdaptingStylingAnalysis(SimpleStylingAnalysis):\n",
    "    requires_summary = [\"histogram\", \"is_numeric\", \"dtype\", \"is_integer\"]\n",
    "    pinned_rows = [\n",
    "        obj_('dtype'),\n",
    "        {'primary_key_val': 'histogram', 'displayer_args': { 'displayer': 'histogram' }}]\n",
    "\n",
    "    @staticmethod\n",
    "    def single_sd_to_column_config(col, sd):\n",
    "        digits = 3\n",
    "        if sd['is_integer']:\n",
    "            disp = {'displayer': 'float', 'minimumFractionDigits':0, 'maximumFractionDigits':0}\n",
    "        elif sd['is_numeric']:\n",
    "            disp = {'displayer': 'float', 'minimumFractionDigits':digits, 'maximumFractionDigits':digits}\n",
    "        else:\n",
    "            disp = {'displayer': 'obj'}\n",
    "        return {'col_name':col, 'displayer_args': disp }\n",
    "\n",
    "base_a_klasses = PolarsBuckarooWidget.analysis_klasses.copy()\n",
    "base_a_klasses.extend([AdaptingStylingAnalysis, ValueCountPostProcessing])\n",
    "class ABuckarooWidget(PolarsBuckarooWidget):\n",
    "    analysis_klasses = base_a_klasses\n",
    "acb = ABuckarooWidget(typed_df)\n",
    "acb"
   ]
  },
  {
   "cell_type": "code",
   "execution_count": null,
   "id": "db2eb990-b6b0-47aa-b7ca-2fe40b9dcebe",
   "metadata": {},
   "outputs": [],
   "source": []
  }
 ],
 "metadata": {
  "kernelspec": {
   "display_name": "Python 3 (ipykernel)",
   "language": "python",
   "name": "python3"
  },
  "language_info": {
   "codemirror_mode": {
    "name": "ipython",
    "version": 3
   },
   "file_extension": ".py",
   "mimetype": "text/x-python",
   "name": "python",
   "nbconvert_exporter": "python",
   "pygments_lexer": "ipython3",
   "version": "3.11.7"
  },
  "widgets": {
   "application/vnd.jupyter.widget-state+json": {
    "state": {},
    "version_major": 2,
    "version_minor": 0
   }
  }
 },
 "nbformat": 4,
 "nbformat_minor": 5
}
