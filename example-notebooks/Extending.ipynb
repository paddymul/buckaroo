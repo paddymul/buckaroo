{
 "cells": [
  {
   "cell_type": "markdown",
   "id": "4d39f5cc-7791-4e90-8108-60752647487c",
   "metadata": {},
   "source": [
    "# Extending Buckaroo\n",
    "Buckaroo is built for exploratory data analysis on unknown data.  Data in the wild is incredibly varied and so are the ways of visualizing it. Most table tools are built around allowing a single bespoke customization, with middle of the road defaults. Buckaroo takes a different approach. Buckaroo lets you build many highly specific configurations and then toggle between them quickly.  This makes it easier to build each configuration because you don't have to solve for every possibility.\n",
    "\n",
    "This document walks you through how to add your own analysis to Buckaroo and allow users to toggle it\n",
    "\n",
    "The extension points are\n",
    "* [PluggableAnalysisFramework](https://buckaroo-data.readthedocs.io/en/latest/articles/pluggable.html) Used to add summary stats and column metadata for use by other steps\n",
    "* [Styling](./styling-howto.ipynb) control the visual display of the table\n",
    "* PostProcessing used to transform an entire dataframe\n",
    "* AutoCleaning Automate transformations for dropping nulls, removing outliers and other pre-processing steps, cleans the dataframe and generates python code.  Not yet supported in 0.6\n",
    "\n",
    "Each extension point is composable, and can be interactively mixed and matched"
   ]
  },
  {
   "cell_type": "code",
   "execution_count": 1,
   "id": "73f3516e-2273-495a-b3b9-f68593b0018b",
   "metadata": {
    "tags": []
   },
   "outputs": [],
   "source": [
    "import pandas as pd\n",
    "import numpy as np\n",
    "from buckaroo.dataflow_traditional import StylingAnalysis\n",
    "from buckaroo.pluggable_analysis_framework.pluggable_analysis_framework import ColAnalysis\n",
    "import polars as pl\n",
    "from polars import functions as F\n",
    "from buckaroo.polars_buckaroo import PolarsBuckarooWidget"
   ]
  },
  {
   "cell_type": "code",
   "execution_count": 2,
   "id": "45a03efb-ec32-4cda-b443-99425e80a458",
   "metadata": {
    "tags": []
   },
   "outputs": [],
   "source": [
    "ROWS = 200\n",
    "typed_df = pl.DataFrame({'int_col':np.random.randint(1,50, ROWS), 'float_col': np.random.randint(1,30, ROWS)/.7,\n",
    "                         'timestamp':[\"2020-01-01 01:00Z\", \"2020-01-01 02:00Z\", \"2020-02-28 02:00Z\", \"2020-03-15 02:00Z\", None] * 40,\n",
    "                         \"str_col\": [\"foobar\", \"Realllllly long string\", \"\", None, \"normal\"]* 40})\n",
    "typed_df = typed_df.with_columns(timestamp=pl.col('timestamp').str.to_datetime() )"
   ]
  },
  {
   "cell_type": "code",
   "execution_count": 3,
   "id": "8086b3b9-f97e-4b4c-9c0a-85566be060a3",
   "metadata": {
    "tags": []
   },
   "outputs": [
    {
     "name": "stdout",
     "output_type": "stream",
     "text": [
      "subbing nonexistent value_counts\n"
     ]
    },
    {
     "data": {
      "application/vnd.jupyter.widget-view+json": {
       "model_id": "95c586e115ec44f2a75a09d839357b3f",
       "version_major": 2,
       "version_minor": 0
      },
      "text/plain": [
       "PolarsBuckarooWidget(buckaroo_options={'sampled': ['random'], 'auto_clean': ['aggressive', 'conservative'], 'p…"
      ]
     },
     "execution_count": 3,
     "metadata": {},
     "output_type": "execute_result"
    }
   ],
   "source": [
    "pbw = PolarsBuckarooWidget(typed_df)\n",
    "pbw"
   ]
  },
  {
   "cell_type": "markdown",
   "id": "05ecd1e4-1bde-48ce-ac51-bf53f7bb91c4",
   "metadata": {},
   "source": [
    "# Adding a styling analysis\n",
    "The `StylingAnalysis` class is used to control the display of a column based on the column metadata.  \n",
    "\n",
    "\n",
    "Overriding the `config_from_column_metadata(col:str, sd:SingleColumnMetadata) -> ColumnConfig` computes the config for a single column give that column's metadata.\n",
    "\n",
    "This lets you customize based on metadata collected about a column.  This works with the [PluggableAnalysisFramework](https://buckaroo-data.readthedocs.io/en/latest/articles/pluggable.html),  you can specify required fields that are necessary.  Adding requirements like this garuntees that errors are spotted early.\n",
    "\n",
    "StylingAnalysis works for both Polars and Pandas because it only receives a dictionary with simple python values"
   ]
  },
  {
   "cell_type": "code",
   "execution_count": 4,
   "id": "c03b5bc4-0025-4b55-9e7c-cc1a69508688",
   "metadata": {
    "tags": []
   },
   "outputs": [
    {
     "name": "stdout",
     "output_type": "stream",
     "text": [
      "subbing nonexistent value_counts\n"
     ]
    },
    {
     "data": {
      "application/vnd.jupyter.widget-view+json": {
       "model_id": "d3deca9ee528446781a7b77d25e1699f",
       "version_major": 2,
       "version_minor": 0
      },
      "text/plain": [
       "EverythingAbrevWidget(buckaroo_options={'sampled': ['random'], 'auto_clean': ['aggressive', 'conservative'], '…"
      ]
     },
     "execution_count": 4,
     "metadata": {},
     "output_type": "execute_result"
    }
   ],
   "source": [
    "from typing import Any\n",
    "\n",
    "class EverythingStyling(StylingAnalysis):\n",
    "    \"\"\"\n",
    "    This styling shows as much detail as possible\n",
    "    \"\"\"\n",
    "    df_display_name = \"everything\"\n",
    "\n",
    "    pinned_rows = [\n",
    "        {'primary_key_val': 'dtype', 'displayer_args': {'displayer': 'obj' }}]\n",
    "\n",
    "\n",
    "    #Styling analysis handles column iteration for us.\n",
    "    \n",
    "    #the type should be\n",
    "    #def style_column(col:str, column_metadata: SingleColumnMetadata) -> ColumnConfig:\n",
    "    @classmethod\n",
    "    def style_column(kls, col:str, column_metadata: Any) -> Any:\n",
    "        digits = 10\n",
    "        if column_metadata['is_integer']:\n",
    "            disp = {'displayer': 'float', 'min_fraction_digits':0, 'max_fraction_digits':0}\n",
    "        elif column_metadata['is_numeric']:\n",
    "            disp = {'displayer': 'float', 'min_fraction_digits':digits, 'max_fraction_digits':digits}\n",
    "        # FIXME, because we don't have a DataFrame library agnostic way of saying \"is_string\" \n",
    "        # this styling analysis will only work with polars\n",
    "        elif column_metadata['dtype'] == pl.String:\n",
    "            disp = {'displayer': 'string'}\n",
    "        elif column_metadata['dtype'] == pl.Datetime:\n",
    "            disp =  {'displayer': 'datetimeDefault'}\n",
    "        else:\n",
    "            disp = {'displayer': 'obj'}\n",
    "        return {'col_name':col, 'displayer_args': disp }\n",
    "\n",
    "class AbrevStyling(StylingAnalysis):\n",
    "    \"\"\"\n",
    "    This styling shows as much detail as possible\n",
    "    \"\"\"\n",
    "    df_display_name = \"Abrev\"\n",
    "\n",
    "    pinned_rows = [\n",
    "        {'primary_key_val': 'dtype', 'displayer_args': {'displayer': 'obj' }}]\n",
    "\n",
    "    @classmethod\n",
    "    def style_column(kls, col:str, column_metadata: Any) -> Any:\n",
    "        digits = 3\n",
    "        if column_metadata['is_integer']:\n",
    "            disp = {'displayer': 'float', 'min_fraction_digits':0, 'max_fraction_digits':0}\n",
    "        elif column_metadata['is_numeric']:\n",
    "            disp = {'displayer': 'float', 'min_fraction_digits':digits, 'max_fraction_digits':digits}\n",
    "        elif column_metadata['dtype'] == pl.Datetime:\n",
    "            disp = {'displayer': 'datetimeLocaleString','locale': 'en-US',  'args': {}}\n",
    "        elif column_metadata['dtype'] == pl.String:\n",
    "            disp = {'displayer': 'string', 'max_length':15}\n",
    "        else:\n",
    "            disp = {'displayer': 'obj'}\n",
    "        return {'col_name':col, 'displayer_args': disp }\n",
    "base_a_klasses = PolarsBuckarooWidget.analysis_klasses.copy()\n",
    "base_a_klasses.extend([EverythingStyling, AbrevStyling])\n",
    "class EverythingAbrevWidget(PolarsBuckarooWidget):\n",
    "    analysis_klasses = base_a_klasses\n",
    "sbw = EverythingAbrevWidget(\n",
    "    typed_df,\n",
    "    #column_config_overrides={'timestamp':  {'displayer_args':  {  'displayer': 'datetimeDefault'}}}                       \n",
    "                           )\n",
    "sbw"
   ]
  },
  {
   "cell_type": "code",
   "execution_count": 5,
   "id": "c257e6c5-7202-4ec2-8474-1493c23b6d66",
   "metadata": {
    "tags": []
   },
   "outputs": [
    {
     "name": "stdout",
     "output_type": "stream",
     "text": [
      "subbing nonexistent value_counts\n"
     ]
    },
    {
     "data": {
      "application/vnd.jupyter.widget-view+json": {
       "model_id": "e142a10e138e42fe8b95b2a1ad6aa2a5",
       "version_major": 2,
       "version_minor": 0
      },
      "text/plain": [
       "PolarsBuckarooWidget(buckaroo_options={'sampled': ['random'], 'auto_clean': ['aggressive', 'conservative'], 'p…"
      ]
     },
     "execution_count": 5,
     "metadata": {},
     "output_type": "execute_result"
    }
   ],
   "source": [
    "bw_ = PolarsBuckarooWidget(\n",
    "    typed_df, \n",
    "    column_config_overrides={\n",
    "        'int_col': {'merge_rule': 'hidden'}})\n",
    "bw_"
   ]
  },
  {
   "cell_type": "markdown",
   "id": "a3116fa5-174e-4c67-98d7-dd33dc9b2275",
   "metadata": {},
   "source": [
    "Let's look at pinned_rows, they can be modified by setting `pinned_rows` on Buckaroo Instaniation"
   ]
  },
  {
   "cell_type": "markdown",
   "id": "be8c2eb7-a791-46f8-b3b4-62f596799b21",
   "metadata": {},
   "source": [
    "# lets add a post processing method"
   ]
  },
  {
   "cell_type": "code",
   "execution_count": 6,
   "id": "3ca85511-9a03-4477-aaf3-586947d8db02",
   "metadata": {
    "tags": []
   },
   "outputs": [],
   "source": [
    "from polars import functions as F\n",
    "from buckaroo.pluggable_analysis_framework.polars_analysis_management import PolarsAnalysis"
   ]
  },
  {
   "cell_type": "code",
   "execution_count": 7,
   "id": "49243e53-e52c-45d8-bcd7-ca98d05ced5a",
   "metadata": {
    "tags": []
   },
   "outputs": [
    {
     "data": {
      "text/html": [
       "<div><style>\n",
       ".dataframe > thead > tr,\n",
       ".dataframe > tbody > tr {\n",
       "  text-align: right;\n",
       "  white-space: pre-wrap;\n",
       "}\n",
       "</style>\n",
       "<small>shape: (200, 5)</small><table border=\"1\" class=\"dataframe\"><thead><tr><th>int_col</th><th>float_col</th><th>timestamp</th><th>str_col</th><th>errored_float</th></tr><tr><td>i64</td><td>f64</td><td>datetime[μs, UTC]</td><td>str</td><td>str</td></tr></thead><tbody><tr><td>23</td><td>4.285714</td><td>2020-01-01 01:00:00 UTC</td><td>&quot;foobar&quot;</td><td>&quot;foo&quot;</td></tr><tr><td>7</td><td>4.285714</td><td>2020-01-01 02:00:00 UTC</td><td>&quot;Realllllly lon…</td><td>&quot;foo&quot;</td></tr><tr><td>38</td><td>21.428571</td><td>2020-02-28 02:00:00 UTC</td><td>&quot;&quot;</td><td>null</td></tr><tr><td>45</td><td>31.428571</td><td>2020-03-15 02:00:00 UTC</td><td>null</td><td>null</td></tr><tr><td>6</td><td>8.571429</td><td>null</td><td>&quot;normal&quot;</td><td>null</td></tr><tr><td>31</td><td>18.571429</td><td>2020-01-01 01:00:00 UTC</td><td>&quot;foobar&quot;</td><td>null</td></tr><tr><td>45</td><td>17.142857</td><td>2020-01-01 02:00:00 UTC</td><td>&quot;Realllllly lon…</td><td>null</td></tr><tr><td>22</td><td>22.857143</td><td>2020-02-28 02:00:00 UTC</td><td>&quot;&quot;</td><td>null</td></tr><tr><td>34</td><td>27.142857</td><td>2020-03-15 02:00:00 UTC</td><td>null</td><td>null</td></tr><tr><td>33</td><td>21.428571</td><td>null</td><td>&quot;normal&quot;</td><td>null</td></tr><tr><td>36</td><td>32.857143</td><td>2020-01-01 01:00:00 UTC</td><td>&quot;foobar&quot;</td><td>null</td></tr><tr><td>39</td><td>1.428571</td><td>2020-01-01 02:00:00 UTC</td><td>&quot;Realllllly lon…</td><td>&quot;foo&quot;</td></tr><tr><td>&hellip;</td><td>&hellip;</td><td>&hellip;</td><td>&hellip;</td><td>&hellip;</td></tr><tr><td>11</td><td>37.142857</td><td>2020-03-15 02:00:00 UTC</td><td>null</td><td>null</td></tr><tr><td>32</td><td>32.857143</td><td>null</td><td>&quot;normal&quot;</td><td>null</td></tr><tr><td>30</td><td>37.142857</td><td>2020-01-01 01:00:00 UTC</td><td>&quot;foobar&quot;</td><td>null</td></tr><tr><td>29</td><td>38.571429</td><td>2020-01-01 02:00:00 UTC</td><td>&quot;Realllllly lon…</td><td>null</td></tr><tr><td>34</td><td>11.428571</td><td>2020-02-28 02:00:00 UTC</td><td>&quot;&quot;</td><td>null</td></tr><tr><td>4</td><td>34.285714</td><td>2020-03-15 02:00:00 UTC</td><td>null</td><td>null</td></tr><tr><td>5</td><td>7.142857</td><td>null</td><td>&quot;normal&quot;</td><td>null</td></tr><tr><td>16</td><td>18.571429</td><td>2020-01-01 01:00:00 UTC</td><td>&quot;foobar&quot;</td><td>null</td></tr><tr><td>10</td><td>28.571429</td><td>2020-01-01 02:00:00 UTC</td><td>&quot;Realllllly lon…</td><td>null</td></tr><tr><td>19</td><td>14.285714</td><td>2020-02-28 02:00:00 UTC</td><td>&quot;&quot;</td><td>null</td></tr><tr><td>40</td><td>1.428571</td><td>2020-03-15 02:00:00 UTC</td><td>null</td><td>&quot;foo&quot;</td></tr><tr><td>19</td><td>5.714286</td><td>null</td><td>&quot;normal&quot;</td><td>null</td></tr></tbody></table></div>"
      ],
      "text/plain": [
       "shape: (200, 5)\n",
       "┌─────────┬───────────┬─────────────────────────┬────────────────────────┬───────────────┐\n",
       "│ int_col ┆ float_col ┆ timestamp               ┆ str_col                ┆ errored_float │\n",
       "│ ---     ┆ ---       ┆ ---                     ┆ ---                    ┆ ---           │\n",
       "│ i64     ┆ f64       ┆ datetime[μs, UTC]       ┆ str                    ┆ str           │\n",
       "╞═════════╪═══════════╪═════════════════════════╪════════════════════════╪═══════════════╡\n",
       "│ 23      ┆ 4.285714  ┆ 2020-01-01 01:00:00 UTC ┆ foobar                 ┆ foo           │\n",
       "│ 7       ┆ 4.285714  ┆ 2020-01-01 02:00:00 UTC ┆ Realllllly long string ┆ foo           │\n",
       "│ 38      ┆ 21.428571 ┆ 2020-02-28 02:00:00 UTC ┆                        ┆ null          │\n",
       "│ 45      ┆ 31.428571 ┆ 2020-03-15 02:00:00 UTC ┆ null                   ┆ null          │\n",
       "│ 6       ┆ 8.571429  ┆ null                    ┆ normal                 ┆ null          │\n",
       "│ …       ┆ …         ┆ …                       ┆ …                      ┆ …             │\n",
       "│ 16      ┆ 18.571429 ┆ 2020-01-01 01:00:00 UTC ┆ foobar                 ┆ null          │\n",
       "│ 10      ┆ 28.571429 ┆ 2020-01-01 02:00:00 UTC ┆ Realllllly long string ┆ null          │\n",
       "│ 19      ┆ 14.285714 ┆ 2020-02-28 02:00:00 UTC ┆                        ┆ null          │\n",
       "│ 40      ┆ 1.428571  ┆ 2020-03-15 02:00:00 UTC ┆ null                   ┆ foo           │\n",
       "│ 19      ┆ 5.714286  ┆ null                    ┆ normal                 ┆ null          │\n",
       "└─────────┴───────────┴─────────────────────────┴────────────────────────┴───────────────┘"
      ]
     },
     "execution_count": 7,
     "metadata": {},
     "output_type": "execute_result"
    }
   ],
   "source": [
    "\n",
    "typed_df.select(F.all(),\n",
    "                pl.col('float_col').lt(5).replace(True, \"foo\").replace(False, None).alias('errored_float'))"
   ]
  },
  {
   "cell_type": "code",
   "execution_count": 8,
   "id": "0bdd2826-1716-4b88-b54d-74241f42549d",
   "metadata": {
    "tags": []
   },
   "outputs": [
    {
     "name": "stdout",
     "output_type": "stream",
     "text": [
      "subbing nonexistent value_counts\n"
     ]
    },
    {
     "data": {
      "application/vnd.jupyter.widget-view+json": {
       "model_id": "039e2f4ca4fd48ad86a4ab275a12b7d2",
       "version_major": 2,
       "version_minor": 0
      },
      "text/plain": [
       "VCBuckarooWidget(buckaroo_options={'sampled': ['random'], 'auto_clean': ['aggressive', 'conservative'], 'post_…"
      ]
     },
     "execution_count": 8,
     "metadata": {},
     "output_type": "execute_result"
    }
   ],
   "source": [
    "class ValueCountPostProcessing(PolarsAnalysis):\n",
    "    @classmethod\n",
    "    def post_process_df(kls, df):\n",
    "        result_df = df.select(\n",
    "            F.all().value_counts().implode().list.gather(pl.arange(0, 10), null_on_oob=True).explode().struct.rename_fields(['val', 'unused_count']).struct.field('val').prefix('val_'),\n",
    "            F.all().value_counts().implode().list.gather(pl.arange(0, 10), null_on_oob=True).explode().struct.field('count').prefix('count_'))\n",
    "        return [result_df, {}]\n",
    "    post_processing_method = \"value_counts\"\n",
    "    \n",
    "\n",
    "class TransposeProcessing(ColAnalysis):\n",
    "    @classmethod\n",
    "    def post_process_df(kls, df):\n",
    "        return [df.transpose(), {}]\n",
    "    post_processing_method = \"transpose\"\n",
    "class ShowErrorsPostProcessing(PolarsAnalysis):\n",
    "    @classmethod\n",
    "    def post_process_df(kls, df):\n",
    "        df.select\n",
    "        result_df = df.select(\n",
    "            F.all(),\n",
    "                              \n",
    "            pl.col('float_col').lt(5).replace(True, \"foo\").replace(False, None).alias('errored_float'))\n",
    "        extra_column_config = {\n",
    "            'index': {},\n",
    "            'float_col' : {'column_config_override': { \n",
    "                               {'color_map_config': {\n",
    "                                'color_rule': 'color_not_null',\n",
    "                                'conditional_color': 'red',\n",
    "                                'exist_column': 'errored_float'}}}}}\n",
    "\n",
    "        #return [result_df, extra_column_config]\n",
    "        return [result_df, {}]\n",
    "\n",
    "    post_processing_method = \"show_errors\"\n",
    "    \n",
    "    \n",
    "base_a_klasses = PolarsBuckarooWidget.analysis_klasses.copy()\n",
    "base_a_klasses.extend([#ValueCountPostProcessing, \n",
    "                       #TransposeProcessing, \n",
    "                       ShowErrorsPostProcessing])\n",
    "class VCBuckarooWidget(PolarsBuckarooWidget):\n",
    "    analysis_klasses = base_a_klasses\n",
    "vcb = VCBuckarooWidget(typed_df, debug=False,\n",
    "                      column_config_overrides={'float_col': {'color_map_config': {\n",
    "                                'color_rule': 'color_not_null',\n",
    "                                'conditional_color': 'red',\n",
    "                                'exist_column': 'errored_float'}}}\n",
    "                      )\n",
    "vcb"
   ]
  },
  {
   "cell_type": "markdown",
   "id": "8f2a47ec-0067-4e10-ac6d-d45c46ed6171",
   "metadata": {},
   "source": [
    "## Where to use PostProcessing\n",
    "Post processing functions are no argument transformations.  I can't think of a lot of generic whole dataframe operations.\n",
    "\n",
    "`ValueCount` and `Transpose` are geenric.  `ShowErrors` depends on two specific columns.\n",
    "\n",
    "I expect Post processing to be very useful for small custom apps built on top of Buckaroo.  When you know the columns and you want a strict set of transforms, PostProcessing is a great fit"
   ]
  },
  {
   "cell_type": "markdown",
   "id": "e19b6de0-5684-4f0e-b821-dd3ba1198e72",
   "metadata": {},
   "source": [
    "# What about autocleaning and the low code UI\n",
    "\n",
    "Auto cleaning and the low code UI work together for more fine grained editting of data.  The low code UI presents a gui that works on columns and allows functions with arguments.  \n",
    "\n",
    "Auto cleaning works to suggest operations that are then loaded into the low code ui.  Then these operations can be editted or removed.\n",
    "Auto cleaning options can be cycled through to generate different cleanings.\n",
    "\n",
    "## Why did this release remove auto cleaning and the low code UI?\n",
    "\n",
    "Although auto cleaning and the low code UI is my favorite feature of Buckaroo, and the first part I built, it hasn't seemed to have gained traction with users.  Buckaroo for that matter hasn't gained a lot of traction.  For the time being I have decided to put more effort into refining and promoting the parts of Buckaroo that people do understand.  "
   ]
  },
  {
   "cell_type": "markdown",
   "id": "fb7e11e1-67f7-4187-adce-255ed3b7c051",
   "metadata": {},
   "source": [
    "# How to develop your own library\n",
    "\n",
    "Just start writing fun ctions and customizations.  Don't worry about making it reusable at first.  If you have to write a variation, hard code it.  Later you can come back and refactor the functions.\n",
    "You can quickly see the result of a functiom.\n",
    "\n",
    "Buckaroo is built around interactive development.  Not just an interactive table widget, but interactive development.  That's because working with data is an interactive pursuit, jupyter is a rich fully featured environment and buckaroo works with it.  \n",
    "\n",
    "With interactive development you can start quickly without having to setup a development environemnt."
   ]
  },
  {
   "cell_type": "code",
   "execution_count": 9,
   "id": "216936c9-8863-47af-bbcd-68eab766e91d",
   "metadata": {},
   "outputs": [
    {
     "ename": "NameError",
     "evalue": "name 'SimpleStylingAnalysis' is not defined",
     "output_type": "error",
     "traceback": [
      "\u001b[0;31m---------------------------------------------------------------------------\u001b[0m",
      "\u001b[0;31mNameError\u001b[0m                                 Traceback (most recent call last)",
      "Cell \u001b[0;32mIn[9], line 1\u001b[0m\n\u001b[0;32m----> 1\u001b[0m \u001b[38;5;28;01mclass\u001b[39;00m \u001b[38;5;21;01mAdaptingStylingAnalysis\u001b[39;00m(SimpleStylingAnalysis):\n\u001b[1;32m      2\u001b[0m     requires_summary \u001b[38;5;241m=\u001b[39m [\u001b[38;5;124m\"\u001b[39m\u001b[38;5;124mhistogram\u001b[39m\u001b[38;5;124m\"\u001b[39m, \u001b[38;5;124m\"\u001b[39m\u001b[38;5;124mis_numeric\u001b[39m\u001b[38;5;124m\"\u001b[39m, \u001b[38;5;124m\"\u001b[39m\u001b[38;5;124mdtype\u001b[39m\u001b[38;5;124m\"\u001b[39m, \u001b[38;5;124m\"\u001b[39m\u001b[38;5;124mis_integer\u001b[39m\u001b[38;5;124m\"\u001b[39m]\n\u001b[1;32m      3\u001b[0m     pinned_rows \u001b[38;5;241m=\u001b[39m [\n\u001b[1;32m      4\u001b[0m         obj_(\u001b[38;5;124m'\u001b[39m\u001b[38;5;124mdtype\u001b[39m\u001b[38;5;124m'\u001b[39m),\n\u001b[1;32m      5\u001b[0m         {\u001b[38;5;124m'\u001b[39m\u001b[38;5;124mprimary_key_val\u001b[39m\u001b[38;5;124m'\u001b[39m: \u001b[38;5;124m'\u001b[39m\u001b[38;5;124mhistogram\u001b[39m\u001b[38;5;124m'\u001b[39m, \u001b[38;5;124m'\u001b[39m\u001b[38;5;124mdisplayer_args\u001b[39m\u001b[38;5;124m'\u001b[39m: { \u001b[38;5;124m'\u001b[39m\u001b[38;5;124mdisplayer\u001b[39m\u001b[38;5;124m'\u001b[39m: \u001b[38;5;124m'\u001b[39m\u001b[38;5;124mhistogram\u001b[39m\u001b[38;5;124m'\u001b[39m }}]\n",
      "\u001b[0;31mNameError\u001b[0m: name 'SimpleStylingAnalysis' is not defined"
     ]
    }
   ],
   "source": [
    "class AdaptingStylingAnalysis(SimpleStylingAnalysis):\n",
    "    requires_summary = [\"histogram\", \"is_numeric\", \"dtype\", \"is_integer\"]\n",
    "    pinned_rows = [\n",
    "        obj_('dtype'),\n",
    "        {'primary_key_val': 'histogram', 'displayer_args': { 'displayer': 'histogram' }}]\n",
    "\n",
    "    @staticmethod\n",
    "    def single_sd_to_column_config(col, sd):\n",
    "        digits = 3\n",
    "        if sd['is_integer']:\n",
    "            disp = {'displayer': 'float', 'minimumFractionDigits':0, 'maximumFractionDigits':0}\n",
    "        elif sd['is_numeric']:\n",
    "            disp = {'displayer': 'float', 'minimumFractionDigits':digits, 'maximumFractionDigits':digits}\n",
    "        else:\n",
    "            disp = {'displayer': 'obj'}\n",
    "        return {'col_name':col, 'displayer_args': disp }\n",
    "\n",
    "base_a_klasses = PolarsBuckarooWidget.analysis_klasses.copy()\n",
    "base_a_klasses.extend([AdaptingStylingAnalysis, ValueCountPostProcessing])\n",
    "class ABuckarooWidget(PolarsBuckarooWidget):\n",
    "    analysis_klasses = base_a_klasses\n",
    "acb = ABuckarooWidget(typed_df)\n",
    "acb"
   ]
  },
  {
   "cell_type": "code",
   "execution_count": null,
   "id": "db2eb990-b6b0-47aa-b7ca-2fe40b9dcebe",
   "metadata": {},
   "outputs": [],
   "source": []
  }
 ],
 "metadata": {
  "kernelspec": {
   "display_name": "Python 3 (ipykernel)",
   "language": "python",
   "name": "python3"
  },
  "language_info": {
   "codemirror_mode": {
    "name": "ipython",
    "version": 3
   },
   "file_extension": ".py",
   "mimetype": "text/x-python",
   "name": "python",
   "nbconvert_exporter": "python",
   "pygments_lexer": "ipython3",
   "version": "3.11.7"
  },
  "widgets": {
   "application/vnd.jupyter.widget-state+json": {
    "state": {
     "039e2f4ca4fd48ad86a4ab275a12b7d2": {
      "model_module": "buckaroo",
      "model_module_version": "^0.5.1",
      "model_name": "DCEFWidgetModel",
      "state": {
       "_model_module_version": "^0.5.1",
       "_view_module_version": "^0.5.1",
       "_view_name": "DCEFWidgetView",
       "buckaroo_options": {
        "auto_clean": [
         "aggressive",
         "conservative"
        ],
        "df_display": [
         "summary",
         "main"
        ],
        "post_processing": [
         "",
         "show_errors"
        ],
        "sampled": [
         "random"
        ],
        "show_commands": [
         "on"
        ],
        "summary_stats": [
         "all"
        ]
       },
       "buckaroo_state": {
        "auto_clean": "conservative",
        "df_display": "main",
        "post_processing": "",
        "sampled": false,
        "search_string": "",
        "show_commands": false
       },
       "commandConfig": {
        "argspecs": {
         "dropcol": [
          null
         ],
         "fillna": [
          [
           3,
           "fillVal",
           "type",
           "integer"
          ]
         ],
         "groupby": [
          [
           3,
           "colMap",
           "colEnum",
           [
            "null",
            "sum",
            "mean",
            "median",
            "count"
           ]
          ]
         ],
         "onehot": [
          null
         ],
         "reindex": [
          null
         ],
         "safeint": [
          null
         ],
         "to_bool": [
          null
         ],
         "to_datetime": [
          null
         ],
         "to_float": [
          null
         ],
         "to_int": [
          null
         ],
         "to_string": [
          null
         ]
        },
        "defaultArgs": {
         "dropcol": [
          {
           "symbol": "dropcol"
          },
          {
           "symbol": "df"
          },
          "col"
         ],
         "fillna": [
          {
           "symbol": "fillna"
          },
          {
           "symbol": "df"
          },
          "col",
          8
         ],
         "groupby": [
          {
           "symbol": "groupby"
          },
          {
           "symbol": "df"
          },
          "col",
          {}
         ],
         "onehot": [
          {
           "symbol": "onehot"
          },
          {
           "symbol": "df"
          },
          "col"
         ],
         "reindex": [
          {
           "symbol": "reindex"
          },
          {
           "symbol": "df"
          },
          "col"
         ],
         "safeint": [
          {
           "symbol": "safeint"
          },
          {
           "symbol": "df"
          },
          "col"
         ],
         "to_bool": [
          {
           "symbol": "to_bool"
          },
          {
           "symbol": "df"
          },
          "col"
         ],
         "to_datetime": [
          {
           "symbol": "to_datetime"
          },
          {
           "symbol": "df"
          },
          "col"
         ],
         "to_float": [
          {
           "symbol": "to_float"
          },
          {
           "symbol": "df"
          },
          "col"
         ],
         "to_int": [
          {
           "symbol": "to_int"
          },
          {
           "symbol": "df"
          },
          "col"
         ],
         "to_string": [
          {
           "symbol": "to_string"
          },
          {
           "symbol": "df"
          },
          "col"
         ]
        }
       },
       "df_data_dict": {
        "all_stats": [
         {
          "float_col": "shape: (29,)\nSeries: '' [struct[2]]\n[\n\t{40.0,11}\n\t{37.142857,11}\n\t{38.571429,10}\n\t{31.428571,9}\n\t{12.857143,9}\n\t{10.0,9}\n\t{14.285714,9}\n\t{4.285714,8}\n\t{21.428571,8}\n\t{27.142857,8}\n\t{32.857143,8}\n\t{24.285714,8}\n\t…\n\t{1.428571,6}\n\t{7.142857,6}\n\t{41.428571,6}\n\t{20.0,6}\n\t{5.714286,6}\n\t{28.571429,6}\n\t{17.142857,5}\n\t{2.857143,5}\n\t{35.714286,5}\n\t{30.0,4}\n\t{15.714286,4}\n\t{25.714286,4}\n\t{34.285714,3}\n]",
          "index": "value_counts",
          "int_col": "shape: (47,)\nSeries: '' [struct[2]]\n[\n\t{7,8}\n\t{11,8}\n\t{39,7}\n\t{16,7}\n\t{45,6}\n\t{10,6}\n\t{2,6}\n\t{48,6}\n\t{46,6}\n\t{9,6}\n\t{23,5}\n\t{34,5}\n\t…\n\t{21,3}\n\t{4,3}\n\t{18,3}\n\t{5,3}\n\t{26,3}\n\t{15,3}\n\t{29,3}\n\t{43,3}\n\t{33,2}\n\t{47,2}\n\t{25,2}\n\t{1,2}\n\t{44,1}\n]",
          "str_col": "shape: (5,)\nSeries: '' [struct[2]]\n[\n\t{\"foobar\",40}\n\t{\"Realllllly long string\",40}\n\t{\"\",40}\n\t{null,40}\n\t{\"normal\",40}\n]",
          "timestamp": "shape: (3,)\nSeries: '' [struct[2]]\n[\n\t{3,1}\n\t{4,1}\n\t{5,1}\n]"
         },
         {
          "float_col": 200,
          "index": "length",
          "int_col": 200,
          "str_col": 200,
          "timestamp": 200
         },
         {
          "float_col": 0,
          "index": "nan_count",
          "int_col": 0,
          "str_col": 40,
          "timestamp": 40
         },
         {
          "float_col": 1.4285714286,
          "index": "min",
          "int_col": 1,
          "str_col": "",
          "timestamp": null
         },
         {
          "float_col": 41.4285714286,
          "index": "max",
          "int_col": 49,
          "str_col": "normal",
          "timestamp": null
         },
         {
          "float_col": 22.0642857143,
          "index": "mean",
          "int_col": 24.335,
          "str_col": null,
          "timestamp": "2020-02-03T01:45:00.000Z"
         },
         {
          "float_col": 0,
          "index": "unique_count",
          "int_col": 1,
          "str_col": 0,
          "timestamp": 0
         },
         {
          "float_col": "Float64",
          "index": "dtype",
          "int_col": "Int64",
          "str_col": "String",
          "timestamp": "Datetime(time_unit='us', time_zone='UTC')"
         },
         {
          "float_col": {
           "high_tail": 41.4285714286,
           "low_tail": 1.4285714286,
           "meat_histogram": [
            [
             13,
             19,
             25,
             13,
             17,
             22,
             18,
             21,
             8,
             32
            ],
            [
             1.4285714286,
             5,
             9,
             13,
             17,
             21,
             25,
             29,
             33,
             37,
             41.4285714286
            ]
           ],
           "normalized_populations": [
            0.0691489362,
            0.1010638298,
            0.1329787234,
            0.0691489362,
            0.0904255319,
            0.1170212766,
            0.0957446809,
            0.1117021277,
            0.0425531915,
            0.170212766
           ]
          },
          "index": "histogram_args",
          "int_col": {
           "high_tail": 49,
           "low_tail": 2,
           "meat_histogram": [
            [
             14,
             31,
             19,
             18,
             17,
             18,
             16,
             19,
             17,
             20
            ],
            [
             2,
             6.7,
             11.4,
             16.1,
             20.8,
             25.5,
             30.2,
             34.9,
             39.6,
             44.3,
             49
            ]
           ],
           "normalized_populations": [
            0.0740740741,
            0.164021164,
            0.1005291005,
            0.0952380952,
            0.0899470899,
            0.0952380952,
            0.0846560847,
            0.1005291005,
            0.0899470899,
            0.1058201058
           ]
          },
          "str_col": null,
          "timestamp": null
         },
         {
          "float_col": true,
          "index": "is_numeric",
          "int_col": true,
          "str_col": false,
          "timestamp": false
         },
         {
          "float_col": false,
          "index": "is_integer",
          "int_col": true,
          "str_col": false,
          "timestamp": false
         },
         {
          "float_col": "float",
          "index": "_type",
          "int_col": "integer",
          "str_col": "string",
          "timestamp": "datetime"
         },
         {
          "float_col": 40,
          "index": "mode",
          "int_col": 7,
          "str_col": "foobar",
          "timestamp": null
         },
         {
          "float_col": 29,
          "index": "distinct_count",
          "int_col": 47,
          "str_col": 5,
          "timestamp": 0
         },
         {
          "float_col": "float",
          "index": "type",
          "int_col": "integer",
          "str_col": "string",
          "timestamp": "datetime"
         },
         {
          "float_col": 1,
          "index": "min_digits",
          "int_col": 1,
          "str_col": null,
          "timestamp": null
         },
         {
          "float_col": 2,
          "index": "max_digits",
          "int_col": 2,
          "str_col": null,
          "timestamp": null
         },
         {
          "float_col": 0.145,
          "index": "distinct_per",
          "int_col": 0.235,
          "str_col": 0.025,
          "timestamp": 0
         },
         {
          "float_col": 0,
          "index": "empty_per",
          "int_col": 0,
          "str_col": 0.2,
          "timestamp": 0
         },
         {
          "float_col": 0,
          "index": "unique_per",
          "int_col": 0.005,
          "str_col": 0,
          "timestamp": 0
         },
         {
          "float_col": 0,
          "index": "nan_per",
          "int_col": 0,
          "str_col": 0.2,
          "timestamp": 0.2
         },
         {
          "float_col": [
           {
            "name": "1.4285714285714286 - 1.4285714285714286",
            "tail": 1
           },
           {
            "name": "1-5",
            "population": 7
           },
           {
            "name": "5-9",
            "population": 10
           },
           {
            "name": "9-13",
            "population": 13
           },
           {
            "name": "13-17",
            "population": 7
           },
           {
            "name": "17-21",
            "population": 9
           },
           {
            "name": "21-25",
            "population": 12
           },
           {
            "name": "25-29",
            "population": 10
           },
           {
            "name": "29-33",
            "population": 11
           },
           {
            "name": "33-37",
            "population": 4
           },
           {
            "name": "37-41",
            "population": 17
           },
           {
            "name": "41.42857142857143 - 41.42857142857143",
            "tail": 1
           }
          ],
          "index": "histogram",
          "int_col": [
           {
            "name": "1 - 2.0",
            "tail": 1
           },
           {
            "name": "2-7",
            "population": 7
           },
           {
            "name": "7-11",
            "population": 16
           },
           {
            "name": "11-16",
            "population": 10
           },
           {
            "name": "16-21",
            "population": 10
           },
           {
            "name": "21-26",
            "population": 9
           },
           {
            "name": "26-30",
            "population": 10
           },
           {
            "name": "30-35",
            "population": 8
           },
           {
            "name": "35-40",
            "population": 10
           },
           {
            "name": "40-44",
            "population": 9
           },
           {
            "name": "44-49",
            "population": 11
           },
           {
            "name": "49.0 - 49",
            "tail": 1
           }
          ],
          "str_col": [
           {
            "cat_pop": 20,
            "name": "foobar"
           },
           {
            "cat_pop": 20,
            "name": "Realllllly long string"
           },
           {
            "cat_pop": 20,
            "name": ""
           },
           {
            "cat_pop": 20,
            "name": null
           },
           {
            "cat_pop": 20,
            "name": "normal"
           },
           {
            "NA": 20,
            "name": "NA"
           }
          ],
          "timestamp": [
           {
            "cat_pop": 33,
            "name": 3
           },
           {
            "cat_pop": 33,
            "name": 4
           },
           {
            "cat_pop": 33,
            "name": 5
           },
           {
            "name": "unique",
            "unique": 100
           },
           {
            "NA": 20,
            "name": "NA"
           }
          ]
         },
         {
          "float_col": [
           1.4285714286,
           5,
           9,
           13,
           17,
           21,
           25,
           29,
           33,
           37,
           41.4285714286
          ],
          "index": "histogram_bins",
          "int_col": [
           2,
           6.7,
           11.4,
           16.1,
           20.8,
           25.5,
           30.2,
           34.9,
           39.6,
           44.3,
           49
          ],
          "str_col": [
           "faked"
          ],
          "timestamp": [
           "faked"
          ]
         },
         {
          "float_col": null,
          "index": "formatter",
          "int_col": null,
          "str_col": null,
          "timestamp": "default"
         },
         {
          "float_col": null,
          "index": "categorical_histogram",
          "int_col": null,
          "str_col": {
           "": 0.2,
           "None": 0.2,
           "Realllllly long string": 0.2,
           "foobar": 0.2,
           "longtail": 0,
           "normal": 0.2,
           "unique": 0
          },
          "timestamp": {
           "3": 0.3333333333,
           "4": 0.3333333333,
           "5": 0.3333333333,
           "longtail": -1,
           "unique": 1
          }
         },
         {
          "float_col": null,
          "index": "empty_count",
          "int_col": null,
          "str_col": 40,
          "timestamp": null
         }
        ],
        "empty": [],
        "main": [
         {
          "float_col": 4.2857142857,
          "index": 0,
          "int_col": 23,
          "str_col": "foobar",
          "timestamp": "2020-01-01T01:00:00.000Z"
         },
         {
          "float_col": 4.2857142857,
          "index": 1,
          "int_col": 7,
          "str_col": "Realllllly long string",
          "timestamp": "2020-01-01T02:00:00.000Z"
         },
         {
          "float_col": 21.4285714286,
          "index": 2,
          "int_col": 38,
          "str_col": "",
          "timestamp": "2020-02-28T02:00:00.000Z"
         },
         {
          "float_col": 31.4285714286,
          "index": 3,
          "int_col": 45,
          "str_col": null,
          "timestamp": "2020-03-15T02:00:00.000Z"
         },
         {
          "float_col": 8.5714285714,
          "index": 4,
          "int_col": 6,
          "str_col": "normal",
          "timestamp": null
         },
         {
          "float_col": 18.5714285714,
          "index": 5,
          "int_col": 31,
          "str_col": "foobar",
          "timestamp": "2020-01-01T01:00:00.000Z"
         },
         {
          "float_col": 17.1428571429,
          "index": 6,
          "int_col": 45,
          "str_col": "Realllllly long string",
          "timestamp": "2020-01-01T02:00:00.000Z"
         },
         {
          "float_col": 22.8571428571,
          "index": 7,
          "int_col": 22,
          "str_col": "",
          "timestamp": "2020-02-28T02:00:00.000Z"
         },
         {
          "float_col": 27.1428571429,
          "index": 8,
          "int_col": 34,
          "str_col": null,
          "timestamp": "2020-03-15T02:00:00.000Z"
         },
         {
          "float_col": 21.4285714286,
          "index": 9,
          "int_col": 33,
          "str_col": "normal",
          "timestamp": null
         },
         {
          "float_col": 32.8571428571,
          "index": 10,
          "int_col": 36,
          "str_col": "foobar",
          "timestamp": "2020-01-01T01:00:00.000Z"
         },
         {
          "float_col": 1.4285714286,
          "index": 11,
          "int_col": 39,
          "str_col": "Realllllly long string",
          "timestamp": "2020-01-01T02:00:00.000Z"
         },
         {
          "float_col": 7.1428571429,
          "index": 12,
          "int_col": 6,
          "str_col": "",
          "timestamp": "2020-02-28T02:00:00.000Z"
         },
         {
          "float_col": 24.2857142857,
          "index": 13,
          "int_col": 49,
          "str_col": null,
          "timestamp": "2020-03-15T02:00:00.000Z"
         },
         {
          "float_col": 38.5714285714,
          "index": 14,
          "int_col": 19,
          "str_col": "normal",
          "timestamp": null
         },
         {
          "float_col": 40,
          "index": 15,
          "int_col": 20,
          "str_col": "foobar",
          "timestamp": "2020-01-01T01:00:00.000Z"
         },
         {
          "float_col": 30,
          "index": 16,
          "int_col": 8,
          "str_col": "Realllllly long string",
          "timestamp": "2020-01-01T02:00:00.000Z"
         },
         {
          "float_col": 22.8571428571,
          "index": 17,
          "int_col": 11,
          "str_col": "",
          "timestamp": "2020-02-28T02:00:00.000Z"
         },
         {
          "float_col": 38.5714285714,
          "index": 18,
          "int_col": 41,
          "str_col": null,
          "timestamp": "2020-03-15T02:00:00.000Z"
         },
         {
          "float_col": 15.7142857143,
          "index": 19,
          "int_col": 24,
          "str_col": "normal",
          "timestamp": null
         },
         {
          "float_col": 41.4285714286,
          "index": 20,
          "int_col": 10,
          "str_col": "foobar",
          "timestamp": "2020-01-01T01:00:00.000Z"
         },
         {
          "float_col": 24.2857142857,
          "index": 21,
          "int_col": 17,
          "str_col": "Realllllly long string",
          "timestamp": "2020-01-01T02:00:00.000Z"
         },
         {
          "float_col": 2.8571428571,
          "index": 22,
          "int_col": 7,
          "str_col": "",
          "timestamp": "2020-02-28T02:00:00.000Z"
         },
         {
          "float_col": 12.8571428571,
          "index": 23,
          "int_col": 16,
          "str_col": null,
          "timestamp": "2020-03-15T02:00:00.000Z"
         },
         {
          "float_col": 7.1428571429,
          "index": 24,
          "int_col": 37,
          "str_col": "normal",
          "timestamp": null
         },
         {
          "float_col": 17.1428571429,
          "index": 25,
          "int_col": 33,
          "str_col": "foobar",
          "timestamp": "2020-01-01T01:00:00.000Z"
         },
         {
          "float_col": 40,
          "index": 26,
          "int_col": 22,
          "str_col": "Realllllly long string",
          "timestamp": "2020-01-01T02:00:00.000Z"
         },
         {
          "float_col": 22.8571428571,
          "index": 27,
          "int_col": 42,
          "str_col": "",
          "timestamp": "2020-02-28T02:00:00.000Z"
         },
         {
          "float_col": 21.4285714286,
          "index": 28,
          "int_col": 16,
          "str_col": null,
          "timestamp": "2020-03-15T02:00:00.000Z"
         },
         {
          "float_col": 37.1428571429,
          "index": 29,
          "int_col": 2,
          "str_col": "normal",
          "timestamp": null
         },
         {
          "float_col": 20,
          "index": 30,
          "int_col": 7,
          "str_col": "foobar",
          "timestamp": "2020-01-01T01:00:00.000Z"
         },
         {
          "float_col": 21.4285714286,
          "index": 31,
          "int_col": 23,
          "str_col": "Realllllly long string",
          "timestamp": "2020-01-01T02:00:00.000Z"
         },
         {
          "float_col": 40,
          "index": 32,
          "int_col": 34,
          "str_col": "",
          "timestamp": "2020-02-28T02:00:00.000Z"
         },
         {
          "float_col": 18.5714285714,
          "index": 33,
          "int_col": 39,
          "str_col": null,
          "timestamp": "2020-03-15T02:00:00.000Z"
         },
         {
          "float_col": 7.1428571429,
          "index": 34,
          "int_col": 34,
          "str_col": "normal",
          "timestamp": null
         },
         {
          "float_col": 21.4285714286,
          "index": 35,
          "int_col": 47,
          "str_col": "foobar",
          "timestamp": "2020-01-01T01:00:00.000Z"
         },
         {
          "float_col": 17.1428571429,
          "index": 36,
          "int_col": 42,
          "str_col": "Realllllly long string",
          "timestamp": "2020-01-01T02:00:00.000Z"
         },
         {
          "float_col": 31.4285714286,
          "index": 37,
          "int_col": 36,
          "str_col": "",
          "timestamp": "2020-02-28T02:00:00.000Z"
         },
         {
          "float_col": 30,
          "index": 38,
          "int_col": 41,
          "str_col": null,
          "timestamp": "2020-03-15T02:00:00.000Z"
         },
         {
          "float_col": 7.1428571429,
          "index": 39,
          "int_col": 6,
          "str_col": "normal",
          "timestamp": null
         },
         {
          "float_col": 21.4285714286,
          "index": 40,
          "int_col": 19,
          "str_col": "foobar",
          "timestamp": "2020-01-01T01:00:00.000Z"
         },
         {
          "float_col": 11.4285714286,
          "index": 41,
          "int_col": 41,
          "str_col": "Realllllly long string",
          "timestamp": "2020-01-01T02:00:00.000Z"
         },
         {
          "float_col": 11.4285714286,
          "index": 42,
          "int_col": 48,
          "str_col": "",
          "timestamp": "2020-02-28T02:00:00.000Z"
         },
         {
          "float_col": 2.8571428571,
          "index": 43,
          "int_col": 48,
          "str_col": null,
          "timestamp": "2020-03-15T02:00:00.000Z"
         },
         {
          "float_col": 31.4285714286,
          "index": 44,
          "int_col": 7,
          "str_col": "normal",
          "timestamp": null
         },
         {
          "float_col": 8.5714285714,
          "index": 45,
          "int_col": 10,
          "str_col": "foobar",
          "timestamp": "2020-01-01T01:00:00.000Z"
         },
         {
          "float_col": 12.8571428571,
          "index": 46,
          "int_col": 45,
          "str_col": "Realllllly long string",
          "timestamp": "2020-01-01T02:00:00.000Z"
         },
         {
          "float_col": 27.1428571429,
          "index": 47,
          "int_col": 46,
          "str_col": "",
          "timestamp": "2020-02-28T02:00:00.000Z"
         },
         {
          "float_col": 20,
          "index": 48,
          "int_col": 7,
          "str_col": null,
          "timestamp": "2020-03-15T02:00:00.000Z"
         },
         {
          "float_col": 5.7142857143,
          "index": 49,
          "int_col": 11,
          "str_col": "normal",
          "timestamp": null
         },
         {
          "float_col": 12.8571428571,
          "index": 50,
          "int_col": 13,
          "str_col": "foobar",
          "timestamp": "2020-01-01T01:00:00.000Z"
         },
         {
          "float_col": 40,
          "index": 51,
          "int_col": 27,
          "str_col": "Realllllly long string",
          "timestamp": "2020-01-01T02:00:00.000Z"
         },
         {
          "float_col": 38.5714285714,
          "index": 52,
          "int_col": 28,
          "str_col": "",
          "timestamp": "2020-02-28T02:00:00.000Z"
         },
         {
          "float_col": 5.7142857143,
          "index": 53,
          "int_col": 16,
          "str_col": null,
          "timestamp": "2020-03-15T02:00:00.000Z"
         },
         {
          "float_col": 20,
          "index": 54,
          "int_col": 12,
          "str_col": "normal",
          "timestamp": null
         },
         {
          "float_col": 10,
          "index": 55,
          "int_col": 21,
          "str_col": "foobar",
          "timestamp": "2020-01-01T01:00:00.000Z"
         },
         {
          "float_col": 40,
          "index": 56,
          "int_col": 4,
          "str_col": "Realllllly long string",
          "timestamp": "2020-01-01T02:00:00.000Z"
         },
         {
          "float_col": 24.2857142857,
          "index": 57,
          "int_col": 18,
          "str_col": "",
          "timestamp": "2020-02-28T02:00:00.000Z"
         },
         {
          "float_col": 40,
          "index": 58,
          "int_col": 37,
          "str_col": null,
          "timestamp": "2020-03-15T02:00:00.000Z"
         },
         {
          "float_col": 37.1428571429,
          "index": 59,
          "int_col": 10,
          "str_col": "normal",
          "timestamp": null
         },
         {
          "float_col": 28.5714285714,
          "index": 60,
          "int_col": 5,
          "str_col": "foobar",
          "timestamp": "2020-01-01T01:00:00.000Z"
         },
         {
          "float_col": 4.2857142857,
          "index": 61,
          "int_col": 49,
          "str_col": "Realllllly long string",
          "timestamp": "2020-01-01T02:00:00.000Z"
         },
         {
          "float_col": 28.5714285714,
          "index": 62,
          "int_col": 25,
          "str_col": "",
          "timestamp": "2020-02-28T02:00:00.000Z"
         },
         {
          "float_col": 8.5714285714,
          "index": 63,
          "int_col": 30,
          "str_col": null,
          "timestamp": "2020-03-15T02:00:00.000Z"
         },
         {
          "float_col": 32.8571428571,
          "index": 64,
          "int_col": 26,
          "str_col": "normal",
          "timestamp": null
         },
         {
          "float_col": 14.2857142857,
          "index": 65,
          "int_col": 7,
          "str_col": "foobar",
          "timestamp": "2020-01-01T01:00:00.000Z"
         },
         {
          "float_col": 10,
          "index": 66,
          "int_col": 22,
          "str_col": "Realllllly long string",
          "timestamp": "2020-01-01T02:00:00.000Z"
         },
         {
          "float_col": 34.2857142857,
          "index": 67,
          "int_col": 3,
          "str_col": "",
          "timestamp": "2020-02-28T02:00:00.000Z"
         },
         {
          "float_col": 14.2857142857,
          "index": 68,
          "int_col": 17,
          "str_col": null,
          "timestamp": "2020-03-15T02:00:00.000Z"
         },
         {
          "float_col": 8.5714285714,
          "index": 69,
          "int_col": 2,
          "str_col": "normal",
          "timestamp": null
         },
         {
          "float_col": 15.7142857143,
          "index": 70,
          "int_col": 11,
          "str_col": "foobar",
          "timestamp": "2020-01-01T01:00:00.000Z"
         },
         {
          "float_col": 25.7142857143,
          "index": 71,
          "int_col": 31,
          "str_col": "Realllllly long string",
          "timestamp": "2020-01-01T02:00:00.000Z"
         },
         {
          "float_col": 21.4285714286,
          "index": 72,
          "int_col": 23,
          "str_col": "",
          "timestamp": "2020-02-28T02:00:00.000Z"
         },
         {
          "float_col": 28.5714285714,
          "index": 73,
          "int_col": 46,
          "str_col": null,
          "timestamp": "2020-03-15T02:00:00.000Z"
         },
         {
          "float_col": 12.8571428571,
          "index": 74,
          "int_col": 2,
          "str_col": "normal",
          "timestamp": null
         },
         {
          "float_col": 27.1428571429,
          "index": 75,
          "int_col": 30,
          "str_col": "foobar",
          "timestamp": "2020-01-01T01:00:00.000Z"
         },
         {
          "float_col": 18.5714285714,
          "index": 76,
          "int_col": 24,
          "str_col": "Realllllly long string",
          "timestamp": "2020-01-01T02:00:00.000Z"
         },
         {
          "float_col": 20,
          "index": 77,
          "int_col": 12,
          "str_col": "",
          "timestamp": "2020-02-28T02:00:00.000Z"
         },
         {
          "float_col": 30,
          "index": 78,
          "int_col": 7,
          "str_col": null,
          "timestamp": "2020-03-15T02:00:00.000Z"
         },
         {
          "float_col": 14.2857142857,
          "index": 79,
          "int_col": 8,
          "str_col": "normal",
          "timestamp": null
         },
         {
          "float_col": 22.8571428571,
          "index": 80,
          "int_col": 11,
          "str_col": "foobar",
          "timestamp": "2020-01-01T01:00:00.000Z"
         },
         {
          "float_col": 28.5714285714,
          "index": 81,
          "int_col": 38,
          "str_col": "Realllllly long string",
          "timestamp": "2020-01-01T02:00:00.000Z"
         },
         {
          "float_col": 2.8571428571,
          "index": 82,
          "int_col": 15,
          "str_col": "",
          "timestamp": "2020-02-28T02:00:00.000Z"
         },
         {
          "float_col": 41.4285714286,
          "index": 83,
          "int_col": 21,
          "str_col": null,
          "timestamp": "2020-03-15T02:00:00.000Z"
         },
         {
          "float_col": 35.7142857143,
          "index": 84,
          "int_col": 40,
          "str_col": "normal",
          "timestamp": null
         },
         {
          "float_col": 5.7142857143,
          "index": 85,
          "int_col": 1,
          "str_col": "foobar",
          "timestamp": "2020-01-01T01:00:00.000Z"
         },
         {
          "float_col": 5.7142857143,
          "index": 86,
          "int_col": 12,
          "str_col": "Realllllly long string",
          "timestamp": "2020-01-01T02:00:00.000Z"
         },
         {
          "float_col": 20,
          "index": 87,
          "int_col": 39,
          "str_col": "",
          "timestamp": "2020-02-28T02:00:00.000Z"
         },
         {
          "float_col": 12.8571428571,
          "index": 88,
          "int_col": 25,
          "str_col": null,
          "timestamp": "2020-03-15T02:00:00.000Z"
         },
         {
          "float_col": 14.2857142857,
          "index": 89,
          "int_col": 5,
          "str_col": "normal",
          "timestamp": null
         },
         {
          "float_col": 34.2857142857,
          "index": 90,
          "int_col": 18,
          "str_col": "foobar",
          "timestamp": "2020-01-01T01:00:00.000Z"
         },
         {
          "float_col": 17.1428571429,
          "index": 91,
          "int_col": 45,
          "str_col": "Realllllly long string",
          "timestamp": "2020-01-01T02:00:00.000Z"
         },
         {
          "float_col": 31.4285714286,
          "index": 92,
          "int_col": 41,
          "str_col": "",
          "timestamp": "2020-02-28T02:00:00.000Z"
         },
         {
          "float_col": 25.7142857143,
          "index": 93,
          "int_col": 28,
          "str_col": null,
          "timestamp": "2020-03-15T02:00:00.000Z"
         },
         {
          "float_col": 38.5714285714,
          "index": 94,
          "int_col": 16,
          "str_col": "normal",
          "timestamp": null
         },
         {
          "float_col": 12.8571428571,
          "index": 95,
          "int_col": 38,
          "str_col": "foobar",
          "timestamp": "2020-01-01T01:00:00.000Z"
         },
         {
          "float_col": 27.1428571429,
          "index": 96,
          "int_col": 49,
          "str_col": "Realllllly long string",
          "timestamp": "2020-01-01T02:00:00.000Z"
         },
         {
          "float_col": 32.8571428571,
          "index": 97,
          "int_col": 20,
          "str_col": "",
          "timestamp": "2020-02-28T02:00:00.000Z"
         },
         {
          "float_col": 14.2857142857,
          "index": 98,
          "int_col": 46,
          "str_col": null,
          "timestamp": "2020-03-15T02:00:00.000Z"
         },
         {
          "float_col": 20,
          "index": 99,
          "int_col": 20,
          "str_col": "normal",
          "timestamp": null
         },
         {
          "float_col": 38.5714285714,
          "index": 100,
          "int_col": 48,
          "str_col": "foobar",
          "timestamp": "2020-01-01T01:00:00.000Z"
         },
         {
          "float_col": 10,
          "index": 101,
          "int_col": 11,
          "str_col": "Realllllly long string",
          "timestamp": "2020-01-01T02:00:00.000Z"
         },
         {
          "float_col": 35.7142857143,
          "index": 102,
          "int_col": 16,
          "str_col": "",
          "timestamp": "2020-02-28T02:00:00.000Z"
         },
         {
          "float_col": 38.5714285714,
          "index": 103,
          "int_col": 31,
          "str_col": null,
          "timestamp": "2020-03-15T02:00:00.000Z"
         },
         {
          "float_col": 1.4285714286,
          "index": 104,
          "int_col": 21,
          "str_col": "normal",
          "timestamp": null
         },
         {
          "float_col": 38.5714285714,
          "index": 105,
          "int_col": 40,
          "str_col": "foobar",
          "timestamp": "2020-01-01T01:00:00.000Z"
         },
         {
          "float_col": 35.7142857143,
          "index": 106,
          "int_col": 48,
          "str_col": "Realllllly long string",
          "timestamp": "2020-01-01T02:00:00.000Z"
         },
         {
          "float_col": 4.2857142857,
          "index": 107,
          "int_col": 27,
          "str_col": "",
          "timestamp": "2020-02-28T02:00:00.000Z"
         },
         {
          "float_col": 14.2857142857,
          "index": 108,
          "int_col": 23,
          "str_col": null,
          "timestamp": "2020-03-15T02:00:00.000Z"
         },
         {
          "float_col": 32.8571428571,
          "index": 109,
          "int_col": 10,
          "str_col": "normal",
          "timestamp": null
         },
         {
          "float_col": 24.2857142857,
          "index": 110,
          "int_col": 17,
          "str_col": "foobar",
          "timestamp": "2020-01-01T01:00:00.000Z"
         },
         {
          "float_col": 8.5714285714,
          "index": 111,
          "int_col": 3,
          "str_col": "Realllllly long string",
          "timestamp": "2020-01-01T02:00:00.000Z"
         },
         {
          "float_col": 27.1428571429,
          "index": 112,
          "int_col": 10,
          "str_col": "",
          "timestamp": "2020-02-28T02:00:00.000Z"
         },
         {
          "float_col": 31.4285714286,
          "index": 113,
          "int_col": 17,
          "str_col": null,
          "timestamp": "2020-03-15T02:00:00.000Z"
         },
         {
          "float_col": 2.8571428571,
          "index": 114,
          "int_col": 27,
          "str_col": "normal",
          "timestamp": null
         },
         {
          "float_col": 40,
          "index": 115,
          "int_col": 3,
          "str_col": "foobar",
          "timestamp": "2020-01-01T01:00:00.000Z"
         },
         {
          "float_col": 37.1428571429,
          "index": 116,
          "int_col": 42,
          "str_col": "Realllllly long string",
          "timestamp": "2020-01-01T02:00:00.000Z"
         },
         {
          "float_col": 12.8571428571,
          "index": 117,
          "int_col": 27,
          "str_col": "",
          "timestamp": "2020-02-28T02:00:00.000Z"
         },
         {
          "float_col": 24.2857142857,
          "index": 118,
          "int_col": 32,
          "str_col": null,
          "timestamp": "2020-03-15T02:00:00.000Z"
         },
         {
          "float_col": 35.7142857143,
          "index": 119,
          "int_col": 39,
          "str_col": "normal",
          "timestamp": null
         },
         {
          "float_col": 37.1428571429,
          "index": 120,
          "int_col": 11,
          "str_col": "foobar",
          "timestamp": "2020-01-01T01:00:00.000Z"
         },
         {
          "float_col": 27.1428571429,
          "index": 121,
          "int_col": 9,
          "str_col": "Realllllly long string",
          "timestamp": "2020-01-01T02:00:00.000Z"
         },
         {
          "float_col": 37.1428571429,
          "index": 122,
          "int_col": 17,
          "str_col": "",
          "timestamp": "2020-02-28T02:00:00.000Z"
         },
         {
          "float_col": 22.8571428571,
          "index": 123,
          "int_col": 23,
          "str_col": null,
          "timestamp": "2020-03-15T02:00:00.000Z"
         },
         {
          "float_col": 40,
          "index": 124,
          "int_col": 13,
          "str_col": "normal",
          "timestamp": null
         },
         {
          "float_col": 14.2857142857,
          "index": 125,
          "int_col": 45,
          "str_col": "foobar",
          "timestamp": "2020-01-01T01:00:00.000Z"
         },
         {
          "float_col": 10,
          "index": 126,
          "int_col": 11,
          "str_col": "Realllllly long string",
          "timestamp": "2020-01-01T02:00:00.000Z"
         },
         {
          "float_col": 10,
          "index": 127,
          "int_col": 13,
          "str_col": "",
          "timestamp": "2020-02-28T02:00:00.000Z"
         },
         {
          "float_col": 1.4285714286,
          "index": 128,
          "int_col": 20,
          "str_col": null,
          "timestamp": "2020-03-15T02:00:00.000Z"
         },
         {
          "float_col": 25.7142857143,
          "index": 129,
          "int_col": 20,
          "str_col": "normal",
          "timestamp": null
         },
         {
          "float_col": 31.4285714286,
          "index": 130,
          "int_col": 16,
          "str_col": "foobar",
          "timestamp": "2020-01-01T01:00:00.000Z"
         },
         {
          "float_col": 37.1428571429,
          "index": 131,
          "int_col": 3,
          "str_col": "Realllllly long string",
          "timestamp": "2020-01-01T02:00:00.000Z"
         },
         {
          "float_col": 21.4285714286,
          "index": 132,
          "int_col": 26,
          "str_col": "",
          "timestamp": "2020-02-28T02:00:00.000Z"
         },
         {
          "float_col": 1.4285714286,
          "index": 133,
          "int_col": 36,
          "str_col": null,
          "timestamp": "2020-03-15T02:00:00.000Z"
         },
         {
          "float_col": 15.7142857143,
          "index": 134,
          "int_col": 42,
          "str_col": "normal",
          "timestamp": null
         },
         {
          "float_col": 4.2857142857,
          "index": 135,
          "int_col": 34,
          "str_col": "foobar",
          "timestamp": "2020-01-01T01:00:00.000Z"
         },
         {
          "float_col": 7.1428571429,
          "index": 136,
          "int_col": 32,
          "str_col": "Realllllly long string",
          "timestamp": "2020-01-01T02:00:00.000Z"
         },
         {
          "float_col": 31.4285714286,
          "index": 137,
          "int_col": 46,
          "str_col": "",
          "timestamp": "2020-02-28T02:00:00.000Z"
         },
         {
          "float_col": 27.1428571429,
          "index": 138,
          "int_col": 40,
          "str_col": null,
          "timestamp": "2020-03-15T02:00:00.000Z"
         },
         {
          "float_col": 24.2857142857,
          "index": 139,
          "int_col": 44,
          "str_col": "normal",
          "timestamp": null
         },
         {
          "float_col": 8.5714285714,
          "index": 140,
          "int_col": 31,
          "str_col": "foobar",
          "timestamp": "2020-01-01T01:00:00.000Z"
         },
         {
          "float_col": 4.2857142857,
          "index": 141,
          "int_col": 46,
          "str_col": "Realllllly long string",
          "timestamp": "2020-01-01T02:00:00.000Z"
         },
         {
          "float_col": 12.8571428571,
          "index": 142,
          "int_col": 2,
          "str_col": "",
          "timestamp": "2020-02-28T02:00:00.000Z"
         },
         {
          "float_col": 10,
          "index": 143,
          "int_col": 40,
          "str_col": null,
          "timestamp": "2020-03-15T02:00:00.000Z"
         },
         {
          "float_col": 40,
          "index": 144,
          "int_col": 9,
          "str_col": "normal",
          "timestamp": null
         },
         {
          "float_col": 4.2857142857,
          "index": 145,
          "int_col": 2,
          "str_col": "foobar",
          "timestamp": "2020-01-01T01:00:00.000Z"
         },
         {
          "float_col": 4.2857142857,
          "index": 146,
          "int_col": 3,
          "str_col": "Realllllly long string",
          "timestamp": "2020-01-01T02:00:00.000Z"
         },
         {
          "float_col": 10,
          "index": 147,
          "int_col": 4,
          "str_col": "",
          "timestamp": "2020-02-28T02:00:00.000Z"
         },
         {
          "float_col": 11.4285714286,
          "index": 148,
          "int_col": 37,
          "str_col": null,
          "timestamp": "2020-03-15T02:00:00.000Z"
         },
         {
          "float_col": 37.1428571429,
          "index": 149,
          "int_col": 36,
          "str_col": "normal",
          "timestamp": null
         },
         {
          "float_col": 40,
          "index": 150,
          "int_col": 13,
          "str_col": "foobar",
          "timestamp": "2020-01-01T01:00:00.000Z"
         },
         {
          "float_col": 41.4285714286,
          "index": 151,
          "int_col": 45,
          "str_col": "Realllllly long string",
          "timestamp": "2020-01-01T02:00:00.000Z"
         },
         {
          "float_col": 24.2857142857,
          "index": 152,
          "int_col": 24,
          "str_col": "",
          "timestamp": "2020-02-28T02:00:00.000Z"
         },
         {
          "float_col": 11.4285714286,
          "index": 153,
          "int_col": 18,
          "str_col": null,
          "timestamp": "2020-03-15T02:00:00.000Z"
         },
         {
          "float_col": 17.1428571429,
          "index": 154,
          "int_col": 32,
          "str_col": "normal",
          "timestamp": null
         },
         {
          "float_col": 18.5714285714,
          "index": 155,
          "int_col": 15,
          "str_col": "foobar",
          "timestamp": "2020-01-01T01:00:00.000Z"
         },
         {
          "float_col": 8.5714285714,
          "index": 156,
          "int_col": 9,
          "str_col": "Realllllly long string",
          "timestamp": "2020-01-01T02:00:00.000Z"
         },
         {
          "float_col": 10,
          "index": 157,
          "int_col": 9,
          "str_col": "",
          "timestamp": "2020-02-28T02:00:00.000Z"
         },
         {
          "float_col": 15.7142857143,
          "index": 158,
          "int_col": 9,
          "str_col": null,
          "timestamp": "2020-03-15T02:00:00.000Z"
         },
         {
          "float_col": 11.4285714286,
          "index": 159,
          "int_col": 39,
          "str_col": "normal",
          "timestamp": null
         },
         {
          "float_col": 2.8571428571,
          "index": 160,
          "int_col": 29,
          "str_col": "foobar",
          "timestamp": "2020-01-01T01:00:00.000Z"
         },
         {
          "float_col": 1.4285714286,
          "index": 161,
          "int_col": 32,
          "str_col": "Realllllly long string",
          "timestamp": "2020-01-01T02:00:00.000Z"
         },
         {
          "float_col": 41.4285714286,
          "index": 162,
          "int_col": 19,
          "str_col": "",
          "timestamp": "2020-02-28T02:00:00.000Z"
         },
         {
          "float_col": 25.7142857143,
          "index": 163,
          "int_col": 30,
          "str_col": null,
          "timestamp": "2020-03-15T02:00:00.000Z"
         },
         {
          "float_col": 28.5714285714,
          "index": 164,
          "int_col": 43,
          "str_col": "normal",
          "timestamp": null
         },
         {
          "float_col": 18.5714285714,
          "index": 165,
          "int_col": 9,
          "str_col": "foobar",
          "timestamp": "2020-01-01T01:00:00.000Z"
         },
         {
          "float_col": 5.7142857143,
          "index": 166,
          "int_col": 7,
          "str_col": "Realllllly long string",
          "timestamp": "2020-01-01T02:00:00.000Z"
         },
         {
          "float_col": 10,
          "index": 167,
          "int_col": 36,
          "str_col": "",
          "timestamp": "2020-02-28T02:00:00.000Z"
         },
         {
          "float_col": 14.2857142857,
          "index": 168,
          "int_col": 22,
          "str_col": null,
          "timestamp": "2020-03-15T02:00:00.000Z"
         },
         {
          "float_col": 37.1428571429,
          "index": 169,
          "int_col": 39,
          "str_col": "normal",
          "timestamp": null
         },
         {
          "float_col": 30,
          "index": 170,
          "int_col": 13,
          "str_col": "foobar",
          "timestamp": "2020-01-01T01:00:00.000Z"
         },
         {
          "float_col": 32.8571428571,
          "index": 171,
          "int_col": 26,
          "str_col": "Realllllly long string",
          "timestamp": "2020-01-01T02:00:00.000Z"
         },
         {
          "float_col": 40,
          "index": 172,
          "int_col": 46,
          "str_col": "",
          "timestamp": "2020-02-28T02:00:00.000Z"
         },
         {
          "float_col": 37.1428571429,
          "index": 173,
          "int_col": 48,
          "str_col": null,
          "timestamp": "2020-03-15T02:00:00.000Z"
         },
         {
          "float_col": 22.8571428571,
          "index": 174,
          "int_col": 47,
          "str_col": "normal",
          "timestamp": null
         },
         {
          "float_col": 35.7142857143,
          "index": 175,
          "int_col": 43,
          "str_col": "foobar",
          "timestamp": "2020-01-01T01:00:00.000Z"
         },
         {
          "float_col": 38.5714285714,
          "index": 176,
          "int_col": 12,
          "str_col": "Realllllly long string",
          "timestamp": "2020-01-01T02:00:00.000Z"
         },
         {
          "float_col": 31.4285714286,
          "index": 177,
          "int_col": 2,
          "str_col": "",
          "timestamp": "2020-02-28T02:00:00.000Z"
         },
         {
          "float_col": 11.4285714286,
          "index": 178,
          "int_col": 15,
          "str_col": null,
          "timestamp": "2020-03-15T02:00:00.000Z"
         },
         {
          "float_col": 32.8571428571,
          "index": 179,
          "int_col": 1,
          "str_col": "normal",
          "timestamp": null
         },
         {
          "float_col": 27.1428571429,
          "index": 180,
          "int_col": 28,
          "str_col": "foobar",
          "timestamp": "2020-01-01T01:00:00.000Z"
         },
         {
          "float_col": 32.8571428571,
          "index": 181,
          "int_col": 27,
          "str_col": "Realllllly long string",
          "timestamp": "2020-01-01T02:00:00.000Z"
         },
         {
          "float_col": 12.8571428571,
          "index": 182,
          "int_col": 39,
          "str_col": "",
          "timestamp": "2020-02-28T02:00:00.000Z"
         },
         {
          "float_col": 41.4285714286,
          "index": 183,
          "int_col": 8,
          "str_col": null,
          "timestamp": "2020-03-15T02:00:00.000Z"
         },
         {
          "float_col": 31.4285714286,
          "index": 184,
          "int_col": 29,
          "str_col": "normal",
          "timestamp": null
         },
         {
          "float_col": 41.4285714286,
          "index": 185,
          "int_col": 43,
          "str_col": "foobar",
          "timestamp": "2020-01-01T01:00:00.000Z"
         },
         {
          "float_col": 24.2857142857,
          "index": 186,
          "int_col": 37,
          "str_col": "Realllllly long string",
          "timestamp": "2020-01-01T02:00:00.000Z"
         },
         {
          "float_col": 38.5714285714,
          "index": 187,
          "int_col": 48,
          "str_col": "",
          "timestamp": "2020-02-28T02:00:00.000Z"
         },
         {
          "float_col": 37.1428571429,
          "index": 188,
          "int_col": 11,
          "str_col": null,
          "timestamp": "2020-03-15T02:00:00.000Z"
         },
         {
          "float_col": 32.8571428571,
          "index": 189,
          "int_col": 32,
          "str_col": "normal",
          "timestamp": null
         },
         {
          "float_col": 37.1428571429,
          "index": 190,
          "int_col": 30,
          "str_col": "foobar",
          "timestamp": "2020-01-01T01:00:00.000Z"
         },
         {
          "float_col": 38.5714285714,
          "index": 191,
          "int_col": 29,
          "str_col": "Realllllly long string",
          "timestamp": "2020-01-01T02:00:00.000Z"
         },
         {
          "float_col": 11.4285714286,
          "index": 192,
          "int_col": 34,
          "str_col": "",
          "timestamp": "2020-02-28T02:00:00.000Z"
         },
         {
          "float_col": 34.2857142857,
          "index": 193,
          "int_col": 4,
          "str_col": null,
          "timestamp": "2020-03-15T02:00:00.000Z"
         },
         {
          "float_col": 7.1428571429,
          "index": 194,
          "int_col": 5,
          "str_col": "normal",
          "timestamp": null
         },
         {
          "float_col": 18.5714285714,
          "index": 195,
          "int_col": 16,
          "str_col": "foobar",
          "timestamp": "2020-01-01T01:00:00.000Z"
         },
         {
          "float_col": 28.5714285714,
          "index": 196,
          "int_col": 10,
          "str_col": "Realllllly long string",
          "timestamp": "2020-01-01T02:00:00.000Z"
         },
         {
          "float_col": 14.2857142857,
          "index": 197,
          "int_col": 19,
          "str_col": "",
          "timestamp": "2020-02-28T02:00:00.000Z"
         },
         {
          "float_col": 1.4285714286,
          "index": 198,
          "int_col": 40,
          "str_col": null,
          "timestamp": "2020-03-15T02:00:00.000Z"
         },
         {
          "float_col": 5.7142857143,
          "index": 199,
          "int_col": 19,
          "str_col": "normal",
          "timestamp": null
         }
        ]
       },
       "df_display_args": {
        "main": {
         "data_key": "main",
         "df_viewer_config": {
          "column_config": [
           {
            "col_name": "index",
            "displayer_args": {
             "displayer": "obj"
            }
           },
           {
            "col_name": "int_col",
            "displayer_args": {
             "displayer": "float",
             "maximumFractionDigits": 0,
             "minimumFractionDigits": 0
            }
           },
           {
            "col_name": "float_col",
            "color_map_config": {
             "color_rule": "color_not_null",
             "conditional_color": "red",
             "exist_column": "errored_float"
            },
            "displayer_args": {
             "displayer": "float",
             "maximumFractionDigits": 3,
             "minimumFractionDigits": 3
            }
           },
           {
            "col_name": "timestamp",
            "displayer_args": {
             "displayer": "obj"
            }
           },
           {
            "col_name": "str_col",
            "displayer_args": {
             "displayer": "obj"
            }
           }
          ],
          "pinned_rows": [
           {
            "displayer_args": {
             "displayer": "obj"
            },
            "primary_key_val": "dtype"
           },
           {
            "displayer_args": {
             "displayer": "histogram"
            },
            "primary_key_val": "histogram"
           }
          ]
         },
         "summary_stats_key": "all_stats"
        },
        "summary": {
         "data_key": "empty",
         "df_viewer_config": {
          "column_config": [
           {
            "col_name": "index",
            "displayer_args": {
             "displayer": "obj"
            }
           },
           {
            "col_name": "int_col",
            "displayer_args": {
             "displayer": "obj"
            }
           },
           {
            "col_name": "float_col",
            "color_map_config": {
             "color_rule": "color_not_null",
             "conditional_color": "red",
             "exist_column": "errored_float"
            },
            "displayer_args": {
             "displayer": "obj"
            }
           },
           {
            "col_name": "timestamp",
            "displayer_args": {
             "displayer": "obj"
            }
           },
           {
            "col_name": "str_col",
            "displayer_args": {
             "displayer": "obj"
            }
           }
          ],
          "pinned_rows": [
           {
            "displayer_args": {
             "displayer": "obj"
            },
            "primary_key_val": "dtype"
           },
           {
            "displayer_args": {
             "displayer": "float",
             "maximumFractionDigits": 3,
             "minimumFractionDigits": 3
            },
            "primary_key_val": "min"
           },
           {
            "displayer_args": {
             "displayer": "float",
             "maximumFractionDigits": 3,
             "minimumFractionDigits": 3
            },
            "primary_key_val": "mean"
           },
           {
            "displayer_args": {
             "displayer": "float",
             "maximumFractionDigits": 3,
             "minimumFractionDigits": 3
            },
            "primary_key_val": "max"
           },
           {
            "displayer_args": {
             "displayer": "float",
             "maximumFractionDigits": 0,
             "minimumFractionDigits": 0
            },
            "primary_key_val": "unique_count"
           },
           {
            "displayer_args": {
             "displayer": "float",
             "maximumFractionDigits": 0,
             "minimumFractionDigits": 0
            },
            "primary_key_val": "distinct_count"
           },
           {
            "displayer_args": {
             "displayer": "float",
             "maximumFractionDigits": 0,
             "minimumFractionDigits": 0
            },
            "primary_key_val": "empty_count"
           }
          ]
         },
         "summary_stats_key": "all_stats"
        }
       },
       "df_meta": {
        "columns": 4,
        "rows_shown": 200,
        "total_rows": 200
       },
       "layout": "IPY_MODEL_73d9dde2931a4f679a32002c013a0a6b",
       "operation_results": {
        "generated_py_code": "# instantiation, unused",
        "transformed_df": {
         "column_config": [],
         "data": [],
         "pinned_rows": []
        }
       },
       "operations": []
      }
     },
     "50eb39195c3148b093c0705c1bd894c7": {
      "model_module": "@jupyter-widgets/base",
      "model_module_version": "2.0.0",
      "model_name": "LayoutModel",
      "state": {}
     },
     "5b171d0a852c4bc2a1b1c84931f948aa": {
      "model_module": "@jupyter-widgets/base",
      "model_module_version": "2.0.0",
      "model_name": "LayoutModel",
      "state": {}
     },
     "73d9dde2931a4f679a32002c013a0a6b": {
      "model_module": "@jupyter-widgets/base",
      "model_module_version": "2.0.0",
      "model_name": "LayoutModel",
      "state": {}
     },
     "95c586e115ec44f2a75a09d839357b3f": {
      "model_module": "buckaroo",
      "model_module_version": "^0.5.1",
      "model_name": "DCEFWidgetModel",
      "state": {
       "_model_module_version": "^0.5.1",
       "_view_module_version": "^0.5.1",
       "_view_name": "DCEFWidgetView",
       "buckaroo_options": {
        "auto_clean": [
         "aggressive",
         "conservative"
        ],
        "df_display": [
         "summary",
         "main"
        ],
        "post_processing": [
         ""
        ],
        "sampled": [
         "random"
        ],
        "show_commands": [
         "on"
        ],
        "summary_stats": [
         "all"
        ]
       },
       "buckaroo_state": {
        "auto_clean": "conservative",
        "df_display": "main",
        "post_processing": "",
        "sampled": false,
        "search_string": "",
        "show_commands": false
       },
       "commandConfig": {
        "argspecs": {
         "dropcol": [
          null
         ],
         "fillna": [
          [
           3,
           "fillVal",
           "type",
           "integer"
          ]
         ],
         "groupby": [
          [
           3,
           "colMap",
           "colEnum",
           [
            "null",
            "sum",
            "mean",
            "median",
            "count"
           ]
          ]
         ],
         "onehot": [
          null
         ],
         "reindex": [
          null
         ],
         "safeint": [
          null
         ],
         "to_bool": [
          null
         ],
         "to_datetime": [
          null
         ],
         "to_float": [
          null
         ],
         "to_int": [
          null
         ],
         "to_string": [
          null
         ]
        },
        "defaultArgs": {
         "dropcol": [
          {
           "symbol": "dropcol"
          },
          {
           "symbol": "df"
          },
          "col"
         ],
         "fillna": [
          {
           "symbol": "fillna"
          },
          {
           "symbol": "df"
          },
          "col",
          8
         ],
         "groupby": [
          {
           "symbol": "groupby"
          },
          {
           "symbol": "df"
          },
          "col",
          {}
         ],
         "onehot": [
          {
           "symbol": "onehot"
          },
          {
           "symbol": "df"
          },
          "col"
         ],
         "reindex": [
          {
           "symbol": "reindex"
          },
          {
           "symbol": "df"
          },
          "col"
         ],
         "safeint": [
          {
           "symbol": "safeint"
          },
          {
           "symbol": "df"
          },
          "col"
         ],
         "to_bool": [
          {
           "symbol": "to_bool"
          },
          {
           "symbol": "df"
          },
          "col"
         ],
         "to_datetime": [
          {
           "symbol": "to_datetime"
          },
          {
           "symbol": "df"
          },
          "col"
         ],
         "to_float": [
          {
           "symbol": "to_float"
          },
          {
           "symbol": "df"
          },
          "col"
         ],
         "to_int": [
          {
           "symbol": "to_int"
          },
          {
           "symbol": "df"
          },
          "col"
         ],
         "to_string": [
          {
           "symbol": "to_string"
          },
          {
           "symbol": "df"
          },
          "col"
         ]
        }
       },
       "df_data_dict": {
        "all_stats": [
         {
          "float_col": "shape: (29,)\nSeries: '' [struct[2]]\n[\n\t{40.0,11}\n\t{37.142857,11}\n\t{38.571429,10}\n\t{31.428571,9}\n\t{12.857143,9}\n\t{10.0,9}\n\t{14.285714,9}\n\t{4.285714,8}\n\t{21.428571,8}\n\t{27.142857,8}\n\t{32.857143,8}\n\t{24.285714,8}\n\t…\n\t{1.428571,6}\n\t{7.142857,6}\n\t{41.428571,6}\n\t{20.0,6}\n\t{5.714286,6}\n\t{28.571429,6}\n\t{17.142857,5}\n\t{2.857143,5}\n\t{35.714286,5}\n\t{30.0,4}\n\t{15.714286,4}\n\t{25.714286,4}\n\t{34.285714,3}\n]",
          "index": "value_counts",
          "int_col": "shape: (47,)\nSeries: '' [struct[2]]\n[\n\t{7,8}\n\t{11,8}\n\t{39,7}\n\t{16,7}\n\t{45,6}\n\t{10,6}\n\t{2,6}\n\t{48,6}\n\t{46,6}\n\t{9,6}\n\t{23,5}\n\t{34,5}\n\t…\n\t{21,3}\n\t{4,3}\n\t{18,3}\n\t{5,3}\n\t{26,3}\n\t{15,3}\n\t{29,3}\n\t{43,3}\n\t{33,2}\n\t{47,2}\n\t{25,2}\n\t{1,2}\n\t{44,1}\n]",
          "str_col": "shape: (5,)\nSeries: '' [struct[2]]\n[\n\t{\"foobar\",40}\n\t{\"Realllllly long string\",40}\n\t{\"\",40}\n\t{null,40}\n\t{\"normal\",40}\n]",
          "timestamp": "shape: (3,)\nSeries: '' [struct[2]]\n[\n\t{3,1}\n\t{4,1}\n\t{5,1}\n]"
         },
         {
          "float_col": 200,
          "index": "length",
          "int_col": 200,
          "str_col": 200,
          "timestamp": 200
         },
         {
          "float_col": 0,
          "index": "nan_count",
          "int_col": 0,
          "str_col": 40,
          "timestamp": 40
         },
         {
          "float_col": 1.4285714286,
          "index": "min",
          "int_col": 1,
          "str_col": "",
          "timestamp": null
         },
         {
          "float_col": 41.4285714286,
          "index": "max",
          "int_col": 49,
          "str_col": "normal",
          "timestamp": null
         },
         {
          "float_col": 22.0642857143,
          "index": "mean",
          "int_col": 24.335,
          "str_col": null,
          "timestamp": "2020-02-03T01:45:00.000Z"
         },
         {
          "float_col": 0,
          "index": "unique_count",
          "int_col": 1,
          "str_col": 0,
          "timestamp": 0
         },
         {
          "float_col": "Float64",
          "index": "dtype",
          "int_col": "Int64",
          "str_col": "String",
          "timestamp": "Datetime(time_unit='us', time_zone='UTC')"
         },
         {
          "float_col": {
           "high_tail": 41.4285714286,
           "low_tail": 1.4285714286,
           "meat_histogram": [
            [
             13,
             19,
             25,
             13,
             17,
             22,
             18,
             21,
             8,
             32
            ],
            [
             1.4285714286,
             5,
             9,
             13,
             17,
             21,
             25,
             29,
             33,
             37,
             41.4285714286
            ]
           ],
           "normalized_populations": [
            0.0691489362,
            0.1010638298,
            0.1329787234,
            0.0691489362,
            0.0904255319,
            0.1170212766,
            0.0957446809,
            0.1117021277,
            0.0425531915,
            0.170212766
           ]
          },
          "index": "histogram_args",
          "int_col": {
           "high_tail": 49,
           "low_tail": 2,
           "meat_histogram": [
            [
             14,
             31,
             19,
             18,
             17,
             18,
             16,
             19,
             17,
             20
            ],
            [
             2,
             6.7,
             11.4,
             16.1,
             20.8,
             25.5,
             30.2,
             34.9,
             39.6,
             44.3,
             49
            ]
           ],
           "normalized_populations": [
            0.0740740741,
            0.164021164,
            0.1005291005,
            0.0952380952,
            0.0899470899,
            0.0952380952,
            0.0846560847,
            0.1005291005,
            0.0899470899,
            0.1058201058
           ]
          },
          "str_col": null,
          "timestamp": null
         },
         {
          "float_col": true,
          "index": "is_numeric",
          "int_col": true,
          "str_col": false,
          "timestamp": false
         },
         {
          "float_col": false,
          "index": "is_integer",
          "int_col": true,
          "str_col": false,
          "timestamp": false
         },
         {
          "float_col": "float",
          "index": "_type",
          "int_col": "integer",
          "str_col": "string",
          "timestamp": "datetime"
         },
         {
          "float_col": 40,
          "index": "mode",
          "int_col": 7,
          "str_col": "foobar",
          "timestamp": null
         },
         {
          "float_col": 29,
          "index": "distinct_count",
          "int_col": 47,
          "str_col": 5,
          "timestamp": 0
         },
         {
          "float_col": "float",
          "index": "type",
          "int_col": "integer",
          "str_col": "string",
          "timestamp": "datetime"
         },
         {
          "float_col": 1,
          "index": "min_digits",
          "int_col": 1,
          "str_col": null,
          "timestamp": null
         },
         {
          "float_col": 2,
          "index": "max_digits",
          "int_col": 2,
          "str_col": null,
          "timestamp": null
         },
         {
          "float_col": 0.145,
          "index": "distinct_per",
          "int_col": 0.235,
          "str_col": 0.025,
          "timestamp": 0
         },
         {
          "float_col": 0,
          "index": "empty_per",
          "int_col": 0,
          "str_col": 0.2,
          "timestamp": 0
         },
         {
          "float_col": 0,
          "index": "unique_per",
          "int_col": 0.005,
          "str_col": 0,
          "timestamp": 0
         },
         {
          "float_col": 0,
          "index": "nan_per",
          "int_col": 0,
          "str_col": 0.2,
          "timestamp": 0.2
         },
         {
          "float_col": [
           {
            "name": "1.4285714285714286 - 1.4285714285714286",
            "tail": 1
           },
           {
            "name": "1-5",
            "population": 7
           },
           {
            "name": "5-9",
            "population": 10
           },
           {
            "name": "9-13",
            "population": 13
           },
           {
            "name": "13-17",
            "population": 7
           },
           {
            "name": "17-21",
            "population": 9
           },
           {
            "name": "21-25",
            "population": 12
           },
           {
            "name": "25-29",
            "population": 10
           },
           {
            "name": "29-33",
            "population": 11
           },
           {
            "name": "33-37",
            "population": 4
           },
           {
            "name": "37-41",
            "population": 17
           },
           {
            "name": "41.42857142857143 - 41.42857142857143",
            "tail": 1
           }
          ],
          "index": "histogram",
          "int_col": [
           {
            "name": "1 - 2.0",
            "tail": 1
           },
           {
            "name": "2-7",
            "population": 7
           },
           {
            "name": "7-11",
            "population": 16
           },
           {
            "name": "11-16",
            "population": 10
           },
           {
            "name": "16-21",
            "population": 10
           },
           {
            "name": "21-26",
            "population": 9
           },
           {
            "name": "26-30",
            "population": 10
           },
           {
            "name": "30-35",
            "population": 8
           },
           {
            "name": "35-40",
            "population": 10
           },
           {
            "name": "40-44",
            "population": 9
           },
           {
            "name": "44-49",
            "population": 11
           },
           {
            "name": "49.0 - 49",
            "tail": 1
           }
          ],
          "str_col": [
           {
            "cat_pop": 20,
            "name": "foobar"
           },
           {
            "cat_pop": 20,
            "name": "Realllllly long string"
           },
           {
            "cat_pop": 20,
            "name": ""
           },
           {
            "cat_pop": 20,
            "name": null
           },
           {
            "cat_pop": 20,
            "name": "normal"
           },
           {
            "NA": 20,
            "name": "NA"
           }
          ],
          "timestamp": [
           {
            "cat_pop": 33,
            "name": 3
           },
           {
            "cat_pop": 33,
            "name": 4
           },
           {
            "cat_pop": 33,
            "name": 5
           },
           {
            "name": "unique",
            "unique": 100
           },
           {
            "NA": 20,
            "name": "NA"
           }
          ]
         },
         {
          "float_col": [
           1.4285714286,
           5,
           9,
           13,
           17,
           21,
           25,
           29,
           33,
           37,
           41.4285714286
          ],
          "index": "histogram_bins",
          "int_col": [
           2,
           6.7,
           11.4,
           16.1,
           20.8,
           25.5,
           30.2,
           34.9,
           39.6,
           44.3,
           49
          ],
          "str_col": [
           "faked"
          ],
          "timestamp": [
           "faked"
          ]
         },
         {
          "float_col": null,
          "index": "formatter",
          "int_col": null,
          "str_col": null,
          "timestamp": "default"
         },
         {
          "float_col": null,
          "index": "categorical_histogram",
          "int_col": null,
          "str_col": {
           "": 0.2,
           "None": 0.2,
           "Realllllly long string": 0.2,
           "foobar": 0.2,
           "longtail": 0,
           "normal": 0.2,
           "unique": 0
          },
          "timestamp": {
           "3": 0.3333333333,
           "4": 0.3333333333,
           "5": 0.3333333333,
           "longtail": -1,
           "unique": 1
          }
         },
         {
          "float_col": null,
          "index": "empty_count",
          "int_col": null,
          "str_col": 40,
          "timestamp": null
         }
        ],
        "empty": [],
        "main": [
         {
          "float_col": 4.2857142857,
          "index": 0,
          "int_col": 23,
          "str_col": "foobar",
          "timestamp": "2020-01-01T01:00:00.000Z"
         },
         {
          "float_col": 4.2857142857,
          "index": 1,
          "int_col": 7,
          "str_col": "Realllllly long string",
          "timestamp": "2020-01-01T02:00:00.000Z"
         },
         {
          "float_col": 21.4285714286,
          "index": 2,
          "int_col": 38,
          "str_col": "",
          "timestamp": "2020-02-28T02:00:00.000Z"
         },
         {
          "float_col": 31.4285714286,
          "index": 3,
          "int_col": 45,
          "str_col": null,
          "timestamp": "2020-03-15T02:00:00.000Z"
         },
         {
          "float_col": 8.5714285714,
          "index": 4,
          "int_col": 6,
          "str_col": "normal",
          "timestamp": null
         },
         {
          "float_col": 18.5714285714,
          "index": 5,
          "int_col": 31,
          "str_col": "foobar",
          "timestamp": "2020-01-01T01:00:00.000Z"
         },
         {
          "float_col": 17.1428571429,
          "index": 6,
          "int_col": 45,
          "str_col": "Realllllly long string",
          "timestamp": "2020-01-01T02:00:00.000Z"
         },
         {
          "float_col": 22.8571428571,
          "index": 7,
          "int_col": 22,
          "str_col": "",
          "timestamp": "2020-02-28T02:00:00.000Z"
         },
         {
          "float_col": 27.1428571429,
          "index": 8,
          "int_col": 34,
          "str_col": null,
          "timestamp": "2020-03-15T02:00:00.000Z"
         },
         {
          "float_col": 21.4285714286,
          "index": 9,
          "int_col": 33,
          "str_col": "normal",
          "timestamp": null
         },
         {
          "float_col": 32.8571428571,
          "index": 10,
          "int_col": 36,
          "str_col": "foobar",
          "timestamp": "2020-01-01T01:00:00.000Z"
         },
         {
          "float_col": 1.4285714286,
          "index": 11,
          "int_col": 39,
          "str_col": "Realllllly long string",
          "timestamp": "2020-01-01T02:00:00.000Z"
         },
         {
          "float_col": 7.1428571429,
          "index": 12,
          "int_col": 6,
          "str_col": "",
          "timestamp": "2020-02-28T02:00:00.000Z"
         },
         {
          "float_col": 24.2857142857,
          "index": 13,
          "int_col": 49,
          "str_col": null,
          "timestamp": "2020-03-15T02:00:00.000Z"
         },
         {
          "float_col": 38.5714285714,
          "index": 14,
          "int_col": 19,
          "str_col": "normal",
          "timestamp": null
         },
         {
          "float_col": 40,
          "index": 15,
          "int_col": 20,
          "str_col": "foobar",
          "timestamp": "2020-01-01T01:00:00.000Z"
         },
         {
          "float_col": 30,
          "index": 16,
          "int_col": 8,
          "str_col": "Realllllly long string",
          "timestamp": "2020-01-01T02:00:00.000Z"
         },
         {
          "float_col": 22.8571428571,
          "index": 17,
          "int_col": 11,
          "str_col": "",
          "timestamp": "2020-02-28T02:00:00.000Z"
         },
         {
          "float_col": 38.5714285714,
          "index": 18,
          "int_col": 41,
          "str_col": null,
          "timestamp": "2020-03-15T02:00:00.000Z"
         },
         {
          "float_col": 15.7142857143,
          "index": 19,
          "int_col": 24,
          "str_col": "normal",
          "timestamp": null
         },
         {
          "float_col": 41.4285714286,
          "index": 20,
          "int_col": 10,
          "str_col": "foobar",
          "timestamp": "2020-01-01T01:00:00.000Z"
         },
         {
          "float_col": 24.2857142857,
          "index": 21,
          "int_col": 17,
          "str_col": "Realllllly long string",
          "timestamp": "2020-01-01T02:00:00.000Z"
         },
         {
          "float_col": 2.8571428571,
          "index": 22,
          "int_col": 7,
          "str_col": "",
          "timestamp": "2020-02-28T02:00:00.000Z"
         },
         {
          "float_col": 12.8571428571,
          "index": 23,
          "int_col": 16,
          "str_col": null,
          "timestamp": "2020-03-15T02:00:00.000Z"
         },
         {
          "float_col": 7.1428571429,
          "index": 24,
          "int_col": 37,
          "str_col": "normal",
          "timestamp": null
         },
         {
          "float_col": 17.1428571429,
          "index": 25,
          "int_col": 33,
          "str_col": "foobar",
          "timestamp": "2020-01-01T01:00:00.000Z"
         },
         {
          "float_col": 40,
          "index": 26,
          "int_col": 22,
          "str_col": "Realllllly long string",
          "timestamp": "2020-01-01T02:00:00.000Z"
         },
         {
          "float_col": 22.8571428571,
          "index": 27,
          "int_col": 42,
          "str_col": "",
          "timestamp": "2020-02-28T02:00:00.000Z"
         },
         {
          "float_col": 21.4285714286,
          "index": 28,
          "int_col": 16,
          "str_col": null,
          "timestamp": "2020-03-15T02:00:00.000Z"
         },
         {
          "float_col": 37.1428571429,
          "index": 29,
          "int_col": 2,
          "str_col": "normal",
          "timestamp": null
         },
         {
          "float_col": 20,
          "index": 30,
          "int_col": 7,
          "str_col": "foobar",
          "timestamp": "2020-01-01T01:00:00.000Z"
         },
         {
          "float_col": 21.4285714286,
          "index": 31,
          "int_col": 23,
          "str_col": "Realllllly long string",
          "timestamp": "2020-01-01T02:00:00.000Z"
         },
         {
          "float_col": 40,
          "index": 32,
          "int_col": 34,
          "str_col": "",
          "timestamp": "2020-02-28T02:00:00.000Z"
         },
         {
          "float_col": 18.5714285714,
          "index": 33,
          "int_col": 39,
          "str_col": null,
          "timestamp": "2020-03-15T02:00:00.000Z"
         },
         {
          "float_col": 7.1428571429,
          "index": 34,
          "int_col": 34,
          "str_col": "normal",
          "timestamp": null
         },
         {
          "float_col": 21.4285714286,
          "index": 35,
          "int_col": 47,
          "str_col": "foobar",
          "timestamp": "2020-01-01T01:00:00.000Z"
         },
         {
          "float_col": 17.1428571429,
          "index": 36,
          "int_col": 42,
          "str_col": "Realllllly long string",
          "timestamp": "2020-01-01T02:00:00.000Z"
         },
         {
          "float_col": 31.4285714286,
          "index": 37,
          "int_col": 36,
          "str_col": "",
          "timestamp": "2020-02-28T02:00:00.000Z"
         },
         {
          "float_col": 30,
          "index": 38,
          "int_col": 41,
          "str_col": null,
          "timestamp": "2020-03-15T02:00:00.000Z"
         },
         {
          "float_col": 7.1428571429,
          "index": 39,
          "int_col": 6,
          "str_col": "normal",
          "timestamp": null
         },
         {
          "float_col": 21.4285714286,
          "index": 40,
          "int_col": 19,
          "str_col": "foobar",
          "timestamp": "2020-01-01T01:00:00.000Z"
         },
         {
          "float_col": 11.4285714286,
          "index": 41,
          "int_col": 41,
          "str_col": "Realllllly long string",
          "timestamp": "2020-01-01T02:00:00.000Z"
         },
         {
          "float_col": 11.4285714286,
          "index": 42,
          "int_col": 48,
          "str_col": "",
          "timestamp": "2020-02-28T02:00:00.000Z"
         },
         {
          "float_col": 2.8571428571,
          "index": 43,
          "int_col": 48,
          "str_col": null,
          "timestamp": "2020-03-15T02:00:00.000Z"
         },
         {
          "float_col": 31.4285714286,
          "index": 44,
          "int_col": 7,
          "str_col": "normal",
          "timestamp": null
         },
         {
          "float_col": 8.5714285714,
          "index": 45,
          "int_col": 10,
          "str_col": "foobar",
          "timestamp": "2020-01-01T01:00:00.000Z"
         },
         {
          "float_col": 12.8571428571,
          "index": 46,
          "int_col": 45,
          "str_col": "Realllllly long string",
          "timestamp": "2020-01-01T02:00:00.000Z"
         },
         {
          "float_col": 27.1428571429,
          "index": 47,
          "int_col": 46,
          "str_col": "",
          "timestamp": "2020-02-28T02:00:00.000Z"
         },
         {
          "float_col": 20,
          "index": 48,
          "int_col": 7,
          "str_col": null,
          "timestamp": "2020-03-15T02:00:00.000Z"
         },
         {
          "float_col": 5.7142857143,
          "index": 49,
          "int_col": 11,
          "str_col": "normal",
          "timestamp": null
         },
         {
          "float_col": 12.8571428571,
          "index": 50,
          "int_col": 13,
          "str_col": "foobar",
          "timestamp": "2020-01-01T01:00:00.000Z"
         },
         {
          "float_col": 40,
          "index": 51,
          "int_col": 27,
          "str_col": "Realllllly long string",
          "timestamp": "2020-01-01T02:00:00.000Z"
         },
         {
          "float_col": 38.5714285714,
          "index": 52,
          "int_col": 28,
          "str_col": "",
          "timestamp": "2020-02-28T02:00:00.000Z"
         },
         {
          "float_col": 5.7142857143,
          "index": 53,
          "int_col": 16,
          "str_col": null,
          "timestamp": "2020-03-15T02:00:00.000Z"
         },
         {
          "float_col": 20,
          "index": 54,
          "int_col": 12,
          "str_col": "normal",
          "timestamp": null
         },
         {
          "float_col": 10,
          "index": 55,
          "int_col": 21,
          "str_col": "foobar",
          "timestamp": "2020-01-01T01:00:00.000Z"
         },
         {
          "float_col": 40,
          "index": 56,
          "int_col": 4,
          "str_col": "Realllllly long string",
          "timestamp": "2020-01-01T02:00:00.000Z"
         },
         {
          "float_col": 24.2857142857,
          "index": 57,
          "int_col": 18,
          "str_col": "",
          "timestamp": "2020-02-28T02:00:00.000Z"
         },
         {
          "float_col": 40,
          "index": 58,
          "int_col": 37,
          "str_col": null,
          "timestamp": "2020-03-15T02:00:00.000Z"
         },
         {
          "float_col": 37.1428571429,
          "index": 59,
          "int_col": 10,
          "str_col": "normal",
          "timestamp": null
         },
         {
          "float_col": 28.5714285714,
          "index": 60,
          "int_col": 5,
          "str_col": "foobar",
          "timestamp": "2020-01-01T01:00:00.000Z"
         },
         {
          "float_col": 4.2857142857,
          "index": 61,
          "int_col": 49,
          "str_col": "Realllllly long string",
          "timestamp": "2020-01-01T02:00:00.000Z"
         },
         {
          "float_col": 28.5714285714,
          "index": 62,
          "int_col": 25,
          "str_col": "",
          "timestamp": "2020-02-28T02:00:00.000Z"
         },
         {
          "float_col": 8.5714285714,
          "index": 63,
          "int_col": 30,
          "str_col": null,
          "timestamp": "2020-03-15T02:00:00.000Z"
         },
         {
          "float_col": 32.8571428571,
          "index": 64,
          "int_col": 26,
          "str_col": "normal",
          "timestamp": null
         },
         {
          "float_col": 14.2857142857,
          "index": 65,
          "int_col": 7,
          "str_col": "foobar",
          "timestamp": "2020-01-01T01:00:00.000Z"
         },
         {
          "float_col": 10,
          "index": 66,
          "int_col": 22,
          "str_col": "Realllllly long string",
          "timestamp": "2020-01-01T02:00:00.000Z"
         },
         {
          "float_col": 34.2857142857,
          "index": 67,
          "int_col": 3,
          "str_col": "",
          "timestamp": "2020-02-28T02:00:00.000Z"
         },
         {
          "float_col": 14.2857142857,
          "index": 68,
          "int_col": 17,
          "str_col": null,
          "timestamp": "2020-03-15T02:00:00.000Z"
         },
         {
          "float_col": 8.5714285714,
          "index": 69,
          "int_col": 2,
          "str_col": "normal",
          "timestamp": null
         },
         {
          "float_col": 15.7142857143,
          "index": 70,
          "int_col": 11,
          "str_col": "foobar",
          "timestamp": "2020-01-01T01:00:00.000Z"
         },
         {
          "float_col": 25.7142857143,
          "index": 71,
          "int_col": 31,
          "str_col": "Realllllly long string",
          "timestamp": "2020-01-01T02:00:00.000Z"
         },
         {
          "float_col": 21.4285714286,
          "index": 72,
          "int_col": 23,
          "str_col": "",
          "timestamp": "2020-02-28T02:00:00.000Z"
         },
         {
          "float_col": 28.5714285714,
          "index": 73,
          "int_col": 46,
          "str_col": null,
          "timestamp": "2020-03-15T02:00:00.000Z"
         },
         {
          "float_col": 12.8571428571,
          "index": 74,
          "int_col": 2,
          "str_col": "normal",
          "timestamp": null
         },
         {
          "float_col": 27.1428571429,
          "index": 75,
          "int_col": 30,
          "str_col": "foobar",
          "timestamp": "2020-01-01T01:00:00.000Z"
         },
         {
          "float_col": 18.5714285714,
          "index": 76,
          "int_col": 24,
          "str_col": "Realllllly long string",
          "timestamp": "2020-01-01T02:00:00.000Z"
         },
         {
          "float_col": 20,
          "index": 77,
          "int_col": 12,
          "str_col": "",
          "timestamp": "2020-02-28T02:00:00.000Z"
         },
         {
          "float_col": 30,
          "index": 78,
          "int_col": 7,
          "str_col": null,
          "timestamp": "2020-03-15T02:00:00.000Z"
         },
         {
          "float_col": 14.2857142857,
          "index": 79,
          "int_col": 8,
          "str_col": "normal",
          "timestamp": null
         },
         {
          "float_col": 22.8571428571,
          "index": 80,
          "int_col": 11,
          "str_col": "foobar",
          "timestamp": "2020-01-01T01:00:00.000Z"
         },
         {
          "float_col": 28.5714285714,
          "index": 81,
          "int_col": 38,
          "str_col": "Realllllly long string",
          "timestamp": "2020-01-01T02:00:00.000Z"
         },
         {
          "float_col": 2.8571428571,
          "index": 82,
          "int_col": 15,
          "str_col": "",
          "timestamp": "2020-02-28T02:00:00.000Z"
         },
         {
          "float_col": 41.4285714286,
          "index": 83,
          "int_col": 21,
          "str_col": null,
          "timestamp": "2020-03-15T02:00:00.000Z"
         },
         {
          "float_col": 35.7142857143,
          "index": 84,
          "int_col": 40,
          "str_col": "normal",
          "timestamp": null
         },
         {
          "float_col": 5.7142857143,
          "index": 85,
          "int_col": 1,
          "str_col": "foobar",
          "timestamp": "2020-01-01T01:00:00.000Z"
         },
         {
          "float_col": 5.7142857143,
          "index": 86,
          "int_col": 12,
          "str_col": "Realllllly long string",
          "timestamp": "2020-01-01T02:00:00.000Z"
         },
         {
          "float_col": 20,
          "index": 87,
          "int_col": 39,
          "str_col": "",
          "timestamp": "2020-02-28T02:00:00.000Z"
         },
         {
          "float_col": 12.8571428571,
          "index": 88,
          "int_col": 25,
          "str_col": null,
          "timestamp": "2020-03-15T02:00:00.000Z"
         },
         {
          "float_col": 14.2857142857,
          "index": 89,
          "int_col": 5,
          "str_col": "normal",
          "timestamp": null
         },
         {
          "float_col": 34.2857142857,
          "index": 90,
          "int_col": 18,
          "str_col": "foobar",
          "timestamp": "2020-01-01T01:00:00.000Z"
         },
         {
          "float_col": 17.1428571429,
          "index": 91,
          "int_col": 45,
          "str_col": "Realllllly long string",
          "timestamp": "2020-01-01T02:00:00.000Z"
         },
         {
          "float_col": 31.4285714286,
          "index": 92,
          "int_col": 41,
          "str_col": "",
          "timestamp": "2020-02-28T02:00:00.000Z"
         },
         {
          "float_col": 25.7142857143,
          "index": 93,
          "int_col": 28,
          "str_col": null,
          "timestamp": "2020-03-15T02:00:00.000Z"
         },
         {
          "float_col": 38.5714285714,
          "index": 94,
          "int_col": 16,
          "str_col": "normal",
          "timestamp": null
         },
         {
          "float_col": 12.8571428571,
          "index": 95,
          "int_col": 38,
          "str_col": "foobar",
          "timestamp": "2020-01-01T01:00:00.000Z"
         },
         {
          "float_col": 27.1428571429,
          "index": 96,
          "int_col": 49,
          "str_col": "Realllllly long string",
          "timestamp": "2020-01-01T02:00:00.000Z"
         },
         {
          "float_col": 32.8571428571,
          "index": 97,
          "int_col": 20,
          "str_col": "",
          "timestamp": "2020-02-28T02:00:00.000Z"
         },
         {
          "float_col": 14.2857142857,
          "index": 98,
          "int_col": 46,
          "str_col": null,
          "timestamp": "2020-03-15T02:00:00.000Z"
         },
         {
          "float_col": 20,
          "index": 99,
          "int_col": 20,
          "str_col": "normal",
          "timestamp": null
         },
         {
          "float_col": 38.5714285714,
          "index": 100,
          "int_col": 48,
          "str_col": "foobar",
          "timestamp": "2020-01-01T01:00:00.000Z"
         },
         {
          "float_col": 10,
          "index": 101,
          "int_col": 11,
          "str_col": "Realllllly long string",
          "timestamp": "2020-01-01T02:00:00.000Z"
         },
         {
          "float_col": 35.7142857143,
          "index": 102,
          "int_col": 16,
          "str_col": "",
          "timestamp": "2020-02-28T02:00:00.000Z"
         },
         {
          "float_col": 38.5714285714,
          "index": 103,
          "int_col": 31,
          "str_col": null,
          "timestamp": "2020-03-15T02:00:00.000Z"
         },
         {
          "float_col": 1.4285714286,
          "index": 104,
          "int_col": 21,
          "str_col": "normal",
          "timestamp": null
         },
         {
          "float_col": 38.5714285714,
          "index": 105,
          "int_col": 40,
          "str_col": "foobar",
          "timestamp": "2020-01-01T01:00:00.000Z"
         },
         {
          "float_col": 35.7142857143,
          "index": 106,
          "int_col": 48,
          "str_col": "Realllllly long string",
          "timestamp": "2020-01-01T02:00:00.000Z"
         },
         {
          "float_col": 4.2857142857,
          "index": 107,
          "int_col": 27,
          "str_col": "",
          "timestamp": "2020-02-28T02:00:00.000Z"
         },
         {
          "float_col": 14.2857142857,
          "index": 108,
          "int_col": 23,
          "str_col": null,
          "timestamp": "2020-03-15T02:00:00.000Z"
         },
         {
          "float_col": 32.8571428571,
          "index": 109,
          "int_col": 10,
          "str_col": "normal",
          "timestamp": null
         },
         {
          "float_col": 24.2857142857,
          "index": 110,
          "int_col": 17,
          "str_col": "foobar",
          "timestamp": "2020-01-01T01:00:00.000Z"
         },
         {
          "float_col": 8.5714285714,
          "index": 111,
          "int_col": 3,
          "str_col": "Realllllly long string",
          "timestamp": "2020-01-01T02:00:00.000Z"
         },
         {
          "float_col": 27.1428571429,
          "index": 112,
          "int_col": 10,
          "str_col": "",
          "timestamp": "2020-02-28T02:00:00.000Z"
         },
         {
          "float_col": 31.4285714286,
          "index": 113,
          "int_col": 17,
          "str_col": null,
          "timestamp": "2020-03-15T02:00:00.000Z"
         },
         {
          "float_col": 2.8571428571,
          "index": 114,
          "int_col": 27,
          "str_col": "normal",
          "timestamp": null
         },
         {
          "float_col": 40,
          "index": 115,
          "int_col": 3,
          "str_col": "foobar",
          "timestamp": "2020-01-01T01:00:00.000Z"
         },
         {
          "float_col": 37.1428571429,
          "index": 116,
          "int_col": 42,
          "str_col": "Realllllly long string",
          "timestamp": "2020-01-01T02:00:00.000Z"
         },
         {
          "float_col": 12.8571428571,
          "index": 117,
          "int_col": 27,
          "str_col": "",
          "timestamp": "2020-02-28T02:00:00.000Z"
         },
         {
          "float_col": 24.2857142857,
          "index": 118,
          "int_col": 32,
          "str_col": null,
          "timestamp": "2020-03-15T02:00:00.000Z"
         },
         {
          "float_col": 35.7142857143,
          "index": 119,
          "int_col": 39,
          "str_col": "normal",
          "timestamp": null
         },
         {
          "float_col": 37.1428571429,
          "index": 120,
          "int_col": 11,
          "str_col": "foobar",
          "timestamp": "2020-01-01T01:00:00.000Z"
         },
         {
          "float_col": 27.1428571429,
          "index": 121,
          "int_col": 9,
          "str_col": "Realllllly long string",
          "timestamp": "2020-01-01T02:00:00.000Z"
         },
         {
          "float_col": 37.1428571429,
          "index": 122,
          "int_col": 17,
          "str_col": "",
          "timestamp": "2020-02-28T02:00:00.000Z"
         },
         {
          "float_col": 22.8571428571,
          "index": 123,
          "int_col": 23,
          "str_col": null,
          "timestamp": "2020-03-15T02:00:00.000Z"
         },
         {
          "float_col": 40,
          "index": 124,
          "int_col": 13,
          "str_col": "normal",
          "timestamp": null
         },
         {
          "float_col": 14.2857142857,
          "index": 125,
          "int_col": 45,
          "str_col": "foobar",
          "timestamp": "2020-01-01T01:00:00.000Z"
         },
         {
          "float_col": 10,
          "index": 126,
          "int_col": 11,
          "str_col": "Realllllly long string",
          "timestamp": "2020-01-01T02:00:00.000Z"
         },
         {
          "float_col": 10,
          "index": 127,
          "int_col": 13,
          "str_col": "",
          "timestamp": "2020-02-28T02:00:00.000Z"
         },
         {
          "float_col": 1.4285714286,
          "index": 128,
          "int_col": 20,
          "str_col": null,
          "timestamp": "2020-03-15T02:00:00.000Z"
         },
         {
          "float_col": 25.7142857143,
          "index": 129,
          "int_col": 20,
          "str_col": "normal",
          "timestamp": null
         },
         {
          "float_col": 31.4285714286,
          "index": 130,
          "int_col": 16,
          "str_col": "foobar",
          "timestamp": "2020-01-01T01:00:00.000Z"
         },
         {
          "float_col": 37.1428571429,
          "index": 131,
          "int_col": 3,
          "str_col": "Realllllly long string",
          "timestamp": "2020-01-01T02:00:00.000Z"
         },
         {
          "float_col": 21.4285714286,
          "index": 132,
          "int_col": 26,
          "str_col": "",
          "timestamp": "2020-02-28T02:00:00.000Z"
         },
         {
          "float_col": 1.4285714286,
          "index": 133,
          "int_col": 36,
          "str_col": null,
          "timestamp": "2020-03-15T02:00:00.000Z"
         },
         {
          "float_col": 15.7142857143,
          "index": 134,
          "int_col": 42,
          "str_col": "normal",
          "timestamp": null
         },
         {
          "float_col": 4.2857142857,
          "index": 135,
          "int_col": 34,
          "str_col": "foobar",
          "timestamp": "2020-01-01T01:00:00.000Z"
         },
         {
          "float_col": 7.1428571429,
          "index": 136,
          "int_col": 32,
          "str_col": "Realllllly long string",
          "timestamp": "2020-01-01T02:00:00.000Z"
         },
         {
          "float_col": 31.4285714286,
          "index": 137,
          "int_col": 46,
          "str_col": "",
          "timestamp": "2020-02-28T02:00:00.000Z"
         },
         {
          "float_col": 27.1428571429,
          "index": 138,
          "int_col": 40,
          "str_col": null,
          "timestamp": "2020-03-15T02:00:00.000Z"
         },
         {
          "float_col": 24.2857142857,
          "index": 139,
          "int_col": 44,
          "str_col": "normal",
          "timestamp": null
         },
         {
          "float_col": 8.5714285714,
          "index": 140,
          "int_col": 31,
          "str_col": "foobar",
          "timestamp": "2020-01-01T01:00:00.000Z"
         },
         {
          "float_col": 4.2857142857,
          "index": 141,
          "int_col": 46,
          "str_col": "Realllllly long string",
          "timestamp": "2020-01-01T02:00:00.000Z"
         },
         {
          "float_col": 12.8571428571,
          "index": 142,
          "int_col": 2,
          "str_col": "",
          "timestamp": "2020-02-28T02:00:00.000Z"
         },
         {
          "float_col": 10,
          "index": 143,
          "int_col": 40,
          "str_col": null,
          "timestamp": "2020-03-15T02:00:00.000Z"
         },
         {
          "float_col": 40,
          "index": 144,
          "int_col": 9,
          "str_col": "normal",
          "timestamp": null
         },
         {
          "float_col": 4.2857142857,
          "index": 145,
          "int_col": 2,
          "str_col": "foobar",
          "timestamp": "2020-01-01T01:00:00.000Z"
         },
         {
          "float_col": 4.2857142857,
          "index": 146,
          "int_col": 3,
          "str_col": "Realllllly long string",
          "timestamp": "2020-01-01T02:00:00.000Z"
         },
         {
          "float_col": 10,
          "index": 147,
          "int_col": 4,
          "str_col": "",
          "timestamp": "2020-02-28T02:00:00.000Z"
         },
         {
          "float_col": 11.4285714286,
          "index": 148,
          "int_col": 37,
          "str_col": null,
          "timestamp": "2020-03-15T02:00:00.000Z"
         },
         {
          "float_col": 37.1428571429,
          "index": 149,
          "int_col": 36,
          "str_col": "normal",
          "timestamp": null
         },
         {
          "float_col": 40,
          "index": 150,
          "int_col": 13,
          "str_col": "foobar",
          "timestamp": "2020-01-01T01:00:00.000Z"
         },
         {
          "float_col": 41.4285714286,
          "index": 151,
          "int_col": 45,
          "str_col": "Realllllly long string",
          "timestamp": "2020-01-01T02:00:00.000Z"
         },
         {
          "float_col": 24.2857142857,
          "index": 152,
          "int_col": 24,
          "str_col": "",
          "timestamp": "2020-02-28T02:00:00.000Z"
         },
         {
          "float_col": 11.4285714286,
          "index": 153,
          "int_col": 18,
          "str_col": null,
          "timestamp": "2020-03-15T02:00:00.000Z"
         },
         {
          "float_col": 17.1428571429,
          "index": 154,
          "int_col": 32,
          "str_col": "normal",
          "timestamp": null
         },
         {
          "float_col": 18.5714285714,
          "index": 155,
          "int_col": 15,
          "str_col": "foobar",
          "timestamp": "2020-01-01T01:00:00.000Z"
         },
         {
          "float_col": 8.5714285714,
          "index": 156,
          "int_col": 9,
          "str_col": "Realllllly long string",
          "timestamp": "2020-01-01T02:00:00.000Z"
         },
         {
          "float_col": 10,
          "index": 157,
          "int_col": 9,
          "str_col": "",
          "timestamp": "2020-02-28T02:00:00.000Z"
         },
         {
          "float_col": 15.7142857143,
          "index": 158,
          "int_col": 9,
          "str_col": null,
          "timestamp": "2020-03-15T02:00:00.000Z"
         },
         {
          "float_col": 11.4285714286,
          "index": 159,
          "int_col": 39,
          "str_col": "normal",
          "timestamp": null
         },
         {
          "float_col": 2.8571428571,
          "index": 160,
          "int_col": 29,
          "str_col": "foobar",
          "timestamp": "2020-01-01T01:00:00.000Z"
         },
         {
          "float_col": 1.4285714286,
          "index": 161,
          "int_col": 32,
          "str_col": "Realllllly long string",
          "timestamp": "2020-01-01T02:00:00.000Z"
         },
         {
          "float_col": 41.4285714286,
          "index": 162,
          "int_col": 19,
          "str_col": "",
          "timestamp": "2020-02-28T02:00:00.000Z"
         },
         {
          "float_col": 25.7142857143,
          "index": 163,
          "int_col": 30,
          "str_col": null,
          "timestamp": "2020-03-15T02:00:00.000Z"
         },
         {
          "float_col": 28.5714285714,
          "index": 164,
          "int_col": 43,
          "str_col": "normal",
          "timestamp": null
         },
         {
          "float_col": 18.5714285714,
          "index": 165,
          "int_col": 9,
          "str_col": "foobar",
          "timestamp": "2020-01-01T01:00:00.000Z"
         },
         {
          "float_col": 5.7142857143,
          "index": 166,
          "int_col": 7,
          "str_col": "Realllllly long string",
          "timestamp": "2020-01-01T02:00:00.000Z"
         },
         {
          "float_col": 10,
          "index": 167,
          "int_col": 36,
          "str_col": "",
          "timestamp": "2020-02-28T02:00:00.000Z"
         },
         {
          "float_col": 14.2857142857,
          "index": 168,
          "int_col": 22,
          "str_col": null,
          "timestamp": "2020-03-15T02:00:00.000Z"
         },
         {
          "float_col": 37.1428571429,
          "index": 169,
          "int_col": 39,
          "str_col": "normal",
          "timestamp": null
         },
         {
          "float_col": 30,
          "index": 170,
          "int_col": 13,
          "str_col": "foobar",
          "timestamp": "2020-01-01T01:00:00.000Z"
         },
         {
          "float_col": 32.8571428571,
          "index": 171,
          "int_col": 26,
          "str_col": "Realllllly long string",
          "timestamp": "2020-01-01T02:00:00.000Z"
         },
         {
          "float_col": 40,
          "index": 172,
          "int_col": 46,
          "str_col": "",
          "timestamp": "2020-02-28T02:00:00.000Z"
         },
         {
          "float_col": 37.1428571429,
          "index": 173,
          "int_col": 48,
          "str_col": null,
          "timestamp": "2020-03-15T02:00:00.000Z"
         },
         {
          "float_col": 22.8571428571,
          "index": 174,
          "int_col": 47,
          "str_col": "normal",
          "timestamp": null
         },
         {
          "float_col": 35.7142857143,
          "index": 175,
          "int_col": 43,
          "str_col": "foobar",
          "timestamp": "2020-01-01T01:00:00.000Z"
         },
         {
          "float_col": 38.5714285714,
          "index": 176,
          "int_col": 12,
          "str_col": "Realllllly long string",
          "timestamp": "2020-01-01T02:00:00.000Z"
         },
         {
          "float_col": 31.4285714286,
          "index": 177,
          "int_col": 2,
          "str_col": "",
          "timestamp": "2020-02-28T02:00:00.000Z"
         },
         {
          "float_col": 11.4285714286,
          "index": 178,
          "int_col": 15,
          "str_col": null,
          "timestamp": "2020-03-15T02:00:00.000Z"
         },
         {
          "float_col": 32.8571428571,
          "index": 179,
          "int_col": 1,
          "str_col": "normal",
          "timestamp": null
         },
         {
          "float_col": 27.1428571429,
          "index": 180,
          "int_col": 28,
          "str_col": "foobar",
          "timestamp": "2020-01-01T01:00:00.000Z"
         },
         {
          "float_col": 32.8571428571,
          "index": 181,
          "int_col": 27,
          "str_col": "Realllllly long string",
          "timestamp": "2020-01-01T02:00:00.000Z"
         },
         {
          "float_col": 12.8571428571,
          "index": 182,
          "int_col": 39,
          "str_col": "",
          "timestamp": "2020-02-28T02:00:00.000Z"
         },
         {
          "float_col": 41.4285714286,
          "index": 183,
          "int_col": 8,
          "str_col": null,
          "timestamp": "2020-03-15T02:00:00.000Z"
         },
         {
          "float_col": 31.4285714286,
          "index": 184,
          "int_col": 29,
          "str_col": "normal",
          "timestamp": null
         },
         {
          "float_col": 41.4285714286,
          "index": 185,
          "int_col": 43,
          "str_col": "foobar",
          "timestamp": "2020-01-01T01:00:00.000Z"
         },
         {
          "float_col": 24.2857142857,
          "index": 186,
          "int_col": 37,
          "str_col": "Realllllly long string",
          "timestamp": "2020-01-01T02:00:00.000Z"
         },
         {
          "float_col": 38.5714285714,
          "index": 187,
          "int_col": 48,
          "str_col": "",
          "timestamp": "2020-02-28T02:00:00.000Z"
         },
         {
          "float_col": 37.1428571429,
          "index": 188,
          "int_col": 11,
          "str_col": null,
          "timestamp": "2020-03-15T02:00:00.000Z"
         },
         {
          "float_col": 32.8571428571,
          "index": 189,
          "int_col": 32,
          "str_col": "normal",
          "timestamp": null
         },
         {
          "float_col": 37.1428571429,
          "index": 190,
          "int_col": 30,
          "str_col": "foobar",
          "timestamp": "2020-01-01T01:00:00.000Z"
         },
         {
          "float_col": 38.5714285714,
          "index": 191,
          "int_col": 29,
          "str_col": "Realllllly long string",
          "timestamp": "2020-01-01T02:00:00.000Z"
         },
         {
          "float_col": 11.4285714286,
          "index": 192,
          "int_col": 34,
          "str_col": "",
          "timestamp": "2020-02-28T02:00:00.000Z"
         },
         {
          "float_col": 34.2857142857,
          "index": 193,
          "int_col": 4,
          "str_col": null,
          "timestamp": "2020-03-15T02:00:00.000Z"
         },
         {
          "float_col": 7.1428571429,
          "index": 194,
          "int_col": 5,
          "str_col": "normal",
          "timestamp": null
         },
         {
          "float_col": 18.5714285714,
          "index": 195,
          "int_col": 16,
          "str_col": "foobar",
          "timestamp": "2020-01-01T01:00:00.000Z"
         },
         {
          "float_col": 28.5714285714,
          "index": 196,
          "int_col": 10,
          "str_col": "Realllllly long string",
          "timestamp": "2020-01-01T02:00:00.000Z"
         },
         {
          "float_col": 14.2857142857,
          "index": 197,
          "int_col": 19,
          "str_col": "",
          "timestamp": "2020-02-28T02:00:00.000Z"
         },
         {
          "float_col": 1.4285714286,
          "index": 198,
          "int_col": 40,
          "str_col": null,
          "timestamp": "2020-03-15T02:00:00.000Z"
         },
         {
          "float_col": 5.7142857143,
          "index": 199,
          "int_col": 19,
          "str_col": "normal",
          "timestamp": null
         }
        ]
       },
       "df_display_args": {
        "main": {
         "data_key": "main",
         "df_viewer_config": {
          "column_config": [
           {
            "col_name": "index",
            "displayer_args": {
             "displayer": "obj"
            }
           },
           {
            "col_name": "int_col",
            "displayer_args": {
             "displayer": "float",
             "maximumFractionDigits": 0,
             "minimumFractionDigits": 0
            }
           },
           {
            "col_name": "float_col",
            "displayer_args": {
             "displayer": "float",
             "maximumFractionDigits": 3,
             "minimumFractionDigits": 3
            }
           },
           {
            "col_name": "timestamp",
            "displayer_args": {
             "displayer": "obj"
            }
           },
           {
            "col_name": "str_col",
            "displayer_args": {
             "displayer": "obj"
            }
           }
          ],
          "pinned_rows": [
           {
            "displayer_args": {
             "displayer": "obj"
            },
            "primary_key_val": "dtype"
           },
           {
            "displayer_args": {
             "displayer": "histogram"
            },
            "primary_key_val": "histogram"
           }
          ]
         },
         "summary_stats_key": "all_stats"
        },
        "summary": {
         "data_key": "empty",
         "df_viewer_config": {
          "column_config": [
           {
            "col_name": "index",
            "displayer_args": {
             "displayer": "obj"
            }
           },
           {
            "col_name": "int_col",
            "displayer_args": {
             "displayer": "obj"
            }
           },
           {
            "col_name": "float_col",
            "displayer_args": {
             "displayer": "obj"
            }
           },
           {
            "col_name": "timestamp",
            "displayer_args": {
             "displayer": "obj"
            }
           },
           {
            "col_name": "str_col",
            "displayer_args": {
             "displayer": "obj"
            }
           }
          ],
          "pinned_rows": [
           {
            "displayer_args": {
             "displayer": "obj"
            },
            "primary_key_val": "dtype"
           },
           {
            "displayer_args": {
             "displayer": "float",
             "maximumFractionDigits": 3,
             "minimumFractionDigits": 3
            },
            "primary_key_val": "min"
           },
           {
            "displayer_args": {
             "displayer": "float",
             "maximumFractionDigits": 3,
             "minimumFractionDigits": 3
            },
            "primary_key_val": "mean"
           },
           {
            "displayer_args": {
             "displayer": "float",
             "maximumFractionDigits": 3,
             "minimumFractionDigits": 3
            },
            "primary_key_val": "max"
           },
           {
            "displayer_args": {
             "displayer": "float",
             "maximumFractionDigits": 0,
             "minimumFractionDigits": 0
            },
            "primary_key_val": "unique_count"
           },
           {
            "displayer_args": {
             "displayer": "float",
             "maximumFractionDigits": 0,
             "minimumFractionDigits": 0
            },
            "primary_key_val": "distinct_count"
           },
           {
            "displayer_args": {
             "displayer": "float",
             "maximumFractionDigits": 0,
             "minimumFractionDigits": 0
            },
            "primary_key_val": "empty_count"
           }
          ]
         },
         "summary_stats_key": "all_stats"
        }
       },
       "df_meta": {
        "columns": 4,
        "rows_shown": 200,
        "total_rows": 200
       },
       "layout": "IPY_MODEL_5b171d0a852c4bc2a1b1c84931f948aa",
       "operation_results": {
        "generated_py_code": "# instantiation, unused",
        "transformed_df": {
         "column_config": [],
         "data": [],
         "pinned_rows": []
        }
       },
       "operations": []
      }
     },
     "ba5f6aed0f8944d39b08d355a82513c7": {
      "model_module": "@jupyter-widgets/base",
      "model_module_version": "2.0.0",
      "model_name": "LayoutModel",
      "state": {}
     },
     "d3deca9ee528446781a7b77d25e1699f": {
      "model_module": "buckaroo",
      "model_module_version": "^0.5.1",
      "model_name": "DCEFWidgetModel",
      "state": {
       "_model_module_version": "^0.5.1",
       "_view_module_version": "^0.5.1",
       "_view_name": "DCEFWidgetView",
       "buckaroo_options": {
        "auto_clean": [
         "aggressive",
         "conservative"
        ],
        "df_display": [
         "summary",
         "main",
         "everything",
         "Abrev"
        ],
        "post_processing": [
         ""
        ],
        "sampled": [
         "random"
        ],
        "show_commands": [
         "on"
        ],
        "summary_stats": [
         "all"
        ]
       },
       "buckaroo_state": {
        "auto_clean": "conservative",
        "df_display": "main",
        "post_processing": "",
        "sampled": false,
        "search_string": "",
        "show_commands": false
       },
       "commandConfig": {
        "argspecs": {
         "dropcol": [
          null
         ],
         "fillna": [
          [
           3,
           "fillVal",
           "type",
           "integer"
          ]
         ],
         "groupby": [
          [
           3,
           "colMap",
           "colEnum",
           [
            "null",
            "sum",
            "mean",
            "median",
            "count"
           ]
          ]
         ],
         "onehot": [
          null
         ],
         "reindex": [
          null
         ],
         "safeint": [
          null
         ],
         "to_bool": [
          null
         ],
         "to_datetime": [
          null
         ],
         "to_float": [
          null
         ],
         "to_int": [
          null
         ],
         "to_string": [
          null
         ]
        },
        "defaultArgs": {
         "dropcol": [
          {
           "symbol": "dropcol"
          },
          {
           "symbol": "df"
          },
          "col"
         ],
         "fillna": [
          {
           "symbol": "fillna"
          },
          {
           "symbol": "df"
          },
          "col",
          8
         ],
         "groupby": [
          {
           "symbol": "groupby"
          },
          {
           "symbol": "df"
          },
          "col",
          {}
         ],
         "onehot": [
          {
           "symbol": "onehot"
          },
          {
           "symbol": "df"
          },
          "col"
         ],
         "reindex": [
          {
           "symbol": "reindex"
          },
          {
           "symbol": "df"
          },
          "col"
         ],
         "safeint": [
          {
           "symbol": "safeint"
          },
          {
           "symbol": "df"
          },
          "col"
         ],
         "to_bool": [
          {
           "symbol": "to_bool"
          },
          {
           "symbol": "df"
          },
          "col"
         ],
         "to_datetime": [
          {
           "symbol": "to_datetime"
          },
          {
           "symbol": "df"
          },
          "col"
         ],
         "to_float": [
          {
           "symbol": "to_float"
          },
          {
           "symbol": "df"
          },
          "col"
         ],
         "to_int": [
          {
           "symbol": "to_int"
          },
          {
           "symbol": "df"
          },
          "col"
         ],
         "to_string": [
          {
           "symbol": "to_string"
          },
          {
           "symbol": "df"
          },
          "col"
         ]
        }
       },
       "df_data_dict": {
        "all_stats": [
         {
          "float_col": "shape: (29,)\nSeries: '' [struct[2]]\n[\n\t{40.0,11}\n\t{37.142857,11}\n\t{38.571429,10}\n\t{31.428571,9}\n\t{12.857143,9}\n\t{10.0,9}\n\t{14.285714,9}\n\t{4.285714,8}\n\t{21.428571,8}\n\t{27.142857,8}\n\t{32.857143,8}\n\t{24.285714,8}\n\t…\n\t{1.428571,6}\n\t{7.142857,6}\n\t{41.428571,6}\n\t{20.0,6}\n\t{5.714286,6}\n\t{28.571429,6}\n\t{17.142857,5}\n\t{2.857143,5}\n\t{35.714286,5}\n\t{30.0,4}\n\t{15.714286,4}\n\t{25.714286,4}\n\t{34.285714,3}\n]",
          "index": "value_counts",
          "int_col": "shape: (47,)\nSeries: '' [struct[2]]\n[\n\t{7,8}\n\t{11,8}\n\t{39,7}\n\t{16,7}\n\t{45,6}\n\t{10,6}\n\t{2,6}\n\t{48,6}\n\t{46,6}\n\t{9,6}\n\t{23,5}\n\t{34,5}\n\t…\n\t{21,3}\n\t{4,3}\n\t{18,3}\n\t{5,3}\n\t{26,3}\n\t{15,3}\n\t{29,3}\n\t{43,3}\n\t{33,2}\n\t{47,2}\n\t{25,2}\n\t{1,2}\n\t{44,1}\n]",
          "str_col": "shape: (5,)\nSeries: '' [struct[2]]\n[\n\t{\"foobar\",40}\n\t{\"Realllllly long string\",40}\n\t{\"\",40}\n\t{null,40}\n\t{\"normal\",40}\n]",
          "timestamp": "shape: (3,)\nSeries: '' [struct[2]]\n[\n\t{3,1}\n\t{4,1}\n\t{5,1}\n]"
         },
         {
          "float_col": 200,
          "index": "length",
          "int_col": 200,
          "str_col": 200,
          "timestamp": 200
         },
         {
          "float_col": 0,
          "index": "nan_count",
          "int_col": 0,
          "str_col": 40,
          "timestamp": 40
         },
         {
          "float_col": 1.4285714286,
          "index": "min",
          "int_col": 1,
          "str_col": "",
          "timestamp": null
         },
         {
          "float_col": 41.4285714286,
          "index": "max",
          "int_col": 49,
          "str_col": "normal",
          "timestamp": null
         },
         {
          "float_col": 22.0642857143,
          "index": "mean",
          "int_col": 24.335,
          "str_col": null,
          "timestamp": "2020-02-03T01:45:00.000Z"
         },
         {
          "float_col": 0,
          "index": "unique_count",
          "int_col": 1,
          "str_col": 0,
          "timestamp": 0
         },
         {
          "float_col": "Float64",
          "index": "dtype",
          "int_col": "Int64",
          "str_col": "String",
          "timestamp": "Datetime(time_unit='us', time_zone='UTC')"
         },
         {
          "float_col": {
           "high_tail": 41.4285714286,
           "low_tail": 1.4285714286,
           "meat_histogram": [
            [
             13,
             19,
             25,
             13,
             17,
             22,
             18,
             21,
             8,
             32
            ],
            [
             1.4285714286,
             5,
             9,
             13,
             17,
             21,
             25,
             29,
             33,
             37,
             41.4285714286
            ]
           ],
           "normalized_populations": [
            0.0691489362,
            0.1010638298,
            0.1329787234,
            0.0691489362,
            0.0904255319,
            0.1170212766,
            0.0957446809,
            0.1117021277,
            0.0425531915,
            0.170212766
           ]
          },
          "index": "histogram_args",
          "int_col": {
           "high_tail": 49,
           "low_tail": 2,
           "meat_histogram": [
            [
             14,
             31,
             19,
             18,
             17,
             18,
             16,
             19,
             17,
             20
            ],
            [
             2,
             6.7,
             11.4,
             16.1,
             20.8,
             25.5,
             30.2,
             34.9,
             39.6,
             44.3,
             49
            ]
           ],
           "normalized_populations": [
            0.0740740741,
            0.164021164,
            0.1005291005,
            0.0952380952,
            0.0899470899,
            0.0952380952,
            0.0846560847,
            0.1005291005,
            0.0899470899,
            0.1058201058
           ]
          },
          "str_col": null,
          "timestamp": null
         },
         {
          "float_col": true,
          "index": "is_numeric",
          "int_col": true,
          "str_col": false,
          "timestamp": false
         },
         {
          "float_col": false,
          "index": "is_integer",
          "int_col": true,
          "str_col": false,
          "timestamp": false
         },
         {
          "float_col": "float",
          "index": "_type",
          "int_col": "integer",
          "str_col": "string",
          "timestamp": "datetime"
         },
         {
          "float_col": 40,
          "index": "mode",
          "int_col": 7,
          "str_col": "foobar",
          "timestamp": null
         },
         {
          "float_col": 29,
          "index": "distinct_count",
          "int_col": 47,
          "str_col": 5,
          "timestamp": 0
         },
         {
          "float_col": "float",
          "index": "type",
          "int_col": "integer",
          "str_col": "string",
          "timestamp": "datetime"
         },
         {
          "float_col": 1,
          "index": "min_digits",
          "int_col": 1,
          "str_col": null,
          "timestamp": null
         },
         {
          "float_col": 2,
          "index": "max_digits",
          "int_col": 2,
          "str_col": null,
          "timestamp": null
         },
         {
          "float_col": 0.145,
          "index": "distinct_per",
          "int_col": 0.235,
          "str_col": 0.025,
          "timestamp": 0
         },
         {
          "float_col": 0,
          "index": "empty_per",
          "int_col": 0,
          "str_col": 0.2,
          "timestamp": 0
         },
         {
          "float_col": 0,
          "index": "unique_per",
          "int_col": 0.005,
          "str_col": 0,
          "timestamp": 0
         },
         {
          "float_col": 0,
          "index": "nan_per",
          "int_col": 0,
          "str_col": 0.2,
          "timestamp": 0.2
         },
         {
          "float_col": [
           {
            "name": "1.4285714285714286 - 1.4285714285714286",
            "tail": 1
           },
           {
            "name": "1-5",
            "population": 7
           },
           {
            "name": "5-9",
            "population": 10
           },
           {
            "name": "9-13",
            "population": 13
           },
           {
            "name": "13-17",
            "population": 7
           },
           {
            "name": "17-21",
            "population": 9
           },
           {
            "name": "21-25",
            "population": 12
           },
           {
            "name": "25-29",
            "population": 10
           },
           {
            "name": "29-33",
            "population": 11
           },
           {
            "name": "33-37",
            "population": 4
           },
           {
            "name": "37-41",
            "population": 17
           },
           {
            "name": "41.42857142857143 - 41.42857142857143",
            "tail": 1
           }
          ],
          "index": "histogram",
          "int_col": [
           {
            "name": "1 - 2.0",
            "tail": 1
           },
           {
            "name": "2-7",
            "population": 7
           },
           {
            "name": "7-11",
            "population": 16
           },
           {
            "name": "11-16",
            "population": 10
           },
           {
            "name": "16-21",
            "population": 10
           },
           {
            "name": "21-26",
            "population": 9
           },
           {
            "name": "26-30",
            "population": 10
           },
           {
            "name": "30-35",
            "population": 8
           },
           {
            "name": "35-40",
            "population": 10
           },
           {
            "name": "40-44",
            "population": 9
           },
           {
            "name": "44-49",
            "population": 11
           },
           {
            "name": "49.0 - 49",
            "tail": 1
           }
          ],
          "str_col": [
           {
            "cat_pop": 20,
            "name": "foobar"
           },
           {
            "cat_pop": 20,
            "name": "Realllllly long string"
           },
           {
            "cat_pop": 20,
            "name": ""
           },
           {
            "cat_pop": 20,
            "name": null
           },
           {
            "cat_pop": 20,
            "name": "normal"
           },
           {
            "NA": 20,
            "name": "NA"
           }
          ],
          "timestamp": [
           {
            "cat_pop": 33,
            "name": 3
           },
           {
            "cat_pop": 33,
            "name": 4
           },
           {
            "cat_pop": 33,
            "name": 5
           },
           {
            "name": "unique",
            "unique": 100
           },
           {
            "NA": 20,
            "name": "NA"
           }
          ]
         },
         {
          "float_col": [
           1.4285714286,
           5,
           9,
           13,
           17,
           21,
           25,
           29,
           33,
           37,
           41.4285714286
          ],
          "index": "histogram_bins",
          "int_col": [
           2,
           6.7,
           11.4,
           16.1,
           20.8,
           25.5,
           30.2,
           34.9,
           39.6,
           44.3,
           49
          ],
          "str_col": [
           "faked"
          ],
          "timestamp": [
           "faked"
          ]
         },
         {
          "float_col": null,
          "index": "formatter",
          "int_col": null,
          "str_col": null,
          "timestamp": "default"
         },
         {
          "float_col": null,
          "index": "categorical_histogram",
          "int_col": null,
          "str_col": {
           "": 0.2,
           "None": 0.2,
           "Realllllly long string": 0.2,
           "foobar": 0.2,
           "longtail": 0,
           "normal": 0.2,
           "unique": 0
          },
          "timestamp": {
           "3": 0.3333333333,
           "4": 0.3333333333,
           "5": 0.3333333333,
           "longtail": -1,
           "unique": 1
          }
         },
         {
          "float_col": null,
          "index": "empty_count",
          "int_col": null,
          "str_col": 40,
          "timestamp": null
         }
        ],
        "empty": [],
        "main": [
         {
          "float_col": 4.2857142857,
          "index": 0,
          "int_col": 23,
          "str_col": "foobar",
          "timestamp": "2020-01-01T01:00:00.000Z"
         },
         {
          "float_col": 4.2857142857,
          "index": 1,
          "int_col": 7,
          "str_col": "Realllllly long string",
          "timestamp": "2020-01-01T02:00:00.000Z"
         },
         {
          "float_col": 21.4285714286,
          "index": 2,
          "int_col": 38,
          "str_col": "",
          "timestamp": "2020-02-28T02:00:00.000Z"
         },
         {
          "float_col": 31.4285714286,
          "index": 3,
          "int_col": 45,
          "str_col": null,
          "timestamp": "2020-03-15T02:00:00.000Z"
         },
         {
          "float_col": 8.5714285714,
          "index": 4,
          "int_col": 6,
          "str_col": "normal",
          "timestamp": null
         },
         {
          "float_col": 18.5714285714,
          "index": 5,
          "int_col": 31,
          "str_col": "foobar",
          "timestamp": "2020-01-01T01:00:00.000Z"
         },
         {
          "float_col": 17.1428571429,
          "index": 6,
          "int_col": 45,
          "str_col": "Realllllly long string",
          "timestamp": "2020-01-01T02:00:00.000Z"
         },
         {
          "float_col": 22.8571428571,
          "index": 7,
          "int_col": 22,
          "str_col": "",
          "timestamp": "2020-02-28T02:00:00.000Z"
         },
         {
          "float_col": 27.1428571429,
          "index": 8,
          "int_col": 34,
          "str_col": null,
          "timestamp": "2020-03-15T02:00:00.000Z"
         },
         {
          "float_col": 21.4285714286,
          "index": 9,
          "int_col": 33,
          "str_col": "normal",
          "timestamp": null
         },
         {
          "float_col": 32.8571428571,
          "index": 10,
          "int_col": 36,
          "str_col": "foobar",
          "timestamp": "2020-01-01T01:00:00.000Z"
         },
         {
          "float_col": 1.4285714286,
          "index": 11,
          "int_col": 39,
          "str_col": "Realllllly long string",
          "timestamp": "2020-01-01T02:00:00.000Z"
         },
         {
          "float_col": 7.1428571429,
          "index": 12,
          "int_col": 6,
          "str_col": "",
          "timestamp": "2020-02-28T02:00:00.000Z"
         },
         {
          "float_col": 24.2857142857,
          "index": 13,
          "int_col": 49,
          "str_col": null,
          "timestamp": "2020-03-15T02:00:00.000Z"
         },
         {
          "float_col": 38.5714285714,
          "index": 14,
          "int_col": 19,
          "str_col": "normal",
          "timestamp": null
         },
         {
          "float_col": 40,
          "index": 15,
          "int_col": 20,
          "str_col": "foobar",
          "timestamp": "2020-01-01T01:00:00.000Z"
         },
         {
          "float_col": 30,
          "index": 16,
          "int_col": 8,
          "str_col": "Realllllly long string",
          "timestamp": "2020-01-01T02:00:00.000Z"
         },
         {
          "float_col": 22.8571428571,
          "index": 17,
          "int_col": 11,
          "str_col": "",
          "timestamp": "2020-02-28T02:00:00.000Z"
         },
         {
          "float_col": 38.5714285714,
          "index": 18,
          "int_col": 41,
          "str_col": null,
          "timestamp": "2020-03-15T02:00:00.000Z"
         },
         {
          "float_col": 15.7142857143,
          "index": 19,
          "int_col": 24,
          "str_col": "normal",
          "timestamp": null
         },
         {
          "float_col": 41.4285714286,
          "index": 20,
          "int_col": 10,
          "str_col": "foobar",
          "timestamp": "2020-01-01T01:00:00.000Z"
         },
         {
          "float_col": 24.2857142857,
          "index": 21,
          "int_col": 17,
          "str_col": "Realllllly long string",
          "timestamp": "2020-01-01T02:00:00.000Z"
         },
         {
          "float_col": 2.8571428571,
          "index": 22,
          "int_col": 7,
          "str_col": "",
          "timestamp": "2020-02-28T02:00:00.000Z"
         },
         {
          "float_col": 12.8571428571,
          "index": 23,
          "int_col": 16,
          "str_col": null,
          "timestamp": "2020-03-15T02:00:00.000Z"
         },
         {
          "float_col": 7.1428571429,
          "index": 24,
          "int_col": 37,
          "str_col": "normal",
          "timestamp": null
         },
         {
          "float_col": 17.1428571429,
          "index": 25,
          "int_col": 33,
          "str_col": "foobar",
          "timestamp": "2020-01-01T01:00:00.000Z"
         },
         {
          "float_col": 40,
          "index": 26,
          "int_col": 22,
          "str_col": "Realllllly long string",
          "timestamp": "2020-01-01T02:00:00.000Z"
         },
         {
          "float_col": 22.8571428571,
          "index": 27,
          "int_col": 42,
          "str_col": "",
          "timestamp": "2020-02-28T02:00:00.000Z"
         },
         {
          "float_col": 21.4285714286,
          "index": 28,
          "int_col": 16,
          "str_col": null,
          "timestamp": "2020-03-15T02:00:00.000Z"
         },
         {
          "float_col": 37.1428571429,
          "index": 29,
          "int_col": 2,
          "str_col": "normal",
          "timestamp": null
         },
         {
          "float_col": 20,
          "index": 30,
          "int_col": 7,
          "str_col": "foobar",
          "timestamp": "2020-01-01T01:00:00.000Z"
         },
         {
          "float_col": 21.4285714286,
          "index": 31,
          "int_col": 23,
          "str_col": "Realllllly long string",
          "timestamp": "2020-01-01T02:00:00.000Z"
         },
         {
          "float_col": 40,
          "index": 32,
          "int_col": 34,
          "str_col": "",
          "timestamp": "2020-02-28T02:00:00.000Z"
         },
         {
          "float_col": 18.5714285714,
          "index": 33,
          "int_col": 39,
          "str_col": null,
          "timestamp": "2020-03-15T02:00:00.000Z"
         },
         {
          "float_col": 7.1428571429,
          "index": 34,
          "int_col": 34,
          "str_col": "normal",
          "timestamp": null
         },
         {
          "float_col": 21.4285714286,
          "index": 35,
          "int_col": 47,
          "str_col": "foobar",
          "timestamp": "2020-01-01T01:00:00.000Z"
         },
         {
          "float_col": 17.1428571429,
          "index": 36,
          "int_col": 42,
          "str_col": "Realllllly long string",
          "timestamp": "2020-01-01T02:00:00.000Z"
         },
         {
          "float_col": 31.4285714286,
          "index": 37,
          "int_col": 36,
          "str_col": "",
          "timestamp": "2020-02-28T02:00:00.000Z"
         },
         {
          "float_col": 30,
          "index": 38,
          "int_col": 41,
          "str_col": null,
          "timestamp": "2020-03-15T02:00:00.000Z"
         },
         {
          "float_col": 7.1428571429,
          "index": 39,
          "int_col": 6,
          "str_col": "normal",
          "timestamp": null
         },
         {
          "float_col": 21.4285714286,
          "index": 40,
          "int_col": 19,
          "str_col": "foobar",
          "timestamp": "2020-01-01T01:00:00.000Z"
         },
         {
          "float_col": 11.4285714286,
          "index": 41,
          "int_col": 41,
          "str_col": "Realllllly long string",
          "timestamp": "2020-01-01T02:00:00.000Z"
         },
         {
          "float_col": 11.4285714286,
          "index": 42,
          "int_col": 48,
          "str_col": "",
          "timestamp": "2020-02-28T02:00:00.000Z"
         },
         {
          "float_col": 2.8571428571,
          "index": 43,
          "int_col": 48,
          "str_col": null,
          "timestamp": "2020-03-15T02:00:00.000Z"
         },
         {
          "float_col": 31.4285714286,
          "index": 44,
          "int_col": 7,
          "str_col": "normal",
          "timestamp": null
         },
         {
          "float_col": 8.5714285714,
          "index": 45,
          "int_col": 10,
          "str_col": "foobar",
          "timestamp": "2020-01-01T01:00:00.000Z"
         },
         {
          "float_col": 12.8571428571,
          "index": 46,
          "int_col": 45,
          "str_col": "Realllllly long string",
          "timestamp": "2020-01-01T02:00:00.000Z"
         },
         {
          "float_col": 27.1428571429,
          "index": 47,
          "int_col": 46,
          "str_col": "",
          "timestamp": "2020-02-28T02:00:00.000Z"
         },
         {
          "float_col": 20,
          "index": 48,
          "int_col": 7,
          "str_col": null,
          "timestamp": "2020-03-15T02:00:00.000Z"
         },
         {
          "float_col": 5.7142857143,
          "index": 49,
          "int_col": 11,
          "str_col": "normal",
          "timestamp": null
         },
         {
          "float_col": 12.8571428571,
          "index": 50,
          "int_col": 13,
          "str_col": "foobar",
          "timestamp": "2020-01-01T01:00:00.000Z"
         },
         {
          "float_col": 40,
          "index": 51,
          "int_col": 27,
          "str_col": "Realllllly long string",
          "timestamp": "2020-01-01T02:00:00.000Z"
         },
         {
          "float_col": 38.5714285714,
          "index": 52,
          "int_col": 28,
          "str_col": "",
          "timestamp": "2020-02-28T02:00:00.000Z"
         },
         {
          "float_col": 5.7142857143,
          "index": 53,
          "int_col": 16,
          "str_col": null,
          "timestamp": "2020-03-15T02:00:00.000Z"
         },
         {
          "float_col": 20,
          "index": 54,
          "int_col": 12,
          "str_col": "normal",
          "timestamp": null
         },
         {
          "float_col": 10,
          "index": 55,
          "int_col": 21,
          "str_col": "foobar",
          "timestamp": "2020-01-01T01:00:00.000Z"
         },
         {
          "float_col": 40,
          "index": 56,
          "int_col": 4,
          "str_col": "Realllllly long string",
          "timestamp": "2020-01-01T02:00:00.000Z"
         },
         {
          "float_col": 24.2857142857,
          "index": 57,
          "int_col": 18,
          "str_col": "",
          "timestamp": "2020-02-28T02:00:00.000Z"
         },
         {
          "float_col": 40,
          "index": 58,
          "int_col": 37,
          "str_col": null,
          "timestamp": "2020-03-15T02:00:00.000Z"
         },
         {
          "float_col": 37.1428571429,
          "index": 59,
          "int_col": 10,
          "str_col": "normal",
          "timestamp": null
         },
         {
          "float_col": 28.5714285714,
          "index": 60,
          "int_col": 5,
          "str_col": "foobar",
          "timestamp": "2020-01-01T01:00:00.000Z"
         },
         {
          "float_col": 4.2857142857,
          "index": 61,
          "int_col": 49,
          "str_col": "Realllllly long string",
          "timestamp": "2020-01-01T02:00:00.000Z"
         },
         {
          "float_col": 28.5714285714,
          "index": 62,
          "int_col": 25,
          "str_col": "",
          "timestamp": "2020-02-28T02:00:00.000Z"
         },
         {
          "float_col": 8.5714285714,
          "index": 63,
          "int_col": 30,
          "str_col": null,
          "timestamp": "2020-03-15T02:00:00.000Z"
         },
         {
          "float_col": 32.8571428571,
          "index": 64,
          "int_col": 26,
          "str_col": "normal",
          "timestamp": null
         },
         {
          "float_col": 14.2857142857,
          "index": 65,
          "int_col": 7,
          "str_col": "foobar",
          "timestamp": "2020-01-01T01:00:00.000Z"
         },
         {
          "float_col": 10,
          "index": 66,
          "int_col": 22,
          "str_col": "Realllllly long string",
          "timestamp": "2020-01-01T02:00:00.000Z"
         },
         {
          "float_col": 34.2857142857,
          "index": 67,
          "int_col": 3,
          "str_col": "",
          "timestamp": "2020-02-28T02:00:00.000Z"
         },
         {
          "float_col": 14.2857142857,
          "index": 68,
          "int_col": 17,
          "str_col": null,
          "timestamp": "2020-03-15T02:00:00.000Z"
         },
         {
          "float_col": 8.5714285714,
          "index": 69,
          "int_col": 2,
          "str_col": "normal",
          "timestamp": null
         },
         {
          "float_col": 15.7142857143,
          "index": 70,
          "int_col": 11,
          "str_col": "foobar",
          "timestamp": "2020-01-01T01:00:00.000Z"
         },
         {
          "float_col": 25.7142857143,
          "index": 71,
          "int_col": 31,
          "str_col": "Realllllly long string",
          "timestamp": "2020-01-01T02:00:00.000Z"
         },
         {
          "float_col": 21.4285714286,
          "index": 72,
          "int_col": 23,
          "str_col": "",
          "timestamp": "2020-02-28T02:00:00.000Z"
         },
         {
          "float_col": 28.5714285714,
          "index": 73,
          "int_col": 46,
          "str_col": null,
          "timestamp": "2020-03-15T02:00:00.000Z"
         },
         {
          "float_col": 12.8571428571,
          "index": 74,
          "int_col": 2,
          "str_col": "normal",
          "timestamp": null
         },
         {
          "float_col": 27.1428571429,
          "index": 75,
          "int_col": 30,
          "str_col": "foobar",
          "timestamp": "2020-01-01T01:00:00.000Z"
         },
         {
          "float_col": 18.5714285714,
          "index": 76,
          "int_col": 24,
          "str_col": "Realllllly long string",
          "timestamp": "2020-01-01T02:00:00.000Z"
         },
         {
          "float_col": 20,
          "index": 77,
          "int_col": 12,
          "str_col": "",
          "timestamp": "2020-02-28T02:00:00.000Z"
         },
         {
          "float_col": 30,
          "index": 78,
          "int_col": 7,
          "str_col": null,
          "timestamp": "2020-03-15T02:00:00.000Z"
         },
         {
          "float_col": 14.2857142857,
          "index": 79,
          "int_col": 8,
          "str_col": "normal",
          "timestamp": null
         },
         {
          "float_col": 22.8571428571,
          "index": 80,
          "int_col": 11,
          "str_col": "foobar",
          "timestamp": "2020-01-01T01:00:00.000Z"
         },
         {
          "float_col": 28.5714285714,
          "index": 81,
          "int_col": 38,
          "str_col": "Realllllly long string",
          "timestamp": "2020-01-01T02:00:00.000Z"
         },
         {
          "float_col": 2.8571428571,
          "index": 82,
          "int_col": 15,
          "str_col": "",
          "timestamp": "2020-02-28T02:00:00.000Z"
         },
         {
          "float_col": 41.4285714286,
          "index": 83,
          "int_col": 21,
          "str_col": null,
          "timestamp": "2020-03-15T02:00:00.000Z"
         },
         {
          "float_col": 35.7142857143,
          "index": 84,
          "int_col": 40,
          "str_col": "normal",
          "timestamp": null
         },
         {
          "float_col": 5.7142857143,
          "index": 85,
          "int_col": 1,
          "str_col": "foobar",
          "timestamp": "2020-01-01T01:00:00.000Z"
         },
         {
          "float_col": 5.7142857143,
          "index": 86,
          "int_col": 12,
          "str_col": "Realllllly long string",
          "timestamp": "2020-01-01T02:00:00.000Z"
         },
         {
          "float_col": 20,
          "index": 87,
          "int_col": 39,
          "str_col": "",
          "timestamp": "2020-02-28T02:00:00.000Z"
         },
         {
          "float_col": 12.8571428571,
          "index": 88,
          "int_col": 25,
          "str_col": null,
          "timestamp": "2020-03-15T02:00:00.000Z"
         },
         {
          "float_col": 14.2857142857,
          "index": 89,
          "int_col": 5,
          "str_col": "normal",
          "timestamp": null
         },
         {
          "float_col": 34.2857142857,
          "index": 90,
          "int_col": 18,
          "str_col": "foobar",
          "timestamp": "2020-01-01T01:00:00.000Z"
         },
         {
          "float_col": 17.1428571429,
          "index": 91,
          "int_col": 45,
          "str_col": "Realllllly long string",
          "timestamp": "2020-01-01T02:00:00.000Z"
         },
         {
          "float_col": 31.4285714286,
          "index": 92,
          "int_col": 41,
          "str_col": "",
          "timestamp": "2020-02-28T02:00:00.000Z"
         },
         {
          "float_col": 25.7142857143,
          "index": 93,
          "int_col": 28,
          "str_col": null,
          "timestamp": "2020-03-15T02:00:00.000Z"
         },
         {
          "float_col": 38.5714285714,
          "index": 94,
          "int_col": 16,
          "str_col": "normal",
          "timestamp": null
         },
         {
          "float_col": 12.8571428571,
          "index": 95,
          "int_col": 38,
          "str_col": "foobar",
          "timestamp": "2020-01-01T01:00:00.000Z"
         },
         {
          "float_col": 27.1428571429,
          "index": 96,
          "int_col": 49,
          "str_col": "Realllllly long string",
          "timestamp": "2020-01-01T02:00:00.000Z"
         },
         {
          "float_col": 32.8571428571,
          "index": 97,
          "int_col": 20,
          "str_col": "",
          "timestamp": "2020-02-28T02:00:00.000Z"
         },
         {
          "float_col": 14.2857142857,
          "index": 98,
          "int_col": 46,
          "str_col": null,
          "timestamp": "2020-03-15T02:00:00.000Z"
         },
         {
          "float_col": 20,
          "index": 99,
          "int_col": 20,
          "str_col": "normal",
          "timestamp": null
         },
         {
          "float_col": 38.5714285714,
          "index": 100,
          "int_col": 48,
          "str_col": "foobar",
          "timestamp": "2020-01-01T01:00:00.000Z"
         },
         {
          "float_col": 10,
          "index": 101,
          "int_col": 11,
          "str_col": "Realllllly long string",
          "timestamp": "2020-01-01T02:00:00.000Z"
         },
         {
          "float_col": 35.7142857143,
          "index": 102,
          "int_col": 16,
          "str_col": "",
          "timestamp": "2020-02-28T02:00:00.000Z"
         },
         {
          "float_col": 38.5714285714,
          "index": 103,
          "int_col": 31,
          "str_col": null,
          "timestamp": "2020-03-15T02:00:00.000Z"
         },
         {
          "float_col": 1.4285714286,
          "index": 104,
          "int_col": 21,
          "str_col": "normal",
          "timestamp": null
         },
         {
          "float_col": 38.5714285714,
          "index": 105,
          "int_col": 40,
          "str_col": "foobar",
          "timestamp": "2020-01-01T01:00:00.000Z"
         },
         {
          "float_col": 35.7142857143,
          "index": 106,
          "int_col": 48,
          "str_col": "Realllllly long string",
          "timestamp": "2020-01-01T02:00:00.000Z"
         },
         {
          "float_col": 4.2857142857,
          "index": 107,
          "int_col": 27,
          "str_col": "",
          "timestamp": "2020-02-28T02:00:00.000Z"
         },
         {
          "float_col": 14.2857142857,
          "index": 108,
          "int_col": 23,
          "str_col": null,
          "timestamp": "2020-03-15T02:00:00.000Z"
         },
         {
          "float_col": 32.8571428571,
          "index": 109,
          "int_col": 10,
          "str_col": "normal",
          "timestamp": null
         },
         {
          "float_col": 24.2857142857,
          "index": 110,
          "int_col": 17,
          "str_col": "foobar",
          "timestamp": "2020-01-01T01:00:00.000Z"
         },
         {
          "float_col": 8.5714285714,
          "index": 111,
          "int_col": 3,
          "str_col": "Realllllly long string",
          "timestamp": "2020-01-01T02:00:00.000Z"
         },
         {
          "float_col": 27.1428571429,
          "index": 112,
          "int_col": 10,
          "str_col": "",
          "timestamp": "2020-02-28T02:00:00.000Z"
         },
         {
          "float_col": 31.4285714286,
          "index": 113,
          "int_col": 17,
          "str_col": null,
          "timestamp": "2020-03-15T02:00:00.000Z"
         },
         {
          "float_col": 2.8571428571,
          "index": 114,
          "int_col": 27,
          "str_col": "normal",
          "timestamp": null
         },
         {
          "float_col": 40,
          "index": 115,
          "int_col": 3,
          "str_col": "foobar",
          "timestamp": "2020-01-01T01:00:00.000Z"
         },
         {
          "float_col": 37.1428571429,
          "index": 116,
          "int_col": 42,
          "str_col": "Realllllly long string",
          "timestamp": "2020-01-01T02:00:00.000Z"
         },
         {
          "float_col": 12.8571428571,
          "index": 117,
          "int_col": 27,
          "str_col": "",
          "timestamp": "2020-02-28T02:00:00.000Z"
         },
         {
          "float_col": 24.2857142857,
          "index": 118,
          "int_col": 32,
          "str_col": null,
          "timestamp": "2020-03-15T02:00:00.000Z"
         },
         {
          "float_col": 35.7142857143,
          "index": 119,
          "int_col": 39,
          "str_col": "normal",
          "timestamp": null
         },
         {
          "float_col": 37.1428571429,
          "index": 120,
          "int_col": 11,
          "str_col": "foobar",
          "timestamp": "2020-01-01T01:00:00.000Z"
         },
         {
          "float_col": 27.1428571429,
          "index": 121,
          "int_col": 9,
          "str_col": "Realllllly long string",
          "timestamp": "2020-01-01T02:00:00.000Z"
         },
         {
          "float_col": 37.1428571429,
          "index": 122,
          "int_col": 17,
          "str_col": "",
          "timestamp": "2020-02-28T02:00:00.000Z"
         },
         {
          "float_col": 22.8571428571,
          "index": 123,
          "int_col": 23,
          "str_col": null,
          "timestamp": "2020-03-15T02:00:00.000Z"
         },
         {
          "float_col": 40,
          "index": 124,
          "int_col": 13,
          "str_col": "normal",
          "timestamp": null
         },
         {
          "float_col": 14.2857142857,
          "index": 125,
          "int_col": 45,
          "str_col": "foobar",
          "timestamp": "2020-01-01T01:00:00.000Z"
         },
         {
          "float_col": 10,
          "index": 126,
          "int_col": 11,
          "str_col": "Realllllly long string",
          "timestamp": "2020-01-01T02:00:00.000Z"
         },
         {
          "float_col": 10,
          "index": 127,
          "int_col": 13,
          "str_col": "",
          "timestamp": "2020-02-28T02:00:00.000Z"
         },
         {
          "float_col": 1.4285714286,
          "index": 128,
          "int_col": 20,
          "str_col": null,
          "timestamp": "2020-03-15T02:00:00.000Z"
         },
         {
          "float_col": 25.7142857143,
          "index": 129,
          "int_col": 20,
          "str_col": "normal",
          "timestamp": null
         },
         {
          "float_col": 31.4285714286,
          "index": 130,
          "int_col": 16,
          "str_col": "foobar",
          "timestamp": "2020-01-01T01:00:00.000Z"
         },
         {
          "float_col": 37.1428571429,
          "index": 131,
          "int_col": 3,
          "str_col": "Realllllly long string",
          "timestamp": "2020-01-01T02:00:00.000Z"
         },
         {
          "float_col": 21.4285714286,
          "index": 132,
          "int_col": 26,
          "str_col": "",
          "timestamp": "2020-02-28T02:00:00.000Z"
         },
         {
          "float_col": 1.4285714286,
          "index": 133,
          "int_col": 36,
          "str_col": null,
          "timestamp": "2020-03-15T02:00:00.000Z"
         },
         {
          "float_col": 15.7142857143,
          "index": 134,
          "int_col": 42,
          "str_col": "normal",
          "timestamp": null
         },
         {
          "float_col": 4.2857142857,
          "index": 135,
          "int_col": 34,
          "str_col": "foobar",
          "timestamp": "2020-01-01T01:00:00.000Z"
         },
         {
          "float_col": 7.1428571429,
          "index": 136,
          "int_col": 32,
          "str_col": "Realllllly long string",
          "timestamp": "2020-01-01T02:00:00.000Z"
         },
         {
          "float_col": 31.4285714286,
          "index": 137,
          "int_col": 46,
          "str_col": "",
          "timestamp": "2020-02-28T02:00:00.000Z"
         },
         {
          "float_col": 27.1428571429,
          "index": 138,
          "int_col": 40,
          "str_col": null,
          "timestamp": "2020-03-15T02:00:00.000Z"
         },
         {
          "float_col": 24.2857142857,
          "index": 139,
          "int_col": 44,
          "str_col": "normal",
          "timestamp": null
         },
         {
          "float_col": 8.5714285714,
          "index": 140,
          "int_col": 31,
          "str_col": "foobar",
          "timestamp": "2020-01-01T01:00:00.000Z"
         },
         {
          "float_col": 4.2857142857,
          "index": 141,
          "int_col": 46,
          "str_col": "Realllllly long string",
          "timestamp": "2020-01-01T02:00:00.000Z"
         },
         {
          "float_col": 12.8571428571,
          "index": 142,
          "int_col": 2,
          "str_col": "",
          "timestamp": "2020-02-28T02:00:00.000Z"
         },
         {
          "float_col": 10,
          "index": 143,
          "int_col": 40,
          "str_col": null,
          "timestamp": "2020-03-15T02:00:00.000Z"
         },
         {
          "float_col": 40,
          "index": 144,
          "int_col": 9,
          "str_col": "normal",
          "timestamp": null
         },
         {
          "float_col": 4.2857142857,
          "index": 145,
          "int_col": 2,
          "str_col": "foobar",
          "timestamp": "2020-01-01T01:00:00.000Z"
         },
         {
          "float_col": 4.2857142857,
          "index": 146,
          "int_col": 3,
          "str_col": "Realllllly long string",
          "timestamp": "2020-01-01T02:00:00.000Z"
         },
         {
          "float_col": 10,
          "index": 147,
          "int_col": 4,
          "str_col": "",
          "timestamp": "2020-02-28T02:00:00.000Z"
         },
         {
          "float_col": 11.4285714286,
          "index": 148,
          "int_col": 37,
          "str_col": null,
          "timestamp": "2020-03-15T02:00:00.000Z"
         },
         {
          "float_col": 37.1428571429,
          "index": 149,
          "int_col": 36,
          "str_col": "normal",
          "timestamp": null
         },
         {
          "float_col": 40,
          "index": 150,
          "int_col": 13,
          "str_col": "foobar",
          "timestamp": "2020-01-01T01:00:00.000Z"
         },
         {
          "float_col": 41.4285714286,
          "index": 151,
          "int_col": 45,
          "str_col": "Realllllly long string",
          "timestamp": "2020-01-01T02:00:00.000Z"
         },
         {
          "float_col": 24.2857142857,
          "index": 152,
          "int_col": 24,
          "str_col": "",
          "timestamp": "2020-02-28T02:00:00.000Z"
         },
         {
          "float_col": 11.4285714286,
          "index": 153,
          "int_col": 18,
          "str_col": null,
          "timestamp": "2020-03-15T02:00:00.000Z"
         },
         {
          "float_col": 17.1428571429,
          "index": 154,
          "int_col": 32,
          "str_col": "normal",
          "timestamp": null
         },
         {
          "float_col": 18.5714285714,
          "index": 155,
          "int_col": 15,
          "str_col": "foobar",
          "timestamp": "2020-01-01T01:00:00.000Z"
         },
         {
          "float_col": 8.5714285714,
          "index": 156,
          "int_col": 9,
          "str_col": "Realllllly long string",
          "timestamp": "2020-01-01T02:00:00.000Z"
         },
         {
          "float_col": 10,
          "index": 157,
          "int_col": 9,
          "str_col": "",
          "timestamp": "2020-02-28T02:00:00.000Z"
         },
         {
          "float_col": 15.7142857143,
          "index": 158,
          "int_col": 9,
          "str_col": null,
          "timestamp": "2020-03-15T02:00:00.000Z"
         },
         {
          "float_col": 11.4285714286,
          "index": 159,
          "int_col": 39,
          "str_col": "normal",
          "timestamp": null
         },
         {
          "float_col": 2.8571428571,
          "index": 160,
          "int_col": 29,
          "str_col": "foobar",
          "timestamp": "2020-01-01T01:00:00.000Z"
         },
         {
          "float_col": 1.4285714286,
          "index": 161,
          "int_col": 32,
          "str_col": "Realllllly long string",
          "timestamp": "2020-01-01T02:00:00.000Z"
         },
         {
          "float_col": 41.4285714286,
          "index": 162,
          "int_col": 19,
          "str_col": "",
          "timestamp": "2020-02-28T02:00:00.000Z"
         },
         {
          "float_col": 25.7142857143,
          "index": 163,
          "int_col": 30,
          "str_col": null,
          "timestamp": "2020-03-15T02:00:00.000Z"
         },
         {
          "float_col": 28.5714285714,
          "index": 164,
          "int_col": 43,
          "str_col": "normal",
          "timestamp": null
         },
         {
          "float_col": 18.5714285714,
          "index": 165,
          "int_col": 9,
          "str_col": "foobar",
          "timestamp": "2020-01-01T01:00:00.000Z"
         },
         {
          "float_col": 5.7142857143,
          "index": 166,
          "int_col": 7,
          "str_col": "Realllllly long string",
          "timestamp": "2020-01-01T02:00:00.000Z"
         },
         {
          "float_col": 10,
          "index": 167,
          "int_col": 36,
          "str_col": "",
          "timestamp": "2020-02-28T02:00:00.000Z"
         },
         {
          "float_col": 14.2857142857,
          "index": 168,
          "int_col": 22,
          "str_col": null,
          "timestamp": "2020-03-15T02:00:00.000Z"
         },
         {
          "float_col": 37.1428571429,
          "index": 169,
          "int_col": 39,
          "str_col": "normal",
          "timestamp": null
         },
         {
          "float_col": 30,
          "index": 170,
          "int_col": 13,
          "str_col": "foobar",
          "timestamp": "2020-01-01T01:00:00.000Z"
         },
         {
          "float_col": 32.8571428571,
          "index": 171,
          "int_col": 26,
          "str_col": "Realllllly long string",
          "timestamp": "2020-01-01T02:00:00.000Z"
         },
         {
          "float_col": 40,
          "index": 172,
          "int_col": 46,
          "str_col": "",
          "timestamp": "2020-02-28T02:00:00.000Z"
         },
         {
          "float_col": 37.1428571429,
          "index": 173,
          "int_col": 48,
          "str_col": null,
          "timestamp": "2020-03-15T02:00:00.000Z"
         },
         {
          "float_col": 22.8571428571,
          "index": 174,
          "int_col": 47,
          "str_col": "normal",
          "timestamp": null
         },
         {
          "float_col": 35.7142857143,
          "index": 175,
          "int_col": 43,
          "str_col": "foobar",
          "timestamp": "2020-01-01T01:00:00.000Z"
         },
         {
          "float_col": 38.5714285714,
          "index": 176,
          "int_col": 12,
          "str_col": "Realllllly long string",
          "timestamp": "2020-01-01T02:00:00.000Z"
         },
         {
          "float_col": 31.4285714286,
          "index": 177,
          "int_col": 2,
          "str_col": "",
          "timestamp": "2020-02-28T02:00:00.000Z"
         },
         {
          "float_col": 11.4285714286,
          "index": 178,
          "int_col": 15,
          "str_col": null,
          "timestamp": "2020-03-15T02:00:00.000Z"
         },
         {
          "float_col": 32.8571428571,
          "index": 179,
          "int_col": 1,
          "str_col": "normal",
          "timestamp": null
         },
         {
          "float_col": 27.1428571429,
          "index": 180,
          "int_col": 28,
          "str_col": "foobar",
          "timestamp": "2020-01-01T01:00:00.000Z"
         },
         {
          "float_col": 32.8571428571,
          "index": 181,
          "int_col": 27,
          "str_col": "Realllllly long string",
          "timestamp": "2020-01-01T02:00:00.000Z"
         },
         {
          "float_col": 12.8571428571,
          "index": 182,
          "int_col": 39,
          "str_col": "",
          "timestamp": "2020-02-28T02:00:00.000Z"
         },
         {
          "float_col": 41.4285714286,
          "index": 183,
          "int_col": 8,
          "str_col": null,
          "timestamp": "2020-03-15T02:00:00.000Z"
         },
         {
          "float_col": 31.4285714286,
          "index": 184,
          "int_col": 29,
          "str_col": "normal",
          "timestamp": null
         },
         {
          "float_col": 41.4285714286,
          "index": 185,
          "int_col": 43,
          "str_col": "foobar",
          "timestamp": "2020-01-01T01:00:00.000Z"
         },
         {
          "float_col": 24.2857142857,
          "index": 186,
          "int_col": 37,
          "str_col": "Realllllly long string",
          "timestamp": "2020-01-01T02:00:00.000Z"
         },
         {
          "float_col": 38.5714285714,
          "index": 187,
          "int_col": 48,
          "str_col": "",
          "timestamp": "2020-02-28T02:00:00.000Z"
         },
         {
          "float_col": 37.1428571429,
          "index": 188,
          "int_col": 11,
          "str_col": null,
          "timestamp": "2020-03-15T02:00:00.000Z"
         },
         {
          "float_col": 32.8571428571,
          "index": 189,
          "int_col": 32,
          "str_col": "normal",
          "timestamp": null
         },
         {
          "float_col": 37.1428571429,
          "index": 190,
          "int_col": 30,
          "str_col": "foobar",
          "timestamp": "2020-01-01T01:00:00.000Z"
         },
         {
          "float_col": 38.5714285714,
          "index": 191,
          "int_col": 29,
          "str_col": "Realllllly long string",
          "timestamp": "2020-01-01T02:00:00.000Z"
         },
         {
          "float_col": 11.4285714286,
          "index": 192,
          "int_col": 34,
          "str_col": "",
          "timestamp": "2020-02-28T02:00:00.000Z"
         },
         {
          "float_col": 34.2857142857,
          "index": 193,
          "int_col": 4,
          "str_col": null,
          "timestamp": "2020-03-15T02:00:00.000Z"
         },
         {
          "float_col": 7.1428571429,
          "index": 194,
          "int_col": 5,
          "str_col": "normal",
          "timestamp": null
         },
         {
          "float_col": 18.5714285714,
          "index": 195,
          "int_col": 16,
          "str_col": "foobar",
          "timestamp": "2020-01-01T01:00:00.000Z"
         },
         {
          "float_col": 28.5714285714,
          "index": 196,
          "int_col": 10,
          "str_col": "Realllllly long string",
          "timestamp": "2020-01-01T02:00:00.000Z"
         },
         {
          "float_col": 14.2857142857,
          "index": 197,
          "int_col": 19,
          "str_col": "",
          "timestamp": "2020-02-28T02:00:00.000Z"
         },
         {
          "float_col": 1.4285714286,
          "index": 198,
          "int_col": 40,
          "str_col": null,
          "timestamp": "2020-03-15T02:00:00.000Z"
         },
         {
          "float_col": 5.7142857143,
          "index": 199,
          "int_col": 19,
          "str_col": "normal",
          "timestamp": null
         }
        ]
       },
       "df_display_args": {
        "Abrev": {
         "data_key": "main",
         "df_viewer_config": {
          "column_config": [
           {
            "col_name": "index",
            "displayer_args": {
             "displayer": "obj"
            }
           },
           {
            "col_name": "int_col",
            "displayer_args": {
             "displayer": "float",
             "max_fraction_digits": 0,
             "min_fraction_digits": 0
            }
           },
           {
            "col_name": "float_col",
            "displayer_args": {
             "displayer": "float",
             "max_fraction_digits": 3,
             "min_fraction_digits": 3
            }
           },
           {
            "col_name": "timestamp",
            "displayer_args": {
             "args": {},
             "displayer": "datetimeLocaleString",
             "locale": "en-US"
            }
           },
           {
            "col_name": "str_col",
            "displayer_args": {
             "displayer": "string",
             "max_length": 15
            }
           }
          ],
          "pinned_rows": [
           {
            "displayer_args": {
             "displayer": "obj"
            },
            "primary_key_val": "dtype"
           }
          ]
         },
         "summary_stats_key": "all_stats"
        },
        "everything": {
         "data_key": "main",
         "df_viewer_config": {
          "column_config": [
           {
            "col_name": "index",
            "displayer_args": {
             "displayer": "obj"
            }
           },
           {
            "col_name": "int_col",
            "displayer_args": {
             "displayer": "float",
             "max_fraction_digits": 0,
             "min_fraction_digits": 0
            }
           },
           {
            "col_name": "float_col",
            "displayer_args": {
             "displayer": "float",
             "max_fraction_digits": 10,
             "min_fraction_digits": 10
            }
           },
           {
            "col_name": "timestamp",
            "displayer_args": {
             "displayer": "datetimeDefault"
            }
           },
           {
            "col_name": "str_col",
            "displayer_args": {
             "displayer": "string"
            }
           }
          ],
          "pinned_rows": [
           {
            "displayer_args": {
             "displayer": "obj"
            },
            "primary_key_val": "dtype"
           }
          ]
         },
         "summary_stats_key": "all_stats"
        },
        "main": {
         "data_key": "main",
         "df_viewer_config": {
          "column_config": [
           {
            "col_name": "index",
            "displayer_args": {
             "displayer": "obj"
            }
           },
           {
            "col_name": "int_col",
            "displayer_args": {
             "displayer": "float",
             "maximumFractionDigits": 0,
             "minimumFractionDigits": 0
            }
           },
           {
            "col_name": "float_col",
            "displayer_args": {
             "displayer": "float",
             "maximumFractionDigits": 3,
             "minimumFractionDigits": 3
            }
           },
           {
            "col_name": "timestamp",
            "displayer_args": {
             "displayer": "obj"
            }
           },
           {
            "col_name": "str_col",
            "displayer_args": {
             "displayer": "obj"
            }
           }
          ],
          "pinned_rows": [
           {
            "displayer_args": {
             "displayer": "obj"
            },
            "primary_key_val": "dtype"
           },
           {
            "displayer_args": {
             "displayer": "histogram"
            },
            "primary_key_val": "histogram"
           }
          ]
         },
         "summary_stats_key": "all_stats"
        },
        "summary": {
         "data_key": "empty",
         "df_viewer_config": {
          "column_config": [
           {
            "col_name": "index",
            "displayer_args": {
             "displayer": "obj"
            }
           },
           {
            "col_name": "int_col",
            "displayer_args": {
             "displayer": "obj"
            }
           },
           {
            "col_name": "float_col",
            "displayer_args": {
             "displayer": "obj"
            }
           },
           {
            "col_name": "timestamp",
            "displayer_args": {
             "displayer": "obj"
            }
           },
           {
            "col_name": "str_col",
            "displayer_args": {
             "displayer": "obj"
            }
           }
          ],
          "pinned_rows": [
           {
            "displayer_args": {
             "displayer": "obj"
            },
            "primary_key_val": "dtype"
           },
           {
            "displayer_args": {
             "displayer": "float",
             "maximumFractionDigits": 3,
             "minimumFractionDigits": 3
            },
            "primary_key_val": "min"
           },
           {
            "displayer_args": {
             "displayer": "float",
             "maximumFractionDigits": 3,
             "minimumFractionDigits": 3
            },
            "primary_key_val": "mean"
           },
           {
            "displayer_args": {
             "displayer": "float",
             "maximumFractionDigits": 3,
             "minimumFractionDigits": 3
            },
            "primary_key_val": "max"
           },
           {
            "displayer_args": {
             "displayer": "float",
             "maximumFractionDigits": 0,
             "minimumFractionDigits": 0
            },
            "primary_key_val": "unique_count"
           },
           {
            "displayer_args": {
             "displayer": "float",
             "maximumFractionDigits": 0,
             "minimumFractionDigits": 0
            },
            "primary_key_val": "distinct_count"
           },
           {
            "displayer_args": {
             "displayer": "float",
             "maximumFractionDigits": 0,
             "minimumFractionDigits": 0
            },
            "primary_key_val": "empty_count"
           }
          ]
         },
         "summary_stats_key": "all_stats"
        }
       },
       "df_meta": {
        "columns": 4,
        "rows_shown": 200,
        "total_rows": 200
       },
       "layout": "IPY_MODEL_50eb39195c3148b093c0705c1bd894c7",
       "operation_results": {
        "generated_py_code": "# instantiation, unused",
        "transformed_df": {
         "column_config": [],
         "data": [],
         "pinned_rows": []
        }
       },
       "operations": []
      }
     },
     "e142a10e138e42fe8b95b2a1ad6aa2a5": {
      "model_module": "buckaroo",
      "model_module_version": "^0.5.1",
      "model_name": "DCEFWidgetModel",
      "state": {
       "_model_module_version": "^0.5.1",
       "_view_module_version": "^0.5.1",
       "_view_name": "DCEFWidgetView",
       "buckaroo_options": {
        "auto_clean": [
         "aggressive",
         "conservative"
        ],
        "df_display": [
         "summary",
         "main"
        ],
        "post_processing": [
         ""
        ],
        "sampled": [
         "random"
        ],
        "show_commands": [
         "on"
        ],
        "summary_stats": [
         "all"
        ]
       },
       "buckaroo_state": {
        "auto_clean": "conservative",
        "df_display": "main",
        "post_processing": "",
        "sampled": false,
        "search_string": "",
        "show_commands": false
       },
       "commandConfig": {
        "argspecs": {
         "dropcol": [
          null
         ],
         "fillna": [
          [
           3,
           "fillVal",
           "type",
           "integer"
          ]
         ],
         "groupby": [
          [
           3,
           "colMap",
           "colEnum",
           [
            "null",
            "sum",
            "mean",
            "median",
            "count"
           ]
          ]
         ],
         "onehot": [
          null
         ],
         "reindex": [
          null
         ],
         "safeint": [
          null
         ],
         "to_bool": [
          null
         ],
         "to_datetime": [
          null
         ],
         "to_float": [
          null
         ],
         "to_int": [
          null
         ],
         "to_string": [
          null
         ]
        },
        "defaultArgs": {
         "dropcol": [
          {
           "symbol": "dropcol"
          },
          {
           "symbol": "df"
          },
          "col"
         ],
         "fillna": [
          {
           "symbol": "fillna"
          },
          {
           "symbol": "df"
          },
          "col",
          8
         ],
         "groupby": [
          {
           "symbol": "groupby"
          },
          {
           "symbol": "df"
          },
          "col",
          {}
         ],
         "onehot": [
          {
           "symbol": "onehot"
          },
          {
           "symbol": "df"
          },
          "col"
         ],
         "reindex": [
          {
           "symbol": "reindex"
          },
          {
           "symbol": "df"
          },
          "col"
         ],
         "safeint": [
          {
           "symbol": "safeint"
          },
          {
           "symbol": "df"
          },
          "col"
         ],
         "to_bool": [
          {
           "symbol": "to_bool"
          },
          {
           "symbol": "df"
          },
          "col"
         ],
         "to_datetime": [
          {
           "symbol": "to_datetime"
          },
          {
           "symbol": "df"
          },
          "col"
         ],
         "to_float": [
          {
           "symbol": "to_float"
          },
          {
           "symbol": "df"
          },
          "col"
         ],
         "to_int": [
          {
           "symbol": "to_int"
          },
          {
           "symbol": "df"
          },
          "col"
         ],
         "to_string": [
          {
           "symbol": "to_string"
          },
          {
           "symbol": "df"
          },
          "col"
         ]
        }
       },
       "df_data_dict": {
        "all_stats": [
         {
          "float_col": "shape: (29,)\nSeries: '' [struct[2]]\n[\n\t{40.0,11}\n\t{37.142857,11}\n\t{38.571429,10}\n\t{31.428571,9}\n\t{12.857143,9}\n\t{10.0,9}\n\t{14.285714,9}\n\t{4.285714,8}\n\t{21.428571,8}\n\t{27.142857,8}\n\t{32.857143,8}\n\t{24.285714,8}\n\t…\n\t{1.428571,6}\n\t{7.142857,6}\n\t{41.428571,6}\n\t{20.0,6}\n\t{5.714286,6}\n\t{28.571429,6}\n\t{17.142857,5}\n\t{2.857143,5}\n\t{35.714286,5}\n\t{30.0,4}\n\t{15.714286,4}\n\t{25.714286,4}\n\t{34.285714,3}\n]",
          "index": "value_counts",
          "int_col": "shape: (47,)\nSeries: '' [struct[2]]\n[\n\t{7,8}\n\t{11,8}\n\t{39,7}\n\t{16,7}\n\t{45,6}\n\t{10,6}\n\t{2,6}\n\t{48,6}\n\t{46,6}\n\t{9,6}\n\t{23,5}\n\t{34,5}\n\t…\n\t{21,3}\n\t{4,3}\n\t{18,3}\n\t{5,3}\n\t{26,3}\n\t{15,3}\n\t{29,3}\n\t{43,3}\n\t{33,2}\n\t{47,2}\n\t{25,2}\n\t{1,2}\n\t{44,1}\n]",
          "str_col": "shape: (5,)\nSeries: '' [struct[2]]\n[\n\t{\"foobar\",40}\n\t{\"Realllllly long string\",40}\n\t{\"\",40}\n\t{null,40}\n\t{\"normal\",40}\n]",
          "timestamp": "shape: (3,)\nSeries: '' [struct[2]]\n[\n\t{3,1}\n\t{4,1}\n\t{5,1}\n]"
         },
         {
          "float_col": 200,
          "index": "length",
          "int_col": 200,
          "str_col": 200,
          "timestamp": 200
         },
         {
          "float_col": 0,
          "index": "nan_count",
          "int_col": 0,
          "str_col": 40,
          "timestamp": 40
         },
         {
          "float_col": 1.4285714286,
          "index": "min",
          "int_col": 1,
          "str_col": "",
          "timestamp": null
         },
         {
          "float_col": 41.4285714286,
          "index": "max",
          "int_col": 49,
          "str_col": "normal",
          "timestamp": null
         },
         {
          "float_col": 22.0642857143,
          "index": "mean",
          "int_col": 24.335,
          "str_col": null,
          "timestamp": "2020-02-03T01:45:00.000Z"
         },
         {
          "float_col": 0,
          "index": "unique_count",
          "int_col": 1,
          "str_col": 0,
          "timestamp": 0
         },
         {
          "float_col": "Float64",
          "index": "dtype",
          "int_col": "Int64",
          "str_col": "String",
          "timestamp": "Datetime(time_unit='us', time_zone='UTC')"
         },
         {
          "float_col": {
           "high_tail": 41.4285714286,
           "low_tail": 1.4285714286,
           "meat_histogram": [
            [
             13,
             19,
             25,
             13,
             17,
             22,
             18,
             21,
             8,
             32
            ],
            [
             1.4285714286,
             5,
             9,
             13,
             17,
             21,
             25,
             29,
             33,
             37,
             41.4285714286
            ]
           ],
           "normalized_populations": [
            0.0691489362,
            0.1010638298,
            0.1329787234,
            0.0691489362,
            0.0904255319,
            0.1170212766,
            0.0957446809,
            0.1117021277,
            0.0425531915,
            0.170212766
           ]
          },
          "index": "histogram_args",
          "int_col": {
           "high_tail": 49,
           "low_tail": 2,
           "meat_histogram": [
            [
             14,
             31,
             19,
             18,
             17,
             18,
             16,
             19,
             17,
             20
            ],
            [
             2,
             6.7,
             11.4,
             16.1,
             20.8,
             25.5,
             30.2,
             34.9,
             39.6,
             44.3,
             49
            ]
           ],
           "normalized_populations": [
            0.0740740741,
            0.164021164,
            0.1005291005,
            0.0952380952,
            0.0899470899,
            0.0952380952,
            0.0846560847,
            0.1005291005,
            0.0899470899,
            0.1058201058
           ]
          },
          "str_col": null,
          "timestamp": null
         },
         {
          "float_col": true,
          "index": "is_numeric",
          "int_col": true,
          "str_col": false,
          "timestamp": false
         },
         {
          "float_col": false,
          "index": "is_integer",
          "int_col": true,
          "str_col": false,
          "timestamp": false
         },
         {
          "float_col": "float",
          "index": "_type",
          "int_col": "integer",
          "str_col": "string",
          "timestamp": "datetime"
         },
         {
          "float_col": 40,
          "index": "mode",
          "int_col": 7,
          "str_col": "foobar",
          "timestamp": null
         },
         {
          "float_col": 29,
          "index": "distinct_count",
          "int_col": 47,
          "str_col": 5,
          "timestamp": 0
         },
         {
          "float_col": "float",
          "index": "type",
          "int_col": "integer",
          "str_col": "string",
          "timestamp": "datetime"
         },
         {
          "float_col": 1,
          "index": "min_digits",
          "int_col": 1,
          "str_col": null,
          "timestamp": null
         },
         {
          "float_col": 2,
          "index": "max_digits",
          "int_col": 2,
          "str_col": null,
          "timestamp": null
         },
         {
          "float_col": 0.145,
          "index": "distinct_per",
          "int_col": 0.235,
          "str_col": 0.025,
          "timestamp": 0
         },
         {
          "float_col": 0,
          "index": "empty_per",
          "int_col": 0,
          "str_col": 0.2,
          "timestamp": 0
         },
         {
          "float_col": 0,
          "index": "unique_per",
          "int_col": 0.005,
          "str_col": 0,
          "timestamp": 0
         },
         {
          "float_col": 0,
          "index": "nan_per",
          "int_col": 0,
          "str_col": 0.2,
          "timestamp": 0.2
         },
         {
          "float_col": [
           {
            "name": "1.4285714285714286 - 1.4285714285714286",
            "tail": 1
           },
           {
            "name": "1-5",
            "population": 7
           },
           {
            "name": "5-9",
            "population": 10
           },
           {
            "name": "9-13",
            "population": 13
           },
           {
            "name": "13-17",
            "population": 7
           },
           {
            "name": "17-21",
            "population": 9
           },
           {
            "name": "21-25",
            "population": 12
           },
           {
            "name": "25-29",
            "population": 10
           },
           {
            "name": "29-33",
            "population": 11
           },
           {
            "name": "33-37",
            "population": 4
           },
           {
            "name": "37-41",
            "population": 17
           },
           {
            "name": "41.42857142857143 - 41.42857142857143",
            "tail": 1
           }
          ],
          "index": "histogram",
          "int_col": [
           {
            "name": "1 - 2.0",
            "tail": 1
           },
           {
            "name": "2-7",
            "population": 7
           },
           {
            "name": "7-11",
            "population": 16
           },
           {
            "name": "11-16",
            "population": 10
           },
           {
            "name": "16-21",
            "population": 10
           },
           {
            "name": "21-26",
            "population": 9
           },
           {
            "name": "26-30",
            "population": 10
           },
           {
            "name": "30-35",
            "population": 8
           },
           {
            "name": "35-40",
            "population": 10
           },
           {
            "name": "40-44",
            "population": 9
           },
           {
            "name": "44-49",
            "population": 11
           },
           {
            "name": "49.0 - 49",
            "tail": 1
           }
          ],
          "str_col": [
           {
            "cat_pop": 20,
            "name": "foobar"
           },
           {
            "cat_pop": 20,
            "name": "Realllllly long string"
           },
           {
            "cat_pop": 20,
            "name": ""
           },
           {
            "cat_pop": 20,
            "name": null
           },
           {
            "cat_pop": 20,
            "name": "normal"
           },
           {
            "NA": 20,
            "name": "NA"
           }
          ],
          "timestamp": [
           {
            "cat_pop": 33,
            "name": 3
           },
           {
            "cat_pop": 33,
            "name": 4
           },
           {
            "cat_pop": 33,
            "name": 5
           },
           {
            "name": "unique",
            "unique": 100
           },
           {
            "NA": 20,
            "name": "NA"
           }
          ]
         },
         {
          "float_col": [
           1.4285714286,
           5,
           9,
           13,
           17,
           21,
           25,
           29,
           33,
           37,
           41.4285714286
          ],
          "index": "histogram_bins",
          "int_col": [
           2,
           6.7,
           11.4,
           16.1,
           20.8,
           25.5,
           30.2,
           34.9,
           39.6,
           44.3,
           49
          ],
          "str_col": [
           "faked"
          ],
          "timestamp": [
           "faked"
          ]
         },
         {
          "float_col": null,
          "index": "formatter",
          "int_col": null,
          "str_col": null,
          "timestamp": "default"
         },
         {
          "float_col": null,
          "index": "categorical_histogram",
          "int_col": null,
          "str_col": {
           "": 0.2,
           "None": 0.2,
           "Realllllly long string": 0.2,
           "foobar": 0.2,
           "longtail": 0,
           "normal": 0.2,
           "unique": 0
          },
          "timestamp": {
           "3": 0.3333333333,
           "4": 0.3333333333,
           "5": 0.3333333333,
           "longtail": -1,
           "unique": 1
          }
         },
         {
          "float_col": null,
          "index": "empty_count",
          "int_col": null,
          "str_col": 40,
          "timestamp": null
         }
        ],
        "empty": [],
        "main": [
         {
          "float_col": 4.2857142857,
          "index": 0,
          "int_col": 23,
          "str_col": "foobar",
          "timestamp": "2020-01-01T01:00:00.000Z"
         },
         {
          "float_col": 4.2857142857,
          "index": 1,
          "int_col": 7,
          "str_col": "Realllllly long string",
          "timestamp": "2020-01-01T02:00:00.000Z"
         },
         {
          "float_col": 21.4285714286,
          "index": 2,
          "int_col": 38,
          "str_col": "",
          "timestamp": "2020-02-28T02:00:00.000Z"
         },
         {
          "float_col": 31.4285714286,
          "index": 3,
          "int_col": 45,
          "str_col": null,
          "timestamp": "2020-03-15T02:00:00.000Z"
         },
         {
          "float_col": 8.5714285714,
          "index": 4,
          "int_col": 6,
          "str_col": "normal",
          "timestamp": null
         },
         {
          "float_col": 18.5714285714,
          "index": 5,
          "int_col": 31,
          "str_col": "foobar",
          "timestamp": "2020-01-01T01:00:00.000Z"
         },
         {
          "float_col": 17.1428571429,
          "index": 6,
          "int_col": 45,
          "str_col": "Realllllly long string",
          "timestamp": "2020-01-01T02:00:00.000Z"
         },
         {
          "float_col": 22.8571428571,
          "index": 7,
          "int_col": 22,
          "str_col": "",
          "timestamp": "2020-02-28T02:00:00.000Z"
         },
         {
          "float_col": 27.1428571429,
          "index": 8,
          "int_col": 34,
          "str_col": null,
          "timestamp": "2020-03-15T02:00:00.000Z"
         },
         {
          "float_col": 21.4285714286,
          "index": 9,
          "int_col": 33,
          "str_col": "normal",
          "timestamp": null
         },
         {
          "float_col": 32.8571428571,
          "index": 10,
          "int_col": 36,
          "str_col": "foobar",
          "timestamp": "2020-01-01T01:00:00.000Z"
         },
         {
          "float_col": 1.4285714286,
          "index": 11,
          "int_col": 39,
          "str_col": "Realllllly long string",
          "timestamp": "2020-01-01T02:00:00.000Z"
         },
         {
          "float_col": 7.1428571429,
          "index": 12,
          "int_col": 6,
          "str_col": "",
          "timestamp": "2020-02-28T02:00:00.000Z"
         },
         {
          "float_col": 24.2857142857,
          "index": 13,
          "int_col": 49,
          "str_col": null,
          "timestamp": "2020-03-15T02:00:00.000Z"
         },
         {
          "float_col": 38.5714285714,
          "index": 14,
          "int_col": 19,
          "str_col": "normal",
          "timestamp": null
         },
         {
          "float_col": 40,
          "index": 15,
          "int_col": 20,
          "str_col": "foobar",
          "timestamp": "2020-01-01T01:00:00.000Z"
         },
         {
          "float_col": 30,
          "index": 16,
          "int_col": 8,
          "str_col": "Realllllly long string",
          "timestamp": "2020-01-01T02:00:00.000Z"
         },
         {
          "float_col": 22.8571428571,
          "index": 17,
          "int_col": 11,
          "str_col": "",
          "timestamp": "2020-02-28T02:00:00.000Z"
         },
         {
          "float_col": 38.5714285714,
          "index": 18,
          "int_col": 41,
          "str_col": null,
          "timestamp": "2020-03-15T02:00:00.000Z"
         },
         {
          "float_col": 15.7142857143,
          "index": 19,
          "int_col": 24,
          "str_col": "normal",
          "timestamp": null
         },
         {
          "float_col": 41.4285714286,
          "index": 20,
          "int_col": 10,
          "str_col": "foobar",
          "timestamp": "2020-01-01T01:00:00.000Z"
         },
         {
          "float_col": 24.2857142857,
          "index": 21,
          "int_col": 17,
          "str_col": "Realllllly long string",
          "timestamp": "2020-01-01T02:00:00.000Z"
         },
         {
          "float_col": 2.8571428571,
          "index": 22,
          "int_col": 7,
          "str_col": "",
          "timestamp": "2020-02-28T02:00:00.000Z"
         },
         {
          "float_col": 12.8571428571,
          "index": 23,
          "int_col": 16,
          "str_col": null,
          "timestamp": "2020-03-15T02:00:00.000Z"
         },
         {
          "float_col": 7.1428571429,
          "index": 24,
          "int_col": 37,
          "str_col": "normal",
          "timestamp": null
         },
         {
          "float_col": 17.1428571429,
          "index": 25,
          "int_col": 33,
          "str_col": "foobar",
          "timestamp": "2020-01-01T01:00:00.000Z"
         },
         {
          "float_col": 40,
          "index": 26,
          "int_col": 22,
          "str_col": "Realllllly long string",
          "timestamp": "2020-01-01T02:00:00.000Z"
         },
         {
          "float_col": 22.8571428571,
          "index": 27,
          "int_col": 42,
          "str_col": "",
          "timestamp": "2020-02-28T02:00:00.000Z"
         },
         {
          "float_col": 21.4285714286,
          "index": 28,
          "int_col": 16,
          "str_col": null,
          "timestamp": "2020-03-15T02:00:00.000Z"
         },
         {
          "float_col": 37.1428571429,
          "index": 29,
          "int_col": 2,
          "str_col": "normal",
          "timestamp": null
         },
         {
          "float_col": 20,
          "index": 30,
          "int_col": 7,
          "str_col": "foobar",
          "timestamp": "2020-01-01T01:00:00.000Z"
         },
         {
          "float_col": 21.4285714286,
          "index": 31,
          "int_col": 23,
          "str_col": "Realllllly long string",
          "timestamp": "2020-01-01T02:00:00.000Z"
         },
         {
          "float_col": 40,
          "index": 32,
          "int_col": 34,
          "str_col": "",
          "timestamp": "2020-02-28T02:00:00.000Z"
         },
         {
          "float_col": 18.5714285714,
          "index": 33,
          "int_col": 39,
          "str_col": null,
          "timestamp": "2020-03-15T02:00:00.000Z"
         },
         {
          "float_col": 7.1428571429,
          "index": 34,
          "int_col": 34,
          "str_col": "normal",
          "timestamp": null
         },
         {
          "float_col": 21.4285714286,
          "index": 35,
          "int_col": 47,
          "str_col": "foobar",
          "timestamp": "2020-01-01T01:00:00.000Z"
         },
         {
          "float_col": 17.1428571429,
          "index": 36,
          "int_col": 42,
          "str_col": "Realllllly long string",
          "timestamp": "2020-01-01T02:00:00.000Z"
         },
         {
          "float_col": 31.4285714286,
          "index": 37,
          "int_col": 36,
          "str_col": "",
          "timestamp": "2020-02-28T02:00:00.000Z"
         },
         {
          "float_col": 30,
          "index": 38,
          "int_col": 41,
          "str_col": null,
          "timestamp": "2020-03-15T02:00:00.000Z"
         },
         {
          "float_col": 7.1428571429,
          "index": 39,
          "int_col": 6,
          "str_col": "normal",
          "timestamp": null
         },
         {
          "float_col": 21.4285714286,
          "index": 40,
          "int_col": 19,
          "str_col": "foobar",
          "timestamp": "2020-01-01T01:00:00.000Z"
         },
         {
          "float_col": 11.4285714286,
          "index": 41,
          "int_col": 41,
          "str_col": "Realllllly long string",
          "timestamp": "2020-01-01T02:00:00.000Z"
         },
         {
          "float_col": 11.4285714286,
          "index": 42,
          "int_col": 48,
          "str_col": "",
          "timestamp": "2020-02-28T02:00:00.000Z"
         },
         {
          "float_col": 2.8571428571,
          "index": 43,
          "int_col": 48,
          "str_col": null,
          "timestamp": "2020-03-15T02:00:00.000Z"
         },
         {
          "float_col": 31.4285714286,
          "index": 44,
          "int_col": 7,
          "str_col": "normal",
          "timestamp": null
         },
         {
          "float_col": 8.5714285714,
          "index": 45,
          "int_col": 10,
          "str_col": "foobar",
          "timestamp": "2020-01-01T01:00:00.000Z"
         },
         {
          "float_col": 12.8571428571,
          "index": 46,
          "int_col": 45,
          "str_col": "Realllllly long string",
          "timestamp": "2020-01-01T02:00:00.000Z"
         },
         {
          "float_col": 27.1428571429,
          "index": 47,
          "int_col": 46,
          "str_col": "",
          "timestamp": "2020-02-28T02:00:00.000Z"
         },
         {
          "float_col": 20,
          "index": 48,
          "int_col": 7,
          "str_col": null,
          "timestamp": "2020-03-15T02:00:00.000Z"
         },
         {
          "float_col": 5.7142857143,
          "index": 49,
          "int_col": 11,
          "str_col": "normal",
          "timestamp": null
         },
         {
          "float_col": 12.8571428571,
          "index": 50,
          "int_col": 13,
          "str_col": "foobar",
          "timestamp": "2020-01-01T01:00:00.000Z"
         },
         {
          "float_col": 40,
          "index": 51,
          "int_col": 27,
          "str_col": "Realllllly long string",
          "timestamp": "2020-01-01T02:00:00.000Z"
         },
         {
          "float_col": 38.5714285714,
          "index": 52,
          "int_col": 28,
          "str_col": "",
          "timestamp": "2020-02-28T02:00:00.000Z"
         },
         {
          "float_col": 5.7142857143,
          "index": 53,
          "int_col": 16,
          "str_col": null,
          "timestamp": "2020-03-15T02:00:00.000Z"
         },
         {
          "float_col": 20,
          "index": 54,
          "int_col": 12,
          "str_col": "normal",
          "timestamp": null
         },
         {
          "float_col": 10,
          "index": 55,
          "int_col": 21,
          "str_col": "foobar",
          "timestamp": "2020-01-01T01:00:00.000Z"
         },
         {
          "float_col": 40,
          "index": 56,
          "int_col": 4,
          "str_col": "Realllllly long string",
          "timestamp": "2020-01-01T02:00:00.000Z"
         },
         {
          "float_col": 24.2857142857,
          "index": 57,
          "int_col": 18,
          "str_col": "",
          "timestamp": "2020-02-28T02:00:00.000Z"
         },
         {
          "float_col": 40,
          "index": 58,
          "int_col": 37,
          "str_col": null,
          "timestamp": "2020-03-15T02:00:00.000Z"
         },
         {
          "float_col": 37.1428571429,
          "index": 59,
          "int_col": 10,
          "str_col": "normal",
          "timestamp": null
         },
         {
          "float_col": 28.5714285714,
          "index": 60,
          "int_col": 5,
          "str_col": "foobar",
          "timestamp": "2020-01-01T01:00:00.000Z"
         },
         {
          "float_col": 4.2857142857,
          "index": 61,
          "int_col": 49,
          "str_col": "Realllllly long string",
          "timestamp": "2020-01-01T02:00:00.000Z"
         },
         {
          "float_col": 28.5714285714,
          "index": 62,
          "int_col": 25,
          "str_col": "",
          "timestamp": "2020-02-28T02:00:00.000Z"
         },
         {
          "float_col": 8.5714285714,
          "index": 63,
          "int_col": 30,
          "str_col": null,
          "timestamp": "2020-03-15T02:00:00.000Z"
         },
         {
          "float_col": 32.8571428571,
          "index": 64,
          "int_col": 26,
          "str_col": "normal",
          "timestamp": null
         },
         {
          "float_col": 14.2857142857,
          "index": 65,
          "int_col": 7,
          "str_col": "foobar",
          "timestamp": "2020-01-01T01:00:00.000Z"
         },
         {
          "float_col": 10,
          "index": 66,
          "int_col": 22,
          "str_col": "Realllllly long string",
          "timestamp": "2020-01-01T02:00:00.000Z"
         },
         {
          "float_col": 34.2857142857,
          "index": 67,
          "int_col": 3,
          "str_col": "",
          "timestamp": "2020-02-28T02:00:00.000Z"
         },
         {
          "float_col": 14.2857142857,
          "index": 68,
          "int_col": 17,
          "str_col": null,
          "timestamp": "2020-03-15T02:00:00.000Z"
         },
         {
          "float_col": 8.5714285714,
          "index": 69,
          "int_col": 2,
          "str_col": "normal",
          "timestamp": null
         },
         {
          "float_col": 15.7142857143,
          "index": 70,
          "int_col": 11,
          "str_col": "foobar",
          "timestamp": "2020-01-01T01:00:00.000Z"
         },
         {
          "float_col": 25.7142857143,
          "index": 71,
          "int_col": 31,
          "str_col": "Realllllly long string",
          "timestamp": "2020-01-01T02:00:00.000Z"
         },
         {
          "float_col": 21.4285714286,
          "index": 72,
          "int_col": 23,
          "str_col": "",
          "timestamp": "2020-02-28T02:00:00.000Z"
         },
         {
          "float_col": 28.5714285714,
          "index": 73,
          "int_col": 46,
          "str_col": null,
          "timestamp": "2020-03-15T02:00:00.000Z"
         },
         {
          "float_col": 12.8571428571,
          "index": 74,
          "int_col": 2,
          "str_col": "normal",
          "timestamp": null
         },
         {
          "float_col": 27.1428571429,
          "index": 75,
          "int_col": 30,
          "str_col": "foobar",
          "timestamp": "2020-01-01T01:00:00.000Z"
         },
         {
          "float_col": 18.5714285714,
          "index": 76,
          "int_col": 24,
          "str_col": "Realllllly long string",
          "timestamp": "2020-01-01T02:00:00.000Z"
         },
         {
          "float_col": 20,
          "index": 77,
          "int_col": 12,
          "str_col": "",
          "timestamp": "2020-02-28T02:00:00.000Z"
         },
         {
          "float_col": 30,
          "index": 78,
          "int_col": 7,
          "str_col": null,
          "timestamp": "2020-03-15T02:00:00.000Z"
         },
         {
          "float_col": 14.2857142857,
          "index": 79,
          "int_col": 8,
          "str_col": "normal",
          "timestamp": null
         },
         {
          "float_col": 22.8571428571,
          "index": 80,
          "int_col": 11,
          "str_col": "foobar",
          "timestamp": "2020-01-01T01:00:00.000Z"
         },
         {
          "float_col": 28.5714285714,
          "index": 81,
          "int_col": 38,
          "str_col": "Realllllly long string",
          "timestamp": "2020-01-01T02:00:00.000Z"
         },
         {
          "float_col": 2.8571428571,
          "index": 82,
          "int_col": 15,
          "str_col": "",
          "timestamp": "2020-02-28T02:00:00.000Z"
         },
         {
          "float_col": 41.4285714286,
          "index": 83,
          "int_col": 21,
          "str_col": null,
          "timestamp": "2020-03-15T02:00:00.000Z"
         },
         {
          "float_col": 35.7142857143,
          "index": 84,
          "int_col": 40,
          "str_col": "normal",
          "timestamp": null
         },
         {
          "float_col": 5.7142857143,
          "index": 85,
          "int_col": 1,
          "str_col": "foobar",
          "timestamp": "2020-01-01T01:00:00.000Z"
         },
         {
          "float_col": 5.7142857143,
          "index": 86,
          "int_col": 12,
          "str_col": "Realllllly long string",
          "timestamp": "2020-01-01T02:00:00.000Z"
         },
         {
          "float_col": 20,
          "index": 87,
          "int_col": 39,
          "str_col": "",
          "timestamp": "2020-02-28T02:00:00.000Z"
         },
         {
          "float_col": 12.8571428571,
          "index": 88,
          "int_col": 25,
          "str_col": null,
          "timestamp": "2020-03-15T02:00:00.000Z"
         },
         {
          "float_col": 14.2857142857,
          "index": 89,
          "int_col": 5,
          "str_col": "normal",
          "timestamp": null
         },
         {
          "float_col": 34.2857142857,
          "index": 90,
          "int_col": 18,
          "str_col": "foobar",
          "timestamp": "2020-01-01T01:00:00.000Z"
         },
         {
          "float_col": 17.1428571429,
          "index": 91,
          "int_col": 45,
          "str_col": "Realllllly long string",
          "timestamp": "2020-01-01T02:00:00.000Z"
         },
         {
          "float_col": 31.4285714286,
          "index": 92,
          "int_col": 41,
          "str_col": "",
          "timestamp": "2020-02-28T02:00:00.000Z"
         },
         {
          "float_col": 25.7142857143,
          "index": 93,
          "int_col": 28,
          "str_col": null,
          "timestamp": "2020-03-15T02:00:00.000Z"
         },
         {
          "float_col": 38.5714285714,
          "index": 94,
          "int_col": 16,
          "str_col": "normal",
          "timestamp": null
         },
         {
          "float_col": 12.8571428571,
          "index": 95,
          "int_col": 38,
          "str_col": "foobar",
          "timestamp": "2020-01-01T01:00:00.000Z"
         },
         {
          "float_col": 27.1428571429,
          "index": 96,
          "int_col": 49,
          "str_col": "Realllllly long string",
          "timestamp": "2020-01-01T02:00:00.000Z"
         },
         {
          "float_col": 32.8571428571,
          "index": 97,
          "int_col": 20,
          "str_col": "",
          "timestamp": "2020-02-28T02:00:00.000Z"
         },
         {
          "float_col": 14.2857142857,
          "index": 98,
          "int_col": 46,
          "str_col": null,
          "timestamp": "2020-03-15T02:00:00.000Z"
         },
         {
          "float_col": 20,
          "index": 99,
          "int_col": 20,
          "str_col": "normal",
          "timestamp": null
         },
         {
          "float_col": 38.5714285714,
          "index": 100,
          "int_col": 48,
          "str_col": "foobar",
          "timestamp": "2020-01-01T01:00:00.000Z"
         },
         {
          "float_col": 10,
          "index": 101,
          "int_col": 11,
          "str_col": "Realllllly long string",
          "timestamp": "2020-01-01T02:00:00.000Z"
         },
         {
          "float_col": 35.7142857143,
          "index": 102,
          "int_col": 16,
          "str_col": "",
          "timestamp": "2020-02-28T02:00:00.000Z"
         },
         {
          "float_col": 38.5714285714,
          "index": 103,
          "int_col": 31,
          "str_col": null,
          "timestamp": "2020-03-15T02:00:00.000Z"
         },
         {
          "float_col": 1.4285714286,
          "index": 104,
          "int_col": 21,
          "str_col": "normal",
          "timestamp": null
         },
         {
          "float_col": 38.5714285714,
          "index": 105,
          "int_col": 40,
          "str_col": "foobar",
          "timestamp": "2020-01-01T01:00:00.000Z"
         },
         {
          "float_col": 35.7142857143,
          "index": 106,
          "int_col": 48,
          "str_col": "Realllllly long string",
          "timestamp": "2020-01-01T02:00:00.000Z"
         },
         {
          "float_col": 4.2857142857,
          "index": 107,
          "int_col": 27,
          "str_col": "",
          "timestamp": "2020-02-28T02:00:00.000Z"
         },
         {
          "float_col": 14.2857142857,
          "index": 108,
          "int_col": 23,
          "str_col": null,
          "timestamp": "2020-03-15T02:00:00.000Z"
         },
         {
          "float_col": 32.8571428571,
          "index": 109,
          "int_col": 10,
          "str_col": "normal",
          "timestamp": null
         },
         {
          "float_col": 24.2857142857,
          "index": 110,
          "int_col": 17,
          "str_col": "foobar",
          "timestamp": "2020-01-01T01:00:00.000Z"
         },
         {
          "float_col": 8.5714285714,
          "index": 111,
          "int_col": 3,
          "str_col": "Realllllly long string",
          "timestamp": "2020-01-01T02:00:00.000Z"
         },
         {
          "float_col": 27.1428571429,
          "index": 112,
          "int_col": 10,
          "str_col": "",
          "timestamp": "2020-02-28T02:00:00.000Z"
         },
         {
          "float_col": 31.4285714286,
          "index": 113,
          "int_col": 17,
          "str_col": null,
          "timestamp": "2020-03-15T02:00:00.000Z"
         },
         {
          "float_col": 2.8571428571,
          "index": 114,
          "int_col": 27,
          "str_col": "normal",
          "timestamp": null
         },
         {
          "float_col": 40,
          "index": 115,
          "int_col": 3,
          "str_col": "foobar",
          "timestamp": "2020-01-01T01:00:00.000Z"
         },
         {
          "float_col": 37.1428571429,
          "index": 116,
          "int_col": 42,
          "str_col": "Realllllly long string",
          "timestamp": "2020-01-01T02:00:00.000Z"
         },
         {
          "float_col": 12.8571428571,
          "index": 117,
          "int_col": 27,
          "str_col": "",
          "timestamp": "2020-02-28T02:00:00.000Z"
         },
         {
          "float_col": 24.2857142857,
          "index": 118,
          "int_col": 32,
          "str_col": null,
          "timestamp": "2020-03-15T02:00:00.000Z"
         },
         {
          "float_col": 35.7142857143,
          "index": 119,
          "int_col": 39,
          "str_col": "normal",
          "timestamp": null
         },
         {
          "float_col": 37.1428571429,
          "index": 120,
          "int_col": 11,
          "str_col": "foobar",
          "timestamp": "2020-01-01T01:00:00.000Z"
         },
         {
          "float_col": 27.1428571429,
          "index": 121,
          "int_col": 9,
          "str_col": "Realllllly long string",
          "timestamp": "2020-01-01T02:00:00.000Z"
         },
         {
          "float_col": 37.1428571429,
          "index": 122,
          "int_col": 17,
          "str_col": "",
          "timestamp": "2020-02-28T02:00:00.000Z"
         },
         {
          "float_col": 22.8571428571,
          "index": 123,
          "int_col": 23,
          "str_col": null,
          "timestamp": "2020-03-15T02:00:00.000Z"
         },
         {
          "float_col": 40,
          "index": 124,
          "int_col": 13,
          "str_col": "normal",
          "timestamp": null
         },
         {
          "float_col": 14.2857142857,
          "index": 125,
          "int_col": 45,
          "str_col": "foobar",
          "timestamp": "2020-01-01T01:00:00.000Z"
         },
         {
          "float_col": 10,
          "index": 126,
          "int_col": 11,
          "str_col": "Realllllly long string",
          "timestamp": "2020-01-01T02:00:00.000Z"
         },
         {
          "float_col": 10,
          "index": 127,
          "int_col": 13,
          "str_col": "",
          "timestamp": "2020-02-28T02:00:00.000Z"
         },
         {
          "float_col": 1.4285714286,
          "index": 128,
          "int_col": 20,
          "str_col": null,
          "timestamp": "2020-03-15T02:00:00.000Z"
         },
         {
          "float_col": 25.7142857143,
          "index": 129,
          "int_col": 20,
          "str_col": "normal",
          "timestamp": null
         },
         {
          "float_col": 31.4285714286,
          "index": 130,
          "int_col": 16,
          "str_col": "foobar",
          "timestamp": "2020-01-01T01:00:00.000Z"
         },
         {
          "float_col": 37.1428571429,
          "index": 131,
          "int_col": 3,
          "str_col": "Realllllly long string",
          "timestamp": "2020-01-01T02:00:00.000Z"
         },
         {
          "float_col": 21.4285714286,
          "index": 132,
          "int_col": 26,
          "str_col": "",
          "timestamp": "2020-02-28T02:00:00.000Z"
         },
         {
          "float_col": 1.4285714286,
          "index": 133,
          "int_col": 36,
          "str_col": null,
          "timestamp": "2020-03-15T02:00:00.000Z"
         },
         {
          "float_col": 15.7142857143,
          "index": 134,
          "int_col": 42,
          "str_col": "normal",
          "timestamp": null
         },
         {
          "float_col": 4.2857142857,
          "index": 135,
          "int_col": 34,
          "str_col": "foobar",
          "timestamp": "2020-01-01T01:00:00.000Z"
         },
         {
          "float_col": 7.1428571429,
          "index": 136,
          "int_col": 32,
          "str_col": "Realllllly long string",
          "timestamp": "2020-01-01T02:00:00.000Z"
         },
         {
          "float_col": 31.4285714286,
          "index": 137,
          "int_col": 46,
          "str_col": "",
          "timestamp": "2020-02-28T02:00:00.000Z"
         },
         {
          "float_col": 27.1428571429,
          "index": 138,
          "int_col": 40,
          "str_col": null,
          "timestamp": "2020-03-15T02:00:00.000Z"
         },
         {
          "float_col": 24.2857142857,
          "index": 139,
          "int_col": 44,
          "str_col": "normal",
          "timestamp": null
         },
         {
          "float_col": 8.5714285714,
          "index": 140,
          "int_col": 31,
          "str_col": "foobar",
          "timestamp": "2020-01-01T01:00:00.000Z"
         },
         {
          "float_col": 4.2857142857,
          "index": 141,
          "int_col": 46,
          "str_col": "Realllllly long string",
          "timestamp": "2020-01-01T02:00:00.000Z"
         },
         {
          "float_col": 12.8571428571,
          "index": 142,
          "int_col": 2,
          "str_col": "",
          "timestamp": "2020-02-28T02:00:00.000Z"
         },
         {
          "float_col": 10,
          "index": 143,
          "int_col": 40,
          "str_col": null,
          "timestamp": "2020-03-15T02:00:00.000Z"
         },
         {
          "float_col": 40,
          "index": 144,
          "int_col": 9,
          "str_col": "normal",
          "timestamp": null
         },
         {
          "float_col": 4.2857142857,
          "index": 145,
          "int_col": 2,
          "str_col": "foobar",
          "timestamp": "2020-01-01T01:00:00.000Z"
         },
         {
          "float_col": 4.2857142857,
          "index": 146,
          "int_col": 3,
          "str_col": "Realllllly long string",
          "timestamp": "2020-01-01T02:00:00.000Z"
         },
         {
          "float_col": 10,
          "index": 147,
          "int_col": 4,
          "str_col": "",
          "timestamp": "2020-02-28T02:00:00.000Z"
         },
         {
          "float_col": 11.4285714286,
          "index": 148,
          "int_col": 37,
          "str_col": null,
          "timestamp": "2020-03-15T02:00:00.000Z"
         },
         {
          "float_col": 37.1428571429,
          "index": 149,
          "int_col": 36,
          "str_col": "normal",
          "timestamp": null
         },
         {
          "float_col": 40,
          "index": 150,
          "int_col": 13,
          "str_col": "foobar",
          "timestamp": "2020-01-01T01:00:00.000Z"
         },
         {
          "float_col": 41.4285714286,
          "index": 151,
          "int_col": 45,
          "str_col": "Realllllly long string",
          "timestamp": "2020-01-01T02:00:00.000Z"
         },
         {
          "float_col": 24.2857142857,
          "index": 152,
          "int_col": 24,
          "str_col": "",
          "timestamp": "2020-02-28T02:00:00.000Z"
         },
         {
          "float_col": 11.4285714286,
          "index": 153,
          "int_col": 18,
          "str_col": null,
          "timestamp": "2020-03-15T02:00:00.000Z"
         },
         {
          "float_col": 17.1428571429,
          "index": 154,
          "int_col": 32,
          "str_col": "normal",
          "timestamp": null
         },
         {
          "float_col": 18.5714285714,
          "index": 155,
          "int_col": 15,
          "str_col": "foobar",
          "timestamp": "2020-01-01T01:00:00.000Z"
         },
         {
          "float_col": 8.5714285714,
          "index": 156,
          "int_col": 9,
          "str_col": "Realllllly long string",
          "timestamp": "2020-01-01T02:00:00.000Z"
         },
         {
          "float_col": 10,
          "index": 157,
          "int_col": 9,
          "str_col": "",
          "timestamp": "2020-02-28T02:00:00.000Z"
         },
         {
          "float_col": 15.7142857143,
          "index": 158,
          "int_col": 9,
          "str_col": null,
          "timestamp": "2020-03-15T02:00:00.000Z"
         },
         {
          "float_col": 11.4285714286,
          "index": 159,
          "int_col": 39,
          "str_col": "normal",
          "timestamp": null
         },
         {
          "float_col": 2.8571428571,
          "index": 160,
          "int_col": 29,
          "str_col": "foobar",
          "timestamp": "2020-01-01T01:00:00.000Z"
         },
         {
          "float_col": 1.4285714286,
          "index": 161,
          "int_col": 32,
          "str_col": "Realllllly long string",
          "timestamp": "2020-01-01T02:00:00.000Z"
         },
         {
          "float_col": 41.4285714286,
          "index": 162,
          "int_col": 19,
          "str_col": "",
          "timestamp": "2020-02-28T02:00:00.000Z"
         },
         {
          "float_col": 25.7142857143,
          "index": 163,
          "int_col": 30,
          "str_col": null,
          "timestamp": "2020-03-15T02:00:00.000Z"
         },
         {
          "float_col": 28.5714285714,
          "index": 164,
          "int_col": 43,
          "str_col": "normal",
          "timestamp": null
         },
         {
          "float_col": 18.5714285714,
          "index": 165,
          "int_col": 9,
          "str_col": "foobar",
          "timestamp": "2020-01-01T01:00:00.000Z"
         },
         {
          "float_col": 5.7142857143,
          "index": 166,
          "int_col": 7,
          "str_col": "Realllllly long string",
          "timestamp": "2020-01-01T02:00:00.000Z"
         },
         {
          "float_col": 10,
          "index": 167,
          "int_col": 36,
          "str_col": "",
          "timestamp": "2020-02-28T02:00:00.000Z"
         },
         {
          "float_col": 14.2857142857,
          "index": 168,
          "int_col": 22,
          "str_col": null,
          "timestamp": "2020-03-15T02:00:00.000Z"
         },
         {
          "float_col": 37.1428571429,
          "index": 169,
          "int_col": 39,
          "str_col": "normal",
          "timestamp": null
         },
         {
          "float_col": 30,
          "index": 170,
          "int_col": 13,
          "str_col": "foobar",
          "timestamp": "2020-01-01T01:00:00.000Z"
         },
         {
          "float_col": 32.8571428571,
          "index": 171,
          "int_col": 26,
          "str_col": "Realllllly long string",
          "timestamp": "2020-01-01T02:00:00.000Z"
         },
         {
          "float_col": 40,
          "index": 172,
          "int_col": 46,
          "str_col": "",
          "timestamp": "2020-02-28T02:00:00.000Z"
         },
         {
          "float_col": 37.1428571429,
          "index": 173,
          "int_col": 48,
          "str_col": null,
          "timestamp": "2020-03-15T02:00:00.000Z"
         },
         {
          "float_col": 22.8571428571,
          "index": 174,
          "int_col": 47,
          "str_col": "normal",
          "timestamp": null
         },
         {
          "float_col": 35.7142857143,
          "index": 175,
          "int_col": 43,
          "str_col": "foobar",
          "timestamp": "2020-01-01T01:00:00.000Z"
         },
         {
          "float_col": 38.5714285714,
          "index": 176,
          "int_col": 12,
          "str_col": "Realllllly long string",
          "timestamp": "2020-01-01T02:00:00.000Z"
         },
         {
          "float_col": 31.4285714286,
          "index": 177,
          "int_col": 2,
          "str_col": "",
          "timestamp": "2020-02-28T02:00:00.000Z"
         },
         {
          "float_col": 11.4285714286,
          "index": 178,
          "int_col": 15,
          "str_col": null,
          "timestamp": "2020-03-15T02:00:00.000Z"
         },
         {
          "float_col": 32.8571428571,
          "index": 179,
          "int_col": 1,
          "str_col": "normal",
          "timestamp": null
         },
         {
          "float_col": 27.1428571429,
          "index": 180,
          "int_col": 28,
          "str_col": "foobar",
          "timestamp": "2020-01-01T01:00:00.000Z"
         },
         {
          "float_col": 32.8571428571,
          "index": 181,
          "int_col": 27,
          "str_col": "Realllllly long string",
          "timestamp": "2020-01-01T02:00:00.000Z"
         },
         {
          "float_col": 12.8571428571,
          "index": 182,
          "int_col": 39,
          "str_col": "",
          "timestamp": "2020-02-28T02:00:00.000Z"
         },
         {
          "float_col": 41.4285714286,
          "index": 183,
          "int_col": 8,
          "str_col": null,
          "timestamp": "2020-03-15T02:00:00.000Z"
         },
         {
          "float_col": 31.4285714286,
          "index": 184,
          "int_col": 29,
          "str_col": "normal",
          "timestamp": null
         },
         {
          "float_col": 41.4285714286,
          "index": 185,
          "int_col": 43,
          "str_col": "foobar",
          "timestamp": "2020-01-01T01:00:00.000Z"
         },
         {
          "float_col": 24.2857142857,
          "index": 186,
          "int_col": 37,
          "str_col": "Realllllly long string",
          "timestamp": "2020-01-01T02:00:00.000Z"
         },
         {
          "float_col": 38.5714285714,
          "index": 187,
          "int_col": 48,
          "str_col": "",
          "timestamp": "2020-02-28T02:00:00.000Z"
         },
         {
          "float_col": 37.1428571429,
          "index": 188,
          "int_col": 11,
          "str_col": null,
          "timestamp": "2020-03-15T02:00:00.000Z"
         },
         {
          "float_col": 32.8571428571,
          "index": 189,
          "int_col": 32,
          "str_col": "normal",
          "timestamp": null
         },
         {
          "float_col": 37.1428571429,
          "index": 190,
          "int_col": 30,
          "str_col": "foobar",
          "timestamp": "2020-01-01T01:00:00.000Z"
         },
         {
          "float_col": 38.5714285714,
          "index": 191,
          "int_col": 29,
          "str_col": "Realllllly long string",
          "timestamp": "2020-01-01T02:00:00.000Z"
         },
         {
          "float_col": 11.4285714286,
          "index": 192,
          "int_col": 34,
          "str_col": "",
          "timestamp": "2020-02-28T02:00:00.000Z"
         },
         {
          "float_col": 34.2857142857,
          "index": 193,
          "int_col": 4,
          "str_col": null,
          "timestamp": "2020-03-15T02:00:00.000Z"
         },
         {
          "float_col": 7.1428571429,
          "index": 194,
          "int_col": 5,
          "str_col": "normal",
          "timestamp": null
         },
         {
          "float_col": 18.5714285714,
          "index": 195,
          "int_col": 16,
          "str_col": "foobar",
          "timestamp": "2020-01-01T01:00:00.000Z"
         },
         {
          "float_col": 28.5714285714,
          "index": 196,
          "int_col": 10,
          "str_col": "Realllllly long string",
          "timestamp": "2020-01-01T02:00:00.000Z"
         },
         {
          "float_col": 14.2857142857,
          "index": 197,
          "int_col": 19,
          "str_col": "",
          "timestamp": "2020-02-28T02:00:00.000Z"
         },
         {
          "float_col": 1.4285714286,
          "index": 198,
          "int_col": 40,
          "str_col": null,
          "timestamp": "2020-03-15T02:00:00.000Z"
         },
         {
          "float_col": 5.7142857143,
          "index": 199,
          "int_col": 19,
          "str_col": "normal",
          "timestamp": null
         }
        ]
       },
       "df_display_args": {
        "main": {
         "data_key": "main",
         "df_viewer_config": {
          "column_config": [
           {
            "col_name": "index",
            "displayer_args": {
             "displayer": "obj"
            }
           },
           {
            "col_name": "float_col",
            "displayer_args": {
             "displayer": "float",
             "maximumFractionDigits": 3,
             "minimumFractionDigits": 3
            }
           },
           {
            "col_name": "timestamp",
            "displayer_args": {
             "displayer": "obj"
            }
           },
           {
            "col_name": "str_col",
            "displayer_args": {
             "displayer": "obj"
            }
           }
          ],
          "pinned_rows": [
           {
            "displayer_args": {
             "displayer": "obj"
            },
            "primary_key_val": "dtype"
           },
           {
            "displayer_args": {
             "displayer": "histogram"
            },
            "primary_key_val": "histogram"
           }
          ]
         },
         "summary_stats_key": "all_stats"
        },
        "summary": {
         "data_key": "empty",
         "df_viewer_config": {
          "column_config": [
           {
            "col_name": "index",
            "displayer_args": {
             "displayer": "obj"
            }
           },
           {
            "col_name": "float_col",
            "displayer_args": {
             "displayer": "obj"
            }
           },
           {
            "col_name": "timestamp",
            "displayer_args": {
             "displayer": "obj"
            }
           },
           {
            "col_name": "str_col",
            "displayer_args": {
             "displayer": "obj"
            }
           }
          ],
          "pinned_rows": [
           {
            "displayer_args": {
             "displayer": "obj"
            },
            "primary_key_val": "dtype"
           },
           {
            "displayer_args": {
             "displayer": "float",
             "maximumFractionDigits": 3,
             "minimumFractionDigits": 3
            },
            "primary_key_val": "min"
           },
           {
            "displayer_args": {
             "displayer": "float",
             "maximumFractionDigits": 3,
             "minimumFractionDigits": 3
            },
            "primary_key_val": "mean"
           },
           {
            "displayer_args": {
             "displayer": "float",
             "maximumFractionDigits": 3,
             "minimumFractionDigits": 3
            },
            "primary_key_val": "max"
           },
           {
            "displayer_args": {
             "displayer": "float",
             "maximumFractionDigits": 0,
             "minimumFractionDigits": 0
            },
            "primary_key_val": "unique_count"
           },
           {
            "displayer_args": {
             "displayer": "float",
             "maximumFractionDigits": 0,
             "minimumFractionDigits": 0
            },
            "primary_key_val": "distinct_count"
           },
           {
            "displayer_args": {
             "displayer": "float",
             "maximumFractionDigits": 0,
             "minimumFractionDigits": 0
            },
            "primary_key_val": "empty_count"
           }
          ]
         },
         "summary_stats_key": "all_stats"
        }
       },
       "df_meta": {
        "columns": 4,
        "rows_shown": 200,
        "total_rows": 200
       },
       "layout": "IPY_MODEL_ba5f6aed0f8944d39b08d355a82513c7",
       "operation_results": {
        "generated_py_code": "# instantiation, unused",
        "transformed_df": {
         "column_config": [],
         "data": [],
         "pinned_rows": []
        }
       },
       "operations": []
      }
     }
    },
    "version_major": 2,
    "version_minor": 0
   }
  }
 },
 "nbformat": 4,
 "nbformat_minor": 5
}
