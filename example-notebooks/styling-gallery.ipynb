{
 "cells": [
  {
   "cell_type": "code",
   "execution_count": 1,
   "id": "99218d54-79db-4c3c-8ca5-373e3c1ed677",
   "metadata": {
    "tags": []
   },
   "outputs": [],
   "source": [
    "import pandas as pd\n",
    "import numpy as np\n",
    "from buckaroo.dataflow_traditional import StylingAnalysis\n",
    "from buckaroo.pluggable_analysis_framework.pluggable_analysis_framework import ColAnalysis\n",
    "import polars as pl\n",
    "from buckaroo.polars_buckaroo import PolarsBuckarooWidget\n",
    "from buckaroo.customizations.polars_analysis import PlTyping\n",
    "N=500"
   ]
  },
  {
   "cell_type": "code",
   "execution_count": 2,
   "id": "840e09f3-8153-4800-a383-636556af4f32",
   "metadata": {
    "tags": []
   },
   "outputs": [],
   "source": [
    "# This works with polars or pandas, these variables let us quickly swap between the two\n",
    "DataFrame = pl.DataFrame\n",
    "BUCKAROOWidget = PolarsBuckarooWidget\n",
    "NA = pl.Null"
   ]
  },
  {
   "cell_type": "markdown",
   "id": "cf49c5fd-b617-4495-b018-1fadbc90cb4c",
   "metadata": {},
   "source": [
    "This notebook generally follows the order of [DFWhole.ts](https://github.com/paddymul/buckaroo/blob/feat/dfviewer-config/js/components/DFViewerParts/DFWhole.ts)\n",
    "\n",
    "Starting with the simple Displayers\n",
    "```js\n",
    "export interface ObjDisplayerA {\n",
    "  displayer: 'obj';}\n",
    "\n",
    "export interface BooleanDisplayerA {\n",
    "  displayer: 'boolean';}\n",
    "\n",
    "export interface StringDisplayerA {\n",
    "  displayer: 'string';\n",
    "  max_length?: number;} \n",
    "  \n",
    "export interface FloatDisplayerA {\n",
    "  displayer: 'float';\n",
    "  min_fraction_digits: number;\n",
    "  max_fraction_digits: number;}\n",
    "\n",
    "export interface DatetimeDefaultDisplayerA {\n",
    "  displayer: 'datetimeDefault';}\n",
    "export interface IntegerDisplayerA {\n",
    "  displayer: 'integer';\n",
    "  min_digits: number;\n",
    "  max_digits: number;}\n",
    "\n",
    "export interface DatetimeLocaleDisplayerA {\n",
    "  displayer: 'datetimeLocaleString';\n",
    "  locale: 'en-US' | 'en-GB' | 'en-CA' | 'fr-FR' | 'es-ES' | 'de-DE' | 'ja-JP';\n",
    "  // https://developer.mozilla.org/en-US/docs/Web/JavaScript/Reference/Global_Objects/Intl/DateTimeFormat/DateTimeFormat\n",
    "  args: Intl.DateTimeFormatOptions;}\n",
    "```"
   ]
  },
  {
   "cell_type": "code",
   "execution_count": 3,
   "id": "4697fa58-9609-412f-b2d0-48a63fed0c99",
   "metadata": {
    "tags": []
   },
   "outputs": [],
   "source": [
    "#simpler Buckaroo that really shows the styling\n",
    "def obj_(pkey):\n",
    "    return {'primary_key_val': pkey, 'displayer_args': { 'displayer': 'obj' } }\n",
    "\n",
    "class GalleryStyling(StylingAnalysis):\n",
    "    requires_summary = ['dtype']\n",
    "    pinned_rows = [obj_('dtype')]\n",
    "class GalleryBuckaroo(PolarsBuckarooWidget):\n",
    "    analysis_klasses = [GalleryStyling, PlTyping]\n"
   ]
  },
  {
   "cell_type": "code",
   "execution_count": 4,
   "id": "6e84d497-539f-4c62-810f-1cef72f417d2",
   "metadata": {
    "tags": []
   },
   "outputs": [
    {
     "data": {
      "application/vnd.jupyter.widget-view+json": {
       "model_id": "11c6e90f6859486baa1e8612c99f768b",
       "version_major": 2,
       "version_minor": 0
      },
      "text/plain": [
       "GalleryBuckaroo(buckaroo_options={'sampled': ['random'], 'auto_clean': ['aggressive', 'conservative'], 'post_p…"
      ]
     },
     "execution_count": 4,
     "metadata": {},
     "output_type": "execute_result"
    }
   ],
   "source": [
    "obj_df = pl.DataFrame({\n",
    "    'bools':[True, True, False, False, True, None],\n",
    "    'ints': [   5,   20,    30,   -10, 7772, None],\n",
    "    'timestamp':[\"2020-01-01 01:00Z\", \"2020-01-01 02:00Z\", \"2020-02-28 02:00Z\", \"2020-03-15 02:00Z\", None, None],\n",
    "    'dicts': [ {'a':10, 'b':20, 'c':'some string'}, None, None, None, None, None], #polars\n",
    "    'nested_dicts': [{'level_1': {'a':10, 'b':20, 'c':'some string'}}, None, None, None, None, None],\n",
    "    'lists': [['a','b'], [1,2], None, None, None, None],\n",
    "    'lists-string': [['a','b'], ['foo', 'bar'], None, None, None, None],\n",
    "    'lists-int': [[10, 20], [100, 500], [8], None, None, None]}\n",
    ")\n",
    "GalleryBuckaroo(obj_df)"
   ]
  },
  {
   "cell_type": "code",
   "execution_count": 5,
   "id": "540dcd65-248d-43a3-b8c3-2db3159d3f8d",
   "metadata": {
    "tags": []
   },
   "outputs": [
    {
     "data": {
      "application/vnd.jupyter.widget-view+json": {
       "model_id": "d32df8c4de5142cd921a0aa2e9786460",
       "version_major": 2,
       "version_minor": 0
      },
      "text/plain": [
       "GalleryBuckaroo(buckaroo_options={'sampled': ['random'], 'auto_clean': ['aggressive', 'conservative'], 'post_p…"
      ]
     },
     "execution_count": 5,
     "metadata": {},
     "output_type": "execute_result"
    }
   ],
   "source": [
    "obj_df = pl.DataFrame({\n",
    "    'bools':[True, True, False, False, True, None],\n",
    "    'ints': [   5,   20,    30,   -10, 7772, None],\n",
    "    'dicts': [ {'a':10, 'b':20, 'c':'some string'}, None, None, None, None, None], #polars\n",
    "    'nested_dicts': [{'level_1': {'a':10, 'b':20, 'c':'some string'}}, None, None, None, None, None],\n",
    "    #'nested_dicts2': pl.Series([{'level_1': {'a':10, 'b':20, 'c':'some string'}}, None, None, None, None, None], dtype=pl.Object)}\n",
    "    }\n",
    ")\n",
    "GalleryBuckaroo(obj_df)"
   ]
  },
  {
   "cell_type": "code",
   "execution_count": 6,
   "id": "5c49dd11-9727-4ac1-829c-bed1a155629b",
   "metadata": {
    "tags": []
   },
   "outputs": [
    {
     "data": {
      "application/vnd.jupyter.widget-view+json": {
       "model_id": "adb9597f1e3b422f8f6761a89496eb9b",
       "version_major": 2,
       "version_minor": 0
      },
      "text/plain": [
       "PolarsBuckarooWidget(buckaroo_options={'sampled': ['random'], 'auto_clean': ['aggressive', 'conservative'], 'p…"
      ]
     },
     "execution_count": 6,
     "metadata": {},
     "output_type": "execute_result"
    }
   ],
   "source": [
    "bool_df = pl.DataFrame({'bools':[True, True, False, False, True, None]})\n",
    "bool_df = bool_df.select(\n",
    "    pl.col('bools').alias('bools_obj_displayer'), \n",
    "    pl.col('bools').alias('bools_boolean_displayer'))\n",
    "#fix         #'bools_bool_checkbox_displayer':  {'displayer_args': {'displayer': 'boolean_checkbox'}\n",
    "PolarsBuckarooWidget(\n",
    "    bool_df, \n",
    "    column_config_overrides={\n",
    "        'bools_obj_displayer':  {'displayer_args': {'displayer': 'obj'}},      \n",
    "        'bools_boolean_displayer': {'displayer_args': {'displayer': 'boolean'}}})"
   ]
  },
  {
   "cell_type": "code",
   "execution_count": 7,
   "id": "18e5adba-49b8-453a-86f7-ce438c61113a",
   "metadata": {
    "tags": []
   },
   "outputs": [
    {
     "data": {
      "application/vnd.jupyter.widget-view+json": {
       "model_id": "df24cfaa96af41ff8fae1125a5a47b33",
       "version_major": 2,
       "version_minor": 0
      },
      "text/plain": [
       "PolarsBuckarooWidget(buckaroo_options={'sampled': ['random'], 'auto_clean': ['aggressive', 'conservative'], 'p…"
      ]
     },
     "execution_count": 7,
     "metadata": {},
     "output_type": "execute_result"
    }
   ],
   "source": [
    "string_df = pl.DataFrame({'strings':[\"asdf\", \"qwerty\", \"really long string, much  much longer\", None,  \"A\"]})\n",
    "string_df = string_df.select(\n",
    "    pl.col('strings').alias('strings_obj_displayer'), \n",
    "    pl.col('strings').alias('strings_string_displayer'),\n",
    "    pl.col('strings').alias('strings_string_displayer_max_len'))\n",
    "PolarsBuckarooWidget(\n",
    "    string_df, \n",
    "    column_config_overrides={\n",
    "        'strings_obj_displayer':  {'displayer_args': {'displayer': 'obj'}},      \n",
    "        'strings_string_displayer': {'displayer_args': {'displayer': 'string'}},\n",
    "        'strings_string_displayer_max_len': {'displayer_args': {'displayer': 'string', 'max_length':15}}\n",
    "    })"
   ]
  },
  {
   "cell_type": "code",
   "execution_count": 8,
   "id": "e8cefca2-6db8-4599-b46a-40e7cc45caef",
   "metadata": {},
   "outputs": [
    {
     "data": {
      "application/vnd.jupyter.widget-view+json": {
       "model_id": "d3711d570668400c890da727494c1cb6",
       "version_major": 2,
       "version_minor": 0
      },
      "text/plain": [
       "PolarsBuckarooWidget(buckaroo_options={'sampled': ['random'], 'auto_clean': ['aggressive', 'conservative'], 'p…"
      ]
     },
     "execution_count": 8,
     "metadata": {},
     "output_type": "execute_result"
    }
   ],
   "source": [
    "float_df = pl.DataFrame({\n",
    "    'float': [5, -8, 13.23, -8.01, -999.345245234, None]})\n",
    "\n",
    "def float_(min_digits, max_digits):\n",
    "    return {'displayer_args': { 'displayer': 'float', 'min_fraction_digits':min_digits, 'max_fraction_digits': max_digits}}\n",
    "float_df = float_df.select(\n",
    "    pl.col('float').alias('float_obj_displayer'), \n",
    "    pl.col('float').alias('float_float_displayer_1__3'),\n",
    "    pl.col('float').alias('float_float_displayer_0__3'),\n",
    "    pl.col('float').alias('float_float_displayer_3__3'),\n",
    "    pl.col('float').alias('float_float_displayer_3_13'))\n",
    "PolarsBuckarooWidget(\n",
    "    float_df,\n",
    "    column_config_overrides={\n",
    "        'float_obj_displayer':  {'displayer_args': {'displayer': 'obj'}},      \n",
    "        'float_float_displayer_1__3' : float_(1,3),\n",
    "        'float_float_displayer_0__3' : float_(0,3),\n",
    "        'float_float_displayer_3__3' : float_(3,3),\n",
    "        'float_float_displayer_3_13' : float_(3,13)})"
   ]
  },
  {
   "cell_type": "code",
   "execution_count": 9,
   "id": "fa1410bf-8540-4daf-8080-ae7d52e70546",
   "metadata": {
    "tags": []
   },
   "outputs": [
    {
     "data": {
      "application/vnd.jupyter.widget-view+json": {
       "model_id": "d2a3285258e04ab78b6735285aab7931",
       "version_major": 2,
       "version_minor": 0
      },
      "text/plain": [
       "PolarsBuckarooWidget(buckaroo_options={'sampled': ['random'], 'auto_clean': ['aggressive', 'conservative'], 'p…"
      ]
     },
     "execution_count": 9,
     "metadata": {},
     "output_type": "execute_result"
    }
   ],
   "source": [
    "from polars import functions as F\n",
    "\n",
    "datetime_df = pl.DataFrame({'timestamp':[\"2020-01-01 01:00Z\", \"2020-01-01 02:00Z\", \"2020-02-28 02:00Z\", \"2020-03-15 02:00Z\", None]})\n",
    "datetime_df = datetime_df.select(\n",
    "    pl.col('timestamp').alias('timestamp_obj_displayer'),\n",
    "    pl.col('timestamp').alias('timestamp_datetime_default_displayer'),\n",
    "    pl.col('timestamp').alias('timestamp_datetime_locale_en-US'),\n",
    "    pl.col('timestamp').alias('timestamp_datetime_locale_en-US-Long'),\n",
    "    pl.col('timestamp').alias('timestamp_datetime_locale_en-GB'))\n",
    "datetime_df = datetime_df.select(F.all().str.to_datetime())\n",
    "def locale(locale, args={}):\n",
    "    return {'displayer_args': {'displayer': 'datetimeLocaleString',\n",
    "                                'locale':locale,\n",
    "                                'args':args}}\n",
    "PolarsBuckarooWidget(datetime_df,\n",
    "    column_config_overrides={\n",
    "        'timestamp_obj_displayer':  {'displayer_args': {'displayer': 'obj'}},    \n",
    "        'timestamp_datetime_default_displayer' : {'displayer_args':  {  'displayer': 'datetimeDefault'}},\n",
    "        'timestamp_datetime_locale_en-US' :locale('en-US'),\n",
    "        'timestamp_datetime_locale_en-US-Long': locale('en-US', { 'weekday': 'long'}),\n",
    "        'timestamp_datetime_locale_en-GB' : locale('en-GB')})"
   ]
  },
  {
   "cell_type": "code",
   "execution_count": 10,
   "id": "c943c155-1266-45b3-a790-c98a89e75cf8",
   "metadata": {
    "tags": []
   },
   "outputs": [
    {
     "data": {
      "application/vnd.jupyter.widget-view+json": {
       "model_id": "21cda47a210543589c40a81beee06641",
       "version_major": 2,
       "version_minor": 0
      },
      "text/plain": [
       "PolarsBuckarooWidget(buckaroo_options={'sampled': ['random'], 'auto_clean': ['aggressive', 'conservative'], 'p…"
      ]
     },
     "execution_count": 10,
     "metadata": {},
     "output_type": "execute_result"
    }
   ],
   "source": [
    "link_df = DataFrame({'raw':      ['https://github.com/paddymul/buckaroo', 'https://github.com/pola-rs/polars'],\n",
    "                    'linkify' : ['https://github.com/paddymul/buckaroo', 'https://github.com/pola-rs/polars']})\n",
    "BUCKAROOWidget(link_df,\n",
    "               column_config_overrides={'linkify': {'displayer_args':  {  'displayer': 'linkify'}}})\n",
    "#fixme no underline or blue highlighting of links... but they are links"
   ]
  },
  {
   "cell_type": "code",
   "execution_count": 11,
   "id": "06a67f09-191a-40d1-8cf3-2ef240290516",
   "metadata": {
    "tags": []
   },
   "outputs": [
    {
     "data": {
      "application/vnd.jupyter.widget-view+json": {
       "model_id": "eb77d3653adf459f8cc9445907929108",
       "version_major": 2,
       "version_minor": 0
      },
      "text/plain": [
       "PdGalleryBuckaroo(buckaroo_options={'sampled': ['random'], 'auto_clean': ['aggressive', 'conservative'], 'post…"
      ]
     },
     "execution_count": 11,
     "metadata": {},
     "output_type": "execute_result"
    }
   ],
   "source": [
    "histo_df = pd.DataFrame({\n",
    "    'names': ['index', 'all_NA', 'half_NA', 'longtail', 'longtail_unique'],\n",
    "     'histogram_props': ['histogram',\n",
    "          [{'name': 'NA', 'NA': 100.0}],\n",
    "          [{'name': 1, 'cat_pop': 44.0}, {'name': 'NA', 'NA': 56.0}],\n",
    "          [{'name': 'long_97', 'cat_pop': 0.0},\n",
    "           {'name': 'long_139', 'cat_pop': 0.0},\n",
    "           {'name': 'long_12', 'cat_pop': 0.0},\n",
    "           {'name': 'long_134', 'cat_pop': 0.0},\n",
    "           {'name': 'long_21', 'cat_pop': 0.0},\n",
    "           {'name': 'long_44', 'cat_pop': 0.0},\n",
    "           {'name': 'long_58', 'cat_pop': 0.0},\n",
    "           {'name': 'longtail', 'longtail': 77.0},\n",
    "           {'name': 'NA', 'NA': 20.0}],\n",
    "          [{'name': 'long_113', 'cat_pop': 0.0},\n",
    "           {'name': 'long_116', 'cat_pop': 0.0},\n",
    "           {'name': 'long_33', 'cat_pop': 0.0},\n",
    "           {'name': 'long_72', 'cat_pop': 0.0},\n",
    "           {'name': 'long_122', 'cat_pop': 0.0},\n",
    "           {'name': 'long_6', 'cat_pop': 0.0},\n",
    "           {'name': 'long_83', 'cat_pop': 0.0},\n",
    "           {'name': 'longtail', 'unique': 50.0, 'longtail': 47.0}]]})\n",
    "from buckaroo.customizations.analysis import TypingStats\n",
    "from buckaroo.buckaroo_widget import BuckarooWidget\n",
    "class PdGalleryBuckaroo(BuckarooWidget):\n",
    "    analysis_klasses = [GalleryStyling, TypingStats]\n",
    "PdGalleryBuckaroo(histo_df,\n",
    "                   column_config_overrides={\n",
    "                    'histogram_props': {'displayer_args': {'displayer': 'histogram'}}})\n",
    "#Fixme, this doesn't work with polars right now, probably related to the object dtype problem"
   ]
  },
  {
   "cell_type": "markdown",
   "id": "c8d2accd-4732-43ff-b92a-d827b330b538",
   "metadata": {},
   "source": [
    "# Tooltips"
   ]
  },
  {
   "cell_type": "code",
   "execution_count": 12,
   "id": "344ce005-1c0d-4ee6-8ef3-95c2cde977ac",
   "metadata": {
    "tags": []
   },
   "outputs": [
    {
     "data": {
      "application/vnd.jupyter.widget-view+json": {
       "model_id": "85a98aa5785844cdba2c73c4517e18f3",
       "version_major": 2,
       "version_minor": 0
      },
      "text/plain": [
       "PolarsBuckarooWidget(buckaroo_options={'sampled': ['random'], 'auto_clean': ['aggressive', 'conservative'], 'p…"
      ]
     },
     "execution_count": 12,
     "metadata": {},
     "output_type": "execute_result"
    }
   ],
   "source": [
    "ROWS = 200\n",
    "typed_df = pl.DataFrame({'int_col':np.random.randint(1,50, ROWS), 'float_col': np.random.randint(1,30, ROWS)/.7,\n",
    "                         \"str_col\": [\"foobar\"]* ROWS})\n",
    "PolarsBuckarooWidget(\n",
    "    typed_df, \n",
    "    column_config_overrides={\n",
    "        'str_col':\n",
    "            {'tooltip_config': { 'tooltip_type':'simple', 'val_column': 'int_col'}}})"
   ]
  },
  {
   "cell_type": "markdown",
   "id": "f7a91713-b95d-4546-a5ad-0be964f4b2df",
   "metadata": {},
   "source": [
    "# Color_map_config\n",
    "```ts\n",
    "//ColorMapRules\n",
    "export interface ColorMapRules {\n",
    "  color_rule: 'color_map';\n",
    "  map_name: 'BLUE_TO_YELLOW' | 'DIVERGING_RED_WHITE_BLUE';\n",
    "  //optional, the column to base the ranges on.  the proper histogram_bins must still be sent in for that column\n",
    "  val_column?: string;\n",
    "}\n",
    "\n",
    "//if exist_column is not null,  set cell style to condtional_color... used for highlighting changed values or errored_rows\n",
    "export interface ColorWhenNotNullRules {\n",
    "  color_rule: 'color_not_null';\n",
    "  conditional_color: string | 'red';\n",
    "  exist_column: string;\n",
    "}\n",
    "\n",
    "export interface ColorFromColumn {\n",
    "  color_rule: 'color_from_column';\n",
    "  col_name: string;\n",
    "}\n",
    "```"
   ]
  },
  {
   "cell_type": "code",
   "execution_count": 13,
   "id": "3dbf1c45-7725-4cd7-8008-da3085f55667",
   "metadata": {
    "tags": []
   },
   "outputs": [
    {
     "data": {
      "application/vnd.jupyter.widget-view+json": {
       "model_id": "5bca7525a07e41a9a7b1dbc007325c0d",
       "version_major": 2,
       "version_minor": 0
      },
      "text/plain": [
       "PolarsBuckarooWidget(buckaroo_options={'sampled': ['random'], 'auto_clean': ['aggressive', 'conservative'], 'p…"
      ]
     },
     "execution_count": 13,
     "metadata": {},
     "output_type": "execute_result"
    }
   ],
   "source": [
    "PolarsBuckarooWidget(\n",
    "    typed_df, \n",
    "    column_config_overrides={\n",
    "        'float_col': {'color_map_config': {\n",
    "          'color_rule': 'color_map',\n",
    "          'map_name': 'BLUE_TO_YELLOW',\n",
    "        }}})"
   ]
  },
  {
   "cell_type": "code",
   "execution_count": 14,
   "id": "a43ecbfb-ae8d-428f-9cb5-29eb53afa076",
   "metadata": {
    "tags": []
   },
   "outputs": [
    {
     "data": {
      "application/vnd.jupyter.widget-view+json": {
       "model_id": "9c041c03905a4a00be5dc16a5f6b1096",
       "version_major": 2,
       "version_minor": 0
      },
      "text/plain": [
       "PolarsBuckarooWidget(buckaroo_options={'sampled': ['random'], 'auto_clean': ['aggressive', 'conservative'], 'p…"
      ]
     },
     "execution_count": 14,
     "metadata": {},
     "output_type": "execute_result"
    }
   ],
   "source": [
    "error_df = pl.DataFrame({\n",
    "    'a': [10, 20, 30],\n",
    "    'err_messages': [None, \"a must be less than 19, it is 20\", \"a must be less than 19, it is 30\"]})\n",
    "\n",
    "PolarsBuckarooWidget(\n",
    "    error_df, \n",
    "    column_config_overrides={\n",
    "        'a': {'color_map_config': {\n",
    "            'color_rule': 'color_not_null',\n",
    "            'conditional_color': 'red',\n",
    "            'exist_column': 'err_messages'}}})"
   ]
  },
  {
   "cell_type": "code",
   "execution_count": 15,
   "id": "0bc7cef8-1f93-4415-a420-c9aa44fd583e",
   "metadata": {
    "tags": []
   },
   "outputs": [
    {
     "data": {
      "application/vnd.jupyter.widget-view+json": {
       "model_id": "259fff38c3ca433087b37c45a468052e",
       "version_major": 2,
       "version_minor": 0
      },
      "text/plain": [
       "PolarsBuckarooWidget(buckaroo_options={'sampled': ['random'], 'auto_clean': ['aggressive', 'conservative'], 'p…"
      ]
     },
     "execution_count": 15,
     "metadata": {},
     "output_type": "execute_result"
    }
   ],
   "source": [
    "color_df = pl.DataFrame({\n",
    "    'a': [10, 20, 30],\n",
    "    'a_colors': ['red', '#d3a', 'green']})\n",
    "\n",
    "PolarsBuckarooWidget(\n",
    "    color_df, \n",
    "    column_config_overrides={\n",
    "        'a': { 'color_map_config': {\n",
    "          'color_rule': 'color_from_column',\n",
    "          'col_name': 'a_colors'}}})"
   ]
  },
  {
   "cell_type": "markdown",
   "id": "1768186c-14fc-49fa-8e03-e8f454411d5b",
   "metadata": {},
   "source": [
    "Extra col def type\n",
    "\n",
    "`ag_grid_specs`\n",
    "only to be used for very specific hacking.  You can set any primitive property, but can't set function props\n",
    "https://github.com/ag-grid/ag-grid/blob/3cce76f1f2fd7142126f659fdc1dc3f0b7bc6191/grid-community-modules/core/src/ts/entities/colDef.ts#L4\n",
    "\n",
    "latest\n",
    "https://github.com/ag-grid/ag-grid/blob/latest/grid-community-modules/core/src/ts/entities/colDef.ts"
   ]
  },
  {
   "cell_type": "markdown",
   "id": "2ebaa204-9a32-47d0-9d87-14d9755a738b",
   "metadata": {},
   "source": [
    "# Utility Code"
   ]
  },
  {
   "cell_type": "code",
   "execution_count": 16,
   "id": "3fd31184-6197-4d13-a319-aaefee224745",
   "metadata": {
    "tags": []
   },
   "outputs": [
    {
     "data": {
      "text/plain": [
       "{'names': ['index', 'all_NA', 'half_NA', 'longtail', 'longtail_unique'],\n",
       " 'histogram_props': ['histogram',\n",
       "  [{'name': 'NA', 'NA': 100.0}],\n",
       "  [{'name': 1, 'cat_pop': 51.0}, {'name': 'NA', 'NA': 49.0}],\n",
       "  [{'name': 'long_82', 'cat_pop': 0.0},\n",
       "   {'name': 'long_9', 'cat_pop': 0.0},\n",
       "   {'name': 'long_55', 'cat_pop': 0.0},\n",
       "   {'name': 'long_177', 'cat_pop': 0.0},\n",
       "   {'name': 'long_116', 'cat_pop': 0.0},\n",
       "   {'name': 'long_4', 'cat_pop': 0.0},\n",
       "   {'name': 'long_97', 'cat_pop': 0.0},\n",
       "   {'name': 'longtail', 'longtail': 77.0},\n",
       "   {'name': 'NA', 'NA': 20.0}],\n",
       "  [{'name': 'long_82', 'cat_pop': 0.0},\n",
       "   {'name': 'long_87', 'cat_pop': 0.0},\n",
       "   {'name': 'long_52', 'cat_pop': 0.0},\n",
       "   {'name': 'long_0', 'cat_pop': 0.0},\n",
       "   {'name': 'long_95', 'cat_pop': 0.0},\n",
       "   {'name': 'long_75', 'cat_pop': 0.0},\n",
       "   {'name': 'long_115', 'cat_pop': 0.0},\n",
       "   {'name': 'longtail', 'unique': 50.0, 'longtail': 47.0}]]}"
      ]
     },
     "execution_count": 16,
     "metadata": {},
     "output_type": "execute_result"
    }
   ],
   "source": [
    "#utility code for generating histogram data structures\n",
    "from buckaroo.buckaroo_widget import BuckarooWidget\n",
    "\n",
    "NA = pd.NA\n",
    "def rand_cat(named_p, na_per, N):\n",
    "    choices, p = [], []\n",
    "    named_total_per = sum(named_p.values()) + na_per\n",
    "    total_len = int(np.floor(named_total_per * N))\n",
    "    if named_total_per > 0:\n",
    "        for k, v in named_p.items():\n",
    "            choices.append(k)\n",
    "            p.append(v/named_total_per)\n",
    "\n",
    "        choices.append(NA)\n",
    "        p.append(na_per/named_total_per)    \n",
    "        return [np.random.choice(choices, p=p) for k in range(total_len)]\n",
    "    else:\n",
    "        return []\n",
    "\n",
    "def random_categorical(named_p, unique_per, na_per, longtail_per, N):\n",
    "    choice_arr = rand_cat(named_p, na_per, N)\n",
    "    discrete_choice_len = len(choice_arr)\n",
    "\n",
    "    longtail_count = int(np.floor(longtail_per * N))//2\n",
    "    extra_arr = []\n",
    "    for i in range(longtail_count):\n",
    "        extra_arr.append(\"long_%d\" % i)\n",
    "        extra_arr.append(\"long_%d\" % i)\n",
    "\n",
    "    unique_len = N - (len(extra_arr) + discrete_choice_len)\n",
    "    #print(\"discrete_choice_len\", discrete_choice_len, \"longtail_count\", longtail_count, \"unique_len\", unique_len)\n",
    "    for i in range(unique_len):\n",
    "        extra_arr.append(\"unique_%d\" % i)\n",
    "    all_arr = np.concatenate([choice_arr, extra_arr])\n",
    "    np.random.shuffle(all_arr)\n",
    "    return all_arr        \n",
    "cat_histo_df = pd.DataFrame({\n",
    "    'all_NA' :          [NA] * N,\n",
    "    'half_NA' :         random_categorical({1: .5}, unique_per=0,   na_per=.5, longtail_per=.0, N=N),\n",
    "    'longtail' :        random_categorical({},      unique_per=0,   na_per=.2, longtail_per=.8, N=N),\n",
    "    'longtail_unique' : random_categorical({},      unique_per=0.5, na_per=.0, longtail_per=.5, N=N),\n",
    "})\n",
    "bw = BuckarooWidget(\n",
    "    cat_histo_df, \n",
    "    pinned_rows=[\n",
    "        { 'primary_key_val': 'dtype',     'displayer_args': { 'displayer': 'obj' } },\n",
    "        { 'primary_key_val': 'histogram', 'displayer_args': { 'displayer': 'histogram' }},   \n",
    "    ])\n",
    "histogram_vals = [x for x in bw.df_data_dict['all_stats'] if x['index'] == 'histogram'][0]\n",
    "def format_histo(bw):\n",
    "    histogram_vals = [x for x in bw.df_data_dict['all_stats'] if x['index'] == 'histogram'][0]\n",
    "    return dict(\n",
    "        names = list(histogram_vals.keys()),\n",
    "        histogram_props = list(histogram_vals.values()))\n",
    "format_histo(bw)"
   ]
  },
  {
   "cell_type": "code",
   "execution_count": 17,
   "id": "9eee93ff-49c2-41ca-b402-5378afa04ab8",
   "metadata": {
    "tags": []
   },
   "outputs": [],
   "source": [
    "from buckaroo.customizations.analysis import TypingStats\n",
    "from buckaroo.buckaroo_widget import BuckarooWidget\n",
    "class PdGalleryBuckaroo(BuckarooWidget):\n",
    "    analysis_klasses = [GalleryStyling, TypingStats]\n",
    "\n",
    "class PdGalleryBuckaroo(BuckarooWidget):\n",
    "    analysis_klasses = [GalleryStyling, TypingStats]\n",
    "\n"
   ]
  },
  {
   "cell_type": "code",
   "execution_count": 19,
   "id": "df395ef4-2f33-49d5-a380-6cead5926566",
   "metadata": {
    "tags": []
   },
   "outputs": [
    {
     "data": {
      "application/vnd.jupyter.widget-view+json": {
       "model_id": "99bb35498fcb41a2ac7d05144c049b5f",
       "version_major": 2,
       "version_minor": 0
      },
      "text/plain": [
       "GalleryBuckaroo(buckaroo_options={'sampled': ['random'], 'auto_clean': ['aggressive', 'conservative'], 'post_p…"
      ]
     },
     "execution_count": 19,
     "metadata": {},
     "output_type": "execute_result"
    }
   ],
   "source": [
    "pd_histo = pd.DataFrame(format_histo(bw))\n",
    "col_dict = dict(pd_histo.to_numpy().tolist()[1:])\n",
    "pl_histo = pl.DataFrame(dict([(k, [v]) for k,v in col_dict.items()]))\n",
    "PolarsBuckarooWidget(pl_histo)\n",
    "GalleryBuckaroo(pl_histo,\n",
    "                                   column_config_overrides={\n",
    "                    'histogram_props': {'displayer_args': {'displayer': 'histogram'}}})"
   ]
  },
  {
   "cell_type": "code",
   "execution_count": null,
   "id": "fdcbd269-f311-4002-b9ee-6b05dcba5a2a",
   "metadata": {
    "tags": []
   },
   "outputs": [],
   "source": [
    "pl.from_pandas(pd.DataFrame(format_histo(bw)))"
   ]
  },
  {
   "cell_type": "code",
   "execution_count": null,
   "id": "8a8b8b12-d094-4dcc-9152-1b00e77fb182",
   "metadata": {
    "tags": []
   },
   "outputs": [],
   "source": [
    "pl_gb = GalleryBuckaroo(pl.DataFrame(format_histo(bw)))\n",
    "pd_gb = PdGalleryBuckaroo(pd.DataFrame(format_histo(bw)))\n",
    "pd_gb.df_data_dict['main']"
   ]
  },
  {
   "cell_type": "code",
   "execution_count": null,
   "id": "440fb9fe-96b5-49c2-a341-41583b8fc0c6",
   "metadata": {
    "tags": []
   },
   "outputs": [],
   "source": [
    "pl_gb.df_data_dict['main']"
   ]
  },
  {
   "cell_type": "code",
   "execution_count": null,
   "id": "a10fe4bf-4522-41b5-b634-736cf5280cf5",
   "metadata": {
    "tags": []
   },
   "outputs": [],
   "source": [
    "from buckaroo.customizations.analysis import TypingStats\n",
    "from buckaroo.buckaroo_widget import BuckarooWidget\n",
    "class PdGalleryBuckaroo(BuckarooWidget):\n",
    "    analysis_klasses = [GalleryStyling, TypingStats]\n",
    "PdGalleryBuckaroo(pd.DataFrame(format_histo(bw)),\n",
    "                   column_config_overrides={\n",
    "                    'histogram_props': {'displayer_args': {'displayer': 'histogram'}}})"
   ]
  },
  {
   "cell_type": "code",
   "execution_count": null,
   "id": "57adf339-87aa-4e34-a2ab-ad02846a871c",
   "metadata": {},
   "outputs": [],
   "source": []
  },
  {
   "cell_type": "code",
   "execution_count": null,
   "id": "8e80393b-fa65-4c1b-89df-7345c4206b60",
   "metadata": {},
   "outputs": [],
   "source": []
  }
 ],
 "metadata": {
  "kernelspec": {
   "display_name": "Python 3 (ipykernel)",
   "language": "python",
   "name": "python3"
  },
  "language_info": {
   "codemirror_mode": {
    "name": "ipython",
    "version": 3
   },
   "file_extension": ".py",
   "mimetype": "text/x-python",
   "name": "python",
   "nbconvert_exporter": "python",
   "pygments_lexer": "ipython3",
   "version": "3.11.7"
  },
  "widgets": {
   "application/vnd.jupyter.widget-state+json": {
    "state": {
     "11c6e90f6859486baa1e8612c99f768b": {
      "model_module": "buckaroo",
      "model_module_version": "^0.5.1",
      "model_name": "DCEFWidgetModel",
      "state": {
       "_model_module_version": "^0.5.1",
       "_view_module_version": "^0.5.1",
       "_view_name": "DCEFWidgetView",
       "buckaroo_options": {
        "auto_clean": [
         "aggressive",
         "conservative"
        ],
        "df_display": [
         "main"
        ],
        "post_processing": [
         ""
        ],
        "sampled": [
         "random"
        ],
        "show_commands": [
         "on"
        ],
        "summary_stats": [
         "all"
        ]
       },
       "buckaroo_state": {
        "auto_clean": "conservative",
        "df_display": "main",
        "post_processing": "",
        "sampled": false,
        "search_string": "",
        "show_commands": false
       },
       "commandConfig": {
        "argspecs": {
         "dropcol": [
          null
         ],
         "fillna": [
          [
           3,
           "fillVal",
           "type",
           "integer"
          ]
         ],
         "groupby": [
          [
           3,
           "colMap",
           "colEnum",
           [
            "null",
            "sum",
            "mean",
            "median",
            "count"
           ]
          ]
         ],
         "onehot": [
          null
         ],
         "reindex": [
          null
         ],
         "safeint": [
          null
         ],
         "to_bool": [
          null
         ],
         "to_datetime": [
          null
         ],
         "to_float": [
          null
         ],
         "to_int": [
          null
         ],
         "to_string": [
          null
         ]
        },
        "defaultArgs": {
         "dropcol": [
          {
           "symbol": "dropcol"
          },
          {
           "symbol": "df"
          },
          "col"
         ],
         "fillna": [
          {
           "symbol": "fillna"
          },
          {
           "symbol": "df"
          },
          "col",
          8
         ],
         "groupby": [
          {
           "symbol": "groupby"
          },
          {
           "symbol": "df"
          },
          "col",
          {}
         ],
         "onehot": [
          {
           "symbol": "onehot"
          },
          {
           "symbol": "df"
          },
          "col"
         ],
         "reindex": [
          {
           "symbol": "reindex"
          },
          {
           "symbol": "df"
          },
          "col"
         ],
         "safeint": [
          {
           "symbol": "safeint"
          },
          {
           "symbol": "df"
          },
          "col"
         ],
         "to_bool": [
          {
           "symbol": "to_bool"
          },
          {
           "symbol": "df"
          },
          "col"
         ],
         "to_datetime": [
          {
           "symbol": "to_datetime"
          },
          {
           "symbol": "df"
          },
          "col"
         ],
         "to_float": [
          {
           "symbol": "to_float"
          },
          {
           "symbol": "df"
          },
          "col"
         ],
         "to_int": [
          {
           "symbol": "to_int"
          },
          {
           "symbol": "df"
          },
          "col"
         ],
         "to_string": [
          {
           "symbol": "to_string"
          },
          {
           "symbol": "df"
          },
          "col"
         ]
        }
       },
       "df_data_dict": {
        "all_stats": [
         {
          "bools": "Boolean",
          "dicts": "Struct({'a': Int64, 'b': Int64, 'c': String})",
          "index": "dtype",
          "ints": "Int64",
          "lists": "List(String)",
          "lists-int": "List(Int64)",
          "lists-string": "List(String)",
          "nested_dicts": "Struct({'level_1': Struct({'a': Int64, 'b': Int64, 'c': String})})",
          "timestamp": "String"
         },
         {
          "bools": false,
          "dicts": false,
          "index": "is_numeric",
          "ints": true,
          "lists": false,
          "lists-int": false,
          "lists-string": false,
          "nested_dicts": false,
          "timestamp": false
         },
         {
          "bools": false,
          "dicts": false,
          "index": "is_integer",
          "ints": true,
          "lists": false,
          "lists-int": false,
          "lists-string": false,
          "nested_dicts": false,
          "timestamp": false
         },
         {
          "bools": "boolean",
          "dicts": "unknown",
          "index": "_type",
          "ints": "integer",
          "lists": "unknown",
          "lists-int": "unknown",
          "lists-string": "unknown",
          "nested_dicts": "unknown",
          "timestamp": "string"
         }
        ],
        "empty": [],
        "main": [
         {
          "bools": true,
          "dicts": {
           "a": 10,
           "b": 20,
           "c": "some string"
          },
          "index": 0,
          "ints": 5,
          "lists": [
           "a",
           "b"
          ],
          "lists-int": [
           10,
           20
          ],
          "lists-string": [
           "a",
           "b"
          ],
          "nested_dicts": {
           "level_1": {
            "a": 10,
            "b": 20,
            "c": "some string"
           }
          },
          "timestamp": "2020-01-01 01:00Z"
         },
         {
          "bools": true,
          "dicts": {
           "a": null,
           "b": null,
           "c": null
          },
          "index": 1,
          "ints": 20,
          "lists": [
           "1",
           "2"
          ],
          "lists-int": [
           100,
           500
          ],
          "lists-string": [
           "foo",
           "bar"
          ],
          "nested_dicts": {
           "level_1": {
            "a": null,
            "b": null,
            "c": null
           }
          },
          "timestamp": "2020-01-01 02:00Z"
         },
         {
          "bools": false,
          "dicts": {
           "a": null,
           "b": null,
           "c": null
          },
          "index": 2,
          "ints": 30,
          "lists": null,
          "lists-int": [
           8
          ],
          "lists-string": null,
          "nested_dicts": {
           "level_1": {
            "a": null,
            "b": null,
            "c": null
           }
          },
          "timestamp": "2020-02-28 02:00Z"
         },
         {
          "bools": false,
          "dicts": {
           "a": null,
           "b": null,
           "c": null
          },
          "index": 3,
          "ints": -10,
          "lists": null,
          "lists-int": null,
          "lists-string": null,
          "nested_dicts": {
           "level_1": {
            "a": null,
            "b": null,
            "c": null
           }
          },
          "timestamp": "2020-03-15 02:00Z"
         },
         {
          "bools": true,
          "dicts": {
           "a": null,
           "b": null,
           "c": null
          },
          "index": 4,
          "ints": 7772,
          "lists": null,
          "lists-int": null,
          "lists-string": null,
          "nested_dicts": {
           "level_1": {
            "a": null,
            "b": null,
            "c": null
           }
          },
          "timestamp": null
         },
         {
          "bools": null,
          "dicts": {
           "a": null,
           "b": null,
           "c": null
          },
          "index": 5,
          "ints": null,
          "lists": null,
          "lists-int": null,
          "lists-string": null,
          "nested_dicts": {
           "level_1": {
            "a": null,
            "b": null,
            "c": null
           }
          },
          "timestamp": null
         }
        ]
       },
       "df_display_args": {
        "main": {
         "data_key": "main",
         "df_viewer_config": {
          "column_config": [
           {
            "col_name": "index",
            "displayer_args": {
             "displayer": "obj"
            }
           },
           {
            "col_name": "bools",
            "displayer_args": {
             "displayer": "obj"
            }
           },
           {
            "col_name": "ints",
            "displayer_args": {
             "displayer": "obj"
            }
           },
           {
            "col_name": "timestamp",
            "displayer_args": {
             "displayer": "obj"
            }
           },
           {
            "col_name": "dicts",
            "displayer_args": {
             "displayer": "obj"
            }
           },
           {
            "col_name": "nested_dicts",
            "displayer_args": {
             "displayer": "obj"
            }
           },
           {
            "col_name": "lists",
            "displayer_args": {
             "displayer": "obj"
            }
           },
           {
            "col_name": "lists-string",
            "displayer_args": {
             "displayer": "obj"
            }
           },
           {
            "col_name": "lists-int",
            "displayer_args": {
             "displayer": "obj"
            }
           }
          ],
          "pinned_rows": [
           {
            "displayer_args": {
             "displayer": "obj"
            },
            "primary_key_val": "dtype"
           }
          ]
         },
         "summary_stats_key": "all_stats"
        }
       },
       "df_meta": {
        "columns": 8,
        "rows_shown": 6,
        "total_rows": 6
       },
       "layout": "IPY_MODEL_cf8e1df8555e41708d08af7898d789f4",
       "operation_results": {
        "generated_py_code": "# instantiation, unused",
        "transformed_df": {
         "column_config": [],
         "data": [],
         "pinned_rows": []
        }
       },
       "operations": []
      }
     },
     "1c92358edef742fa98fa9954dc8af83e": {
      "model_module": "@jupyter-widgets/base",
      "model_module_version": "2.0.0",
      "model_name": "LayoutModel",
      "state": {}
     },
     "21cda47a210543589c40a81beee06641": {
      "model_module": "buckaroo",
      "model_module_version": "^0.5.1",
      "model_name": "DCEFWidgetModel",
      "state": {
       "_model_module_version": "^0.5.1",
       "_view_module_version": "^0.5.1",
       "_view_name": "DCEFWidgetView",
       "buckaroo_options": {
        "auto_clean": [
         "aggressive",
         "conservative"
        ],
        "df_display": [
         "summary",
         "main"
        ],
        "post_processing": [
         ""
        ],
        "sampled": [
         "random"
        ],
        "show_commands": [
         "on"
        ],
        "summary_stats": [
         "all"
        ]
       },
       "buckaroo_state": {
        "auto_clean": "conservative",
        "df_display": "main",
        "post_processing": "",
        "sampled": false,
        "search_string": "",
        "show_commands": false
       },
       "commandConfig": {
        "argspecs": {
         "dropcol": [
          null
         ],
         "fillna": [
          [
           3,
           "fillVal",
           "type",
           "integer"
          ]
         ],
         "groupby": [
          [
           3,
           "colMap",
           "colEnum",
           [
            "null",
            "sum",
            "mean",
            "median",
            "count"
           ]
          ]
         ],
         "onehot": [
          null
         ],
         "reindex": [
          null
         ],
         "safeint": [
          null
         ],
         "to_bool": [
          null
         ],
         "to_datetime": [
          null
         ],
         "to_float": [
          null
         ],
         "to_int": [
          null
         ],
         "to_string": [
          null
         ]
        },
        "defaultArgs": {
         "dropcol": [
          {
           "symbol": "dropcol"
          },
          {
           "symbol": "df"
          },
          "col"
         ],
         "fillna": [
          {
           "symbol": "fillna"
          },
          {
           "symbol": "df"
          },
          "col",
          8
         ],
         "groupby": [
          {
           "symbol": "groupby"
          },
          {
           "symbol": "df"
          },
          "col",
          {}
         ],
         "onehot": [
          {
           "symbol": "onehot"
          },
          {
           "symbol": "df"
          },
          "col"
         ],
         "reindex": [
          {
           "symbol": "reindex"
          },
          {
           "symbol": "df"
          },
          "col"
         ],
         "safeint": [
          {
           "symbol": "safeint"
          },
          {
           "symbol": "df"
          },
          "col"
         ],
         "to_bool": [
          {
           "symbol": "to_bool"
          },
          {
           "symbol": "df"
          },
          "col"
         ],
         "to_datetime": [
          {
           "symbol": "to_datetime"
          },
          {
           "symbol": "df"
          },
          "col"
         ],
         "to_float": [
          {
           "symbol": "to_float"
          },
          {
           "symbol": "df"
          },
          "col"
         ],
         "to_int": [
          {
           "symbol": "to_int"
          },
          {
           "symbol": "df"
          },
          "col"
         ],
         "to_string": [
          {
           "symbol": "to_string"
          },
          {
           "symbol": "df"
          },
          "col"
         ]
        }
       },
       "df_data_dict": {
        "all_stats": [
         {
          "index": "value_counts",
          "linkify": "shape: (2,)\nSeries: '' [struct[2]]\n[\n\t{\"https://github.com/paddymul/buckaroo\",1}\n\t{\"https://github.com/pola-rs/polars\",1}\n]",
          "raw": "shape: (2,)\nSeries: '' [struct[2]]\n[\n\t{\"https://github.com/paddymul/buckaroo\",1}\n\t{\"https://github.com/pola-rs/polars\",1}\n]"
         },
         {
          "index": "length",
          "linkify": 2,
          "raw": 2
         },
         {
          "index": "nan_count",
          "linkify": 0,
          "raw": 0
         },
         {
          "index": "min",
          "linkify": "https://github.com/paddymul/buckaroo",
          "raw": "https://github.com/paddymul/buckaroo"
         },
         {
          "index": "max",
          "linkify": "https://github.com/pola-rs/polars",
          "raw": "https://github.com/pola-rs/polars"
         },
         {
          "index": "mean",
          "linkify": null,
          "raw": null
         },
         {
          "index": "empty_count",
          "linkify": 0,
          "raw": 0
         },
         {
          "index": "unique_count",
          "linkify": 2,
          "raw": 2
         },
         {
          "index": "dtype",
          "linkify": "String",
          "raw": "String"
         },
         {
          "index": "is_numeric",
          "linkify": false,
          "raw": false
         },
         {
          "index": "is_integer",
          "linkify": false,
          "raw": false
         },
         {
          "index": "_type",
          "linkify": "string",
          "raw": "string"
         },
         {
          "index": "mode",
          "linkify": "https://github.com/paddymul/buckaroo",
          "raw": "https://github.com/paddymul/buckaroo"
         },
         {
          "index": "distinct_count",
          "linkify": 2,
          "raw": 2
         },
         {
          "index": "type",
          "linkify": "string",
          "raw": "string"
         },
         {
          "index": "distinct_per",
          "linkify": 1,
          "raw": 1
         },
         {
          "index": "empty_per",
          "linkify": 0,
          "raw": 0
         },
         {
          "index": "unique_per",
          "linkify": 1,
          "raw": 1
         },
         {
          "index": "nan_per",
          "linkify": 0,
          "raw": 0
         },
         {
          "index": "categorical_histogram",
          "linkify": {
           "https://github.com/paddymul/buckaroo": 0.5,
           "https://github.com/pola-rs/polars": 0.5,
           "longtail": -1,
           "unique": 1
          },
          "raw": {
           "https://github.com/paddymul/buckaroo": 0.5,
           "https://github.com/pola-rs/polars": 0.5,
           "longtail": -1,
           "unique": 1
          }
         },
         {
          "index": "histogram",
          "linkify": [
           {
            "cat_pop": 50,
            "name": "https://github.com/paddymul/buckaroo"
           },
           {
            "cat_pop": 50,
            "name": "https://github.com/pola-rs/polars"
           },
           {
            "name": "unique",
            "unique": 100
           }
          ],
          "raw": [
           {
            "cat_pop": 50,
            "name": "https://github.com/paddymul/buckaroo"
           },
           {
            "cat_pop": 50,
            "name": "https://github.com/pola-rs/polars"
           },
           {
            "name": "unique",
            "unique": 100
           }
          ]
         },
         {
          "index": "histogram_bins",
          "linkify": [
           "faked"
          ],
          "raw": [
           "faked"
          ]
         }
        ],
        "empty": [],
        "main": [
         {
          "index": 0,
          "linkify": "https://github.com/paddymul/buckaroo",
          "raw": "https://github.com/paddymul/buckaroo"
         },
         {
          "index": 1,
          "linkify": "https://github.com/pola-rs/polars",
          "raw": "https://github.com/pola-rs/polars"
         }
        ]
       },
       "df_display_args": {
        "main": {
         "data_key": "main",
         "df_viewer_config": {
          "column_config": [
           {
            "col_name": "index",
            "displayer_args": {
             "displayer": "obj"
            }
           },
           {
            "col_name": "raw",
            "displayer_args": {
             "displayer": "obj"
            }
           },
           {
            "col_name": "linkify",
            "displayer_args": {
             "displayer": "linkify"
            }
           }
          ],
          "pinned_rows": [
           {
            "displayer_args": {
             "displayer": "obj"
            },
            "primary_key_val": "dtype"
           },
           {
            "displayer_args": {
             "displayer": "histogram"
            },
            "primary_key_val": "histogram"
           }
          ]
         },
         "summary_stats_key": "all_stats"
        },
        "summary": {
         "data_key": "empty",
         "df_viewer_config": {
          "column_config": [
           {
            "col_name": "index",
            "displayer_args": {
             "displayer": "obj"
            }
           },
           {
            "col_name": "raw",
            "displayer_args": {
             "displayer": "obj"
            }
           },
           {
            "col_name": "linkify",
            "displayer_args": {
             "displayer": "linkify"
            }
           }
          ],
          "pinned_rows": [
           {
            "displayer_args": {
             "displayer": "obj"
            },
            "primary_key_val": "dtype"
           },
           {
            "displayer_args": {
             "displayer": "float",
             "maximumFractionDigits": 3,
             "minimumFractionDigits": 3
            },
            "primary_key_val": "min"
           },
           {
            "displayer_args": {
             "displayer": "float",
             "maximumFractionDigits": 3,
             "minimumFractionDigits": 3
            },
            "primary_key_val": "mean"
           },
           {
            "displayer_args": {
             "displayer": "float",
             "maximumFractionDigits": 3,
             "minimumFractionDigits": 3
            },
            "primary_key_val": "max"
           },
           {
            "displayer_args": {
             "displayer": "float",
             "maximumFractionDigits": 0,
             "minimumFractionDigits": 0
            },
            "primary_key_val": "unique_count"
           },
           {
            "displayer_args": {
             "displayer": "float",
             "maximumFractionDigits": 0,
             "minimumFractionDigits": 0
            },
            "primary_key_val": "distinct_count"
           },
           {
            "displayer_args": {
             "displayer": "float",
             "maximumFractionDigits": 0,
             "minimumFractionDigits": 0
            },
            "primary_key_val": "empty_count"
           }
          ]
         },
         "summary_stats_key": "all_stats"
        }
       },
       "df_meta": {
        "columns": 2,
        "rows_shown": 2,
        "total_rows": 2
       },
       "layout": "IPY_MODEL_e552a1a9610646eea245c49656b8e8bd",
       "operation_results": {
        "generated_py_code": "# instantiation, unused",
        "transformed_df": {
         "column_config": [],
         "data": [],
         "pinned_rows": []
        }
       },
       "operations": []
      }
     },
     "259fff38c3ca433087b37c45a468052e": {
      "model_module": "buckaroo",
      "model_module_version": "^0.5.1",
      "model_name": "DCEFWidgetModel",
      "state": {
       "_model_module_version": "^0.5.1",
       "_view_module_version": "^0.5.1",
       "_view_name": "DCEFWidgetView",
       "buckaroo_options": {
        "auto_clean": [
         "aggressive",
         "conservative"
        ],
        "df_display": [
         "summary",
         "main"
        ],
        "post_processing": [
         ""
        ],
        "sampled": [
         "random"
        ],
        "show_commands": [
         "on"
        ],
        "summary_stats": [
         "all"
        ]
       },
       "buckaroo_state": {
        "auto_clean": "conservative",
        "df_display": "main",
        "post_processing": "",
        "sampled": false,
        "search_string": "",
        "show_commands": false
       },
       "commandConfig": {
        "argspecs": {
         "dropcol": [
          null
         ],
         "fillna": [
          [
           3,
           "fillVal",
           "type",
           "integer"
          ]
         ],
         "groupby": [
          [
           3,
           "colMap",
           "colEnum",
           [
            "null",
            "sum",
            "mean",
            "median",
            "count"
           ]
          ]
         ],
         "onehot": [
          null
         ],
         "reindex": [
          null
         ],
         "safeint": [
          null
         ],
         "to_bool": [
          null
         ],
         "to_datetime": [
          null
         ],
         "to_float": [
          null
         ],
         "to_int": [
          null
         ],
         "to_string": [
          null
         ]
        },
        "defaultArgs": {
         "dropcol": [
          {
           "symbol": "dropcol"
          },
          {
           "symbol": "df"
          },
          "col"
         ],
         "fillna": [
          {
           "symbol": "fillna"
          },
          {
           "symbol": "df"
          },
          "col",
          8
         ],
         "groupby": [
          {
           "symbol": "groupby"
          },
          {
           "symbol": "df"
          },
          "col",
          {}
         ],
         "onehot": [
          {
           "symbol": "onehot"
          },
          {
           "symbol": "df"
          },
          "col"
         ],
         "reindex": [
          {
           "symbol": "reindex"
          },
          {
           "symbol": "df"
          },
          "col"
         ],
         "safeint": [
          {
           "symbol": "safeint"
          },
          {
           "symbol": "df"
          },
          "col"
         ],
         "to_bool": [
          {
           "symbol": "to_bool"
          },
          {
           "symbol": "df"
          },
          "col"
         ],
         "to_datetime": [
          {
           "symbol": "to_datetime"
          },
          {
           "symbol": "df"
          },
          "col"
         ],
         "to_float": [
          {
           "symbol": "to_float"
          },
          {
           "symbol": "df"
          },
          "col"
         ],
         "to_int": [
          {
           "symbol": "to_int"
          },
          {
           "symbol": "df"
          },
          "col"
         ],
         "to_string": [
          {
           "symbol": "to_string"
          },
          {
           "symbol": "df"
          },
          "col"
         ]
        }
       },
       "df_data_dict": {
        "all_stats": [
         {
          "a": "shape: (3,)\nSeries: '' [struct[2]]\n[\n\t{10,1}\n\t{20,1}\n\t{30,1}\n]",
          "a_colors": "shape: (3,)\nSeries: '' [struct[2]]\n[\n\t{\"red\",1}\n\t{\"#d3a\",1}\n\t{\"green\",1}\n]",
          "index": "value_counts"
         },
         {
          "a": 3,
          "a_colors": 3,
          "index": "length"
         },
         {
          "a": 0,
          "a_colors": 0,
          "index": "nan_count"
         },
         {
          "a": 10,
          "a_colors": "#d3a",
          "index": "min"
         },
         {
          "a": 30,
          "a_colors": "red",
          "index": "max"
         },
         {
          "a": 20,
          "a_colors": null,
          "index": "mean"
         },
         {
          "a": 3,
          "a_colors": 3,
          "index": "unique_count"
         },
         {
          "a": "Int64",
          "a_colors": "String",
          "index": "dtype"
         },
         {
          "a": {
           "high_tail": 30,
           "low_tail": 10,
           "meat_histogram": [
            [
             0,
             0,
             0,
             0,
             1,
             0,
             0,
             0,
             0,
             0
            ],
            [
             10,
             19.2,
             19.4,
             19.6,
             19.8,
             20,
             20.2,
             20.4,
             20.6,
             20.8,
             30
            ]
           ],
           "normalized_populations": [
            0,
            0,
            0,
            0,
            1,
            0,
            0,
            0,
            0,
            0
           ]
          },
          "a_colors": null,
          "index": "histogram_args"
         },
         {
          "a": true,
          "a_colors": false,
          "index": "is_numeric"
         },
         {
          "a": true,
          "a_colors": false,
          "index": "is_integer"
         },
         {
          "a": "integer",
          "a_colors": "string",
          "index": "_type"
         },
         {
          "a": 10,
          "a_colors": "red",
          "index": "mode"
         },
         {
          "a": 3,
          "a_colors": 3,
          "index": "distinct_count"
         },
         {
          "a": "integer",
          "a_colors": "string",
          "index": "type"
         },
         {
          "a": 2,
          "a_colors": null,
          "index": "min_digits"
         },
         {
          "a": 2,
          "a_colors": null,
          "index": "max_digits"
         },
         {
          "a": 1,
          "a_colors": 1,
          "index": "distinct_per"
         },
         {
          "a": 0,
          "a_colors": 0,
          "index": "empty_per"
         },
         {
          "a": 1,
          "a_colors": 1,
          "index": "unique_per"
         },
         {
          "a": 0,
          "a_colors": 0,
          "index": "nan_per"
         },
         {
          "a": {
           "10": 0.3333333333,
           "20": 0.3333333333,
           "30": 0.3333333333,
           "longtail": -1,
           "unique": 1
          },
          "a_colors": {
           "#d3a": 0.3333333333,
           "green": 0.3333333333,
           "longtail": -1,
           "red": 0.3333333333,
           "unique": 1
          },
          "index": "categorical_histogram"
         },
         {
          "a": [
           {
            "cat_pop": 33,
            "name": 10
           },
           {
            "cat_pop": 33,
            "name": 20
           },
           {
            "cat_pop": 33,
            "name": 30
           },
           {
            "name": "unique",
            "unique": 100
           }
          ],
          "a_colors": [
           {
            "cat_pop": 33,
            "name": "red"
           },
           {
            "cat_pop": 33,
            "name": "#d3a"
           },
           {
            "cat_pop": 33,
            "name": "green"
           },
           {
            "name": "unique",
            "unique": 100
           }
          ],
          "index": "histogram"
         },
         {
          "a": [
           "faked"
          ],
          "a_colors": [
           "faked"
          ],
          "index": "histogram_bins"
         },
         {
          "a": null,
          "a_colors": 0,
          "index": "empty_count"
         }
        ],
        "empty": [],
        "main": [
         {
          "a": 10,
          "a_colors": "red",
          "index": 0
         },
         {
          "a": 20,
          "a_colors": "#d3a",
          "index": 1
         },
         {
          "a": 30,
          "a_colors": "green",
          "index": 2
         }
        ]
       },
       "df_display_args": {
        "main": {
         "data_key": "main",
         "df_viewer_config": {
          "column_config": [
           {
            "col_name": "index",
            "displayer_args": {
             "displayer": "obj"
            }
           },
           {
            "col_name": "a",
            "color_map_config": {
             "col_name": "a_colors",
             "color_rule": "color_from_column"
            },
            "displayer_args": {
             "displayer": "float",
             "maximumFractionDigits": 0,
             "minimumFractionDigits": 0
            }
           },
           {
            "col_name": "a_colors",
            "displayer_args": {
             "displayer": "obj"
            }
           }
          ],
          "pinned_rows": [
           {
            "displayer_args": {
             "displayer": "obj"
            },
            "primary_key_val": "dtype"
           },
           {
            "displayer_args": {
             "displayer": "histogram"
            },
            "primary_key_val": "histogram"
           }
          ]
         },
         "summary_stats_key": "all_stats"
        },
        "summary": {
         "data_key": "empty",
         "df_viewer_config": {
          "column_config": [
           {
            "col_name": "index",
            "displayer_args": {
             "displayer": "obj"
            }
           },
           {
            "col_name": "a",
            "color_map_config": {
             "col_name": "a_colors",
             "color_rule": "color_from_column"
            },
            "displayer_args": {
             "displayer": "obj"
            }
           },
           {
            "col_name": "a_colors",
            "displayer_args": {
             "displayer": "obj"
            }
           }
          ],
          "pinned_rows": [
           {
            "displayer_args": {
             "displayer": "obj"
            },
            "primary_key_val": "dtype"
           },
           {
            "displayer_args": {
             "displayer": "float",
             "maximumFractionDigits": 3,
             "minimumFractionDigits": 3
            },
            "primary_key_val": "min"
           },
           {
            "displayer_args": {
             "displayer": "float",
             "maximumFractionDigits": 3,
             "minimumFractionDigits": 3
            },
            "primary_key_val": "mean"
           },
           {
            "displayer_args": {
             "displayer": "float",
             "maximumFractionDigits": 3,
             "minimumFractionDigits": 3
            },
            "primary_key_val": "max"
           },
           {
            "displayer_args": {
             "displayer": "float",
             "maximumFractionDigits": 0,
             "minimumFractionDigits": 0
            },
            "primary_key_val": "unique_count"
           },
           {
            "displayer_args": {
             "displayer": "float",
             "maximumFractionDigits": 0,
             "minimumFractionDigits": 0
            },
            "primary_key_val": "distinct_count"
           },
           {
            "displayer_args": {
             "displayer": "float",
             "maximumFractionDigits": 0,
             "minimumFractionDigits": 0
            },
            "primary_key_val": "empty_count"
           }
          ]
         },
         "summary_stats_key": "all_stats"
        }
       },
       "df_meta": {
        "columns": 2,
        "rows_shown": 3,
        "total_rows": 3
       },
       "layout": "IPY_MODEL_fab865498e0548fea3f982546bfbdb52",
       "operation_results": {
        "generated_py_code": "# instantiation, unused",
        "transformed_df": {
         "column_config": [],
         "data": [],
         "pinned_rows": []
        }
       },
       "operations": []
      }
     },
     "4c856568d3b747c590d8026bda3cafe1": {
      "model_module": "@jupyter-widgets/base",
      "model_module_version": "2.0.0",
      "model_name": "LayoutModel",
      "state": {}
     },
     "4ea61c83bb6e4ee084077e7e5c44ae1e": {
      "model_module": "@jupyter-widgets/base",
      "model_module_version": "2.0.0",
      "model_name": "LayoutModel",
      "state": {}
     },
     "5168fa1955ba4b1ea3c0f5659d89074b": {
      "model_module": "@jupyter-widgets/base",
      "model_module_version": "2.0.0",
      "model_name": "LayoutModel",
      "state": {}
     },
     "5440dceb874c496a9e5c7846e6cb7460": {
      "model_module": "@jupyter-widgets/base",
      "model_module_version": "2.0.0",
      "model_name": "LayoutModel",
      "state": {}
     },
     "5bca7525a07e41a9a7b1dbc007325c0d": {
      "model_module": "buckaroo",
      "model_module_version": "^0.5.1",
      "model_name": "DCEFWidgetModel",
      "state": {
       "_model_module_version": "^0.5.1",
       "_view_module_version": "^0.5.1",
       "_view_name": "DCEFWidgetView",
       "buckaroo_options": {
        "auto_clean": [
         "aggressive",
         "conservative"
        ],
        "df_display": [
         "summary",
         "main"
        ],
        "post_processing": [
         ""
        ],
        "sampled": [
         "random"
        ],
        "show_commands": [
         "on"
        ],
        "summary_stats": [
         "all"
        ]
       },
       "buckaroo_state": {
        "auto_clean": "conservative",
        "df_display": "main",
        "post_processing": "",
        "sampled": false,
        "search_string": "",
        "show_commands": false
       },
       "commandConfig": {
        "argspecs": {
         "dropcol": [
          null
         ],
         "fillna": [
          [
           3,
           "fillVal",
           "type",
           "integer"
          ]
         ],
         "groupby": [
          [
           3,
           "colMap",
           "colEnum",
           [
            "null",
            "sum",
            "mean",
            "median",
            "count"
           ]
          ]
         ],
         "onehot": [
          null
         ],
         "reindex": [
          null
         ],
         "safeint": [
          null
         ],
         "to_bool": [
          null
         ],
         "to_datetime": [
          null
         ],
         "to_float": [
          null
         ],
         "to_int": [
          null
         ],
         "to_string": [
          null
         ]
        },
        "defaultArgs": {
         "dropcol": [
          {
           "symbol": "dropcol"
          },
          {
           "symbol": "df"
          },
          "col"
         ],
         "fillna": [
          {
           "symbol": "fillna"
          },
          {
           "symbol": "df"
          },
          "col",
          8
         ],
         "groupby": [
          {
           "symbol": "groupby"
          },
          {
           "symbol": "df"
          },
          "col",
          {}
         ],
         "onehot": [
          {
           "symbol": "onehot"
          },
          {
           "symbol": "df"
          },
          "col"
         ],
         "reindex": [
          {
           "symbol": "reindex"
          },
          {
           "symbol": "df"
          },
          "col"
         ],
         "safeint": [
          {
           "symbol": "safeint"
          },
          {
           "symbol": "df"
          },
          "col"
         ],
         "to_bool": [
          {
           "symbol": "to_bool"
          },
          {
           "symbol": "df"
          },
          "col"
         ],
         "to_datetime": [
          {
           "symbol": "to_datetime"
          },
          {
           "symbol": "df"
          },
          "col"
         ],
         "to_float": [
          {
           "symbol": "to_float"
          },
          {
           "symbol": "df"
          },
          "col"
         ],
         "to_int": [
          {
           "symbol": "to_int"
          },
          {
           "symbol": "df"
          },
          "col"
         ],
         "to_string": [
          {
           "symbol": "to_string"
          },
          {
           "symbol": "df"
          },
          "col"
         ]
        }
       },
       "df_data_dict": {
        "all_stats": [
         {
          "float_col": "shape: (29,)\nSeries: '' [struct[2]]\n[\n\t{30.0,13}\n\t{35.714286,11}\n\t{28.571429,10}\n\t{17.142857,9}\n\t{7.142857,9}\n\t{5.714286,9}\n\t{32.857143,9}\n\t{2.857143,8}\n\t{8.571429,8}\n\t{20.0,8}\n\t{4.285714,7}\n\t{27.142857,7}\n\t…\n\t{21.428571,6}\n\t{40.0,6}\n\t{37.142857,6}\n\t{38.571429,6}\n\t{15.714286,6}\n\t{18.571429,6}\n\t{14.285714,5}\n\t{22.857143,4}\n\t{24.285714,4}\n\t{10.0,4}\n\t{31.428571,4}\n\t{11.428571,4}\n\t{34.285714,3}\n]",
          "index": "value_counts",
          "int_col": "shape: (49,)\nSeries: '' [struct[2]]\n[\n\t{35,8}\n\t{32,8}\n\t{44,8}\n\t{14,8}\n\t{43,7}\n\t{6,7}\n\t{47,7}\n\t{40,7}\n\t{37,6}\n\t{2,6}\n\t{10,6}\n\t{8,6}\n\t…\n\t{4,3}\n\t{17,2}\n\t{9,2}\n\t{36,2}\n\t{19,2}\n\t{28,2}\n\t{3,2}\n\t{12,2}\n\t{25,2}\n\t{11,2}\n\t{23,1}\n\t{18,1}\n\t{34,1}\n]",
          "str_col": "shape: (1,)\nSeries: '' [struct[2]]\n[\n\t{\"foobar\",200}\n]"
         },
         {
          "float_col": 200,
          "index": "length",
          "int_col": 200,
          "str_col": 200
         },
         {
          "float_col": 0,
          "index": "nan_count",
          "int_col": 0,
          "str_col": 0
         },
         {
          "float_col": 1.4285714286,
          "index": "min",
          "int_col": 1,
          "str_col": "foobar"
         },
         {
          "float_col": 41.4285714286,
          "index": "max",
          "int_col": 49,
          "str_col": "foobar"
         },
         {
          "float_col": 21.3928571429,
          "index": "mean",
          "int_col": 26.505,
          "str_col": null
         },
         {
          "float_col": 0,
          "index": "unique_count",
          "int_col": 3,
          "str_col": 0
         },
         {
          "float_col": "Float64",
          "index": "dtype",
          "int_col": "Int64",
          "str_col": "String"
         },
         {
          "float_col": {
           "high_tail": 41.4285714286,
           "low_tail": 1.4285714286,
           "meat_histogram": [
            [
             15,
             26,
             15,
             11,
             23,
             14,
             24,
             26,
             14,
             18
            ],
            [
             1.4285714286,
             5,
             9,
             13,
             17,
             21,
             25,
             29,
             33,
             37,
             41.4285714286
            ]
           ],
           "normalized_populations": [
            0.0806451613,
            0.1397849462,
            0.0806451613,
            0.0591397849,
            0.123655914,
            0.0752688172,
            0.1290322581,
            0.1397849462,
            0.0752688172,
            0.0967741935
           ]
          },
          "index": "histogram_args",
          "int_col": {
           "high_tail": 49,
           "low_tail": 1,
           "meat_histogram": [
            [
             15,
             24,
             18,
             12,
             16,
             14,
             21,
             24,
             29,
             19
            ],
            [
             1,
             5.8,
             10.6,
             15.4,
             20.2,
             25,
             29.8,
             34.6,
             39.4,
             44.2,
             49
            ]
           ],
           "normalized_populations": [
            0.078125,
            0.125,
            0.09375,
            0.0625,
            0.0833333333,
            0.0729166667,
            0.109375,
            0.125,
            0.1510416667,
            0.0989583333
           ]
          },
          "str_col": null
         },
         {
          "float_col": true,
          "index": "is_numeric",
          "int_col": true,
          "str_col": false
         },
         {
          "float_col": false,
          "index": "is_integer",
          "int_col": true,
          "str_col": false
         },
         {
          "float_col": "float",
          "index": "_type",
          "int_col": "integer",
          "str_col": "string"
         },
         {
          "float_col": 30,
          "index": "mode",
          "int_col": 35,
          "str_col": "foobar"
         },
         {
          "float_col": 29,
          "index": "distinct_count",
          "int_col": 49,
          "str_col": 1
         },
         {
          "float_col": "float",
          "index": "type",
          "int_col": "integer",
          "str_col": "string"
         },
         {
          "float_col": 1,
          "index": "min_digits",
          "int_col": 1,
          "str_col": null
         },
         {
          "float_col": 2,
          "index": "max_digits",
          "int_col": 2,
          "str_col": null
         },
         {
          "float_col": 0.145,
          "index": "distinct_per",
          "int_col": 0.245,
          "str_col": 0.005
         },
         {
          "float_col": 0,
          "index": "empty_per",
          "int_col": 0,
          "str_col": 0
         },
         {
          "float_col": 0,
          "index": "unique_per",
          "int_col": 0.015,
          "str_col": 0
         },
         {
          "float_col": 0,
          "index": "nan_per",
          "int_col": 0,
          "str_col": 0
         },
         {
          "float_col": [
           {
            "name": "1.4285714285714286 - 1.4285714285714286",
            "tail": 1
           },
           {
            "name": "1-5",
            "population": 8
           },
           {
            "name": "5-9",
            "population": 14
           },
           {
            "name": "9-13",
            "population": 8
           },
           {
            "name": "13-17",
            "population": 6
           },
           {
            "name": "17-21",
            "population": 12
           },
           {
            "name": "21-25",
            "population": 8
           },
           {
            "name": "25-29",
            "population": 13
           },
           {
            "name": "29-33",
            "population": 14
           },
           {
            "name": "33-37",
            "population": 8
           },
           {
            "name": "37-41",
            "population": 10
           },
           {
            "name": "41.42857142857143 - 41.42857142857143",
            "tail": 1
           }
          ],
          "index": "histogram",
          "int_col": [
           {
            "name": "1 - 1.0",
            "tail": 1
           },
           {
            "name": "1-6",
            "population": 8
           },
           {
            "name": "6-11",
            "population": 12
           },
           {
            "name": "11-15",
            "population": 9
           },
           {
            "name": "15-20",
            "population": 6
           },
           {
            "name": "20-25",
            "population": 8
           },
           {
            "name": "25-30",
            "population": 7
           },
           {
            "name": "30-35",
            "population": 11
           },
           {
            "name": "35-39",
            "population": 12
           },
           {
            "name": "39-44",
            "population": 15
           },
           {
            "name": "44-49",
            "population": 10
           },
           {
            "name": "49.0 - 49",
            "tail": 1
           }
          ],
          "str_col": [
           {
            "cat_pop": 100,
            "name": "foobar"
           }
          ]
         },
         {
          "float_col": [
           1.4285714286,
           5,
           9,
           13,
           17,
           21,
           25,
           29,
           33,
           37,
           41.4285714286
          ],
          "index": "histogram_bins",
          "int_col": [
           1,
           5.8,
           10.6,
           15.4,
           20.2,
           25,
           29.8,
           34.6,
           39.4,
           44.2,
           49
          ],
          "str_col": [
           "faked"
          ]
         },
         {
          "float_col": null,
          "index": "empty_count",
          "int_col": null,
          "str_col": 0
         },
         {
          "float_col": null,
          "index": "categorical_histogram",
          "int_col": null,
          "str_col": {
           "foobar": 1,
           "longtail": 0,
           "unique": 0
          }
         }
        ],
        "empty": [],
        "main": [
         {
          "float_col": 22.8571428571,
          "index": 0,
          "int_col": 43,
          "str_col": "foobar"
         },
         {
          "float_col": 24.2857142857,
          "index": 1,
          "int_col": 6,
          "str_col": "foobar"
         },
         {
          "float_col": 30,
          "index": 2,
          "int_col": 39,
          "str_col": "foobar"
         },
         {
          "float_col": 4.2857142857,
          "index": 3,
          "int_col": 31,
          "str_col": "foobar"
         },
         {
          "float_col": 28.5714285714,
          "index": 4,
          "int_col": 17,
          "str_col": "foobar"
         },
         {
          "float_col": 17.1428571429,
          "index": 5,
          "int_col": 45,
          "str_col": "foobar"
         },
         {
          "float_col": 21.4285714286,
          "index": 6,
          "int_col": 35,
          "str_col": "foobar"
         },
         {
          "float_col": 2.8571428571,
          "index": 7,
          "int_col": 5,
          "str_col": "foobar"
         },
         {
          "float_col": 7.1428571429,
          "index": 8,
          "int_col": 6,
          "str_col": "foobar"
         },
         {
          "float_col": 27.1428571429,
          "index": 9,
          "int_col": 9,
          "str_col": "foobar"
         },
         {
          "float_col": 21.4285714286,
          "index": 10,
          "int_col": 47,
          "str_col": "foobar"
         },
         {
          "float_col": 40,
          "index": 11,
          "int_col": 32,
          "str_col": "foobar"
         },
         {
          "float_col": 41.4285714286,
          "index": 12,
          "int_col": 36,
          "str_col": "foobar"
         },
         {
          "float_col": 2.8571428571,
          "index": 13,
          "int_col": 37,
          "str_col": "foobar"
         },
         {
          "float_col": 37.1428571429,
          "index": 14,
          "int_col": 47,
          "str_col": "foobar"
         },
         {
          "float_col": 17.1428571429,
          "index": 15,
          "int_col": 44,
          "str_col": "foobar"
         },
         {
          "float_col": 38.5714285714,
          "index": 16,
          "int_col": 5,
          "str_col": "foobar"
         },
         {
          "float_col": 5.7142857143,
          "index": 17,
          "int_col": 16,
          "str_col": "foobar"
         },
         {
          "float_col": 12.8571428571,
          "index": 18,
          "int_col": 16,
          "str_col": "foobar"
         },
         {
          "float_col": 35.7142857143,
          "index": 19,
          "int_col": 43,
          "str_col": "foobar"
         },
         {
          "float_col": 7.1428571429,
          "index": 20,
          "int_col": 19,
          "str_col": "foobar"
         },
         {
          "float_col": 5.7142857143,
          "index": 21,
          "int_col": 32,
          "str_col": "foobar"
         },
         {
          "float_col": 7.1428571429,
          "index": 22,
          "int_col": 31,
          "str_col": "foobar"
         },
         {
          "float_col": 40,
          "index": 23,
          "int_col": 17,
          "str_col": "foobar"
         },
         {
          "float_col": 40,
          "index": 24,
          "int_col": 32,
          "str_col": "foobar"
         },
         {
          "float_col": 5.7142857143,
          "index": 25,
          "int_col": 35,
          "str_col": "foobar"
         },
         {
          "float_col": 10,
          "index": 26,
          "int_col": 7,
          "str_col": "foobar"
         },
         {
          "float_col": 40,
          "index": 27,
          "int_col": 13,
          "str_col": "foobar"
         },
         {
          "float_col": 35.7142857143,
          "index": 28,
          "int_col": 28,
          "str_col": "foobar"
         },
         {
          "float_col": 34.2857142857,
          "index": 29,
          "int_col": 6,
          "str_col": "foobar"
         },
         {
          "float_col": 28.5714285714,
          "index": 30,
          "int_col": 5,
          "str_col": "foobar"
         },
         {
          "float_col": 41.4285714286,
          "index": 31,
          "int_col": 20,
          "str_col": "foobar"
         },
         {
          "float_col": 15.7142857143,
          "index": 32,
          "int_col": 27,
          "str_col": "foobar"
         },
         {
          "float_col": 17.1428571429,
          "index": 33,
          "int_col": 3,
          "str_col": "foobar"
         },
         {
          "float_col": 30,
          "index": 34,
          "int_col": 35,
          "str_col": "foobar"
         },
         {
          "float_col": 37.1428571429,
          "index": 35,
          "int_col": 14,
          "str_col": "foobar"
         },
         {
          "float_col": 8.5714285714,
          "index": 36,
          "int_col": 38,
          "str_col": "foobar"
         },
         {
          "float_col": 15.7142857143,
          "index": 37,
          "int_col": 46,
          "str_col": "foobar"
         },
         {
          "float_col": 31.4285714286,
          "index": 38,
          "int_col": 14,
          "str_col": "foobar"
         },
         {
          "float_col": 28.5714285714,
          "index": 39,
          "int_col": 2,
          "str_col": "foobar"
         },
         {
          "float_col": 15.7142857143,
          "index": 40,
          "int_col": 20,
          "str_col": "foobar"
         },
         {
          "float_col": 24.2857142857,
          "index": 41,
          "int_col": 29,
          "str_col": "foobar"
         },
         {
          "float_col": 10,
          "index": 42,
          "int_col": 26,
          "str_col": "foobar"
         },
         {
          "float_col": 12.8571428571,
          "index": 43,
          "int_col": 40,
          "str_col": "foobar"
         },
         {
          "float_col": 17.1428571429,
          "index": 44,
          "int_col": 32,
          "str_col": "foobar"
         },
         {
          "float_col": 31.4285714286,
          "index": 45,
          "int_col": 42,
          "str_col": "foobar"
         },
         {
          "float_col": 30,
          "index": 46,
          "int_col": 44,
          "str_col": "foobar"
         },
         {
          "float_col": 8.5714285714,
          "index": 47,
          "int_col": 40,
          "str_col": "foobar"
         },
         {
          "float_col": 8.5714285714,
          "index": 48,
          "int_col": 10,
          "str_col": "foobar"
         },
         {
          "float_col": 8.5714285714,
          "index": 49,
          "int_col": 29,
          "str_col": "foobar"
         },
         {
          "float_col": 4.2857142857,
          "index": 50,
          "int_col": 10,
          "str_col": "foobar"
         },
         {
          "float_col": 1.4285714286,
          "index": 51,
          "int_col": 20,
          "str_col": "foobar"
         },
         {
          "float_col": 35.7142857143,
          "index": 52,
          "int_col": 43,
          "str_col": "foobar"
         },
         {
          "float_col": 10,
          "index": 53,
          "int_col": 10,
          "str_col": "foobar"
         },
         {
          "float_col": 27.1428571429,
          "index": 54,
          "int_col": 43,
          "str_col": "foobar"
         },
         {
          "float_col": 17.1428571429,
          "index": 55,
          "int_col": 47,
          "str_col": "foobar"
         },
         {
          "float_col": 12.8571428571,
          "index": 56,
          "int_col": 37,
          "str_col": "foobar"
         },
         {
          "float_col": 4.2857142857,
          "index": 57,
          "int_col": 39,
          "str_col": "foobar"
         },
         {
          "float_col": 28.5714285714,
          "index": 58,
          "int_col": 12,
          "str_col": "foobar"
         },
         {
          "float_col": 8.5714285714,
          "index": 59,
          "int_col": 33,
          "str_col": "foobar"
         },
         {
          "float_col": 18.5714285714,
          "index": 60,
          "int_col": 37,
          "str_col": "foobar"
         },
         {
          "float_col": 32.8571428571,
          "index": 61,
          "int_col": 2,
          "str_col": "foobar"
         },
         {
          "float_col": 5.7142857143,
          "index": 62,
          "int_col": 31,
          "str_col": "foobar"
         },
         {
          "float_col": 8.5714285714,
          "index": 63,
          "int_col": 8,
          "str_col": "foobar"
         },
         {
          "float_col": 11.4285714286,
          "index": 64,
          "int_col": 28,
          "str_col": "foobar"
         },
         {
          "float_col": 28.5714285714,
          "index": 65,
          "int_col": 37,
          "str_col": "foobar"
         },
         {
          "float_col": 7.1428571429,
          "index": 66,
          "int_col": 45,
          "str_col": "foobar"
         },
         {
          "float_col": 2.8571428571,
          "index": 67,
          "int_col": 46,
          "str_col": "foobar"
         },
         {
          "float_col": 8.5714285714,
          "index": 68,
          "int_col": 40,
          "str_col": "foobar"
         },
         {
          "float_col": 25.7142857143,
          "index": 69,
          "int_col": 48,
          "str_col": "foobar"
         },
         {
          "float_col": 40,
          "index": 70,
          "int_col": 26,
          "str_col": "foobar"
         },
         {
          "float_col": 24.2857142857,
          "index": 71,
          "int_col": 46,
          "str_col": "foobar"
         },
         {
          "float_col": 24.2857142857,
          "index": 72,
          "int_col": 31,
          "str_col": "foobar"
         },
         {
          "float_col": 4.2857142857,
          "index": 73,
          "int_col": 39,
          "str_col": "foobar"
         },
         {
          "float_col": 35.7142857143,
          "index": 74,
          "int_col": 24,
          "str_col": "foobar"
         },
         {
          "float_col": 34.2857142857,
          "index": 75,
          "int_col": 41,
          "str_col": "foobar"
         },
         {
          "float_col": 11.4285714286,
          "index": 76,
          "int_col": 1,
          "str_col": "foobar"
         },
         {
          "float_col": 38.5714285714,
          "index": 77,
          "int_col": 6,
          "str_col": "foobar"
         },
         {
          "float_col": 32.8571428571,
          "index": 78,
          "int_col": 40,
          "str_col": "foobar"
         },
         {
          "float_col": 37.1428571429,
          "index": 79,
          "int_col": 2,
          "str_col": "foobar"
         },
         {
          "float_col": 28.5714285714,
          "index": 80,
          "int_col": 43,
          "str_col": "foobar"
         },
         {
          "float_col": 22.8571428571,
          "index": 81,
          "int_col": 1,
          "str_col": "foobar"
         },
         {
          "float_col": 20,
          "index": 82,
          "int_col": 14,
          "str_col": "foobar"
         },
         {
          "float_col": 25.7142857143,
          "index": 83,
          "int_col": 30,
          "str_col": "foobar"
         },
         {
          "float_col": 18.5714285714,
          "index": 84,
          "int_col": 3,
          "str_col": "foobar"
         },
         {
          "float_col": 27.1428571429,
          "index": 85,
          "int_col": 15,
          "str_col": "foobar"
         },
         {
          "float_col": 35.7142857143,
          "index": 86,
          "int_col": 14,
          "str_col": "foobar"
         },
         {
          "float_col": 32.8571428571,
          "index": 87,
          "int_col": 33,
          "str_col": "foobar"
         },
         {
          "float_col": 10,
          "index": 88,
          "int_col": 44,
          "str_col": "foobar"
         },
         {
          "float_col": 30,
          "index": 89,
          "int_col": 22,
          "str_col": "foobar"
         },
         {
          "float_col": 20,
          "index": 90,
          "int_col": 24,
          "str_col": "foobar"
         },
         {
          "float_col": 4.2857142857,
          "index": 91,
          "int_col": 19,
          "str_col": "foobar"
         },
         {
          "float_col": 35.7142857143,
          "index": 92,
          "int_col": 41,
          "str_col": "foobar"
         },
         {
          "float_col": 7.1428571429,
          "index": 93,
          "int_col": 2,
          "str_col": "foobar"
         },
         {
          "float_col": 20,
          "index": 94,
          "int_col": 40,
          "str_col": "foobar"
         },
         {
          "float_col": 37.1428571429,
          "index": 95,
          "int_col": 2,
          "str_col": "foobar"
         },
         {
          "float_col": 2.8571428571,
          "index": 96,
          "int_col": 43,
          "str_col": "foobar"
         },
         {
          "float_col": 32.8571428571,
          "index": 97,
          "int_col": 12,
          "str_col": "foobar"
         },
         {
          "float_col": 17.1428571429,
          "index": 98,
          "int_col": 6,
          "str_col": "foobar"
         },
         {
          "float_col": 18.5714285714,
          "index": 99,
          "int_col": 7,
          "str_col": "foobar"
         },
         {
          "float_col": 1.4285714286,
          "index": 100,
          "int_col": 10,
          "str_col": "foobar"
         },
         {
          "float_col": 7.1428571429,
          "index": 101,
          "int_col": 47,
          "str_col": "foobar"
         },
         {
          "float_col": 20,
          "index": 102,
          "int_col": 23,
          "str_col": "foobar"
         },
         {
          "float_col": 30,
          "index": 103,
          "int_col": 40,
          "str_col": "foobar"
         },
         {
          "float_col": 21.4285714286,
          "index": 104,
          "int_col": 24,
          "str_col": "foobar"
         },
         {
          "float_col": 30,
          "index": 105,
          "int_col": 29,
          "str_col": "foobar"
         },
         {
          "float_col": 32.8571428571,
          "index": 106,
          "int_col": 10,
          "str_col": "foobar"
         },
         {
          "float_col": 18.5714285714,
          "index": 107,
          "int_col": 44,
          "str_col": "foobar"
         },
         {
          "float_col": 1.4285714286,
          "index": 108,
          "int_col": 44,
          "str_col": "foobar"
         },
         {
          "float_col": 7.1428571429,
          "index": 109,
          "int_col": 15,
          "str_col": "foobar"
         },
         {
          "float_col": 1.4285714286,
          "index": 110,
          "int_col": 44,
          "str_col": "foobar"
         },
         {
          "float_col": 41.4285714286,
          "index": 111,
          "int_col": 43,
          "str_col": "foobar"
         },
         {
          "float_col": 2.8571428571,
          "index": 112,
          "int_col": 9,
          "str_col": "foobar"
         },
         {
          "float_col": 28.5714285714,
          "index": 113,
          "int_col": 18,
          "str_col": "foobar"
         },
         {
          "float_col": 40,
          "index": 114,
          "int_col": 1,
          "str_col": "foobar"
         },
         {
          "float_col": 28.5714285714,
          "index": 115,
          "int_col": 47,
          "str_col": "foobar"
         },
         {
          "float_col": 28.5714285714,
          "index": 116,
          "int_col": 39,
          "str_col": "foobar"
         },
         {
          "float_col": 30,
          "index": 117,
          "int_col": 31,
          "str_col": "foobar"
         },
         {
          "float_col": 11.4285714286,
          "index": 118,
          "int_col": 16,
          "str_col": "foobar"
         },
         {
          "float_col": 22.8571428571,
          "index": 119,
          "int_col": 48,
          "str_col": "foobar"
         },
         {
          "float_col": 12.8571428571,
          "index": 120,
          "int_col": 8,
          "str_col": "foobar"
         },
         {
          "float_col": 25.7142857143,
          "index": 121,
          "int_col": 8,
          "str_col": "foobar"
         },
         {
          "float_col": 30,
          "index": 122,
          "int_col": 34,
          "str_col": "foobar"
         },
         {
          "float_col": 1.4285714286,
          "index": 123,
          "int_col": 27,
          "str_col": "foobar"
         },
         {
          "float_col": 14.2857142857,
          "index": 124,
          "int_col": 35,
          "str_col": "foobar"
         },
         {
          "float_col": 2.8571428571,
          "index": 125,
          "int_col": 27,
          "str_col": "foobar"
         },
         {
          "float_col": 20,
          "index": 126,
          "int_col": 40,
          "str_col": "foobar"
         },
         {
          "float_col": 41.4285714286,
          "index": 127,
          "int_col": 8,
          "str_col": "foobar"
         },
         {
          "float_col": 35.7142857143,
          "index": 128,
          "int_col": 42,
          "str_col": "foobar"
         },
         {
          "float_col": 4.2857142857,
          "index": 129,
          "int_col": 41,
          "str_col": "foobar"
         },
         {
          "float_col": 5.7142857143,
          "index": 130,
          "int_col": 1,
          "str_col": "foobar"
         },
         {
          "float_col": 38.5714285714,
          "index": 131,
          "int_col": 49,
          "str_col": "foobar"
         },
         {
          "float_col": 32.8571428571,
          "index": 132,
          "int_col": 35,
          "str_col": "foobar"
         },
         {
          "float_col": 32.8571428571,
          "index": 133,
          "int_col": 33,
          "str_col": "foobar"
         },
         {
          "float_col": 7.1428571429,
          "index": 134,
          "int_col": 48,
          "str_col": "foobar"
         },
         {
          "float_col": 5.7142857143,
          "index": 135,
          "int_col": 25,
          "str_col": "foobar"
         },
         {
          "float_col": 14.2857142857,
          "index": 136,
          "int_col": 2,
          "str_col": "foobar"
         },
         {
          "float_col": 35.7142857143,
          "index": 137,
          "int_col": 41,
          "str_col": "foobar"
         },
         {
          "float_col": 14.2857142857,
          "index": 138,
          "int_col": 47,
          "str_col": "foobar"
         },
         {
          "float_col": 1.4285714286,
          "index": 139,
          "int_col": 47,
          "str_col": "foobar"
         },
         {
          "float_col": 37.1428571429,
          "index": 140,
          "int_col": 21,
          "str_col": "foobar"
         },
         {
          "float_col": 30,
          "index": 141,
          "int_col": 6,
          "str_col": "foobar"
         },
         {
          "float_col": 41.4285714286,
          "index": 142,
          "int_col": 22,
          "str_col": "foobar"
         },
         {
          "float_col": 20,
          "index": 143,
          "int_col": 38,
          "str_col": "foobar"
         },
         {
          "float_col": 27.1428571429,
          "index": 144,
          "int_col": 22,
          "str_col": "foobar"
         },
         {
          "float_col": 31.4285714286,
          "index": 145,
          "int_col": 33,
          "str_col": "foobar"
         },
         {
          "float_col": 14.2857142857,
          "index": 146,
          "int_col": 13,
          "str_col": "foobar"
         },
         {
          "float_col": 37.1428571429,
          "index": 147,
          "int_col": 35,
          "str_col": "foobar"
         },
         {
          "float_col": 38.5714285714,
          "index": 148,
          "int_col": 14,
          "str_col": "foobar"
         },
         {
          "float_col": 30,
          "index": 149,
          "int_col": 21,
          "str_col": "foobar"
         },
         {
          "float_col": 18.5714285714,
          "index": 150,
          "int_col": 8,
          "str_col": "foobar"
         },
         {
          "float_col": 4.2857142857,
          "index": 151,
          "int_col": 4,
          "str_col": "foobar"
         },
         {
          "float_col": 18.5714285714,
          "index": 152,
          "int_col": 49,
          "str_col": "foobar"
         },
         {
          "float_col": 17.1428571429,
          "index": 153,
          "int_col": 32,
          "str_col": "foobar"
         },
         {
          "float_col": 17.1428571429,
          "index": 154,
          "int_col": 14,
          "str_col": "foobar"
         },
         {
          "float_col": 7.1428571429,
          "index": 155,
          "int_col": 16,
          "str_col": "foobar"
         },
         {
          "float_col": 5.7142857143,
          "index": 156,
          "int_col": 46,
          "str_col": "foobar"
         },
         {
          "float_col": 27.1428571429,
          "index": 157,
          "int_col": 5,
          "str_col": "foobar"
         },
         {
          "float_col": 14.2857142857,
          "index": 158,
          "int_col": 4,
          "str_col": "foobar"
         },
         {
          "float_col": 30,
          "index": 159,
          "int_col": 27,
          "str_col": "foobar"
         },
         {
          "float_col": 22.8571428571,
          "index": 160,
          "int_col": 38,
          "str_col": "foobar"
         },
         {
          "float_col": 25.7142857143,
          "index": 161,
          "int_col": 24,
          "str_col": "foobar"
         },
         {
          "float_col": 27.1428571429,
          "index": 162,
          "int_col": 15,
          "str_col": "foobar"
         },
         {
          "float_col": 15.7142857143,
          "index": 163,
          "int_col": 44,
          "str_col": "foobar"
         },
         {
          "float_col": 1.4285714286,
          "index": 164,
          "int_col": 46,
          "str_col": "foobar"
         },
         {
          "float_col": 20,
          "index": 165,
          "int_col": 24,
          "str_col": "foobar"
         },
         {
          "float_col": 21.4285714286,
          "index": 166,
          "int_col": 7,
          "str_col": "foobar"
         },
         {
          "float_col": 2.8571428571,
          "index": 167,
          "int_col": 49,
          "str_col": "foobar"
         },
         {
          "float_col": 17.1428571429,
          "index": 168,
          "int_col": 45,
          "str_col": "foobar"
         },
         {
          "float_col": 21.4285714286,
          "index": 169,
          "int_col": 11,
          "str_col": "foobar"
         },
         {
          "float_col": 15.7142857143,
          "index": 170,
          "int_col": 13,
          "str_col": "foobar"
         },
         {
          "float_col": 38.5714285714,
          "index": 171,
          "int_col": 11,
          "str_col": "foobar"
         },
         {
          "float_col": 8.5714285714,
          "index": 172,
          "int_col": 6,
          "str_col": "foobar"
         },
         {
          "float_col": 5.7142857143,
          "index": 173,
          "int_col": 27,
          "str_col": "foobar"
         },
         {
          "float_col": 12.8571428571,
          "index": 174,
          "int_col": 37,
          "str_col": "foobar"
         },
         {
          "float_col": 25.7142857143,
          "index": 175,
          "int_col": 10,
          "str_col": "foobar"
         },
         {
          "float_col": 5.7142857143,
          "index": 176,
          "int_col": 37,
          "str_col": "foobar"
         },
         {
          "float_col": 41.4285714286,
          "index": 177,
          "int_col": 32,
          "str_col": "foobar"
         },
         {
          "float_col": 31.4285714286,
          "index": 178,
          "int_col": 4,
          "str_col": "foobar"
         },
         {
          "float_col": 30,
          "index": 179,
          "int_col": 26,
          "str_col": "foobar"
         },
         {
          "float_col": 25.7142857143,
          "index": 180,
          "int_col": 8,
          "str_col": "foobar"
         },
         {
          "float_col": 11.4285714286,
          "index": 181,
          "int_col": 14,
          "str_col": "foobar"
         },
         {
          "float_col": 32.8571428571,
          "index": 182,
          "int_col": 22,
          "str_col": "foobar"
         },
         {
          "float_col": 30,
          "index": 183,
          "int_col": 30,
          "str_col": "foobar"
         },
         {
          "float_col": 28.5714285714,
          "index": 184,
          "int_col": 14,
          "str_col": "foobar"
         },
         {
          "float_col": 20,
          "index": 185,
          "int_col": 21,
          "str_col": "foobar"
         },
         {
          "float_col": 35.7142857143,
          "index": 186,
          "int_col": 35,
          "str_col": "foobar"
         },
         {
          "float_col": 2.8571428571,
          "index": 187,
          "int_col": 42,
          "str_col": "foobar"
         },
         {
          "float_col": 15.7142857143,
          "index": 188,
          "int_col": 30,
          "str_col": "foobar"
         },
         {
          "float_col": 32.8571428571,
          "index": 189,
          "int_col": 35,
          "str_col": "foobar"
         },
         {
          "float_col": 41.4285714286,
          "index": 190,
          "int_col": 36,
          "str_col": "foobar"
         },
         {
          "float_col": 21.4285714286,
          "index": 191,
          "int_col": 25,
          "str_col": "foobar"
         },
         {
          "float_col": 27.1428571429,
          "index": 192,
          "int_col": 32,
          "str_col": "foobar"
         },
         {
          "float_col": 12.8571428571,
          "index": 193,
          "int_col": 22,
          "str_col": "foobar"
         },
         {
          "float_col": 35.7142857143,
          "index": 194,
          "int_col": 29,
          "str_col": "foobar"
         },
         {
          "float_col": 35.7142857143,
          "index": 195,
          "int_col": 38,
          "str_col": "foobar"
         },
         {
          "float_col": 34.2857142857,
          "index": 196,
          "int_col": 45,
          "str_col": "foobar"
         },
         {
          "float_col": 12.8571428571,
          "index": 197,
          "int_col": 44,
          "str_col": "foobar"
         },
         {
          "float_col": 38.5714285714,
          "index": 198,
          "int_col": 49,
          "str_col": "foobar"
         },
         {
          "float_col": 25.7142857143,
          "index": 199,
          "int_col": 32,
          "str_col": "foobar"
         }
        ]
       },
       "df_display_args": {
        "main": {
         "data_key": "main",
         "df_viewer_config": {
          "column_config": [
           {
            "col_name": "index",
            "displayer_args": {
             "displayer": "obj"
            }
           },
           {
            "col_name": "int_col",
            "displayer_args": {
             "displayer": "float",
             "maximumFractionDigits": 0,
             "minimumFractionDigits": 0
            }
           },
           {
            "col_name": "float_col",
            "color_map_config": {
             "color_rule": "color_map",
             "map_name": "BLUE_TO_YELLOW"
            },
            "displayer_args": {
             "displayer": "float",
             "maximumFractionDigits": 3,
             "minimumFractionDigits": 3
            }
           },
           {
            "col_name": "str_col",
            "displayer_args": {
             "displayer": "obj"
            }
           }
          ],
          "pinned_rows": [
           {
            "displayer_args": {
             "displayer": "obj"
            },
            "primary_key_val": "dtype"
           },
           {
            "displayer_args": {
             "displayer": "histogram"
            },
            "primary_key_val": "histogram"
           }
          ]
         },
         "summary_stats_key": "all_stats"
        },
        "summary": {
         "data_key": "empty",
         "df_viewer_config": {
          "column_config": [
           {
            "col_name": "index",
            "displayer_args": {
             "displayer": "obj"
            }
           },
           {
            "col_name": "int_col",
            "displayer_args": {
             "displayer": "obj"
            }
           },
           {
            "col_name": "float_col",
            "color_map_config": {
             "color_rule": "color_map",
             "map_name": "BLUE_TO_YELLOW"
            },
            "displayer_args": {
             "displayer": "obj"
            }
           },
           {
            "col_name": "str_col",
            "displayer_args": {
             "displayer": "obj"
            }
           }
          ],
          "pinned_rows": [
           {
            "displayer_args": {
             "displayer": "obj"
            },
            "primary_key_val": "dtype"
           },
           {
            "displayer_args": {
             "displayer": "float",
             "maximumFractionDigits": 3,
             "minimumFractionDigits": 3
            },
            "primary_key_val": "min"
           },
           {
            "displayer_args": {
             "displayer": "float",
             "maximumFractionDigits": 3,
             "minimumFractionDigits": 3
            },
            "primary_key_val": "mean"
           },
           {
            "displayer_args": {
             "displayer": "float",
             "maximumFractionDigits": 3,
             "minimumFractionDigits": 3
            },
            "primary_key_val": "max"
           },
           {
            "displayer_args": {
             "displayer": "float",
             "maximumFractionDigits": 0,
             "minimumFractionDigits": 0
            },
            "primary_key_val": "unique_count"
           },
           {
            "displayer_args": {
             "displayer": "float",
             "maximumFractionDigits": 0,
             "minimumFractionDigits": 0
            },
            "primary_key_val": "distinct_count"
           },
           {
            "displayer_args": {
             "displayer": "float",
             "maximumFractionDigits": 0,
             "minimumFractionDigits": 0
            },
            "primary_key_val": "empty_count"
           }
          ]
         },
         "summary_stats_key": "all_stats"
        }
       },
       "df_meta": {
        "columns": 3,
        "rows_shown": 200,
        "total_rows": 200
       },
       "layout": "IPY_MODEL_d4305f9aba4f453e9f6fa1bdcfe64079",
       "operation_results": {
        "generated_py_code": "# instantiation, unused",
        "transformed_df": {
         "column_config": [],
         "data": [],
         "pinned_rows": []
        }
       },
       "operations": []
      }
     },
     "659b190e47e24433ae0c348267b304f1": {
      "model_module": "@jupyter-widgets/base",
      "model_module_version": "2.0.0",
      "model_name": "LayoutModel",
      "state": {}
     },
     "6c42400cf5ed4e20ad60c0afc7296c01": {
      "model_module": "@jupyter-widgets/base",
      "model_module_version": "2.0.0",
      "model_name": "LayoutModel",
      "state": {}
     },
     "73a3466552d14efe926e741cee80886b": {
      "model_module": "buckaroo",
      "model_module_version": "^0.5.1",
      "model_name": "DCEFWidgetModel",
      "state": {
       "_model_module_version": "^0.5.1",
       "_view_module_version": "^0.5.1",
       "_view_name": "DCEFWidgetView",
       "buckaroo_options": {
        "auto_clean": [
         "aggressive",
         "conservative"
        ],
        "df_display": [
         "summary",
         "main"
        ],
        "post_processing": [
         ""
        ],
        "sampled": [
         "random"
        ],
        "show_commands": [
         "on"
        ],
        "summary_stats": [
         "all"
        ]
       },
       "buckaroo_state": {
        "auto_clean": "conservative",
        "df_display": "main",
        "post_processing": "",
        "sampled": false,
        "search_string": "",
        "show_commands": false
       },
       "commandConfig": {
        "argspecs": {
         "dropcol": [
          null
         ],
         "fillna": [
          [
           3,
           "fillVal",
           "type",
           "integer"
          ]
         ],
         "groupby": [
          [
           3,
           "colMap",
           "colEnum",
           [
            "null",
            "sum",
            "mean",
            "median",
            "count"
           ]
          ]
         ],
         "onehot": [
          null
         ],
         "reindex": [
          null
         ],
         "safeint": [
          null
         ],
         "to_bool": [
          null
         ],
         "to_datetime": [
          null
         ],
         "to_float": [
          null
         ],
         "to_int": [
          null
         ],
         "to_string": [
          null
         ]
        },
        "defaultArgs": {
         "dropcol": [
          {
           "symbol": "dropcol"
          },
          {
           "symbol": "df"
          },
          "col"
         ],
         "fillna": [
          {
           "symbol": "fillna"
          },
          {
           "symbol": "df"
          },
          "col",
          8
         ],
         "groupby": [
          {
           "symbol": "groupby"
          },
          {
           "symbol": "df"
          },
          "col",
          {}
         ],
         "onehot": [
          {
           "symbol": "onehot"
          },
          {
           "symbol": "df"
          },
          "col"
         ],
         "reindex": [
          {
           "symbol": "reindex"
          },
          {
           "symbol": "df"
          },
          "col"
         ],
         "safeint": [
          {
           "symbol": "safeint"
          },
          {
           "symbol": "df"
          },
          "col"
         ],
         "to_bool": [
          {
           "symbol": "to_bool"
          },
          {
           "symbol": "df"
          },
          "col"
         ],
         "to_datetime": [
          {
           "symbol": "to_datetime"
          },
          {
           "symbol": "df"
          },
          "col"
         ],
         "to_float": [
          {
           "symbol": "to_float"
          },
          {
           "symbol": "df"
          },
          "col"
         ],
         "to_int": [
          {
           "symbol": "to_int"
          },
          {
           "symbol": "df"
          },
          "col"
         ],
         "to_string": [
          {
           "symbol": "to_string"
          },
          {
           "symbol": "df"
          },
          "col"
         ]
        }
       },
       "df_data_dict": {
        "all_stats": [
         {
          "all_NA": 1,
          "half_NA": 1,
          "index": "length",
          "longtail": 1,
          "longtail_unique": 1
         },
         {
          "all_NA": 0,
          "half_NA": 0,
          "index": "nan_count",
          "longtail": 0,
          "longtail_unique": 0
         },
         {
          "all_NA": "List(Struct({'name': String, 'NA': Float64}))",
          "half_NA": "Object",
          "index": "dtype",
          "longtail": "List(Struct({'name': String, 'cat_pop': Float64, 'longtail': Float64, 'NA': Float64}))",
          "longtail_unique": "List(Struct({'name': String, 'unique': Float64, 'longtail': Float64, 'cat_pop': Float64}))"
         },
         {
          "all_NA": false,
          "half_NA": false,
          "index": "is_numeric",
          "longtail": false,
          "longtail_unique": false
         },
         {
          "all_NA": false,
          "half_NA": false,
          "index": "is_integer",
          "longtail": false,
          "longtail_unique": false
         },
         {
          "all_NA": "unknown",
          "half_NA": "unknown",
          "index": "_type",
          "longtail": "unknown",
          "longtail_unique": "unknown"
         },
         {
          "all_NA": null,
          "half_NA": null,
          "index": "mode",
          "longtail": null,
          "longtail_unique": null
         },
         {
          "all_NA": "shape: (3,)\nSeries: '' [struct[2]]\n[\n\t{3,1}\n\t{4,1}\n\t{5,1}\n]",
          "half_NA": "shape: (3,)\nSeries: '' [struct[2]]\n[\n\t{3,1}\n\t{4,1}\n\t{5,1}\n]",
          "index": "value_counts",
          "longtail": "shape: (3,)\nSeries: '' [struct[2]]\n[\n\t{3,1}\n\t{4,1}\n\t{5,1}\n]",
          "longtail_unique": "shape: (3,)\nSeries: '' [struct[2]]\n[\n\t{3,1}\n\t{4,1}\n\t{5,1}\n]"
         },
         {
          "all_NA": 0,
          "half_NA": 0,
          "index": "distinct_count",
          "longtail": 0,
          "longtail_unique": 0
         },
         {
          "all_NA": 0,
          "half_NA": 0,
          "index": "mean",
          "longtail": 0,
          "longtail_unique": 0
         },
         {
          "all_NA": 0,
          "half_NA": 0,
          "index": "unique_count",
          "longtail": 0,
          "longtail_unique": 0
         },
         {
          "all_NA": "unknown",
          "half_NA": "unknown",
          "index": "type",
          "longtail": "unknown",
          "longtail_unique": "unknown"
         },
         {
          "all_NA": 0,
          "half_NA": 0,
          "index": "distinct_per",
          "longtail": 0,
          "longtail_unique": 0
         },
         {
          "all_NA": 0,
          "half_NA": 0,
          "index": "empty_per",
          "longtail": 0,
          "longtail_unique": 0
         },
         {
          "all_NA": 0,
          "half_NA": 0,
          "index": "unique_per",
          "longtail": 0,
          "longtail_unique": 0
         },
         {
          "all_NA": 0,
          "half_NA": 0,
          "index": "nan_per",
          "longtail": 0,
          "longtail_unique": 0
         },
         {
          "all_NA": {
           "3": 0.3333333333,
           "4": 0.3333333333,
           "5": 0.3333333333,
           "longtail": -1,
           "unique": 1
          },
          "half_NA": {
           "3": 0.3333333333,
           "4": 0.3333333333,
           "5": 0.3333333333,
           "longtail": -1,
           "unique": 1
          },
          "index": "categorical_histogram",
          "longtail": {
           "3": 0.3333333333,
           "4": 0.3333333333,
           "5": 0.3333333333,
           "longtail": -1,
           "unique": 1
          },
          "longtail_unique": {
           "3": 0.3333333333,
           "4": 0.3333333333,
           "5": 0.3333333333,
           "longtail": -1,
           "unique": 1
          }
         },
         {
          "all_NA": [
           {
            "cat_pop": 33,
            "name": 3
           },
           {
            "cat_pop": 33,
            "name": 4
           },
           {
            "cat_pop": 33,
            "name": 5
           },
           {
            "name": "unique",
            "unique": 100
           }
          ],
          "half_NA": [
           {
            "cat_pop": 33,
            "name": 3
           },
           {
            "cat_pop": 33,
            "name": 4
           },
           {
            "cat_pop": 33,
            "name": 5
           },
           {
            "name": "unique",
            "unique": 100
           }
          ],
          "index": "histogram",
          "longtail": [
           {
            "cat_pop": 33,
            "name": 3
           },
           {
            "cat_pop": 33,
            "name": 4
           },
           {
            "cat_pop": 33,
            "name": 5
           },
           {
            "name": "unique",
            "unique": 100
           }
          ],
          "longtail_unique": [
           {
            "cat_pop": 33,
            "name": 3
           },
           {
            "cat_pop": 33,
            "name": 4
           },
           {
            "cat_pop": 33,
            "name": 5
           },
           {
            "name": "unique",
            "unique": 100
           }
          ]
         },
         {
          "all_NA": [
           "faked"
          ],
          "half_NA": [
           "faked"
          ],
          "index": "histogram_bins",
          "longtail": [
           "faked"
          ],
          "longtail_unique": [
           "faked"
          ]
         }
        ],
        "empty": [],
        "main": [
         {
          "all_NA": [
           {
            "NA": 100,
            "name": "NA"
           }
          ],
          "half_NA": [
           {
            "cat_pop": 51,
            "name": 1
           },
           {
            "NA": 49,
            "name": "NA"
           }
          ],
          "index": 0,
          "longtail": [
           {
            "NA": null,
            "cat_pop": 0,
            "longtail": null,
            "name": "long_82"
           },
           {
            "NA": null,
            "cat_pop": 0,
            "longtail": null,
            "name": "long_9"
           },
           {
            "NA": null,
            "cat_pop": 0,
            "longtail": null,
            "name": "long_55"
           },
           {
            "NA": null,
            "cat_pop": 0,
            "longtail": null,
            "name": "long_177"
           },
           {
            "NA": null,
            "cat_pop": 0,
            "longtail": null,
            "name": "long_116"
           },
           {
            "NA": null,
            "cat_pop": 0,
            "longtail": null,
            "name": "long_4"
           },
           {
            "NA": null,
            "cat_pop": 0,
            "longtail": null,
            "name": "long_97"
           },
           {
            "NA": null,
            "cat_pop": null,
            "longtail": 77,
            "name": "longtail"
           },
           {
            "NA": 20,
            "cat_pop": null,
            "longtail": null,
            "name": "NA"
           }
          ],
          "longtail_unique": [
           {
            "cat_pop": 0,
            "longtail": null,
            "name": "long_82",
            "unique": null
           },
           {
            "cat_pop": 0,
            "longtail": null,
            "name": "long_87",
            "unique": null
           },
           {
            "cat_pop": 0,
            "longtail": null,
            "name": "long_52",
            "unique": null
           },
           {
            "cat_pop": 0,
            "longtail": null,
            "name": "long_0",
            "unique": null
           },
           {
            "cat_pop": 0,
            "longtail": null,
            "name": "long_95",
            "unique": null
           },
           {
            "cat_pop": 0,
            "longtail": null,
            "name": "long_75",
            "unique": null
           },
           {
            "cat_pop": 0,
            "longtail": null,
            "name": "long_115",
            "unique": null
           },
           {
            "cat_pop": null,
            "longtail": 47,
            "name": "longtail",
            "unique": 50
           }
          ]
         }
        ]
       },
       "df_display_args": {
        "main": {
         "data_key": "main",
         "df_viewer_config": {
          "column_config": [
           {
            "col_name": "index",
            "displayer_args": {
             "displayer": "obj"
            }
           },
           {
            "col_name": "all_NA",
            "displayer_args": {
             "displayer": "obj"
            }
           },
           {
            "col_name": "half_NA",
            "displayer_args": {
             "displayer": "obj"
            }
           },
           {
            "col_name": "longtail",
            "displayer_args": {
             "displayer": "obj"
            }
           },
           {
            "col_name": "longtail_unique",
            "displayer_args": {
             "displayer": "obj"
            }
           }
          ],
          "pinned_rows": [
           {
            "displayer_args": {
             "displayer": "obj"
            },
            "primary_key_val": "dtype"
           },
           {
            "displayer_args": {
             "displayer": "histogram"
            },
            "primary_key_val": "histogram"
           }
          ]
         },
         "summary_stats_key": "all_stats"
        },
        "summary": {
         "data_key": "empty",
         "df_viewer_config": {
          "column_config": [
           {
            "col_name": "index",
            "displayer_args": {
             "displayer": "obj"
            }
           },
           {
            "col_name": "all_NA",
            "displayer_args": {
             "displayer": "obj"
            }
           },
           {
            "col_name": "half_NA",
            "displayer_args": {
             "displayer": "obj"
            }
           },
           {
            "col_name": "longtail",
            "displayer_args": {
             "displayer": "obj"
            }
           },
           {
            "col_name": "longtail_unique",
            "displayer_args": {
             "displayer": "obj"
            }
           }
          ],
          "pinned_rows": [
           {
            "displayer_args": {
             "displayer": "obj"
            },
            "primary_key_val": "dtype"
           },
           {
            "displayer_args": {
             "displayer": "float",
             "maximumFractionDigits": 3,
             "minimumFractionDigits": 3
            },
            "primary_key_val": "min"
           },
           {
            "displayer_args": {
             "displayer": "float",
             "maximumFractionDigits": 3,
             "minimumFractionDigits": 3
            },
            "primary_key_val": "mean"
           },
           {
            "displayer_args": {
             "displayer": "float",
             "maximumFractionDigits": 3,
             "minimumFractionDigits": 3
            },
            "primary_key_val": "max"
           },
           {
            "displayer_args": {
             "displayer": "float",
             "maximumFractionDigits": 0,
             "minimumFractionDigits": 0
            },
            "primary_key_val": "unique_count"
           },
           {
            "displayer_args": {
             "displayer": "float",
             "maximumFractionDigits": 0,
             "minimumFractionDigits": 0
            },
            "primary_key_val": "distinct_count"
           },
           {
            "displayer_args": {
             "displayer": "float",
             "maximumFractionDigits": 0,
             "minimumFractionDigits": 0
            },
            "primary_key_val": "empty_count"
           }
          ]
         },
         "summary_stats_key": "all_stats"
        }
       },
       "df_meta": {
        "columns": 4,
        "rows_shown": 1,
        "total_rows": 1
       },
       "layout": "IPY_MODEL_4ea61c83bb6e4ee084077e7e5c44ae1e",
       "operation_results": {
        "generated_py_code": "# instantiation, unused",
        "transformed_df": {
         "column_config": [],
         "data": [],
         "pinned_rows": []
        }
       },
       "operations": []
      }
     },
     "84e71c2811ef4fc7afa39efa477059d3": {
      "model_module": "@jupyter-widgets/base",
      "model_module_version": "2.0.0",
      "model_name": "LayoutModel",
      "state": {}
     },
     "85a98aa5785844cdba2c73c4517e18f3": {
      "model_module": "buckaroo",
      "model_module_version": "^0.5.1",
      "model_name": "DCEFWidgetModel",
      "state": {
       "_model_module_version": "^0.5.1",
       "_view_module_version": "^0.5.1",
       "_view_name": "DCEFWidgetView",
       "buckaroo_options": {
        "auto_clean": [
         "aggressive",
         "conservative"
        ],
        "df_display": [
         "summary",
         "main"
        ],
        "post_processing": [
         ""
        ],
        "sampled": [
         "random"
        ],
        "show_commands": [
         "on"
        ],
        "summary_stats": [
         "all"
        ]
       },
       "buckaroo_state": {
        "auto_clean": "conservative",
        "df_display": "main",
        "post_processing": "",
        "sampled": false,
        "search_string": "",
        "show_commands": false
       },
       "commandConfig": {
        "argspecs": {
         "dropcol": [
          null
         ],
         "fillna": [
          [
           3,
           "fillVal",
           "type",
           "integer"
          ]
         ],
         "groupby": [
          [
           3,
           "colMap",
           "colEnum",
           [
            "null",
            "sum",
            "mean",
            "median",
            "count"
           ]
          ]
         ],
         "onehot": [
          null
         ],
         "reindex": [
          null
         ],
         "safeint": [
          null
         ],
         "to_bool": [
          null
         ],
         "to_datetime": [
          null
         ],
         "to_float": [
          null
         ],
         "to_int": [
          null
         ],
         "to_string": [
          null
         ]
        },
        "defaultArgs": {
         "dropcol": [
          {
           "symbol": "dropcol"
          },
          {
           "symbol": "df"
          },
          "col"
         ],
         "fillna": [
          {
           "symbol": "fillna"
          },
          {
           "symbol": "df"
          },
          "col",
          8
         ],
         "groupby": [
          {
           "symbol": "groupby"
          },
          {
           "symbol": "df"
          },
          "col",
          {}
         ],
         "onehot": [
          {
           "symbol": "onehot"
          },
          {
           "symbol": "df"
          },
          "col"
         ],
         "reindex": [
          {
           "symbol": "reindex"
          },
          {
           "symbol": "df"
          },
          "col"
         ],
         "safeint": [
          {
           "symbol": "safeint"
          },
          {
           "symbol": "df"
          },
          "col"
         ],
         "to_bool": [
          {
           "symbol": "to_bool"
          },
          {
           "symbol": "df"
          },
          "col"
         ],
         "to_datetime": [
          {
           "symbol": "to_datetime"
          },
          {
           "symbol": "df"
          },
          "col"
         ],
         "to_float": [
          {
           "symbol": "to_float"
          },
          {
           "symbol": "df"
          },
          "col"
         ],
         "to_int": [
          {
           "symbol": "to_int"
          },
          {
           "symbol": "df"
          },
          "col"
         ],
         "to_string": [
          {
           "symbol": "to_string"
          },
          {
           "symbol": "df"
          },
          "col"
         ]
        }
       },
       "df_data_dict": {
        "all_stats": [
         {
          "float_col": "shape: (29,)\nSeries: '' [struct[2]]\n[\n\t{30.0,13}\n\t{35.714286,11}\n\t{28.571429,10}\n\t{17.142857,9}\n\t{7.142857,9}\n\t{5.714286,9}\n\t{32.857143,9}\n\t{2.857143,8}\n\t{8.571429,8}\n\t{20.0,8}\n\t{4.285714,7}\n\t{27.142857,7}\n\t…\n\t{21.428571,6}\n\t{40.0,6}\n\t{37.142857,6}\n\t{38.571429,6}\n\t{15.714286,6}\n\t{18.571429,6}\n\t{14.285714,5}\n\t{22.857143,4}\n\t{24.285714,4}\n\t{10.0,4}\n\t{31.428571,4}\n\t{11.428571,4}\n\t{34.285714,3}\n]",
          "index": "value_counts",
          "int_col": "shape: (49,)\nSeries: '' [struct[2]]\n[\n\t{35,8}\n\t{32,8}\n\t{44,8}\n\t{14,8}\n\t{43,7}\n\t{6,7}\n\t{47,7}\n\t{40,7}\n\t{37,6}\n\t{2,6}\n\t{10,6}\n\t{8,6}\n\t…\n\t{4,3}\n\t{17,2}\n\t{9,2}\n\t{36,2}\n\t{19,2}\n\t{28,2}\n\t{3,2}\n\t{12,2}\n\t{25,2}\n\t{11,2}\n\t{23,1}\n\t{18,1}\n\t{34,1}\n]",
          "str_col": "shape: (1,)\nSeries: '' [struct[2]]\n[\n\t{\"foobar\",200}\n]"
         },
         {
          "float_col": 200,
          "index": "length",
          "int_col": 200,
          "str_col": 200
         },
         {
          "float_col": 0,
          "index": "nan_count",
          "int_col": 0,
          "str_col": 0
         },
         {
          "float_col": 1.4285714286,
          "index": "min",
          "int_col": 1,
          "str_col": "foobar"
         },
         {
          "float_col": 41.4285714286,
          "index": "max",
          "int_col": 49,
          "str_col": "foobar"
         },
         {
          "float_col": 21.3928571429,
          "index": "mean",
          "int_col": 26.505,
          "str_col": null
         },
         {
          "float_col": 0,
          "index": "unique_count",
          "int_col": 3,
          "str_col": 0
         },
         {
          "float_col": "Float64",
          "index": "dtype",
          "int_col": "Int64",
          "str_col": "String"
         },
         {
          "float_col": {
           "high_tail": 41.4285714286,
           "low_tail": 1.4285714286,
           "meat_histogram": [
            [
             15,
             26,
             15,
             11,
             23,
             14,
             24,
             26,
             14,
             18
            ],
            [
             1.4285714286,
             5,
             9,
             13,
             17,
             21,
             25,
             29,
             33,
             37,
             41.4285714286
            ]
           ],
           "normalized_populations": [
            0.0806451613,
            0.1397849462,
            0.0806451613,
            0.0591397849,
            0.123655914,
            0.0752688172,
            0.1290322581,
            0.1397849462,
            0.0752688172,
            0.0967741935
           ]
          },
          "index": "histogram_args",
          "int_col": {
           "high_tail": 49,
           "low_tail": 1,
           "meat_histogram": [
            [
             15,
             24,
             18,
             12,
             16,
             14,
             21,
             24,
             29,
             19
            ],
            [
             1,
             5.8,
             10.6,
             15.4,
             20.2,
             25,
             29.8,
             34.6,
             39.4,
             44.2,
             49
            ]
           ],
           "normalized_populations": [
            0.078125,
            0.125,
            0.09375,
            0.0625,
            0.0833333333,
            0.0729166667,
            0.109375,
            0.125,
            0.1510416667,
            0.0989583333
           ]
          },
          "str_col": null
         },
         {
          "float_col": true,
          "index": "is_numeric",
          "int_col": true,
          "str_col": false
         },
         {
          "float_col": false,
          "index": "is_integer",
          "int_col": true,
          "str_col": false
         },
         {
          "float_col": "float",
          "index": "_type",
          "int_col": "integer",
          "str_col": "string"
         },
         {
          "float_col": 30,
          "index": "mode",
          "int_col": 35,
          "str_col": "foobar"
         },
         {
          "float_col": 29,
          "index": "distinct_count",
          "int_col": 49,
          "str_col": 1
         },
         {
          "float_col": "float",
          "index": "type",
          "int_col": "integer",
          "str_col": "string"
         },
         {
          "float_col": 1,
          "index": "min_digits",
          "int_col": 1,
          "str_col": null
         },
         {
          "float_col": 2,
          "index": "max_digits",
          "int_col": 2,
          "str_col": null
         },
         {
          "float_col": 0.145,
          "index": "distinct_per",
          "int_col": 0.245,
          "str_col": 0.005
         },
         {
          "float_col": 0,
          "index": "empty_per",
          "int_col": 0,
          "str_col": 0
         },
         {
          "float_col": 0,
          "index": "unique_per",
          "int_col": 0.015,
          "str_col": 0
         },
         {
          "float_col": 0,
          "index": "nan_per",
          "int_col": 0,
          "str_col": 0
         },
         {
          "float_col": [
           {
            "name": "1.4285714285714286 - 1.4285714285714286",
            "tail": 1
           },
           {
            "name": "1-5",
            "population": 8
           },
           {
            "name": "5-9",
            "population": 14
           },
           {
            "name": "9-13",
            "population": 8
           },
           {
            "name": "13-17",
            "population": 6
           },
           {
            "name": "17-21",
            "population": 12
           },
           {
            "name": "21-25",
            "population": 8
           },
           {
            "name": "25-29",
            "population": 13
           },
           {
            "name": "29-33",
            "population": 14
           },
           {
            "name": "33-37",
            "population": 8
           },
           {
            "name": "37-41",
            "population": 10
           },
           {
            "name": "41.42857142857143 - 41.42857142857143",
            "tail": 1
           }
          ],
          "index": "histogram",
          "int_col": [
           {
            "name": "1 - 1.0",
            "tail": 1
           },
           {
            "name": "1-6",
            "population": 8
           },
           {
            "name": "6-11",
            "population": 12
           },
           {
            "name": "11-15",
            "population": 9
           },
           {
            "name": "15-20",
            "population": 6
           },
           {
            "name": "20-25",
            "population": 8
           },
           {
            "name": "25-30",
            "population": 7
           },
           {
            "name": "30-35",
            "population": 11
           },
           {
            "name": "35-39",
            "population": 12
           },
           {
            "name": "39-44",
            "population": 15
           },
           {
            "name": "44-49",
            "population": 10
           },
           {
            "name": "49.0 - 49",
            "tail": 1
           }
          ],
          "str_col": [
           {
            "cat_pop": 100,
            "name": "foobar"
           }
          ]
         },
         {
          "float_col": [
           1.4285714286,
           5,
           9,
           13,
           17,
           21,
           25,
           29,
           33,
           37,
           41.4285714286
          ],
          "index": "histogram_bins",
          "int_col": [
           1,
           5.8,
           10.6,
           15.4,
           20.2,
           25,
           29.8,
           34.6,
           39.4,
           44.2,
           49
          ],
          "str_col": [
           "faked"
          ]
         },
         {
          "float_col": null,
          "index": "empty_count",
          "int_col": null,
          "str_col": 0
         },
         {
          "float_col": null,
          "index": "categorical_histogram",
          "int_col": null,
          "str_col": {
           "foobar": 1,
           "longtail": 0,
           "unique": 0
          }
         }
        ],
        "empty": [],
        "main": [
         {
          "float_col": 22.8571428571,
          "index": 0,
          "int_col": 43,
          "str_col": "foobar"
         },
         {
          "float_col": 24.2857142857,
          "index": 1,
          "int_col": 6,
          "str_col": "foobar"
         },
         {
          "float_col": 30,
          "index": 2,
          "int_col": 39,
          "str_col": "foobar"
         },
         {
          "float_col": 4.2857142857,
          "index": 3,
          "int_col": 31,
          "str_col": "foobar"
         },
         {
          "float_col": 28.5714285714,
          "index": 4,
          "int_col": 17,
          "str_col": "foobar"
         },
         {
          "float_col": 17.1428571429,
          "index": 5,
          "int_col": 45,
          "str_col": "foobar"
         },
         {
          "float_col": 21.4285714286,
          "index": 6,
          "int_col": 35,
          "str_col": "foobar"
         },
         {
          "float_col": 2.8571428571,
          "index": 7,
          "int_col": 5,
          "str_col": "foobar"
         },
         {
          "float_col": 7.1428571429,
          "index": 8,
          "int_col": 6,
          "str_col": "foobar"
         },
         {
          "float_col": 27.1428571429,
          "index": 9,
          "int_col": 9,
          "str_col": "foobar"
         },
         {
          "float_col": 21.4285714286,
          "index": 10,
          "int_col": 47,
          "str_col": "foobar"
         },
         {
          "float_col": 40,
          "index": 11,
          "int_col": 32,
          "str_col": "foobar"
         },
         {
          "float_col": 41.4285714286,
          "index": 12,
          "int_col": 36,
          "str_col": "foobar"
         },
         {
          "float_col": 2.8571428571,
          "index": 13,
          "int_col": 37,
          "str_col": "foobar"
         },
         {
          "float_col": 37.1428571429,
          "index": 14,
          "int_col": 47,
          "str_col": "foobar"
         },
         {
          "float_col": 17.1428571429,
          "index": 15,
          "int_col": 44,
          "str_col": "foobar"
         },
         {
          "float_col": 38.5714285714,
          "index": 16,
          "int_col": 5,
          "str_col": "foobar"
         },
         {
          "float_col": 5.7142857143,
          "index": 17,
          "int_col": 16,
          "str_col": "foobar"
         },
         {
          "float_col": 12.8571428571,
          "index": 18,
          "int_col": 16,
          "str_col": "foobar"
         },
         {
          "float_col": 35.7142857143,
          "index": 19,
          "int_col": 43,
          "str_col": "foobar"
         },
         {
          "float_col": 7.1428571429,
          "index": 20,
          "int_col": 19,
          "str_col": "foobar"
         },
         {
          "float_col": 5.7142857143,
          "index": 21,
          "int_col": 32,
          "str_col": "foobar"
         },
         {
          "float_col": 7.1428571429,
          "index": 22,
          "int_col": 31,
          "str_col": "foobar"
         },
         {
          "float_col": 40,
          "index": 23,
          "int_col": 17,
          "str_col": "foobar"
         },
         {
          "float_col": 40,
          "index": 24,
          "int_col": 32,
          "str_col": "foobar"
         },
         {
          "float_col": 5.7142857143,
          "index": 25,
          "int_col": 35,
          "str_col": "foobar"
         },
         {
          "float_col": 10,
          "index": 26,
          "int_col": 7,
          "str_col": "foobar"
         },
         {
          "float_col": 40,
          "index": 27,
          "int_col": 13,
          "str_col": "foobar"
         },
         {
          "float_col": 35.7142857143,
          "index": 28,
          "int_col": 28,
          "str_col": "foobar"
         },
         {
          "float_col": 34.2857142857,
          "index": 29,
          "int_col": 6,
          "str_col": "foobar"
         },
         {
          "float_col": 28.5714285714,
          "index": 30,
          "int_col": 5,
          "str_col": "foobar"
         },
         {
          "float_col": 41.4285714286,
          "index": 31,
          "int_col": 20,
          "str_col": "foobar"
         },
         {
          "float_col": 15.7142857143,
          "index": 32,
          "int_col": 27,
          "str_col": "foobar"
         },
         {
          "float_col": 17.1428571429,
          "index": 33,
          "int_col": 3,
          "str_col": "foobar"
         },
         {
          "float_col": 30,
          "index": 34,
          "int_col": 35,
          "str_col": "foobar"
         },
         {
          "float_col": 37.1428571429,
          "index": 35,
          "int_col": 14,
          "str_col": "foobar"
         },
         {
          "float_col": 8.5714285714,
          "index": 36,
          "int_col": 38,
          "str_col": "foobar"
         },
         {
          "float_col": 15.7142857143,
          "index": 37,
          "int_col": 46,
          "str_col": "foobar"
         },
         {
          "float_col": 31.4285714286,
          "index": 38,
          "int_col": 14,
          "str_col": "foobar"
         },
         {
          "float_col": 28.5714285714,
          "index": 39,
          "int_col": 2,
          "str_col": "foobar"
         },
         {
          "float_col": 15.7142857143,
          "index": 40,
          "int_col": 20,
          "str_col": "foobar"
         },
         {
          "float_col": 24.2857142857,
          "index": 41,
          "int_col": 29,
          "str_col": "foobar"
         },
         {
          "float_col": 10,
          "index": 42,
          "int_col": 26,
          "str_col": "foobar"
         },
         {
          "float_col": 12.8571428571,
          "index": 43,
          "int_col": 40,
          "str_col": "foobar"
         },
         {
          "float_col": 17.1428571429,
          "index": 44,
          "int_col": 32,
          "str_col": "foobar"
         },
         {
          "float_col": 31.4285714286,
          "index": 45,
          "int_col": 42,
          "str_col": "foobar"
         },
         {
          "float_col": 30,
          "index": 46,
          "int_col": 44,
          "str_col": "foobar"
         },
         {
          "float_col": 8.5714285714,
          "index": 47,
          "int_col": 40,
          "str_col": "foobar"
         },
         {
          "float_col": 8.5714285714,
          "index": 48,
          "int_col": 10,
          "str_col": "foobar"
         },
         {
          "float_col": 8.5714285714,
          "index": 49,
          "int_col": 29,
          "str_col": "foobar"
         },
         {
          "float_col": 4.2857142857,
          "index": 50,
          "int_col": 10,
          "str_col": "foobar"
         },
         {
          "float_col": 1.4285714286,
          "index": 51,
          "int_col": 20,
          "str_col": "foobar"
         },
         {
          "float_col": 35.7142857143,
          "index": 52,
          "int_col": 43,
          "str_col": "foobar"
         },
         {
          "float_col": 10,
          "index": 53,
          "int_col": 10,
          "str_col": "foobar"
         },
         {
          "float_col": 27.1428571429,
          "index": 54,
          "int_col": 43,
          "str_col": "foobar"
         },
         {
          "float_col": 17.1428571429,
          "index": 55,
          "int_col": 47,
          "str_col": "foobar"
         },
         {
          "float_col": 12.8571428571,
          "index": 56,
          "int_col": 37,
          "str_col": "foobar"
         },
         {
          "float_col": 4.2857142857,
          "index": 57,
          "int_col": 39,
          "str_col": "foobar"
         },
         {
          "float_col": 28.5714285714,
          "index": 58,
          "int_col": 12,
          "str_col": "foobar"
         },
         {
          "float_col": 8.5714285714,
          "index": 59,
          "int_col": 33,
          "str_col": "foobar"
         },
         {
          "float_col": 18.5714285714,
          "index": 60,
          "int_col": 37,
          "str_col": "foobar"
         },
         {
          "float_col": 32.8571428571,
          "index": 61,
          "int_col": 2,
          "str_col": "foobar"
         },
         {
          "float_col": 5.7142857143,
          "index": 62,
          "int_col": 31,
          "str_col": "foobar"
         },
         {
          "float_col": 8.5714285714,
          "index": 63,
          "int_col": 8,
          "str_col": "foobar"
         },
         {
          "float_col": 11.4285714286,
          "index": 64,
          "int_col": 28,
          "str_col": "foobar"
         },
         {
          "float_col": 28.5714285714,
          "index": 65,
          "int_col": 37,
          "str_col": "foobar"
         },
         {
          "float_col": 7.1428571429,
          "index": 66,
          "int_col": 45,
          "str_col": "foobar"
         },
         {
          "float_col": 2.8571428571,
          "index": 67,
          "int_col": 46,
          "str_col": "foobar"
         },
         {
          "float_col": 8.5714285714,
          "index": 68,
          "int_col": 40,
          "str_col": "foobar"
         },
         {
          "float_col": 25.7142857143,
          "index": 69,
          "int_col": 48,
          "str_col": "foobar"
         },
         {
          "float_col": 40,
          "index": 70,
          "int_col": 26,
          "str_col": "foobar"
         },
         {
          "float_col": 24.2857142857,
          "index": 71,
          "int_col": 46,
          "str_col": "foobar"
         },
         {
          "float_col": 24.2857142857,
          "index": 72,
          "int_col": 31,
          "str_col": "foobar"
         },
         {
          "float_col": 4.2857142857,
          "index": 73,
          "int_col": 39,
          "str_col": "foobar"
         },
         {
          "float_col": 35.7142857143,
          "index": 74,
          "int_col": 24,
          "str_col": "foobar"
         },
         {
          "float_col": 34.2857142857,
          "index": 75,
          "int_col": 41,
          "str_col": "foobar"
         },
         {
          "float_col": 11.4285714286,
          "index": 76,
          "int_col": 1,
          "str_col": "foobar"
         },
         {
          "float_col": 38.5714285714,
          "index": 77,
          "int_col": 6,
          "str_col": "foobar"
         },
         {
          "float_col": 32.8571428571,
          "index": 78,
          "int_col": 40,
          "str_col": "foobar"
         },
         {
          "float_col": 37.1428571429,
          "index": 79,
          "int_col": 2,
          "str_col": "foobar"
         },
         {
          "float_col": 28.5714285714,
          "index": 80,
          "int_col": 43,
          "str_col": "foobar"
         },
         {
          "float_col": 22.8571428571,
          "index": 81,
          "int_col": 1,
          "str_col": "foobar"
         },
         {
          "float_col": 20,
          "index": 82,
          "int_col": 14,
          "str_col": "foobar"
         },
         {
          "float_col": 25.7142857143,
          "index": 83,
          "int_col": 30,
          "str_col": "foobar"
         },
         {
          "float_col": 18.5714285714,
          "index": 84,
          "int_col": 3,
          "str_col": "foobar"
         },
         {
          "float_col": 27.1428571429,
          "index": 85,
          "int_col": 15,
          "str_col": "foobar"
         },
         {
          "float_col": 35.7142857143,
          "index": 86,
          "int_col": 14,
          "str_col": "foobar"
         },
         {
          "float_col": 32.8571428571,
          "index": 87,
          "int_col": 33,
          "str_col": "foobar"
         },
         {
          "float_col": 10,
          "index": 88,
          "int_col": 44,
          "str_col": "foobar"
         },
         {
          "float_col": 30,
          "index": 89,
          "int_col": 22,
          "str_col": "foobar"
         },
         {
          "float_col": 20,
          "index": 90,
          "int_col": 24,
          "str_col": "foobar"
         },
         {
          "float_col": 4.2857142857,
          "index": 91,
          "int_col": 19,
          "str_col": "foobar"
         },
         {
          "float_col": 35.7142857143,
          "index": 92,
          "int_col": 41,
          "str_col": "foobar"
         },
         {
          "float_col": 7.1428571429,
          "index": 93,
          "int_col": 2,
          "str_col": "foobar"
         },
         {
          "float_col": 20,
          "index": 94,
          "int_col": 40,
          "str_col": "foobar"
         },
         {
          "float_col": 37.1428571429,
          "index": 95,
          "int_col": 2,
          "str_col": "foobar"
         },
         {
          "float_col": 2.8571428571,
          "index": 96,
          "int_col": 43,
          "str_col": "foobar"
         },
         {
          "float_col": 32.8571428571,
          "index": 97,
          "int_col": 12,
          "str_col": "foobar"
         },
         {
          "float_col": 17.1428571429,
          "index": 98,
          "int_col": 6,
          "str_col": "foobar"
         },
         {
          "float_col": 18.5714285714,
          "index": 99,
          "int_col": 7,
          "str_col": "foobar"
         },
         {
          "float_col": 1.4285714286,
          "index": 100,
          "int_col": 10,
          "str_col": "foobar"
         },
         {
          "float_col": 7.1428571429,
          "index": 101,
          "int_col": 47,
          "str_col": "foobar"
         },
         {
          "float_col": 20,
          "index": 102,
          "int_col": 23,
          "str_col": "foobar"
         },
         {
          "float_col": 30,
          "index": 103,
          "int_col": 40,
          "str_col": "foobar"
         },
         {
          "float_col": 21.4285714286,
          "index": 104,
          "int_col": 24,
          "str_col": "foobar"
         },
         {
          "float_col": 30,
          "index": 105,
          "int_col": 29,
          "str_col": "foobar"
         },
         {
          "float_col": 32.8571428571,
          "index": 106,
          "int_col": 10,
          "str_col": "foobar"
         },
         {
          "float_col": 18.5714285714,
          "index": 107,
          "int_col": 44,
          "str_col": "foobar"
         },
         {
          "float_col": 1.4285714286,
          "index": 108,
          "int_col": 44,
          "str_col": "foobar"
         },
         {
          "float_col": 7.1428571429,
          "index": 109,
          "int_col": 15,
          "str_col": "foobar"
         },
         {
          "float_col": 1.4285714286,
          "index": 110,
          "int_col": 44,
          "str_col": "foobar"
         },
         {
          "float_col": 41.4285714286,
          "index": 111,
          "int_col": 43,
          "str_col": "foobar"
         },
         {
          "float_col": 2.8571428571,
          "index": 112,
          "int_col": 9,
          "str_col": "foobar"
         },
         {
          "float_col": 28.5714285714,
          "index": 113,
          "int_col": 18,
          "str_col": "foobar"
         },
         {
          "float_col": 40,
          "index": 114,
          "int_col": 1,
          "str_col": "foobar"
         },
         {
          "float_col": 28.5714285714,
          "index": 115,
          "int_col": 47,
          "str_col": "foobar"
         },
         {
          "float_col": 28.5714285714,
          "index": 116,
          "int_col": 39,
          "str_col": "foobar"
         },
         {
          "float_col": 30,
          "index": 117,
          "int_col": 31,
          "str_col": "foobar"
         },
         {
          "float_col": 11.4285714286,
          "index": 118,
          "int_col": 16,
          "str_col": "foobar"
         },
         {
          "float_col": 22.8571428571,
          "index": 119,
          "int_col": 48,
          "str_col": "foobar"
         },
         {
          "float_col": 12.8571428571,
          "index": 120,
          "int_col": 8,
          "str_col": "foobar"
         },
         {
          "float_col": 25.7142857143,
          "index": 121,
          "int_col": 8,
          "str_col": "foobar"
         },
         {
          "float_col": 30,
          "index": 122,
          "int_col": 34,
          "str_col": "foobar"
         },
         {
          "float_col": 1.4285714286,
          "index": 123,
          "int_col": 27,
          "str_col": "foobar"
         },
         {
          "float_col": 14.2857142857,
          "index": 124,
          "int_col": 35,
          "str_col": "foobar"
         },
         {
          "float_col": 2.8571428571,
          "index": 125,
          "int_col": 27,
          "str_col": "foobar"
         },
         {
          "float_col": 20,
          "index": 126,
          "int_col": 40,
          "str_col": "foobar"
         },
         {
          "float_col": 41.4285714286,
          "index": 127,
          "int_col": 8,
          "str_col": "foobar"
         },
         {
          "float_col": 35.7142857143,
          "index": 128,
          "int_col": 42,
          "str_col": "foobar"
         },
         {
          "float_col": 4.2857142857,
          "index": 129,
          "int_col": 41,
          "str_col": "foobar"
         },
         {
          "float_col": 5.7142857143,
          "index": 130,
          "int_col": 1,
          "str_col": "foobar"
         },
         {
          "float_col": 38.5714285714,
          "index": 131,
          "int_col": 49,
          "str_col": "foobar"
         },
         {
          "float_col": 32.8571428571,
          "index": 132,
          "int_col": 35,
          "str_col": "foobar"
         },
         {
          "float_col": 32.8571428571,
          "index": 133,
          "int_col": 33,
          "str_col": "foobar"
         },
         {
          "float_col": 7.1428571429,
          "index": 134,
          "int_col": 48,
          "str_col": "foobar"
         },
         {
          "float_col": 5.7142857143,
          "index": 135,
          "int_col": 25,
          "str_col": "foobar"
         },
         {
          "float_col": 14.2857142857,
          "index": 136,
          "int_col": 2,
          "str_col": "foobar"
         },
         {
          "float_col": 35.7142857143,
          "index": 137,
          "int_col": 41,
          "str_col": "foobar"
         },
         {
          "float_col": 14.2857142857,
          "index": 138,
          "int_col": 47,
          "str_col": "foobar"
         },
         {
          "float_col": 1.4285714286,
          "index": 139,
          "int_col": 47,
          "str_col": "foobar"
         },
         {
          "float_col": 37.1428571429,
          "index": 140,
          "int_col": 21,
          "str_col": "foobar"
         },
         {
          "float_col": 30,
          "index": 141,
          "int_col": 6,
          "str_col": "foobar"
         },
         {
          "float_col": 41.4285714286,
          "index": 142,
          "int_col": 22,
          "str_col": "foobar"
         },
         {
          "float_col": 20,
          "index": 143,
          "int_col": 38,
          "str_col": "foobar"
         },
         {
          "float_col": 27.1428571429,
          "index": 144,
          "int_col": 22,
          "str_col": "foobar"
         },
         {
          "float_col": 31.4285714286,
          "index": 145,
          "int_col": 33,
          "str_col": "foobar"
         },
         {
          "float_col": 14.2857142857,
          "index": 146,
          "int_col": 13,
          "str_col": "foobar"
         },
         {
          "float_col": 37.1428571429,
          "index": 147,
          "int_col": 35,
          "str_col": "foobar"
         },
         {
          "float_col": 38.5714285714,
          "index": 148,
          "int_col": 14,
          "str_col": "foobar"
         },
         {
          "float_col": 30,
          "index": 149,
          "int_col": 21,
          "str_col": "foobar"
         },
         {
          "float_col": 18.5714285714,
          "index": 150,
          "int_col": 8,
          "str_col": "foobar"
         },
         {
          "float_col": 4.2857142857,
          "index": 151,
          "int_col": 4,
          "str_col": "foobar"
         },
         {
          "float_col": 18.5714285714,
          "index": 152,
          "int_col": 49,
          "str_col": "foobar"
         },
         {
          "float_col": 17.1428571429,
          "index": 153,
          "int_col": 32,
          "str_col": "foobar"
         },
         {
          "float_col": 17.1428571429,
          "index": 154,
          "int_col": 14,
          "str_col": "foobar"
         },
         {
          "float_col": 7.1428571429,
          "index": 155,
          "int_col": 16,
          "str_col": "foobar"
         },
         {
          "float_col": 5.7142857143,
          "index": 156,
          "int_col": 46,
          "str_col": "foobar"
         },
         {
          "float_col": 27.1428571429,
          "index": 157,
          "int_col": 5,
          "str_col": "foobar"
         },
         {
          "float_col": 14.2857142857,
          "index": 158,
          "int_col": 4,
          "str_col": "foobar"
         },
         {
          "float_col": 30,
          "index": 159,
          "int_col": 27,
          "str_col": "foobar"
         },
         {
          "float_col": 22.8571428571,
          "index": 160,
          "int_col": 38,
          "str_col": "foobar"
         },
         {
          "float_col": 25.7142857143,
          "index": 161,
          "int_col": 24,
          "str_col": "foobar"
         },
         {
          "float_col": 27.1428571429,
          "index": 162,
          "int_col": 15,
          "str_col": "foobar"
         },
         {
          "float_col": 15.7142857143,
          "index": 163,
          "int_col": 44,
          "str_col": "foobar"
         },
         {
          "float_col": 1.4285714286,
          "index": 164,
          "int_col": 46,
          "str_col": "foobar"
         },
         {
          "float_col": 20,
          "index": 165,
          "int_col": 24,
          "str_col": "foobar"
         },
         {
          "float_col": 21.4285714286,
          "index": 166,
          "int_col": 7,
          "str_col": "foobar"
         },
         {
          "float_col": 2.8571428571,
          "index": 167,
          "int_col": 49,
          "str_col": "foobar"
         },
         {
          "float_col": 17.1428571429,
          "index": 168,
          "int_col": 45,
          "str_col": "foobar"
         },
         {
          "float_col": 21.4285714286,
          "index": 169,
          "int_col": 11,
          "str_col": "foobar"
         },
         {
          "float_col": 15.7142857143,
          "index": 170,
          "int_col": 13,
          "str_col": "foobar"
         },
         {
          "float_col": 38.5714285714,
          "index": 171,
          "int_col": 11,
          "str_col": "foobar"
         },
         {
          "float_col": 8.5714285714,
          "index": 172,
          "int_col": 6,
          "str_col": "foobar"
         },
         {
          "float_col": 5.7142857143,
          "index": 173,
          "int_col": 27,
          "str_col": "foobar"
         },
         {
          "float_col": 12.8571428571,
          "index": 174,
          "int_col": 37,
          "str_col": "foobar"
         },
         {
          "float_col": 25.7142857143,
          "index": 175,
          "int_col": 10,
          "str_col": "foobar"
         },
         {
          "float_col": 5.7142857143,
          "index": 176,
          "int_col": 37,
          "str_col": "foobar"
         },
         {
          "float_col": 41.4285714286,
          "index": 177,
          "int_col": 32,
          "str_col": "foobar"
         },
         {
          "float_col": 31.4285714286,
          "index": 178,
          "int_col": 4,
          "str_col": "foobar"
         },
         {
          "float_col": 30,
          "index": 179,
          "int_col": 26,
          "str_col": "foobar"
         },
         {
          "float_col": 25.7142857143,
          "index": 180,
          "int_col": 8,
          "str_col": "foobar"
         },
         {
          "float_col": 11.4285714286,
          "index": 181,
          "int_col": 14,
          "str_col": "foobar"
         },
         {
          "float_col": 32.8571428571,
          "index": 182,
          "int_col": 22,
          "str_col": "foobar"
         },
         {
          "float_col": 30,
          "index": 183,
          "int_col": 30,
          "str_col": "foobar"
         },
         {
          "float_col": 28.5714285714,
          "index": 184,
          "int_col": 14,
          "str_col": "foobar"
         },
         {
          "float_col": 20,
          "index": 185,
          "int_col": 21,
          "str_col": "foobar"
         },
         {
          "float_col": 35.7142857143,
          "index": 186,
          "int_col": 35,
          "str_col": "foobar"
         },
         {
          "float_col": 2.8571428571,
          "index": 187,
          "int_col": 42,
          "str_col": "foobar"
         },
         {
          "float_col": 15.7142857143,
          "index": 188,
          "int_col": 30,
          "str_col": "foobar"
         },
         {
          "float_col": 32.8571428571,
          "index": 189,
          "int_col": 35,
          "str_col": "foobar"
         },
         {
          "float_col": 41.4285714286,
          "index": 190,
          "int_col": 36,
          "str_col": "foobar"
         },
         {
          "float_col": 21.4285714286,
          "index": 191,
          "int_col": 25,
          "str_col": "foobar"
         },
         {
          "float_col": 27.1428571429,
          "index": 192,
          "int_col": 32,
          "str_col": "foobar"
         },
         {
          "float_col": 12.8571428571,
          "index": 193,
          "int_col": 22,
          "str_col": "foobar"
         },
         {
          "float_col": 35.7142857143,
          "index": 194,
          "int_col": 29,
          "str_col": "foobar"
         },
         {
          "float_col": 35.7142857143,
          "index": 195,
          "int_col": 38,
          "str_col": "foobar"
         },
         {
          "float_col": 34.2857142857,
          "index": 196,
          "int_col": 45,
          "str_col": "foobar"
         },
         {
          "float_col": 12.8571428571,
          "index": 197,
          "int_col": 44,
          "str_col": "foobar"
         },
         {
          "float_col": 38.5714285714,
          "index": 198,
          "int_col": 49,
          "str_col": "foobar"
         },
         {
          "float_col": 25.7142857143,
          "index": 199,
          "int_col": 32,
          "str_col": "foobar"
         }
        ]
       },
       "df_display_args": {
        "main": {
         "data_key": "main",
         "df_viewer_config": {
          "column_config": [
           {
            "col_name": "index",
            "displayer_args": {
             "displayer": "obj"
            }
           },
           {
            "col_name": "int_col",
            "displayer_args": {
             "displayer": "float",
             "maximumFractionDigits": 0,
             "minimumFractionDigits": 0
            }
           },
           {
            "col_name": "float_col",
            "displayer_args": {
             "displayer": "float",
             "maximumFractionDigits": 3,
             "minimumFractionDigits": 3
            }
           },
           {
            "col_name": "str_col",
            "displayer_args": {
             "displayer": "obj"
            },
            "tooltip_config": {
             "tooltip_type": "simple",
             "val_column": "int_col"
            }
           }
          ],
          "pinned_rows": [
           {
            "displayer_args": {
             "displayer": "obj"
            },
            "primary_key_val": "dtype"
           },
           {
            "displayer_args": {
             "displayer": "histogram"
            },
            "primary_key_val": "histogram"
           }
          ]
         },
         "summary_stats_key": "all_stats"
        },
        "summary": {
         "data_key": "empty",
         "df_viewer_config": {
          "column_config": [
           {
            "col_name": "index",
            "displayer_args": {
             "displayer": "obj"
            }
           },
           {
            "col_name": "int_col",
            "displayer_args": {
             "displayer": "obj"
            }
           },
           {
            "col_name": "float_col",
            "displayer_args": {
             "displayer": "obj"
            }
           },
           {
            "col_name": "str_col",
            "displayer_args": {
             "displayer": "obj"
            },
            "tooltip_config": {
             "tooltip_type": "simple",
             "val_column": "int_col"
            }
           }
          ],
          "pinned_rows": [
           {
            "displayer_args": {
             "displayer": "obj"
            },
            "primary_key_val": "dtype"
           },
           {
            "displayer_args": {
             "displayer": "float",
             "maximumFractionDigits": 3,
             "minimumFractionDigits": 3
            },
            "primary_key_val": "min"
           },
           {
            "displayer_args": {
             "displayer": "float",
             "maximumFractionDigits": 3,
             "minimumFractionDigits": 3
            },
            "primary_key_val": "mean"
           },
           {
            "displayer_args": {
             "displayer": "float",
             "maximumFractionDigits": 3,
             "minimumFractionDigits": 3
            },
            "primary_key_val": "max"
           },
           {
            "displayer_args": {
             "displayer": "float",
             "maximumFractionDigits": 0,
             "minimumFractionDigits": 0
            },
            "primary_key_val": "unique_count"
           },
           {
            "displayer_args": {
             "displayer": "float",
             "maximumFractionDigits": 0,
             "minimumFractionDigits": 0
            },
            "primary_key_val": "distinct_count"
           },
           {
            "displayer_args": {
             "displayer": "float",
             "maximumFractionDigits": 0,
             "minimumFractionDigits": 0
            },
            "primary_key_val": "empty_count"
           }
          ]
         },
         "summary_stats_key": "all_stats"
        }
       },
       "df_meta": {
        "columns": 3,
        "rows_shown": 200,
        "total_rows": 200
       },
       "layout": "IPY_MODEL_4c856568d3b747c590d8026bda3cafe1",
       "operation_results": {
        "generated_py_code": "# instantiation, unused",
        "transformed_df": {
         "column_config": [],
         "data": [],
         "pinned_rows": []
        }
       },
       "operations": []
      }
     },
     "894a7fea7cbe4023b7e7db8ef169eaf8": {
      "model_module": "@jupyter-widgets/base",
      "model_module_version": "2.0.0",
      "model_name": "LayoutModel",
      "state": {}
     },
     "8a7b2219ac204b6b8a6847d667014706": {
      "model_module": "buckaroo",
      "model_module_version": "^0.5.1",
      "model_name": "DCEFWidgetModel",
      "state": {
       "_model_module_version": "^0.5.1",
       "_view_module_version": "^0.5.1",
       "_view_name": "DCEFWidgetView",
       "buckaroo_options": {
        "auto_clean": [
         "aggressive",
         "conservative"
        ],
        "df_display": [
         "main",
         "summary"
        ],
        "post_processing": [
         ""
        ],
        "sampled": [
         "random"
        ],
        "show_commands": [
         "on"
        ],
        "summary_stats": [
         "all"
        ]
       },
       "buckaroo_state": {
        "auto_clean": "conservative",
        "df_display": "main",
        "post_processing": "",
        "sampled": false,
        "search_string": "",
        "show_commands": false
       },
       "commandConfig": {
        "argspecs": {
         "dropcol": [
          null
         ],
         "fillna": [
          [
           3,
           "fillVal",
           "type",
           "integer"
          ]
         ],
         "groupby": [
          [
           3,
           "colMap",
           "colEnum",
           [
            "null",
            "sum",
            "mean",
            "median",
            "count"
           ]
          ]
         ],
         "onehot": [
          null
         ],
         "reindex": [
          null
         ],
         "safeint": [
          null
         ],
         "to_bool": [
          null
         ],
         "to_datetime": [
          null
         ],
         "to_float": [
          null
         ],
         "to_int": [
          null
         ],
         "to_string": [
          null
         ]
        },
        "defaultArgs": {
         "dropcol": [
          {
           "symbol": "dropcol"
          },
          {
           "symbol": "df"
          },
          "col"
         ],
         "fillna": [
          {
           "symbol": "fillna"
          },
          {
           "symbol": "df"
          },
          "col",
          8
         ],
         "groupby": [
          {
           "symbol": "groupby"
          },
          {
           "symbol": "df"
          },
          "col",
          {}
         ],
         "onehot": [
          {
           "symbol": "onehot"
          },
          {
           "symbol": "df"
          },
          "col"
         ],
         "reindex": [
          {
           "symbol": "reindex"
          },
          {
           "symbol": "df"
          },
          "col"
         ],
         "safeint": [
          {
           "symbol": "safeint"
          },
          {
           "symbol": "df"
          },
          "col"
         ],
         "to_bool": [
          {
           "symbol": "to_bool"
          },
          {
           "symbol": "df"
          },
          "col"
         ],
         "to_datetime": [
          {
           "symbol": "to_datetime"
          },
          {
           "symbol": "df"
          },
          "col"
         ],
         "to_float": [
          {
           "symbol": "to_float"
          },
          {
           "symbol": "df"
          },
          "col"
         ],
         "to_int": [
          {
           "symbol": "to_int"
          },
          {
           "symbol": "df"
          },
          "col"
         ],
         "to_string": [
          {
           "symbol": "to_string"
          },
          {
           "symbol": "df"
          },
          "col"
         ]
        }
       },
       "df_data_dict": {
        "all_stats": [
         {
          "all_NA": "object",
          "half_NA": "object",
          "index": "dtype",
          "longtail": "object",
          "longtail_unique": "object"
         },
         {
          "all_NA": false,
          "half_NA": false,
          "index": "is_numeric",
          "longtail": false,
          "longtail_unique": false
         },
         {
          "all_NA": false,
          "half_NA": false,
          "index": "is_integer",
          "longtail": false,
          "longtail_unique": false
         },
         {
          "all_NA": true,
          "half_NA": false,
          "index": "is_datetime",
          "longtail": false,
          "longtail_unique": false
         },
         {
          "all_NA": false,
          "half_NA": false,
          "index": "is_bool",
          "longtail": false,
          "longtail_unique": false
         },
         {
          "all_NA": false,
          "half_NA": false,
          "index": "is_float",
          "longtail": false,
          "longtail_unique": false
         },
         {
          "all_NA": false,
          "half_NA": false,
          "index": "is_string",
          "longtail": false,
          "longtail_unique": true
         },
         {
          "all_NA": 4132,
          "half_NA": 4132,
          "index": "memory_usage",
          "longtail": 4132,
          "longtail_unique": 4132
         },
         {
          "all_NA": 500,
          "half_NA": 500,
          "index": "length",
          "longtail": 500,
          "longtail_unique": 500
         },
         {
          "all_NA": 500,
          "half_NA": 246,
          "index": "nan_count",
          "longtail": 100,
          "longtail_unique": 0
         },
         {
          "all_NA": [],
          "half_NA": [
           254
          ],
          "index": "value_counts",
          "longtail": [
           2,
           2,
           2,
           2,
           2,
           2,
           2,
           2,
           2,
           2,
           2,
           2,
           2,
           2,
           2,
           2,
           2,
           2,
           2,
           2,
           2,
           2,
           2,
           2,
           2,
           2,
           2,
           2,
           2,
           2,
           2,
           2,
           2,
           2,
           2,
           2,
           2,
           2,
           2,
           2,
           2,
           2,
           2,
           2,
           2,
           2,
           2,
           2,
           2,
           2,
           2,
           2,
           2,
           2,
           2,
           2,
           2,
           2,
           2,
           2,
           2,
           2,
           2,
           2,
           2,
           2,
           2,
           2,
           2,
           2,
           2,
           2,
           2,
           2,
           2,
           2,
           2,
           2,
           2,
           2,
           2,
           2,
           2,
           2,
           2,
           2,
           2,
           2,
           2,
           2,
           2,
           2,
           2,
           2,
           2,
           2,
           2,
           2,
           2,
           2,
           2,
           2,
           2,
           2,
           2,
           2,
           2,
           2,
           2,
           2,
           2,
           2,
           2,
           2,
           2,
           2,
           2,
           2,
           2,
           2,
           2,
           2,
           2,
           2,
           2,
           2,
           2,
           2,
           2,
           2,
           2,
           2,
           2,
           2,
           2,
           2,
           2,
           2,
           2,
           2,
           2,
           2,
           2,
           2,
           2,
           2,
           2,
           2,
           2,
           2,
           2,
           2,
           2,
           2,
           2,
           2,
           2,
           2,
           2,
           2,
           2,
           2,
           2,
           2,
           2,
           2,
           2,
           2,
           2,
           2,
           2,
           2,
           2,
           2,
           2,
           2,
           2,
           2,
           2,
           2,
           2,
           2,
           2,
           2,
           2,
           2,
           2,
           2,
           2,
           2,
           2,
           2,
           2,
           2,
           2,
           2,
           2,
           2,
           2,
           2
          ],
          "longtail_unique": [
           2,
           2,
           2,
           2,
           2,
           2,
           2,
           2,
           2,
           2,
           2,
           2,
           2,
           2,
           2,
           2,
           2,
           2,
           2,
           2,
           2,
           2,
           2,
           2,
           2,
           2,
           2,
           2,
           2,
           2,
           2,
           2,
           2,
           2,
           2,
           2,
           2,
           2,
           2,
           2,
           2,
           2,
           2,
           2,
           2,
           2,
           2,
           2,
           2,
           2,
           2,
           2,
           2,
           2,
           2,
           2,
           2,
           2,
           2,
           2,
           2,
           2,
           2,
           2,
           2,
           2,
           2,
           2,
           2,
           2,
           2,
           2,
           2,
           2,
           2,
           2,
           2,
           2,
           2,
           2,
           2,
           2,
           2,
           2,
           2,
           2,
           2,
           2,
           2,
           2,
           2,
           2,
           2,
           2,
           2,
           2,
           2,
           2,
           2,
           2,
           2,
           2,
           2,
           2,
           2,
           2,
           2,
           2,
           2,
           2,
           2,
           2,
           2,
           2,
           2,
           2,
           2,
           2,
           2,
           2,
           2,
           2,
           2,
           2,
           2,
           1,
           1,
           1,
           1,
           1,
           1,
           1,
           1,
           1,
           1,
           1,
           1,
           1,
           1,
           1,
           1,
           1,
           1,
           1,
           1,
           1,
           1,
           1,
           1,
           1,
           1,
           1,
           1,
           1,
           1,
           1,
           1,
           1,
           1,
           1,
           1,
           1,
           1,
           1,
           1,
           1,
           1,
           1,
           1,
           1,
           1,
           1,
           1,
           1,
           1,
           1,
           1,
           1,
           1,
           1,
           1,
           1,
           1,
           1,
           1,
           1,
           1,
           1,
           1,
           1,
           1,
           1,
           1,
           1,
           1,
           1,
           1,
           1,
           1,
           1,
           1,
           1,
           1,
           1,
           1,
           1,
           1,
           1,
           1,
           1,
           1,
           1,
           1,
           1,
           1,
           1,
           1,
           1,
           1,
           1,
           1,
           1,
           1,
           1,
           1,
           1,
           1,
           1,
           1,
           1,
           1,
           1,
           1,
           1,
           1,
           1,
           1,
           1,
           1,
           1,
           1,
           1,
           1,
           1,
           1,
           1,
           1,
           1,
           1,
           1,
           1,
           1,
           1,
           1,
           1,
           1,
           1,
           1,
           1,
           1,
           1,
           1,
           1,
           1,
           1,
           1,
           1,
           1,
           1,
           1,
           1,
           1,
           1,
           1,
           1,
           1,
           1,
           1,
           1,
           1,
           1,
           1,
           1,
           1,
           1,
           1,
           1,
           1,
           1,
           1,
           1,
           1,
           1,
           1,
           1,
           1,
           1,
           1,
           1,
           1,
           1,
           1,
           1,
           1,
           1,
           1,
           1,
           1,
           1,
           1,
           1,
           1,
           1,
           1,
           1,
           1,
           1,
           1,
           1,
           1,
           1,
           1,
           1,
           1,
           1,
           1,
           1,
           1,
           1,
           1,
           1,
           1,
           1,
           1,
           1,
           1,
           1,
           1,
           1,
           1,
           1,
           1,
           1,
           1,
           1,
           1,
           1,
           1,
           1,
           1,
           1,
           1,
           1,
           1,
           1,
           1,
           1,
           1,
           1,
           1,
           1,
           1,
           1,
           1,
           1,
           1,
           1,
           1,
           1,
           1,
           1,
           1,
           1,
           1,
           1
          ]
         },
         {
          "all_NA": null,
          "half_NA": 1,
          "index": "mode",
          "longtail": "long_0",
          "longtail_unique": "long_0"
         },
         {
          "all_NA": null,
          "half_NA": null,
          "index": "min",
          "longtail": null,
          "longtail_unique": null
         },
         {
          "all_NA": null,
          "half_NA": null,
          "index": "max",
          "longtail": null,
          "longtail_unique": null
         },
         {
          "all_NA": {},
          "half_NA": {},
          "index": "histogram_args",
          "longtail": {},
          "longtail_unique": {}
         },
         {
          "all_NA": "datetime",
          "half_NA": "obj",
          "index": "_type",
          "longtail": "obj",
          "longtail_unique": "string"
         },
         {
          "all_NA": "datetime",
          "half_NA": "obj",
          "index": "type",
          "longtail": "obj",
          "longtail_unique": "string"
         },
         {
          "all_NA": "default",
          "half_NA": null,
          "index": "formatter",
          "longtail": null,
          "longtail_unique": null
         },
         {
          "all_NA": 0,
          "half_NA": 0,
          "index": "unique_count",
          "longtail": 0,
          "longtail_unique": 250
         },
         {
          "all_NA": 0,
          "half_NA": 0,
          "index": "empty_count",
          "longtail": 0,
          "longtail_unique": 0
         },
         {
          "all_NA": 0,
          "half_NA": 1,
          "index": "distinct_count",
          "longtail": 200,
          "longtail_unique": 375
         },
         {
          "all_NA": 0,
          "half_NA": 0.002,
          "index": "distinct_per",
          "longtail": 0.4,
          "longtail_unique": 0.75
         },
         {
          "all_NA": 0,
          "half_NA": 0,
          "index": "empty_per",
          "longtail": 0,
          "longtail_unique": 0
         },
         {
          "all_NA": 0,
          "half_NA": 0,
          "index": "unique_per",
          "longtail": 0,
          "longtail_unique": 0.5
         },
         {
          "all_NA": 1,
          "half_NA": 0.492,
          "index": "nan_per",
          "longtail": 0.2,
          "longtail_unique": 0
         },
         {
          "all_NA": [
           {
            "NA": 100,
            "name": "NA"
           }
          ],
          "half_NA": [
           {
            "cat_pop": 51,
            "name": 1
           },
           {
            "NA": 49,
            "name": "NA"
           }
          ],
          "index": "histogram",
          "longtail": [
           {
            "cat_pop": 0,
            "name": "long_82"
           },
           {
            "cat_pop": 0,
            "name": "long_9"
           },
           {
            "cat_pop": 0,
            "name": "long_55"
           },
           {
            "cat_pop": 0,
            "name": "long_177"
           },
           {
            "cat_pop": 0,
            "name": "long_116"
           },
           {
            "cat_pop": 0,
            "name": "long_4"
           },
           {
            "cat_pop": 0,
            "name": "long_97"
           },
           {
            "longtail": 77,
            "name": "longtail"
           },
           {
            "NA": 20,
            "name": "NA"
           }
          ],
          "longtail_unique": [
           {
            "cat_pop": 0,
            "name": "long_82"
           },
           {
            "cat_pop": 0,
            "name": "long_87"
           },
           {
            "cat_pop": 0,
            "name": "long_52"
           },
           {
            "cat_pop": 0,
            "name": "long_0"
           },
           {
            "cat_pop": 0,
            "name": "long_95"
           },
           {
            "cat_pop": 0,
            "name": "long_75"
           },
           {
            "cat_pop": 0,
            "name": "long_115"
           },
           {
            "longtail": 47,
            "name": "longtail",
            "unique": 50
           }
          ]
         }
        ],
        "empty": [],
        "main": [
         {
          "all_NA": null,
          "half_NA": null,
          "index": 0,
          "longtail": null,
          "longtail_unique": "long_82"
         },
         {
          "all_NA": null,
          "half_NA": null,
          "index": 1,
          "longtail": null,
          "longtail_unique": "unique_125"
         },
         {
          "all_NA": null,
          "half_NA": null,
          "index": 2,
          "longtail": "long_82",
          "longtail_unique": "long_20"
         },
         {
          "all_NA": null,
          "half_NA": null,
          "index": 3,
          "longtail": "long_20",
          "longtail_unique": "unique_48"
         },
         {
          "all_NA": null,
          "half_NA": 1,
          "index": 4,
          "longtail": null,
          "longtail_unique": "unique_241"
         },
         {
          "all_NA": null,
          "half_NA": 1,
          "index": 5,
          "longtail": "long_11",
          "longtail_unique": "long_42"
         },
         {
          "all_NA": null,
          "half_NA": null,
          "index": 6,
          "longtail": "long_28",
          "longtail_unique": "long_104"
         },
         {
          "all_NA": null,
          "half_NA": null,
          "index": 7,
          "longtail": "long_115",
          "longtail_unique": "long_12"
         },
         {
          "all_NA": null,
          "half_NA": null,
          "index": 8,
          "longtail": "long_146",
          "longtail_unique": "long_100"
         },
         {
          "all_NA": null,
          "half_NA": null,
          "index": 9,
          "longtail": null,
          "longtail_unique": "unique_205"
         },
         {
          "all_NA": null,
          "half_NA": null,
          "index": 10,
          "longtail": "long_161",
          "longtail_unique": "unique_242"
         },
         {
          "all_NA": null,
          "half_NA": null,
          "index": 11,
          "longtail": "long_175",
          "longtail_unique": "unique_178"
         },
         {
          "all_NA": null,
          "half_NA": 1,
          "index": 12,
          "longtail": "long_73",
          "longtail_unique": "unique_148"
         },
         {
          "all_NA": null,
          "half_NA": 1,
          "index": 13,
          "longtail": "long_8",
          "longtail_unique": "long_92"
         },
         {
          "all_NA": null,
          "half_NA": null,
          "index": 14,
          "longtail": "long_24",
          "longtail_unique": "unique_192"
         },
         {
          "all_NA": null,
          "half_NA": 1,
          "index": 15,
          "longtail": "long_165",
          "longtail_unique": "long_6"
         },
         {
          "all_NA": null,
          "half_NA": 1,
          "index": 16,
          "longtail": "long_63",
          "longtail_unique": "unique_40"
         },
         {
          "all_NA": null,
          "half_NA": null,
          "index": 17,
          "longtail": "long_86",
          "longtail_unique": "long_111"
         },
         {
          "all_NA": null,
          "half_NA": null,
          "index": 18,
          "longtail": "long_49",
          "longtail_unique": "long_55"
         },
         {
          "all_NA": null,
          "half_NA": null,
          "index": 19,
          "longtail": "long_176",
          "longtail_unique": "unique_97"
         },
         {
          "all_NA": null,
          "half_NA": 1,
          "index": 20,
          "longtail": "long_32",
          "longtail_unique": "unique_134"
         },
         {
          "all_NA": null,
          "half_NA": 1,
          "index": 21,
          "longtail": "long_113",
          "longtail_unique": "unique_197"
         },
         {
          "all_NA": null,
          "half_NA": null,
          "index": 22,
          "longtail": "long_56",
          "longtail_unique": "unique_69"
         },
         {
          "all_NA": null,
          "half_NA": null,
          "index": 23,
          "longtail": "long_84",
          "longtail_unique": "long_103"
         },
         {
          "all_NA": null,
          "half_NA": 1,
          "index": 24,
          "longtail": "long_48",
          "longtail_unique": "unique_234"
         },
         {
          "all_NA": null,
          "half_NA": 1,
          "index": 25,
          "longtail": "long_102",
          "longtail_unique": "long_96"
         },
         {
          "all_NA": null,
          "half_NA": null,
          "index": 26,
          "longtail": null,
          "longtail_unique": "unique_22"
         },
         {
          "all_NA": null,
          "half_NA": null,
          "index": 27,
          "longtail": null,
          "longtail_unique": "long_54"
         },
         {
          "all_NA": null,
          "half_NA": 1,
          "index": 28,
          "longtail": "long_147",
          "longtail_unique": "long_37"
         },
         {
          "all_NA": null,
          "half_NA": null,
          "index": 29,
          "longtail": null,
          "longtail_unique": "long_38"
         },
         {
          "all_NA": null,
          "half_NA": null,
          "index": 30,
          "longtail": "long_77",
          "longtail_unique": "long_124"
         },
         {
          "all_NA": null,
          "half_NA": null,
          "index": 31,
          "longtail": "long_170",
          "longtail_unique": "long_86"
         },
         {
          "all_NA": null,
          "half_NA": 1,
          "index": 32,
          "longtail": "long_149",
          "longtail_unique": "long_97"
         },
         {
          "all_NA": null,
          "half_NA": 1,
          "index": 33,
          "longtail": null,
          "longtail_unique": "unique_230"
         },
         {
          "all_NA": null,
          "half_NA": 1,
          "index": 34,
          "longtail": null,
          "longtail_unique": "long_41"
         },
         {
          "all_NA": null,
          "half_NA": 1,
          "index": 35,
          "longtail": "long_30",
          "longtail_unique": "unique_204"
         },
         {
          "all_NA": null,
          "half_NA": null,
          "index": 36,
          "longtail": "long_49",
          "longtail_unique": "long_26"
         },
         {
          "all_NA": null,
          "half_NA": 1,
          "index": 37,
          "longtail": "long_188",
          "longtail_unique": "long_88"
         },
         {
          "all_NA": null,
          "half_NA": 1,
          "index": 38,
          "longtail": "long_136",
          "longtail_unique": "long_31"
         },
         {
          "all_NA": null,
          "half_NA": 1,
          "index": 39,
          "longtail": "long_182",
          "longtail_unique": "unique_100"
         },
         {
          "all_NA": null,
          "half_NA": 1,
          "index": 40,
          "longtail": "long_78",
          "longtail_unique": "unique_162"
         },
         {
          "all_NA": null,
          "half_NA": null,
          "index": 41,
          "longtail": "long_171",
          "longtail_unique": "unique_46"
         },
         {
          "all_NA": null,
          "half_NA": 1,
          "index": 42,
          "longtail": "long_15",
          "longtail_unique": "long_28"
         },
         {
          "all_NA": null,
          "half_NA": null,
          "index": 43,
          "longtail": "long_179",
          "longtail_unique": "unique_13"
         },
         {
          "all_NA": null,
          "half_NA": null,
          "index": 44,
          "longtail": "long_164",
          "longtail_unique": "unique_26"
         },
         {
          "all_NA": null,
          "half_NA": 1,
          "index": 45,
          "longtail": "long_67",
          "longtail_unique": "long_85"
         },
         {
          "all_NA": null,
          "half_NA": 1,
          "index": 46,
          "longtail": "long_33",
          "longtail_unique": "long_8"
         },
         {
          "all_NA": null,
          "half_NA": null,
          "index": 47,
          "longtail": null,
          "longtail_unique": "unique_78"
         },
         {
          "all_NA": null,
          "half_NA": null,
          "index": 48,
          "longtail": "long_101",
          "longtail_unique": "long_65"
         },
         {
          "all_NA": null,
          "half_NA": null,
          "index": 49,
          "longtail": null,
          "longtail_unique": "long_45"
         },
         {
          "all_NA": null,
          "half_NA": 1,
          "index": 50,
          "longtail": "long_117",
          "longtail_unique": "unique_138"
         },
         {
          "all_NA": null,
          "half_NA": null,
          "index": 51,
          "longtail": "long_58",
          "longtail_unique": "unique_142"
         },
         {
          "all_NA": null,
          "half_NA": 1,
          "index": 52,
          "longtail": "long_15",
          "longtail_unique": "long_122"
         },
         {
          "all_NA": null,
          "half_NA": 1,
          "index": 53,
          "longtail": "long_193",
          "longtail_unique": "unique_190"
         },
         {
          "all_NA": null,
          "half_NA": null,
          "index": 54,
          "longtail": null,
          "longtail_unique": "long_107"
         },
         {
          "all_NA": null,
          "half_NA": 1,
          "index": 55,
          "longtail": "long_137",
          "longtail_unique": "long_34"
         },
         {
          "all_NA": null,
          "half_NA": 1,
          "index": 56,
          "longtail": null,
          "longtail_unique": "long_123"
         },
         {
          "all_NA": null,
          "half_NA": 1,
          "index": 57,
          "longtail": "long_197",
          "longtail_unique": "long_24"
         },
         {
          "all_NA": null,
          "half_NA": null,
          "index": 58,
          "longtail": "long_76",
          "longtail_unique": "long_117"
         },
         {
          "all_NA": null,
          "half_NA": 1,
          "index": 59,
          "longtail": "long_196",
          "longtail_unique": "unique_57"
         },
         {
          "all_NA": null,
          "half_NA": null,
          "index": 60,
          "longtail": "long_129",
          "longtail_unique": "unique_88"
         },
         {
          "all_NA": null,
          "half_NA": 1,
          "index": 61,
          "longtail": "long_127",
          "longtail_unique": "unique_222"
         },
         {
          "all_NA": null,
          "half_NA": null,
          "index": 62,
          "longtail": null,
          "longtail_unique": "long_114"
         },
         {
          "all_NA": null,
          "half_NA": 1,
          "index": 63,
          "longtail": "long_140",
          "longtail_unique": "unique_67"
         },
         {
          "all_NA": null,
          "half_NA": null,
          "index": 64,
          "longtail": null,
          "longtail_unique": "unique_16"
         },
         {
          "all_NA": null,
          "half_NA": null,
          "index": 65,
          "longtail": "long_35",
          "longtail_unique": "unique_105"
         },
         {
          "all_NA": null,
          "half_NA": 1,
          "index": 66,
          "longtail": "long_187",
          "longtail_unique": "long_101"
         },
         {
          "all_NA": null,
          "half_NA": 1,
          "index": 67,
          "longtail": "long_100",
          "longtail_unique": "unique_226"
         },
         {
          "all_NA": null,
          "half_NA": null,
          "index": 68,
          "longtail": "long_61",
          "longtail_unique": "unique_85"
         },
         {
          "all_NA": null,
          "half_NA": 1,
          "index": 69,
          "longtail": "long_175",
          "longtail_unique": "long_121"
         },
         {
          "all_NA": null,
          "half_NA": 1,
          "index": 70,
          "longtail": "long_34",
          "longtail_unique": "unique_248"
         },
         {
          "all_NA": null,
          "half_NA": null,
          "index": 71,
          "longtail": "long_57",
          "longtail_unique": "unique_155"
         },
         {
          "all_NA": null,
          "half_NA": null,
          "index": 72,
          "longtail": "long_22",
          "longtail_unique": "unique_96"
         },
         {
          "all_NA": null,
          "half_NA": 1,
          "index": 73,
          "longtail": "long_24",
          "longtail_unique": "long_77"
         },
         {
          "all_NA": null,
          "half_NA": 1,
          "index": 74,
          "longtail": "long_90",
          "longtail_unique": "long_43"
         },
         {
          "all_NA": null,
          "half_NA": null,
          "index": 75,
          "longtail": "long_181",
          "longtail_unique": "long_106"
         },
         {
          "all_NA": null,
          "half_NA": null,
          "index": 76,
          "longtail": null,
          "longtail_unique": "unique_113"
         },
         {
          "all_NA": null,
          "half_NA": null,
          "index": 77,
          "longtail": "long_166",
          "longtail_unique": "unique_243"
         },
         {
          "all_NA": null,
          "half_NA": 1,
          "index": 78,
          "longtail": "long_96",
          "longtail_unique": "unique_200"
         },
         {
          "all_NA": null,
          "half_NA": 1,
          "index": 79,
          "longtail": null,
          "longtail_unique": "unique_199"
         },
         {
          "all_NA": null,
          "half_NA": null,
          "index": 80,
          "longtail": "long_83",
          "longtail_unique": "unique_36"
         },
         {
          "all_NA": null,
          "half_NA": 1,
          "index": 81,
          "longtail": null,
          "longtail_unique": "unique_176"
         },
         {
          "all_NA": null,
          "half_NA": 1,
          "index": 82,
          "longtail": null,
          "longtail_unique": "long_102"
         },
         {
          "all_NA": null,
          "half_NA": 1,
          "index": 83,
          "longtail": "long_196",
          "longtail_unique": "long_99"
         },
         {
          "all_NA": null,
          "half_NA": 1,
          "index": 84,
          "longtail": "long_31",
          "longtail_unique": "unique_5"
         },
         {
          "all_NA": null,
          "half_NA": null,
          "index": 85,
          "longtail": null,
          "longtail_unique": "long_11"
         },
         {
          "all_NA": null,
          "half_NA": 1,
          "index": 86,
          "longtail": "long_75",
          "longtail_unique": "long_103"
         },
         {
          "all_NA": null,
          "half_NA": 1,
          "index": 87,
          "longtail": "long_54",
          "longtail_unique": "unique_245"
         },
         {
          "all_NA": null,
          "half_NA": 1,
          "index": 88,
          "longtail": "long_134",
          "longtail_unique": "long_124"
         },
         {
          "all_NA": null,
          "half_NA": 1,
          "index": 89,
          "longtail": "long_93",
          "longtail_unique": "unique_1"
         },
         {
          "all_NA": null,
          "half_NA": null,
          "index": 90,
          "longtail": "long_195",
          "longtail_unique": "unique_160"
         },
         {
          "all_NA": null,
          "half_NA": 1,
          "index": 91,
          "longtail": null,
          "longtail_unique": "long_112"
         },
         {
          "all_NA": null,
          "half_NA": 1,
          "index": 92,
          "longtail": null,
          "longtail_unique": "unique_34"
         },
         {
          "all_NA": null,
          "half_NA": null,
          "index": 93,
          "longtail": "long_133",
          "longtail_unique": "long_104"
         },
         {
          "all_NA": null,
          "half_NA": null,
          "index": 94,
          "longtail": "long_42",
          "longtail_unique": "unique_35"
         },
         {
          "all_NA": null,
          "half_NA": null,
          "index": 95,
          "longtail": "long_197",
          "longtail_unique": "unique_81"
         },
         {
          "all_NA": null,
          "half_NA": 1,
          "index": 96,
          "longtail": "long_87",
          "longtail_unique": "long_50"
         },
         {
          "all_NA": null,
          "half_NA": null,
          "index": 97,
          "longtail": "long_157",
          "longtail_unique": "long_49"
         },
         {
          "all_NA": null,
          "half_NA": 1,
          "index": 98,
          "longtail": "long_157",
          "longtail_unique": "long_94"
         },
         {
          "all_NA": null,
          "half_NA": 1,
          "index": 99,
          "longtail": "long_27",
          "longtail_unique": "long_55"
         },
         {
          "all_NA": null,
          "half_NA": null,
          "index": 100,
          "longtail": "long_98",
          "longtail_unique": "unique_179"
         },
         {
          "all_NA": null,
          "half_NA": 1,
          "index": 101,
          "longtail": "long_11",
          "longtail_unique": "long_108"
         },
         {
          "all_NA": null,
          "half_NA": null,
          "index": 102,
          "longtail": "long_14",
          "longtail_unique": "long_90"
         },
         {
          "all_NA": null,
          "half_NA": null,
          "index": 103,
          "longtail": "long_131",
          "longtail_unique": "long_52"
         },
         {
          "all_NA": null,
          "half_NA": 1,
          "index": 104,
          "longtail": "long_170",
          "longtail_unique": "long_0"
         },
         {
          "all_NA": null,
          "half_NA": null,
          "index": 105,
          "longtail": "long_155",
          "longtail_unique": "long_95"
         },
         {
          "all_NA": null,
          "half_NA": null,
          "index": 106,
          "longtail": "long_121",
          "longtail_unique": "unique_187"
         },
         {
          "all_NA": null,
          "half_NA": 1,
          "index": 107,
          "longtail": "long_85",
          "longtail_unique": "unique_68"
         },
         {
          "all_NA": null,
          "half_NA": null,
          "index": 108,
          "longtail": "long_145",
          "longtail_unique": "long_115"
         },
         {
          "all_NA": null,
          "half_NA": null,
          "index": 109,
          "longtail": null,
          "longtail_unique": "long_81"
         },
         {
          "all_NA": null,
          "half_NA": 1,
          "index": 110,
          "longtail": "long_192",
          "longtail_unique": "unique_129"
         },
         {
          "all_NA": null,
          "half_NA": null,
          "index": 111,
          "longtail": "long_178",
          "longtail_unique": "long_87"
         },
         {
          "all_NA": null,
          "half_NA": null,
          "index": 112,
          "longtail": "long_154",
          "longtail_unique": "long_59"
         },
         {
          "all_NA": null,
          "half_NA": 1,
          "index": 113,
          "longtail": "long_189",
          "longtail_unique": "long_80"
         },
         {
          "all_NA": null,
          "half_NA": 1,
          "index": 114,
          "longtail": "long_163",
          "longtail_unique": "long_93"
         },
         {
          "all_NA": null,
          "half_NA": null,
          "index": 115,
          "longtail": "long_165",
          "longtail_unique": "long_61"
         },
         {
          "all_NA": null,
          "half_NA": null,
          "index": 116,
          "longtail": "long_130",
          "longtail_unique": "long_8"
         },
         {
          "all_NA": null,
          "half_NA": null,
          "index": 117,
          "longtail": null,
          "longtail_unique": "unique_106"
         },
         {
          "all_NA": null,
          "half_NA": 1,
          "index": 118,
          "longtail": "long_174",
          "longtail_unique": "unique_195"
         },
         {
          "all_NA": null,
          "half_NA": null,
          "index": 119,
          "longtail": "long_70",
          "longtail_unique": "long_23"
         },
         {
          "all_NA": null,
          "half_NA": 1,
          "index": 120,
          "longtail": "long_59",
          "longtail_unique": "unique_240"
         },
         {
          "all_NA": null,
          "half_NA": 1,
          "index": 121,
          "longtail": "long_16",
          "longtail_unique": "long_64"
         },
         {
          "all_NA": null,
          "half_NA": null,
          "index": 122,
          "longtail": "long_68",
          "longtail_unique": "unique_11"
         },
         {
          "all_NA": null,
          "half_NA": null,
          "index": 123,
          "longtail": "long_181",
          "longtail_unique": "long_83"
         },
         {
          "all_NA": null,
          "half_NA": 1,
          "index": 124,
          "longtail": "long_38",
          "longtail_unique": "unique_152"
         },
         {
          "all_NA": null,
          "half_NA": 1,
          "index": 125,
          "longtail": "long_92",
          "longtail_unique": "long_51"
         },
         {
          "all_NA": null,
          "half_NA": null,
          "index": 126,
          "longtail": "long_0",
          "longtail_unique": "unique_122"
         },
         {
          "all_NA": null,
          "half_NA": 1,
          "index": 127,
          "longtail": "long_86",
          "longtail_unique": "unique_8"
         },
         {
          "all_NA": null,
          "half_NA": 1,
          "index": 128,
          "longtail": "long_46",
          "longtail_unique": "unique_63"
         },
         {
          "all_NA": null,
          "half_NA": 1,
          "index": 129,
          "longtail": "long_133",
          "longtail_unique": "long_78"
         },
         {
          "all_NA": null,
          "half_NA": 1,
          "index": 130,
          "longtail": "long_23",
          "longtail_unique": "long_30"
         },
         {
          "all_NA": null,
          "half_NA": 1,
          "index": 131,
          "longtail": null,
          "longtail_unique": "unique_171"
         },
         {
          "all_NA": null,
          "half_NA": 1,
          "index": 132,
          "longtail": null,
          "longtail_unique": "long_84"
         },
         {
          "all_NA": null,
          "half_NA": null,
          "index": 133,
          "longtail": "long_146",
          "longtail_unique": "unique_175"
         },
         {
          "all_NA": null,
          "half_NA": 1,
          "index": 134,
          "longtail": "long_69",
          "longtail_unique": "long_13"
         },
         {
          "all_NA": null,
          "half_NA": null,
          "index": 135,
          "longtail": null,
          "longtail_unique": "long_52"
         },
         {
          "all_NA": null,
          "half_NA": 1,
          "index": 136,
          "longtail": "long_50",
          "longtail_unique": "unique_124"
         },
         {
          "all_NA": null,
          "half_NA": null,
          "index": 137,
          "longtail": "long_158",
          "longtail_unique": "unique_167"
         },
         {
          "all_NA": null,
          "half_NA": null,
          "index": 138,
          "longtail": "long_66",
          "longtail_unique": "unique_20"
         },
         {
          "all_NA": null,
          "half_NA": 1,
          "index": 139,
          "longtail": null,
          "longtail_unique": "unique_6"
         },
         {
          "all_NA": null,
          "half_NA": 1,
          "index": 140,
          "longtail": "long_91",
          "longtail_unique": "long_59"
         },
         {
          "all_NA": null,
          "half_NA": null,
          "index": 141,
          "longtail": null,
          "longtail_unique": "unique_127"
         },
         {
          "all_NA": null,
          "half_NA": null,
          "index": 142,
          "longtail": "long_144",
          "longtail_unique": "long_32"
         },
         {
          "all_NA": null,
          "half_NA": 1,
          "index": 143,
          "longtail": null,
          "longtail_unique": "unique_61"
         },
         {
          "all_NA": null,
          "half_NA": null,
          "index": 144,
          "longtail": "long_144",
          "longtail_unique": "long_27"
         },
         {
          "all_NA": null,
          "half_NA": 1,
          "index": 145,
          "longtail": "long_134",
          "longtail_unique": "long_23"
         },
         {
          "all_NA": null,
          "half_NA": 1,
          "index": 146,
          "longtail": null,
          "longtail_unique": "long_74"
         },
         {
          "all_NA": null,
          "half_NA": null,
          "index": 147,
          "longtail": "long_189",
          "longtail_unique": "long_12"
         },
         {
          "all_NA": null,
          "half_NA": 1,
          "index": 148,
          "longtail": null,
          "longtail_unique": "long_24"
         },
         {
          "all_NA": null,
          "half_NA": null,
          "index": 149,
          "longtail": "long_143",
          "longtail_unique": "long_48"
         },
         {
          "all_NA": null,
          "half_NA": 1,
          "index": 150,
          "longtail": "long_142",
          "longtail_unique": "long_122"
         },
         {
          "all_NA": null,
          "half_NA": null,
          "index": 151,
          "longtail": "long_2",
          "longtail_unique": "long_60"
         },
         {
          "all_NA": null,
          "half_NA": null,
          "index": 152,
          "longtail": "long_199",
          "longtail_unique": "unique_239"
         },
         {
          "all_NA": null,
          "half_NA": 1,
          "index": 153,
          "longtail": "long_40",
          "longtail_unique": "unique_157"
         },
         {
          "all_NA": null,
          "half_NA": null,
          "index": 154,
          "longtail": "long_60",
          "longtail_unique": "unique_37"
         },
         {
          "all_NA": null,
          "half_NA": null,
          "index": 155,
          "longtail": null,
          "longtail_unique": "unique_25"
         },
         {
          "all_NA": null,
          "half_NA": 1,
          "index": 156,
          "longtail": "long_90",
          "longtail_unique": "long_13"
         },
         {
          "all_NA": null,
          "half_NA": null,
          "index": 157,
          "longtail": "long_123",
          "longtail_unique": "unique_231"
         },
         {
          "all_NA": null,
          "half_NA": null,
          "index": 158,
          "longtail": "long_94",
          "longtail_unique": "unique_4"
         },
         {
          "all_NA": null,
          "half_NA": 1,
          "index": 159,
          "longtail": null,
          "longtail_unique": "long_96"
         },
         {
          "all_NA": null,
          "half_NA": null,
          "index": 160,
          "longtail": "long_173",
          "longtail_unique": "long_39"
         },
         {
          "all_NA": null,
          "half_NA": null,
          "index": 161,
          "longtail": "long_158",
          "longtail_unique": "unique_21"
         },
         {
          "all_NA": null,
          "half_NA": null,
          "index": 162,
          "longtail": "long_7",
          "longtail_unique": "long_14"
         },
         {
          "all_NA": null,
          "half_NA": 1,
          "index": 163,
          "longtail": "long_92",
          "longtail_unique": "long_80"
         },
         {
          "all_NA": null,
          "half_NA": null,
          "index": 164,
          "longtail": "long_147",
          "longtail_unique": "unique_203"
         },
         {
          "all_NA": null,
          "half_NA": 1,
          "index": 165,
          "longtail": "long_160",
          "longtail_unique": "long_79"
         },
         {
          "all_NA": null,
          "half_NA": 1,
          "index": 166,
          "longtail": "long_152",
          "longtail_unique": "unique_228"
         },
         {
          "all_NA": null,
          "half_NA": null,
          "index": 167,
          "longtail": null,
          "longtail_unique": "unique_163"
         },
         {
          "all_NA": null,
          "half_NA": null,
          "index": 168,
          "longtail": "long_192",
          "longtail_unique": "unique_99"
         },
         {
          "all_NA": null,
          "half_NA": null,
          "index": 169,
          "longtail": "long_79",
          "longtail_unique": "long_1"
         },
         {
          "all_NA": null,
          "half_NA": null,
          "index": 170,
          "longtail": "long_155",
          "longtail_unique": "long_41"
         },
         {
          "all_NA": null,
          "half_NA": null,
          "index": 171,
          "longtail": "long_162",
          "longtail_unique": "long_76"
         },
         {
          "all_NA": null,
          "half_NA": 1,
          "index": 172,
          "longtail": "long_156",
          "longtail_unique": "long_64"
         },
         {
          "all_NA": null,
          "half_NA": 1,
          "index": 173,
          "longtail": "long_57",
          "longtail_unique": "unique_92"
         },
         {
          "all_NA": null,
          "half_NA": null,
          "index": 174,
          "longtail": null,
          "longtail_unique": "long_28"
         },
         {
          "all_NA": null,
          "half_NA": null,
          "index": 175,
          "longtail": "long_48",
          "longtail_unique": "long_34"
         },
         {
          "all_NA": null,
          "half_NA": null,
          "index": 176,
          "longtail": "long_61",
          "longtail_unique": "long_7"
         },
         {
          "all_NA": null,
          "half_NA": 1,
          "index": 177,
          "longtail": null,
          "longtail_unique": "unique_233"
         },
         {
          "all_NA": null,
          "half_NA": null,
          "index": 178,
          "longtail": "long_140",
          "longtail_unique": "long_72"
         },
         {
          "all_NA": null,
          "half_NA": null,
          "index": 179,
          "longtail": "long_14",
          "longtail_unique": "long_62"
         },
         {
          "all_NA": null,
          "half_NA": 1,
          "index": 180,
          "longtail": "long_108",
          "longtail_unique": "unique_131"
         },
         {
          "all_NA": null,
          "half_NA": 1,
          "index": 181,
          "longtail": null,
          "longtail_unique": "unique_132"
         },
         {
          "all_NA": null,
          "half_NA": 1,
          "index": 182,
          "longtail": null,
          "longtail_unique": "long_19"
         },
         {
          "all_NA": null,
          "half_NA": null,
          "index": 183,
          "longtail": "long_128",
          "longtail_unique": "long_120"
         },
         {
          "all_NA": null,
          "half_NA": 1,
          "index": 184,
          "longtail": null,
          "longtail_unique": "long_116"
         },
         {
          "all_NA": null,
          "half_NA": 1,
          "index": 185,
          "longtail": "long_71",
          "longtail_unique": "unique_196"
         },
         {
          "all_NA": null,
          "half_NA": 1,
          "index": 186,
          "longtail": "long_29",
          "longtail_unique": "long_109"
         },
         {
          "all_NA": null,
          "half_NA": 1,
          "index": 187,
          "longtail": null,
          "longtail_unique": "unique_77"
         },
         {
          "all_NA": null,
          "half_NA": null,
          "index": 188,
          "longtail": "long_68",
          "longtail_unique": "unique_56"
         },
         {
          "all_NA": null,
          "half_NA": null,
          "index": 189,
          "longtail": "long_150",
          "longtail_unique": "long_107"
         },
         {
          "all_NA": null,
          "half_NA": null,
          "index": 190,
          "longtail": "long_122",
          "longtail_unique": "unique_235"
         },
         {
          "all_NA": null,
          "half_NA": null,
          "index": 191,
          "longtail": null,
          "longtail_unique": "long_98"
         },
         {
          "all_NA": null,
          "half_NA": 1,
          "index": 192,
          "longtail": "long_5",
          "longtail_unique": "unique_229"
         },
         {
          "all_NA": null,
          "half_NA": 1,
          "index": 193,
          "longtail": "long_76",
          "longtail_unique": "long_38"
         },
         {
          "all_NA": null,
          "half_NA": null,
          "index": 194,
          "longtail": "long_37",
          "longtail_unique": "unique_224"
         },
         {
          "all_NA": null,
          "half_NA": null,
          "index": 195,
          "longtail": "long_17",
          "longtail_unique": "long_68"
         },
         {
          "all_NA": null,
          "half_NA": null,
          "index": 196,
          "longtail": "long_107",
          "longtail_unique": "long_105"
         },
         {
          "all_NA": null,
          "half_NA": 1,
          "index": 197,
          "longtail": null,
          "longtail_unique": "unique_49"
         },
         {
          "all_NA": null,
          "half_NA": 1,
          "index": 198,
          "longtail": null,
          "longtail_unique": "long_17"
         },
         {
          "all_NA": null,
          "half_NA": null,
          "index": 199,
          "longtail": "long_62",
          "longtail_unique": "unique_18"
         },
         {
          "all_NA": null,
          "half_NA": null,
          "index": 200,
          "longtail": "long_191",
          "longtail_unique": "unique_146"
         },
         {
          "all_NA": null,
          "half_NA": 1,
          "index": 201,
          "longtail": "long_55",
          "longtail_unique": "long_100"
         },
         {
          "all_NA": null,
          "half_NA": 1,
          "index": 202,
          "longtail": "long_188",
          "longtail_unique": "unique_89"
         },
         {
          "all_NA": null,
          "half_NA": 1,
          "index": 203,
          "longtail": null,
          "longtail_unique": "unique_70"
         },
         {
          "all_NA": null,
          "half_NA": null,
          "index": 204,
          "longtail": "long_177",
          "longtail_unique": "long_106"
         },
         {
          "all_NA": null,
          "half_NA": null,
          "index": 205,
          "longtail": "long_77",
          "longtail_unique": "long_82"
         },
         {
          "all_NA": null,
          "half_NA": null,
          "index": 206,
          "longtail": "long_116",
          "longtail_unique": "long_10"
         },
         {
          "all_NA": null,
          "half_NA": 1,
          "index": 207,
          "longtail": "long_4",
          "longtail_unique": "unique_95"
         },
         {
          "all_NA": null,
          "half_NA": 1,
          "index": 208,
          "longtail": "long_97",
          "longtail_unique": "long_113"
         },
         {
          "all_NA": null,
          "half_NA": null,
          "index": 209,
          "longtail": null,
          "longtail_unique": "long_36"
         },
         {
          "all_NA": null,
          "half_NA": null,
          "index": 210,
          "longtail": "long_89",
          "longtail_unique": "unique_189"
         },
         {
          "all_NA": null,
          "half_NA": null,
          "index": 211,
          "longtail": "long_183",
          "longtail_unique": "long_15"
         },
         {
          "all_NA": null,
          "half_NA": 1,
          "index": 212,
          "longtail": "long_154",
          "longtail_unique": "unique_186"
         },
         {
          "all_NA": null,
          "half_NA": null,
          "index": 213,
          "longtail": "long_184",
          "longtail_unique": "unique_38"
         },
         {
          "all_NA": null,
          "half_NA": 1,
          "index": 214,
          "longtail": "long_12",
          "longtail_unique": "unique_244"
         },
         {
          "all_NA": null,
          "half_NA": null,
          "index": 215,
          "longtail": "long_41",
          "longtail_unique": "long_113"
         },
         {
          "all_NA": null,
          "half_NA": 1,
          "index": 216,
          "longtail": null,
          "longtail_unique": "long_75"
         },
         {
          "all_NA": null,
          "half_NA": null,
          "index": 217,
          "longtail": null,
          "longtail_unique": "unique_201"
         },
         {
          "all_NA": null,
          "half_NA": null,
          "index": 218,
          "longtail": "long_9",
          "longtail_unique": "long_116"
         },
         {
          "all_NA": null,
          "half_NA": 1,
          "index": 219,
          "longtail": "long_31",
          "longtail_unique": "long_105"
         },
         {
          "all_NA": null,
          "half_NA": null,
          "index": 220,
          "longtail": "long_120",
          "longtail_unique": "unique_137"
         },
         {
          "all_NA": null,
          "half_NA": null,
          "index": 221,
          "longtail": "long_162",
          "longtail_unique": "unique_236"
         },
         {
          "all_NA": null,
          "half_NA": null,
          "index": 222,
          "longtail": "long_62",
          "longtail_unique": "unique_117"
         },
         {
          "all_NA": null,
          "half_NA": 1,
          "index": 223,
          "longtail": null,
          "longtail_unique": "long_119"
         },
         {
          "all_NA": null,
          "half_NA": 1,
          "index": 224,
          "longtail": null,
          "longtail_unique": "unique_211"
         },
         {
          "all_NA": null,
          "half_NA": 1,
          "index": 225,
          "longtail": "long_184",
          "longtail_unique": "long_56"
         },
         {
          "all_NA": null,
          "half_NA": 1,
          "index": 226,
          "longtail": "long_52",
          "longtail_unique": "long_61"
         },
         {
          "all_NA": null,
          "half_NA": null,
          "index": 227,
          "longtail": null,
          "longtail_unique": "unique_136"
         },
         {
          "all_NA": null,
          "half_NA": 1,
          "index": 228,
          "longtail": "long_71",
          "longtail_unique": "unique_75"
         },
         {
          "all_NA": null,
          "half_NA": null,
          "index": 229,
          "longtail": "long_183",
          "longtail_unique": "unique_227"
         },
         {
          "all_NA": null,
          "half_NA": null,
          "index": 230,
          "longtail": "long_166",
          "longtail_unique": "long_69"
         },
         {
          "all_NA": null,
          "half_NA": 1,
          "index": 231,
          "longtail": "long_67",
          "longtail_unique": "unique_43"
         },
         {
          "all_NA": null,
          "half_NA": 1,
          "index": 232,
          "longtail": "long_45",
          "longtail_unique": "unique_208"
         },
         {
          "all_NA": null,
          "half_NA": null,
          "index": 233,
          "longtail": null,
          "longtail_unique": "unique_191"
         },
         {
          "all_NA": null,
          "half_NA": null,
          "index": 234,
          "longtail": null,
          "longtail_unique": "unique_15"
         },
         {
          "all_NA": null,
          "half_NA": null,
          "index": 235,
          "longtail": "long_179",
          "longtail_unique": "long_76"
         },
         {
          "all_NA": null,
          "half_NA": 1,
          "index": 236,
          "longtail": "long_167",
          "longtail_unique": "unique_110"
         },
         {
          "all_NA": null,
          "half_NA": 1,
          "index": 237,
          "longtail": "long_177",
          "longtail_unique": "long_74"
         },
         {
          "all_NA": null,
          "half_NA": null,
          "index": 238,
          "longtail": "long_3",
          "longtail_unique": "unique_238"
         },
         {
          "all_NA": null,
          "half_NA": null,
          "index": 239,
          "longtail": "long_198",
          "longtail_unique": "unique_10"
         },
         {
          "all_NA": null,
          "half_NA": null,
          "index": 240,
          "longtail": "long_142",
          "longtail_unique": "long_53"
         },
         {
          "all_NA": null,
          "half_NA": null,
          "index": 241,
          "longtail": "long_148",
          "longtail_unique": "unique_72"
         },
         {
          "all_NA": null,
          "half_NA": null,
          "index": 242,
          "longtail": "long_27",
          "longtail_unique": "unique_212"
         },
         {
          "all_NA": null,
          "half_NA": 1,
          "index": 243,
          "longtail": "long_169",
          "longtail_unique": "unique_112"
         },
         {
          "all_NA": null,
          "half_NA": 1,
          "index": 244,
          "longtail": "long_152",
          "longtail_unique": "long_91"
         },
         {
          "all_NA": null,
          "half_NA": 1,
          "index": 245,
          "longtail": "long_130",
          "longtail_unique": "long_0"
         },
         {
          "all_NA": null,
          "half_NA": 1,
          "index": 246,
          "longtail": "long_111",
          "longtail_unique": "long_18"
         },
         {
          "all_NA": null,
          "half_NA": 1,
          "index": 247,
          "longtail": "long_185",
          "longtail_unique": "unique_54"
         },
         {
          "all_NA": null,
          "half_NA": null,
          "index": 248,
          "longtail": "long_26",
          "longtail_unique": "unique_156"
         },
         {
          "all_NA": null,
          "half_NA": null,
          "index": 249,
          "longtail": "long_37",
          "longtail_unique": "unique_247"
         },
         {
          "all_NA": null,
          "half_NA": 1,
          "index": 250,
          "longtail": "long_41",
          "longtail_unique": "unique_86"
         },
         {
          "all_NA": null,
          "half_NA": 1,
          "index": 251,
          "longtail": "long_105",
          "longtail_unique": "long_102"
         },
         {
          "all_NA": null,
          "half_NA": 1,
          "index": 252,
          "longtail": "long_75",
          "longtail_unique": "long_75"
         },
         {
          "all_NA": null,
          "half_NA": null,
          "index": 253,
          "longtail": "long_132",
          "longtail_unique": "long_53"
         },
         {
          "all_NA": null,
          "half_NA": 1,
          "index": 254,
          "longtail": "long_122",
          "longtail_unique": "long_33"
         },
         {
          "all_NA": null,
          "half_NA": 1,
          "index": 255,
          "longtail": null,
          "longtail_unique": "unique_188"
         },
         {
          "all_NA": null,
          "half_NA": null,
          "index": 256,
          "longtail": "long_53",
          "longtail_unique": "long_35"
         },
         {
          "all_NA": null,
          "half_NA": 1,
          "index": 257,
          "longtail": "long_151",
          "longtail_unique": "unique_9"
         },
         {
          "all_NA": null,
          "half_NA": 1,
          "index": 258,
          "longtail": "long_120",
          "longtail_unique": "long_49"
         },
         {
          "all_NA": null,
          "half_NA": null,
          "index": 259,
          "longtail": null,
          "longtail_unique": "long_32"
         },
         {
          "all_NA": null,
          "half_NA": 1,
          "index": 260,
          "longtail": "long_45",
          "longtail_unique": "long_118"
         },
         {
          "all_NA": null,
          "half_NA": null,
          "index": 261,
          "longtail": "long_194",
          "longtail_unique": "unique_47"
         },
         {
          "all_NA": null,
          "half_NA": 1,
          "index": 262,
          "longtail": null,
          "longtail_unique": "unique_232"
         },
         {
          "all_NA": null,
          "half_NA": 1,
          "index": 263,
          "longtail": null,
          "longtail_unique": "unique_107"
         },
         {
          "all_NA": null,
          "half_NA": 1,
          "index": 264,
          "longtail": "long_35",
          "longtail_unique": "unique_66"
         },
         {
          "all_NA": null,
          "half_NA": null,
          "index": 265,
          "longtail": "long_109",
          "longtail_unique": "unique_93"
         },
         {
          "all_NA": null,
          "half_NA": 1,
          "index": 266,
          "longtail": "long_80",
          "longtail_unique": "long_37"
         },
         {
          "all_NA": null,
          "half_NA": null,
          "index": 267,
          "longtail": null,
          "longtail_unique": "unique_215"
         },
         {
          "all_NA": null,
          "half_NA": null,
          "index": 268,
          "longtail": "long_132",
          "longtail_unique": "unique_103"
         },
         {
          "all_NA": null,
          "half_NA": null,
          "index": 269,
          "longtail": "long_193",
          "longtail_unique": "long_65"
         },
         {
          "all_NA": null,
          "half_NA": null,
          "index": 270,
          "longtail": "long_163",
          "longtail_unique": "long_2"
         },
         {
          "all_NA": null,
          "half_NA": null,
          "index": 271,
          "longtail": "long_161",
          "longtail_unique": "unique_64"
         },
         {
          "all_NA": null,
          "half_NA": null,
          "index": 272,
          "longtail": "long_9",
          "longtail_unique": "long_47"
         },
         {
          "all_NA": null,
          "half_NA": 1,
          "index": 273,
          "longtail": "long_13",
          "longtail_unique": "long_109"
         },
         {
          "all_NA": null,
          "half_NA": null,
          "index": 274,
          "longtail": "long_104",
          "longtail_unique": "unique_149"
         },
         {
          "all_NA": null,
          "half_NA": 1,
          "index": 275,
          "longtail": "long_187",
          "longtail_unique": "long_78"
         },
         {
          "all_NA": null,
          "half_NA": null,
          "index": 276,
          "longtail": null,
          "longtail_unique": "long_70"
         },
         {
          "all_NA": null,
          "half_NA": 1,
          "index": 277,
          "longtail": "long_53",
          "longtail_unique": "unique_19"
         },
         {
          "all_NA": null,
          "half_NA": 1,
          "index": 278,
          "longtail": "long_22",
          "longtail_unique": "long_111"
         },
         {
          "all_NA": null,
          "half_NA": 1,
          "index": 279,
          "longtail": "long_172",
          "longtail_unique": "long_56"
         },
         {
          "all_NA": null,
          "half_NA": null,
          "index": 280,
          "longtail": "long_43",
          "longtail_unique": "long_6"
         },
         {
          "all_NA": null,
          "half_NA": null,
          "index": 281,
          "longtail": "long_98",
          "longtail_unique": "long_112"
         },
         {
          "all_NA": null,
          "half_NA": null,
          "index": 282,
          "longtail": "long_28",
          "longtail_unique": "long_58"
         },
         {
          "all_NA": null,
          "half_NA": 1,
          "index": 283,
          "longtail": null,
          "longtail_unique": "unique_119"
         },
         {
          "all_NA": null,
          "half_NA": 1,
          "index": 284,
          "longtail": "long_190",
          "longtail_unique": "long_115"
         },
         {
          "all_NA": null,
          "half_NA": null,
          "index": 285,
          "longtail": "long_148",
          "longtail_unique": "unique_174"
         },
         {
          "all_NA": null,
          "half_NA": 1,
          "index": 286,
          "longtail": null,
          "longtail_unique": "long_63"
         },
         {
          "all_NA": null,
          "half_NA": 1,
          "index": 287,
          "longtail": "long_88",
          "longtail_unique": "long_119"
         },
         {
          "all_NA": null,
          "half_NA": null,
          "index": 288,
          "longtail": "long_83",
          "longtail_unique": "long_36"
         },
         {
          "all_NA": null,
          "half_NA": 1,
          "index": 289,
          "longtail": "long_145",
          "longtail_unique": "long_89"
         },
         {
          "all_NA": null,
          "half_NA": 1,
          "index": 290,
          "longtail": "long_95",
          "longtail_unique": "unique_183"
         },
         {
          "all_NA": null,
          "half_NA": null,
          "index": 291,
          "longtail": "long_20",
          "longtail_unique": "long_66"
         },
         {
          "all_NA": null,
          "half_NA": null,
          "index": 292,
          "longtail": "long_36",
          "longtail_unique": "unique_221"
         },
         {
          "all_NA": null,
          "half_NA": null,
          "index": 293,
          "longtail": "long_1",
          "longtail_unique": "long_14"
         },
         {
          "all_NA": null,
          "half_NA": 1,
          "index": 294,
          "longtail": null,
          "longtail_unique": "unique_23"
         },
         {
          "all_NA": null,
          "half_NA": 1,
          "index": 295,
          "longtail": "long_110",
          "longtail_unique": "unique_79"
         },
         {
          "all_NA": null,
          "half_NA": 1,
          "index": 296,
          "longtail": "long_21",
          "longtail_unique": "long_31"
         },
         {
          "all_NA": null,
          "half_NA": null,
          "index": 297,
          "longtail": "long_44",
          "longtail_unique": "long_7"
         },
         {
          "all_NA": null,
          "half_NA": 1,
          "index": 298,
          "longtail": "long_25",
          "longtail_unique": "unique_217"
         },
         {
          "all_NA": null,
          "half_NA": null,
          "index": 299,
          "longtail": null,
          "longtail_unique": "unique_151"
         },
         {
          "all_NA": null,
          "half_NA": null,
          "index": 300,
          "longtail": "long_126",
          "longtail_unique": "long_85"
         },
         {
          "all_NA": null,
          "half_NA": null,
          "index": 301,
          "longtail": "long_103",
          "longtail_unique": "long_91"
         },
         {
          "all_NA": null,
          "half_NA": 1,
          "index": 302,
          "longtail": "long_50",
          "longtail_unique": "unique_29"
         },
         {
          "all_NA": null,
          "half_NA": 1,
          "index": 303,
          "longtail": "long_42",
          "longtail_unique": "unique_91"
         },
         {
          "all_NA": null,
          "half_NA": 1,
          "index": 304,
          "longtail": null,
          "longtail_unique": "long_70"
         },
         {
          "all_NA": null,
          "half_NA": 1,
          "index": 305,
          "longtail": "long_96",
          "longtail_unique": "long_121"
         },
         {
          "all_NA": null,
          "half_NA": null,
          "index": 306,
          "longtail": "long_107",
          "longtail_unique": "unique_101"
         },
         {
          "all_NA": null,
          "half_NA": 1,
          "index": 307,
          "longtail": "long_81",
          "longtail_unique": "unique_44"
         },
         {
          "all_NA": null,
          "half_NA": null,
          "index": 308,
          "longtail": null,
          "longtail_unique": "unique_126"
         },
         {
          "all_NA": null,
          "half_NA": 1,
          "index": 309,
          "longtail": "long_8",
          "longtail_unique": "unique_121"
         },
         {
          "all_NA": null,
          "half_NA": null,
          "index": 310,
          "longtail": "long_80",
          "longtail_unique": "long_5"
         },
         {
          "all_NA": null,
          "half_NA": 1,
          "index": 311,
          "longtail": "long_137",
          "longtail_unique": "long_42"
         },
         {
          "all_NA": null,
          "half_NA": 1,
          "index": 312,
          "longtail": "long_58",
          "longtail_unique": "long_29"
         },
         {
          "all_NA": null,
          "half_NA": null,
          "index": 313,
          "longtail": "long_89",
          "longtail_unique": "unique_60"
         },
         {
          "all_NA": null,
          "half_NA": 1,
          "index": 314,
          "longtail": "long_16",
          "longtail_unique": "unique_50"
         },
         {
          "all_NA": null,
          "half_NA": 1,
          "index": 315,
          "longtail": "long_119",
          "longtail_unique": "unique_14"
         },
         {
          "all_NA": null,
          "half_NA": 1,
          "index": 316,
          "longtail": "long_136",
          "longtail_unique": "unique_209"
         },
         {
          "all_NA": null,
          "half_NA": null,
          "index": 317,
          "longtail": "long_159",
          "longtail_unique": "unique_53"
         },
         {
          "all_NA": null,
          "half_NA": 1,
          "index": 318,
          "longtail": "long_118",
          "longtail_unique": "long_69"
         },
         {
          "all_NA": null,
          "half_NA": 1,
          "index": 319,
          "longtail": "long_190",
          "longtail_unique": "long_40"
         },
         {
          "all_NA": null,
          "half_NA": 1,
          "index": 320,
          "longtail": "long_191",
          "longtail_unique": "unique_115"
         },
         {
          "all_NA": null,
          "half_NA": 1,
          "index": 321,
          "longtail": null,
          "longtail_unique": "long_95"
         },
         {
          "all_NA": null,
          "half_NA": null,
          "index": 322,
          "longtail": "long_43",
          "longtail_unique": "unique_62"
         },
         {
          "all_NA": null,
          "half_NA": 1,
          "index": 323,
          "longtail": "long_74",
          "longtail_unique": "long_4"
         },
         {
          "all_NA": null,
          "half_NA": 1,
          "index": 324,
          "longtail": "long_172",
          "longtail_unique": "long_94"
         },
         {
          "all_NA": null,
          "half_NA": null,
          "index": 325,
          "longtail": null,
          "longtail_unique": "unique_31"
         },
         {
          "all_NA": null,
          "half_NA": null,
          "index": 326,
          "longtail": "long_18",
          "longtail_unique": "long_16"
         },
         {
          "all_NA": null,
          "half_NA": null,
          "index": 327,
          "longtail": "long_168",
          "longtail_unique": "unique_143"
         },
         {
          "all_NA": null,
          "half_NA": null,
          "index": 328,
          "longtail": "long_32",
          "longtail_unique": "unique_84"
         },
         {
          "all_NA": null,
          "half_NA": 1,
          "index": 329,
          "longtail": null,
          "longtail_unique": "unique_194"
         },
         {
          "all_NA": null,
          "half_NA": null,
          "index": 330,
          "longtail": "long_138",
          "longtail_unique": "unique_141"
         },
         {
          "all_NA": null,
          "half_NA": 1,
          "index": 331,
          "longtail": "long_5",
          "longtail_unique": "unique_12"
         },
         {
          "all_NA": null,
          "half_NA": 1,
          "index": 332,
          "longtail": "long_10",
          "longtail_unique": "long_25"
         },
         {
          "all_NA": null,
          "half_NA": 1,
          "index": 333,
          "longtail": "long_25",
          "longtail_unique": "unique_153"
         },
         {
          "all_NA": null,
          "half_NA": 1,
          "index": 334,
          "longtail": null,
          "longtail_unique": "long_83"
         },
         {
          "all_NA": null,
          "half_NA": 1,
          "index": 335,
          "longtail": "long_6",
          "longtail_unique": "long_72"
         },
         {
          "all_NA": null,
          "half_NA": 1,
          "index": 336,
          "longtail": null,
          "longtail_unique": "unique_182"
         },
         {
          "all_NA": null,
          "half_NA": 1,
          "index": 337,
          "longtail": "long_104",
          "longtail_unique": "unique_185"
         },
         {
          "all_NA": null,
          "half_NA": 1,
          "index": 338,
          "longtail": null,
          "longtail_unique": "unique_166"
         },
         {
          "all_NA": null,
          "half_NA": 1,
          "index": 339,
          "longtail": "long_51",
          "longtail_unique": "long_84"
         },
         {
          "all_NA": null,
          "half_NA": 1,
          "index": 340,
          "longtail": "long_64",
          "longtail_unique": "long_62"
         },
         {
          "all_NA": null,
          "half_NA": null,
          "index": 341,
          "longtail": "long_167",
          "longtail_unique": "long_50"
         },
         {
          "all_NA": null,
          "half_NA": null,
          "index": 342,
          "longtail": "long_36",
          "longtail_unique": "long_98"
         },
         {
          "all_NA": null,
          "half_NA": 1,
          "index": 343,
          "longtail": "long_65",
          "longtail_unique": "long_33"
         },
         {
          "all_NA": null,
          "half_NA": null,
          "index": 344,
          "longtail": "long_56",
          "longtail_unique": "unique_123"
         },
         {
          "all_NA": null,
          "half_NA": 1,
          "index": 345,
          "longtail": "long_44",
          "longtail_unique": "long_63"
         },
         {
          "all_NA": null,
          "half_NA": 1,
          "index": 346,
          "longtail": "long_99",
          "longtail_unique": "long_17"
         },
         {
          "all_NA": null,
          "half_NA": null,
          "index": 347,
          "longtail": "long_178",
          "longtail_unique": "long_88"
         },
         {
          "all_NA": null,
          "half_NA": 1,
          "index": 348,
          "longtail": "long_4",
          "longtail_unique": "long_19"
         },
         {
          "all_NA": null,
          "half_NA": null,
          "index": 349,
          "longtail": "long_112",
          "longtail_unique": "unique_165"
         },
         {
          "all_NA": null,
          "half_NA": null,
          "index": 350,
          "longtail": "long_23",
          "longtail_unique": "unique_214"
         },
         {
          "all_NA": null,
          "half_NA": null,
          "index": 351,
          "longtail": "long_185",
          "longtail_unique": "long_117"
         },
         {
          "all_NA": null,
          "half_NA": 1,
          "index": 352,
          "longtail": "long_81",
          "longtail_unique": "unique_52"
         },
         {
          "all_NA": null,
          "half_NA": 1,
          "index": 353,
          "longtail": "long_55",
          "longtail_unique": "unique_76"
         },
         {
          "all_NA": null,
          "half_NA": 1,
          "index": 354,
          "longtail": "long_30",
          "longtail_unique": "unique_42"
         },
         {
          "all_NA": null,
          "half_NA": null,
          "index": 355,
          "longtail": "long_138",
          "longtail_unique": "unique_246"
         },
         {
          "all_NA": null,
          "half_NA": null,
          "index": 356,
          "longtail": "long_118",
          "longtail_unique": "unique_173"
         },
         {
          "all_NA": null,
          "half_NA": null,
          "index": 357,
          "longtail": "long_103",
          "longtail_unique": "unique_225"
         },
         {
          "all_NA": null,
          "half_NA": null,
          "index": 358,
          "longtail": "long_135",
          "longtail_unique": "long_97"
         },
         {
          "all_NA": null,
          "half_NA": null,
          "index": 359,
          "longtail": "long_73",
          "longtail_unique": "long_35"
         },
         {
          "all_NA": null,
          "half_NA": 1,
          "index": 360,
          "longtail": "long_141",
          "longtail_unique": "long_44"
         },
         {
          "all_NA": null,
          "half_NA": 1,
          "index": 361,
          "longtail": "long_113",
          "longtail_unique": "long_43"
         },
         {
          "all_NA": null,
          "half_NA": null,
          "index": 362,
          "longtail": "long_78",
          "longtail_unique": "unique_83"
         },
         {
          "all_NA": null,
          "half_NA": 1,
          "index": 363,
          "longtail": "long_198",
          "longtail_unique": "unique_98"
         },
         {
          "all_NA": null,
          "half_NA": null,
          "index": 364,
          "longtail": "long_74",
          "longtail_unique": "unique_74"
         },
         {
          "all_NA": null,
          "half_NA": null,
          "index": 365,
          "longtail": "long_87",
          "longtail_unique": "unique_87"
         },
         {
          "all_NA": null,
          "half_NA": null,
          "index": 366,
          "longtail": "long_124",
          "longtail_unique": "unique_210"
         },
         {
          "all_NA": null,
          "half_NA": 1,
          "index": 367,
          "longtail": "long_173",
          "longtail_unique": "unique_140"
         },
         {
          "all_NA": null,
          "half_NA": null,
          "index": 368,
          "longtail": null,
          "longtail_unique": "long_2"
         },
         {
          "all_NA": null,
          "half_NA": null,
          "index": 369,
          "longtail": "long_114",
          "longtail_unique": "long_93"
         },
         {
          "all_NA": null,
          "half_NA": 1,
          "index": 370,
          "longtail": "long_54",
          "longtail_unique": "long_3"
         },
         {
          "all_NA": null,
          "half_NA": 1,
          "index": 371,
          "longtail": null,
          "longtail_unique": "unique_184"
         },
         {
          "all_NA": null,
          "half_NA": null,
          "index": 372,
          "longtail": null,
          "longtail_unique": "long_40"
         },
         {
          "all_NA": null,
          "half_NA": null,
          "index": 373,
          "longtail": "long_169",
          "longtail_unique": "long_39"
         },
         {
          "all_NA": null,
          "half_NA": 1,
          "index": 374,
          "longtail": null,
          "longtail_unique": "unique_82"
         },
         {
          "all_NA": null,
          "half_NA": null,
          "index": 375,
          "longtail": null,
          "longtail_unique": "long_15"
         },
         {
          "all_NA": null,
          "half_NA": null,
          "index": 376,
          "longtail": "long_106",
          "longtail_unique": "long_21"
         },
         {
          "all_NA": null,
          "half_NA": 1,
          "index": 377,
          "longtail": "long_160",
          "longtail_unique": "unique_144"
         },
         {
          "all_NA": null,
          "half_NA": null,
          "index": 378,
          "longtail": "long_149",
          "longtail_unique": "unique_207"
         },
         {
          "all_NA": null,
          "half_NA": 1,
          "index": 379,
          "longtail": "long_93",
          "longtail_unique": "unique_150"
         },
         {
          "all_NA": null,
          "half_NA": 1,
          "index": 380,
          "longtail": null,
          "longtail_unique": "long_73"
         },
         {
          "all_NA": null,
          "half_NA": 1,
          "index": 381,
          "longtail": "long_51",
          "longtail_unique": "long_92"
         },
         {
          "all_NA": null,
          "half_NA": null,
          "index": 382,
          "longtail": "long_194",
          "longtail_unique": "long_9"
         },
         {
          "all_NA": null,
          "half_NA": null,
          "index": 383,
          "longtail": "long_82",
          "longtail_unique": "unique_30"
         },
         {
          "all_NA": null,
          "half_NA": null,
          "index": 384,
          "longtail": "long_150",
          "longtail_unique": "unique_27"
         },
         {
          "all_NA": null,
          "half_NA": null,
          "index": 385,
          "longtail": null,
          "longtail_unique": "unique_168"
         },
         {
          "all_NA": null,
          "half_NA": 1,
          "index": 386,
          "longtail": "long_182",
          "longtail_unique": "unique_237"
         },
         {
          "all_NA": null,
          "half_NA": null,
          "index": 387,
          "longtail": "long_176",
          "longtail_unique": "unique_71"
         },
         {
          "all_NA": null,
          "half_NA": 1,
          "index": 388,
          "longtail": null,
          "longtail_unique": "long_10"
         },
         {
          "all_NA": null,
          "half_NA": null,
          "index": 389,
          "longtail": "long_131",
          "longtail_unique": "long_123"
         },
         {
          "all_NA": null,
          "half_NA": 1,
          "index": 390,
          "longtail": "long_18",
          "longtail_unique": "unique_216"
         },
         {
          "all_NA": null,
          "half_NA": null,
          "index": 391,
          "longtail": "long_72",
          "longtail_unique": "long_18"
         },
         {
          "all_NA": null,
          "half_NA": 1,
          "index": 392,
          "longtail": "long_151",
          "longtail_unique": "long_79"
         },
         {
          "all_NA": null,
          "half_NA": 1,
          "index": 393,
          "longtail": "long_114",
          "longtail_unique": "long_77"
         },
         {
          "all_NA": null,
          "half_NA": 1,
          "index": 394,
          "longtail": "long_97",
          "longtail_unique": "unique_59"
         },
         {
          "all_NA": null,
          "half_NA": null,
          "index": 395,
          "longtail": "long_195",
          "longtail_unique": "long_4"
         },
         {
          "all_NA": null,
          "half_NA": null,
          "index": 396,
          "longtail": "long_69",
          "longtail_unique": "unique_80"
         },
         {
          "all_NA": null,
          "half_NA": 1,
          "index": 397,
          "longtail": null,
          "longtail_unique": "long_73"
         },
         {
          "all_NA": null,
          "half_NA": null,
          "index": 398,
          "longtail": "long_59",
          "longtail_unique": "unique_7"
         },
         {
          "all_NA": null,
          "half_NA": null,
          "index": 399,
          "longtail": "long_156",
          "longtail_unique": "long_54"
         },
         {
          "all_NA": null,
          "half_NA": null,
          "index": 400,
          "longtail": "long_0",
          "longtail_unique": "unique_0"
         },
         {
          "all_NA": null,
          "half_NA": 1,
          "index": 401,
          "longtail": "long_174",
          "longtail_unique": "unique_17"
         },
         {
          "all_NA": null,
          "half_NA": null,
          "index": 402,
          "longtail": "long_12",
          "longtail_unique": "long_5"
         },
         {
          "all_NA": null,
          "half_NA": null,
          "index": 403,
          "longtail": "long_39",
          "longtail_unique": "long_86"
         },
         {
          "all_NA": null,
          "half_NA": 1,
          "index": 404,
          "longtail": null,
          "longtail_unique": "long_114"
         },
         {
          "all_NA": null,
          "half_NA": null,
          "index": 405,
          "longtail": "long_13",
          "longtail_unique": "unique_206"
         },
         {
          "all_NA": null,
          "half_NA": null,
          "index": 406,
          "longtail": "long_70",
          "longtail_unique": "unique_94"
         },
         {
          "all_NA": null,
          "half_NA": 1,
          "index": 407,
          "longtail": "long_34",
          "longtail_unique": "unique_33"
         },
         {
          "all_NA": null,
          "half_NA": 1,
          "index": 408,
          "longtail": "long_100",
          "longtail_unique": "long_89"
         },
         {
          "all_NA": null,
          "half_NA": 1,
          "index": 409,
          "longtail": "long_164",
          "longtail_unique": "long_68"
         },
         {
          "all_NA": null,
          "half_NA": 1,
          "index": 410,
          "longtail": "long_110",
          "longtail_unique": "long_87"
         },
         {
          "all_NA": null,
          "half_NA": 1,
          "index": 411,
          "longtail": "long_63",
          "longtail_unique": "long_3"
         },
         {
          "all_NA": null,
          "half_NA": null,
          "index": 412,
          "longtail": "long_66",
          "longtail_unique": "unique_159"
         },
         {
          "all_NA": null,
          "half_NA": null,
          "index": 413,
          "longtail": null,
          "longtail_unique": "unique_172"
         },
         {
          "all_NA": null,
          "half_NA": 1,
          "index": 414,
          "longtail": "long_94",
          "longtail_unique": "unique_109"
         },
         {
          "all_NA": null,
          "half_NA": 1,
          "index": 415,
          "longtail": "long_180",
          "longtail_unique": "long_45"
         },
         {
          "all_NA": null,
          "half_NA": null,
          "index": 416,
          "longtail": "long_128",
          "longtail_unique": "unique_198"
         },
         {
          "all_NA": null,
          "half_NA": null,
          "index": 417,
          "longtail": "long_84",
          "longtail_unique": "unique_28"
         },
         {
          "all_NA": null,
          "half_NA": 1,
          "index": 418,
          "longtail": "long_38",
          "longtail_unique": "unique_32"
         },
         {
          "all_NA": null,
          "half_NA": 1,
          "index": 419,
          "longtail": "long_108",
          "longtail_unique": "unique_45"
         },
         {
          "all_NA": null,
          "half_NA": null,
          "index": 420,
          "longtail": "long_127",
          "longtail_unique": "unique_116"
         },
         {
          "all_NA": null,
          "half_NA": 1,
          "index": 421,
          "longtail": null,
          "longtail_unique": "unique_118"
         },
         {
          "all_NA": null,
          "half_NA": null,
          "index": 422,
          "longtail": "long_47",
          "longtail_unique": "long_51"
         },
         {
          "all_NA": null,
          "half_NA": null,
          "index": 423,
          "longtail": "long_52",
          "longtail_unique": "unique_102"
         },
         {
          "all_NA": null,
          "half_NA": 1,
          "index": 424,
          "longtail": "long_153",
          "longtail_unique": "unique_181"
         },
         {
          "all_NA": null,
          "half_NA": null,
          "index": 425,
          "longtail": "long_65",
          "longtail_unique": "unique_51"
         },
         {
          "all_NA": null,
          "half_NA": 1,
          "index": 426,
          "longtail": "long_101",
          "longtail_unique": "unique_2"
         },
         {
          "all_NA": null,
          "half_NA": 1,
          "index": 427,
          "longtail": "long_124",
          "longtail_unique": "unique_249"
         },
         {
          "all_NA": null,
          "half_NA": null,
          "index": 428,
          "longtail": null,
          "longtail_unique": "long_90"
         },
         {
          "all_NA": null,
          "half_NA": null,
          "index": 429,
          "longtail": "long_47",
          "longtail_unique": "unique_55"
         },
         {
          "all_NA": null,
          "half_NA": null,
          "index": 430,
          "longtail": null,
          "longtail_unique": "long_48"
         },
         {
          "all_NA": null,
          "half_NA": null,
          "index": 431,
          "longtail": "long_46",
          "longtail_unique": "unique_114"
         },
         {
          "all_NA": null,
          "half_NA": 1,
          "index": 432,
          "longtail": "long_125",
          "longtail_unique": "long_29"
         },
         {
          "all_NA": null,
          "half_NA": null,
          "index": 433,
          "longtail": "long_159",
          "longtail_unique": "unique_193"
         },
         {
          "all_NA": null,
          "half_NA": 1,
          "index": 434,
          "longtail": null,
          "longtail_unique": "long_1"
         },
         {
          "all_NA": null,
          "half_NA": null,
          "index": 435,
          "longtail": null,
          "longtail_unique": "long_58"
         },
         {
          "all_NA": null,
          "half_NA": null,
          "index": 436,
          "longtail": "long_79",
          "longtail_unique": "unique_213"
         },
         {
          "all_NA": null,
          "half_NA": 1,
          "index": 437,
          "longtail": "long_125",
          "longtail_unique": "unique_3"
         },
         {
          "all_NA": null,
          "half_NA": 1,
          "index": 438,
          "longtail": null,
          "longtail_unique": "unique_147"
         },
         {
          "all_NA": null,
          "half_NA": 1,
          "index": 439,
          "longtail": "long_88",
          "longtail_unique": "unique_111"
         },
         {
          "all_NA": null,
          "half_NA": 1,
          "index": 440,
          "longtail": "long_102",
          "longtail_unique": "long_57"
         },
         {
          "all_NA": null,
          "half_NA": 1,
          "index": 441,
          "longtail": null,
          "longtail_unique": "long_110"
         },
         {
          "all_NA": null,
          "half_NA": 1,
          "index": 442,
          "longtail": "long_60",
          "longtail_unique": "unique_90"
         },
         {
          "all_NA": null,
          "half_NA": 1,
          "index": 443,
          "longtail": null,
          "longtail_unique": "long_47"
         },
         {
          "all_NA": null,
          "half_NA": 1,
          "index": 444,
          "longtail": "long_119",
          "longtail_unique": "unique_130"
         },
         {
          "all_NA": null,
          "half_NA": null,
          "index": 445,
          "longtail": "long_180",
          "longtail_unique": "unique_128"
         },
         {
          "all_NA": null,
          "half_NA": null,
          "index": 446,
          "longtail": "long_129",
          "longtail_unique": "unique_202"
         },
         {
          "all_NA": null,
          "half_NA": 1,
          "index": 447,
          "longtail": "long_21",
          "longtail_unique": "unique_177"
         },
         {
          "all_NA": null,
          "half_NA": null,
          "index": 448,
          "longtail": "long_135",
          "longtail_unique": "unique_218"
         },
         {
          "all_NA": null,
          "half_NA": null,
          "index": 449,
          "longtail": null,
          "longtail_unique": "unique_139"
         },
         {
          "all_NA": null,
          "half_NA": 1,
          "index": 450,
          "longtail": "long_109",
          "longtail_unique": "long_66"
         },
         {
          "all_NA": null,
          "half_NA": 1,
          "index": 451,
          "longtail": "long_116",
          "longtail_unique": "unique_220"
         },
         {
          "all_NA": null,
          "half_NA": 1,
          "index": 452,
          "longtail": null,
          "longtail_unique": "unique_108"
         },
         {
          "all_NA": null,
          "half_NA": 1,
          "index": 453,
          "longtail": "long_115",
          "longtail_unique": "unique_154"
         },
         {
          "all_NA": null,
          "half_NA": null,
          "index": 454,
          "longtail": "long_199",
          "longtail_unique": "unique_24"
         },
         {
          "all_NA": null,
          "half_NA": null,
          "index": 455,
          "longtail": "long_121",
          "longtail_unique": "long_44"
         },
         {
          "all_NA": null,
          "half_NA": null,
          "index": 456,
          "longtail": null,
          "longtail_unique": "long_120"
         },
         {
          "all_NA": null,
          "half_NA": 1,
          "index": 457,
          "longtail": "long_123",
          "longtail_unique": "long_9"
         },
         {
          "all_NA": null,
          "half_NA": null,
          "index": 458,
          "longtail": null,
          "longtail_unique": "long_108"
         },
         {
          "all_NA": null,
          "half_NA": null,
          "index": 459,
          "longtail": "long_19",
          "longtail_unique": "long_57"
         },
         {
          "all_NA": null,
          "half_NA": null,
          "index": 460,
          "longtail": "long_85",
          "longtail_unique": "unique_135"
         },
         {
          "all_NA": null,
          "half_NA": 1,
          "index": 461,
          "longtail": "long_139",
          "longtail_unique": "long_21"
         },
         {
          "all_NA": null,
          "half_NA": 1,
          "index": 462,
          "longtail": "long_29",
          "longtail_unique": "long_27"
         },
         {
          "all_NA": null,
          "half_NA": null,
          "index": 463,
          "longtail": "long_6",
          "longtail_unique": "unique_120"
         },
         {
          "all_NA": null,
          "half_NA": 1,
          "index": 464,
          "longtail": "long_26",
          "longtail_unique": "long_118"
         },
         {
          "all_NA": null,
          "half_NA": null,
          "index": 465,
          "longtail": null,
          "longtail_unique": "long_71"
         },
         {
          "all_NA": null,
          "half_NA": 1,
          "index": 466,
          "longtail": "long_143",
          "longtail_unique": "unique_73"
         },
         {
          "all_NA": null,
          "half_NA": 1,
          "index": 467,
          "longtail": "long_33",
          "longtail_unique": "unique_39"
         },
         {
          "all_NA": null,
          "half_NA": 1,
          "index": 468,
          "longtail": "long_168",
          "longtail_unique": "unique_170"
         },
         {
          "all_NA": null,
          "half_NA": 1,
          "index": 469,
          "longtail": "long_91",
          "longtail_unique": "long_67"
         },
         {
          "all_NA": null,
          "half_NA": 1,
          "index": 470,
          "longtail": null,
          "longtail_unique": "long_22"
         },
         {
          "all_NA": null,
          "half_NA": null,
          "index": 471,
          "longtail": "long_10",
          "longtail_unique": "unique_145"
         },
         {
          "all_NA": null,
          "half_NA": null,
          "index": 472,
          "longtail": "long_72",
          "longtail_unique": "long_22"
         },
         {
          "all_NA": null,
          "half_NA": 1,
          "index": 473,
          "longtail": "long_19",
          "longtail_unique": "unique_158"
         },
         {
          "all_NA": null,
          "half_NA": 1,
          "index": 474,
          "longtail": "long_95",
          "longtail_unique": "long_67"
         },
         {
          "all_NA": null,
          "half_NA": 1,
          "index": 475,
          "longtail": "long_106",
          "longtail_unique": "long_25"
         },
         {
          "all_NA": null,
          "half_NA": null,
          "index": 476,
          "longtail": "long_64",
          "longtail_unique": "long_26"
         },
         {
          "all_NA": null,
          "half_NA": 1,
          "index": 477,
          "longtail": "long_171",
          "longtail_unique": "unique_58"
         },
         {
          "all_NA": null,
          "half_NA": 1,
          "index": 478,
          "longtail": "long_3",
          "longtail_unique": "unique_180"
         },
         {
          "all_NA": null,
          "half_NA": null,
          "index": 479,
          "longtail": "long_17",
          "longtail_unique": "unique_104"
         },
         {
          "all_NA": null,
          "half_NA": 1,
          "index": 480,
          "longtail": "long_99",
          "longtail_unique": "long_46"
         },
         {
          "all_NA": null,
          "half_NA": 1,
          "index": 481,
          "longtail": "long_186",
          "longtail_unique": "long_110"
         },
         {
          "all_NA": null,
          "half_NA": 1,
          "index": 482,
          "longtail": "long_117",
          "longtail_unique": "long_16"
         },
         {
          "all_NA": null,
          "half_NA": null,
          "index": 483,
          "longtail": null,
          "longtail_unique": "long_60"
         },
         {
          "all_NA": null,
          "half_NA": null,
          "index": 484,
          "longtail": "long_40",
          "longtail_unique": "unique_219"
         },
         {
          "all_NA": null,
          "half_NA": null,
          "index": 485,
          "longtail": "long_112",
          "longtail_unique": "long_11"
         },
         {
          "all_NA": null,
          "half_NA": 1,
          "index": 486,
          "longtail": "long_139",
          "longtail_unique": "unique_223"
         },
         {
          "all_NA": null,
          "half_NA": null,
          "index": 487,
          "longtail": "long_186",
          "longtail_unique": "long_71"
         },
         {
          "all_NA": null,
          "half_NA": 1,
          "index": 488,
          "longtail": "long_126",
          "longtail_unique": "long_99"
         },
         {
          "all_NA": null,
          "half_NA": 1,
          "index": 489,
          "longtail": "long_105",
          "longtail_unique": "long_30"
         },
         {
          "all_NA": null,
          "half_NA": 1,
          "index": 490,
          "longtail": "long_141",
          "longtail_unique": "long_46"
         },
         {
          "all_NA": null,
          "half_NA": null,
          "index": 491,
          "longtail": "long_39",
          "longtail_unique": "long_101"
         },
         {
          "all_NA": null,
          "half_NA": null,
          "index": 492,
          "longtail": "long_7",
          "longtail_unique": "unique_133"
         },
         {
          "all_NA": null,
          "half_NA": 1,
          "index": 493,
          "longtail": null,
          "longtail_unique": "long_20"
         },
         {
          "all_NA": null,
          "half_NA": null,
          "index": 494,
          "longtail": "long_1",
          "longtail_unique": "unique_41"
         },
         {
          "all_NA": null,
          "half_NA": null,
          "index": 495,
          "longtail": "long_2",
          "longtail_unique": "long_81"
         },
         {
          "all_NA": null,
          "half_NA": null,
          "index": 496,
          "longtail": null,
          "longtail_unique": "unique_164"
         },
         {
          "all_NA": null,
          "half_NA": 1,
          "index": 497,
          "longtail": "long_153",
          "longtail_unique": "unique_65"
         },
         {
          "all_NA": null,
          "half_NA": null,
          "index": 498,
          "longtail": null,
          "longtail_unique": "unique_161"
         },
         {
          "all_NA": null,
          "half_NA": null,
          "index": 499,
          "longtail": "long_111",
          "longtail_unique": "unique_169"
         }
        ]
       },
       "df_display_args": {
        "main": {
         "data_key": "main",
         "df_viewer_config": {
          "column_config": [
           {
            "col_name": "index",
            "displayer_args": {
             "displayer": "float",
             "maximumFractionDigits": 0,
             "minimumFractionDigits": 0
            }
           },
           {
            "col_name": "all_NA",
            "displayer_args": {
             "displayer": "obj"
            }
           },
           {
            "col_name": "half_NA",
            "displayer_args": {
             "displayer": "obj"
            }
           },
           {
            "col_name": "longtail",
            "displayer_args": {
             "displayer": "obj"
            }
           },
           {
            "col_name": "longtail_unique",
            "displayer_args": {
             "displayer": "obj"
            }
           }
          ],
          "pinned_rows": [
           {
            "displayer_args": {
             "displayer": "obj"
            },
            "primary_key_val": "dtype"
           },
           {
            "displayer_args": {
             "displayer": "histogram"
            },
            "primary_key_val": "histogram"
           }
          ]
         },
         "summary_stats_key": "all_stats"
        },
        "summary": {
         "data_key": "empty",
         "df_viewer_config": {
          "column_config": [
           {
            "col_name": "index",
            "displayer_args": {
             "displayer": "obj"
            }
           },
           {
            "col_name": "all_NA",
            "displayer_args": {
             "displayer": "obj"
            }
           },
           {
            "col_name": "half_NA",
            "displayer_args": {
             "displayer": "obj"
            }
           },
           {
            "col_name": "longtail",
            "displayer_args": {
             "displayer": "obj"
            }
           },
           {
            "col_name": "longtail_unique",
            "displayer_args": {
             "displayer": "obj"
            }
           }
          ],
          "pinned_rows": [
           {
            "displayer_args": {
             "displayer": "obj"
            },
            "primary_key_val": "dtype"
           },
           {
            "displayer_args": {
             "displayer": "float",
             "maximumFractionDigits": 3,
             "minimumFractionDigits": 3
            },
            "primary_key_val": "min"
           },
           {
            "displayer_args": {
             "displayer": "float",
             "maximumFractionDigits": 3,
             "minimumFractionDigits": 3
            },
            "primary_key_val": "mean"
           },
           {
            "displayer_args": {
             "displayer": "float",
             "maximumFractionDigits": 3,
             "minimumFractionDigits": 3
            },
            "primary_key_val": "max"
           },
           {
            "displayer_args": {
             "displayer": "float",
             "maximumFractionDigits": 0,
             "minimumFractionDigits": 0
            },
            "primary_key_val": "unique_count"
           },
           {
            "displayer_args": {
             "displayer": "float",
             "maximumFractionDigits": 0,
             "minimumFractionDigits": 0
            },
            "primary_key_val": "distinct_count"
           },
           {
            "displayer_args": {
             "displayer": "float",
             "maximumFractionDigits": 0,
             "minimumFractionDigits": 0
            },
            "primary_key_val": "empty_count"
           }
          ]
         },
         "summary_stats_key": "all_stats"
        }
       },
       "df_meta": {
        "columns": 4,
        "rows_shown": 500,
        "total_rows": 500
       },
       "layout": "IPY_MODEL_1c92358edef742fa98fa9954dc8af83e",
       "operation_results": {
        "generated_py_code": "# instantiation, unused",
        "transformed_df": {
         "column_config": [],
         "data": [],
         "pinned_rows": []
        }
       },
       "operations": []
      }
     },
     "99bb35498fcb41a2ac7d05144c049b5f": {
      "model_module": "buckaroo",
      "model_module_version": "^0.5.1",
      "model_name": "DCEFWidgetModel",
      "state": {
       "_model_module_version": "^0.5.1",
       "_view_module_version": "^0.5.1",
       "_view_name": "DCEFWidgetView",
       "buckaroo_options": {
        "auto_clean": [
         "aggressive",
         "conservative"
        ],
        "df_display": [
         "main"
        ],
        "post_processing": [
         ""
        ],
        "sampled": [
         "random"
        ],
        "show_commands": [
         "on"
        ],
        "summary_stats": [
         "all"
        ]
       },
       "buckaroo_state": {
        "auto_clean": "conservative",
        "df_display": "main",
        "post_processing": "",
        "sampled": false,
        "search_string": "",
        "show_commands": false
       },
       "commandConfig": {
        "argspecs": {
         "dropcol": [
          null
         ],
         "fillna": [
          [
           3,
           "fillVal",
           "type",
           "integer"
          ]
         ],
         "groupby": [
          [
           3,
           "colMap",
           "colEnum",
           [
            "null",
            "sum",
            "mean",
            "median",
            "count"
           ]
          ]
         ],
         "onehot": [
          null
         ],
         "reindex": [
          null
         ],
         "safeint": [
          null
         ],
         "to_bool": [
          null
         ],
         "to_datetime": [
          null
         ],
         "to_float": [
          null
         ],
         "to_int": [
          null
         ],
         "to_string": [
          null
         ]
        },
        "defaultArgs": {
         "dropcol": [
          {
           "symbol": "dropcol"
          },
          {
           "symbol": "df"
          },
          "col"
         ],
         "fillna": [
          {
           "symbol": "fillna"
          },
          {
           "symbol": "df"
          },
          "col",
          8
         ],
         "groupby": [
          {
           "symbol": "groupby"
          },
          {
           "symbol": "df"
          },
          "col",
          {}
         ],
         "onehot": [
          {
           "symbol": "onehot"
          },
          {
           "symbol": "df"
          },
          "col"
         ],
         "reindex": [
          {
           "symbol": "reindex"
          },
          {
           "symbol": "df"
          },
          "col"
         ],
         "safeint": [
          {
           "symbol": "safeint"
          },
          {
           "symbol": "df"
          },
          "col"
         ],
         "to_bool": [
          {
           "symbol": "to_bool"
          },
          {
           "symbol": "df"
          },
          "col"
         ],
         "to_datetime": [
          {
           "symbol": "to_datetime"
          },
          {
           "symbol": "df"
          },
          "col"
         ],
         "to_float": [
          {
           "symbol": "to_float"
          },
          {
           "symbol": "df"
          },
          "col"
         ],
         "to_int": [
          {
           "symbol": "to_int"
          },
          {
           "symbol": "df"
          },
          "col"
         ],
         "to_string": [
          {
           "symbol": "to_string"
          },
          {
           "symbol": "df"
          },
          "col"
         ]
        }
       },
       "df_data_dict": {
        "all_stats": [
         {
          "all_NA": "List(Struct({'name': String, 'NA': Float64}))",
          "half_NA": "Object",
          "index": "dtype",
          "longtail": "List(Struct({'name': String, 'cat_pop': Float64, 'longtail': Float64, 'NA': Float64}))",
          "longtail_unique": "List(Struct({'name': String, 'unique': Float64, 'longtail': Float64, 'cat_pop': Float64}))"
         },
         {
          "all_NA": false,
          "half_NA": false,
          "index": "is_numeric",
          "longtail": false,
          "longtail_unique": false
         },
         {
          "all_NA": false,
          "half_NA": false,
          "index": "is_integer",
          "longtail": false,
          "longtail_unique": false
         },
         {
          "all_NA": "unknown",
          "half_NA": "unknown",
          "index": "_type",
          "longtail": "unknown",
          "longtail_unique": "unknown"
         }
        ],
        "empty": [],
        "main": [
         {
          "all_NA": [
           {
            "NA": 100,
            "name": "NA"
           }
          ],
          "half_NA": [
           {
            "cat_pop": 51,
            "name": 1
           },
           {
            "NA": 49,
            "name": "NA"
           }
          ],
          "index": 0,
          "longtail": [
           {
            "NA": null,
            "cat_pop": 0,
            "longtail": null,
            "name": "long_82"
           },
           {
            "NA": null,
            "cat_pop": 0,
            "longtail": null,
            "name": "long_9"
           },
           {
            "NA": null,
            "cat_pop": 0,
            "longtail": null,
            "name": "long_55"
           },
           {
            "NA": null,
            "cat_pop": 0,
            "longtail": null,
            "name": "long_177"
           },
           {
            "NA": null,
            "cat_pop": 0,
            "longtail": null,
            "name": "long_116"
           },
           {
            "NA": null,
            "cat_pop": 0,
            "longtail": null,
            "name": "long_4"
           },
           {
            "NA": null,
            "cat_pop": 0,
            "longtail": null,
            "name": "long_97"
           },
           {
            "NA": null,
            "cat_pop": null,
            "longtail": 77,
            "name": "longtail"
           },
           {
            "NA": 20,
            "cat_pop": null,
            "longtail": null,
            "name": "NA"
           }
          ],
          "longtail_unique": [
           {
            "cat_pop": 0,
            "longtail": null,
            "name": "long_82",
            "unique": null
           },
           {
            "cat_pop": 0,
            "longtail": null,
            "name": "long_87",
            "unique": null
           },
           {
            "cat_pop": 0,
            "longtail": null,
            "name": "long_52",
            "unique": null
           },
           {
            "cat_pop": 0,
            "longtail": null,
            "name": "long_0",
            "unique": null
           },
           {
            "cat_pop": 0,
            "longtail": null,
            "name": "long_95",
            "unique": null
           },
           {
            "cat_pop": 0,
            "longtail": null,
            "name": "long_75",
            "unique": null
           },
           {
            "cat_pop": 0,
            "longtail": null,
            "name": "long_115",
            "unique": null
           },
           {
            "cat_pop": null,
            "longtail": 47,
            "name": "longtail",
            "unique": 50
           }
          ]
         }
        ]
       },
       "df_display_args": {
        "main": {
         "data_key": "main",
         "df_viewer_config": {
          "column_config": [
           {
            "col_name": "index",
            "displayer_args": {
             "displayer": "obj"
            }
           },
           {
            "col_name": "all_NA",
            "displayer_args": {
             "displayer": "obj"
            }
           },
           {
            "col_name": "half_NA",
            "displayer_args": {
             "displayer": "obj"
            }
           },
           {
            "col_name": "longtail",
            "displayer_args": {
             "displayer": "obj"
            }
           },
           {
            "col_name": "longtail_unique",
            "displayer_args": {
             "displayer": "obj"
            }
           }
          ],
          "pinned_rows": [
           {
            "displayer_args": {
             "displayer": "obj"
            },
            "primary_key_val": "dtype"
           }
          ]
         },
         "summary_stats_key": "all_stats"
        }
       },
       "df_meta": {
        "columns": 4,
        "rows_shown": 1,
        "total_rows": 1
       },
       "layout": "IPY_MODEL_5168fa1955ba4b1ea3c0f5659d89074b",
       "operation_results": {
        "generated_py_code": "# instantiation, unused",
        "transformed_df": {
         "column_config": [],
         "data": [],
         "pinned_rows": []
        }
       },
       "operations": []
      }
     },
     "9c041c03905a4a00be5dc16a5f6b1096": {
      "model_module": "buckaroo",
      "model_module_version": "^0.5.1",
      "model_name": "DCEFWidgetModel",
      "state": {
       "_model_module_version": "^0.5.1",
       "_view_module_version": "^0.5.1",
       "_view_name": "DCEFWidgetView",
       "buckaroo_options": {
        "auto_clean": [
         "aggressive",
         "conservative"
        ],
        "df_display": [
         "summary",
         "main"
        ],
        "post_processing": [
         ""
        ],
        "sampled": [
         "random"
        ],
        "show_commands": [
         "on"
        ],
        "summary_stats": [
         "all"
        ]
       },
       "buckaroo_state": {
        "auto_clean": "conservative",
        "df_display": "main",
        "post_processing": "",
        "sampled": false,
        "search_string": "",
        "show_commands": false
       },
       "commandConfig": {
        "argspecs": {
         "dropcol": [
          null
         ],
         "fillna": [
          [
           3,
           "fillVal",
           "type",
           "integer"
          ]
         ],
         "groupby": [
          [
           3,
           "colMap",
           "colEnum",
           [
            "null",
            "sum",
            "mean",
            "median",
            "count"
           ]
          ]
         ],
         "onehot": [
          null
         ],
         "reindex": [
          null
         ],
         "safeint": [
          null
         ],
         "to_bool": [
          null
         ],
         "to_datetime": [
          null
         ],
         "to_float": [
          null
         ],
         "to_int": [
          null
         ],
         "to_string": [
          null
         ]
        },
        "defaultArgs": {
         "dropcol": [
          {
           "symbol": "dropcol"
          },
          {
           "symbol": "df"
          },
          "col"
         ],
         "fillna": [
          {
           "symbol": "fillna"
          },
          {
           "symbol": "df"
          },
          "col",
          8
         ],
         "groupby": [
          {
           "symbol": "groupby"
          },
          {
           "symbol": "df"
          },
          "col",
          {}
         ],
         "onehot": [
          {
           "symbol": "onehot"
          },
          {
           "symbol": "df"
          },
          "col"
         ],
         "reindex": [
          {
           "symbol": "reindex"
          },
          {
           "symbol": "df"
          },
          "col"
         ],
         "safeint": [
          {
           "symbol": "safeint"
          },
          {
           "symbol": "df"
          },
          "col"
         ],
         "to_bool": [
          {
           "symbol": "to_bool"
          },
          {
           "symbol": "df"
          },
          "col"
         ],
         "to_datetime": [
          {
           "symbol": "to_datetime"
          },
          {
           "symbol": "df"
          },
          "col"
         ],
         "to_float": [
          {
           "symbol": "to_float"
          },
          {
           "symbol": "df"
          },
          "col"
         ],
         "to_int": [
          {
           "symbol": "to_int"
          },
          {
           "symbol": "df"
          },
          "col"
         ],
         "to_string": [
          {
           "symbol": "to_string"
          },
          {
           "symbol": "df"
          },
          "col"
         ]
        }
       },
       "df_data_dict": {
        "all_stats": [
         {
          "a": "shape: (3,)\nSeries: '' [struct[2]]\n[\n\t{10,1}\n\t{20,1}\n\t{30,1}\n]",
          "err_messages": "shape: (3,)\nSeries: '' [struct[2]]\n[\n\t{null,1}\n\t{\"a must be less than 19, it is 20\",1}\n\t{\"a must be less than 19, it is 30\",1}\n]",
          "index": "value_counts"
         },
         {
          "a": 3,
          "err_messages": 3,
          "index": "length"
         },
         {
          "a": 0,
          "err_messages": 1,
          "index": "nan_count"
         },
         {
          "a": 10,
          "err_messages": "a must be less than 19, it is 20",
          "index": "min"
         },
         {
          "a": 30,
          "err_messages": "a must be less than 19, it is 30",
          "index": "max"
         },
         {
          "a": 20,
          "err_messages": null,
          "index": "mean"
         },
         {
          "a": 3,
          "err_messages": 3,
          "index": "unique_count"
         },
         {
          "a": "Int64",
          "err_messages": "String",
          "index": "dtype"
         },
         {
          "a": {
           "high_tail": 30,
           "low_tail": 10,
           "meat_histogram": [
            [
             0,
             0,
             0,
             0,
             1,
             0,
             0,
             0,
             0,
             0
            ],
            [
             10,
             19.2,
             19.4,
             19.6,
             19.8,
             20,
             20.2,
             20.4,
             20.6,
             20.8,
             30
            ]
           ],
           "normalized_populations": [
            0,
            0,
            0,
            0,
            1,
            0,
            0,
            0,
            0,
            0
           ]
          },
          "err_messages": null,
          "index": "histogram_args"
         },
         {
          "a": true,
          "err_messages": false,
          "index": "is_numeric"
         },
         {
          "a": true,
          "err_messages": false,
          "index": "is_integer"
         },
         {
          "a": "integer",
          "err_messages": "string",
          "index": "_type"
         },
         {
          "a": 10,
          "err_messages": null,
          "index": "mode"
         },
         {
          "a": 3,
          "err_messages": 3,
          "index": "distinct_count"
         },
         {
          "a": "integer",
          "err_messages": "string",
          "index": "type"
         },
         {
          "a": 2,
          "err_messages": null,
          "index": "min_digits"
         },
         {
          "a": 2,
          "err_messages": null,
          "index": "max_digits"
         },
         {
          "a": 1,
          "err_messages": 1,
          "index": "distinct_per"
         },
         {
          "a": 0,
          "err_messages": 0,
          "index": "empty_per"
         },
         {
          "a": 1,
          "err_messages": 1,
          "index": "unique_per"
         },
         {
          "a": 0,
          "err_messages": 0.3333333333,
          "index": "nan_per"
         },
         {
          "a": {
           "10": 0.3333333333,
           "20": 0.3333333333,
           "30": 0.3333333333,
           "longtail": -1,
           "unique": 1
          },
          "err_messages": {
           "None": 0.3333333333,
           "a must be less than 19, it is 20": 0.3333333333,
           "a must be less than 19, it is 30": 0.3333333333,
           "longtail": -1,
           "unique": 1
          },
          "index": "categorical_histogram"
         },
         {
          "a": [
           {
            "cat_pop": 33,
            "name": 10
           },
           {
            "cat_pop": 33,
            "name": 20
           },
           {
            "cat_pop": 33,
            "name": 30
           },
           {
            "name": "unique",
            "unique": 100
           }
          ],
          "err_messages": [
           {
            "cat_pop": 33,
            "name": null
           },
           {
            "cat_pop": 33,
            "name": "a must be less than 19, it is 20"
           },
           {
            "cat_pop": 33,
            "name": "a must be less than 19, it is 30"
           },
           {
            "name": "unique",
            "unique": 100
           },
           {
            "NA": 33,
            "name": "NA"
           }
          ],
          "index": "histogram"
         },
         {
          "a": [
           "faked"
          ],
          "err_messages": [
           "faked"
          ],
          "index": "histogram_bins"
         },
         {
          "a": null,
          "err_messages": 0,
          "index": "empty_count"
         }
        ],
        "empty": [],
        "main": [
         {
          "a": 10,
          "err_messages": null,
          "index": 0
         },
         {
          "a": 20,
          "err_messages": "a must be less than 19, it is 20",
          "index": 1
         },
         {
          "a": 30,
          "err_messages": "a must be less than 19, it is 30",
          "index": 2
         }
        ]
       },
       "df_display_args": {
        "main": {
         "data_key": "main",
         "df_viewer_config": {
          "column_config": [
           {
            "col_name": "index",
            "displayer_args": {
             "displayer": "obj"
            }
           },
           {
            "col_name": "a",
            "color_map_config": {
             "color_rule": "color_not_null",
             "conditional_color": "red",
             "exist_column": "err_messages"
            },
            "displayer_args": {
             "displayer": "float",
             "maximumFractionDigits": 0,
             "minimumFractionDigits": 0
            }
           },
           {
            "col_name": "err_messages",
            "displayer_args": {
             "displayer": "obj"
            }
           }
          ],
          "pinned_rows": [
           {
            "displayer_args": {
             "displayer": "obj"
            },
            "primary_key_val": "dtype"
           },
           {
            "displayer_args": {
             "displayer": "histogram"
            },
            "primary_key_val": "histogram"
           }
          ]
         },
         "summary_stats_key": "all_stats"
        },
        "summary": {
         "data_key": "empty",
         "df_viewer_config": {
          "column_config": [
           {
            "col_name": "index",
            "displayer_args": {
             "displayer": "obj"
            }
           },
           {
            "col_name": "a",
            "color_map_config": {
             "color_rule": "color_not_null",
             "conditional_color": "red",
             "exist_column": "err_messages"
            },
            "displayer_args": {
             "displayer": "obj"
            }
           },
           {
            "col_name": "err_messages",
            "displayer_args": {
             "displayer": "obj"
            }
           }
          ],
          "pinned_rows": [
           {
            "displayer_args": {
             "displayer": "obj"
            },
            "primary_key_val": "dtype"
           },
           {
            "displayer_args": {
             "displayer": "float",
             "maximumFractionDigits": 3,
             "minimumFractionDigits": 3
            },
            "primary_key_val": "min"
           },
           {
            "displayer_args": {
             "displayer": "float",
             "maximumFractionDigits": 3,
             "minimumFractionDigits": 3
            },
            "primary_key_val": "mean"
           },
           {
            "displayer_args": {
             "displayer": "float",
             "maximumFractionDigits": 3,
             "minimumFractionDigits": 3
            },
            "primary_key_val": "max"
           },
           {
            "displayer_args": {
             "displayer": "float",
             "maximumFractionDigits": 0,
             "minimumFractionDigits": 0
            },
            "primary_key_val": "unique_count"
           },
           {
            "displayer_args": {
             "displayer": "float",
             "maximumFractionDigits": 0,
             "minimumFractionDigits": 0
            },
            "primary_key_val": "distinct_count"
           },
           {
            "displayer_args": {
             "displayer": "float",
             "maximumFractionDigits": 0,
             "minimumFractionDigits": 0
            },
            "primary_key_val": "empty_count"
           }
          ]
         },
         "summary_stats_key": "all_stats"
        }
       },
       "df_meta": {
        "columns": 2,
        "rows_shown": 3,
        "total_rows": 3
       },
       "layout": "IPY_MODEL_d07d944117434b1ab62513ab9c783192",
       "operation_results": {
        "generated_py_code": "# instantiation, unused",
        "transformed_df": {
         "column_config": [],
         "data": [],
         "pinned_rows": []
        }
       },
       "operations": []
      }
     },
     "adb9597f1e3b422f8f6761a89496eb9b": {
      "model_module": "buckaroo",
      "model_module_version": "^0.5.1",
      "model_name": "DCEFWidgetModel",
      "state": {
       "_model_module_version": "^0.5.1",
       "_view_module_version": "^0.5.1",
       "_view_name": "DCEFWidgetView",
       "buckaroo_options": {
        "auto_clean": [
         "aggressive",
         "conservative"
        ],
        "df_display": [
         "summary",
         "main"
        ],
        "post_processing": [
         ""
        ],
        "sampled": [
         "random"
        ],
        "show_commands": [
         "on"
        ],
        "summary_stats": [
         "all"
        ]
       },
       "buckaroo_state": {
        "auto_clean": "conservative",
        "df_display": "main",
        "post_processing": "",
        "sampled": false,
        "search_string": "",
        "show_commands": false
       },
       "commandConfig": {
        "argspecs": {
         "dropcol": [
          null
         ],
         "fillna": [
          [
           3,
           "fillVal",
           "type",
           "integer"
          ]
         ],
         "groupby": [
          [
           3,
           "colMap",
           "colEnum",
           [
            "null",
            "sum",
            "mean",
            "median",
            "count"
           ]
          ]
         ],
         "onehot": [
          null
         ],
         "reindex": [
          null
         ],
         "safeint": [
          null
         ],
         "to_bool": [
          null
         ],
         "to_datetime": [
          null
         ],
         "to_float": [
          null
         ],
         "to_int": [
          null
         ],
         "to_string": [
          null
         ]
        },
        "defaultArgs": {
         "dropcol": [
          {
           "symbol": "dropcol"
          },
          {
           "symbol": "df"
          },
          "col"
         ],
         "fillna": [
          {
           "symbol": "fillna"
          },
          {
           "symbol": "df"
          },
          "col",
          8
         ],
         "groupby": [
          {
           "symbol": "groupby"
          },
          {
           "symbol": "df"
          },
          "col",
          {}
         ],
         "onehot": [
          {
           "symbol": "onehot"
          },
          {
           "symbol": "df"
          },
          "col"
         ],
         "reindex": [
          {
           "symbol": "reindex"
          },
          {
           "symbol": "df"
          },
          "col"
         ],
         "safeint": [
          {
           "symbol": "safeint"
          },
          {
           "symbol": "df"
          },
          "col"
         ],
         "to_bool": [
          {
           "symbol": "to_bool"
          },
          {
           "symbol": "df"
          },
          "col"
         ],
         "to_datetime": [
          {
           "symbol": "to_datetime"
          },
          {
           "symbol": "df"
          },
          "col"
         ],
         "to_float": [
          {
           "symbol": "to_float"
          },
          {
           "symbol": "df"
          },
          "col"
         ],
         "to_int": [
          {
           "symbol": "to_int"
          },
          {
           "symbol": "df"
          },
          "col"
         ],
         "to_string": [
          {
           "symbol": "to_string"
          },
          {
           "symbol": "df"
          },
          "col"
         ]
        }
       },
       "df_data_dict": {
        "all_stats": [
         {
          "bools_boolean_displayer": 6,
          "bools_obj_displayer": 6,
          "index": "length"
         },
         {
          "bools_boolean_displayer": 1,
          "bools_obj_displayer": 1,
          "index": "nan_count"
         },
         {
          "bools_boolean_displayer": "Boolean",
          "bools_obj_displayer": "Boolean",
          "index": "dtype"
         },
         {
          "bools_boolean_displayer": false,
          "bools_obj_displayer": false,
          "index": "is_numeric"
         },
         {
          "bools_boolean_displayer": false,
          "bools_obj_displayer": false,
          "index": "is_integer"
         },
         {
          "bools_boolean_displayer": "boolean",
          "bools_obj_displayer": "boolean",
          "index": "_type"
         },
         {
          "bools_boolean_displayer": null,
          "bools_obj_displayer": null,
          "index": "mode"
         },
         {
          "bools_boolean_displayer": "shape: (3,)\nSeries: '' [struct[2]]\n[\n\t{3,1}\n\t{4,1}\n\t{5,1}\n]",
          "bools_obj_displayer": "shape: (3,)\nSeries: '' [struct[2]]\n[\n\t{3,1}\n\t{4,1}\n\t{5,1}\n]",
          "index": "value_counts"
         },
         {
          "bools_boolean_displayer": 0,
          "bools_obj_displayer": 0,
          "index": "distinct_count"
         },
         {
          "bools_boolean_displayer": 0,
          "bools_obj_displayer": 0,
          "index": "mean"
         },
         {
          "bools_boolean_displayer": 0,
          "bools_obj_displayer": 0,
          "index": "unique_count"
         },
         {
          "bools_boolean_displayer": "boolean",
          "bools_obj_displayer": "boolean",
          "index": "type"
         },
         {
          "bools_boolean_displayer": 0,
          "bools_obj_displayer": 0,
          "index": "distinct_per"
         },
         {
          "bools_boolean_displayer": 0,
          "bools_obj_displayer": 0,
          "index": "empty_per"
         },
         {
          "bools_boolean_displayer": 0,
          "bools_obj_displayer": 0,
          "index": "unique_per"
         },
         {
          "bools_boolean_displayer": 0.1666666667,
          "bools_obj_displayer": 0.1666666667,
          "index": "nan_per"
         },
         {
          "bools_boolean_displayer": {
           "3": 0.3333333333,
           "4": 0.3333333333,
           "5": 0.3333333333,
           "longtail": -1,
           "unique": 1
          },
          "bools_obj_displayer": {
           "3": 0.3333333333,
           "4": 0.3333333333,
           "5": 0.3333333333,
           "longtail": -1,
           "unique": 1
          },
          "index": "categorical_histogram"
         },
         {
          "bools_boolean_displayer": [
           {
            "cat_pop": 33,
            "name": 3
           },
           {
            "cat_pop": 33,
            "name": 4
           },
           {
            "cat_pop": 33,
            "name": 5
           },
           {
            "name": "unique",
            "unique": 100
           },
           {
            "NA": 17,
            "name": "NA"
           }
          ],
          "bools_obj_displayer": [
           {
            "cat_pop": 33,
            "name": 3
           },
           {
            "cat_pop": 33,
            "name": 4
           },
           {
            "cat_pop": 33,
            "name": 5
           },
           {
            "name": "unique",
            "unique": 100
           },
           {
            "NA": 17,
            "name": "NA"
           }
          ],
          "index": "histogram"
         },
         {
          "bools_boolean_displayer": [
           "faked"
          ],
          "bools_obj_displayer": [
           "faked"
          ],
          "index": "histogram_bins"
         }
        ],
        "empty": [],
        "main": [
         {
          "bools_boolean_displayer": true,
          "bools_obj_displayer": true,
          "index": 0
         },
         {
          "bools_boolean_displayer": true,
          "bools_obj_displayer": true,
          "index": 1
         },
         {
          "bools_boolean_displayer": false,
          "bools_obj_displayer": false,
          "index": 2
         },
         {
          "bools_boolean_displayer": false,
          "bools_obj_displayer": false,
          "index": 3
         },
         {
          "bools_boolean_displayer": true,
          "bools_obj_displayer": true,
          "index": 4
         },
         {
          "bools_boolean_displayer": null,
          "bools_obj_displayer": null,
          "index": 5
         }
        ]
       },
       "df_display_args": {
        "main": {
         "data_key": "main",
         "df_viewer_config": {
          "column_config": [
           {
            "col_name": "index",
            "displayer_args": {
             "displayer": "obj"
            }
           },
           {
            "col_name": "bools_obj_displayer",
            "displayer_args": {
             "displayer": "obj"
            }
           },
           {
            "col_name": "bools_boolean_displayer",
            "displayer_args": {
             "displayer": "boolean"
            }
           }
          ],
          "pinned_rows": [
           {
            "displayer_args": {
             "displayer": "obj"
            },
            "primary_key_val": "dtype"
           },
           {
            "displayer_args": {
             "displayer": "histogram"
            },
            "primary_key_val": "histogram"
           }
          ]
         },
         "summary_stats_key": "all_stats"
        },
        "summary": {
         "data_key": "empty",
         "df_viewer_config": {
          "column_config": [
           {
            "col_name": "index",
            "displayer_args": {
             "displayer": "obj"
            }
           },
           {
            "col_name": "bools_obj_displayer",
            "displayer_args": {
             "displayer": "obj"
            }
           },
           {
            "col_name": "bools_boolean_displayer",
            "displayer_args": {
             "displayer": "boolean"
            }
           }
          ],
          "pinned_rows": [
           {
            "displayer_args": {
             "displayer": "obj"
            },
            "primary_key_val": "dtype"
           },
           {
            "displayer_args": {
             "displayer": "float",
             "maximumFractionDigits": 3,
             "minimumFractionDigits": 3
            },
            "primary_key_val": "min"
           },
           {
            "displayer_args": {
             "displayer": "float",
             "maximumFractionDigits": 3,
             "minimumFractionDigits": 3
            },
            "primary_key_val": "mean"
           },
           {
            "displayer_args": {
             "displayer": "float",
             "maximumFractionDigits": 3,
             "minimumFractionDigits": 3
            },
            "primary_key_val": "max"
           },
           {
            "displayer_args": {
             "displayer": "float",
             "maximumFractionDigits": 0,
             "minimumFractionDigits": 0
            },
            "primary_key_val": "unique_count"
           },
           {
            "displayer_args": {
             "displayer": "float",
             "maximumFractionDigits": 0,
             "minimumFractionDigits": 0
            },
            "primary_key_val": "distinct_count"
           },
           {
            "displayer_args": {
             "displayer": "float",
             "maximumFractionDigits": 0,
             "minimumFractionDigits": 0
            },
            "primary_key_val": "empty_count"
           }
          ]
         },
         "summary_stats_key": "all_stats"
        }
       },
       "df_meta": {
        "columns": 2,
        "rows_shown": 6,
        "total_rows": 6
       },
       "layout": "IPY_MODEL_6c42400cf5ed4e20ad60c0afc7296c01",
       "operation_results": {
        "generated_py_code": "# instantiation, unused",
        "transformed_df": {
         "column_config": [],
         "data": [],
         "pinned_rows": []
        }
       },
       "operations": []
      }
     },
     "bee7110674b341199f8656072cfbf3a5": {
      "model_module": "@jupyter-widgets/base",
      "model_module_version": "2.0.0",
      "model_name": "LayoutModel",
      "state": {}
     },
     "c010ad5b460a48558a79d70806f96ff0": {
      "model_module": "buckaroo",
      "model_module_version": "^0.5.1",
      "model_name": "DCEFWidgetModel",
      "state": {
       "_model_module_version": "^0.5.1",
       "_view_module_version": "^0.5.1",
       "_view_name": "DCEFWidgetView",
       "buckaroo_options": {
        "auto_clean": [
         "aggressive",
         "conservative"
        ],
        "df_display": [
         "summary",
         "main"
        ],
        "post_processing": [
         ""
        ],
        "sampled": [
         "random"
        ],
        "show_commands": [
         "on"
        ],
        "summary_stats": [
         "all"
        ]
       },
       "buckaroo_state": {
        "auto_clean": "conservative",
        "df_display": "main",
        "post_processing": "",
        "sampled": false,
        "search_string": "",
        "show_commands": false
       },
       "commandConfig": {
        "argspecs": {
         "dropcol": [
          null
         ],
         "fillna": [
          [
           3,
           "fillVal",
           "type",
           "integer"
          ]
         ],
         "groupby": [
          [
           3,
           "colMap",
           "colEnum",
           [
            "null",
            "sum",
            "mean",
            "median",
            "count"
           ]
          ]
         ],
         "onehot": [
          null
         ],
         "reindex": [
          null
         ],
         "safeint": [
          null
         ],
         "to_bool": [
          null
         ],
         "to_datetime": [
          null
         ],
         "to_float": [
          null
         ],
         "to_int": [
          null
         ],
         "to_string": [
          null
         ]
        },
        "defaultArgs": {
         "dropcol": [
          {
           "symbol": "dropcol"
          },
          {
           "symbol": "df"
          },
          "col"
         ],
         "fillna": [
          {
           "symbol": "fillna"
          },
          {
           "symbol": "df"
          },
          "col",
          8
         ],
         "groupby": [
          {
           "symbol": "groupby"
          },
          {
           "symbol": "df"
          },
          "col",
          {}
         ],
         "onehot": [
          {
           "symbol": "onehot"
          },
          {
           "symbol": "df"
          },
          "col"
         ],
         "reindex": [
          {
           "symbol": "reindex"
          },
          {
           "symbol": "df"
          },
          "col"
         ],
         "safeint": [
          {
           "symbol": "safeint"
          },
          {
           "symbol": "df"
          },
          "col"
         ],
         "to_bool": [
          {
           "symbol": "to_bool"
          },
          {
           "symbol": "df"
          },
          "col"
         ],
         "to_datetime": [
          {
           "symbol": "to_datetime"
          },
          {
           "symbol": "df"
          },
          "col"
         ],
         "to_float": [
          {
           "symbol": "to_float"
          },
          {
           "symbol": "df"
          },
          "col"
         ],
         "to_int": [
          {
           "symbol": "to_int"
          },
          {
           "symbol": "df"
          },
          "col"
         ],
         "to_string": [
          {
           "symbol": "to_string"
          },
          {
           "symbol": "df"
          },
          "col"
         ]
        }
       },
       "df_data_dict": {
        "all_stats": [
         {
          "all_NA": 1,
          "half_NA": 1,
          "index": "length",
          "longtail": 1,
          "longtail_unique": 1
         },
         {
          "all_NA": 0,
          "half_NA": 0,
          "index": "nan_count",
          "longtail": 0,
          "longtail_unique": 0
         },
         {
          "all_NA": "List(Struct({'name': String, 'NA': Float64}))",
          "half_NA": "Object",
          "index": "dtype",
          "longtail": "List(Struct({'name': String, 'cat_pop': Float64, 'longtail': Float64, 'NA': Float64}))",
          "longtail_unique": "List(Struct({'name': String, 'unique': Float64, 'longtail': Float64, 'cat_pop': Float64}))"
         },
         {
          "all_NA": false,
          "half_NA": false,
          "index": "is_numeric",
          "longtail": false,
          "longtail_unique": false
         },
         {
          "all_NA": false,
          "half_NA": false,
          "index": "is_integer",
          "longtail": false,
          "longtail_unique": false
         },
         {
          "all_NA": "unknown",
          "half_NA": "unknown",
          "index": "_type",
          "longtail": "unknown",
          "longtail_unique": "unknown"
         },
         {
          "all_NA": null,
          "half_NA": null,
          "index": "mode",
          "longtail": null,
          "longtail_unique": null
         },
         {
          "all_NA": "shape: (3,)\nSeries: '' [struct[2]]\n[\n\t{3,1}\n\t{4,1}\n\t{5,1}\n]",
          "half_NA": "shape: (3,)\nSeries: '' [struct[2]]\n[\n\t{3,1}\n\t{4,1}\n\t{5,1}\n]",
          "index": "value_counts",
          "longtail": "shape: (3,)\nSeries: '' [struct[2]]\n[\n\t{3,1}\n\t{4,1}\n\t{5,1}\n]",
          "longtail_unique": "shape: (3,)\nSeries: '' [struct[2]]\n[\n\t{3,1}\n\t{4,1}\n\t{5,1}\n]"
         },
         {
          "all_NA": 0,
          "half_NA": 0,
          "index": "distinct_count",
          "longtail": 0,
          "longtail_unique": 0
         },
         {
          "all_NA": 0,
          "half_NA": 0,
          "index": "mean",
          "longtail": 0,
          "longtail_unique": 0
         },
         {
          "all_NA": 0,
          "half_NA": 0,
          "index": "unique_count",
          "longtail": 0,
          "longtail_unique": 0
         },
         {
          "all_NA": "unknown",
          "half_NA": "unknown",
          "index": "type",
          "longtail": "unknown",
          "longtail_unique": "unknown"
         },
         {
          "all_NA": 0,
          "half_NA": 0,
          "index": "distinct_per",
          "longtail": 0,
          "longtail_unique": 0
         },
         {
          "all_NA": 0,
          "half_NA": 0,
          "index": "empty_per",
          "longtail": 0,
          "longtail_unique": 0
         },
         {
          "all_NA": 0,
          "half_NA": 0,
          "index": "unique_per",
          "longtail": 0,
          "longtail_unique": 0
         },
         {
          "all_NA": 0,
          "half_NA": 0,
          "index": "nan_per",
          "longtail": 0,
          "longtail_unique": 0
         },
         {
          "all_NA": {
           "3": 0.3333333333,
           "4": 0.3333333333,
           "5": 0.3333333333,
           "longtail": -1,
           "unique": 1
          },
          "half_NA": {
           "3": 0.3333333333,
           "4": 0.3333333333,
           "5": 0.3333333333,
           "longtail": -1,
           "unique": 1
          },
          "index": "categorical_histogram",
          "longtail": {
           "3": 0.3333333333,
           "4": 0.3333333333,
           "5": 0.3333333333,
           "longtail": -1,
           "unique": 1
          },
          "longtail_unique": {
           "3": 0.3333333333,
           "4": 0.3333333333,
           "5": 0.3333333333,
           "longtail": -1,
           "unique": 1
          }
         },
         {
          "all_NA": [
           {
            "cat_pop": 33,
            "name": 3
           },
           {
            "cat_pop": 33,
            "name": 4
           },
           {
            "cat_pop": 33,
            "name": 5
           },
           {
            "name": "unique",
            "unique": 100
           }
          ],
          "half_NA": [
           {
            "cat_pop": 33,
            "name": 3
           },
           {
            "cat_pop": 33,
            "name": 4
           },
           {
            "cat_pop": 33,
            "name": 5
           },
           {
            "name": "unique",
            "unique": 100
           }
          ],
          "index": "histogram",
          "longtail": [
           {
            "cat_pop": 33,
            "name": 3
           },
           {
            "cat_pop": 33,
            "name": 4
           },
           {
            "cat_pop": 33,
            "name": 5
           },
           {
            "name": "unique",
            "unique": 100
           }
          ],
          "longtail_unique": [
           {
            "cat_pop": 33,
            "name": 3
           },
           {
            "cat_pop": 33,
            "name": 4
           },
           {
            "cat_pop": 33,
            "name": 5
           },
           {
            "name": "unique",
            "unique": 100
           }
          ]
         },
         {
          "all_NA": [
           "faked"
          ],
          "half_NA": [
           "faked"
          ],
          "index": "histogram_bins",
          "longtail": [
           "faked"
          ],
          "longtail_unique": [
           "faked"
          ]
         }
        ],
        "empty": [],
        "main": [
         {
          "all_NA": [
           {
            "NA": 100,
            "name": "NA"
           }
          ],
          "half_NA": [
           {
            "cat_pop": 51,
            "name": 1
           },
           {
            "NA": 49,
            "name": "NA"
           }
          ],
          "index": 0,
          "longtail": [
           {
            "NA": null,
            "cat_pop": 0,
            "longtail": null,
            "name": "long_82"
           },
           {
            "NA": null,
            "cat_pop": 0,
            "longtail": null,
            "name": "long_9"
           },
           {
            "NA": null,
            "cat_pop": 0,
            "longtail": null,
            "name": "long_55"
           },
           {
            "NA": null,
            "cat_pop": 0,
            "longtail": null,
            "name": "long_177"
           },
           {
            "NA": null,
            "cat_pop": 0,
            "longtail": null,
            "name": "long_116"
           },
           {
            "NA": null,
            "cat_pop": 0,
            "longtail": null,
            "name": "long_4"
           },
           {
            "NA": null,
            "cat_pop": 0,
            "longtail": null,
            "name": "long_97"
           },
           {
            "NA": null,
            "cat_pop": null,
            "longtail": 77,
            "name": "longtail"
           },
           {
            "NA": 20,
            "cat_pop": null,
            "longtail": null,
            "name": "NA"
           }
          ],
          "longtail_unique": [
           {
            "cat_pop": 0,
            "longtail": null,
            "name": "long_82",
            "unique": null
           },
           {
            "cat_pop": 0,
            "longtail": null,
            "name": "long_87",
            "unique": null
           },
           {
            "cat_pop": 0,
            "longtail": null,
            "name": "long_52",
            "unique": null
           },
           {
            "cat_pop": 0,
            "longtail": null,
            "name": "long_0",
            "unique": null
           },
           {
            "cat_pop": 0,
            "longtail": null,
            "name": "long_95",
            "unique": null
           },
           {
            "cat_pop": 0,
            "longtail": null,
            "name": "long_75",
            "unique": null
           },
           {
            "cat_pop": 0,
            "longtail": null,
            "name": "long_115",
            "unique": null
           },
           {
            "cat_pop": null,
            "longtail": 47,
            "name": "longtail",
            "unique": 50
           }
          ]
         }
        ]
       },
       "df_display_args": {
        "main": {
         "data_key": "main",
         "df_viewer_config": {
          "column_config": [
           {
            "col_name": "index",
            "displayer_args": {
             "displayer": "obj"
            }
           },
           {
            "col_name": "all_NA",
            "displayer_args": {
             "displayer": "obj"
            }
           },
           {
            "col_name": "half_NA",
            "displayer_args": {
             "displayer": "obj"
            }
           },
           {
            "col_name": "longtail",
            "displayer_args": {
             "displayer": "obj"
            }
           },
           {
            "col_name": "longtail_unique",
            "displayer_args": {
             "displayer": "obj"
            }
           }
          ],
          "pinned_rows": [
           {
            "displayer_args": {
             "displayer": "obj"
            },
            "primary_key_val": "dtype"
           },
           {
            "displayer_args": {
             "displayer": "histogram"
            },
            "primary_key_val": "histogram"
           }
          ]
         },
         "summary_stats_key": "all_stats"
        },
        "summary": {
         "data_key": "empty",
         "df_viewer_config": {
          "column_config": [
           {
            "col_name": "index",
            "displayer_args": {
             "displayer": "obj"
            }
           },
           {
            "col_name": "all_NA",
            "displayer_args": {
             "displayer": "obj"
            }
           },
           {
            "col_name": "half_NA",
            "displayer_args": {
             "displayer": "obj"
            }
           },
           {
            "col_name": "longtail",
            "displayer_args": {
             "displayer": "obj"
            }
           },
           {
            "col_name": "longtail_unique",
            "displayer_args": {
             "displayer": "obj"
            }
           }
          ],
          "pinned_rows": [
           {
            "displayer_args": {
             "displayer": "obj"
            },
            "primary_key_val": "dtype"
           },
           {
            "displayer_args": {
             "displayer": "float",
             "maximumFractionDigits": 3,
             "minimumFractionDigits": 3
            },
            "primary_key_val": "min"
           },
           {
            "displayer_args": {
             "displayer": "float",
             "maximumFractionDigits": 3,
             "minimumFractionDigits": 3
            },
            "primary_key_val": "mean"
           },
           {
            "displayer_args": {
             "displayer": "float",
             "maximumFractionDigits": 3,
             "minimumFractionDigits": 3
            },
            "primary_key_val": "max"
           },
           {
            "displayer_args": {
             "displayer": "float",
             "maximumFractionDigits": 0,
             "minimumFractionDigits": 0
            },
            "primary_key_val": "unique_count"
           },
           {
            "displayer_args": {
             "displayer": "float",
             "maximumFractionDigits": 0,
             "minimumFractionDigits": 0
            },
            "primary_key_val": "distinct_count"
           },
           {
            "displayer_args": {
             "displayer": "float",
             "maximumFractionDigits": 0,
             "minimumFractionDigits": 0
            },
            "primary_key_val": "empty_count"
           }
          ]
         },
         "summary_stats_key": "all_stats"
        }
       },
       "df_meta": {
        "columns": 4,
        "rows_shown": 1,
        "total_rows": 1
       },
       "layout": "IPY_MODEL_5440dceb874c496a9e5c7846e6cb7460",
       "operation_results": {
        "generated_py_code": "# instantiation, unused",
        "transformed_df": {
         "column_config": [],
         "data": [],
         "pinned_rows": []
        }
       },
       "operations": []
      }
     },
     "cee7908496054c7ab1fdf5ce78e10b95": {
      "model_module": "@jupyter-widgets/base",
      "model_module_version": "2.0.0",
      "model_name": "LayoutModel",
      "state": {}
     },
     "cf8e1df8555e41708d08af7898d789f4": {
      "model_module": "@jupyter-widgets/base",
      "model_module_version": "2.0.0",
      "model_name": "LayoutModel",
      "state": {}
     },
     "d07d944117434b1ab62513ab9c783192": {
      "model_module": "@jupyter-widgets/base",
      "model_module_version": "2.0.0",
      "model_name": "LayoutModel",
      "state": {}
     },
     "d2a3285258e04ab78b6735285aab7931": {
      "model_module": "buckaroo",
      "model_module_version": "^0.5.1",
      "model_name": "DCEFWidgetModel",
      "state": {
       "_model_module_version": "^0.5.1",
       "_view_module_version": "^0.5.1",
       "_view_name": "DCEFWidgetView",
       "buckaroo_options": {
        "auto_clean": [
         "aggressive",
         "conservative"
        ],
        "df_display": [
         "summary",
         "main"
        ],
        "post_processing": [
         ""
        ],
        "sampled": [
         "random"
        ],
        "show_commands": [
         "on"
        ],
        "summary_stats": [
         "all"
        ]
       },
       "buckaroo_state": {
        "auto_clean": "conservative",
        "df_display": "main",
        "post_processing": "",
        "sampled": false,
        "search_string": "",
        "show_commands": false
       },
       "commandConfig": {
        "argspecs": {
         "dropcol": [
          null
         ],
         "fillna": [
          [
           3,
           "fillVal",
           "type",
           "integer"
          ]
         ],
         "groupby": [
          [
           3,
           "colMap",
           "colEnum",
           [
            "null",
            "sum",
            "mean",
            "median",
            "count"
           ]
          ]
         ],
         "onehot": [
          null
         ],
         "reindex": [
          null
         ],
         "safeint": [
          null
         ],
         "to_bool": [
          null
         ],
         "to_datetime": [
          null
         ],
         "to_float": [
          null
         ],
         "to_int": [
          null
         ],
         "to_string": [
          null
         ]
        },
        "defaultArgs": {
         "dropcol": [
          {
           "symbol": "dropcol"
          },
          {
           "symbol": "df"
          },
          "col"
         ],
         "fillna": [
          {
           "symbol": "fillna"
          },
          {
           "symbol": "df"
          },
          "col",
          8
         ],
         "groupby": [
          {
           "symbol": "groupby"
          },
          {
           "symbol": "df"
          },
          "col",
          {}
         ],
         "onehot": [
          {
           "symbol": "onehot"
          },
          {
           "symbol": "df"
          },
          "col"
         ],
         "reindex": [
          {
           "symbol": "reindex"
          },
          {
           "symbol": "df"
          },
          "col"
         ],
         "safeint": [
          {
           "symbol": "safeint"
          },
          {
           "symbol": "df"
          },
          "col"
         ],
         "to_bool": [
          {
           "symbol": "to_bool"
          },
          {
           "symbol": "df"
          },
          "col"
         ],
         "to_datetime": [
          {
           "symbol": "to_datetime"
          },
          {
           "symbol": "df"
          },
          "col"
         ],
         "to_float": [
          {
           "symbol": "to_float"
          },
          {
           "symbol": "df"
          },
          "col"
         ],
         "to_int": [
          {
           "symbol": "to_int"
          },
          {
           "symbol": "df"
          },
          "col"
         ],
         "to_string": [
          {
           "symbol": "to_string"
          },
          {
           "symbol": "df"
          },
          "col"
         ]
        }
       },
       "df_data_dict": {
        "all_stats": [
         {
          "index": "length",
          "timestamp_datetime_default_displayer": 5,
          "timestamp_datetime_locale_en-GB": 5,
          "timestamp_datetime_locale_en-US": 5,
          "timestamp_datetime_locale_en-US-Long": 5,
          "timestamp_obj_displayer": 5
         },
         {
          "index": "nan_count",
          "timestamp_datetime_default_displayer": 1,
          "timestamp_datetime_locale_en-GB": 1,
          "timestamp_datetime_locale_en-US": 1,
          "timestamp_datetime_locale_en-US-Long": 1,
          "timestamp_obj_displayer": 1
         },
         {
          "index": "dtype",
          "timestamp_datetime_default_displayer": "Datetime(time_unit='us', time_zone='UTC')",
          "timestamp_datetime_locale_en-GB": "Datetime(time_unit='us', time_zone='UTC')",
          "timestamp_datetime_locale_en-US": "Datetime(time_unit='us', time_zone='UTC')",
          "timestamp_datetime_locale_en-US-Long": "Datetime(time_unit='us', time_zone='UTC')",
          "timestamp_obj_displayer": "Datetime(time_unit='us', time_zone='UTC')"
         },
         {
          "index": "is_numeric",
          "timestamp_datetime_default_displayer": false,
          "timestamp_datetime_locale_en-GB": false,
          "timestamp_datetime_locale_en-US": false,
          "timestamp_datetime_locale_en-US-Long": false,
          "timestamp_obj_displayer": false
         },
         {
          "index": "is_integer",
          "timestamp_datetime_default_displayer": false,
          "timestamp_datetime_locale_en-GB": false,
          "timestamp_datetime_locale_en-US": false,
          "timestamp_datetime_locale_en-US-Long": false,
          "timestamp_obj_displayer": false
         },
         {
          "index": "_type",
          "timestamp_datetime_default_displayer": "datetime",
          "timestamp_datetime_locale_en-GB": "datetime",
          "timestamp_datetime_locale_en-US": "datetime",
          "timestamp_datetime_locale_en-US-Long": "datetime",
          "timestamp_obj_displayer": "datetime"
         },
         {
          "index": "mode",
          "timestamp_datetime_default_displayer": null,
          "timestamp_datetime_locale_en-GB": null,
          "timestamp_datetime_locale_en-US": null,
          "timestamp_datetime_locale_en-US-Long": null,
          "timestamp_obj_displayer": null
         },
         {
          "index": "value_counts",
          "timestamp_datetime_default_displayer": "shape: (3,)\nSeries: '' [struct[2]]\n[\n\t{3,1}\n\t{4,1}\n\t{5,1}\n]",
          "timestamp_datetime_locale_en-GB": "shape: (3,)\nSeries: '' [struct[2]]\n[\n\t{3,1}\n\t{4,1}\n\t{5,1}\n]",
          "timestamp_datetime_locale_en-US": "shape: (3,)\nSeries: '' [struct[2]]\n[\n\t{3,1}\n\t{4,1}\n\t{5,1}\n]",
          "timestamp_datetime_locale_en-US-Long": "shape: (3,)\nSeries: '' [struct[2]]\n[\n\t{3,1}\n\t{4,1}\n\t{5,1}\n]",
          "timestamp_obj_displayer": "shape: (3,)\nSeries: '' [struct[2]]\n[\n\t{3,1}\n\t{4,1}\n\t{5,1}\n]"
         },
         {
          "index": "distinct_count",
          "timestamp_datetime_default_displayer": 0,
          "timestamp_datetime_locale_en-GB": 0,
          "timestamp_datetime_locale_en-US": 0,
          "timestamp_datetime_locale_en-US-Long": 0,
          "timestamp_obj_displayer": 0
         },
         {
          "index": "mean",
          "timestamp_datetime_default_displayer": 0,
          "timestamp_datetime_locale_en-GB": 0,
          "timestamp_datetime_locale_en-US": 0,
          "timestamp_datetime_locale_en-US-Long": 0,
          "timestamp_obj_displayer": 0
         },
         {
          "index": "unique_count",
          "timestamp_datetime_default_displayer": 0,
          "timestamp_datetime_locale_en-GB": 0,
          "timestamp_datetime_locale_en-US": 0,
          "timestamp_datetime_locale_en-US-Long": 0,
          "timestamp_obj_displayer": 0
         },
         {
          "index": "type",
          "timestamp_datetime_default_displayer": "datetime",
          "timestamp_datetime_locale_en-GB": "datetime",
          "timestamp_datetime_locale_en-US": "datetime",
          "timestamp_datetime_locale_en-US-Long": "datetime",
          "timestamp_obj_displayer": "datetime"
         },
         {
          "index": "formatter",
          "timestamp_datetime_default_displayer": "default",
          "timestamp_datetime_locale_en-GB": "default",
          "timestamp_datetime_locale_en-US": "default",
          "timestamp_datetime_locale_en-US-Long": "default",
          "timestamp_obj_displayer": "default"
         },
         {
          "index": "distinct_per",
          "timestamp_datetime_default_displayer": 0,
          "timestamp_datetime_locale_en-GB": 0,
          "timestamp_datetime_locale_en-US": 0,
          "timestamp_datetime_locale_en-US-Long": 0,
          "timestamp_obj_displayer": 0
         },
         {
          "index": "empty_per",
          "timestamp_datetime_default_displayer": 0,
          "timestamp_datetime_locale_en-GB": 0,
          "timestamp_datetime_locale_en-US": 0,
          "timestamp_datetime_locale_en-US-Long": 0,
          "timestamp_obj_displayer": 0
         },
         {
          "index": "unique_per",
          "timestamp_datetime_default_displayer": 0,
          "timestamp_datetime_locale_en-GB": 0,
          "timestamp_datetime_locale_en-US": 0,
          "timestamp_datetime_locale_en-US-Long": 0,
          "timestamp_obj_displayer": 0
         },
         {
          "index": "nan_per",
          "timestamp_datetime_default_displayer": 0.2,
          "timestamp_datetime_locale_en-GB": 0.2,
          "timestamp_datetime_locale_en-US": 0.2,
          "timestamp_datetime_locale_en-US-Long": 0.2,
          "timestamp_obj_displayer": 0.2
         },
         {
          "index": "categorical_histogram",
          "timestamp_datetime_default_displayer": {
           "3": 0.3333333333,
           "4": 0.3333333333,
           "5": 0.3333333333,
           "longtail": -1,
           "unique": 1
          },
          "timestamp_datetime_locale_en-GB": {
           "3": 0.3333333333,
           "4": 0.3333333333,
           "5": 0.3333333333,
           "longtail": -1,
           "unique": 1
          },
          "timestamp_datetime_locale_en-US": {
           "3": 0.3333333333,
           "4": 0.3333333333,
           "5": 0.3333333333,
           "longtail": -1,
           "unique": 1
          },
          "timestamp_datetime_locale_en-US-Long": {
           "3": 0.3333333333,
           "4": 0.3333333333,
           "5": 0.3333333333,
           "longtail": -1,
           "unique": 1
          },
          "timestamp_obj_displayer": {
           "3": 0.3333333333,
           "4": 0.3333333333,
           "5": 0.3333333333,
           "longtail": -1,
           "unique": 1
          }
         },
         {
          "index": "histogram",
          "timestamp_datetime_default_displayer": [
           {
            "cat_pop": 33,
            "name": 3
           },
           {
            "cat_pop": 33,
            "name": 4
           },
           {
            "cat_pop": 33,
            "name": 5
           },
           {
            "name": "unique",
            "unique": 100
           },
           {
            "NA": 20,
            "name": "NA"
           }
          ],
          "timestamp_datetime_locale_en-GB": [
           {
            "cat_pop": 33,
            "name": 3
           },
           {
            "cat_pop": 33,
            "name": 4
           },
           {
            "cat_pop": 33,
            "name": 5
           },
           {
            "name": "unique",
            "unique": 100
           },
           {
            "NA": 20,
            "name": "NA"
           }
          ],
          "timestamp_datetime_locale_en-US": [
           {
            "cat_pop": 33,
            "name": 3
           },
           {
            "cat_pop": 33,
            "name": 4
           },
           {
            "cat_pop": 33,
            "name": 5
           },
           {
            "name": "unique",
            "unique": 100
           },
           {
            "NA": 20,
            "name": "NA"
           }
          ],
          "timestamp_datetime_locale_en-US-Long": [
           {
            "cat_pop": 33,
            "name": 3
           },
           {
            "cat_pop": 33,
            "name": 4
           },
           {
            "cat_pop": 33,
            "name": 5
           },
           {
            "name": "unique",
            "unique": 100
           },
           {
            "NA": 20,
            "name": "NA"
           }
          ],
          "timestamp_obj_displayer": [
           {
            "cat_pop": 33,
            "name": 3
           },
           {
            "cat_pop": 33,
            "name": 4
           },
           {
            "cat_pop": 33,
            "name": 5
           },
           {
            "name": "unique",
            "unique": 100
           },
           {
            "NA": 20,
            "name": "NA"
           }
          ]
         },
         {
          "index": "histogram_bins",
          "timestamp_datetime_default_displayer": [
           "faked"
          ],
          "timestamp_datetime_locale_en-GB": [
           "faked"
          ],
          "timestamp_datetime_locale_en-US": [
           "faked"
          ],
          "timestamp_datetime_locale_en-US-Long": [
           "faked"
          ],
          "timestamp_obj_displayer": [
           "faked"
          ]
         }
        ],
        "empty": [],
        "main": [
         {
          "index": 0,
          "timestamp_datetime_default_displayer": "2020-01-01T01:00:00.000Z",
          "timestamp_datetime_locale_en-GB": "2020-01-01T01:00:00.000Z",
          "timestamp_datetime_locale_en-US": "2020-01-01T01:00:00.000Z",
          "timestamp_datetime_locale_en-US-Long": "2020-01-01T01:00:00.000Z",
          "timestamp_obj_displayer": "2020-01-01T01:00:00.000Z"
         },
         {
          "index": 1,
          "timestamp_datetime_default_displayer": "2020-01-01T02:00:00.000Z",
          "timestamp_datetime_locale_en-GB": "2020-01-01T02:00:00.000Z",
          "timestamp_datetime_locale_en-US": "2020-01-01T02:00:00.000Z",
          "timestamp_datetime_locale_en-US-Long": "2020-01-01T02:00:00.000Z",
          "timestamp_obj_displayer": "2020-01-01T02:00:00.000Z"
         },
         {
          "index": 2,
          "timestamp_datetime_default_displayer": "2020-02-28T02:00:00.000Z",
          "timestamp_datetime_locale_en-GB": "2020-02-28T02:00:00.000Z",
          "timestamp_datetime_locale_en-US": "2020-02-28T02:00:00.000Z",
          "timestamp_datetime_locale_en-US-Long": "2020-02-28T02:00:00.000Z",
          "timestamp_obj_displayer": "2020-02-28T02:00:00.000Z"
         },
         {
          "index": 3,
          "timestamp_datetime_default_displayer": "2020-03-15T02:00:00.000Z",
          "timestamp_datetime_locale_en-GB": "2020-03-15T02:00:00.000Z",
          "timestamp_datetime_locale_en-US": "2020-03-15T02:00:00.000Z",
          "timestamp_datetime_locale_en-US-Long": "2020-03-15T02:00:00.000Z",
          "timestamp_obj_displayer": "2020-03-15T02:00:00.000Z"
         },
         {
          "index": 4,
          "timestamp_datetime_default_displayer": null,
          "timestamp_datetime_locale_en-GB": null,
          "timestamp_datetime_locale_en-US": null,
          "timestamp_datetime_locale_en-US-Long": null,
          "timestamp_obj_displayer": null
         }
        ]
       },
       "df_display_args": {
        "main": {
         "data_key": "main",
         "df_viewer_config": {
          "column_config": [
           {
            "col_name": "index",
            "displayer_args": {
             "displayer": "obj"
            }
           },
           {
            "col_name": "timestamp_obj_displayer",
            "displayer_args": {
             "displayer": "obj"
            }
           },
           {
            "col_name": "timestamp_datetime_default_displayer",
            "displayer_args": {
             "displayer": "datetimeDefault"
            }
           },
           {
            "col_name": "timestamp_datetime_locale_en-US",
            "displayer_args": {
             "args": {},
             "displayer": "datetimeLocaleString",
             "locale": "en-US"
            }
           },
           {
            "col_name": "timestamp_datetime_locale_en-US-Long",
            "displayer_args": {
             "args": {
              "weekday": "long"
             },
             "displayer": "datetimeLocaleString",
             "locale": "en-US"
            }
           },
           {
            "col_name": "timestamp_datetime_locale_en-GB",
            "displayer_args": {
             "args": {},
             "displayer": "datetimeLocaleString",
             "locale": "en-GB"
            }
           }
          ],
          "pinned_rows": [
           {
            "displayer_args": {
             "displayer": "obj"
            },
            "primary_key_val": "dtype"
           },
           {
            "displayer_args": {
             "displayer": "histogram"
            },
            "primary_key_val": "histogram"
           }
          ]
         },
         "summary_stats_key": "all_stats"
        },
        "summary": {
         "data_key": "empty",
         "df_viewer_config": {
          "column_config": [
           {
            "col_name": "index",
            "displayer_args": {
             "displayer": "obj"
            }
           },
           {
            "col_name": "timestamp_obj_displayer",
            "displayer_args": {
             "displayer": "obj"
            }
           },
           {
            "col_name": "timestamp_datetime_default_displayer",
            "displayer_args": {
             "displayer": "datetimeDefault"
            }
           },
           {
            "col_name": "timestamp_datetime_locale_en-US",
            "displayer_args": {
             "args": {},
             "displayer": "datetimeLocaleString",
             "locale": "en-US"
            }
           },
           {
            "col_name": "timestamp_datetime_locale_en-US-Long",
            "displayer_args": {
             "args": {
              "weekday": "long"
             },
             "displayer": "datetimeLocaleString",
             "locale": "en-US"
            }
           },
           {
            "col_name": "timestamp_datetime_locale_en-GB",
            "displayer_args": {
             "args": {},
             "displayer": "datetimeLocaleString",
             "locale": "en-GB"
            }
           }
          ],
          "pinned_rows": [
           {
            "displayer_args": {
             "displayer": "obj"
            },
            "primary_key_val": "dtype"
           },
           {
            "displayer_args": {
             "displayer": "float",
             "maximumFractionDigits": 3,
             "minimumFractionDigits": 3
            },
            "primary_key_val": "min"
           },
           {
            "displayer_args": {
             "displayer": "float",
             "maximumFractionDigits": 3,
             "minimumFractionDigits": 3
            },
            "primary_key_val": "mean"
           },
           {
            "displayer_args": {
             "displayer": "float",
             "maximumFractionDigits": 3,
             "minimumFractionDigits": 3
            },
            "primary_key_val": "max"
           },
           {
            "displayer_args": {
             "displayer": "float",
             "maximumFractionDigits": 0,
             "minimumFractionDigits": 0
            },
            "primary_key_val": "unique_count"
           },
           {
            "displayer_args": {
             "displayer": "float",
             "maximumFractionDigits": 0,
             "minimumFractionDigits": 0
            },
            "primary_key_val": "distinct_count"
           },
           {
            "displayer_args": {
             "displayer": "float",
             "maximumFractionDigits": 0,
             "minimumFractionDigits": 0
            },
            "primary_key_val": "empty_count"
           }
          ]
         },
         "summary_stats_key": "all_stats"
        }
       },
       "df_meta": {
        "columns": 5,
        "rows_shown": 5,
        "total_rows": 5
       },
       "layout": "IPY_MODEL_894a7fea7cbe4023b7e7db8ef169eaf8",
       "operation_results": {
        "generated_py_code": "# instantiation, unused",
        "transformed_df": {
         "column_config": [],
         "data": [],
         "pinned_rows": []
        }
       },
       "operations": []
      }
     },
     "d32df8c4de5142cd921a0aa2e9786460": {
      "model_module": "buckaroo",
      "model_module_version": "^0.5.1",
      "model_name": "DCEFWidgetModel",
      "state": {
       "_model_module_version": "^0.5.1",
       "_view_module_version": "^0.5.1",
       "_view_name": "DCEFWidgetView",
       "buckaroo_options": {
        "auto_clean": [
         "aggressive",
         "conservative"
        ],
        "df_display": [
         "main"
        ],
        "post_processing": [
         ""
        ],
        "sampled": [
         "random"
        ],
        "show_commands": [
         "on"
        ],
        "summary_stats": [
         "all"
        ]
       },
       "buckaroo_state": {
        "auto_clean": "conservative",
        "df_display": "main",
        "post_processing": "",
        "sampled": false,
        "search_string": "",
        "show_commands": false
       },
       "commandConfig": {
        "argspecs": {
         "dropcol": [
          null
         ],
         "fillna": [
          [
           3,
           "fillVal",
           "type",
           "integer"
          ]
         ],
         "groupby": [
          [
           3,
           "colMap",
           "colEnum",
           [
            "null",
            "sum",
            "mean",
            "median",
            "count"
           ]
          ]
         ],
         "onehot": [
          null
         ],
         "reindex": [
          null
         ],
         "safeint": [
          null
         ],
         "to_bool": [
          null
         ],
         "to_datetime": [
          null
         ],
         "to_float": [
          null
         ],
         "to_int": [
          null
         ],
         "to_string": [
          null
         ]
        },
        "defaultArgs": {
         "dropcol": [
          {
           "symbol": "dropcol"
          },
          {
           "symbol": "df"
          },
          "col"
         ],
         "fillna": [
          {
           "symbol": "fillna"
          },
          {
           "symbol": "df"
          },
          "col",
          8
         ],
         "groupby": [
          {
           "symbol": "groupby"
          },
          {
           "symbol": "df"
          },
          "col",
          {}
         ],
         "onehot": [
          {
           "symbol": "onehot"
          },
          {
           "symbol": "df"
          },
          "col"
         ],
         "reindex": [
          {
           "symbol": "reindex"
          },
          {
           "symbol": "df"
          },
          "col"
         ],
         "safeint": [
          {
           "symbol": "safeint"
          },
          {
           "symbol": "df"
          },
          "col"
         ],
         "to_bool": [
          {
           "symbol": "to_bool"
          },
          {
           "symbol": "df"
          },
          "col"
         ],
         "to_datetime": [
          {
           "symbol": "to_datetime"
          },
          {
           "symbol": "df"
          },
          "col"
         ],
         "to_float": [
          {
           "symbol": "to_float"
          },
          {
           "symbol": "df"
          },
          "col"
         ],
         "to_int": [
          {
           "symbol": "to_int"
          },
          {
           "symbol": "df"
          },
          "col"
         ],
         "to_string": [
          {
           "symbol": "to_string"
          },
          {
           "symbol": "df"
          },
          "col"
         ]
        }
       },
       "df_data_dict": {
        "all_stats": [
         {
          "bools": "Boolean",
          "dicts": "Struct({'a': Int64, 'b': Int64, 'c': String})",
          "index": "dtype",
          "ints": "Int64",
          "nested_dicts": "Struct({'level_1': Struct({'a': Int64, 'b': Int64, 'c': String})})"
         },
         {
          "bools": false,
          "dicts": false,
          "index": "is_numeric",
          "ints": true,
          "nested_dicts": false
         },
         {
          "bools": false,
          "dicts": false,
          "index": "is_integer",
          "ints": true,
          "nested_dicts": false
         },
         {
          "bools": "boolean",
          "dicts": "unknown",
          "index": "_type",
          "ints": "integer",
          "nested_dicts": "unknown"
         }
        ],
        "empty": [],
        "main": [
         {
          "bools": true,
          "dicts": {
           "a": 10,
           "b": 20,
           "c": "some string"
          },
          "index": 0,
          "ints": 5,
          "nested_dicts": {
           "level_1": {
            "a": 10,
            "b": 20,
            "c": "some string"
           }
          }
         },
         {
          "bools": true,
          "dicts": {
           "a": null,
           "b": null,
           "c": null
          },
          "index": 1,
          "ints": 20,
          "nested_dicts": {
           "level_1": {
            "a": null,
            "b": null,
            "c": null
           }
          }
         },
         {
          "bools": false,
          "dicts": {
           "a": null,
           "b": null,
           "c": null
          },
          "index": 2,
          "ints": 30,
          "nested_dicts": {
           "level_1": {
            "a": null,
            "b": null,
            "c": null
           }
          }
         },
         {
          "bools": false,
          "dicts": {
           "a": null,
           "b": null,
           "c": null
          },
          "index": 3,
          "ints": -10,
          "nested_dicts": {
           "level_1": {
            "a": null,
            "b": null,
            "c": null
           }
          }
         },
         {
          "bools": true,
          "dicts": {
           "a": null,
           "b": null,
           "c": null
          },
          "index": 4,
          "ints": 7772,
          "nested_dicts": {
           "level_1": {
            "a": null,
            "b": null,
            "c": null
           }
          }
         },
         {
          "bools": null,
          "dicts": {
           "a": null,
           "b": null,
           "c": null
          },
          "index": 5,
          "ints": null,
          "nested_dicts": {
           "level_1": {
            "a": null,
            "b": null,
            "c": null
           }
          }
         }
        ]
       },
       "df_display_args": {
        "main": {
         "data_key": "main",
         "df_viewer_config": {
          "column_config": [
           {
            "col_name": "index",
            "displayer_args": {
             "displayer": "obj"
            }
           },
           {
            "col_name": "bools",
            "displayer_args": {
             "displayer": "obj"
            }
           },
           {
            "col_name": "ints",
            "displayer_args": {
             "displayer": "obj"
            }
           },
           {
            "col_name": "dicts",
            "displayer_args": {
             "displayer": "obj"
            }
           },
           {
            "col_name": "nested_dicts",
            "displayer_args": {
             "displayer": "obj"
            }
           }
          ],
          "pinned_rows": [
           {
            "displayer_args": {
             "displayer": "obj"
            },
            "primary_key_val": "dtype"
           }
          ]
         },
         "summary_stats_key": "all_stats"
        }
       },
       "df_meta": {
        "columns": 4,
        "rows_shown": 6,
        "total_rows": 6
       },
       "layout": "IPY_MODEL_659b190e47e24433ae0c348267b304f1",
       "operation_results": {
        "generated_py_code": "# instantiation, unused",
        "transformed_df": {
         "column_config": [],
         "data": [],
         "pinned_rows": []
        }
       },
       "operations": []
      }
     },
     "d3711d570668400c890da727494c1cb6": {
      "model_module": "buckaroo",
      "model_module_version": "^0.5.1",
      "model_name": "DCEFWidgetModel",
      "state": {
       "_model_module_version": "^0.5.1",
       "_view_module_version": "^0.5.1",
       "_view_name": "DCEFWidgetView",
       "buckaroo_options": {
        "auto_clean": [
         "aggressive",
         "conservative"
        ],
        "df_display": [
         "summary",
         "main"
        ],
        "post_processing": [
         ""
        ],
        "sampled": [
         "random"
        ],
        "show_commands": [
         "on"
        ],
        "summary_stats": [
         "all"
        ]
       },
       "buckaroo_state": {
        "auto_clean": "conservative",
        "df_display": "main",
        "post_processing": "",
        "sampled": false,
        "search_string": "",
        "show_commands": false
       },
       "commandConfig": {
        "argspecs": {
         "dropcol": [
          null
         ],
         "fillna": [
          [
           3,
           "fillVal",
           "type",
           "integer"
          ]
         ],
         "groupby": [
          [
           3,
           "colMap",
           "colEnum",
           [
            "null",
            "sum",
            "mean",
            "median",
            "count"
           ]
          ]
         ],
         "onehot": [
          null
         ],
         "reindex": [
          null
         ],
         "safeint": [
          null
         ],
         "to_bool": [
          null
         ],
         "to_datetime": [
          null
         ],
         "to_float": [
          null
         ],
         "to_int": [
          null
         ],
         "to_string": [
          null
         ]
        },
        "defaultArgs": {
         "dropcol": [
          {
           "symbol": "dropcol"
          },
          {
           "symbol": "df"
          },
          "col"
         ],
         "fillna": [
          {
           "symbol": "fillna"
          },
          {
           "symbol": "df"
          },
          "col",
          8
         ],
         "groupby": [
          {
           "symbol": "groupby"
          },
          {
           "symbol": "df"
          },
          "col",
          {}
         ],
         "onehot": [
          {
           "symbol": "onehot"
          },
          {
           "symbol": "df"
          },
          "col"
         ],
         "reindex": [
          {
           "symbol": "reindex"
          },
          {
           "symbol": "df"
          },
          "col"
         ],
         "safeint": [
          {
           "symbol": "safeint"
          },
          {
           "symbol": "df"
          },
          "col"
         ],
         "to_bool": [
          {
           "symbol": "to_bool"
          },
          {
           "symbol": "df"
          },
          "col"
         ],
         "to_datetime": [
          {
           "symbol": "to_datetime"
          },
          {
           "symbol": "df"
          },
          "col"
         ],
         "to_float": [
          {
           "symbol": "to_float"
          },
          {
           "symbol": "df"
          },
          "col"
         ],
         "to_int": [
          {
           "symbol": "to_int"
          },
          {
           "symbol": "df"
          },
          "col"
         ],
         "to_string": [
          {
           "symbol": "to_string"
          },
          {
           "symbol": "df"
          },
          "col"
         ]
        }
       },
       "df_data_dict": {
        "all_stats": [
         {
          "float_float_displayer_0__3": "shape: (6,)\nSeries: '' [struct[2]]\n[\n\t{5.0,1}\n\t{-8.0,1}\n\t{13.23,1}\n\t{-8.01,1}\n\t{-999.345245,1}\n\t{null,1}\n]",
          "float_float_displayer_1__3": "shape: (6,)\nSeries: '' [struct[2]]\n[\n\t{5.0,1}\n\t{-8.0,1}\n\t{13.23,1}\n\t{-8.01,1}\n\t{-999.345245,1}\n\t{null,1}\n]",
          "float_float_displayer_3_13": "shape: (6,)\nSeries: '' [struct[2]]\n[\n\t{5.0,1}\n\t{-8.0,1}\n\t{13.23,1}\n\t{-8.01,1}\n\t{-999.345245,1}\n\t{null,1}\n]",
          "float_float_displayer_3__3": "shape: (6,)\nSeries: '' [struct[2]]\n[\n\t{5.0,1}\n\t{-8.0,1}\n\t{13.23,1}\n\t{-8.01,1}\n\t{-999.345245,1}\n\t{null,1}\n]",
          "float_obj_displayer": "shape: (6,)\nSeries: '' [struct[2]]\n[\n\t{5.0,1}\n\t{-8.0,1}\n\t{13.23,1}\n\t{-8.01,1}\n\t{-999.345245,1}\n\t{null,1}\n]",
          "index": "value_counts"
         },
         {
          "float_float_displayer_0__3": 6,
          "float_float_displayer_1__3": 6,
          "float_float_displayer_3_13": 6,
          "float_float_displayer_3__3": 6,
          "float_obj_displayer": 6,
          "index": "length"
         },
         {
          "float_float_displayer_0__3": 1,
          "float_float_displayer_1__3": 1,
          "float_float_displayer_3_13": 1,
          "float_float_displayer_3__3": 1,
          "float_obj_displayer": 1,
          "index": "nan_count"
         },
         {
          "float_float_displayer_0__3": -999.345245234,
          "float_float_displayer_1__3": -999.345245234,
          "float_float_displayer_3_13": -999.345245234,
          "float_float_displayer_3__3": -999.345245234,
          "float_obj_displayer": -999.345245234,
          "index": "min"
         },
         {
          "float_float_displayer_0__3": 13.23,
          "float_float_displayer_1__3": 13.23,
          "float_float_displayer_3_13": 13.23,
          "float_float_displayer_3__3": 13.23,
          "float_obj_displayer": 13.23,
          "index": "max"
         },
         {
          "float_float_displayer_0__3": -199.4250490468,
          "float_float_displayer_1__3": -199.4250490468,
          "float_float_displayer_3_13": -199.4250490468,
          "float_float_displayer_3__3": -199.4250490468,
          "float_obj_displayer": -199.4250490468,
          "index": "mean"
         },
         {
          "float_float_displayer_0__3": 6,
          "float_float_displayer_1__3": 6,
          "float_float_displayer_3_13": 6,
          "float_float_displayer_3__3": 6,
          "float_obj_displayer": 6,
          "index": "unique_count"
         },
         {
          "float_float_displayer_0__3": "Float64",
          "float_float_displayer_1__3": "Float64",
          "float_float_displayer_3_13": "Float64",
          "float_float_displayer_3__3": "Float64",
          "float_obj_displayer": "Float64",
          "index": "dtype"
         },
         {
          "float_float_displayer_0__3": {
           "high_tail": 13.23,
           "low_tail": -999.345245234,
           "meat_histogram": [
            [
             0,
             2,
             0,
             0,
             0,
             0,
             0,
             0,
             0,
             1
            ],
            [
             -999.345245234,
             -8.4,
             -6.8,
             -5.2,
             -3.6,
             -2,
             -0.4,
             1.2,
             2.8,
             4.4,
             13.23
            ]
           ],
           "normalized_populations": [
            0,
            0.6666666667,
            0,
            0,
            0,
            0,
            0,
            0,
            0,
            0.3333333333
           ]
          },
          "float_float_displayer_1__3": {
           "high_tail": 13.23,
           "low_tail": -999.345245234,
           "meat_histogram": [
            [
             0,
             2,
             0,
             0,
             0,
             0,
             0,
             0,
             0,
             1
            ],
            [
             -999.345245234,
             -8.4,
             -6.8,
             -5.2,
             -3.6,
             -2,
             -0.4,
             1.2,
             2.8,
             4.4,
             13.23
            ]
           ],
           "normalized_populations": [
            0,
            0.6666666667,
            0,
            0,
            0,
            0,
            0,
            0,
            0,
            0.3333333333
           ]
          },
          "float_float_displayer_3_13": {
           "high_tail": 13.23,
           "low_tail": -999.345245234,
           "meat_histogram": [
            [
             0,
             2,
             0,
             0,
             0,
             0,
             0,
             0,
             0,
             1
            ],
            [
             -999.345245234,
             -8.4,
             -6.8,
             -5.2,
             -3.6,
             -2,
             -0.4,
             1.2,
             2.8,
             4.4,
             13.23
            ]
           ],
           "normalized_populations": [
            0,
            0.6666666667,
            0,
            0,
            0,
            0,
            0,
            0,
            0,
            0.3333333333
           ]
          },
          "float_float_displayer_3__3": {
           "high_tail": 13.23,
           "low_tail": -999.345245234,
           "meat_histogram": [
            [
             0,
             2,
             0,
             0,
             0,
             0,
             0,
             0,
             0,
             1
            ],
            [
             -999.345245234,
             -8.4,
             -6.8,
             -5.2,
             -3.6,
             -2,
             -0.4,
             1.2,
             2.8,
             4.4,
             13.23
            ]
           ],
           "normalized_populations": [
            0,
            0.6666666667,
            0,
            0,
            0,
            0,
            0,
            0,
            0,
            0.3333333333
           ]
          },
          "float_obj_displayer": {
           "high_tail": 13.23,
           "low_tail": -999.345245234,
           "meat_histogram": [
            [
             0,
             2,
             0,
             0,
             0,
             0,
             0,
             0,
             0,
             1
            ],
            [
             -999.345245234,
             -8.4,
             -6.8,
             -5.2,
             -3.6,
             -2,
             -0.4,
             1.2,
             2.8,
             4.4,
             13.23
            ]
           ],
           "normalized_populations": [
            0,
            0.6666666667,
            0,
            0,
            0,
            0,
            0,
            0,
            0,
            0.3333333333
           ]
          },
          "index": "histogram_args"
         },
         {
          "float_float_displayer_0__3": true,
          "float_float_displayer_1__3": true,
          "float_float_displayer_3_13": true,
          "float_float_displayer_3__3": true,
          "float_obj_displayer": true,
          "index": "is_numeric"
         },
         {
          "float_float_displayer_0__3": false,
          "float_float_displayer_1__3": false,
          "float_float_displayer_3_13": false,
          "float_float_displayer_3__3": false,
          "float_obj_displayer": false,
          "index": "is_integer"
         },
         {
          "float_float_displayer_0__3": "float",
          "float_float_displayer_1__3": "float",
          "float_float_displayer_3_13": "float",
          "float_float_displayer_3__3": "float",
          "float_obj_displayer": "float",
          "index": "_type"
         },
         {
          "float_float_displayer_0__3": 5,
          "float_float_displayer_1__3": 5,
          "float_float_displayer_3_13": 5,
          "float_float_displayer_3__3": 5,
          "float_obj_displayer": 5,
          "index": "mode"
         },
         {
          "float_float_displayer_0__3": 6,
          "float_float_displayer_1__3": 6,
          "float_float_displayer_3_13": 6,
          "float_float_displayer_3__3": 6,
          "float_obj_displayer": 6,
          "index": "distinct_count"
         },
         {
          "float_float_displayer_0__3": "float",
          "float_float_displayer_1__3": "float",
          "float_float_displayer_3_13": "float",
          "float_float_displayer_3__3": "float",
          "float_obj_displayer": "float",
          "index": "type"
         },
         {
          "float_float_displayer_0__3": 4,
          "float_float_displayer_1__3": 4,
          "float_float_displayer_3_13": 4,
          "float_float_displayer_3__3": 4,
          "float_obj_displayer": 4,
          "index": "min_digits"
         },
         {
          "float_float_displayer_0__3": 2,
          "float_float_displayer_1__3": 2,
          "float_float_displayer_3_13": 2,
          "float_float_displayer_3__3": 2,
          "float_obj_displayer": 2,
          "index": "max_digits"
         },
         {
          "float_float_displayer_0__3": 1,
          "float_float_displayer_1__3": 1,
          "float_float_displayer_3_13": 1,
          "float_float_displayer_3__3": 1,
          "float_obj_displayer": 1,
          "index": "distinct_per"
         },
         {
          "float_float_displayer_0__3": 0,
          "float_float_displayer_1__3": 0,
          "float_float_displayer_3_13": 0,
          "float_float_displayer_3__3": 0,
          "float_obj_displayer": 0,
          "index": "empty_per"
         },
         {
          "float_float_displayer_0__3": 1,
          "float_float_displayer_1__3": 1,
          "float_float_displayer_3_13": 1,
          "float_float_displayer_3__3": 1,
          "float_obj_displayer": 1,
          "index": "unique_per"
         },
         {
          "float_float_displayer_0__3": 0.1666666667,
          "float_float_displayer_1__3": 0.1666666667,
          "float_float_displayer_3_13": 0.1666666667,
          "float_float_displayer_3__3": 0.1666666667,
          "float_obj_displayer": 0.1666666667,
          "index": "nan_per"
         },
         {
          "float_float_displayer_0__3": [
           {
            "name": "-999.345245234 - -999.345245234",
            "tail": 1
           },
           {
            "name": "-999--8",
            "population": 0
           },
           {
            "name": "-8--7",
            "population": 67
           },
           {
            "name": "-7--5",
            "population": 0
           },
           {
            "name": "-5--4",
            "population": 0
           },
           {
            "name": "-4--2",
            "population": 0
           },
           {
            "name": "-2--0",
            "population": 0
           },
           {
            "name": "-0-1",
            "population": 0
           },
           {
            "name": "1-3",
            "population": 0
           },
           {
            "name": "3-4",
            "population": 0
           },
           {
            "name": "4-13",
            "population": 33
           },
           {
            "name": "13.23 - 13.23",
            "tail": 1
           },
           {
            "NA": 17,
            "name": "NA"
           }
          ],
          "float_float_displayer_1__3": [
           {
            "name": "-999.345245234 - -999.345245234",
            "tail": 1
           },
           {
            "name": "-999--8",
            "population": 0
           },
           {
            "name": "-8--7",
            "population": 67
           },
           {
            "name": "-7--5",
            "population": 0
           },
           {
            "name": "-5--4",
            "population": 0
           },
           {
            "name": "-4--2",
            "population": 0
           },
           {
            "name": "-2--0",
            "population": 0
           },
           {
            "name": "-0-1",
            "population": 0
           },
           {
            "name": "1-3",
            "population": 0
           },
           {
            "name": "3-4",
            "population": 0
           },
           {
            "name": "4-13",
            "population": 33
           },
           {
            "name": "13.23 - 13.23",
            "tail": 1
           },
           {
            "NA": 17,
            "name": "NA"
           }
          ],
          "float_float_displayer_3_13": [
           {
            "name": "-999.345245234 - -999.345245234",
            "tail": 1
           },
           {
            "name": "-999--8",
            "population": 0
           },
           {
            "name": "-8--7",
            "population": 67
           },
           {
            "name": "-7--5",
            "population": 0
           },
           {
            "name": "-5--4",
            "population": 0
           },
           {
            "name": "-4--2",
            "population": 0
           },
           {
            "name": "-2--0",
            "population": 0
           },
           {
            "name": "-0-1",
            "population": 0
           },
           {
            "name": "1-3",
            "population": 0
           },
           {
            "name": "3-4",
            "population": 0
           },
           {
            "name": "4-13",
            "population": 33
           },
           {
            "name": "13.23 - 13.23",
            "tail": 1
           },
           {
            "NA": 17,
            "name": "NA"
           }
          ],
          "float_float_displayer_3__3": [
           {
            "name": "-999.345245234 - -999.345245234",
            "tail": 1
           },
           {
            "name": "-999--8",
            "population": 0
           },
           {
            "name": "-8--7",
            "population": 67
           },
           {
            "name": "-7--5",
            "population": 0
           },
           {
            "name": "-5--4",
            "population": 0
           },
           {
            "name": "-4--2",
            "population": 0
           },
           {
            "name": "-2--0",
            "population": 0
           },
           {
            "name": "-0-1",
            "population": 0
           },
           {
            "name": "1-3",
            "population": 0
           },
           {
            "name": "3-4",
            "population": 0
           },
           {
            "name": "4-13",
            "population": 33
           },
           {
            "name": "13.23 - 13.23",
            "tail": 1
           },
           {
            "NA": 17,
            "name": "NA"
           }
          ],
          "float_obj_displayer": [
           {
            "name": "-999.345245234 - -999.345245234",
            "tail": 1
           },
           {
            "name": "-999--8",
            "population": 0
           },
           {
            "name": "-8--7",
            "population": 67
           },
           {
            "name": "-7--5",
            "population": 0
           },
           {
            "name": "-5--4",
            "population": 0
           },
           {
            "name": "-4--2",
            "population": 0
           },
           {
            "name": "-2--0",
            "population": 0
           },
           {
            "name": "-0-1",
            "population": 0
           },
           {
            "name": "1-3",
            "population": 0
           },
           {
            "name": "3-4",
            "population": 0
           },
           {
            "name": "4-13",
            "population": 33
           },
           {
            "name": "13.23 - 13.23",
            "tail": 1
           },
           {
            "NA": 17,
            "name": "NA"
           }
          ],
          "index": "histogram"
         },
         {
          "float_float_displayer_0__3": [
           -999.345245234,
           -8.4,
           -6.8,
           -5.2,
           -3.6,
           -2,
           -0.4,
           1.2,
           2.8,
           4.4,
           13.23
          ],
          "float_float_displayer_1__3": [
           -999.345245234,
           -8.4,
           -6.8,
           -5.2,
           -3.6,
           -2,
           -0.4,
           1.2,
           2.8,
           4.4,
           13.23
          ],
          "float_float_displayer_3_13": [
           -999.345245234,
           -8.4,
           -6.8,
           -5.2,
           -3.6,
           -2,
           -0.4,
           1.2,
           2.8,
           4.4,
           13.23
          ],
          "float_float_displayer_3__3": [
           -999.345245234,
           -8.4,
           -6.8,
           -5.2,
           -3.6,
           -2,
           -0.4,
           1.2,
           2.8,
           4.4,
           13.23
          ],
          "float_obj_displayer": [
           -999.345245234,
           -8.4,
           -6.8,
           -5.2,
           -3.6,
           -2,
           -0.4,
           1.2,
           2.8,
           4.4,
           13.23
          ],
          "index": "histogram_bins"
         }
        ],
        "empty": [],
        "main": [
         {
          "float_float_displayer_0__3": 5,
          "float_float_displayer_1__3": 5,
          "float_float_displayer_3_13": 5,
          "float_float_displayer_3__3": 5,
          "float_obj_displayer": 5,
          "index": 0
         },
         {
          "float_float_displayer_0__3": -8,
          "float_float_displayer_1__3": -8,
          "float_float_displayer_3_13": -8,
          "float_float_displayer_3__3": -8,
          "float_obj_displayer": -8,
          "index": 1
         },
         {
          "float_float_displayer_0__3": 13.23,
          "float_float_displayer_1__3": 13.23,
          "float_float_displayer_3_13": 13.23,
          "float_float_displayer_3__3": 13.23,
          "float_obj_displayer": 13.23,
          "index": 2
         },
         {
          "float_float_displayer_0__3": -8.01,
          "float_float_displayer_1__3": -8.01,
          "float_float_displayer_3_13": -8.01,
          "float_float_displayer_3__3": -8.01,
          "float_obj_displayer": -8.01,
          "index": 3
         },
         {
          "float_float_displayer_0__3": -999.345245234,
          "float_float_displayer_1__3": -999.345245234,
          "float_float_displayer_3_13": -999.345245234,
          "float_float_displayer_3__3": -999.345245234,
          "float_obj_displayer": -999.345245234,
          "index": 4
         },
         {
          "float_float_displayer_0__3": null,
          "float_float_displayer_1__3": null,
          "float_float_displayer_3_13": null,
          "float_float_displayer_3__3": null,
          "float_obj_displayer": null,
          "index": 5
         }
        ]
       },
       "df_display_args": {
        "main": {
         "data_key": "main",
         "df_viewer_config": {
          "column_config": [
           {
            "col_name": "index",
            "displayer_args": {
             "displayer": "obj"
            }
           },
           {
            "col_name": "float_obj_displayer",
            "displayer_args": {
             "displayer": "obj"
            }
           },
           {
            "col_name": "float_float_displayer_1__3",
            "displayer_args": {
             "displayer": "float",
             "max_fraction_digits": 3,
             "min_fraction_digits": 1
            }
           },
           {
            "col_name": "float_float_displayer_0__3",
            "displayer_args": {
             "displayer": "float",
             "max_fraction_digits": 3,
             "min_fraction_digits": 0
            }
           },
           {
            "col_name": "float_float_displayer_3__3",
            "displayer_args": {
             "displayer": "float",
             "max_fraction_digits": 3,
             "min_fraction_digits": 3
            }
           },
           {
            "col_name": "float_float_displayer_3_13",
            "displayer_args": {
             "displayer": "float",
             "max_fraction_digits": 13,
             "min_fraction_digits": 3
            }
           }
          ],
          "pinned_rows": [
           {
            "displayer_args": {
             "displayer": "obj"
            },
            "primary_key_val": "dtype"
           },
           {
            "displayer_args": {
             "displayer": "histogram"
            },
            "primary_key_val": "histogram"
           }
          ]
         },
         "summary_stats_key": "all_stats"
        },
        "summary": {
         "data_key": "empty",
         "df_viewer_config": {
          "column_config": [
           {
            "col_name": "index",
            "displayer_args": {
             "displayer": "obj"
            }
           },
           {
            "col_name": "float_obj_displayer",
            "displayer_args": {
             "displayer": "obj"
            }
           },
           {
            "col_name": "float_float_displayer_1__3",
            "displayer_args": {
             "displayer": "float",
             "max_fraction_digits": 3,
             "min_fraction_digits": 1
            }
           },
           {
            "col_name": "float_float_displayer_0__3",
            "displayer_args": {
             "displayer": "float",
             "max_fraction_digits": 3,
             "min_fraction_digits": 0
            }
           },
           {
            "col_name": "float_float_displayer_3__3",
            "displayer_args": {
             "displayer": "float",
             "max_fraction_digits": 3,
             "min_fraction_digits": 3
            }
           },
           {
            "col_name": "float_float_displayer_3_13",
            "displayer_args": {
             "displayer": "float",
             "max_fraction_digits": 13,
             "min_fraction_digits": 3
            }
           }
          ],
          "pinned_rows": [
           {
            "displayer_args": {
             "displayer": "obj"
            },
            "primary_key_val": "dtype"
           },
           {
            "displayer_args": {
             "displayer": "float",
             "maximumFractionDigits": 3,
             "minimumFractionDigits": 3
            },
            "primary_key_val": "min"
           },
           {
            "displayer_args": {
             "displayer": "float",
             "maximumFractionDigits": 3,
             "minimumFractionDigits": 3
            },
            "primary_key_val": "mean"
           },
           {
            "displayer_args": {
             "displayer": "float",
             "maximumFractionDigits": 3,
             "minimumFractionDigits": 3
            },
            "primary_key_val": "max"
           },
           {
            "displayer_args": {
             "displayer": "float",
             "maximumFractionDigits": 0,
             "minimumFractionDigits": 0
            },
            "primary_key_val": "unique_count"
           },
           {
            "displayer_args": {
             "displayer": "float",
             "maximumFractionDigits": 0,
             "minimumFractionDigits": 0
            },
            "primary_key_val": "distinct_count"
           },
           {
            "displayer_args": {
             "displayer": "float",
             "maximumFractionDigits": 0,
             "minimumFractionDigits": 0
            },
            "primary_key_val": "empty_count"
           }
          ]
         },
         "summary_stats_key": "all_stats"
        }
       },
       "df_meta": {
        "columns": 5,
        "rows_shown": 6,
        "total_rows": 6
       },
       "layout": "IPY_MODEL_bee7110674b341199f8656072cfbf3a5",
       "operation_results": {
        "generated_py_code": "# instantiation, unused",
        "transformed_df": {
         "column_config": [],
         "data": [],
         "pinned_rows": []
        }
       },
       "operations": []
      }
     },
     "d4305f9aba4f453e9f6fa1bdcfe64079": {
      "model_module": "@jupyter-widgets/base",
      "model_module_version": "2.0.0",
      "model_name": "LayoutModel",
      "state": {}
     },
     "df24cfaa96af41ff8fae1125a5a47b33": {
      "model_module": "buckaroo",
      "model_module_version": "^0.5.1",
      "model_name": "DCEFWidgetModel",
      "state": {
       "_model_module_version": "^0.5.1",
       "_view_module_version": "^0.5.1",
       "_view_name": "DCEFWidgetView",
       "buckaroo_options": {
        "auto_clean": [
         "aggressive",
         "conservative"
        ],
        "df_display": [
         "summary",
         "main"
        ],
        "post_processing": [
         ""
        ],
        "sampled": [
         "random"
        ],
        "show_commands": [
         "on"
        ],
        "summary_stats": [
         "all"
        ]
       },
       "buckaroo_state": {
        "auto_clean": "conservative",
        "df_display": "main",
        "post_processing": "",
        "sampled": false,
        "search_string": "",
        "show_commands": false
       },
       "commandConfig": {
        "argspecs": {
         "dropcol": [
          null
         ],
         "fillna": [
          [
           3,
           "fillVal",
           "type",
           "integer"
          ]
         ],
         "groupby": [
          [
           3,
           "colMap",
           "colEnum",
           [
            "null",
            "sum",
            "mean",
            "median",
            "count"
           ]
          ]
         ],
         "onehot": [
          null
         ],
         "reindex": [
          null
         ],
         "safeint": [
          null
         ],
         "to_bool": [
          null
         ],
         "to_datetime": [
          null
         ],
         "to_float": [
          null
         ],
         "to_int": [
          null
         ],
         "to_string": [
          null
         ]
        },
        "defaultArgs": {
         "dropcol": [
          {
           "symbol": "dropcol"
          },
          {
           "symbol": "df"
          },
          "col"
         ],
         "fillna": [
          {
           "symbol": "fillna"
          },
          {
           "symbol": "df"
          },
          "col",
          8
         ],
         "groupby": [
          {
           "symbol": "groupby"
          },
          {
           "symbol": "df"
          },
          "col",
          {}
         ],
         "onehot": [
          {
           "symbol": "onehot"
          },
          {
           "symbol": "df"
          },
          "col"
         ],
         "reindex": [
          {
           "symbol": "reindex"
          },
          {
           "symbol": "df"
          },
          "col"
         ],
         "safeint": [
          {
           "symbol": "safeint"
          },
          {
           "symbol": "df"
          },
          "col"
         ],
         "to_bool": [
          {
           "symbol": "to_bool"
          },
          {
           "symbol": "df"
          },
          "col"
         ],
         "to_datetime": [
          {
           "symbol": "to_datetime"
          },
          {
           "symbol": "df"
          },
          "col"
         ],
         "to_float": [
          {
           "symbol": "to_float"
          },
          {
           "symbol": "df"
          },
          "col"
         ],
         "to_int": [
          {
           "symbol": "to_int"
          },
          {
           "symbol": "df"
          },
          "col"
         ],
         "to_string": [
          {
           "symbol": "to_string"
          },
          {
           "symbol": "df"
          },
          "col"
         ]
        }
       },
       "df_data_dict": {
        "all_stats": [
         {
          "index": "value_counts",
          "strings_obj_displayer": "shape: (5,)\nSeries: '' [struct[2]]\n[\n\t{\"asdf\",1}\n\t{\"qwerty\",1}\n\t{\"really long string, much  much longer\",1}\n\t{null,1}\n\t{\"A\",1}\n]",
          "strings_string_displayer": "shape: (5,)\nSeries: '' [struct[2]]\n[\n\t{\"asdf\",1}\n\t{\"qwerty\",1}\n\t{\"really long string, much  much longer\",1}\n\t{null,1}\n\t{\"A\",1}\n]",
          "strings_string_displayer_max_len": "shape: (5,)\nSeries: '' [struct[2]]\n[\n\t{\"asdf\",1}\n\t{\"qwerty\",1}\n\t{\"really long string, much  much longer\",1}\n\t{null,1}\n\t{\"A\",1}\n]"
         },
         {
          "index": "length",
          "strings_obj_displayer": 5,
          "strings_string_displayer": 5,
          "strings_string_displayer_max_len": 5
         },
         {
          "index": "nan_count",
          "strings_obj_displayer": 1,
          "strings_string_displayer": 1,
          "strings_string_displayer_max_len": 1
         },
         {
          "index": "min",
          "strings_obj_displayer": "A",
          "strings_string_displayer": "A",
          "strings_string_displayer_max_len": "A"
         },
         {
          "index": "max",
          "strings_obj_displayer": "really long string, much  much longer",
          "strings_string_displayer": "really long string, much  much longer",
          "strings_string_displayer_max_len": "really long string, much  much longer"
         },
         {
          "index": "mean",
          "strings_obj_displayer": null,
          "strings_string_displayer": null,
          "strings_string_displayer_max_len": null
         },
         {
          "index": "empty_count",
          "strings_obj_displayer": 0,
          "strings_string_displayer": 0,
          "strings_string_displayer_max_len": 0
         },
         {
          "index": "unique_count",
          "strings_obj_displayer": 5,
          "strings_string_displayer": 5,
          "strings_string_displayer_max_len": 5
         },
         {
          "index": "dtype",
          "strings_obj_displayer": "String",
          "strings_string_displayer": "String",
          "strings_string_displayer_max_len": "String"
         },
         {
          "index": "is_numeric",
          "strings_obj_displayer": false,
          "strings_string_displayer": false,
          "strings_string_displayer_max_len": false
         },
         {
          "index": "is_integer",
          "strings_obj_displayer": false,
          "strings_string_displayer": false,
          "strings_string_displayer_max_len": false
         },
         {
          "index": "_type",
          "strings_obj_displayer": "string",
          "strings_string_displayer": "string",
          "strings_string_displayer_max_len": "string"
         },
         {
          "index": "mode",
          "strings_obj_displayer": "asdf",
          "strings_string_displayer": "asdf",
          "strings_string_displayer_max_len": "asdf"
         },
         {
          "index": "distinct_count",
          "strings_obj_displayer": 5,
          "strings_string_displayer": 5,
          "strings_string_displayer_max_len": 5
         },
         {
          "index": "type",
          "strings_obj_displayer": "string",
          "strings_string_displayer": "string",
          "strings_string_displayer_max_len": "string"
         },
         {
          "index": "distinct_per",
          "strings_obj_displayer": 1,
          "strings_string_displayer": 1,
          "strings_string_displayer_max_len": 1
         },
         {
          "index": "empty_per",
          "strings_obj_displayer": 0,
          "strings_string_displayer": 0,
          "strings_string_displayer_max_len": 0
         },
         {
          "index": "unique_per",
          "strings_obj_displayer": 1,
          "strings_string_displayer": 1,
          "strings_string_displayer_max_len": 1
         },
         {
          "index": "nan_per",
          "strings_obj_displayer": 0.2,
          "strings_string_displayer": 0.2,
          "strings_string_displayer_max_len": 0.2
         },
         {
          "index": "categorical_histogram",
          "strings_obj_displayer": {
           "A": 0.2,
           "None": 0.2,
           "asdf": 0.2,
           "longtail": -1,
           "qwerty": 0.2,
           "really long string, much  much longer": 0.2,
           "unique": 1
          },
          "strings_string_displayer": {
           "A": 0.2,
           "None": 0.2,
           "asdf": 0.2,
           "longtail": -1,
           "qwerty": 0.2,
           "really long string, much  much longer": 0.2,
           "unique": 1
          },
          "strings_string_displayer_max_len": {
           "A": 0.2,
           "None": 0.2,
           "asdf": 0.2,
           "longtail": -1,
           "qwerty": 0.2,
           "really long string, much  much longer": 0.2,
           "unique": 1
          }
         },
         {
          "index": "histogram",
          "strings_obj_displayer": [
           {
            "cat_pop": 20,
            "name": "asdf"
           },
           {
            "cat_pop": 20,
            "name": "qwerty"
           },
           {
            "cat_pop": 20,
            "name": "really long string, much  much longer"
           },
           {
            "cat_pop": 20,
            "name": null
           },
           {
            "cat_pop": 20,
            "name": "A"
           },
           {
            "name": "unique",
            "unique": 100
           },
           {
            "NA": 20,
            "name": "NA"
           }
          ],
          "strings_string_displayer": [
           {
            "cat_pop": 20,
            "name": "asdf"
           },
           {
            "cat_pop": 20,
            "name": "qwerty"
           },
           {
            "cat_pop": 20,
            "name": "really long string, much  much longer"
           },
           {
            "cat_pop": 20,
            "name": null
           },
           {
            "cat_pop": 20,
            "name": "A"
           },
           {
            "name": "unique",
            "unique": 100
           },
           {
            "NA": 20,
            "name": "NA"
           }
          ],
          "strings_string_displayer_max_len": [
           {
            "cat_pop": 20,
            "name": "asdf"
           },
           {
            "cat_pop": 20,
            "name": "qwerty"
           },
           {
            "cat_pop": 20,
            "name": "really long string, much  much longer"
           },
           {
            "cat_pop": 20,
            "name": null
           },
           {
            "cat_pop": 20,
            "name": "A"
           },
           {
            "name": "unique",
            "unique": 100
           },
           {
            "NA": 20,
            "name": "NA"
           }
          ]
         },
         {
          "index": "histogram_bins",
          "strings_obj_displayer": [
           "faked"
          ],
          "strings_string_displayer": [
           "faked"
          ],
          "strings_string_displayer_max_len": [
           "faked"
          ]
         }
        ],
        "empty": [],
        "main": [
         {
          "index": 0,
          "strings_obj_displayer": "asdf",
          "strings_string_displayer": "asdf",
          "strings_string_displayer_max_len": "asdf"
         },
         {
          "index": 1,
          "strings_obj_displayer": "qwerty",
          "strings_string_displayer": "qwerty",
          "strings_string_displayer_max_len": "qwerty"
         },
         {
          "index": 2,
          "strings_obj_displayer": "really long string, much  much longer",
          "strings_string_displayer": "really long string, much  much longer",
          "strings_string_displayer_max_len": "really long string, much  much longer"
         },
         {
          "index": 3,
          "strings_obj_displayer": null,
          "strings_string_displayer": null,
          "strings_string_displayer_max_len": null
         },
         {
          "index": 4,
          "strings_obj_displayer": "A",
          "strings_string_displayer": "A",
          "strings_string_displayer_max_len": "A"
         }
        ]
       },
       "df_display_args": {
        "main": {
         "data_key": "main",
         "df_viewer_config": {
          "column_config": [
           {
            "col_name": "index",
            "displayer_args": {
             "displayer": "obj"
            }
           },
           {
            "col_name": "strings_obj_displayer",
            "displayer_args": {
             "displayer": "obj"
            }
           },
           {
            "col_name": "strings_string_displayer",
            "displayer_args": {
             "displayer": "string"
            }
           },
           {
            "col_name": "strings_string_displayer_max_len",
            "displayer_args": {
             "displayer": "string",
             "max_length": 15
            }
           }
          ],
          "pinned_rows": [
           {
            "displayer_args": {
             "displayer": "obj"
            },
            "primary_key_val": "dtype"
           },
           {
            "displayer_args": {
             "displayer": "histogram"
            },
            "primary_key_val": "histogram"
           }
          ]
         },
         "summary_stats_key": "all_stats"
        },
        "summary": {
         "data_key": "empty",
         "df_viewer_config": {
          "column_config": [
           {
            "col_name": "index",
            "displayer_args": {
             "displayer": "obj"
            }
           },
           {
            "col_name": "strings_obj_displayer",
            "displayer_args": {
             "displayer": "obj"
            }
           },
           {
            "col_name": "strings_string_displayer",
            "displayer_args": {
             "displayer": "string"
            }
           },
           {
            "col_name": "strings_string_displayer_max_len",
            "displayer_args": {
             "displayer": "string",
             "max_length": 15
            }
           }
          ],
          "pinned_rows": [
           {
            "displayer_args": {
             "displayer": "obj"
            },
            "primary_key_val": "dtype"
           },
           {
            "displayer_args": {
             "displayer": "float",
             "maximumFractionDigits": 3,
             "minimumFractionDigits": 3
            },
            "primary_key_val": "min"
           },
           {
            "displayer_args": {
             "displayer": "float",
             "maximumFractionDigits": 3,
             "minimumFractionDigits": 3
            },
            "primary_key_val": "mean"
           },
           {
            "displayer_args": {
             "displayer": "float",
             "maximumFractionDigits": 3,
             "minimumFractionDigits": 3
            },
            "primary_key_val": "max"
           },
           {
            "displayer_args": {
             "displayer": "float",
             "maximumFractionDigits": 0,
             "minimumFractionDigits": 0
            },
            "primary_key_val": "unique_count"
           },
           {
            "displayer_args": {
             "displayer": "float",
             "maximumFractionDigits": 0,
             "minimumFractionDigits": 0
            },
            "primary_key_val": "distinct_count"
           },
           {
            "displayer_args": {
             "displayer": "float",
             "maximumFractionDigits": 0,
             "minimumFractionDigits": 0
            },
            "primary_key_val": "empty_count"
           }
          ]
         },
         "summary_stats_key": "all_stats"
        }
       },
       "df_meta": {
        "columns": 3,
        "rows_shown": 5,
        "total_rows": 5
       },
       "layout": "IPY_MODEL_cee7908496054c7ab1fdf5ce78e10b95",
       "operation_results": {
        "generated_py_code": "# instantiation, unused",
        "transformed_df": {
         "column_config": [],
         "data": [],
         "pinned_rows": []
        }
       },
       "operations": []
      }
     },
     "e552a1a9610646eea245c49656b8e8bd": {
      "model_module": "@jupyter-widgets/base",
      "model_module_version": "2.0.0",
      "model_name": "LayoutModel",
      "state": {}
     },
     "eb77d3653adf459f8cc9445907929108": {
      "model_module": "buckaroo",
      "model_module_version": "^0.5.1",
      "model_name": "DCEFWidgetModel",
      "state": {
       "_model_module_version": "^0.5.1",
       "_view_module_version": "^0.5.1",
       "_view_name": "DCEFWidgetView",
       "buckaroo_options": {
        "auto_clean": [
         "aggressive",
         "conservative"
        ],
        "df_display": [
         "main"
        ],
        "post_processing": [
         ""
        ],
        "sampled": [
         "random"
        ],
        "show_commands": [
         "on"
        ],
        "summary_stats": [
         "all"
        ]
       },
       "buckaroo_state": {
        "auto_clean": "conservative",
        "df_display": "main",
        "post_processing": "",
        "sampled": false,
        "search_string": "",
        "show_commands": false
       },
       "commandConfig": {
        "argspecs": {
         "dropcol": [
          null
         ],
         "fillna": [
          [
           3,
           "fillVal",
           "type",
           "integer"
          ]
         ],
         "groupby": [
          [
           3,
           "colMap",
           "colEnum",
           [
            "null",
            "sum",
            "mean",
            "median",
            "count"
           ]
          ]
         ],
         "onehot": [
          null
         ],
         "reindex": [
          null
         ],
         "safeint": [
          null
         ],
         "to_bool": [
          null
         ],
         "to_datetime": [
          null
         ],
         "to_float": [
          null
         ],
         "to_int": [
          null
         ],
         "to_string": [
          null
         ]
        },
        "defaultArgs": {
         "dropcol": [
          {
           "symbol": "dropcol"
          },
          {
           "symbol": "df"
          },
          "col"
         ],
         "fillna": [
          {
           "symbol": "fillna"
          },
          {
           "symbol": "df"
          },
          "col",
          8
         ],
         "groupby": [
          {
           "symbol": "groupby"
          },
          {
           "symbol": "df"
          },
          "col",
          {}
         ],
         "onehot": [
          {
           "symbol": "onehot"
          },
          {
           "symbol": "df"
          },
          "col"
         ],
         "reindex": [
          {
           "symbol": "reindex"
          },
          {
           "symbol": "df"
          },
          "col"
         ],
         "safeint": [
          {
           "symbol": "safeint"
          },
          {
           "symbol": "df"
          },
          "col"
         ],
         "to_bool": [
          {
           "symbol": "to_bool"
          },
          {
           "symbol": "df"
          },
          "col"
         ],
         "to_datetime": [
          {
           "symbol": "to_datetime"
          },
          {
           "symbol": "df"
          },
          "col"
         ],
         "to_float": [
          {
           "symbol": "to_float"
          },
          {
           "symbol": "df"
          },
          "col"
         ],
         "to_int": [
          {
           "symbol": "to_int"
          },
          {
           "symbol": "df"
          },
          "col"
         ],
         "to_string": [
          {
           "symbol": "to_string"
          },
          {
           "symbol": "df"
          },
          "col"
         ]
        }
       },
       "df_data_dict": {
        "all_stats": [
         {
          "histogram_props": "object",
          "index": "dtype",
          "names": "object"
         },
         {
          "histogram_props": false,
          "index": "is_numeric",
          "names": false
         },
         {
          "histogram_props": false,
          "index": "is_integer",
          "names": false
         },
         {
          "histogram_props": false,
          "index": "is_datetime",
          "names": false
         },
         {
          "histogram_props": false,
          "index": "is_bool",
          "names": false
         },
         {
          "histogram_props": false,
          "index": "is_float",
          "names": false
         },
         {
          "histogram_props": false,
          "index": "is_string",
          "names": true
         },
         {
          "histogram_props": 172,
          "index": "memory_usage",
          "names": 172
         },
         {
          "histogram_props": "obj",
          "index": "_type",
          "names": "string"
         }
        ],
        "empty": [],
        "main": [
         {
          "histogram_props": "histogram",
          "index": 0,
          "names": "index"
         },
         {
          "histogram_props": [
           {
            "NA": 100,
            "name": "NA"
           }
          ],
          "index": 1,
          "names": "all_NA"
         },
         {
          "histogram_props": [
           {
            "cat_pop": 44,
            "name": 1
           },
           {
            "NA": 56,
            "name": "NA"
           }
          ],
          "index": 2,
          "names": "half_NA"
         },
         {
          "histogram_props": [
           {
            "cat_pop": 0,
            "name": "long_97"
           },
           {
            "cat_pop": 0,
            "name": "long_139"
           },
           {
            "cat_pop": 0,
            "name": "long_12"
           },
           {
            "cat_pop": 0,
            "name": "long_134"
           },
           {
            "cat_pop": 0,
            "name": "long_21"
           },
           {
            "cat_pop": 0,
            "name": "long_44"
           },
           {
            "cat_pop": 0,
            "name": "long_58"
           },
           {
            "longtail": 77,
            "name": "longtail"
           },
           {
            "NA": 20,
            "name": "NA"
           }
          ],
          "index": 3,
          "names": "longtail"
         },
         {
          "histogram_props": [
           {
            "cat_pop": 0,
            "name": "long_113"
           },
           {
            "cat_pop": 0,
            "name": "long_116"
           },
           {
            "cat_pop": 0,
            "name": "long_33"
           },
           {
            "cat_pop": 0,
            "name": "long_72"
           },
           {
            "cat_pop": 0,
            "name": "long_122"
           },
           {
            "cat_pop": 0,
            "name": "long_6"
           },
           {
            "cat_pop": 0,
            "name": "long_83"
           },
           {
            "longtail": 47,
            "name": "longtail",
            "unique": 50
           }
          ],
          "index": 4,
          "names": "longtail_unique"
         }
        ]
       },
       "df_display_args": {
        "main": {
         "data_key": "main",
         "df_viewer_config": {
          "column_config": [
           {
            "col_name": "index",
            "displayer_args": {
             "displayer": "obj"
            }
           },
           {
            "col_name": "names",
            "displayer_args": {
             "displayer": "obj"
            }
           },
           {
            "col_name": "histogram_props",
            "displayer_args": {
             "displayer": "histogram"
            }
           }
          ],
          "pinned_rows": [
           {
            "displayer_args": {
             "displayer": "obj"
            },
            "primary_key_val": "dtype"
           }
          ]
         },
         "summary_stats_key": "all_stats"
        }
       },
       "df_meta": {
        "columns": 2,
        "rows_shown": 5,
        "total_rows": 5
       },
       "layout": "IPY_MODEL_84e71c2811ef4fc7afa39efa477059d3",
       "operation_results": {
        "generated_py_code": "# instantiation, unused",
        "transformed_df": {
         "column_config": [],
         "data": [],
         "pinned_rows": []
        }
       },
       "operations": []
      }
     },
     "fab865498e0548fea3f982546bfbdb52": {
      "model_module": "@jupyter-widgets/base",
      "model_module_version": "2.0.0",
      "model_name": "LayoutModel",
      "state": {}
     }
    },
    "version_major": 2,
    "version_minor": 0
   }
  }
 },
 "nbformat": 4,
 "nbformat_minor": 5
}
