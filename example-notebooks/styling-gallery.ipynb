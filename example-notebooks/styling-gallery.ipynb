{
 "cells": [
  {
   "cell_type": "code",
   "execution_count": 1,
   "id": "99218d54-79db-4c3c-8ca5-373e3c1ed677",
   "metadata": {
    "tags": []
   },
   "outputs": [],
   "source": [
    "import pandas as pd\n",
    "import numpy as np\n",
    "from buckaroo.dataflow.dataflow import StylingAnalysis\n",
    "from buckaroo.pluggable_analysis_framework.pluggable_analysis_framework import ColAnalysis\n",
    "import polars as pl\n",
    "from buckaroo.polars_buckaroo import PolarsBuckarooWidget\n",
    "from buckaroo.customizations.polars_analysis import PlTyping\n",
    "N=500"
   ]
  },
  {
   "cell_type": "code",
   "execution_count": 2,
   "id": "840e09f3-8153-4800-a383-636556af4f32",
   "metadata": {
    "tags": []
   },
   "outputs": [],
   "source": [
    "# This works with polars or pandas, these variables let us quickly swap between the two\n",
    "DataFrame = pl.DataFrame\n",
    "BUCKAROOWidget = PolarsBuckarooWidget\n",
    "NA = pl.Null"
   ]
  },
  {
   "cell_type": "markdown",
   "id": "cf49c5fd-b617-4495-b018-1fadbc90cb4c",
   "metadata": {},
   "source": [
    "This notebook generally follows the order of [DFWhole.ts](https://github.com/paddymul/buckaroo/blob/feat/dfviewer-config/js/components/DFViewerParts/DFWhole.ts)\n",
    "\n",
    "Starting with the simple Displayers\n",
    "```js\n",
    "export interface ObjDisplayerA {\n",
    "  displayer: 'obj';}\n",
    "\n",
    "export interface BooleanDisplayerA {\n",
    "  displayer: 'boolean';}\n",
    "\n",
    "export interface StringDisplayerA {\n",
    "  displayer: 'string';\n",
    "  max_length?: number;} \n",
    "  \n",
    "export interface FloatDisplayerA {\n",
    "  displayer: 'float';\n",
    "  min_fraction_digits: number;\n",
    "  max_fraction_digits: number;}\n",
    "\n",
    "export interface DatetimeDefaultDisplayerA {\n",
    "  displayer: 'datetimeDefault';}\n",
    "export interface IntegerDisplayerA {\n",
    "  displayer: 'integer';\n",
    "  min_digits: number;\n",
    "  max_digits: number;}\n",
    "\n",
    "export interface DatetimeLocaleDisplayerA {\n",
    "  displayer: 'datetimeLocaleString';\n",
    "  locale: 'en-US' | 'en-GB' | 'en-CA' | 'fr-FR' | 'es-ES' | 'de-DE' | 'ja-JP';\n",
    "  // https://developer.mozilla.org/en-US/docs/Web/JavaScript/Reference/Global_Objects/Intl/DateTimeFormat/DateTimeFormat\n",
    "  args: Intl.DateTimeFormatOptions;}\n",
    "```"
   ]
  },
  {
   "cell_type": "code",
   "execution_count": 3,
   "id": "4697fa58-9609-412f-b2d0-48a63fed0c99",
   "metadata": {
    "tags": []
   },
   "outputs": [],
   "source": [
    "#simpler Buckaroo that really shows the styling\n",
    "def obj_(pkey):\n",
    "    return {'primary_key_val': pkey, 'displayer_args': { 'displayer': 'obj' } }\n",
    "\n",
    "class GalleryStyling(StylingAnalysis):\n",
    "    requires_summary = ['dtype']\n",
    "    pinned_rows = [obj_('dtype')]\n",
    "class GalleryBuckaroo(PolarsBuckarooWidget):\n",
    "    analysis_klasses = [GalleryStyling, PlTyping]\n"
   ]
  },
  {
   "cell_type": "code",
   "execution_count": 4,
   "id": "6e84d497-539f-4c62-810f-1cef72f417d2",
   "metadata": {
    "tags": []
   },
   "outputs": [
    {
     "data": {
      "application/vnd.jupyter.widget-view+json": {
       "model_id": "f1de7ec8051b4cdfa908edb2b3f69291",
       "version_major": 2,
       "version_minor": 0
      },
      "text/plain": [
       "GalleryBuckaroo(buckaroo_options={'sampled': ['random'], 'auto_clean': ['aggressive', 'conservative'], 'post_p…"
      ]
     },
     "execution_count": 4,
     "metadata": {},
     "output_type": "execute_result"
    }
   ],
   "source": [
    "obj_df = pl.DataFrame({\n",
    "    'bools':[True, True, False, False, True, None],\n",
    "    'ints': [   5,   20,    30,   -10, 7772, None],\n",
    "    'timestamp':[\"2020-01-01 01:00Z\", \"2020-01-01 02:00Z\", \"2020-02-28 02:00Z\", \"2020-03-15 02:00Z\", None, None],\n",
    "    'dicts': [ {'a':10, 'b':20, 'c':'some string'}, None, None, None, None, None], #polars\n",
    "    'nested_dicts': [{'level_1': {'a':10, 'b':20, 'c':'some string'}}, None, None, None, None, None],\n",
    "    'lists': [['a','b'], [1,2], None, None, None, None],\n",
    "    'lists-string': [['a','b'], ['foo', 'bar'], None, None, None, None],\n",
    "    'lists-int': [[10, 20], [100, 500], [8], None, None, None]}\n",
    ")\n",
    "GalleryBuckaroo(obj_df)"
   ]
  },
  {
   "cell_type": "code",
   "execution_count": null,
   "id": "540dcd65-248d-43a3-b8c3-2db3159d3f8d",
   "metadata": {
    "tags": []
   },
   "outputs": [],
   "source": [
    "obj_df = pl.DataFrame({\n",
    "    'bools':[True, True, False, False, True, None],\n",
    "    'ints': [   5,   20,    30,   -10, 7772, None],\n",
    "    'dicts': [ {'a':10, 'b':20, 'c':'some string'}, None, None, None, None, None], #polars\n",
    "    'nested_dicts': [{'level_1': {'a':10, 'b':20, 'c':'some string'}}, None, None, None, None, None],\n",
    "    #'nested_dicts2': pl.Series([{'level_1': {'a':10, 'b':20, 'c':'some string'}}, None, None, None, None, None], dtype=pl.Object)}\n",
    "    }\n",
    ")\n",
    "GalleryBuckaroo(obj_df)"
   ]
  },
  {
   "cell_type": "code",
   "execution_count": null,
   "id": "5c49dd11-9727-4ac1-829c-bed1a155629b",
   "metadata": {
    "tags": []
   },
   "outputs": [],
   "source": [
    "bool_df = pl.DataFrame({'bools':[True, True, False, False, True, None]})\n",
    "bool_df = bool_df.select(\n",
    "    pl.col('bools').alias('bools_obj_displayer'), \n",
    "    pl.col('bools').alias('bools_boolean_displayer'))\n",
    "#fix         #'bools_bool_checkbox_displayer':  {'displayer_args': {'displayer': 'boolean_checkbox'}\n",
    "PolarsBuckarooWidget(\n",
    "    bool_df, \n",
    "#    column_config_overrides={\n",
    "#        'bools_obj_displayer':  {'displayer_args': {'displayer': 'obj'}},      \n",
    "#        'bools_boolean_displayer': {'displayer_args': {'displayer': 'boolean'}}}\n",
    ")"
   ]
  },
  {
   "cell_type": "code",
   "execution_count": null,
   "id": "18e5adba-49b8-453a-86f7-ce438c61113a",
   "metadata": {
    "tags": []
   },
   "outputs": [],
   "source": [
    "string_df = pl.DataFrame({'strings':[\"asdf\", \"qwerty\", \"really long string, much  much longer\", None,  \"A\"]})\n",
    "string_df = string_df.select(\n",
    "    pl.col('strings').alias('strings_obj_displayer'), \n",
    "    pl.col('strings').alias('strings_string_displayer'),\n",
    "    pl.col('strings').alias('strings_string_displayer_max_len'))\n",
    "PolarsBuckarooWidget(\n",
    "    string_df, \n",
    "    column_config_overrides={\n",
    "        'strings_obj_displayer':  {'displayer_args': {'displayer': 'obj'}},      \n",
    "        'strings_string_displayer': {'displayer_args': {'displayer': 'string'}},\n",
    "        'strings_string_displayer_max_len': {'displayer_args': {'displayer': 'string', 'max_length':15}}\n",
    "    })"
   ]
  },
  {
   "cell_type": "code",
   "execution_count": null,
   "id": "e8cefca2-6db8-4599-b46a-40e7cc45caef",
   "metadata": {},
   "outputs": [],
   "source": [
    "float_df = pl.DataFrame({\n",
    "    'float': [5, -8, 13.23, -8.01, -999.345245234, None]})\n",
    "\n",
    "def float_(min_digits, max_digits):\n",
    "    return {'displayer_args': { 'displayer': 'float', 'min_fraction_digits':min_digits, 'max_fraction_digits': max_digits}}\n",
    "float_df = float_df.select(\n",
    "    pl.col('float').alias('float_obj_displayer'), \n",
    "    pl.col('float').alias('float_float_displayer_1__3'),\n",
    "    pl.col('float').alias('float_float_displayer_0__3'),\n",
    "    pl.col('float').alias('float_float_displayer_3__3'),\n",
    "    pl.col('float').alias('float_float_displayer_3_13'))\n",
    "PolarsBuckarooWidget(\n",
    "    float_df,\n",
    "    column_config_overrides={\n",
    "        'float_obj_displayer':  {'displayer_args': {'displayer': 'obj'}},      \n",
    "        'float_float_displayer_1__3' : float_(1,3),\n",
    "        'float_float_displayer_0__3' : float_(0,3),\n",
    "        'float_float_displayer_3__3' : float_(3,3),\n",
    "        'float_float_displayer_3_13' : float_(3,13)})"
   ]
  },
  {
   "cell_type": "code",
   "execution_count": null,
   "id": "fa1410bf-8540-4daf-8080-ae7d52e70546",
   "metadata": {
    "tags": []
   },
   "outputs": [],
   "source": [
    "from polars import functions as F\n",
    "\n",
    "datetime_df = pl.DataFrame({'timestamp':[\"2020-01-01 01:00Z\", \"2020-01-01 02:00Z\", \"2020-02-28 02:00Z\", \"2020-03-15 02:00Z\", None]})\n",
    "datetime_df = datetime_df.select(\n",
    "    pl.col('timestamp').alias('timestamp_obj_displayer'),\n",
    "    pl.col('timestamp').alias('timestamp_datetime_default_displayer'),\n",
    "    pl.col('timestamp').alias('timestamp_datetime_locale_en-US'),\n",
    "    pl.col('timestamp').alias('timestamp_datetime_locale_en-US-Long'),\n",
    "    pl.col('timestamp').alias('timestamp_datetime_locale_en-GB'))\n",
    "datetime_df = datetime_df.select(F.all().str.to_datetime())\n",
    "def locale(locale, args={}):\n",
    "    return {'displayer_args': {'displayer': 'datetimeLocaleString',\n",
    "                                'locale':locale,\n",
    "                                'args':args}}\n",
    "PolarsBuckarooWidget(datetime_df,\n",
    "    column_config_overrides={\n",
    "        'timestamp_obj_displayer':  {'displayer_args': {'displayer': 'obj'}},    \n",
    "        'timestamp_datetime_default_displayer' : {'displayer_args':  {  'displayer': 'datetimeDefault'}},\n",
    "        'timestamp_datetime_locale_en-US' :locale('en-US'),\n",
    "        'timestamp_datetime_locale_en-US-Long': locale('en-US', { 'weekday': 'long'}),\n",
    "        'timestamp_datetime_locale_en-GB' : locale('en-GB')})"
   ]
  },
  {
   "cell_type": "code",
   "execution_count": null,
   "id": "c943c155-1266-45b3-a790-c98a89e75cf8",
   "metadata": {
    "tags": []
   },
   "outputs": [],
   "source": [
    "link_df = DataFrame({'raw':      ['https://github.com/paddymul/buckaroo', 'https://github.com/pola-rs/polars'],\n",
    "                    'linkify' : ['https://github.com/paddymul/buckaroo', 'https://github.com/pola-rs/polars']})\n",
    "BUCKAROOWidget(link_df,\n",
    "               column_config_overrides={'linkify': {'displayer_args':  {  'displayer': 'linkify'}}})\n",
    "#fixme no underline or blue highlighting of links... but they are links"
   ]
  },
  {
   "cell_type": "code",
   "execution_count": null,
   "id": "06a67f09-191a-40d1-8cf3-2ef240290516",
   "metadata": {
    "tags": []
   },
   "outputs": [],
   "source": [
    "histo_df = pd.DataFrame({\n",
    "    'names': ['index', 'all_NA', 'half_NA', 'longtail', 'longtail_unique'],\n",
    "     'histogram_props': ['histogram',\n",
    "          [{'name': 'NA', 'NA': 100.0}],\n",
    "          [{'name': 1, 'cat_pop': 44.0}, {'name': 'NA', 'NA': 56.0}],\n",
    "          [{'name': 'long_97', 'cat_pop': 0.0},\n",
    "           {'name': 'long_139', 'cat_pop': 0.0},\n",
    "           {'name': 'long_12', 'cat_pop': 0.0},\n",
    "           {'name': 'long_134', 'cat_pop': 0.0},\n",
    "           {'name': 'long_21', 'cat_pop': 0.0},\n",
    "           {'name': 'long_44', 'cat_pop': 0.0},\n",
    "           {'name': 'long_58', 'cat_pop': 0.0},\n",
    "           {'name': 'longtail', 'longtail': 77.0},\n",
    "           {'name': 'NA', 'NA': 20.0}],\n",
    "          [{'name': 'long_113', 'cat_pop': 0.0},\n",
    "           {'name': 'long_116', 'cat_pop': 0.0},\n",
    "           {'name': 'long_33', 'cat_pop': 0.0},\n",
    "           {'name': 'long_72', 'cat_pop': 0.0},\n",
    "           {'name': 'long_122', 'cat_pop': 0.0},\n",
    "           {'name': 'long_6', 'cat_pop': 0.0},\n",
    "           {'name': 'long_83', 'cat_pop': 0.0},\n",
    "           {'name': 'longtail', 'unique': 50.0, 'longtail': 47.0}]]})\n",
    "from buckaroo.customizations.analysis import TypingStats\n",
    "from buckaroo.buckaroo_widget import BuckarooWidget\n",
    "class PdGalleryBuckaroo(BuckarooWidget):\n",
    "    analysis_klasses = [GalleryStyling, TypingStats]\n",
    "PdGalleryBuckaroo(histo_df,\n",
    "                   column_config_overrides={\n",
    "                    'histogram_props': {'displayer_args': {'displayer': 'histogram'}}})\n",
    "#Fixme, this doesn't work with polars right now, probably related to the object dtype problem"
   ]
  },
  {
   "cell_type": "code",
   "execution_count": 5,
   "id": "fd4dd7b5-ed26-42b6-aa20-f9d7211b7e95",
   "metadata": {
    "tags": []
   },
   "outputs": [],
   "source": [
    "png_smiley = 'iVBORw0KGgoAAAANSUhEUgAAABgAAAAYCAYAAADgdz34AAAABHNCSVQICAgIfAhkiAAAAAlwSFlzAAAApgAAAKYB3X3/OAAAABl0RVh0U29mdHdhcmUAd3d3Lmlua3NjYXBlLm9yZ5vuPBoAAANCSURBVEiJtZZPbBtFFMZ/M7ubXdtdb1xSFyeilBapySVU8h8OoFaooFSqiihIVIpQBKci6KEg9Q6H9kovIHoCIVQJJCKE1ENFjnAgcaSGC6rEnxBwA04Tx43t2FnvDAfjkNibxgHxnWb2e/u992bee7tCa00YFsffekFY+nUzFtjW0LrvjRXrCDIAaPLlW0nHL0SsZtVoaF98mLrx3pdhOqLtYPHChahZcYYO7KvPFxvRl5XPp1sN3adWiD1ZAqD6XYK1b/dvE5IWryTt2udLFedwc1+9kLp+vbbpoDh+6TklxBeAi9TL0taeWpdmZzQDry0AcO+jQ12RyohqqoYoo8RDwJrU+qXkjWtfi8Xxt58BdQuwQs9qC/afLwCw8tnQbqYAPsgxE1S6F3EAIXux2oQFKm0ihMsOF71dHYx+f3NND68ghCu1YIoePPQN1pGRABkJ6Bus96CutRZMydTl+TvuiRW1m3n0eDl0vRPcEysqdXn+jsQPsrHMquGeXEaY4Yk4wxWcY5V/9scqOMOVUFthatyTy8QyqwZ+kDURKoMWxNKr2EeqVKcTNOajqKoBgOE28U4tdQl5p5bwCw7BWquaZSzAPlwjlithJtp3pTImSqQRrb2Z8PHGigD4RZuNX6JYj6wj7O4TFLbCO/Mn/m8R+h6rYSUb3ekokRY6f/YukArN979jcW+V/S8g0eT/N3VN3kTqWbQ428m9/8k0P/1aIhF36PccEl6EhOcAUCrXKZXXWS3XKd2vc/TRBG9O5ELC17MmWubD2nKhUKZa26Ba2+D3P+4/MNCFwg59oWVeYhkzgN/JDR8deKBoD7Y+ljEjGZ0sosXVTvbc6RHirr2reNy1OXd6pJsQ+gqjk8VWFYmHrwBzW/n+uMPFiRwHB2I7ih8ciHFxIkd/3Omk5tCDV1t+2nNu5sxxpDFNx+huNhVT3/zMDz8usXC3ddaHBj1GHj/As08fwTS7Kt1HBTmyN29vdwAw+/wbwLVOJ3uAD1wi/dUH7Qei66PfyuRj4Ik9is+hglfbkbfR3cnZm7chlUWLdwmprtCohX4HUtlOcQjLYCu+fzGJH2QRKvP3UNz8bWk1qMxjGTOMThZ3kvgLI5AzFfo379UAAAAASUVORK5CYII=';"
   ]
  },
  {
   "cell_type": "code",
   "execution_count": 6,
   "id": "0f6231ea-a570-40d7-ab9d-86e8ce08c5a9",
   "metadata": {
    "tags": []
   },
   "outputs": [
    {
     "data": {
      "application/vnd.jupyter.widget-view+json": {
       "model_id": "65cbba804f404b3fa5ed81c9e3bc877d",
       "version_major": 2,
       "version_minor": 0
      },
      "text/plain": [
       "PolarsBuckarooWidget(buckaroo_options={'sampled': ['random'], 'auto_clean': ['aggressive', 'conservative'], 'p…"
      ]
     },
     "execution_count": 6,
     "metadata": {},
     "output_type": "execute_result"
    }
   ],
   "source": [
    "img_df = DataFrame({'raw':            [png_smiley, None],\n",
    "                    'img_displayer' : [png_smiley, None]})\n",
    "BUCKAROOWidget(img_df,\n",
    "               column_config_overrides={\n",
    "                   'raw':           {'displayer_args': {'displayer': 'string', 'max_length':40}},\n",
    "                   'img_displayer': {'displayer_args': {'displayer': 'Base64PNGImageDisplayer'}, 'ag_grid_specs' : {'width':150}}})"
   ]
  },
  {
   "cell_type": "markdown",
   "id": "c8d2accd-4732-43ff-b92a-d827b330b538",
   "metadata": {},
   "source": [
    "# Tooltips"
   ]
  },
  {
   "cell_type": "code",
   "execution_count": null,
   "id": "344ce005-1c0d-4ee6-8ef3-95c2cde977ac",
   "metadata": {
    "tags": []
   },
   "outputs": [],
   "source": [
    "ROWS = 200\n",
    "typed_df = pl.DataFrame({'int_col':np.random.randint(1,50, ROWS), 'float_col': np.random.randint(1,30, ROWS)/.7,\n",
    "                         \"str_col\": [\"foobar\"]* ROWS})\n",
    "PolarsBuckarooWidget(\n",
    "    typed_df, \n",
    "    column_config_overrides={\n",
    "        'str_col':\n",
    "            {'tooltip_config': { 'tooltip_type':'simple', 'val_column': 'int_col'}}})"
   ]
  },
  {
   "cell_type": "markdown",
   "id": "f7a91713-b95d-4546-a5ad-0be964f4b2df",
   "metadata": {},
   "source": [
    "# Color_map_config\n",
    "```ts\n",
    "//ColorMapRules\n",
    "export interface ColorMapRules {\n",
    "  color_rule: 'color_map';\n",
    "  map_name: 'BLUE_TO_YELLOW' | 'DIVERGING_RED_WHITE_BLUE';\n",
    "  //optional, the column to base the ranges on.  the proper histogram_bins must still be sent in for that column\n",
    "  val_column?: string;\n",
    "}\n",
    "\n",
    "//if exist_column is not null,  set cell style to condtional_color... used for highlighting changed values or errored_rows\n",
    "export interface ColorWhenNotNullRules {\n",
    "  color_rule: 'color_not_null';\n",
    "  conditional_color: string | 'red';\n",
    "  exist_column: string;\n",
    "}\n",
    "\n",
    "export interface ColorFromColumn {\n",
    "  color_rule: 'color_from_column';\n",
    "  col_name: string;\n",
    "}\n",
    "```"
   ]
  },
  {
   "cell_type": "code",
   "execution_count": null,
   "id": "3dbf1c45-7725-4cd7-8008-da3085f55667",
   "metadata": {
    "tags": []
   },
   "outputs": [],
   "source": [
    "PolarsBuckarooWidget(\n",
    "    typed_df, \n",
    "    column_config_overrides={\n",
    "        'float_col': {'color_map_config': {\n",
    "          'color_rule': 'color_map',\n",
    "          'map_name': 'BLUE_TO_YELLOW',\n",
    "        }}})"
   ]
  },
  {
   "cell_type": "code",
   "execution_count": null,
   "id": "a43ecbfb-ae8d-428f-9cb5-29eb53afa076",
   "metadata": {
    "tags": []
   },
   "outputs": [],
   "source": [
    "error_df = pl.DataFrame({\n",
    "    'a': [10, 20, 30],\n",
    "    'err_messages': [None, \"a must be less than 19, it is 20\", \"a must be less than 19, it is 30\"]})\n",
    "\n",
    "PolarsBuckarooWidget(\n",
    "    error_df, \n",
    "    column_config_overrides={\n",
    "        'a': {'color_map_config': {\n",
    "            'color_rule': 'color_not_null',\n",
    "            'conditional_color': 'red',\n",
    "            'exist_column': 'err_messages'}}})"
   ]
  },
  {
   "cell_type": "code",
   "execution_count": null,
   "id": "0bc7cef8-1f93-4415-a420-c9aa44fd583e",
   "metadata": {
    "tags": []
   },
   "outputs": [],
   "source": [
    "color_df = pl.DataFrame({\n",
    "    'a': [10, 20, 30],\n",
    "    'a_colors': ['red', '#d3a', 'green']})\n",
    "\n",
    "PolarsBuckarooWidget(\n",
    "    color_df, \n",
    "    column_config_overrides={\n",
    "        'a': { 'color_map_config': {\n",
    "          'color_rule': 'color_from_column',\n",
    "          'col_name': 'a_colors'}}})"
   ]
  },
  {
   "cell_type": "markdown",
   "id": "1768186c-14fc-49fa-8e03-e8f454411d5b",
   "metadata": {},
   "source": [
    "Extra col def type\n",
    "\n",
    "`ag_grid_specs`\n",
    "only to be used for very specific hacking.  You can set any primitive property, but can't set function props\n",
    "https://github.com/ag-grid/ag-grid/blob/3cce76f1f2fd7142126f659fdc1dc3f0b7bc6191/grid-community-modules/core/src/ts/entities/colDef.ts#L4\n",
    "\n",
    "latest\n",
    "https://github.com/ag-grid/ag-grid/blob/latest/grid-community-modules/core/src/ts/entities/colDef.ts"
   ]
  },
  {
   "cell_type": "markdown",
   "id": "2ebaa204-9a32-47d0-9d87-14d9755a738b",
   "metadata": {},
   "source": [
    "# Utility Code"
   ]
  },
  {
   "cell_type": "code",
   "execution_count": null,
   "id": "3fd31184-6197-4d13-a319-aaefee224745",
   "metadata": {
    "tags": []
   },
   "outputs": [],
   "source": [
    "#utility code for generating histogram data structures\n",
    "from buckaroo.buckaroo_widget import BuckarooWidget\n",
    "\n",
    "NA = pd.NA\n",
    "def rand_cat(named_p, na_per, N):\n",
    "    choices, p = [], []\n",
    "    named_total_per = sum(named_p.values()) + na_per\n",
    "    total_len = int(np.floor(named_total_per * N))\n",
    "    if named_total_per > 0:\n",
    "        for k, v in named_p.items():\n",
    "            choices.append(k)\n",
    "            p.append(v/named_total_per)\n",
    "\n",
    "        choices.append(NA)\n",
    "        p.append(na_per/named_total_per)    \n",
    "        return [np.random.choice(choices, p=p) for k in range(total_len)]\n",
    "    else:\n",
    "        return []\n",
    "\n",
    "def random_categorical(named_p, unique_per, na_per, longtail_per, N):\n",
    "    choice_arr = rand_cat(named_p, na_per, N)\n",
    "    discrete_choice_len = len(choice_arr)\n",
    "\n",
    "    longtail_count = int(np.floor(longtail_per * N))//2\n",
    "    extra_arr = []\n",
    "    for i in range(longtail_count):\n",
    "        extra_arr.append(\"long_%d\" % i)\n",
    "        extra_arr.append(\"long_%d\" % i)\n",
    "\n",
    "    unique_len = N - (len(extra_arr) + discrete_choice_len)\n",
    "    #print(\"discrete_choice_len\", discrete_choice_len, \"longtail_count\", longtail_count, \"unique_len\", unique_len)\n",
    "    for i in range(unique_len):\n",
    "        extra_arr.append(\"unique_%d\" % i)\n",
    "    all_arr = np.concatenate([choice_arr, extra_arr])\n",
    "    np.random.shuffle(all_arr)\n",
    "    return all_arr        \n",
    "cat_histo_df = pd.DataFrame({\n",
    "    'all_NA' :          [NA] * N,\n",
    "    'half_NA' :         random_categorical({1: .5}, unique_per=0,   na_per=.5, longtail_per=.0, N=N),\n",
    "    'longtail' :        random_categorical({},      unique_per=0,   na_per=.2, longtail_per=.8, N=N),\n",
    "    'longtail_unique' : random_categorical({},      unique_per=0.5, na_per=.0, longtail_per=.5, N=N),\n",
    "})\n",
    "bw = BuckarooWidget(\n",
    "    cat_histo_df, \n",
    "    pinned_rows=[\n",
    "        { 'primary_key_val': 'dtype',     'displayer_args': { 'displayer': 'obj' } },\n",
    "        { 'primary_key_val': 'histogram', 'displayer_args': { 'displayer': 'histogram' }},   \n",
    "    ])\n",
    "histogram_vals = [x for x in bw.df_data_dict['all_stats'] if x['index'] == 'histogram'][0]\n",
    "def format_histo(bw):\n",
    "    histogram_vals = [x for x in bw.df_data_dict['all_stats'] if x['index'] == 'histogram'][0]\n",
    "    return dict(\n",
    "        names = list(histogram_vals.keys()),\n",
    "        histogram_props = list(histogram_vals.values()))\n",
    "format_histo(bw)"
   ]
  },
  {
   "cell_type": "code",
   "execution_count": null,
   "id": "9eee93ff-49c2-41ca-b402-5378afa04ab8",
   "metadata": {
    "tags": []
   },
   "outputs": [],
   "source": [
    "from buckaroo.customizations.analysis import TypingStats\n",
    "from buckaroo.buckaroo_widget import BuckarooWidget\n",
    "class PdGalleryBuckaroo(BuckarooWidget):\n",
    "    analysis_klasses = [GalleryStyling, TypingStats]\n",
    "\n",
    "class PdGalleryBuckaroo(BuckarooWidget):\n",
    "    analysis_klasses = [GalleryStyling, TypingStats]\n",
    "\n"
   ]
  },
  {
   "cell_type": "code",
   "execution_count": null,
   "id": "df395ef4-2f33-49d5-a380-6cead5926566",
   "metadata": {
    "tags": []
   },
   "outputs": [],
   "source": [
    "pd_histo = pd.DataFrame(format_histo(bw))\n",
    "col_dict = dict(pd_histo.to_numpy().tolist()[1:])\n",
    "pl_histo = pl.DataFrame(dict([(k, [v]) for k,v in col_dict.items()]))\n",
    "PolarsBuckarooWidget(pl_histo)\n",
    "GalleryBuckaroo(pl_histo,\n",
    "                                   column_config_overrides={\n",
    "                    'histogram_props': {'displayer_args': {'displayer': 'histogram'}}})"
   ]
  },
  {
   "cell_type": "code",
   "execution_count": null,
   "id": "8a8b8b12-d094-4dcc-9152-1b00e77fb182",
   "metadata": {
    "tags": []
   },
   "outputs": [],
   "source": [
    "pl_gb = GalleryBuckaroo(pl.DataFrame(format_histo(bw)))\n",
    "pd_gb = PdGalleryBuckaroo(pd.DataFrame(format_histo(bw)))\n",
    "pd_gb.df_data_dict['main']"
   ]
  },
  {
   "cell_type": "code",
   "execution_count": null,
   "id": "440fb9fe-96b5-49c2-a341-41583b8fc0c6",
   "metadata": {
    "tags": []
   },
   "outputs": [],
   "source": [
    "pl_gb.df_data_dict['main']"
   ]
  },
  {
   "cell_type": "code",
   "execution_count": null,
   "id": "a10fe4bf-4522-41b5-b634-736cf5280cf5",
   "metadata": {
    "tags": []
   },
   "outputs": [],
   "source": [
    "from buckaroo.customizations.analysis import TypingStats\n",
    "from buckaroo.buckaroo_widget import BuckarooWidget\n",
    "class PdGalleryBuckaroo(BuckarooWidget):\n",
    "    analysis_klasses = [GalleryStyling, TypingStats]\n",
    "PdGalleryBuckaroo(pd.DataFrame(format_histo(bw)),\n",
    "                   column_config_overrides={\n",
    "                    'histogram_props': {'displayer_args': {'displayer': 'histogram'}}})"
   ]
  },
  {
   "cell_type": "code",
   "execution_count": null,
   "id": "57adf339-87aa-4e34-a2ab-ad02846a871c",
   "metadata": {},
   "outputs": [],
   "source": []
  },
  {
   "cell_type": "code",
   "execution_count": null,
   "id": "8e80393b-fa65-4c1b-89df-7345c4206b60",
   "metadata": {},
   "outputs": [],
   "source": []
  }
 ],
 "metadata": {
  "kernelspec": {
   "display_name": "Python 3 (ipykernel)",
   "language": "python",
   "name": "python3"
  },
  "language_info": {
   "codemirror_mode": {
    "name": "ipython",
    "version": 3
   },
   "file_extension": ".py",
   "mimetype": "text/x-python",
   "name": "python",
   "nbconvert_exporter": "python",
   "pygments_lexer": "ipython3",
   "version": "3.11.7"
  },
  "widgets": {
   "application/vnd.jupyter.widget-state+json": {
    "state": {
     "65cbba804f404b3fa5ed81c9e3bc877d": {
      "model_module": "buckaroo",
      "model_module_version": "^0.6.2",
      "model_name": "DCEFWidgetModel",
      "state": {
       "_model_module_version": "^0.6.2",
       "_view_module_version": "^0.6.2",
       "_view_name": "DCEFWidgetView",
       "buckaroo_options": {
        "auto_clean": [
         "aggressive",
         "conservative"
        ],
        "df_display": [
         "summary",
         "main"
        ],
        "post_processing": [
         ""
        ],
        "sampled": [
         "random"
        ],
        "show_commands": [
         "on"
        ],
        "summary_stats": [
         "all"
        ]
       },
       "buckaroo_state": {
        "auto_clean": "conservative",
        "df_display": "main",
        "post_processing": "",
        "sampled": false,
        "search_string": "",
        "show_commands": false
       },
       "commandConfig": {},
       "df_data_dict": {
        "all_stats": [
         {
          "img_displayer": "shape: (2,)\nSeries: '' [struct[2]]\n[\n\t{\"iVBORw0KGgoAAAANSUhEUgAAABgAAAAYCAYAAADgdz34AAAABHNCSVQICAgIfAhkiAAAAAlwSFlzAAAApgAAAKYB3X3/OAAAABl0RVh0U29mdHdhcmUAd3d3Lmlua3NjYXBlLm9yZ5vuPBoAAANCSURBVEiJtZZPbBtFFMZ/M7ubXdtdb1xSFyeilBapySVU8h8OoFaooFSqiihIVIpQBKci6KEg9Q6H9kovIHoCIVQJJCKE1ENFjnAgcaSGC6rEnxBwA04Tx43t2FnvDAfjkNibxgHxnWb2e/u992bee7tCa00YFsffekFY+nUzFtjW0LrvjRXrCDIAaPLlW0nHL0SsZtVoaF98mLrx3pdhOqLtYPHChahZcYYO7KvPFxvRl5XPp1sN3adWiD1ZAqD6XYK1b/dvE5IWryTt2udLFedwc1+9kLp+vbbpoDh+6TklxBeAi9TL0taeWpdmZzQDry0AcO+jQ12RyohqqoYoo8RDwJrU+qXkjWtfi8Xxt58BdQuwQs9qC/afLwCw8tnQbqYAPsgxE1S6F3EAIXux2oQFKm0ihMsOF71dHYx+f3NND68ghCu1YIoePPQN1pGRABkJ6Bus96CutRZMydTl+TvuiRW1m3n0eDl0vRPcEysqdXn+jsQPsrHMquGeXEaY4Yk4wxWcY5V/9scqOMOVUFthatyTy8QyqwZ+kDURKoMWxNKr2EeqVKcTNOajqKoBgOE28U4tdQl5p5bwCw7BWquaZSzAPlwjlithJtp3pTImSqQRrb2Z8PHGigD4RZuNX6JYj6wj7O4TFLbCO/Mn/m8R+h6rYSUb3ekokRY6f/YukArN979jcW+V/S8g0eT/N3VN3kTqWbQ428m9/8k0P/1aIhF36PccEl6EhOcAUCrXKZXXWS3XKd2vc/TRBG9O5ELC17MmWubD2nKhUKZa26Ba2+D3P+4/MNCFwg59oWVeYhkzgN/JDR8deKBoD7Y+ljEjGZ0sosXVTvbc6RHirr2reNy1OXd6pJsQ+gqjk8VWFYmHrwBzW/n+uMPFiRwHB2I7ih8ciHFxIkd/3Omk5tCDV1t+2nNu5sxxpDFNx+huNhVT3/zMDz8usXC3ddaHBj1GHj/As08fwTS7Kt1HBTmyN29vdwAw+/wbwLVOJ3uAD1wi/dUH7Qei66PfyuRj4Ik9is+hglfbkbfR3cnZm7chlUWLdwmprtCohX4HUtlOcQjLYCu+fzGJH2QRKvP3UNz8bWk1qMxjGTOMThZ3kvgLI5AzFfo379UAAAAASUVORK5CYII=\",1}\n\t{null,1}\n]",
          "index": "value_counts",
          "raw": "shape: (2,)\nSeries: '' [struct[2]]\n[\n\t{\"iVBORw0KGgoAAAANSUhEUgAAABgAAAAYCAYAAADgdz34AAAABHNCSVQICAgIfAhkiAAAAAlwSFlzAAAApgAAAKYB3X3/OAAAABl0RVh0U29mdHdhcmUAd3d3Lmlua3NjYXBlLm9yZ5vuPBoAAANCSURBVEiJtZZPbBtFFMZ/M7ubXdtdb1xSFyeilBapySVU8h8OoFaooFSqiihIVIpQBKci6KEg9Q6H9kovIHoCIVQJJCKE1ENFjnAgcaSGC6rEnxBwA04Tx43t2FnvDAfjkNibxgHxnWb2e/u992bee7tCa00YFsffekFY+nUzFtjW0LrvjRXrCDIAaPLlW0nHL0SsZtVoaF98mLrx3pdhOqLtYPHChahZcYYO7KvPFxvRl5XPp1sN3adWiD1ZAqD6XYK1b/dvE5IWryTt2udLFedwc1+9kLp+vbbpoDh+6TklxBeAi9TL0taeWpdmZzQDry0AcO+jQ12RyohqqoYoo8RDwJrU+qXkjWtfi8Xxt58BdQuwQs9qC/afLwCw8tnQbqYAPsgxE1S6F3EAIXux2oQFKm0ihMsOF71dHYx+f3NND68ghCu1YIoePPQN1pGRABkJ6Bus96CutRZMydTl+TvuiRW1m3n0eDl0vRPcEysqdXn+jsQPsrHMquGeXEaY4Yk4wxWcY5V/9scqOMOVUFthatyTy8QyqwZ+kDURKoMWxNKr2EeqVKcTNOajqKoBgOE28U4tdQl5p5bwCw7BWquaZSzAPlwjlithJtp3pTImSqQRrb2Z8PHGigD4RZuNX6JYj6wj7O4TFLbCO/Mn/m8R+h6rYSUb3ekokRY6f/YukArN979jcW+V/S8g0eT/N3VN3kTqWbQ428m9/8k0P/1aIhF36PccEl6EhOcAUCrXKZXXWS3XKd2vc/TRBG9O5ELC17MmWubD2nKhUKZa26Ba2+D3P+4/MNCFwg59oWVeYhkzgN/JDR8deKBoD7Y+ljEjGZ0sosXVTvbc6RHirr2reNy1OXd6pJsQ+gqjk8VWFYmHrwBzW/n+uMPFiRwHB2I7ih8ciHFxIkd/3Omk5tCDV1t+2nNu5sxxpDFNx+huNhVT3/zMDz8usXC3ddaHBj1GHj/As08fwTS7Kt1HBTmyN29vdwAw+/wbwLVOJ3uAD1wi/dUH7Qei66PfyuRj4Ik9is+hglfbkbfR3cnZm7chlUWLdwmprtCohX4HUtlOcQjLYCu+fzGJH2QRKvP3UNz8bWk1qMxjGTOMThZ3kvgLI5AzFfo379UAAAAASUVORK5CYII=\",1}\n\t{null,1}\n]"
         },
         {
          "img_displayer": "String",
          "index": "dtype",
          "raw": "String"
         },
         {
          "img_displayer": "string",
          "index": "_type",
          "raw": "string"
         },
         {
          "img_displayer": false,
          "index": "is_numeric",
          "raw": false
         },
         {
          "img_displayer": false,
          "index": "is_integer",
          "raw": false
         },
         {
          "img_displayer": 2,
          "index": "length",
          "raw": 2
         },
         {
          "img_displayer": 1,
          "index": "nan_count",
          "raw": 1
         },
         {
          "img_displayer": "iVBORw0KGgoAAAANSUhEUgAAABgAAAAYCAYAAADgdz34AAAABHNCSVQICAgIfAhkiAAAAAlwSFlzAAAApgAAAKYB3X3/OAAAABl0RVh0U29mdHdhcmUAd3d3Lmlua3NjYXBlLm9yZ5vuPBoAAANCSURBVEiJtZZPbBtFFMZ/M7ubXdtdb1xSFyeilBapySVU8h8OoFaooFSqiihIVIpQBKci6KEg9Q6H9kovIHoCIVQJJCKE1ENFjnAgcaSGC6rEnxBwA04Tx43t2FnvDAfjkNibxgHxnWb2e/u992bee7tCa00YFsffekFY+nUzFtjW0LrvjRXrCDIAaPLlW0nHL0SsZtVoaF98mLrx3pdhOqLtYPHChahZcYYO7KvPFxvRl5XPp1sN3adWiD1ZAqD6XYK1b/dvE5IWryTt2udLFedwc1+9kLp+vbbpoDh+6TklxBeAi9TL0taeWpdmZzQDry0AcO+jQ12RyohqqoYoo8RDwJrU+qXkjWtfi8Xxt58BdQuwQs9qC/afLwCw8tnQbqYAPsgxE1S6F3EAIXux2oQFKm0ihMsOF71dHYx+f3NND68ghCu1YIoePPQN1pGRABkJ6Bus96CutRZMydTl+TvuiRW1m3n0eDl0vRPcEysqdXn+jsQPsrHMquGeXEaY4Yk4wxWcY5V/9scqOMOVUFthatyTy8QyqwZ+kDURKoMWxNKr2EeqVKcTNOajqKoBgOE28U4tdQl5p5bwCw7BWquaZSzAPlwjlithJtp3pTImSqQRrb2Z8PHGigD4RZuNX6JYj6wj7O4TFLbCO/Mn/m8R+h6rYSUb3ekokRY6f/YukArN979jcW+V/S8g0eT/N3VN3kTqWbQ428m9/8k0P/1aIhF36PccEl6EhOcAUCrXKZXXWS3XKd2vc/TRBG9O5ELC17MmWubD2nKhUKZa26Ba2+D3P+4/MNCFwg59oWVeYhkzgN/JDR8deKBoD7Y+ljEjGZ0sosXVTvbc6RHirr2reNy1OXd6pJsQ+gqjk8VWFYmHrwBzW/n+uMPFiRwHB2I7ih8ciHFxIkd/3Omk5tCDV1t+2nNu5sxxpDFNx+huNhVT3/zMDz8usXC3ddaHBj1GHj/As08fwTS7Kt1HBTmyN29vdwAw+/wbwLVOJ3uAD1wi/dUH7Qei66PfyuRj4Ik9is+hglfbkbfR3cnZm7chlUWLdwmprtCohX4HUtlOcQjLYCu+fzGJH2QRKvP3UNz8bWk1qMxjGTOMThZ3kvgLI5AzFfo379UAAAAASUVORK5CYII=",
          "index": "min",
          "raw": "iVBORw0KGgoAAAANSUhEUgAAABgAAAAYCAYAAADgdz34AAAABHNCSVQICAgIfAhkiAAAAAlwSFlzAAAApgAAAKYB3X3/OAAAABl0RVh0U29mdHdhcmUAd3d3Lmlua3NjYXBlLm9yZ5vuPBoAAANCSURBVEiJtZZPbBtFFMZ/M7ubXdtdb1xSFyeilBapySVU8h8OoFaooFSqiihIVIpQBKci6KEg9Q6H9kovIHoCIVQJJCKE1ENFjnAgcaSGC6rEnxBwA04Tx43t2FnvDAfjkNibxgHxnWb2e/u992bee7tCa00YFsffekFY+nUzFtjW0LrvjRXrCDIAaPLlW0nHL0SsZtVoaF98mLrx3pdhOqLtYPHChahZcYYO7KvPFxvRl5XPp1sN3adWiD1ZAqD6XYK1b/dvE5IWryTt2udLFedwc1+9kLp+vbbpoDh+6TklxBeAi9TL0taeWpdmZzQDry0AcO+jQ12RyohqqoYoo8RDwJrU+qXkjWtfi8Xxt58BdQuwQs9qC/afLwCw8tnQbqYAPsgxE1S6F3EAIXux2oQFKm0ihMsOF71dHYx+f3NND68ghCu1YIoePPQN1pGRABkJ6Bus96CutRZMydTl+TvuiRW1m3n0eDl0vRPcEysqdXn+jsQPsrHMquGeXEaY4Yk4wxWcY5V/9scqOMOVUFthatyTy8QyqwZ+kDURKoMWxNKr2EeqVKcTNOajqKoBgOE28U4tdQl5p5bwCw7BWquaZSzAPlwjlithJtp3pTImSqQRrb2Z8PHGigD4RZuNX6JYj6wj7O4TFLbCO/Mn/m8R+h6rYSUb3ekokRY6f/YukArN979jcW+V/S8g0eT/N3VN3kTqWbQ428m9/8k0P/1aIhF36PccEl6EhOcAUCrXKZXXWS3XKd2vc/TRBG9O5ELC17MmWubD2nKhUKZa26Ba2+D3P+4/MNCFwg59oWVeYhkzgN/JDR8deKBoD7Y+ljEjGZ0sosXVTvbc6RHirr2reNy1OXd6pJsQ+gqjk8VWFYmHrwBzW/n+uMPFiRwHB2I7ih8ciHFxIkd/3Omk5tCDV1t+2nNu5sxxpDFNx+huNhVT3/zMDz8usXC3ddaHBj1GHj/As08fwTS7Kt1HBTmyN29vdwAw+/wbwLVOJ3uAD1wi/dUH7Qei66PfyuRj4Ik9is+hglfbkbfR3cnZm7chlUWLdwmprtCohX4HUtlOcQjLYCu+fzGJH2QRKvP3UNz8bWk1qMxjGTOMThZ3kvgLI5AzFfo379UAAAAASUVORK5CYII="
         },
         {
          "img_displayer": "iVBORw0KGgoAAAANSUhEUgAAABgAAAAYCAYAAADgdz34AAAABHNCSVQICAgIfAhkiAAAAAlwSFlzAAAApgAAAKYB3X3/OAAAABl0RVh0U29mdHdhcmUAd3d3Lmlua3NjYXBlLm9yZ5vuPBoAAANCSURBVEiJtZZPbBtFFMZ/M7ubXdtdb1xSFyeilBapySVU8h8OoFaooFSqiihIVIpQBKci6KEg9Q6H9kovIHoCIVQJJCKE1ENFjnAgcaSGC6rEnxBwA04Tx43t2FnvDAfjkNibxgHxnWb2e/u992bee7tCa00YFsffekFY+nUzFtjW0LrvjRXrCDIAaPLlW0nHL0SsZtVoaF98mLrx3pdhOqLtYPHChahZcYYO7KvPFxvRl5XPp1sN3adWiD1ZAqD6XYK1b/dvE5IWryTt2udLFedwc1+9kLp+vbbpoDh+6TklxBeAi9TL0taeWpdmZzQDry0AcO+jQ12RyohqqoYoo8RDwJrU+qXkjWtfi8Xxt58BdQuwQs9qC/afLwCw8tnQbqYAPsgxE1S6F3EAIXux2oQFKm0ihMsOF71dHYx+f3NND68ghCu1YIoePPQN1pGRABkJ6Bus96CutRZMydTl+TvuiRW1m3n0eDl0vRPcEysqdXn+jsQPsrHMquGeXEaY4Yk4wxWcY5V/9scqOMOVUFthatyTy8QyqwZ+kDURKoMWxNKr2EeqVKcTNOajqKoBgOE28U4tdQl5p5bwCw7BWquaZSzAPlwjlithJtp3pTImSqQRrb2Z8PHGigD4RZuNX6JYj6wj7O4TFLbCO/Mn/m8R+h6rYSUb3ekokRY6f/YukArN979jcW+V/S8g0eT/N3VN3kTqWbQ428m9/8k0P/1aIhF36PccEl6EhOcAUCrXKZXXWS3XKd2vc/TRBG9O5ELC17MmWubD2nKhUKZa26Ba2+D3P+4/MNCFwg59oWVeYhkzgN/JDR8deKBoD7Y+ljEjGZ0sosXVTvbc6RHirr2reNy1OXd6pJsQ+gqjk8VWFYmHrwBzW/n+uMPFiRwHB2I7ih8ciHFxIkd/3Omk5tCDV1t+2nNu5sxxpDFNx+huNhVT3/zMDz8usXC3ddaHBj1GHj/As08fwTS7Kt1HBTmyN29vdwAw+/wbwLVOJ3uAD1wi/dUH7Qei66PfyuRj4Ik9is+hglfbkbfR3cnZm7chlUWLdwmprtCohX4HUtlOcQjLYCu+fzGJH2QRKvP3UNz8bWk1qMxjGTOMThZ3kvgLI5AzFfo379UAAAAASUVORK5CYII=",
          "index": "max",
          "raw": "iVBORw0KGgoAAAANSUhEUgAAABgAAAAYCAYAAADgdz34AAAABHNCSVQICAgIfAhkiAAAAAlwSFlzAAAApgAAAKYB3X3/OAAAABl0RVh0U29mdHdhcmUAd3d3Lmlua3NjYXBlLm9yZ5vuPBoAAANCSURBVEiJtZZPbBtFFMZ/M7ubXdtdb1xSFyeilBapySVU8h8OoFaooFSqiihIVIpQBKci6KEg9Q6H9kovIHoCIVQJJCKE1ENFjnAgcaSGC6rEnxBwA04Tx43t2FnvDAfjkNibxgHxnWb2e/u992bee7tCa00YFsffekFY+nUzFtjW0LrvjRXrCDIAaPLlW0nHL0SsZtVoaF98mLrx3pdhOqLtYPHChahZcYYO7KvPFxvRl5XPp1sN3adWiD1ZAqD6XYK1b/dvE5IWryTt2udLFedwc1+9kLp+vbbpoDh+6TklxBeAi9TL0taeWpdmZzQDry0AcO+jQ12RyohqqoYoo8RDwJrU+qXkjWtfi8Xxt58BdQuwQs9qC/afLwCw8tnQbqYAPsgxE1S6F3EAIXux2oQFKm0ihMsOF71dHYx+f3NND68ghCu1YIoePPQN1pGRABkJ6Bus96CutRZMydTl+TvuiRW1m3n0eDl0vRPcEysqdXn+jsQPsrHMquGeXEaY4Yk4wxWcY5V/9scqOMOVUFthatyTy8QyqwZ+kDURKoMWxNKr2EeqVKcTNOajqKoBgOE28U4tdQl5p5bwCw7BWquaZSzAPlwjlithJtp3pTImSqQRrb2Z8PHGigD4RZuNX6JYj6wj7O4TFLbCO/Mn/m8R+h6rYSUb3ekokRY6f/YukArN979jcW+V/S8g0eT/N3VN3kTqWbQ428m9/8k0P/1aIhF36PccEl6EhOcAUCrXKZXXWS3XKd2vc/TRBG9O5ELC17MmWubD2nKhUKZa26Ba2+D3P+4/MNCFwg59oWVeYhkzgN/JDR8deKBoD7Y+ljEjGZ0sosXVTvbc6RHirr2reNy1OXd6pJsQ+gqjk8VWFYmHrwBzW/n+uMPFiRwHB2I7ih8ciHFxIkd/3Omk5tCDV1t+2nNu5sxxpDFNx+huNhVT3/zMDz8usXC3ddaHBj1GHj/As08fwTS7Kt1HBTmyN29vdwAw+/wbwLVOJ3uAD1wi/dUH7Qei66PfyuRj4Ik9is+hglfbkbfR3cnZm7chlUWLdwmprtCohX4HUtlOcQjLYCu+fzGJH2QRKvP3UNz8bWk1qMxjGTOMThZ3kvgLI5AzFfo379UAAAAASUVORK5CYII="
         },
         {
          "img_displayer": "iVBORw0KGgoAAAANSUhEUgAAABgAAAAYCAYAAADgdz34AAAABHNCSVQICAgIfAhkiAAAAAlwSFlzAAAApgAAAKYB3X3/OAAAABl0RVh0U29mdHdhcmUAd3d3Lmlua3NjYXBlLm9yZ5vuPBoAAANCSURBVEiJtZZPbBtFFMZ/M7ubXdtdb1xSFyeilBapySVU8h8OoFaooFSqiihIVIpQBKci6KEg9Q6H9kovIHoCIVQJJCKE1ENFjnAgcaSGC6rEnxBwA04Tx43t2FnvDAfjkNibxgHxnWb2e/u992bee7tCa00YFsffekFY+nUzFtjW0LrvjRXrCDIAaPLlW0nHL0SsZtVoaF98mLrx3pdhOqLtYPHChahZcYYO7KvPFxvRl5XPp1sN3adWiD1ZAqD6XYK1b/dvE5IWryTt2udLFedwc1+9kLp+vbbpoDh+6TklxBeAi9TL0taeWpdmZzQDry0AcO+jQ12RyohqqoYoo8RDwJrU+qXkjWtfi8Xxt58BdQuwQs9qC/afLwCw8tnQbqYAPsgxE1S6F3EAIXux2oQFKm0ihMsOF71dHYx+f3NND68ghCu1YIoePPQN1pGRABkJ6Bus96CutRZMydTl+TvuiRW1m3n0eDl0vRPcEysqdXn+jsQPsrHMquGeXEaY4Yk4wxWcY5V/9scqOMOVUFthatyTy8QyqwZ+kDURKoMWxNKr2EeqVKcTNOajqKoBgOE28U4tdQl5p5bwCw7BWquaZSzAPlwjlithJtp3pTImSqQRrb2Z8PHGigD4RZuNX6JYj6wj7O4TFLbCO/Mn/m8R+h6rYSUb3ekokRY6f/YukArN979jcW+V/S8g0eT/N3VN3kTqWbQ428m9/8k0P/1aIhF36PccEl6EhOcAUCrXKZXXWS3XKd2vc/TRBG9O5ELC17MmWubD2nKhUKZa26Ba2+D3P+4/MNCFwg59oWVeYhkzgN/JDR8deKBoD7Y+ljEjGZ0sosXVTvbc6RHirr2reNy1OXd6pJsQ+gqjk8VWFYmHrwBzW/n+uMPFiRwHB2I7ih8ciHFxIkd/3Omk5tCDV1t+2nNu5sxxpDFNx+huNhVT3/zMDz8usXC3ddaHBj1GHj/As08fwTS7Kt1HBTmyN29vdwAw+/wbwLVOJ3uAD1wi/dUH7Qei66PfyuRj4Ik9is+hglfbkbfR3cnZm7chlUWLdwmprtCohX4HUtlOcQjLYCu+fzGJH2QRKvP3UNz8bWk1qMxjGTOMThZ3kvgLI5AzFfo379UAAAAASUVORK5CYII=",
          "index": "mode",
          "raw": "iVBORw0KGgoAAAANSUhEUgAAABgAAAAYCAYAAADgdz34AAAABHNCSVQICAgIfAhkiAAAAAlwSFlzAAAApgAAAKYB3X3/OAAAABl0RVh0U29mdHdhcmUAd3d3Lmlua3NjYXBlLm9yZ5vuPBoAAANCSURBVEiJtZZPbBtFFMZ/M7ubXdtdb1xSFyeilBapySVU8h8OoFaooFSqiihIVIpQBKci6KEg9Q6H9kovIHoCIVQJJCKE1ENFjnAgcaSGC6rEnxBwA04Tx43t2FnvDAfjkNibxgHxnWb2e/u992bee7tCa00YFsffekFY+nUzFtjW0LrvjRXrCDIAaPLlW0nHL0SsZtVoaF98mLrx3pdhOqLtYPHChahZcYYO7KvPFxvRl5XPp1sN3adWiD1ZAqD6XYK1b/dvE5IWryTt2udLFedwc1+9kLp+vbbpoDh+6TklxBeAi9TL0taeWpdmZzQDry0AcO+jQ12RyohqqoYoo8RDwJrU+qXkjWtfi8Xxt58BdQuwQs9qC/afLwCw8tnQbqYAPsgxE1S6F3EAIXux2oQFKm0ihMsOF71dHYx+f3NND68ghCu1YIoePPQN1pGRABkJ6Bus96CutRZMydTl+TvuiRW1m3n0eDl0vRPcEysqdXn+jsQPsrHMquGeXEaY4Yk4wxWcY5V/9scqOMOVUFthatyTy8QyqwZ+kDURKoMWxNKr2EeqVKcTNOajqKoBgOE28U4tdQl5p5bwCw7BWquaZSzAPlwjlithJtp3pTImSqQRrb2Z8PHGigD4RZuNX6JYj6wj7O4TFLbCO/Mn/m8R+h6rYSUb3ekokRY6f/YukArN979jcW+V/S8g0eT/N3VN3kTqWbQ428m9/8k0P/1aIhF36PccEl6EhOcAUCrXKZXXWS3XKd2vc/TRBG9O5ELC17MmWubD2nKhUKZa26Ba2+D3P+4/MNCFwg59oWVeYhkzgN/JDR8deKBoD7Y+ljEjGZ0sosXVTvbc6RHirr2reNy1OXd6pJsQ+gqjk8VWFYmHrwBzW/n+uMPFiRwHB2I7ih8ciHFxIkd/3Omk5tCDV1t+2nNu5sxxpDFNx+huNhVT3/zMDz8usXC3ddaHBj1GHj/As08fwTS7Kt1HBTmyN29vdwAw+/wbwLVOJ3uAD1wi/dUH7Qei66PfyuRj4Ik9is+hglfbkbfR3cnZm7chlUWLdwmprtCohX4HUtlOcQjLYCu+fzGJH2QRKvP3UNz8bWk1qMxjGTOMThZ3kvgLI5AzFfo379UAAAAASUVORK5CYII="
         },
         {
          "img_displayer": null,
          "index": "mean",
          "raw": null
         },
         {
          "img_displayer": 2,
          "index": "unique_count",
          "raw": 2
         },
         {
          "img_displayer": 0,
          "index": "empty_count",
          "raw": 0
         },
         {
          "img_displayer": 2,
          "index": "distinct_count",
          "raw": 2
         },
         {
          "img_displayer": 1,
          "index": "distinct_per",
          "raw": 1
         },
         {
          "img_displayer": 0,
          "index": "empty_per",
          "raw": 0
         },
         {
          "img_displayer": 1,
          "index": "unique_per",
          "raw": 1
         },
         {
          "img_displayer": 0.5,
          "index": "nan_per",
          "raw": 0.5
         },
         {
          "img_displayer": {
           "None": 0.5,
           "iVBORw0KGgoAAAANSUhEUgAAABgAAAAYCAYAAADgdz34AAAABHNCSVQICAgIfAhkiAAAAAlwSFlzAAAApgAAAKYB3X3/OAAAABl0RVh0U29mdHdhcmUAd3d3Lmlua3NjYXBlLm9yZ5vuPBoAAANCSURBVEiJtZZPbBtFFMZ/M7ubXdtdb1xSFyeilBapySVU8h8OoFaooFSqiihIVIpQBKci6KEg9Q6H9kovIHoCIVQJJCKE1ENFjnAgcaSGC6rEnxBwA04Tx43t2FnvDAfjkNibxgHxnWb2e/u992bee7tCa00YFsffekFY+nUzFtjW0LrvjRXrCDIAaPLlW0nHL0SsZtVoaF98mLrx3pdhOqLtYPHChahZcYYO7KvPFxvRl5XPp1sN3adWiD1ZAqD6XYK1b/dvE5IWryTt2udLFedwc1+9kLp+vbbpoDh+6TklxBeAi9TL0taeWpdmZzQDry0AcO+jQ12RyohqqoYoo8RDwJrU+qXkjWtfi8Xxt58BdQuwQs9qC/afLwCw8tnQbqYAPsgxE1S6F3EAIXux2oQFKm0ihMsOF71dHYx+f3NND68ghCu1YIoePPQN1pGRABkJ6Bus96CutRZMydTl+TvuiRW1m3n0eDl0vRPcEysqdXn+jsQPsrHMquGeXEaY4Yk4wxWcY5V/9scqOMOVUFthatyTy8QyqwZ+kDURKoMWxNKr2EeqVKcTNOajqKoBgOE28U4tdQl5p5bwCw7BWquaZSzAPlwjlithJtp3pTImSqQRrb2Z8PHGigD4RZuNX6JYj6wj7O4TFLbCO/Mn/m8R+h6rYSUb3ekokRY6f/YukArN979jcW+V/S8g0eT/N3VN3kTqWbQ428m9/8k0P/1aIhF36PccEl6EhOcAUCrXKZXXWS3XKd2vc/TRBG9O5ELC17MmWubD2nKhUKZa26Ba2+D3P+4/MNCFwg59oWVeYhkzgN/JDR8deKBoD7Y+ljEjGZ0sosXVTvbc6RHirr2reNy1OXd6pJsQ+gqjk8VWFYmHrwBzW/n+uMPFiRwHB2I7ih8ciHFxIkd/3Omk5tCDV1t+2nNu5sxxpDFNx+huNhVT3/zMDz8usXC3ddaHBj1GHj/As08fwTS7Kt1HBTmyN29vdwAw+/wbwLVOJ3uAD1wi/dUH7Qei66PfyuRj4Ik9is+hglfbkbfR3cnZm7chlUWLdwmprtCohX4HUtlOcQjLYCu+fzGJH2QRKvP3UNz8bWk1qMxjGTOMThZ3kvgLI5AzFfo379UAAAAASUVORK5CYII=": 0.5,
           "longtail": -1,
           "unique": 1
          },
          "index": "categorical_histogram",
          "raw": {
           "None": 0.5,
           "iVBORw0KGgoAAAANSUhEUgAAABgAAAAYCAYAAADgdz34AAAABHNCSVQICAgIfAhkiAAAAAlwSFlzAAAApgAAAKYB3X3/OAAAABl0RVh0U29mdHdhcmUAd3d3Lmlua3NjYXBlLm9yZ5vuPBoAAANCSURBVEiJtZZPbBtFFMZ/M7ubXdtdb1xSFyeilBapySVU8h8OoFaooFSqiihIVIpQBKci6KEg9Q6H9kovIHoCIVQJJCKE1ENFjnAgcaSGC6rEnxBwA04Tx43t2FnvDAfjkNibxgHxnWb2e/u992bee7tCa00YFsffekFY+nUzFtjW0LrvjRXrCDIAaPLlW0nHL0SsZtVoaF98mLrx3pdhOqLtYPHChahZcYYO7KvPFxvRl5XPp1sN3adWiD1ZAqD6XYK1b/dvE5IWryTt2udLFedwc1+9kLp+vbbpoDh+6TklxBeAi9TL0taeWpdmZzQDry0AcO+jQ12RyohqqoYoo8RDwJrU+qXkjWtfi8Xxt58BdQuwQs9qC/afLwCw8tnQbqYAPsgxE1S6F3EAIXux2oQFKm0ihMsOF71dHYx+f3NND68ghCu1YIoePPQN1pGRABkJ6Bus96CutRZMydTl+TvuiRW1m3n0eDl0vRPcEysqdXn+jsQPsrHMquGeXEaY4Yk4wxWcY5V/9scqOMOVUFthatyTy8QyqwZ+kDURKoMWxNKr2EeqVKcTNOajqKoBgOE28U4tdQl5p5bwCw7BWquaZSzAPlwjlithJtp3pTImSqQRrb2Z8PHGigD4RZuNX6JYj6wj7O4TFLbCO/Mn/m8R+h6rYSUb3ekokRY6f/YukArN979jcW+V/S8g0eT/N3VN3kTqWbQ428m9/8k0P/1aIhF36PccEl6EhOcAUCrXKZXXWS3XKd2vc/TRBG9O5ELC17MmWubD2nKhUKZa26Ba2+D3P+4/MNCFwg59oWVeYhkzgN/JDR8deKBoD7Y+ljEjGZ0sosXVTvbc6RHirr2reNy1OXd6pJsQ+gqjk8VWFYmHrwBzW/n+uMPFiRwHB2I7ih8ciHFxIkd/3Omk5tCDV1t+2nNu5sxxpDFNx+huNhVT3/zMDz8usXC3ddaHBj1GHj/As08fwTS7Kt1HBTmyN29vdwAw+/wbwLVOJ3uAD1wi/dUH7Qei66PfyuRj4Ik9is+hglfbkbfR3cnZm7chlUWLdwmprtCohX4HUtlOcQjLYCu+fzGJH2QRKvP3UNz8bWk1qMxjGTOMThZ3kvgLI5AzFfo379UAAAAASUVORK5CYII=": 0.5,
           "longtail": -1,
           "unique": 1
          }
         },
         {
          "img_displayer": [
           {
            "cat_pop": 50,
            "name": "iVBORw0KGgoAAAANSUhEUgAAABgAAAAYCAYAAADgdz34AAAABHNCSVQICAgIfAhkiAAAAAlwSFlzAAAApgAAAKYB3X3/OAAAABl0RVh0U29mdHdhcmUAd3d3Lmlua3NjYXBlLm9yZ5vuPBoAAANCSURBVEiJtZZPbBtFFMZ/M7ubXdtdb1xSFyeilBapySVU8h8OoFaooFSqiihIVIpQBKci6KEg9Q6H9kovIHoCIVQJJCKE1ENFjnAgcaSGC6rEnxBwA04Tx43t2FnvDAfjkNibxgHxnWb2e/u992bee7tCa00YFsffekFY+nUzFtjW0LrvjRXrCDIAaPLlW0nHL0SsZtVoaF98mLrx3pdhOqLtYPHChahZcYYO7KvPFxvRl5XPp1sN3adWiD1ZAqD6XYK1b/dvE5IWryTt2udLFedwc1+9kLp+vbbpoDh+6TklxBeAi9TL0taeWpdmZzQDry0AcO+jQ12RyohqqoYoo8RDwJrU+qXkjWtfi8Xxt58BdQuwQs9qC/afLwCw8tnQbqYAPsgxE1S6F3EAIXux2oQFKm0ihMsOF71dHYx+f3NND68ghCu1YIoePPQN1pGRABkJ6Bus96CutRZMydTl+TvuiRW1m3n0eDl0vRPcEysqdXn+jsQPsrHMquGeXEaY4Yk4wxWcY5V/9scqOMOVUFthatyTy8QyqwZ+kDURKoMWxNKr2EeqVKcTNOajqKoBgOE28U4tdQl5p5bwCw7BWquaZSzAPlwjlithJtp3pTImSqQRrb2Z8PHGigD4RZuNX6JYj6wj7O4TFLbCO/Mn/m8R+h6rYSUb3ekokRY6f/YukArN979jcW+V/S8g0eT/N3VN3kTqWbQ428m9/8k0P/1aIhF36PccEl6EhOcAUCrXKZXXWS3XKd2vc/TRBG9O5ELC17MmWubD2nKhUKZa26Ba2+D3P+4/MNCFwg59oWVeYhkzgN/JDR8deKBoD7Y+ljEjGZ0sosXVTvbc6RHirr2reNy1OXd6pJsQ+gqjk8VWFYmHrwBzW/n+uMPFiRwHB2I7ih8ciHFxIkd/3Omk5tCDV1t+2nNu5sxxpDFNx+huNhVT3/zMDz8usXC3ddaHBj1GHj/As08fwTS7Kt1HBTmyN29vdwAw+/wbwLVOJ3uAD1wi/dUH7Qei66PfyuRj4Ik9is+hglfbkbfR3cnZm7chlUWLdwmprtCohX4HUtlOcQjLYCu+fzGJH2QRKvP3UNz8bWk1qMxjGTOMThZ3kvgLI5AzFfo379UAAAAASUVORK5CYII="
           },
           {
            "cat_pop": 50,
            "name": null
           },
           {
            "name": "unique",
            "unique": 100
           },
           {
            "NA": 50,
            "name": "NA"
           }
          ],
          "index": "histogram",
          "raw": [
           {
            "cat_pop": 50,
            "name": "iVBORw0KGgoAAAANSUhEUgAAABgAAAAYCAYAAADgdz34AAAABHNCSVQICAgIfAhkiAAAAAlwSFlzAAAApgAAAKYB3X3/OAAAABl0RVh0U29mdHdhcmUAd3d3Lmlua3NjYXBlLm9yZ5vuPBoAAANCSURBVEiJtZZPbBtFFMZ/M7ubXdtdb1xSFyeilBapySVU8h8OoFaooFSqiihIVIpQBKci6KEg9Q6H9kovIHoCIVQJJCKE1ENFjnAgcaSGC6rEnxBwA04Tx43t2FnvDAfjkNibxgHxnWb2e/u992bee7tCa00YFsffekFY+nUzFtjW0LrvjRXrCDIAaPLlW0nHL0SsZtVoaF98mLrx3pdhOqLtYPHChahZcYYO7KvPFxvRl5XPp1sN3adWiD1ZAqD6XYK1b/dvE5IWryTt2udLFedwc1+9kLp+vbbpoDh+6TklxBeAi9TL0taeWpdmZzQDry0AcO+jQ12RyohqqoYoo8RDwJrU+qXkjWtfi8Xxt58BdQuwQs9qC/afLwCw8tnQbqYAPsgxE1S6F3EAIXux2oQFKm0ihMsOF71dHYx+f3NND68ghCu1YIoePPQN1pGRABkJ6Bus96CutRZMydTl+TvuiRW1m3n0eDl0vRPcEysqdXn+jsQPsrHMquGeXEaY4Yk4wxWcY5V/9scqOMOVUFthatyTy8QyqwZ+kDURKoMWxNKr2EeqVKcTNOajqKoBgOE28U4tdQl5p5bwCw7BWquaZSzAPlwjlithJtp3pTImSqQRrb2Z8PHGigD4RZuNX6JYj6wj7O4TFLbCO/Mn/m8R+h6rYSUb3ekokRY6f/YukArN979jcW+V/S8g0eT/N3VN3kTqWbQ428m9/8k0P/1aIhF36PccEl6EhOcAUCrXKZXXWS3XKd2vc/TRBG9O5ELC17MmWubD2nKhUKZa26Ba2+D3P+4/MNCFwg59oWVeYhkzgN/JDR8deKBoD7Y+ljEjGZ0sosXVTvbc6RHirr2reNy1OXd6pJsQ+gqjk8VWFYmHrwBzW/n+uMPFiRwHB2I7ih8ciHFxIkd/3Omk5tCDV1t+2nNu5sxxpDFNx+huNhVT3/zMDz8usXC3ddaHBj1GHj/As08fwTS7Kt1HBTmyN29vdwAw+/wbwLVOJ3uAD1wi/dUH7Qei66PfyuRj4Ik9is+hglfbkbfR3cnZm7chlUWLdwmprtCohX4HUtlOcQjLYCu+fzGJH2QRKvP3UNz8bWk1qMxjGTOMThZ3kvgLI5AzFfo379UAAAAASUVORK5CYII="
           },
           {
            "cat_pop": 50,
            "name": null
           },
           {
            "name": "unique",
            "unique": 100
           },
           {
            "NA": 50,
            "name": "NA"
           }
          ]
         },
         {
          "img_displayer": [
           "faked"
          ],
          "index": "histogram_bins",
          "raw": [
           "faked"
          ]
         }
        ],
        "empty": [],
        "main": [
         {
          "img_displayer": "iVBORw0KGgoAAAANSUhEUgAAABgAAAAYCAYAAADgdz34AAAABHNCSVQICAgIfAhkiAAAAAlwSFlzAAAApgAAAKYB3X3/OAAAABl0RVh0U29mdHdhcmUAd3d3Lmlua3NjYXBlLm9yZ5vuPBoAAANCSURBVEiJtZZPbBtFFMZ/M7ubXdtdb1xSFyeilBapySVU8h8OoFaooFSqiihIVIpQBKci6KEg9Q6H9kovIHoCIVQJJCKE1ENFjnAgcaSGC6rEnxBwA04Tx43t2FnvDAfjkNibxgHxnWb2e/u992bee7tCa00YFsffekFY+nUzFtjW0LrvjRXrCDIAaPLlW0nHL0SsZtVoaF98mLrx3pdhOqLtYPHChahZcYYO7KvPFxvRl5XPp1sN3adWiD1ZAqD6XYK1b/dvE5IWryTt2udLFedwc1+9kLp+vbbpoDh+6TklxBeAi9TL0taeWpdmZzQDry0AcO+jQ12RyohqqoYoo8RDwJrU+qXkjWtfi8Xxt58BdQuwQs9qC/afLwCw8tnQbqYAPsgxE1S6F3EAIXux2oQFKm0ihMsOF71dHYx+f3NND68ghCu1YIoePPQN1pGRABkJ6Bus96CutRZMydTl+TvuiRW1m3n0eDl0vRPcEysqdXn+jsQPsrHMquGeXEaY4Yk4wxWcY5V/9scqOMOVUFthatyTy8QyqwZ+kDURKoMWxNKr2EeqVKcTNOajqKoBgOE28U4tdQl5p5bwCw7BWquaZSzAPlwjlithJtp3pTImSqQRrb2Z8PHGigD4RZuNX6JYj6wj7O4TFLbCO/Mn/m8R+h6rYSUb3ekokRY6f/YukArN979jcW+V/S8g0eT/N3VN3kTqWbQ428m9/8k0P/1aIhF36PccEl6EhOcAUCrXKZXXWS3XKd2vc/TRBG9O5ELC17MmWubD2nKhUKZa26Ba2+D3P+4/MNCFwg59oWVeYhkzgN/JDR8deKBoD7Y+ljEjGZ0sosXVTvbc6RHirr2reNy1OXd6pJsQ+gqjk8VWFYmHrwBzW/n+uMPFiRwHB2I7ih8ciHFxIkd/3Omk5tCDV1t+2nNu5sxxpDFNx+huNhVT3/zMDz8usXC3ddaHBj1GHj/As08fwTS7Kt1HBTmyN29vdwAw+/wbwLVOJ3uAD1wi/dUH7Qei66PfyuRj4Ik9is+hglfbkbfR3cnZm7chlUWLdwmprtCohX4HUtlOcQjLYCu+fzGJH2QRKvP3UNz8bWk1qMxjGTOMThZ3kvgLI5AzFfo379UAAAAASUVORK5CYII=",
          "index": 0,
          "raw": "iVBORw0KGgoAAAANSUhEUgAAABgAAAAYCAYAAADgdz34AAAABHNCSVQICAgIfAhkiAAAAAlwSFlzAAAApgAAAKYB3X3/OAAAABl0RVh0U29mdHdhcmUAd3d3Lmlua3NjYXBlLm9yZ5vuPBoAAANCSURBVEiJtZZPbBtFFMZ/M7ubXdtdb1xSFyeilBapySVU8h8OoFaooFSqiihIVIpQBKci6KEg9Q6H9kovIHoCIVQJJCKE1ENFjnAgcaSGC6rEnxBwA04Tx43t2FnvDAfjkNibxgHxnWb2e/u992bee7tCa00YFsffekFY+nUzFtjW0LrvjRXrCDIAaPLlW0nHL0SsZtVoaF98mLrx3pdhOqLtYPHChahZcYYO7KvPFxvRl5XPp1sN3adWiD1ZAqD6XYK1b/dvE5IWryTt2udLFedwc1+9kLp+vbbpoDh+6TklxBeAi9TL0taeWpdmZzQDry0AcO+jQ12RyohqqoYoo8RDwJrU+qXkjWtfi8Xxt58BdQuwQs9qC/afLwCw8tnQbqYAPsgxE1S6F3EAIXux2oQFKm0ihMsOF71dHYx+f3NND68ghCu1YIoePPQN1pGRABkJ6Bus96CutRZMydTl+TvuiRW1m3n0eDl0vRPcEysqdXn+jsQPsrHMquGeXEaY4Yk4wxWcY5V/9scqOMOVUFthatyTy8QyqwZ+kDURKoMWxNKr2EeqVKcTNOajqKoBgOE28U4tdQl5p5bwCw7BWquaZSzAPlwjlithJtp3pTImSqQRrb2Z8PHGigD4RZuNX6JYj6wj7O4TFLbCO/Mn/m8R+h6rYSUb3ekokRY6f/YukArN979jcW+V/S8g0eT/N3VN3kTqWbQ428m9/8k0P/1aIhF36PccEl6EhOcAUCrXKZXXWS3XKd2vc/TRBG9O5ELC17MmWubD2nKhUKZa26Ba2+D3P+4/MNCFwg59oWVeYhkzgN/JDR8deKBoD7Y+ljEjGZ0sosXVTvbc6RHirr2reNy1OXd6pJsQ+gqjk8VWFYmHrwBzW/n+uMPFiRwHB2I7ih8ciHFxIkd/3Omk5tCDV1t+2nNu5sxxpDFNx+huNhVT3/zMDz8usXC3ddaHBj1GHj/As08fwTS7Kt1HBTmyN29vdwAw+/wbwLVOJ3uAD1wi/dUH7Qei66PfyuRj4Ik9is+hglfbkbfR3cnZm7chlUWLdwmprtCohX4HUtlOcQjLYCu+fzGJH2QRKvP3UNz8bWk1qMxjGTOMThZ3kvgLI5AzFfo379UAAAAASUVORK5CYII="
         },
         {
          "img_displayer": null,
          "index": 1,
          "raw": null
         }
        ]
       },
       "df_display_args": {
        "main": {
         "data_key": "main",
         "df_viewer_config": {
          "column_config": [
           {
            "col_name": "index",
            "displayer_args": {
             "displayer": "obj"
            }
           },
           {
            "col_name": "raw",
            "displayer_args": {
             "displayer": "string",
             "max_length": 40
            }
           },
           {
            "ag_grid_specs": {
             "width": 150
            },
            "col_name": "img_displayer",
            "displayer_args": {
             "displayer": "Base64PNGImageDisplayer"
            }
           }
          ],
          "pinned_rows": [
           {
            "displayer_args": {
             "displayer": "obj"
            },
            "primary_key_val": "dtype"
           },
           {
            "displayer_args": {
             "displayer": "histogram"
            },
            "primary_key_val": "histogram"
           }
          ]
         },
         "summary_stats_key": "all_stats"
        },
        "summary": {
         "data_key": "empty",
         "df_viewer_config": {
          "column_config": [
           {
            "col_name": "index",
            "displayer_args": {
             "displayer": "obj"
            }
           },
           {
            "col_name": "raw",
            "displayer_args": {
             "displayer": "string",
             "max_length": 40
            }
           },
           {
            "ag_grid_specs": {
             "width": 150
            },
            "col_name": "img_displayer",
            "displayer_args": {
             "displayer": "Base64PNGImageDisplayer"
            }
           }
          ],
          "pinned_rows": [
           {
            "displayer_args": {
             "displayer": "obj"
            },
            "primary_key_val": "dtype"
           },
           {
            "displayer_args": {
             "displayer": "float",
             "max_fraction_digits": 3,
             "min_fraction_digits": 3
            },
            "primary_key_val": "min"
           },
           {
            "displayer_args": {
             "displayer": "float",
             "max_fraction_digits": 3,
             "min_fraction_digits": 3
            },
            "primary_key_val": "mean"
           },
           {
            "displayer_args": {
             "displayer": "float",
             "max_fraction_digits": 3,
             "min_fraction_digits": 3
            },
            "primary_key_val": "max"
           },
           {
            "displayer_args": {
             "displayer": "float",
             "max_fraction_digits": 0,
             "min_fraction_digits": 0
            },
            "primary_key_val": "unique_count"
           },
           {
            "displayer_args": {
             "displayer": "float",
             "max_fraction_digits": 0,
             "min_fraction_digits": 0
            },
            "primary_key_val": "distinct_count"
           },
           {
            "displayer_args": {
             "displayer": "float",
             "max_fraction_digits": 0,
             "min_fraction_digits": 0
            },
            "primary_key_val": "empty_count"
           }
          ]
         },
         "summary_stats_key": "all_stats"
        }
       },
       "df_meta": {
        "columns": 2,
        "rows_shown": 2,
        "total_rows": 2
       },
       "layout": "IPY_MODEL_c5d9e4c6ea08435daa316270b5977d54",
       "operation_results": {
        "generated_py_code": "# instantiation, unused",
        "transformed_df": {
         "column_config": [],
         "data": [],
         "pinned_rows": []
        }
       },
       "operations": []
      }
     },
     "c5d9e4c6ea08435daa316270b5977d54": {
      "model_module": "@jupyter-widgets/base",
      "model_module_version": "2.0.0",
      "model_name": "LayoutModel",
      "state": {}
     },
     "dee2e1643b05493fa3422d21b0f0817d": {
      "model_module": "@jupyter-widgets/base",
      "model_module_version": "2.0.0",
      "model_name": "LayoutModel",
      "state": {}
     },
     "f1de7ec8051b4cdfa908edb2b3f69291": {
      "model_module": "buckaroo",
      "model_module_version": "^0.6.2",
      "model_name": "DCEFWidgetModel",
      "state": {
       "_model_module_version": "^0.6.2",
       "_view_module_version": "^0.6.2",
       "_view_name": "DCEFWidgetView",
       "buckaroo_options": {
        "auto_clean": [
         "aggressive",
         "conservative"
        ],
        "df_display": [
         "main"
        ],
        "post_processing": [
         ""
        ],
        "sampled": [
         "random"
        ],
        "show_commands": [
         "on"
        ],
        "summary_stats": [
         "all"
        ]
       },
       "buckaroo_state": {
        "auto_clean": "conservative",
        "df_display": "main",
        "post_processing": "",
        "sampled": false,
        "search_string": "",
        "show_commands": false
       },
       "commandConfig": {},
       "df_data_dict": {
        "all_stats": [
         {
          "bools": "Boolean",
          "dicts": "Struct({'a': Int64, 'b': Int64, 'c': String})",
          "index": "dtype",
          "ints": "Int64",
          "lists": "List(String)",
          "lists-int": "List(Int64)",
          "lists-string": "List(String)",
          "nested_dicts": "Struct({'level_1': Struct({'a': Int64, 'b': Int64, 'c': String})})",
          "timestamp": "String"
         },
         {
          "bools": "boolean",
          "dicts": "unknown",
          "index": "_type",
          "ints": "integer",
          "lists": "unknown",
          "lists-int": "unknown",
          "lists-string": "unknown",
          "nested_dicts": "unknown",
          "timestamp": "string"
         },
         {
          "bools": false,
          "dicts": false,
          "index": "is_numeric",
          "ints": true,
          "lists": false,
          "lists-int": false,
          "lists-string": false,
          "nested_dicts": false,
          "timestamp": false
         },
         {
          "bools": false,
          "dicts": false,
          "index": "is_integer",
          "ints": true,
          "lists": false,
          "lists-int": false,
          "lists-string": false,
          "nested_dicts": false,
          "timestamp": false
         }
        ],
        "empty": [],
        "main": [
         {
          "bools": true,
          "dicts": {
           "a": 10,
           "b": 20,
           "c": "some string"
          },
          "index": 0,
          "ints": 5,
          "lists": [
           "a",
           "b"
          ],
          "lists-int": [
           10,
           20
          ],
          "lists-string": [
           "a",
           "b"
          ],
          "nested_dicts": {
           "level_1": {
            "a": 10,
            "b": 20,
            "c": "some string"
           }
          },
          "timestamp": "2020-01-01 01:00Z"
         },
         {
          "bools": true,
          "dicts": {
           "a": null,
           "b": null,
           "c": null
          },
          "index": 1,
          "ints": 20,
          "lists": [
           "1",
           "2"
          ],
          "lists-int": [
           100,
           500
          ],
          "lists-string": [
           "foo",
           "bar"
          ],
          "nested_dicts": {
           "level_1": {
            "a": null,
            "b": null,
            "c": null
           }
          },
          "timestamp": "2020-01-01 02:00Z"
         },
         {
          "bools": false,
          "dicts": {
           "a": null,
           "b": null,
           "c": null
          },
          "index": 2,
          "ints": 30,
          "lists": null,
          "lists-int": [
           8
          ],
          "lists-string": null,
          "nested_dicts": {
           "level_1": {
            "a": null,
            "b": null,
            "c": null
           }
          },
          "timestamp": "2020-02-28 02:00Z"
         },
         {
          "bools": false,
          "dicts": {
           "a": null,
           "b": null,
           "c": null
          },
          "index": 3,
          "ints": -10,
          "lists": null,
          "lists-int": null,
          "lists-string": null,
          "nested_dicts": {
           "level_1": {
            "a": null,
            "b": null,
            "c": null
           }
          },
          "timestamp": "2020-03-15 02:00Z"
         },
         {
          "bools": true,
          "dicts": {
           "a": null,
           "b": null,
           "c": null
          },
          "index": 4,
          "ints": 7772,
          "lists": null,
          "lists-int": null,
          "lists-string": null,
          "nested_dicts": {
           "level_1": {
            "a": null,
            "b": null,
            "c": null
           }
          },
          "timestamp": null
         },
         {
          "bools": null,
          "dicts": {
           "a": null,
           "b": null,
           "c": null
          },
          "index": 5,
          "ints": null,
          "lists": null,
          "lists-int": null,
          "lists-string": null,
          "nested_dicts": {
           "level_1": {
            "a": null,
            "b": null,
            "c": null
           }
          },
          "timestamp": null
         }
        ]
       },
       "df_display_args": {
        "main": {
         "data_key": "main",
         "df_viewer_config": {
          "column_config": [
           {
            "col_name": "index",
            "displayer_args": {
             "displayer": "obj"
            }
           },
           {
            "col_name": "bools",
            "displayer_args": {
             "displayer": "obj"
            }
           },
           {
            "col_name": "ints",
            "displayer_args": {
             "displayer": "obj"
            }
           },
           {
            "col_name": "timestamp",
            "displayer_args": {
             "displayer": "obj"
            }
           },
           {
            "col_name": "dicts",
            "displayer_args": {
             "displayer": "obj"
            }
           },
           {
            "col_name": "nested_dicts",
            "displayer_args": {
             "displayer": "obj"
            }
           },
           {
            "col_name": "lists",
            "displayer_args": {
             "displayer": "obj"
            }
           },
           {
            "col_name": "lists-string",
            "displayer_args": {
             "displayer": "obj"
            }
           },
           {
            "col_name": "lists-int",
            "displayer_args": {
             "displayer": "obj"
            }
           }
          ],
          "pinned_rows": [
           {
            "displayer_args": {
             "displayer": "obj"
            },
            "primary_key_val": "dtype"
           }
          ]
         },
         "summary_stats_key": "all_stats"
        }
       },
       "df_meta": {
        "columns": 8,
        "rows_shown": 6,
        "total_rows": 6
       },
       "layout": "IPY_MODEL_dee2e1643b05493fa3422d21b0f0817d",
       "operation_results": {
        "generated_py_code": "# instantiation, unused",
        "transformed_df": {
         "column_config": [],
         "data": [],
         "pinned_rows": []
        }
       },
       "operations": []
      }
     }
    },
    "version_major": 2,
    "version_minor": 0
   }
  }
 },
 "nbformat": 4,
 "nbformat_minor": 5
}
