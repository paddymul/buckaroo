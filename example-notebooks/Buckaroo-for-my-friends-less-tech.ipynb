{
 "cells": [
  {
   "cell_type": "markdown",
   "id": "49f230f9-6c88-467f-b974-508e76481e6d",
   "metadata": {},
   "source": [
    "# How Buckaroo helps Data Scientists\n",
    "\n",
    "We all hear terms like data science, AI, machine learning and Big Data. \n",
    "\n",
    "This presentation walks through some of the core tools practioners use and how my tool - Buckaroo helps their workflows.\n",
    "\n"
   ]
  },
  {
   "cell_type": "markdown",
   "id": "bffdec60-8954-4cf4-8c22-f91a7a105863",
   "metadata": {},
   "source": [
    "# The tools that Datascientists commonly use.\n",
    "\n",
    "This presentation is for my less technical friends and family.  Don't worry about the details of the code, this is meant to give a broad overview.\n",
    "\n",
    "## Python\n",
    "\n",
    "Python is the preferred language of data scientists. It is easy to learn because it uses simple keywords"
   ]
  },
  {
   "cell_type": "code",
   "execution_count": null,
   "id": "954d38b6-20b7-46c8-88df-46437aef005e",
   "metadata": {
    "tags": []
   },
   "outputs": [],
   "source": [
    "a = 5\n",
    "def add_10(argument):\n",
    "    return argument + 10\n",
    "add_10(a)"
   ]
  },
  {
   "cell_type": "markdown",
   "id": "75fc61c7-f8ca-4e60-a3af-fd4a83806fe1",
   "metadata": {},
   "source": [
    "## NumPy\n",
    "\n",
    "Matrix math is a the heart of image recognition and machine learning.  The open source NumPy library extends python with fast matrix math operations (25 to 100 times faster than raw python).  [Travis Oliphant](https://en.wikipedia.org/wiki/Travis_Oliphant) wrote NumPy while earning a PhD in Electrical Engineering.  I worked for Travis from 2012 to 2014.\n",
    "\n",
    "Here we see NumPy generating random numbers, performing a linerar regression, then plotting it through the open source Matplotlib library"
   ]
  },
  {
   "cell_type": "code",
   "execution_count": null,
   "id": "805df0ba-4349-4ea3-a337-8a19cef0e2c2",
   "metadata": {
    "tags": []
   },
   "outputs": [],
   "source": [
    "import matplotlib.pyplot as plt\n",
    "import numpy as np\n",
    "%matplotlib inline\n",
    "rng = np.random.default_rng(1234)\n",
    "# Generate data\n",
    "x = rng.uniform(0, 10, size=100)\n",
    "y = x + rng.normal(size=100)\n",
    "\n",
    "# Initialize layout\n",
    "fig, ax = plt.subplots(figsize = (9, 9))\n",
    "\n",
    "# Add scatterplot\n",
    "ax.scatter(x, y, s=60, alpha=0.7, edgecolors=\"k\")\n",
    "\n",
    "# Fit linear regression via least squares with numpy.polyfit\n",
    "# It returns an slope (b) and intercept (a)\n",
    "# deg=1 means linear fit (i.e. polynomial of degree 1)\n",
    "b, a = np.polyfit(x, y, deg=1)\n",
    "\n",
    "# Create sequence of 100 numbers from 0 to 100 \n",
    "xseq = np.linspace(0, 10, num=100)\n",
    "\n",
    "# Plot regression line\n",
    "ax.plot(xseq, a + b * xseq, color=\"k\", lw=2.5);"
   ]
  },
  {
   "cell_type": "markdown",
   "id": "2dab305b-942d-41b3-b3f1-454ecd032d94",
   "metadata": {},
   "source": [
    "## Pandas\n",
    "\n",
    "In 2011 [Wes Mckinney](https://wesmckinney.com/) created Pandas on top of NumPy to help with his work as a quant researcher.\n",
    "Pandas makes regular tasks with real world data much easier like cleaning dirty data and manipulating timeseries observations."
   ]
  },
  {
   "cell_type": "code",
   "execution_count": null,
   "id": "01999cd3-8b95-4903-8e7d-a5ec1932ab65",
   "metadata": {
    "tags": []
   },
   "outputs": [],
   "source": [
    "import pandas as pd\n",
    "df = pd.read_csv(\"/Users/paddy/code/example-notebooks/citibike-trips.csv\")\n",
    "df"
   ]
  },
  {
   "cell_type": "code",
   "execution_count": null,
   "id": "a1795cf2-bafd-4121-bb56-730037b5e646",
   "metadata": {
    "tags": []
   },
   "outputs": [],
   "source": [
    "# Once you have a dataset like this there are a lot of operations you might want to perform\n",
    "df['tripduration'].mean()"
   ]
  },
  {
   "cell_type": "code",
   "execution_count": null,
   "id": "a5c02534-b54f-41ed-b049-6b172e1274ef",
   "metadata": {
    "tags": []
   },
   "outputs": [],
   "source": [
    "df['start station name'].value_counts()"
   ]
  },
  {
   "cell_type": "code",
   "execution_count": null,
   "id": "35b9707a-e2be-4501-a9bb-25d94603d2d2",
   "metadata": {
    "tags": []
   },
   "outputs": [],
   "source": [
    "df.groupby('start station name').mean('tripduration')"
   ]
  },
  {
   "cell_type": "code",
   "execution_count": null,
   "id": "35519673-7d49-42af-bc2d-de0971d38bba",
   "metadata": {
    "tags": []
   },
   "outputs": [],
   "source": [
    "df['tripduration'].hist()"
   ]
  },
  {
   "cell_type": "code",
   "execution_count": null,
   "id": "cc050042-2c6d-4d47-adcd-139321ccb726",
   "metadata": {
    "tags": []
   },
   "outputs": [],
   "source": [
    "df[(df['tripduration'] > df['tripduration'].quantile(.01)) & (df['tripduration'] < df['tripduration'].quantile(.99))]['tripduration'].hist()"
   ]
  },
  {
   "cell_type": "markdown",
   "id": "b55ea954-20d6-48ed-adc8-7cdbf9a57edd",
   "metadata": {},
   "source": [
    "## The Jupyter notebook\n",
    "\n",
    "You are seeing this presentation in the Jupyter notebook.  The jupyter programming environment was created by grad students in 2011 to be used interactively and to leave an artifiact that combines narrative text, analysis code, and graphics.  The interactivity is key to analyzing and manipulating data."
   ]
  },
  {
   "cell_type": "markdown",
   "id": "269109ab-fb30-449e-9eaa-b90c8f053c25",
   "metadata": {},
   "source": [
    "# Why I wrote Buckaroo\n",
    "\n",
    "Thank you for bearing with me this far.\n",
    "\n",
    "You now have seen the PyData ecosystem and a small sample of how it is used.\n",
    "These are all powerful tools, but a bit cumbersome to use.  I look at multiple different datasets a day, and I want to quickly understand them.  I don't want to type a bunch of commands to get the overview I'm looking for and I want to be able to look at the raw data.  Here is Buckaroo"
   ]
  },
  {
   "cell_type": "code",
   "execution_count": null,
   "id": "2c5683c8-7cc5-4933-bd75-fd74420a81af",
   "metadata": {
    "tags": []
   },
   "outputs": [],
   "source": [
    "import pandas as pd\n",
    "from buckaroo.buckaroo_widget import BuckarooWidget\n",
    "df = pd.read_csv(\"/Users/paddy/code/example-notebooks/citibike-trips.csv\") \n",
    "df"
   ]
  },
  {
   "cell_type": "markdown",
   "id": "45bfce45-e56d-434d-b4bf-625eca0389c9",
   "metadata": {
    "tags": []
   },
   "source": [
    "# Adding color mapping by range in column.\n"
   ]
  },
  {
   "cell_type": "code",
   "execution_count": null,
   "id": "4d834878-b068-4b07-ae28-614f308e007b",
   "metadata": {
    "tags": []
   },
   "outputs": [],
   "source": [
    "BuckarooWidget(\n",
    "    df,\n",
    "    column_config_overrides={\n",
    "        'tripduration': {'color_map_config': {\n",
    "        'color_rule': 'color_map',\n",
    "        'map_name': 'BLUE_TO_YELLOW'}}})"
   ]
  },
  {
   "cell_type": "markdown",
   "id": "f5bf582b-d4ac-496e-b8df-f9de424683e4",
   "metadata": {},
   "source": [
    "## Adding a summary stat\n",
    "Here we right a simple function to compute `is_monotonic` or does a column only go in a single direction (up or down) without changing directions"
   ]
  },
  {
   "cell_type": "code",
   "execution_count": null,
   "id": "682496b5-8198-477e-9613-687e1b2f6c82",
   "metadata": {
    "tags": []
   },
   "outputs": [],
   "source": [
    "from buckaroo.pluggable_analysis_framework.pluggable_analysis_framework import ColAnalysis\n",
    "from buckaroo.dataflow.dataflow import StylingAnalysis\n",
    "class MonotonicStat(StylingAnalysis):\n",
    "    provides_defaults = dict(is_monotonic=False)\n",
    "    \n",
    "    @staticmethod\n",
    "    def series_summary(sampled_ser, ser):\n",
    "        return dict(is_monotonic=(ser.is_monotonic_increasing or ser.is_monotonic_decreasing))\n",
    "    pinned_rows = [\n",
    "        { 'primary_key_val': 'is_monotonic', 'displayer_args': {'displayer': 'obj'}}]\n",
    "    df_display_name = \"is_monotonic\"\n",
    "    data_key = \"empty\"\n",
    "    \n",
    "w = BuckarooWidget(df)\n",
    "w.add_analysis(MonotonicStat)\n",
    "w"
   ]
  },
  {
   "cell_type": "markdown",
   "id": "35f26786-350b-4fa4-a0a8-829a2f38e612",
   "metadata": {},
   "source": [
    "# Adding a post processing function\n",
    "We add a post processing function that takes diff (current row sutracted from previous the previous row).  Summary stats are then run on this modified dataframe."
   ]
  },
  {
   "cell_type": "code",
   "execution_count": null,
   "id": "8aa84a83-1b70-4e0a-82fb-899cedb794f1",
   "metadata": {
    "tags": []
   },
   "outputs": [],
   "source": [
    "w = BuckarooWidget(df)\n",
    "@w.add_processing\n",
    "def numeric_diff(df):\n",
    "    only_num_df = df.select_dtypes(include=np.number)\n",
    "    return only_num_df.diff()\n",
    "w"
   ]
  },
  {
   "cell_type": "code",
   "execution_count": null,
   "id": "ecac983c-8e09-4bdf-bbb4-222a369b4d87",
   "metadata": {
    "tags": []
   },
   "outputs": [],
   "source": [
    "import polars as pl\n",
    "pl.read_csv(\"/Users/paddy/code/example-notebooks/citibike-trips.csv\") "
   ]
  },
  {
   "cell_type": "markdown",
   "id": "f2fd8582-bf1a-421a-a53c-0ab1ec19571a",
   "metadata": {},
   "source": [
    "# That's Buckaroo\n",
    "\n",
    "I designed it to so the base widget has sensible defaults.  Users can also simply plumb in their own analysis code and toggle between views.\n",
    "\n",
    "Because data in the wild is so diverse, there is not a single *Correct* way to view it.  Instead of coming up with a single *best* default, Buckaroo allows multiple analyses to be quickly toggled through"
   ]
  },
  {
   "cell_type": "code",
   "execution_count": null,
   "id": "d1573afa-8224-4924-b1f6-18dc1b845447",
   "metadata": {},
   "outputs": [],
   "source": []
  },
  {
   "cell_type": "code",
   "execution_count": null,
   "id": "db9efd4d-f3fa-49ee-9594-05e935b5bced",
   "metadata": {},
   "outputs": [],
   "source": []
  },
  {
   "cell_type": "code",
   "execution_count": null,
   "id": "b84f416a-8048-4507-99d8-0b019e30ffa0",
   "metadata": {},
   "outputs": [],
   "source": []
  },
  {
   "cell_type": "code",
   "execution_count": null,
   "id": "d7d3ae57-b0d4-4555-ab1a-f99b5af9fd37",
   "metadata": {},
   "outputs": [],
   "source": []
  },
  {
   "cell_type": "code",
   "execution_count": null,
   "id": "a9c2c1de-acf9-4c02-8343-1addc44cd442",
   "metadata": {},
   "outputs": [],
   "source": []
  },
  {
   "cell_type": "code",
   "execution_count": null,
   "id": "b855c24b-a251-49a4-96d9-68905a5070da",
   "metadata": {},
   "outputs": [],
   "source": []
  },
  {
   "cell_type": "code",
   "execution_count": null,
   "id": "6106a11c-c9ee-4067-8593-1f23340e4125",
   "metadata": {},
   "outputs": [],
   "source": []
  },
  {
   "cell_type": "code",
   "execution_count": null,
   "id": "9c543164-a6dd-4e0c-be9d-6342b6a6fbd7",
   "metadata": {},
   "outputs": [],
   "source": []
  },
  {
   "cell_type": "code",
   "execution_count": null,
   "id": "bbac1c30-7021-4a83-ad7f-55aacf96ead8",
   "metadata": {},
   "outputs": [],
   "source": []
  },
  {
   "cell_type": "code",
   "execution_count": null,
   "id": "3abb8d78-f825-415e-83c7-a6bdc04da30d",
   "metadata": {},
   "outputs": [],
   "source": []
  },
  {
   "cell_type": "markdown",
   "id": "3b1486f5-908f-4079-9326-23f8a6351fd8",
   "metadata": {},
   "source": [
    "# Explaining Buckarooto my non-technical friends \n",
    "\n",
    "This presentation show my side project Buckaroo and the tools it is built on top of.\n",
    "\n",
    "## Background on python and how it's used in datascience\n",
    "\n",
    "Before we dive into exciting visuals and interactive programs, let’s lay some groundwork.\n",
    "\n",
    "Python is a popular programming language, you might also have heard of java, C, and javascript.  Datascientists have come to rely on python because it balances speed of execution (C is faster) with ease of use and learning."
   ]
  },
  {
   "cell_type": "markdown",
   "id": "7cebb7e9-33b3-4f0e-9752-c0d7404371e2",
   "metadata": {},
   "source": [
    "### NumPy\n",
    "\n",
    "Matrix math is at the heart of linear regression, image recognition, and AI like ChatGPT. NumPy was written by Travis Oliphant in 2006 to accelerate matrix operations in python.   In many cases NumPy accelerates matrix operations to 25-100x faster than raw python.\n",
    "\n",
    "Here is NumPy and the Matplotlib charting"
   ]
  },
  {
   "cell_type": "markdown",
   "id": "5db14e50-5bee-4533-9b3d-7107c39dc25c",
   "metadata": {},
   "source": [
    "# Pandas\n",
    "\n",
    "In 2011 financial quant researcher Wes Mckinney released pandas which made analysis of realworld data easier, timeseries data in particular.  Pandas was built on top of NumPy, and allowed computations to be run on mixed datasets (you could have a set of temperature observations ordered by time of day, with a string column for location).\n",
    "\n",
    "Pandas took what was already technically possible and increased the usability so more (work|concepts|manipulations) could be expressed in a natural way.\n",
    "\n",
    "The following code shows reading a 300,000 line csv file about citibike trips"
   ]
  },
  {
   "cell_type": "markdown",
   "id": "06e80d86-9d1e-4870-af79-3f9e76fd0644",
   "metadata": {},
   "source": [
    "# The Jupyter notebook\n",
    "\n",
    "I have been demonstrating the entire PyData ecosystem inside of the Jupyter notebook.  This is an interactive analysis and documentation environment built around python.  While a grad student Fernando Perez wanted a better [interactive environment](https://en.wikipedia.org/wiki/IPython) for playing with data in 2001.  In 2011 the IPython first released the [jupyter notebook](https://en.wikipedia.org/wiki/Project_Jupyter) interface you see here.\n",
    "\n",
    "Combining small snippets of analysis code, with charts, and narrative text allowed academics to write and share research in ways that were cumbersome before.\n",
    "(Maybe show emacs/vscode traditional method of writing code).  This is particularly important for data intensive analysis.  You need to look at the data and play with it iteratively.  This interface works very well for the problem that data scientists and academics deal with every day."
   ]
  },
  {
   "cell_type": "markdown",
   "id": "503967a3-5f98-413e-902d-266d7604ab63",
   "metadata": {},
   "source": [
    "\n",
    "this is data anlysis \n",
    "\n",
    "a typical programmer (data scientist) would do these things\n",
    "\n",
    "we all hear terms like data science, big data, and AI.  Here is a brief view into what that actually looks like\n",
    "\n",
    "... I built Buckaroo to enahnce those workflows, here it is\n",
    "\n",
    "In order for me to explain buckaroo I have to give some background\n",
    "\n"
   ]
  }
 ],
 "metadata": {
  "kernelspec": {
   "display_name": "Python 3 (ipykernel)",
   "language": "python",
   "name": "python3"
  },
  "language_info": {
   "codemirror_mode": {
    "name": "ipython",
    "version": 3
   },
   "file_extension": ".py",
   "mimetype": "text/x-python",
   "name": "python",
   "nbconvert_exporter": "python",
   "pygments_lexer": "ipython3",
   "version": "3.11.7"
  },
  "widgets": {
   "application/vnd.jupyter.widget-state+json": {
    "state": {},
    "version_major": 2,
    "version_minor": 0
   }
  }
 },
 "nbformat": 4,
 "nbformat_minor": 5
}
