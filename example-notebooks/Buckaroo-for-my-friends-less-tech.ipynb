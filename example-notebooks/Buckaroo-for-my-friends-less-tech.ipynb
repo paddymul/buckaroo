{
 "cells": [
  {
   "cell_type": "markdown",
   "id": "9e458871-691c-4243-84ed-a2f9653182f1",
   "metadata": {},
   "source": [
    "\n",
    "this is data anlysis \n",
    "\n",
    "a typical programmer (data scientist) would do these things\n",
    "\n",
    "we all hear terms like data science, big data, and AI.  Here is a brief view into what that actually looks like\n",
    "\n",
    "... I built Buckaroo to enahnce those workflows, here it is\n",
    "\n",
    "In order for me to explain buckaroo I have to give some background\n",
    "\n"
   ]
  },
  {
   "cell_type": "markdown",
   "id": "bffdec60-8954-4cf4-8c22-f91a7a105863",
   "metadata": {},
   "source": [
    "# Explaining Buckarooto my non-technical friends \n",
    "\n",
    "This presentation walks through how datascientists use Buckaroo to enhance their workflows.\n",
    "\n",
    "## The tools that Datascientists commonly use.\n",
    "\n",
    "Buckaroo enhances the tools that data practitionrs already use.\n",
    "\n",
    "### Python\n",
    "\n",
    "The simple syntax of the python programming language makes it easy to learn.  This presentation has snippets of python code.\n",
    "\n",
    "### NumPy and Pandas\n",
    "\n",
    "NumPy is the matrix math library for python, it speeds up matrix operations 25-100x.  Pandas is built on top of NumPy and it enables idiomatic manipulation of timeseries and other data commonly found in the wild."
   ]
  },
  {
   "cell_type": "code",
   "execution_count": null,
   "id": "954d38b6-20b7-46c8-88df-46437aef005e",
   "metadata": {
    "tags": []
   },
   "outputs": [],
   "source": [
    "a = 5\n",
    "b = 10\n",
    "a+b"
   ]
  },
  {
   "cell_type": "code",
   "execution_count": null,
   "id": "805df0ba-4349-4ea3-a337-8a19cef0e2c2",
   "metadata": {
    "tags": []
   },
   "outputs": [],
   "source": [
    "import matplotlib.pyplot as plt\n",
    "import numpy as np\n",
    "%matplotlib inline\n",
    "rng = np.random.default_rng(1234)\n",
    "# Generate data\n",
    "x = rng.uniform(0, 10, size=100)\n",
    "y = x + rng.normal(size=100)\n",
    "\n",
    "# Initialize layout\n",
    "fig, ax = plt.subplots(figsize = (9, 9))\n",
    "\n",
    "# Add scatterplot\n",
    "ax.scatter(x, y, s=60, alpha=0.7, edgecolors=\"k\")\n",
    "\n",
    "# Fit linear regression via least squares with numpy.polyfit\n",
    "# It returns an slope (b) and intercept (a)\n",
    "# deg=1 means linear fit (i.e. polynomial of degree 1)\n",
    "b, a = np.polyfit(x, y, deg=1)\n",
    "\n",
    "# Create sequence of 100 numbers from 0 to 100 \n",
    "xseq = np.linspace(0, 10, num=100)\n",
    "\n",
    "# Plot regression line\n",
    "ax.plot(xseq, a + b * xseq, color=\"k\", lw=2.5);"
   ]
  },
  {
   "cell_type": "markdown",
   "id": "3d1183d2-cce0-4a51-93a4-fabf3a2e0218",
   "metadata": {},
   "source": [
    "# The Jupyter notebook\n",
    "\n",
    "You are seeing this presentation in the Jupyter notebook.  The jupyter programming environment was created by grad students to be used interactively and to leave an artifiact that combines narrative text, analysis code, and graphics.  The interactivity is key to analyzing and manipulating data."
   ]
  },
  {
   "cell_type": "code",
   "execution_count": null,
   "id": "01999cd3-8b95-4903-8e7d-a5ec1932ab65",
   "metadata": {
    "tags": []
   },
   "outputs": [],
   "source": [
    "import pandas as pd\n",
    "df = pd.read_csv(\"/Users/paddy/code/example-notebooks/citibike-trips.csv\") \n",
    "df"
   ]
  },
  {
   "cell_type": "code",
   "execution_count": null,
   "id": "a1795cf2-bafd-4121-bb56-730037b5e646",
   "metadata": {
    "tags": []
   },
   "outputs": [],
   "source": [
    "# Once you have a dataset like this there are a lot of operations you might want to perform\n",
    "df['tripduration'].mean()"
   ]
  },
  {
   "cell_type": "code",
   "execution_count": null,
   "id": "a5c02534-b54f-41ed-b049-6b172e1274ef",
   "metadata": {
    "tags": []
   },
   "outputs": [],
   "source": [
    "df['start station name'].value_counts()"
   ]
  },
  {
   "cell_type": "code",
   "execution_count": null,
   "id": "35b9707a-e2be-4501-a9bb-25d94603d2d2",
   "metadata": {
    "tags": []
   },
   "outputs": [],
   "source": [
    "df.groupby('start station name').mean('tripduration')"
   ]
  },
  {
   "cell_type": "code",
   "execution_count": null,
   "id": "35519673-7d49-42af-bc2d-de0971d38bba",
   "metadata": {
    "tags": []
   },
   "outputs": [],
   "source": [
    "df['tripduration'].hist()"
   ]
  },
  {
   "cell_type": "code",
   "execution_count": null,
   "id": "cc050042-2c6d-4d47-adcd-139321ccb726",
   "metadata": {
    "tags": []
   },
   "outputs": [],
   "source": [
    "df[(df['tripduration'] > df['tripduration'].quantile(.01)) & (df['tripduration'] < df['tripduration'].quantile(.99))]['tripduration'].hist()"
   ]
  },
  {
   "cell_type": "markdown",
   "id": "269109ab-fb30-449e-9eaa-b90c8f053c25",
   "metadata": {},
   "source": [
    "# Why I wrote Buckaroo\n",
    "\n",
    "Thank you for bearing with me this far.  You now have seen the PyData ecosystem and a small sample of how it is used.\n",
    "These are all powerful tools, but a bit cumbersome to use.  I look at multiple different datasets a day, and I want to quickly understand them.  I don't want to type a bunch of commands to get the overview I'm looking for and I want to be able to look at the raw data.  Here is Buckaroo"
   ]
  },
  {
   "cell_type": "code",
   "execution_count": null,
   "id": "2c5683c8-7cc5-4933-bd75-fd74420a81af",
   "metadata": {
    "tags": []
   },
   "outputs": [],
   "source": [
    "from buckaroo.buckaroo_widget import BuckarooWidget\n",
    "df = pd.read_csv(\"/Users/paddy/code/example-notebooks/citibike-trips.csv\") \n",
    "df"
   ]
  },
  {
   "cell_type": "code",
   "execution_count": null,
   "id": "4795788b-c3e3-4fcb-9bc5-05774d5f81b1",
   "metadata": {
    "tags": []
   },
   "outputs": [],
   "source": [
    "df['starttime'].is_monotonic_increasing, df['start station latitude'].is_monotonic_decreasing"
   ]
  },
  {
   "cell_type": "code",
   "execution_count": null,
   "id": "3094935d-75b6-4e09-980f-c1b266c050f6",
   "metadata": {
    "tags": []
   },
   "outputs": [],
   "source": [
    "df['start station latitude'].is_monotonic_increasing, df['start station latitude'].is_monotonic_decreasing"
   ]
  },
  {
   "cell_type": "code",
   "execution_count": null,
   "id": "e44d2794-c1bf-44ca-92c1-edc7934018a1",
   "metadata": {
    "tags": []
   },
   "outputs": [],
   "source": [
    "ser = df['starttime']\n",
    "(ser.is_monotonic_increasing or ser.is_monotonic_decreasing)"
   ]
  },
  {
   "cell_type": "code",
   "execution_count": null,
   "id": "4d834878-b068-4b07-ae28-614f308e007b",
   "metadata": {
    "tags": []
   },
   "outputs": [],
   "source": [
    "BuckarooWidget(\n",
    "    df,\n",
    "    column_config_overrides={\n",
    "        'tripduration': {'color_map_config': {\n",
    "        'color_rule': 'color_map',\n",
    "        'map_name': 'BLUE_TO_YELLOW'}}})"
   ]
  },
  {
   "cell_type": "code",
   "execution_count": null,
   "id": "682496b5-8198-477e-9613-687e1b2f6c82",
   "metadata": {
    "tags": []
   },
   "outputs": [],
   "source": [
    "from buckaroo.pluggable_analysis_framework.pluggable_analysis_framework import ColAnalysis\n",
    "from buckaroo.dataflow.dataflow import StylingAnalysis\n",
    "class MonotonicStat(StylingAnalysis):\n",
    "    provides_defaults = dict(is_monotonic=False)\n",
    "    \n",
    "    @staticmethod\n",
    "    def series_summary(sampled_ser, ser):\n",
    "        #print(\"here\", ser.name, len(ser), ser.is_monotonic_increasing, ser.is_monotonic_decreasing)\n",
    "        return dict(is_monotonic=(ser.is_monotonic_increasing or ser.is_monotonic_decreasing))\n",
    "    pinned_rows = [\n",
    "        { 'primary_key_val': 'is_monotonic', 'displayer_args': {'displayer': 'obj'}}]\n",
    "    df_display_name = \"is_monotonic\"\n",
    "    data_key = \"empty\"\n",
    "    \n",
    "w = BuckarooWidget(df[:40_000])\n",
    "w.add_analysis(MonotonicStat)\n",
    "w"
   ]
  },
  {
   "cell_type": "code",
   "execution_count": null,
   "id": "d46124ae-2984-4fa1-9f31-ed40288562d4",
   "metadata": {},
   "outputs": [],
   "source": []
  },
  {
   "cell_type": "code",
   "execution_count": null,
   "id": "c524c253-5399-4868-9f3c-c64140726dce",
   "metadata": {
    "tags": []
   },
   "outputs": [],
   "source": [
    "w = BuckarooWidget(pd.DataFrame({'a':[1,2,3], 'b':[3,2,1], 'c':[10,20,30], 'd':[10, 25, 30], 'e':[10, 5, 30]}))\n",
    "w.add_analysis(MonotonicStat)\n",
    "w"
   ]
  },
  {
   "cell_type": "code",
   "execution_count": null,
   "id": "d8e60c0c-a37f-4365-9fac-6f5438968940",
   "metadata": {},
   "outputs": [],
   "source": [
    "df[df['start station latitude'] <df['start station latitude'].quantile(.01) ]"
   ]
  },
  {
   "cell_type": "markdown",
   "id": "3b1486f5-908f-4079-9326-23f8a6351fd8",
   "metadata": {},
   "source": [
    "# Explaining Buckarooto my non-technical friends \n",
    "\n",
    "This presentation show my side project Buckaroo and the tools it is built on top of.\n",
    "\n",
    "## Background on python and how it's used in datascience\n",
    "\n",
    "Before we dive into exciting visuals and interactive programs, let’s lay some groundwork.\n",
    "\n",
    "Python is a popular programming language, you might also have heard of java, C, and javascript.  Datascientists have come to rely on python because it balances speed of execution (C is faster) with ease of use and learning."
   ]
  },
  {
   "cell_type": "markdown",
   "id": "7cebb7e9-33b3-4f0e-9752-c0d7404371e2",
   "metadata": {},
   "source": [
    "### NumPy\n",
    "\n",
    "Matrix math is at the heart of linear regression, image recognition, and AI like ChatGPT. NumPy was written by Travis Oliphant in 2006 to accelerate matrix operations in python.   In many cases NumPy accelerates matrix operations to 25-100x faster than raw python.\n",
    "\n",
    "Here is NumPy and the Matplotlib charting"
   ]
  },
  {
   "cell_type": "markdown",
   "id": "5db14e50-5bee-4533-9b3d-7107c39dc25c",
   "metadata": {},
   "source": [
    "# Pandas\n",
    "\n",
    "In 2011 financial quant researcher Wes Mckinney released pandas which made analysis of realworld data easier, timeseries data in particular.  Pandas was built on top of NumPy, and allowed computations to be run on mixed datasets (you could have a set of temperature observations ordered by time of day, with a string column for location).\n",
    "\n",
    "Pandas took what was already technically possible and increased the usability so more (work|concepts|manipulations) could be expressed in a natural way.\n",
    "\n",
    "The following code shows reading a 300,000 line csv file about citibike trips"
   ]
  },
  {
   "cell_type": "markdown",
   "id": "06e80d86-9d1e-4870-af79-3f9e76fd0644",
   "metadata": {},
   "source": [
    "# The Jupyter notebook\n",
    "\n",
    "I have been demonstrating the entire PyData ecosystem inside of the Jupyter notebook.  This is an interactive analysis and documentation environment built around python.  While a grad student Fernando Perez wanted a better [interactive environment](https://en.wikipedia.org/wiki/IPython) for playing with data in 2001.  In 2011 the IPython first released the [jupyter notebook](https://en.wikipedia.org/wiki/Project_Jupyter) interface you see here.\n",
    "\n",
    "Combining small snippets of analysis code, with charts, and narrative text allowed academics to write and share research in ways that were cumbersome before.\n",
    "(Maybe show emacs/vscode traditional method of writing code).  This is particularly important for data intensive analysis.  You need to look at the data and play with it iteratively.  This interface works very well for the problem that data scientists and academics deal with every day."
   ]
  },
  {
   "cell_type": "code",
   "execution_count": null,
   "id": "c9c159cb-3726-48ca-8a8f-7bce2f0d6a8d",
   "metadata": {},
   "outputs": [],
   "source": []
  }
 ],
 "metadata": {
  "kernelspec": {
   "display_name": "Python 3 (ipykernel)",
   "language": "python",
   "name": "python3"
  },
  "language_info": {
   "codemirror_mode": {
    "name": "ipython",
    "version": 3
   },
   "file_extension": ".py",
   "mimetype": "text/x-python",
   "name": "python",
   "nbconvert_exporter": "python",
   "pygments_lexer": "ipython3",
   "version": "3.11.7"
  },
  "widgets": {
   "application/vnd.jupyter.widget-state+json": {
    "state": {},
    "version_major": 2,
    "version_minor": 0
   }
  }
 },
 "nbformat": 4,
 "nbformat_minor": 5
}
