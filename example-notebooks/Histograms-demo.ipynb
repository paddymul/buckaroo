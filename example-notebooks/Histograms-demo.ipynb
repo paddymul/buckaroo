{
 "cells": [
  {
   "cell_type": "code",
   "execution_count": null,
   "id": "d99a7ecf-6cce-4b9a-b8be-8b0d1c206b67",
   "metadata": {},
   "outputs": [],
   "source": [
    "%pip install buckaroo\n",
    "try:\n",
    "    from google.colab import output\n",
    "    output.enable_custom_widget_manager()\n",
    "except Exception as e:\n",
    "    print(e)"
   ]
  },
  {
   "cell_type": "code",
   "execution_count": null,
   "id": "75a6af82-5029-4d16-abf1-f0aeb0489957",
   "metadata": {
    "tags": []
   },
   "outputs": [],
   "source": [
    "import numpy as np\n",
    "import itertools\n",
    "import pandas as pd\n",
    "import matplotlib.pyplot as plt\n",
    "import buckaroo\n",
    "%matplotlib inline"
   ]
  },
  {
   "cell_type": "code",
   "execution_count": null,
   "id": "aa9097b0-1c99-46b1-b966-06a9e47e57d6",
   "metadata": {
    "tags": []
   },
   "outputs": [],
   "source": [
    "def bimodal(mean_1, mean_2, N, sigma=5):\n",
    "    X1 = np.random.normal(mean_1, sigma, int(N/2))\n",
    "    X2 = np.random.normal(mean_2, sigma2, int(N/2))\n",
    "    X = np.concatenate([X1, X2])\n",
    "    return X\n",
    "#ab = plt.hist(bimodal(20,40, 400),bins=10)"
   ]
  },
  {
   "cell_type": "code",
   "execution_count": null,
   "id": "91c4cf93-4a15-48ba-a1e9-a46683fcfccf",
   "metadata": {
    "tags": []
   },
   "outputs": [],
   "source": [
    "def rand_cat(named_p, na_per, N):\n",
    "    choices, p = [], []\n",
    "    named_total_per = sum(named_p.values()) + na_per\n",
    "    total_len = int(np.floor(named_total_per * N))\n",
    "    if named_total_per > 0:\n",
    "        for k, v in named_p.items():\n",
    "            choices.append(k)\n",
    "            p.append(v/named_total_per)\n",
    "\n",
    "        choices.append(pd.NA)\n",
    "        p.append(na_per/named_total_per)    \n",
    "        return [np.random.choice(choices, p=p) for k in range(total_len)]\n",
    "    else:\n",
    "        return []\n",
    "\n",
    "def random_categorical(named_p, unique_per, na_per, longtail_per, N):\n",
    "    choice_arr = rand_cat(named_p, na_per, N)\n",
    "    discrete_choice_len = len(choice_arr)\n",
    "\n",
    "    longtail_count = int(np.floor(longtail_per * N))//2\n",
    "    extra_arr = []\n",
    "    for i in range(longtail_count):\n",
    "        extra_arr.append(\"long_%d\" % i)\n",
    "        extra_arr.append(\"long_%d\" % i)\n",
    "\n",
    "    unique_len = N - (len(extra_arr) + discrete_choice_len)\n",
    "    #print(\"discrete_choice_len\", discrete_choice_len, \"longtail_count\", longtail_count, \"unique_len\", unique_len)\n",
    "    for i in range(unique_len):\n",
    "        extra_arr.append(\"unique_%d\" % i)\n",
    "    all_arr = np.concatenate([choice_arr, extra_arr])\n",
    "    np.random.shuffle(all_arr)\n",
    "    return all_arr        "
   ]
  },
  {
   "cell_type": "code",
   "execution_count": null,
   "id": "9cfe316a-077c-4347-8b5e-c6048c16b5ca",
   "metadata": {
    "tags": []
   },
   "outputs": [],
   "source": [
    "N = 4000\n",
    "pd.DataFrame({\n",
    "    'all_NA' :          [pd.NA] * N,\n",
    "    'half_NA' :         random_categorical({1: .5}, unique_per=0,   na_per=.5, longtail_per=.0, N=N),\n",
    "    'longtail' :        random_categorical({},      unique_per=0,   na_per=.2, longtail_per=.8, N=N),\n",
    "    'longtail_unique' : random_categorical({},      unique_per=0.5, na_per=.0, longtail_per=.5, N=N),\n",
    "})"
   ]
  },
  {
   "cell_type": "code",
   "execution_count": null,
   "id": "36089fd7-cb7d-43d8-8e91-dbdf30f6a032",
   "metadata": {
    "tags": []
   },
   "outputs": [],
   "source": [
    "#kitchen sink\n",
    "pd.DataFrame({\n",
    "    'one': [1]*N, \n",
    "    'log_normal': np.random.lognormal(25, .3, N),\n",
    "    'bimodal': bimodal(20,40, N),\n",
    "    'cat_1':random_categorical({'foo': .35, 'bar': .2}, unique_per=.25, na_per=.2, longtail_per=0, N=N),\n",
    "    'all_unique_cat':[str(i)+ \"_a\" for i in range(N)],\n",
    "    'all_unique_N':[i for i in range(N)],\n",
    "    'cat_long_tail': random_categorical({},      unique_per=0,   na_per=.2, longtail_per=.8, N=N),\n",
    "    'all_NA': [pd.NA] * N,\n",
    "\n",
    "    'cat_3':random_categorical({'foo': .3, 'bar': .05, 'baz':.1}, unique_per=.3, na_per=.25, longtail_per=0, N=N),\n",
    "    'cat_4':random_categorical({'foo': .3, 'bar': .05, 'baz':.1}, unique_per=.3, na_per=.25, longtail_per=0, N=N)\n",
    "})"
   ]
  },
  {
   "cell_type": "code",
   "execution_count": null,
   "id": "02d70ce5-4dc6-42ea-853e-b5d5e99d684f",
   "metadata": {},
   "outputs": [],
   "source": [
    "pd.DataFrame({\n",
    "    'normal': np.random.normal(25, .3, N),\n",
    "    'exponential' :  np.random.exponential(1.0, N) * 10 ,\n",
    "    'increasing':[i for i in range(N)],\n",
    "    'one': [1]*N, \n",
    "    'all_unique_cat': random_categorical({}, unique_per=1, na_per=0, longtail_per=0, N=N)\n",
    "})"
   ]
  },
  {
   "cell_type": "code",
   "execution_count": null,
   "id": "0bb02641-0653-4ee7-86c5-7b058abaeb79",
   "metadata": {
    "tags": []
   },
   "outputs": [],
   "source": [
    "pd.DataFrame({\n",
    "    'bimodal' :  bimodal(20,40, N),\n",
    "    'exponential' :  np.random.exponential(1.0, N) * 10 ,\n",
    "    'geometric': np.random.geometric(.2, N) * 10,\n",
    "    'log_normal': np.random.lognormal(25, .3, N),\n",
    "    'normal': np.random.normal(25, .3, N),\n",
    "})"
   ]
  },
  {
   "cell_type": "code",
   "execution_count": null,
   "id": "425e2df3-54cd-4127-bac7-549fe2c15520",
   "metadata": {
    "tags": []
   },
   "outputs": [],
   "source": [
    "#categoricals\n",
    "pd.DataFrame({\n",
    "    'two_vals':                random_categorical({1: .75, 2: .25}, unique_per=0, na_per=0, longtail_per=0, N=N),\n",
    "    'dominant_categories':     random_categorical({'foo': .6, 'bar': .25, 'baz':.15}, unique_per=0, na_per=0, longtail_per=0, N=N),\n",
    "    'dispersed_categories':    random_categorical({'foo': .3, 'bar': .05, 'baz':.1}, unique_per=.3, na_per=.25, longtail_per=0, N=N),\n",
    "})"
   ]
  }
 ],
 "metadata": {
  "kernelspec": {
   "display_name": "Python 3 (ipykernel)",
   "language": "python",
   "name": "python3"
  },
  "language_info": {
   "codemirror_mode": {
    "name": "ipython",
    "version": 3
   },
   "file_extension": ".py",
   "mimetype": "text/x-python",
   "name": "python",
   "nbconvert_exporter": "python",
   "pygments_lexer": "ipython3",
   "version": "3.11.5"
  }
 },
 "nbformat": 4,
 "nbformat_minor": 5
}
