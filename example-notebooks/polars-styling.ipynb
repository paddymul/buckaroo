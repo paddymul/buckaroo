{
 "cells": [
  {
   "cell_type": "markdown",
   "id": "f7fd6f90-3a45-4090-a0aa-bf0e03aab56b",
   "metadata": {
    "tags": []
   },
   "source": [
    "# How to style Buckaroo tables\n",
    "Buckaroo had a major refactoring of the styling system and callbacks with the 0.6 release.\n",
    "\n",
    "This notebook walks through\n",
    "#. Styling columns via the `displayer`\n",
    "#. How to override columns\n",
    "#. The variety of different column `displayer`s available\n",
    "#. How to add automatic styling methods that are available via the UI to cycle through"
   ]
  },
  {
   "cell_type": "code",
   "execution_count": null,
   "id": "73f3516e-2273-495a-b3b9-f68593b0018b",
   "metadata": {
    "tags": []
   },
   "outputs": [],
   "source": [
    "import pandas as pd\n",
    "import numpy as np\n",
    "from buckaroo.dataflow_traditional import SimpleStylingAnalysis\n",
    "from buckaroo.pluggable_analysis_framework.pluggable_analysis_framework import ColAnalysis\n",
    "import polars as pl\n",
    "from buckaroo.polars_buckaroo import PolarsBuckarooWidget"
   ]
  },
  {
   "cell_type": "code",
   "execution_count": null,
   "id": "45a03efb-ec32-4cda-b443-99425e80a458",
   "metadata": {
    "tags": []
   },
   "outputs": [],
   "source": [
    "ROWS = 200\n",
    "typed_df = pl.DataFrame({'int_col':np.random.randint(1,50, ROWS), 'float_col': np.random.randint(1,30, ROWS)/.7,\n",
    "                         \"str_col\": [\"foobar\"]* ROWS\n",
    "                        })\n",
    "#typed_df = pl.from_pandas(typed_df)"
   ]
  },
  {
   "cell_type": "code",
   "execution_count": null,
   "id": "8086b3b9-f97e-4b4c-9c0a-85566be060a3",
   "metadata": {
    "tags": []
   },
   "outputs": [],
   "source": [
    "PolarsBuckarooWidget(typed_df)"
   ]
  },
  {
   "cell_type": "markdown",
   "id": "04bae28c-68e4-43d1-b323-1ac503efa18a",
   "metadata": {},
   "source": [
    "## Displayer\n",
    "Changing the `displayer` is the most common way to customize the styling of a column, in the next example, we override the column_config for `float_col`\n"
   ]
  },
  {
   "cell_type": "code",
   "execution_count": null,
   "id": "3c6d50c3-004b-4850-8404-bef00a990e55",
   "metadata": {
    "tags": []
   },
   "outputs": [],
   "source": [
    "bw2 = PolarsBuckarooWidget(\n",
    "    typed_df, \n",
    "    debug=False,\n",
    "    column_config_overrides={\n",
    "        'float_col':\n",
    "            {'displayer_args': { 'displayer': 'float', 'minimumFractionDigits':0, 'maximumFractionDigits':3}}})\n",
    "bw2"
   ]
  },
  {
   "cell_type": "markdown",
   "id": "de8b7829-c898-4fec-93b0-09c3f7552146",
   "metadata": {},
   "source": [
    "Now we are going to force `float_col` to be displayed with a 'float' displayer\n",
    "notice how the decimal point aligns as opposed to above where 10 is floored without a decimal portion\n",
    "\n",
    "Currently the types are best viewed in their typescript definition [DFWhole.ts](https://github.com/paddymul/buckaroo/blob/feat/dfviewer-config/js/components/DFViewerParts/DFWhole.ts)\n",
    "\n",
    "There are Displayers of\n",
    "\n",
    "`ObjDisplayer`, `BooleanDisplayer`, `StringDisplayer`, `FloatDisplayer`, \n",
    "`DatetimeDefaultDisplayer`, `DatetimeLocaleDisplayer`, `IntegerDisplayer`,\n",
    "\n",
    "`HistogramDisplayer`, and `LinkifyDisplayer`,\n",
    "\n",
    "There are planned displayers of [HumanAbbreviationDisplayer](https://github.com/paddymul/buckaroo/issues/83), [LineChartDisplayer](https://github.com/paddymul/buckaroo/issues/210), [GoogleMapsLinkDisplayer](https://github.com/paddymul/buckaroo/issues/211) , [InlineMapDisplayer](https://github.com/paddymul/buckaroo/issues/212)\n",
    "\n",
    "\n",
    "There is experimental work building mirrored PyDantic types, and work to integrate this typechecking into Buckaroo.  There are also plans for a gallery of examples of the different options."
   ]
  },
  {
   "cell_type": "markdown",
   "id": "8999d568-ddbe-40c8-a7cb-fa7fe0c47c9c",
   "metadata": {},
   "source": [
    "# Tooltip_config\n",
    "\n",
    "There are tooltip_configs of simple summary_series available\n",
    "\n",
    "Tooltips are helpful for adding extra context to cells.  Particularly for noting errors or values changed via auto-cleaning\n",
    "\n",
    "Notice that `column_config_overrides` is merged with the existing column config from Buckaroo, every column still has a displayer"
   ]
  },
  {
   "cell_type": "code",
   "execution_count": null,
   "id": "abc0e795-4ab9-4a5d-b09d-3b926e82afee",
   "metadata": {
    "tags": []
   },
   "outputs": [],
   "source": [
    "bw3 = PolarsBuckarooWidget(\n",
    "    typed_df, \n",
    "    column_config_overrides={\n",
    "        'str_col':\n",
    "            {'tooltip_config': { 'tooltip_type':'simple', 'val_column': 'int_col'}}})\n",
    "bw3"
   ]
  },
  {
   "cell_type": "markdown",
   "id": "c5e17dd6-f658-48d1-b40c-a4ac354ea5d5",
   "metadata": {},
   "source": [
    "# color_map_config\n",
    "\n",
    "Color_map_config controls coloring of columns.  \n",
    "* `color_map` uses the bins from histogram to show a values place in the distribution.  wit the `val_column` parameter, you can color one column based on another.\n",
    "* `color_when_not_null` hilights a cell when another row is not null.  This is meant for error highlighting,  the other column can be hidden\n",
    "* `color_from_column` bases the color of a cell based on the RGB value written to another column.  It is the most generic coloring option"
   ]
  },
  {
   "cell_type": "code",
   "execution_count": null,
   "id": "3a2a125c-75c7-42ae-a87f-6a47bd41068c",
   "metadata": {
    "tags": []
   },
   "outputs": [],
   "source": [
    "bw3 = PolarsBuckarooWidget(\n",
    "    typed_df, \n",
    "    column_config_overrides={\n",
    "        'int_col': {'color_map_config': {\n",
    "            'color_rule': 'color_map',\n",
    "            'map_name': 'DIVERGING_RED_WHITE_BLUE',\n",
    "            'val_column': 'float_col'\n",
    "        }}})\n",
    "bw3"
   ]
  },
  {
   "cell_type": "markdown",
   "id": "0ca07426-086c-4041-bf08-07c7447c8eb5",
   "metadata": {},
   "source": [
    "# Hiding a column\n",
    "\n",
    "You can hide a column with `merge_rule:'hidden'`.  This removes that column from the column_config array.\n",
    "\n",
    "Column hiding can be used to keep data in a dataframe (sent to the table widget) for use as a tooltip, or color, but preventing display which would distract the user\n"
   ]
  },
  {
   "cell_type": "code",
   "execution_count": null,
   "id": "924c506c-123c-43ed-80f8-e239014f7e75",
   "metadata": {},
   "outputs": [],
   "source": [
    "bw_ = PolarsBuckarooWidget(\n",
    "    typed_df, \n",
    "    column_config_overrides={\n",
    "        'int_col': {'merge_rule': 'hidden'}})\n",
    "bw_"
   ]
  },
  {
   "cell_type": "code",
   "execution_count": null,
   "id": "c03b5bc4-0025-4b55-9e7c-cc1a69508688",
   "metadata": {
    "tags": []
   },
   "outputs": [],
   "source": [
    "class SimpleStylingAnalysis(ColAnalysis):\n",
    "    pinned_rows = [\n",
    "        # {'primary_key_val': 'dtype', 'displayer_args': { 'displayer': 'obj' } },\n",
    "        # {'primary_key_val': 'histogram', 'displayer_args': { 'displayer': 'histogram' }, }\n",
    "    ]\n",
    "\n",
    "    @staticmethod\n",
    "    def single_sd_to_column_config(col, sd):\n",
    "        return {'col_name':str(col), 'displayer_args': {'displayer': 'obj'}}\n",
    "\n",
    "    #what is the key for this in the df_display_args_dictionary\n",
    "    df_display_name = \"main\"\n",
    "    data_key = \"main\"\n",
    "    summary_stats_key= 'all_stats'\n",
    "\n",
    "    \n",
    "    @classmethod\n",
    "    def style_columns(kls, sd):\n",
    "        ret_col_config = []\n",
    "\n",
    "        if 'index' not in sd:\n",
    "            ret_col_config.append({'col_name': 'index', 'displayer_args': {'displayer': 'obj'}})\n",
    "            \n",
    "        for col in sd.keys():\n",
    "            ret_col_config.append(kls.single_sd_to_column_config(col, sd[col]))\n",
    "        return {\n",
    "            'pinned_rows': kls.pinned_rows,\n",
    "            'column_config': ret_col_config}\n"
   ]
  },
  {
   "cell_type": "code",
   "execution_count": null,
   "id": "e8b25177-de65-4f5f-838f-152e1b621f5c",
   "metadata": {
    "tags": []
   },
   "outputs": [],
   "source": [
    "def obj_(pkey):\n",
    "    return {'primary_key_val': pkey, 'displayer_args': { 'displayer': 'obj' } }\n",
    "def float_(pkey, digits=3):\n",
    "    return {'primary_key_val': pkey, \n",
    "            'displayer_args': { 'displayer': 'float', 'minimumFractionDigits':digits, 'maximumFractionDigits':digits}}\n",
    "\n",
    "class SummaryStatsAnalysis(PSimpleStylingAnalysis):\n",
    "    pinned_rows = [\n",
    "        obj_('dtype'),\n",
    "        float_('min'),\n",
    "        float_('mode'),\n",
    "        float_('mean'),\n",
    "        float_('max'),\n",
    "        float_('unique_count', 0),\n",
    "        float_('distinct_count', 0),\n",
    "        float_('empty_count', 0)]\n",
    "    df_display_name = \"summary\"\n",
    "    data_key = \"empty\"\n",
    "    summary_stats_key= 'all_stats'\n",
    "base_a_klasses = PolarsBuckarooWidget.analysis_klasses.copy()\n",
    "base_a_klasses.append(SummaryStatsAnalysis)\n",
    "class SummaryBuckarooWidget(PolarsBuckarooWidget):\n",
    "    analysis_klasses = base_a_klasses\n",
    "sbw = SummaryBuckarooWidget(\n",
    "    typed_df, \n",
    "    column_config_overrides=dict(index={'displayer_args': {'displayer': 'obj'}}))\n",
    "#also lets do some hacking so that we start with the summary stats view\n",
    "bstate = sbw.buckaroo_state.copy()\n",
    "bstate['df_display'] = 'summary'\n",
    "sbw.buckaroo_state= bstate\n",
    "sbw"
   ]
  },
  {
   "cell_type": "code",
   "execution_count": null,
   "id": "9702b3fe-e804-449e-bf9f-e1512f62f657",
   "metadata": {
    "tags": []
   },
   "outputs": [],
   "source": []
  },
  {
   "cell_type": "code",
   "execution_count": null,
   "id": "4cb0c130-235a-4396-82a9-396031020d32",
   "metadata": {
    "tags": []
   },
   "outputs": [],
   "source": [
    "base_a_klasses = PolarsBuckarooWidget.analysis_klasses.copy()\n",
    "base_a_klasses.extend([SimpleStylingAnalysis])\n",
    "class SimpleBuckarooWidget(PolarsBuckarooWidget):\n",
    "    analysis_klasses = base_a_klasses\n",
    "    \n",
    "bw3 = SimpleBuckarooWidget(\n",
    "    typed_df, \n",
    "    column_config_overrides={\n",
    "        'float_col': {'color_map_config': {\n",
    "          'color_rule': 'color_map',\n",
    "          'map_name': 'BLUE_TO_YELLOW',\n",
    "        }}})\n",
    "bw3"
   ]
  },
  {
   "cell_type": "markdown",
   "id": "0809cba6-e8ae-4515-8cd8-15889ec18b13",
   "metadata": {},
   "source": [
    "Now lets color int_col based on the range of float_col"
   ]
  },
  {
   "cell_type": "code",
   "execution_count": null,
   "id": "14ebfa58-ae40-4aff-a2b0-a04de8c8fed0",
   "metadata": {
    "tags": []
   },
   "outputs": [],
   "source": []
  },
  {
   "cell_type": "markdown",
   "id": "3c00272f-6624-4168-afeb-a897b5b46c26",
   "metadata": {},
   "source": [
    "Let's hide a column. Note this still has the data for that column sent to the frontend, and it is still accessible for color_maps and tooltips.\n",
    "A note about hiding columns.  It only makes sense to hide columns from functions with access to the whole of a dataframe.\n",
    "The only reason to hide a column (as opposed to remove it from the dataframe) is to use the values for tooltips or colormaps of another column"
   ]
  },
  {
   "cell_type": "code",
   "execution_count": null,
   "id": "c257e6c5-7202-4ec2-8474-1493c23b6d66",
   "metadata": {
    "tags": []
   },
   "outputs": [],
   "source": [
    "bw_ = PolarsBuckarooWidget(\n",
    "    typed_df, \n",
    "    column_config_overrides={\n",
    "        'int_col': {'merge_rule': 'hidden'}})\n",
    "bw_"
   ]
  },
  {
   "cell_type": "markdown",
   "id": "a3116fa5-174e-4c67-98d7-dd33dc9b2275",
   "metadata": {},
   "source": [
    "Let's look at pinned_rows, they can be modified by setting `pinned_rows` on Buckaroo Instaniation"
   ]
  },
  {
   "cell_type": "code",
   "execution_count": null,
   "id": "f3927ce5-8ac1-40d4-8eee-c1b69a2882a4",
   "metadata": {},
   "outputs": [],
   "source": [
    "bw = PolarsBuckarooWidget(\n",
    "    typed_df, \n",
    "    pinned_rows=[\n",
    "        { 'primary_key_val': 'dtype',     'displayer_args': { 'displayer': 'obj' } },\n",
    "        { 'primary_key_val': 'histogram', 'displayer_args': { 'displayer': 'histogram' }},   \n",
    "    ])\n",
    "bw"
   ]
  },
  {
   "cell_type": "markdown",
   "id": "e1fcfa1b-1e60-4e69-92d2-dbd8ac687b79",
   "metadata": {},
   "source": [
    "Pinned rows reads from summary_stats, based on `primary_key_val`.  You can list all summary_stats_keys like this"
   ]
  },
  {
   "cell_type": "code",
   "execution_count": null,
   "id": "49b39f1e-97f6-4b04-a4bb-d2f7b2ff82e0",
   "metadata": {
    "tags": []
   },
   "outputs": [],
   "source": [
    "[x['index'] for x in bw.df_data_dict['all_stats']]"
   ]
  },
  {
   "cell_type": "markdown",
   "id": "1b263014-56bc-412c-82cd-f81e3b9a9913",
   "metadata": {},
   "source": [
    "You can even display histograms in regular cells if 'histogram' is properly constructed"
   ]
  },
  {
   "cell_type": "code",
   "execution_count": null,
   "id": "c978d866-68cb-43e2-b443-11c272509ebb",
   "metadata": {
    "tags": []
   },
   "outputs": [],
   "source": [
    "histogram_vals = [x for x in bw.df_data_dict['all_stats'] if x['index'] == 'histogram'][0]\n",
    "histogram_vals"
   ]
  },
  {
   "cell_type": "code",
   "execution_count": null,
   "id": "9abe22ae-1e9c-4f2b-8e89-375929269362",
   "metadata": {
    "tags": []
   },
   "outputs": [],
   "source": [
    "hist_df = pl.DataFrame({'a':[20, 30],  'hist_col':[  histogram_vals['int_col'], histogram_vals['float_col']]})\n",
    "hist_bw = PolarsBuckarooWidget(hist_df, \n",
    "                                column_config_overrides={\n",
    "                                              'hist_col': {'displayer_args' : {'displayer': 'histogram' }}})\n",
    "hist_bw"
   ]
  },
  {
   "cell_type": "markdown",
   "id": "c96b7e83-b07c-41e1-85f2-c83686d62c70",
   "metadata": {},
   "source": [
    "Adding alternate styling methods\n",
    "\n",
    "Buckaroo encourages using many opinionated analysis that can be quickly cycled through\n",
    "\n",
    "Here we will add to pinned_row configs"
   ]
  },
  {
   "cell_type": "code",
   "execution_count": null,
   "id": "d3136c99-17e0-4a34-a7ff-21117da3a480",
   "metadata": {
    "tags": []
   },
   "outputs": [],
   "source": [
    "class SummaryStatsAnalysis(SimpleStylingAnalysis):\n",
    "    pinned_rows = [\n",
    "        { 'primary_key_val': 'dtype',     'displayer_args': { 'displayer': 'obj' } },\n",
    "        { 'primary_key_val': 'histogram', 'displayer_args': { 'displayer': 'histogram' }},   \n",
    "    ]\n",
    "    df_display_name = \"summary5\"\n",
    "    data_key = \"empty\"\n",
    "    summary_stats_key= 'all_stats'\n",
    "base_a_klasses = PolarsBuckarooWidget.analysis_klasses.copy()\n",
    "base_a_klasses.append(SummaryStatsAnalysis)\n",
    "class SummaryBuckarooWidget(PolarsBuckarooWidget):\n",
    "    analysis_klasses = base_a_klasses\n",
    "SummaryBuckarooWidget(typed_df)"
   ]
  },
  {
   "cell_type": "code",
   "execution_count": null,
   "id": "d8ee357c-ba69-49b1-a8a9-bc31cb8cde47",
   "metadata": {
    "tags": []
   },
   "outputs": [],
   "source": [
    "# it's annoying to type out all of those pinned rows, lets make some convienence functions\n",
    "def obj_(pkey):\n",
    "    return {'primary_key_val': pkey, 'displayer_args': { 'displayer': 'obj' } }\n",
    "\n",
    "def float_(pkey, digits=3):\n",
    "    return {'primary_key_val': pkey, \n",
    "            'displayer_args': { 'displayer': 'float', 'minimumFractionDigits':digits, 'maximumFractionDigits':digits}}\n",
    "\n",
    "class SummaryStatsAnalysis1(SimpleStylingAnalysis):\n",
    "    pinned_rows = [\n",
    "        { 'primary_key_val': 'dtype',     'displayer_args': { 'displayer': 'obj' } },\n",
    "        { 'primary_key_val': 'histogram', 'displayer_args': { 'displayer': 'histogram' }},   \n",
    "    ]\n",
    "    df_display_name = \"summary1\"\n",
    "    data_key = \"empty\"\n",
    "    summary_stats_key= 'all_stats'\n",
    "class SummaryStatsAnalysis(SimpleStylingAnalysis):\n",
    "    pinned_rows = [\n",
    "        obj_('dtype'),\n",
    "        float_('min'),\n",
    "        #float_('median'),\n",
    "        float_('mean'),\n",
    "        float_('max'),\n",
    "    ]\n",
    "    df_display_name = \"summary\"\n",
    "    data_key = \"empty\"\n",
    "    summary_stats_key= 'all_stats'\n",
    "base_a_klasses = PolarsBuckarooWidget.analysis_klasses.copy()\n",
    "base_a_klasses.extend([SummaryStatsAnalysis1, SummaryStatsAnalysis])\n",
    "class SummaryBuckarooWidget(PolarsBuckarooWidget):\n",
    "    analysis_klasses = base_a_klasses\n",
    "sbw = SummaryBuckarooWidget(typed_df)\n",
    "#also lets do some hacking so that we start with the summary stats view\n",
    "bstate = sbw.buckaroo_state.copy()\n",
    "bstate['df_display'] = 'summary1'\n",
    "sbw.buckaroo_state= bstate\n",
    "sbw"
   ]
  },
  {
   "cell_type": "code",
   "execution_count": null,
   "id": "29aa8f47-7cd9-43c5-99e5-84ffeb39e188",
   "metadata": {
    "tags": []
   },
   "outputs": [],
   "source": [
    "class SummaryStatsAnalysis(SimpleStylingAnalysis):\n",
    "    pinned_rows = [\n",
    "        obj_('dtype'),\n",
    "        float_('min'),\n",
    "        #float_('median'),\n",
    "        float_('mean'),\n",
    "        float_('max'),\n",
    "        float_('unique_count', 0),\n",
    "        float_('distinct_count', 0),\n",
    "        float_('empty_count', 0)\n",
    "    ]\n",
    "    df_display_name = \"summary\"\n",
    "    data_key = \"empty\"\n",
    "    summary_stats_key= 'all_stats'\n",
    "base_a_klasses = PolarsBuckarooWidget.analysis_klasses.copy()\n",
    "base_a_klasses.append(SummaryStatsAnalysis)\n",
    "class SummaryBuckarooWidget(PolarsBuckarooWidget):\n",
    "    analysis_klasses = base_a_klasses\n",
    "sbw = SummaryBuckarooWidget(typed_df)\n",
    "#also lets do some hacking so that we start with the summary stats view\n",
    "bstate = sbw.buckaroo_state.copy()\n",
    "bstate['df_display'] = 'summary'\n",
    "sbw.buckaroo_state= bstate\n",
    "sbw"
   ]
  },
  {
   "cell_type": "markdown",
   "id": "be8c2eb7-a791-46f8-b3b4-62f596799b21",
   "metadata": {},
   "source": [
    "# lets add a post processing method"
   ]
  },
  {
   "cell_type": "code",
   "execution_count": null,
   "id": "3ca85511-9a03-4477-aaf3-586947d8db02",
   "metadata": {
    "tags": []
   },
   "outputs": [],
   "source": [
    "from polars import functions as F\n",
    "from buckaroo.pluggable_analysis_framework.polars_analysis_management import PolarsAnalysis"
   ]
  },
  {
   "cell_type": "code",
   "execution_count": null,
   "id": "0bdd2826-1716-4b88-b54d-74241f42549d",
   "metadata": {
    "tags": []
   },
   "outputs": [],
   "source": [
    "class ValueCountPostProcessing(PolarsAnalysis):\n",
    "    @classmethod\n",
    "    def post_process_df(kls, df):\n",
    "        result_df = df.select(\n",
    "            F.all().value_counts().implode().list.gather(pl.arange(0, 10), null_on_oob=True).explode().struct.rename_fields(['val', 'unused_count']).struct.field('val').prefix('val_'),\n",
    "            F.all().value_counts().implode().list.gather(pl.arange(0, 10), null_on_oob=True).explode().struct.field('count').prefix('count_'))\n",
    "        return [result_df, {}]\n",
    "    post_processing_method = \"value_counts\"\n",
    "class TransposeProcessing(ColAnalysis):\n",
    "    @classmethod\n",
    "    def post_process_df(kls, df):\n",
    "        return [df.transpose(), {}]\n",
    "    post_processing_method = \"transpose\"\n",
    "base_a_klasses = PolarsBuckarooWidget.analysis_klasses.copy()\n",
    "base_a_klasses.extend([SimpleStylingAnalysis, ValueCountPostProcessing, TransposeProcessing])\n",
    "class VCBuckarooWidget(PolarsBuckarooWidget):\n",
    "    analysis_klasses = base_a_klasses\n",
    "vcb = VCBuckarooWidget(typed_df, debug=False)\n",
    "vcb"
   ]
  },
  {
   "cell_type": "code",
   "execution_count": null,
   "id": "216936c9-8863-47af-bbcd-68eab766e91d",
   "metadata": {},
   "outputs": [],
   "source": [
    "class AdaptingStylingAnalysis(SimpleStylingAnalysis):\n",
    "    requires_summary = [\"histogram\", \"is_numeric\", \"dtype\", \"is_integer\"]\n",
    "    pinned_rows = [\n",
    "        obj_('dtype'),\n",
    "        {'primary_key_val': 'histogram', 'displayer_args': { 'displayer': 'histogram' }}]\n",
    "\n",
    "    @staticmethod\n",
    "    def single_sd_to_column_config(col, sd):\n",
    "        digits = 3\n",
    "        if sd['is_integer']:\n",
    "            disp = {'displayer': 'float', 'minimumFractionDigits':0, 'maximumFractionDigits':0}\n",
    "        elif sd['is_numeric']:\n",
    "            disp = {'displayer': 'float', 'minimumFractionDigits':digits, 'maximumFractionDigits':digits}\n",
    "        else:\n",
    "            disp = {'displayer': 'obj'}\n",
    "        return {'col_name':col, 'displayer_args': disp }\n",
    "\n",
    "base_a_klasses = PolarsBuckarooWidget.analysis_klasses.copy()\n",
    "base_a_klasses.extend([AdaptingStylingAnalysis, ValueCountPostProcessing])\n",
    "class ABuckarooWidget(PolarsBuckarooWidget):\n",
    "    analysis_klasses = base_a_klasses\n",
    "acb = ABuckarooWidget(typed_df)\n",
    "acb"
   ]
  },
  {
   "cell_type": "code",
   "execution_count": null,
   "id": "db2eb990-b6b0-47aa-b7ca-2fe40b9dcebe",
   "metadata": {},
   "outputs": [],
   "source": []
  }
 ],
 "metadata": {
  "kernelspec": {
   "display_name": "Python 3 (ipykernel)",
   "language": "python",
   "name": "python3"
  },
  "language_info": {
   "codemirror_mode": {
    "name": "ipython",
    "version": 3
   },
   "file_extension": ".py",
   "mimetype": "text/x-python",
   "name": "python",
   "nbconvert_exporter": "python",
   "pygments_lexer": "ipython3",
   "version": "3.11.7"
  },
  "widgets": {
   "application/vnd.jupyter.widget-state+json": {
    "state": {},
    "version_major": 2,
    "version_minor": 0
   }
  }
 },
 "nbformat": 4,
 "nbformat_minor": 5
}
