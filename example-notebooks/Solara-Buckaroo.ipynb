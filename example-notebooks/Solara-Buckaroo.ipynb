{
 "cells": [
  {
   "cell_type": "markdown",
   "id": "d69037a0-5b72-469c-8de7-d48a2788bede",
   "metadata": {},
   "source": [
    "# Buckaroo works in Solara too"
   ]
  },
  {
   "cell_type": "code",
   "execution_count": null,
   "id": "eaec37a5-7a9b-4dca-ab45-fae5b50e6d16",
   "metadata": {
    "tags": []
   },
   "outputs": [],
   "source": [
    "import pandas as pd\n",
    "import solara\n",
    "import reacton\n",
    "from buckaroo import BuckarooWidget, DFViewer\n",
    "from buckaroo.buckaroo_widget import RawDFViewerWidget\n",
    "from buckaroo.dataflow.widget_extension_utils import configure_buckaroo\n",
    "\n"
   ]
  },
  {
   "cell_type": "code",
   "execution_count": null,
   "id": "79fc4322-12b9-42bb-8bc6-2139e1a7d1f8",
   "metadata": {
    "tags": []
   },
   "outputs": [],
   "source": [
    "import solara\n",
    "from buckaroo.solara_buckaroo import SolaraDFViewer, SolaraBuckarooWidget"
   ]
  },
  {
   "cell_type": "code",
   "execution_count": null,
   "id": "bd085457-3ecf-438d-bf03-be1c2f0fa8ef",
   "metadata": {
    "tags": []
   },
   "outputs": [],
   "source": [
    "df = pd.DataFrame({'a':[10,20]})\n",
    "@solara.component\n",
    "def Page():\n",
    "    bw = SolaraDFViewer(df=df)\n",
    "display(Page())"
   ]
  },
  {
   "cell_type": "code",
   "execution_count": null,
   "id": "cbb96e68-21e6-4d6e-86d2-bcb872c809ff",
   "metadata": {
    "tags": []
   },
   "outputs": [],
   "source": [
    "def SolaraDFViewer(df, column_config_overrides=None,\n",
    "                    extra_pinned_rows=None, pinned_rows=None,\n",
    "                    extra_analysis_klasses=None, analysis_klasses=None):\n",
    "    \n",
    "    BuckarooKls = configure_buckaroo(\n",
    "        BuckarooWidget,\n",
    "        extra_pinned_rows=extra_pinned_rows, pinned_rows=pinned_rows,\n",
    "        extra_analysis_klasses=extra_analysis_klasses, analysis_klasses=analysis_klasses)\n",
    "\n",
    "    bw = BuckarooKls(df, column_config_overrides=column_config_overrides)\n",
    "    dfv_config = bw.df_display_args['dfviewer_special']['df_viewer_config']\n",
    "    df_data = bw.df_data_dict['main']\n",
    "    summary_stats_data = bw.df_data_dict['all_stats']\n",
    "\n",
    "    comp = reacton.core.ComponentWidget(widget=RawDFViewerWidget)\n",
    "    \n",
    "    element_kwargs = dict(df_data=df_data, df_viewer_config=dfv_config, summary_stats_data=summary_stats_data)\n",
    "\n",
    "    return reacton.core.Element(comp, kwargs=element_kwargs)\n"
   ]
  },
  {
   "cell_type": "code",
   "execution_count": null,
   "id": "004f385a-1789-4e42-82f3-1501f067191c",
   "metadata": {
    "tags": []
   },
   "outputs": [],
   "source": [
    "df = pd.DataFrame({'a':[10,20]})\n",
    "@solara.component\n",
    "def Page():\n",
    "    bw = SolaraDFViewer(df=df)\n",
    "display(Page())"
   ]
  },
  {
   "cell_type": "code",
   "execution_count": null,
   "id": "32e361a8-9e53-48a0-a8f0-1008d631175b",
   "metadata": {
    "tags": []
   },
   "outputs": [],
   "source": [
    "\n",
    "def reacton_buckaroo(**kwargs):\n",
    "    widget_cls = BuckarooWidget\n",
    "    comp = reacton.core.ComponentWidget(widget=widget_cls)\n",
    "    return reacton.core.Element(comp, kwargs=kwargs)\n"
   ]
  },
  {
   "cell_type": "code",
   "execution_count": null,
   "id": "638ef65e-56e3-4431-a251-69616b02cdb1",
   "metadata": {
    "tags": []
   },
   "outputs": [],
   "source": [
    "@solara.component\n",
    "def Page():\n",
    "    bw = reacton_buckaroo(df=df)\n",
    "display(Page())"
   ]
  },
  {
   "cell_type": "code",
   "execution_count": null,
   "id": "f588a220-77e7-4b72-bc0f-e3796b36f620",
   "metadata": {},
   "outputs": [],
   "source": []
  }
 ],
 "metadata": {
  "kernelspec": {
   "display_name": "Python 3 (ipykernel)",
   "language": "python",
   "name": "python3"
  },
  "language_info": {
   "codemirror_mode": {
    "name": "ipython",
    "version": 3
   },
   "file_extension": ".py",
   "mimetype": "text/x-python",
   "name": "python",
   "nbconvert_exporter": "python",
   "pygments_lexer": "ipython3",
   "version": "3.11.7"
  },
  "widgets": {
   "application/vnd.jupyter.widget-state+json": {
    "state": {},
    "version_major": 2,
    "version_minor": 0
   }
  }
 },
 "nbformat": 4,
 "nbformat_minor": 5
}
