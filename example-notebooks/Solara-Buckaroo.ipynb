{
 "cells": [
  {
   "cell_type": "markdown",
   "id": "d69037a0-5b72-469c-8de7-d48a2788bede",
   "metadata": {},
   "source": [
    "# Buckaroo works in Solara too"
   ]
  },
  {
   "cell_type": "code",
   "execution_count": null,
   "id": "79fc4322-12b9-42bb-8bc6-2139e1a7d1f8",
   "metadata": {
    "tags": []
   },
   "outputs": [],
   "source": [
    "import pandas as pd\n",
    "import solara\n",
    "from buckaroo.solara_buckaroo import SolaraDFViewer, SolaraBuckarooWidget"
   ]
  },
  {
   "cell_type": "code",
   "execution_count": null,
   "id": "bd085457-3ecf-438d-bf03-be1c2f0fa8ef",
   "metadata": {
    "tags": []
   },
   "outputs": [],
   "source": [
    "df = pd.DataFrame({'a':[10,20]})\n",
    "@solara.component\n",
    "def Page():\n",
    "    bw = SolaraDFViewer(df=df)\n",
    "display(Page())"
   ]
  },
  {
   "cell_type": "markdown",
   "id": "ce7aec8e-412a-46a4-af4e-7a026fd33fa1",
   "metadata": {},
   "source": [
    "## You can turn off pinned_rows too"
   ]
  },
  {
   "cell_type": "code",
   "execution_count": null,
   "id": "b3558422-55f4-4f88-b85d-71e910d10bd5",
   "metadata": {
    "tags": []
   },
   "outputs": [],
   "source": [
    "df = pd.DataFrame({'a':[10,20]})\n",
    "@solara.component\n",
    "def Page():\n",
    "    bw = SolaraDFViewer(df=df, pinned_rows=[])\n",
    "display(Page())"
   ]
  },
  {
   "cell_type": "markdown",
   "id": "1551cd59-2e52-4fd0-9d93-f136eed71e2d",
   "metadata": {},
   "source": [
    "# And it works with Polars"
   ]
  },
  {
   "cell_type": "code",
   "execution_count": null,
   "id": "a7e2556c-b768-408b-8aa2-bb81bd91ee9c",
   "metadata": {
    "tags": []
   },
   "outputs": [],
   "source": [
    "import polars as pl\n",
    "from buckaroo.solara_buckaroo import SolaraPolarsDFViewer, SolaraPolarsBuckarooWidget\n",
    "df = pl.DataFrame({'a':[10,20]})\n",
    "@solara.component\n",
    "def Page():\n",
    "    bw = SolaraPolarsDFViewer(df=df, pinned_rows=[])\n",
    "display(Page())"
   ]
  },
  {
   "cell_type": "markdown",
   "id": "02db2eb2-0b6a-40c4-bcc8-b310a1d6e405",
   "metadata": {},
   "source": [
    "# Let's look at more data"
   ]
  },
  {
   "cell_type": "code",
   "execution_count": null,
   "id": "3f74b8fb-7ba3-4c33-ad2e-e17baad839bc",
   "metadata": {
    "tags": []
   },
   "outputs": [],
   "source": [
    "cb_trips_df = pd.read_csv(\"https://s3.amazonaws.com/tripdata/201401-citibike-tripdata.zip\")"
   ]
  },
  {
   "cell_type": "code",
   "execution_count": null,
   "id": "22d571e5-6bf2-4a5f-8bfe-2c69d679f8f8",
   "metadata": {
    "tags": []
   },
   "outputs": [],
   "source": [
    "@solara.component\n",
    "def Page():\n",
    "    bw = SolaraDFViewer(df=cb_trips_df, pinned_rows=[])\n",
    "display(Page())"
   ]
  },
  {
   "cell_type": "code",
   "execution_count": null,
   "id": "4f87e093-c12c-4761-94ac-16c3b7bd7662",
   "metadata": {},
   "outputs": [],
   "source": []
  }
 ],
 "metadata": {
  "kernelspec": {
   "display_name": "Python 3 (ipykernel)",
   "language": "python",
   "name": "python3"
  },
  "language_info": {
   "codemirror_mode": {
    "name": "ipython",
    "version": 3
   },
   "file_extension": ".py",
   "mimetype": "text/x-python",
   "name": "python",
   "nbconvert_exporter": "python",
   "pygments_lexer": "ipython3",
   "version": "3.11.7"
  },
  "widgets": {
   "application/vnd.jupyter.widget-state+json": {
    "state": {},
    "version_major": 2,
    "version_minor": 0
   }
  }
 },
 "nbformat": 4,
 "nbformat_minor": 5
}
