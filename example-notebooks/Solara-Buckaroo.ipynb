{
 "cells": [
  {
   "cell_type": "markdown",
   "id": "d69037a0-5b72-469c-8de7-d48a2788bede",
   "metadata": {},
   "source": [
    "# Buckaroo works in Solara too"
   ]
  },
  {
   "cell_type": "code",
   "execution_count": null,
   "id": "79fc4322-12b9-42bb-8bc6-2139e1a7d1f8",
   "metadata": {
    "tags": []
   },
   "outputs": [],
   "source": [
    "import pandas as pd\n",
    "import solara\n",
    "from buckaroo.solara_buckaroo import SolaraDFViewer, SolaraBuckarooWidget"
   ]
  },
  {
   "cell_type": "code",
   "execution_count": null,
   "id": "bd085457-3ecf-438d-bf03-be1c2f0fa8ef",
   "metadata": {
    "tags": []
   },
   "outputs": [],
   "source": [
    "df = pd.DataFrame({'a':[10,20]})\n",
    "@solara.component\n",
    "def Page():\n",
    "    bw = SolaraDFViewer(df=df)\n",
    "display(Page())"
   ]
  },
  {
   "cell_type": "markdown",
   "id": "ce7aec8e-412a-46a4-af4e-7a026fd33fa1",
   "metadata": {},
   "source": [
    "## You can turn off pinned_rows too"
   ]
  },
  {
   "cell_type": "code",
   "execution_count": null,
   "id": "b3558422-55f4-4f88-b85d-71e910d10bd5",
   "metadata": {
    "tags": []
   },
   "outputs": [],
   "source": [
    "df = pd.DataFrame({'a':[10,20]})\n",
    "@solara.component\n",
    "def Page():\n",
    "    bw = SolaraDFViewer(df=df, pinned_rows=[])\n",
    "display(Page())"
   ]
  },
  {
   "cell_type": "markdown",
   "id": "1551cd59-2e52-4fd0-9d93-f136eed71e2d",
   "metadata": {},
   "source": [
    "# And it works with Polars"
   ]
  },
  {
   "cell_type": "code",
   "execution_count": null,
   "id": "a7e2556c-b768-408b-8aa2-bb81bd91ee9c",
   "metadata": {
    "tags": []
   },
   "outputs": [],
   "source": [
    "import polars as pl\n",
    "from buckaroo.solara_buckaroo import SolaraPolarsDFViewer, SolaraPolarsBuckarooWidget\n",
    "df = pl.DataFrame({'a':[10,20]})\n",
    "@solara.component\n",
    "def Page():\n",
    "    bw = SolaraPolarsDFViewer(df=df, pinned_rows=[])\n",
    "display(Page())"
   ]
  },
  {
   "cell_type": "markdown",
   "id": "02db2eb2-0b6a-40c4-bcc8-b310a1d6e405",
   "metadata": {},
   "source": [
    "# Let's look at more data"
   ]
  },
  {
   "cell_type": "code",
   "execution_count": null,
   "id": "3f74b8fb-7ba3-4c33-ad2e-e17baad839bc",
   "metadata": {
    "tags": []
   },
   "outputs": [],
   "source": [
    "cb_trips_df = pd.read_csv(\"https://github.com/paddymul/buckaroo-data/raw/main/cb_data/2016-04.csv\")\n"
   ]
  },
  {
   "cell_type": "code",
   "execution_count": null,
   "id": "22d571e5-6bf2-4a5f-8bfe-2c69d679f8f8",
   "metadata": {
    "tags": []
   },
   "outputs": [],
   "source": [
    "@solara.component\n",
    "def Page():\n",
    "    bw = SolaraDFViewer(df=cb_trips_df, pinned_rows=[])\n",
    "display(Page())"
   ]
  },
  {
   "cell_type": "markdown",
   "id": "5e4c06cc-7e9c-4d77-afec-7c9e78d8ca3b",
   "metadata": {},
   "source": [
    "# Building an app around SolaraDFViewer\n",
    "The following app hardcodes two dataframes and lets you select between them"
   ]
  },
  {
   "cell_type": "code",
   "execution_count": null,
   "id": "4d1256ef-edf5-494a-8a2c-a5c1a6a38b29",
   "metadata": {},
   "outputs": [],
   "source": [
    "dataframe_names = [\"foo\", \"bar\"]\n",
    "df_name = solara.reactive(\"foo\")\n",
    "\n",
    "dataframes = dict(foo=df,\n",
    "                  bar=pd.DataFrame({'c':[20,50,90], 'd':[False, True, True]}))\n",
    "\n",
    "@solara.component\n",
    "def Page():\n",
    "    solara.Select(label=\"df_name\", value=df_name, values=dataframe_names)\n",
    "    active_df = dataframes[df_name.value]\n",
    "    bw = SolaraDFViewer(active_df)\n",
    "\n",
    "    solara.Markdown(f\"**Selected**: {df_name.value}\")\n",
    "display(Page())"
   ]
  },
  {
   "cell_type": "markdown",
   "id": "9ca33684-b15f-48f9-a19d-f3a5221343ba",
   "metadata": {},
   "source": [
    "# Reading large dataframes"
   ]
  },
  {
   "cell_type": "code",
   "execution_count": null,
   "id": "74ff8e28-56ed-4cf8-9473-b88f9b047178",
   "metadata": {
    "tags": []
   },
   "outputs": [],
   "source": [
    "url_base = \"https://github.com/paddymul/buckaroo-data/raw/main/cb_data/\"\n",
    "\n",
    "dataframe_names = [\n",
    "    \"2016-01.parq\", \"2016-02.parq\",\n",
    "    \"2016-03.parq\", \"2016-04.parq\"]\n",
    "\n",
    "df_name = solara.reactive(\"2016-01.parq\")\n",
    "\n",
    "@solara.component\n",
    "def Page():\n",
    "    solara.Select(label=\"df_name\", value=df_name, values=dataframe_names)\n",
    "    active_df = pl.read_parquet(url_base+df_name.value)\n",
    "    bw = SolaraPolarsDFViewer(active_df)\n",
    "\n",
    "    solara.Markdown(f\"**Selected**: {df_name.value}\")\n",
    "display(Page())"
   ]
  }
 ],
 "metadata": {
  "kernelspec": {
   "display_name": "Python 3 (ipykernel)",
   "language": "python",
   "name": "python3"
  },
  "language_info": {
   "codemirror_mode": {
    "name": "ipython",
    "version": 3
   },
   "file_extension": ".py",
   "mimetype": "text/x-python",
   "name": "python",
   "nbconvert_exporter": "python",
   "pygments_lexer": "ipython3",
   "version": "3.11.7"
  },
  "widgets": {
   "application/vnd.jupyter.widget-state+json": {
    "state": {},
    "version_major": 2,
    "version_minor": 0
   }
  }
 },
 "nbformat": 4,
 "nbformat_minor": 5
}
