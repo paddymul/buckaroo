{
 "cells": [
  {
   "cell_type": "code",
   "execution_count": null,
   "id": "b45fa7dc-e098-40ee-adf4-c3a4c6a5545c",
   "metadata": {
    "tags": []
   },
   "outputs": [],
   "source": [
    "import pandas as pd\n",
    "import buckaroo\n",
    "from itables.sample_dfs import get_dict_of_test_dfs\n",
    "dict_of_test_dfs = get_dict_of_test_dfs()"
   ]
  },
  {
   "cell_type": "code",
   "execution_count": null,
   "id": "8ddb9152-702f-4bcb-86c6-0de2a138bb89",
   "metadata": {
    "tags": []
   },
   "outputs": [],
   "source": [
    "dict_of_test_dfs[\"empty\"]"
   ]
  },
  {
   "cell_type": "code",
   "execution_count": null,
   "id": "053d0453-5615-4f7b-a519-bb67912b28da",
   "metadata": {
    "tags": []
   },
   "outputs": [],
   "source": [
    "dict_of_test_dfs[\"no_rows\"]  # results in ColDisplayHints Error"
   ]
  },
  {
   "cell_type": "code",
   "execution_count": null,
   "id": "7969cc05-1ebe-4b72-beb5-7ea35174bfaa",
   "metadata": {
    "tags": []
   },
   "outputs": [],
   "source": [
    "dict_of_test_dfs[\"no_rows_one_column\"] # results in ColDisplayHints Error"
   ]
  },
  {
   "cell_type": "code",
   "execution_count": null,
   "id": "9b6cae85-33b9-425b-af7d-299c448a6ea1",
   "metadata": {
    "tags": []
   },
   "outputs": [],
   "source": [
    "dict_of_test_dfs[\"no_columns\"]"
   ]
  },
  {
   "cell_type": "code",
   "execution_count": null,
   "id": "5d777553-3aeb-4467-99ef-b1a96cbaee8d",
   "metadata": {
    "tags": []
   },
   "outputs": [],
   "source": [
    "dict_of_test_dfs[\"no_columns_one_row\"]"
   ]
  },
  {
   "cell_type": "code",
   "execution_count": null,
   "id": "9e9f4664-9139-4fbd-974d-f16efe53b608",
   "metadata": {
    "tags": []
   },
   "outputs": [],
   "source": [
    "dict_of_test_dfs[\"bool\"] #Col Display hints error"
   ]
  },
  {
   "cell_type": "code",
   "execution_count": null,
   "id": "1ac46685-7288-467b-afad-a4d7699a998a",
   "metadata": {
    "tags": []
   },
   "outputs": [],
   "source": [
    "dict_of_test_dfs[\"nullable_boolean\"]"
   ]
  },
  {
   "cell_type": "code",
   "execution_count": null,
   "id": "0748b5cf-1166-4208-94e6-b64b7859e356",
   "metadata": {
    "tags": []
   },
   "outputs": [],
   "source": [
    "dict_of_test_dfs[\"int\"]"
   ]
  },
  {
   "cell_type": "code",
   "execution_count": null,
   "id": "a4fafb72-1011-4048-a4b4-4c16b7924e02",
   "metadata": {
    "tags": []
   },
   "outputs": [],
   "source": [
    "dict_of_test_dfs[\"nullable_int\"]"
   ]
  },
  {
   "cell_type": "code",
   "execution_count": null,
   "id": "f8b40fbd-1b9a-4c3f-8d72-3fc0b7855dc6",
   "metadata": {
    "tags": []
   },
   "outputs": [],
   "source": [
    "dict_of_test_dfs[\"float\"]"
   ]
  },
  {
   "cell_type": "code",
   "execution_count": null,
   "id": "cdaa4682-e2d6-4d89-9b46-eb7313855903",
   "metadata": {
    "tags": []
   },
   "outputs": [],
   "source": [
    "dict_of_test_dfs[\"str\"]"
   ]
  },
  {
   "cell_type": "code",
   "execution_count": null,
   "id": "cdc821e1-e3f9-4846-ad06-74a887a6ee84",
   "metadata": {
    "tags": []
   },
   "outputs": [],
   "source": [
    "dict_of_test_dfs[\"time\"]"
   ]
  },
  {
   "cell_type": "code",
   "execution_count": null,
   "id": "f4bf7e0f-3c80-4fbe-b59f-aa49febc3a38",
   "metadata": {
    "tags": []
   },
   "outputs": [],
   "source": [
    "dict_of_test_dfs[\"object\"]"
   ]
  },
  {
   "cell_type": "code",
   "execution_count": null,
   "id": "857e6532-c352-49f1-a2f2-fd0125144207",
   "metadata": {
    "tags": []
   },
   "outputs": [],
   "source": [
    "dict_of_test_dfs[\"ordered_categories\"]"
   ]
  },
  {
   "cell_type": "code",
   "execution_count": null,
   "id": "d5479ba8-9f55-48e6-9a6c-fe9ee246c91a",
   "metadata": {
    "tags": []
   },
   "outputs": [],
   "source": [
    "dict_of_test_dfs[\"ordered_categories_in_multiindex\"]"
   ]
  },
  {
   "cell_type": "code",
   "execution_count": null,
   "id": "23be7ceb-de1a-44e8-91e0-2cc894399854",
   "metadata": {
    "tags": []
   },
   "outputs": [],
   "source": [
    "dict_of_test_dfs[\"multiindex\"]"
   ]
  },
  {
   "cell_type": "code",
   "execution_count": null,
   "id": "92856cdc-a024-4232-b849-15bab83c16e1",
   "metadata": {
    "tags": []
   },
   "outputs": [],
   "source": [
    "dict_of_test_dfs[\"countries\"]"
   ]
  },
  {
   "cell_type": "code",
   "execution_count": null,
   "id": "8d7d9912-2a13-4153-af4c-1239a929bc7e",
   "metadata": {
    "tags": []
   },
   "outputs": [],
   "source": [
    "dict_of_test_dfs[\"capital\"]"
   ]
  },
  {
   "cell_type": "code",
   "execution_count": null,
   "id": "70329ae8-99a5-4b9c-9128-9c3fc2b6362b",
   "metadata": {
    "tags": []
   },
   "outputs": [],
   "source": [
    "dict_of_test_dfs[\"complex_index\"]"
   ]
  },
  {
   "cell_type": "code",
   "execution_count": null,
   "id": "998748f6-a664-4cf6-9388-ab9ab742e069",
   "metadata": {
    "tags": []
   },
   "outputs": [],
   "source": [
    "dict_of_test_dfs[\"int_float_str\"]"
   ]
  },
  {
   "cell_type": "code",
   "execution_count": null,
   "id": "622a3fc5-ca35-4c5c-b48f-b2749ecaac87",
   "metadata": {
    "tags": []
   },
   "outputs": [],
   "source": [
    "dict_of_test_dfs[\"wide\"]"
   ]
  },
  {
   "cell_type": "code",
   "execution_count": null,
   "id": "929ab710-d645-4376-99ac-dfcc43a247c6",
   "metadata": {
    "tags": []
   },
   "outputs": [],
   "source": [
    "dict_of_test_dfs[\"long_column_names\"]"
   ]
  },
  {
   "cell_type": "code",
   "execution_count": null,
   "id": "204d1b91-b58b-45d8-8b73-ff212b962abb",
   "metadata": {
    "tags": []
   },
   "outputs": [],
   "source": [
    "dict_of_test_dfs[\"duplicated_columns\"]"
   ]
  },
  {
   "cell_type": "code",
   "execution_count": null,
   "id": "a5b35a2b-34c4-455c-9653-eb10b0249344",
   "metadata": {
    "tags": []
   },
   "outputs": [],
   "source": [
    "dict_of_test_dfs[\"named_column_index\"]"
   ]
  },
  {
   "cell_type": "code",
   "execution_count": null,
   "id": "37b655c1-4937-4ba1-898f-3e225d71a178",
   "metadata": {
    "tags": []
   },
   "outputs": [],
   "source": [
    "dict_of_test_dfs[\"big_integers\"]"
   ]
  }
 ],
 "metadata": {
  "kernelspec": {
   "display_name": "Python 3 (ipykernel)",
   "language": "python",
   "name": "python3"
  },
  "language_info": {
   "codemirror_mode": {
    "name": "ipython",
    "version": 3
   },
   "file_extension": ".py",
   "mimetype": "text/x-python",
   "name": "python",
   "nbconvert_exporter": "python",
   "pygments_lexer": "ipython3",
   "version": "3.11.5"
  },
  "widgets": {
   "application/vnd.jupyter.widget-state+json": {
    "state": {},
    "version_major": 2,
    "version_minor": 0
   }
  }
 },
 "nbformat": 4,
 "nbformat_minor": 5
}
