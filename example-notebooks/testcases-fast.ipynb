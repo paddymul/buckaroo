{
 "cells": [
  {
   "cell_type": "code",
   "execution_count": null,
   "id": "51091834-6d31-4e0e-b13c-a7be0a02ddb4",
   "metadata": {},
   "outputs": [],
   "source": [
    "import pandas as pd\n",
    "import polars as pl\n",
    "import numpy as np\n",
    "import json\n",
    "from buckaroo.buckaroo_widget import BuckarooWidget as PandasBuckarooWidget\n",
    "from buckaroo.polars_buckaroo import PolarsBuckarooWidget"
   ]
  },
  {
   "cell_type": "code",
   "execution_count": null,
   "id": "040f826c-8bfe-4c03-bd8b-c65986d2ac2f",
   "metadata": {
    "tags": []
   },
   "outputs": [],
   "source": [
    "df = pd.read_csv(\"/Users/paddy/code/example-notebooks/citibike-trips.csv\") #for airplane work\n",
    "pl_df = pl.read_csv(\"/Users/paddy/code/example-notebooks/citibike-trips.csv\") #for"
   ]
  },
  {
   "cell_type": "code",
   "execution_count": null,
   "id": "54790361-302e-4266-bc5e-47273997b8d2",
   "metadata": {
    "tags": []
   },
   "outputs": [],
   "source": [
    "%timeit PandasBuckarooWidget(df)"
   ]
  },
  {
   "cell_type": "code",
   "execution_count": null,
   "id": "1da53d4a-1fc8-4705-acb5-d2b38d505c03",
   "metadata": {},
   "outputs": [],
   "source": [
    "%timeit PolarsBuckarooWidget(pl_df)"
   ]
  },
  {
   "cell_type": "markdown",
   "id": "4bc0a224-fcf7-4835-8efa-1714ef9f08b4",
   "metadata": {},
   "source": [
    "# At first glance the performance is close\n",
    "that looks like the performance is fairly close between polars and pandas\n",
    "\n",
    "I think I'm missing something"
   ]
  },
  {
   "cell_type": "code",
   "execution_count": null,
   "id": "91062062-940e-4448-8c71-46f060b9dac3",
   "metadata": {},
   "outputs": [],
   "source": [
    "from buckaroo.dataflow import Sampling\n",
    "class FullSampling(Sampling):\n",
    "    pre_limit = False\n",
    "class FullPandasBuckarooWidget(PandasBuckarooWidget):\n",
    "    sampling_klass=FullSampling\n",
    "%timeit  FullPandasBuckarooWidget(df)\n",
    "bw = FullPandasBuckarooWidget(df)"
   ]
  },
  {
   "cell_type": "code",
   "execution_count": null,
   "id": "bb36ce16-9f52-4bf3-a119-e1c490c3622f",
   "metadata": {},
   "outputs": [],
   "source": [
    "bw = FullPandasBuckarooWidget(df)\n",
    "len(bw.processed_df)\n"
   ]
  },
  {
   "cell_type": "code",
   "execution_count": null,
   "id": "ad7249a2-6960-4505-9ae5-b0173f251463",
   "metadata": {},
   "outputs": [],
   "source": []
  },
  {
   "cell_type": "code",
   "execution_count": null,
   "id": "30063897-1b67-4507-a3b8-0d98ab0f4b9f",
   "metadata": {},
   "outputs": [],
   "source": [
    "df = pd.read_parquet('banklist.parquet')\n",
    "print(len(df) * len(df.columns), len(df), len(df.columns))\n",
    "%timeit bw = BuckarooWidget(df)"
   ]
  },
  {
   "cell_type": "code",
   "execution_count": null,
   "id": "dd8b3a75-a615-402d-9c6c-fc57c2759fe4",
   "metadata": {},
   "outputs": [],
   "source": [
    "df2 = pd.read_csv('death-by-suicide-hispanic.csv')\n",
    "print(len(df2) * len(df2.columns), len(df2), len(df2.columns))\n",
    "%timeit bw = BuckarooWidget(df2)"
   ]
  },
  {
   "cell_type": "code",
   "execution_count": null,
   "id": "5e338ccf-5a61-457d-addd-bdfd8510aa86",
   "metadata": {},
   "outputs": [],
   "source": [
    "df10 = pd.read_csv('Machine_readable_file_bd_employ.csv')\n",
    "print(len(df10) * len(df10.columns), len(df10), len(df10.columns))\n",
    "%timeit bw = BuckarooWidget(df10)"
   ]
  },
  {
   "cell_type": "code",
   "execution_count": null,
   "id": "dd5b1809-5d8d-4c26-b263-165592918b2a",
   "metadata": {},
   "outputs": [],
   "source": [
    "df9 = pd.read_csv('scorecard.csv')\n",
    "print(len(df9) * len(df9.columns), len(df9), len(df9.columns))\n",
    "%timeit bw = BuckarooWidget(df9)"
   ]
  },
  {
   "cell_type": "code",
   "execution_count": null,
   "id": "5159536e-bad0-46cd-ba99-77c17f42dacd",
   "metadata": {},
   "outputs": [],
   "source": [
    "df6 =  pd.read_parquet('1993-flights.gzip.parquet')\n",
    "print(len(df6) * len(df6.columns), len(df6), len(df6.columns))\n",
    "%timeit bw = BuckarooWidget(df6[:10_000])"
   ]
  },
  {
   "cell_type": "code",
   "execution_count": null,
   "id": "c223dcb4-a354-4f3a-b492-e6ae33c99188",
   "metadata": {},
   "outputs": [],
   "source": [
    "df8 = pd.read_csv('train_extended.csv')\n",
    "print(len(df8) * len(df8.columns), len(df8), len(df8.columns))\n",
    "%timeit bw = BuckarooWidget(df8)"
   ]
  },
  {
   "cell_type": "code",
   "execution_count": null,
   "id": "c1c73c91-0343-417a-a45f-ef5f8c39e884",
   "metadata": {},
   "outputs": [],
   "source": [
    "df4 = pd.read_csv('WPP2022_Demographic_Indicators_Medium.csv')\n",
    "print(len(df4) * len(df4.columns), len(df4), len(df4.columns))\n",
    "%timeit bw = BuckarooWidget(df4)"
   ]
  },
  {
   "cell_type": "code",
   "execution_count": null,
   "id": "97851149-49b4-41e2-a14f-ee9fbfcf7848",
   "metadata": {},
   "outputs": [],
   "source": [
    "df5 = pd.read_parquet('2014-01-citibike-trip-data.parquet')\n",
    "print(len(df5) * len(df5.columns), len(df5), len(df5.columns))\n",
    "%timeit bw = BuckarooWidget(df5)"
   ]
  },
  {
   "cell_type": "code",
   "execution_count": null,
   "id": "1bb274bb-27b0-4bb4-b296-7c246ced9ce5",
   "metadata": {},
   "outputs": [],
   "source": [
    "df3 = pd.read_parquet('Covid-data.gzip.parquet')\n",
    "print(len(df3) * len(df3.columns), len(df3), len(df3.columns))\n",
    "%timeit bw = BuckarooWidget(df3)"
   ]
  },
  {
   "cell_type": "code",
   "execution_count": null,
   "id": "12553bd6-be53-4001-be9a-dfc939981d38",
   "metadata": {},
   "outputs": [],
   "source": [
    "%timeit bw = BuckarooWidget(df6)"
   ]
  },
  {
   "cell_type": "code",
   "execution_count": null,
   "id": "257f2303-2b64-447b-8523-f8defac60cd9",
   "metadata": {},
   "outputs": [],
   "source": [
    "%prun -s cumtime "
   ]
  }
 ],
 "metadata": {
  "kernelspec": {
   "display_name": "Python 3 (ipykernel)",
   "language": "python",
   "name": "python3"
  },
  "language_info": {
   "codemirror_mode": {
    "name": "ipython",
    "version": 3
   },
   "file_extension": ".py",
   "mimetype": "text/x-python",
   "name": "python",
   "nbconvert_exporter": "python",
   "pygments_lexer": "ipython3",
   "version": "3.11.7"
  },
  "widgets": {
   "application/vnd.jupyter.widget-state+json": {
    "state": {},
    "version_major": 2,
    "version_minor": 0
   }
  }
 },
 "nbformat": 4,
 "nbformat_minor": 5
}
