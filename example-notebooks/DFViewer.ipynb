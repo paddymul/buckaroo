{
 "cells": [
  {
   "cell_type": "markdown",
   "id": "e95ac3e5-4532-4aad-9ad1-4096d0e2d631",
   "metadata": {},
   "source": [
    "# DFViewer\n",
    "\n",
    "The DFViewerWidget allows you to display a dataframe like the the full BuckarooWidget, without any extra UI options.\n",
    "\n",
    "This works particularly well for embedding Buckaroo into widget or dashboarding frameworks like Solara"
   ]
  },
  {
   "cell_type": "code",
   "execution_count": null,
   "id": "c0150f9f-0fb0-487f-88ad-9c495c406e59",
   "metadata": {
    "tags": []
   },
   "outputs": [],
   "source": [
    "import pandas as pd\n",
    "from buckaroo import DFViewer"
   ]
  },
  {
   "cell_type": "markdown",
   "id": "acea57ee-06b6-4244-b6d4-fa14a8747e94",
   "metadata": {},
   "source": [
    "# Using the default DFViewer is straightforward"
   ]
  },
  {
   "cell_type": "code",
   "execution_count": null,
   "id": "db41edd1-0569-4cb4-b95a-aaf82e854903",
   "metadata": {
    "tags": []
   },
   "outputs": [],
   "source": [
    "df = pd.DataFrame({'a':[10, 20, 339, 887], 'b': ['foo', 'bar', None, 'baz']})\n",
    "DFViewer(df)"
   ]
  },
  {
   "cell_type": "markdown",
   "id": "fabc0d41-9343-463e-b2f5-b43671a1d7e2",
   "metadata": {},
   "source": [
    "## Removing pinned_rows"
   ]
  },
  {
   "cell_type": "code",
   "execution_count": null,
   "id": "4887466f-afaa-4adc-809a-bb4bdf064d17",
   "metadata": {
    "tags": []
   },
   "outputs": [],
   "source": [
    "DFViewer(df, pinned_rows=[])"
   ]
  },
  {
   "cell_type": "markdown",
   "id": "fa8be87e-3b64-44e4-acda-76bba7566990",
   "metadata": {},
   "source": [
    "## It works with polars too"
   ]
  },
  {
   "cell_type": "code",
   "execution_count": null,
   "id": "566d9cc1-c1bb-431b-bbab-776e029adebc",
   "metadata": {
    "tags": []
   },
   "outputs": [],
   "source": [
    "import polars as pl\n",
    "from buckaroo.polars_buckaroo import PolarsDFViewer\n",
    "pl_df = pl.DataFrame({'a':[10, 20, 339, 887], 'b': ['foo', 'bar', None, 'baz']})\n",
    "PolarsDFViewer(pl_df)"
   ]
  }
 ],
 "metadata": {
  "kernelspec": {
   "display_name": "Python 3 (ipykernel)",
   "language": "python",
   "name": "python3"
  },
  "language_info": {
   "codemirror_mode": {
    "name": "ipython",
    "version": 3
   },
   "file_extension": ".py",
   "mimetype": "text/x-python",
   "name": "python",
   "nbconvert_exporter": "python",
   "pygments_lexer": "ipython3",
   "version": "3.11.7"
  },
  "widgets": {
   "application/vnd.jupyter.widget-state+json": {
    "state": {},
    "version_major": 2,
    "version_minor": 0
   }
  }
 },
 "nbformat": 4,
 "nbformat_minor": 5
}
