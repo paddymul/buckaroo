{
 "cells": [
  {
   "cell_type": "code",
   "execution_count": null,
   "id": "99218d54-79db-4c3c-8ca5-373e3c1ed677",
   "metadata": {
    "tags": []
   },
   "outputs": [],
   "source": [
    "import pandas as pd\n",
    "import numpy as np\n",
    "from buckaroo.dataflow_traditional import StylingAnalysis\n",
    "from buckaroo.pluggable_analysis_framework.pluggable_analysis_framework import ColAnalysis\n",
    "import polars as pl\n",
    "from buckaroo.polars_buckaroo import PolarsBuckarooWidget"
   ]
  },
  {
   "cell_type": "markdown",
   "id": "cf49c5fd-b617-4495-b018-1fadbc90cb4c",
   "metadata": {},
   "source": [
    "```js\n",
    "export interface ObjDisplayerA {\n",
    "  displayer: 'obj';}\n",
    "\n",
    "export interface BooleanDisplayerA {\n",
    "  displayer: 'boolean';}\n",
    "\n",
    "export interface StringDisplayerA {\n",
    "  displayer: 'string';\n",
    "  max_length?: number;} \n",
    "  \n",
    "export interface FloatDisplayerA {\n",
    "  displayer: 'float';\n",
    "  min_fraction_digits: number;\n",
    "  max_fraction_digits: number;}\n",
    "\n",
    "export interface DatetimeDefaultDisplayerA {\n",
    "  displayer: 'datetimeDefault';}\n",
    "export interface IntegerDisplayerA {\n",
    "  displayer: 'integer';\n",
    "  min_digits: number;\n",
    "  max_digits: number;}\n",
    "\n",
    "export interface DatetimeLocaleDisplayerA {\n",
    "  displayer: 'datetimeLocaleString';\n",
    "  locale: 'en-US' | 'en-GB' | 'en-CA' | 'fr-FR' | 'es-ES' | 'de-DE' | 'ja-JP';\n",
    "  args: Intl.DateTimeFormatOptions;}\n",
    "```"
   ]
  },
  {
   "cell_type": "code",
   "execution_count": null,
   "id": "5c49dd11-9727-4ac1-829c-bed1a155629b",
   "metadata": {
    "tags": []
   },
   "outputs": [],
   "source": [
    "bool_df = pl.DataFrame({'bools':[True, True, False, False, True, None]})\n",
    "bool_df = bool_df.select(\n",
    "    pl.col('bools').alias('bools_obj_displayer'), \n",
    "    pl.col('bools').alias('bools_boolean_displayer'))\n",
    "#fix         #'bools_bool_checkbox_displayer':  {'displayer_args': {'displayer': 'boolean_checkbox'}\n",
    "PolarsBuckarooWidget(\n",
    "    bool_df, \n",
    "    column_config_overrides={\n",
    "        'bools_obj_displayer':  {'displayer_args': {'displayer': 'obj'}},      \n",
    "        'bools_boolean_displayer': {'displayer_args': {'displayer': 'boolean'}}})"
   ]
  },
  {
   "cell_type": "code",
   "execution_count": null,
   "id": "18e5adba-49b8-453a-86f7-ce438c61113a",
   "metadata": {
    "tags": []
   },
   "outputs": [],
   "source": [
    "string_df = pl.DataFrame({'strings':[\"asdf\", \"qwerty\", \"really long string, much  much longer\", None,  \"A\"]})\n",
    "string_df = string_df.select(\n",
    "    pl.col('strings').alias('strings_obj_displayer'), \n",
    "    pl.col('strings').alias('strings_string_displayer'),\n",
    "    pl.col('strings').alias('strings_string_displayer_max_len'))\n",
    "PolarsBuckarooWidget(\n",
    "    string_df, \n",
    "    column_config_overrides={\n",
    "        'strings_obj_displayer':  {'displayer_args': {'displayer': 'obj'}},      \n",
    "        'strings_string_displayer': {'displayer_args': {'displayer': 'string'}},\n",
    "        'strings_string_displayer_max_len': {'displayer_args': {'displayer': 'string', 'max_length':15}}\n",
    "    })"
   ]
  },
  {
   "cell_type": "code",
   "execution_count": null,
   "id": "e8cefca2-6db8-4599-b46a-40e7cc45caef",
   "metadata": {},
   "outputs": [],
   "source": []
  }
 ],
 "metadata": {
  "kernelspec": {
   "display_name": "Python 3 (ipykernel)",
   "language": "python",
   "name": "python3"
  },
  "language_info": {
   "codemirror_mode": {
    "name": "ipython",
    "version": 3
   },
   "file_extension": ".py",
   "mimetype": "text/x-python",
   "name": "python",
   "nbconvert_exporter": "python",
   "pygments_lexer": "ipython3",
   "version": "3.11.7"
  },
  "widgets": {
   "application/vnd.jupyter.widget-state+json": {
    "state": {},
    "version_major": 2,
    "version_minor": 0
   }
  }
 },
 "nbformat": 4,
 "nbformat_minor": 5
}
