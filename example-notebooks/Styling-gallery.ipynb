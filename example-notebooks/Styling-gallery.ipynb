{
 "cells": [
  {
   "cell_type": "code",
   "execution_count": null,
   "id": "99218d54-79db-4c3c-8ca5-373e3c1ed677",
   "metadata": {
    "tags": []
   },
   "outputs": [],
   "source": [
    "import pandas as pd\n",
    "import numpy as np\n",
    "from buckaroo.dataflow_traditional import StylingAnalysis\n",
    "from buckaroo.pluggable_analysis_framework.pluggable_analysis_framework import ColAnalysis\n",
    "import polars as pl\n",
    "from buckaroo.polars_buckaroo import PolarsBuckarooWidget\n",
    "from buckaroo.customizations.polars_analysis import PlTyping\n",
    "N=500"
   ]
  },
  {
   "cell_type": "code",
   "execution_count": null,
   "id": "840e09f3-8153-4800-a383-636556af4f32",
   "metadata": {
    "tags": []
   },
   "outputs": [],
   "source": [
    "# This works with polars or pandas, these variables let us quickly swap between the two\n",
    "DataFrame = pl.DataFrame\n",
    "BUCKAROOWidget = PolarsBuckarooWidget"
   ]
  },
  {
   "cell_type": "markdown",
   "id": "cf49c5fd-b617-4495-b018-1fadbc90cb4c",
   "metadata": {},
   "source": [
    "This notebook generally follows the order of [DFWhole.ts](https://github.com/paddymul/buckaroo/blob/feat/dfviewer-config/js/components/DFViewerParts/DFWhole.ts)\n",
    "\n",
    "Starting with the simple Displayers\n",
    "```js\n",
    "export interface ObjDisplayerA {\n",
    "  displayer: 'obj';}\n",
    "\n",
    "export interface BooleanDisplayerA {\n",
    "  displayer: 'boolean';}\n",
    "\n",
    "export interface StringDisplayerA {\n",
    "  displayer: 'string';\n",
    "  max_length?: number;} \n",
    "  \n",
    "export interface FloatDisplayerA {\n",
    "  displayer: 'float';\n",
    "  min_fraction_digits: number;\n",
    "  max_fraction_digits: number;}\n",
    "\n",
    "export interface DatetimeDefaultDisplayerA {\n",
    "  displayer: 'datetimeDefault';}\n",
    "export interface IntegerDisplayerA {\n",
    "  displayer: 'integer';\n",
    "  min_digits: number;\n",
    "  max_digits: number;}\n",
    "\n",
    "export interface DatetimeLocaleDisplayerA {\n",
    "  displayer: 'datetimeLocaleString';\n",
    "  locale: 'en-US' | 'en-GB' | 'en-CA' | 'fr-FR' | 'es-ES' | 'de-DE' | 'ja-JP';\n",
    "  // https://developer.mozilla.org/en-US/docs/Web/JavaScript/Reference/Global_Objects/Intl/DateTimeFormat/DateTimeFormat\n",
    "  args: Intl.DateTimeFormatOptions;}\n",
    "```"
   ]
  },
  {
   "cell_type": "code",
   "execution_count": null,
   "id": "4697fa58-9609-412f-b2d0-48a63fed0c99",
   "metadata": {
    "tags": []
   },
   "outputs": [],
   "source": [
    "#simpler Buckaroo that really shows the styling\n",
    "def obj_(pkey):\n",
    "    return {'primary_key_val': pkey, 'displayer_args': { 'displayer': 'obj' } }\n",
    "\n",
    "class GalleryStyling(StylingAnalysis):\n",
    "    requires_summary = ['dtype']\n",
    "    pinned_rows = [obj_('dtype')]\n",
    "class GalleryBuckaroo(PolarsBuckarooWidget):\n",
    "    analysis_klasses = [GalleryStyling, PlTyping]"
   ]
  },
  {
   "cell_type": "code",
   "execution_count": null,
   "id": "6e84d497-539f-4c62-810f-1cef72f417d2",
   "metadata": {
    "tags": []
   },
   "outputs": [],
   "source": [
    "obj_df = pl.DataFrame({\n",
    "    'bools':[True, True, False, False, True, None],\n",
    "    'ints': [   5,   20,    30,   -10, 7772, None],\n",
    "    'timestamp':[\"2020-01-01 01:00Z\", \"2020-01-01 02:00Z\", \"2020-02-28 02:00Z\", \"2020-03-15 02:00Z\", None, None],\n",
    "    'dicts': [ {'a':10, 'b':20, 'c':'some string'}, None, None, None, None, None], #polars\n",
    "    'nested_dicts': [{'level_1': {'a':10, 'b':20, 'c':'some string'}}, None, None, None, None, None],\n",
    "    'lists': [['a','b'], [1,2], None, None, None, None],\n",
    "    'lists-string': [['a','b'], ['foo', 'bar'], None, None, None, None],\n",
    "    'lists-int': [[10, 20], [100, 500], [8], None, None, None]}\n",
    ")\n",
    "GalleryBuckaroo(obj_df)"
   ]
  },
  {
   "cell_type": "code",
   "execution_count": null,
   "id": "540dcd65-248d-43a3-b8c3-2db3159d3f8d",
   "metadata": {
    "tags": []
   },
   "outputs": [],
   "source": [
    "obj_df = pl.DataFrame({\n",
    "    'bools':[True, True, False, False, True, None],\n",
    "    'ints': [   5,   20,    30,   -10, 7772, None],\n",
    "    'dicts': [ {'a':10, 'b':20, 'c':'some string'}, None, None, None, None, None], #polars\n",
    "    'nested_dicts': [{'level_1': {'a':10, 'b':20, 'c':'some string'}}, None, None, None, None, None],\n",
    "    #'nested_dicts2': pl.Series([{'level_1': {'a':10, 'b':20, 'c':'some string'}}, None, None, None, None, None], dtype=pl.Object)}\n",
    "}\n",
    "#    schema_overrides={'nested_dicts2':\n",
    ")\n",
    "GalleryBuckaroo(obj_df)"
   ]
  },
  {
   "cell_type": "code",
   "execution_count": null,
   "id": "5c49dd11-9727-4ac1-829c-bed1a155629b",
   "metadata": {
    "tags": []
   },
   "outputs": [],
   "source": [
    "bool_df = pl.DataFrame({'bools':[True, True, False, False, True, None]})\n",
    "bool_df = bool_df.select(\n",
    "    pl.col('bools').alias('bools_obj_displayer'), \n",
    "    pl.col('bools').alias('bools_boolean_displayer'))\n",
    "#fix         #'bools_bool_checkbox_displayer':  {'displayer_args': {'displayer': 'boolean_checkbox'}\n",
    "PolarsBuckarooWidget(\n",
    "    bool_df, \n",
    "    column_config_overrides={\n",
    "        'bools_obj_displayer':  {'displayer_args': {'displayer': 'obj'}},      \n",
    "        'bools_boolean_displayer': {'displayer_args': {'displayer': 'boolean'}}})"
   ]
  },
  {
   "cell_type": "code",
   "execution_count": null,
   "id": "18e5adba-49b8-453a-86f7-ce438c61113a",
   "metadata": {
    "tags": []
   },
   "outputs": [],
   "source": [
    "string_df = pl.DataFrame({'strings':[\"asdf\", \"qwerty\", \"really long string, much  much longer\", None,  \"A\"]})\n",
    "string_df = string_df.select(\n",
    "    pl.col('strings').alias('strings_obj_displayer'), \n",
    "    pl.col('strings').alias('strings_string_displayer'),\n",
    "    pl.col('strings').alias('strings_string_displayer_max_len'))\n",
    "PolarsBuckarooWidget(\n",
    "    string_df, \n",
    "    column_config_overrides={\n",
    "        'strings_obj_displayer':  {'displayer_args': {'displayer': 'obj'}},      \n",
    "        'strings_string_displayer': {'displayer_args': {'displayer': 'string'}},\n",
    "        'strings_string_displayer_max_len': {'displayer_args': {'displayer': 'string', 'max_length':15}}\n",
    "    })"
   ]
  },
  {
   "cell_type": "code",
   "execution_count": null,
   "id": "e8cefca2-6db8-4599-b46a-40e7cc45caef",
   "metadata": {},
   "outputs": [],
   "source": [
    "float_df = pl.DataFrame({\n",
    "    'float': [5, -8, 13.23, -8.01, -999.345245234, None]})\n",
    "\n",
    "def float_(min_digits, max_digits):\n",
    "    return {'displayer_args': { 'displayer': 'float', 'min_fraction_digits':min_digits, 'max_fraction_digits': max_digits}}\n",
    "float_df = float_df.select(\n",
    "    pl.col('float').alias('float_obj_displayer'), \n",
    "    pl.col('float').alias('float_float_displayer_1__3'),\n",
    "    pl.col('float').alias('float_float_displayer_0__3'),\n",
    "    pl.col('float').alias('float_float_displayer_3__3'),\n",
    "    pl.col('float').alias('float_float_displayer_3_13'))\n",
    "PolarsBuckarooWidget(\n",
    "    float_df,\n",
    "    column_config_overrides={\n",
    "        'float_obj_displayer':  {'displayer_args': {'displayer': 'obj'}},      \n",
    "        'float_float_displayer_1__3' : float_(1,3),\n",
    "        'float_float_displayer_0__3' : float_(0,3),\n",
    "        'float_float_displayer_3__3' : float_(3,3),\n",
    "        'float_float_displayer_3_13' : float_(3,13)})"
   ]
  },
  {
   "cell_type": "code",
   "execution_count": null,
   "id": "fa1410bf-8540-4daf-8080-ae7d52e70546",
   "metadata": {
    "tags": []
   },
   "outputs": [],
   "source": [
    "datetime_df = pl.DataFrame({'timestamp':[\"2020-01-01 01:00Z\", \"2020-01-01 02:00Z\", \"2020-02-28 02:00Z\", \"2020-03-15 02:00Z\", None]})\n",
    "datetime_df = datetime_df.select(\n",
    "    pl.col('timestamp').alias('timestamp_obj_displayer'),\n",
    "    pl.col('timestamp').alias('timestamp_datetime_default_displayer'),\n",
    "    pl.col('timestamp').alias('timestamp_datetime_locale_en-US'),\n",
    "    pl.col('timestamp').alias('timestamp_datetime_locale_en-US-Long'),\n",
    "    pl.col('timestamp').alias('timestamp_datetime_locale_en-GB'))\n",
    "\n",
    "def locale(locale, args={}):\n",
    "    return {'displayer_args': {'displayer': 'datetimeLocaleString',\n",
    "                                'locale':locale,\n",
    "                                'args':args}}\n",
    "PolarsBuckarooWidget(datetime_df,\n",
    "    column_config_overrides={\n",
    "        'timestamp_obj_displayer':  {'displayer_args': {'displayer': 'obj'}},    \n",
    "        'timestamp_datetime_default_displayer' : {'displayer_args':  {  'displayer': 'datetimeDefault'}},\n",
    "        'timestamp_datetime_locale_en-US' :locale('en-US'),\n",
    "        'timestamp_datetime_locale_en-US-Long': locale('en-US', { 'weekday': 'long'}),\n",
    "        'timestamp_datetime_locale_en-GB' : locale('en-GB')})"
   ]
  },
  {
   "cell_type": "code",
   "execution_count": null,
   "id": "c943c155-1266-45b3-a790-c98a89e75cf8",
   "metadata": {
    "tags": []
   },
   "outputs": [],
   "source": [
    "link_df = DataFrame({'raw':      ['https://github.com/paddymul/buckaroo', 'https://github.com/pola-rs/polars'],\n",
    "                    'linkify' : ['https://github.com/paddymul/buckaroo', 'https://github.com/pola-rs/polars']})\n",
    "BUCKAROOWidget(link_df,\n",
    "               column_config_overrides={'linkify': {'displayer_args':  {  'displayer': 'linkify'}}})\n",
    "#fixme no underline or blue highlighting of links... but they are links"
   ]
  },
  {
   "cell_type": "code",
   "execution_count": null,
   "id": "b01a5413-d518-4bc9-9bc4-a8a439ebf0cd",
   "metadata": {},
   "outputs": [],
   "source": []
  },
  {
   "cell_type": "markdown",
   "id": "c8d2accd-4732-43ff-b92a-d827b330b538",
   "metadata": {},
   "source": [
    "# Tooltips"
   ]
  },
  {
   "cell_type": "code",
   "execution_count": null,
   "id": "0725d87d-5d09-4ec6-b3e3-02c73a7db6e4",
   "metadata": {},
   "outputs": [],
   "source": []
  },
  {
   "cell_type": "code",
   "execution_count": null,
   "id": "344ce005-1c0d-4ee6-8ef3-95c2cde977ac",
   "metadata": {
    "tags": []
   },
   "outputs": [],
   "source": [
    "ROWS = 200\n",
    "typed_df = pl.DataFrame({'int_col':np.random.randint(1,50, ROWS), 'float_col': np.random.randint(1,30, ROWS)/.7,\n",
    "                         \"str_col\": [\"foobar\"]* ROWS})\n",
    "PolarsBuckarooWidget(\n",
    "    typed_df, \n",
    "    column_config_overrides={\n",
    "        'str_col':\n",
    "            {'tooltip_config': { 'tooltip_type':'simple', 'val_column': 'int_col'}}})"
   ]
  },
  {
   "cell_type": "markdown",
   "id": "f7a91713-b95d-4546-a5ad-0be964f4b2df",
   "metadata": {},
   "source": [
    "# Color_map_config\n",
    "```ts\n",
    "//ColorMapRules\n",
    "export interface ColorMapRules {\n",
    "  color_rule: 'color_map';\n",
    "  map_name: 'BLUE_TO_YELLOW' | 'DIVERGING_RED_WHITE_BLUE';\n",
    "  //optional, the column to base the ranges on.  the proper histogram_bins must still be sent in for that column\n",
    "  val_column?: string;\n",
    "}\n",
    "\n",
    "//if exist_column is not null,  set cell style to condtional_color... used for highlighting changed values or errored_rows\n",
    "export interface ColorWhenNotNullRules {\n",
    "  color_rule: 'color_not_null';\n",
    "  conditional_color: string | 'red';\n",
    "  exist_column: string;\n",
    "}\n",
    "\n",
    "export interface ColorFromColumn {\n",
    "  color_rule: 'color_from_column';\n",
    "  col_name: string;\n",
    "}\n",
    "```"
   ]
  },
  {
   "cell_type": "code",
   "execution_count": null,
   "id": "3dbf1c45-7725-4cd7-8008-da3085f55667",
   "metadata": {
    "tags": []
   },
   "outputs": [],
   "source": [
    "PolarsBuckarooWidget(\n",
    "    typed_df, \n",
    "    column_config_overrides={\n",
    "        'float_col': {'color_map_config': {\n",
    "          'color_rule': 'color_map',\n",
    "          'map_name': 'BLUE_TO_YELLOW',\n",
    "        }}})"
   ]
  },
  {
   "cell_type": "code",
   "execution_count": null,
   "id": "a43ecbfb-ae8d-428f-9cb5-29eb53afa076",
   "metadata": {
    "tags": []
   },
   "outputs": [],
   "source": [
    "error_df = pl.DataFrame({\n",
    "    'a': [10, 20, 30],\n",
    "    'err_messages': [None, \"a must be less than 19, it is 20\", \"a must be less than 19, it is 30\"]})\n",
    "\n",
    "PolarsBuckarooWidget(\n",
    "    error_df, \n",
    "    column_config_overrides={\n",
    "        'a': {'color_map_config': {\n",
    "            'color_rule': 'color_not_null',\n",
    "            'conditional_color': 'red',\n",
    "            'exist_column': 'err_messages'}}})"
   ]
  },
  {
   "cell_type": "code",
   "execution_count": null,
   "id": "0bc7cef8-1f93-4415-a420-c9aa44fd583e",
   "metadata": {
    "tags": []
   },
   "outputs": [],
   "source": [
    "color_df = pl.DataFrame({\n",
    "    'a': [10, 20, 30],\n",
    "    'a_colors': ['red', '#d3a', 'green']})\n",
    "\n",
    "PolarsBuckarooWidget(\n",
    "    color_df, \n",
    "    column_config_overrides={\n",
    "        'a': { 'color_map_config': {\n",
    "          'color_rule': 'color_from_column',\n",
    "          'col_name': 'a_colors'}}})"
   ]
  },
  {
   "cell_type": "markdown",
   "id": "1768186c-14fc-49fa-8e03-e8f454411d5b",
   "metadata": {},
   "source": [
    "Extra col def type\n",
    "\n",
    "`ag_grid_specs`\n",
    "only to be used for very specific hacking.  You can set any primitive property, but can't set function props\n",
    "https://github.com/ag-grid/ag-grid/blob/3cce76f1f2fd7142126f659fdc1dc3f0b7bc6191/grid-community-modules/core/src/ts/entities/colDef.ts#L4\n",
    "\n",
    "latest\n",
    "https://github.com/ag-grid/ag-grid/blob/latest/grid-community-modules/core/src/ts/entities/colDef.ts"
   ]
  },
  {
   "cell_type": "code",
   "execution_count": null,
   "id": "3fd31184-6197-4d13-a319-aaefee224745",
   "metadata": {},
   "outputs": [],
   "source": []
  }
 ],
 "metadata": {
  "kernelspec": {
   "display_name": "Python 3 (ipykernel)",
   "language": "python",
   "name": "python3"
  },
  "language_info": {
   "codemirror_mode": {
    "name": "ipython",
    "version": 3
   },
   "file_extension": ".py",
   "mimetype": "text/x-python",
   "name": "python",
   "nbconvert_exporter": "python",
   "pygments_lexer": "ipython3",
   "version": "3.11.7"
  },
  "widgets": {
   "application/vnd.jupyter.widget-state+json": {
    "state": {},
    "version_major": 2,
    "version_minor": 0
   }
  }
 },
 "nbformat": 4,
 "nbformat_minor": 5
}
