{
 "cells": [
  {
   "cell_type": "markdown",
   "id": "f7fd6f90-3a45-4090-a0aa-bf0e03aab56b",
   "metadata": {
    "tags": []
   },
   "source": [
    "# How to style Buckaroo tables\n",
    "Buckaroo had a major refactoring of the styling system and callbacks with the 0.6 release.\n",
    "\n",
    "This notebook walks through\n",
    "* Styling columns via the `displayer`\n",
    "* How to override columns\n",
    "* Tooltips\n",
    "* Cell Coloring\n",
    "* Column hiding\n",
    "* pinned_rows\n",
    "* How to add automatic styling methods that are available via the UI to cycle through"
   ]
  },
  {
   "cell_type": "code",
   "execution_count": 1,
   "id": "73f3516e-2273-495a-b3b9-f68593b0018b",
   "metadata": {
    "tags": []
   },
   "outputs": [],
   "source": [
    "import pandas as pd\n",
    "import numpy as np\n",
    "from buckaroo.dataflow_traditional import StylingAnalysis\n",
    "from buckaroo.pluggable_analysis_framework.pluggable_analysis_framework import ColAnalysis\n",
    "import polars as pl\n",
    "from buckaroo.polars_buckaroo import PolarsBuckarooWidget"
   ]
  },
  {
   "cell_type": "code",
   "execution_count": 2,
   "id": "45a03efb-ec32-4cda-b443-99425e80a458",
   "metadata": {
    "tags": []
   },
   "outputs": [],
   "source": [
    "ROWS = 200\n",
    "typed_df = pl.DataFrame({'int_col':np.random.randint(1,50, ROWS), 'float_col': np.random.randint(1,30, ROWS)/.7,\n",
    "                         \"str_col\": [\"foobar\"]* ROWS})"
   ]
  },
  {
   "cell_type": "code",
   "execution_count": 3,
   "id": "8086b3b9-f97e-4b4c-9c0a-85566be060a3",
   "metadata": {
    "tags": []
   },
   "outputs": [
    {
     "data": {
      "application/vnd.jupyter.widget-view+json": {
       "model_id": "1ff69a8084214338ac1fca34daa9dffd",
       "version_major": 2,
       "version_minor": 0
      },
      "text/plain": [
       "PolarsBuckarooWidget(buckaroo_options={'sampled': ['random'], 'auto_clean': ['aggressive', 'conservative'], 'p…"
      ]
     },
     "execution_count": 3,
     "metadata": {},
     "output_type": "execute_result"
    }
   ],
   "source": [
    "PolarsBuckarooWidget(typed_df)"
   ]
  },
  {
   "cell_type": "markdown",
   "id": "04bae28c-68e4-43d1-b323-1ac503efa18a",
   "metadata": {},
   "source": [
    "## `displayer`\n",
    "Changing the `displayer` is the most common way to customize the styling of a column, in the next example, we override the column_config for `float_col`\n"
   ]
  },
  {
   "cell_type": "code",
   "execution_count": 4,
   "id": "3c6d50c3-004b-4850-8404-bef00a990e55",
   "metadata": {
    "tags": []
   },
   "outputs": [
    {
     "data": {
      "application/vnd.jupyter.widget-view+json": {
       "model_id": "9f27cbd4f19d4fa5a125d8c8145aae0e",
       "version_major": 2,
       "version_minor": 0
      },
      "text/plain": [
       "PolarsBuckarooWidget(buckaroo_options={'sampled': ['random'], 'auto_clean': ['aggressive', 'conservative'], 'p…"
      ]
     },
     "execution_count": 4,
     "metadata": {},
     "output_type": "execute_result"
    }
   ],
   "source": [
    "bw2 = PolarsBuckarooWidget(\n",
    "    typed_df, \n",
    "    debug=False,\n",
    "    column_config_overrides={\n",
    "        'float_col':\n",
    "            {'displayer_args': { 'displayer': 'float', 'min_fraction_digits':0, 'max_fraction_digits':3}}})\n",
    "bw2"
   ]
  },
  {
   "cell_type": "markdown",
   "id": "de8b7829-c898-4fec-93b0-09c3f7552146",
   "metadata": {},
   "source": [
    "Now we are going to force `float_col` to be displayed with a 'float' displayer\n",
    "notice how the decimal point aligns as opposed to above where 10 is floored without a decimal portion\n",
    "\n",
    "Currently the types are best viewed in their typescript definition [DFWhole.ts](https://github.com/paddymul/buckaroo/blob/feat/dfviewer-config/js/components/DFViewerParts/DFWhole.ts)\n",
    "\n",
    "There are Displayers of\n",
    "\n",
    "`ObjDisplayer`, `BooleanDisplayer`, `StringDisplayer`, `FloatDisplayer`, \n",
    "`DatetimeDefaultDisplayer`, `DatetimeLocaleDisplayer`, `IntegerDisplayer`,\n",
    "\n",
    "`HistogramDisplayer`, and `LinkifyDisplayer`,\n",
    "\n",
    "There are planned displayers of [HumanAbbreviationDisplayer](https://github.com/paddymul/buckaroo/issues/83), [LineChartDisplayer](https://github.com/paddymul/buckaroo/issues/210), [GoogleMapsLinkDisplayer](https://github.com/paddymul/buckaroo/issues/211) , [InlineMapDisplayer](https://github.com/paddymul/buckaroo/issues/212)\n",
    "\n",
    "\n",
    "There is experimental work building mirrored PyDantic types, and work to integrate this typechecking into Buckaroo.  There are also plans for a gallery of examples of the different options."
   ]
  },
  {
   "cell_type": "markdown",
   "id": "8999d568-ddbe-40c8-a7cb-fa7fe0c47c9c",
   "metadata": {},
   "source": [
    "# `tooltip_config`\n",
    "\n",
    "There are tooltip_configs of simple summary_series available\n",
    "\n",
    "Tooltips are helpful for adding extra context to cells.  Particularly for noting errors or values changed via auto-cleaning\n",
    "\n",
    "Notice that `column_config_overrides` is merged with the existing column config from Buckaroo, every column still has a displayer"
   ]
  },
  {
   "cell_type": "code",
   "execution_count": 5,
   "id": "abc0e795-4ab9-4a5d-b09d-3b926e82afee",
   "metadata": {
    "tags": []
   },
   "outputs": [
    {
     "data": {
      "application/vnd.jupyter.widget-view+json": {
       "model_id": "244522eff2204fd5af3bce5bbac48315",
       "version_major": 2,
       "version_minor": 0
      },
      "text/plain": [
       "PolarsBuckarooWidget(buckaroo_options={'sampled': ['random'], 'auto_clean': ['aggressive', 'conservative'], 'p…"
      ]
     },
     "execution_count": 5,
     "metadata": {},
     "output_type": "execute_result"
    }
   ],
   "source": [
    "bw3 = PolarsBuckarooWidget(\n",
    "    typed_df, \n",
    "    column_config_overrides={\n",
    "        'str_col':\n",
    "            {'tooltip_config': { 'tooltip_type':'simple', 'val_column': 'int_col'}}})\n",
    "bw3"
   ]
  },
  {
   "cell_type": "markdown",
   "id": "c5e17dd6-f658-48d1-b40c-a4ac354ea5d5",
   "metadata": {},
   "source": [
    "# color_map_config\n",
    "\n",
    "Color_map_config controls coloring of columns.  \n",
    "* `color_map` uses the bins from histogram to show a values place in the distribution.  wit the `val_column` parameter, you can color one column based on another.\n",
    "* `color_when_not_null` hilights a cell when another row is not null.  This is meant for error highlighting,  the other column can be hidden\n",
    "* `color_from_column` bases the color of a cell based on the RGB value written to another column.  It is the most generic coloring option"
   ]
  },
  {
   "cell_type": "code",
   "execution_count": 6,
   "id": "9a75b18b-c61d-45d7-b0e1-295ad869a17c",
   "metadata": {
    "tags": []
   },
   "outputs": [
    {
     "data": {
      "application/vnd.jupyter.widget-view+json": {
       "model_id": "816dfb35c1a54b4c827b60984f81e8b4",
       "version_major": 2,
       "version_minor": 0
      },
      "text/plain": [
       "PolarsBuckarooWidget(buckaroo_options={'sampled': ['random'], 'auto_clean': ['aggressive', 'conservative'], 'p…"
      ]
     },
     "execution_count": 6,
     "metadata": {},
     "output_type": "execute_result"
    }
   ],
   "source": [
    "bw3 = PolarsBuckarooWidget(\n",
    "    typed_df, \n",
    "    column_config_overrides={\n",
    "        'float_col': {'color_map_config': {\n",
    "          'color_rule': 'color_map',\n",
    "          'map_name': 'BLUE_TO_YELLOW',\n",
    "        }}})\n",
    "bw3"
   ]
  },
  {
   "cell_type": "code",
   "execution_count": 7,
   "id": "3a2a125c-75c7-42ae-a87f-6a47bd41068c",
   "metadata": {
    "tags": []
   },
   "outputs": [
    {
     "data": {
      "application/vnd.jupyter.widget-view+json": {
       "model_id": "6068084f59714faf873d1ed446bf81d5",
       "version_major": 2,
       "version_minor": 0
      },
      "text/plain": [
       "PolarsBuckarooWidget(buckaroo_options={'sampled': ['random'], 'auto_clean': ['aggressive', 'conservative'], 'p…"
      ]
     },
     "execution_count": 7,
     "metadata": {},
     "output_type": "execute_result"
    }
   ],
   "source": [
    "bw3 = PolarsBuckarooWidget(\n",
    "    typed_df, \n",
    "    column_config_overrides={\n",
    "        'int_col': {'color_map_config': {\n",
    "            'color_rule': 'color_map',\n",
    "            'map_name': 'DIVERGING_RED_WHITE_BLUE',\n",
    "            'val_column': 'float_col'\n",
    "        }}})\n",
    "bw3"
   ]
  },
  {
   "cell_type": "markdown",
   "id": "0ca07426-086c-4041-bf08-07c7447c8eb5",
   "metadata": {},
   "source": [
    "# Hiding a column\n",
    "\n",
    "You can hide a column with `merge_rule:'hidden'`.  This removes that column from the column_config array.\n",
    "\n",
    "Column hiding can be used to keep data in a dataframe (sent to the table widget) for use as a tooltip, or color, but preventing display which would distract the user\n"
   ]
  },
  {
   "cell_type": "code",
   "execution_count": 8,
   "id": "924c506c-123c-43ed-80f8-e239014f7e75",
   "metadata": {
    "tags": []
   },
   "outputs": [
    {
     "data": {
      "application/vnd.jupyter.widget-view+json": {
       "model_id": "efdd18511bd44c62a2f6dcb0975e1636",
       "version_major": 2,
       "version_minor": 0
      },
      "text/plain": [
       "PolarsBuckarooWidget(buckaroo_options={'sampled': ['random'], 'auto_clean': ['aggressive', 'conservative'], 'p…"
      ]
     },
     "execution_count": 8,
     "metadata": {},
     "output_type": "execute_result"
    }
   ],
   "source": [
    "bw_ = PolarsBuckarooWidget(\n",
    "    typed_df, \n",
    "    column_config_overrides={\n",
    "        'int_col': {'merge_rule': 'hidden'}})\n",
    "bw_"
   ]
  },
  {
   "cell_type": "markdown",
   "id": "621d5306-ba11-487b-bb5b-3841c412bf3a",
   "metadata": {},
   "source": [
    "# Pinned rows\n",
    "Pinned rows are visible in each view.  They read data from the summary data that is assembled from the [PluggableAnalysisFramework](https://buckaroo-data.readthedocs.io/en/latest/articles/pluggable.html).\n"
   ]
  },
  {
   "cell_type": "code",
   "execution_count": 9,
   "id": "42da3b2a-a3bf-4c89-be15-0227fc9b916a",
   "metadata": {
    "tags": []
   },
   "outputs": [
    {
     "data": {
      "application/vnd.jupyter.widget-view+json": {
       "model_id": "1dd1b1ccd42c4becb70e9afed640096a",
       "version_major": 2,
       "version_minor": 0
      },
      "text/plain": [
       "PolarsBuckarooWidget(buckaroo_options={'sampled': ['random'], 'auto_clean': ['aggressive', 'conservative'], 'p…"
      ]
     },
     "execution_count": 9,
     "metadata": {},
     "output_type": "execute_result"
    }
   ],
   "source": [
    "bw = PolarsBuckarooWidget(\n",
    "    typed_df, \n",
    "    pinned_rows=[\n",
    "        {'primary_key_val': 'dtype',     'displayer_args': {'displayer': 'obj' } },\n",
    "        {'primary_key_val': 'histogram', 'displayer_args': {'displayer': 'histogram' }},   \n",
    "    ])\n",
    "bw"
   ]
  },
  {
   "cell_type": "markdown",
   "id": "05ecd1e4-1bde-48ce-ac51-bf53f7bb91c4",
   "metadata": {},
   "source": [
    "# Packaging and reusing styling configurations with the `StylingAnalysis` class\n",
    "Up to this point we have been hardcoding config overrides.  You can package sets of styling configuration with the `StylingAnalysis` class.  These configs can then be toggled in the UI.\n",
    "\n",
    "If you just want to return a fixed `DFViewerConfig` override the `style_columns` method.  Most likely though, you will want to overide the singular `style_column` method that gets `SingleColumnMetadata` and returns a `ColumnConfig`. \n",
    "The `StylingAnalysis` class is used to control the display of a column based on the column metadata.  \n",
    "\n",
    "return {'col_name':str(col), 'displayer_args': {'displayer': 'obj'}}\n",
    "\n",
    "\n",
    "This lets you customize based on metadata collected about a column.  This works with the [PluggableAnalysisFramework](https://buckaroo-data.readthedocs.io/en/latest/articles/pluggable.html),  you can specify required fields that are necessary.  Adding requirements like this garuntees that errors are spotted early.\n",
    "\n",
    "StylingAnalysis works for both Polars and Pandas because it only receives a dictionary with simple python values"
   ]
  },
  {
   "cell_type": "code",
   "execution_count": 10,
   "id": "c03b5bc4-0025-4b55-9e7c-cc1a69508688",
   "metadata": {
    "tags": []
   },
   "outputs": [],
   "source": [
    "class SimpleStylingAnalysis(StylingAnalysis):\n",
    "    pinned_rows = [{'primary_key_val': 'dtype', 'displayer_args': {'displayer': 'obj'}}]\n",
    "\n",
    "    #typing is still be worked out\n",
    "    #def style_column(col:str, column_metadata: SingleColumnMetadata) -> ColumnConfig:\n",
    "    @classmethod\n",
    "    def style_column(kls, col, column_metadata):\n",
    "        return {'col_name':str(col), 'displayer_args': {'displayer': 'obj'}}\n",
    "\n",
    "        \n",
    "    #what is the key for this in the df_display_args_dictionary\n",
    "    df_display_name = \"MyStyles\"\n",
    "def obj_(pkey):\n",
    "    return {'primary_key_val': pkey, 'displayer_args': { 'displayer': 'obj' } }\n",
    "def float_(pkey, digits=3):\n",
    "    return {'primary_key_val': pkey, \n",
    "            'displayer_args': { 'displayer': 'float', 'min_fraction_digits':digits, 'max_fraction_digits':digits}}"
   ]
  },
  {
   "cell_type": "markdown",
   "id": "a60bf7a8-4d5d-4089-8157-dafbd5a689ef",
   "metadata": {},
   "source": [
    "## Toggling between styles\n",
    "In the following example, you can cycle between the two configs by clicking on \"main\".  Eventually I will add a Select (dropdown) box for this.  I personally prefer click to cycle"
   ]
  },
  {
   "cell_type": "code",
   "execution_count": 11,
   "id": "e8b25177-de65-4f5f-838f-152e1b621f5c",
   "metadata": {
    "tags": []
   },
   "outputs": [
    {
     "data": {
      "application/vnd.jupyter.widget-view+json": {
       "model_id": "c16af40753454979b4302d82e32a854c",
       "version_major": 2,
       "version_minor": 0
      },
      "text/plain": [
       "SummaryBuckarooWidget(buckaroo_options={'sampled': ['random'], 'auto_clean': ['aggressive', 'conservative'], '…"
      ]
     },
     "execution_count": 11,
     "metadata": {},
     "output_type": "execute_result"
    }
   ],
   "source": [
    "#The following analysis only\n",
    "class SummaryStatsAnalysis(StylingAnalysis):\n",
    "    requires_summary = ['dtype', 'min', 'mode', 'mean', 'max', 'unique_count', 'distinct_count', 'empty_count']\n",
    "    pinned_rows = [obj_('dtype'), float_('min'), float_('mode'), float_('mean'),  float_('max'), float_('unique_count', 0),\n",
    "                   float_('distinct_count', 0), float_('empty_count', 0)]\n",
    "    df_display_name = \"summary\"\n",
    "    data_key = \"empty\"\n",
    "    summary_stats_key= 'all_stats'\n",
    "base_a_klasses = PolarsBuckarooWidget.analysis_klasses.copy()\n",
    "base_a_klasses.extend([SummaryStatsAnalysis, SimpleStylingAnalysis])\n",
    "class SummaryBuckarooWidget(PolarsBuckarooWidget):\n",
    "    analysis_klasses = base_a_klasses\n",
    "sbw = SummaryBuckarooWidget(\n",
    "    typed_df, \n",
    "    column_config_overrides=dict(index={'displayer_args': {'displayer': 'obj'}}))\n",
    "sbw"
   ]
  },
  {
   "cell_type": "markdown",
   "id": "a2618a7e-b8d9-44ca-b598-07428e654668",
   "metadata": {},
   "source": [
    "# Buckaroo internals related to styling\n",
    "this can help debug what is going on with styling"
   ]
  },
  {
   "cell_type": "code",
   "execution_count": 12,
   "id": "323a5a9d-933b-4bad-856d-17162a22913a",
   "metadata": {
    "tags": []
   },
   "outputs": [
    {
     "data": {
      "text/plain": [
       "{'pinned_rows': [{'primary_key_val': 'dtype',\n",
       "   'displayer_args': {'displayer': 'obj'}},\n",
       "  {'primary_key_val': 'histogram',\n",
       "   'displayer_args': {'displayer': 'histogram'}}],\n",
       " 'column_config': [{'col_name': 'index',\n",
       "   'displayer_args': {'displayer': 'obj'}},\n",
       "  {'col_name': 'int_col',\n",
       "   'displayer_args': {'displayer': 'float',\n",
       "    'minimumFractionDigits': 0,\n",
       "    'maximumFractionDigits': 0}},\n",
       "  {'col_name': 'float_col',\n",
       "   'displayer_args': {'displayer': 'float',\n",
       "    'minimumFractionDigits': 3,\n",
       "    'maximumFractionDigits': 3}},\n",
       "  {'col_name': 'str_col', 'displayer_args': {'displayer': 'obj'}}]}"
      ]
     },
     "execution_count": 12,
     "metadata": {},
     "output_type": "execute_result"
    }
   ],
   "source": [
    "#you can view the main display_args with the following statement,  this lets you check what is actually being sent to the frontend\n",
    "sbw.df_display_args['main']['df_viewer_config']"
   ]
  },
  {
   "cell_type": "code",
   "execution_count": 13,
   "id": "d8ee357c-ba69-49b1-a8a9-bc31cb8cde47",
   "metadata": {
    "tags": []
   },
   "outputs": [
    {
     "data": {
      "application/vnd.jupyter.widget-view+json": {
       "model_id": "02888a0424fa4d26a6e1c8f22ad505c2",
       "version_major": 2,
       "version_minor": 0
      },
      "text/plain": [
       "SummaryBuckarooWidget(buckaroo_options={'sampled': ['random'], 'auto_clean': ['aggressive', 'conservative'], '…"
      ]
     },
     "execution_count": 13,
     "metadata": {},
     "output_type": "execute_result"
    }
   ],
   "source": [
    "# it's annoying to type out all of those pinned rows, lets make some convienence functions\n",
    "def obj_(pkey):\n",
    "    return {'primary_key_val': pkey, 'displayer_args': { 'displayer': 'obj' } }\n",
    "\n",
    "def float_(pkey, digits=3):\n",
    "    return {'primary_key_val': pkey, \n",
    "            'displayer_args': { 'displayer': 'float', 'minimum_FractionDigits':digits, 'maximumFractionDigits':digits}}\n",
    "\n",
    "class SummaryStatsAnalysis1(SimpleStylingAnalysis):\n",
    "    pinned_rows = [\n",
    "        { 'primary_key_val': 'dtype',     'displayer_args': { 'displayer': 'obj' } },\n",
    "        { 'primary_key_val': 'histogram', 'displayer_args': { 'displayer': 'histogram' }},   \n",
    "    ]\n",
    "    df_display_name = \"summary1\"\n",
    "    data_key = \"empty\"\n",
    "    summary_stats_key= 'all_stats'\n",
    "class SummaryStatsAnalysis(SimpleStylingAnalysis):\n",
    "    pinned_rows = [\n",
    "        obj_('dtype'),\n",
    "        float_('min'),\n",
    "        #float_('median'),\n",
    "        float_('mean'),\n",
    "        float_('max'),\n",
    "    ]\n",
    "    df_display_name = \"summary\"\n",
    "    data_key = \"empty\"\n",
    "    summary_stats_key= 'all_stats'\n",
    "base_a_klasses = PolarsBuckarooWidget.analysis_klasses.copy()\n",
    "base_a_klasses.extend([SummaryStatsAnalysis1, SummaryStatsAnalysis])\n",
    "class SummaryBuckarooWidget(PolarsBuckarooWidget):\n",
    "    analysis_klasses = base_a_klasses\n",
    "sbw = SummaryBuckarooWidget(typed_df)\n",
    "#also lets do some hacking so that we start with the summary stats view\n",
    "bstate = sbw.buckaroo_state.copy()\n",
    "bstate['df_display'] = 'summary1'\n",
    "sbw.buckaroo_state= bstate\n",
    "sbw"
   ]
  },
  {
   "cell_type": "code",
   "execution_count": 14,
   "id": "29aa8f47-7cd9-43c5-99e5-84ffeb39e188",
   "metadata": {
    "tags": []
   },
   "outputs": [
    {
     "data": {
      "application/vnd.jupyter.widget-view+json": {
       "model_id": "7a1bceddb6d84627b265a151290e371f",
       "version_major": 2,
       "version_minor": 0
      },
      "text/plain": [
       "SummaryBuckarooWidget(buckaroo_options={'sampled': ['random'], 'auto_clean': ['aggressive', 'conservative'], '…"
      ]
     },
     "execution_count": 14,
     "metadata": {},
     "output_type": "execute_result"
    }
   ],
   "source": [
    "class SummaryStatsAnalysis(SimpleStylingAnalysis):\n",
    "    pinned_rows = [\n",
    "        obj_('dtype'),\n",
    "        float_('min'),\n",
    "        #float_('median'),\n",
    "        float_('mean'),\n",
    "        float_('max'),\n",
    "        float_('unique_count', 0),\n",
    "        float_('distinct_count', 0),\n",
    "        float_('empty_count', 0)\n",
    "    ]\n",
    "    df_display_name = \"summary\"\n",
    "    data_key = \"empty\"\n",
    "    summary_stats_key= 'all_stats'\n",
    "base_a_klasses = PolarsBuckarooWidget.analysis_klasses.copy()\n",
    "base_a_klasses.append(SummaryStatsAnalysis)\n",
    "class SummaryBuckarooWidget(PolarsBuckarooWidget):\n",
    "    analysis_klasses = base_a_klasses\n",
    "sbw = SummaryBuckarooWidget(typed_df)\n",
    "#also lets do some hacking so that we start with the summary stats view\n",
    "bstate = sbw.buckaroo_state.copy()\n",
    "bstate['df_display'] = 'summary'\n",
    "sbw.buckaroo_state= bstate\n",
    "sbw"
   ]
  },
  {
   "cell_type": "code",
   "execution_count": 15,
   "id": "216936c9-8863-47af-bbcd-68eab766e91d",
   "metadata": {},
   "outputs": [
    {
     "ename": "NameError",
     "evalue": "name 'ValueCountPostProcessing' is not defined",
     "output_type": "error",
     "traceback": [
      "\u001b[0;31m---------------------------------------------------------------------------\u001b[0m",
      "\u001b[0;31mNameError\u001b[0m                                 Traceback (most recent call last)",
      "Cell \u001b[0;32mIn[15], line 18\u001b[0m\n\u001b[1;32m     16\u001b[0m         \u001b[38;5;28;01mreturn\u001b[39;00m {\u001b[38;5;124m'\u001b[39m\u001b[38;5;124mcol_name\u001b[39m\u001b[38;5;124m'\u001b[39m:col, \u001b[38;5;124m'\u001b[39m\u001b[38;5;124mdisplayer_args\u001b[39m\u001b[38;5;124m'\u001b[39m: disp }\n\u001b[1;32m     17\u001b[0m base_a_klasses \u001b[38;5;241m=\u001b[39m PolarsBuckarooWidget\u001b[38;5;241m.\u001b[39manalysis_klasses\u001b[38;5;241m.\u001b[39mcopy()\n\u001b[0;32m---> 18\u001b[0m base_a_klasses\u001b[38;5;241m.\u001b[39mextend([AdaptiveStyling, ValueCountPostProcessing])\n\u001b[1;32m     19\u001b[0m \u001b[38;5;28;01mclass\u001b[39;00m \u001b[38;5;21;01mABuckarooWidget\u001b[39;00m(PolarsBuckarooWidget):\n\u001b[1;32m     20\u001b[0m     analysis_klasses \u001b[38;5;241m=\u001b[39m base_a_klasses\n",
      "\u001b[0;31mNameError\u001b[0m: name 'ValueCountPostProcessing' is not defined"
     ]
    }
   ],
   "source": [
    "class AdaptiveStyling(StylingAnalysis):\n",
    "    requires_summary = [\"histogram\", \"is_numeric\", \"dtype\", \"is_integer\"]\n",
    "    pinned_rows = [\n",
    "        obj_('dtype'),\n",
    "        {'primary_key_val': 'histogram', 'displayer_args': { 'displayer': 'histogram' }}]\n",
    "\n",
    "    @classmethod\n",
    "    def style_columns(kls, col, sd):\n",
    "        digits = 3\n",
    "        if sd['is_integer']:\n",
    "            disp = {'displayer': 'float', 'min_fraction_digits':0, 'max_fraction_digits':0}\n",
    "        elif sd['is_numeric']:\n",
    "            disp = {'displayer': 'float', 'min_fraction_digits':digits, 'max_fraction_digits':digits}\n",
    "        else:\n",
    "            disp = {'displayer': 'obj'}\n",
    "        return {'col_name':col, 'displayer_args': disp }\n",
    "base_a_klasses = PolarsBuckarooWidget.analysis_klasses.copy()\n",
    "base_a_klasses.extend([AdaptiveStyling, ValueCountPostProcessing])\n",
    "class ABuckarooWidget(PolarsBuckarooWidget):\n",
    "    analysis_klasses = base_a_klasses\n",
    "acb = ABuckarooWidget(typed_df)\n",
    "acb"
   ]
  },
  {
   "cell_type": "code",
   "execution_count": null,
   "id": "91a3d9a8-cbed-496e-95d1-39068bc1c99d",
   "metadata": {},
   "outputs": [],
   "source": []
  }
 ],
 "metadata": {
  "kernelspec": {
   "display_name": "Python 3 (ipykernel)",
   "language": "python",
   "name": "python3"
  },
  "language_info": {
   "codemirror_mode": {
    "name": "ipython",
    "version": 3
   },
   "file_extension": ".py",
   "mimetype": "text/x-python",
   "name": "python",
   "nbconvert_exporter": "python",
   "pygments_lexer": "ipython3",
   "version": "3.11.7"
  },
  "widgets": {
   "application/vnd.jupyter.widget-state+json": {
    "state": {
     "02888a0424fa4d26a6e1c8f22ad505c2": {
      "model_module": "buckaroo",
      "model_module_version": "^0.5.1",
      "model_name": "DCEFWidgetModel",
      "state": {
       "_model_module_version": "^0.5.1",
       "_view_module_version": "^0.5.1",
       "_view_name": "DCEFWidgetView",
       "buckaroo_options": {
        "auto_clean": [
         "aggressive",
         "conservative"
        ],
        "df_display": [
         "summary",
         "main",
         "summary1"
        ],
        "post_processing": [
         ""
        ],
        "sampled": [
         "random"
        ],
        "show_commands": [
         "on"
        ],
        "summary_stats": [
         "all"
        ]
       },
       "buckaroo_state": {
        "auto_clean": "conservative",
        "df_display": "summary1",
        "post_processing": "",
        "sampled": false,
        "search_string": "",
        "show_commands": false
       },
       "commandConfig": {
        "argspecs": {
         "dropcol": [
          null
         ],
         "fillna": [
          [
           3,
           "fillVal",
           "type",
           "integer"
          ]
         ],
         "groupby": [
          [
           3,
           "colMap",
           "colEnum",
           [
            "null",
            "sum",
            "mean",
            "median",
            "count"
           ]
          ]
         ],
         "onehot": [
          null
         ],
         "reindex": [
          null
         ],
         "safeint": [
          null
         ],
         "to_bool": [
          null
         ],
         "to_datetime": [
          null
         ],
         "to_float": [
          null
         ],
         "to_int": [
          null
         ],
         "to_string": [
          null
         ]
        },
        "defaultArgs": {
         "dropcol": [
          {
           "symbol": "dropcol"
          },
          {
           "symbol": "df"
          },
          "col"
         ],
         "fillna": [
          {
           "symbol": "fillna"
          },
          {
           "symbol": "df"
          },
          "col",
          8
         ],
         "groupby": [
          {
           "symbol": "groupby"
          },
          {
           "symbol": "df"
          },
          "col",
          {}
         ],
         "onehot": [
          {
           "symbol": "onehot"
          },
          {
           "symbol": "df"
          },
          "col"
         ],
         "reindex": [
          {
           "symbol": "reindex"
          },
          {
           "symbol": "df"
          },
          "col"
         ],
         "safeint": [
          {
           "symbol": "safeint"
          },
          {
           "symbol": "df"
          },
          "col"
         ],
         "to_bool": [
          {
           "symbol": "to_bool"
          },
          {
           "symbol": "df"
          },
          "col"
         ],
         "to_datetime": [
          {
           "symbol": "to_datetime"
          },
          {
           "symbol": "df"
          },
          "col"
         ],
         "to_float": [
          {
           "symbol": "to_float"
          },
          {
           "symbol": "df"
          },
          "col"
         ],
         "to_int": [
          {
           "symbol": "to_int"
          },
          {
           "symbol": "df"
          },
          "col"
         ],
         "to_string": [
          {
           "symbol": "to_string"
          },
          {
           "symbol": "df"
          },
          "col"
         ]
        }
       },
       "df_data_dict": {
        "all_stats": [
         {
          "float_col": "shape: (29,)\nSeries: '' [struct[2]]\n[\n\t{10.0,12}\n\t{11.428571,11}\n\t{20.0,11}\n\t{31.428571,10}\n\t{40.0,10}\n\t{8.571429,9}\n\t{7.142857,9}\n\t{25.714286,8}\n\t{27.142857,8}\n\t{5.714286,8}\n\t{14.285714,7}\n\t{21.428571,7}\n\t…\n\t{17.142857,6}\n\t{4.285714,6}\n\t{15.714286,6}\n\t{32.857143,5}\n\t{38.571429,5}\n\t{30.0,5}\n\t{2.857143,5}\n\t{41.428571,4}\n\t{28.571429,4}\n\t{24.285714,4}\n\t{34.285714,4}\n\t{18.571429,4}\n\t{37.142857,4}\n]",
          "index": "value_counts",
          "int_col": "shape: (49,)\nSeries: '' [struct[2]]\n[\n\t{4,10}\n\t{49,9}\n\t{37,9}\n\t{13,7}\n\t{33,6}\n\t{41,6}\n\t{40,5}\n\t{23,5}\n\t{46,5}\n\t{32,5}\n\t{45,5}\n\t{14,5}\n\t…\n\t{7,3}\n\t{48,3}\n\t{2,3}\n\t{44,3}\n\t{20,3}\n\t{35,2}\n\t{36,2}\n\t{24,2}\n\t{18,1}\n\t{21,1}\n\t{25,1}\n\t{19,1}\n\t{47,1}\n]",
          "str_col": "shape: (1,)\nSeries: '' [struct[2]]\n[\n\t{\"foobar\",200}\n]"
         },
         {
          "float_col": 200,
          "index": "length",
          "int_col": 200,
          "str_col": 200
         },
         {
          "float_col": 0,
          "index": "nan_count",
          "int_col": 0,
          "str_col": 0
         },
         {
          "float_col": 1.4285714286,
          "index": "min",
          "int_col": 1,
          "str_col": "foobar"
         },
         {
          "float_col": 41.4285714286,
          "index": "max",
          "int_col": 49,
          "str_col": "foobar"
         },
         {
          "float_col": 20.1571428571,
          "index": "mean",
          "int_col": 25.425,
          "str_col": null
         },
         {
          "float_col": 0,
          "index": "unique_count",
          "int_col": 5,
          "str_col": 0
         },
         {
          "float_col": "Float64",
          "index": "dtype",
          "int_col": "Int64",
          "str_col": "String"
         },
         {
          "float_col": {
           "high_tail": 41.4285714286,
           "low_tail": 1.4285714286,
           "meat_histogram": [
            [
             11,
             26,
             30,
             13,
             21,
             18,
             20,
             20,
             11,
             19
            ],
            [
             1.4285714286,
             5,
             9,
             13,
             17,
             21,
             25,
             29,
             33,
             37,
             41.4285714286
            ]
           ],
           "normalized_populations": [
            0.0582010582,
            0.1375661376,
            0.1587301587,
            0.0687830688,
            0.1111111111,
            0.0952380952,
            0.1058201058,
            0.1058201058,
            0.0582010582,
            0.1005291005
           ]
          },
          "index": "histogram_args",
          "int_col": {
           "high_tail": 49,
           "low_tail": 1,
           "meat_histogram": [
            [
             21,
             18,
             25,
             14,
             14,
             16,
             23,
             21,
             22,
             14
            ],
            [
             1,
             5.8,
             10.6,
             15.4,
             20.2,
             25,
             29.8,
             34.6,
             39.4,
             44.2,
             49
            ]
           ],
           "normalized_populations": [
            0.1117021277,
            0.0957446809,
            0.1329787234,
            0.0744680851,
            0.0744680851,
            0.085106383,
            0.1223404255,
            0.1117021277,
            0.1170212766,
            0.0744680851
           ]
          },
          "str_col": null
         },
         {
          "float_col": true,
          "index": "is_numeric",
          "int_col": true,
          "str_col": false
         },
         {
          "float_col": false,
          "index": "is_integer",
          "int_col": true,
          "str_col": false
         },
         {
          "float_col": "float",
          "index": "_type",
          "int_col": "integer",
          "str_col": "string"
         },
         {
          "float_col": 10,
          "index": "mode",
          "int_col": 4,
          "str_col": "foobar"
         },
         {
          "float_col": 29,
          "index": "distinct_count",
          "int_col": 49,
          "str_col": 1
         },
         {
          "float_col": "float",
          "index": "type",
          "int_col": "integer",
          "str_col": "string"
         },
         {
          "float_col": 1,
          "index": "min_digits",
          "int_col": 1,
          "str_col": null
         },
         {
          "float_col": 2,
          "index": "max_digits",
          "int_col": 2,
          "str_col": null
         },
         {
          "float_col": 0.145,
          "index": "distinct_per",
          "int_col": 0.245,
          "str_col": 0.005
         },
         {
          "float_col": 0,
          "index": "empty_per",
          "int_col": 0,
          "str_col": 0
         },
         {
          "float_col": 0,
          "index": "unique_per",
          "int_col": 0.025,
          "str_col": 0
         },
         {
          "float_col": 0,
          "index": "nan_per",
          "int_col": 0,
          "str_col": 0
         },
         {
          "float_col": [
           {
            "name": "1.4285714285714286 - 1.4285714285714286",
            "tail": 1
           },
           {
            "name": "1-5",
            "population": 6
           },
           {
            "name": "5-9",
            "population": 14
           },
           {
            "name": "9-13",
            "population": 16
           },
           {
            "name": "13-17",
            "population": 7
           },
           {
            "name": "17-21",
            "population": 11
           },
           {
            "name": "21-25",
            "population": 10
           },
           {
            "name": "25-29",
            "population": 11
           },
           {
            "name": "29-33",
            "population": 11
           },
           {
            "name": "33-37",
            "population": 6
           },
           {
            "name": "37-41",
            "population": 10
           },
           {
            "name": "41.42857142857143 - 41.42857142857143",
            "tail": 1
           }
          ],
          "index": "histogram",
          "int_col": [
           {
            "name": "1 - 1.0",
            "tail": 1
           },
           {
            "name": "1-6",
            "population": 11
           },
           {
            "name": "6-11",
            "population": 10
           },
           {
            "name": "11-15",
            "population": 13
           },
           {
            "name": "15-20",
            "population": 7
           },
           {
            "name": "20-25",
            "population": 7
           },
           {
            "name": "25-30",
            "population": 9
           },
           {
            "name": "30-35",
            "population": 12
           },
           {
            "name": "35-39",
            "population": 11
           },
           {
            "name": "39-44",
            "population": 12
           },
           {
            "name": "44-49",
            "population": 7
           },
           {
            "name": "49.0 - 49",
            "tail": 1
           }
          ],
          "str_col": [
           {
            "cat_pop": 100,
            "name": "foobar"
           }
          ]
         },
         {
          "float_col": [
           1.4285714286,
           5,
           9,
           13,
           17,
           21,
           25,
           29,
           33,
           37,
           41.4285714286
          ],
          "index": "histogram_bins",
          "int_col": [
           1,
           5.8,
           10.6,
           15.4,
           20.2,
           25,
           29.8,
           34.6,
           39.4,
           44.2,
           49
          ],
          "str_col": [
           "faked"
          ]
         },
         {
          "float_col": null,
          "index": "empty_count",
          "int_col": null,
          "str_col": 0
         },
         {
          "float_col": null,
          "index": "categorical_histogram",
          "int_col": null,
          "str_col": {
           "foobar": 1,
           "longtail": 0,
           "unique": 0
          }
         }
        ],
        "empty": [],
        "main": [
         {
          "float_col": 8.5714285714,
          "index": 0,
          "int_col": 40,
          "str_col": "foobar"
         },
         {
          "float_col": 11.4285714286,
          "index": 1,
          "int_col": 3,
          "str_col": "foobar"
         },
         {
          "float_col": 31.4285714286,
          "index": 2,
          "int_col": 28,
          "str_col": "foobar"
         },
         {
          "float_col": 17.1428571429,
          "index": 3,
          "int_col": 17,
          "str_col": "foobar"
         },
         {
          "float_col": 8.5714285714,
          "index": 4,
          "int_col": 34,
          "str_col": "foobar"
         },
         {
          "float_col": 14.2857142857,
          "index": 5,
          "int_col": 38,
          "str_col": "foobar"
         },
         {
          "float_col": 41.4285714286,
          "index": 6,
          "int_col": 23,
          "str_col": "foobar"
         },
         {
          "float_col": 11.4285714286,
          "index": 7,
          "int_col": 1,
          "str_col": "foobar"
         },
         {
          "float_col": 25.7142857143,
          "index": 8,
          "int_col": 9,
          "str_col": "foobar"
         },
         {
          "float_col": 20,
          "index": 9,
          "int_col": 46,
          "str_col": "foobar"
         },
         {
          "float_col": 10,
          "index": 10,
          "int_col": 12,
          "str_col": "foobar"
         },
         {
          "float_col": 28.5714285714,
          "index": 11,
          "int_col": 33,
          "str_col": "foobar"
         },
         {
          "float_col": 24.2857142857,
          "index": 12,
          "int_col": 35,
          "str_col": "foobar"
         },
         {
          "float_col": 21.4285714286,
          "index": 13,
          "int_col": 4,
          "str_col": "foobar"
         },
         {
          "float_col": 1.4285714286,
          "index": 14,
          "int_col": 36,
          "str_col": "foobar"
         },
         {
          "float_col": 41.4285714286,
          "index": 15,
          "int_col": 12,
          "str_col": "foobar"
         },
         {
          "float_col": 10,
          "index": 16,
          "int_col": 32,
          "str_col": "foobar"
         },
         {
          "float_col": 11.4285714286,
          "index": 17,
          "int_col": 9,
          "str_col": "foobar"
         },
         {
          "float_col": 7.1428571429,
          "index": 18,
          "int_col": 1,
          "str_col": "foobar"
         },
         {
          "float_col": 20,
          "index": 19,
          "int_col": 46,
          "str_col": "foobar"
         },
         {
          "float_col": 1.4285714286,
          "index": 20,
          "int_col": 34,
          "str_col": "foobar"
         },
         {
          "float_col": 34.2857142857,
          "index": 21,
          "int_col": 45,
          "str_col": "foobar"
         },
         {
          "float_col": 11.4285714286,
          "index": 22,
          "int_col": 49,
          "str_col": "foobar"
         },
         {
          "float_col": 32.8571428571,
          "index": 23,
          "int_col": 14,
          "str_col": "foobar"
         },
         {
          "float_col": 35.7142857143,
          "index": 24,
          "int_col": 49,
          "str_col": "foobar"
         },
         {
          "float_col": 17.1428571429,
          "index": 25,
          "int_col": 39,
          "str_col": "foobar"
         },
         {
          "float_col": 38.5714285714,
          "index": 26,
          "int_col": 28,
          "str_col": "foobar"
         },
         {
          "float_col": 27.1428571429,
          "index": 27,
          "int_col": 18,
          "str_col": "foobar"
         },
         {
          "float_col": 4.2857142857,
          "index": 28,
          "int_col": 4,
          "str_col": "foobar"
         },
         {
          "float_col": 17.1428571429,
          "index": 29,
          "int_col": 10,
          "str_col": "foobar"
         },
         {
          "float_col": 22.8571428571,
          "index": 30,
          "int_col": 12,
          "str_col": "foobar"
         },
         {
          "float_col": 27.1428571429,
          "index": 31,
          "int_col": 8,
          "str_col": "foobar"
         },
         {
          "float_col": 14.2857142857,
          "index": 32,
          "int_col": 43,
          "str_col": "foobar"
         },
         {
          "float_col": 7.1428571429,
          "index": 33,
          "int_col": 13,
          "str_col": "foobar"
         },
         {
          "float_col": 7.1428571429,
          "index": 34,
          "int_col": 23,
          "str_col": "foobar"
         },
         {
          "float_col": 30,
          "index": 35,
          "int_col": 36,
          "str_col": "foobar"
         },
         {
          "float_col": 41.4285714286,
          "index": 36,
          "int_col": 16,
          "str_col": "foobar"
         },
         {
          "float_col": 22.8571428571,
          "index": 37,
          "int_col": 28,
          "str_col": "foobar"
         },
         {
          "float_col": 20,
          "index": 38,
          "int_col": 43,
          "str_col": "foobar"
         },
         {
          "float_col": 28.5714285714,
          "index": 39,
          "int_col": 10,
          "str_col": "foobar"
         },
         {
          "float_col": 12.8571428571,
          "index": 40,
          "int_col": 37,
          "str_col": "foobar"
         },
         {
          "float_col": 15.7142857143,
          "index": 41,
          "int_col": 6,
          "str_col": "foobar"
         },
         {
          "float_col": 21.4285714286,
          "index": 42,
          "int_col": 49,
          "str_col": "foobar"
         },
         {
          "float_col": 5.7142857143,
          "index": 43,
          "int_col": 4,
          "str_col": "foobar"
         },
         {
          "float_col": 38.5714285714,
          "index": 44,
          "int_col": 45,
          "str_col": "foobar"
         },
         {
          "float_col": 12.8571428571,
          "index": 45,
          "int_col": 37,
          "str_col": "foobar"
         },
         {
          "float_col": 18.5714285714,
          "index": 46,
          "int_col": 41,
          "str_col": "foobar"
         },
         {
          "float_col": 8.5714285714,
          "index": 47,
          "int_col": 23,
          "str_col": "foobar"
         },
         {
          "float_col": 11.4285714286,
          "index": 48,
          "int_col": 13,
          "str_col": "foobar"
         },
         {
          "float_col": 10,
          "index": 49,
          "int_col": 13,
          "str_col": "foobar"
         },
         {
          "float_col": 24.2857142857,
          "index": 50,
          "int_col": 10,
          "str_col": "foobar"
         },
         {
          "float_col": 20,
          "index": 51,
          "int_col": 49,
          "str_col": "foobar"
         },
         {
          "float_col": 27.1428571429,
          "index": 52,
          "int_col": 17,
          "str_col": "foobar"
         },
         {
          "float_col": 27.1428571429,
          "index": 53,
          "int_col": 7,
          "str_col": "foobar"
         },
         {
          "float_col": 32.8571428571,
          "index": 54,
          "int_col": 9,
          "str_col": "foobar"
         },
         {
          "float_col": 8.5714285714,
          "index": 55,
          "int_col": 26,
          "str_col": "foobar"
         },
         {
          "float_col": 21.4285714286,
          "index": 56,
          "int_col": 11,
          "str_col": "foobar"
         },
         {
          "float_col": 8.5714285714,
          "index": 57,
          "int_col": 29,
          "str_col": "foobar"
         },
         {
          "float_col": 7.1428571429,
          "index": 58,
          "int_col": 13,
          "str_col": "foobar"
         },
         {
          "float_col": 35.7142857143,
          "index": 59,
          "int_col": 48,
          "str_col": "foobar"
         },
         {
          "float_col": 30,
          "index": 60,
          "int_col": 4,
          "str_col": "foobar"
         },
         {
          "float_col": 25.7142857143,
          "index": 61,
          "int_col": 2,
          "str_col": "foobar"
         },
         {
          "float_col": 14.2857142857,
          "index": 62,
          "int_col": 21,
          "str_col": "foobar"
         },
         {
          "float_col": 12.8571428571,
          "index": 63,
          "int_col": 31,
          "str_col": "foobar"
         },
         {
          "float_col": 25.7142857143,
          "index": 64,
          "int_col": 1,
          "str_col": "foobar"
         },
         {
          "float_col": 25.7142857143,
          "index": 65,
          "int_col": 33,
          "str_col": "foobar"
         },
         {
          "float_col": 1.4285714286,
          "index": 66,
          "int_col": 14,
          "str_col": "foobar"
         },
         {
          "float_col": 2.8571428571,
          "index": 67,
          "int_col": 43,
          "str_col": "foobar"
         },
         {
          "float_col": 40,
          "index": 68,
          "int_col": 33,
          "str_col": "foobar"
         },
         {
          "float_col": 2.8571428571,
          "index": 69,
          "int_col": 41,
          "str_col": "foobar"
         },
         {
          "float_col": 7.1428571429,
          "index": 70,
          "int_col": 14,
          "str_col": "foobar"
         },
         {
          "float_col": 18.5714285714,
          "index": 71,
          "int_col": 6,
          "str_col": "foobar"
         },
         {
          "float_col": 37.1428571429,
          "index": 72,
          "int_col": 46,
          "str_col": "foobar"
         },
         {
          "float_col": 32.8571428571,
          "index": 73,
          "int_col": 8,
          "str_col": "foobar"
         },
         {
          "float_col": 27.1428571429,
          "index": 74,
          "int_col": 38,
          "str_col": "foobar"
         },
         {
          "float_col": 10,
          "index": 75,
          "int_col": 32,
          "str_col": "foobar"
         },
         {
          "float_col": 1.4285714286,
          "index": 76,
          "int_col": 37,
          "str_col": "foobar"
         },
         {
          "float_col": 22.8571428571,
          "index": 77,
          "int_col": 48,
          "str_col": "foobar"
         },
         {
          "float_col": 11.4285714286,
          "index": 78,
          "int_col": 41,
          "str_col": "foobar"
         },
         {
          "float_col": 14.2857142857,
          "index": 79,
          "int_col": 13,
          "str_col": "foobar"
         },
         {
          "float_col": 31.4285714286,
          "index": 80,
          "int_col": 2,
          "str_col": "foobar"
         },
         {
          "float_col": 31.4285714286,
          "index": 81,
          "int_col": 30,
          "str_col": "foobar"
         },
         {
          "float_col": 11.4285714286,
          "index": 82,
          "int_col": 39,
          "str_col": "foobar"
         },
         {
          "float_col": 14.2857142857,
          "index": 83,
          "int_col": 16,
          "str_col": "foobar"
         },
         {
          "float_col": 31.4285714286,
          "index": 84,
          "int_col": 5,
          "str_col": "foobar"
         },
         {
          "float_col": 30,
          "index": 85,
          "int_col": 32,
          "str_col": "foobar"
         },
         {
          "float_col": 15.7142857143,
          "index": 86,
          "int_col": 31,
          "str_col": "foobar"
         },
         {
          "float_col": 7.1428571429,
          "index": 87,
          "int_col": 11,
          "str_col": "foobar"
         },
         {
          "float_col": 1.4285714286,
          "index": 88,
          "int_col": 30,
          "str_col": "foobar"
         },
         {
          "float_col": 2.8571428571,
          "index": 89,
          "int_col": 22,
          "str_col": "foobar"
         },
         {
          "float_col": 32.8571428571,
          "index": 90,
          "int_col": 49,
          "str_col": "foobar"
         },
         {
          "float_col": 5.7142857143,
          "index": 91,
          "int_col": 7,
          "str_col": "foobar"
         },
         {
          "float_col": 14.2857142857,
          "index": 92,
          "int_col": 11,
          "str_col": "foobar"
         },
         {
          "float_col": 21.4285714286,
          "index": 93,
          "int_col": 32,
          "str_col": "foobar"
         },
         {
          "float_col": 10,
          "index": 94,
          "int_col": 45,
          "str_col": "foobar"
         },
         {
          "float_col": 4.2857142857,
          "index": 95,
          "int_col": 25,
          "str_col": "foobar"
         },
         {
          "float_col": 20,
          "index": 96,
          "int_col": 40,
          "str_col": "foobar"
         },
         {
          "float_col": 8.5714285714,
          "index": 97,
          "int_col": 19,
          "str_col": "foobar"
         },
         {
          "float_col": 18.5714285714,
          "index": 98,
          "int_col": 35,
          "str_col": "foobar"
         },
         {
          "float_col": 7.1428571429,
          "index": 99,
          "int_col": 38,
          "str_col": "foobar"
         },
         {
          "float_col": 40,
          "index": 100,
          "int_col": 39,
          "str_col": "foobar"
         },
         {
          "float_col": 15.7142857143,
          "index": 101,
          "int_col": 33,
          "str_col": "foobar"
         },
         {
          "float_col": 27.1428571429,
          "index": 102,
          "int_col": 33,
          "str_col": "foobar"
         },
         {
          "float_col": 37.1428571429,
          "index": 103,
          "int_col": 15,
          "str_col": "foobar"
         },
         {
          "float_col": 2.8571428571,
          "index": 104,
          "int_col": 27,
          "str_col": "foobar"
         },
         {
          "float_col": 30,
          "index": 105,
          "int_col": 17,
          "str_col": "foobar"
         },
         {
          "float_col": 22.8571428571,
          "index": 106,
          "int_col": 34,
          "str_col": "foobar"
         },
         {
          "float_col": 31.4285714286,
          "index": 107,
          "int_col": 45,
          "str_col": "foobar"
         },
         {
          "float_col": 8.5714285714,
          "index": 108,
          "int_col": 45,
          "str_col": "foobar"
         },
         {
          "float_col": 4.2857142857,
          "index": 109,
          "int_col": 42,
          "str_col": "foobar"
         },
         {
          "float_col": 31.4285714286,
          "index": 110,
          "int_col": 29,
          "str_col": "foobar"
         },
         {
          "float_col": 10,
          "index": 111,
          "int_col": 8,
          "str_col": "foobar"
         },
         {
          "float_col": 21.4285714286,
          "index": 112,
          "int_col": 6,
          "str_col": "foobar"
         },
         {
          "float_col": 20,
          "index": 113,
          "int_col": 15,
          "str_col": "foobar"
         },
         {
          "float_col": 40,
          "index": 114,
          "int_col": 40,
          "str_col": "foobar"
         },
         {
          "float_col": 40,
          "index": 115,
          "int_col": 33,
          "str_col": "foobar"
         },
         {
          "float_col": 11.4285714286,
          "index": 116,
          "int_col": 22,
          "str_col": "foobar"
         },
         {
          "float_col": 31.4285714286,
          "index": 117,
          "int_col": 44,
          "str_col": "foobar"
         },
         {
          "float_col": 40,
          "index": 118,
          "int_col": 16,
          "str_col": "foobar"
         },
         {
          "float_col": 1.4285714286,
          "index": 119,
          "int_col": 4,
          "str_col": "foobar"
         },
         {
          "float_col": 25.7142857143,
          "index": 120,
          "int_col": 4,
          "str_col": "foobar"
         },
         {
          "float_col": 37.1428571429,
          "index": 121,
          "int_col": 8,
          "str_col": "foobar"
         },
         {
          "float_col": 34.2857142857,
          "index": 122,
          "int_col": 23,
          "str_col": "foobar"
         },
         {
          "float_col": 34.2857142857,
          "index": 123,
          "int_col": 46,
          "str_col": "foobar"
         },
         {
          "float_col": 15.7142857143,
          "index": 124,
          "int_col": 30,
          "str_col": "foobar"
         },
         {
          "float_col": 10,
          "index": 125,
          "int_col": 13,
          "str_col": "foobar"
         },
         {
          "float_col": 21.4285714286,
          "index": 126,
          "int_col": 49,
          "str_col": "foobar"
         },
         {
          "float_col": 31.4285714286,
          "index": 127,
          "int_col": 20,
          "str_col": "foobar"
         },
         {
          "float_col": 15.7142857143,
          "index": 128,
          "int_col": 37,
          "str_col": "foobar"
         },
         {
          "float_col": 40,
          "index": 129,
          "int_col": 27,
          "str_col": "foobar"
         },
         {
          "float_col": 41.4285714286,
          "index": 130,
          "int_col": 5,
          "str_col": "foobar"
         },
         {
          "float_col": 35.7142857143,
          "index": 131,
          "int_col": 37,
          "str_col": "foobar"
         },
         {
          "float_col": 35.7142857143,
          "index": 132,
          "int_col": 20,
          "str_col": "foobar"
         },
         {
          "float_col": 20,
          "index": 133,
          "int_col": 15,
          "str_col": "foobar"
         },
         {
          "float_col": 28.5714285714,
          "index": 134,
          "int_col": 15,
          "str_col": "foobar"
         },
         {
          "float_col": 27.1428571429,
          "index": 135,
          "int_col": 22,
          "str_col": "foobar"
         },
         {
          "float_col": 40,
          "index": 136,
          "int_col": 13,
          "str_col": "foobar"
         },
         {
          "float_col": 5.7142857143,
          "index": 137,
          "int_col": 14,
          "str_col": "foobar"
         },
         {
          "float_col": 4.2857142857,
          "index": 138,
          "int_col": 16,
          "str_col": "foobar"
         },
         {
          "float_col": 25.7142857143,
          "index": 139,
          "int_col": 4,
          "str_col": "foobar"
         },
         {
          "float_col": 10,
          "index": 140,
          "int_col": 2,
          "str_col": "foobar"
         },
         {
          "float_col": 30,
          "index": 141,
          "int_col": 22,
          "str_col": "foobar"
         },
         {
          "float_col": 10,
          "index": 142,
          "int_col": 24,
          "str_col": "foobar"
         },
         {
          "float_col": 12.8571428571,
          "index": 143,
          "int_col": 29,
          "str_col": "foobar"
         },
         {
          "float_col": 25.7142857143,
          "index": 144,
          "int_col": 3,
          "str_col": "foobar"
         },
         {
          "float_col": 12.8571428571,
          "index": 145,
          "int_col": 40,
          "str_col": "foobar"
         },
         {
          "float_col": 10,
          "index": 146,
          "int_col": 49,
          "str_col": "foobar"
         },
         {
          "float_col": 17.1428571429,
          "index": 147,
          "int_col": 4,
          "str_col": "foobar"
         },
         {
          "float_col": 15.7142857143,
          "index": 148,
          "int_col": 41,
          "str_col": "foobar"
         },
         {
          "float_col": 11.4285714286,
          "index": 149,
          "int_col": 44,
          "str_col": "foobar"
         },
         {
          "float_col": 12.8571428571,
          "index": 150,
          "int_col": 39,
          "str_col": "foobar"
         },
         {
          "float_col": 32.8571428571,
          "index": 151,
          "int_col": 16,
          "str_col": "foobar"
         },
         {
          "float_col": 34.2857142857,
          "index": 152,
          "int_col": 20,
          "str_col": "foobar"
         },
         {
          "float_col": 10,
          "index": 153,
          "int_col": 49,
          "str_col": "foobar"
         },
         {
          "float_col": 31.4285714286,
          "index": 154,
          "int_col": 37,
          "str_col": "foobar"
         },
         {
          "float_col": 35.7142857143,
          "index": 155,
          "int_col": 48,
          "str_col": "foobar"
         },
         {
          "float_col": 22.8571428571,
          "index": 156,
          "int_col": 29,
          "str_col": "foobar"
         },
         {
          "float_col": 14.2857142857,
          "index": 157,
          "int_col": 4,
          "str_col": "foobar"
         },
         {
          "float_col": 27.1428571429,
          "index": 158,
          "int_col": 49,
          "str_col": "foobar"
         },
         {
          "float_col": 4.2857142857,
          "index": 159,
          "int_col": 37,
          "str_col": "foobar"
         },
         {
          "float_col": 40,
          "index": 160,
          "int_col": 8,
          "str_col": "foobar"
         },
         {
          "float_col": 22.8571428571,
          "index": 161,
          "int_col": 40,
          "str_col": "foobar"
         },
         {
          "float_col": 11.4285714286,
          "index": 162,
          "int_col": 26,
          "str_col": "foobar"
         },
         {
          "float_col": 38.5714285714,
          "index": 163,
          "int_col": 46,
          "str_col": "foobar"
         },
         {
          "float_col": 2.8571428571,
          "index": 164,
          "int_col": 14,
          "str_col": "foobar"
         },
         {
          "float_col": 40,
          "index": 165,
          "int_col": 42,
          "str_col": "foobar"
         },
         {
          "float_col": 1.4285714286,
          "index": 166,
          "int_col": 42,
          "str_col": "foobar"
         },
         {
          "float_col": 11.4285714286,
          "index": 167,
          "int_col": 12,
          "str_col": "foobar"
         },
         {
          "float_col": 5.7142857143,
          "index": 168,
          "int_col": 41,
          "str_col": "foobar"
         },
         {
          "float_col": 17.1428571429,
          "index": 169,
          "int_col": 11,
          "str_col": "foobar"
         },
         {
          "float_col": 12.8571428571,
          "index": 170,
          "int_col": 26,
          "str_col": "foobar"
         },
         {
          "float_col": 8.5714285714,
          "index": 171,
          "int_col": 37,
          "str_col": "foobar"
         },
         {
          "float_col": 20,
          "index": 172,
          "int_col": 28,
          "str_col": "foobar"
         },
         {
          "float_col": 7.1428571429,
          "index": 173,
          "int_col": 30,
          "str_col": "foobar"
         },
         {
          "float_col": 5.7142857143,
          "index": 174,
          "int_col": 47,
          "str_col": "foobar"
         },
         {
          "float_col": 5.7142857143,
          "index": 175,
          "int_col": 10,
          "str_col": "foobar"
         },
         {
          "float_col": 21.4285714286,
          "index": 176,
          "int_col": 3,
          "str_col": "foobar"
         },
         {
          "float_col": 22.8571428571,
          "index": 177,
          "int_col": 17,
          "str_col": "foobar"
         },
         {
          "float_col": 28.5714285714,
          "index": 178,
          "int_col": 37,
          "str_col": "foobar"
         },
         {
          "float_col": 7.1428571429,
          "index": 179,
          "int_col": 27,
          "str_col": "foobar"
         },
         {
          "float_col": 35.7142857143,
          "index": 180,
          "int_col": 41,
          "str_col": "foobar"
         },
         {
          "float_col": 35.7142857143,
          "index": 181,
          "int_col": 23,
          "str_col": "foobar"
         },
         {
          "float_col": 17.1428571429,
          "index": 182,
          "int_col": 38,
          "str_col": "foobar"
         },
         {
          "float_col": 25.7142857143,
          "index": 183,
          "int_col": 42,
          "str_col": "foobar"
         },
         {
          "float_col": 5.7142857143,
          "index": 184,
          "int_col": 24,
          "str_col": "foobar"
         },
         {
          "float_col": 38.5714285714,
          "index": 185,
          "int_col": 32,
          "str_col": "foobar"
         },
         {
          "float_col": 40,
          "index": 186,
          "int_col": 3,
          "str_col": "foobar"
         },
         {
          "float_col": 24.2857142857,
          "index": 187,
          "int_col": 15,
          "str_col": "foobar"
         },
         {
          "float_col": 5.7142857143,
          "index": 188,
          "int_col": 5,
          "str_col": "foobar"
         },
         {
          "float_col": 20,
          "index": 189,
          "int_col": 26,
          "str_col": "foobar"
         },
         {
          "float_col": 24.2857142857,
          "index": 190,
          "int_col": 5,
          "str_col": "foobar"
         },
         {
          "float_col": 4.2857142857,
          "index": 191,
          "int_col": 43,
          "str_col": "foobar"
         },
         {
          "float_col": 37.1428571429,
          "index": 192,
          "int_col": 7,
          "str_col": "foobar"
         },
         {
          "float_col": 18.5714285714,
          "index": 193,
          "int_col": 31,
          "str_col": "foobar"
         },
         {
          "float_col": 31.4285714286,
          "index": 194,
          "int_col": 27,
          "str_col": "foobar"
         },
         {
          "float_col": 10,
          "index": 195,
          "int_col": 4,
          "str_col": "foobar"
         },
         {
          "float_col": 20,
          "index": 196,
          "int_col": 44,
          "str_col": "foobar"
         },
         {
          "float_col": 38.5714285714,
          "index": 197,
          "int_col": 22,
          "str_col": "foobar"
         },
         {
          "float_col": 20,
          "index": 198,
          "int_col": 31,
          "str_col": "foobar"
         },
         {
          "float_col": 8.5714285714,
          "index": 199,
          "int_col": 34,
          "str_col": "foobar"
         }
        ]
       },
       "df_display_args": {
        "main": {
         "data_key": "main",
         "df_viewer_config": {
          "column_config": [
           {
            "col_name": "index",
            "displayer_args": {
             "displayer": "obj"
            }
           },
           {
            "col_name": "int_col",
            "displayer_args": {
             "displayer": "float",
             "maximumFractionDigits": 0,
             "minimumFractionDigits": 0
            }
           },
           {
            "col_name": "float_col",
            "displayer_args": {
             "displayer": "float",
             "maximumFractionDigits": 3,
             "minimumFractionDigits": 3
            }
           },
           {
            "col_name": "str_col",
            "displayer_args": {
             "displayer": "obj"
            }
           }
          ],
          "pinned_rows": [
           {
            "displayer_args": {
             "displayer": "obj"
            },
            "primary_key_val": "dtype"
           },
           {
            "displayer_args": {
             "displayer": "histogram"
            },
            "primary_key_val": "histogram"
           }
          ]
         },
         "summary_stats_key": "all_stats"
        },
        "summary": {
         "data_key": "empty",
         "df_viewer_config": {
          "column_config": [
           {
            "col_name": "index",
            "displayer_args": {
             "displayer": "obj"
            }
           },
           {
            "col_name": "int_col",
            "displayer_args": {
             "displayer": "obj"
            }
           },
           {
            "col_name": "float_col",
            "displayer_args": {
             "displayer": "obj"
            }
           },
           {
            "col_name": "str_col",
            "displayer_args": {
             "displayer": "obj"
            }
           }
          ],
          "pinned_rows": [
           {
            "displayer_args": {
             "displayer": "obj"
            },
            "primary_key_val": "dtype"
           },
           {
            "displayer_args": {
             "displayer": "float",
             "maximumFractionDigits": 3,
             "minimum_FractionDigits": 3
            },
            "primary_key_val": "min"
           },
           {
            "displayer_args": {
             "displayer": "float",
             "maximumFractionDigits": 3,
             "minimum_FractionDigits": 3
            },
            "primary_key_val": "mean"
           },
           {
            "displayer_args": {
             "displayer": "float",
             "maximumFractionDigits": 3,
             "minimum_FractionDigits": 3
            },
            "primary_key_val": "max"
           }
          ]
         },
         "summary_stats_key": "all_stats"
        },
        "summary1": {
         "data_key": "empty",
         "df_viewer_config": {
          "column_config": [
           {
            "col_name": "index",
            "displayer_args": {
             "displayer": "obj"
            }
           },
           {
            "col_name": "int_col",
            "displayer_args": {
             "displayer": "obj"
            }
           },
           {
            "col_name": "float_col",
            "displayer_args": {
             "displayer": "obj"
            }
           },
           {
            "col_name": "str_col",
            "displayer_args": {
             "displayer": "obj"
            }
           }
          ],
          "pinned_rows": [
           {
            "displayer_args": {
             "displayer": "obj"
            },
            "primary_key_val": "dtype"
           },
           {
            "displayer_args": {
             "displayer": "histogram"
            },
            "primary_key_val": "histogram"
           }
          ]
         },
         "summary_stats_key": "all_stats"
        }
       },
       "df_meta": {
        "columns": 3,
        "rows_shown": 200,
        "total_rows": 200
       },
       "layout": "IPY_MODEL_bc825f4396274d4ca41d7bb436d805e5",
       "operation_results": {
        "generated_py_code": "# instantiation, unused",
        "transformed_df": {
         "column_config": [],
         "data": [],
         "pinned_rows": []
        }
       },
       "operations": []
      }
     },
     "0a3b8c51171640d0a0d5874415b2a2c5": {
      "model_module": "@jupyter-widgets/base",
      "model_module_version": "2.0.0",
      "model_name": "LayoutModel",
      "state": {}
     },
     "148f7a114222468a80a8dbab866c6f7b": {
      "model_module": "@jupyter-widgets/base",
      "model_module_version": "2.0.0",
      "model_name": "LayoutModel",
      "state": {}
     },
     "19ab40f7fd474c78bd507ec72a871f14": {
      "model_module": "@jupyter-widgets/base",
      "model_module_version": "2.0.0",
      "model_name": "LayoutModel",
      "state": {}
     },
     "1dd1b1ccd42c4becb70e9afed640096a": {
      "model_module": "buckaroo",
      "model_module_version": "^0.5.1",
      "model_name": "DCEFWidgetModel",
      "state": {
       "_model_module_version": "^0.5.1",
       "_view_module_version": "^0.5.1",
       "_view_name": "DCEFWidgetView",
       "buckaroo_options": {
        "auto_clean": [
         "aggressive",
         "conservative"
        ],
        "df_display": [
         "summary",
         "main"
        ],
        "post_processing": [
         ""
        ],
        "sampled": [
         "random"
        ],
        "show_commands": [
         "on"
        ],
        "summary_stats": [
         "all"
        ]
       },
       "buckaroo_state": {
        "auto_clean": "conservative",
        "df_display": "main",
        "post_processing": "",
        "sampled": false,
        "search_string": "",
        "show_commands": false
       },
       "commandConfig": {
        "argspecs": {
         "dropcol": [
          null
         ],
         "fillna": [
          [
           3,
           "fillVal",
           "type",
           "integer"
          ]
         ],
         "groupby": [
          [
           3,
           "colMap",
           "colEnum",
           [
            "null",
            "sum",
            "mean",
            "median",
            "count"
           ]
          ]
         ],
         "onehot": [
          null
         ],
         "reindex": [
          null
         ],
         "safeint": [
          null
         ],
         "to_bool": [
          null
         ],
         "to_datetime": [
          null
         ],
         "to_float": [
          null
         ],
         "to_int": [
          null
         ],
         "to_string": [
          null
         ]
        },
        "defaultArgs": {
         "dropcol": [
          {
           "symbol": "dropcol"
          },
          {
           "symbol": "df"
          },
          "col"
         ],
         "fillna": [
          {
           "symbol": "fillna"
          },
          {
           "symbol": "df"
          },
          "col",
          8
         ],
         "groupby": [
          {
           "symbol": "groupby"
          },
          {
           "symbol": "df"
          },
          "col",
          {}
         ],
         "onehot": [
          {
           "symbol": "onehot"
          },
          {
           "symbol": "df"
          },
          "col"
         ],
         "reindex": [
          {
           "symbol": "reindex"
          },
          {
           "symbol": "df"
          },
          "col"
         ],
         "safeint": [
          {
           "symbol": "safeint"
          },
          {
           "symbol": "df"
          },
          "col"
         ],
         "to_bool": [
          {
           "symbol": "to_bool"
          },
          {
           "symbol": "df"
          },
          "col"
         ],
         "to_datetime": [
          {
           "symbol": "to_datetime"
          },
          {
           "symbol": "df"
          },
          "col"
         ],
         "to_float": [
          {
           "symbol": "to_float"
          },
          {
           "symbol": "df"
          },
          "col"
         ],
         "to_int": [
          {
           "symbol": "to_int"
          },
          {
           "symbol": "df"
          },
          "col"
         ],
         "to_string": [
          {
           "symbol": "to_string"
          },
          {
           "symbol": "df"
          },
          "col"
         ]
        }
       },
       "df_data_dict": {
        "all_stats": [
         {
          "float_col": "shape: (29,)\nSeries: '' [struct[2]]\n[\n\t{10.0,12}\n\t{11.428571,11}\n\t{20.0,11}\n\t{31.428571,10}\n\t{40.0,10}\n\t{8.571429,9}\n\t{7.142857,9}\n\t{25.714286,8}\n\t{27.142857,8}\n\t{5.714286,8}\n\t{14.285714,7}\n\t{21.428571,7}\n\t…\n\t{17.142857,6}\n\t{4.285714,6}\n\t{15.714286,6}\n\t{32.857143,5}\n\t{38.571429,5}\n\t{30.0,5}\n\t{2.857143,5}\n\t{41.428571,4}\n\t{28.571429,4}\n\t{24.285714,4}\n\t{34.285714,4}\n\t{18.571429,4}\n\t{37.142857,4}\n]",
          "index": "value_counts",
          "int_col": "shape: (49,)\nSeries: '' [struct[2]]\n[\n\t{4,10}\n\t{49,9}\n\t{37,9}\n\t{13,7}\n\t{33,6}\n\t{41,6}\n\t{40,5}\n\t{23,5}\n\t{46,5}\n\t{32,5}\n\t{45,5}\n\t{14,5}\n\t…\n\t{7,3}\n\t{48,3}\n\t{2,3}\n\t{44,3}\n\t{20,3}\n\t{35,2}\n\t{36,2}\n\t{24,2}\n\t{18,1}\n\t{21,1}\n\t{25,1}\n\t{19,1}\n\t{47,1}\n]",
          "str_col": "shape: (1,)\nSeries: '' [struct[2]]\n[\n\t{\"foobar\",200}\n]"
         },
         {
          "float_col": 200,
          "index": "length",
          "int_col": 200,
          "str_col": 200
         },
         {
          "float_col": 0,
          "index": "nan_count",
          "int_col": 0,
          "str_col": 0
         },
         {
          "float_col": 1.4285714286,
          "index": "min",
          "int_col": 1,
          "str_col": "foobar"
         },
         {
          "float_col": 41.4285714286,
          "index": "max",
          "int_col": 49,
          "str_col": "foobar"
         },
         {
          "float_col": 20.1571428571,
          "index": "mean",
          "int_col": 25.425,
          "str_col": null
         },
         {
          "float_col": 0,
          "index": "unique_count",
          "int_col": 5,
          "str_col": 0
         },
         {
          "float_col": "Float64",
          "index": "dtype",
          "int_col": "Int64",
          "str_col": "String"
         },
         {
          "float_col": {
           "high_tail": 41.4285714286,
           "low_tail": 1.4285714286,
           "meat_histogram": [
            [
             11,
             26,
             30,
             13,
             21,
             18,
             20,
             20,
             11,
             19
            ],
            [
             1.4285714286,
             5,
             9,
             13,
             17,
             21,
             25,
             29,
             33,
             37,
             41.4285714286
            ]
           ],
           "normalized_populations": [
            0.0582010582,
            0.1375661376,
            0.1587301587,
            0.0687830688,
            0.1111111111,
            0.0952380952,
            0.1058201058,
            0.1058201058,
            0.0582010582,
            0.1005291005
           ]
          },
          "index": "histogram_args",
          "int_col": {
           "high_tail": 49,
           "low_tail": 1,
           "meat_histogram": [
            [
             21,
             18,
             25,
             14,
             14,
             16,
             23,
             21,
             22,
             14
            ],
            [
             1,
             5.8,
             10.6,
             15.4,
             20.2,
             25,
             29.8,
             34.6,
             39.4,
             44.2,
             49
            ]
           ],
           "normalized_populations": [
            0.1117021277,
            0.0957446809,
            0.1329787234,
            0.0744680851,
            0.0744680851,
            0.085106383,
            0.1223404255,
            0.1117021277,
            0.1170212766,
            0.0744680851
           ]
          },
          "str_col": null
         },
         {
          "float_col": true,
          "index": "is_numeric",
          "int_col": true,
          "str_col": false
         },
         {
          "float_col": false,
          "index": "is_integer",
          "int_col": true,
          "str_col": false
         },
         {
          "float_col": "float",
          "index": "_type",
          "int_col": "integer",
          "str_col": "string"
         },
         {
          "float_col": 10,
          "index": "mode",
          "int_col": 4,
          "str_col": "foobar"
         },
         {
          "float_col": 29,
          "index": "distinct_count",
          "int_col": 49,
          "str_col": 1
         },
         {
          "float_col": "float",
          "index": "type",
          "int_col": "integer",
          "str_col": "string"
         },
         {
          "float_col": 1,
          "index": "min_digits",
          "int_col": 1,
          "str_col": null
         },
         {
          "float_col": 2,
          "index": "max_digits",
          "int_col": 2,
          "str_col": null
         },
         {
          "float_col": 0.145,
          "index": "distinct_per",
          "int_col": 0.245,
          "str_col": 0.005
         },
         {
          "float_col": 0,
          "index": "empty_per",
          "int_col": 0,
          "str_col": 0
         },
         {
          "float_col": 0,
          "index": "unique_per",
          "int_col": 0.025,
          "str_col": 0
         },
         {
          "float_col": 0,
          "index": "nan_per",
          "int_col": 0,
          "str_col": 0
         },
         {
          "float_col": [
           {
            "name": "1.4285714285714286 - 1.4285714285714286",
            "tail": 1
           },
           {
            "name": "1-5",
            "population": 6
           },
           {
            "name": "5-9",
            "population": 14
           },
           {
            "name": "9-13",
            "population": 16
           },
           {
            "name": "13-17",
            "population": 7
           },
           {
            "name": "17-21",
            "population": 11
           },
           {
            "name": "21-25",
            "population": 10
           },
           {
            "name": "25-29",
            "population": 11
           },
           {
            "name": "29-33",
            "population": 11
           },
           {
            "name": "33-37",
            "population": 6
           },
           {
            "name": "37-41",
            "population": 10
           },
           {
            "name": "41.42857142857143 - 41.42857142857143",
            "tail": 1
           }
          ],
          "index": "histogram",
          "int_col": [
           {
            "name": "1 - 1.0",
            "tail": 1
           },
           {
            "name": "1-6",
            "population": 11
           },
           {
            "name": "6-11",
            "population": 10
           },
           {
            "name": "11-15",
            "population": 13
           },
           {
            "name": "15-20",
            "population": 7
           },
           {
            "name": "20-25",
            "population": 7
           },
           {
            "name": "25-30",
            "population": 9
           },
           {
            "name": "30-35",
            "population": 12
           },
           {
            "name": "35-39",
            "population": 11
           },
           {
            "name": "39-44",
            "population": 12
           },
           {
            "name": "44-49",
            "population": 7
           },
           {
            "name": "49.0 - 49",
            "tail": 1
           }
          ],
          "str_col": [
           {
            "cat_pop": 100,
            "name": "foobar"
           }
          ]
         },
         {
          "float_col": [
           1.4285714286,
           5,
           9,
           13,
           17,
           21,
           25,
           29,
           33,
           37,
           41.4285714286
          ],
          "index": "histogram_bins",
          "int_col": [
           1,
           5.8,
           10.6,
           15.4,
           20.2,
           25,
           29.8,
           34.6,
           39.4,
           44.2,
           49
          ],
          "str_col": [
           "faked"
          ]
         },
         {
          "float_col": null,
          "index": "empty_count",
          "int_col": null,
          "str_col": 0
         },
         {
          "float_col": null,
          "index": "categorical_histogram",
          "int_col": null,
          "str_col": {
           "foobar": 1,
           "longtail": 0,
           "unique": 0
          }
         }
        ],
        "empty": [],
        "main": [
         {
          "float_col": 8.5714285714,
          "index": 0,
          "int_col": 40,
          "str_col": "foobar"
         },
         {
          "float_col": 11.4285714286,
          "index": 1,
          "int_col": 3,
          "str_col": "foobar"
         },
         {
          "float_col": 31.4285714286,
          "index": 2,
          "int_col": 28,
          "str_col": "foobar"
         },
         {
          "float_col": 17.1428571429,
          "index": 3,
          "int_col": 17,
          "str_col": "foobar"
         },
         {
          "float_col": 8.5714285714,
          "index": 4,
          "int_col": 34,
          "str_col": "foobar"
         },
         {
          "float_col": 14.2857142857,
          "index": 5,
          "int_col": 38,
          "str_col": "foobar"
         },
         {
          "float_col": 41.4285714286,
          "index": 6,
          "int_col": 23,
          "str_col": "foobar"
         },
         {
          "float_col": 11.4285714286,
          "index": 7,
          "int_col": 1,
          "str_col": "foobar"
         },
         {
          "float_col": 25.7142857143,
          "index": 8,
          "int_col": 9,
          "str_col": "foobar"
         },
         {
          "float_col": 20,
          "index": 9,
          "int_col": 46,
          "str_col": "foobar"
         },
         {
          "float_col": 10,
          "index": 10,
          "int_col": 12,
          "str_col": "foobar"
         },
         {
          "float_col": 28.5714285714,
          "index": 11,
          "int_col": 33,
          "str_col": "foobar"
         },
         {
          "float_col": 24.2857142857,
          "index": 12,
          "int_col": 35,
          "str_col": "foobar"
         },
         {
          "float_col": 21.4285714286,
          "index": 13,
          "int_col": 4,
          "str_col": "foobar"
         },
         {
          "float_col": 1.4285714286,
          "index": 14,
          "int_col": 36,
          "str_col": "foobar"
         },
         {
          "float_col": 41.4285714286,
          "index": 15,
          "int_col": 12,
          "str_col": "foobar"
         },
         {
          "float_col": 10,
          "index": 16,
          "int_col": 32,
          "str_col": "foobar"
         },
         {
          "float_col": 11.4285714286,
          "index": 17,
          "int_col": 9,
          "str_col": "foobar"
         },
         {
          "float_col": 7.1428571429,
          "index": 18,
          "int_col": 1,
          "str_col": "foobar"
         },
         {
          "float_col": 20,
          "index": 19,
          "int_col": 46,
          "str_col": "foobar"
         },
         {
          "float_col": 1.4285714286,
          "index": 20,
          "int_col": 34,
          "str_col": "foobar"
         },
         {
          "float_col": 34.2857142857,
          "index": 21,
          "int_col": 45,
          "str_col": "foobar"
         },
         {
          "float_col": 11.4285714286,
          "index": 22,
          "int_col": 49,
          "str_col": "foobar"
         },
         {
          "float_col": 32.8571428571,
          "index": 23,
          "int_col": 14,
          "str_col": "foobar"
         },
         {
          "float_col": 35.7142857143,
          "index": 24,
          "int_col": 49,
          "str_col": "foobar"
         },
         {
          "float_col": 17.1428571429,
          "index": 25,
          "int_col": 39,
          "str_col": "foobar"
         },
         {
          "float_col": 38.5714285714,
          "index": 26,
          "int_col": 28,
          "str_col": "foobar"
         },
         {
          "float_col": 27.1428571429,
          "index": 27,
          "int_col": 18,
          "str_col": "foobar"
         },
         {
          "float_col": 4.2857142857,
          "index": 28,
          "int_col": 4,
          "str_col": "foobar"
         },
         {
          "float_col": 17.1428571429,
          "index": 29,
          "int_col": 10,
          "str_col": "foobar"
         },
         {
          "float_col": 22.8571428571,
          "index": 30,
          "int_col": 12,
          "str_col": "foobar"
         },
         {
          "float_col": 27.1428571429,
          "index": 31,
          "int_col": 8,
          "str_col": "foobar"
         },
         {
          "float_col": 14.2857142857,
          "index": 32,
          "int_col": 43,
          "str_col": "foobar"
         },
         {
          "float_col": 7.1428571429,
          "index": 33,
          "int_col": 13,
          "str_col": "foobar"
         },
         {
          "float_col": 7.1428571429,
          "index": 34,
          "int_col": 23,
          "str_col": "foobar"
         },
         {
          "float_col": 30,
          "index": 35,
          "int_col": 36,
          "str_col": "foobar"
         },
         {
          "float_col": 41.4285714286,
          "index": 36,
          "int_col": 16,
          "str_col": "foobar"
         },
         {
          "float_col": 22.8571428571,
          "index": 37,
          "int_col": 28,
          "str_col": "foobar"
         },
         {
          "float_col": 20,
          "index": 38,
          "int_col": 43,
          "str_col": "foobar"
         },
         {
          "float_col": 28.5714285714,
          "index": 39,
          "int_col": 10,
          "str_col": "foobar"
         },
         {
          "float_col": 12.8571428571,
          "index": 40,
          "int_col": 37,
          "str_col": "foobar"
         },
         {
          "float_col": 15.7142857143,
          "index": 41,
          "int_col": 6,
          "str_col": "foobar"
         },
         {
          "float_col": 21.4285714286,
          "index": 42,
          "int_col": 49,
          "str_col": "foobar"
         },
         {
          "float_col": 5.7142857143,
          "index": 43,
          "int_col": 4,
          "str_col": "foobar"
         },
         {
          "float_col": 38.5714285714,
          "index": 44,
          "int_col": 45,
          "str_col": "foobar"
         },
         {
          "float_col": 12.8571428571,
          "index": 45,
          "int_col": 37,
          "str_col": "foobar"
         },
         {
          "float_col": 18.5714285714,
          "index": 46,
          "int_col": 41,
          "str_col": "foobar"
         },
         {
          "float_col": 8.5714285714,
          "index": 47,
          "int_col": 23,
          "str_col": "foobar"
         },
         {
          "float_col": 11.4285714286,
          "index": 48,
          "int_col": 13,
          "str_col": "foobar"
         },
         {
          "float_col": 10,
          "index": 49,
          "int_col": 13,
          "str_col": "foobar"
         },
         {
          "float_col": 24.2857142857,
          "index": 50,
          "int_col": 10,
          "str_col": "foobar"
         },
         {
          "float_col": 20,
          "index": 51,
          "int_col": 49,
          "str_col": "foobar"
         },
         {
          "float_col": 27.1428571429,
          "index": 52,
          "int_col": 17,
          "str_col": "foobar"
         },
         {
          "float_col": 27.1428571429,
          "index": 53,
          "int_col": 7,
          "str_col": "foobar"
         },
         {
          "float_col": 32.8571428571,
          "index": 54,
          "int_col": 9,
          "str_col": "foobar"
         },
         {
          "float_col": 8.5714285714,
          "index": 55,
          "int_col": 26,
          "str_col": "foobar"
         },
         {
          "float_col": 21.4285714286,
          "index": 56,
          "int_col": 11,
          "str_col": "foobar"
         },
         {
          "float_col": 8.5714285714,
          "index": 57,
          "int_col": 29,
          "str_col": "foobar"
         },
         {
          "float_col": 7.1428571429,
          "index": 58,
          "int_col": 13,
          "str_col": "foobar"
         },
         {
          "float_col": 35.7142857143,
          "index": 59,
          "int_col": 48,
          "str_col": "foobar"
         },
         {
          "float_col": 30,
          "index": 60,
          "int_col": 4,
          "str_col": "foobar"
         },
         {
          "float_col": 25.7142857143,
          "index": 61,
          "int_col": 2,
          "str_col": "foobar"
         },
         {
          "float_col": 14.2857142857,
          "index": 62,
          "int_col": 21,
          "str_col": "foobar"
         },
         {
          "float_col": 12.8571428571,
          "index": 63,
          "int_col": 31,
          "str_col": "foobar"
         },
         {
          "float_col": 25.7142857143,
          "index": 64,
          "int_col": 1,
          "str_col": "foobar"
         },
         {
          "float_col": 25.7142857143,
          "index": 65,
          "int_col": 33,
          "str_col": "foobar"
         },
         {
          "float_col": 1.4285714286,
          "index": 66,
          "int_col": 14,
          "str_col": "foobar"
         },
         {
          "float_col": 2.8571428571,
          "index": 67,
          "int_col": 43,
          "str_col": "foobar"
         },
         {
          "float_col": 40,
          "index": 68,
          "int_col": 33,
          "str_col": "foobar"
         },
         {
          "float_col": 2.8571428571,
          "index": 69,
          "int_col": 41,
          "str_col": "foobar"
         },
         {
          "float_col": 7.1428571429,
          "index": 70,
          "int_col": 14,
          "str_col": "foobar"
         },
         {
          "float_col": 18.5714285714,
          "index": 71,
          "int_col": 6,
          "str_col": "foobar"
         },
         {
          "float_col": 37.1428571429,
          "index": 72,
          "int_col": 46,
          "str_col": "foobar"
         },
         {
          "float_col": 32.8571428571,
          "index": 73,
          "int_col": 8,
          "str_col": "foobar"
         },
         {
          "float_col": 27.1428571429,
          "index": 74,
          "int_col": 38,
          "str_col": "foobar"
         },
         {
          "float_col": 10,
          "index": 75,
          "int_col": 32,
          "str_col": "foobar"
         },
         {
          "float_col": 1.4285714286,
          "index": 76,
          "int_col": 37,
          "str_col": "foobar"
         },
         {
          "float_col": 22.8571428571,
          "index": 77,
          "int_col": 48,
          "str_col": "foobar"
         },
         {
          "float_col": 11.4285714286,
          "index": 78,
          "int_col": 41,
          "str_col": "foobar"
         },
         {
          "float_col": 14.2857142857,
          "index": 79,
          "int_col": 13,
          "str_col": "foobar"
         },
         {
          "float_col": 31.4285714286,
          "index": 80,
          "int_col": 2,
          "str_col": "foobar"
         },
         {
          "float_col": 31.4285714286,
          "index": 81,
          "int_col": 30,
          "str_col": "foobar"
         },
         {
          "float_col": 11.4285714286,
          "index": 82,
          "int_col": 39,
          "str_col": "foobar"
         },
         {
          "float_col": 14.2857142857,
          "index": 83,
          "int_col": 16,
          "str_col": "foobar"
         },
         {
          "float_col": 31.4285714286,
          "index": 84,
          "int_col": 5,
          "str_col": "foobar"
         },
         {
          "float_col": 30,
          "index": 85,
          "int_col": 32,
          "str_col": "foobar"
         },
         {
          "float_col": 15.7142857143,
          "index": 86,
          "int_col": 31,
          "str_col": "foobar"
         },
         {
          "float_col": 7.1428571429,
          "index": 87,
          "int_col": 11,
          "str_col": "foobar"
         },
         {
          "float_col": 1.4285714286,
          "index": 88,
          "int_col": 30,
          "str_col": "foobar"
         },
         {
          "float_col": 2.8571428571,
          "index": 89,
          "int_col": 22,
          "str_col": "foobar"
         },
         {
          "float_col": 32.8571428571,
          "index": 90,
          "int_col": 49,
          "str_col": "foobar"
         },
         {
          "float_col": 5.7142857143,
          "index": 91,
          "int_col": 7,
          "str_col": "foobar"
         },
         {
          "float_col": 14.2857142857,
          "index": 92,
          "int_col": 11,
          "str_col": "foobar"
         },
         {
          "float_col": 21.4285714286,
          "index": 93,
          "int_col": 32,
          "str_col": "foobar"
         },
         {
          "float_col": 10,
          "index": 94,
          "int_col": 45,
          "str_col": "foobar"
         },
         {
          "float_col": 4.2857142857,
          "index": 95,
          "int_col": 25,
          "str_col": "foobar"
         },
         {
          "float_col": 20,
          "index": 96,
          "int_col": 40,
          "str_col": "foobar"
         },
         {
          "float_col": 8.5714285714,
          "index": 97,
          "int_col": 19,
          "str_col": "foobar"
         },
         {
          "float_col": 18.5714285714,
          "index": 98,
          "int_col": 35,
          "str_col": "foobar"
         },
         {
          "float_col": 7.1428571429,
          "index": 99,
          "int_col": 38,
          "str_col": "foobar"
         },
         {
          "float_col": 40,
          "index": 100,
          "int_col": 39,
          "str_col": "foobar"
         },
         {
          "float_col": 15.7142857143,
          "index": 101,
          "int_col": 33,
          "str_col": "foobar"
         },
         {
          "float_col": 27.1428571429,
          "index": 102,
          "int_col": 33,
          "str_col": "foobar"
         },
         {
          "float_col": 37.1428571429,
          "index": 103,
          "int_col": 15,
          "str_col": "foobar"
         },
         {
          "float_col": 2.8571428571,
          "index": 104,
          "int_col": 27,
          "str_col": "foobar"
         },
         {
          "float_col": 30,
          "index": 105,
          "int_col": 17,
          "str_col": "foobar"
         },
         {
          "float_col": 22.8571428571,
          "index": 106,
          "int_col": 34,
          "str_col": "foobar"
         },
         {
          "float_col": 31.4285714286,
          "index": 107,
          "int_col": 45,
          "str_col": "foobar"
         },
         {
          "float_col": 8.5714285714,
          "index": 108,
          "int_col": 45,
          "str_col": "foobar"
         },
         {
          "float_col": 4.2857142857,
          "index": 109,
          "int_col": 42,
          "str_col": "foobar"
         },
         {
          "float_col": 31.4285714286,
          "index": 110,
          "int_col": 29,
          "str_col": "foobar"
         },
         {
          "float_col": 10,
          "index": 111,
          "int_col": 8,
          "str_col": "foobar"
         },
         {
          "float_col": 21.4285714286,
          "index": 112,
          "int_col": 6,
          "str_col": "foobar"
         },
         {
          "float_col": 20,
          "index": 113,
          "int_col": 15,
          "str_col": "foobar"
         },
         {
          "float_col": 40,
          "index": 114,
          "int_col": 40,
          "str_col": "foobar"
         },
         {
          "float_col": 40,
          "index": 115,
          "int_col": 33,
          "str_col": "foobar"
         },
         {
          "float_col": 11.4285714286,
          "index": 116,
          "int_col": 22,
          "str_col": "foobar"
         },
         {
          "float_col": 31.4285714286,
          "index": 117,
          "int_col": 44,
          "str_col": "foobar"
         },
         {
          "float_col": 40,
          "index": 118,
          "int_col": 16,
          "str_col": "foobar"
         },
         {
          "float_col": 1.4285714286,
          "index": 119,
          "int_col": 4,
          "str_col": "foobar"
         },
         {
          "float_col": 25.7142857143,
          "index": 120,
          "int_col": 4,
          "str_col": "foobar"
         },
         {
          "float_col": 37.1428571429,
          "index": 121,
          "int_col": 8,
          "str_col": "foobar"
         },
         {
          "float_col": 34.2857142857,
          "index": 122,
          "int_col": 23,
          "str_col": "foobar"
         },
         {
          "float_col": 34.2857142857,
          "index": 123,
          "int_col": 46,
          "str_col": "foobar"
         },
         {
          "float_col": 15.7142857143,
          "index": 124,
          "int_col": 30,
          "str_col": "foobar"
         },
         {
          "float_col": 10,
          "index": 125,
          "int_col": 13,
          "str_col": "foobar"
         },
         {
          "float_col": 21.4285714286,
          "index": 126,
          "int_col": 49,
          "str_col": "foobar"
         },
         {
          "float_col": 31.4285714286,
          "index": 127,
          "int_col": 20,
          "str_col": "foobar"
         },
         {
          "float_col": 15.7142857143,
          "index": 128,
          "int_col": 37,
          "str_col": "foobar"
         },
         {
          "float_col": 40,
          "index": 129,
          "int_col": 27,
          "str_col": "foobar"
         },
         {
          "float_col": 41.4285714286,
          "index": 130,
          "int_col": 5,
          "str_col": "foobar"
         },
         {
          "float_col": 35.7142857143,
          "index": 131,
          "int_col": 37,
          "str_col": "foobar"
         },
         {
          "float_col": 35.7142857143,
          "index": 132,
          "int_col": 20,
          "str_col": "foobar"
         },
         {
          "float_col": 20,
          "index": 133,
          "int_col": 15,
          "str_col": "foobar"
         },
         {
          "float_col": 28.5714285714,
          "index": 134,
          "int_col": 15,
          "str_col": "foobar"
         },
         {
          "float_col": 27.1428571429,
          "index": 135,
          "int_col": 22,
          "str_col": "foobar"
         },
         {
          "float_col": 40,
          "index": 136,
          "int_col": 13,
          "str_col": "foobar"
         },
         {
          "float_col": 5.7142857143,
          "index": 137,
          "int_col": 14,
          "str_col": "foobar"
         },
         {
          "float_col": 4.2857142857,
          "index": 138,
          "int_col": 16,
          "str_col": "foobar"
         },
         {
          "float_col": 25.7142857143,
          "index": 139,
          "int_col": 4,
          "str_col": "foobar"
         },
         {
          "float_col": 10,
          "index": 140,
          "int_col": 2,
          "str_col": "foobar"
         },
         {
          "float_col": 30,
          "index": 141,
          "int_col": 22,
          "str_col": "foobar"
         },
         {
          "float_col": 10,
          "index": 142,
          "int_col": 24,
          "str_col": "foobar"
         },
         {
          "float_col": 12.8571428571,
          "index": 143,
          "int_col": 29,
          "str_col": "foobar"
         },
         {
          "float_col": 25.7142857143,
          "index": 144,
          "int_col": 3,
          "str_col": "foobar"
         },
         {
          "float_col": 12.8571428571,
          "index": 145,
          "int_col": 40,
          "str_col": "foobar"
         },
         {
          "float_col": 10,
          "index": 146,
          "int_col": 49,
          "str_col": "foobar"
         },
         {
          "float_col": 17.1428571429,
          "index": 147,
          "int_col": 4,
          "str_col": "foobar"
         },
         {
          "float_col": 15.7142857143,
          "index": 148,
          "int_col": 41,
          "str_col": "foobar"
         },
         {
          "float_col": 11.4285714286,
          "index": 149,
          "int_col": 44,
          "str_col": "foobar"
         },
         {
          "float_col": 12.8571428571,
          "index": 150,
          "int_col": 39,
          "str_col": "foobar"
         },
         {
          "float_col": 32.8571428571,
          "index": 151,
          "int_col": 16,
          "str_col": "foobar"
         },
         {
          "float_col": 34.2857142857,
          "index": 152,
          "int_col": 20,
          "str_col": "foobar"
         },
         {
          "float_col": 10,
          "index": 153,
          "int_col": 49,
          "str_col": "foobar"
         },
         {
          "float_col": 31.4285714286,
          "index": 154,
          "int_col": 37,
          "str_col": "foobar"
         },
         {
          "float_col": 35.7142857143,
          "index": 155,
          "int_col": 48,
          "str_col": "foobar"
         },
         {
          "float_col": 22.8571428571,
          "index": 156,
          "int_col": 29,
          "str_col": "foobar"
         },
         {
          "float_col": 14.2857142857,
          "index": 157,
          "int_col": 4,
          "str_col": "foobar"
         },
         {
          "float_col": 27.1428571429,
          "index": 158,
          "int_col": 49,
          "str_col": "foobar"
         },
         {
          "float_col": 4.2857142857,
          "index": 159,
          "int_col": 37,
          "str_col": "foobar"
         },
         {
          "float_col": 40,
          "index": 160,
          "int_col": 8,
          "str_col": "foobar"
         },
         {
          "float_col": 22.8571428571,
          "index": 161,
          "int_col": 40,
          "str_col": "foobar"
         },
         {
          "float_col": 11.4285714286,
          "index": 162,
          "int_col": 26,
          "str_col": "foobar"
         },
         {
          "float_col": 38.5714285714,
          "index": 163,
          "int_col": 46,
          "str_col": "foobar"
         },
         {
          "float_col": 2.8571428571,
          "index": 164,
          "int_col": 14,
          "str_col": "foobar"
         },
         {
          "float_col": 40,
          "index": 165,
          "int_col": 42,
          "str_col": "foobar"
         },
         {
          "float_col": 1.4285714286,
          "index": 166,
          "int_col": 42,
          "str_col": "foobar"
         },
         {
          "float_col": 11.4285714286,
          "index": 167,
          "int_col": 12,
          "str_col": "foobar"
         },
         {
          "float_col": 5.7142857143,
          "index": 168,
          "int_col": 41,
          "str_col": "foobar"
         },
         {
          "float_col": 17.1428571429,
          "index": 169,
          "int_col": 11,
          "str_col": "foobar"
         },
         {
          "float_col": 12.8571428571,
          "index": 170,
          "int_col": 26,
          "str_col": "foobar"
         },
         {
          "float_col": 8.5714285714,
          "index": 171,
          "int_col": 37,
          "str_col": "foobar"
         },
         {
          "float_col": 20,
          "index": 172,
          "int_col": 28,
          "str_col": "foobar"
         },
         {
          "float_col": 7.1428571429,
          "index": 173,
          "int_col": 30,
          "str_col": "foobar"
         },
         {
          "float_col": 5.7142857143,
          "index": 174,
          "int_col": 47,
          "str_col": "foobar"
         },
         {
          "float_col": 5.7142857143,
          "index": 175,
          "int_col": 10,
          "str_col": "foobar"
         },
         {
          "float_col": 21.4285714286,
          "index": 176,
          "int_col": 3,
          "str_col": "foobar"
         },
         {
          "float_col": 22.8571428571,
          "index": 177,
          "int_col": 17,
          "str_col": "foobar"
         },
         {
          "float_col": 28.5714285714,
          "index": 178,
          "int_col": 37,
          "str_col": "foobar"
         },
         {
          "float_col": 7.1428571429,
          "index": 179,
          "int_col": 27,
          "str_col": "foobar"
         },
         {
          "float_col": 35.7142857143,
          "index": 180,
          "int_col": 41,
          "str_col": "foobar"
         },
         {
          "float_col": 35.7142857143,
          "index": 181,
          "int_col": 23,
          "str_col": "foobar"
         },
         {
          "float_col": 17.1428571429,
          "index": 182,
          "int_col": 38,
          "str_col": "foobar"
         },
         {
          "float_col": 25.7142857143,
          "index": 183,
          "int_col": 42,
          "str_col": "foobar"
         },
         {
          "float_col": 5.7142857143,
          "index": 184,
          "int_col": 24,
          "str_col": "foobar"
         },
         {
          "float_col": 38.5714285714,
          "index": 185,
          "int_col": 32,
          "str_col": "foobar"
         },
         {
          "float_col": 40,
          "index": 186,
          "int_col": 3,
          "str_col": "foobar"
         },
         {
          "float_col": 24.2857142857,
          "index": 187,
          "int_col": 15,
          "str_col": "foobar"
         },
         {
          "float_col": 5.7142857143,
          "index": 188,
          "int_col": 5,
          "str_col": "foobar"
         },
         {
          "float_col": 20,
          "index": 189,
          "int_col": 26,
          "str_col": "foobar"
         },
         {
          "float_col": 24.2857142857,
          "index": 190,
          "int_col": 5,
          "str_col": "foobar"
         },
         {
          "float_col": 4.2857142857,
          "index": 191,
          "int_col": 43,
          "str_col": "foobar"
         },
         {
          "float_col": 37.1428571429,
          "index": 192,
          "int_col": 7,
          "str_col": "foobar"
         },
         {
          "float_col": 18.5714285714,
          "index": 193,
          "int_col": 31,
          "str_col": "foobar"
         },
         {
          "float_col": 31.4285714286,
          "index": 194,
          "int_col": 27,
          "str_col": "foobar"
         },
         {
          "float_col": 10,
          "index": 195,
          "int_col": 4,
          "str_col": "foobar"
         },
         {
          "float_col": 20,
          "index": 196,
          "int_col": 44,
          "str_col": "foobar"
         },
         {
          "float_col": 38.5714285714,
          "index": 197,
          "int_col": 22,
          "str_col": "foobar"
         },
         {
          "float_col": 20,
          "index": 198,
          "int_col": 31,
          "str_col": "foobar"
         },
         {
          "float_col": 8.5714285714,
          "index": 199,
          "int_col": 34,
          "str_col": "foobar"
         }
        ]
       },
       "df_display_args": {
        "main": {
         "data_key": "main",
         "df_viewer_config": {
          "column_config": [
           {
            "col_name": "index",
            "displayer_args": {
             "displayer": "obj"
            }
           },
           {
            "col_name": "int_col",
            "displayer_args": {
             "displayer": "float",
             "maximumFractionDigits": 0,
             "minimumFractionDigits": 0
            }
           },
           {
            "col_name": "float_col",
            "displayer_args": {
             "displayer": "float",
             "maximumFractionDigits": 3,
             "minimumFractionDigits": 3
            }
           },
           {
            "col_name": "str_col",
            "displayer_args": {
             "displayer": "obj"
            }
           }
          ],
          "pinned_rows": [
           {
            "displayer_args": {
             "displayer": "obj"
            },
            "primary_key_val": "dtype"
           },
           {
            "displayer_args": {
             "displayer": "histogram"
            },
            "primary_key_val": "histogram"
           }
          ]
         },
         "summary_stats_key": "all_stats"
        },
        "summary": {
         "data_key": "empty",
         "df_viewer_config": {
          "column_config": [
           {
            "col_name": "index",
            "displayer_args": {
             "displayer": "obj"
            }
           },
           {
            "col_name": "int_col",
            "displayer_args": {
             "displayer": "obj"
            }
           },
           {
            "col_name": "float_col",
            "displayer_args": {
             "displayer": "obj"
            }
           },
           {
            "col_name": "str_col",
            "displayer_args": {
             "displayer": "obj"
            }
           }
          ],
          "pinned_rows": [
           {
            "displayer_args": {
             "displayer": "obj"
            },
            "primary_key_val": "dtype"
           },
           {
            "displayer_args": {
             "displayer": "float",
             "maximumFractionDigits": 3,
             "minimumFractionDigits": 3
            },
            "primary_key_val": "min"
           },
           {
            "displayer_args": {
             "displayer": "float",
             "maximumFractionDigits": 3,
             "minimumFractionDigits": 3
            },
            "primary_key_val": "mean"
           },
           {
            "displayer_args": {
             "displayer": "float",
             "maximumFractionDigits": 3,
             "minimumFractionDigits": 3
            },
            "primary_key_val": "max"
           },
           {
            "displayer_args": {
             "displayer": "float",
             "maximumFractionDigits": 0,
             "minimumFractionDigits": 0
            },
            "primary_key_val": "unique_count"
           },
           {
            "displayer_args": {
             "displayer": "float",
             "maximumFractionDigits": 0,
             "minimumFractionDigits": 0
            },
            "primary_key_val": "distinct_count"
           },
           {
            "displayer_args": {
             "displayer": "float",
             "maximumFractionDigits": 0,
             "minimumFractionDigits": 0
            },
            "primary_key_val": "empty_count"
           }
          ]
         },
         "summary_stats_key": "all_stats"
        }
       },
       "df_meta": {
        "columns": 3,
        "rows_shown": 200,
        "total_rows": 200
       },
       "layout": "IPY_MODEL_849f7b5ac5b14178bf3d030320924c4a",
       "operation_results": {
        "generated_py_code": "# instantiation, unused",
        "transformed_df": {
         "column_config": [],
         "data": [],
         "pinned_rows": []
        }
       },
       "operations": []
      }
     },
     "1ff69a8084214338ac1fca34daa9dffd": {
      "model_module": "buckaroo",
      "model_module_version": "^0.5.1",
      "model_name": "DCEFWidgetModel",
      "state": {
       "_model_module_version": "^0.5.1",
       "_view_module_version": "^0.5.1",
       "_view_name": "DCEFWidgetView",
       "buckaroo_options": {
        "auto_clean": [
         "aggressive",
         "conservative"
        ],
        "df_display": [
         "summary",
         "main"
        ],
        "post_processing": [
         ""
        ],
        "sampled": [
         "random"
        ],
        "show_commands": [
         "on"
        ],
        "summary_stats": [
         "all"
        ]
       },
       "buckaroo_state": {
        "auto_clean": "conservative",
        "df_display": "main",
        "post_processing": "",
        "sampled": false,
        "search_string": "",
        "show_commands": false
       },
       "commandConfig": {
        "argspecs": {
         "dropcol": [
          null
         ],
         "fillna": [
          [
           3,
           "fillVal",
           "type",
           "integer"
          ]
         ],
         "groupby": [
          [
           3,
           "colMap",
           "colEnum",
           [
            "null",
            "sum",
            "mean",
            "median",
            "count"
           ]
          ]
         ],
         "onehot": [
          null
         ],
         "reindex": [
          null
         ],
         "safeint": [
          null
         ],
         "to_bool": [
          null
         ],
         "to_datetime": [
          null
         ],
         "to_float": [
          null
         ],
         "to_int": [
          null
         ],
         "to_string": [
          null
         ]
        },
        "defaultArgs": {
         "dropcol": [
          {
           "symbol": "dropcol"
          },
          {
           "symbol": "df"
          },
          "col"
         ],
         "fillna": [
          {
           "symbol": "fillna"
          },
          {
           "symbol": "df"
          },
          "col",
          8
         ],
         "groupby": [
          {
           "symbol": "groupby"
          },
          {
           "symbol": "df"
          },
          "col",
          {}
         ],
         "onehot": [
          {
           "symbol": "onehot"
          },
          {
           "symbol": "df"
          },
          "col"
         ],
         "reindex": [
          {
           "symbol": "reindex"
          },
          {
           "symbol": "df"
          },
          "col"
         ],
         "safeint": [
          {
           "symbol": "safeint"
          },
          {
           "symbol": "df"
          },
          "col"
         ],
         "to_bool": [
          {
           "symbol": "to_bool"
          },
          {
           "symbol": "df"
          },
          "col"
         ],
         "to_datetime": [
          {
           "symbol": "to_datetime"
          },
          {
           "symbol": "df"
          },
          "col"
         ],
         "to_float": [
          {
           "symbol": "to_float"
          },
          {
           "symbol": "df"
          },
          "col"
         ],
         "to_int": [
          {
           "symbol": "to_int"
          },
          {
           "symbol": "df"
          },
          "col"
         ],
         "to_string": [
          {
           "symbol": "to_string"
          },
          {
           "symbol": "df"
          },
          "col"
         ]
        }
       },
       "df_data_dict": {
        "all_stats": [
         {
          "float_col": "shape: (29,)\nSeries: '' [struct[2]]\n[\n\t{10.0,12}\n\t{11.428571,11}\n\t{20.0,11}\n\t{31.428571,10}\n\t{40.0,10}\n\t{8.571429,9}\n\t{7.142857,9}\n\t{25.714286,8}\n\t{27.142857,8}\n\t{5.714286,8}\n\t{14.285714,7}\n\t{21.428571,7}\n\t…\n\t{17.142857,6}\n\t{4.285714,6}\n\t{15.714286,6}\n\t{32.857143,5}\n\t{38.571429,5}\n\t{30.0,5}\n\t{2.857143,5}\n\t{41.428571,4}\n\t{28.571429,4}\n\t{24.285714,4}\n\t{34.285714,4}\n\t{18.571429,4}\n\t{37.142857,4}\n]",
          "index": "value_counts",
          "int_col": "shape: (49,)\nSeries: '' [struct[2]]\n[\n\t{4,10}\n\t{49,9}\n\t{37,9}\n\t{13,7}\n\t{33,6}\n\t{41,6}\n\t{40,5}\n\t{23,5}\n\t{46,5}\n\t{32,5}\n\t{45,5}\n\t{14,5}\n\t…\n\t{7,3}\n\t{48,3}\n\t{2,3}\n\t{44,3}\n\t{20,3}\n\t{35,2}\n\t{36,2}\n\t{24,2}\n\t{18,1}\n\t{21,1}\n\t{25,1}\n\t{19,1}\n\t{47,1}\n]",
          "str_col": "shape: (1,)\nSeries: '' [struct[2]]\n[\n\t{\"foobar\",200}\n]"
         },
         {
          "float_col": 200,
          "index": "length",
          "int_col": 200,
          "str_col": 200
         },
         {
          "float_col": 0,
          "index": "nan_count",
          "int_col": 0,
          "str_col": 0
         },
         {
          "float_col": 1.4285714286,
          "index": "min",
          "int_col": 1,
          "str_col": "foobar"
         },
         {
          "float_col": 41.4285714286,
          "index": "max",
          "int_col": 49,
          "str_col": "foobar"
         },
         {
          "float_col": 20.1571428571,
          "index": "mean",
          "int_col": 25.425,
          "str_col": null
         },
         {
          "float_col": 0,
          "index": "unique_count",
          "int_col": 5,
          "str_col": 0
         },
         {
          "float_col": "Float64",
          "index": "dtype",
          "int_col": "Int64",
          "str_col": "String"
         },
         {
          "float_col": {
           "high_tail": 41.4285714286,
           "low_tail": 1.4285714286,
           "meat_histogram": [
            [
             11,
             26,
             30,
             13,
             21,
             18,
             20,
             20,
             11,
             19
            ],
            [
             1.4285714286,
             5,
             9,
             13,
             17,
             21,
             25,
             29,
             33,
             37,
             41.4285714286
            ]
           ],
           "normalized_populations": [
            0.0582010582,
            0.1375661376,
            0.1587301587,
            0.0687830688,
            0.1111111111,
            0.0952380952,
            0.1058201058,
            0.1058201058,
            0.0582010582,
            0.1005291005
           ]
          },
          "index": "histogram_args",
          "int_col": {
           "high_tail": 49,
           "low_tail": 1,
           "meat_histogram": [
            [
             21,
             18,
             25,
             14,
             14,
             16,
             23,
             21,
             22,
             14
            ],
            [
             1,
             5.8,
             10.6,
             15.4,
             20.2,
             25,
             29.8,
             34.6,
             39.4,
             44.2,
             49
            ]
           ],
           "normalized_populations": [
            0.1117021277,
            0.0957446809,
            0.1329787234,
            0.0744680851,
            0.0744680851,
            0.085106383,
            0.1223404255,
            0.1117021277,
            0.1170212766,
            0.0744680851
           ]
          },
          "str_col": null
         },
         {
          "float_col": true,
          "index": "is_numeric",
          "int_col": true,
          "str_col": false
         },
         {
          "float_col": false,
          "index": "is_integer",
          "int_col": true,
          "str_col": false
         },
         {
          "float_col": "float",
          "index": "_type",
          "int_col": "integer",
          "str_col": "string"
         },
         {
          "float_col": 10,
          "index": "mode",
          "int_col": 4,
          "str_col": "foobar"
         },
         {
          "float_col": 29,
          "index": "distinct_count",
          "int_col": 49,
          "str_col": 1
         },
         {
          "float_col": "float",
          "index": "type",
          "int_col": "integer",
          "str_col": "string"
         },
         {
          "float_col": 1,
          "index": "min_digits",
          "int_col": 1,
          "str_col": null
         },
         {
          "float_col": 2,
          "index": "max_digits",
          "int_col": 2,
          "str_col": null
         },
         {
          "float_col": 0.145,
          "index": "distinct_per",
          "int_col": 0.245,
          "str_col": 0.005
         },
         {
          "float_col": 0,
          "index": "empty_per",
          "int_col": 0,
          "str_col": 0
         },
         {
          "float_col": 0,
          "index": "unique_per",
          "int_col": 0.025,
          "str_col": 0
         },
         {
          "float_col": 0,
          "index": "nan_per",
          "int_col": 0,
          "str_col": 0
         },
         {
          "float_col": [
           {
            "name": "1.4285714285714286 - 1.4285714285714286",
            "tail": 1
           },
           {
            "name": "1-5",
            "population": 6
           },
           {
            "name": "5-9",
            "population": 14
           },
           {
            "name": "9-13",
            "population": 16
           },
           {
            "name": "13-17",
            "population": 7
           },
           {
            "name": "17-21",
            "population": 11
           },
           {
            "name": "21-25",
            "population": 10
           },
           {
            "name": "25-29",
            "population": 11
           },
           {
            "name": "29-33",
            "population": 11
           },
           {
            "name": "33-37",
            "population": 6
           },
           {
            "name": "37-41",
            "population": 10
           },
           {
            "name": "41.42857142857143 - 41.42857142857143",
            "tail": 1
           }
          ],
          "index": "histogram",
          "int_col": [
           {
            "name": "1 - 1.0",
            "tail": 1
           },
           {
            "name": "1-6",
            "population": 11
           },
           {
            "name": "6-11",
            "population": 10
           },
           {
            "name": "11-15",
            "population": 13
           },
           {
            "name": "15-20",
            "population": 7
           },
           {
            "name": "20-25",
            "population": 7
           },
           {
            "name": "25-30",
            "population": 9
           },
           {
            "name": "30-35",
            "population": 12
           },
           {
            "name": "35-39",
            "population": 11
           },
           {
            "name": "39-44",
            "population": 12
           },
           {
            "name": "44-49",
            "population": 7
           },
           {
            "name": "49.0 - 49",
            "tail": 1
           }
          ],
          "str_col": [
           {
            "cat_pop": 100,
            "name": "foobar"
           }
          ]
         },
         {
          "float_col": [
           1.4285714286,
           5,
           9,
           13,
           17,
           21,
           25,
           29,
           33,
           37,
           41.4285714286
          ],
          "index": "histogram_bins",
          "int_col": [
           1,
           5.8,
           10.6,
           15.4,
           20.2,
           25,
           29.8,
           34.6,
           39.4,
           44.2,
           49
          ],
          "str_col": [
           "faked"
          ]
         },
         {
          "float_col": null,
          "index": "empty_count",
          "int_col": null,
          "str_col": 0
         },
         {
          "float_col": null,
          "index": "categorical_histogram",
          "int_col": null,
          "str_col": {
           "foobar": 1,
           "longtail": 0,
           "unique": 0
          }
         }
        ],
        "empty": [],
        "main": [
         {
          "float_col": 8.5714285714,
          "index": 0,
          "int_col": 40,
          "str_col": "foobar"
         },
         {
          "float_col": 11.4285714286,
          "index": 1,
          "int_col": 3,
          "str_col": "foobar"
         },
         {
          "float_col": 31.4285714286,
          "index": 2,
          "int_col": 28,
          "str_col": "foobar"
         },
         {
          "float_col": 17.1428571429,
          "index": 3,
          "int_col": 17,
          "str_col": "foobar"
         },
         {
          "float_col": 8.5714285714,
          "index": 4,
          "int_col": 34,
          "str_col": "foobar"
         },
         {
          "float_col": 14.2857142857,
          "index": 5,
          "int_col": 38,
          "str_col": "foobar"
         },
         {
          "float_col": 41.4285714286,
          "index": 6,
          "int_col": 23,
          "str_col": "foobar"
         },
         {
          "float_col": 11.4285714286,
          "index": 7,
          "int_col": 1,
          "str_col": "foobar"
         },
         {
          "float_col": 25.7142857143,
          "index": 8,
          "int_col": 9,
          "str_col": "foobar"
         },
         {
          "float_col": 20,
          "index": 9,
          "int_col": 46,
          "str_col": "foobar"
         },
         {
          "float_col": 10,
          "index": 10,
          "int_col": 12,
          "str_col": "foobar"
         },
         {
          "float_col": 28.5714285714,
          "index": 11,
          "int_col": 33,
          "str_col": "foobar"
         },
         {
          "float_col": 24.2857142857,
          "index": 12,
          "int_col": 35,
          "str_col": "foobar"
         },
         {
          "float_col": 21.4285714286,
          "index": 13,
          "int_col": 4,
          "str_col": "foobar"
         },
         {
          "float_col": 1.4285714286,
          "index": 14,
          "int_col": 36,
          "str_col": "foobar"
         },
         {
          "float_col": 41.4285714286,
          "index": 15,
          "int_col": 12,
          "str_col": "foobar"
         },
         {
          "float_col": 10,
          "index": 16,
          "int_col": 32,
          "str_col": "foobar"
         },
         {
          "float_col": 11.4285714286,
          "index": 17,
          "int_col": 9,
          "str_col": "foobar"
         },
         {
          "float_col": 7.1428571429,
          "index": 18,
          "int_col": 1,
          "str_col": "foobar"
         },
         {
          "float_col": 20,
          "index": 19,
          "int_col": 46,
          "str_col": "foobar"
         },
         {
          "float_col": 1.4285714286,
          "index": 20,
          "int_col": 34,
          "str_col": "foobar"
         },
         {
          "float_col": 34.2857142857,
          "index": 21,
          "int_col": 45,
          "str_col": "foobar"
         },
         {
          "float_col": 11.4285714286,
          "index": 22,
          "int_col": 49,
          "str_col": "foobar"
         },
         {
          "float_col": 32.8571428571,
          "index": 23,
          "int_col": 14,
          "str_col": "foobar"
         },
         {
          "float_col": 35.7142857143,
          "index": 24,
          "int_col": 49,
          "str_col": "foobar"
         },
         {
          "float_col": 17.1428571429,
          "index": 25,
          "int_col": 39,
          "str_col": "foobar"
         },
         {
          "float_col": 38.5714285714,
          "index": 26,
          "int_col": 28,
          "str_col": "foobar"
         },
         {
          "float_col": 27.1428571429,
          "index": 27,
          "int_col": 18,
          "str_col": "foobar"
         },
         {
          "float_col": 4.2857142857,
          "index": 28,
          "int_col": 4,
          "str_col": "foobar"
         },
         {
          "float_col": 17.1428571429,
          "index": 29,
          "int_col": 10,
          "str_col": "foobar"
         },
         {
          "float_col": 22.8571428571,
          "index": 30,
          "int_col": 12,
          "str_col": "foobar"
         },
         {
          "float_col": 27.1428571429,
          "index": 31,
          "int_col": 8,
          "str_col": "foobar"
         },
         {
          "float_col": 14.2857142857,
          "index": 32,
          "int_col": 43,
          "str_col": "foobar"
         },
         {
          "float_col": 7.1428571429,
          "index": 33,
          "int_col": 13,
          "str_col": "foobar"
         },
         {
          "float_col": 7.1428571429,
          "index": 34,
          "int_col": 23,
          "str_col": "foobar"
         },
         {
          "float_col": 30,
          "index": 35,
          "int_col": 36,
          "str_col": "foobar"
         },
         {
          "float_col": 41.4285714286,
          "index": 36,
          "int_col": 16,
          "str_col": "foobar"
         },
         {
          "float_col": 22.8571428571,
          "index": 37,
          "int_col": 28,
          "str_col": "foobar"
         },
         {
          "float_col": 20,
          "index": 38,
          "int_col": 43,
          "str_col": "foobar"
         },
         {
          "float_col": 28.5714285714,
          "index": 39,
          "int_col": 10,
          "str_col": "foobar"
         },
         {
          "float_col": 12.8571428571,
          "index": 40,
          "int_col": 37,
          "str_col": "foobar"
         },
         {
          "float_col": 15.7142857143,
          "index": 41,
          "int_col": 6,
          "str_col": "foobar"
         },
         {
          "float_col": 21.4285714286,
          "index": 42,
          "int_col": 49,
          "str_col": "foobar"
         },
         {
          "float_col": 5.7142857143,
          "index": 43,
          "int_col": 4,
          "str_col": "foobar"
         },
         {
          "float_col": 38.5714285714,
          "index": 44,
          "int_col": 45,
          "str_col": "foobar"
         },
         {
          "float_col": 12.8571428571,
          "index": 45,
          "int_col": 37,
          "str_col": "foobar"
         },
         {
          "float_col": 18.5714285714,
          "index": 46,
          "int_col": 41,
          "str_col": "foobar"
         },
         {
          "float_col": 8.5714285714,
          "index": 47,
          "int_col": 23,
          "str_col": "foobar"
         },
         {
          "float_col": 11.4285714286,
          "index": 48,
          "int_col": 13,
          "str_col": "foobar"
         },
         {
          "float_col": 10,
          "index": 49,
          "int_col": 13,
          "str_col": "foobar"
         },
         {
          "float_col": 24.2857142857,
          "index": 50,
          "int_col": 10,
          "str_col": "foobar"
         },
         {
          "float_col": 20,
          "index": 51,
          "int_col": 49,
          "str_col": "foobar"
         },
         {
          "float_col": 27.1428571429,
          "index": 52,
          "int_col": 17,
          "str_col": "foobar"
         },
         {
          "float_col": 27.1428571429,
          "index": 53,
          "int_col": 7,
          "str_col": "foobar"
         },
         {
          "float_col": 32.8571428571,
          "index": 54,
          "int_col": 9,
          "str_col": "foobar"
         },
         {
          "float_col": 8.5714285714,
          "index": 55,
          "int_col": 26,
          "str_col": "foobar"
         },
         {
          "float_col": 21.4285714286,
          "index": 56,
          "int_col": 11,
          "str_col": "foobar"
         },
         {
          "float_col": 8.5714285714,
          "index": 57,
          "int_col": 29,
          "str_col": "foobar"
         },
         {
          "float_col": 7.1428571429,
          "index": 58,
          "int_col": 13,
          "str_col": "foobar"
         },
         {
          "float_col": 35.7142857143,
          "index": 59,
          "int_col": 48,
          "str_col": "foobar"
         },
         {
          "float_col": 30,
          "index": 60,
          "int_col": 4,
          "str_col": "foobar"
         },
         {
          "float_col": 25.7142857143,
          "index": 61,
          "int_col": 2,
          "str_col": "foobar"
         },
         {
          "float_col": 14.2857142857,
          "index": 62,
          "int_col": 21,
          "str_col": "foobar"
         },
         {
          "float_col": 12.8571428571,
          "index": 63,
          "int_col": 31,
          "str_col": "foobar"
         },
         {
          "float_col": 25.7142857143,
          "index": 64,
          "int_col": 1,
          "str_col": "foobar"
         },
         {
          "float_col": 25.7142857143,
          "index": 65,
          "int_col": 33,
          "str_col": "foobar"
         },
         {
          "float_col": 1.4285714286,
          "index": 66,
          "int_col": 14,
          "str_col": "foobar"
         },
         {
          "float_col": 2.8571428571,
          "index": 67,
          "int_col": 43,
          "str_col": "foobar"
         },
         {
          "float_col": 40,
          "index": 68,
          "int_col": 33,
          "str_col": "foobar"
         },
         {
          "float_col": 2.8571428571,
          "index": 69,
          "int_col": 41,
          "str_col": "foobar"
         },
         {
          "float_col": 7.1428571429,
          "index": 70,
          "int_col": 14,
          "str_col": "foobar"
         },
         {
          "float_col": 18.5714285714,
          "index": 71,
          "int_col": 6,
          "str_col": "foobar"
         },
         {
          "float_col": 37.1428571429,
          "index": 72,
          "int_col": 46,
          "str_col": "foobar"
         },
         {
          "float_col": 32.8571428571,
          "index": 73,
          "int_col": 8,
          "str_col": "foobar"
         },
         {
          "float_col": 27.1428571429,
          "index": 74,
          "int_col": 38,
          "str_col": "foobar"
         },
         {
          "float_col": 10,
          "index": 75,
          "int_col": 32,
          "str_col": "foobar"
         },
         {
          "float_col": 1.4285714286,
          "index": 76,
          "int_col": 37,
          "str_col": "foobar"
         },
         {
          "float_col": 22.8571428571,
          "index": 77,
          "int_col": 48,
          "str_col": "foobar"
         },
         {
          "float_col": 11.4285714286,
          "index": 78,
          "int_col": 41,
          "str_col": "foobar"
         },
         {
          "float_col": 14.2857142857,
          "index": 79,
          "int_col": 13,
          "str_col": "foobar"
         },
         {
          "float_col": 31.4285714286,
          "index": 80,
          "int_col": 2,
          "str_col": "foobar"
         },
         {
          "float_col": 31.4285714286,
          "index": 81,
          "int_col": 30,
          "str_col": "foobar"
         },
         {
          "float_col": 11.4285714286,
          "index": 82,
          "int_col": 39,
          "str_col": "foobar"
         },
         {
          "float_col": 14.2857142857,
          "index": 83,
          "int_col": 16,
          "str_col": "foobar"
         },
         {
          "float_col": 31.4285714286,
          "index": 84,
          "int_col": 5,
          "str_col": "foobar"
         },
         {
          "float_col": 30,
          "index": 85,
          "int_col": 32,
          "str_col": "foobar"
         },
         {
          "float_col": 15.7142857143,
          "index": 86,
          "int_col": 31,
          "str_col": "foobar"
         },
         {
          "float_col": 7.1428571429,
          "index": 87,
          "int_col": 11,
          "str_col": "foobar"
         },
         {
          "float_col": 1.4285714286,
          "index": 88,
          "int_col": 30,
          "str_col": "foobar"
         },
         {
          "float_col": 2.8571428571,
          "index": 89,
          "int_col": 22,
          "str_col": "foobar"
         },
         {
          "float_col": 32.8571428571,
          "index": 90,
          "int_col": 49,
          "str_col": "foobar"
         },
         {
          "float_col": 5.7142857143,
          "index": 91,
          "int_col": 7,
          "str_col": "foobar"
         },
         {
          "float_col": 14.2857142857,
          "index": 92,
          "int_col": 11,
          "str_col": "foobar"
         },
         {
          "float_col": 21.4285714286,
          "index": 93,
          "int_col": 32,
          "str_col": "foobar"
         },
         {
          "float_col": 10,
          "index": 94,
          "int_col": 45,
          "str_col": "foobar"
         },
         {
          "float_col": 4.2857142857,
          "index": 95,
          "int_col": 25,
          "str_col": "foobar"
         },
         {
          "float_col": 20,
          "index": 96,
          "int_col": 40,
          "str_col": "foobar"
         },
         {
          "float_col": 8.5714285714,
          "index": 97,
          "int_col": 19,
          "str_col": "foobar"
         },
         {
          "float_col": 18.5714285714,
          "index": 98,
          "int_col": 35,
          "str_col": "foobar"
         },
         {
          "float_col": 7.1428571429,
          "index": 99,
          "int_col": 38,
          "str_col": "foobar"
         },
         {
          "float_col": 40,
          "index": 100,
          "int_col": 39,
          "str_col": "foobar"
         },
         {
          "float_col": 15.7142857143,
          "index": 101,
          "int_col": 33,
          "str_col": "foobar"
         },
         {
          "float_col": 27.1428571429,
          "index": 102,
          "int_col": 33,
          "str_col": "foobar"
         },
         {
          "float_col": 37.1428571429,
          "index": 103,
          "int_col": 15,
          "str_col": "foobar"
         },
         {
          "float_col": 2.8571428571,
          "index": 104,
          "int_col": 27,
          "str_col": "foobar"
         },
         {
          "float_col": 30,
          "index": 105,
          "int_col": 17,
          "str_col": "foobar"
         },
         {
          "float_col": 22.8571428571,
          "index": 106,
          "int_col": 34,
          "str_col": "foobar"
         },
         {
          "float_col": 31.4285714286,
          "index": 107,
          "int_col": 45,
          "str_col": "foobar"
         },
         {
          "float_col": 8.5714285714,
          "index": 108,
          "int_col": 45,
          "str_col": "foobar"
         },
         {
          "float_col": 4.2857142857,
          "index": 109,
          "int_col": 42,
          "str_col": "foobar"
         },
         {
          "float_col": 31.4285714286,
          "index": 110,
          "int_col": 29,
          "str_col": "foobar"
         },
         {
          "float_col": 10,
          "index": 111,
          "int_col": 8,
          "str_col": "foobar"
         },
         {
          "float_col": 21.4285714286,
          "index": 112,
          "int_col": 6,
          "str_col": "foobar"
         },
         {
          "float_col": 20,
          "index": 113,
          "int_col": 15,
          "str_col": "foobar"
         },
         {
          "float_col": 40,
          "index": 114,
          "int_col": 40,
          "str_col": "foobar"
         },
         {
          "float_col": 40,
          "index": 115,
          "int_col": 33,
          "str_col": "foobar"
         },
         {
          "float_col": 11.4285714286,
          "index": 116,
          "int_col": 22,
          "str_col": "foobar"
         },
         {
          "float_col": 31.4285714286,
          "index": 117,
          "int_col": 44,
          "str_col": "foobar"
         },
         {
          "float_col": 40,
          "index": 118,
          "int_col": 16,
          "str_col": "foobar"
         },
         {
          "float_col": 1.4285714286,
          "index": 119,
          "int_col": 4,
          "str_col": "foobar"
         },
         {
          "float_col": 25.7142857143,
          "index": 120,
          "int_col": 4,
          "str_col": "foobar"
         },
         {
          "float_col": 37.1428571429,
          "index": 121,
          "int_col": 8,
          "str_col": "foobar"
         },
         {
          "float_col": 34.2857142857,
          "index": 122,
          "int_col": 23,
          "str_col": "foobar"
         },
         {
          "float_col": 34.2857142857,
          "index": 123,
          "int_col": 46,
          "str_col": "foobar"
         },
         {
          "float_col": 15.7142857143,
          "index": 124,
          "int_col": 30,
          "str_col": "foobar"
         },
         {
          "float_col": 10,
          "index": 125,
          "int_col": 13,
          "str_col": "foobar"
         },
         {
          "float_col": 21.4285714286,
          "index": 126,
          "int_col": 49,
          "str_col": "foobar"
         },
         {
          "float_col": 31.4285714286,
          "index": 127,
          "int_col": 20,
          "str_col": "foobar"
         },
         {
          "float_col": 15.7142857143,
          "index": 128,
          "int_col": 37,
          "str_col": "foobar"
         },
         {
          "float_col": 40,
          "index": 129,
          "int_col": 27,
          "str_col": "foobar"
         },
         {
          "float_col": 41.4285714286,
          "index": 130,
          "int_col": 5,
          "str_col": "foobar"
         },
         {
          "float_col": 35.7142857143,
          "index": 131,
          "int_col": 37,
          "str_col": "foobar"
         },
         {
          "float_col": 35.7142857143,
          "index": 132,
          "int_col": 20,
          "str_col": "foobar"
         },
         {
          "float_col": 20,
          "index": 133,
          "int_col": 15,
          "str_col": "foobar"
         },
         {
          "float_col": 28.5714285714,
          "index": 134,
          "int_col": 15,
          "str_col": "foobar"
         },
         {
          "float_col": 27.1428571429,
          "index": 135,
          "int_col": 22,
          "str_col": "foobar"
         },
         {
          "float_col": 40,
          "index": 136,
          "int_col": 13,
          "str_col": "foobar"
         },
         {
          "float_col": 5.7142857143,
          "index": 137,
          "int_col": 14,
          "str_col": "foobar"
         },
         {
          "float_col": 4.2857142857,
          "index": 138,
          "int_col": 16,
          "str_col": "foobar"
         },
         {
          "float_col": 25.7142857143,
          "index": 139,
          "int_col": 4,
          "str_col": "foobar"
         },
         {
          "float_col": 10,
          "index": 140,
          "int_col": 2,
          "str_col": "foobar"
         },
         {
          "float_col": 30,
          "index": 141,
          "int_col": 22,
          "str_col": "foobar"
         },
         {
          "float_col": 10,
          "index": 142,
          "int_col": 24,
          "str_col": "foobar"
         },
         {
          "float_col": 12.8571428571,
          "index": 143,
          "int_col": 29,
          "str_col": "foobar"
         },
         {
          "float_col": 25.7142857143,
          "index": 144,
          "int_col": 3,
          "str_col": "foobar"
         },
         {
          "float_col": 12.8571428571,
          "index": 145,
          "int_col": 40,
          "str_col": "foobar"
         },
         {
          "float_col": 10,
          "index": 146,
          "int_col": 49,
          "str_col": "foobar"
         },
         {
          "float_col": 17.1428571429,
          "index": 147,
          "int_col": 4,
          "str_col": "foobar"
         },
         {
          "float_col": 15.7142857143,
          "index": 148,
          "int_col": 41,
          "str_col": "foobar"
         },
         {
          "float_col": 11.4285714286,
          "index": 149,
          "int_col": 44,
          "str_col": "foobar"
         },
         {
          "float_col": 12.8571428571,
          "index": 150,
          "int_col": 39,
          "str_col": "foobar"
         },
         {
          "float_col": 32.8571428571,
          "index": 151,
          "int_col": 16,
          "str_col": "foobar"
         },
         {
          "float_col": 34.2857142857,
          "index": 152,
          "int_col": 20,
          "str_col": "foobar"
         },
         {
          "float_col": 10,
          "index": 153,
          "int_col": 49,
          "str_col": "foobar"
         },
         {
          "float_col": 31.4285714286,
          "index": 154,
          "int_col": 37,
          "str_col": "foobar"
         },
         {
          "float_col": 35.7142857143,
          "index": 155,
          "int_col": 48,
          "str_col": "foobar"
         },
         {
          "float_col": 22.8571428571,
          "index": 156,
          "int_col": 29,
          "str_col": "foobar"
         },
         {
          "float_col": 14.2857142857,
          "index": 157,
          "int_col": 4,
          "str_col": "foobar"
         },
         {
          "float_col": 27.1428571429,
          "index": 158,
          "int_col": 49,
          "str_col": "foobar"
         },
         {
          "float_col": 4.2857142857,
          "index": 159,
          "int_col": 37,
          "str_col": "foobar"
         },
         {
          "float_col": 40,
          "index": 160,
          "int_col": 8,
          "str_col": "foobar"
         },
         {
          "float_col": 22.8571428571,
          "index": 161,
          "int_col": 40,
          "str_col": "foobar"
         },
         {
          "float_col": 11.4285714286,
          "index": 162,
          "int_col": 26,
          "str_col": "foobar"
         },
         {
          "float_col": 38.5714285714,
          "index": 163,
          "int_col": 46,
          "str_col": "foobar"
         },
         {
          "float_col": 2.8571428571,
          "index": 164,
          "int_col": 14,
          "str_col": "foobar"
         },
         {
          "float_col": 40,
          "index": 165,
          "int_col": 42,
          "str_col": "foobar"
         },
         {
          "float_col": 1.4285714286,
          "index": 166,
          "int_col": 42,
          "str_col": "foobar"
         },
         {
          "float_col": 11.4285714286,
          "index": 167,
          "int_col": 12,
          "str_col": "foobar"
         },
         {
          "float_col": 5.7142857143,
          "index": 168,
          "int_col": 41,
          "str_col": "foobar"
         },
         {
          "float_col": 17.1428571429,
          "index": 169,
          "int_col": 11,
          "str_col": "foobar"
         },
         {
          "float_col": 12.8571428571,
          "index": 170,
          "int_col": 26,
          "str_col": "foobar"
         },
         {
          "float_col": 8.5714285714,
          "index": 171,
          "int_col": 37,
          "str_col": "foobar"
         },
         {
          "float_col": 20,
          "index": 172,
          "int_col": 28,
          "str_col": "foobar"
         },
         {
          "float_col": 7.1428571429,
          "index": 173,
          "int_col": 30,
          "str_col": "foobar"
         },
         {
          "float_col": 5.7142857143,
          "index": 174,
          "int_col": 47,
          "str_col": "foobar"
         },
         {
          "float_col": 5.7142857143,
          "index": 175,
          "int_col": 10,
          "str_col": "foobar"
         },
         {
          "float_col": 21.4285714286,
          "index": 176,
          "int_col": 3,
          "str_col": "foobar"
         },
         {
          "float_col": 22.8571428571,
          "index": 177,
          "int_col": 17,
          "str_col": "foobar"
         },
         {
          "float_col": 28.5714285714,
          "index": 178,
          "int_col": 37,
          "str_col": "foobar"
         },
         {
          "float_col": 7.1428571429,
          "index": 179,
          "int_col": 27,
          "str_col": "foobar"
         },
         {
          "float_col": 35.7142857143,
          "index": 180,
          "int_col": 41,
          "str_col": "foobar"
         },
         {
          "float_col": 35.7142857143,
          "index": 181,
          "int_col": 23,
          "str_col": "foobar"
         },
         {
          "float_col": 17.1428571429,
          "index": 182,
          "int_col": 38,
          "str_col": "foobar"
         },
         {
          "float_col": 25.7142857143,
          "index": 183,
          "int_col": 42,
          "str_col": "foobar"
         },
         {
          "float_col": 5.7142857143,
          "index": 184,
          "int_col": 24,
          "str_col": "foobar"
         },
         {
          "float_col": 38.5714285714,
          "index": 185,
          "int_col": 32,
          "str_col": "foobar"
         },
         {
          "float_col": 40,
          "index": 186,
          "int_col": 3,
          "str_col": "foobar"
         },
         {
          "float_col": 24.2857142857,
          "index": 187,
          "int_col": 15,
          "str_col": "foobar"
         },
         {
          "float_col": 5.7142857143,
          "index": 188,
          "int_col": 5,
          "str_col": "foobar"
         },
         {
          "float_col": 20,
          "index": 189,
          "int_col": 26,
          "str_col": "foobar"
         },
         {
          "float_col": 24.2857142857,
          "index": 190,
          "int_col": 5,
          "str_col": "foobar"
         },
         {
          "float_col": 4.2857142857,
          "index": 191,
          "int_col": 43,
          "str_col": "foobar"
         },
         {
          "float_col": 37.1428571429,
          "index": 192,
          "int_col": 7,
          "str_col": "foobar"
         },
         {
          "float_col": 18.5714285714,
          "index": 193,
          "int_col": 31,
          "str_col": "foobar"
         },
         {
          "float_col": 31.4285714286,
          "index": 194,
          "int_col": 27,
          "str_col": "foobar"
         },
         {
          "float_col": 10,
          "index": 195,
          "int_col": 4,
          "str_col": "foobar"
         },
         {
          "float_col": 20,
          "index": 196,
          "int_col": 44,
          "str_col": "foobar"
         },
         {
          "float_col": 38.5714285714,
          "index": 197,
          "int_col": 22,
          "str_col": "foobar"
         },
         {
          "float_col": 20,
          "index": 198,
          "int_col": 31,
          "str_col": "foobar"
         },
         {
          "float_col": 8.5714285714,
          "index": 199,
          "int_col": 34,
          "str_col": "foobar"
         }
        ]
       },
       "df_display_args": {
        "main": {
         "data_key": "main",
         "df_viewer_config": {
          "column_config": [
           {
            "col_name": "index",
            "displayer_args": {
             "displayer": "obj"
            }
           },
           {
            "col_name": "int_col",
            "displayer_args": {
             "displayer": "float",
             "maximumFractionDigits": 0,
             "minimumFractionDigits": 0
            }
           },
           {
            "col_name": "float_col",
            "displayer_args": {
             "displayer": "float",
             "maximumFractionDigits": 3,
             "minimumFractionDigits": 3
            }
           },
           {
            "col_name": "str_col",
            "displayer_args": {
             "displayer": "obj"
            }
           }
          ],
          "pinned_rows": [
           {
            "displayer_args": {
             "displayer": "obj"
            },
            "primary_key_val": "dtype"
           },
           {
            "displayer_args": {
             "displayer": "histogram"
            },
            "primary_key_val": "histogram"
           }
          ]
         },
         "summary_stats_key": "all_stats"
        },
        "summary": {
         "data_key": "empty",
         "df_viewer_config": {
          "column_config": [
           {
            "col_name": "index",
            "displayer_args": {
             "displayer": "obj"
            }
           },
           {
            "col_name": "int_col",
            "displayer_args": {
             "displayer": "obj"
            }
           },
           {
            "col_name": "float_col",
            "displayer_args": {
             "displayer": "obj"
            }
           },
           {
            "col_name": "str_col",
            "displayer_args": {
             "displayer": "obj"
            }
           }
          ],
          "pinned_rows": [
           {
            "displayer_args": {
             "displayer": "obj"
            },
            "primary_key_val": "dtype"
           },
           {
            "displayer_args": {
             "displayer": "float",
             "maximumFractionDigits": 3,
             "minimumFractionDigits": 3
            },
            "primary_key_val": "min"
           },
           {
            "displayer_args": {
             "displayer": "float",
             "maximumFractionDigits": 3,
             "minimumFractionDigits": 3
            },
            "primary_key_val": "mean"
           },
           {
            "displayer_args": {
             "displayer": "float",
             "maximumFractionDigits": 3,
             "minimumFractionDigits": 3
            },
            "primary_key_val": "max"
           },
           {
            "displayer_args": {
             "displayer": "float",
             "maximumFractionDigits": 0,
             "minimumFractionDigits": 0
            },
            "primary_key_val": "unique_count"
           },
           {
            "displayer_args": {
             "displayer": "float",
             "maximumFractionDigits": 0,
             "minimumFractionDigits": 0
            },
            "primary_key_val": "distinct_count"
           },
           {
            "displayer_args": {
             "displayer": "float",
             "maximumFractionDigits": 0,
             "minimumFractionDigits": 0
            },
            "primary_key_val": "empty_count"
           }
          ]
         },
         "summary_stats_key": "all_stats"
        }
       },
       "df_meta": {
        "columns": 3,
        "rows_shown": 200,
        "total_rows": 200
       },
       "layout": "IPY_MODEL_148f7a114222468a80a8dbab866c6f7b",
       "operation_results": {
        "generated_py_code": "# instantiation, unused",
        "transformed_df": {
         "column_config": [],
         "data": [],
         "pinned_rows": []
        }
       },
       "operations": []
      }
     },
     "244522eff2204fd5af3bce5bbac48315": {
      "model_module": "buckaroo",
      "model_module_version": "^0.5.1",
      "model_name": "DCEFWidgetModel",
      "state": {
       "_model_module_version": "^0.5.1",
       "_view_module_version": "^0.5.1",
       "_view_name": "DCEFWidgetView",
       "buckaroo_options": {
        "auto_clean": [
         "aggressive",
         "conservative"
        ],
        "df_display": [
         "summary",
         "main"
        ],
        "post_processing": [
         ""
        ],
        "sampled": [
         "random"
        ],
        "show_commands": [
         "on"
        ],
        "summary_stats": [
         "all"
        ]
       },
       "buckaroo_state": {
        "auto_clean": "conservative",
        "df_display": "main",
        "post_processing": "",
        "sampled": false,
        "search_string": "",
        "show_commands": false
       },
       "commandConfig": {
        "argspecs": {
         "dropcol": [
          null
         ],
         "fillna": [
          [
           3,
           "fillVal",
           "type",
           "integer"
          ]
         ],
         "groupby": [
          [
           3,
           "colMap",
           "colEnum",
           [
            "null",
            "sum",
            "mean",
            "median",
            "count"
           ]
          ]
         ],
         "onehot": [
          null
         ],
         "reindex": [
          null
         ],
         "safeint": [
          null
         ],
         "to_bool": [
          null
         ],
         "to_datetime": [
          null
         ],
         "to_float": [
          null
         ],
         "to_int": [
          null
         ],
         "to_string": [
          null
         ]
        },
        "defaultArgs": {
         "dropcol": [
          {
           "symbol": "dropcol"
          },
          {
           "symbol": "df"
          },
          "col"
         ],
         "fillna": [
          {
           "symbol": "fillna"
          },
          {
           "symbol": "df"
          },
          "col",
          8
         ],
         "groupby": [
          {
           "symbol": "groupby"
          },
          {
           "symbol": "df"
          },
          "col",
          {}
         ],
         "onehot": [
          {
           "symbol": "onehot"
          },
          {
           "symbol": "df"
          },
          "col"
         ],
         "reindex": [
          {
           "symbol": "reindex"
          },
          {
           "symbol": "df"
          },
          "col"
         ],
         "safeint": [
          {
           "symbol": "safeint"
          },
          {
           "symbol": "df"
          },
          "col"
         ],
         "to_bool": [
          {
           "symbol": "to_bool"
          },
          {
           "symbol": "df"
          },
          "col"
         ],
         "to_datetime": [
          {
           "symbol": "to_datetime"
          },
          {
           "symbol": "df"
          },
          "col"
         ],
         "to_float": [
          {
           "symbol": "to_float"
          },
          {
           "symbol": "df"
          },
          "col"
         ],
         "to_int": [
          {
           "symbol": "to_int"
          },
          {
           "symbol": "df"
          },
          "col"
         ],
         "to_string": [
          {
           "symbol": "to_string"
          },
          {
           "symbol": "df"
          },
          "col"
         ]
        }
       },
       "df_data_dict": {
        "all_stats": [
         {
          "float_col": "shape: (29,)\nSeries: '' [struct[2]]\n[\n\t{10.0,12}\n\t{11.428571,11}\n\t{20.0,11}\n\t{31.428571,10}\n\t{40.0,10}\n\t{8.571429,9}\n\t{7.142857,9}\n\t{25.714286,8}\n\t{27.142857,8}\n\t{5.714286,8}\n\t{14.285714,7}\n\t{21.428571,7}\n\t…\n\t{17.142857,6}\n\t{4.285714,6}\n\t{15.714286,6}\n\t{32.857143,5}\n\t{38.571429,5}\n\t{30.0,5}\n\t{2.857143,5}\n\t{41.428571,4}\n\t{28.571429,4}\n\t{24.285714,4}\n\t{34.285714,4}\n\t{18.571429,4}\n\t{37.142857,4}\n]",
          "index": "value_counts",
          "int_col": "shape: (49,)\nSeries: '' [struct[2]]\n[\n\t{4,10}\n\t{49,9}\n\t{37,9}\n\t{13,7}\n\t{33,6}\n\t{41,6}\n\t{40,5}\n\t{23,5}\n\t{46,5}\n\t{32,5}\n\t{45,5}\n\t{14,5}\n\t…\n\t{7,3}\n\t{48,3}\n\t{2,3}\n\t{44,3}\n\t{20,3}\n\t{35,2}\n\t{36,2}\n\t{24,2}\n\t{18,1}\n\t{21,1}\n\t{25,1}\n\t{19,1}\n\t{47,1}\n]",
          "str_col": "shape: (1,)\nSeries: '' [struct[2]]\n[\n\t{\"foobar\",200}\n]"
         },
         {
          "float_col": 200,
          "index": "length",
          "int_col": 200,
          "str_col": 200
         },
         {
          "float_col": 0,
          "index": "nan_count",
          "int_col": 0,
          "str_col": 0
         },
         {
          "float_col": 1.4285714286,
          "index": "min",
          "int_col": 1,
          "str_col": "foobar"
         },
         {
          "float_col": 41.4285714286,
          "index": "max",
          "int_col": 49,
          "str_col": "foobar"
         },
         {
          "float_col": 20.1571428571,
          "index": "mean",
          "int_col": 25.425,
          "str_col": null
         },
         {
          "float_col": 0,
          "index": "unique_count",
          "int_col": 5,
          "str_col": 0
         },
         {
          "float_col": "Float64",
          "index": "dtype",
          "int_col": "Int64",
          "str_col": "String"
         },
         {
          "float_col": {
           "high_tail": 41.4285714286,
           "low_tail": 1.4285714286,
           "meat_histogram": [
            [
             11,
             26,
             30,
             13,
             21,
             18,
             20,
             20,
             11,
             19
            ],
            [
             1.4285714286,
             5,
             9,
             13,
             17,
             21,
             25,
             29,
             33,
             37,
             41.4285714286
            ]
           ],
           "normalized_populations": [
            0.0582010582,
            0.1375661376,
            0.1587301587,
            0.0687830688,
            0.1111111111,
            0.0952380952,
            0.1058201058,
            0.1058201058,
            0.0582010582,
            0.1005291005
           ]
          },
          "index": "histogram_args",
          "int_col": {
           "high_tail": 49,
           "low_tail": 1,
           "meat_histogram": [
            [
             21,
             18,
             25,
             14,
             14,
             16,
             23,
             21,
             22,
             14
            ],
            [
             1,
             5.8,
             10.6,
             15.4,
             20.2,
             25,
             29.8,
             34.6,
             39.4,
             44.2,
             49
            ]
           ],
           "normalized_populations": [
            0.1117021277,
            0.0957446809,
            0.1329787234,
            0.0744680851,
            0.0744680851,
            0.085106383,
            0.1223404255,
            0.1117021277,
            0.1170212766,
            0.0744680851
           ]
          },
          "str_col": null
         },
         {
          "float_col": true,
          "index": "is_numeric",
          "int_col": true,
          "str_col": false
         },
         {
          "float_col": false,
          "index": "is_integer",
          "int_col": true,
          "str_col": false
         },
         {
          "float_col": "float",
          "index": "_type",
          "int_col": "integer",
          "str_col": "string"
         },
         {
          "float_col": 10,
          "index": "mode",
          "int_col": 4,
          "str_col": "foobar"
         },
         {
          "float_col": 29,
          "index": "distinct_count",
          "int_col": 49,
          "str_col": 1
         },
         {
          "float_col": "float",
          "index": "type",
          "int_col": "integer",
          "str_col": "string"
         },
         {
          "float_col": 1,
          "index": "min_digits",
          "int_col": 1,
          "str_col": null
         },
         {
          "float_col": 2,
          "index": "max_digits",
          "int_col": 2,
          "str_col": null
         },
         {
          "float_col": 0.145,
          "index": "distinct_per",
          "int_col": 0.245,
          "str_col": 0.005
         },
         {
          "float_col": 0,
          "index": "empty_per",
          "int_col": 0,
          "str_col": 0
         },
         {
          "float_col": 0,
          "index": "unique_per",
          "int_col": 0.025,
          "str_col": 0
         },
         {
          "float_col": 0,
          "index": "nan_per",
          "int_col": 0,
          "str_col": 0
         },
         {
          "float_col": [
           {
            "name": "1.4285714285714286 - 1.4285714285714286",
            "tail": 1
           },
           {
            "name": "1-5",
            "population": 6
           },
           {
            "name": "5-9",
            "population": 14
           },
           {
            "name": "9-13",
            "population": 16
           },
           {
            "name": "13-17",
            "population": 7
           },
           {
            "name": "17-21",
            "population": 11
           },
           {
            "name": "21-25",
            "population": 10
           },
           {
            "name": "25-29",
            "population": 11
           },
           {
            "name": "29-33",
            "population": 11
           },
           {
            "name": "33-37",
            "population": 6
           },
           {
            "name": "37-41",
            "population": 10
           },
           {
            "name": "41.42857142857143 - 41.42857142857143",
            "tail": 1
           }
          ],
          "index": "histogram",
          "int_col": [
           {
            "name": "1 - 1.0",
            "tail": 1
           },
           {
            "name": "1-6",
            "population": 11
           },
           {
            "name": "6-11",
            "population": 10
           },
           {
            "name": "11-15",
            "population": 13
           },
           {
            "name": "15-20",
            "population": 7
           },
           {
            "name": "20-25",
            "population": 7
           },
           {
            "name": "25-30",
            "population": 9
           },
           {
            "name": "30-35",
            "population": 12
           },
           {
            "name": "35-39",
            "population": 11
           },
           {
            "name": "39-44",
            "population": 12
           },
           {
            "name": "44-49",
            "population": 7
           },
           {
            "name": "49.0 - 49",
            "tail": 1
           }
          ],
          "str_col": [
           {
            "cat_pop": 100,
            "name": "foobar"
           }
          ]
         },
         {
          "float_col": [
           1.4285714286,
           5,
           9,
           13,
           17,
           21,
           25,
           29,
           33,
           37,
           41.4285714286
          ],
          "index": "histogram_bins",
          "int_col": [
           1,
           5.8,
           10.6,
           15.4,
           20.2,
           25,
           29.8,
           34.6,
           39.4,
           44.2,
           49
          ],
          "str_col": [
           "faked"
          ]
         },
         {
          "float_col": null,
          "index": "empty_count",
          "int_col": null,
          "str_col": 0
         },
         {
          "float_col": null,
          "index": "categorical_histogram",
          "int_col": null,
          "str_col": {
           "foobar": 1,
           "longtail": 0,
           "unique": 0
          }
         }
        ],
        "empty": [],
        "main": [
         {
          "float_col": 8.5714285714,
          "index": 0,
          "int_col": 40,
          "str_col": "foobar"
         },
         {
          "float_col": 11.4285714286,
          "index": 1,
          "int_col": 3,
          "str_col": "foobar"
         },
         {
          "float_col": 31.4285714286,
          "index": 2,
          "int_col": 28,
          "str_col": "foobar"
         },
         {
          "float_col": 17.1428571429,
          "index": 3,
          "int_col": 17,
          "str_col": "foobar"
         },
         {
          "float_col": 8.5714285714,
          "index": 4,
          "int_col": 34,
          "str_col": "foobar"
         },
         {
          "float_col": 14.2857142857,
          "index": 5,
          "int_col": 38,
          "str_col": "foobar"
         },
         {
          "float_col": 41.4285714286,
          "index": 6,
          "int_col": 23,
          "str_col": "foobar"
         },
         {
          "float_col": 11.4285714286,
          "index": 7,
          "int_col": 1,
          "str_col": "foobar"
         },
         {
          "float_col": 25.7142857143,
          "index": 8,
          "int_col": 9,
          "str_col": "foobar"
         },
         {
          "float_col": 20,
          "index": 9,
          "int_col": 46,
          "str_col": "foobar"
         },
         {
          "float_col": 10,
          "index": 10,
          "int_col": 12,
          "str_col": "foobar"
         },
         {
          "float_col": 28.5714285714,
          "index": 11,
          "int_col": 33,
          "str_col": "foobar"
         },
         {
          "float_col": 24.2857142857,
          "index": 12,
          "int_col": 35,
          "str_col": "foobar"
         },
         {
          "float_col": 21.4285714286,
          "index": 13,
          "int_col": 4,
          "str_col": "foobar"
         },
         {
          "float_col": 1.4285714286,
          "index": 14,
          "int_col": 36,
          "str_col": "foobar"
         },
         {
          "float_col": 41.4285714286,
          "index": 15,
          "int_col": 12,
          "str_col": "foobar"
         },
         {
          "float_col": 10,
          "index": 16,
          "int_col": 32,
          "str_col": "foobar"
         },
         {
          "float_col": 11.4285714286,
          "index": 17,
          "int_col": 9,
          "str_col": "foobar"
         },
         {
          "float_col": 7.1428571429,
          "index": 18,
          "int_col": 1,
          "str_col": "foobar"
         },
         {
          "float_col": 20,
          "index": 19,
          "int_col": 46,
          "str_col": "foobar"
         },
         {
          "float_col": 1.4285714286,
          "index": 20,
          "int_col": 34,
          "str_col": "foobar"
         },
         {
          "float_col": 34.2857142857,
          "index": 21,
          "int_col": 45,
          "str_col": "foobar"
         },
         {
          "float_col": 11.4285714286,
          "index": 22,
          "int_col": 49,
          "str_col": "foobar"
         },
         {
          "float_col": 32.8571428571,
          "index": 23,
          "int_col": 14,
          "str_col": "foobar"
         },
         {
          "float_col": 35.7142857143,
          "index": 24,
          "int_col": 49,
          "str_col": "foobar"
         },
         {
          "float_col": 17.1428571429,
          "index": 25,
          "int_col": 39,
          "str_col": "foobar"
         },
         {
          "float_col": 38.5714285714,
          "index": 26,
          "int_col": 28,
          "str_col": "foobar"
         },
         {
          "float_col": 27.1428571429,
          "index": 27,
          "int_col": 18,
          "str_col": "foobar"
         },
         {
          "float_col": 4.2857142857,
          "index": 28,
          "int_col": 4,
          "str_col": "foobar"
         },
         {
          "float_col": 17.1428571429,
          "index": 29,
          "int_col": 10,
          "str_col": "foobar"
         },
         {
          "float_col": 22.8571428571,
          "index": 30,
          "int_col": 12,
          "str_col": "foobar"
         },
         {
          "float_col": 27.1428571429,
          "index": 31,
          "int_col": 8,
          "str_col": "foobar"
         },
         {
          "float_col": 14.2857142857,
          "index": 32,
          "int_col": 43,
          "str_col": "foobar"
         },
         {
          "float_col": 7.1428571429,
          "index": 33,
          "int_col": 13,
          "str_col": "foobar"
         },
         {
          "float_col": 7.1428571429,
          "index": 34,
          "int_col": 23,
          "str_col": "foobar"
         },
         {
          "float_col": 30,
          "index": 35,
          "int_col": 36,
          "str_col": "foobar"
         },
         {
          "float_col": 41.4285714286,
          "index": 36,
          "int_col": 16,
          "str_col": "foobar"
         },
         {
          "float_col": 22.8571428571,
          "index": 37,
          "int_col": 28,
          "str_col": "foobar"
         },
         {
          "float_col": 20,
          "index": 38,
          "int_col": 43,
          "str_col": "foobar"
         },
         {
          "float_col": 28.5714285714,
          "index": 39,
          "int_col": 10,
          "str_col": "foobar"
         },
         {
          "float_col": 12.8571428571,
          "index": 40,
          "int_col": 37,
          "str_col": "foobar"
         },
         {
          "float_col": 15.7142857143,
          "index": 41,
          "int_col": 6,
          "str_col": "foobar"
         },
         {
          "float_col": 21.4285714286,
          "index": 42,
          "int_col": 49,
          "str_col": "foobar"
         },
         {
          "float_col": 5.7142857143,
          "index": 43,
          "int_col": 4,
          "str_col": "foobar"
         },
         {
          "float_col": 38.5714285714,
          "index": 44,
          "int_col": 45,
          "str_col": "foobar"
         },
         {
          "float_col": 12.8571428571,
          "index": 45,
          "int_col": 37,
          "str_col": "foobar"
         },
         {
          "float_col": 18.5714285714,
          "index": 46,
          "int_col": 41,
          "str_col": "foobar"
         },
         {
          "float_col": 8.5714285714,
          "index": 47,
          "int_col": 23,
          "str_col": "foobar"
         },
         {
          "float_col": 11.4285714286,
          "index": 48,
          "int_col": 13,
          "str_col": "foobar"
         },
         {
          "float_col": 10,
          "index": 49,
          "int_col": 13,
          "str_col": "foobar"
         },
         {
          "float_col": 24.2857142857,
          "index": 50,
          "int_col": 10,
          "str_col": "foobar"
         },
         {
          "float_col": 20,
          "index": 51,
          "int_col": 49,
          "str_col": "foobar"
         },
         {
          "float_col": 27.1428571429,
          "index": 52,
          "int_col": 17,
          "str_col": "foobar"
         },
         {
          "float_col": 27.1428571429,
          "index": 53,
          "int_col": 7,
          "str_col": "foobar"
         },
         {
          "float_col": 32.8571428571,
          "index": 54,
          "int_col": 9,
          "str_col": "foobar"
         },
         {
          "float_col": 8.5714285714,
          "index": 55,
          "int_col": 26,
          "str_col": "foobar"
         },
         {
          "float_col": 21.4285714286,
          "index": 56,
          "int_col": 11,
          "str_col": "foobar"
         },
         {
          "float_col": 8.5714285714,
          "index": 57,
          "int_col": 29,
          "str_col": "foobar"
         },
         {
          "float_col": 7.1428571429,
          "index": 58,
          "int_col": 13,
          "str_col": "foobar"
         },
         {
          "float_col": 35.7142857143,
          "index": 59,
          "int_col": 48,
          "str_col": "foobar"
         },
         {
          "float_col": 30,
          "index": 60,
          "int_col": 4,
          "str_col": "foobar"
         },
         {
          "float_col": 25.7142857143,
          "index": 61,
          "int_col": 2,
          "str_col": "foobar"
         },
         {
          "float_col": 14.2857142857,
          "index": 62,
          "int_col": 21,
          "str_col": "foobar"
         },
         {
          "float_col": 12.8571428571,
          "index": 63,
          "int_col": 31,
          "str_col": "foobar"
         },
         {
          "float_col": 25.7142857143,
          "index": 64,
          "int_col": 1,
          "str_col": "foobar"
         },
         {
          "float_col": 25.7142857143,
          "index": 65,
          "int_col": 33,
          "str_col": "foobar"
         },
         {
          "float_col": 1.4285714286,
          "index": 66,
          "int_col": 14,
          "str_col": "foobar"
         },
         {
          "float_col": 2.8571428571,
          "index": 67,
          "int_col": 43,
          "str_col": "foobar"
         },
         {
          "float_col": 40,
          "index": 68,
          "int_col": 33,
          "str_col": "foobar"
         },
         {
          "float_col": 2.8571428571,
          "index": 69,
          "int_col": 41,
          "str_col": "foobar"
         },
         {
          "float_col": 7.1428571429,
          "index": 70,
          "int_col": 14,
          "str_col": "foobar"
         },
         {
          "float_col": 18.5714285714,
          "index": 71,
          "int_col": 6,
          "str_col": "foobar"
         },
         {
          "float_col": 37.1428571429,
          "index": 72,
          "int_col": 46,
          "str_col": "foobar"
         },
         {
          "float_col": 32.8571428571,
          "index": 73,
          "int_col": 8,
          "str_col": "foobar"
         },
         {
          "float_col": 27.1428571429,
          "index": 74,
          "int_col": 38,
          "str_col": "foobar"
         },
         {
          "float_col": 10,
          "index": 75,
          "int_col": 32,
          "str_col": "foobar"
         },
         {
          "float_col": 1.4285714286,
          "index": 76,
          "int_col": 37,
          "str_col": "foobar"
         },
         {
          "float_col": 22.8571428571,
          "index": 77,
          "int_col": 48,
          "str_col": "foobar"
         },
         {
          "float_col": 11.4285714286,
          "index": 78,
          "int_col": 41,
          "str_col": "foobar"
         },
         {
          "float_col": 14.2857142857,
          "index": 79,
          "int_col": 13,
          "str_col": "foobar"
         },
         {
          "float_col": 31.4285714286,
          "index": 80,
          "int_col": 2,
          "str_col": "foobar"
         },
         {
          "float_col": 31.4285714286,
          "index": 81,
          "int_col": 30,
          "str_col": "foobar"
         },
         {
          "float_col": 11.4285714286,
          "index": 82,
          "int_col": 39,
          "str_col": "foobar"
         },
         {
          "float_col": 14.2857142857,
          "index": 83,
          "int_col": 16,
          "str_col": "foobar"
         },
         {
          "float_col": 31.4285714286,
          "index": 84,
          "int_col": 5,
          "str_col": "foobar"
         },
         {
          "float_col": 30,
          "index": 85,
          "int_col": 32,
          "str_col": "foobar"
         },
         {
          "float_col": 15.7142857143,
          "index": 86,
          "int_col": 31,
          "str_col": "foobar"
         },
         {
          "float_col": 7.1428571429,
          "index": 87,
          "int_col": 11,
          "str_col": "foobar"
         },
         {
          "float_col": 1.4285714286,
          "index": 88,
          "int_col": 30,
          "str_col": "foobar"
         },
         {
          "float_col": 2.8571428571,
          "index": 89,
          "int_col": 22,
          "str_col": "foobar"
         },
         {
          "float_col": 32.8571428571,
          "index": 90,
          "int_col": 49,
          "str_col": "foobar"
         },
         {
          "float_col": 5.7142857143,
          "index": 91,
          "int_col": 7,
          "str_col": "foobar"
         },
         {
          "float_col": 14.2857142857,
          "index": 92,
          "int_col": 11,
          "str_col": "foobar"
         },
         {
          "float_col": 21.4285714286,
          "index": 93,
          "int_col": 32,
          "str_col": "foobar"
         },
         {
          "float_col": 10,
          "index": 94,
          "int_col": 45,
          "str_col": "foobar"
         },
         {
          "float_col": 4.2857142857,
          "index": 95,
          "int_col": 25,
          "str_col": "foobar"
         },
         {
          "float_col": 20,
          "index": 96,
          "int_col": 40,
          "str_col": "foobar"
         },
         {
          "float_col": 8.5714285714,
          "index": 97,
          "int_col": 19,
          "str_col": "foobar"
         },
         {
          "float_col": 18.5714285714,
          "index": 98,
          "int_col": 35,
          "str_col": "foobar"
         },
         {
          "float_col": 7.1428571429,
          "index": 99,
          "int_col": 38,
          "str_col": "foobar"
         },
         {
          "float_col": 40,
          "index": 100,
          "int_col": 39,
          "str_col": "foobar"
         },
         {
          "float_col": 15.7142857143,
          "index": 101,
          "int_col": 33,
          "str_col": "foobar"
         },
         {
          "float_col": 27.1428571429,
          "index": 102,
          "int_col": 33,
          "str_col": "foobar"
         },
         {
          "float_col": 37.1428571429,
          "index": 103,
          "int_col": 15,
          "str_col": "foobar"
         },
         {
          "float_col": 2.8571428571,
          "index": 104,
          "int_col": 27,
          "str_col": "foobar"
         },
         {
          "float_col": 30,
          "index": 105,
          "int_col": 17,
          "str_col": "foobar"
         },
         {
          "float_col": 22.8571428571,
          "index": 106,
          "int_col": 34,
          "str_col": "foobar"
         },
         {
          "float_col": 31.4285714286,
          "index": 107,
          "int_col": 45,
          "str_col": "foobar"
         },
         {
          "float_col": 8.5714285714,
          "index": 108,
          "int_col": 45,
          "str_col": "foobar"
         },
         {
          "float_col": 4.2857142857,
          "index": 109,
          "int_col": 42,
          "str_col": "foobar"
         },
         {
          "float_col": 31.4285714286,
          "index": 110,
          "int_col": 29,
          "str_col": "foobar"
         },
         {
          "float_col": 10,
          "index": 111,
          "int_col": 8,
          "str_col": "foobar"
         },
         {
          "float_col": 21.4285714286,
          "index": 112,
          "int_col": 6,
          "str_col": "foobar"
         },
         {
          "float_col": 20,
          "index": 113,
          "int_col": 15,
          "str_col": "foobar"
         },
         {
          "float_col": 40,
          "index": 114,
          "int_col": 40,
          "str_col": "foobar"
         },
         {
          "float_col": 40,
          "index": 115,
          "int_col": 33,
          "str_col": "foobar"
         },
         {
          "float_col": 11.4285714286,
          "index": 116,
          "int_col": 22,
          "str_col": "foobar"
         },
         {
          "float_col": 31.4285714286,
          "index": 117,
          "int_col": 44,
          "str_col": "foobar"
         },
         {
          "float_col": 40,
          "index": 118,
          "int_col": 16,
          "str_col": "foobar"
         },
         {
          "float_col": 1.4285714286,
          "index": 119,
          "int_col": 4,
          "str_col": "foobar"
         },
         {
          "float_col": 25.7142857143,
          "index": 120,
          "int_col": 4,
          "str_col": "foobar"
         },
         {
          "float_col": 37.1428571429,
          "index": 121,
          "int_col": 8,
          "str_col": "foobar"
         },
         {
          "float_col": 34.2857142857,
          "index": 122,
          "int_col": 23,
          "str_col": "foobar"
         },
         {
          "float_col": 34.2857142857,
          "index": 123,
          "int_col": 46,
          "str_col": "foobar"
         },
         {
          "float_col": 15.7142857143,
          "index": 124,
          "int_col": 30,
          "str_col": "foobar"
         },
         {
          "float_col": 10,
          "index": 125,
          "int_col": 13,
          "str_col": "foobar"
         },
         {
          "float_col": 21.4285714286,
          "index": 126,
          "int_col": 49,
          "str_col": "foobar"
         },
         {
          "float_col": 31.4285714286,
          "index": 127,
          "int_col": 20,
          "str_col": "foobar"
         },
         {
          "float_col": 15.7142857143,
          "index": 128,
          "int_col": 37,
          "str_col": "foobar"
         },
         {
          "float_col": 40,
          "index": 129,
          "int_col": 27,
          "str_col": "foobar"
         },
         {
          "float_col": 41.4285714286,
          "index": 130,
          "int_col": 5,
          "str_col": "foobar"
         },
         {
          "float_col": 35.7142857143,
          "index": 131,
          "int_col": 37,
          "str_col": "foobar"
         },
         {
          "float_col": 35.7142857143,
          "index": 132,
          "int_col": 20,
          "str_col": "foobar"
         },
         {
          "float_col": 20,
          "index": 133,
          "int_col": 15,
          "str_col": "foobar"
         },
         {
          "float_col": 28.5714285714,
          "index": 134,
          "int_col": 15,
          "str_col": "foobar"
         },
         {
          "float_col": 27.1428571429,
          "index": 135,
          "int_col": 22,
          "str_col": "foobar"
         },
         {
          "float_col": 40,
          "index": 136,
          "int_col": 13,
          "str_col": "foobar"
         },
         {
          "float_col": 5.7142857143,
          "index": 137,
          "int_col": 14,
          "str_col": "foobar"
         },
         {
          "float_col": 4.2857142857,
          "index": 138,
          "int_col": 16,
          "str_col": "foobar"
         },
         {
          "float_col": 25.7142857143,
          "index": 139,
          "int_col": 4,
          "str_col": "foobar"
         },
         {
          "float_col": 10,
          "index": 140,
          "int_col": 2,
          "str_col": "foobar"
         },
         {
          "float_col": 30,
          "index": 141,
          "int_col": 22,
          "str_col": "foobar"
         },
         {
          "float_col": 10,
          "index": 142,
          "int_col": 24,
          "str_col": "foobar"
         },
         {
          "float_col": 12.8571428571,
          "index": 143,
          "int_col": 29,
          "str_col": "foobar"
         },
         {
          "float_col": 25.7142857143,
          "index": 144,
          "int_col": 3,
          "str_col": "foobar"
         },
         {
          "float_col": 12.8571428571,
          "index": 145,
          "int_col": 40,
          "str_col": "foobar"
         },
         {
          "float_col": 10,
          "index": 146,
          "int_col": 49,
          "str_col": "foobar"
         },
         {
          "float_col": 17.1428571429,
          "index": 147,
          "int_col": 4,
          "str_col": "foobar"
         },
         {
          "float_col": 15.7142857143,
          "index": 148,
          "int_col": 41,
          "str_col": "foobar"
         },
         {
          "float_col": 11.4285714286,
          "index": 149,
          "int_col": 44,
          "str_col": "foobar"
         },
         {
          "float_col": 12.8571428571,
          "index": 150,
          "int_col": 39,
          "str_col": "foobar"
         },
         {
          "float_col": 32.8571428571,
          "index": 151,
          "int_col": 16,
          "str_col": "foobar"
         },
         {
          "float_col": 34.2857142857,
          "index": 152,
          "int_col": 20,
          "str_col": "foobar"
         },
         {
          "float_col": 10,
          "index": 153,
          "int_col": 49,
          "str_col": "foobar"
         },
         {
          "float_col": 31.4285714286,
          "index": 154,
          "int_col": 37,
          "str_col": "foobar"
         },
         {
          "float_col": 35.7142857143,
          "index": 155,
          "int_col": 48,
          "str_col": "foobar"
         },
         {
          "float_col": 22.8571428571,
          "index": 156,
          "int_col": 29,
          "str_col": "foobar"
         },
         {
          "float_col": 14.2857142857,
          "index": 157,
          "int_col": 4,
          "str_col": "foobar"
         },
         {
          "float_col": 27.1428571429,
          "index": 158,
          "int_col": 49,
          "str_col": "foobar"
         },
         {
          "float_col": 4.2857142857,
          "index": 159,
          "int_col": 37,
          "str_col": "foobar"
         },
         {
          "float_col": 40,
          "index": 160,
          "int_col": 8,
          "str_col": "foobar"
         },
         {
          "float_col": 22.8571428571,
          "index": 161,
          "int_col": 40,
          "str_col": "foobar"
         },
         {
          "float_col": 11.4285714286,
          "index": 162,
          "int_col": 26,
          "str_col": "foobar"
         },
         {
          "float_col": 38.5714285714,
          "index": 163,
          "int_col": 46,
          "str_col": "foobar"
         },
         {
          "float_col": 2.8571428571,
          "index": 164,
          "int_col": 14,
          "str_col": "foobar"
         },
         {
          "float_col": 40,
          "index": 165,
          "int_col": 42,
          "str_col": "foobar"
         },
         {
          "float_col": 1.4285714286,
          "index": 166,
          "int_col": 42,
          "str_col": "foobar"
         },
         {
          "float_col": 11.4285714286,
          "index": 167,
          "int_col": 12,
          "str_col": "foobar"
         },
         {
          "float_col": 5.7142857143,
          "index": 168,
          "int_col": 41,
          "str_col": "foobar"
         },
         {
          "float_col": 17.1428571429,
          "index": 169,
          "int_col": 11,
          "str_col": "foobar"
         },
         {
          "float_col": 12.8571428571,
          "index": 170,
          "int_col": 26,
          "str_col": "foobar"
         },
         {
          "float_col": 8.5714285714,
          "index": 171,
          "int_col": 37,
          "str_col": "foobar"
         },
         {
          "float_col": 20,
          "index": 172,
          "int_col": 28,
          "str_col": "foobar"
         },
         {
          "float_col": 7.1428571429,
          "index": 173,
          "int_col": 30,
          "str_col": "foobar"
         },
         {
          "float_col": 5.7142857143,
          "index": 174,
          "int_col": 47,
          "str_col": "foobar"
         },
         {
          "float_col": 5.7142857143,
          "index": 175,
          "int_col": 10,
          "str_col": "foobar"
         },
         {
          "float_col": 21.4285714286,
          "index": 176,
          "int_col": 3,
          "str_col": "foobar"
         },
         {
          "float_col": 22.8571428571,
          "index": 177,
          "int_col": 17,
          "str_col": "foobar"
         },
         {
          "float_col": 28.5714285714,
          "index": 178,
          "int_col": 37,
          "str_col": "foobar"
         },
         {
          "float_col": 7.1428571429,
          "index": 179,
          "int_col": 27,
          "str_col": "foobar"
         },
         {
          "float_col": 35.7142857143,
          "index": 180,
          "int_col": 41,
          "str_col": "foobar"
         },
         {
          "float_col": 35.7142857143,
          "index": 181,
          "int_col": 23,
          "str_col": "foobar"
         },
         {
          "float_col": 17.1428571429,
          "index": 182,
          "int_col": 38,
          "str_col": "foobar"
         },
         {
          "float_col": 25.7142857143,
          "index": 183,
          "int_col": 42,
          "str_col": "foobar"
         },
         {
          "float_col": 5.7142857143,
          "index": 184,
          "int_col": 24,
          "str_col": "foobar"
         },
         {
          "float_col": 38.5714285714,
          "index": 185,
          "int_col": 32,
          "str_col": "foobar"
         },
         {
          "float_col": 40,
          "index": 186,
          "int_col": 3,
          "str_col": "foobar"
         },
         {
          "float_col": 24.2857142857,
          "index": 187,
          "int_col": 15,
          "str_col": "foobar"
         },
         {
          "float_col": 5.7142857143,
          "index": 188,
          "int_col": 5,
          "str_col": "foobar"
         },
         {
          "float_col": 20,
          "index": 189,
          "int_col": 26,
          "str_col": "foobar"
         },
         {
          "float_col": 24.2857142857,
          "index": 190,
          "int_col": 5,
          "str_col": "foobar"
         },
         {
          "float_col": 4.2857142857,
          "index": 191,
          "int_col": 43,
          "str_col": "foobar"
         },
         {
          "float_col": 37.1428571429,
          "index": 192,
          "int_col": 7,
          "str_col": "foobar"
         },
         {
          "float_col": 18.5714285714,
          "index": 193,
          "int_col": 31,
          "str_col": "foobar"
         },
         {
          "float_col": 31.4285714286,
          "index": 194,
          "int_col": 27,
          "str_col": "foobar"
         },
         {
          "float_col": 10,
          "index": 195,
          "int_col": 4,
          "str_col": "foobar"
         },
         {
          "float_col": 20,
          "index": 196,
          "int_col": 44,
          "str_col": "foobar"
         },
         {
          "float_col": 38.5714285714,
          "index": 197,
          "int_col": 22,
          "str_col": "foobar"
         },
         {
          "float_col": 20,
          "index": 198,
          "int_col": 31,
          "str_col": "foobar"
         },
         {
          "float_col": 8.5714285714,
          "index": 199,
          "int_col": 34,
          "str_col": "foobar"
         }
        ]
       },
       "df_display_args": {
        "main": {
         "data_key": "main",
         "df_viewer_config": {
          "column_config": [
           {
            "col_name": "index",
            "displayer_args": {
             "displayer": "obj"
            }
           },
           {
            "col_name": "int_col",
            "displayer_args": {
             "displayer": "float",
             "maximumFractionDigits": 0,
             "minimumFractionDigits": 0
            }
           },
           {
            "col_name": "float_col",
            "displayer_args": {
             "displayer": "float",
             "maximumFractionDigits": 3,
             "minimumFractionDigits": 3
            }
           },
           {
            "col_name": "str_col",
            "displayer_args": {
             "displayer": "obj"
            },
            "tooltip_config": {
             "tooltip_type": "simple",
             "val_column": "int_col"
            }
           }
          ],
          "pinned_rows": [
           {
            "displayer_args": {
             "displayer": "obj"
            },
            "primary_key_val": "dtype"
           },
           {
            "displayer_args": {
             "displayer": "histogram"
            },
            "primary_key_val": "histogram"
           }
          ]
         },
         "summary_stats_key": "all_stats"
        },
        "summary": {
         "data_key": "empty",
         "df_viewer_config": {
          "column_config": [
           {
            "col_name": "index",
            "displayer_args": {
             "displayer": "obj"
            }
           },
           {
            "col_name": "int_col",
            "displayer_args": {
             "displayer": "obj"
            }
           },
           {
            "col_name": "float_col",
            "displayer_args": {
             "displayer": "obj"
            }
           },
           {
            "col_name": "str_col",
            "displayer_args": {
             "displayer": "obj"
            },
            "tooltip_config": {
             "tooltip_type": "simple",
             "val_column": "int_col"
            }
           }
          ],
          "pinned_rows": [
           {
            "displayer_args": {
             "displayer": "obj"
            },
            "primary_key_val": "dtype"
           },
           {
            "displayer_args": {
             "displayer": "float",
             "maximumFractionDigits": 3,
             "minimumFractionDigits": 3
            },
            "primary_key_val": "min"
           },
           {
            "displayer_args": {
             "displayer": "float",
             "maximumFractionDigits": 3,
             "minimumFractionDigits": 3
            },
            "primary_key_val": "mean"
           },
           {
            "displayer_args": {
             "displayer": "float",
             "maximumFractionDigits": 3,
             "minimumFractionDigits": 3
            },
            "primary_key_val": "max"
           },
           {
            "displayer_args": {
             "displayer": "float",
             "maximumFractionDigits": 0,
             "minimumFractionDigits": 0
            },
            "primary_key_val": "unique_count"
           },
           {
            "displayer_args": {
             "displayer": "float",
             "maximumFractionDigits": 0,
             "minimumFractionDigits": 0
            },
            "primary_key_val": "distinct_count"
           },
           {
            "displayer_args": {
             "displayer": "float",
             "maximumFractionDigits": 0,
             "minimumFractionDigits": 0
            },
            "primary_key_val": "empty_count"
           }
          ]
         },
         "summary_stats_key": "all_stats"
        }
       },
       "df_meta": {
        "columns": 3,
        "rows_shown": 200,
        "total_rows": 200
       },
       "layout": "IPY_MODEL_8ee18d09b7424402a15da08ddbc808e6",
       "operation_results": {
        "generated_py_code": "# instantiation, unused",
        "transformed_df": {
         "column_config": [],
         "data": [],
         "pinned_rows": []
        }
       },
       "operations": []
      }
     },
     "57fd1f78c00a407cb544c14880282ab6": {
      "model_module": "@jupyter-widgets/base",
      "model_module_version": "2.0.0",
      "model_name": "LayoutModel",
      "state": {}
     },
     "6068084f59714faf873d1ed446bf81d5": {
      "model_module": "buckaroo",
      "model_module_version": "^0.5.1",
      "model_name": "DCEFWidgetModel",
      "state": {
       "_model_module_version": "^0.5.1",
       "_view_module_version": "^0.5.1",
       "_view_name": "DCEFWidgetView",
       "buckaroo_options": {
        "auto_clean": [
         "aggressive",
         "conservative"
        ],
        "df_display": [
         "summary",
         "main"
        ],
        "post_processing": [
         ""
        ],
        "sampled": [
         "random"
        ],
        "show_commands": [
         "on"
        ],
        "summary_stats": [
         "all"
        ]
       },
       "buckaroo_state": {
        "auto_clean": "conservative",
        "df_display": "main",
        "post_processing": "",
        "sampled": false,
        "search_string": "",
        "show_commands": false
       },
       "commandConfig": {
        "argspecs": {
         "dropcol": [
          null
         ],
         "fillna": [
          [
           3,
           "fillVal",
           "type",
           "integer"
          ]
         ],
         "groupby": [
          [
           3,
           "colMap",
           "colEnum",
           [
            "null",
            "sum",
            "mean",
            "median",
            "count"
           ]
          ]
         ],
         "onehot": [
          null
         ],
         "reindex": [
          null
         ],
         "safeint": [
          null
         ],
         "to_bool": [
          null
         ],
         "to_datetime": [
          null
         ],
         "to_float": [
          null
         ],
         "to_int": [
          null
         ],
         "to_string": [
          null
         ]
        },
        "defaultArgs": {
         "dropcol": [
          {
           "symbol": "dropcol"
          },
          {
           "symbol": "df"
          },
          "col"
         ],
         "fillna": [
          {
           "symbol": "fillna"
          },
          {
           "symbol": "df"
          },
          "col",
          8
         ],
         "groupby": [
          {
           "symbol": "groupby"
          },
          {
           "symbol": "df"
          },
          "col",
          {}
         ],
         "onehot": [
          {
           "symbol": "onehot"
          },
          {
           "symbol": "df"
          },
          "col"
         ],
         "reindex": [
          {
           "symbol": "reindex"
          },
          {
           "symbol": "df"
          },
          "col"
         ],
         "safeint": [
          {
           "symbol": "safeint"
          },
          {
           "symbol": "df"
          },
          "col"
         ],
         "to_bool": [
          {
           "symbol": "to_bool"
          },
          {
           "symbol": "df"
          },
          "col"
         ],
         "to_datetime": [
          {
           "symbol": "to_datetime"
          },
          {
           "symbol": "df"
          },
          "col"
         ],
         "to_float": [
          {
           "symbol": "to_float"
          },
          {
           "symbol": "df"
          },
          "col"
         ],
         "to_int": [
          {
           "symbol": "to_int"
          },
          {
           "symbol": "df"
          },
          "col"
         ],
         "to_string": [
          {
           "symbol": "to_string"
          },
          {
           "symbol": "df"
          },
          "col"
         ]
        }
       },
       "df_data_dict": {
        "all_stats": [
         {
          "float_col": "shape: (29,)\nSeries: '' [struct[2]]\n[\n\t{10.0,12}\n\t{11.428571,11}\n\t{20.0,11}\n\t{31.428571,10}\n\t{40.0,10}\n\t{8.571429,9}\n\t{7.142857,9}\n\t{25.714286,8}\n\t{27.142857,8}\n\t{5.714286,8}\n\t{14.285714,7}\n\t{21.428571,7}\n\t…\n\t{17.142857,6}\n\t{4.285714,6}\n\t{15.714286,6}\n\t{32.857143,5}\n\t{38.571429,5}\n\t{30.0,5}\n\t{2.857143,5}\n\t{41.428571,4}\n\t{28.571429,4}\n\t{24.285714,4}\n\t{34.285714,4}\n\t{18.571429,4}\n\t{37.142857,4}\n]",
          "index": "value_counts",
          "int_col": "shape: (49,)\nSeries: '' [struct[2]]\n[\n\t{4,10}\n\t{49,9}\n\t{37,9}\n\t{13,7}\n\t{33,6}\n\t{41,6}\n\t{40,5}\n\t{23,5}\n\t{46,5}\n\t{32,5}\n\t{45,5}\n\t{14,5}\n\t…\n\t{7,3}\n\t{48,3}\n\t{2,3}\n\t{44,3}\n\t{20,3}\n\t{35,2}\n\t{36,2}\n\t{24,2}\n\t{18,1}\n\t{21,1}\n\t{25,1}\n\t{19,1}\n\t{47,1}\n]",
          "str_col": "shape: (1,)\nSeries: '' [struct[2]]\n[\n\t{\"foobar\",200}\n]"
         },
         {
          "float_col": 200,
          "index": "length",
          "int_col": 200,
          "str_col": 200
         },
         {
          "float_col": 0,
          "index": "nan_count",
          "int_col": 0,
          "str_col": 0
         },
         {
          "float_col": 1.4285714286,
          "index": "min",
          "int_col": 1,
          "str_col": "foobar"
         },
         {
          "float_col": 41.4285714286,
          "index": "max",
          "int_col": 49,
          "str_col": "foobar"
         },
         {
          "float_col": 20.1571428571,
          "index": "mean",
          "int_col": 25.425,
          "str_col": null
         },
         {
          "float_col": 0,
          "index": "unique_count",
          "int_col": 5,
          "str_col": 0
         },
         {
          "float_col": "Float64",
          "index": "dtype",
          "int_col": "Int64",
          "str_col": "String"
         },
         {
          "float_col": {
           "high_tail": 41.4285714286,
           "low_tail": 1.4285714286,
           "meat_histogram": [
            [
             11,
             26,
             30,
             13,
             21,
             18,
             20,
             20,
             11,
             19
            ],
            [
             1.4285714286,
             5,
             9,
             13,
             17,
             21,
             25,
             29,
             33,
             37,
             41.4285714286
            ]
           ],
           "normalized_populations": [
            0.0582010582,
            0.1375661376,
            0.1587301587,
            0.0687830688,
            0.1111111111,
            0.0952380952,
            0.1058201058,
            0.1058201058,
            0.0582010582,
            0.1005291005
           ]
          },
          "index": "histogram_args",
          "int_col": {
           "high_tail": 49,
           "low_tail": 1,
           "meat_histogram": [
            [
             21,
             18,
             25,
             14,
             14,
             16,
             23,
             21,
             22,
             14
            ],
            [
             1,
             5.8,
             10.6,
             15.4,
             20.2,
             25,
             29.8,
             34.6,
             39.4,
             44.2,
             49
            ]
           ],
           "normalized_populations": [
            0.1117021277,
            0.0957446809,
            0.1329787234,
            0.0744680851,
            0.0744680851,
            0.085106383,
            0.1223404255,
            0.1117021277,
            0.1170212766,
            0.0744680851
           ]
          },
          "str_col": null
         },
         {
          "float_col": true,
          "index": "is_numeric",
          "int_col": true,
          "str_col": false
         },
         {
          "float_col": false,
          "index": "is_integer",
          "int_col": true,
          "str_col": false
         },
         {
          "float_col": "float",
          "index": "_type",
          "int_col": "integer",
          "str_col": "string"
         },
         {
          "float_col": 10,
          "index": "mode",
          "int_col": 4,
          "str_col": "foobar"
         },
         {
          "float_col": 29,
          "index": "distinct_count",
          "int_col": 49,
          "str_col": 1
         },
         {
          "float_col": "float",
          "index": "type",
          "int_col": "integer",
          "str_col": "string"
         },
         {
          "float_col": 1,
          "index": "min_digits",
          "int_col": 1,
          "str_col": null
         },
         {
          "float_col": 2,
          "index": "max_digits",
          "int_col": 2,
          "str_col": null
         },
         {
          "float_col": 0.145,
          "index": "distinct_per",
          "int_col": 0.245,
          "str_col": 0.005
         },
         {
          "float_col": 0,
          "index": "empty_per",
          "int_col": 0,
          "str_col": 0
         },
         {
          "float_col": 0,
          "index": "unique_per",
          "int_col": 0.025,
          "str_col": 0
         },
         {
          "float_col": 0,
          "index": "nan_per",
          "int_col": 0,
          "str_col": 0
         },
         {
          "float_col": [
           {
            "name": "1.4285714285714286 - 1.4285714285714286",
            "tail": 1
           },
           {
            "name": "1-5",
            "population": 6
           },
           {
            "name": "5-9",
            "population": 14
           },
           {
            "name": "9-13",
            "population": 16
           },
           {
            "name": "13-17",
            "population": 7
           },
           {
            "name": "17-21",
            "population": 11
           },
           {
            "name": "21-25",
            "population": 10
           },
           {
            "name": "25-29",
            "population": 11
           },
           {
            "name": "29-33",
            "population": 11
           },
           {
            "name": "33-37",
            "population": 6
           },
           {
            "name": "37-41",
            "population": 10
           },
           {
            "name": "41.42857142857143 - 41.42857142857143",
            "tail": 1
           }
          ],
          "index": "histogram",
          "int_col": [
           {
            "name": "1 - 1.0",
            "tail": 1
           },
           {
            "name": "1-6",
            "population": 11
           },
           {
            "name": "6-11",
            "population": 10
           },
           {
            "name": "11-15",
            "population": 13
           },
           {
            "name": "15-20",
            "population": 7
           },
           {
            "name": "20-25",
            "population": 7
           },
           {
            "name": "25-30",
            "population": 9
           },
           {
            "name": "30-35",
            "population": 12
           },
           {
            "name": "35-39",
            "population": 11
           },
           {
            "name": "39-44",
            "population": 12
           },
           {
            "name": "44-49",
            "population": 7
           },
           {
            "name": "49.0 - 49",
            "tail": 1
           }
          ],
          "str_col": [
           {
            "cat_pop": 100,
            "name": "foobar"
           }
          ]
         },
         {
          "float_col": [
           1.4285714286,
           5,
           9,
           13,
           17,
           21,
           25,
           29,
           33,
           37,
           41.4285714286
          ],
          "index": "histogram_bins",
          "int_col": [
           1,
           5.8,
           10.6,
           15.4,
           20.2,
           25,
           29.8,
           34.6,
           39.4,
           44.2,
           49
          ],
          "str_col": [
           "faked"
          ]
         },
         {
          "float_col": null,
          "index": "empty_count",
          "int_col": null,
          "str_col": 0
         },
         {
          "float_col": null,
          "index": "categorical_histogram",
          "int_col": null,
          "str_col": {
           "foobar": 1,
           "longtail": 0,
           "unique": 0
          }
         }
        ],
        "empty": [],
        "main": [
         {
          "float_col": 8.5714285714,
          "index": 0,
          "int_col": 40,
          "str_col": "foobar"
         },
         {
          "float_col": 11.4285714286,
          "index": 1,
          "int_col": 3,
          "str_col": "foobar"
         },
         {
          "float_col": 31.4285714286,
          "index": 2,
          "int_col": 28,
          "str_col": "foobar"
         },
         {
          "float_col": 17.1428571429,
          "index": 3,
          "int_col": 17,
          "str_col": "foobar"
         },
         {
          "float_col": 8.5714285714,
          "index": 4,
          "int_col": 34,
          "str_col": "foobar"
         },
         {
          "float_col": 14.2857142857,
          "index": 5,
          "int_col": 38,
          "str_col": "foobar"
         },
         {
          "float_col": 41.4285714286,
          "index": 6,
          "int_col": 23,
          "str_col": "foobar"
         },
         {
          "float_col": 11.4285714286,
          "index": 7,
          "int_col": 1,
          "str_col": "foobar"
         },
         {
          "float_col": 25.7142857143,
          "index": 8,
          "int_col": 9,
          "str_col": "foobar"
         },
         {
          "float_col": 20,
          "index": 9,
          "int_col": 46,
          "str_col": "foobar"
         },
         {
          "float_col": 10,
          "index": 10,
          "int_col": 12,
          "str_col": "foobar"
         },
         {
          "float_col": 28.5714285714,
          "index": 11,
          "int_col": 33,
          "str_col": "foobar"
         },
         {
          "float_col": 24.2857142857,
          "index": 12,
          "int_col": 35,
          "str_col": "foobar"
         },
         {
          "float_col": 21.4285714286,
          "index": 13,
          "int_col": 4,
          "str_col": "foobar"
         },
         {
          "float_col": 1.4285714286,
          "index": 14,
          "int_col": 36,
          "str_col": "foobar"
         },
         {
          "float_col": 41.4285714286,
          "index": 15,
          "int_col": 12,
          "str_col": "foobar"
         },
         {
          "float_col": 10,
          "index": 16,
          "int_col": 32,
          "str_col": "foobar"
         },
         {
          "float_col": 11.4285714286,
          "index": 17,
          "int_col": 9,
          "str_col": "foobar"
         },
         {
          "float_col": 7.1428571429,
          "index": 18,
          "int_col": 1,
          "str_col": "foobar"
         },
         {
          "float_col": 20,
          "index": 19,
          "int_col": 46,
          "str_col": "foobar"
         },
         {
          "float_col": 1.4285714286,
          "index": 20,
          "int_col": 34,
          "str_col": "foobar"
         },
         {
          "float_col": 34.2857142857,
          "index": 21,
          "int_col": 45,
          "str_col": "foobar"
         },
         {
          "float_col": 11.4285714286,
          "index": 22,
          "int_col": 49,
          "str_col": "foobar"
         },
         {
          "float_col": 32.8571428571,
          "index": 23,
          "int_col": 14,
          "str_col": "foobar"
         },
         {
          "float_col": 35.7142857143,
          "index": 24,
          "int_col": 49,
          "str_col": "foobar"
         },
         {
          "float_col": 17.1428571429,
          "index": 25,
          "int_col": 39,
          "str_col": "foobar"
         },
         {
          "float_col": 38.5714285714,
          "index": 26,
          "int_col": 28,
          "str_col": "foobar"
         },
         {
          "float_col": 27.1428571429,
          "index": 27,
          "int_col": 18,
          "str_col": "foobar"
         },
         {
          "float_col": 4.2857142857,
          "index": 28,
          "int_col": 4,
          "str_col": "foobar"
         },
         {
          "float_col": 17.1428571429,
          "index": 29,
          "int_col": 10,
          "str_col": "foobar"
         },
         {
          "float_col": 22.8571428571,
          "index": 30,
          "int_col": 12,
          "str_col": "foobar"
         },
         {
          "float_col": 27.1428571429,
          "index": 31,
          "int_col": 8,
          "str_col": "foobar"
         },
         {
          "float_col": 14.2857142857,
          "index": 32,
          "int_col": 43,
          "str_col": "foobar"
         },
         {
          "float_col": 7.1428571429,
          "index": 33,
          "int_col": 13,
          "str_col": "foobar"
         },
         {
          "float_col": 7.1428571429,
          "index": 34,
          "int_col": 23,
          "str_col": "foobar"
         },
         {
          "float_col": 30,
          "index": 35,
          "int_col": 36,
          "str_col": "foobar"
         },
         {
          "float_col": 41.4285714286,
          "index": 36,
          "int_col": 16,
          "str_col": "foobar"
         },
         {
          "float_col": 22.8571428571,
          "index": 37,
          "int_col": 28,
          "str_col": "foobar"
         },
         {
          "float_col": 20,
          "index": 38,
          "int_col": 43,
          "str_col": "foobar"
         },
         {
          "float_col": 28.5714285714,
          "index": 39,
          "int_col": 10,
          "str_col": "foobar"
         },
         {
          "float_col": 12.8571428571,
          "index": 40,
          "int_col": 37,
          "str_col": "foobar"
         },
         {
          "float_col": 15.7142857143,
          "index": 41,
          "int_col": 6,
          "str_col": "foobar"
         },
         {
          "float_col": 21.4285714286,
          "index": 42,
          "int_col": 49,
          "str_col": "foobar"
         },
         {
          "float_col": 5.7142857143,
          "index": 43,
          "int_col": 4,
          "str_col": "foobar"
         },
         {
          "float_col": 38.5714285714,
          "index": 44,
          "int_col": 45,
          "str_col": "foobar"
         },
         {
          "float_col": 12.8571428571,
          "index": 45,
          "int_col": 37,
          "str_col": "foobar"
         },
         {
          "float_col": 18.5714285714,
          "index": 46,
          "int_col": 41,
          "str_col": "foobar"
         },
         {
          "float_col": 8.5714285714,
          "index": 47,
          "int_col": 23,
          "str_col": "foobar"
         },
         {
          "float_col": 11.4285714286,
          "index": 48,
          "int_col": 13,
          "str_col": "foobar"
         },
         {
          "float_col": 10,
          "index": 49,
          "int_col": 13,
          "str_col": "foobar"
         },
         {
          "float_col": 24.2857142857,
          "index": 50,
          "int_col": 10,
          "str_col": "foobar"
         },
         {
          "float_col": 20,
          "index": 51,
          "int_col": 49,
          "str_col": "foobar"
         },
         {
          "float_col": 27.1428571429,
          "index": 52,
          "int_col": 17,
          "str_col": "foobar"
         },
         {
          "float_col": 27.1428571429,
          "index": 53,
          "int_col": 7,
          "str_col": "foobar"
         },
         {
          "float_col": 32.8571428571,
          "index": 54,
          "int_col": 9,
          "str_col": "foobar"
         },
         {
          "float_col": 8.5714285714,
          "index": 55,
          "int_col": 26,
          "str_col": "foobar"
         },
         {
          "float_col": 21.4285714286,
          "index": 56,
          "int_col": 11,
          "str_col": "foobar"
         },
         {
          "float_col": 8.5714285714,
          "index": 57,
          "int_col": 29,
          "str_col": "foobar"
         },
         {
          "float_col": 7.1428571429,
          "index": 58,
          "int_col": 13,
          "str_col": "foobar"
         },
         {
          "float_col": 35.7142857143,
          "index": 59,
          "int_col": 48,
          "str_col": "foobar"
         },
         {
          "float_col": 30,
          "index": 60,
          "int_col": 4,
          "str_col": "foobar"
         },
         {
          "float_col": 25.7142857143,
          "index": 61,
          "int_col": 2,
          "str_col": "foobar"
         },
         {
          "float_col": 14.2857142857,
          "index": 62,
          "int_col": 21,
          "str_col": "foobar"
         },
         {
          "float_col": 12.8571428571,
          "index": 63,
          "int_col": 31,
          "str_col": "foobar"
         },
         {
          "float_col": 25.7142857143,
          "index": 64,
          "int_col": 1,
          "str_col": "foobar"
         },
         {
          "float_col": 25.7142857143,
          "index": 65,
          "int_col": 33,
          "str_col": "foobar"
         },
         {
          "float_col": 1.4285714286,
          "index": 66,
          "int_col": 14,
          "str_col": "foobar"
         },
         {
          "float_col": 2.8571428571,
          "index": 67,
          "int_col": 43,
          "str_col": "foobar"
         },
         {
          "float_col": 40,
          "index": 68,
          "int_col": 33,
          "str_col": "foobar"
         },
         {
          "float_col": 2.8571428571,
          "index": 69,
          "int_col": 41,
          "str_col": "foobar"
         },
         {
          "float_col": 7.1428571429,
          "index": 70,
          "int_col": 14,
          "str_col": "foobar"
         },
         {
          "float_col": 18.5714285714,
          "index": 71,
          "int_col": 6,
          "str_col": "foobar"
         },
         {
          "float_col": 37.1428571429,
          "index": 72,
          "int_col": 46,
          "str_col": "foobar"
         },
         {
          "float_col": 32.8571428571,
          "index": 73,
          "int_col": 8,
          "str_col": "foobar"
         },
         {
          "float_col": 27.1428571429,
          "index": 74,
          "int_col": 38,
          "str_col": "foobar"
         },
         {
          "float_col": 10,
          "index": 75,
          "int_col": 32,
          "str_col": "foobar"
         },
         {
          "float_col": 1.4285714286,
          "index": 76,
          "int_col": 37,
          "str_col": "foobar"
         },
         {
          "float_col": 22.8571428571,
          "index": 77,
          "int_col": 48,
          "str_col": "foobar"
         },
         {
          "float_col": 11.4285714286,
          "index": 78,
          "int_col": 41,
          "str_col": "foobar"
         },
         {
          "float_col": 14.2857142857,
          "index": 79,
          "int_col": 13,
          "str_col": "foobar"
         },
         {
          "float_col": 31.4285714286,
          "index": 80,
          "int_col": 2,
          "str_col": "foobar"
         },
         {
          "float_col": 31.4285714286,
          "index": 81,
          "int_col": 30,
          "str_col": "foobar"
         },
         {
          "float_col": 11.4285714286,
          "index": 82,
          "int_col": 39,
          "str_col": "foobar"
         },
         {
          "float_col": 14.2857142857,
          "index": 83,
          "int_col": 16,
          "str_col": "foobar"
         },
         {
          "float_col": 31.4285714286,
          "index": 84,
          "int_col": 5,
          "str_col": "foobar"
         },
         {
          "float_col": 30,
          "index": 85,
          "int_col": 32,
          "str_col": "foobar"
         },
         {
          "float_col": 15.7142857143,
          "index": 86,
          "int_col": 31,
          "str_col": "foobar"
         },
         {
          "float_col": 7.1428571429,
          "index": 87,
          "int_col": 11,
          "str_col": "foobar"
         },
         {
          "float_col": 1.4285714286,
          "index": 88,
          "int_col": 30,
          "str_col": "foobar"
         },
         {
          "float_col": 2.8571428571,
          "index": 89,
          "int_col": 22,
          "str_col": "foobar"
         },
         {
          "float_col": 32.8571428571,
          "index": 90,
          "int_col": 49,
          "str_col": "foobar"
         },
         {
          "float_col": 5.7142857143,
          "index": 91,
          "int_col": 7,
          "str_col": "foobar"
         },
         {
          "float_col": 14.2857142857,
          "index": 92,
          "int_col": 11,
          "str_col": "foobar"
         },
         {
          "float_col": 21.4285714286,
          "index": 93,
          "int_col": 32,
          "str_col": "foobar"
         },
         {
          "float_col": 10,
          "index": 94,
          "int_col": 45,
          "str_col": "foobar"
         },
         {
          "float_col": 4.2857142857,
          "index": 95,
          "int_col": 25,
          "str_col": "foobar"
         },
         {
          "float_col": 20,
          "index": 96,
          "int_col": 40,
          "str_col": "foobar"
         },
         {
          "float_col": 8.5714285714,
          "index": 97,
          "int_col": 19,
          "str_col": "foobar"
         },
         {
          "float_col": 18.5714285714,
          "index": 98,
          "int_col": 35,
          "str_col": "foobar"
         },
         {
          "float_col": 7.1428571429,
          "index": 99,
          "int_col": 38,
          "str_col": "foobar"
         },
         {
          "float_col": 40,
          "index": 100,
          "int_col": 39,
          "str_col": "foobar"
         },
         {
          "float_col": 15.7142857143,
          "index": 101,
          "int_col": 33,
          "str_col": "foobar"
         },
         {
          "float_col": 27.1428571429,
          "index": 102,
          "int_col": 33,
          "str_col": "foobar"
         },
         {
          "float_col": 37.1428571429,
          "index": 103,
          "int_col": 15,
          "str_col": "foobar"
         },
         {
          "float_col": 2.8571428571,
          "index": 104,
          "int_col": 27,
          "str_col": "foobar"
         },
         {
          "float_col": 30,
          "index": 105,
          "int_col": 17,
          "str_col": "foobar"
         },
         {
          "float_col": 22.8571428571,
          "index": 106,
          "int_col": 34,
          "str_col": "foobar"
         },
         {
          "float_col": 31.4285714286,
          "index": 107,
          "int_col": 45,
          "str_col": "foobar"
         },
         {
          "float_col": 8.5714285714,
          "index": 108,
          "int_col": 45,
          "str_col": "foobar"
         },
         {
          "float_col": 4.2857142857,
          "index": 109,
          "int_col": 42,
          "str_col": "foobar"
         },
         {
          "float_col": 31.4285714286,
          "index": 110,
          "int_col": 29,
          "str_col": "foobar"
         },
         {
          "float_col": 10,
          "index": 111,
          "int_col": 8,
          "str_col": "foobar"
         },
         {
          "float_col": 21.4285714286,
          "index": 112,
          "int_col": 6,
          "str_col": "foobar"
         },
         {
          "float_col": 20,
          "index": 113,
          "int_col": 15,
          "str_col": "foobar"
         },
         {
          "float_col": 40,
          "index": 114,
          "int_col": 40,
          "str_col": "foobar"
         },
         {
          "float_col": 40,
          "index": 115,
          "int_col": 33,
          "str_col": "foobar"
         },
         {
          "float_col": 11.4285714286,
          "index": 116,
          "int_col": 22,
          "str_col": "foobar"
         },
         {
          "float_col": 31.4285714286,
          "index": 117,
          "int_col": 44,
          "str_col": "foobar"
         },
         {
          "float_col": 40,
          "index": 118,
          "int_col": 16,
          "str_col": "foobar"
         },
         {
          "float_col": 1.4285714286,
          "index": 119,
          "int_col": 4,
          "str_col": "foobar"
         },
         {
          "float_col": 25.7142857143,
          "index": 120,
          "int_col": 4,
          "str_col": "foobar"
         },
         {
          "float_col": 37.1428571429,
          "index": 121,
          "int_col": 8,
          "str_col": "foobar"
         },
         {
          "float_col": 34.2857142857,
          "index": 122,
          "int_col": 23,
          "str_col": "foobar"
         },
         {
          "float_col": 34.2857142857,
          "index": 123,
          "int_col": 46,
          "str_col": "foobar"
         },
         {
          "float_col": 15.7142857143,
          "index": 124,
          "int_col": 30,
          "str_col": "foobar"
         },
         {
          "float_col": 10,
          "index": 125,
          "int_col": 13,
          "str_col": "foobar"
         },
         {
          "float_col": 21.4285714286,
          "index": 126,
          "int_col": 49,
          "str_col": "foobar"
         },
         {
          "float_col": 31.4285714286,
          "index": 127,
          "int_col": 20,
          "str_col": "foobar"
         },
         {
          "float_col": 15.7142857143,
          "index": 128,
          "int_col": 37,
          "str_col": "foobar"
         },
         {
          "float_col": 40,
          "index": 129,
          "int_col": 27,
          "str_col": "foobar"
         },
         {
          "float_col": 41.4285714286,
          "index": 130,
          "int_col": 5,
          "str_col": "foobar"
         },
         {
          "float_col": 35.7142857143,
          "index": 131,
          "int_col": 37,
          "str_col": "foobar"
         },
         {
          "float_col": 35.7142857143,
          "index": 132,
          "int_col": 20,
          "str_col": "foobar"
         },
         {
          "float_col": 20,
          "index": 133,
          "int_col": 15,
          "str_col": "foobar"
         },
         {
          "float_col": 28.5714285714,
          "index": 134,
          "int_col": 15,
          "str_col": "foobar"
         },
         {
          "float_col": 27.1428571429,
          "index": 135,
          "int_col": 22,
          "str_col": "foobar"
         },
         {
          "float_col": 40,
          "index": 136,
          "int_col": 13,
          "str_col": "foobar"
         },
         {
          "float_col": 5.7142857143,
          "index": 137,
          "int_col": 14,
          "str_col": "foobar"
         },
         {
          "float_col": 4.2857142857,
          "index": 138,
          "int_col": 16,
          "str_col": "foobar"
         },
         {
          "float_col": 25.7142857143,
          "index": 139,
          "int_col": 4,
          "str_col": "foobar"
         },
         {
          "float_col": 10,
          "index": 140,
          "int_col": 2,
          "str_col": "foobar"
         },
         {
          "float_col": 30,
          "index": 141,
          "int_col": 22,
          "str_col": "foobar"
         },
         {
          "float_col": 10,
          "index": 142,
          "int_col": 24,
          "str_col": "foobar"
         },
         {
          "float_col": 12.8571428571,
          "index": 143,
          "int_col": 29,
          "str_col": "foobar"
         },
         {
          "float_col": 25.7142857143,
          "index": 144,
          "int_col": 3,
          "str_col": "foobar"
         },
         {
          "float_col": 12.8571428571,
          "index": 145,
          "int_col": 40,
          "str_col": "foobar"
         },
         {
          "float_col": 10,
          "index": 146,
          "int_col": 49,
          "str_col": "foobar"
         },
         {
          "float_col": 17.1428571429,
          "index": 147,
          "int_col": 4,
          "str_col": "foobar"
         },
         {
          "float_col": 15.7142857143,
          "index": 148,
          "int_col": 41,
          "str_col": "foobar"
         },
         {
          "float_col": 11.4285714286,
          "index": 149,
          "int_col": 44,
          "str_col": "foobar"
         },
         {
          "float_col": 12.8571428571,
          "index": 150,
          "int_col": 39,
          "str_col": "foobar"
         },
         {
          "float_col": 32.8571428571,
          "index": 151,
          "int_col": 16,
          "str_col": "foobar"
         },
         {
          "float_col": 34.2857142857,
          "index": 152,
          "int_col": 20,
          "str_col": "foobar"
         },
         {
          "float_col": 10,
          "index": 153,
          "int_col": 49,
          "str_col": "foobar"
         },
         {
          "float_col": 31.4285714286,
          "index": 154,
          "int_col": 37,
          "str_col": "foobar"
         },
         {
          "float_col": 35.7142857143,
          "index": 155,
          "int_col": 48,
          "str_col": "foobar"
         },
         {
          "float_col": 22.8571428571,
          "index": 156,
          "int_col": 29,
          "str_col": "foobar"
         },
         {
          "float_col": 14.2857142857,
          "index": 157,
          "int_col": 4,
          "str_col": "foobar"
         },
         {
          "float_col": 27.1428571429,
          "index": 158,
          "int_col": 49,
          "str_col": "foobar"
         },
         {
          "float_col": 4.2857142857,
          "index": 159,
          "int_col": 37,
          "str_col": "foobar"
         },
         {
          "float_col": 40,
          "index": 160,
          "int_col": 8,
          "str_col": "foobar"
         },
         {
          "float_col": 22.8571428571,
          "index": 161,
          "int_col": 40,
          "str_col": "foobar"
         },
         {
          "float_col": 11.4285714286,
          "index": 162,
          "int_col": 26,
          "str_col": "foobar"
         },
         {
          "float_col": 38.5714285714,
          "index": 163,
          "int_col": 46,
          "str_col": "foobar"
         },
         {
          "float_col": 2.8571428571,
          "index": 164,
          "int_col": 14,
          "str_col": "foobar"
         },
         {
          "float_col": 40,
          "index": 165,
          "int_col": 42,
          "str_col": "foobar"
         },
         {
          "float_col": 1.4285714286,
          "index": 166,
          "int_col": 42,
          "str_col": "foobar"
         },
         {
          "float_col": 11.4285714286,
          "index": 167,
          "int_col": 12,
          "str_col": "foobar"
         },
         {
          "float_col": 5.7142857143,
          "index": 168,
          "int_col": 41,
          "str_col": "foobar"
         },
         {
          "float_col": 17.1428571429,
          "index": 169,
          "int_col": 11,
          "str_col": "foobar"
         },
         {
          "float_col": 12.8571428571,
          "index": 170,
          "int_col": 26,
          "str_col": "foobar"
         },
         {
          "float_col": 8.5714285714,
          "index": 171,
          "int_col": 37,
          "str_col": "foobar"
         },
         {
          "float_col": 20,
          "index": 172,
          "int_col": 28,
          "str_col": "foobar"
         },
         {
          "float_col": 7.1428571429,
          "index": 173,
          "int_col": 30,
          "str_col": "foobar"
         },
         {
          "float_col": 5.7142857143,
          "index": 174,
          "int_col": 47,
          "str_col": "foobar"
         },
         {
          "float_col": 5.7142857143,
          "index": 175,
          "int_col": 10,
          "str_col": "foobar"
         },
         {
          "float_col": 21.4285714286,
          "index": 176,
          "int_col": 3,
          "str_col": "foobar"
         },
         {
          "float_col": 22.8571428571,
          "index": 177,
          "int_col": 17,
          "str_col": "foobar"
         },
         {
          "float_col": 28.5714285714,
          "index": 178,
          "int_col": 37,
          "str_col": "foobar"
         },
         {
          "float_col": 7.1428571429,
          "index": 179,
          "int_col": 27,
          "str_col": "foobar"
         },
         {
          "float_col": 35.7142857143,
          "index": 180,
          "int_col": 41,
          "str_col": "foobar"
         },
         {
          "float_col": 35.7142857143,
          "index": 181,
          "int_col": 23,
          "str_col": "foobar"
         },
         {
          "float_col": 17.1428571429,
          "index": 182,
          "int_col": 38,
          "str_col": "foobar"
         },
         {
          "float_col": 25.7142857143,
          "index": 183,
          "int_col": 42,
          "str_col": "foobar"
         },
         {
          "float_col": 5.7142857143,
          "index": 184,
          "int_col": 24,
          "str_col": "foobar"
         },
         {
          "float_col": 38.5714285714,
          "index": 185,
          "int_col": 32,
          "str_col": "foobar"
         },
         {
          "float_col": 40,
          "index": 186,
          "int_col": 3,
          "str_col": "foobar"
         },
         {
          "float_col": 24.2857142857,
          "index": 187,
          "int_col": 15,
          "str_col": "foobar"
         },
         {
          "float_col": 5.7142857143,
          "index": 188,
          "int_col": 5,
          "str_col": "foobar"
         },
         {
          "float_col": 20,
          "index": 189,
          "int_col": 26,
          "str_col": "foobar"
         },
         {
          "float_col": 24.2857142857,
          "index": 190,
          "int_col": 5,
          "str_col": "foobar"
         },
         {
          "float_col": 4.2857142857,
          "index": 191,
          "int_col": 43,
          "str_col": "foobar"
         },
         {
          "float_col": 37.1428571429,
          "index": 192,
          "int_col": 7,
          "str_col": "foobar"
         },
         {
          "float_col": 18.5714285714,
          "index": 193,
          "int_col": 31,
          "str_col": "foobar"
         },
         {
          "float_col": 31.4285714286,
          "index": 194,
          "int_col": 27,
          "str_col": "foobar"
         },
         {
          "float_col": 10,
          "index": 195,
          "int_col": 4,
          "str_col": "foobar"
         },
         {
          "float_col": 20,
          "index": 196,
          "int_col": 44,
          "str_col": "foobar"
         },
         {
          "float_col": 38.5714285714,
          "index": 197,
          "int_col": 22,
          "str_col": "foobar"
         },
         {
          "float_col": 20,
          "index": 198,
          "int_col": 31,
          "str_col": "foobar"
         },
         {
          "float_col": 8.5714285714,
          "index": 199,
          "int_col": 34,
          "str_col": "foobar"
         }
        ]
       },
       "df_display_args": {
        "main": {
         "data_key": "main",
         "df_viewer_config": {
          "column_config": [
           {
            "col_name": "index",
            "displayer_args": {
             "displayer": "obj"
            }
           },
           {
            "col_name": "int_col",
            "color_map_config": {
             "color_rule": "color_map",
             "map_name": "DIVERGING_RED_WHITE_BLUE",
             "val_column": "float_col"
            },
            "displayer_args": {
             "displayer": "float",
             "maximumFractionDigits": 0,
             "minimumFractionDigits": 0
            }
           },
           {
            "col_name": "float_col",
            "displayer_args": {
             "displayer": "float",
             "maximumFractionDigits": 3,
             "minimumFractionDigits": 3
            }
           },
           {
            "col_name": "str_col",
            "displayer_args": {
             "displayer": "obj"
            }
           }
          ],
          "pinned_rows": [
           {
            "displayer_args": {
             "displayer": "obj"
            },
            "primary_key_val": "dtype"
           },
           {
            "displayer_args": {
             "displayer": "histogram"
            },
            "primary_key_val": "histogram"
           }
          ]
         },
         "summary_stats_key": "all_stats"
        },
        "summary": {
         "data_key": "empty",
         "df_viewer_config": {
          "column_config": [
           {
            "col_name": "index",
            "displayer_args": {
             "displayer": "obj"
            }
           },
           {
            "col_name": "int_col",
            "color_map_config": {
             "color_rule": "color_map",
             "map_name": "DIVERGING_RED_WHITE_BLUE",
             "val_column": "float_col"
            },
            "displayer_args": {
             "displayer": "obj"
            }
           },
           {
            "col_name": "float_col",
            "displayer_args": {
             "displayer": "obj"
            }
           },
           {
            "col_name": "str_col",
            "displayer_args": {
             "displayer": "obj"
            }
           }
          ],
          "pinned_rows": [
           {
            "displayer_args": {
             "displayer": "obj"
            },
            "primary_key_val": "dtype"
           },
           {
            "displayer_args": {
             "displayer": "float",
             "maximumFractionDigits": 3,
             "minimumFractionDigits": 3
            },
            "primary_key_val": "min"
           },
           {
            "displayer_args": {
             "displayer": "float",
             "maximumFractionDigits": 3,
             "minimumFractionDigits": 3
            },
            "primary_key_val": "mean"
           },
           {
            "displayer_args": {
             "displayer": "float",
             "maximumFractionDigits": 3,
             "minimumFractionDigits": 3
            },
            "primary_key_val": "max"
           },
           {
            "displayer_args": {
             "displayer": "float",
             "maximumFractionDigits": 0,
             "minimumFractionDigits": 0
            },
            "primary_key_val": "unique_count"
           },
           {
            "displayer_args": {
             "displayer": "float",
             "maximumFractionDigits": 0,
             "minimumFractionDigits": 0
            },
            "primary_key_val": "distinct_count"
           },
           {
            "displayer_args": {
             "displayer": "float",
             "maximumFractionDigits": 0,
             "minimumFractionDigits": 0
            },
            "primary_key_val": "empty_count"
           }
          ]
         },
         "summary_stats_key": "all_stats"
        }
       },
       "df_meta": {
        "columns": 3,
        "rows_shown": 200,
        "total_rows": 200
       },
       "layout": "IPY_MODEL_19ab40f7fd474c78bd507ec72a871f14",
       "operation_results": {
        "generated_py_code": "# instantiation, unused",
        "transformed_df": {
         "column_config": [],
         "data": [],
         "pinned_rows": []
        }
       },
       "operations": []
      }
     },
     "7a1bceddb6d84627b265a151290e371f": {
      "model_module": "buckaroo",
      "model_module_version": "^0.5.1",
      "model_name": "DCEFWidgetModel",
      "state": {
       "_model_module_version": "^0.5.1",
       "_view_module_version": "^0.5.1",
       "_view_name": "DCEFWidgetView",
       "buckaroo_options": {
        "auto_clean": [
         "aggressive",
         "conservative"
        ],
        "df_display": [
         "summary",
         "main"
        ],
        "post_processing": [
         ""
        ],
        "sampled": [
         "random"
        ],
        "show_commands": [
         "on"
        ],
        "summary_stats": [
         "all"
        ]
       },
       "buckaroo_state": {
        "auto_clean": "conservative",
        "df_display": "summary",
        "post_processing": "",
        "sampled": false,
        "search_string": "",
        "show_commands": false
       },
       "commandConfig": {
        "argspecs": {
         "dropcol": [
          null
         ],
         "fillna": [
          [
           3,
           "fillVal",
           "type",
           "integer"
          ]
         ],
         "groupby": [
          [
           3,
           "colMap",
           "colEnum",
           [
            "null",
            "sum",
            "mean",
            "median",
            "count"
           ]
          ]
         ],
         "onehot": [
          null
         ],
         "reindex": [
          null
         ],
         "safeint": [
          null
         ],
         "to_bool": [
          null
         ],
         "to_datetime": [
          null
         ],
         "to_float": [
          null
         ],
         "to_int": [
          null
         ],
         "to_string": [
          null
         ]
        },
        "defaultArgs": {
         "dropcol": [
          {
           "symbol": "dropcol"
          },
          {
           "symbol": "df"
          },
          "col"
         ],
         "fillna": [
          {
           "symbol": "fillna"
          },
          {
           "symbol": "df"
          },
          "col",
          8
         ],
         "groupby": [
          {
           "symbol": "groupby"
          },
          {
           "symbol": "df"
          },
          "col",
          {}
         ],
         "onehot": [
          {
           "symbol": "onehot"
          },
          {
           "symbol": "df"
          },
          "col"
         ],
         "reindex": [
          {
           "symbol": "reindex"
          },
          {
           "symbol": "df"
          },
          "col"
         ],
         "safeint": [
          {
           "symbol": "safeint"
          },
          {
           "symbol": "df"
          },
          "col"
         ],
         "to_bool": [
          {
           "symbol": "to_bool"
          },
          {
           "symbol": "df"
          },
          "col"
         ],
         "to_datetime": [
          {
           "symbol": "to_datetime"
          },
          {
           "symbol": "df"
          },
          "col"
         ],
         "to_float": [
          {
           "symbol": "to_float"
          },
          {
           "symbol": "df"
          },
          "col"
         ],
         "to_int": [
          {
           "symbol": "to_int"
          },
          {
           "symbol": "df"
          },
          "col"
         ],
         "to_string": [
          {
           "symbol": "to_string"
          },
          {
           "symbol": "df"
          },
          "col"
         ]
        }
       },
       "df_data_dict": {
        "all_stats": [
         {
          "float_col": "shape: (29,)\nSeries: '' [struct[2]]\n[\n\t{10.0,12}\n\t{11.428571,11}\n\t{20.0,11}\n\t{31.428571,10}\n\t{40.0,10}\n\t{8.571429,9}\n\t{7.142857,9}\n\t{25.714286,8}\n\t{27.142857,8}\n\t{5.714286,8}\n\t{14.285714,7}\n\t{21.428571,7}\n\t…\n\t{17.142857,6}\n\t{4.285714,6}\n\t{15.714286,6}\n\t{32.857143,5}\n\t{38.571429,5}\n\t{30.0,5}\n\t{2.857143,5}\n\t{41.428571,4}\n\t{28.571429,4}\n\t{24.285714,4}\n\t{34.285714,4}\n\t{18.571429,4}\n\t{37.142857,4}\n]",
          "index": "value_counts",
          "int_col": "shape: (49,)\nSeries: '' [struct[2]]\n[\n\t{4,10}\n\t{49,9}\n\t{37,9}\n\t{13,7}\n\t{33,6}\n\t{41,6}\n\t{40,5}\n\t{23,5}\n\t{46,5}\n\t{32,5}\n\t{45,5}\n\t{14,5}\n\t…\n\t{7,3}\n\t{48,3}\n\t{2,3}\n\t{44,3}\n\t{20,3}\n\t{35,2}\n\t{36,2}\n\t{24,2}\n\t{18,1}\n\t{21,1}\n\t{25,1}\n\t{19,1}\n\t{47,1}\n]",
          "str_col": "shape: (1,)\nSeries: '' [struct[2]]\n[\n\t{\"foobar\",200}\n]"
         },
         {
          "float_col": 200,
          "index": "length",
          "int_col": 200,
          "str_col": 200
         },
         {
          "float_col": 0,
          "index": "nan_count",
          "int_col": 0,
          "str_col": 0
         },
         {
          "float_col": 1.4285714286,
          "index": "min",
          "int_col": 1,
          "str_col": "foobar"
         },
         {
          "float_col": 41.4285714286,
          "index": "max",
          "int_col": 49,
          "str_col": "foobar"
         },
         {
          "float_col": 20.1571428571,
          "index": "mean",
          "int_col": 25.425,
          "str_col": null
         },
         {
          "float_col": 0,
          "index": "unique_count",
          "int_col": 5,
          "str_col": 0
         },
         {
          "float_col": "Float64",
          "index": "dtype",
          "int_col": "Int64",
          "str_col": "String"
         },
         {
          "float_col": {
           "high_tail": 41.4285714286,
           "low_tail": 1.4285714286,
           "meat_histogram": [
            [
             11,
             26,
             30,
             13,
             21,
             18,
             20,
             20,
             11,
             19
            ],
            [
             1.4285714286,
             5,
             9,
             13,
             17,
             21,
             25,
             29,
             33,
             37,
             41.4285714286
            ]
           ],
           "normalized_populations": [
            0.0582010582,
            0.1375661376,
            0.1587301587,
            0.0687830688,
            0.1111111111,
            0.0952380952,
            0.1058201058,
            0.1058201058,
            0.0582010582,
            0.1005291005
           ]
          },
          "index": "histogram_args",
          "int_col": {
           "high_tail": 49,
           "low_tail": 1,
           "meat_histogram": [
            [
             21,
             18,
             25,
             14,
             14,
             16,
             23,
             21,
             22,
             14
            ],
            [
             1,
             5.8,
             10.6,
             15.4,
             20.2,
             25,
             29.8,
             34.6,
             39.4,
             44.2,
             49
            ]
           ],
           "normalized_populations": [
            0.1117021277,
            0.0957446809,
            0.1329787234,
            0.0744680851,
            0.0744680851,
            0.085106383,
            0.1223404255,
            0.1117021277,
            0.1170212766,
            0.0744680851
           ]
          },
          "str_col": null
         },
         {
          "float_col": true,
          "index": "is_numeric",
          "int_col": true,
          "str_col": false
         },
         {
          "float_col": false,
          "index": "is_integer",
          "int_col": true,
          "str_col": false
         },
         {
          "float_col": "float",
          "index": "_type",
          "int_col": "integer",
          "str_col": "string"
         },
         {
          "float_col": 10,
          "index": "mode",
          "int_col": 4,
          "str_col": "foobar"
         },
         {
          "float_col": 29,
          "index": "distinct_count",
          "int_col": 49,
          "str_col": 1
         },
         {
          "float_col": "float",
          "index": "type",
          "int_col": "integer",
          "str_col": "string"
         },
         {
          "float_col": 1,
          "index": "min_digits",
          "int_col": 1,
          "str_col": null
         },
         {
          "float_col": 2,
          "index": "max_digits",
          "int_col": 2,
          "str_col": null
         },
         {
          "float_col": 0.145,
          "index": "distinct_per",
          "int_col": 0.245,
          "str_col": 0.005
         },
         {
          "float_col": 0,
          "index": "empty_per",
          "int_col": 0,
          "str_col": 0
         },
         {
          "float_col": 0,
          "index": "unique_per",
          "int_col": 0.025,
          "str_col": 0
         },
         {
          "float_col": 0,
          "index": "nan_per",
          "int_col": 0,
          "str_col": 0
         },
         {
          "float_col": [
           {
            "name": "1.4285714285714286 - 1.4285714285714286",
            "tail": 1
           },
           {
            "name": "1-5",
            "population": 6
           },
           {
            "name": "5-9",
            "population": 14
           },
           {
            "name": "9-13",
            "population": 16
           },
           {
            "name": "13-17",
            "population": 7
           },
           {
            "name": "17-21",
            "population": 11
           },
           {
            "name": "21-25",
            "population": 10
           },
           {
            "name": "25-29",
            "population": 11
           },
           {
            "name": "29-33",
            "population": 11
           },
           {
            "name": "33-37",
            "population": 6
           },
           {
            "name": "37-41",
            "population": 10
           },
           {
            "name": "41.42857142857143 - 41.42857142857143",
            "tail": 1
           }
          ],
          "index": "histogram",
          "int_col": [
           {
            "name": "1 - 1.0",
            "tail": 1
           },
           {
            "name": "1-6",
            "population": 11
           },
           {
            "name": "6-11",
            "population": 10
           },
           {
            "name": "11-15",
            "population": 13
           },
           {
            "name": "15-20",
            "population": 7
           },
           {
            "name": "20-25",
            "population": 7
           },
           {
            "name": "25-30",
            "population": 9
           },
           {
            "name": "30-35",
            "population": 12
           },
           {
            "name": "35-39",
            "population": 11
           },
           {
            "name": "39-44",
            "population": 12
           },
           {
            "name": "44-49",
            "population": 7
           },
           {
            "name": "49.0 - 49",
            "tail": 1
           }
          ],
          "str_col": [
           {
            "cat_pop": 100,
            "name": "foobar"
           }
          ]
         },
         {
          "float_col": [
           1.4285714286,
           5,
           9,
           13,
           17,
           21,
           25,
           29,
           33,
           37,
           41.4285714286
          ],
          "index": "histogram_bins",
          "int_col": [
           1,
           5.8,
           10.6,
           15.4,
           20.2,
           25,
           29.8,
           34.6,
           39.4,
           44.2,
           49
          ],
          "str_col": [
           "faked"
          ]
         },
         {
          "float_col": null,
          "index": "empty_count",
          "int_col": null,
          "str_col": 0
         },
         {
          "float_col": null,
          "index": "categorical_histogram",
          "int_col": null,
          "str_col": {
           "foobar": 1,
           "longtail": 0,
           "unique": 0
          }
         }
        ],
        "empty": [],
        "main": [
         {
          "float_col": 8.5714285714,
          "index": 0,
          "int_col": 40,
          "str_col": "foobar"
         },
         {
          "float_col": 11.4285714286,
          "index": 1,
          "int_col": 3,
          "str_col": "foobar"
         },
         {
          "float_col": 31.4285714286,
          "index": 2,
          "int_col": 28,
          "str_col": "foobar"
         },
         {
          "float_col": 17.1428571429,
          "index": 3,
          "int_col": 17,
          "str_col": "foobar"
         },
         {
          "float_col": 8.5714285714,
          "index": 4,
          "int_col": 34,
          "str_col": "foobar"
         },
         {
          "float_col": 14.2857142857,
          "index": 5,
          "int_col": 38,
          "str_col": "foobar"
         },
         {
          "float_col": 41.4285714286,
          "index": 6,
          "int_col": 23,
          "str_col": "foobar"
         },
         {
          "float_col": 11.4285714286,
          "index": 7,
          "int_col": 1,
          "str_col": "foobar"
         },
         {
          "float_col": 25.7142857143,
          "index": 8,
          "int_col": 9,
          "str_col": "foobar"
         },
         {
          "float_col": 20,
          "index": 9,
          "int_col": 46,
          "str_col": "foobar"
         },
         {
          "float_col": 10,
          "index": 10,
          "int_col": 12,
          "str_col": "foobar"
         },
         {
          "float_col": 28.5714285714,
          "index": 11,
          "int_col": 33,
          "str_col": "foobar"
         },
         {
          "float_col": 24.2857142857,
          "index": 12,
          "int_col": 35,
          "str_col": "foobar"
         },
         {
          "float_col": 21.4285714286,
          "index": 13,
          "int_col": 4,
          "str_col": "foobar"
         },
         {
          "float_col": 1.4285714286,
          "index": 14,
          "int_col": 36,
          "str_col": "foobar"
         },
         {
          "float_col": 41.4285714286,
          "index": 15,
          "int_col": 12,
          "str_col": "foobar"
         },
         {
          "float_col": 10,
          "index": 16,
          "int_col": 32,
          "str_col": "foobar"
         },
         {
          "float_col": 11.4285714286,
          "index": 17,
          "int_col": 9,
          "str_col": "foobar"
         },
         {
          "float_col": 7.1428571429,
          "index": 18,
          "int_col": 1,
          "str_col": "foobar"
         },
         {
          "float_col": 20,
          "index": 19,
          "int_col": 46,
          "str_col": "foobar"
         },
         {
          "float_col": 1.4285714286,
          "index": 20,
          "int_col": 34,
          "str_col": "foobar"
         },
         {
          "float_col": 34.2857142857,
          "index": 21,
          "int_col": 45,
          "str_col": "foobar"
         },
         {
          "float_col": 11.4285714286,
          "index": 22,
          "int_col": 49,
          "str_col": "foobar"
         },
         {
          "float_col": 32.8571428571,
          "index": 23,
          "int_col": 14,
          "str_col": "foobar"
         },
         {
          "float_col": 35.7142857143,
          "index": 24,
          "int_col": 49,
          "str_col": "foobar"
         },
         {
          "float_col": 17.1428571429,
          "index": 25,
          "int_col": 39,
          "str_col": "foobar"
         },
         {
          "float_col": 38.5714285714,
          "index": 26,
          "int_col": 28,
          "str_col": "foobar"
         },
         {
          "float_col": 27.1428571429,
          "index": 27,
          "int_col": 18,
          "str_col": "foobar"
         },
         {
          "float_col": 4.2857142857,
          "index": 28,
          "int_col": 4,
          "str_col": "foobar"
         },
         {
          "float_col": 17.1428571429,
          "index": 29,
          "int_col": 10,
          "str_col": "foobar"
         },
         {
          "float_col": 22.8571428571,
          "index": 30,
          "int_col": 12,
          "str_col": "foobar"
         },
         {
          "float_col": 27.1428571429,
          "index": 31,
          "int_col": 8,
          "str_col": "foobar"
         },
         {
          "float_col": 14.2857142857,
          "index": 32,
          "int_col": 43,
          "str_col": "foobar"
         },
         {
          "float_col": 7.1428571429,
          "index": 33,
          "int_col": 13,
          "str_col": "foobar"
         },
         {
          "float_col": 7.1428571429,
          "index": 34,
          "int_col": 23,
          "str_col": "foobar"
         },
         {
          "float_col": 30,
          "index": 35,
          "int_col": 36,
          "str_col": "foobar"
         },
         {
          "float_col": 41.4285714286,
          "index": 36,
          "int_col": 16,
          "str_col": "foobar"
         },
         {
          "float_col": 22.8571428571,
          "index": 37,
          "int_col": 28,
          "str_col": "foobar"
         },
         {
          "float_col": 20,
          "index": 38,
          "int_col": 43,
          "str_col": "foobar"
         },
         {
          "float_col": 28.5714285714,
          "index": 39,
          "int_col": 10,
          "str_col": "foobar"
         },
         {
          "float_col": 12.8571428571,
          "index": 40,
          "int_col": 37,
          "str_col": "foobar"
         },
         {
          "float_col": 15.7142857143,
          "index": 41,
          "int_col": 6,
          "str_col": "foobar"
         },
         {
          "float_col": 21.4285714286,
          "index": 42,
          "int_col": 49,
          "str_col": "foobar"
         },
         {
          "float_col": 5.7142857143,
          "index": 43,
          "int_col": 4,
          "str_col": "foobar"
         },
         {
          "float_col": 38.5714285714,
          "index": 44,
          "int_col": 45,
          "str_col": "foobar"
         },
         {
          "float_col": 12.8571428571,
          "index": 45,
          "int_col": 37,
          "str_col": "foobar"
         },
         {
          "float_col": 18.5714285714,
          "index": 46,
          "int_col": 41,
          "str_col": "foobar"
         },
         {
          "float_col": 8.5714285714,
          "index": 47,
          "int_col": 23,
          "str_col": "foobar"
         },
         {
          "float_col": 11.4285714286,
          "index": 48,
          "int_col": 13,
          "str_col": "foobar"
         },
         {
          "float_col": 10,
          "index": 49,
          "int_col": 13,
          "str_col": "foobar"
         },
         {
          "float_col": 24.2857142857,
          "index": 50,
          "int_col": 10,
          "str_col": "foobar"
         },
         {
          "float_col": 20,
          "index": 51,
          "int_col": 49,
          "str_col": "foobar"
         },
         {
          "float_col": 27.1428571429,
          "index": 52,
          "int_col": 17,
          "str_col": "foobar"
         },
         {
          "float_col": 27.1428571429,
          "index": 53,
          "int_col": 7,
          "str_col": "foobar"
         },
         {
          "float_col": 32.8571428571,
          "index": 54,
          "int_col": 9,
          "str_col": "foobar"
         },
         {
          "float_col": 8.5714285714,
          "index": 55,
          "int_col": 26,
          "str_col": "foobar"
         },
         {
          "float_col": 21.4285714286,
          "index": 56,
          "int_col": 11,
          "str_col": "foobar"
         },
         {
          "float_col": 8.5714285714,
          "index": 57,
          "int_col": 29,
          "str_col": "foobar"
         },
         {
          "float_col": 7.1428571429,
          "index": 58,
          "int_col": 13,
          "str_col": "foobar"
         },
         {
          "float_col": 35.7142857143,
          "index": 59,
          "int_col": 48,
          "str_col": "foobar"
         },
         {
          "float_col": 30,
          "index": 60,
          "int_col": 4,
          "str_col": "foobar"
         },
         {
          "float_col": 25.7142857143,
          "index": 61,
          "int_col": 2,
          "str_col": "foobar"
         },
         {
          "float_col": 14.2857142857,
          "index": 62,
          "int_col": 21,
          "str_col": "foobar"
         },
         {
          "float_col": 12.8571428571,
          "index": 63,
          "int_col": 31,
          "str_col": "foobar"
         },
         {
          "float_col": 25.7142857143,
          "index": 64,
          "int_col": 1,
          "str_col": "foobar"
         },
         {
          "float_col": 25.7142857143,
          "index": 65,
          "int_col": 33,
          "str_col": "foobar"
         },
         {
          "float_col": 1.4285714286,
          "index": 66,
          "int_col": 14,
          "str_col": "foobar"
         },
         {
          "float_col": 2.8571428571,
          "index": 67,
          "int_col": 43,
          "str_col": "foobar"
         },
         {
          "float_col": 40,
          "index": 68,
          "int_col": 33,
          "str_col": "foobar"
         },
         {
          "float_col": 2.8571428571,
          "index": 69,
          "int_col": 41,
          "str_col": "foobar"
         },
         {
          "float_col": 7.1428571429,
          "index": 70,
          "int_col": 14,
          "str_col": "foobar"
         },
         {
          "float_col": 18.5714285714,
          "index": 71,
          "int_col": 6,
          "str_col": "foobar"
         },
         {
          "float_col": 37.1428571429,
          "index": 72,
          "int_col": 46,
          "str_col": "foobar"
         },
         {
          "float_col": 32.8571428571,
          "index": 73,
          "int_col": 8,
          "str_col": "foobar"
         },
         {
          "float_col": 27.1428571429,
          "index": 74,
          "int_col": 38,
          "str_col": "foobar"
         },
         {
          "float_col": 10,
          "index": 75,
          "int_col": 32,
          "str_col": "foobar"
         },
         {
          "float_col": 1.4285714286,
          "index": 76,
          "int_col": 37,
          "str_col": "foobar"
         },
         {
          "float_col": 22.8571428571,
          "index": 77,
          "int_col": 48,
          "str_col": "foobar"
         },
         {
          "float_col": 11.4285714286,
          "index": 78,
          "int_col": 41,
          "str_col": "foobar"
         },
         {
          "float_col": 14.2857142857,
          "index": 79,
          "int_col": 13,
          "str_col": "foobar"
         },
         {
          "float_col": 31.4285714286,
          "index": 80,
          "int_col": 2,
          "str_col": "foobar"
         },
         {
          "float_col": 31.4285714286,
          "index": 81,
          "int_col": 30,
          "str_col": "foobar"
         },
         {
          "float_col": 11.4285714286,
          "index": 82,
          "int_col": 39,
          "str_col": "foobar"
         },
         {
          "float_col": 14.2857142857,
          "index": 83,
          "int_col": 16,
          "str_col": "foobar"
         },
         {
          "float_col": 31.4285714286,
          "index": 84,
          "int_col": 5,
          "str_col": "foobar"
         },
         {
          "float_col": 30,
          "index": 85,
          "int_col": 32,
          "str_col": "foobar"
         },
         {
          "float_col": 15.7142857143,
          "index": 86,
          "int_col": 31,
          "str_col": "foobar"
         },
         {
          "float_col": 7.1428571429,
          "index": 87,
          "int_col": 11,
          "str_col": "foobar"
         },
         {
          "float_col": 1.4285714286,
          "index": 88,
          "int_col": 30,
          "str_col": "foobar"
         },
         {
          "float_col": 2.8571428571,
          "index": 89,
          "int_col": 22,
          "str_col": "foobar"
         },
         {
          "float_col": 32.8571428571,
          "index": 90,
          "int_col": 49,
          "str_col": "foobar"
         },
         {
          "float_col": 5.7142857143,
          "index": 91,
          "int_col": 7,
          "str_col": "foobar"
         },
         {
          "float_col": 14.2857142857,
          "index": 92,
          "int_col": 11,
          "str_col": "foobar"
         },
         {
          "float_col": 21.4285714286,
          "index": 93,
          "int_col": 32,
          "str_col": "foobar"
         },
         {
          "float_col": 10,
          "index": 94,
          "int_col": 45,
          "str_col": "foobar"
         },
         {
          "float_col": 4.2857142857,
          "index": 95,
          "int_col": 25,
          "str_col": "foobar"
         },
         {
          "float_col": 20,
          "index": 96,
          "int_col": 40,
          "str_col": "foobar"
         },
         {
          "float_col": 8.5714285714,
          "index": 97,
          "int_col": 19,
          "str_col": "foobar"
         },
         {
          "float_col": 18.5714285714,
          "index": 98,
          "int_col": 35,
          "str_col": "foobar"
         },
         {
          "float_col": 7.1428571429,
          "index": 99,
          "int_col": 38,
          "str_col": "foobar"
         },
         {
          "float_col": 40,
          "index": 100,
          "int_col": 39,
          "str_col": "foobar"
         },
         {
          "float_col": 15.7142857143,
          "index": 101,
          "int_col": 33,
          "str_col": "foobar"
         },
         {
          "float_col": 27.1428571429,
          "index": 102,
          "int_col": 33,
          "str_col": "foobar"
         },
         {
          "float_col": 37.1428571429,
          "index": 103,
          "int_col": 15,
          "str_col": "foobar"
         },
         {
          "float_col": 2.8571428571,
          "index": 104,
          "int_col": 27,
          "str_col": "foobar"
         },
         {
          "float_col": 30,
          "index": 105,
          "int_col": 17,
          "str_col": "foobar"
         },
         {
          "float_col": 22.8571428571,
          "index": 106,
          "int_col": 34,
          "str_col": "foobar"
         },
         {
          "float_col": 31.4285714286,
          "index": 107,
          "int_col": 45,
          "str_col": "foobar"
         },
         {
          "float_col": 8.5714285714,
          "index": 108,
          "int_col": 45,
          "str_col": "foobar"
         },
         {
          "float_col": 4.2857142857,
          "index": 109,
          "int_col": 42,
          "str_col": "foobar"
         },
         {
          "float_col": 31.4285714286,
          "index": 110,
          "int_col": 29,
          "str_col": "foobar"
         },
         {
          "float_col": 10,
          "index": 111,
          "int_col": 8,
          "str_col": "foobar"
         },
         {
          "float_col": 21.4285714286,
          "index": 112,
          "int_col": 6,
          "str_col": "foobar"
         },
         {
          "float_col": 20,
          "index": 113,
          "int_col": 15,
          "str_col": "foobar"
         },
         {
          "float_col": 40,
          "index": 114,
          "int_col": 40,
          "str_col": "foobar"
         },
         {
          "float_col": 40,
          "index": 115,
          "int_col": 33,
          "str_col": "foobar"
         },
         {
          "float_col": 11.4285714286,
          "index": 116,
          "int_col": 22,
          "str_col": "foobar"
         },
         {
          "float_col": 31.4285714286,
          "index": 117,
          "int_col": 44,
          "str_col": "foobar"
         },
         {
          "float_col": 40,
          "index": 118,
          "int_col": 16,
          "str_col": "foobar"
         },
         {
          "float_col": 1.4285714286,
          "index": 119,
          "int_col": 4,
          "str_col": "foobar"
         },
         {
          "float_col": 25.7142857143,
          "index": 120,
          "int_col": 4,
          "str_col": "foobar"
         },
         {
          "float_col": 37.1428571429,
          "index": 121,
          "int_col": 8,
          "str_col": "foobar"
         },
         {
          "float_col": 34.2857142857,
          "index": 122,
          "int_col": 23,
          "str_col": "foobar"
         },
         {
          "float_col": 34.2857142857,
          "index": 123,
          "int_col": 46,
          "str_col": "foobar"
         },
         {
          "float_col": 15.7142857143,
          "index": 124,
          "int_col": 30,
          "str_col": "foobar"
         },
         {
          "float_col": 10,
          "index": 125,
          "int_col": 13,
          "str_col": "foobar"
         },
         {
          "float_col": 21.4285714286,
          "index": 126,
          "int_col": 49,
          "str_col": "foobar"
         },
         {
          "float_col": 31.4285714286,
          "index": 127,
          "int_col": 20,
          "str_col": "foobar"
         },
         {
          "float_col": 15.7142857143,
          "index": 128,
          "int_col": 37,
          "str_col": "foobar"
         },
         {
          "float_col": 40,
          "index": 129,
          "int_col": 27,
          "str_col": "foobar"
         },
         {
          "float_col": 41.4285714286,
          "index": 130,
          "int_col": 5,
          "str_col": "foobar"
         },
         {
          "float_col": 35.7142857143,
          "index": 131,
          "int_col": 37,
          "str_col": "foobar"
         },
         {
          "float_col": 35.7142857143,
          "index": 132,
          "int_col": 20,
          "str_col": "foobar"
         },
         {
          "float_col": 20,
          "index": 133,
          "int_col": 15,
          "str_col": "foobar"
         },
         {
          "float_col": 28.5714285714,
          "index": 134,
          "int_col": 15,
          "str_col": "foobar"
         },
         {
          "float_col": 27.1428571429,
          "index": 135,
          "int_col": 22,
          "str_col": "foobar"
         },
         {
          "float_col": 40,
          "index": 136,
          "int_col": 13,
          "str_col": "foobar"
         },
         {
          "float_col": 5.7142857143,
          "index": 137,
          "int_col": 14,
          "str_col": "foobar"
         },
         {
          "float_col": 4.2857142857,
          "index": 138,
          "int_col": 16,
          "str_col": "foobar"
         },
         {
          "float_col": 25.7142857143,
          "index": 139,
          "int_col": 4,
          "str_col": "foobar"
         },
         {
          "float_col": 10,
          "index": 140,
          "int_col": 2,
          "str_col": "foobar"
         },
         {
          "float_col": 30,
          "index": 141,
          "int_col": 22,
          "str_col": "foobar"
         },
         {
          "float_col": 10,
          "index": 142,
          "int_col": 24,
          "str_col": "foobar"
         },
         {
          "float_col": 12.8571428571,
          "index": 143,
          "int_col": 29,
          "str_col": "foobar"
         },
         {
          "float_col": 25.7142857143,
          "index": 144,
          "int_col": 3,
          "str_col": "foobar"
         },
         {
          "float_col": 12.8571428571,
          "index": 145,
          "int_col": 40,
          "str_col": "foobar"
         },
         {
          "float_col": 10,
          "index": 146,
          "int_col": 49,
          "str_col": "foobar"
         },
         {
          "float_col": 17.1428571429,
          "index": 147,
          "int_col": 4,
          "str_col": "foobar"
         },
         {
          "float_col": 15.7142857143,
          "index": 148,
          "int_col": 41,
          "str_col": "foobar"
         },
         {
          "float_col": 11.4285714286,
          "index": 149,
          "int_col": 44,
          "str_col": "foobar"
         },
         {
          "float_col": 12.8571428571,
          "index": 150,
          "int_col": 39,
          "str_col": "foobar"
         },
         {
          "float_col": 32.8571428571,
          "index": 151,
          "int_col": 16,
          "str_col": "foobar"
         },
         {
          "float_col": 34.2857142857,
          "index": 152,
          "int_col": 20,
          "str_col": "foobar"
         },
         {
          "float_col": 10,
          "index": 153,
          "int_col": 49,
          "str_col": "foobar"
         },
         {
          "float_col": 31.4285714286,
          "index": 154,
          "int_col": 37,
          "str_col": "foobar"
         },
         {
          "float_col": 35.7142857143,
          "index": 155,
          "int_col": 48,
          "str_col": "foobar"
         },
         {
          "float_col": 22.8571428571,
          "index": 156,
          "int_col": 29,
          "str_col": "foobar"
         },
         {
          "float_col": 14.2857142857,
          "index": 157,
          "int_col": 4,
          "str_col": "foobar"
         },
         {
          "float_col": 27.1428571429,
          "index": 158,
          "int_col": 49,
          "str_col": "foobar"
         },
         {
          "float_col": 4.2857142857,
          "index": 159,
          "int_col": 37,
          "str_col": "foobar"
         },
         {
          "float_col": 40,
          "index": 160,
          "int_col": 8,
          "str_col": "foobar"
         },
         {
          "float_col": 22.8571428571,
          "index": 161,
          "int_col": 40,
          "str_col": "foobar"
         },
         {
          "float_col": 11.4285714286,
          "index": 162,
          "int_col": 26,
          "str_col": "foobar"
         },
         {
          "float_col": 38.5714285714,
          "index": 163,
          "int_col": 46,
          "str_col": "foobar"
         },
         {
          "float_col": 2.8571428571,
          "index": 164,
          "int_col": 14,
          "str_col": "foobar"
         },
         {
          "float_col": 40,
          "index": 165,
          "int_col": 42,
          "str_col": "foobar"
         },
         {
          "float_col": 1.4285714286,
          "index": 166,
          "int_col": 42,
          "str_col": "foobar"
         },
         {
          "float_col": 11.4285714286,
          "index": 167,
          "int_col": 12,
          "str_col": "foobar"
         },
         {
          "float_col": 5.7142857143,
          "index": 168,
          "int_col": 41,
          "str_col": "foobar"
         },
         {
          "float_col": 17.1428571429,
          "index": 169,
          "int_col": 11,
          "str_col": "foobar"
         },
         {
          "float_col": 12.8571428571,
          "index": 170,
          "int_col": 26,
          "str_col": "foobar"
         },
         {
          "float_col": 8.5714285714,
          "index": 171,
          "int_col": 37,
          "str_col": "foobar"
         },
         {
          "float_col": 20,
          "index": 172,
          "int_col": 28,
          "str_col": "foobar"
         },
         {
          "float_col": 7.1428571429,
          "index": 173,
          "int_col": 30,
          "str_col": "foobar"
         },
         {
          "float_col": 5.7142857143,
          "index": 174,
          "int_col": 47,
          "str_col": "foobar"
         },
         {
          "float_col": 5.7142857143,
          "index": 175,
          "int_col": 10,
          "str_col": "foobar"
         },
         {
          "float_col": 21.4285714286,
          "index": 176,
          "int_col": 3,
          "str_col": "foobar"
         },
         {
          "float_col": 22.8571428571,
          "index": 177,
          "int_col": 17,
          "str_col": "foobar"
         },
         {
          "float_col": 28.5714285714,
          "index": 178,
          "int_col": 37,
          "str_col": "foobar"
         },
         {
          "float_col": 7.1428571429,
          "index": 179,
          "int_col": 27,
          "str_col": "foobar"
         },
         {
          "float_col": 35.7142857143,
          "index": 180,
          "int_col": 41,
          "str_col": "foobar"
         },
         {
          "float_col": 35.7142857143,
          "index": 181,
          "int_col": 23,
          "str_col": "foobar"
         },
         {
          "float_col": 17.1428571429,
          "index": 182,
          "int_col": 38,
          "str_col": "foobar"
         },
         {
          "float_col": 25.7142857143,
          "index": 183,
          "int_col": 42,
          "str_col": "foobar"
         },
         {
          "float_col": 5.7142857143,
          "index": 184,
          "int_col": 24,
          "str_col": "foobar"
         },
         {
          "float_col": 38.5714285714,
          "index": 185,
          "int_col": 32,
          "str_col": "foobar"
         },
         {
          "float_col": 40,
          "index": 186,
          "int_col": 3,
          "str_col": "foobar"
         },
         {
          "float_col": 24.2857142857,
          "index": 187,
          "int_col": 15,
          "str_col": "foobar"
         },
         {
          "float_col": 5.7142857143,
          "index": 188,
          "int_col": 5,
          "str_col": "foobar"
         },
         {
          "float_col": 20,
          "index": 189,
          "int_col": 26,
          "str_col": "foobar"
         },
         {
          "float_col": 24.2857142857,
          "index": 190,
          "int_col": 5,
          "str_col": "foobar"
         },
         {
          "float_col": 4.2857142857,
          "index": 191,
          "int_col": 43,
          "str_col": "foobar"
         },
         {
          "float_col": 37.1428571429,
          "index": 192,
          "int_col": 7,
          "str_col": "foobar"
         },
         {
          "float_col": 18.5714285714,
          "index": 193,
          "int_col": 31,
          "str_col": "foobar"
         },
         {
          "float_col": 31.4285714286,
          "index": 194,
          "int_col": 27,
          "str_col": "foobar"
         },
         {
          "float_col": 10,
          "index": 195,
          "int_col": 4,
          "str_col": "foobar"
         },
         {
          "float_col": 20,
          "index": 196,
          "int_col": 44,
          "str_col": "foobar"
         },
         {
          "float_col": 38.5714285714,
          "index": 197,
          "int_col": 22,
          "str_col": "foobar"
         },
         {
          "float_col": 20,
          "index": 198,
          "int_col": 31,
          "str_col": "foobar"
         },
         {
          "float_col": 8.5714285714,
          "index": 199,
          "int_col": 34,
          "str_col": "foobar"
         }
        ]
       },
       "df_display_args": {
        "main": {
         "data_key": "main",
         "df_viewer_config": {
          "column_config": [
           {
            "col_name": "index",
            "displayer_args": {
             "displayer": "obj"
            }
           },
           {
            "col_name": "int_col",
            "displayer_args": {
             "displayer": "float",
             "maximumFractionDigits": 0,
             "minimumFractionDigits": 0
            }
           },
           {
            "col_name": "float_col",
            "displayer_args": {
             "displayer": "float",
             "maximumFractionDigits": 3,
             "minimumFractionDigits": 3
            }
           },
           {
            "col_name": "str_col",
            "displayer_args": {
             "displayer": "obj"
            }
           }
          ],
          "pinned_rows": [
           {
            "displayer_args": {
             "displayer": "obj"
            },
            "primary_key_val": "dtype"
           },
           {
            "displayer_args": {
             "displayer": "histogram"
            },
            "primary_key_val": "histogram"
           }
          ]
         },
         "summary_stats_key": "all_stats"
        },
        "summary": {
         "data_key": "empty",
         "df_viewer_config": {
          "column_config": [
           {
            "col_name": "index",
            "displayer_args": {
             "displayer": "obj"
            }
           },
           {
            "col_name": "int_col",
            "displayer_args": {
             "displayer": "obj"
            }
           },
           {
            "col_name": "float_col",
            "displayer_args": {
             "displayer": "obj"
            }
           },
           {
            "col_name": "str_col",
            "displayer_args": {
             "displayer": "obj"
            }
           }
          ],
          "pinned_rows": [
           {
            "displayer_args": {
             "displayer": "obj"
            },
            "primary_key_val": "dtype"
           },
           {
            "displayer_args": {
             "displayer": "float",
             "maximumFractionDigits": 3,
             "minimum_FractionDigits": 3
            },
            "primary_key_val": "min"
           },
           {
            "displayer_args": {
             "displayer": "float",
             "maximumFractionDigits": 3,
             "minimum_FractionDigits": 3
            },
            "primary_key_val": "mean"
           },
           {
            "displayer_args": {
             "displayer": "float",
             "maximumFractionDigits": 3,
             "minimum_FractionDigits": 3
            },
            "primary_key_val": "max"
           },
           {
            "displayer_args": {
             "displayer": "float",
             "maximumFractionDigits": 0,
             "minimum_FractionDigits": 0
            },
            "primary_key_val": "unique_count"
           },
           {
            "displayer_args": {
             "displayer": "float",
             "maximumFractionDigits": 0,
             "minimum_FractionDigits": 0
            },
            "primary_key_val": "distinct_count"
           },
           {
            "displayer_args": {
             "displayer": "float",
             "maximumFractionDigits": 0,
             "minimum_FractionDigits": 0
            },
            "primary_key_val": "empty_count"
           }
          ]
         },
         "summary_stats_key": "all_stats"
        }
       },
       "df_meta": {
        "columns": 3,
        "rows_shown": 200,
        "total_rows": 200
       },
       "layout": "IPY_MODEL_df6ebc64e90546bdaa042604150bf4f9",
       "operation_results": {
        "generated_py_code": "# instantiation, unused",
        "transformed_df": {
         "column_config": [],
         "data": [],
         "pinned_rows": []
        }
       },
       "operations": []
      }
     },
     "816dfb35c1a54b4c827b60984f81e8b4": {
      "model_module": "buckaroo",
      "model_module_version": "^0.5.1",
      "model_name": "DCEFWidgetModel",
      "state": {
       "_model_module_version": "^0.5.1",
       "_view_module_version": "^0.5.1",
       "_view_name": "DCEFWidgetView",
       "buckaroo_options": {
        "auto_clean": [
         "aggressive",
         "conservative"
        ],
        "df_display": [
         "summary",
         "main"
        ],
        "post_processing": [
         ""
        ],
        "sampled": [
         "random"
        ],
        "show_commands": [
         "on"
        ],
        "summary_stats": [
         "all"
        ]
       },
       "buckaroo_state": {
        "auto_clean": "conservative",
        "df_display": "main",
        "post_processing": "",
        "sampled": false,
        "search_string": "",
        "show_commands": false
       },
       "commandConfig": {
        "argspecs": {
         "dropcol": [
          null
         ],
         "fillna": [
          [
           3,
           "fillVal",
           "type",
           "integer"
          ]
         ],
         "groupby": [
          [
           3,
           "colMap",
           "colEnum",
           [
            "null",
            "sum",
            "mean",
            "median",
            "count"
           ]
          ]
         ],
         "onehot": [
          null
         ],
         "reindex": [
          null
         ],
         "safeint": [
          null
         ],
         "to_bool": [
          null
         ],
         "to_datetime": [
          null
         ],
         "to_float": [
          null
         ],
         "to_int": [
          null
         ],
         "to_string": [
          null
         ]
        },
        "defaultArgs": {
         "dropcol": [
          {
           "symbol": "dropcol"
          },
          {
           "symbol": "df"
          },
          "col"
         ],
         "fillna": [
          {
           "symbol": "fillna"
          },
          {
           "symbol": "df"
          },
          "col",
          8
         ],
         "groupby": [
          {
           "symbol": "groupby"
          },
          {
           "symbol": "df"
          },
          "col",
          {}
         ],
         "onehot": [
          {
           "symbol": "onehot"
          },
          {
           "symbol": "df"
          },
          "col"
         ],
         "reindex": [
          {
           "symbol": "reindex"
          },
          {
           "symbol": "df"
          },
          "col"
         ],
         "safeint": [
          {
           "symbol": "safeint"
          },
          {
           "symbol": "df"
          },
          "col"
         ],
         "to_bool": [
          {
           "symbol": "to_bool"
          },
          {
           "symbol": "df"
          },
          "col"
         ],
         "to_datetime": [
          {
           "symbol": "to_datetime"
          },
          {
           "symbol": "df"
          },
          "col"
         ],
         "to_float": [
          {
           "symbol": "to_float"
          },
          {
           "symbol": "df"
          },
          "col"
         ],
         "to_int": [
          {
           "symbol": "to_int"
          },
          {
           "symbol": "df"
          },
          "col"
         ],
         "to_string": [
          {
           "symbol": "to_string"
          },
          {
           "symbol": "df"
          },
          "col"
         ]
        }
       },
       "df_data_dict": {
        "all_stats": [
         {
          "float_col": "shape: (29,)\nSeries: '' [struct[2]]\n[\n\t{10.0,12}\n\t{11.428571,11}\n\t{20.0,11}\n\t{31.428571,10}\n\t{40.0,10}\n\t{8.571429,9}\n\t{7.142857,9}\n\t{25.714286,8}\n\t{27.142857,8}\n\t{5.714286,8}\n\t{14.285714,7}\n\t{21.428571,7}\n\t…\n\t{17.142857,6}\n\t{4.285714,6}\n\t{15.714286,6}\n\t{32.857143,5}\n\t{38.571429,5}\n\t{30.0,5}\n\t{2.857143,5}\n\t{41.428571,4}\n\t{28.571429,4}\n\t{24.285714,4}\n\t{34.285714,4}\n\t{18.571429,4}\n\t{37.142857,4}\n]",
          "index": "value_counts",
          "int_col": "shape: (49,)\nSeries: '' [struct[2]]\n[\n\t{4,10}\n\t{49,9}\n\t{37,9}\n\t{13,7}\n\t{33,6}\n\t{41,6}\n\t{40,5}\n\t{23,5}\n\t{46,5}\n\t{32,5}\n\t{45,5}\n\t{14,5}\n\t…\n\t{7,3}\n\t{48,3}\n\t{2,3}\n\t{44,3}\n\t{20,3}\n\t{35,2}\n\t{36,2}\n\t{24,2}\n\t{18,1}\n\t{21,1}\n\t{25,1}\n\t{19,1}\n\t{47,1}\n]",
          "str_col": "shape: (1,)\nSeries: '' [struct[2]]\n[\n\t{\"foobar\",200}\n]"
         },
         {
          "float_col": 200,
          "index": "length",
          "int_col": 200,
          "str_col": 200
         },
         {
          "float_col": 0,
          "index": "nan_count",
          "int_col": 0,
          "str_col": 0
         },
         {
          "float_col": 1.4285714286,
          "index": "min",
          "int_col": 1,
          "str_col": "foobar"
         },
         {
          "float_col": 41.4285714286,
          "index": "max",
          "int_col": 49,
          "str_col": "foobar"
         },
         {
          "float_col": 20.1571428571,
          "index": "mean",
          "int_col": 25.425,
          "str_col": null
         },
         {
          "float_col": 0,
          "index": "unique_count",
          "int_col": 5,
          "str_col": 0
         },
         {
          "float_col": "Float64",
          "index": "dtype",
          "int_col": "Int64",
          "str_col": "String"
         },
         {
          "float_col": {
           "high_tail": 41.4285714286,
           "low_tail": 1.4285714286,
           "meat_histogram": [
            [
             11,
             26,
             30,
             13,
             21,
             18,
             20,
             20,
             11,
             19
            ],
            [
             1.4285714286,
             5,
             9,
             13,
             17,
             21,
             25,
             29,
             33,
             37,
             41.4285714286
            ]
           ],
           "normalized_populations": [
            0.0582010582,
            0.1375661376,
            0.1587301587,
            0.0687830688,
            0.1111111111,
            0.0952380952,
            0.1058201058,
            0.1058201058,
            0.0582010582,
            0.1005291005
           ]
          },
          "index": "histogram_args",
          "int_col": {
           "high_tail": 49,
           "low_tail": 1,
           "meat_histogram": [
            [
             21,
             18,
             25,
             14,
             14,
             16,
             23,
             21,
             22,
             14
            ],
            [
             1,
             5.8,
             10.6,
             15.4,
             20.2,
             25,
             29.8,
             34.6,
             39.4,
             44.2,
             49
            ]
           ],
           "normalized_populations": [
            0.1117021277,
            0.0957446809,
            0.1329787234,
            0.0744680851,
            0.0744680851,
            0.085106383,
            0.1223404255,
            0.1117021277,
            0.1170212766,
            0.0744680851
           ]
          },
          "str_col": null
         },
         {
          "float_col": true,
          "index": "is_numeric",
          "int_col": true,
          "str_col": false
         },
         {
          "float_col": false,
          "index": "is_integer",
          "int_col": true,
          "str_col": false
         },
         {
          "float_col": "float",
          "index": "_type",
          "int_col": "integer",
          "str_col": "string"
         },
         {
          "float_col": 10,
          "index": "mode",
          "int_col": 4,
          "str_col": "foobar"
         },
         {
          "float_col": 29,
          "index": "distinct_count",
          "int_col": 49,
          "str_col": 1
         },
         {
          "float_col": "float",
          "index": "type",
          "int_col": "integer",
          "str_col": "string"
         },
         {
          "float_col": 1,
          "index": "min_digits",
          "int_col": 1,
          "str_col": null
         },
         {
          "float_col": 2,
          "index": "max_digits",
          "int_col": 2,
          "str_col": null
         },
         {
          "float_col": 0.145,
          "index": "distinct_per",
          "int_col": 0.245,
          "str_col": 0.005
         },
         {
          "float_col": 0,
          "index": "empty_per",
          "int_col": 0,
          "str_col": 0
         },
         {
          "float_col": 0,
          "index": "unique_per",
          "int_col": 0.025,
          "str_col": 0
         },
         {
          "float_col": 0,
          "index": "nan_per",
          "int_col": 0,
          "str_col": 0
         },
         {
          "float_col": [
           {
            "name": "1.4285714285714286 - 1.4285714285714286",
            "tail": 1
           },
           {
            "name": "1-5",
            "population": 6
           },
           {
            "name": "5-9",
            "population": 14
           },
           {
            "name": "9-13",
            "population": 16
           },
           {
            "name": "13-17",
            "population": 7
           },
           {
            "name": "17-21",
            "population": 11
           },
           {
            "name": "21-25",
            "population": 10
           },
           {
            "name": "25-29",
            "population": 11
           },
           {
            "name": "29-33",
            "population": 11
           },
           {
            "name": "33-37",
            "population": 6
           },
           {
            "name": "37-41",
            "population": 10
           },
           {
            "name": "41.42857142857143 - 41.42857142857143",
            "tail": 1
           }
          ],
          "index": "histogram",
          "int_col": [
           {
            "name": "1 - 1.0",
            "tail": 1
           },
           {
            "name": "1-6",
            "population": 11
           },
           {
            "name": "6-11",
            "population": 10
           },
           {
            "name": "11-15",
            "population": 13
           },
           {
            "name": "15-20",
            "population": 7
           },
           {
            "name": "20-25",
            "population": 7
           },
           {
            "name": "25-30",
            "population": 9
           },
           {
            "name": "30-35",
            "population": 12
           },
           {
            "name": "35-39",
            "population": 11
           },
           {
            "name": "39-44",
            "population": 12
           },
           {
            "name": "44-49",
            "population": 7
           },
           {
            "name": "49.0 - 49",
            "tail": 1
           }
          ],
          "str_col": [
           {
            "cat_pop": 100,
            "name": "foobar"
           }
          ]
         },
         {
          "float_col": [
           1.4285714286,
           5,
           9,
           13,
           17,
           21,
           25,
           29,
           33,
           37,
           41.4285714286
          ],
          "index": "histogram_bins",
          "int_col": [
           1,
           5.8,
           10.6,
           15.4,
           20.2,
           25,
           29.8,
           34.6,
           39.4,
           44.2,
           49
          ],
          "str_col": [
           "faked"
          ]
         },
         {
          "float_col": null,
          "index": "empty_count",
          "int_col": null,
          "str_col": 0
         },
         {
          "float_col": null,
          "index": "categorical_histogram",
          "int_col": null,
          "str_col": {
           "foobar": 1,
           "longtail": 0,
           "unique": 0
          }
         }
        ],
        "empty": [],
        "main": [
         {
          "float_col": 8.5714285714,
          "index": 0,
          "int_col": 40,
          "str_col": "foobar"
         },
         {
          "float_col": 11.4285714286,
          "index": 1,
          "int_col": 3,
          "str_col": "foobar"
         },
         {
          "float_col": 31.4285714286,
          "index": 2,
          "int_col": 28,
          "str_col": "foobar"
         },
         {
          "float_col": 17.1428571429,
          "index": 3,
          "int_col": 17,
          "str_col": "foobar"
         },
         {
          "float_col": 8.5714285714,
          "index": 4,
          "int_col": 34,
          "str_col": "foobar"
         },
         {
          "float_col": 14.2857142857,
          "index": 5,
          "int_col": 38,
          "str_col": "foobar"
         },
         {
          "float_col": 41.4285714286,
          "index": 6,
          "int_col": 23,
          "str_col": "foobar"
         },
         {
          "float_col": 11.4285714286,
          "index": 7,
          "int_col": 1,
          "str_col": "foobar"
         },
         {
          "float_col": 25.7142857143,
          "index": 8,
          "int_col": 9,
          "str_col": "foobar"
         },
         {
          "float_col": 20,
          "index": 9,
          "int_col": 46,
          "str_col": "foobar"
         },
         {
          "float_col": 10,
          "index": 10,
          "int_col": 12,
          "str_col": "foobar"
         },
         {
          "float_col": 28.5714285714,
          "index": 11,
          "int_col": 33,
          "str_col": "foobar"
         },
         {
          "float_col": 24.2857142857,
          "index": 12,
          "int_col": 35,
          "str_col": "foobar"
         },
         {
          "float_col": 21.4285714286,
          "index": 13,
          "int_col": 4,
          "str_col": "foobar"
         },
         {
          "float_col": 1.4285714286,
          "index": 14,
          "int_col": 36,
          "str_col": "foobar"
         },
         {
          "float_col": 41.4285714286,
          "index": 15,
          "int_col": 12,
          "str_col": "foobar"
         },
         {
          "float_col": 10,
          "index": 16,
          "int_col": 32,
          "str_col": "foobar"
         },
         {
          "float_col": 11.4285714286,
          "index": 17,
          "int_col": 9,
          "str_col": "foobar"
         },
         {
          "float_col": 7.1428571429,
          "index": 18,
          "int_col": 1,
          "str_col": "foobar"
         },
         {
          "float_col": 20,
          "index": 19,
          "int_col": 46,
          "str_col": "foobar"
         },
         {
          "float_col": 1.4285714286,
          "index": 20,
          "int_col": 34,
          "str_col": "foobar"
         },
         {
          "float_col": 34.2857142857,
          "index": 21,
          "int_col": 45,
          "str_col": "foobar"
         },
         {
          "float_col": 11.4285714286,
          "index": 22,
          "int_col": 49,
          "str_col": "foobar"
         },
         {
          "float_col": 32.8571428571,
          "index": 23,
          "int_col": 14,
          "str_col": "foobar"
         },
         {
          "float_col": 35.7142857143,
          "index": 24,
          "int_col": 49,
          "str_col": "foobar"
         },
         {
          "float_col": 17.1428571429,
          "index": 25,
          "int_col": 39,
          "str_col": "foobar"
         },
         {
          "float_col": 38.5714285714,
          "index": 26,
          "int_col": 28,
          "str_col": "foobar"
         },
         {
          "float_col": 27.1428571429,
          "index": 27,
          "int_col": 18,
          "str_col": "foobar"
         },
         {
          "float_col": 4.2857142857,
          "index": 28,
          "int_col": 4,
          "str_col": "foobar"
         },
         {
          "float_col": 17.1428571429,
          "index": 29,
          "int_col": 10,
          "str_col": "foobar"
         },
         {
          "float_col": 22.8571428571,
          "index": 30,
          "int_col": 12,
          "str_col": "foobar"
         },
         {
          "float_col": 27.1428571429,
          "index": 31,
          "int_col": 8,
          "str_col": "foobar"
         },
         {
          "float_col": 14.2857142857,
          "index": 32,
          "int_col": 43,
          "str_col": "foobar"
         },
         {
          "float_col": 7.1428571429,
          "index": 33,
          "int_col": 13,
          "str_col": "foobar"
         },
         {
          "float_col": 7.1428571429,
          "index": 34,
          "int_col": 23,
          "str_col": "foobar"
         },
         {
          "float_col": 30,
          "index": 35,
          "int_col": 36,
          "str_col": "foobar"
         },
         {
          "float_col": 41.4285714286,
          "index": 36,
          "int_col": 16,
          "str_col": "foobar"
         },
         {
          "float_col": 22.8571428571,
          "index": 37,
          "int_col": 28,
          "str_col": "foobar"
         },
         {
          "float_col": 20,
          "index": 38,
          "int_col": 43,
          "str_col": "foobar"
         },
         {
          "float_col": 28.5714285714,
          "index": 39,
          "int_col": 10,
          "str_col": "foobar"
         },
         {
          "float_col": 12.8571428571,
          "index": 40,
          "int_col": 37,
          "str_col": "foobar"
         },
         {
          "float_col": 15.7142857143,
          "index": 41,
          "int_col": 6,
          "str_col": "foobar"
         },
         {
          "float_col": 21.4285714286,
          "index": 42,
          "int_col": 49,
          "str_col": "foobar"
         },
         {
          "float_col": 5.7142857143,
          "index": 43,
          "int_col": 4,
          "str_col": "foobar"
         },
         {
          "float_col": 38.5714285714,
          "index": 44,
          "int_col": 45,
          "str_col": "foobar"
         },
         {
          "float_col": 12.8571428571,
          "index": 45,
          "int_col": 37,
          "str_col": "foobar"
         },
         {
          "float_col": 18.5714285714,
          "index": 46,
          "int_col": 41,
          "str_col": "foobar"
         },
         {
          "float_col": 8.5714285714,
          "index": 47,
          "int_col": 23,
          "str_col": "foobar"
         },
         {
          "float_col": 11.4285714286,
          "index": 48,
          "int_col": 13,
          "str_col": "foobar"
         },
         {
          "float_col": 10,
          "index": 49,
          "int_col": 13,
          "str_col": "foobar"
         },
         {
          "float_col": 24.2857142857,
          "index": 50,
          "int_col": 10,
          "str_col": "foobar"
         },
         {
          "float_col": 20,
          "index": 51,
          "int_col": 49,
          "str_col": "foobar"
         },
         {
          "float_col": 27.1428571429,
          "index": 52,
          "int_col": 17,
          "str_col": "foobar"
         },
         {
          "float_col": 27.1428571429,
          "index": 53,
          "int_col": 7,
          "str_col": "foobar"
         },
         {
          "float_col": 32.8571428571,
          "index": 54,
          "int_col": 9,
          "str_col": "foobar"
         },
         {
          "float_col": 8.5714285714,
          "index": 55,
          "int_col": 26,
          "str_col": "foobar"
         },
         {
          "float_col": 21.4285714286,
          "index": 56,
          "int_col": 11,
          "str_col": "foobar"
         },
         {
          "float_col": 8.5714285714,
          "index": 57,
          "int_col": 29,
          "str_col": "foobar"
         },
         {
          "float_col": 7.1428571429,
          "index": 58,
          "int_col": 13,
          "str_col": "foobar"
         },
         {
          "float_col": 35.7142857143,
          "index": 59,
          "int_col": 48,
          "str_col": "foobar"
         },
         {
          "float_col": 30,
          "index": 60,
          "int_col": 4,
          "str_col": "foobar"
         },
         {
          "float_col": 25.7142857143,
          "index": 61,
          "int_col": 2,
          "str_col": "foobar"
         },
         {
          "float_col": 14.2857142857,
          "index": 62,
          "int_col": 21,
          "str_col": "foobar"
         },
         {
          "float_col": 12.8571428571,
          "index": 63,
          "int_col": 31,
          "str_col": "foobar"
         },
         {
          "float_col": 25.7142857143,
          "index": 64,
          "int_col": 1,
          "str_col": "foobar"
         },
         {
          "float_col": 25.7142857143,
          "index": 65,
          "int_col": 33,
          "str_col": "foobar"
         },
         {
          "float_col": 1.4285714286,
          "index": 66,
          "int_col": 14,
          "str_col": "foobar"
         },
         {
          "float_col": 2.8571428571,
          "index": 67,
          "int_col": 43,
          "str_col": "foobar"
         },
         {
          "float_col": 40,
          "index": 68,
          "int_col": 33,
          "str_col": "foobar"
         },
         {
          "float_col": 2.8571428571,
          "index": 69,
          "int_col": 41,
          "str_col": "foobar"
         },
         {
          "float_col": 7.1428571429,
          "index": 70,
          "int_col": 14,
          "str_col": "foobar"
         },
         {
          "float_col": 18.5714285714,
          "index": 71,
          "int_col": 6,
          "str_col": "foobar"
         },
         {
          "float_col": 37.1428571429,
          "index": 72,
          "int_col": 46,
          "str_col": "foobar"
         },
         {
          "float_col": 32.8571428571,
          "index": 73,
          "int_col": 8,
          "str_col": "foobar"
         },
         {
          "float_col": 27.1428571429,
          "index": 74,
          "int_col": 38,
          "str_col": "foobar"
         },
         {
          "float_col": 10,
          "index": 75,
          "int_col": 32,
          "str_col": "foobar"
         },
         {
          "float_col": 1.4285714286,
          "index": 76,
          "int_col": 37,
          "str_col": "foobar"
         },
         {
          "float_col": 22.8571428571,
          "index": 77,
          "int_col": 48,
          "str_col": "foobar"
         },
         {
          "float_col": 11.4285714286,
          "index": 78,
          "int_col": 41,
          "str_col": "foobar"
         },
         {
          "float_col": 14.2857142857,
          "index": 79,
          "int_col": 13,
          "str_col": "foobar"
         },
         {
          "float_col": 31.4285714286,
          "index": 80,
          "int_col": 2,
          "str_col": "foobar"
         },
         {
          "float_col": 31.4285714286,
          "index": 81,
          "int_col": 30,
          "str_col": "foobar"
         },
         {
          "float_col": 11.4285714286,
          "index": 82,
          "int_col": 39,
          "str_col": "foobar"
         },
         {
          "float_col": 14.2857142857,
          "index": 83,
          "int_col": 16,
          "str_col": "foobar"
         },
         {
          "float_col": 31.4285714286,
          "index": 84,
          "int_col": 5,
          "str_col": "foobar"
         },
         {
          "float_col": 30,
          "index": 85,
          "int_col": 32,
          "str_col": "foobar"
         },
         {
          "float_col": 15.7142857143,
          "index": 86,
          "int_col": 31,
          "str_col": "foobar"
         },
         {
          "float_col": 7.1428571429,
          "index": 87,
          "int_col": 11,
          "str_col": "foobar"
         },
         {
          "float_col": 1.4285714286,
          "index": 88,
          "int_col": 30,
          "str_col": "foobar"
         },
         {
          "float_col": 2.8571428571,
          "index": 89,
          "int_col": 22,
          "str_col": "foobar"
         },
         {
          "float_col": 32.8571428571,
          "index": 90,
          "int_col": 49,
          "str_col": "foobar"
         },
         {
          "float_col": 5.7142857143,
          "index": 91,
          "int_col": 7,
          "str_col": "foobar"
         },
         {
          "float_col": 14.2857142857,
          "index": 92,
          "int_col": 11,
          "str_col": "foobar"
         },
         {
          "float_col": 21.4285714286,
          "index": 93,
          "int_col": 32,
          "str_col": "foobar"
         },
         {
          "float_col": 10,
          "index": 94,
          "int_col": 45,
          "str_col": "foobar"
         },
         {
          "float_col": 4.2857142857,
          "index": 95,
          "int_col": 25,
          "str_col": "foobar"
         },
         {
          "float_col": 20,
          "index": 96,
          "int_col": 40,
          "str_col": "foobar"
         },
         {
          "float_col": 8.5714285714,
          "index": 97,
          "int_col": 19,
          "str_col": "foobar"
         },
         {
          "float_col": 18.5714285714,
          "index": 98,
          "int_col": 35,
          "str_col": "foobar"
         },
         {
          "float_col": 7.1428571429,
          "index": 99,
          "int_col": 38,
          "str_col": "foobar"
         },
         {
          "float_col": 40,
          "index": 100,
          "int_col": 39,
          "str_col": "foobar"
         },
         {
          "float_col": 15.7142857143,
          "index": 101,
          "int_col": 33,
          "str_col": "foobar"
         },
         {
          "float_col": 27.1428571429,
          "index": 102,
          "int_col": 33,
          "str_col": "foobar"
         },
         {
          "float_col": 37.1428571429,
          "index": 103,
          "int_col": 15,
          "str_col": "foobar"
         },
         {
          "float_col": 2.8571428571,
          "index": 104,
          "int_col": 27,
          "str_col": "foobar"
         },
         {
          "float_col": 30,
          "index": 105,
          "int_col": 17,
          "str_col": "foobar"
         },
         {
          "float_col": 22.8571428571,
          "index": 106,
          "int_col": 34,
          "str_col": "foobar"
         },
         {
          "float_col": 31.4285714286,
          "index": 107,
          "int_col": 45,
          "str_col": "foobar"
         },
         {
          "float_col": 8.5714285714,
          "index": 108,
          "int_col": 45,
          "str_col": "foobar"
         },
         {
          "float_col": 4.2857142857,
          "index": 109,
          "int_col": 42,
          "str_col": "foobar"
         },
         {
          "float_col": 31.4285714286,
          "index": 110,
          "int_col": 29,
          "str_col": "foobar"
         },
         {
          "float_col": 10,
          "index": 111,
          "int_col": 8,
          "str_col": "foobar"
         },
         {
          "float_col": 21.4285714286,
          "index": 112,
          "int_col": 6,
          "str_col": "foobar"
         },
         {
          "float_col": 20,
          "index": 113,
          "int_col": 15,
          "str_col": "foobar"
         },
         {
          "float_col": 40,
          "index": 114,
          "int_col": 40,
          "str_col": "foobar"
         },
         {
          "float_col": 40,
          "index": 115,
          "int_col": 33,
          "str_col": "foobar"
         },
         {
          "float_col": 11.4285714286,
          "index": 116,
          "int_col": 22,
          "str_col": "foobar"
         },
         {
          "float_col": 31.4285714286,
          "index": 117,
          "int_col": 44,
          "str_col": "foobar"
         },
         {
          "float_col": 40,
          "index": 118,
          "int_col": 16,
          "str_col": "foobar"
         },
         {
          "float_col": 1.4285714286,
          "index": 119,
          "int_col": 4,
          "str_col": "foobar"
         },
         {
          "float_col": 25.7142857143,
          "index": 120,
          "int_col": 4,
          "str_col": "foobar"
         },
         {
          "float_col": 37.1428571429,
          "index": 121,
          "int_col": 8,
          "str_col": "foobar"
         },
         {
          "float_col": 34.2857142857,
          "index": 122,
          "int_col": 23,
          "str_col": "foobar"
         },
         {
          "float_col": 34.2857142857,
          "index": 123,
          "int_col": 46,
          "str_col": "foobar"
         },
         {
          "float_col": 15.7142857143,
          "index": 124,
          "int_col": 30,
          "str_col": "foobar"
         },
         {
          "float_col": 10,
          "index": 125,
          "int_col": 13,
          "str_col": "foobar"
         },
         {
          "float_col": 21.4285714286,
          "index": 126,
          "int_col": 49,
          "str_col": "foobar"
         },
         {
          "float_col": 31.4285714286,
          "index": 127,
          "int_col": 20,
          "str_col": "foobar"
         },
         {
          "float_col": 15.7142857143,
          "index": 128,
          "int_col": 37,
          "str_col": "foobar"
         },
         {
          "float_col": 40,
          "index": 129,
          "int_col": 27,
          "str_col": "foobar"
         },
         {
          "float_col": 41.4285714286,
          "index": 130,
          "int_col": 5,
          "str_col": "foobar"
         },
         {
          "float_col": 35.7142857143,
          "index": 131,
          "int_col": 37,
          "str_col": "foobar"
         },
         {
          "float_col": 35.7142857143,
          "index": 132,
          "int_col": 20,
          "str_col": "foobar"
         },
         {
          "float_col": 20,
          "index": 133,
          "int_col": 15,
          "str_col": "foobar"
         },
         {
          "float_col": 28.5714285714,
          "index": 134,
          "int_col": 15,
          "str_col": "foobar"
         },
         {
          "float_col": 27.1428571429,
          "index": 135,
          "int_col": 22,
          "str_col": "foobar"
         },
         {
          "float_col": 40,
          "index": 136,
          "int_col": 13,
          "str_col": "foobar"
         },
         {
          "float_col": 5.7142857143,
          "index": 137,
          "int_col": 14,
          "str_col": "foobar"
         },
         {
          "float_col": 4.2857142857,
          "index": 138,
          "int_col": 16,
          "str_col": "foobar"
         },
         {
          "float_col": 25.7142857143,
          "index": 139,
          "int_col": 4,
          "str_col": "foobar"
         },
         {
          "float_col": 10,
          "index": 140,
          "int_col": 2,
          "str_col": "foobar"
         },
         {
          "float_col": 30,
          "index": 141,
          "int_col": 22,
          "str_col": "foobar"
         },
         {
          "float_col": 10,
          "index": 142,
          "int_col": 24,
          "str_col": "foobar"
         },
         {
          "float_col": 12.8571428571,
          "index": 143,
          "int_col": 29,
          "str_col": "foobar"
         },
         {
          "float_col": 25.7142857143,
          "index": 144,
          "int_col": 3,
          "str_col": "foobar"
         },
         {
          "float_col": 12.8571428571,
          "index": 145,
          "int_col": 40,
          "str_col": "foobar"
         },
         {
          "float_col": 10,
          "index": 146,
          "int_col": 49,
          "str_col": "foobar"
         },
         {
          "float_col": 17.1428571429,
          "index": 147,
          "int_col": 4,
          "str_col": "foobar"
         },
         {
          "float_col": 15.7142857143,
          "index": 148,
          "int_col": 41,
          "str_col": "foobar"
         },
         {
          "float_col": 11.4285714286,
          "index": 149,
          "int_col": 44,
          "str_col": "foobar"
         },
         {
          "float_col": 12.8571428571,
          "index": 150,
          "int_col": 39,
          "str_col": "foobar"
         },
         {
          "float_col": 32.8571428571,
          "index": 151,
          "int_col": 16,
          "str_col": "foobar"
         },
         {
          "float_col": 34.2857142857,
          "index": 152,
          "int_col": 20,
          "str_col": "foobar"
         },
         {
          "float_col": 10,
          "index": 153,
          "int_col": 49,
          "str_col": "foobar"
         },
         {
          "float_col": 31.4285714286,
          "index": 154,
          "int_col": 37,
          "str_col": "foobar"
         },
         {
          "float_col": 35.7142857143,
          "index": 155,
          "int_col": 48,
          "str_col": "foobar"
         },
         {
          "float_col": 22.8571428571,
          "index": 156,
          "int_col": 29,
          "str_col": "foobar"
         },
         {
          "float_col": 14.2857142857,
          "index": 157,
          "int_col": 4,
          "str_col": "foobar"
         },
         {
          "float_col": 27.1428571429,
          "index": 158,
          "int_col": 49,
          "str_col": "foobar"
         },
         {
          "float_col": 4.2857142857,
          "index": 159,
          "int_col": 37,
          "str_col": "foobar"
         },
         {
          "float_col": 40,
          "index": 160,
          "int_col": 8,
          "str_col": "foobar"
         },
         {
          "float_col": 22.8571428571,
          "index": 161,
          "int_col": 40,
          "str_col": "foobar"
         },
         {
          "float_col": 11.4285714286,
          "index": 162,
          "int_col": 26,
          "str_col": "foobar"
         },
         {
          "float_col": 38.5714285714,
          "index": 163,
          "int_col": 46,
          "str_col": "foobar"
         },
         {
          "float_col": 2.8571428571,
          "index": 164,
          "int_col": 14,
          "str_col": "foobar"
         },
         {
          "float_col": 40,
          "index": 165,
          "int_col": 42,
          "str_col": "foobar"
         },
         {
          "float_col": 1.4285714286,
          "index": 166,
          "int_col": 42,
          "str_col": "foobar"
         },
         {
          "float_col": 11.4285714286,
          "index": 167,
          "int_col": 12,
          "str_col": "foobar"
         },
         {
          "float_col": 5.7142857143,
          "index": 168,
          "int_col": 41,
          "str_col": "foobar"
         },
         {
          "float_col": 17.1428571429,
          "index": 169,
          "int_col": 11,
          "str_col": "foobar"
         },
         {
          "float_col": 12.8571428571,
          "index": 170,
          "int_col": 26,
          "str_col": "foobar"
         },
         {
          "float_col": 8.5714285714,
          "index": 171,
          "int_col": 37,
          "str_col": "foobar"
         },
         {
          "float_col": 20,
          "index": 172,
          "int_col": 28,
          "str_col": "foobar"
         },
         {
          "float_col": 7.1428571429,
          "index": 173,
          "int_col": 30,
          "str_col": "foobar"
         },
         {
          "float_col": 5.7142857143,
          "index": 174,
          "int_col": 47,
          "str_col": "foobar"
         },
         {
          "float_col": 5.7142857143,
          "index": 175,
          "int_col": 10,
          "str_col": "foobar"
         },
         {
          "float_col": 21.4285714286,
          "index": 176,
          "int_col": 3,
          "str_col": "foobar"
         },
         {
          "float_col": 22.8571428571,
          "index": 177,
          "int_col": 17,
          "str_col": "foobar"
         },
         {
          "float_col": 28.5714285714,
          "index": 178,
          "int_col": 37,
          "str_col": "foobar"
         },
         {
          "float_col": 7.1428571429,
          "index": 179,
          "int_col": 27,
          "str_col": "foobar"
         },
         {
          "float_col": 35.7142857143,
          "index": 180,
          "int_col": 41,
          "str_col": "foobar"
         },
         {
          "float_col": 35.7142857143,
          "index": 181,
          "int_col": 23,
          "str_col": "foobar"
         },
         {
          "float_col": 17.1428571429,
          "index": 182,
          "int_col": 38,
          "str_col": "foobar"
         },
         {
          "float_col": 25.7142857143,
          "index": 183,
          "int_col": 42,
          "str_col": "foobar"
         },
         {
          "float_col": 5.7142857143,
          "index": 184,
          "int_col": 24,
          "str_col": "foobar"
         },
         {
          "float_col": 38.5714285714,
          "index": 185,
          "int_col": 32,
          "str_col": "foobar"
         },
         {
          "float_col": 40,
          "index": 186,
          "int_col": 3,
          "str_col": "foobar"
         },
         {
          "float_col": 24.2857142857,
          "index": 187,
          "int_col": 15,
          "str_col": "foobar"
         },
         {
          "float_col": 5.7142857143,
          "index": 188,
          "int_col": 5,
          "str_col": "foobar"
         },
         {
          "float_col": 20,
          "index": 189,
          "int_col": 26,
          "str_col": "foobar"
         },
         {
          "float_col": 24.2857142857,
          "index": 190,
          "int_col": 5,
          "str_col": "foobar"
         },
         {
          "float_col": 4.2857142857,
          "index": 191,
          "int_col": 43,
          "str_col": "foobar"
         },
         {
          "float_col": 37.1428571429,
          "index": 192,
          "int_col": 7,
          "str_col": "foobar"
         },
         {
          "float_col": 18.5714285714,
          "index": 193,
          "int_col": 31,
          "str_col": "foobar"
         },
         {
          "float_col": 31.4285714286,
          "index": 194,
          "int_col": 27,
          "str_col": "foobar"
         },
         {
          "float_col": 10,
          "index": 195,
          "int_col": 4,
          "str_col": "foobar"
         },
         {
          "float_col": 20,
          "index": 196,
          "int_col": 44,
          "str_col": "foobar"
         },
         {
          "float_col": 38.5714285714,
          "index": 197,
          "int_col": 22,
          "str_col": "foobar"
         },
         {
          "float_col": 20,
          "index": 198,
          "int_col": 31,
          "str_col": "foobar"
         },
         {
          "float_col": 8.5714285714,
          "index": 199,
          "int_col": 34,
          "str_col": "foobar"
         }
        ]
       },
       "df_display_args": {
        "main": {
         "data_key": "main",
         "df_viewer_config": {
          "column_config": [
           {
            "col_name": "index",
            "displayer_args": {
             "displayer": "obj"
            }
           },
           {
            "col_name": "int_col",
            "displayer_args": {
             "displayer": "float",
             "maximumFractionDigits": 0,
             "minimumFractionDigits": 0
            }
           },
           {
            "col_name": "float_col",
            "color_map_config": {
             "color_rule": "color_map",
             "map_name": "BLUE_TO_YELLOW"
            },
            "displayer_args": {
             "displayer": "float",
             "maximumFractionDigits": 3,
             "minimumFractionDigits": 3
            }
           },
           {
            "col_name": "str_col",
            "displayer_args": {
             "displayer": "obj"
            }
           }
          ],
          "pinned_rows": [
           {
            "displayer_args": {
             "displayer": "obj"
            },
            "primary_key_val": "dtype"
           },
           {
            "displayer_args": {
             "displayer": "histogram"
            },
            "primary_key_val": "histogram"
           }
          ]
         },
         "summary_stats_key": "all_stats"
        },
        "summary": {
         "data_key": "empty",
         "df_viewer_config": {
          "column_config": [
           {
            "col_name": "index",
            "displayer_args": {
             "displayer": "obj"
            }
           },
           {
            "col_name": "int_col",
            "displayer_args": {
             "displayer": "obj"
            }
           },
           {
            "col_name": "float_col",
            "color_map_config": {
             "color_rule": "color_map",
             "map_name": "BLUE_TO_YELLOW"
            },
            "displayer_args": {
             "displayer": "obj"
            }
           },
           {
            "col_name": "str_col",
            "displayer_args": {
             "displayer": "obj"
            }
           }
          ],
          "pinned_rows": [
           {
            "displayer_args": {
             "displayer": "obj"
            },
            "primary_key_val": "dtype"
           },
           {
            "displayer_args": {
             "displayer": "float",
             "maximumFractionDigits": 3,
             "minimumFractionDigits": 3
            },
            "primary_key_val": "min"
           },
           {
            "displayer_args": {
             "displayer": "float",
             "maximumFractionDigits": 3,
             "minimumFractionDigits": 3
            },
            "primary_key_val": "mean"
           },
           {
            "displayer_args": {
             "displayer": "float",
             "maximumFractionDigits": 3,
             "minimumFractionDigits": 3
            },
            "primary_key_val": "max"
           },
           {
            "displayer_args": {
             "displayer": "float",
             "maximumFractionDigits": 0,
             "minimumFractionDigits": 0
            },
            "primary_key_val": "unique_count"
           },
           {
            "displayer_args": {
             "displayer": "float",
             "maximumFractionDigits": 0,
             "minimumFractionDigits": 0
            },
            "primary_key_val": "distinct_count"
           },
           {
            "displayer_args": {
             "displayer": "float",
             "maximumFractionDigits": 0,
             "minimumFractionDigits": 0
            },
            "primary_key_val": "empty_count"
           }
          ]
         },
         "summary_stats_key": "all_stats"
        }
       },
       "df_meta": {
        "columns": 3,
        "rows_shown": 200,
        "total_rows": 200
       },
       "layout": "IPY_MODEL_57fd1f78c00a407cb544c14880282ab6",
       "operation_results": {
        "generated_py_code": "# instantiation, unused",
        "transformed_df": {
         "column_config": [],
         "data": [],
         "pinned_rows": []
        }
       },
       "operations": []
      }
     },
     "849f7b5ac5b14178bf3d030320924c4a": {
      "model_module": "@jupyter-widgets/base",
      "model_module_version": "2.0.0",
      "model_name": "LayoutModel",
      "state": {}
     },
     "8ee18d09b7424402a15da08ddbc808e6": {
      "model_module": "@jupyter-widgets/base",
      "model_module_version": "2.0.0",
      "model_name": "LayoutModel",
      "state": {}
     },
     "9091a60750d9469d904ef5a0ca518daa": {
      "model_module": "@jupyter-widgets/base",
      "model_module_version": "2.0.0",
      "model_name": "LayoutModel",
      "state": {}
     },
     "9f27cbd4f19d4fa5a125d8c8145aae0e": {
      "model_module": "buckaroo",
      "model_module_version": "^0.5.1",
      "model_name": "DCEFWidgetModel",
      "state": {
       "_model_module_version": "^0.5.1",
       "_view_module_version": "^0.5.1",
       "_view_name": "DCEFWidgetView",
       "buckaroo_options": {
        "auto_clean": [
         "aggressive",
         "conservative"
        ],
        "df_display": [
         "summary",
         "main"
        ],
        "post_processing": [
         ""
        ],
        "sampled": [
         "random"
        ],
        "show_commands": [
         "on"
        ],
        "summary_stats": [
         "all"
        ]
       },
       "buckaroo_state": {
        "auto_clean": "conservative",
        "df_display": "main",
        "post_processing": "",
        "sampled": false,
        "search_string": "",
        "show_commands": false
       },
       "commandConfig": {
        "argspecs": {
         "dropcol": [
          null
         ],
         "fillna": [
          [
           3,
           "fillVal",
           "type",
           "integer"
          ]
         ],
         "groupby": [
          [
           3,
           "colMap",
           "colEnum",
           [
            "null",
            "sum",
            "mean",
            "median",
            "count"
           ]
          ]
         ],
         "onehot": [
          null
         ],
         "reindex": [
          null
         ],
         "safeint": [
          null
         ],
         "to_bool": [
          null
         ],
         "to_datetime": [
          null
         ],
         "to_float": [
          null
         ],
         "to_int": [
          null
         ],
         "to_string": [
          null
         ]
        },
        "defaultArgs": {
         "dropcol": [
          {
           "symbol": "dropcol"
          },
          {
           "symbol": "df"
          },
          "col"
         ],
         "fillna": [
          {
           "symbol": "fillna"
          },
          {
           "symbol": "df"
          },
          "col",
          8
         ],
         "groupby": [
          {
           "symbol": "groupby"
          },
          {
           "symbol": "df"
          },
          "col",
          {}
         ],
         "onehot": [
          {
           "symbol": "onehot"
          },
          {
           "symbol": "df"
          },
          "col"
         ],
         "reindex": [
          {
           "symbol": "reindex"
          },
          {
           "symbol": "df"
          },
          "col"
         ],
         "safeint": [
          {
           "symbol": "safeint"
          },
          {
           "symbol": "df"
          },
          "col"
         ],
         "to_bool": [
          {
           "symbol": "to_bool"
          },
          {
           "symbol": "df"
          },
          "col"
         ],
         "to_datetime": [
          {
           "symbol": "to_datetime"
          },
          {
           "symbol": "df"
          },
          "col"
         ],
         "to_float": [
          {
           "symbol": "to_float"
          },
          {
           "symbol": "df"
          },
          "col"
         ],
         "to_int": [
          {
           "symbol": "to_int"
          },
          {
           "symbol": "df"
          },
          "col"
         ],
         "to_string": [
          {
           "symbol": "to_string"
          },
          {
           "symbol": "df"
          },
          "col"
         ]
        }
       },
       "df_data_dict": {
        "all_stats": [
         {
          "float_col": "shape: (29,)\nSeries: '' [struct[2]]\n[\n\t{10.0,12}\n\t{11.428571,11}\n\t{20.0,11}\n\t{31.428571,10}\n\t{40.0,10}\n\t{8.571429,9}\n\t{7.142857,9}\n\t{25.714286,8}\n\t{27.142857,8}\n\t{5.714286,8}\n\t{14.285714,7}\n\t{21.428571,7}\n\t…\n\t{17.142857,6}\n\t{4.285714,6}\n\t{15.714286,6}\n\t{32.857143,5}\n\t{38.571429,5}\n\t{30.0,5}\n\t{2.857143,5}\n\t{41.428571,4}\n\t{28.571429,4}\n\t{24.285714,4}\n\t{34.285714,4}\n\t{18.571429,4}\n\t{37.142857,4}\n]",
          "index": "value_counts",
          "int_col": "shape: (49,)\nSeries: '' [struct[2]]\n[\n\t{4,10}\n\t{49,9}\n\t{37,9}\n\t{13,7}\n\t{33,6}\n\t{41,6}\n\t{40,5}\n\t{23,5}\n\t{46,5}\n\t{32,5}\n\t{45,5}\n\t{14,5}\n\t…\n\t{7,3}\n\t{48,3}\n\t{2,3}\n\t{44,3}\n\t{20,3}\n\t{35,2}\n\t{36,2}\n\t{24,2}\n\t{18,1}\n\t{21,1}\n\t{25,1}\n\t{19,1}\n\t{47,1}\n]",
          "str_col": "shape: (1,)\nSeries: '' [struct[2]]\n[\n\t{\"foobar\",200}\n]"
         },
         {
          "float_col": 200,
          "index": "length",
          "int_col": 200,
          "str_col": 200
         },
         {
          "float_col": 0,
          "index": "nan_count",
          "int_col": 0,
          "str_col": 0
         },
         {
          "float_col": 1.4285714286,
          "index": "min",
          "int_col": 1,
          "str_col": "foobar"
         },
         {
          "float_col": 41.4285714286,
          "index": "max",
          "int_col": 49,
          "str_col": "foobar"
         },
         {
          "float_col": 20.1571428571,
          "index": "mean",
          "int_col": 25.425,
          "str_col": null
         },
         {
          "float_col": 0,
          "index": "unique_count",
          "int_col": 5,
          "str_col": 0
         },
         {
          "float_col": "Float64",
          "index": "dtype",
          "int_col": "Int64",
          "str_col": "String"
         },
         {
          "float_col": {
           "high_tail": 41.4285714286,
           "low_tail": 1.4285714286,
           "meat_histogram": [
            [
             11,
             26,
             30,
             13,
             21,
             18,
             20,
             20,
             11,
             19
            ],
            [
             1.4285714286,
             5,
             9,
             13,
             17,
             21,
             25,
             29,
             33,
             37,
             41.4285714286
            ]
           ],
           "normalized_populations": [
            0.0582010582,
            0.1375661376,
            0.1587301587,
            0.0687830688,
            0.1111111111,
            0.0952380952,
            0.1058201058,
            0.1058201058,
            0.0582010582,
            0.1005291005
           ]
          },
          "index": "histogram_args",
          "int_col": {
           "high_tail": 49,
           "low_tail": 1,
           "meat_histogram": [
            [
             21,
             18,
             25,
             14,
             14,
             16,
             23,
             21,
             22,
             14
            ],
            [
             1,
             5.8,
             10.6,
             15.4,
             20.2,
             25,
             29.8,
             34.6,
             39.4,
             44.2,
             49
            ]
           ],
           "normalized_populations": [
            0.1117021277,
            0.0957446809,
            0.1329787234,
            0.0744680851,
            0.0744680851,
            0.085106383,
            0.1223404255,
            0.1117021277,
            0.1170212766,
            0.0744680851
           ]
          },
          "str_col": null
         },
         {
          "float_col": true,
          "index": "is_numeric",
          "int_col": true,
          "str_col": false
         },
         {
          "float_col": false,
          "index": "is_integer",
          "int_col": true,
          "str_col": false
         },
         {
          "float_col": "float",
          "index": "_type",
          "int_col": "integer",
          "str_col": "string"
         },
         {
          "float_col": 10,
          "index": "mode",
          "int_col": 4,
          "str_col": "foobar"
         },
         {
          "float_col": 29,
          "index": "distinct_count",
          "int_col": 49,
          "str_col": 1
         },
         {
          "float_col": "float",
          "index": "type",
          "int_col": "integer",
          "str_col": "string"
         },
         {
          "float_col": 1,
          "index": "min_digits",
          "int_col": 1,
          "str_col": null
         },
         {
          "float_col": 2,
          "index": "max_digits",
          "int_col": 2,
          "str_col": null
         },
         {
          "float_col": 0.145,
          "index": "distinct_per",
          "int_col": 0.245,
          "str_col": 0.005
         },
         {
          "float_col": 0,
          "index": "empty_per",
          "int_col": 0,
          "str_col": 0
         },
         {
          "float_col": 0,
          "index": "unique_per",
          "int_col": 0.025,
          "str_col": 0
         },
         {
          "float_col": 0,
          "index": "nan_per",
          "int_col": 0,
          "str_col": 0
         },
         {
          "float_col": [
           {
            "name": "1.4285714285714286 - 1.4285714285714286",
            "tail": 1
           },
           {
            "name": "1-5",
            "population": 6
           },
           {
            "name": "5-9",
            "population": 14
           },
           {
            "name": "9-13",
            "population": 16
           },
           {
            "name": "13-17",
            "population": 7
           },
           {
            "name": "17-21",
            "population": 11
           },
           {
            "name": "21-25",
            "population": 10
           },
           {
            "name": "25-29",
            "population": 11
           },
           {
            "name": "29-33",
            "population": 11
           },
           {
            "name": "33-37",
            "population": 6
           },
           {
            "name": "37-41",
            "population": 10
           },
           {
            "name": "41.42857142857143 - 41.42857142857143",
            "tail": 1
           }
          ],
          "index": "histogram",
          "int_col": [
           {
            "name": "1 - 1.0",
            "tail": 1
           },
           {
            "name": "1-6",
            "population": 11
           },
           {
            "name": "6-11",
            "population": 10
           },
           {
            "name": "11-15",
            "population": 13
           },
           {
            "name": "15-20",
            "population": 7
           },
           {
            "name": "20-25",
            "population": 7
           },
           {
            "name": "25-30",
            "population": 9
           },
           {
            "name": "30-35",
            "population": 12
           },
           {
            "name": "35-39",
            "population": 11
           },
           {
            "name": "39-44",
            "population": 12
           },
           {
            "name": "44-49",
            "population": 7
           },
           {
            "name": "49.0 - 49",
            "tail": 1
           }
          ],
          "str_col": [
           {
            "cat_pop": 100,
            "name": "foobar"
           }
          ]
         },
         {
          "float_col": [
           1.4285714286,
           5,
           9,
           13,
           17,
           21,
           25,
           29,
           33,
           37,
           41.4285714286
          ],
          "index": "histogram_bins",
          "int_col": [
           1,
           5.8,
           10.6,
           15.4,
           20.2,
           25,
           29.8,
           34.6,
           39.4,
           44.2,
           49
          ],
          "str_col": [
           "faked"
          ]
         },
         {
          "float_col": null,
          "index": "empty_count",
          "int_col": null,
          "str_col": 0
         },
         {
          "float_col": null,
          "index": "categorical_histogram",
          "int_col": null,
          "str_col": {
           "foobar": 1,
           "longtail": 0,
           "unique": 0
          }
         }
        ],
        "empty": [],
        "main": [
         {
          "float_col": 8.5714285714,
          "index": 0,
          "int_col": 40,
          "str_col": "foobar"
         },
         {
          "float_col": 11.4285714286,
          "index": 1,
          "int_col": 3,
          "str_col": "foobar"
         },
         {
          "float_col": 31.4285714286,
          "index": 2,
          "int_col": 28,
          "str_col": "foobar"
         },
         {
          "float_col": 17.1428571429,
          "index": 3,
          "int_col": 17,
          "str_col": "foobar"
         },
         {
          "float_col": 8.5714285714,
          "index": 4,
          "int_col": 34,
          "str_col": "foobar"
         },
         {
          "float_col": 14.2857142857,
          "index": 5,
          "int_col": 38,
          "str_col": "foobar"
         },
         {
          "float_col": 41.4285714286,
          "index": 6,
          "int_col": 23,
          "str_col": "foobar"
         },
         {
          "float_col": 11.4285714286,
          "index": 7,
          "int_col": 1,
          "str_col": "foobar"
         },
         {
          "float_col": 25.7142857143,
          "index": 8,
          "int_col": 9,
          "str_col": "foobar"
         },
         {
          "float_col": 20,
          "index": 9,
          "int_col": 46,
          "str_col": "foobar"
         },
         {
          "float_col": 10,
          "index": 10,
          "int_col": 12,
          "str_col": "foobar"
         },
         {
          "float_col": 28.5714285714,
          "index": 11,
          "int_col": 33,
          "str_col": "foobar"
         },
         {
          "float_col": 24.2857142857,
          "index": 12,
          "int_col": 35,
          "str_col": "foobar"
         },
         {
          "float_col": 21.4285714286,
          "index": 13,
          "int_col": 4,
          "str_col": "foobar"
         },
         {
          "float_col": 1.4285714286,
          "index": 14,
          "int_col": 36,
          "str_col": "foobar"
         },
         {
          "float_col": 41.4285714286,
          "index": 15,
          "int_col": 12,
          "str_col": "foobar"
         },
         {
          "float_col": 10,
          "index": 16,
          "int_col": 32,
          "str_col": "foobar"
         },
         {
          "float_col": 11.4285714286,
          "index": 17,
          "int_col": 9,
          "str_col": "foobar"
         },
         {
          "float_col": 7.1428571429,
          "index": 18,
          "int_col": 1,
          "str_col": "foobar"
         },
         {
          "float_col": 20,
          "index": 19,
          "int_col": 46,
          "str_col": "foobar"
         },
         {
          "float_col": 1.4285714286,
          "index": 20,
          "int_col": 34,
          "str_col": "foobar"
         },
         {
          "float_col": 34.2857142857,
          "index": 21,
          "int_col": 45,
          "str_col": "foobar"
         },
         {
          "float_col": 11.4285714286,
          "index": 22,
          "int_col": 49,
          "str_col": "foobar"
         },
         {
          "float_col": 32.8571428571,
          "index": 23,
          "int_col": 14,
          "str_col": "foobar"
         },
         {
          "float_col": 35.7142857143,
          "index": 24,
          "int_col": 49,
          "str_col": "foobar"
         },
         {
          "float_col": 17.1428571429,
          "index": 25,
          "int_col": 39,
          "str_col": "foobar"
         },
         {
          "float_col": 38.5714285714,
          "index": 26,
          "int_col": 28,
          "str_col": "foobar"
         },
         {
          "float_col": 27.1428571429,
          "index": 27,
          "int_col": 18,
          "str_col": "foobar"
         },
         {
          "float_col": 4.2857142857,
          "index": 28,
          "int_col": 4,
          "str_col": "foobar"
         },
         {
          "float_col": 17.1428571429,
          "index": 29,
          "int_col": 10,
          "str_col": "foobar"
         },
         {
          "float_col": 22.8571428571,
          "index": 30,
          "int_col": 12,
          "str_col": "foobar"
         },
         {
          "float_col": 27.1428571429,
          "index": 31,
          "int_col": 8,
          "str_col": "foobar"
         },
         {
          "float_col": 14.2857142857,
          "index": 32,
          "int_col": 43,
          "str_col": "foobar"
         },
         {
          "float_col": 7.1428571429,
          "index": 33,
          "int_col": 13,
          "str_col": "foobar"
         },
         {
          "float_col": 7.1428571429,
          "index": 34,
          "int_col": 23,
          "str_col": "foobar"
         },
         {
          "float_col": 30,
          "index": 35,
          "int_col": 36,
          "str_col": "foobar"
         },
         {
          "float_col": 41.4285714286,
          "index": 36,
          "int_col": 16,
          "str_col": "foobar"
         },
         {
          "float_col": 22.8571428571,
          "index": 37,
          "int_col": 28,
          "str_col": "foobar"
         },
         {
          "float_col": 20,
          "index": 38,
          "int_col": 43,
          "str_col": "foobar"
         },
         {
          "float_col": 28.5714285714,
          "index": 39,
          "int_col": 10,
          "str_col": "foobar"
         },
         {
          "float_col": 12.8571428571,
          "index": 40,
          "int_col": 37,
          "str_col": "foobar"
         },
         {
          "float_col": 15.7142857143,
          "index": 41,
          "int_col": 6,
          "str_col": "foobar"
         },
         {
          "float_col": 21.4285714286,
          "index": 42,
          "int_col": 49,
          "str_col": "foobar"
         },
         {
          "float_col": 5.7142857143,
          "index": 43,
          "int_col": 4,
          "str_col": "foobar"
         },
         {
          "float_col": 38.5714285714,
          "index": 44,
          "int_col": 45,
          "str_col": "foobar"
         },
         {
          "float_col": 12.8571428571,
          "index": 45,
          "int_col": 37,
          "str_col": "foobar"
         },
         {
          "float_col": 18.5714285714,
          "index": 46,
          "int_col": 41,
          "str_col": "foobar"
         },
         {
          "float_col": 8.5714285714,
          "index": 47,
          "int_col": 23,
          "str_col": "foobar"
         },
         {
          "float_col": 11.4285714286,
          "index": 48,
          "int_col": 13,
          "str_col": "foobar"
         },
         {
          "float_col": 10,
          "index": 49,
          "int_col": 13,
          "str_col": "foobar"
         },
         {
          "float_col": 24.2857142857,
          "index": 50,
          "int_col": 10,
          "str_col": "foobar"
         },
         {
          "float_col": 20,
          "index": 51,
          "int_col": 49,
          "str_col": "foobar"
         },
         {
          "float_col": 27.1428571429,
          "index": 52,
          "int_col": 17,
          "str_col": "foobar"
         },
         {
          "float_col": 27.1428571429,
          "index": 53,
          "int_col": 7,
          "str_col": "foobar"
         },
         {
          "float_col": 32.8571428571,
          "index": 54,
          "int_col": 9,
          "str_col": "foobar"
         },
         {
          "float_col": 8.5714285714,
          "index": 55,
          "int_col": 26,
          "str_col": "foobar"
         },
         {
          "float_col": 21.4285714286,
          "index": 56,
          "int_col": 11,
          "str_col": "foobar"
         },
         {
          "float_col": 8.5714285714,
          "index": 57,
          "int_col": 29,
          "str_col": "foobar"
         },
         {
          "float_col": 7.1428571429,
          "index": 58,
          "int_col": 13,
          "str_col": "foobar"
         },
         {
          "float_col": 35.7142857143,
          "index": 59,
          "int_col": 48,
          "str_col": "foobar"
         },
         {
          "float_col": 30,
          "index": 60,
          "int_col": 4,
          "str_col": "foobar"
         },
         {
          "float_col": 25.7142857143,
          "index": 61,
          "int_col": 2,
          "str_col": "foobar"
         },
         {
          "float_col": 14.2857142857,
          "index": 62,
          "int_col": 21,
          "str_col": "foobar"
         },
         {
          "float_col": 12.8571428571,
          "index": 63,
          "int_col": 31,
          "str_col": "foobar"
         },
         {
          "float_col": 25.7142857143,
          "index": 64,
          "int_col": 1,
          "str_col": "foobar"
         },
         {
          "float_col": 25.7142857143,
          "index": 65,
          "int_col": 33,
          "str_col": "foobar"
         },
         {
          "float_col": 1.4285714286,
          "index": 66,
          "int_col": 14,
          "str_col": "foobar"
         },
         {
          "float_col": 2.8571428571,
          "index": 67,
          "int_col": 43,
          "str_col": "foobar"
         },
         {
          "float_col": 40,
          "index": 68,
          "int_col": 33,
          "str_col": "foobar"
         },
         {
          "float_col": 2.8571428571,
          "index": 69,
          "int_col": 41,
          "str_col": "foobar"
         },
         {
          "float_col": 7.1428571429,
          "index": 70,
          "int_col": 14,
          "str_col": "foobar"
         },
         {
          "float_col": 18.5714285714,
          "index": 71,
          "int_col": 6,
          "str_col": "foobar"
         },
         {
          "float_col": 37.1428571429,
          "index": 72,
          "int_col": 46,
          "str_col": "foobar"
         },
         {
          "float_col": 32.8571428571,
          "index": 73,
          "int_col": 8,
          "str_col": "foobar"
         },
         {
          "float_col": 27.1428571429,
          "index": 74,
          "int_col": 38,
          "str_col": "foobar"
         },
         {
          "float_col": 10,
          "index": 75,
          "int_col": 32,
          "str_col": "foobar"
         },
         {
          "float_col": 1.4285714286,
          "index": 76,
          "int_col": 37,
          "str_col": "foobar"
         },
         {
          "float_col": 22.8571428571,
          "index": 77,
          "int_col": 48,
          "str_col": "foobar"
         },
         {
          "float_col": 11.4285714286,
          "index": 78,
          "int_col": 41,
          "str_col": "foobar"
         },
         {
          "float_col": 14.2857142857,
          "index": 79,
          "int_col": 13,
          "str_col": "foobar"
         },
         {
          "float_col": 31.4285714286,
          "index": 80,
          "int_col": 2,
          "str_col": "foobar"
         },
         {
          "float_col": 31.4285714286,
          "index": 81,
          "int_col": 30,
          "str_col": "foobar"
         },
         {
          "float_col": 11.4285714286,
          "index": 82,
          "int_col": 39,
          "str_col": "foobar"
         },
         {
          "float_col": 14.2857142857,
          "index": 83,
          "int_col": 16,
          "str_col": "foobar"
         },
         {
          "float_col": 31.4285714286,
          "index": 84,
          "int_col": 5,
          "str_col": "foobar"
         },
         {
          "float_col": 30,
          "index": 85,
          "int_col": 32,
          "str_col": "foobar"
         },
         {
          "float_col": 15.7142857143,
          "index": 86,
          "int_col": 31,
          "str_col": "foobar"
         },
         {
          "float_col": 7.1428571429,
          "index": 87,
          "int_col": 11,
          "str_col": "foobar"
         },
         {
          "float_col": 1.4285714286,
          "index": 88,
          "int_col": 30,
          "str_col": "foobar"
         },
         {
          "float_col": 2.8571428571,
          "index": 89,
          "int_col": 22,
          "str_col": "foobar"
         },
         {
          "float_col": 32.8571428571,
          "index": 90,
          "int_col": 49,
          "str_col": "foobar"
         },
         {
          "float_col": 5.7142857143,
          "index": 91,
          "int_col": 7,
          "str_col": "foobar"
         },
         {
          "float_col": 14.2857142857,
          "index": 92,
          "int_col": 11,
          "str_col": "foobar"
         },
         {
          "float_col": 21.4285714286,
          "index": 93,
          "int_col": 32,
          "str_col": "foobar"
         },
         {
          "float_col": 10,
          "index": 94,
          "int_col": 45,
          "str_col": "foobar"
         },
         {
          "float_col": 4.2857142857,
          "index": 95,
          "int_col": 25,
          "str_col": "foobar"
         },
         {
          "float_col": 20,
          "index": 96,
          "int_col": 40,
          "str_col": "foobar"
         },
         {
          "float_col": 8.5714285714,
          "index": 97,
          "int_col": 19,
          "str_col": "foobar"
         },
         {
          "float_col": 18.5714285714,
          "index": 98,
          "int_col": 35,
          "str_col": "foobar"
         },
         {
          "float_col": 7.1428571429,
          "index": 99,
          "int_col": 38,
          "str_col": "foobar"
         },
         {
          "float_col": 40,
          "index": 100,
          "int_col": 39,
          "str_col": "foobar"
         },
         {
          "float_col": 15.7142857143,
          "index": 101,
          "int_col": 33,
          "str_col": "foobar"
         },
         {
          "float_col": 27.1428571429,
          "index": 102,
          "int_col": 33,
          "str_col": "foobar"
         },
         {
          "float_col": 37.1428571429,
          "index": 103,
          "int_col": 15,
          "str_col": "foobar"
         },
         {
          "float_col": 2.8571428571,
          "index": 104,
          "int_col": 27,
          "str_col": "foobar"
         },
         {
          "float_col": 30,
          "index": 105,
          "int_col": 17,
          "str_col": "foobar"
         },
         {
          "float_col": 22.8571428571,
          "index": 106,
          "int_col": 34,
          "str_col": "foobar"
         },
         {
          "float_col": 31.4285714286,
          "index": 107,
          "int_col": 45,
          "str_col": "foobar"
         },
         {
          "float_col": 8.5714285714,
          "index": 108,
          "int_col": 45,
          "str_col": "foobar"
         },
         {
          "float_col": 4.2857142857,
          "index": 109,
          "int_col": 42,
          "str_col": "foobar"
         },
         {
          "float_col": 31.4285714286,
          "index": 110,
          "int_col": 29,
          "str_col": "foobar"
         },
         {
          "float_col": 10,
          "index": 111,
          "int_col": 8,
          "str_col": "foobar"
         },
         {
          "float_col": 21.4285714286,
          "index": 112,
          "int_col": 6,
          "str_col": "foobar"
         },
         {
          "float_col": 20,
          "index": 113,
          "int_col": 15,
          "str_col": "foobar"
         },
         {
          "float_col": 40,
          "index": 114,
          "int_col": 40,
          "str_col": "foobar"
         },
         {
          "float_col": 40,
          "index": 115,
          "int_col": 33,
          "str_col": "foobar"
         },
         {
          "float_col": 11.4285714286,
          "index": 116,
          "int_col": 22,
          "str_col": "foobar"
         },
         {
          "float_col": 31.4285714286,
          "index": 117,
          "int_col": 44,
          "str_col": "foobar"
         },
         {
          "float_col": 40,
          "index": 118,
          "int_col": 16,
          "str_col": "foobar"
         },
         {
          "float_col": 1.4285714286,
          "index": 119,
          "int_col": 4,
          "str_col": "foobar"
         },
         {
          "float_col": 25.7142857143,
          "index": 120,
          "int_col": 4,
          "str_col": "foobar"
         },
         {
          "float_col": 37.1428571429,
          "index": 121,
          "int_col": 8,
          "str_col": "foobar"
         },
         {
          "float_col": 34.2857142857,
          "index": 122,
          "int_col": 23,
          "str_col": "foobar"
         },
         {
          "float_col": 34.2857142857,
          "index": 123,
          "int_col": 46,
          "str_col": "foobar"
         },
         {
          "float_col": 15.7142857143,
          "index": 124,
          "int_col": 30,
          "str_col": "foobar"
         },
         {
          "float_col": 10,
          "index": 125,
          "int_col": 13,
          "str_col": "foobar"
         },
         {
          "float_col": 21.4285714286,
          "index": 126,
          "int_col": 49,
          "str_col": "foobar"
         },
         {
          "float_col": 31.4285714286,
          "index": 127,
          "int_col": 20,
          "str_col": "foobar"
         },
         {
          "float_col": 15.7142857143,
          "index": 128,
          "int_col": 37,
          "str_col": "foobar"
         },
         {
          "float_col": 40,
          "index": 129,
          "int_col": 27,
          "str_col": "foobar"
         },
         {
          "float_col": 41.4285714286,
          "index": 130,
          "int_col": 5,
          "str_col": "foobar"
         },
         {
          "float_col": 35.7142857143,
          "index": 131,
          "int_col": 37,
          "str_col": "foobar"
         },
         {
          "float_col": 35.7142857143,
          "index": 132,
          "int_col": 20,
          "str_col": "foobar"
         },
         {
          "float_col": 20,
          "index": 133,
          "int_col": 15,
          "str_col": "foobar"
         },
         {
          "float_col": 28.5714285714,
          "index": 134,
          "int_col": 15,
          "str_col": "foobar"
         },
         {
          "float_col": 27.1428571429,
          "index": 135,
          "int_col": 22,
          "str_col": "foobar"
         },
         {
          "float_col": 40,
          "index": 136,
          "int_col": 13,
          "str_col": "foobar"
         },
         {
          "float_col": 5.7142857143,
          "index": 137,
          "int_col": 14,
          "str_col": "foobar"
         },
         {
          "float_col": 4.2857142857,
          "index": 138,
          "int_col": 16,
          "str_col": "foobar"
         },
         {
          "float_col": 25.7142857143,
          "index": 139,
          "int_col": 4,
          "str_col": "foobar"
         },
         {
          "float_col": 10,
          "index": 140,
          "int_col": 2,
          "str_col": "foobar"
         },
         {
          "float_col": 30,
          "index": 141,
          "int_col": 22,
          "str_col": "foobar"
         },
         {
          "float_col": 10,
          "index": 142,
          "int_col": 24,
          "str_col": "foobar"
         },
         {
          "float_col": 12.8571428571,
          "index": 143,
          "int_col": 29,
          "str_col": "foobar"
         },
         {
          "float_col": 25.7142857143,
          "index": 144,
          "int_col": 3,
          "str_col": "foobar"
         },
         {
          "float_col": 12.8571428571,
          "index": 145,
          "int_col": 40,
          "str_col": "foobar"
         },
         {
          "float_col": 10,
          "index": 146,
          "int_col": 49,
          "str_col": "foobar"
         },
         {
          "float_col": 17.1428571429,
          "index": 147,
          "int_col": 4,
          "str_col": "foobar"
         },
         {
          "float_col": 15.7142857143,
          "index": 148,
          "int_col": 41,
          "str_col": "foobar"
         },
         {
          "float_col": 11.4285714286,
          "index": 149,
          "int_col": 44,
          "str_col": "foobar"
         },
         {
          "float_col": 12.8571428571,
          "index": 150,
          "int_col": 39,
          "str_col": "foobar"
         },
         {
          "float_col": 32.8571428571,
          "index": 151,
          "int_col": 16,
          "str_col": "foobar"
         },
         {
          "float_col": 34.2857142857,
          "index": 152,
          "int_col": 20,
          "str_col": "foobar"
         },
         {
          "float_col": 10,
          "index": 153,
          "int_col": 49,
          "str_col": "foobar"
         },
         {
          "float_col": 31.4285714286,
          "index": 154,
          "int_col": 37,
          "str_col": "foobar"
         },
         {
          "float_col": 35.7142857143,
          "index": 155,
          "int_col": 48,
          "str_col": "foobar"
         },
         {
          "float_col": 22.8571428571,
          "index": 156,
          "int_col": 29,
          "str_col": "foobar"
         },
         {
          "float_col": 14.2857142857,
          "index": 157,
          "int_col": 4,
          "str_col": "foobar"
         },
         {
          "float_col": 27.1428571429,
          "index": 158,
          "int_col": 49,
          "str_col": "foobar"
         },
         {
          "float_col": 4.2857142857,
          "index": 159,
          "int_col": 37,
          "str_col": "foobar"
         },
         {
          "float_col": 40,
          "index": 160,
          "int_col": 8,
          "str_col": "foobar"
         },
         {
          "float_col": 22.8571428571,
          "index": 161,
          "int_col": 40,
          "str_col": "foobar"
         },
         {
          "float_col": 11.4285714286,
          "index": 162,
          "int_col": 26,
          "str_col": "foobar"
         },
         {
          "float_col": 38.5714285714,
          "index": 163,
          "int_col": 46,
          "str_col": "foobar"
         },
         {
          "float_col": 2.8571428571,
          "index": 164,
          "int_col": 14,
          "str_col": "foobar"
         },
         {
          "float_col": 40,
          "index": 165,
          "int_col": 42,
          "str_col": "foobar"
         },
         {
          "float_col": 1.4285714286,
          "index": 166,
          "int_col": 42,
          "str_col": "foobar"
         },
         {
          "float_col": 11.4285714286,
          "index": 167,
          "int_col": 12,
          "str_col": "foobar"
         },
         {
          "float_col": 5.7142857143,
          "index": 168,
          "int_col": 41,
          "str_col": "foobar"
         },
         {
          "float_col": 17.1428571429,
          "index": 169,
          "int_col": 11,
          "str_col": "foobar"
         },
         {
          "float_col": 12.8571428571,
          "index": 170,
          "int_col": 26,
          "str_col": "foobar"
         },
         {
          "float_col": 8.5714285714,
          "index": 171,
          "int_col": 37,
          "str_col": "foobar"
         },
         {
          "float_col": 20,
          "index": 172,
          "int_col": 28,
          "str_col": "foobar"
         },
         {
          "float_col": 7.1428571429,
          "index": 173,
          "int_col": 30,
          "str_col": "foobar"
         },
         {
          "float_col": 5.7142857143,
          "index": 174,
          "int_col": 47,
          "str_col": "foobar"
         },
         {
          "float_col": 5.7142857143,
          "index": 175,
          "int_col": 10,
          "str_col": "foobar"
         },
         {
          "float_col": 21.4285714286,
          "index": 176,
          "int_col": 3,
          "str_col": "foobar"
         },
         {
          "float_col": 22.8571428571,
          "index": 177,
          "int_col": 17,
          "str_col": "foobar"
         },
         {
          "float_col": 28.5714285714,
          "index": 178,
          "int_col": 37,
          "str_col": "foobar"
         },
         {
          "float_col": 7.1428571429,
          "index": 179,
          "int_col": 27,
          "str_col": "foobar"
         },
         {
          "float_col": 35.7142857143,
          "index": 180,
          "int_col": 41,
          "str_col": "foobar"
         },
         {
          "float_col": 35.7142857143,
          "index": 181,
          "int_col": 23,
          "str_col": "foobar"
         },
         {
          "float_col": 17.1428571429,
          "index": 182,
          "int_col": 38,
          "str_col": "foobar"
         },
         {
          "float_col": 25.7142857143,
          "index": 183,
          "int_col": 42,
          "str_col": "foobar"
         },
         {
          "float_col": 5.7142857143,
          "index": 184,
          "int_col": 24,
          "str_col": "foobar"
         },
         {
          "float_col": 38.5714285714,
          "index": 185,
          "int_col": 32,
          "str_col": "foobar"
         },
         {
          "float_col": 40,
          "index": 186,
          "int_col": 3,
          "str_col": "foobar"
         },
         {
          "float_col": 24.2857142857,
          "index": 187,
          "int_col": 15,
          "str_col": "foobar"
         },
         {
          "float_col": 5.7142857143,
          "index": 188,
          "int_col": 5,
          "str_col": "foobar"
         },
         {
          "float_col": 20,
          "index": 189,
          "int_col": 26,
          "str_col": "foobar"
         },
         {
          "float_col": 24.2857142857,
          "index": 190,
          "int_col": 5,
          "str_col": "foobar"
         },
         {
          "float_col": 4.2857142857,
          "index": 191,
          "int_col": 43,
          "str_col": "foobar"
         },
         {
          "float_col": 37.1428571429,
          "index": 192,
          "int_col": 7,
          "str_col": "foobar"
         },
         {
          "float_col": 18.5714285714,
          "index": 193,
          "int_col": 31,
          "str_col": "foobar"
         },
         {
          "float_col": 31.4285714286,
          "index": 194,
          "int_col": 27,
          "str_col": "foobar"
         },
         {
          "float_col": 10,
          "index": 195,
          "int_col": 4,
          "str_col": "foobar"
         },
         {
          "float_col": 20,
          "index": 196,
          "int_col": 44,
          "str_col": "foobar"
         },
         {
          "float_col": 38.5714285714,
          "index": 197,
          "int_col": 22,
          "str_col": "foobar"
         },
         {
          "float_col": 20,
          "index": 198,
          "int_col": 31,
          "str_col": "foobar"
         },
         {
          "float_col": 8.5714285714,
          "index": 199,
          "int_col": 34,
          "str_col": "foobar"
         }
        ]
       },
       "df_display_args": {
        "main": {
         "data_key": "main",
         "df_viewer_config": {
          "column_config": [
           {
            "col_name": "index",
            "displayer_args": {
             "displayer": "obj"
            }
           },
           {
            "col_name": "int_col",
            "displayer_args": {
             "displayer": "float",
             "maximumFractionDigits": 0,
             "minimumFractionDigits": 0
            }
           },
           {
            "col_name": "float_col",
            "displayer_args": {
             "displayer": "float",
             "max_fraction_digits": 3,
             "min_fraction_digits": 0
            }
           },
           {
            "col_name": "str_col",
            "displayer_args": {
             "displayer": "obj"
            }
           }
          ],
          "pinned_rows": [
           {
            "displayer_args": {
             "displayer": "obj"
            },
            "primary_key_val": "dtype"
           },
           {
            "displayer_args": {
             "displayer": "histogram"
            },
            "primary_key_val": "histogram"
           }
          ]
         },
         "summary_stats_key": "all_stats"
        },
        "summary": {
         "data_key": "empty",
         "df_viewer_config": {
          "column_config": [
           {
            "col_name": "index",
            "displayer_args": {
             "displayer": "obj"
            }
           },
           {
            "col_name": "int_col",
            "displayer_args": {
             "displayer": "obj"
            }
           },
           {
            "col_name": "float_col",
            "displayer_args": {
             "displayer": "float",
             "max_fraction_digits": 3,
             "min_fraction_digits": 0
            }
           },
           {
            "col_name": "str_col",
            "displayer_args": {
             "displayer": "obj"
            }
           }
          ],
          "pinned_rows": [
           {
            "displayer_args": {
             "displayer": "obj"
            },
            "primary_key_val": "dtype"
           },
           {
            "displayer_args": {
             "displayer": "float",
             "maximumFractionDigits": 3,
             "minimumFractionDigits": 3
            },
            "primary_key_val": "min"
           },
           {
            "displayer_args": {
             "displayer": "float",
             "maximumFractionDigits": 3,
             "minimumFractionDigits": 3
            },
            "primary_key_val": "mean"
           },
           {
            "displayer_args": {
             "displayer": "float",
             "maximumFractionDigits": 3,
             "minimumFractionDigits": 3
            },
            "primary_key_val": "max"
           },
           {
            "displayer_args": {
             "displayer": "float",
             "maximumFractionDigits": 0,
             "minimumFractionDigits": 0
            },
            "primary_key_val": "unique_count"
           },
           {
            "displayer_args": {
             "displayer": "float",
             "maximumFractionDigits": 0,
             "minimumFractionDigits": 0
            },
            "primary_key_val": "distinct_count"
           },
           {
            "displayer_args": {
             "displayer": "float",
             "maximumFractionDigits": 0,
             "minimumFractionDigits": 0
            },
            "primary_key_val": "empty_count"
           }
          ]
         },
         "summary_stats_key": "all_stats"
        }
       },
       "df_meta": {
        "columns": 3,
        "rows_shown": 200,
        "total_rows": 200
       },
       "layout": "IPY_MODEL_9091a60750d9469d904ef5a0ca518daa",
       "operation_results": {
        "generated_py_code": "# instantiation, unused",
        "transformed_df": {
         "column_config": [],
         "data": [],
         "pinned_rows": []
        }
       },
       "operations": []
      }
     },
     "bc825f4396274d4ca41d7bb436d805e5": {
      "model_module": "@jupyter-widgets/base",
      "model_module_version": "2.0.0",
      "model_name": "LayoutModel",
      "state": {}
     },
     "c16af40753454979b4302d82e32a854c": {
      "model_module": "buckaroo",
      "model_module_version": "^0.5.1",
      "model_name": "DCEFWidgetModel",
      "state": {
       "_model_module_version": "^0.5.1",
       "_view_module_version": "^0.5.1",
       "_view_name": "DCEFWidgetView",
       "buckaroo_options": {
        "auto_clean": [
         "aggressive",
         "conservative"
        ],
        "df_display": [
         "summary",
         "main",
         "MyStyles"
        ],
        "post_processing": [
         ""
        ],
        "sampled": [
         "random"
        ],
        "show_commands": [
         "on"
        ],
        "summary_stats": [
         "all"
        ]
       },
       "buckaroo_state": {
        "auto_clean": "conservative",
        "df_display": "main",
        "post_processing": "",
        "sampled": false,
        "search_string": "",
        "show_commands": false
       },
       "commandConfig": {
        "argspecs": {
         "dropcol": [
          null
         ],
         "fillna": [
          [
           3,
           "fillVal",
           "type",
           "integer"
          ]
         ],
         "groupby": [
          [
           3,
           "colMap",
           "colEnum",
           [
            "null",
            "sum",
            "mean",
            "median",
            "count"
           ]
          ]
         ],
         "onehot": [
          null
         ],
         "reindex": [
          null
         ],
         "safeint": [
          null
         ],
         "to_bool": [
          null
         ],
         "to_datetime": [
          null
         ],
         "to_float": [
          null
         ],
         "to_int": [
          null
         ],
         "to_string": [
          null
         ]
        },
        "defaultArgs": {
         "dropcol": [
          {
           "symbol": "dropcol"
          },
          {
           "symbol": "df"
          },
          "col"
         ],
         "fillna": [
          {
           "symbol": "fillna"
          },
          {
           "symbol": "df"
          },
          "col",
          8
         ],
         "groupby": [
          {
           "symbol": "groupby"
          },
          {
           "symbol": "df"
          },
          "col",
          {}
         ],
         "onehot": [
          {
           "symbol": "onehot"
          },
          {
           "symbol": "df"
          },
          "col"
         ],
         "reindex": [
          {
           "symbol": "reindex"
          },
          {
           "symbol": "df"
          },
          "col"
         ],
         "safeint": [
          {
           "symbol": "safeint"
          },
          {
           "symbol": "df"
          },
          "col"
         ],
         "to_bool": [
          {
           "symbol": "to_bool"
          },
          {
           "symbol": "df"
          },
          "col"
         ],
         "to_datetime": [
          {
           "symbol": "to_datetime"
          },
          {
           "symbol": "df"
          },
          "col"
         ],
         "to_float": [
          {
           "symbol": "to_float"
          },
          {
           "symbol": "df"
          },
          "col"
         ],
         "to_int": [
          {
           "symbol": "to_int"
          },
          {
           "symbol": "df"
          },
          "col"
         ],
         "to_string": [
          {
           "symbol": "to_string"
          },
          {
           "symbol": "df"
          },
          "col"
         ]
        }
       },
       "df_data_dict": {
        "all_stats": [
         {
          "float_col": "shape: (29,)\nSeries: '' [struct[2]]\n[\n\t{10.0,12}\n\t{11.428571,11}\n\t{20.0,11}\n\t{31.428571,10}\n\t{40.0,10}\n\t{8.571429,9}\n\t{7.142857,9}\n\t{25.714286,8}\n\t{27.142857,8}\n\t{5.714286,8}\n\t{14.285714,7}\n\t{21.428571,7}\n\t…\n\t{17.142857,6}\n\t{4.285714,6}\n\t{15.714286,6}\n\t{32.857143,5}\n\t{38.571429,5}\n\t{30.0,5}\n\t{2.857143,5}\n\t{41.428571,4}\n\t{28.571429,4}\n\t{24.285714,4}\n\t{34.285714,4}\n\t{18.571429,4}\n\t{37.142857,4}\n]",
          "index": "value_counts",
          "int_col": "shape: (49,)\nSeries: '' [struct[2]]\n[\n\t{4,10}\n\t{49,9}\n\t{37,9}\n\t{13,7}\n\t{33,6}\n\t{41,6}\n\t{40,5}\n\t{23,5}\n\t{46,5}\n\t{32,5}\n\t{45,5}\n\t{14,5}\n\t…\n\t{7,3}\n\t{48,3}\n\t{2,3}\n\t{44,3}\n\t{20,3}\n\t{35,2}\n\t{36,2}\n\t{24,2}\n\t{18,1}\n\t{21,1}\n\t{25,1}\n\t{19,1}\n\t{47,1}\n]",
          "str_col": "shape: (1,)\nSeries: '' [struct[2]]\n[\n\t{\"foobar\",200}\n]"
         },
         {
          "float_col": 200,
          "index": "length",
          "int_col": 200,
          "str_col": 200
         },
         {
          "float_col": 0,
          "index": "nan_count",
          "int_col": 0,
          "str_col": 0
         },
         {
          "float_col": 1.4285714286,
          "index": "min",
          "int_col": 1,
          "str_col": "foobar"
         },
         {
          "float_col": 41.4285714286,
          "index": "max",
          "int_col": 49,
          "str_col": "foobar"
         },
         {
          "float_col": 20.1571428571,
          "index": "mean",
          "int_col": 25.425,
          "str_col": null
         },
         {
          "float_col": 0,
          "index": "unique_count",
          "int_col": 5,
          "str_col": 0
         },
         {
          "float_col": "Float64",
          "index": "dtype",
          "int_col": "Int64",
          "str_col": "String"
         },
         {
          "float_col": {
           "high_tail": 41.4285714286,
           "low_tail": 1.4285714286,
           "meat_histogram": [
            [
             11,
             26,
             30,
             13,
             21,
             18,
             20,
             20,
             11,
             19
            ],
            [
             1.4285714286,
             5,
             9,
             13,
             17,
             21,
             25,
             29,
             33,
             37,
             41.4285714286
            ]
           ],
           "normalized_populations": [
            0.0582010582,
            0.1375661376,
            0.1587301587,
            0.0687830688,
            0.1111111111,
            0.0952380952,
            0.1058201058,
            0.1058201058,
            0.0582010582,
            0.1005291005
           ]
          },
          "index": "histogram_args",
          "int_col": {
           "high_tail": 49,
           "low_tail": 1,
           "meat_histogram": [
            [
             21,
             18,
             25,
             14,
             14,
             16,
             23,
             21,
             22,
             14
            ],
            [
             1,
             5.8,
             10.6,
             15.4,
             20.2,
             25,
             29.8,
             34.6,
             39.4,
             44.2,
             49
            ]
           ],
           "normalized_populations": [
            0.1117021277,
            0.0957446809,
            0.1329787234,
            0.0744680851,
            0.0744680851,
            0.085106383,
            0.1223404255,
            0.1117021277,
            0.1170212766,
            0.0744680851
           ]
          },
          "str_col": null
         },
         {
          "float_col": true,
          "index": "is_numeric",
          "int_col": true,
          "str_col": false
         },
         {
          "float_col": false,
          "index": "is_integer",
          "int_col": true,
          "str_col": false
         },
         {
          "float_col": "float",
          "index": "_type",
          "int_col": "integer",
          "str_col": "string"
         },
         {
          "float_col": 10,
          "index": "mode",
          "int_col": 4,
          "str_col": "foobar"
         },
         {
          "float_col": 29,
          "index": "distinct_count",
          "int_col": 49,
          "str_col": 1
         },
         {
          "float_col": "float",
          "index": "type",
          "int_col": "integer",
          "str_col": "string"
         },
         {
          "float_col": 1,
          "index": "min_digits",
          "int_col": 1,
          "str_col": null
         },
         {
          "float_col": 2,
          "index": "max_digits",
          "int_col": 2,
          "str_col": null
         },
         {
          "float_col": 0.145,
          "index": "distinct_per",
          "int_col": 0.245,
          "str_col": 0.005
         },
         {
          "float_col": 0,
          "index": "empty_per",
          "int_col": 0,
          "str_col": 0
         },
         {
          "float_col": 0,
          "index": "unique_per",
          "int_col": 0.025,
          "str_col": 0
         },
         {
          "float_col": 0,
          "index": "nan_per",
          "int_col": 0,
          "str_col": 0
         },
         {
          "float_col": [
           {
            "name": "1.4285714285714286 - 1.4285714285714286",
            "tail": 1
           },
           {
            "name": "1-5",
            "population": 6
           },
           {
            "name": "5-9",
            "population": 14
           },
           {
            "name": "9-13",
            "population": 16
           },
           {
            "name": "13-17",
            "population": 7
           },
           {
            "name": "17-21",
            "population": 11
           },
           {
            "name": "21-25",
            "population": 10
           },
           {
            "name": "25-29",
            "population": 11
           },
           {
            "name": "29-33",
            "population": 11
           },
           {
            "name": "33-37",
            "population": 6
           },
           {
            "name": "37-41",
            "population": 10
           },
           {
            "name": "41.42857142857143 - 41.42857142857143",
            "tail": 1
           }
          ],
          "index": "histogram",
          "int_col": [
           {
            "name": "1 - 1.0",
            "tail": 1
           },
           {
            "name": "1-6",
            "population": 11
           },
           {
            "name": "6-11",
            "population": 10
           },
           {
            "name": "11-15",
            "population": 13
           },
           {
            "name": "15-20",
            "population": 7
           },
           {
            "name": "20-25",
            "population": 7
           },
           {
            "name": "25-30",
            "population": 9
           },
           {
            "name": "30-35",
            "population": 12
           },
           {
            "name": "35-39",
            "population": 11
           },
           {
            "name": "39-44",
            "population": 12
           },
           {
            "name": "44-49",
            "population": 7
           },
           {
            "name": "49.0 - 49",
            "tail": 1
           }
          ],
          "str_col": [
           {
            "cat_pop": 100,
            "name": "foobar"
           }
          ]
         },
         {
          "float_col": [
           1.4285714286,
           5,
           9,
           13,
           17,
           21,
           25,
           29,
           33,
           37,
           41.4285714286
          ],
          "index": "histogram_bins",
          "int_col": [
           1,
           5.8,
           10.6,
           15.4,
           20.2,
           25,
           29.8,
           34.6,
           39.4,
           44.2,
           49
          ],
          "str_col": [
           "faked"
          ]
         },
         {
          "float_col": null,
          "index": "empty_count",
          "int_col": null,
          "str_col": 0
         },
         {
          "float_col": null,
          "index": "categorical_histogram",
          "int_col": null,
          "str_col": {
           "foobar": 1,
           "longtail": 0,
           "unique": 0
          }
         }
        ],
        "empty": [],
        "main": [
         {
          "float_col": 8.5714285714,
          "index": 0,
          "int_col": 40,
          "str_col": "foobar"
         },
         {
          "float_col": 11.4285714286,
          "index": 1,
          "int_col": 3,
          "str_col": "foobar"
         },
         {
          "float_col": 31.4285714286,
          "index": 2,
          "int_col": 28,
          "str_col": "foobar"
         },
         {
          "float_col": 17.1428571429,
          "index": 3,
          "int_col": 17,
          "str_col": "foobar"
         },
         {
          "float_col": 8.5714285714,
          "index": 4,
          "int_col": 34,
          "str_col": "foobar"
         },
         {
          "float_col": 14.2857142857,
          "index": 5,
          "int_col": 38,
          "str_col": "foobar"
         },
         {
          "float_col": 41.4285714286,
          "index": 6,
          "int_col": 23,
          "str_col": "foobar"
         },
         {
          "float_col": 11.4285714286,
          "index": 7,
          "int_col": 1,
          "str_col": "foobar"
         },
         {
          "float_col": 25.7142857143,
          "index": 8,
          "int_col": 9,
          "str_col": "foobar"
         },
         {
          "float_col": 20,
          "index": 9,
          "int_col": 46,
          "str_col": "foobar"
         },
         {
          "float_col": 10,
          "index": 10,
          "int_col": 12,
          "str_col": "foobar"
         },
         {
          "float_col": 28.5714285714,
          "index": 11,
          "int_col": 33,
          "str_col": "foobar"
         },
         {
          "float_col": 24.2857142857,
          "index": 12,
          "int_col": 35,
          "str_col": "foobar"
         },
         {
          "float_col": 21.4285714286,
          "index": 13,
          "int_col": 4,
          "str_col": "foobar"
         },
         {
          "float_col": 1.4285714286,
          "index": 14,
          "int_col": 36,
          "str_col": "foobar"
         },
         {
          "float_col": 41.4285714286,
          "index": 15,
          "int_col": 12,
          "str_col": "foobar"
         },
         {
          "float_col": 10,
          "index": 16,
          "int_col": 32,
          "str_col": "foobar"
         },
         {
          "float_col": 11.4285714286,
          "index": 17,
          "int_col": 9,
          "str_col": "foobar"
         },
         {
          "float_col": 7.1428571429,
          "index": 18,
          "int_col": 1,
          "str_col": "foobar"
         },
         {
          "float_col": 20,
          "index": 19,
          "int_col": 46,
          "str_col": "foobar"
         },
         {
          "float_col": 1.4285714286,
          "index": 20,
          "int_col": 34,
          "str_col": "foobar"
         },
         {
          "float_col": 34.2857142857,
          "index": 21,
          "int_col": 45,
          "str_col": "foobar"
         },
         {
          "float_col": 11.4285714286,
          "index": 22,
          "int_col": 49,
          "str_col": "foobar"
         },
         {
          "float_col": 32.8571428571,
          "index": 23,
          "int_col": 14,
          "str_col": "foobar"
         },
         {
          "float_col": 35.7142857143,
          "index": 24,
          "int_col": 49,
          "str_col": "foobar"
         },
         {
          "float_col": 17.1428571429,
          "index": 25,
          "int_col": 39,
          "str_col": "foobar"
         },
         {
          "float_col": 38.5714285714,
          "index": 26,
          "int_col": 28,
          "str_col": "foobar"
         },
         {
          "float_col": 27.1428571429,
          "index": 27,
          "int_col": 18,
          "str_col": "foobar"
         },
         {
          "float_col": 4.2857142857,
          "index": 28,
          "int_col": 4,
          "str_col": "foobar"
         },
         {
          "float_col": 17.1428571429,
          "index": 29,
          "int_col": 10,
          "str_col": "foobar"
         },
         {
          "float_col": 22.8571428571,
          "index": 30,
          "int_col": 12,
          "str_col": "foobar"
         },
         {
          "float_col": 27.1428571429,
          "index": 31,
          "int_col": 8,
          "str_col": "foobar"
         },
         {
          "float_col": 14.2857142857,
          "index": 32,
          "int_col": 43,
          "str_col": "foobar"
         },
         {
          "float_col": 7.1428571429,
          "index": 33,
          "int_col": 13,
          "str_col": "foobar"
         },
         {
          "float_col": 7.1428571429,
          "index": 34,
          "int_col": 23,
          "str_col": "foobar"
         },
         {
          "float_col": 30,
          "index": 35,
          "int_col": 36,
          "str_col": "foobar"
         },
         {
          "float_col": 41.4285714286,
          "index": 36,
          "int_col": 16,
          "str_col": "foobar"
         },
         {
          "float_col": 22.8571428571,
          "index": 37,
          "int_col": 28,
          "str_col": "foobar"
         },
         {
          "float_col": 20,
          "index": 38,
          "int_col": 43,
          "str_col": "foobar"
         },
         {
          "float_col": 28.5714285714,
          "index": 39,
          "int_col": 10,
          "str_col": "foobar"
         },
         {
          "float_col": 12.8571428571,
          "index": 40,
          "int_col": 37,
          "str_col": "foobar"
         },
         {
          "float_col": 15.7142857143,
          "index": 41,
          "int_col": 6,
          "str_col": "foobar"
         },
         {
          "float_col": 21.4285714286,
          "index": 42,
          "int_col": 49,
          "str_col": "foobar"
         },
         {
          "float_col": 5.7142857143,
          "index": 43,
          "int_col": 4,
          "str_col": "foobar"
         },
         {
          "float_col": 38.5714285714,
          "index": 44,
          "int_col": 45,
          "str_col": "foobar"
         },
         {
          "float_col": 12.8571428571,
          "index": 45,
          "int_col": 37,
          "str_col": "foobar"
         },
         {
          "float_col": 18.5714285714,
          "index": 46,
          "int_col": 41,
          "str_col": "foobar"
         },
         {
          "float_col": 8.5714285714,
          "index": 47,
          "int_col": 23,
          "str_col": "foobar"
         },
         {
          "float_col": 11.4285714286,
          "index": 48,
          "int_col": 13,
          "str_col": "foobar"
         },
         {
          "float_col": 10,
          "index": 49,
          "int_col": 13,
          "str_col": "foobar"
         },
         {
          "float_col": 24.2857142857,
          "index": 50,
          "int_col": 10,
          "str_col": "foobar"
         },
         {
          "float_col": 20,
          "index": 51,
          "int_col": 49,
          "str_col": "foobar"
         },
         {
          "float_col": 27.1428571429,
          "index": 52,
          "int_col": 17,
          "str_col": "foobar"
         },
         {
          "float_col": 27.1428571429,
          "index": 53,
          "int_col": 7,
          "str_col": "foobar"
         },
         {
          "float_col": 32.8571428571,
          "index": 54,
          "int_col": 9,
          "str_col": "foobar"
         },
         {
          "float_col": 8.5714285714,
          "index": 55,
          "int_col": 26,
          "str_col": "foobar"
         },
         {
          "float_col": 21.4285714286,
          "index": 56,
          "int_col": 11,
          "str_col": "foobar"
         },
         {
          "float_col": 8.5714285714,
          "index": 57,
          "int_col": 29,
          "str_col": "foobar"
         },
         {
          "float_col": 7.1428571429,
          "index": 58,
          "int_col": 13,
          "str_col": "foobar"
         },
         {
          "float_col": 35.7142857143,
          "index": 59,
          "int_col": 48,
          "str_col": "foobar"
         },
         {
          "float_col": 30,
          "index": 60,
          "int_col": 4,
          "str_col": "foobar"
         },
         {
          "float_col": 25.7142857143,
          "index": 61,
          "int_col": 2,
          "str_col": "foobar"
         },
         {
          "float_col": 14.2857142857,
          "index": 62,
          "int_col": 21,
          "str_col": "foobar"
         },
         {
          "float_col": 12.8571428571,
          "index": 63,
          "int_col": 31,
          "str_col": "foobar"
         },
         {
          "float_col": 25.7142857143,
          "index": 64,
          "int_col": 1,
          "str_col": "foobar"
         },
         {
          "float_col": 25.7142857143,
          "index": 65,
          "int_col": 33,
          "str_col": "foobar"
         },
         {
          "float_col": 1.4285714286,
          "index": 66,
          "int_col": 14,
          "str_col": "foobar"
         },
         {
          "float_col": 2.8571428571,
          "index": 67,
          "int_col": 43,
          "str_col": "foobar"
         },
         {
          "float_col": 40,
          "index": 68,
          "int_col": 33,
          "str_col": "foobar"
         },
         {
          "float_col": 2.8571428571,
          "index": 69,
          "int_col": 41,
          "str_col": "foobar"
         },
         {
          "float_col": 7.1428571429,
          "index": 70,
          "int_col": 14,
          "str_col": "foobar"
         },
         {
          "float_col": 18.5714285714,
          "index": 71,
          "int_col": 6,
          "str_col": "foobar"
         },
         {
          "float_col": 37.1428571429,
          "index": 72,
          "int_col": 46,
          "str_col": "foobar"
         },
         {
          "float_col": 32.8571428571,
          "index": 73,
          "int_col": 8,
          "str_col": "foobar"
         },
         {
          "float_col": 27.1428571429,
          "index": 74,
          "int_col": 38,
          "str_col": "foobar"
         },
         {
          "float_col": 10,
          "index": 75,
          "int_col": 32,
          "str_col": "foobar"
         },
         {
          "float_col": 1.4285714286,
          "index": 76,
          "int_col": 37,
          "str_col": "foobar"
         },
         {
          "float_col": 22.8571428571,
          "index": 77,
          "int_col": 48,
          "str_col": "foobar"
         },
         {
          "float_col": 11.4285714286,
          "index": 78,
          "int_col": 41,
          "str_col": "foobar"
         },
         {
          "float_col": 14.2857142857,
          "index": 79,
          "int_col": 13,
          "str_col": "foobar"
         },
         {
          "float_col": 31.4285714286,
          "index": 80,
          "int_col": 2,
          "str_col": "foobar"
         },
         {
          "float_col": 31.4285714286,
          "index": 81,
          "int_col": 30,
          "str_col": "foobar"
         },
         {
          "float_col": 11.4285714286,
          "index": 82,
          "int_col": 39,
          "str_col": "foobar"
         },
         {
          "float_col": 14.2857142857,
          "index": 83,
          "int_col": 16,
          "str_col": "foobar"
         },
         {
          "float_col": 31.4285714286,
          "index": 84,
          "int_col": 5,
          "str_col": "foobar"
         },
         {
          "float_col": 30,
          "index": 85,
          "int_col": 32,
          "str_col": "foobar"
         },
         {
          "float_col": 15.7142857143,
          "index": 86,
          "int_col": 31,
          "str_col": "foobar"
         },
         {
          "float_col": 7.1428571429,
          "index": 87,
          "int_col": 11,
          "str_col": "foobar"
         },
         {
          "float_col": 1.4285714286,
          "index": 88,
          "int_col": 30,
          "str_col": "foobar"
         },
         {
          "float_col": 2.8571428571,
          "index": 89,
          "int_col": 22,
          "str_col": "foobar"
         },
         {
          "float_col": 32.8571428571,
          "index": 90,
          "int_col": 49,
          "str_col": "foobar"
         },
         {
          "float_col": 5.7142857143,
          "index": 91,
          "int_col": 7,
          "str_col": "foobar"
         },
         {
          "float_col": 14.2857142857,
          "index": 92,
          "int_col": 11,
          "str_col": "foobar"
         },
         {
          "float_col": 21.4285714286,
          "index": 93,
          "int_col": 32,
          "str_col": "foobar"
         },
         {
          "float_col": 10,
          "index": 94,
          "int_col": 45,
          "str_col": "foobar"
         },
         {
          "float_col": 4.2857142857,
          "index": 95,
          "int_col": 25,
          "str_col": "foobar"
         },
         {
          "float_col": 20,
          "index": 96,
          "int_col": 40,
          "str_col": "foobar"
         },
         {
          "float_col": 8.5714285714,
          "index": 97,
          "int_col": 19,
          "str_col": "foobar"
         },
         {
          "float_col": 18.5714285714,
          "index": 98,
          "int_col": 35,
          "str_col": "foobar"
         },
         {
          "float_col": 7.1428571429,
          "index": 99,
          "int_col": 38,
          "str_col": "foobar"
         },
         {
          "float_col": 40,
          "index": 100,
          "int_col": 39,
          "str_col": "foobar"
         },
         {
          "float_col": 15.7142857143,
          "index": 101,
          "int_col": 33,
          "str_col": "foobar"
         },
         {
          "float_col": 27.1428571429,
          "index": 102,
          "int_col": 33,
          "str_col": "foobar"
         },
         {
          "float_col": 37.1428571429,
          "index": 103,
          "int_col": 15,
          "str_col": "foobar"
         },
         {
          "float_col": 2.8571428571,
          "index": 104,
          "int_col": 27,
          "str_col": "foobar"
         },
         {
          "float_col": 30,
          "index": 105,
          "int_col": 17,
          "str_col": "foobar"
         },
         {
          "float_col": 22.8571428571,
          "index": 106,
          "int_col": 34,
          "str_col": "foobar"
         },
         {
          "float_col": 31.4285714286,
          "index": 107,
          "int_col": 45,
          "str_col": "foobar"
         },
         {
          "float_col": 8.5714285714,
          "index": 108,
          "int_col": 45,
          "str_col": "foobar"
         },
         {
          "float_col": 4.2857142857,
          "index": 109,
          "int_col": 42,
          "str_col": "foobar"
         },
         {
          "float_col": 31.4285714286,
          "index": 110,
          "int_col": 29,
          "str_col": "foobar"
         },
         {
          "float_col": 10,
          "index": 111,
          "int_col": 8,
          "str_col": "foobar"
         },
         {
          "float_col": 21.4285714286,
          "index": 112,
          "int_col": 6,
          "str_col": "foobar"
         },
         {
          "float_col": 20,
          "index": 113,
          "int_col": 15,
          "str_col": "foobar"
         },
         {
          "float_col": 40,
          "index": 114,
          "int_col": 40,
          "str_col": "foobar"
         },
         {
          "float_col": 40,
          "index": 115,
          "int_col": 33,
          "str_col": "foobar"
         },
         {
          "float_col": 11.4285714286,
          "index": 116,
          "int_col": 22,
          "str_col": "foobar"
         },
         {
          "float_col": 31.4285714286,
          "index": 117,
          "int_col": 44,
          "str_col": "foobar"
         },
         {
          "float_col": 40,
          "index": 118,
          "int_col": 16,
          "str_col": "foobar"
         },
         {
          "float_col": 1.4285714286,
          "index": 119,
          "int_col": 4,
          "str_col": "foobar"
         },
         {
          "float_col": 25.7142857143,
          "index": 120,
          "int_col": 4,
          "str_col": "foobar"
         },
         {
          "float_col": 37.1428571429,
          "index": 121,
          "int_col": 8,
          "str_col": "foobar"
         },
         {
          "float_col": 34.2857142857,
          "index": 122,
          "int_col": 23,
          "str_col": "foobar"
         },
         {
          "float_col": 34.2857142857,
          "index": 123,
          "int_col": 46,
          "str_col": "foobar"
         },
         {
          "float_col": 15.7142857143,
          "index": 124,
          "int_col": 30,
          "str_col": "foobar"
         },
         {
          "float_col": 10,
          "index": 125,
          "int_col": 13,
          "str_col": "foobar"
         },
         {
          "float_col": 21.4285714286,
          "index": 126,
          "int_col": 49,
          "str_col": "foobar"
         },
         {
          "float_col": 31.4285714286,
          "index": 127,
          "int_col": 20,
          "str_col": "foobar"
         },
         {
          "float_col": 15.7142857143,
          "index": 128,
          "int_col": 37,
          "str_col": "foobar"
         },
         {
          "float_col": 40,
          "index": 129,
          "int_col": 27,
          "str_col": "foobar"
         },
         {
          "float_col": 41.4285714286,
          "index": 130,
          "int_col": 5,
          "str_col": "foobar"
         },
         {
          "float_col": 35.7142857143,
          "index": 131,
          "int_col": 37,
          "str_col": "foobar"
         },
         {
          "float_col": 35.7142857143,
          "index": 132,
          "int_col": 20,
          "str_col": "foobar"
         },
         {
          "float_col": 20,
          "index": 133,
          "int_col": 15,
          "str_col": "foobar"
         },
         {
          "float_col": 28.5714285714,
          "index": 134,
          "int_col": 15,
          "str_col": "foobar"
         },
         {
          "float_col": 27.1428571429,
          "index": 135,
          "int_col": 22,
          "str_col": "foobar"
         },
         {
          "float_col": 40,
          "index": 136,
          "int_col": 13,
          "str_col": "foobar"
         },
         {
          "float_col": 5.7142857143,
          "index": 137,
          "int_col": 14,
          "str_col": "foobar"
         },
         {
          "float_col": 4.2857142857,
          "index": 138,
          "int_col": 16,
          "str_col": "foobar"
         },
         {
          "float_col": 25.7142857143,
          "index": 139,
          "int_col": 4,
          "str_col": "foobar"
         },
         {
          "float_col": 10,
          "index": 140,
          "int_col": 2,
          "str_col": "foobar"
         },
         {
          "float_col": 30,
          "index": 141,
          "int_col": 22,
          "str_col": "foobar"
         },
         {
          "float_col": 10,
          "index": 142,
          "int_col": 24,
          "str_col": "foobar"
         },
         {
          "float_col": 12.8571428571,
          "index": 143,
          "int_col": 29,
          "str_col": "foobar"
         },
         {
          "float_col": 25.7142857143,
          "index": 144,
          "int_col": 3,
          "str_col": "foobar"
         },
         {
          "float_col": 12.8571428571,
          "index": 145,
          "int_col": 40,
          "str_col": "foobar"
         },
         {
          "float_col": 10,
          "index": 146,
          "int_col": 49,
          "str_col": "foobar"
         },
         {
          "float_col": 17.1428571429,
          "index": 147,
          "int_col": 4,
          "str_col": "foobar"
         },
         {
          "float_col": 15.7142857143,
          "index": 148,
          "int_col": 41,
          "str_col": "foobar"
         },
         {
          "float_col": 11.4285714286,
          "index": 149,
          "int_col": 44,
          "str_col": "foobar"
         },
         {
          "float_col": 12.8571428571,
          "index": 150,
          "int_col": 39,
          "str_col": "foobar"
         },
         {
          "float_col": 32.8571428571,
          "index": 151,
          "int_col": 16,
          "str_col": "foobar"
         },
         {
          "float_col": 34.2857142857,
          "index": 152,
          "int_col": 20,
          "str_col": "foobar"
         },
         {
          "float_col": 10,
          "index": 153,
          "int_col": 49,
          "str_col": "foobar"
         },
         {
          "float_col": 31.4285714286,
          "index": 154,
          "int_col": 37,
          "str_col": "foobar"
         },
         {
          "float_col": 35.7142857143,
          "index": 155,
          "int_col": 48,
          "str_col": "foobar"
         },
         {
          "float_col": 22.8571428571,
          "index": 156,
          "int_col": 29,
          "str_col": "foobar"
         },
         {
          "float_col": 14.2857142857,
          "index": 157,
          "int_col": 4,
          "str_col": "foobar"
         },
         {
          "float_col": 27.1428571429,
          "index": 158,
          "int_col": 49,
          "str_col": "foobar"
         },
         {
          "float_col": 4.2857142857,
          "index": 159,
          "int_col": 37,
          "str_col": "foobar"
         },
         {
          "float_col": 40,
          "index": 160,
          "int_col": 8,
          "str_col": "foobar"
         },
         {
          "float_col": 22.8571428571,
          "index": 161,
          "int_col": 40,
          "str_col": "foobar"
         },
         {
          "float_col": 11.4285714286,
          "index": 162,
          "int_col": 26,
          "str_col": "foobar"
         },
         {
          "float_col": 38.5714285714,
          "index": 163,
          "int_col": 46,
          "str_col": "foobar"
         },
         {
          "float_col": 2.8571428571,
          "index": 164,
          "int_col": 14,
          "str_col": "foobar"
         },
         {
          "float_col": 40,
          "index": 165,
          "int_col": 42,
          "str_col": "foobar"
         },
         {
          "float_col": 1.4285714286,
          "index": 166,
          "int_col": 42,
          "str_col": "foobar"
         },
         {
          "float_col": 11.4285714286,
          "index": 167,
          "int_col": 12,
          "str_col": "foobar"
         },
         {
          "float_col": 5.7142857143,
          "index": 168,
          "int_col": 41,
          "str_col": "foobar"
         },
         {
          "float_col": 17.1428571429,
          "index": 169,
          "int_col": 11,
          "str_col": "foobar"
         },
         {
          "float_col": 12.8571428571,
          "index": 170,
          "int_col": 26,
          "str_col": "foobar"
         },
         {
          "float_col": 8.5714285714,
          "index": 171,
          "int_col": 37,
          "str_col": "foobar"
         },
         {
          "float_col": 20,
          "index": 172,
          "int_col": 28,
          "str_col": "foobar"
         },
         {
          "float_col": 7.1428571429,
          "index": 173,
          "int_col": 30,
          "str_col": "foobar"
         },
         {
          "float_col": 5.7142857143,
          "index": 174,
          "int_col": 47,
          "str_col": "foobar"
         },
         {
          "float_col": 5.7142857143,
          "index": 175,
          "int_col": 10,
          "str_col": "foobar"
         },
         {
          "float_col": 21.4285714286,
          "index": 176,
          "int_col": 3,
          "str_col": "foobar"
         },
         {
          "float_col": 22.8571428571,
          "index": 177,
          "int_col": 17,
          "str_col": "foobar"
         },
         {
          "float_col": 28.5714285714,
          "index": 178,
          "int_col": 37,
          "str_col": "foobar"
         },
         {
          "float_col": 7.1428571429,
          "index": 179,
          "int_col": 27,
          "str_col": "foobar"
         },
         {
          "float_col": 35.7142857143,
          "index": 180,
          "int_col": 41,
          "str_col": "foobar"
         },
         {
          "float_col": 35.7142857143,
          "index": 181,
          "int_col": 23,
          "str_col": "foobar"
         },
         {
          "float_col": 17.1428571429,
          "index": 182,
          "int_col": 38,
          "str_col": "foobar"
         },
         {
          "float_col": 25.7142857143,
          "index": 183,
          "int_col": 42,
          "str_col": "foobar"
         },
         {
          "float_col": 5.7142857143,
          "index": 184,
          "int_col": 24,
          "str_col": "foobar"
         },
         {
          "float_col": 38.5714285714,
          "index": 185,
          "int_col": 32,
          "str_col": "foobar"
         },
         {
          "float_col": 40,
          "index": 186,
          "int_col": 3,
          "str_col": "foobar"
         },
         {
          "float_col": 24.2857142857,
          "index": 187,
          "int_col": 15,
          "str_col": "foobar"
         },
         {
          "float_col": 5.7142857143,
          "index": 188,
          "int_col": 5,
          "str_col": "foobar"
         },
         {
          "float_col": 20,
          "index": 189,
          "int_col": 26,
          "str_col": "foobar"
         },
         {
          "float_col": 24.2857142857,
          "index": 190,
          "int_col": 5,
          "str_col": "foobar"
         },
         {
          "float_col": 4.2857142857,
          "index": 191,
          "int_col": 43,
          "str_col": "foobar"
         },
         {
          "float_col": 37.1428571429,
          "index": 192,
          "int_col": 7,
          "str_col": "foobar"
         },
         {
          "float_col": 18.5714285714,
          "index": 193,
          "int_col": 31,
          "str_col": "foobar"
         },
         {
          "float_col": 31.4285714286,
          "index": 194,
          "int_col": 27,
          "str_col": "foobar"
         },
         {
          "float_col": 10,
          "index": 195,
          "int_col": 4,
          "str_col": "foobar"
         },
         {
          "float_col": 20,
          "index": 196,
          "int_col": 44,
          "str_col": "foobar"
         },
         {
          "float_col": 38.5714285714,
          "index": 197,
          "int_col": 22,
          "str_col": "foobar"
         },
         {
          "float_col": 20,
          "index": 198,
          "int_col": 31,
          "str_col": "foobar"
         },
         {
          "float_col": 8.5714285714,
          "index": 199,
          "int_col": 34,
          "str_col": "foobar"
         }
        ]
       },
       "df_display_args": {
        "MyStyles": {
         "data_key": "main",
         "df_viewer_config": {
          "column_config": [
           {
            "col_name": "index",
            "displayer_args": {
             "displayer": "obj"
            }
           },
           {
            "col_name": "int_col",
            "displayer_args": {
             "displayer": "obj"
            }
           },
           {
            "col_name": "float_col",
            "displayer_args": {
             "displayer": "obj"
            }
           },
           {
            "col_name": "str_col",
            "displayer_args": {
             "displayer": "obj"
            }
           }
          ],
          "pinned_rows": [
           {
            "displayer_args": {
             "displayer": "obj"
            },
            "primary_key_val": "dtype"
           }
          ]
         },
         "summary_stats_key": "all_stats"
        },
        "main": {
         "data_key": "main",
         "df_viewer_config": {
          "column_config": [
           {
            "col_name": "index",
            "displayer_args": {
             "displayer": "obj"
            }
           },
           {
            "col_name": "int_col",
            "displayer_args": {
             "displayer": "float",
             "maximumFractionDigits": 0,
             "minimumFractionDigits": 0
            }
           },
           {
            "col_name": "float_col",
            "displayer_args": {
             "displayer": "float",
             "maximumFractionDigits": 3,
             "minimumFractionDigits": 3
            }
           },
           {
            "col_name": "str_col",
            "displayer_args": {
             "displayer": "obj"
            }
           }
          ],
          "pinned_rows": [
           {
            "displayer_args": {
             "displayer": "obj"
            },
            "primary_key_val": "dtype"
           },
           {
            "displayer_args": {
             "displayer": "histogram"
            },
            "primary_key_val": "histogram"
           }
          ]
         },
         "summary_stats_key": "all_stats"
        },
        "summary": {
         "data_key": "empty",
         "df_viewer_config": {
          "column_config": [
           {
            "col_name": "index",
            "displayer_args": {
             "displayer": "obj"
            }
           },
           {
            "col_name": "int_col",
            "displayer_args": {
             "displayer": "obj"
            }
           },
           {
            "col_name": "float_col",
            "displayer_args": {
             "displayer": "obj"
            }
           },
           {
            "col_name": "str_col",
            "displayer_args": {
             "displayer": "obj"
            }
           }
          ],
          "pinned_rows": [
           {
            "displayer_args": {
             "displayer": "obj"
            },
            "primary_key_val": "dtype"
           },
           {
            "displayer_args": {
             "displayer": "float",
             "max_fraction_digits": 3,
             "min_fraction_digits": 3
            },
            "primary_key_val": "min"
           },
           {
            "displayer_args": {
             "displayer": "float",
             "max_fraction_digits": 3,
             "min_fraction_digits": 3
            },
            "primary_key_val": "mode"
           },
           {
            "displayer_args": {
             "displayer": "float",
             "max_fraction_digits": 3,
             "min_fraction_digits": 3
            },
            "primary_key_val": "mean"
           },
           {
            "displayer_args": {
             "displayer": "float",
             "max_fraction_digits": 3,
             "min_fraction_digits": 3
            },
            "primary_key_val": "max"
           },
           {
            "displayer_args": {
             "displayer": "float",
             "max_fraction_digits": 0,
             "min_fraction_digits": 0
            },
            "primary_key_val": "unique_count"
           },
           {
            "displayer_args": {
             "displayer": "float",
             "max_fraction_digits": 0,
             "min_fraction_digits": 0
            },
            "primary_key_val": "distinct_count"
           },
           {
            "displayer_args": {
             "displayer": "float",
             "max_fraction_digits": 0,
             "min_fraction_digits": 0
            },
            "primary_key_val": "empty_count"
           }
          ]
         },
         "summary_stats_key": "all_stats"
        }
       },
       "df_meta": {
        "columns": 3,
        "rows_shown": 200,
        "total_rows": 200
       },
       "layout": "IPY_MODEL_0a3b8c51171640d0a0d5874415b2a2c5",
       "operation_results": {
        "generated_py_code": "# instantiation, unused",
        "transformed_df": {
         "column_config": [],
         "data": [],
         "pinned_rows": []
        }
       },
       "operations": []
      }
     },
     "df6ebc64e90546bdaa042604150bf4f9": {
      "model_module": "@jupyter-widgets/base",
      "model_module_version": "2.0.0",
      "model_name": "LayoutModel",
      "state": {}
     },
     "e599304291a446feb064a632a3530560": {
      "model_module": "@jupyter-widgets/base",
      "model_module_version": "2.0.0",
      "model_name": "LayoutModel",
      "state": {}
     },
     "efdd18511bd44c62a2f6dcb0975e1636": {
      "model_module": "buckaroo",
      "model_module_version": "^0.5.1",
      "model_name": "DCEFWidgetModel",
      "state": {
       "_model_module_version": "^0.5.1",
       "_view_module_version": "^0.5.1",
       "_view_name": "DCEFWidgetView",
       "buckaroo_options": {
        "auto_clean": [
         "aggressive",
         "conservative"
        ],
        "df_display": [
         "summary",
         "main"
        ],
        "post_processing": [
         ""
        ],
        "sampled": [
         "random"
        ],
        "show_commands": [
         "on"
        ],
        "summary_stats": [
         "all"
        ]
       },
       "buckaroo_state": {
        "auto_clean": "conservative",
        "df_display": "main",
        "post_processing": "",
        "sampled": false,
        "search_string": "",
        "show_commands": false
       },
       "commandConfig": {
        "argspecs": {
         "dropcol": [
          null
         ],
         "fillna": [
          [
           3,
           "fillVal",
           "type",
           "integer"
          ]
         ],
         "groupby": [
          [
           3,
           "colMap",
           "colEnum",
           [
            "null",
            "sum",
            "mean",
            "median",
            "count"
           ]
          ]
         ],
         "onehot": [
          null
         ],
         "reindex": [
          null
         ],
         "safeint": [
          null
         ],
         "to_bool": [
          null
         ],
         "to_datetime": [
          null
         ],
         "to_float": [
          null
         ],
         "to_int": [
          null
         ],
         "to_string": [
          null
         ]
        },
        "defaultArgs": {
         "dropcol": [
          {
           "symbol": "dropcol"
          },
          {
           "symbol": "df"
          },
          "col"
         ],
         "fillna": [
          {
           "symbol": "fillna"
          },
          {
           "symbol": "df"
          },
          "col",
          8
         ],
         "groupby": [
          {
           "symbol": "groupby"
          },
          {
           "symbol": "df"
          },
          "col",
          {}
         ],
         "onehot": [
          {
           "symbol": "onehot"
          },
          {
           "symbol": "df"
          },
          "col"
         ],
         "reindex": [
          {
           "symbol": "reindex"
          },
          {
           "symbol": "df"
          },
          "col"
         ],
         "safeint": [
          {
           "symbol": "safeint"
          },
          {
           "symbol": "df"
          },
          "col"
         ],
         "to_bool": [
          {
           "symbol": "to_bool"
          },
          {
           "symbol": "df"
          },
          "col"
         ],
         "to_datetime": [
          {
           "symbol": "to_datetime"
          },
          {
           "symbol": "df"
          },
          "col"
         ],
         "to_float": [
          {
           "symbol": "to_float"
          },
          {
           "symbol": "df"
          },
          "col"
         ],
         "to_int": [
          {
           "symbol": "to_int"
          },
          {
           "symbol": "df"
          },
          "col"
         ],
         "to_string": [
          {
           "symbol": "to_string"
          },
          {
           "symbol": "df"
          },
          "col"
         ]
        }
       },
       "df_data_dict": {
        "all_stats": [
         {
          "float_col": "shape: (29,)\nSeries: '' [struct[2]]\n[\n\t{10.0,12}\n\t{11.428571,11}\n\t{20.0,11}\n\t{31.428571,10}\n\t{40.0,10}\n\t{8.571429,9}\n\t{7.142857,9}\n\t{25.714286,8}\n\t{27.142857,8}\n\t{5.714286,8}\n\t{14.285714,7}\n\t{21.428571,7}\n\t…\n\t{17.142857,6}\n\t{4.285714,6}\n\t{15.714286,6}\n\t{32.857143,5}\n\t{38.571429,5}\n\t{30.0,5}\n\t{2.857143,5}\n\t{41.428571,4}\n\t{28.571429,4}\n\t{24.285714,4}\n\t{34.285714,4}\n\t{18.571429,4}\n\t{37.142857,4}\n]",
          "index": "value_counts",
          "int_col": "shape: (49,)\nSeries: '' [struct[2]]\n[\n\t{4,10}\n\t{49,9}\n\t{37,9}\n\t{13,7}\n\t{33,6}\n\t{41,6}\n\t{40,5}\n\t{23,5}\n\t{46,5}\n\t{32,5}\n\t{45,5}\n\t{14,5}\n\t…\n\t{7,3}\n\t{48,3}\n\t{2,3}\n\t{44,3}\n\t{20,3}\n\t{35,2}\n\t{36,2}\n\t{24,2}\n\t{18,1}\n\t{21,1}\n\t{25,1}\n\t{19,1}\n\t{47,1}\n]",
          "str_col": "shape: (1,)\nSeries: '' [struct[2]]\n[\n\t{\"foobar\",200}\n]"
         },
         {
          "float_col": 200,
          "index": "length",
          "int_col": 200,
          "str_col": 200
         },
         {
          "float_col": 0,
          "index": "nan_count",
          "int_col": 0,
          "str_col": 0
         },
         {
          "float_col": 1.4285714286,
          "index": "min",
          "int_col": 1,
          "str_col": "foobar"
         },
         {
          "float_col": 41.4285714286,
          "index": "max",
          "int_col": 49,
          "str_col": "foobar"
         },
         {
          "float_col": 20.1571428571,
          "index": "mean",
          "int_col": 25.425,
          "str_col": null
         },
         {
          "float_col": 0,
          "index": "unique_count",
          "int_col": 5,
          "str_col": 0
         },
         {
          "float_col": "Float64",
          "index": "dtype",
          "int_col": "Int64",
          "str_col": "String"
         },
         {
          "float_col": {
           "high_tail": 41.4285714286,
           "low_tail": 1.4285714286,
           "meat_histogram": [
            [
             11,
             26,
             30,
             13,
             21,
             18,
             20,
             20,
             11,
             19
            ],
            [
             1.4285714286,
             5,
             9,
             13,
             17,
             21,
             25,
             29,
             33,
             37,
             41.4285714286
            ]
           ],
           "normalized_populations": [
            0.0582010582,
            0.1375661376,
            0.1587301587,
            0.0687830688,
            0.1111111111,
            0.0952380952,
            0.1058201058,
            0.1058201058,
            0.0582010582,
            0.1005291005
           ]
          },
          "index": "histogram_args",
          "int_col": {
           "high_tail": 49,
           "low_tail": 1,
           "meat_histogram": [
            [
             21,
             18,
             25,
             14,
             14,
             16,
             23,
             21,
             22,
             14
            ],
            [
             1,
             5.8,
             10.6,
             15.4,
             20.2,
             25,
             29.8,
             34.6,
             39.4,
             44.2,
             49
            ]
           ],
           "normalized_populations": [
            0.1117021277,
            0.0957446809,
            0.1329787234,
            0.0744680851,
            0.0744680851,
            0.085106383,
            0.1223404255,
            0.1117021277,
            0.1170212766,
            0.0744680851
           ]
          },
          "str_col": null
         },
         {
          "float_col": true,
          "index": "is_numeric",
          "int_col": true,
          "str_col": false
         },
         {
          "float_col": false,
          "index": "is_integer",
          "int_col": true,
          "str_col": false
         },
         {
          "float_col": "float",
          "index": "_type",
          "int_col": "integer",
          "str_col": "string"
         },
         {
          "float_col": 10,
          "index": "mode",
          "int_col": 4,
          "str_col": "foobar"
         },
         {
          "float_col": 29,
          "index": "distinct_count",
          "int_col": 49,
          "str_col": 1
         },
         {
          "float_col": "float",
          "index": "type",
          "int_col": "integer",
          "str_col": "string"
         },
         {
          "float_col": 1,
          "index": "min_digits",
          "int_col": 1,
          "str_col": null
         },
         {
          "float_col": 2,
          "index": "max_digits",
          "int_col": 2,
          "str_col": null
         },
         {
          "float_col": 0.145,
          "index": "distinct_per",
          "int_col": 0.245,
          "str_col": 0.005
         },
         {
          "float_col": 0,
          "index": "empty_per",
          "int_col": 0,
          "str_col": 0
         },
         {
          "float_col": 0,
          "index": "unique_per",
          "int_col": 0.025,
          "str_col": 0
         },
         {
          "float_col": 0,
          "index": "nan_per",
          "int_col": 0,
          "str_col": 0
         },
         {
          "float_col": [
           {
            "name": "1.4285714285714286 - 1.4285714285714286",
            "tail": 1
           },
           {
            "name": "1-5",
            "population": 6
           },
           {
            "name": "5-9",
            "population": 14
           },
           {
            "name": "9-13",
            "population": 16
           },
           {
            "name": "13-17",
            "population": 7
           },
           {
            "name": "17-21",
            "population": 11
           },
           {
            "name": "21-25",
            "population": 10
           },
           {
            "name": "25-29",
            "population": 11
           },
           {
            "name": "29-33",
            "population": 11
           },
           {
            "name": "33-37",
            "population": 6
           },
           {
            "name": "37-41",
            "population": 10
           },
           {
            "name": "41.42857142857143 - 41.42857142857143",
            "tail": 1
           }
          ],
          "index": "histogram",
          "int_col": [
           {
            "name": "1 - 1.0",
            "tail": 1
           },
           {
            "name": "1-6",
            "population": 11
           },
           {
            "name": "6-11",
            "population": 10
           },
           {
            "name": "11-15",
            "population": 13
           },
           {
            "name": "15-20",
            "population": 7
           },
           {
            "name": "20-25",
            "population": 7
           },
           {
            "name": "25-30",
            "population": 9
           },
           {
            "name": "30-35",
            "population": 12
           },
           {
            "name": "35-39",
            "population": 11
           },
           {
            "name": "39-44",
            "population": 12
           },
           {
            "name": "44-49",
            "population": 7
           },
           {
            "name": "49.0 - 49",
            "tail": 1
           }
          ],
          "str_col": [
           {
            "cat_pop": 100,
            "name": "foobar"
           }
          ]
         },
         {
          "float_col": [
           1.4285714286,
           5,
           9,
           13,
           17,
           21,
           25,
           29,
           33,
           37,
           41.4285714286
          ],
          "index": "histogram_bins",
          "int_col": [
           1,
           5.8,
           10.6,
           15.4,
           20.2,
           25,
           29.8,
           34.6,
           39.4,
           44.2,
           49
          ],
          "str_col": [
           "faked"
          ]
         },
         {
          "float_col": null,
          "index": "empty_count",
          "int_col": null,
          "str_col": 0
         },
         {
          "float_col": null,
          "index": "categorical_histogram",
          "int_col": null,
          "str_col": {
           "foobar": 1,
           "longtail": 0,
           "unique": 0
          }
         }
        ],
        "empty": [],
        "main": [
         {
          "float_col": 8.5714285714,
          "index": 0,
          "int_col": 40,
          "str_col": "foobar"
         },
         {
          "float_col": 11.4285714286,
          "index": 1,
          "int_col": 3,
          "str_col": "foobar"
         },
         {
          "float_col": 31.4285714286,
          "index": 2,
          "int_col": 28,
          "str_col": "foobar"
         },
         {
          "float_col": 17.1428571429,
          "index": 3,
          "int_col": 17,
          "str_col": "foobar"
         },
         {
          "float_col": 8.5714285714,
          "index": 4,
          "int_col": 34,
          "str_col": "foobar"
         },
         {
          "float_col": 14.2857142857,
          "index": 5,
          "int_col": 38,
          "str_col": "foobar"
         },
         {
          "float_col": 41.4285714286,
          "index": 6,
          "int_col": 23,
          "str_col": "foobar"
         },
         {
          "float_col": 11.4285714286,
          "index": 7,
          "int_col": 1,
          "str_col": "foobar"
         },
         {
          "float_col": 25.7142857143,
          "index": 8,
          "int_col": 9,
          "str_col": "foobar"
         },
         {
          "float_col": 20,
          "index": 9,
          "int_col": 46,
          "str_col": "foobar"
         },
         {
          "float_col": 10,
          "index": 10,
          "int_col": 12,
          "str_col": "foobar"
         },
         {
          "float_col": 28.5714285714,
          "index": 11,
          "int_col": 33,
          "str_col": "foobar"
         },
         {
          "float_col": 24.2857142857,
          "index": 12,
          "int_col": 35,
          "str_col": "foobar"
         },
         {
          "float_col": 21.4285714286,
          "index": 13,
          "int_col": 4,
          "str_col": "foobar"
         },
         {
          "float_col": 1.4285714286,
          "index": 14,
          "int_col": 36,
          "str_col": "foobar"
         },
         {
          "float_col": 41.4285714286,
          "index": 15,
          "int_col": 12,
          "str_col": "foobar"
         },
         {
          "float_col": 10,
          "index": 16,
          "int_col": 32,
          "str_col": "foobar"
         },
         {
          "float_col": 11.4285714286,
          "index": 17,
          "int_col": 9,
          "str_col": "foobar"
         },
         {
          "float_col": 7.1428571429,
          "index": 18,
          "int_col": 1,
          "str_col": "foobar"
         },
         {
          "float_col": 20,
          "index": 19,
          "int_col": 46,
          "str_col": "foobar"
         },
         {
          "float_col": 1.4285714286,
          "index": 20,
          "int_col": 34,
          "str_col": "foobar"
         },
         {
          "float_col": 34.2857142857,
          "index": 21,
          "int_col": 45,
          "str_col": "foobar"
         },
         {
          "float_col": 11.4285714286,
          "index": 22,
          "int_col": 49,
          "str_col": "foobar"
         },
         {
          "float_col": 32.8571428571,
          "index": 23,
          "int_col": 14,
          "str_col": "foobar"
         },
         {
          "float_col": 35.7142857143,
          "index": 24,
          "int_col": 49,
          "str_col": "foobar"
         },
         {
          "float_col": 17.1428571429,
          "index": 25,
          "int_col": 39,
          "str_col": "foobar"
         },
         {
          "float_col": 38.5714285714,
          "index": 26,
          "int_col": 28,
          "str_col": "foobar"
         },
         {
          "float_col": 27.1428571429,
          "index": 27,
          "int_col": 18,
          "str_col": "foobar"
         },
         {
          "float_col": 4.2857142857,
          "index": 28,
          "int_col": 4,
          "str_col": "foobar"
         },
         {
          "float_col": 17.1428571429,
          "index": 29,
          "int_col": 10,
          "str_col": "foobar"
         },
         {
          "float_col": 22.8571428571,
          "index": 30,
          "int_col": 12,
          "str_col": "foobar"
         },
         {
          "float_col": 27.1428571429,
          "index": 31,
          "int_col": 8,
          "str_col": "foobar"
         },
         {
          "float_col": 14.2857142857,
          "index": 32,
          "int_col": 43,
          "str_col": "foobar"
         },
         {
          "float_col": 7.1428571429,
          "index": 33,
          "int_col": 13,
          "str_col": "foobar"
         },
         {
          "float_col": 7.1428571429,
          "index": 34,
          "int_col": 23,
          "str_col": "foobar"
         },
         {
          "float_col": 30,
          "index": 35,
          "int_col": 36,
          "str_col": "foobar"
         },
         {
          "float_col": 41.4285714286,
          "index": 36,
          "int_col": 16,
          "str_col": "foobar"
         },
         {
          "float_col": 22.8571428571,
          "index": 37,
          "int_col": 28,
          "str_col": "foobar"
         },
         {
          "float_col": 20,
          "index": 38,
          "int_col": 43,
          "str_col": "foobar"
         },
         {
          "float_col": 28.5714285714,
          "index": 39,
          "int_col": 10,
          "str_col": "foobar"
         },
         {
          "float_col": 12.8571428571,
          "index": 40,
          "int_col": 37,
          "str_col": "foobar"
         },
         {
          "float_col": 15.7142857143,
          "index": 41,
          "int_col": 6,
          "str_col": "foobar"
         },
         {
          "float_col": 21.4285714286,
          "index": 42,
          "int_col": 49,
          "str_col": "foobar"
         },
         {
          "float_col": 5.7142857143,
          "index": 43,
          "int_col": 4,
          "str_col": "foobar"
         },
         {
          "float_col": 38.5714285714,
          "index": 44,
          "int_col": 45,
          "str_col": "foobar"
         },
         {
          "float_col": 12.8571428571,
          "index": 45,
          "int_col": 37,
          "str_col": "foobar"
         },
         {
          "float_col": 18.5714285714,
          "index": 46,
          "int_col": 41,
          "str_col": "foobar"
         },
         {
          "float_col": 8.5714285714,
          "index": 47,
          "int_col": 23,
          "str_col": "foobar"
         },
         {
          "float_col": 11.4285714286,
          "index": 48,
          "int_col": 13,
          "str_col": "foobar"
         },
         {
          "float_col": 10,
          "index": 49,
          "int_col": 13,
          "str_col": "foobar"
         },
         {
          "float_col": 24.2857142857,
          "index": 50,
          "int_col": 10,
          "str_col": "foobar"
         },
         {
          "float_col": 20,
          "index": 51,
          "int_col": 49,
          "str_col": "foobar"
         },
         {
          "float_col": 27.1428571429,
          "index": 52,
          "int_col": 17,
          "str_col": "foobar"
         },
         {
          "float_col": 27.1428571429,
          "index": 53,
          "int_col": 7,
          "str_col": "foobar"
         },
         {
          "float_col": 32.8571428571,
          "index": 54,
          "int_col": 9,
          "str_col": "foobar"
         },
         {
          "float_col": 8.5714285714,
          "index": 55,
          "int_col": 26,
          "str_col": "foobar"
         },
         {
          "float_col": 21.4285714286,
          "index": 56,
          "int_col": 11,
          "str_col": "foobar"
         },
         {
          "float_col": 8.5714285714,
          "index": 57,
          "int_col": 29,
          "str_col": "foobar"
         },
         {
          "float_col": 7.1428571429,
          "index": 58,
          "int_col": 13,
          "str_col": "foobar"
         },
         {
          "float_col": 35.7142857143,
          "index": 59,
          "int_col": 48,
          "str_col": "foobar"
         },
         {
          "float_col": 30,
          "index": 60,
          "int_col": 4,
          "str_col": "foobar"
         },
         {
          "float_col": 25.7142857143,
          "index": 61,
          "int_col": 2,
          "str_col": "foobar"
         },
         {
          "float_col": 14.2857142857,
          "index": 62,
          "int_col": 21,
          "str_col": "foobar"
         },
         {
          "float_col": 12.8571428571,
          "index": 63,
          "int_col": 31,
          "str_col": "foobar"
         },
         {
          "float_col": 25.7142857143,
          "index": 64,
          "int_col": 1,
          "str_col": "foobar"
         },
         {
          "float_col": 25.7142857143,
          "index": 65,
          "int_col": 33,
          "str_col": "foobar"
         },
         {
          "float_col": 1.4285714286,
          "index": 66,
          "int_col": 14,
          "str_col": "foobar"
         },
         {
          "float_col": 2.8571428571,
          "index": 67,
          "int_col": 43,
          "str_col": "foobar"
         },
         {
          "float_col": 40,
          "index": 68,
          "int_col": 33,
          "str_col": "foobar"
         },
         {
          "float_col": 2.8571428571,
          "index": 69,
          "int_col": 41,
          "str_col": "foobar"
         },
         {
          "float_col": 7.1428571429,
          "index": 70,
          "int_col": 14,
          "str_col": "foobar"
         },
         {
          "float_col": 18.5714285714,
          "index": 71,
          "int_col": 6,
          "str_col": "foobar"
         },
         {
          "float_col": 37.1428571429,
          "index": 72,
          "int_col": 46,
          "str_col": "foobar"
         },
         {
          "float_col": 32.8571428571,
          "index": 73,
          "int_col": 8,
          "str_col": "foobar"
         },
         {
          "float_col": 27.1428571429,
          "index": 74,
          "int_col": 38,
          "str_col": "foobar"
         },
         {
          "float_col": 10,
          "index": 75,
          "int_col": 32,
          "str_col": "foobar"
         },
         {
          "float_col": 1.4285714286,
          "index": 76,
          "int_col": 37,
          "str_col": "foobar"
         },
         {
          "float_col": 22.8571428571,
          "index": 77,
          "int_col": 48,
          "str_col": "foobar"
         },
         {
          "float_col": 11.4285714286,
          "index": 78,
          "int_col": 41,
          "str_col": "foobar"
         },
         {
          "float_col": 14.2857142857,
          "index": 79,
          "int_col": 13,
          "str_col": "foobar"
         },
         {
          "float_col": 31.4285714286,
          "index": 80,
          "int_col": 2,
          "str_col": "foobar"
         },
         {
          "float_col": 31.4285714286,
          "index": 81,
          "int_col": 30,
          "str_col": "foobar"
         },
         {
          "float_col": 11.4285714286,
          "index": 82,
          "int_col": 39,
          "str_col": "foobar"
         },
         {
          "float_col": 14.2857142857,
          "index": 83,
          "int_col": 16,
          "str_col": "foobar"
         },
         {
          "float_col": 31.4285714286,
          "index": 84,
          "int_col": 5,
          "str_col": "foobar"
         },
         {
          "float_col": 30,
          "index": 85,
          "int_col": 32,
          "str_col": "foobar"
         },
         {
          "float_col": 15.7142857143,
          "index": 86,
          "int_col": 31,
          "str_col": "foobar"
         },
         {
          "float_col": 7.1428571429,
          "index": 87,
          "int_col": 11,
          "str_col": "foobar"
         },
         {
          "float_col": 1.4285714286,
          "index": 88,
          "int_col": 30,
          "str_col": "foobar"
         },
         {
          "float_col": 2.8571428571,
          "index": 89,
          "int_col": 22,
          "str_col": "foobar"
         },
         {
          "float_col": 32.8571428571,
          "index": 90,
          "int_col": 49,
          "str_col": "foobar"
         },
         {
          "float_col": 5.7142857143,
          "index": 91,
          "int_col": 7,
          "str_col": "foobar"
         },
         {
          "float_col": 14.2857142857,
          "index": 92,
          "int_col": 11,
          "str_col": "foobar"
         },
         {
          "float_col": 21.4285714286,
          "index": 93,
          "int_col": 32,
          "str_col": "foobar"
         },
         {
          "float_col": 10,
          "index": 94,
          "int_col": 45,
          "str_col": "foobar"
         },
         {
          "float_col": 4.2857142857,
          "index": 95,
          "int_col": 25,
          "str_col": "foobar"
         },
         {
          "float_col": 20,
          "index": 96,
          "int_col": 40,
          "str_col": "foobar"
         },
         {
          "float_col": 8.5714285714,
          "index": 97,
          "int_col": 19,
          "str_col": "foobar"
         },
         {
          "float_col": 18.5714285714,
          "index": 98,
          "int_col": 35,
          "str_col": "foobar"
         },
         {
          "float_col": 7.1428571429,
          "index": 99,
          "int_col": 38,
          "str_col": "foobar"
         },
         {
          "float_col": 40,
          "index": 100,
          "int_col": 39,
          "str_col": "foobar"
         },
         {
          "float_col": 15.7142857143,
          "index": 101,
          "int_col": 33,
          "str_col": "foobar"
         },
         {
          "float_col": 27.1428571429,
          "index": 102,
          "int_col": 33,
          "str_col": "foobar"
         },
         {
          "float_col": 37.1428571429,
          "index": 103,
          "int_col": 15,
          "str_col": "foobar"
         },
         {
          "float_col": 2.8571428571,
          "index": 104,
          "int_col": 27,
          "str_col": "foobar"
         },
         {
          "float_col": 30,
          "index": 105,
          "int_col": 17,
          "str_col": "foobar"
         },
         {
          "float_col": 22.8571428571,
          "index": 106,
          "int_col": 34,
          "str_col": "foobar"
         },
         {
          "float_col": 31.4285714286,
          "index": 107,
          "int_col": 45,
          "str_col": "foobar"
         },
         {
          "float_col": 8.5714285714,
          "index": 108,
          "int_col": 45,
          "str_col": "foobar"
         },
         {
          "float_col": 4.2857142857,
          "index": 109,
          "int_col": 42,
          "str_col": "foobar"
         },
         {
          "float_col": 31.4285714286,
          "index": 110,
          "int_col": 29,
          "str_col": "foobar"
         },
         {
          "float_col": 10,
          "index": 111,
          "int_col": 8,
          "str_col": "foobar"
         },
         {
          "float_col": 21.4285714286,
          "index": 112,
          "int_col": 6,
          "str_col": "foobar"
         },
         {
          "float_col": 20,
          "index": 113,
          "int_col": 15,
          "str_col": "foobar"
         },
         {
          "float_col": 40,
          "index": 114,
          "int_col": 40,
          "str_col": "foobar"
         },
         {
          "float_col": 40,
          "index": 115,
          "int_col": 33,
          "str_col": "foobar"
         },
         {
          "float_col": 11.4285714286,
          "index": 116,
          "int_col": 22,
          "str_col": "foobar"
         },
         {
          "float_col": 31.4285714286,
          "index": 117,
          "int_col": 44,
          "str_col": "foobar"
         },
         {
          "float_col": 40,
          "index": 118,
          "int_col": 16,
          "str_col": "foobar"
         },
         {
          "float_col": 1.4285714286,
          "index": 119,
          "int_col": 4,
          "str_col": "foobar"
         },
         {
          "float_col": 25.7142857143,
          "index": 120,
          "int_col": 4,
          "str_col": "foobar"
         },
         {
          "float_col": 37.1428571429,
          "index": 121,
          "int_col": 8,
          "str_col": "foobar"
         },
         {
          "float_col": 34.2857142857,
          "index": 122,
          "int_col": 23,
          "str_col": "foobar"
         },
         {
          "float_col": 34.2857142857,
          "index": 123,
          "int_col": 46,
          "str_col": "foobar"
         },
         {
          "float_col": 15.7142857143,
          "index": 124,
          "int_col": 30,
          "str_col": "foobar"
         },
         {
          "float_col": 10,
          "index": 125,
          "int_col": 13,
          "str_col": "foobar"
         },
         {
          "float_col": 21.4285714286,
          "index": 126,
          "int_col": 49,
          "str_col": "foobar"
         },
         {
          "float_col": 31.4285714286,
          "index": 127,
          "int_col": 20,
          "str_col": "foobar"
         },
         {
          "float_col": 15.7142857143,
          "index": 128,
          "int_col": 37,
          "str_col": "foobar"
         },
         {
          "float_col": 40,
          "index": 129,
          "int_col": 27,
          "str_col": "foobar"
         },
         {
          "float_col": 41.4285714286,
          "index": 130,
          "int_col": 5,
          "str_col": "foobar"
         },
         {
          "float_col": 35.7142857143,
          "index": 131,
          "int_col": 37,
          "str_col": "foobar"
         },
         {
          "float_col": 35.7142857143,
          "index": 132,
          "int_col": 20,
          "str_col": "foobar"
         },
         {
          "float_col": 20,
          "index": 133,
          "int_col": 15,
          "str_col": "foobar"
         },
         {
          "float_col": 28.5714285714,
          "index": 134,
          "int_col": 15,
          "str_col": "foobar"
         },
         {
          "float_col": 27.1428571429,
          "index": 135,
          "int_col": 22,
          "str_col": "foobar"
         },
         {
          "float_col": 40,
          "index": 136,
          "int_col": 13,
          "str_col": "foobar"
         },
         {
          "float_col": 5.7142857143,
          "index": 137,
          "int_col": 14,
          "str_col": "foobar"
         },
         {
          "float_col": 4.2857142857,
          "index": 138,
          "int_col": 16,
          "str_col": "foobar"
         },
         {
          "float_col": 25.7142857143,
          "index": 139,
          "int_col": 4,
          "str_col": "foobar"
         },
         {
          "float_col": 10,
          "index": 140,
          "int_col": 2,
          "str_col": "foobar"
         },
         {
          "float_col": 30,
          "index": 141,
          "int_col": 22,
          "str_col": "foobar"
         },
         {
          "float_col": 10,
          "index": 142,
          "int_col": 24,
          "str_col": "foobar"
         },
         {
          "float_col": 12.8571428571,
          "index": 143,
          "int_col": 29,
          "str_col": "foobar"
         },
         {
          "float_col": 25.7142857143,
          "index": 144,
          "int_col": 3,
          "str_col": "foobar"
         },
         {
          "float_col": 12.8571428571,
          "index": 145,
          "int_col": 40,
          "str_col": "foobar"
         },
         {
          "float_col": 10,
          "index": 146,
          "int_col": 49,
          "str_col": "foobar"
         },
         {
          "float_col": 17.1428571429,
          "index": 147,
          "int_col": 4,
          "str_col": "foobar"
         },
         {
          "float_col": 15.7142857143,
          "index": 148,
          "int_col": 41,
          "str_col": "foobar"
         },
         {
          "float_col": 11.4285714286,
          "index": 149,
          "int_col": 44,
          "str_col": "foobar"
         },
         {
          "float_col": 12.8571428571,
          "index": 150,
          "int_col": 39,
          "str_col": "foobar"
         },
         {
          "float_col": 32.8571428571,
          "index": 151,
          "int_col": 16,
          "str_col": "foobar"
         },
         {
          "float_col": 34.2857142857,
          "index": 152,
          "int_col": 20,
          "str_col": "foobar"
         },
         {
          "float_col": 10,
          "index": 153,
          "int_col": 49,
          "str_col": "foobar"
         },
         {
          "float_col": 31.4285714286,
          "index": 154,
          "int_col": 37,
          "str_col": "foobar"
         },
         {
          "float_col": 35.7142857143,
          "index": 155,
          "int_col": 48,
          "str_col": "foobar"
         },
         {
          "float_col": 22.8571428571,
          "index": 156,
          "int_col": 29,
          "str_col": "foobar"
         },
         {
          "float_col": 14.2857142857,
          "index": 157,
          "int_col": 4,
          "str_col": "foobar"
         },
         {
          "float_col": 27.1428571429,
          "index": 158,
          "int_col": 49,
          "str_col": "foobar"
         },
         {
          "float_col": 4.2857142857,
          "index": 159,
          "int_col": 37,
          "str_col": "foobar"
         },
         {
          "float_col": 40,
          "index": 160,
          "int_col": 8,
          "str_col": "foobar"
         },
         {
          "float_col": 22.8571428571,
          "index": 161,
          "int_col": 40,
          "str_col": "foobar"
         },
         {
          "float_col": 11.4285714286,
          "index": 162,
          "int_col": 26,
          "str_col": "foobar"
         },
         {
          "float_col": 38.5714285714,
          "index": 163,
          "int_col": 46,
          "str_col": "foobar"
         },
         {
          "float_col": 2.8571428571,
          "index": 164,
          "int_col": 14,
          "str_col": "foobar"
         },
         {
          "float_col": 40,
          "index": 165,
          "int_col": 42,
          "str_col": "foobar"
         },
         {
          "float_col": 1.4285714286,
          "index": 166,
          "int_col": 42,
          "str_col": "foobar"
         },
         {
          "float_col": 11.4285714286,
          "index": 167,
          "int_col": 12,
          "str_col": "foobar"
         },
         {
          "float_col": 5.7142857143,
          "index": 168,
          "int_col": 41,
          "str_col": "foobar"
         },
         {
          "float_col": 17.1428571429,
          "index": 169,
          "int_col": 11,
          "str_col": "foobar"
         },
         {
          "float_col": 12.8571428571,
          "index": 170,
          "int_col": 26,
          "str_col": "foobar"
         },
         {
          "float_col": 8.5714285714,
          "index": 171,
          "int_col": 37,
          "str_col": "foobar"
         },
         {
          "float_col": 20,
          "index": 172,
          "int_col": 28,
          "str_col": "foobar"
         },
         {
          "float_col": 7.1428571429,
          "index": 173,
          "int_col": 30,
          "str_col": "foobar"
         },
         {
          "float_col": 5.7142857143,
          "index": 174,
          "int_col": 47,
          "str_col": "foobar"
         },
         {
          "float_col": 5.7142857143,
          "index": 175,
          "int_col": 10,
          "str_col": "foobar"
         },
         {
          "float_col": 21.4285714286,
          "index": 176,
          "int_col": 3,
          "str_col": "foobar"
         },
         {
          "float_col": 22.8571428571,
          "index": 177,
          "int_col": 17,
          "str_col": "foobar"
         },
         {
          "float_col": 28.5714285714,
          "index": 178,
          "int_col": 37,
          "str_col": "foobar"
         },
         {
          "float_col": 7.1428571429,
          "index": 179,
          "int_col": 27,
          "str_col": "foobar"
         },
         {
          "float_col": 35.7142857143,
          "index": 180,
          "int_col": 41,
          "str_col": "foobar"
         },
         {
          "float_col": 35.7142857143,
          "index": 181,
          "int_col": 23,
          "str_col": "foobar"
         },
         {
          "float_col": 17.1428571429,
          "index": 182,
          "int_col": 38,
          "str_col": "foobar"
         },
         {
          "float_col": 25.7142857143,
          "index": 183,
          "int_col": 42,
          "str_col": "foobar"
         },
         {
          "float_col": 5.7142857143,
          "index": 184,
          "int_col": 24,
          "str_col": "foobar"
         },
         {
          "float_col": 38.5714285714,
          "index": 185,
          "int_col": 32,
          "str_col": "foobar"
         },
         {
          "float_col": 40,
          "index": 186,
          "int_col": 3,
          "str_col": "foobar"
         },
         {
          "float_col": 24.2857142857,
          "index": 187,
          "int_col": 15,
          "str_col": "foobar"
         },
         {
          "float_col": 5.7142857143,
          "index": 188,
          "int_col": 5,
          "str_col": "foobar"
         },
         {
          "float_col": 20,
          "index": 189,
          "int_col": 26,
          "str_col": "foobar"
         },
         {
          "float_col": 24.2857142857,
          "index": 190,
          "int_col": 5,
          "str_col": "foobar"
         },
         {
          "float_col": 4.2857142857,
          "index": 191,
          "int_col": 43,
          "str_col": "foobar"
         },
         {
          "float_col": 37.1428571429,
          "index": 192,
          "int_col": 7,
          "str_col": "foobar"
         },
         {
          "float_col": 18.5714285714,
          "index": 193,
          "int_col": 31,
          "str_col": "foobar"
         },
         {
          "float_col": 31.4285714286,
          "index": 194,
          "int_col": 27,
          "str_col": "foobar"
         },
         {
          "float_col": 10,
          "index": 195,
          "int_col": 4,
          "str_col": "foobar"
         },
         {
          "float_col": 20,
          "index": 196,
          "int_col": 44,
          "str_col": "foobar"
         },
         {
          "float_col": 38.5714285714,
          "index": 197,
          "int_col": 22,
          "str_col": "foobar"
         },
         {
          "float_col": 20,
          "index": 198,
          "int_col": 31,
          "str_col": "foobar"
         },
         {
          "float_col": 8.5714285714,
          "index": 199,
          "int_col": 34,
          "str_col": "foobar"
         }
        ]
       },
       "df_display_args": {
        "main": {
         "data_key": "main",
         "df_viewer_config": {
          "column_config": [
           {
            "col_name": "index",
            "displayer_args": {
             "displayer": "obj"
            }
           },
           {
            "col_name": "float_col",
            "displayer_args": {
             "displayer": "float",
             "maximumFractionDigits": 3,
             "minimumFractionDigits": 3
            }
           },
           {
            "col_name": "str_col",
            "displayer_args": {
             "displayer": "obj"
            }
           }
          ],
          "pinned_rows": [
           {
            "displayer_args": {
             "displayer": "obj"
            },
            "primary_key_val": "dtype"
           },
           {
            "displayer_args": {
             "displayer": "histogram"
            },
            "primary_key_val": "histogram"
           }
          ]
         },
         "summary_stats_key": "all_stats"
        },
        "summary": {
         "data_key": "empty",
         "df_viewer_config": {
          "column_config": [
           {
            "col_name": "index",
            "displayer_args": {
             "displayer": "obj"
            }
           },
           {
            "col_name": "float_col",
            "displayer_args": {
             "displayer": "obj"
            }
           },
           {
            "col_name": "str_col",
            "displayer_args": {
             "displayer": "obj"
            }
           }
          ],
          "pinned_rows": [
           {
            "displayer_args": {
             "displayer": "obj"
            },
            "primary_key_val": "dtype"
           },
           {
            "displayer_args": {
             "displayer": "float",
             "maximumFractionDigits": 3,
             "minimumFractionDigits": 3
            },
            "primary_key_val": "min"
           },
           {
            "displayer_args": {
             "displayer": "float",
             "maximumFractionDigits": 3,
             "minimumFractionDigits": 3
            },
            "primary_key_val": "mean"
           },
           {
            "displayer_args": {
             "displayer": "float",
             "maximumFractionDigits": 3,
             "minimumFractionDigits": 3
            },
            "primary_key_val": "max"
           },
           {
            "displayer_args": {
             "displayer": "float",
             "maximumFractionDigits": 0,
             "minimumFractionDigits": 0
            },
            "primary_key_val": "unique_count"
           },
           {
            "displayer_args": {
             "displayer": "float",
             "maximumFractionDigits": 0,
             "minimumFractionDigits": 0
            },
            "primary_key_val": "distinct_count"
           },
           {
            "displayer_args": {
             "displayer": "float",
             "maximumFractionDigits": 0,
             "minimumFractionDigits": 0
            },
            "primary_key_val": "empty_count"
           }
          ]
         },
         "summary_stats_key": "all_stats"
        }
       },
       "df_meta": {
        "columns": 3,
        "rows_shown": 200,
        "total_rows": 200
       },
       "layout": "IPY_MODEL_e599304291a446feb064a632a3530560",
       "operation_results": {
        "generated_py_code": "# instantiation, unused",
        "transformed_df": {
         "column_config": [],
         "data": [],
         "pinned_rows": []
        }
       },
       "operations": []
      }
     }
    },
    "version_major": 2,
    "version_minor": 0
   }
  }
 },
 "nbformat": 4,
 "nbformat_minor": 5
}
