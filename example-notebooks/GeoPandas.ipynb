{
 "cells": [
  {
   "cell_type": "code",
   "execution_count": null,
   "id": "5b17aae3-6857-4eda-b8e0-a5b824edbbf4",
   "metadata": {
    "tags": []
   },
   "outputs": [],
   "source": [
    "import buckaroo\n",
    "import geopandas"
   ]
  },
  {
   "cell_type": "code",
   "execution_count": null,
   "id": "dea5fb3e-1e0c-41c0-bbe4-3f4564681665",
   "metadata": {
    "tags": []
   },
   "outputs": [],
   "source": [
    "abbrev_geo_obj = {\n",
    "    \"type\": \"FeatureCollection\",\n",
    "    \"features\": [\n",
    "        { \"id\": \"0\",\n",
    "          \"type\": \"Feature\",\n",
    "          \"properties\": { \"sovereignt\": \"Ethiopia\"},\n",
    "          \"geometry\": {\n",
    "              \"type\": \"Polygon\",\n",
    "              \"coordinates\": [[[ 47.78, 8.00],\n",
    "                               [ 44.96, 5.00],\n",
    "                               [ 43.66, 4.95],\n",
    "                               [ 46.94, 7.99],\n",
    "                               [ 47.78, 8.00]]]}},\n",
    "        { \"id\": \"1\",\n",
    "          \"type\": \"Feature\",\n",
    "          \"properties\": { \"sovereignt\": \"South Sudan\"},\n",
    "          \"geometry\": {\n",
    "          \"type\": \"Polygon\",\n",
    "          \"coordinates\": [[[ 30.83, 3.50],\n",
    "                           [ 29.95, 4.17],\n",
    "                           [ 29.71, 4.60],\n",
    "                           [ 29.15, 4.38],\n",
    "                           [ 30.83, 3.50]]]}},\n",
    "        { \"id\": \"2\",\n",
    "          \"type\": \"Feature\",\n",
    "          \"properties\": { \"sovereignt\": \"Somalia\"},\n",
    "          \"geometry\": {\n",
    "              \"type\": \"Polygon\",\n",
    "              \"coordinates\": [[[ 41.58, -1.68],\n",
    "                               [ 40.93, -0.85],\n",
    "                               [ 40.95,  2.78],\n",
    "                               [ 41.85,  3.91],\n",
    "                               [ 42.13,  4.23],\n",
    "                               [ 41.58, -1.68]]]}}]}\n",
    "abbrev_df = geopandas.GeoDataFrame.from_features(abbrev_geo_obj)\n",
    "abbrev_df"
   ]
  },
  {
   "cell_type": "code",
   "execution_count": null,
   "id": "b309bab6-01f7-4a21-a895-b4075d4c757d",
   "metadata": {
    "tags": []
   },
   "outputs": [],
   "source": [
    "import requests\n",
    "geojson = requests.get('https://gist.githubusercontent.com/chbrandt/bb64d9a6fc00a89d7410e6db8d126dfe/raw/8bc7a45c57e1c701618c940525d83bee80fd6b90/africa.geojson')\n",
    "assert 200 <= geojson.status_code < 400\n",
    "gdf = geopandas.GeoDataFrame.from_features(geojson.json())\n",
    "gdf"
   ]
  },
  {
   "cell_type": "code",
   "execution_count": null,
   "id": "28af6e6f-6402-4bcf-b38d-4e664110752e",
   "metadata": {},
   "outputs": [],
   "source": [
    "from buckaroo.geopandas import GeopandasBuckarooWidget\n",
    "#GeopandasBuckarooWidget(gdf, extra_grid_config={'rowHeight':105})\n"
   ]
  }
 ],
 "metadata": {
  "kernelspec": {
   "display_name": "Python 3 (ipykernel)",
   "language": "python",
   "name": "python3"
  },
  "language_info": {
   "codemirror_mode": {
    "name": "ipython",
    "version": 3
   },
   "file_extension": ".py",
   "mimetype": "text/x-python",
   "name": "python",
   "nbconvert_exporter": "python",
   "pygments_lexer": "ipython3",
   "version": "3.11.7"
  },
  "widgets": {
   "application/vnd.jupyter.widget-state+json": {
    "state": {},
    "version_major": 2,
    "version_minor": 0
   }
  }
 },
 "nbformat": 4,
 "nbformat_minor": 5
}
