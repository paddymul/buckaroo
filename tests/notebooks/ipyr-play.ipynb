{
 "cells": [
  {
   "cell_type": "code",
   "execution_count": null,
   "id": "cdf628cf-a0ae-4229-895f-312c77bda1bd",
   "metadata": {},
   "outputs": [],
   "source": [
    "%load_ext autoreload\n",
    "%autoreload 2\n",
    "%env ANYWIDGET_HMR=1"
   ]
  },
  {
   "cell_type": "code",
   "execution_count": null,
   "id": "e4b0a67f-a249-4b87-ae93-f7b98c46b1dc",
   "metadata": {},
   "outputs": [],
   "source": [
    "import pandas as pd\n",
    "import numpy as np\n",
    "import anywidget\n",
    "from pathlib import Path\n",
    "df = pd.DataFrame(\n",
    "    {'a':[111_111,  77_777, 777_777, 1_000_000, 2_111_111, 1_235_999],\n",
    "     'b':[111_111, 555_555,       0,    28_123,   482_388,     5_666]})"
   ]
  },
  {
   "cell_type": "code",
   "execution_count": null,
   "id": "9f34cf8a-a77a-4bd5-a172-e99cb1698640",
   "metadata": {},
   "outputs": [],
   "source": [
    "from buckaroo.buckaroo_widget import BuckarooWidget, RawDFViewerWidget, BuckarooInfiniteWidget"
   ]
  },
  {
   "cell_type": "code",
   "execution_count": null,
   "id": "78a202f2-f346-4fb4-9b96-774da9b3c55f",
   "metadata": {},
   "outputs": [],
   "source": [
    "N=2000\n",
    "large_df = pd.DataFrame({'a': np.random.randint(100,size=N), 'b': np.random.rand(N) * 5})\n",
    "BuckarooInfiniteWidget(large_df)"
   ]
  },
  {
   "cell_type": "code",
   "execution_count": null,
   "id": "cfc7f77c-d2d4-4461-806a-6d08aeb785c6",
   "metadata": {},
   "outputs": [],
   "source": [
    "BuckarooInfiniteWidget(df)"
   ]
  },
  {
   "cell_type": "code",
   "execution_count": null,
   "id": "fa238099-8aed-4709-a557-39af94651735",
   "metadata": {},
   "outputs": [],
   "source": [
    "BuckarooWidget(df)"
   ]
  },
  {
   "cell_type": "code",
   "execution_count": null,
   "id": "7e0fb703-ba94-4452-9cef-649b06e2a264",
   "metadata": {},
   "outputs": [],
   "source": [
    "RawDFViewerWidget(df) #displays the baked widget?"
   ]
  },
  {
   "cell_type": "code",
   "execution_count": null,
   "id": "41f80314-9f35-42d2-b8e4-d2273bd41393",
   "metadata": {},
   "outputs": [],
   "source": [
    "class BW2(BuckarooWidget):\n",
    "    _esm = Path(\"/Users/paddy/buckaroo/src/anyw2_react/static/widget.js\")"
   ]
  },
  {
   "cell_type": "code",
   "execution_count": null,
   "id": "0783a9ac-9e4b-4842-b93d-b9404f35a431",
   "metadata": {},
   "outputs": [],
   "source": [
    "BW2(df)"
   ]
  },
  {
   "cell_type": "code",
   "execution_count": null,
   "id": "9de64c52-d2a7-4d7e-866d-b334dadba6fe",
   "metadata": {},
   "outputs": [],
   "source": [
    "class BW3(BuckarooWidget):\n",
    "    _esm = Path(\"/Users/paddy/buckaroo/packages/bundled-staging/widget.js\")\n",
    "BW3(df)"
   ]
  },
  {
   "cell_type": "code",
   "execution_count": null,
   "id": "b51f5640-563b-4946-8b2c-b3ad7a7f8a3c",
   "metadata": {},
   "outputs": [],
   "source": [
    "class BuckarooCSSWidget(anywidget.AnyWidget):\n",
    "    _css = Path(\"./../../packages/buckaroo-js-core/dist/style.css\")\n",
    "BuckarooCSSWidget()\n",
    "class IPYBuckaroo(BuckarooWidget, ipyreact.ValueWidget):\n",
    "    _esm=\"\"\"\n",
    "import * as React from \"react\";\n",
    "import { extraComponents } from \"buckaroo-js-core\";\n",
    "\n",
    "export default function({\n",
    "    df_meta, df_data_dict, df_display_args,\n",
    "    buckaroo_state, setBuckaroo_state,\n",
    "    buckaroo_options,\n",
    "    command_config,\n",
    "    operations, setOperations,\n",
    "    operation_results}) {\n",
    "      const set_buckaroo_state = setBuckaroo_state;\n",
    "      const on_operations = setOperations;\n",
    "      console.log(\"df_data_dict\", df_data_dict);\n",
    "      console.log(\"buckaroo_state\", buckaroo_state);\n",
    "      console.log(\"buckaroo_options\", buckaroo_options);\n",
    "      console.log(\"df_display_args\", df_display_args);\n",
    "\treturn (\n",
    "\t\t<div className=\"buckaroo_anywidget\">\n",
    "\t\t    <extraComponents.WidgetDCFCell\n",
    "\t                df_meta={df_meta}\n",
    "\t                df_data_dict={df_data_dict}\n",
    "                        df_display_args={df_display_args}\n",
    "\t                        buckaroo_state={buckaroo_state}\n",
    "\t\t\t\ton_buckaroo_state={set_buckaroo_state}\n",
    "\t                        buckaroo_options={buckaroo_options}\n",
    "\t\t\t\tcommand_config={command_config}\n",
    "\t\t\t\toperations={operations}\n",
    "\t\t\t\ton_operations={on_operations}\n",
    "\t\t\t\toperation_results={operation_results}\n",
    "\t\t\t/>\n",
    "\t\t</div>\n",
    "\t);\n",
    "};\n",
    "    \"\"\"\n",
    "IPYBuckaroo(df)"
   ]
  },
  {
   "cell_type": "code",
   "execution_count": null,
   "id": "cffbfa65-207d-4c1f-ad51-5379d6652c18",
   "metadata": {},
   "outputs": [],
   "source": [
    "!cd ../../; ./scripts/full_build.sh"
   ]
  }
 ],
 "metadata": {
  "kernelspec": {
   "display_name": "Python 3 (ipykernel)",
   "language": "python",
   "name": "python3"
  },
  "language_info": {
   "codemirror_mode": {
    "name": "ipython",
    "version": 3
   },
   "file_extension": ".py",
   "mimetype": "text/x-python",
   "name": "python",
   "nbconvert_exporter": "python",
   "pygments_lexer": "ipython3",
   "version": "3.12.8"
  },
  "widgets": {
   "application/vnd.jupyter.widget-state+json": {
    "state": {},
    "version_major": 2,
    "version_minor": 0
   }
  }
 },
 "nbformat": 4,
 "nbformat_minor": 5
}
