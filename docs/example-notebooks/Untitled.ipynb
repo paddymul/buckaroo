{
 "cells": [
  {
   "cell_type": "code",
   "execution_count": null,
   "id": "cd0c5b27-346e-493d-955f-a59c7b2ad1e1",
   "metadata": {},
   "outputs": [],
   "source": []
  },
  {
   "cell_type": "code",
   "execution_count": null,
   "id": "20525cce-7d58-49ea-af06-9cfb4c90eb2b",
   "metadata": {},
   "outputs": [],
   "source": []
  },
  {
   "cell_type": "code",
   "execution_count": 2,
   "id": "891b3d19-f8c3-49ae-8969-c9b839dcf4d1",
   "metadata": {},
   "outputs": [
    {
     "name": "stdout",
     "output_type": "stream",
     "text": [
      "Buckaroo has been enabled as the default DataFrame viewer.  To return to default dataframe visualization use `from buckaroo import disable; disable()`\n"
     ]
    },
    {
     "data": {
      "application/vnd.jupyter.widget-view+json": {
       "model_id": "eec10251f063493d93bcdeb7f2ba9a6f",
       "version_major": 2,
       "version_minor": 0
      },
      "text/plain": [
       "BuckarooWidget(buckaroo_options={'sampled': ['random'], 'auto_clean': ['aggressive', 'conservative'], 'post_pr…"
      ]
     },
     "metadata": {},
     "output_type": "display_data"
    }
   ],
   "source": [
    "import pandas as pd\n",
    "#import polars as pl\n",
    "import buckaroo\n",
    "df2 = pd.DataFrame({'a':[10,20,30,40], 'b': ['a', 'aa', 'ab', 'bb']})\n",
    "df2"
   ]
  },
  {
   "cell_type": "code",
   "execution_count": 2,
   "id": "cd7f7dca-835e-4223-a437-9a4fb70266ce",
   "metadata": {},
   "outputs": [
    {
     "data": {
      "application/vnd.jupyter.widget-view+json": {
       "model_id": "ec08568affff4599832a94cf144902e8",
       "version_major": 2,
       "version_minor": 0
      },
      "text/plain": [
       "PolarsBuckarooWidget(buckaroo_options={'sampled': ['random'], 'auto_clean': ['aggressive', 'conservative'], 'p…"
      ]
     },
     "metadata": {},
     "output_type": "display_data"
    }
   ],
   "source": [
    "df = pl.DataFrame({'a':[10,20,30,40, 50], 'b': ['a', 'aa', 'ab', 'bb', 'cc',], 'c': ['8', '9', 'cc', 'ff', 'aa']})\n",
    "\n",
    "df.filter(pl.col('b').str.contains('cc'))\n",
    "df.filter(pl.any_horizontal(pl.col(pl.String).str.contains('aa')))"
   ]
  },
  {
   "cell_type": "code",
   "execution_count": null,
   "id": "55db9868-06a1-4622-ba81-7eaa2e62cc70",
   "metadata": {},
   "outputs": [],
   "source": [
    "df"
   ]
  },
  {
   "cell_type": "code",
   "execution_count": null,
   "id": "b181849b-e33a-4f21-bd06-07092edd03ee",
   "metadata": {},
   "outputs": [],
   "source": [
    "ab = pl.col('a').str\n",
    "dir(ab)"
   ]
  },
  {
   "cell_type": "code",
   "execution_count": null,
   "id": "0d9d9a77-d2e6-494f-b3a9-24c98c971f00",
   "metadata": {},
   "outputs": [],
   "source": [
    "import pandas as pd\n",
    "import buckaroo\n",
    "\n",
    "\n",
    "\n",
    "df.filter(pl.col('col1').str.contains_any(a_list))\n",
    "# Create a sample DataFrame with a string index\n",
    "data = {'value': [10, 20, 30]}\n",
    "index = ['2024-06-24 09:32:00-04:00', '2024-06-24 09:33:00-04:00', '2024-06-24 09:34:00-04:00']\n",
    "\n",
    "# Build the data frame\n",
    "df = pd.DataFrame(data, index=index)\n",
    "\n",
    "# Convert string index to datetime\n",
    "df.index = pd.to_datetime(df.index)\n",
    "\n",
    "# remove localize\n",
    "#df.index = df.index.tz_localize(None)\n",
    "\n",
    "# Display df\n",
    "buckaroo.BuckarooWidget(df)"
   ]
  },
  {
   "cell_type": "code",
   "execution_count": null,
   "id": "4df94745-739c-4b18-99a6-59dc9cb6967a",
   "metadata": {
    "tags": []
   },
   "outputs": [],
   "source": [
    "import pandas as pd\n",
    "import json\n",
    "import fastf1\n",
    "ev2020 = fastf1.get_event_schedule(2020)"
   ]
  },
  {
   "cell_type": "code",
   "execution_count": null,
   "id": "0d27a1d2-904e-4bea-b01d-8b0ff3f8b0f9",
   "metadata": {},
   "outputs": [],
   "source": [
    "df = pd.read_parquet(\"/Users/paddy/code/girlfriend-clock/full_df.parquet\")"
   ]
  },
  {
   "cell_type": "code",
   "execution_count": null,
   "id": "6613f9a8-18eb-4d91-94b9-b572307d8ce3",
   "metadata": {},
   "outputs": [],
   "source": [
    "df = pl.read_parquet(\"/Users/paddy/code/girlfriend-clock/full_df.parquet\")\n",
    "df"
   ]
  },
  {
   "cell_type": "code",
   "execution_count": null,
   "id": "e572c170-6fb3-4532-8c78-a896b270a6f6",
   "metadata": {},
   "outputs": [],
   "source": [
    "df = pd.read_parquet(\"/Users/paddy/code/girlfriend-clock/full_df.parquet\")\n",
    "df"
   ]
  },
  {
   "cell_type": "code",
   "execution_count": null,
   "id": "36a3b444-cd49-43ca-a5dd-70db862d5d62",
   "metadata": {},
   "outputs": [],
   "source": [
    "bw = buckaroo.BuckarooWidget(df2)"
   ]
  },
  {
   "cell_type": "code",
   "execution_count": null,
   "id": "5c8e94ac-aeb2-4274-80a6-5685c7f67ec4",
   "metadata": {},
   "outputs": [],
   "source": [
    "bw.df_data_dict"
   ]
  },
  {
   "cell_type": "code",
   "execution_count": null,
   "id": "4a78e4dc-8ce8-4a43-9d48-8fe908801d5c",
   "metadata": {},
   "outputs": [],
   "source": [
    "pip install -ve ."
   ]
  },
  {
   "cell_type": "code",
   "execution_count": null,
   "id": "e37425c9-78e9-4233-966e-3b3ce49aa55d",
   "metadata": {
    "tags": []
   },
   "outputs": [],
   "source": [
    "ts = pd.Timestamp('2020-02-21T00:00:00.000000000')"
   ]
  },
  {
   "cell_type": "code",
   "execution_count": null,
   "id": "7926b4b3-5112-4111-9da9-d3a2db893f39",
   "metadata": {
    "tags": []
   },
   "outputs": [],
   "source": [
    "type(ts)"
   ]
  },
  {
   "cell_type": "code",
   "execution_count": null,
   "id": "79ed81f5-76ea-4f94-8121-74bc5cad9366",
   "metadata": {
    "tags": []
   },
   "outputs": [],
   "source": [
    "val2 = pd.Series([ts]).mode().values[0]"
   ]
  },
  {
   "cell_type": "code",
   "execution_count": null,
   "id": "ee35779f-e599-46f8-abc8-6bcf3b28343d",
   "metadata": {
    "tags": []
   },
   "outputs": [],
   "source": [
    "sdf = pd.DataFrame({'a':[ts], 'b':[val2]}, index=['mode'])\n",
    "\n",
    "sdf.to_json(orient='table', indent=2, default_handler=str)"
   ]
  },
  {
   "cell_type": "code",
   "execution_count": null,
   "id": "190c857d-c4dd-490e-9465-47c1471d4193",
   "metadata": {
    "tags": []
   },
   "outputs": [],
   "source": [
    "type(val2)"
   ]
  },
  {
   "cell_type": "code",
   "execution_count": null,
   "id": "d04e4175-8d09-4f6b-8ae7-7ad380a07b1a",
   "metadata": {
    "tags": []
   },
   "outputs": [],
   "source": [
    "sdf.dtypes"
   ]
  },
  {
   "cell_type": "code",
   "execution_count": null,
   "id": "1bf4c899-cc12-4e35-81ca-79d4ad18310e",
   "metadata": {},
   "outputs": [],
   "source": [
    "ts = pd.Timestamp('2020-02-21T00:00:00.000000000')\n",
    "np_dt = pd.Series([ts]).mode().values[0]\n",
    "sdf = pd.DataFrame({'a':[ts], 'b':[np_dt]}, index=['mode'])\n",
    "sdf.to_json(orient='table', indent=2, default_handler=str)"
   ]
  },
  {
   "cell_type": "code",
   "execution_count": null,
   "id": "7620a19c-8c2e-4089-a28f-d682a82f297f",
   "metadata": {
    "tags": []
   },
   "outputs": [],
   "source": [
    "ev2020.dtypes"
   ]
  },
  {
   "cell_type": "code",
   "execution_count": null,
   "id": "abada843-cf37-4dca-8526-50484f1bb8cb",
   "metadata": {},
   "outputs": [],
   "source": [
    "df.to_json(indent=2, default_handler=my_handle)"
   ]
  },
  {
   "cell_type": "code",
   "execution_count": null,
   "id": "9a88d2b5-4123-49c4-9fae-a0c5efdadb2d",
   "metadata": {},
   "outputs": [],
   "source": [
    "def my_handle(val):\n",
    "    print(\"val\", val)\n",
    "    return str(val)\n",
    "df.to_json(orient='table', indent=2, default_handler=my_handle)"
   ]
  },
  {
   "cell_type": "code",
   "execution_count": null,
   "id": "5ee5bc51-5865-42ab-a0fd-8be885dd9938",
   "metadata": {},
   "outputs": [],
   "source": [
    "pd.__version__"
   ]
  },
  {
   "cell_type": "code",
   "execution_count": null,
   "id": "ff241faf-7531-4cb1-aa09-4e81e97fe123",
   "metadata": {},
   "outputs": [],
   "source": []
  }
 ],
 "metadata": {
  "kernelspec": {
   "display_name": "Python 3 (ipykernel)",
   "language": "python",
   "name": "python3"
  },
  "language_info": {
   "codemirror_mode": {
    "name": "ipython",
    "version": 3
   },
   "file_extension": ".py",
   "mimetype": "text/x-python",
   "name": "python",
   "nbconvert_exporter": "python",
   "pygments_lexer": "ipython3",
   "version": "3.12.7"
  },
  "widgets": {
   "application/vnd.jupyter.widget-state+json": {
    "state": {
     "75f81577fd994b788f808d6646c939e2": {
      "model_module": "@jupyter-widgets/base",
      "model_module_version": "2.0.0",
      "model_name": "LayoutModel",
      "state": {}
     },
     "eec10251f063493d93bcdeb7f2ba9a6f": {
      "model_module": "buckaroo",
      "model_module_version": "^0.7.6",
      "model_name": "DCEFWidgetModel",
      "state": {
       "_model_module_version": "^0.7.6",
       "_view_module_version": "^0.7.6",
       "_view_name": "DCEFWidgetView",
       "buckaroo_options": {
        "auto_clean": [
         "aggressive",
         "conservative"
        ],
        "df_display": [
         "main",
         "summary"
        ],
        "post_processing": [
         ""
        ],
        "sampled": [
         "random"
        ],
        "show_commands": [
         "on"
        ],
        "summary_stats": [
         "all"
        ]
       },
       "buckaroo_state": {
        "cleaning_method": "NoCleaning",
        "df_display": "main",
        "post_processing": "",
        "quick_command_args": {},
        "sampled": false,
        "search_string": "",
        "show_commands": false
       },
       "commandConfig": {
        "argspecs": {
         "drop_duplicates": [
          [
           3,
           "keep",
           "enum",
           [
            "first",
            "last",
            "False"
           ]
          ]
         ],
         "dropcol": [
          null
         ],
         "fillna": [
          [
           3,
           "fillVal",
           "type",
           "integer"
          ]
         ],
         "groupby": [
          [
           3,
           "colMap",
           "colEnum",
           [
            "null",
            "mean",
            "median",
            "min",
            "max",
            "sum",
            "count",
            "count_null",
            "std",
            "empty",
            "h",
            "nunique",
            "is_monotonic",
            "is_monotonic_decreasing",
            "is_monotonic_increasing",
            "all",
            "any",
            "autocorr",
            "kurt",
            "mad",
            "sem",
            "skew",
            "i",
            "idxmin",
            "dtype",
            "dtypes",
            "nbytes",
            "ndim",
            "size"
           ]
          ]
         ],
         "groupby_transform": [
          [
           3,
           "colMap",
           "colEnum",
           [
            "null",
            "mean",
            "median",
            "min",
            "max",
            "sum",
            "count",
            "count_null",
            "std",
            "empty",
            "h",
            "nunique",
            "is_monotonic",
            "is_monotonic_decreasing",
            "is_monotonic_increasing",
            "all",
            "any",
            "autocorr",
            "kurt",
            "mad",
            "sem",
            "skew",
            "i",
            "idxmin",
            "dtype",
            "dtypes",
            "nbytes",
            "ndim",
            "size"
           ]
          ]
         ],
         "linear_regression": [
          [
           3,
           "x_cols",
           "colEnum",
           [
            "null",
            "basic",
            "one_hot"
           ]
          ]
         ],
         "make_category": [
          null
         ],
         "only_outliers": [
          [
           3,
           "only_outliers",
           "type",
           "float"
          ]
         ],
         "rank": [
          [
           3,
           "method",
           "enum",
           [
            "None",
            "min",
            "dense"
           ]
          ],
          [
           4,
           "new_col",
           "bool"
          ]
         ],
         "remove_outliers": [
          [
           3,
           "remove_outliers",
           "type",
           "float"
          ]
         ],
         "safe_int": [
          null
         ],
         "search": [
          [
           3,
           "term",
           "type",
           "string"
          ]
         ],
         "search_col": [
          [
           3,
           "term",
           "type",
           "string"
          ]
         ]
        },
        "defaultArgs": {
         "drop_duplicates": [
          {
           "symbol": "drop_duplicates"
          },
          {
           "symbol": "df"
          },
          "col",
          "first"
         ],
         "dropcol": [
          {
           "symbol": "dropcol"
          },
          {
           "symbol": "df"
          },
          "col"
         ],
         "fillna": [
          {
           "symbol": "fillna"
          },
          {
           "symbol": "df"
          },
          "col",
          8
         ],
         "groupby": [
          {
           "symbol": "groupby"
          },
          {
           "symbol": "df"
          },
          "col",
          {}
         ],
         "groupby_transform": [
          {
           "symbol": "groupby_transform"
          },
          {
           "symbol": "df"
          },
          "col",
          {}
         ],
         "linear_regression": [
          {
           "symbol": "linear_regression"
          },
          {
           "symbol": "df"
          },
          "col",
          {}
         ],
         "make_category": [
          {
           "symbol": "make_category"
          },
          {
           "symbol": "df"
          },
          "col"
         ],
         "only_outliers": [
          {
           "symbol": "only_outliers"
          },
          {
           "symbol": "df"
          },
          "col",
          0.01
         ],
         "rank": [
          {
           "symbol": "rank"
          },
          {
           "symbol": "df"
          },
          "col",
          "None",
          false
         ],
         "remove_outliers": [
          {
           "symbol": "remove_outliers"
          },
          {
           "symbol": "df"
          },
          "col",
          0.01
         ],
         "safe_int": [
          {
           "symbol": "safe_int"
          },
          {
           "symbol": "df"
          },
          "col"
         ],
         "search": [
          {
           "symbol": "search"
          },
          {
           "symbol": "df"
          },
          "col",
          ""
         ],
         "search_col": [
          {
           "symbol": "search_col"
          },
          {
           "symbol": "df"
          },
          "col",
          ""
         ]
        }
       },
       "df_data_dict": {
        "all_stats": [
         {
          "a": "int64",
          "b": "object",
          "index": "dtype"
         },
         {
          "a": true,
          "b": false,
          "index": "is_numeric"
         },
         {
          "a": true,
          "b": false,
          "index": "is_integer"
         },
         {
          "a": false,
          "b": false,
          "index": "is_datetime"
         },
         {
          "a": false,
          "b": false,
          "index": "is_bool"
         },
         {
          "a": false,
          "b": false,
          "index": "is_float"
         },
         {
          "a": "integer",
          "b": "string",
          "index": "_type"
         },
         {
          "a": false,
          "b": true,
          "index": "is_string"
         },
         {
          "a": 164,
          "b": 164,
          "index": "memory_usage"
         },
         {
          "a": 4,
          "b": 4,
          "index": "length"
         },
         {
          "a": 10,
          "b": null,
          "index": "min"
         },
         {
          "a": 40,
          "b": null,
          "index": "max"
         },
         {
          "a": 25,
          "b": 0,
          "index": "mean"
         },
         {
          "a": 0,
          "b": 0,
          "index": "nan_count"
         },
         {
          "a": [
           1,
           1,
           1,
           1
          ],
          "b": [
           1,
           1,
           1,
           1
          ],
          "index": "value_counts"
         },
         {
          "a": 10,
          "b": "a",
          "index": "mode"
         },
         {
          "a": 1,
          "b": 1,
          "index": "distinct_per"
         },
         {
          "a": 0,
          "b": 0,
          "index": "empty_per"
         },
         {
          "a": 1,
          "b": 1,
          "index": "unique_per"
         },
         {
          "a": 0,
          "b": 0,
          "index": "nan_per"
         },
         {
          "a": 4,
          "b": 4,
          "index": "unique_count"
         },
         {
          "a": 0,
          "b": 0,
          "index": "empty_count"
         },
         {
          "a": 4,
          "b": 4,
          "index": "distinct_count"
         },
         {
          "a": [
           {
            "cat_pop": 25,
            "name": 10
           },
           {
            "cat_pop": 25,
            "name": 20
           },
           {
            "cat_pop": 25,
            "name": 30
           },
           {
            "cat_pop": 25,
            "name": 40
           },
           {
            "name": "longtail",
            "unique": 100
           }
          ],
          "b": [
           {
            "cat_pop": 25,
            "name": "a"
           },
           {
            "cat_pop": 25,
            "name": "aa"
           },
           {
            "cat_pop": 25,
            "name": "ab"
           },
           {
            "cat_pop": 25,
            "name": "bb"
           },
           {
            "name": "longtail",
            "unique": 100
           }
          ],
          "index": "histogram"
         },
         {
          "a": {
           "high_tail": 39.7,
           "low_tail": 10.3,
           "meat_histogram": [
            [
             1,
             0,
             0,
             0,
             0,
             0,
             0,
             0,
             0,
             1
            ],
            [
             20,
             21,
             22,
             23,
             24,
             25,
             26,
             27,
             28,
             29,
             30
            ]
           ],
           "normalized_populations": [
            0.5,
            0,
            0,
            0,
            0,
            0,
            0,
            0,
            0,
            0.5
           ]
          },
          "b": {},
          "index": "histogram_args"
         },
         {
          "a": [
           20,
           21,
           22,
           23,
           24,
           25,
           26,
           27,
           28,
           29,
           30
          ],
          "b": [],
          "index": "histogram_bins"
         }
        ],
        "empty": [],
        "main": [
         {
          "a": 10,
          "b": "a",
          "index": 0
         },
         {
          "a": 20,
          "b": "aa",
          "index": 1
         },
         {
          "a": 30,
          "b": "ab",
          "index": 2
         },
         {
          "a": 40,
          "b": "bb",
          "index": 3
         }
        ]
       },
       "df_display_args": {
        "main": {
         "data_key": "main",
         "df_viewer_config": {
          "column_config": [
           {
            "col_name": "index",
            "displayer_args": {
             "displayer": "float",
             "max_fraction_digits": 0,
             "min_fraction_digits": 0
            }
           },
           {
            "col_name": "a",
            "displayer_args": {
             "displayer": "float",
             "max_fraction_digits": 0,
             "min_fraction_digits": 0
            }
           },
           {
            "col_name": "b",
            "displayer_args": {
             "displayer": "string",
             "max_length": 35
            }
           }
          ],
          "component_config": {},
          "extra_grid_config": {},
          "pinned_rows": [
           {
            "displayer_args": {
             "displayer": "obj"
            },
            "primary_key_val": "dtype"
           },
           {
            "displayer_args": {
             "displayer": "histogram"
            },
            "primary_key_val": "histogram"
           }
          ]
         },
         "summary_stats_key": "all_stats"
        },
        "summary": {
         "data_key": "empty",
         "df_viewer_config": {
          "column_config": [
           {
            "col_name": "index",
            "displayer_args": {
             "displayer": "obj"
            }
           },
           {
            "col_name": "a",
            "displayer_args": {
             "displayer": "obj"
            }
           },
           {
            "col_name": "b",
            "displayer_args": {
             "displayer": "obj"
            }
           }
          ],
          "component_config": {},
          "extra_grid_config": {},
          "pinned_rows": [
           {
            "displayer_args": {
             "displayer": "obj"
            },
            "primary_key_val": "dtype"
           },
           {
            "displayer_args": {
             "displayer": "float",
             "max_fraction_digits": 3,
             "min_fraction_digits": 3
            },
            "primary_key_val": "min"
           },
           {
            "displayer_args": {
             "displayer": "float",
             "max_fraction_digits": 3,
             "min_fraction_digits": 3
            },
            "primary_key_val": "mean"
           },
           {
            "displayer_args": {
             "displayer": "float",
             "max_fraction_digits": 3,
             "min_fraction_digits": 3
            },
            "primary_key_val": "max"
           },
           {
            "displayer_args": {
             "displayer": "float",
             "max_fraction_digits": 0,
             "min_fraction_digits": 0
            },
            "primary_key_val": "unique_count"
           },
           {
            "displayer_args": {
             "displayer": "float",
             "max_fraction_digits": 0,
             "min_fraction_digits": 0
            },
            "primary_key_val": "distinct_count"
           },
           {
            "displayer_args": {
             "displayer": "float",
             "max_fraction_digits": 0,
             "min_fraction_digits": 0
            },
            "primary_key_val": "empty_count"
           }
          ]
         },
         "summary_stats_key": "all_stats"
        }
       },
       "df_meta": {
        "columns": 2,
        "filtered_rows": 4,
        "rows_shown": 4,
        "total_rows": 4
       },
       "layout": "IPY_MODEL_75f81577fd994b788f808d6646c939e2",
       "operation_results": {
        "generated_py_code": "no operations",
        "transformed_df": null
       },
       "operations": []
      }
     }
    },
    "version_major": 2,
    "version_minor": 0
   }
  }
 },
 "nbformat": 4,
 "nbformat_minor": 5
}
