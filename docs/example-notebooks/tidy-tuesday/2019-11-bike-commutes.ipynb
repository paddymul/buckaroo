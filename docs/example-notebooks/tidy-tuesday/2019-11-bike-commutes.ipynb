{
 "cells": [
  {
   "cell_type": "code",
   "execution_count": null,
   "id": "e3407bdb-1154-41bd-8947-89b3105ef509",
   "metadata": {},
   "outputs": [],
   "source": [
    "https://github.com/rfordatascience/tidytuesday/tree/master/data/2019/2019-11-05\n"
   ]
  },
  {
   "cell_type": "code",
   "execution_count": null,
   "id": "b57ae41f-c812-441a-9b6e-afca371522a8",
   "metadata": {
    "tags": []
   },
   "outputs": [],
   "source": [
    "import pandas as pd\n",
    "import buckaroo"
   ]
  },
  {
   "cell_type": "code",
   "execution_count": null,
   "id": "b12c0a7b-0010-4676-b145-ec20fa32627a",
   "metadata": {
    "tags": []
   },
   "outputs": [],
   "source": [
    "df = pd.read_csv(\"https://raw.githubusercontent.com/rfordatascience/tidytuesday/master/data/2019/2019-11-05/commute.csv\")\n",
    "df"
   ]
  },
  {
   "cell_type": "code",
   "execution_count": null,
   "id": "9d66e3fc-7908-44e1-823c-f187374b6253",
   "metadata": {
    "tags": []
   },
   "outputs": [],
   "source": [
    "df['city'].apply(lambda x: x.split(' ')[-1])"
   ]
  },
  {
   "cell_type": "code",
   "execution_count": null,
   "id": "5bf645ff-a5dc-406e-a488-b97728574da4",
   "metadata": {
    "tags": []
   },
   "outputs": [],
   "source": [
    "from buckaroo.pluggable_analysis_framework.pluggable_analysis_framework import ColAnalysis\n",
    "bw = buckaroo.BuckarooWidget(df)\n",
    "\n",
    "@bw.add_processing\n",
    "def transform_city(df):\n",
    "    df['muni_type'] = df['city'].apply(lambda x: x.split(' ')[-1])\n",
    "    df['muni_name'] = df['city'].apply(lambda x: ' '.join(x.split(' ')[:-1]))\n",
    "    return df\n",
    "bw"
   ]
  },
  {
   "cell_type": "code",
   "execution_count": null,
   "id": "8ec67615-a239-4826-9674-ccce04b34c03",
   "metadata": {},
   "outputs": [],
   "source": []
  }
 ],
 "metadata": {
  "kernelspec": {
   "display_name": "Python 3 (ipykernel)",
   "language": "python",
   "name": "python3"
  },
  "language_info": {
   "codemirror_mode": {
    "name": "ipython",
    "version": 3
   },
   "file_extension": ".py",
   "mimetype": "text/x-python",
   "name": "python",
   "nbconvert_exporter": "python",
   "pygments_lexer": "ipython3",
   "version": "3.11.7"
  },
  "widgets": {
   "application/vnd.jupyter.widget-state+json": {
    "state": {},
    "version_major": 2,
    "version_minor": 0
   }
  }
 },
 "nbformat": 4,
 "nbformat_minor": 5
}
