{
 "cells": [
  {
   "cell_type": "code",
   "execution_count": null,
   "id": "d8f47719-21e9-4a99-bb44-73c4f8b99c3d",
   "metadata": {},
   "outputs": [],
   "source": [
    "import pandas as pd\n",
    "import datacompy\n",
    "from buckaroo import BuckarooWidget\n",
    "from datacompy_app import DatacompyBuckaroo"
   ]
  },
  {
   "cell_type": "code",
   "execution_count": null,
   "id": "4a405785-0456-4a78-aec8-4e8045d7462a",
   "metadata": {},
   "outputs": [],
   "source": [
    "# Create sample DataFrames\n",
    "df_a = pd.DataFrame({\n",
    "    'a': [1, 2, 3, 4, 5, 6, 7, 8],\n",
    "    'b': [4, 5, 4, 9, 4, 6, 7, 8],\n",
    "    'c': ['foo', 'foo', 'bar', None, None, 'bar', 'bar', 'foo']})\n",
    "\n",
    "df_b = pd.DataFrame({\n",
    "    'a': [1, 2, 3, 4, 5, 6, 7, 8],\n",
    "    'b': [4, 5, 4, 4, 4, 6, 4, 4],\n",
    "    'd': ['foo', 'baz', 'baz', 'bar', None, None, 'bar', 'bar'],\n",
    "    'f': [100, 10, 1, 200, 150, 140, 130, 120]\n",
    "})  # Notice the difference in the last row\n",
    "\n",
    "# a doesn't line up \n",
    "df_c = pd.DataFrame({\n",
    "    'a': [3, 4, 5, 6, 7, 8, 9, 10],\n",
    "    'b': [4, 5, 7, 4, 4, 6, 4, 4],\n",
    "    'd': ['foo', 'baz', 'baz', 'bar', None, None, 'bar', 'bar'],\n",
    "})  # Notice the difference in the last row"
   ]
  },
  {
   "cell_type": "code",
   "execution_count": null,
   "id": "f006e0dd-c8f7-4d7f-b75f-72a1d37787c4",
   "metadata": {},
   "outputs": [],
   "source": [
    "dcbw = DatacompyBuckaroo(df_a, df_c, join_columns=['a'], how='outer')"
   ]
  },
  {
   "cell_type": "code",
   "execution_count": null,
   "id": "95d9ce1f-71b1-4fa2-bde6-8ffbc642c574",
   "metadata": {},
   "outputs": [],
   "source": [
    "#DatacompyBuckaroo(df_a, df_b)"
   ]
  },
  {
   "cell_type": "code",
   "execution_count": null,
   "id": "fbaf2619-8967-4494-986a-9499069b4ede",
   "metadata": {},
   "outputs": [],
   "source": []
  },
  {
   "cell_type": "code",
   "execution_count": null,
   "id": "1ac6d0e4-4e55-4791-a067-2122876ea750",
   "metadata": {},
   "outputs": [],
   "source": [
    "m_df = pd.merge(df_a, df_c, on='a', how='outer', suffixes=[\"\", \"|df2\"])\n",
    "m_df"
   ]
  },
  {
   "cell_type": "code",
   "execution_count": null,
   "id": "8354b661-ce1d-4bd8-a553-800791eb0589",
   "metadata": {},
   "outputs": [],
   "source": [
    "both_columns = [c for c in m_df.columns if \"|df2\" in c]\n",
    "col = both_columns[0]\n",
    "a_col = col.removesuffix(\"|df2\")\n",
    "m_df.loc[(m_df[a_col] == m_df[col]), col] = None"
   ]
  },
  {
   "cell_type": "code",
   "execution_count": null,
   "id": "fbb07639-e464-4850-bd24-22d6e98d7947",
   "metadata": {},
   "outputs": [],
   "source": [
    "m_df['a'].isin(df_c['a'])"
   ]
  },
  {
   "cell_type": "code",
   "execution_count": null,
   "id": "868fa96a-1a75-4885-9d04-f016a1d7deb7",
   "metadata": {},
   "outputs": [],
   "source": [
    "(m_df['a'].isin(df_c['a'])).astype('Int8')"
   ]
  },
  {
   "cell_type": "code",
   "execution_count": null,
   "id": "ef92cdf9-7313-462e-aba1-5aa6e89fbd5a",
   "metadata": {},
   "outputs": [],
   "source": [
    "((m_df['a'].isin(df_c['a'])).astype('Int8')* 2) + (m_df['a'].isin(df_a['a']).astype('Int8'))"
   ]
  },
  {
   "cell_type": "code",
   "execution_count": null,
   "id": "236069c6-68e9-45b6-b229-bc7f9c24aa26",
   "metadata": {},
   "outputs": [],
   "source": [
    "m_df"
   ]
  },
  {
   "cell_type": "code",
   "execution_count": null,
   "id": "d4e02fc6-40d2-46b3-8e78-114a61926112",
   "metadata": {},
   "outputs": [],
   "source": [
    "col.removesuffix"
   ]
  },
  {
   "cell_type": "code",
   "execution_count": null,
   "id": "a7c58c22-18c5-4878-a6f3-30a689196c4a",
   "metadata": {},
   "outputs": [],
   "source": [
    "col.removesuffix(\"|df2\")"
   ]
  },
  {
   "cell_type": "code",
   "execution_count": null,
   "id": "66f60b57-c666-4d86-b62b-aa53e825d55e",
   "metadata": {},
   "outputs": [],
   "source": [
    "print(datacompy.Compare(df_a, df_c, join_columns=['a']).report())"
   ]
  },
  {
   "cell_type": "code",
   "execution_count": null,
   "id": "544f4c8d-96bc-4388-97ee-bb63bf566ce3",
   "metadata": {},
   "outputs": [],
   "source": [
    "df3 = pd.DataFrame({\n",
    "        'id': [0, 1, 2, 3],\n",
    "        'Feature1': ['A', 'C', 'E', 'G'],\n",
    "        'Feature2': ['B', 'D', 'F', 'H']},\n",
    "        columns = ['id', 'Feature1', 'Feature2'])\n",
    "df3 = pd.DataFrame(\n",
    "    {\n",
    "        'id': [3, 4, 5, 6],\n",
    "        'Feature1': ['E', 'G', 'I', None],\n",
    "        'Feature2': ['B', 'D', 'F', 'H', ]},\n",
    "    columns=['id', 'Feature1', 'Feature2'])\n",
    "pd.merge(df1, df2, on=['id'], how='outer')"
   ]
  },
  {
   "cell_type": "code",
   "execution_count": null,
   "id": "08fad926-ef01-482e-b4cd-85bcd00b970f",
   "metadata": {},
   "outputs": [],
   "source": [
    "pd.merge?"
   ]
  },
  {
   "cell_type": "code",
   "execution_count": null,
   "id": "0ea4e87b-3d97-4515-8ba9-4730b7111ef2",
   "metadata": {},
   "outputs": [],
   "source": [
    "import datacompy\n",
    "cmp = datacompy.Compare(df1, df2, join_columns=['id'])"
   ]
  },
  {
   "cell_type": "code",
   "execution_count": null,
   "id": "96d24c6d-6eba-49a0-aba3-83ed0f8e84c5",
   "metadata": {},
   "outputs": [],
   "source": [
    "print(cmp.report())"
   ]
  },
  {
   "cell_type": "code",
   "execution_count": null,
   "id": "22b7d9d0-9244-4ed3-91f6-1fcd8b1d7359",
   "metadata": {},
   "outputs": [],
   "source": [
    "dummy_data1 = {\n",
    "        'id': [0, 1, 2, 3, 4],\n",
    "        'Feature1': ['A', 'C', 'E', 'G', 'I'],\n",
    "        'Feature2': ['B', 'D', 'F', 'H', 'J']}\n",
    "df1 = pd.DataFrame(dummy_data1, columns = ['id', 'Feature1', 'Feature2'])\n",
    "dummy_data2 = {\n",
    "        'id': [3, 4, 5, 6, 7],\n",
    "        'Feature1': ['E', 'G', 'I', None, None],\n",
    "        'Feature2': ['B', 'D', 'F', 'H', 'J']}\n",
    "df2 = pd.DataFrame(dummy_data2, columns = ['id', 'Feature1', 'Feature2'])\n",
    "BuckarooWidget(df1)"
   ]
  },
  {
   "cell_type": "code",
   "execution_count": null,
   "id": "cd4a81bf-a7f0-4d8f-bdee-f8a43c7875c2",
   "metadata": {},
   "outputs": [],
   "source": [
    "dummy_data2 = {\n",
    "        'id': [3, 4, 5, 6, 7],\n",
    "        'Feature1': ['E', 'G', 'I', None, None],\n",
    "        'Feature2': ['B', 'D', 'F', 'H', 'J']}\n",
    "df2 = pd.DataFrame(dummy_data2, columns = ['id', 'Feature1', 'Feature2'])\n",
    "BuckarooWidget(df2)"
   ]
  },
  {
   "cell_type": "code",
   "execution_count": null,
   "id": "2fbc5972-0662-4589-be99-6b357a3cb89a",
   "metadata": {},
   "outputs": [],
   "source": [
    "pd.merge(df1, df2, on=['id'], how='outer')"
   ]
  },
  {
   "cell_type": "code",
   "execution_count": null,
   "id": "7572efdc-1cf0-4392-ad3f-e5e30d3bf81e",
   "metadata": {},
   "outputs": [],
   "source": [
    "dummy_data2 = {\n",
    "        'id': ['1', '2', '6', '7', '8'],\n",
    "        'Feature1': ['K', 'M', 'O', 'Q', 'S'],\n",
    "        'Feature2': ['L', 'N', 'P', 'R', 'T']}\n",
    "df2 = pd.DataFrame(dummy_data2, columns = ['id', 'Feature1', 'Feature2'])\n",
    "df2"
   ]
  },
  {
   "cell_type": "code",
   "execution_count": null,
   "id": "5864c5d5-f0c4-402e-8d3f-b08744172d0d",
   "metadata": {},
   "outputs": [],
   "source": [
    "dummy_data3 = {\n",
    "        'id': ['1', '2', '3', '4', '5', '7', '8', '9', '10', '11'],\n",
    "        'Feature3': [12, 13, 14, 15, 16, 17, 15, 12, 13, 23]}\n",
    "df3 = pd.DataFrame(dummy_data3, columns = ['id', 'Feature3'])\n",
    "df3"
   ]
  },
  {
   "cell_type": "code",
   "execution_count": null,
   "id": "8994aefc-b1d8-4385-a6eb-6a4456add1bd",
   "metadata": {},
   "outputs": [],
   "source": [
    "df_outer = pd.merge(df1, df2, on='id', how='outer')\n",
    "df_outer"
   ]
  },
  {
   "cell_type": "code",
   "execution_count": null,
   "id": "aad3ca72-90dc-4809-b208-f58cce254125",
   "metadata": {},
   "outputs": [],
   "source": [
    "df_suffix = pd.merge(df1, df2, left_on='id',right_on='id',how='outer',suffixes=('_left','_right'))\n",
    "df_suffix"
   ]
  },
  {
   "cell_type": "code",
   "execution_count": null,
   "id": "524fbe3c-41b2-494a-b229-b67137b8f0d6",
   "metadata": {},
   "outputs": [],
   "source": [
    "df2.join(df3, lsuffix='_left', rsuffix='_right')"
   ]
  },
  {
   "cell_type": "code",
   "execution_count": null,
   "id": "208c9fe2-685a-4b7a-9062-5a73083f1ea5",
   "metadata": {},
   "outputs": [],
   "source": [
    "a = ['a', 'b', 'c']\n",
    "a.pop()"
   ]
  },
  {
   "cell_type": "code",
   "execution_count": null,
   "id": "5c285a12-52f0-4a1b-9902-1be3fd8efad6",
   "metadata": {},
   "outputs": [],
   "source": [
    "a"
   ]
  },
  {
   "cell_type": "code",
   "execution_count": null,
   "id": "d73dff52-dd87-428a-9d5f-fc0df8275641",
   "metadata": {},
   "outputs": [],
   "source": []
  }
 ],
 "metadata": {
  "kernelspec": {
   "display_name": "Python 3 (ipykernel)",
   "language": "python",
   "name": "python3"
  },
  "language_info": {
   "codemirror_mode": {
    "name": "ipython",
    "version": 3
   },
   "file_extension": ".py",
   "mimetype": "text/x-python",
   "name": "python",
   "nbconvert_exporter": "python",
   "pygments_lexer": "ipython3",
   "version": "3.12.8"
  },
  "widgets": {
   "application/vnd.jupyter.widget-state+json": {
    "state": {},
    "version_major": 2,
    "version_minor": 0
   }
  }
 },
 "nbformat": 4,
 "nbformat_minor": 5
}
