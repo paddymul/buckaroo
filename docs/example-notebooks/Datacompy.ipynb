{
 "cells": [
  {
   "cell_type": "code",
   "execution_count": null,
   "id": "d8f47719-21e9-4a99-bb44-73c4f8b99c3d",
   "metadata": {},
   "outputs": [],
   "source": [
    "import pandas as pd\n",
    "import datacompy\n",
    "from datacompy_app import DatacompyBuckaroo"
   ]
  },
  {
   "cell_type": "code",
   "execution_count": null,
   "id": "4a405785-0456-4a78-aec8-4e8045d7462a",
   "metadata": {},
   "outputs": [],
   "source": [
    "# Create sample DataFrames\n",
    "df_a = pd.DataFrame({\n",
    "    'a': [1, 2, 3, 4, 5, 6, 7, 8],\n",
    "    'b': [4, 5, 6, 4, 4, 6, 7, 8],\n",
    "    'c': ['foo', 'foo', 'bar', None, None, 'bar', 'bar', 'foo'],\n",
    "    'e': [100, 10, 1, 200, 150, 140, 130, 120]})\n",
    "\n",
    "df_b = pd.DataFrame({\n",
    "    'a': [1, 2, 3, 4, 5, 6, 7, 8],\n",
    "    'b': [4, 5, 7, 4, 4, 6, 4, 4],\n",
    "    'd': ['foo', 'baz', 'baz', 'bar', None, None, 'bar', 'bar'],\n",
    "    'f': [100, 10, 1, 200, 150, 140, 130, 120]\n",
    "})  # Notice the difference in the last row"
   ]
  },
  {
   "cell_type": "code",
   "execution_count": null,
   "id": "95d9ce1f-71b1-4fa2-bde6-8ffbc642c574",
   "metadata": {},
   "outputs": [],
   "source": [
    "DatacompyBuckaroo(df_a, df_b)"
   ]
  }
 ],
 "metadata": {
  "kernelspec": {
   "display_name": "Python 3 (ipykernel)",
   "language": "python",
   "name": "python3"
  },
  "language_info": {
   "codemirror_mode": {
    "name": "ipython",
    "version": 3
   },
   "file_extension": ".py",
   "mimetype": "text/x-python",
   "name": "python",
   "nbconvert_exporter": "python",
   "pygments_lexer": "ipython3",
   "version": "3.12.8"
  },
  "widgets": {
   "application/vnd.jupyter.widget-state+json": {
    "state": {},
    "version_major": 2,
    "version_minor": 0
   }
  }
 },
 "nbformat": 4,
 "nbformat_minor": 5
}
