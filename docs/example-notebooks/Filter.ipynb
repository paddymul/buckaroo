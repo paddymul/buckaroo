{
 "cells": [
  {
   "cell_type": "code",
   "execution_count": 3,
   "id": "bd133988-1c2e-49ca-9c43-2464516723ea",
   "metadata": {
    "tags": []
   },
   "outputs": [],
   "source": [
    "import polars as pl\n",
    "import numpy as np"
   ]
  },
  {
   "cell_type": "code",
   "execution_count": 4,
   "id": "cbcf499f-d012-43d8-a8f7-0de2a532aef7",
   "metadata": {
    "tags": []
   },
   "outputs": [],
   "source": [
    "from buckaroo.polars_buckaroo import PolarsBuckarooWidget\n",
    "PBW = PolarsBuckarooWidget"
   ]
  },
  {
   "cell_type": "code",
   "execution_count": 6,
   "id": "6f0ce3a7-49e6-4e0c-a59b-6c650a616873",
   "metadata": {
    "tags": []
   },
   "outputs": [
    {
     "data": {
      "application/vnd.jupyter.widget-view+json": {
       "model_id": "711c3b609a664bbaa6d9c1eb5f9b8798",
       "version_major": 2,
       "version_minor": 0
      },
      "text/plain": [
       "PolarsBuckarooWidget(buckaroo_options={'sampled': ['random'], 'auto_clean': ['aggressive', 'conservative'], 'p…"
      ]
     },
     "execution_count": 6,
     "metadata": {},
     "output_type": "execute_result"
    }
   ],
   "source": [
    "str_df = pl.DataFrame({\n",
    "    'a': [\"foo\", \"foobar\", \"baz\",  None,  None], \n",
    "    'b': [    1,        2,     3,  None,  None], \n",
    "    'c': [ None,     None,  None, \"foo\", \"baz\"],\n",
    "    'd': np.arange(5),\n",
    "    'e': [    2,       -5,    30,     1,    40]\n",
    "})\n",
    "bw = PBW(str_df)\n",
    "bw"
   ]
  },
  {
   "cell_type": "code",
   "execution_count": 8,
   "id": "3c7a0c41-5564-46e5-a392-00f9261b7224",
   "metadata": {
    "tags": []
   },
   "outputs": [
    {
     "data": {
      "text/plain": [
       "<buckaroo.dataflow.autocleaning.SentinelAutocleaning at 0x12e118c10>"
      ]
     },
     "execution_count": 8,
     "metadata": {},
     "output_type": "execute_result"
    }
   ],
   "source": [
    "bw.ac_obj"
   ]
  },
  {
   "cell_type": "code",
   "execution_count": 28,
   "id": "71a35c07-6685-4da5-994a-c1cdbc9784e8",
   "metadata": {
    "tags": []
   },
   "outputs": [],
   "source": [
    "from functools import reduce\n",
    "def or_join(a,b):\n",
    "    return a|b\n",
    "def str_filter_df(df, needle):\n",
    "    str_cols = df.select(pl.col(pl.String)).columns\n",
    "    clauses = [pl.col(c).str.contains(needle) for c in str_cols]\n",
    "    orred_clause = reduce(or_join, clauses)\n",
    "    return df.filter(orred_clause)"
   ]
  },
  {
   "cell_type": "code",
   "execution_count": 29,
   "id": "97b6f1ee-5d30-4e38-83ad-934be1e6df16",
   "metadata": {
    "tags": []
   },
   "outputs": [
    {
     "data": {
      "text/html": [
       "<div><style>\n",
       ".dataframe > thead > tr,\n",
       ".dataframe > tbody > tr {\n",
       "  text-align: right;\n",
       "  white-space: pre-wrap;\n",
       "}\n",
       "</style>\n",
       "<small>shape: (2, 5)</small><table border=\"1\" class=\"dataframe\"><thead><tr><th>a</th><th>b</th><th>c</th><th>d</th><th>e</th></tr><tr><td>str</td><td>i64</td><td>str</td><td>i64</td><td>i64</td></tr></thead><tbody><tr><td>&quot;baz&quot;</td><td>3</td><td>null</td><td>2</td><td>30</td></tr><tr><td>null</td><td>null</td><td>&quot;baz&quot;</td><td>4</td><td>40</td></tr></tbody></table></div>"
      ],
      "text/plain": [
       "shape: (2, 5)\n",
       "┌──────┬──────┬──────┬─────┬─────┐\n",
       "│ a    ┆ b    ┆ c    ┆ d   ┆ e   │\n",
       "│ ---  ┆ ---  ┆ ---  ┆ --- ┆ --- │\n",
       "│ str  ┆ i64  ┆ str  ┆ i64 ┆ i64 │\n",
       "╞══════╪══════╪══════╪═════╪═════╡\n",
       "│ baz  ┆ 3    ┆ null ┆ 2   ┆ 30  │\n",
       "│ null ┆ null ┆ baz  ┆ 4   ┆ 40  │\n",
       "└──────┴──────┴──────┴─────┴─────┘"
      ]
     },
     "execution_count": 29,
     "metadata": {},
     "output_type": "execute_result"
    }
   ],
   "source": [
    "str_filter_df(str_df, \"baz\")"
   ]
  },
  {
   "cell_type": "code",
   "execution_count": 30,
   "id": "343329d2-6939-4077-b5cd-eb8abe43c297",
   "metadata": {
    "tags": []
   },
   "outputs": [
    {
     "data": {
      "text/html": [
       "<div><style>\n",
       ".dataframe > thead > tr,\n",
       ".dataframe > tbody > tr {\n",
       "  text-align: right;\n",
       "  white-space: pre-wrap;\n",
       "}\n",
       "</style>\n",
       "<small>shape: (3, 5)</small><table border=\"1\" class=\"dataframe\"><thead><tr><th>a</th><th>b</th><th>c</th><th>d</th><th>e</th></tr><tr><td>str</td><td>i64</td><td>str</td><td>i64</td><td>i64</td></tr></thead><tbody><tr><td>&quot;foobar&quot;</td><td>2</td><td>null</td><td>1</td><td>-5</td></tr><tr><td>&quot;baz&quot;</td><td>3</td><td>null</td><td>2</td><td>30</td></tr><tr><td>null</td><td>null</td><td>&quot;baz&quot;</td><td>4</td><td>40</td></tr></tbody></table></div>"
      ],
      "text/plain": [
       "shape: (3, 5)\n",
       "┌────────┬──────┬──────┬─────┬─────┐\n",
       "│ a      ┆ b    ┆ c    ┆ d   ┆ e   │\n",
       "│ ---    ┆ ---  ┆ ---  ┆ --- ┆ --- │\n",
       "│ str    ┆ i64  ┆ str  ┆ i64 ┆ i64 │\n",
       "╞════════╪══════╪══════╪═════╪═════╡\n",
       "│ foobar ┆ 2    ┆ null ┆ 1   ┆ -5  │\n",
       "│ baz    ┆ 3    ┆ null ┆ 2   ┆ 30  │\n",
       "│ null   ┆ null ┆ baz  ┆ 4   ┆ 40  │\n",
       "└────────┴──────┴──────┴─────┴─────┘"
      ]
     },
     "execution_count": 30,
     "metadata": {},
     "output_type": "execute_result"
    }
   ],
   "source": [
    "str_filter_df(str_df, \"ba\")"
   ]
  },
  {
   "cell_type": "code",
   "execution_count": 32,
   "id": "51b09c5a-82f0-40da-bb39-be3d40df477f",
   "metadata": {
    "tags": []
   },
   "outputs": [
    {
     "data": {
      "text/html": [
       "<div><style>\n",
       ".dataframe > thead > tr,\n",
       ".dataframe > tbody > tr {\n",
       "  text-align: right;\n",
       "  white-space: pre-wrap;\n",
       "}\n",
       "</style>\n",
       "<small>shape: (2, 5)</small><table border=\"1\" class=\"dataframe\"><thead><tr><th>a</th><th>b</th><th>c</th><th>d</th><th>e</th></tr><tr><td>str</td><td>i64</td><td>str</td><td>i64</td><td>i64</td></tr></thead><tbody><tr><td>&quot;foo&quot;</td><td>1</td><td>null</td><td>0</td><td>2</td></tr><tr><td>&quot;baz&quot;</td><td>3</td><td>null</td><td>2</td><td>30</td></tr></tbody></table></div>"
      ],
      "text/plain": [
       "shape: (2, 5)\n",
       "┌─────┬─────┬──────┬─────┬─────┐\n",
       "│ a   ┆ b   ┆ c    ┆ d   ┆ e   │\n",
       "│ --- ┆ --- ┆ ---  ┆ --- ┆ --- │\n",
       "│ str ┆ i64 ┆ str  ┆ i64 ┆ i64 │\n",
       "╞═════╪═════╪══════╪═════╪═════╡\n",
       "│ foo ┆ 1   ┆ null ┆ 0   ┆ 2   │\n",
       "│ baz ┆ 3   ┆ null ┆ 2   ┆ 30  │\n",
       "└─────┴─────┴──────┴─────┴─────┘"
      ]
     },
     "execution_count": 32,
     "metadata": {},
     "output_type": "execute_result"
    }
   ],
   "source": [
    "str_df.filter(pl.col('e').gt(1), pl.col('e').lt(35))"
   ]
  },
  {
   "cell_type": "code",
   "execution_count": 35,
   "id": "353c77a9-5185-4376-a124-3b798a8db580",
   "metadata": {
    "tags": []
   },
   "outputs": [],
   "source": [
    "def range_filter_df(df, col, lower, upper):\n",
    "    clauses = []\n",
    "    if lower is not None:\n",
    "        clauses.append(pl.col(col).gt(lower))\n",
    "    if upper is not None:\n",
    "        clauses.append(pl.col(col).lt(upper))\n",
    "    return df.filter(*clauses)\n"
   ]
  },
  {
   "cell_type": "code",
   "execution_count": 36,
   "id": "3a1734ce-d744-4dc6-bf18-a4ed2960e3b2",
   "metadata": {
    "tags": []
   },
   "outputs": [
    {
     "data": {
      "text/html": [
       "<div><style>\n",
       ".dataframe > thead > tr,\n",
       ".dataframe > tbody > tr {\n",
       "  text-align: right;\n",
       "  white-space: pre-wrap;\n",
       "}\n",
       "</style>\n",
       "<small>shape: (4, 5)</small><table border=\"1\" class=\"dataframe\"><thead><tr><th>a</th><th>b</th><th>c</th><th>d</th><th>e</th></tr><tr><td>str</td><td>i64</td><td>str</td><td>i64</td><td>i64</td></tr></thead><tbody><tr><td>&quot;foo&quot;</td><td>1</td><td>null</td><td>0</td><td>2</td></tr><tr><td>&quot;baz&quot;</td><td>3</td><td>null</td><td>2</td><td>30</td></tr><tr><td>null</td><td>null</td><td>&quot;foo&quot;</td><td>3</td><td>1</td></tr><tr><td>null</td><td>null</td><td>&quot;baz&quot;</td><td>4</td><td>40</td></tr></tbody></table></div>"
      ],
      "text/plain": [
       "shape: (4, 5)\n",
       "┌──────┬──────┬──────┬─────┬─────┐\n",
       "│ a    ┆ b    ┆ c    ┆ d   ┆ e   │\n",
       "│ ---  ┆ ---  ┆ ---  ┆ --- ┆ --- │\n",
       "│ str  ┆ i64  ┆ str  ┆ i64 ┆ i64 │\n",
       "╞══════╪══════╪══════╪═════╪═════╡\n",
       "│ foo  ┆ 1    ┆ null ┆ 0   ┆ 2   │\n",
       "│ baz  ┆ 3    ┆ null ┆ 2   ┆ 30  │\n",
       "│ null ┆ null ┆ foo  ┆ 3   ┆ 1   │\n",
       "│ null ┆ null ┆ baz  ┆ 4   ┆ 40  │\n",
       "└──────┴──────┴──────┴─────┴─────┘"
      ]
     },
     "execution_count": 36,
     "metadata": {},
     "output_type": "execute_result"
    }
   ],
   "source": [
    "range_filter_df(str_df, 'e', 0, None)"
   ]
  },
  {
   "cell_type": "code",
   "execution_count": 19,
   "id": "c5fa0bf6-67fd-4b79-ad25-334774b33f90",
   "metadata": {
    "tags": []
   },
   "outputs": [],
   "source": [
    "from functools import reduce"
   ]
  },
  {
   "cell_type": "code",
   "execution_count": 21,
   "id": "ce9cc0bf-e6c7-4d2b-9232-7efd09ed85a0",
   "metadata": {
    "tags": []
   },
   "outputs": [
    {
     "data": {
      "text/html": [
       "[(col(\"a\").str.contains([String(foo)])) | (col(\"c\").str.contains([String(foo)]))]"
      ],
      "text/plain": [
       "<Expr ['[(col(\"a\").str.contains([Strin…'] at 0x11813B460>"
      ]
     },
     "execution_count": 21,
     "metadata": {},
     "output_type": "execute_result"
    }
   ],
   "source": [
    "def or_join(a,b):\n",
    "    return a|b\n",
    "reduce(or_join, [pl.col(c).str.contains('foo') for c in str_df.select(pl.col(pl.String)).columns])"
   ]
  },
  {
   "cell_type": "code",
   "execution_count": 23,
   "id": "ee4d83fa-3b34-4aa5-b09b-a217840c9736",
   "metadata": {
    "tags": []
   },
   "outputs": [],
   "source": [
    "from functools import reduce\n",
    "def or_join(a,b):\n",
    "    return a|b\n",
    "def str_filter_df(df, needle):\n",
    "    str_cols = df.select(pl.col(pl.String)).columns\n",
    "    clauses = [pl.col(c).str.contains(needle) for c in str_cols]\n",
    "    orred_clause = reduce(or_join, clauses)\n",
    "    return df.filter(orred_clause)"
   ]
  },
  {
   "cell_type": "code",
   "execution_count": 22,
   "id": "97525181-6c67-442d-9235-2afa32e03973",
   "metadata": {
    "tags": []
   },
   "outputs": [
    {
     "data": {
      "text/html": [
       "<div><style>\n",
       ".dataframe > thead > tr,\n",
       ".dataframe > tbody > tr {\n",
       "  text-align: right;\n",
       "  white-space: pre-wrap;\n",
       "}\n",
       "</style>\n",
       "<small>shape: (3, 4)</small><table border=\"1\" class=\"dataframe\"><thead><tr><th>a</th><th>b</th><th>c</th><th>d</th></tr><tr><td>str</td><td>i64</td><td>str</td><td>i64</td></tr></thead><tbody><tr><td>&quot;foo&quot;</td><td>1</td><td>null</td><td>0</td></tr><tr><td>&quot;foobar&quot;</td><td>2</td><td>null</td><td>1</td></tr><tr><td>null</td><td>null</td><td>&quot;foo&quot;</td><td>3</td></tr></tbody></table></div>"
      ],
      "text/plain": [
       "shape: (3, 4)\n",
       "┌────────┬──────┬──────┬─────┐\n",
       "│ a      ┆ b    ┆ c    ┆ d   │\n",
       "│ ---    ┆ ---  ┆ ---  ┆ --- │\n",
       "│ str    ┆ i64  ┆ str  ┆ i64 │\n",
       "╞════════╪══════╪══════╪═════╡\n",
       "│ foo    ┆ 1    ┆ null ┆ 0   │\n",
       "│ foobar ┆ 2    ┆ null ┆ 1   │\n",
       "│ null   ┆ null ┆ foo  ┆ 3   │\n",
       "└────────┴──────┴──────┴─────┘"
      ]
     },
     "execution_count": 22,
     "metadata": {},
     "output_type": "execute_result"
    }
   ],
   "source": [
    "str_df.filter(reduce(or_join, [pl.col(c).str.contains('foo') for c in str_df.select(pl.col(pl.String)).columns]))"
   ]
  },
  {
   "cell_type": "code",
   "execution_count": 18,
   "id": "f1f9d364-7e08-45d6-9126-70c3cdd14be3",
   "metadata": {
    "tags": []
   },
   "outputs": [
    {
     "data": {
      "text/plain": [
       "[<Expr ['col(\"a\").str.contains([String(…'] at 0x1183E4610>,\n",
       " <Expr ['col(\"c\").str.contains([String(…'] at 0x1183E5390>]"
      ]
     },
     "execution_count": 18,
     "metadata": {},
     "output_type": "execute_result"
    }
   ],
   "source": [
    "r[pl.col(c).str.contains('foo') for c in str_df.select(pl.col(pl.String)).columns]"
   ]
  },
  {
   "cell_type": "code",
   "execution_count": 17,
   "id": "d2e64d2b-0351-4ba9-a68f-961031413c90",
   "metadata": {
    "tags": []
   },
   "outputs": [
    {
     "data": {
      "text/html": [
       "<div><style>\n",
       ".dataframe > thead > tr,\n",
       ".dataframe > tbody > tr {\n",
       "  text-align: right;\n",
       "  white-space: pre-wrap;\n",
       "}\n",
       "</style>\n",
       "<small>shape: (0, 4)</small><table border=\"1\" class=\"dataframe\"><thead><tr><th>a</th><th>b</th><th>c</th><th>d</th></tr><tr><td>str</td><td>i64</td><td>str</td><td>i64</td></tr></thead><tbody></tbody></table></div>"
      ],
      "text/plain": [
       "shape: (0, 4)\n",
       "┌─────┬─────┬─────┬─────┐\n",
       "│ a   ┆ b   ┆ c   ┆ d   │\n",
       "│ --- ┆ --- ┆ --- ┆ --- │\n",
       "│ str ┆ i64 ┆ str ┆ i64 │\n",
       "╞═════╪═════╪═════╪═════╡\n",
       "└─────┴─────┴─────┴─────┘"
      ]
     },
     "execution_count": 17,
     "metadata": {},
     "output_type": "execute_result"
    }
   ],
   "source": [
    "str_df.filter(*[pl.col(c).str.contains('foo') for c in str_df.select(pl.col(pl.String)).columns])"
   ]
  },
  {
   "cell_type": "code",
   "execution_count": 13,
   "id": "a8b06dbb-f302-4a7b-a255-b229b166e1a9",
   "metadata": {
    "tags": []
   },
   "outputs": [
    {
     "data": {
      "text/html": [
       "<div><style>\n",
       ".dataframe > thead > tr,\n",
       ".dataframe > tbody > tr {\n",
       "  text-align: right;\n",
       "  white-space: pre-wrap;\n",
       "}\n",
       "</style>\n",
       "<small>shape: (3, 4)</small><table border=\"1\" class=\"dataframe\"><thead><tr><th>a</th><th>b</th><th>c</th><th>d</th></tr><tr><td>str</td><td>i64</td><td>str</td><td>i64</td></tr></thead><tbody><tr><td>&quot;foo&quot;</td><td>1</td><td>null</td><td>0</td></tr><tr><td>&quot;foobar&quot;</td><td>2</td><td>null</td><td>1</td></tr><tr><td>null</td><td>null</td><td>&quot;foo&quot;</td><td>3</td></tr></tbody></table></div>"
      ],
      "text/plain": [
       "shape: (3, 4)\n",
       "┌────────┬──────┬──────┬─────┐\n",
       "│ a      ┆ b    ┆ c    ┆ d   │\n",
       "│ ---    ┆ ---  ┆ ---  ┆ --- │\n",
       "│ str    ┆ i64  ┆ str  ┆ i64 │\n",
       "╞════════╪══════╪══════╪═════╡\n",
       "│ foo    ┆ 1    ┆ null ┆ 0   │\n",
       "│ foobar ┆ 2    ┆ null ┆ 1   │\n",
       "│ null   ┆ null ┆ foo  ┆ 3   │\n",
       "└────────┴──────┴──────┴─────┘"
      ]
     },
     "execution_count": 13,
     "metadata": {},
     "output_type": "execute_result"
    }
   ],
   "source": [
    "#str_df.filter(F.col(pl.String))\n",
    "str_df.filter(pl.col('a').str.contains('foo')|pl.col('c').str.contains('foo'))"
   ]
  },
  {
   "cell_type": "code",
   "execution_count": 37,
   "id": "2c5dfa40-f32a-4e4a-8231-9aabc23e090a",
   "metadata": {
    "tags": []
   },
   "outputs": [
    {
     "ename": "NameError",
     "evalue": "name 'np' is not defined",
     "output_type": "error",
     "traceback": [
      "\u001b[0;31m---------------------------------------------------------------------------\u001b[0m",
      "\u001b[0;31mNameError\u001b[0m                                 Traceback (most recent call last)",
      "Cell \u001b[0;32mIn[37], line 1\u001b[0m\n\u001b[0;32m----> 1\u001b[0m \u001b[38;5;28;01mfrom\u001b[39;00m \u001b[38;5;21;01mbuckaroo\u001b[39;00m\u001b[38;5;21;01m.\u001b[39;00m\u001b[38;5;21;01mpolars_buckaroo\u001b[39;00m \u001b[38;5;28;01mimport\u001b[39;00m PolarsBuckarooWidget\n\u001b[1;32m      2\u001b[0m PBW \u001b[38;5;241m=\u001b[39m PolarsBuckarooWidget\n",
      "File \u001b[0;32m~/buckaroo/buckaroo/polars_buckaroo.py:7\u001b[0m\n\u001b[1;32m      4\u001b[0m \u001b[38;5;28;01mfrom\u001b[39;00m \u001b[38;5;21;01m.\u001b[39;00m\u001b[38;5;21;01mpluggable_analysis_framework\u001b[39;00m\u001b[38;5;21;01m.\u001b[39;00m\u001b[38;5;21;01mpolars_analysis_management\u001b[39;00m \u001b[38;5;28;01mimport\u001b[39;00m (\n\u001b[1;32m      5\u001b[0m     PlDfStats)\n\u001b[1;32m      6\u001b[0m \u001b[38;5;28;01mfrom\u001b[39;00m \u001b[38;5;21;01m.\u001b[39;00m\u001b[38;5;21;01mserialization_utils\u001b[39;00m \u001b[38;5;28;01mimport\u001b[39;00m pd_to_obj\n\u001b[0;32m----> 7\u001b[0m \u001b[38;5;28;01mfrom\u001b[39;00m \u001b[38;5;21;01mbuckaroo\u001b[39;00m\u001b[38;5;21;01m.\u001b[39;00m\u001b[38;5;21;01mcustomizations\u001b[39;00m\u001b[38;5;21;01m.\u001b[39;00m\u001b[38;5;21;01mpolars_commands\u001b[39;00m \u001b[38;5;28;01mimport\u001b[39;00m (\n\u001b[1;32m      8\u001b[0m     DropCol, FillNA, GroupBy \u001b[38;5;66;03m#, OneHot, GroupBy, reindex\u001b[39;00m\n\u001b[1;32m      9\u001b[0m )\n\u001b[1;32m     10\u001b[0m \u001b[38;5;28;01mfrom\u001b[39;00m \u001b[38;5;21;01m.\u001b[39;00m\u001b[38;5;21;01mcustomizations\u001b[39;00m\u001b[38;5;21;01m.\u001b[39;00m\u001b[38;5;21;01mstyling\u001b[39;00m \u001b[38;5;28;01mimport\u001b[39;00m DefaultSummaryStatsStyling, DefaultMainStyling\n\u001b[1;32m     11\u001b[0m \u001b[38;5;28;01mfrom\u001b[39;00m \u001b[38;5;21;01m.\u001b[39;00m\u001b[38;5;21;01mdataflow\u001b[39;00m\u001b[38;5;21;01m.\u001b[39;00m\u001b[38;5;21;01mdataflow\u001b[39;00m \u001b[38;5;28;01mimport\u001b[39;00m Sampling\n",
      "File \u001b[0;32m~/buckaroo/buckaroo/customizations/polars_commands.py:147\u001b[0m\n\u001b[1;32m    141\u001b[0m     orred_clause \u001b[38;5;241m=\u001b[39m reduce(or_join, clauses)\n\u001b[1;32m    142\u001b[0m     \u001b[38;5;28;01mreturn\u001b[39;00m df\u001b[38;5;241m.\u001b[39mfilter(orred_clause)\n\u001b[1;32m    143\u001b[0m str_df \u001b[38;5;241m=\u001b[39m pl\u001b[38;5;241m.\u001b[39mDataFrame({\n\u001b[1;32m    144\u001b[0m     \u001b[38;5;124m'\u001b[39m\u001b[38;5;124ma\u001b[39m\u001b[38;5;124m'\u001b[39m: [\u001b[38;5;124m\"\u001b[39m\u001b[38;5;124mfoo\u001b[39m\u001b[38;5;124m\"\u001b[39m, \u001b[38;5;124m\"\u001b[39m\u001b[38;5;124mfoobar\u001b[39m\u001b[38;5;124m\"\u001b[39m, \u001b[38;5;124m\"\u001b[39m\u001b[38;5;124mbaz\u001b[39m\u001b[38;5;124m\"\u001b[39m,  \u001b[38;5;28;01mNone\u001b[39;00m,  \u001b[38;5;28;01mNone\u001b[39;00m], \n\u001b[1;32m    145\u001b[0m     \u001b[38;5;124m'\u001b[39m\u001b[38;5;124mb\u001b[39m\u001b[38;5;124m'\u001b[39m: [    \u001b[38;5;241m1\u001b[39m,        \u001b[38;5;241m2\u001b[39m,     \u001b[38;5;241m3\u001b[39m,  \u001b[38;5;28;01mNone\u001b[39;00m,  \u001b[38;5;28;01mNone\u001b[39;00m], \n\u001b[1;32m    146\u001b[0m     \u001b[38;5;124m'\u001b[39m\u001b[38;5;124mc\u001b[39m\u001b[38;5;124m'\u001b[39m: [ \u001b[38;5;28;01mNone\u001b[39;00m,     \u001b[38;5;28;01mNone\u001b[39;00m,  \u001b[38;5;28;01mNone\u001b[39;00m, \u001b[38;5;124m\"\u001b[39m\u001b[38;5;124mfoo\u001b[39m\u001b[38;5;124m\"\u001b[39m, \u001b[38;5;124m\"\u001b[39m\u001b[38;5;124mbaz\u001b[39m\u001b[38;5;124m\"\u001b[39m],\n\u001b[0;32m--> 147\u001b[0m     \u001b[38;5;124m'\u001b[39m\u001b[38;5;124md\u001b[39m\u001b[38;5;124m'\u001b[39m: \u001b[43mnp\u001b[49m\u001b[38;5;241m.\u001b[39marange(\u001b[38;5;241m5\u001b[39m),\n\u001b[1;32m    148\u001b[0m     \u001b[38;5;124m'\u001b[39m\u001b[38;5;124me\u001b[39m\u001b[38;5;124m'\u001b[39m: [    \u001b[38;5;241m2\u001b[39m,       \u001b[38;5;241m-\u001b[39m\u001b[38;5;241m5\u001b[39m,    \u001b[38;5;241m30\u001b[39m,     \u001b[38;5;241m1\u001b[39m,    \u001b[38;5;241m40\u001b[39m]\n\u001b[1;32m    149\u001b[0m })\n\u001b[1;32m    150\u001b[0m str_df\n\u001b[1;32m    151\u001b[0m str_filter_df(str_df, \u001b[38;5;124m\"\u001b[39m\u001b[38;5;124mbaz\u001b[39m\u001b[38;5;124m\"\u001b[39m)\n",
      "\u001b[0;31mNameError\u001b[0m: name 'np' is not defined"
     ]
    }
   ],
   "source": [
    "from buckaroo.polars_buckaroo import PolarsBuckarooWidget\n",
    "PBW = PolarsBuckarooWidget"
   ]
  },
  {
   "cell_type": "code",
   "execution_count": null,
   "id": "93d2211d-fe22-4b97-9506-0635b0c2ed92",
   "metadata": {},
   "outputs": [],
   "source": []
  }
 ],
 "metadata": {
  "kernelspec": {
   "display_name": "Python 3 (ipykernel)",
   "language": "python",
   "name": "python3"
  },
  "language_info": {
   "codemirror_mode": {
    "name": "ipython",
    "version": 3
   },
   "file_extension": ".py",
   "mimetype": "text/x-python",
   "name": "python",
   "nbconvert_exporter": "python",
   "pygments_lexer": "ipython3",
   "version": "3.11.7"
  },
  "widgets": {
   "application/vnd.jupyter.widget-state+json": {
    "state": {
     "53269158b91e412cb3de66f700483faa": {
      "model_module": "@jupyter-widgets/base",
      "model_module_version": "2.0.0",
      "model_name": "LayoutModel",
      "state": {}
     },
     "711c3b609a664bbaa6d9c1eb5f9b8798": {
      "model_module": "buckaroo",
      "model_module_version": "^0.6.5",
      "model_name": "DCEFWidgetModel",
      "state": {
       "_model_module_version": "^0.6.5",
       "_view_module_version": "^0.6.5",
       "_view_name": "DCEFWidgetView",
       "buckaroo_options": {
        "auto_clean": [
         "aggressive",
         "conservative"
        ],
        "df_display": [
         "summary",
         "main"
        ],
        "post_processing": [
         ""
        ],
        "sampled": [
         "random"
        ],
        "show_commands": [
         "on"
        ],
        "summary_stats": [
         "all"
        ]
       },
       "buckaroo_state": {
        "auto_clean": "conservative",
        "df_display": "main",
        "post_processing": "",
        "sampled": false,
        "search_string": "",
        "show_commands": false
       },
       "commandConfig": {},
       "df_data_dict": {
        "all_stats": [
         {
          "a": "shape: (4,)\nSeries: '' [struct[2]]\n[\n\t{null,2}\n\t{\"foo\",1}\n\t{\"foobar\",1}\n\t{\"baz\",1}\n]",
          "b": "shape: (4,)\nSeries: '' [struct[2]]\n[\n\t{null,2}\n\t{1,1}\n\t{2,1}\n\t{3,1}\n]",
          "c": "shape: (3,)\nSeries: '' [struct[2]]\n[\n\t{null,3}\n\t{\"foo\",1}\n\t{\"baz\",1}\n]",
          "d": "shape: (5,)\nSeries: '' [struct[2]]\n[\n\t{0,1}\n\t{1,1}\n\t{2,1}\n\t{3,1}\n\t{4,1}\n]",
          "e": "shape: (5,)\nSeries: '' [struct[2]]\n[\n\t{2,1}\n\t{-5,1}\n\t{30,1}\n\t{1,1}\n\t{40,1}\n]",
          "index": "value_counts"
         },
         {
          "a": "String",
          "b": "Int64",
          "c": "String",
          "d": "Int64",
          "e": "Int64",
          "index": "dtype"
         },
         {
          "a": "string",
          "b": "integer",
          "c": "string",
          "d": "integer",
          "e": "integer",
          "index": "_type"
         },
         {
          "a": false,
          "b": true,
          "c": false,
          "d": true,
          "e": true,
          "index": "is_numeric"
         },
         {
          "a": false,
          "b": true,
          "c": false,
          "d": true,
          "e": true,
          "index": "is_integer"
         },
         {
          "a": 5,
          "b": 5,
          "c": 5,
          "d": 5,
          "e": 5,
          "index": "length"
         },
         {
          "a": 2,
          "b": 2,
          "c": 3,
          "d": 0,
          "e": 0,
          "index": "nan_count"
         },
         {
          "a": "baz",
          "b": 1,
          "c": "baz",
          "d": 0,
          "e": -5,
          "index": "min"
         },
         {
          "a": "foobar",
          "b": 3,
          "c": "foo",
          "d": 4,
          "e": 40,
          "index": "max"
         },
         {
          "a": null,
          "b": null,
          "c": null,
          "d": 0,
          "e": 2,
          "index": "mode"
         },
         {
          "a": null,
          "b": 2,
          "c": null,
          "d": 2,
          "e": 13.6,
          "index": "mean"
         },
         {
          "a": 3,
          "b": 3,
          "c": 2,
          "d": 5,
          "e": 5,
          "index": "unique_count"
         },
         {
          "a": 0,
          "b": 0,
          "c": 0,
          "d": 0,
          "e": 0,
          "index": "empty_count"
         },
         {
          "a": 4,
          "b": 4,
          "c": 3,
          "d": 5,
          "e": 5,
          "index": "distinct_count"
         },
         {
          "a": 0.8,
          "b": 0.8,
          "c": 0.6,
          "d": 1,
          "e": 1,
          "index": "distinct_per"
         },
         {
          "a": 0,
          "b": 0,
          "c": 0,
          "d": 0,
          "e": 0,
          "index": "empty_per"
         },
         {
          "a": 0.6,
          "b": 0.6,
          "c": 0.4,
          "d": 1,
          "e": 1,
          "index": "unique_per"
         },
         {
          "a": 0.4,
          "b": 0.4,
          "c": 0.6,
          "d": 0,
          "e": 0,
          "index": "nan_per"
         },
         {
          "a": {
           "None": 0.4,
           "baz": 0.2,
           "foo": 0.2,
           "foobar": 0.2,
           "longtail": -0.6,
           "unique": 0.6
          },
          "b": {
           "1": 0.2,
           "2": 0.2,
           "3": 0.2,
           "None": 0.4,
           "longtail": -0.6,
           "unique": 0.6
          },
          "c": {
           "None": 0.6,
           "baz": 0.2,
           "foo": 0.2,
           "longtail": -0.4,
           "unique": 0.4
          },
          "d": {
           "0": 0.2,
           "1": 0.2,
           "2": 0.2,
           "3": 0.2,
           "4": 0.2,
           "longtail": -1,
           "unique": 1
          },
          "e": {
           "-5": 0.2,
           "1": 0.2,
           "2": 0.2,
           "30": 0.2,
           "40": 0.2,
           "longtail": -1,
           "unique": 1
          },
          "index": "categorical_histogram"
         },
         {
          "a": [
           {
            "cat_pop": 40,
            "name": null
           },
           {
            "cat_pop": 20,
            "name": "foo"
           },
           {
            "cat_pop": 20,
            "name": "foobar"
           },
           {
            "cat_pop": 20,
            "name": "baz"
           },
           {
            "name": "unique",
            "unique": 60
           },
           {
            "NA": 40,
            "name": "NA"
           }
          ],
          "b": [
           {
            "cat_pop": 40,
            "name": null
           },
           {
            "cat_pop": 20,
            "name": 1
           },
           {
            "cat_pop": 20,
            "name": 2
           },
           {
            "cat_pop": 20,
            "name": 3
           },
           {
            "name": "unique",
            "unique": 60
           },
           {
            "NA": 40,
            "name": "NA"
           }
          ],
          "c": [
           {
            "cat_pop": 60,
            "name": null
           },
           {
            "cat_pop": 20,
            "name": "foo"
           },
           {
            "cat_pop": 20,
            "name": "baz"
           },
           {
            "name": "unique",
            "unique": 40
           },
           {
            "NA": 60,
            "name": "NA"
           }
          ],
          "d": [
           {
            "cat_pop": 20,
            "name": 0
           },
           {
            "cat_pop": 20,
            "name": 1
           },
           {
            "cat_pop": 20,
            "name": 2
           },
           {
            "cat_pop": 20,
            "name": 3
           },
           {
            "cat_pop": 20,
            "name": 4
           },
           {
            "name": "unique",
            "unique": 100
           }
          ],
          "e": [
           {
            "cat_pop": 20,
            "name": 2
           },
           {
            "cat_pop": 20,
            "name": -5
           },
           {
            "cat_pop": 20,
            "name": 30
           },
           {
            "cat_pop": 20,
            "name": 1
           },
           {
            "cat_pop": 20,
            "name": 40
           },
           {
            "name": "unique",
            "unique": 100
           }
          ],
          "index": "histogram"
         },
         {
          "a": [
           "faked"
          ],
          "b": [
           "faked"
          ],
          "c": [
           "faked"
          ],
          "d": [
           "faked"
          ],
          "e": [
           "faked"
          ],
          "index": "histogram_bins"
         },
         {
          "a": null,
          "b": {
           "high_tail": 3,
           "low_tail": 1,
           "meat_histogram": [
            [
             0,
             0,
             0,
             0,
             1,
             0,
             0,
             0,
             0,
             0
            ],
            [
             1,
             1.2,
             1.4,
             1.6,
             1.8,
             2,
             2.2,
             2.4,
             2.6,
             2.8,
             3
            ]
           ],
           "normalized_populations": [
            0,
            0,
            0,
            0,
            1,
            0,
            0,
            0,
            0,
            0
           ]
          },
          "c": null,
          "d": {
           "high_tail": 4,
           "low_tail": 0,
           "meat_histogram": [
            [
             0,
             0,
             1,
             0,
             1,
             0,
             0,
             1,
             0,
             0
            ],
            [
             0,
             0.4,
             0.8,
             1.2,
             1.6,
             2,
             2.4,
             2.8,
             3.2,
             3.6,
             4
            ]
           ],
           "normalized_populations": [
            0,
            0,
            0.3333333333,
            0,
            0.3333333333,
            0,
            0,
            0.3333333333,
            0,
            0
           ]
          },
          "e": {
           "high_tail": 40,
           "low_tail": -5,
           "meat_histogram": [
            [
             2,
             0,
             0,
             0,
             0,
             0,
             0,
             0,
             0,
             1
            ],
            [
             -5,
             3.1,
             6.2,
             9.3,
             12.4,
             15.5,
             18.6,
             21.7,
             24.8,
             27.9,
             40
            ]
           ],
           "normalized_populations": [
            0.6666666667,
            0,
            0,
            0,
            0,
            0,
            0,
            0,
            0,
            0.3333333333
           ]
          },
          "index": "histogram_args"
         }
        ],
        "empty": [],
        "main": [
         {
          "a": "foo",
          "b": 1,
          "c": null,
          "d": 0,
          "e": 2,
          "index": 0
         },
         {
          "a": "foobar",
          "b": 2,
          "c": null,
          "d": 1,
          "e": -5,
          "index": 1
         },
         {
          "a": "baz",
          "b": 3,
          "c": null,
          "d": 2,
          "e": 30,
          "index": 2
         },
         {
          "a": null,
          "b": null,
          "c": "foo",
          "d": 3,
          "e": 1,
          "index": 3
         },
         {
          "a": null,
          "b": null,
          "c": "baz",
          "d": 4,
          "e": 40,
          "index": 4
         }
        ]
       },
       "df_display_args": {
        "main": {
         "data_key": "main",
         "df_viewer_config": {
          "column_config": [
           {
            "col_name": "index",
            "displayer_args": {
             "displayer": "obj"
            }
           },
           {
            "col_name": "a",
            "displayer_args": {
             "displayer": "string",
             "max_length": 35
            }
           },
           {
            "col_name": "b",
            "displayer_args": {
             "displayer": "float",
             "max_fraction_digits": 0,
             "min_fraction_digits": 0
            }
           },
           {
            "col_name": "c",
            "displayer_args": {
             "displayer": "string",
             "max_length": 35
            }
           },
           {
            "col_name": "d",
            "displayer_args": {
             "displayer": "float",
             "max_fraction_digits": 0,
             "min_fraction_digits": 0
            }
           },
           {
            "col_name": "e",
            "displayer_args": {
             "displayer": "float",
             "max_fraction_digits": 0,
             "min_fraction_digits": 0
            }
           }
          ],
          "component_config": {},
          "extra_grid_config": {},
          "pinned_rows": [
           {
            "displayer_args": {
             "displayer": "obj"
            },
            "primary_key_val": "dtype"
           },
           {
            "displayer_args": {
             "displayer": "histogram"
            },
            "primary_key_val": "histogram"
           }
          ]
         },
         "summary_stats_key": "all_stats"
        },
        "summary": {
         "data_key": "empty",
         "df_viewer_config": {
          "column_config": [
           {
            "col_name": "index",
            "displayer_args": {
             "displayer": "obj"
            }
           },
           {
            "col_name": "a",
            "displayer_args": {
             "displayer": "obj"
            }
           },
           {
            "col_name": "b",
            "displayer_args": {
             "displayer": "obj"
            }
           },
           {
            "col_name": "c",
            "displayer_args": {
             "displayer": "obj"
            }
           },
           {
            "col_name": "d",
            "displayer_args": {
             "displayer": "obj"
            }
           },
           {
            "col_name": "e",
            "displayer_args": {
             "displayer": "obj"
            }
           }
          ],
          "component_config": {},
          "extra_grid_config": {},
          "pinned_rows": [
           {
            "displayer_args": {
             "displayer": "obj"
            },
            "primary_key_val": "dtype"
           },
           {
            "displayer_args": {
             "displayer": "float",
             "max_fraction_digits": 3,
             "min_fraction_digits": 3
            },
            "primary_key_val": "min"
           },
           {
            "displayer_args": {
             "displayer": "float",
             "max_fraction_digits": 3,
             "min_fraction_digits": 3
            },
            "primary_key_val": "mean"
           },
           {
            "displayer_args": {
             "displayer": "float",
             "max_fraction_digits": 3,
             "min_fraction_digits": 3
            },
            "primary_key_val": "max"
           },
           {
            "displayer_args": {
             "displayer": "float",
             "max_fraction_digits": 0,
             "min_fraction_digits": 0
            },
            "primary_key_val": "unique_count"
           },
           {
            "displayer_args": {
             "displayer": "float",
             "max_fraction_digits": 0,
             "min_fraction_digits": 0
            },
            "primary_key_val": "distinct_count"
           },
           {
            "displayer_args": {
             "displayer": "float",
             "max_fraction_digits": 0,
             "min_fraction_digits": 0
            },
            "primary_key_val": "empty_count"
           }
          ]
         },
         "summary_stats_key": "all_stats"
        }
       },
       "df_meta": {
        "columns": 5,
        "rows_shown": 5,
        "total_rows": 5
       },
       "layout": "IPY_MODEL_e9fb1ebf420a4760aba7600bfa695f9f",
       "operation_results": {
        "generated_py_code": "# instantiation, unused",
        "transformed_df": {
         "column_config": [],
         "data": [],
         "pinned_rows": []
        }
       },
       "operations": []
      }
     },
     "93ae12978dff457d9ecdf4bb6ad7d66d": {
      "model_module": "buckaroo",
      "model_module_version": "^0.6.5",
      "model_name": "DCEFWidgetModel",
      "state": {
       "_model_module_version": "^0.6.5",
       "_view_module_version": "^0.6.5",
       "_view_name": "DCEFWidgetView",
       "buckaroo_options": {
        "auto_clean": [
         "aggressive",
         "conservative"
        ],
        "df_display": [
         "summary",
         "main"
        ],
        "post_processing": [
         ""
        ],
        "sampled": [
         "random"
        ],
        "show_commands": [
         "on"
        ],
        "summary_stats": [
         "all"
        ]
       },
       "buckaroo_state": {
        "auto_clean": "conservative",
        "df_display": "main",
        "post_processing": "",
        "sampled": false,
        "search_string": "",
        "show_commands": "on"
       },
       "commandConfig": {},
       "df_data_dict": {
        "all_stats": [
         {
          "a": "shape: (4,)\nSeries: '' [struct[2]]\n[\n\t{null,2}\n\t{\"foo\",1}\n\t{\"foobar\",1}\n\t{\"baz\",1}\n]",
          "b": "shape: (4,)\nSeries: '' [struct[2]]\n[\n\t{null,2}\n\t{1,1}\n\t{2,1}\n\t{3,1}\n]",
          "c": "shape: (3,)\nSeries: '' [struct[2]]\n[\n\t{null,3}\n\t{\"foo\",1}\n\t{\"baz\",1}\n]",
          "d": "shape: (5,)\nSeries: '' [struct[2]]\n[\n\t{0,1}\n\t{1,1}\n\t{2,1}\n\t{3,1}\n\t{4,1}\n]",
          "e": "shape: (5,)\nSeries: '' [struct[2]]\n[\n\t{2,1}\n\t{-5,1}\n\t{30,1}\n\t{1,1}\n\t{40,1}\n]",
          "index": "value_counts"
         },
         {
          "a": "String",
          "b": "Int64",
          "c": "String",
          "d": "Int64",
          "e": "Int64",
          "index": "dtype"
         },
         {
          "a": "string",
          "b": "integer",
          "c": "string",
          "d": "integer",
          "e": "integer",
          "index": "_type"
         },
         {
          "a": false,
          "b": true,
          "c": false,
          "d": true,
          "e": true,
          "index": "is_numeric"
         },
         {
          "a": false,
          "b": true,
          "c": false,
          "d": true,
          "e": true,
          "index": "is_integer"
         },
         {
          "a": 5,
          "b": 5,
          "c": 5,
          "d": 5,
          "e": 5,
          "index": "length"
         },
         {
          "a": 2,
          "b": 2,
          "c": 3,
          "d": 0,
          "e": 0,
          "index": "nan_count"
         },
         {
          "a": "baz",
          "b": 1,
          "c": "baz",
          "d": 0,
          "e": -5,
          "index": "min"
         },
         {
          "a": "foobar",
          "b": 3,
          "c": "foo",
          "d": 4,
          "e": 40,
          "index": "max"
         },
         {
          "a": null,
          "b": null,
          "c": null,
          "d": 0,
          "e": 2,
          "index": "mode"
         },
         {
          "a": null,
          "b": 2,
          "c": null,
          "d": 2,
          "e": 13.6,
          "index": "mean"
         },
         {
          "a": 3,
          "b": 3,
          "c": 2,
          "d": 5,
          "e": 5,
          "index": "unique_count"
         },
         {
          "a": 0,
          "b": 0,
          "c": 0,
          "d": 0,
          "e": 0,
          "index": "empty_count"
         },
         {
          "a": 4,
          "b": 4,
          "c": 3,
          "d": 5,
          "e": 5,
          "index": "distinct_count"
         },
         {
          "a": 0.8,
          "b": 0.8,
          "c": 0.6,
          "d": 1,
          "e": 1,
          "index": "distinct_per"
         },
         {
          "a": 0,
          "b": 0,
          "c": 0,
          "d": 0,
          "e": 0,
          "index": "empty_per"
         },
         {
          "a": 0.6,
          "b": 0.6,
          "c": 0.4,
          "d": 1,
          "e": 1,
          "index": "unique_per"
         },
         {
          "a": 0.4,
          "b": 0.4,
          "c": 0.6,
          "d": 0,
          "e": 0,
          "index": "nan_per"
         },
         {
          "a": {
           "None": 0.4,
           "baz": 0.2,
           "foo": 0.2,
           "foobar": 0.2,
           "longtail": -0.6,
           "unique": 0.6
          },
          "b": {
           "1": 0.2,
           "2": 0.2,
           "3": 0.2,
           "None": 0.4,
           "longtail": -0.6,
           "unique": 0.6
          },
          "c": {
           "None": 0.6,
           "baz": 0.2,
           "foo": 0.2,
           "longtail": -0.4,
           "unique": 0.4
          },
          "d": {
           "0": 0.2,
           "1": 0.2,
           "2": 0.2,
           "3": 0.2,
           "4": 0.2,
           "longtail": -1,
           "unique": 1
          },
          "e": {
           "-5": 0.2,
           "1": 0.2,
           "2": 0.2,
           "30": 0.2,
           "40": 0.2,
           "longtail": -1,
           "unique": 1
          },
          "index": "categorical_histogram"
         },
         {
          "a": [
           {
            "cat_pop": 40,
            "name": null
           },
           {
            "cat_pop": 20,
            "name": "foo"
           },
           {
            "cat_pop": 20,
            "name": "foobar"
           },
           {
            "cat_pop": 20,
            "name": "baz"
           },
           {
            "name": "unique",
            "unique": 60
           },
           {
            "NA": 40,
            "name": "NA"
           }
          ],
          "b": [
           {
            "cat_pop": 40,
            "name": null
           },
           {
            "cat_pop": 20,
            "name": 1
           },
           {
            "cat_pop": 20,
            "name": 2
           },
           {
            "cat_pop": 20,
            "name": 3
           },
           {
            "name": "unique",
            "unique": 60
           },
           {
            "NA": 40,
            "name": "NA"
           }
          ],
          "c": [
           {
            "cat_pop": 60,
            "name": null
           },
           {
            "cat_pop": 20,
            "name": "foo"
           },
           {
            "cat_pop": 20,
            "name": "baz"
           },
           {
            "name": "unique",
            "unique": 40
           },
           {
            "NA": 60,
            "name": "NA"
           }
          ],
          "d": [
           {
            "cat_pop": 20,
            "name": 0
           },
           {
            "cat_pop": 20,
            "name": 1
           },
           {
            "cat_pop": 20,
            "name": 2
           },
           {
            "cat_pop": 20,
            "name": 3
           },
           {
            "cat_pop": 20,
            "name": 4
           },
           {
            "name": "unique",
            "unique": 100
           }
          ],
          "e": [
           {
            "cat_pop": 20,
            "name": 2
           },
           {
            "cat_pop": 20,
            "name": -5
           },
           {
            "cat_pop": 20,
            "name": 30
           },
           {
            "cat_pop": 20,
            "name": 1
           },
           {
            "cat_pop": 20,
            "name": 40
           },
           {
            "name": "unique",
            "unique": 100
           }
          ],
          "index": "histogram"
         },
         {
          "a": [
           "faked"
          ],
          "b": [
           "faked"
          ],
          "c": [
           "faked"
          ],
          "d": [
           "faked"
          ],
          "e": [
           "faked"
          ],
          "index": "histogram_bins"
         },
         {
          "a": null,
          "b": {
           "high_tail": 3,
           "low_tail": 1,
           "meat_histogram": [
            [
             0,
             0,
             0,
             0,
             1,
             0,
             0,
             0,
             0,
             0
            ],
            [
             1,
             1.2,
             1.4,
             1.6,
             1.8,
             2,
             2.2,
             2.4,
             2.6,
             2.8,
             3
            ]
           ],
           "normalized_populations": [
            0,
            0,
            0,
            0,
            1,
            0,
            0,
            0,
            0,
            0
           ]
          },
          "c": null,
          "d": {
           "high_tail": 4,
           "low_tail": 0,
           "meat_histogram": [
            [
             0,
             0,
             1,
             0,
             1,
             0,
             0,
             1,
             0,
             0
            ],
            [
             0,
             0.4,
             0.8,
             1.2,
             1.6,
             2,
             2.4,
             2.8,
             3.2,
             3.6,
             4
            ]
           ],
           "normalized_populations": [
            0,
            0,
            0.3333333333,
            0,
            0.3333333333,
            0,
            0,
            0.3333333333,
            0,
            0
           ]
          },
          "e": {
           "high_tail": 40,
           "low_tail": -5,
           "meat_histogram": [
            [
             2,
             0,
             0,
             0,
             0,
             0,
             0,
             0,
             0,
             1
            ],
            [
             -5,
             3.1,
             6.2,
             9.3,
             12.4,
             15.5,
             18.6,
             21.7,
             24.8,
             27.9,
             40
            ]
           ],
           "normalized_populations": [
            0.6666666667,
            0,
            0,
            0,
            0,
            0,
            0,
            0,
            0,
            0.3333333333
           ]
          },
          "index": "histogram_args"
         }
        ],
        "empty": [],
        "main": [
         {
          "a": "foo",
          "b": 1,
          "c": null,
          "d": 0,
          "e": 2,
          "index": 0
         },
         {
          "a": "foobar",
          "b": 2,
          "c": null,
          "d": 1,
          "e": -5,
          "index": 1
         },
         {
          "a": "baz",
          "b": 3,
          "c": null,
          "d": 2,
          "e": 30,
          "index": 2
         },
         {
          "a": null,
          "b": null,
          "c": "foo",
          "d": 3,
          "e": 1,
          "index": 3
         },
         {
          "a": null,
          "b": null,
          "c": "baz",
          "d": 4,
          "e": 40,
          "index": 4
         }
        ]
       },
       "df_display_args": {
        "main": {
         "data_key": "main",
         "df_viewer_config": {
          "column_config": [
           {
            "col_name": "index",
            "displayer_args": {
             "displayer": "obj"
            }
           },
           {
            "col_name": "a",
            "displayer_args": {
             "displayer": "string",
             "max_length": 35
            }
           },
           {
            "col_name": "b",
            "displayer_args": {
             "displayer": "float",
             "max_fraction_digits": 0,
             "min_fraction_digits": 0
            }
           },
           {
            "col_name": "c",
            "displayer_args": {
             "displayer": "string",
             "max_length": 35
            }
           },
           {
            "col_name": "d",
            "displayer_args": {
             "displayer": "float",
             "max_fraction_digits": 0,
             "min_fraction_digits": 0
            }
           },
           {
            "col_name": "e",
            "displayer_args": {
             "displayer": "float",
             "max_fraction_digits": 0,
             "min_fraction_digits": 0
            }
           }
          ],
          "component_config": {},
          "extra_grid_config": {},
          "pinned_rows": [
           {
            "displayer_args": {
             "displayer": "obj"
            },
            "primary_key_val": "dtype"
           },
           {
            "displayer_args": {
             "displayer": "histogram"
            },
            "primary_key_val": "histogram"
           }
          ]
         },
         "summary_stats_key": "all_stats"
        },
        "summary": {
         "data_key": "empty",
         "df_viewer_config": {
          "column_config": [
           {
            "col_name": "index",
            "displayer_args": {
             "displayer": "obj"
            }
           },
           {
            "col_name": "a",
            "displayer_args": {
             "displayer": "obj"
            }
           },
           {
            "col_name": "b",
            "displayer_args": {
             "displayer": "obj"
            }
           },
           {
            "col_name": "c",
            "displayer_args": {
             "displayer": "obj"
            }
           },
           {
            "col_name": "d",
            "displayer_args": {
             "displayer": "obj"
            }
           },
           {
            "col_name": "e",
            "displayer_args": {
             "displayer": "obj"
            }
           }
          ],
          "component_config": {},
          "extra_grid_config": {},
          "pinned_rows": [
           {
            "displayer_args": {
             "displayer": "obj"
            },
            "primary_key_val": "dtype"
           },
           {
            "displayer_args": {
             "displayer": "float",
             "max_fraction_digits": 3,
             "min_fraction_digits": 3
            },
            "primary_key_val": "min"
           },
           {
            "displayer_args": {
             "displayer": "float",
             "max_fraction_digits": 3,
             "min_fraction_digits": 3
            },
            "primary_key_val": "mean"
           },
           {
            "displayer_args": {
             "displayer": "float",
             "max_fraction_digits": 3,
             "min_fraction_digits": 3
            },
            "primary_key_val": "max"
           },
           {
            "displayer_args": {
             "displayer": "float",
             "max_fraction_digits": 0,
             "min_fraction_digits": 0
            },
            "primary_key_val": "unique_count"
           },
           {
            "displayer_args": {
             "displayer": "float",
             "max_fraction_digits": 0,
             "min_fraction_digits": 0
            },
            "primary_key_val": "distinct_count"
           },
           {
            "displayer_args": {
             "displayer": "float",
             "max_fraction_digits": 0,
             "min_fraction_digits": 0
            },
            "primary_key_val": "empty_count"
           }
          ]
         },
         "summary_stats_key": "all_stats"
        }
       },
       "df_meta": {
        "columns": 5,
        "rows_shown": 5,
        "total_rows": 5
       },
       "layout": "IPY_MODEL_53269158b91e412cb3de66f700483faa",
       "operation_results": {
        "generated_py_code": "# instantiation, unused",
        "transformed_df": {
         "column_config": [],
         "data": [],
         "pinned_rows": []
        }
       },
       "operations": []
      }
     },
     "e9fb1ebf420a4760aba7600bfa695f9f": {
      "model_module": "@jupyter-widgets/base",
      "model_module_version": "2.0.0",
      "model_name": "LayoutModel",
      "state": {}
     }
    },
    "version_major": 2,
    "version_minor": 0
   }
  }
 },
 "nbformat": 4,
 "nbformat_minor": 5
}
