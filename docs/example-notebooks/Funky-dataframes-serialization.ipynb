{
 "cells": [
  {
   "cell_type": "code",
   "execution_count": null,
   "id": "90ebc442-0918-4fb7-b561-409968fc16d9",
   "metadata": {},
   "outputs": [],
   "source": [
    "from io import StringIO, BytesIO\n",
    "import time \n",
    "import threading\n",
    "\n",
    "from IPython.display import Javascript\n",
    "import pandas as pd\n",
    "import numpy as np\n",
    "\n",
    "import anywidget\n",
    "import traitlets\n",
    "\n",
    "import buckaroo"
   ]
  },
  {
   "cell_type": "code",
   "execution_count": null,
   "id": "4cec8236-3910-4763-8ea4-4fd65930bd17",
   "metadata": {},
   "outputs": [],
   "source": [
    "bool_df = pd.DataFrame([{'a':False}, {'a':True}])\n",
    "bool_df"
   ]
  },
  {
   "cell_type": "code",
   "execution_count": null,
   "id": "6192ae35-2d74-419a-8fdf-dc9e8f9b087d",
   "metadata": {},
   "outputs": [],
   "source": [
    "numeric_columns = pd.DataFrame([['foo', 8], ['bar',23]])\n",
    "# older json based Buckaroo works with numeric columns\n",
    "# BuckarooInfiniteWidget - the new default - which uses parquet doesn't\n",
    "buckaroo.BuckarooWidget(numeric_columns) "
   ]
  },
  {
   "cell_type": "code",
   "execution_count": null,
   "id": "438b65b5-9d9e-4d4b-ac21-9e835843b1a9",
   "metadata": {},
   "outputs": [],
   "source": [
    "buckaroo.BuckarooWidget(numeric_columns)"
   ]
  },
  {
   "cell_type": "code",
   "execution_count": null,
   "id": "9ffa162d-e1b9-4203-87a4-982ab6e75702",
   "metadata": {},
   "outputs": [],
   "source": [
    "#continguous\n",
    "object_values = pd.DataFrame([\n",
    "    {'a':{'foo':9, 'bar':10}},\n",
    "    {'a':{'foo':3, 'bar':5}}])\n",
    "object_values"
   ]
  },
  {
   "cell_type": "code",
   "execution_count": null,
   "id": "2fd2301b-5d4b-4843-afd1-ce34586b47b0",
   "metadata": {},
   "outputs": [],
   "source": [
    "#different key names\n",
    "object_values_varied = pd.DataFrame([\n",
    "    {'a':{'foo':9, 'qux':10}},\n",
    "    {'a':{'foo':3, 'bar':5}}])\n",
    "object_values_varied"
   ]
  },
  {
   "cell_type": "code",
   "execution_count": null,
   "id": "fc3d205c-b6e4-48d9-9b73-b958c05bd06c",
   "metadata": {},
   "outputs": [],
   "source": [
    "date_values = pd.DataFrame([{'a':pd.Timestamp('now')},\n",
    "                            {'a':pd.Timestamp('2014-01-02')}])\n",
    "print(date_values.dtypes)\n",
    "date_values"
   ]
  },
  {
   "cell_type": "code",
   "execution_count": null,
   "id": "e5565fa8-1db7-4f51-84dd-ad2fe35fd1eb",
   "metadata": {},
   "outputs": [],
   "source": [
    "odd_integer_values = pd.DataFrame([\n",
    "    {'a':np.nan},\n",
    "    {'a':np.inf * -1},\n",
    "    {'a':np.inf},\n",
    "    {'a':np.iinfo(np.int64).min},\n",
    "    {'a':np.iinfo(np.int64).max},\n",
    "])\n",
    "odd_integer_values    "
   ]
  },
  {
   "cell_type": "code",
   "execution_count": null,
   "id": "3cc5d541-37a1-453a-b290-40f77f4371f6",
   "metadata": {},
   "outputs": [],
   "source": [
    "over_64 = pd.DataFrame([\n",
    "    {'a':np.nan},\n",
    "    {'a':np.iinfo(np.int64).min * 2},\n",
    "    {'a':np.iinfo(np.int64).max * 2},\n",
    "])\n",
    "odd_integer_values    "
   ]
  },
  {
   "cell_type": "code",
   "execution_count": null,
   "id": "fa00200b-8b7f-4c1d-9f6b-ba8058360419",
   "metadata": {},
   "outputs": [],
   "source": [
    "lists_df = pd.DataFrame([\n",
    "    {'a': [10, 20, 30]},\n",
    "    {'a': [30, 20, 40]}])\n",
    "lists_df"
   ]
  },
  {
   "cell_type": "code",
   "execution_count": null,
   "id": "a412f8bd-7b4a-44bb-b440-37a951d90906",
   "metadata": {},
   "outputs": [],
   "source": [
    "uneven_lists_df = pd.DataFrame([\n",
    "    {'a': [10, 20, 30]},\n",
    "    {'a': [30, 40]}])\n",
    "uneven_lists_df"
   ]
  },
  {
   "cell_type": "code",
   "execution_count": null,
   "id": "78d00791-403a-49bf-8706-4810bb22886e",
   "metadata": {},
   "outputs": [],
   "source": [
    "categorical_df = pd.DataFrame({'a': pd.Categorical(['a', 'b', 'c', 'a', 'b', 'c'])})\n",
    "categorical_df"
   ]
  },
  {
   "cell_type": "code",
   "execution_count": null,
   "id": "881977de-fca5-4b45-8220-77b4371ac758",
   "metadata": {},
   "outputs": [],
   "source": [
    "multi_index_rows = pd.DataFrame(\n",
    "    [{'a':10}, {'a':20}, {'a':30}, {'a':40}, {'a':50}],\n",
    "    index=pd.MultiIndex.from_tuples(\n",
    "        [('foo', 3), ('foo', 4), ('bar', 3), ('bar', 4), ('bar', 5)]))\n",
    "multi_index_columns = multi_index_rows.T\n",
    "print(multi_index_rows) #Buckaroo doesn't work with multi indexes"
   ]
  },
  {
   "cell_type": "code",
   "execution_count": null,
   "id": "eff20128-791e-4fdc-8104-17edbff68930",
   "metadata": {},
   "outputs": [],
   "source": [
    "string_index = pd.DataFrame([{'a':10}, {'a':20}], index=[\"foo\", \"bar\"])\n",
    "print(string_index) # Buckaroo doesn't like string indexes"
   ]
  },
  {
   "cell_type": "code",
   "execution_count": null,
   "id": "d7b2eeb0-c94d-41e9-8f93-863414c4afc6",
   "metadata": {},
   "outputs": [],
   "source": [
    "mixed_bool_str = pd.DataFrame([\n",
    "    {'a': 'a string'},\n",
    "    {'a': True},\n",
    "    {'a': False}])"
   ]
  },
  {
   "cell_type": "code",
   "execution_count": null,
   "id": "c8bcfdeb-6916-4b79-8ea4-540918aa496b",
   "metadata": {},
   "outputs": [],
   "source": [
    "def roundtrip_json(df):\n",
    "    return df.equals(pd.read_json(StringIO(df.to_json())))\n",
    "def roundtrip_feather(df):\n",
    "    byts = BytesIO()\n",
    "    try:\n",
    "        df.to_feather(byts)\n",
    "        return df.equals(pd.read_feather(byts))\n",
    "    except:\n",
    "        return \"error\"\n",
    "def roundtrip_parquet(df):\n",
    "    try:\n",
    "        return df.equals(pd.read_parquet(BytesIO(df.to_parquet())))\n",
    "    except:\n",
    "        return \"error\"\n",
    "def roundtrip_fastparquet(df):\n",
    "    try:\n",
    "        return df.equals(pd.read_parquet(BytesIO(df.to_parquet(engine='fastparquet')), engine='fastparquet'))\n",
    "    except:\n",
    "        return \"error\"\n",
    "\n",
    "def roundtrip_fastparquet_json(df):\n",
    "    try:\n",
    "        out = BytesIO(df.to_parquet(engine='fastparquet', object_encoding={'a': 'json'}))\n",
    "        return df.equals(pd.read_parquet(out, engine='fastparquet'))\n",
    "    except:\n",
    "        return \"error\"    \n",
    "         \n",
    "def roundtrip_pickle(df):\n",
    "    df.to_pickle('byts')\n",
    "    return df.equals(pd.read_pickle('byts'))\n",
    "\n",
    "roundtrip_fastparquet(uneven_lists_df)\n",
    "#roundtrip_feather(numeric_columns)\n",
    "#roundtrip_pickle(numeric_columns)"
   ]
  },
  {
   "cell_type": "code",
   "execution_count": null,
   "id": "d6560bcf-fb3e-481d-8ba9-dbf0fd95541e",
   "metadata": {},
   "outputs": [],
   "source": [
    "#pd.read_parquet(BytesIO(mixed_bool_str.to_parquet(engine='fastparquet', object_encoding={'a':'bson'})), engine='fastparquet')\n"
   ]
  },
  {
   "cell_type": "code",
   "execution_count": null,
   "id": "3617255d-deed-4286-bf54-ff57aba87630",
   "metadata": {},
   "outputs": [],
   "source": [
    "dfs = dict(\n",
    "    numeric_columns = numeric_columns,\n",
    "    object_values = object_values,\n",
    "    object_values_varied = object_values_varied,\n",
    "    date_values = date_values,\n",
    "    odd_integer_values = odd_integer_values,\n",
    "    lists_df = lists_df,\n",
    "    uneven_lists_df = uneven_lists_df,\n",
    "    multi_index_rows = multi_index_rows,\n",
    "    multi_index_columns = multi_index_columns,\n",
    "    mixed_bool_str = mixed_bool_str,\n",
    "    mixed_bool_str2 = mixed_bool_str2,\n",
    "    categorical_df = categorical_df)\n",
    "results = []\n",
    "for k, df in dfs.items():\n",
    "    results.append({\n",
    "        'name':k,\n",
    "        'json':roundtrip_json(df), 'feather':roundtrip_feather(df), \n",
    "        'parquet':roundtrip_parquet(df), \n",
    "        'fast_parquet':roundtrip_fastparquet(df), 'fast_parquet_json':roundtrip_fastparquet_json(df),\n",
    "        'pickle': roundtrip_pickle(df), \n",
    "                   })\n",
    "#results_df = pd.DataFrame(results, index=dfs.keys())\n",
    "results_df = pd.DataFrame(results) #Buckaroo doesn't work with string indexes\n",
    "results_df"
   ]
  },
  {
   "cell_type": "code",
   "execution_count": null,
   "id": "567e702a-11f9-4e31-98ac-fc1acd90e405",
   "metadata": {},
   "outputs": [],
   "source": [
    "class SerializationWidget(anywidget.AnyWidget):\n",
    "    _esm = \"\"\"\n",
    "    import * as hyparquet from \"https://cdn.jsdelivr.net/npm/hyparquet@1.8.4/+esm\";\n",
    "    function render({ model, el }) {\n",
    "      console.log(\"hyparquet\", hyparquet)\n",
    "\n",
    "        const table_bytes = model.get(\"df_parquet\")\n",
    "        console.log(\"table_bytes\", table_bytes.length, table_bytes)\n",
    "        const metadata = hyparquet.parquetMetadata(table_bytes.buffer)\n",
    "        console.log(\"metadata\", metadata)\n",
    "        hyparquet.parquetRead({\n",
    "            file: table_bytes.buffer,\n",
    "            metadata:metadata,\n",
    "            rowFormat: 'object',\n",
    "            onComplete: data => {\n",
    "                const parqData = data;\n",
    "                console.log(\"parqData\", parqData)\n",
    "                model.set(\"df_json\", data)\n",
    "                model.save_changes();\n",
    "            }\n",
    "      })\n",
    "    }\n",
    "    export default { render };\n",
    "    \"\"\"\n",
    "    df_parquet = traitlets.Bytes().tag(sync=True)\n",
    "    df_json = traitlets.Any().tag(sync=True)\n",
    "\n",
    "cw = SerializationWidget(df_parquet=bool_df.to_parquet(engine='fastparquet'))\n",
    "display(cw)\n",
    "time.sleep(1)\n",
    "out_df = pd.DataFrame(cw.df_json)"
   ]
  },
  {
   "cell_type": "code",
   "execution_count": null,
   "id": "d00546c9-c837-429b-ba3b-c8f5cde40b63",
   "metadata": {},
   "outputs": [],
   "source": [
    "def bucakroo_to_parquet(df):\n",
    "    obj_columns = df.select_dtypes([pd.CategoricalDtype, 'object']).columns.to_list()\n",
    "    encodings = {k:'json' for k in obj_columns}\n",
    "    return df.to_parquet(engine='fastparquet', object_encoding=encodings)\n",
    "    pd.read_parquet(BytesIO(mixed_bool_str.to_parquet(engine='fastparquet', object_encoding={'a':'bson'})), engine='fastparquet')\n"
   ]
  },
  {
   "cell_type": "code",
   "execution_count": null,
   "id": "18386319-8ada-41f6-8547-e9ceefee9f34",
   "metadata": {},
   "outputs": [],
   "source": [
    "def rountrip_widget(df):\n",
    "    cw2 = SerializationWidget(df_parquet=bucakroo_to_parquet(df))\n",
    "    display(Javascript(\"console.clear()\"))\n",
    "    def worker():\n",
    "        display(cw2)\n",
    "        time.sleep(.3)\n",
    "\n",
    "    w = threading.Thread(name='worker', target=worker)\n",
    "    w.start()\n",
    "    w.join()\n",
    "    return df.equals(pd.DataFrame(cw.df_json))\n",
    "rountrip_widget(bool_df)"
   ]
  },
  {
   "cell_type": "code",
   "execution_count": null,
   "id": "a7ee7512-adec-4a96-ad8e-d0d33cc78c3c",
   "metadata": {},
   "outputs": [],
   "source": [
    "cw.df_json"
   ]
  },
  {
   "cell_type": "code",
   "execution_count": null,
   "id": "22b1b81d-a6f1-4fca-a55e-6c2e1bb6abc0",
   "metadata": {},
   "outputs": [],
   "source": []
  }
 ],
 "metadata": {
  "kernelspec": {
   "display_name": "Python 3 (ipykernel)",
   "language": "python",
   "name": "python3"
  },
  "language_info": {
   "codemirror_mode": {
    "name": "ipython",
    "version": 3
   },
   "file_extension": ".py",
   "mimetype": "text/x-python",
   "name": "python",
   "nbconvert_exporter": "python",
   "pygments_lexer": "ipython3",
   "version": "3.13.1"
  },
  "widgets": {
   "application/vnd.jupyter.widget-state+json": {
    "state": {},
    "version_major": 2,
    "version_minor": 0
   }
  }
 },
 "nbformat": 4,
 "nbformat_minor": 5
}
