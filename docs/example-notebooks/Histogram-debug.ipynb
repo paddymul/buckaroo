{
 "cells": [
  {
   "cell_type": "code",
   "execution_count": 1,
   "id": "1de00a49-4364-449f-87b2-1c61cded8384",
   "metadata": {
    "tags": []
   },
   "outputs": [
    {
     "name": "stdout",
     "output_type": "stream",
     "text": [
      "Buckaroo has been enabled as the default DataFrame viewer.  To return to default dataframe visualization use `from buckaroo import disable; disable()`\n"
     ]
    }
   ],
   "source": [
    "import pandas as pd\n",
    "import buckaroo"
   ]
  },
  {
   "cell_type": "code",
   "execution_count": 2,
   "id": "8187df3f-8025-423c-8c33-b5e8b86074e4",
   "metadata": {
    "tags": []
   },
   "outputs": [
    {
     "name": "stdout",
     "output_type": "stream",
     "text": [
      "low_tail 4.04 high_tail 399.96 395\n",
      "low_tail 1.0 high_tail 9.639999999999816 0\n",
      "histogram_args {'meat_histogram': (array([40, 39, 40, 39, 39, 40, 39, 40, 39, 40]), array([  5. ,  44.4,  83.8, 123.2, 162.6, 202. , 241.4, 280.8, 320.2,\n",
      "       359.6, 399. ])), 'normalized_populations': [0.10126582278481013, 0.09873417721518987, 0.10126582278481013, 0.09873417721518987, 0.09873417721518987, 0.10126582278481013, 0.09873417721518987, 0.10126582278481013, 0.09873417721518987, 0.10126582278481013], 'low_tail': 4.04, 'high_tail': 399.96}\n",
      "histogram_args empty\n",
      "histogram_args {}\n",
      "Histogram.summary(placeholder['data'], pd.Series({'value_counts': pd.Series(), 'nan_per': 0.0, 'is_numeric': True, 'length': 405, 'min': 1, 'max': 50, }), placeholder['data']) # 'low_tail'\n"
     ]
    },
    {
     "data": {
      "application/vnd.jupyter.widget-view+json": {
       "model_id": "315a4fa58d954a5e96bde53226ddda86",
       "version_major": 2,
       "version_minor": 0
      },
      "text/plain": [
       "BuckarooWidget(buckaroo_options={'sampled': ['random'], 'auto_clean': ['aggressive', 'conservative'], 'post_pr…"
      ]
     },
     "metadata": {},
     "output_type": "display_data"
    }
   ],
   "source": [
    "# one column that contains mostly 1s and a couple of larger values\n",
    "pd.DataFrame({'data': [1] * 400 + [10, 20, 30, 40, 50]})"
   ]
  },
  {
   "cell_type": "code",
   "execution_count": 4,
   "id": "f6c85cf1-3515-436f-bd0f-498c6b5a1323",
   "metadata": {
    "tags": []
   },
   "outputs": [
    {
     "name": "stdout",
     "output_type": "stream",
     "text": [
      "low_tail 4.03 high_tail 398.96999999999997 394\n",
      "low_tail 1.0 high_tail 1.0 0\n",
      "histogram_args {'meat_histogram': (array([40, 39, 39, 40, 39, 39, 40, 39, 39, 40]), array([  5. ,  44.3,  83.6, 122.9, 162.2, 201.5, 240.8, 280.1, 319.4,\n",
      "       358.7, 398. ])), 'normalized_populations': [0.10152284263959391, 0.09898477157360407, 0.09898477157360407, 0.10152284263959391, 0.09898477157360407, 0.09898477157360407, 0.10152284263959391, 0.09898477157360407, 0.09898477157360407, 0.10152284263959391], 'low_tail': 4.03, 'high_tail': 398.96999999999997}\n"
     ]
    },
    {
     "data": {
      "application/vnd.jupyter.widget-view+json": {
       "model_id": "56cefa04b818435b9c63cecc796a84f0",
       "version_major": 2,
       "version_minor": 0
      },
      "text/plain": [
       "BuckarooWidget(buckaroo_options={'sampled': ['random'], 'auto_clean': ['aggressive', 'conservative'], 'post_pr…"
      ]
     },
     "metadata": {},
     "output_type": "display_data"
    }
   ],
   "source": [
    "# one column that contains mostly 1s and a couple of larger values\n",
    "pd.DataFrame({'data': [1] * 400 + [10, 20, 30, 50]})"
   ]
  },
  {
   "cell_type": "code",
   "execution_count": 3,
   "id": "79424051-75c7-45c1-83de-3f2afc3a87fe",
   "metadata": {
    "tags": []
   },
   "outputs": [
    {
     "name": "stdout",
     "output_type": "stream",
     "text": [
      "low_tail 4.05 high_tail 400.95 396\n",
      "low_tail 1.0 high_tail 19.499999999999886 1\n",
      "histogram_args {'meat_histogram': (array([40, 39, 40, 39, 40, 39, 40, 39, 40, 40]), array([  5. ,  44.5,  84. , 123.5, 163. , 202.5, 242. , 281.5, 321. ,\n",
      "       360.5, 400. ])), 'normalized_populations': [0.10101010101010101, 0.09848484848484848, 0.10101010101010101, 0.09848484848484848, 0.10101010101010101, 0.09848484848484848, 0.10101010101010101, 0.09848484848484848, 0.10101010101010101, 0.10101010101010101], 'low_tail': 4.05, 'high_tail': 400.95}\n",
      "histogram_args {'meat_histogram': (array([0, 0, 0, 0, 0, 1, 0, 0, 0, 0]), array([ 9.5,  9.6,  9.7,  9.8,  9.9, 10. , 10.1, 10.2, 10.3, 10.4, 10.5])), 'normalized_populations': [0.0, 0.0, 0.0, 0.0, 0.0, 1.0, 0.0, 0.0, 0.0, 0.0], 'low_tail': 1.0, 'high_tail': 19.499999999999886}\n"
     ]
    },
    {
     "data": {
      "application/vnd.jupyter.widget-view+json": {
       "model_id": "e7257f7135174c079d1b3f70bfd9f9e3",
       "version_major": 2,
       "version_minor": 0
      },
      "text/plain": [
       "BuckarooWidget(buckaroo_options={'sampled': ['random'], 'auto_clean': ['aggressive', 'conservative'], 'post_pr…"
      ]
     },
     "metadata": {},
     "output_type": "display_data"
    }
   ],
   "source": [
    "# one column that contains mostly 1s and a couple of larger values\n",
    "pd.DataFrame({'data': [1] * 400 + [10, 20, 30, 40, 50, 60]})"
   ]
  },
  {
   "cell_type": "code",
   "execution_count": null,
   "id": "034685ef-f5fe-4ac4-8f4f-5ad211f65ae8",
   "metadata": {
    "tags": []
   },
   "outputs": [],
   "source": [
    "buckaroo.BuckarooWidget(df, debug=True)"
   ]
  },
  {
   "cell_type": "code",
   "execution_count": null,
   "id": "6a458c87-fb1e-4d49-854b-836bb418390c",
   "metadata": {},
   "outputs": [],
   "source": []
  }
 ],
 "metadata": {
  "kernelspec": {
   "display_name": "Python 3 (ipykernel)",
   "language": "python",
   "name": "python3"
  },
  "language_info": {
   "codemirror_mode": {
    "name": "ipython",
    "version": 3
   },
   "file_extension": ".py",
   "mimetype": "text/x-python",
   "name": "python",
   "nbconvert_exporter": "python",
   "pygments_lexer": "ipython3",
   "version": "3.11.7"
  },
  "widgets": {
   "application/vnd.jupyter.widget-state+json": {
    "state": {
     "315a4fa58d954a5e96bde53226ddda86": {
      "model_module": "buckaroo",
      "model_module_version": "^0.6.4",
      "model_name": "DCEFWidgetModel",
      "state": {
       "_model_module_version": "^0.6.4",
       "_view_module_version": "^0.6.4",
       "_view_name": "DCEFWidgetView",
       "buckaroo_options": {
        "auto_clean": [
         "aggressive",
         "conservative"
        ],
        "df_display": [
         "main",
         "summary"
        ],
        "post_processing": [
         ""
        ],
        "sampled": [
         "random"
        ],
        "show_commands": [
         "on"
        ],
        "summary_stats": [
         "all"
        ]
       },
       "buckaroo_state": {
        "auto_clean": "conservative",
        "df_display": "main",
        "post_processing": "",
        "sampled": false,
        "search_string": "",
        "show_commands": false
       },
       "commandConfig": {},
       "df_data_dict": {
        "empty": []
       },
       "df_display_args": {
        "main": {
         "data_key": "empty",
         "df_viewer_config": {
          "column_config": [],
          "pinned_rows": []
         },
         "summary_stats_key": "empty"
        },
        "summary": {
         "data_key": "empty",
         "df_viewer_config": {
          "column_config": [],
          "pinned_rows": []
         },
         "summary_stats_key": "empty"
        }
       },
       "df_meta": {
        "columns": 1,
        "rows_shown": 405,
        "total_rows": 405
       },
       "layout": "IPY_MODEL_4b8103bc8030474c8db9265e1036bb7c",
       "operation_results": {
        "generated_py_code": "# instantiation, unused",
        "transformed_df": {
         "column_config": [],
         "data": [],
         "pinned_rows": []
        }
       },
       "operations": []
      }
     },
     "42e658a88fea4dd38e520a4bb77e756d": {
      "model_module": "@jupyter-widgets/base",
      "model_module_version": "2.0.0",
      "model_name": "LayoutModel",
      "state": {}
     },
     "4b8103bc8030474c8db9265e1036bb7c": {
      "model_module": "@jupyter-widgets/base",
      "model_module_version": "2.0.0",
      "model_name": "LayoutModel",
      "state": {}
     },
     "56cefa04b818435b9c63cecc796a84f0": {
      "model_module": "buckaroo",
      "model_module_version": "^0.6.4",
      "model_name": "DCEFWidgetModel",
      "state": {
       "_model_module_version": "^0.6.4",
       "_view_module_version": "^0.6.4",
       "_view_name": "DCEFWidgetView",
       "buckaroo_options": {
        "auto_clean": [
         "aggressive",
         "conservative"
        ],
        "df_display": [
         "main",
         "summary"
        ],
        "post_processing": [
         ""
        ],
        "sampled": [
         "random"
        ],
        "show_commands": [
         "on"
        ],
        "summary_stats": [
         "all"
        ]
       },
       "buckaroo_state": {
        "auto_clean": "conservative",
        "df_display": "main",
        "post_processing": "",
        "sampled": false,
        "search_string": "",
        "show_commands": false
       },
       "commandConfig": {},
       "df_data_dict": {
        "all_stats": [
         {
          "data": "integer",
          "index": "_type"
         },
         {
          "data": 5,
          "index": "distinct_count"
         },
         {
          "data": 0.0123762376,
          "index": "distinct_per"
         },
         {
          "data": "int64",
          "index": "dtype"
         },
         {
          "data": 0,
          "index": "empty_count"
         },
         {
          "data": 0,
          "index": "empty_per"
         },
         {
          "data": [
           {
            "cat_pop": 99,
            "name": 1
           },
           {
            "cat_pop": 0,
            "name": 10
           },
           {
            "cat_pop": 0,
            "name": 20
           },
           {
            "cat_pop": 0,
            "name": 30
           },
           {
            "cat_pop": 0,
            "name": 50
           },
           {
            "name": "longtail",
            "unique": 1
           }
          ],
          "index": "histogram"
         },
         {
          "data": {},
          "index": "histogram_args"
         },
         {
          "data": [],
          "index": "histogram_bins"
         },
         {
          "data": false,
          "index": "is_bool"
         },
         {
          "data": false,
          "index": "is_datetime"
         },
         {
          "data": false,
          "index": "is_float"
         },
         {
          "data": true,
          "index": "is_integer"
         },
         {
          "data": true,
          "index": "is_numeric"
         },
         {
          "data": false,
          "index": "is_string"
         },
         {
          "data": 404,
          "index": "length"
         },
         {
          "data": 50,
          "index": "max"
         },
         {
          "data": 1.2623762376,
          "index": "mean"
         },
         {
          "data": 3364,
          "index": "memory_usage"
         },
         {
          "data": 1,
          "index": "min"
         },
         {
          "data": 1,
          "index": "mode"
         },
         {
          "data": 0,
          "index": "nan_count"
         },
         {
          "data": 0,
          "index": "nan_per"
         },
         {
          "data": 4,
          "index": "unique_count"
         },
         {
          "data": 0.0099009901,
          "index": "unique_per"
         },
         {
          "data": [
           400,
           1,
           1,
           1,
           1
          ],
          "index": "value_counts"
         }
        ],
        "empty": [],
        "main": [
         {
          "data": 1,
          "index": 0
         },
         {
          "data": 1,
          "index": 1
         },
         {
          "data": 1,
          "index": 2
         },
         {
          "data": 1,
          "index": 3
         },
         {
          "data": 1,
          "index": 4
         },
         {
          "data": 1,
          "index": 5
         },
         {
          "data": 1,
          "index": 6
         },
         {
          "data": 1,
          "index": 7
         },
         {
          "data": 1,
          "index": 8
         },
         {
          "data": 1,
          "index": 9
         },
         {
          "data": 1,
          "index": 10
         },
         {
          "data": 1,
          "index": 11
         },
         {
          "data": 1,
          "index": 12
         },
         {
          "data": 1,
          "index": 13
         },
         {
          "data": 1,
          "index": 14
         },
         {
          "data": 1,
          "index": 15
         },
         {
          "data": 1,
          "index": 16
         },
         {
          "data": 1,
          "index": 17
         },
         {
          "data": 1,
          "index": 18
         },
         {
          "data": 1,
          "index": 19
         },
         {
          "data": 1,
          "index": 20
         },
         {
          "data": 1,
          "index": 21
         },
         {
          "data": 1,
          "index": 22
         },
         {
          "data": 1,
          "index": 23
         },
         {
          "data": 1,
          "index": 24
         },
         {
          "data": 1,
          "index": 25
         },
         {
          "data": 1,
          "index": 26
         },
         {
          "data": 1,
          "index": 27
         },
         {
          "data": 1,
          "index": 28
         },
         {
          "data": 1,
          "index": 29
         },
         {
          "data": 1,
          "index": 30
         },
         {
          "data": 1,
          "index": 31
         },
         {
          "data": 1,
          "index": 32
         },
         {
          "data": 1,
          "index": 33
         },
         {
          "data": 1,
          "index": 34
         },
         {
          "data": 1,
          "index": 35
         },
         {
          "data": 1,
          "index": 36
         },
         {
          "data": 1,
          "index": 37
         },
         {
          "data": 1,
          "index": 38
         },
         {
          "data": 1,
          "index": 39
         },
         {
          "data": 1,
          "index": 40
         },
         {
          "data": 1,
          "index": 41
         },
         {
          "data": 1,
          "index": 42
         },
         {
          "data": 1,
          "index": 43
         },
         {
          "data": 1,
          "index": 44
         },
         {
          "data": 1,
          "index": 45
         },
         {
          "data": 1,
          "index": 46
         },
         {
          "data": 1,
          "index": 47
         },
         {
          "data": 1,
          "index": 48
         },
         {
          "data": 1,
          "index": 49
         },
         {
          "data": 1,
          "index": 50
         },
         {
          "data": 1,
          "index": 51
         },
         {
          "data": 1,
          "index": 52
         },
         {
          "data": 1,
          "index": 53
         },
         {
          "data": 1,
          "index": 54
         },
         {
          "data": 1,
          "index": 55
         },
         {
          "data": 1,
          "index": 56
         },
         {
          "data": 1,
          "index": 57
         },
         {
          "data": 1,
          "index": 58
         },
         {
          "data": 1,
          "index": 59
         },
         {
          "data": 1,
          "index": 60
         },
         {
          "data": 1,
          "index": 61
         },
         {
          "data": 1,
          "index": 62
         },
         {
          "data": 1,
          "index": 63
         },
         {
          "data": 1,
          "index": 64
         },
         {
          "data": 1,
          "index": 65
         },
         {
          "data": 1,
          "index": 66
         },
         {
          "data": 1,
          "index": 67
         },
         {
          "data": 1,
          "index": 68
         },
         {
          "data": 1,
          "index": 69
         },
         {
          "data": 1,
          "index": 70
         },
         {
          "data": 1,
          "index": 71
         },
         {
          "data": 1,
          "index": 72
         },
         {
          "data": 1,
          "index": 73
         },
         {
          "data": 1,
          "index": 74
         },
         {
          "data": 1,
          "index": 75
         },
         {
          "data": 1,
          "index": 76
         },
         {
          "data": 1,
          "index": 77
         },
         {
          "data": 1,
          "index": 78
         },
         {
          "data": 1,
          "index": 79
         },
         {
          "data": 1,
          "index": 80
         },
         {
          "data": 1,
          "index": 81
         },
         {
          "data": 1,
          "index": 82
         },
         {
          "data": 1,
          "index": 83
         },
         {
          "data": 1,
          "index": 84
         },
         {
          "data": 1,
          "index": 85
         },
         {
          "data": 1,
          "index": 86
         },
         {
          "data": 1,
          "index": 87
         },
         {
          "data": 1,
          "index": 88
         },
         {
          "data": 1,
          "index": 89
         },
         {
          "data": 1,
          "index": 90
         },
         {
          "data": 1,
          "index": 91
         },
         {
          "data": 1,
          "index": 92
         },
         {
          "data": 1,
          "index": 93
         },
         {
          "data": 1,
          "index": 94
         },
         {
          "data": 1,
          "index": 95
         },
         {
          "data": 1,
          "index": 96
         },
         {
          "data": 1,
          "index": 97
         },
         {
          "data": 1,
          "index": 98
         },
         {
          "data": 1,
          "index": 99
         },
         {
          "data": 1,
          "index": 100
         },
         {
          "data": 1,
          "index": 101
         },
         {
          "data": 1,
          "index": 102
         },
         {
          "data": 1,
          "index": 103
         },
         {
          "data": 1,
          "index": 104
         },
         {
          "data": 1,
          "index": 105
         },
         {
          "data": 1,
          "index": 106
         },
         {
          "data": 1,
          "index": 107
         },
         {
          "data": 1,
          "index": 108
         },
         {
          "data": 1,
          "index": 109
         },
         {
          "data": 1,
          "index": 110
         },
         {
          "data": 1,
          "index": 111
         },
         {
          "data": 1,
          "index": 112
         },
         {
          "data": 1,
          "index": 113
         },
         {
          "data": 1,
          "index": 114
         },
         {
          "data": 1,
          "index": 115
         },
         {
          "data": 1,
          "index": 116
         },
         {
          "data": 1,
          "index": 117
         },
         {
          "data": 1,
          "index": 118
         },
         {
          "data": 1,
          "index": 119
         },
         {
          "data": 1,
          "index": 120
         },
         {
          "data": 1,
          "index": 121
         },
         {
          "data": 1,
          "index": 122
         },
         {
          "data": 1,
          "index": 123
         },
         {
          "data": 1,
          "index": 124
         },
         {
          "data": 1,
          "index": 125
         },
         {
          "data": 1,
          "index": 126
         },
         {
          "data": 1,
          "index": 127
         },
         {
          "data": 1,
          "index": 128
         },
         {
          "data": 1,
          "index": 129
         },
         {
          "data": 1,
          "index": 130
         },
         {
          "data": 1,
          "index": 131
         },
         {
          "data": 1,
          "index": 132
         },
         {
          "data": 1,
          "index": 133
         },
         {
          "data": 1,
          "index": 134
         },
         {
          "data": 1,
          "index": 135
         },
         {
          "data": 1,
          "index": 136
         },
         {
          "data": 1,
          "index": 137
         },
         {
          "data": 1,
          "index": 138
         },
         {
          "data": 1,
          "index": 139
         },
         {
          "data": 1,
          "index": 140
         },
         {
          "data": 1,
          "index": 141
         },
         {
          "data": 1,
          "index": 142
         },
         {
          "data": 1,
          "index": 143
         },
         {
          "data": 1,
          "index": 144
         },
         {
          "data": 1,
          "index": 145
         },
         {
          "data": 1,
          "index": 146
         },
         {
          "data": 1,
          "index": 147
         },
         {
          "data": 1,
          "index": 148
         },
         {
          "data": 1,
          "index": 149
         },
         {
          "data": 1,
          "index": 150
         },
         {
          "data": 1,
          "index": 151
         },
         {
          "data": 1,
          "index": 152
         },
         {
          "data": 1,
          "index": 153
         },
         {
          "data": 1,
          "index": 154
         },
         {
          "data": 1,
          "index": 155
         },
         {
          "data": 1,
          "index": 156
         },
         {
          "data": 1,
          "index": 157
         },
         {
          "data": 1,
          "index": 158
         },
         {
          "data": 1,
          "index": 159
         },
         {
          "data": 1,
          "index": 160
         },
         {
          "data": 1,
          "index": 161
         },
         {
          "data": 1,
          "index": 162
         },
         {
          "data": 1,
          "index": 163
         },
         {
          "data": 1,
          "index": 164
         },
         {
          "data": 1,
          "index": 165
         },
         {
          "data": 1,
          "index": 166
         },
         {
          "data": 1,
          "index": 167
         },
         {
          "data": 1,
          "index": 168
         },
         {
          "data": 1,
          "index": 169
         },
         {
          "data": 1,
          "index": 170
         },
         {
          "data": 1,
          "index": 171
         },
         {
          "data": 1,
          "index": 172
         },
         {
          "data": 1,
          "index": 173
         },
         {
          "data": 1,
          "index": 174
         },
         {
          "data": 1,
          "index": 175
         },
         {
          "data": 1,
          "index": 176
         },
         {
          "data": 1,
          "index": 177
         },
         {
          "data": 1,
          "index": 178
         },
         {
          "data": 1,
          "index": 179
         },
         {
          "data": 1,
          "index": 180
         },
         {
          "data": 1,
          "index": 181
         },
         {
          "data": 1,
          "index": 182
         },
         {
          "data": 1,
          "index": 183
         },
         {
          "data": 1,
          "index": 184
         },
         {
          "data": 1,
          "index": 185
         },
         {
          "data": 1,
          "index": 186
         },
         {
          "data": 1,
          "index": 187
         },
         {
          "data": 1,
          "index": 188
         },
         {
          "data": 1,
          "index": 189
         },
         {
          "data": 1,
          "index": 190
         },
         {
          "data": 1,
          "index": 191
         },
         {
          "data": 1,
          "index": 192
         },
         {
          "data": 1,
          "index": 193
         },
         {
          "data": 1,
          "index": 194
         },
         {
          "data": 1,
          "index": 195
         },
         {
          "data": 1,
          "index": 196
         },
         {
          "data": 1,
          "index": 197
         },
         {
          "data": 1,
          "index": 198
         },
         {
          "data": 1,
          "index": 199
         },
         {
          "data": 1,
          "index": 200
         },
         {
          "data": 1,
          "index": 201
         },
         {
          "data": 1,
          "index": 202
         },
         {
          "data": 1,
          "index": 203
         },
         {
          "data": 1,
          "index": 204
         },
         {
          "data": 1,
          "index": 205
         },
         {
          "data": 1,
          "index": 206
         },
         {
          "data": 1,
          "index": 207
         },
         {
          "data": 1,
          "index": 208
         },
         {
          "data": 1,
          "index": 209
         },
         {
          "data": 1,
          "index": 210
         },
         {
          "data": 1,
          "index": 211
         },
         {
          "data": 1,
          "index": 212
         },
         {
          "data": 1,
          "index": 213
         },
         {
          "data": 1,
          "index": 214
         },
         {
          "data": 1,
          "index": 215
         },
         {
          "data": 1,
          "index": 216
         },
         {
          "data": 1,
          "index": 217
         },
         {
          "data": 1,
          "index": 218
         },
         {
          "data": 1,
          "index": 219
         },
         {
          "data": 1,
          "index": 220
         },
         {
          "data": 1,
          "index": 221
         },
         {
          "data": 1,
          "index": 222
         },
         {
          "data": 1,
          "index": 223
         },
         {
          "data": 1,
          "index": 224
         },
         {
          "data": 1,
          "index": 225
         },
         {
          "data": 1,
          "index": 226
         },
         {
          "data": 1,
          "index": 227
         },
         {
          "data": 1,
          "index": 228
         },
         {
          "data": 1,
          "index": 229
         },
         {
          "data": 1,
          "index": 230
         },
         {
          "data": 1,
          "index": 231
         },
         {
          "data": 1,
          "index": 232
         },
         {
          "data": 1,
          "index": 233
         },
         {
          "data": 1,
          "index": 234
         },
         {
          "data": 1,
          "index": 235
         },
         {
          "data": 1,
          "index": 236
         },
         {
          "data": 1,
          "index": 237
         },
         {
          "data": 1,
          "index": 238
         },
         {
          "data": 1,
          "index": 239
         },
         {
          "data": 1,
          "index": 240
         },
         {
          "data": 1,
          "index": 241
         },
         {
          "data": 1,
          "index": 242
         },
         {
          "data": 1,
          "index": 243
         },
         {
          "data": 1,
          "index": 244
         },
         {
          "data": 1,
          "index": 245
         },
         {
          "data": 1,
          "index": 246
         },
         {
          "data": 1,
          "index": 247
         },
         {
          "data": 1,
          "index": 248
         },
         {
          "data": 1,
          "index": 249
         },
         {
          "data": 1,
          "index": 250
         },
         {
          "data": 1,
          "index": 251
         },
         {
          "data": 1,
          "index": 252
         },
         {
          "data": 1,
          "index": 253
         },
         {
          "data": 1,
          "index": 254
         },
         {
          "data": 1,
          "index": 255
         },
         {
          "data": 1,
          "index": 256
         },
         {
          "data": 1,
          "index": 257
         },
         {
          "data": 1,
          "index": 258
         },
         {
          "data": 1,
          "index": 259
         },
         {
          "data": 1,
          "index": 260
         },
         {
          "data": 1,
          "index": 261
         },
         {
          "data": 1,
          "index": 262
         },
         {
          "data": 1,
          "index": 263
         },
         {
          "data": 1,
          "index": 264
         },
         {
          "data": 1,
          "index": 265
         },
         {
          "data": 1,
          "index": 266
         },
         {
          "data": 1,
          "index": 267
         },
         {
          "data": 1,
          "index": 268
         },
         {
          "data": 1,
          "index": 269
         },
         {
          "data": 1,
          "index": 270
         },
         {
          "data": 1,
          "index": 271
         },
         {
          "data": 1,
          "index": 272
         },
         {
          "data": 1,
          "index": 273
         },
         {
          "data": 1,
          "index": 274
         },
         {
          "data": 1,
          "index": 275
         },
         {
          "data": 1,
          "index": 276
         },
         {
          "data": 1,
          "index": 277
         },
         {
          "data": 1,
          "index": 278
         },
         {
          "data": 1,
          "index": 279
         },
         {
          "data": 1,
          "index": 280
         },
         {
          "data": 1,
          "index": 281
         },
         {
          "data": 1,
          "index": 282
         },
         {
          "data": 1,
          "index": 283
         },
         {
          "data": 1,
          "index": 284
         },
         {
          "data": 1,
          "index": 285
         },
         {
          "data": 1,
          "index": 286
         },
         {
          "data": 1,
          "index": 287
         },
         {
          "data": 1,
          "index": 288
         },
         {
          "data": 1,
          "index": 289
         },
         {
          "data": 1,
          "index": 290
         },
         {
          "data": 1,
          "index": 291
         },
         {
          "data": 1,
          "index": 292
         },
         {
          "data": 1,
          "index": 293
         },
         {
          "data": 1,
          "index": 294
         },
         {
          "data": 1,
          "index": 295
         },
         {
          "data": 1,
          "index": 296
         },
         {
          "data": 1,
          "index": 297
         },
         {
          "data": 1,
          "index": 298
         },
         {
          "data": 1,
          "index": 299
         },
         {
          "data": 1,
          "index": 300
         },
         {
          "data": 1,
          "index": 301
         },
         {
          "data": 1,
          "index": 302
         },
         {
          "data": 1,
          "index": 303
         },
         {
          "data": 1,
          "index": 304
         },
         {
          "data": 1,
          "index": 305
         },
         {
          "data": 1,
          "index": 306
         },
         {
          "data": 1,
          "index": 307
         },
         {
          "data": 1,
          "index": 308
         },
         {
          "data": 1,
          "index": 309
         },
         {
          "data": 1,
          "index": 310
         },
         {
          "data": 1,
          "index": 311
         },
         {
          "data": 1,
          "index": 312
         },
         {
          "data": 1,
          "index": 313
         },
         {
          "data": 1,
          "index": 314
         },
         {
          "data": 1,
          "index": 315
         },
         {
          "data": 1,
          "index": 316
         },
         {
          "data": 1,
          "index": 317
         },
         {
          "data": 1,
          "index": 318
         },
         {
          "data": 1,
          "index": 319
         },
         {
          "data": 1,
          "index": 320
         },
         {
          "data": 1,
          "index": 321
         },
         {
          "data": 1,
          "index": 322
         },
         {
          "data": 1,
          "index": 323
         },
         {
          "data": 1,
          "index": 324
         },
         {
          "data": 1,
          "index": 325
         },
         {
          "data": 1,
          "index": 326
         },
         {
          "data": 1,
          "index": 327
         },
         {
          "data": 1,
          "index": 328
         },
         {
          "data": 1,
          "index": 329
         },
         {
          "data": 1,
          "index": 330
         },
         {
          "data": 1,
          "index": 331
         },
         {
          "data": 1,
          "index": 332
         },
         {
          "data": 1,
          "index": 333
         },
         {
          "data": 1,
          "index": 334
         },
         {
          "data": 1,
          "index": 335
         },
         {
          "data": 1,
          "index": 336
         },
         {
          "data": 1,
          "index": 337
         },
         {
          "data": 1,
          "index": 338
         },
         {
          "data": 1,
          "index": 339
         },
         {
          "data": 1,
          "index": 340
         },
         {
          "data": 1,
          "index": 341
         },
         {
          "data": 1,
          "index": 342
         },
         {
          "data": 1,
          "index": 343
         },
         {
          "data": 1,
          "index": 344
         },
         {
          "data": 1,
          "index": 345
         },
         {
          "data": 1,
          "index": 346
         },
         {
          "data": 1,
          "index": 347
         },
         {
          "data": 1,
          "index": 348
         },
         {
          "data": 1,
          "index": 349
         },
         {
          "data": 1,
          "index": 350
         },
         {
          "data": 1,
          "index": 351
         },
         {
          "data": 1,
          "index": 352
         },
         {
          "data": 1,
          "index": 353
         },
         {
          "data": 1,
          "index": 354
         },
         {
          "data": 1,
          "index": 355
         },
         {
          "data": 1,
          "index": 356
         },
         {
          "data": 1,
          "index": 357
         },
         {
          "data": 1,
          "index": 358
         },
         {
          "data": 1,
          "index": 359
         },
         {
          "data": 1,
          "index": 360
         },
         {
          "data": 1,
          "index": 361
         },
         {
          "data": 1,
          "index": 362
         },
         {
          "data": 1,
          "index": 363
         },
         {
          "data": 1,
          "index": 364
         },
         {
          "data": 1,
          "index": 365
         },
         {
          "data": 1,
          "index": 366
         },
         {
          "data": 1,
          "index": 367
         },
         {
          "data": 1,
          "index": 368
         },
         {
          "data": 1,
          "index": 369
         },
         {
          "data": 1,
          "index": 370
         },
         {
          "data": 1,
          "index": 371
         },
         {
          "data": 1,
          "index": 372
         },
         {
          "data": 1,
          "index": 373
         },
         {
          "data": 1,
          "index": 374
         },
         {
          "data": 1,
          "index": 375
         },
         {
          "data": 1,
          "index": 376
         },
         {
          "data": 1,
          "index": 377
         },
         {
          "data": 1,
          "index": 378
         },
         {
          "data": 1,
          "index": 379
         },
         {
          "data": 1,
          "index": 380
         },
         {
          "data": 1,
          "index": 381
         },
         {
          "data": 1,
          "index": 382
         },
         {
          "data": 1,
          "index": 383
         },
         {
          "data": 1,
          "index": 384
         },
         {
          "data": 1,
          "index": 385
         },
         {
          "data": 1,
          "index": 386
         },
         {
          "data": 1,
          "index": 387
         },
         {
          "data": 1,
          "index": 388
         },
         {
          "data": 1,
          "index": 389
         },
         {
          "data": 1,
          "index": 390
         },
         {
          "data": 1,
          "index": 391
         },
         {
          "data": 1,
          "index": 392
         },
         {
          "data": 1,
          "index": 393
         },
         {
          "data": 1,
          "index": 394
         },
         {
          "data": 1,
          "index": 395
         },
         {
          "data": 1,
          "index": 396
         },
         {
          "data": 1,
          "index": 397
         },
         {
          "data": 1,
          "index": 398
         },
         {
          "data": 1,
          "index": 399
         },
         {
          "data": 10,
          "index": 400
         },
         {
          "data": 20,
          "index": 401
         },
         {
          "data": 30,
          "index": 402
         },
         {
          "data": 50,
          "index": 403
         }
        ]
       },
       "df_display_args": {
        "main": {
         "data_key": "main",
         "df_viewer_config": {
          "column_config": [
           {
            "col_name": "index",
            "displayer_args": {
             "displayer": "float",
             "max_fraction_digits": 0,
             "min_fraction_digits": 0
            }
           },
           {
            "col_name": "data",
            "displayer_args": {
             "displayer": "float",
             "max_fraction_digits": 0,
             "min_fraction_digits": 0
            }
           }
          ],
          "component_config": {},
          "extra_grid_config": {},
          "pinned_rows": [
           {
            "displayer_args": {
             "displayer": "obj"
            },
            "primary_key_val": "dtype"
           },
           {
            "displayer_args": {
             "displayer": "histogram"
            },
            "primary_key_val": "histogram"
           }
          ]
         },
         "summary_stats_key": "all_stats"
        },
        "summary": {
         "data_key": "empty",
         "df_viewer_config": {
          "column_config": [
           {
            "col_name": "index",
            "displayer_args": {
             "displayer": "obj"
            }
           },
           {
            "col_name": "data",
            "displayer_args": {
             "displayer": "obj"
            }
           }
          ],
          "component_config": {},
          "extra_grid_config": {},
          "pinned_rows": [
           {
            "displayer_args": {
             "displayer": "obj"
            },
            "primary_key_val": "dtype"
           },
           {
            "displayer_args": {
             "displayer": "float",
             "max_fraction_digits": 3,
             "min_fraction_digits": 3
            },
            "primary_key_val": "min"
           },
           {
            "displayer_args": {
             "displayer": "float",
             "max_fraction_digits": 3,
             "min_fraction_digits": 3
            },
            "primary_key_val": "mean"
           },
           {
            "displayer_args": {
             "displayer": "float",
             "max_fraction_digits": 3,
             "min_fraction_digits": 3
            },
            "primary_key_val": "max"
           },
           {
            "displayer_args": {
             "displayer": "float",
             "max_fraction_digits": 0,
             "min_fraction_digits": 0
            },
            "primary_key_val": "unique_count"
           },
           {
            "displayer_args": {
             "displayer": "float",
             "max_fraction_digits": 0,
             "min_fraction_digits": 0
            },
            "primary_key_val": "distinct_count"
           },
           {
            "displayer_args": {
             "displayer": "float",
             "max_fraction_digits": 0,
             "min_fraction_digits": 0
            },
            "primary_key_val": "empty_count"
           }
          ]
         },
         "summary_stats_key": "all_stats"
        }
       },
       "df_meta": {
        "columns": 1,
        "rows_shown": 404,
        "total_rows": 404
       },
       "layout": "IPY_MODEL_ecbc3e52d7b94c1b8d54691cbaafe3c6",
       "operation_results": {
        "generated_py_code": "# instantiation, unused",
        "transformed_df": {
         "column_config": [],
         "data": [],
         "pinned_rows": []
        }
       },
       "operations": []
      }
     },
     "e7257f7135174c079d1b3f70bfd9f9e3": {
      "model_module": "buckaroo",
      "model_module_version": "^0.6.4",
      "model_name": "DCEFWidgetModel",
      "state": {
       "_model_module_version": "^0.6.4",
       "_view_module_version": "^0.6.4",
       "_view_name": "DCEFWidgetView",
       "buckaroo_options": {
        "auto_clean": [
         "aggressive",
         "conservative"
        ],
        "df_display": [
         "main",
         "summary"
        ],
        "post_processing": [
         ""
        ],
        "sampled": [
         "random"
        ],
        "show_commands": [
         "on"
        ],
        "summary_stats": [
         "all"
        ]
       },
       "buckaroo_state": {
        "auto_clean": "conservative",
        "df_display": "main",
        "post_processing": "",
        "sampled": false,
        "search_string": "",
        "show_commands": false
       },
       "commandConfig": {},
       "df_data_dict": {
        "all_stats": [
         {
          "data": "integer",
          "index": "_type"
         },
         {
          "data": 7,
          "index": "distinct_count"
         },
         {
          "data": 0.0172413793,
          "index": "distinct_per"
         },
         {
          "data": "int64",
          "index": "dtype"
         },
         {
          "data": 0,
          "index": "empty_count"
         },
         {
          "data": 0,
          "index": "empty_per"
         },
         {
          "data": [
           {
            "name": "1 - 1.0",
            "tail": 1
           },
           {
            "name": "10-10",
            "population": 0
           },
           {
            "name": "10-10",
            "population": 0
           },
           {
            "name": "10-10",
            "population": 0
           },
           {
            "name": "10-10",
            "population": 0
           },
           {
            "name": "10-10",
            "population": 0
           },
           {
            "name": "10-10",
            "population": 100
           },
           {
            "name": "10-10",
            "population": 0
           },
           {
            "name": "10-10",
            "population": 0
           },
           {
            "name": "10-10",
            "population": 0
           },
           {
            "name": "10-10",
            "population": 0
           },
           {
            "name": "19.499999999999886 - 60",
            "tail": 1
           }
          ],
          "index": "histogram"
         },
         {
          "data": {
           "high_tail": 19.5,
           "low_tail": 1,
           "meat_histogram": [
            [
             0,
             0,
             0,
             0,
             0,
             1,
             0,
             0,
             0,
             0
            ],
            [
             9.5,
             9.6,
             9.7,
             9.8,
             9.9,
             10,
             10.1,
             10.2,
             10.3,
             10.4,
             10.5
            ]
           ],
           "normalized_populations": [
            0,
            0,
            0,
            0,
            0,
            1,
            0,
            0,
            0,
            0
           ]
          },
          "index": "histogram_args"
         },
         {
          "data": [
           9.5,
           9.6,
           9.7,
           9.8,
           9.9,
           10,
           10.1,
           10.2,
           10.3,
           10.4,
           10.5
          ],
          "index": "histogram_bins"
         },
         {
          "data": false,
          "index": "is_bool"
         },
         {
          "data": false,
          "index": "is_datetime"
         },
         {
          "data": false,
          "index": "is_float"
         },
         {
          "data": true,
          "index": "is_integer"
         },
         {
          "data": true,
          "index": "is_numeric"
         },
         {
          "data": false,
          "index": "is_string"
         },
         {
          "data": 406,
          "index": "length"
         },
         {
          "data": 60,
          "index": "max"
         },
         {
          "data": 1.5024630542,
          "index": "mean"
         },
         {
          "data": 3380,
          "index": "memory_usage"
         },
         {
          "data": 1,
          "index": "min"
         },
         {
          "data": 1,
          "index": "mode"
         },
         {
          "data": 0,
          "index": "nan_count"
         },
         {
          "data": 0,
          "index": "nan_per"
         },
         {
          "data": 6,
          "index": "unique_count"
         },
         {
          "data": 0.0147783251,
          "index": "unique_per"
         },
         {
          "data": [
           400,
           1,
           1,
           1,
           1,
           1,
           1
          ],
          "index": "value_counts"
         }
        ],
        "empty": [],
        "main": [
         {
          "data": 1,
          "index": 0
         },
         {
          "data": 1,
          "index": 1
         },
         {
          "data": 1,
          "index": 2
         },
         {
          "data": 1,
          "index": 3
         },
         {
          "data": 1,
          "index": 4
         },
         {
          "data": 1,
          "index": 5
         },
         {
          "data": 1,
          "index": 6
         },
         {
          "data": 1,
          "index": 7
         },
         {
          "data": 1,
          "index": 8
         },
         {
          "data": 1,
          "index": 9
         },
         {
          "data": 1,
          "index": 10
         },
         {
          "data": 1,
          "index": 11
         },
         {
          "data": 1,
          "index": 12
         },
         {
          "data": 1,
          "index": 13
         },
         {
          "data": 1,
          "index": 14
         },
         {
          "data": 1,
          "index": 15
         },
         {
          "data": 1,
          "index": 16
         },
         {
          "data": 1,
          "index": 17
         },
         {
          "data": 1,
          "index": 18
         },
         {
          "data": 1,
          "index": 19
         },
         {
          "data": 1,
          "index": 20
         },
         {
          "data": 1,
          "index": 21
         },
         {
          "data": 1,
          "index": 22
         },
         {
          "data": 1,
          "index": 23
         },
         {
          "data": 1,
          "index": 24
         },
         {
          "data": 1,
          "index": 25
         },
         {
          "data": 1,
          "index": 26
         },
         {
          "data": 1,
          "index": 27
         },
         {
          "data": 1,
          "index": 28
         },
         {
          "data": 1,
          "index": 29
         },
         {
          "data": 1,
          "index": 30
         },
         {
          "data": 1,
          "index": 31
         },
         {
          "data": 1,
          "index": 32
         },
         {
          "data": 1,
          "index": 33
         },
         {
          "data": 1,
          "index": 34
         },
         {
          "data": 1,
          "index": 35
         },
         {
          "data": 1,
          "index": 36
         },
         {
          "data": 1,
          "index": 37
         },
         {
          "data": 1,
          "index": 38
         },
         {
          "data": 1,
          "index": 39
         },
         {
          "data": 1,
          "index": 40
         },
         {
          "data": 1,
          "index": 41
         },
         {
          "data": 1,
          "index": 42
         },
         {
          "data": 1,
          "index": 43
         },
         {
          "data": 1,
          "index": 44
         },
         {
          "data": 1,
          "index": 45
         },
         {
          "data": 1,
          "index": 46
         },
         {
          "data": 1,
          "index": 47
         },
         {
          "data": 1,
          "index": 48
         },
         {
          "data": 1,
          "index": 49
         },
         {
          "data": 1,
          "index": 50
         },
         {
          "data": 1,
          "index": 51
         },
         {
          "data": 1,
          "index": 52
         },
         {
          "data": 1,
          "index": 53
         },
         {
          "data": 1,
          "index": 54
         },
         {
          "data": 1,
          "index": 55
         },
         {
          "data": 1,
          "index": 56
         },
         {
          "data": 1,
          "index": 57
         },
         {
          "data": 1,
          "index": 58
         },
         {
          "data": 1,
          "index": 59
         },
         {
          "data": 1,
          "index": 60
         },
         {
          "data": 1,
          "index": 61
         },
         {
          "data": 1,
          "index": 62
         },
         {
          "data": 1,
          "index": 63
         },
         {
          "data": 1,
          "index": 64
         },
         {
          "data": 1,
          "index": 65
         },
         {
          "data": 1,
          "index": 66
         },
         {
          "data": 1,
          "index": 67
         },
         {
          "data": 1,
          "index": 68
         },
         {
          "data": 1,
          "index": 69
         },
         {
          "data": 1,
          "index": 70
         },
         {
          "data": 1,
          "index": 71
         },
         {
          "data": 1,
          "index": 72
         },
         {
          "data": 1,
          "index": 73
         },
         {
          "data": 1,
          "index": 74
         },
         {
          "data": 1,
          "index": 75
         },
         {
          "data": 1,
          "index": 76
         },
         {
          "data": 1,
          "index": 77
         },
         {
          "data": 1,
          "index": 78
         },
         {
          "data": 1,
          "index": 79
         },
         {
          "data": 1,
          "index": 80
         },
         {
          "data": 1,
          "index": 81
         },
         {
          "data": 1,
          "index": 82
         },
         {
          "data": 1,
          "index": 83
         },
         {
          "data": 1,
          "index": 84
         },
         {
          "data": 1,
          "index": 85
         },
         {
          "data": 1,
          "index": 86
         },
         {
          "data": 1,
          "index": 87
         },
         {
          "data": 1,
          "index": 88
         },
         {
          "data": 1,
          "index": 89
         },
         {
          "data": 1,
          "index": 90
         },
         {
          "data": 1,
          "index": 91
         },
         {
          "data": 1,
          "index": 92
         },
         {
          "data": 1,
          "index": 93
         },
         {
          "data": 1,
          "index": 94
         },
         {
          "data": 1,
          "index": 95
         },
         {
          "data": 1,
          "index": 96
         },
         {
          "data": 1,
          "index": 97
         },
         {
          "data": 1,
          "index": 98
         },
         {
          "data": 1,
          "index": 99
         },
         {
          "data": 1,
          "index": 100
         },
         {
          "data": 1,
          "index": 101
         },
         {
          "data": 1,
          "index": 102
         },
         {
          "data": 1,
          "index": 103
         },
         {
          "data": 1,
          "index": 104
         },
         {
          "data": 1,
          "index": 105
         },
         {
          "data": 1,
          "index": 106
         },
         {
          "data": 1,
          "index": 107
         },
         {
          "data": 1,
          "index": 108
         },
         {
          "data": 1,
          "index": 109
         },
         {
          "data": 1,
          "index": 110
         },
         {
          "data": 1,
          "index": 111
         },
         {
          "data": 1,
          "index": 112
         },
         {
          "data": 1,
          "index": 113
         },
         {
          "data": 1,
          "index": 114
         },
         {
          "data": 1,
          "index": 115
         },
         {
          "data": 1,
          "index": 116
         },
         {
          "data": 1,
          "index": 117
         },
         {
          "data": 1,
          "index": 118
         },
         {
          "data": 1,
          "index": 119
         },
         {
          "data": 1,
          "index": 120
         },
         {
          "data": 1,
          "index": 121
         },
         {
          "data": 1,
          "index": 122
         },
         {
          "data": 1,
          "index": 123
         },
         {
          "data": 1,
          "index": 124
         },
         {
          "data": 1,
          "index": 125
         },
         {
          "data": 1,
          "index": 126
         },
         {
          "data": 1,
          "index": 127
         },
         {
          "data": 1,
          "index": 128
         },
         {
          "data": 1,
          "index": 129
         },
         {
          "data": 1,
          "index": 130
         },
         {
          "data": 1,
          "index": 131
         },
         {
          "data": 1,
          "index": 132
         },
         {
          "data": 1,
          "index": 133
         },
         {
          "data": 1,
          "index": 134
         },
         {
          "data": 1,
          "index": 135
         },
         {
          "data": 1,
          "index": 136
         },
         {
          "data": 1,
          "index": 137
         },
         {
          "data": 1,
          "index": 138
         },
         {
          "data": 1,
          "index": 139
         },
         {
          "data": 1,
          "index": 140
         },
         {
          "data": 1,
          "index": 141
         },
         {
          "data": 1,
          "index": 142
         },
         {
          "data": 1,
          "index": 143
         },
         {
          "data": 1,
          "index": 144
         },
         {
          "data": 1,
          "index": 145
         },
         {
          "data": 1,
          "index": 146
         },
         {
          "data": 1,
          "index": 147
         },
         {
          "data": 1,
          "index": 148
         },
         {
          "data": 1,
          "index": 149
         },
         {
          "data": 1,
          "index": 150
         },
         {
          "data": 1,
          "index": 151
         },
         {
          "data": 1,
          "index": 152
         },
         {
          "data": 1,
          "index": 153
         },
         {
          "data": 1,
          "index": 154
         },
         {
          "data": 1,
          "index": 155
         },
         {
          "data": 1,
          "index": 156
         },
         {
          "data": 1,
          "index": 157
         },
         {
          "data": 1,
          "index": 158
         },
         {
          "data": 1,
          "index": 159
         },
         {
          "data": 1,
          "index": 160
         },
         {
          "data": 1,
          "index": 161
         },
         {
          "data": 1,
          "index": 162
         },
         {
          "data": 1,
          "index": 163
         },
         {
          "data": 1,
          "index": 164
         },
         {
          "data": 1,
          "index": 165
         },
         {
          "data": 1,
          "index": 166
         },
         {
          "data": 1,
          "index": 167
         },
         {
          "data": 1,
          "index": 168
         },
         {
          "data": 1,
          "index": 169
         },
         {
          "data": 1,
          "index": 170
         },
         {
          "data": 1,
          "index": 171
         },
         {
          "data": 1,
          "index": 172
         },
         {
          "data": 1,
          "index": 173
         },
         {
          "data": 1,
          "index": 174
         },
         {
          "data": 1,
          "index": 175
         },
         {
          "data": 1,
          "index": 176
         },
         {
          "data": 1,
          "index": 177
         },
         {
          "data": 1,
          "index": 178
         },
         {
          "data": 1,
          "index": 179
         },
         {
          "data": 1,
          "index": 180
         },
         {
          "data": 1,
          "index": 181
         },
         {
          "data": 1,
          "index": 182
         },
         {
          "data": 1,
          "index": 183
         },
         {
          "data": 1,
          "index": 184
         },
         {
          "data": 1,
          "index": 185
         },
         {
          "data": 1,
          "index": 186
         },
         {
          "data": 1,
          "index": 187
         },
         {
          "data": 1,
          "index": 188
         },
         {
          "data": 1,
          "index": 189
         },
         {
          "data": 1,
          "index": 190
         },
         {
          "data": 1,
          "index": 191
         },
         {
          "data": 1,
          "index": 192
         },
         {
          "data": 1,
          "index": 193
         },
         {
          "data": 1,
          "index": 194
         },
         {
          "data": 1,
          "index": 195
         },
         {
          "data": 1,
          "index": 196
         },
         {
          "data": 1,
          "index": 197
         },
         {
          "data": 1,
          "index": 198
         },
         {
          "data": 1,
          "index": 199
         },
         {
          "data": 1,
          "index": 200
         },
         {
          "data": 1,
          "index": 201
         },
         {
          "data": 1,
          "index": 202
         },
         {
          "data": 1,
          "index": 203
         },
         {
          "data": 1,
          "index": 204
         },
         {
          "data": 1,
          "index": 205
         },
         {
          "data": 1,
          "index": 206
         },
         {
          "data": 1,
          "index": 207
         },
         {
          "data": 1,
          "index": 208
         },
         {
          "data": 1,
          "index": 209
         },
         {
          "data": 1,
          "index": 210
         },
         {
          "data": 1,
          "index": 211
         },
         {
          "data": 1,
          "index": 212
         },
         {
          "data": 1,
          "index": 213
         },
         {
          "data": 1,
          "index": 214
         },
         {
          "data": 1,
          "index": 215
         },
         {
          "data": 1,
          "index": 216
         },
         {
          "data": 1,
          "index": 217
         },
         {
          "data": 1,
          "index": 218
         },
         {
          "data": 1,
          "index": 219
         },
         {
          "data": 1,
          "index": 220
         },
         {
          "data": 1,
          "index": 221
         },
         {
          "data": 1,
          "index": 222
         },
         {
          "data": 1,
          "index": 223
         },
         {
          "data": 1,
          "index": 224
         },
         {
          "data": 1,
          "index": 225
         },
         {
          "data": 1,
          "index": 226
         },
         {
          "data": 1,
          "index": 227
         },
         {
          "data": 1,
          "index": 228
         },
         {
          "data": 1,
          "index": 229
         },
         {
          "data": 1,
          "index": 230
         },
         {
          "data": 1,
          "index": 231
         },
         {
          "data": 1,
          "index": 232
         },
         {
          "data": 1,
          "index": 233
         },
         {
          "data": 1,
          "index": 234
         },
         {
          "data": 1,
          "index": 235
         },
         {
          "data": 1,
          "index": 236
         },
         {
          "data": 1,
          "index": 237
         },
         {
          "data": 1,
          "index": 238
         },
         {
          "data": 1,
          "index": 239
         },
         {
          "data": 1,
          "index": 240
         },
         {
          "data": 1,
          "index": 241
         },
         {
          "data": 1,
          "index": 242
         },
         {
          "data": 1,
          "index": 243
         },
         {
          "data": 1,
          "index": 244
         },
         {
          "data": 1,
          "index": 245
         },
         {
          "data": 1,
          "index": 246
         },
         {
          "data": 1,
          "index": 247
         },
         {
          "data": 1,
          "index": 248
         },
         {
          "data": 1,
          "index": 249
         },
         {
          "data": 1,
          "index": 250
         },
         {
          "data": 1,
          "index": 251
         },
         {
          "data": 1,
          "index": 252
         },
         {
          "data": 1,
          "index": 253
         },
         {
          "data": 1,
          "index": 254
         },
         {
          "data": 1,
          "index": 255
         },
         {
          "data": 1,
          "index": 256
         },
         {
          "data": 1,
          "index": 257
         },
         {
          "data": 1,
          "index": 258
         },
         {
          "data": 1,
          "index": 259
         },
         {
          "data": 1,
          "index": 260
         },
         {
          "data": 1,
          "index": 261
         },
         {
          "data": 1,
          "index": 262
         },
         {
          "data": 1,
          "index": 263
         },
         {
          "data": 1,
          "index": 264
         },
         {
          "data": 1,
          "index": 265
         },
         {
          "data": 1,
          "index": 266
         },
         {
          "data": 1,
          "index": 267
         },
         {
          "data": 1,
          "index": 268
         },
         {
          "data": 1,
          "index": 269
         },
         {
          "data": 1,
          "index": 270
         },
         {
          "data": 1,
          "index": 271
         },
         {
          "data": 1,
          "index": 272
         },
         {
          "data": 1,
          "index": 273
         },
         {
          "data": 1,
          "index": 274
         },
         {
          "data": 1,
          "index": 275
         },
         {
          "data": 1,
          "index": 276
         },
         {
          "data": 1,
          "index": 277
         },
         {
          "data": 1,
          "index": 278
         },
         {
          "data": 1,
          "index": 279
         },
         {
          "data": 1,
          "index": 280
         },
         {
          "data": 1,
          "index": 281
         },
         {
          "data": 1,
          "index": 282
         },
         {
          "data": 1,
          "index": 283
         },
         {
          "data": 1,
          "index": 284
         },
         {
          "data": 1,
          "index": 285
         },
         {
          "data": 1,
          "index": 286
         },
         {
          "data": 1,
          "index": 287
         },
         {
          "data": 1,
          "index": 288
         },
         {
          "data": 1,
          "index": 289
         },
         {
          "data": 1,
          "index": 290
         },
         {
          "data": 1,
          "index": 291
         },
         {
          "data": 1,
          "index": 292
         },
         {
          "data": 1,
          "index": 293
         },
         {
          "data": 1,
          "index": 294
         },
         {
          "data": 1,
          "index": 295
         },
         {
          "data": 1,
          "index": 296
         },
         {
          "data": 1,
          "index": 297
         },
         {
          "data": 1,
          "index": 298
         },
         {
          "data": 1,
          "index": 299
         },
         {
          "data": 1,
          "index": 300
         },
         {
          "data": 1,
          "index": 301
         },
         {
          "data": 1,
          "index": 302
         },
         {
          "data": 1,
          "index": 303
         },
         {
          "data": 1,
          "index": 304
         },
         {
          "data": 1,
          "index": 305
         },
         {
          "data": 1,
          "index": 306
         },
         {
          "data": 1,
          "index": 307
         },
         {
          "data": 1,
          "index": 308
         },
         {
          "data": 1,
          "index": 309
         },
         {
          "data": 1,
          "index": 310
         },
         {
          "data": 1,
          "index": 311
         },
         {
          "data": 1,
          "index": 312
         },
         {
          "data": 1,
          "index": 313
         },
         {
          "data": 1,
          "index": 314
         },
         {
          "data": 1,
          "index": 315
         },
         {
          "data": 1,
          "index": 316
         },
         {
          "data": 1,
          "index": 317
         },
         {
          "data": 1,
          "index": 318
         },
         {
          "data": 1,
          "index": 319
         },
         {
          "data": 1,
          "index": 320
         },
         {
          "data": 1,
          "index": 321
         },
         {
          "data": 1,
          "index": 322
         },
         {
          "data": 1,
          "index": 323
         },
         {
          "data": 1,
          "index": 324
         },
         {
          "data": 1,
          "index": 325
         },
         {
          "data": 1,
          "index": 326
         },
         {
          "data": 1,
          "index": 327
         },
         {
          "data": 1,
          "index": 328
         },
         {
          "data": 1,
          "index": 329
         },
         {
          "data": 1,
          "index": 330
         },
         {
          "data": 1,
          "index": 331
         },
         {
          "data": 1,
          "index": 332
         },
         {
          "data": 1,
          "index": 333
         },
         {
          "data": 1,
          "index": 334
         },
         {
          "data": 1,
          "index": 335
         },
         {
          "data": 1,
          "index": 336
         },
         {
          "data": 1,
          "index": 337
         },
         {
          "data": 1,
          "index": 338
         },
         {
          "data": 1,
          "index": 339
         },
         {
          "data": 1,
          "index": 340
         },
         {
          "data": 1,
          "index": 341
         },
         {
          "data": 1,
          "index": 342
         },
         {
          "data": 1,
          "index": 343
         },
         {
          "data": 1,
          "index": 344
         },
         {
          "data": 1,
          "index": 345
         },
         {
          "data": 1,
          "index": 346
         },
         {
          "data": 1,
          "index": 347
         },
         {
          "data": 1,
          "index": 348
         },
         {
          "data": 1,
          "index": 349
         },
         {
          "data": 1,
          "index": 350
         },
         {
          "data": 1,
          "index": 351
         },
         {
          "data": 1,
          "index": 352
         },
         {
          "data": 1,
          "index": 353
         },
         {
          "data": 1,
          "index": 354
         },
         {
          "data": 1,
          "index": 355
         },
         {
          "data": 1,
          "index": 356
         },
         {
          "data": 1,
          "index": 357
         },
         {
          "data": 1,
          "index": 358
         },
         {
          "data": 1,
          "index": 359
         },
         {
          "data": 1,
          "index": 360
         },
         {
          "data": 1,
          "index": 361
         },
         {
          "data": 1,
          "index": 362
         },
         {
          "data": 1,
          "index": 363
         },
         {
          "data": 1,
          "index": 364
         },
         {
          "data": 1,
          "index": 365
         },
         {
          "data": 1,
          "index": 366
         },
         {
          "data": 1,
          "index": 367
         },
         {
          "data": 1,
          "index": 368
         },
         {
          "data": 1,
          "index": 369
         },
         {
          "data": 1,
          "index": 370
         },
         {
          "data": 1,
          "index": 371
         },
         {
          "data": 1,
          "index": 372
         },
         {
          "data": 1,
          "index": 373
         },
         {
          "data": 1,
          "index": 374
         },
         {
          "data": 1,
          "index": 375
         },
         {
          "data": 1,
          "index": 376
         },
         {
          "data": 1,
          "index": 377
         },
         {
          "data": 1,
          "index": 378
         },
         {
          "data": 1,
          "index": 379
         },
         {
          "data": 1,
          "index": 380
         },
         {
          "data": 1,
          "index": 381
         },
         {
          "data": 1,
          "index": 382
         },
         {
          "data": 1,
          "index": 383
         },
         {
          "data": 1,
          "index": 384
         },
         {
          "data": 1,
          "index": 385
         },
         {
          "data": 1,
          "index": 386
         },
         {
          "data": 1,
          "index": 387
         },
         {
          "data": 1,
          "index": 388
         },
         {
          "data": 1,
          "index": 389
         },
         {
          "data": 1,
          "index": 390
         },
         {
          "data": 1,
          "index": 391
         },
         {
          "data": 1,
          "index": 392
         },
         {
          "data": 1,
          "index": 393
         },
         {
          "data": 1,
          "index": 394
         },
         {
          "data": 1,
          "index": 395
         },
         {
          "data": 1,
          "index": 396
         },
         {
          "data": 1,
          "index": 397
         },
         {
          "data": 1,
          "index": 398
         },
         {
          "data": 1,
          "index": 399
         },
         {
          "data": 10,
          "index": 400
         },
         {
          "data": 20,
          "index": 401
         },
         {
          "data": 30,
          "index": 402
         },
         {
          "data": 40,
          "index": 403
         },
         {
          "data": 50,
          "index": 404
         },
         {
          "data": 60,
          "index": 405
         }
        ]
       },
       "df_display_args": {
        "main": {
         "data_key": "main",
         "df_viewer_config": {
          "column_config": [
           {
            "col_name": "index",
            "displayer_args": {
             "displayer": "float",
             "max_fraction_digits": 0,
             "min_fraction_digits": 0
            }
           },
           {
            "col_name": "data",
            "displayer_args": {
             "displayer": "float",
             "max_fraction_digits": 0,
             "min_fraction_digits": 0
            }
           }
          ],
          "component_config": {},
          "extra_grid_config": {},
          "pinned_rows": [
           {
            "displayer_args": {
             "displayer": "obj"
            },
            "primary_key_val": "dtype"
           },
           {
            "displayer_args": {
             "displayer": "histogram"
            },
            "primary_key_val": "histogram"
           }
          ]
         },
         "summary_stats_key": "all_stats"
        },
        "summary": {
         "data_key": "empty",
         "df_viewer_config": {
          "column_config": [
           {
            "col_name": "index",
            "displayer_args": {
             "displayer": "obj"
            }
           },
           {
            "col_name": "data",
            "displayer_args": {
             "displayer": "obj"
            }
           }
          ],
          "component_config": {},
          "extra_grid_config": {},
          "pinned_rows": [
           {
            "displayer_args": {
             "displayer": "obj"
            },
            "primary_key_val": "dtype"
           },
           {
            "displayer_args": {
             "displayer": "float",
             "max_fraction_digits": 3,
             "min_fraction_digits": 3
            },
            "primary_key_val": "min"
           },
           {
            "displayer_args": {
             "displayer": "float",
             "max_fraction_digits": 3,
             "min_fraction_digits": 3
            },
            "primary_key_val": "mean"
           },
           {
            "displayer_args": {
             "displayer": "float",
             "max_fraction_digits": 3,
             "min_fraction_digits": 3
            },
            "primary_key_val": "max"
           },
           {
            "displayer_args": {
             "displayer": "float",
             "max_fraction_digits": 0,
             "min_fraction_digits": 0
            },
            "primary_key_val": "unique_count"
           },
           {
            "displayer_args": {
             "displayer": "float",
             "max_fraction_digits": 0,
             "min_fraction_digits": 0
            },
            "primary_key_val": "distinct_count"
           },
           {
            "displayer_args": {
             "displayer": "float",
             "max_fraction_digits": 0,
             "min_fraction_digits": 0
            },
            "primary_key_val": "empty_count"
           }
          ]
         },
         "summary_stats_key": "all_stats"
        }
       },
       "df_meta": {
        "columns": 1,
        "rows_shown": 406,
        "total_rows": 406
       },
       "layout": "IPY_MODEL_42e658a88fea4dd38e520a4bb77e756d",
       "operation_results": {
        "generated_py_code": "# instantiation, unused",
        "transformed_df": {
         "column_config": [],
         "data": [],
         "pinned_rows": []
        }
       },
       "operations": []
      }
     },
     "ecbc3e52d7b94c1b8d54691cbaafe3c6": {
      "model_module": "@jupyter-widgets/base",
      "model_module_version": "2.0.0",
      "model_name": "LayoutModel",
      "state": {}
     }
    },
    "version_major": 2,
    "version_minor": 0
   }
  }
 },
 "nbformat": 4,
 "nbformat_minor": 5
}
