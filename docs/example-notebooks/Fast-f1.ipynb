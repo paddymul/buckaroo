{
 "cells": [
  {
   "cell_type": "code",
   "execution_count": 1,
   "id": "88f555fa-aaa3-4053-bef6-125a4b1cb693",
   "metadata": {
    "tags": []
   },
   "outputs": [],
   "source": [
    "import pandas as pd\n",
    "#import buckaroo"
   ]
  },
  {
   "cell_type": "code",
   "execution_count": 2,
   "id": "55ff0714-2059-4f6d-b085-de79a66a3362",
   "metadata": {
    "tags": []
   },
   "outputs": [],
   "source": [
    "import fastf1"
   ]
  },
  {
   "cell_type": "code",
   "execution_count": 3,
   "id": "d49ec2e5-a36a-4b06-a834-5515c9893fcc",
   "metadata": {},
   "outputs": [
    {
     "name": "stderr",
     "output_type": "stream",
     "text": [
      "req         WARNING \tDEFAULT CACHE ENABLED! (181.74 MB) /Users/paddy/Library/Caches/fastf1\n"
     ]
    }
   ],
   "source": [
    "ev2020 = fastf1.get_event_schedule(2020)\n",
    "small_df = ev2020[ev2020.columns[4:5]][:1]\n",
    "#small_df\n",
    "#ev2020"
   ]
  },
  {
   "cell_type": "code",
   "execution_count": 4,
   "id": "8106b129-65bc-46e0-8686-deccab279c31",
   "metadata": {},
   "outputs": [
    {
     "data": {
      "text/plain": [
       "Index(['RoundNumber', 'Country', 'Location', 'OfficialEventName', 'EventDate',\n",
       "       'EventName', 'EventFormat', 'Session1', 'Session1Date',\n",
       "       'Session1DateUtc', 'Session2', 'Session2Date', 'Session2DateUtc',\n",
       "       'Session3', 'Session3Date', 'Session3DateUtc', 'Session4',\n",
       "       'Session4Date', 'Session4DateUtc', 'Session5', 'Session5Date',\n",
       "       'Session5DateUtc', 'F1ApiSupport'],\n",
       "      dtype='object')"
      ]
     },
     "execution_count": 4,
     "metadata": {},
     "output_type": "execute_result"
    }
   ],
   "source": [
    "ev2020.columns"
   ]
  },
  {
   "cell_type": "code",
   "execution_count": 5,
   "id": "e70ad953-98f1-4b50-b6b0-b6bd0cfd9f88",
   "metadata": {},
   "outputs": [
    {
     "data": {
      "text/html": [
       "<div>\n",
       "<style scoped>\n",
       "    .dataframe tbody tr th:only-of-type {\n",
       "        vertical-align: middle;\n",
       "    }\n",
       "\n",
       "    .dataframe tbody tr th {\n",
       "        vertical-align: top;\n",
       "    }\n",
       "\n",
       "    .dataframe thead th {\n",
       "        text-align: right;\n",
       "    }\n",
       "</style>\n",
       "<table border=\"1\" class=\"dataframe\">\n",
       "  <thead>\n",
       "    <tr style=\"text-align: right;\">\n",
       "      <th></th>\n",
       "      <th>EventDate</th>\n",
       "    </tr>\n",
       "  </thead>\n",
       "  <tbody>\n",
       "    <tr>\n",
       "      <th>0</th>\n",
       "      <td>2020-02-21</td>\n",
       "    </tr>\n",
       "  </tbody>\n",
       "</table>\n",
       "</div>"
      ],
      "text/plain": [
       "   EventDate\n",
       "0 2020-02-21"
      ]
     },
     "execution_count": 5,
     "metadata": {},
     "output_type": "execute_result"
    }
   ],
   "source": [
    "small_df"
   ]
  },
  {
   "cell_type": "code",
   "execution_count": 7,
   "id": "46aa6057-95e7-4c34-8b0b-235ae2ad2caf",
   "metadata": {},
   "outputs": [
    {
     "data": {
      "text/plain": [
       "True"
      ]
     },
     "execution_count": 7,
     "metadata": {},
     "output_type": "execute_result"
    }
   ],
   "source": [
    "pd.api.types.is_datetime64_dtype(small_df['EventDate'])"
   ]
  },
  {
   "cell_type": "code",
   "execution_count": 9,
   "id": "3a2ab67e-3f40-4db4-9e95-96da9fdf22a5",
   "metadata": {},
   "outputs": [],
   "source": [
    "vc_ser = small_df['EventDate'].value_counts()"
   ]
  },
  {
   "cell_type": "code",
   "execution_count": 12,
   "id": "7780d4d3-17c8-42f5-8ec3-d3a522ca15c3",
   "metadata": {},
   "outputs": [],
   "source": [
    "difficult_df  = pd.DataFrame({'a': {'vc': vc_ser}})"
   ]
  },
  {
   "cell_type": "code",
   "execution_count": 17,
   "id": "91b9ff12-3ca4-4753-a56b-a34027866b77",
   "metadata": {},
   "outputs": [
    {
     "data": {
      "text/plain": [
       "'{\\n  \"schema\":{\\n    \"fields\":[\\n      {\\n        \"name\":\"index\",\\n        \"type\":\"string\"\\n      },\\n      {\\n        \"name\":\"a\",\\n        \"type\":\"string\"\\n      }\\n    ],\\n    \"primaryKey\":[\\n      \"index\"\\n    ],\\n    \"pandas_version\":\"1.4.0\"\\n  },\\n  \"data\":[\\n    {\\n      \"index\":\"vc\",\\n      \"a\":[\\n        1\\n      ]\\n    }\\n  ]\\n}'"
      ]
     },
     "execution_count": 17,
     "metadata": {},
     "output_type": "execute_result"
    }
   ],
   "source": [
    "difficult_df.to_json(orient='table', indent=2, default_handler=str)"
   ]
  },
  {
   "cell_type": "code",
   "execution_count": 15,
   "id": "94ec6a61-e57b-4a20-8ae0-df6a63c68aba",
   "metadata": {},
   "outputs": [
    {
     "data": {
      "text/plain": [
       "'2.0.2'"
      ]
     },
     "execution_count": 15,
     "metadata": {},
     "output_type": "execute_result"
    }
   ],
   "source": [
    "pd.__version__"
   ]
  },
  {
   "cell_type": "code",
   "execution_count": 20,
   "id": "1748afd4-59ea-4d67-8629-f98c7bc563ad",
   "metadata": {},
   "outputs": [
    {
     "data": {
      "text/plain": [
       "{'a': 3, 'b': 9, 'c': 10, 'd': 11, 'e': 89}"
      ]
     },
     "execution_count": 20,
     "metadata": {},
     "output_type": "execute_result"
    }
   ],
   "source": [
    "ab = dict(a=3, b=9, c=10, d=11, e=89)\n",
    "ab"
   ]
  },
  {
   "cell_type": "code",
   "execution_count": 21,
   "id": "7b01e62b-b377-4778-b8d2-a3d1c57b0130",
   "metadata": {},
   "outputs": [
    {
     "data": {
      "text/plain": [
       "5"
      ]
     },
     "execution_count": 21,
     "metadata": {},
     "output_type": "execute_result"
    }
   ],
   "source": [
    "len(ab.keys())"
   ]
  },
  {
   "cell_type": "code",
   "execution_count": 23,
   "id": "59f5fa4f-48c6-4686-ba9d-85e015c12e12",
   "metadata": {},
   "outputs": [
    {
     "data": {
      "text/plain": [
       "2"
      ]
     },
     "execution_count": 23,
     "metadata": {},
     "output_type": "execute_result"
    }
   ],
   "source": [
    "5//2\n"
   ]
  },
  {
   "cell_type": "code",
   "execution_count": 24,
   "id": "1a7845a0-b196-4c7d-a0a8-50bc47a43338",
   "metadata": {},
   "outputs": [],
   "source": [
    "import numpy as np"
   ]
  },
  {
   "cell_type": "code",
   "execution_count": 25,
   "id": "f690e96c-7e67-4a2c-bcb1-cbdcfcc14192",
   "metadata": {},
   "outputs": [
    {
     "data": {
      "text/plain": [
       "numpy.datetime64"
      ]
     },
     "execution_count": 25,
     "metadata": {},
     "output_type": "execute_result"
    }
   ],
   "source": [
    "np.datetime64"
   ]
  },
  {
   "cell_type": "code",
   "execution_count": null,
   "id": "7214755b-f519-4dd1-822e-3031dff81d4d",
   "metadata": {},
   "outputs": [],
   "source": [
    "ev2020[['RoundNumber',    'EventName', 'EventFormat']]"
   ]
  },
  {
   "cell_type": "code",
   "execution_count": null,
   "id": "e6920c43-8779-4f1a-bafa-c33960408eab",
   "metadata": {},
   "outputs": [],
   "source": [
    "pd.DataFrame({'a':[10,30,40]})"
   ]
  },
  {
   "cell_type": "code",
   "execution_count": null,
   "id": "c84f170b-68a4-4efb-aeb2-73acf1504239",
   "metadata": {},
   "outputs": [],
   "source": [
    "pd.Series([]).value_counts()"
   ]
  },
  {
   "cell_type": "code",
   "execution_count": null,
   "id": "176141b7-db08-4462-900f-4455679d2afb",
   "metadata": {},
   "outputs": [],
   "source": [
    "small_df.dtypes"
   ]
  },
  {
   "cell_type": "code",
   "execution_count": null,
   "id": "3524ea11-45f2-4a7c-beab-ae3fb1984ec5",
   "metadata": {},
   "outputs": [],
   "source": [
    "small_df['EventDate']"
   ]
  },
  {
   "cell_type": "code",
   "execution_count": null,
   "id": "a1215255-7bab-4efa-a850-cbd77fa9e479",
   "metadata": {},
   "outputs": [],
   "source": [
    "pd.api.types.is_object_dtype(small_df['EventDate'])"
   ]
  },
  {
   "cell_type": "code",
   "execution_count": null,
   "id": "d199b69a-add4-4b55-8cfd-f805bbd71fd4",
   "metadata": {},
   "outputs": [],
   "source": [
    "pd.api.types.is_datetime64_dtype(small_df['EventDate'])"
   ]
  },
  {
   "cell_type": "code",
   "execution_count": null,
   "id": "d7838698-d7fe-4695-890e-2204ad5e7db0",
   "metadata": {
    "tags": []
   },
   "outputs": [],
   "source": [
    "session = fastf1.get_session(2019, 'Monza', 'Q')"
   ]
  },
  {
   "cell_type": "code",
   "execution_count": null,
   "id": "8fbc2433-c097-4422-b109-3f201ec891a0",
   "metadata": {
    "tags": []
   },
   "outputs": [],
   "source": [
    "session.load(telemetry=False, laps=False, weather=False)"
   ]
  },
  {
   "cell_type": "code",
   "execution_count": null,
   "id": "e0aa12ba-d340-444b-b4e4-faef4e1798a3",
   "metadata": {
    "tags": []
   },
   "outputs": [],
   "source": [
    "vettel = session.get_driver('VET')\n",
    "print(f\"Pronto {vettel['FirstName']}?\")"
   ]
  },
  {
   "cell_type": "code",
   "execution_count": null,
   "id": "3a17b9eb-9198-475b-915a-375ed5f823ac",
   "metadata": {},
   "outputs": [],
   "source": [
    "vettel"
   ]
  },
  {
   "cell_type": "code",
   "execution_count": null,
   "id": "b4108f22-180d-4b4a-9e00-d7b470e1872f",
   "metadata": {
    "tags": []
   },
   "outputs": [],
   "source": [
    "from matplotlib import pyplot as plt\n",
    "import fastf1\n",
    "import fastf1.plotting"
   ]
  },
  {
   "cell_type": "code",
   "execution_count": null,
   "id": "e1d22212-1810-4afa-a5ed-b7687f68d30e",
   "metadata": {
    "tags": []
   },
   "outputs": [],
   "source": [
    "\n",
    "fastf1.plotting.setup_mpl()\n",
    "\n",
    "session = fastf1.get_session(2019, 'Monza', 'Q')\n",
    "\n",
    "session.load()\n",
    "fast_leclerc = session.laps.pick_driver('LEC').pick_fastest()\n",
    "lec_car_data = fast_leclerc.get_car_data()\n",
    "t = lec_car_data['Time']\n",
    "vCar = lec_car_data['Speed']\n",
    "\n",
    "# The rest is just plotting\n",
    "fig, ax = plt.subplots()\n",
    "ax.plot(t, vCar, label='Fast')\n",
    "ax.set_xlabel('Time')\n",
    "ax.set_ylabel('Speed [Km/h]')\n",
    "ax.set_title('Leclerc is')\n",
    "ax.legend()\n",
    "plt.show()"
   ]
  },
  {
   "cell_type": "code",
   "execution_count": null,
   "id": "9b6bf276-8054-458f-b10d-c5ab19afc756",
   "metadata": {
    "tags": []
   },
   "outputs": [],
   "source": [
    "session.results.iloc[0:7].loc[:, ['Abbreviation', 'Q3']]"
   ]
  },
  {
   "cell_type": "code",
   "execution_count": null,
   "id": "a20a69cb-222f-4935-a96f-06f616f4ecfd",
   "metadata": {
    "tags": []
   },
   "outputs": [],
   "source": [
    "bw = buckaroo.BuckarooWidget(session.results.iloc[0:10].loc[:, ['Abbreviation', 'Q3']])"
   ]
  },
  {
   "cell_type": "code",
   "execution_count": null,
   "id": "6fe1d915-6305-404e-bfa4-0237d8343d5c",
   "metadata": {
    "tags": []
   },
   "outputs": [],
   "source": [
    "bw.df_data_dict['main']"
   ]
  },
  {
   "cell_type": "code",
   "execution_count": null,
   "id": "dc8f7931-b26c-479a-9aa3-f28cf5efee6f",
   "metadata": {
    "tags": []
   },
   "outputs": [],
   "source": [
    "fastf1.get_event_schedule(2007)"
   ]
  },
  {
   "cell_type": "code",
   "execution_count": null,
   "id": "513d2028-ad70-4183-9c74-309cecd5456d",
   "metadata": {},
   "outputs": [],
   "source": [
    "buckaroo.debug_packages()"
   ]
  },
  {
   "cell_type": "code",
   "execution_count": null,
   "id": "8fb2f490-a792-4f82-bd2f-056b5006643c",
   "metadata": {},
   "outputs": [],
   "source": []
  }
 ],
 "metadata": {
  "kernelspec": {
   "display_name": "Python 3 (ipykernel)",
   "language": "python",
   "name": "python3"
  },
  "language_info": {
   "codemirror_mode": {
    "name": "ipython",
    "version": 3
   },
   "file_extension": ".py",
   "mimetype": "text/x-python",
   "name": "python",
   "nbconvert_exporter": "python",
   "pygments_lexer": "ipython3",
   "version": "3.8.18"
  },
  "widgets": {
   "application/vnd.jupyter.widget-state+json": {
    "state": {},
    "version_major": 2,
    "version_minor": 0
   }
  }
 },
 "nbformat": 4,
 "nbformat_minor": 5
}
