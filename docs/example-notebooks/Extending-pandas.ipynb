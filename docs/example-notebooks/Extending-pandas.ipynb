{
 "cells": [
  {
   "cell_type": "markdown",
   "id": "0",
   "metadata": {},
   "source": [
    "# Extending Buckaroo for pandas\n",
    "Buckaroo is built for exploratory data analysis on unknown data.  Data in the wild is incredibly varied and so are the ways of visualizing it. Most table tools are built around allowing a single bespoke customization, with middle of the road defaults. Buckaroo takes a different approach. Buckaroo lets you build many highly specific configurations and then toggle between them quickly.  This makes it easier to build each configuration because you don't have to solve for every possibility.\n",
    "\n",
    "This document walks you through how to add your own analysis to Buckaroo and allow users to toggle it\n",
    "\n",
    "The extension points are\n",
    "* [PluggableAnalysisFramework](https://buckaroo-data.readthedocs.io/en/latest/articles/pluggable.html) Used to add summary stats and column metadata for use by other steps\n",
    "* [Styling](./styling-howto.ipynb) control the visual display of the table\n",
    "* PostProcessing used to transform an entire dataframe\n",
    "* AutoCleaning Automate transformations for dropping nulls, removing outliers and other pre-processing steps, cleans the dataframe and generates python code.  Not yet supported in 0.6\n",
    "\n",
    "Each extension point is composable, and can be interactively mixed and matched"
   ]
  },
  {
   "cell_type": "code",
   "execution_count": 5,
   "id": "1",
   "metadata": {
    "tags": []
   },
   "outputs": [],
   "source": [
    "import pandas as pd\n",
    "import numpy as np\n",
    "from buckaroo.dataflow.dataflow_extras import StylingAnalysis\n",
    "from buckaroo.pluggable_analysis_framework.pluggable_analysis_framework import ColAnalysis\n",
    "from buckaroo import BuckarooWidget"
   ]
  },
  {
   "cell_type": "code",
   "execution_count": 6,
   "id": "2",
   "metadata": {
    "tags": []
   },
   "outputs": [],
   "source": [
    "ROWS = 200\n",
    "typed_df = pd.DataFrame({'int_col':np.random.randint(1,50, ROWS), 'float_col': np.random.randint(1,30, ROWS)/.7,\n",
    "                         'timestamp':[\"2020-01-01 01:00Z\", \"2020-01-01 02:00Z\", \"2020-02-28 02:00Z\", \"2020-03-15 02:00Z\", None] * 40,\n",
    "                         \"str_col\": [\"foobar\", \"Realllllly long string\", \"\", None, \"normal\"]* 40})\n",
    "typed_df['timestamp'] = pd.to_datetime(typed_df['timestamp'])"
   ]
  },
  {
   "cell_type": "code",
   "execution_count": 7,
   "id": "3",
   "metadata": {
    "tags": []
   },
   "outputs": [
    {
     "data": {
      "application/vnd.jupyter.widget-view+json": {
       "model_id": "944d4406e10a4952a286aeb1716206cc",
       "version_major": 2,
       "version_minor": 0
      },
      "text/plain": [
       "BuckarooWidget(buckaroo_options={'sampled': ['random'], 'auto_clean': ['aggressive', 'conservative'], 'post_pr…"
      ]
     },
     "execution_count": 7,
     "metadata": {},
     "output_type": "execute_result"
    }
   ],
   "source": [
    "bw = BuckarooWidget(typed_df)\n",
    "bw"
   ]
  },
  {
   "cell_type": "code",
   "execution_count": 8,
   "id": "07cfde8c-9486-47b8-9775-fbcfdd12af75",
   "metadata": {},
   "outputs": [
    {
     "data": {
      "text/plain": [
       "{'main': {'data_key': 'main',\n",
       "  'df_viewer_config': {'pinned_rows': [{'primary_key_val': 'dtype',\n",
       "     'displayer_args': {'displayer': 'obj'}},\n",
       "    {'primary_key_val': 'histogram',\n",
       "     'displayer_args': {'displayer': 'histogram'}}],\n",
       "   'column_config': [{'col_name': 'index',\n",
       "     'displayer_args': {'displayer': 'float',\n",
       "      'min_fraction_digits': 0,\n",
       "      'max_fraction_digits': 0}},\n",
       "    {'col_name': 'int_col',\n",
       "     'displayer_args': {'displayer': 'float',\n",
       "      'min_fraction_digits': 0,\n",
       "      'max_fraction_digits': 0}},\n",
       "    {'col_name': 'float_col',\n",
       "     'displayer_args': {'displayer': 'float',\n",
       "      'min_fraction_digits': 3,\n",
       "      'max_fraction_digits': 3}},\n",
       "    {'col_name': 'timestamp',\n",
       "     'tooltip_config': {'tooltip_type': 'simple', 'val_column': 'timestamp'},\n",
       "     'displayer_args': {'displayer': 'obj'}},\n",
       "    {'col_name': 'str_col',\n",
       "     'tooltip_config': {'tooltip_type': 'simple', 'val_column': 'str_col'},\n",
       "     'displayer_args': {'displayer': 'string', 'max_length': 35}}],\n",
       "   'extra_grid_config': {},\n",
       "   'component_config': {}},\n",
       "  'summary_stats_key': 'all_stats'},\n",
       " 'summary': {'data_key': 'empty',\n",
       "  'df_viewer_config': {'pinned_rows': [{'primary_key_val': 'dtype',\n",
       "     'displayer_args': {'displayer': 'obj'}},\n",
       "    {'primary_key_val': 'non_null_count',\n",
       "     'displayer_args': {'displayer': 'float',\n",
       "      'min_fraction_digits': 0,\n",
       "      'max_fraction_digits': 0}},\n",
       "    {'primary_key_val': 'null_count',\n",
       "     'displayer_args': {'displayer': 'float',\n",
       "      'min_fraction_digits': 0,\n",
       "      'max_fraction_digits': 0}},\n",
       "    {'primary_key_val': 'mean',\n",
       "     'displayer_args': {'displayer': 'float',\n",
       "      'min_fraction_digits': 3,\n",
       "      'max_fraction_digits': 3}},\n",
       "    {'primary_key_val': 'std',\n",
       "     'displayer_args': {'displayer': 'float',\n",
       "      'min_fraction_digits': 3,\n",
       "      'max_fraction_digits': 3}},\n",
       "    {'primary_key_val': 'min',\n",
       "     'displayer_args': {'displayer': 'float',\n",
       "      'min_fraction_digits': 3,\n",
       "      'max_fraction_digits': 3}},\n",
       "    {'primary_key_val': '25th',\n",
       "     'displayer_args': {'displayer': 'float',\n",
       "      'min_fraction_digits': 3,\n",
       "      'max_fraction_digits': 3}},\n",
       "    {'primary_key_val': 'median',\n",
       "     'displayer_args': {'displayer': 'float',\n",
       "      'min_fraction_digits': 3,\n",
       "      'max_fraction_digits': 3}},\n",
       "    {'primary_key_val': '75th',\n",
       "     'displayer_args': {'displayer': 'float',\n",
       "      'min_fraction_digits': 3,\n",
       "      'max_fraction_digits': 3}},\n",
       "    {'primary_key_val': 'max',\n",
       "     'displayer_args': {'displayer': 'float',\n",
       "      'min_fraction_digits': 3,\n",
       "      'max_fraction_digits': 3}},\n",
       "    {'primary_key_val': 'unique_count',\n",
       "     'displayer_args': {'displayer': 'float',\n",
       "      'min_fraction_digits': 0,\n",
       "      'max_fraction_digits': 0}},\n",
       "    {'primary_key_val': 'distinct_count',\n",
       "     'displayer_args': {'displayer': 'float',\n",
       "      'min_fraction_digits': 0,\n",
       "      'max_fraction_digits': 0}},\n",
       "    {'primary_key_val': 'most_freq', 'displayer_args': {'displayer': 'obj'}},\n",
       "    {'primary_key_val': '2nd_freq', 'displayer_args': {'displayer': 'obj'}},\n",
       "    {'primary_key_val': '3rd_freq', 'displayer_args': {'displayer': 'obj'}},\n",
       "    {'primary_key_val': '4th_freq', 'displayer_args': {'displayer': 'obj'}},\n",
       "    {'primary_key_val': '5th_freq', 'displayer_args': {'displayer': 'obj'}}],\n",
       "   'column_config': [{'col_name': 'index',\n",
       "     'displayer_args': {'displayer': 'obj'}},\n",
       "    {'col_name': 'int_col', 'displayer_args': {'displayer': 'obj'}},\n",
       "    {'col_name': 'float_col', 'displayer_args': {'displayer': 'obj'}},\n",
       "    {'col_name': 'timestamp', 'displayer_args': {'displayer': 'obj'}},\n",
       "    {'col_name': 'str_col', 'displayer_args': {'displayer': 'obj'}}],\n",
       "   'extra_grid_config': {},\n",
       "   'component_config': {}},\n",
       "  'summary_stats_key': 'all_stats'}}"
      ]
     },
     "execution_count": 8,
     "metadata": {},
     "output_type": "execute_result"
    }
   ],
   "source": [
    "bw.df_display_args"
   ]
  },
  {
   "cell_type": "markdown",
   "id": "4",
   "metadata": {},
   "source": [
    "# Using the Pluggable Analysis Framework\n",
    "\n",
    "The PAF allows users to add summary analysis that runs for every dataframe, and exposes created measures to subsequent steps.\n",
    "There are implementations for pandas and polars.  Individual analysis classes cna depend on other calsess that provide measures, the framwork ensures that they are excecuted in the correct order.\n",
    "\n",
    "These measures form the column metadata used by styling, and the summary information used for pinned rows.\n",
    "\n",
    "You can read more here\n",
    "\n",
    "* https://github.com/paddymul/buckaroo/blob/main/tests/unit/analysis_management_test.py\n",
    "* https://github.com/paddymul/buckaroo/blob/main/buckaroo/customizations/analysis.py\n",
    "\n",
    "The following cell adds a 99th quintile measure and displays it."
   ]
  },
  {
   "cell_type": "code",
   "execution_count": null,
   "id": "5",
   "metadata": {
    "tags": []
   },
   "outputs": [],
   "source": [
    "class Quin99Analysis(StylingAnalysis):\n",
    "    provides_defaults = {'quin99': None}\n",
    "\n",
    "    @staticmethod\n",
    "    def series_summary(sampled_ser, ser):\n",
    "        if pd.api.types.is_numeric_dtype(ser) and not pd.api.types.is_bool_dtype(ser):\n",
    "            return dict(\n",
    "                quin99=ser.quantile(.99))\n",
    "        return {}\n",
    "    \n",
    "    pinned_rows = [{'primary_key_val': 'quin99', 'displayer_args': {'displayer': 'obj' }}]\n",
    "    df_display_name = 'quin99'\n",
    "    data_key = \"empty\"  # the non pinned rows will pull from the empty dataframe\n",
    "\n",
    "pbw = BuckarooWidget(typed_df)\n",
    "pbw.add_analysis(Quin99Analysis)\n",
    "pbw"
   ]
  },
  {
   "cell_type": "markdown",
   "id": "6",
   "metadata": {},
   "source": [
    "# Adding a styling analysis\n",
    "The `StylingAnalysis` class is used to control the display of a column based on the column metadata.  \n",
    "\n",
    "\n",
    "Overriding the `config_from_column_metadata(col:str, sd:SingleColumnMetadata) -> ColumnConfig` computes the config for a single column given that column's metadata.\n",
    "\n",
    "This lets you customize based on metadata collected about a column.  This works with the [PluggableAnalysisFramework](https://buckaroo-data.readthedocs.io/en/latest/articles/pluggable.html),  you can specify required fields that are necessary.  Adding requirements like this guarantees that errors are spotted early.\n",
    "\n",
    "The same StylingAnalysis class can generally work for both Polars and Pandas because it only receives a dictionary with simple python values.\n",
    "\n",
    "The following cell defines two StylingAnalysis, one that shows great detail `everything` the other shows shortened versions `Abrev`"
   ]
  },
  {
   "cell_type": "code",
   "execution_count": null,
   "id": "7",
   "metadata": {
    "tags": []
   },
   "outputs": [],
   "source": [
    "class EverythingStyling(StylingAnalysis):\n",
    "    \"\"\"\n",
    "    This styling shows as much detail as possible\n",
    "    \"\"\"\n",
    "    df_display_name = \"Everything\"\n",
    "    requires_summary = [\"histogram\", \"is_numeric\", \"dtype\", \"_type\"]\n",
    "    pinned_rows = [{'primary_key_val': 'dtype', 'displayer_args': {'displayer': 'obj' }}]\n",
    "\n",
    "    #Styling analysis handles column iteration for us.\n",
    "    @classmethod\n",
    "    def style_column(kls, col:str, column_metadata):\n",
    "        digits = 10\n",
    "        t = column_metadata['_type']\n",
    "        if column_metadata['is_integer']:\n",
    "            disp = {'displayer': 'float', 'min_fraction_digits':0, 'max_fraction_digits':0}\n",
    "        elif column_metadata['is_numeric']:\n",
    "            disp = {'displayer': 'float', 'min_fraction_digits':digits, 'max_fraction_digits':digits}            \n",
    "        elif t == 'temporal':\n",
    "            disp = {'displayer': 'datetimeLocaleString','locale': 'en-US',  'args': {}}\n",
    "        elif t == 'string':\n",
    "            disp = {'displayer': 'string', 'max_length': 100}\n",
    "        else:\n",
    "            disp = {'displayer': 'obj'}\n",
    "        return {'col_name':col, 'displayer_args': disp }\n",
    "\n",
    "class AbrevStyling(StylingAnalysis):\n",
    "    \"\"\"This styling shows shortened versions of columns \"\"\"\n",
    "    requires_summary = [\"histogram\", \"is_numeric\", \"dtype\", \"_type\"]\n",
    "    df_display_name = \"Abrev\"\n",
    "    pinned_rows = []\n",
    "\n",
    "    @classmethod\n",
    "    def style_column(kls, col:str, column_metadata):\n",
    "        digits = 3\n",
    "        t = column_metadata['_type']\n",
    "        if column_metadata['is_integer']:\n",
    "            disp = {'displayer': 'float', 'min_fraction_digits':0, 'max_fraction_digits':0}\n",
    "        elif column_metadata['is_numeric']:\n",
    "            disp = {'displayer': 'float', 'min_fraction_digits':digits, 'max_fraction_digits':digits}\n",
    "        elif t == 'temporal':\n",
    "            disp = {'displayer': 'datetimeLocaleString','locale': 'en-US',  'args': {}}\n",
    "        elif t == 'string':\n",
    "            disp = {'displayer': 'string', 'max_length':10}\n",
    "        else:\n",
    "            disp = {'displayer': 'obj'}\n",
    "        return {'col_name':col, 'displayer_args': disp }\n",
    "\n",
    "sbw = BuckarooWidget(typed_df)\n",
    "sbw.add_analysis(EverythingStyling)\n",
    "sbw.add_analysis(AbrevStyling)\n",
    "sbw"
   ]
  },
  {
   "cell_type": "markdown",
   "id": "8",
   "metadata": {},
   "source": [
    "Let's look at pinned_rows, they can be modified by setting `pinned_rows` on Buckaroo Instaniation"
   ]
  },
  {
   "cell_type": "markdown",
   "id": "9",
   "metadata": {},
   "source": [
    "# lets add a post processing method"
   ]
  },
  {
   "cell_type": "code",
   "execution_count": null,
   "id": "10",
   "metadata": {
    "tags": []
   },
   "outputs": [],
   "source": [
    "bw = BuckarooWidget(typed_df[:5])  #this throws a bunch of warnings\n",
    "@bw.add_processing\n",
    "def transpose(df):\n",
    "    return df.transpose()\n",
    "bw"
   ]
  },
  {
   "cell_type": "code",
   "execution_count": null,
   "id": "11",
   "metadata": {
    "tags": []
   },
   "outputs": [],
   "source": [
    "class ValueCountPostProcessing(ColAnalysis):\n",
    "    @classmethod\n",
    "    def post_process_df(kls, df):\n",
    "        dfs = []\n",
    "        for c in df.columns:\n",
    "            vc = df[c].value_counts()\n",
    "            if len(vc) > 10:\n",
    "                vc = vc.iloc[:10]\n",
    "            tdf = pd.DataFrame({'%s_vals' %c:vc.index.values, '%s_counts'% c:vc.values})\n",
    "            tdf.reindex(pd.RangeIndex(10))\n",
    "            dfs.append(tdf)\n",
    "        return [pd.concat(dfs, axis=1), {}]\n",
    "    post_processing_method = \"value_counts\"\n",
    "\n",
    "class ShowErrorsPostProcessing(ColAnalysis):\n",
    "    @classmethod\n",
    "    def post_process_df(kls, df):\n",
    "        tdf = df.copy()\n",
    "        tdf['errored_float'] = \"some error\"\n",
    "        tdf.loc[typed_df['float_col'].lt(20) == False, 'errored_float'] = None\n",
    "        extra_column_config = {\n",
    "            'float_col': {'column_config_override': {\n",
    "                'color_map_config': {\n",
    "                    'color_rule': 'color_not_null',\n",
    "                    'conditional_color': 'red',\n",
    "                    'exist_column': 'errored_float'},\n",
    "                'tooltip_config': { 'tooltip_type':'simple', 'val_column': 'errored_float'}}},\n",
    "            'errored_float': {'column_config_override': {'merge_rule': 'hidden'}}}\n",
    "        return (tdf, extra_column_config)\n",
    "    post_processing_method = \"show_errors\"\n",
    "\n",
    "# In this case we are going to extend BuckarooWidget so we can take this combination with us\n",
    "base_a_klasses = BuckarooWidget.analysis_klasses.copy()\n",
    "base_a_klasses.extend([ValueCountPostProcessing, \n",
    "                       ShowErrorsPostProcessing])\n",
    "class VCBuckarooWidget(BuckarooWidget):\n",
    "    analysis_klasses = base_a_klasses\n",
    "vcb = VCBuckarooWidget(typed_df, debug=False)\n",
    "vcb"
   ]
  },
  {
   "cell_type": "markdown",
   "id": "12",
   "metadata": {},
   "source": [
    "## Where to use PostProcessing\n",
    "Post processing functions are no argument transformations.  I can't think of a lot of generic whole dataframe operations.\n",
    "\n",
    "`ValueCount` and `Transpose` are generic.  `ShowErrors` depends on two specific columns.\n",
    "\n",
    "I expect Post processing to be very useful for small custom apps built on top of Buckaroo.  When you know the columns and you want a strict set of transforms, PostProcessing is a great fit.\n",
    "\n",
    "\n",
    "\n",
    "Post processing is also useful when combined with a preprocessing function to compare DataFrames\n",
    "\n",
    "Here is some pseudo code\n",
    "```python\n",
    "class ComparePost(ColAnalysis):\n",
    "\n",
    "    @classmethod\n",
    "    def post_process_df(kls, df):\n",
    "        df1,df2 = split_columns(\"|\")\n",
    "        compare_df = run_compare(df1, df2)\n",
    "        return [compare_df, {}]\n",
    "    post_processing_method = 'compare'\n",
    "    \n",
    "class CompareWidget(BuckarooWidget):\n",
    "    analysis_klasses = [ComparePost]\n",
    "    \n",
    "def compare(df1, df2):\n",
    "    joined = pd.concat([prefix_columns(df1, 'df1|'), prefix_columns(df2, 'df21|')])\n",
    "    return CompareWidget(joined)\n",
    "\n",
    "#run this by the following command\n",
    "compare(sales_march_2022_df, sales_march_2023_df)\n",
    "```"
   ]
  },
  {
   "cell_type": "markdown",
   "id": "13",
   "metadata": {},
   "source": [
    "# Putting it all together\n",
    "\n",
    "You can compose (combine) the PluggableAnalysisFramework, PostProcessing and Styling into a single widget.  And you can manipulate PostProcessing separately from Styling."
   ]
  },
  {
   "cell_type": "code",
   "execution_count": null,
   "id": "14",
   "metadata": {
    "tags": []
   },
   "outputs": [],
   "source": [
    "from buckaroo.customizations.analysis import (TypingStats, ComputedDefaultSummaryStats, DefaultSummaryStats)\n",
    "from buckaroo.customizations.histogram import (Histogram)\n",
    "from buckaroo.customizations.styling import DefaultSummaryStatsStyling, DefaultMainStyling\n",
    "\n",
    "class KitchenSinkWidget(BuckarooWidget):\n",
    "    #let's be explicit here and show all of the built in analysis klasses\n",
    "    analysis_klasses = [\n",
    "    TypingStats, DefaultSummaryStats,\n",
    "    Histogram, ComputedDefaultSummaryStats,\n",
    "    # default buckaroo styling\n",
    "    DefaultSummaryStatsStyling, DefaultMainStyling,\n",
    "    # our Quin99 analysis\n",
    "    Quin99Analysis,  # adds a styling method\n",
    "    #our PostProcessing classes\n",
    "    ValueCountPostProcessing, ShowErrorsPostProcessing,\n",
    "    #our styling methods\n",
    "    EverythingStyling, AbrevStyling]\n",
    "ksw = KitchenSinkWidget(typed_df)\n",
    "ksw"
   ]
  },
  {
   "cell_type": "markdown",
   "id": "15",
   "metadata": {},
   "source": [
    "# Why aren't there click handlers?\n",
    "\n",
    "Buckaroo doesn't allow arbitrary click handlers and this is by design.  When you allow arbitrary click handlers, you then have to manage state.  If you have noticed, every method of extending buckaroo is a pure function.  Managing application state is difficult and the primary source of errors when building GUIs.\n",
    "\n",
    "Buckaroo is designed purely around displaying DataFrames along with the most common operations that are performed on DataFrames.  If you want more traditional app experiences, right now you can use IPYWidgets and integrate buckaroo into it.  Soon I will be releasing the DFViewer (core component that shows the table) for Streamlit and Solara."
   ]
  },
  {
   "cell_type": "markdown",
   "id": "16",
   "metadata": {},
   "source": [
    "# What about autocleaning and the low code UI\n",
    "\n",
    "Auto cleaning and the low code UI work together for more fine grained editting of data.  The low code UI presents a gui that works on columns and allows functions with arguments.  \n",
    "\n",
    "Auto cleaning works to suggest operations that are then loaded into the low code ui.  Then these operations can be editted or removed.\n",
    "Auto cleaning options can be cycled through to generate different cleanings.\n",
    "\n",
    "## Why did this release remove auto cleaning and the low code UI?\n",
    "\n",
    "Although auto cleaning and the low code UI is my favorite feature of Buckaroo, and the first part I built, it hasn't seemed to have gained traction with users.  Buckaroo for that matter hasn't gained a lot of traction.  For the time being I have decided to put more effort into refining and promoting the parts of Buckaroo that people do understand.  "
   ]
  },
  {
   "cell_type": "code",
   "execution_count": null,
   "id": "17",
   "metadata": {},
   "outputs": [],
   "source": []
  }
 ],
 "metadata": {
  "kernelspec": {
   "display_name": "Python 3 (ipykernel)",
   "language": "python",
   "name": "python3"
  },
  "language_info": {
   "codemirror_mode": {
    "name": "ipython",
    "version": 3
   },
   "file_extension": ".py",
   "mimetype": "text/x-python",
   "name": "python",
   "nbconvert_exporter": "python",
   "pygments_lexer": "ipython3",
   "version": "3.9.20"
  },
  "widgets": {
   "application/vnd.jupyter.widget-state+json": {
    "state": {
     "335142c9f5aa47b38e55a969a03a37af": {
      "model_module": "@jupyter-widgets/base",
      "model_module_version": "2.0.0",
      "model_name": "LayoutModel",
      "state": {}
     },
     "471d0ae9dd8f488eaf93b943c34e164a": {
      "model_module": "buckaroo",
      "model_module_version": "^0.7.11",
      "model_name": "DCEFWidgetModel",
      "state": {
       "_model_module_version": "^0.7.11",
       "_view_module_version": "^0.7.11",
       "_view_name": "DCEFWidgetView",
       "buckaroo_options": {
        "auto_clean": [
         "aggressive",
         "conservative"
        ],
        "df_display": [
         "main",
         "summary",
         "quin99"
        ],
        "post_processing": [
         ""
        ],
        "sampled": [
         "random"
        ],
        "show_commands": [
         "on"
        ],
        "summary_stats": [
         "all"
        ]
       },
       "buckaroo_state": {
        "cleaning_method": "NoCleaning",
        "df_display": "main",
        "post_processing": "",
        "quick_command_args": {},
        "sampled": false,
        "search_string": "",
        "show_commands": false
       },
       "commandConfig": {
        "argspecs": {
         "drop_duplicates": [
          [
           3,
           "keep",
           "enum",
           [
            "first",
            "last",
            "False"
           ]
          ]
         ],
         "dropcol": [
          null
         ],
         "fillna": [
          [
           3,
           "fillVal",
           "type",
           "integer"
          ]
         ],
         "groupby": [
          [
           3,
           "colMap",
           "colEnum",
           [
            "null",
            "mean",
            "median",
            "min",
            "max",
            "sum",
            "count",
            "count_null",
            "std",
            "empty",
            "h",
            "nunique",
            "is_monotonic",
            "is_monotonic_decreasing",
            "is_monotonic_increasing",
            "all",
            "any",
            "autocorr",
            "kurt",
            "mad",
            "sem",
            "skew",
            "i",
            "idxmin",
            "dtype",
            "dtypes",
            "nbytes",
            "ndim",
            "size"
           ]
          ]
         ],
         "groupby_transform": [
          [
           3,
           "colMap",
           "colEnum",
           [
            "null",
            "mean",
            "median",
            "min",
            "max",
            "sum",
            "count",
            "count_null",
            "std",
            "empty",
            "h",
            "nunique",
            "is_monotonic",
            "is_monotonic_decreasing",
            "is_monotonic_increasing",
            "all",
            "any",
            "autocorr",
            "kurt",
            "mad",
            "sem",
            "skew",
            "i",
            "idxmin",
            "dtype",
            "dtypes",
            "nbytes",
            "ndim",
            "size"
           ]
          ]
         ],
         "linear_regression": [
          [
           3,
           "x_cols",
           "colEnum",
           [
            "null",
            "basic",
            "one_hot"
           ]
          ]
         ],
         "make_category": [
          null
         ],
         "only_outliers": [
          [
           3,
           "only_outliers",
           "type",
           "float"
          ]
         ],
         "rank": [
          [
           3,
           "method",
           "enum",
           [
            "None",
            "min",
            "dense"
           ]
          ],
          [
           4,
           "new_col",
           "bool"
          ]
         ],
         "remove_outliers": [
          [
           3,
           "remove_outliers",
           "type",
           "float"
          ]
         ],
         "safe_int": [
          null
         ],
         "search": [
          [
           3,
           "term",
           "type",
           "string"
          ]
         ],
         "search_col": [
          [
           3,
           "term",
           "type",
           "string"
          ]
         ]
        },
        "defaultArgs": {
         "drop_duplicates": [
          {
           "symbol": "drop_duplicates"
          },
          {
           "symbol": "df"
          },
          "col",
          "first"
         ],
         "dropcol": [
          {
           "symbol": "dropcol"
          },
          {
           "symbol": "df"
          },
          "col"
         ],
         "fillna": [
          {
           "symbol": "fillna"
          },
          {
           "symbol": "df"
          },
          "col",
          8
         ],
         "groupby": [
          {
           "symbol": "groupby"
          },
          {
           "symbol": "df"
          },
          "col",
          {}
         ],
         "groupby_transform": [
          {
           "symbol": "groupby_transform"
          },
          {
           "symbol": "df"
          },
          "col",
          {}
         ],
         "linear_regression": [
          {
           "symbol": "linear_regression"
          },
          {
           "symbol": "df"
          },
          "col",
          {}
         ],
         "make_category": [
          {
           "symbol": "make_category"
          },
          {
           "symbol": "df"
          },
          "col"
         ],
         "only_outliers": [
          {
           "symbol": "only_outliers"
          },
          {
           "symbol": "df"
          },
          "col",
          0.01
         ],
         "rank": [
          {
           "symbol": "rank"
          },
          {
           "symbol": "df"
          },
          "col",
          "None",
          false
         ],
         "remove_outliers": [
          {
           "symbol": "remove_outliers"
          },
          {
           "symbol": "df"
          },
          "col",
          0.01
         ],
         "safe_int": [
          {
           "symbol": "safe_int"
          },
          {
           "symbol": "df"
          },
          "col"
         ],
         "search": [
          {
           "symbol": "search"
          },
          {
           "symbol": "df"
          },
          "col",
          ""
         ],
         "search_col": [
          {
           "symbol": "search_col"
          },
          {
           "symbol": "df"
          },
          "col",
          ""
         ]
        }
       },
       "df_data_dict": {
        "all_stats": [
         {
          "float_col": "float64",
          "index": "dtype",
          "int_col": "int64",
          "str_col": "object",
          "timestamp": "datetime64[ns, UTC]"
         },
         {
          "float_col": true,
          "index": "is_numeric",
          "int_col": true,
          "str_col": false,
          "timestamp": false
         },
         {
          "float_col": false,
          "index": "is_integer",
          "int_col": true,
          "str_col": false,
          "timestamp": false
         },
         {
          "float_col": false,
          "index": "is_datetime",
          "int_col": false,
          "str_col": false,
          "timestamp": false
         },
         {
          "float_col": false,
          "index": "is_bool",
          "int_col": false,
          "str_col": false,
          "timestamp": false
         },
         {
          "float_col": true,
          "index": "is_float",
          "int_col": false,
          "str_col": false,
          "timestamp": false
         },
         {
          "float_col": "float",
          "index": "_type",
          "int_col": "integer",
          "str_col": "obj",
          "timestamp": "obj"
         },
         {
          "float_col": false,
          "index": "is_string",
          "int_col": false,
          "str_col": false,
          "timestamp": false
         },
         {
          "float_col": 1728,
          "index": "memory_usage",
          "int_col": 1728,
          "str_col": 1728,
          "timestamp": 1728
         },
         {
          "float_col": 200,
          "index": "length",
          "int_col": 200,
          "str_col": 200,
          "timestamp": 200
         },
         {
          "float_col": 1.4285714286,
          "index": "min",
          "int_col": 1,
          "str_col": null,
          "timestamp": null
         },
         {
          "float_col": 41.4285714286,
          "index": "max",
          "int_col": 49,
          "str_col": null,
          "timestamp": null
         },
         {
          "float_col": 21.5571428571,
          "index": "mean",
          "int_col": 24.465,
          "str_col": 0,
          "timestamp": 0
         },
         {
          "float_col": 0,
          "index": "nan_count",
          "int_col": 0,
          "str_col": 40,
          "timestamp": 40
         },
         {
          "float_col": [
           11,
           11,
           11,
           10,
           9,
           9,
           8,
           7,
           7,
           7,
           7,
           7,
           7,
           7,
           7,
           7,
           6,
           6,
           6,
           6,
           6,
           6,
           6,
           5,
           5,
           5,
           5,
           3,
           3
          ],
          "index": "value_counts",
          "int_col": [
           9,
           8,
           7,
           7,
           7,
           7,
           6,
           6,
           6,
           6,
           5,
           5,
           5,
           5,
           5,
           5,
           5,
           5,
           4,
           4,
           4,
           4,
           4,
           4,
           4,
           4,
           4,
           4,
           4,
           4,
           4,
           3,
           3,
           3,
           3,
           3,
           3,
           3,
           3,
           2,
           2,
           2,
           2,
           2,
           2,
           1,
           1,
           1
          ],
          "str_col": [
           40,
           40,
           40,
           40
          ],
          "timestamp": [
           40,
           40,
           40,
           40
          ]
         },
         {
          "float_col": 18.5714285714,
          "index": "mode",
          "int_col": 40,
          "str_col": "",
          "timestamp": "2020-01-01T01:00:00.000"
         },
         {
          "float_col": 41.4285714286,
          "index": "quin99",
          "int_col": 49,
          "str_col": null,
          "timestamp": null
         },
         {
          "float_col": 0.145,
          "index": "distinct_per",
          "int_col": 0.24,
          "str_col": 0.02,
          "timestamp": 0.02
         },
         {
          "float_col": 0,
          "index": "empty_per",
          "int_col": 0,
          "str_col": 0.2,
          "timestamp": 0
         },
         {
          "float_col": 0,
          "index": "unique_per",
          "int_col": 0.015,
          "str_col": 0,
          "timestamp": 0
         },
         {
          "float_col": 0,
          "index": "nan_per",
          "int_col": 0,
          "str_col": 0.2,
          "timestamp": 0.2
         },
         {
          "float_col": 0,
          "index": "unique_count",
          "int_col": 3,
          "str_col": 0,
          "timestamp": 0
         },
         {
          "float_col": 0,
          "index": "empty_count",
          "int_col": 0,
          "str_col": 40,
          "timestamp": 0
         },
         {
          "float_col": 29,
          "index": "distinct_count",
          "int_col": 48,
          "str_col": 4,
          "timestamp": 4
         },
         {
          "float_col": [
           {
            "name": "1.4285714285714286 - 1.4285714285714286",
            "tail": 1
           },
           {
            "name": "3-7",
            "population": 10
           },
           {
            "name": "7-10",
            "population": 13
           },
           {
            "name": "10-14",
            "population": 6
           },
           {
            "name": "14-18",
            "population": 11
           },
           {
            "name": "18-21",
            "population": 10
           },
           {
            "name": "21-25",
            "population": 11
           },
           {
            "name": "25-29",
            "population": 11
           },
           {
            "name": "29-33",
            "population": 10
           },
           {
            "name": "33-36",
            "population": 8
           },
           {
            "name": "36-40",
            "population": 10
           },
           {
            "name": "41.42857142857143 - 41.42857142857143",
            "tail": 1
           }
          ],
          "index": "histogram",
          "int_col": [
           {
            "name": "1 - 1.0",
            "tail": 1
           },
           {
            "name": "2-7",
            "population": 12
           },
           {
            "name": "7-11",
            "population": 12
           },
           {
            "name": "11-16",
            "population": 10
           },
           {
            "name": "16-20",
            "population": 11
           },
           {
            "name": "20-25",
            "population": 6
           },
           {
            "name": "25-30",
            "population": 9
           },
           {
            "name": "30-34",
            "population": 9
           },
           {
            "name": "34-39",
            "population": 8
           },
           {
            "name": "39-43",
            "population": 13
           },
           {
            "name": "43-48",
            "population": 10
           },
           {
            "name": "49.0 - 49",
            "tail": 1
           }
          ],
          "str_col": [
           {
            "cat_pop": 20,
            "name": "foobar"
           },
           {
            "cat_pop": 20,
            "name": "Realllllly long string"
           },
           {
            "cat_pop": 20,
            "name": ""
           },
           {
            "cat_pop": 20,
            "name": "normal"
           },
           {
            "NA": 20,
            "name": "NA"
           }
          ],
          "timestamp": [
           {
            "cat_pop": 20,
            "name": "2020-01-01T01:00:00.000Z"
           },
           {
            "cat_pop": 20,
            "name": "2020-01-01T02:00:00.000Z"
           },
           {
            "cat_pop": 20,
            "name": "2020-02-28T02:00:00.000Z"
           },
           {
            "cat_pop": 20,
            "name": "2020-03-15T02:00:00.000Z"
           },
           {
            "NA": 20,
            "name": "NA"
           }
          ]
         },
         {
          "float_col": {
           "high_tail": 41.4285714286,
           "low_tail": 1.4285714286,
           "meat_histogram": [
            [
             18,
             25,
             11,
             20,
             18,
             21,
             20,
             19,
             15,
             19
            ],
            [
             2.8571428571,
             6.5714285714,
             10.2857142857,
             14,
             17.7142857143,
             21.4285714286,
             25.1428571429,
             28.8571428571,
             32.5714285714,
             36.2857142857,
             40
            ]
           ],
           "normalized_populations": [
            0.0967741935,
            0.1344086022,
            0.0591397849,
            0.1075268817,
            0.0967741935,
            0.1129032258,
            0.1075268817,
            0.1021505376,
            0.0806451613,
            0.1021505376
           ]
          },
          "index": "histogram_args",
          "int_col": {
           "high_tail": 49,
           "low_tail": 1,
           "meat_histogram": [
            [
             22,
             23,
             19,
             21,
             11,
             17,
             16,
             15,
             24,
             19
            ],
            [
             2,
             6.6,
             11.2,
             15.8,
             20.4,
             25,
             29.6,
             34.2,
             38.8,
             43.4,
             48
            ]
           ],
           "normalized_populations": [
            0.1176470588,
            0.1229946524,
            0.1016042781,
            0.1122994652,
            0.0588235294,
            0.0909090909,
            0.0855614973,
            0.0802139037,
            0.128342246,
            0.1016042781
           ]
          },
          "str_col": {},
          "timestamp": {}
         },
         {
          "float_col": [
           2.8571428571,
           6.5714285714,
           10.2857142857,
           14,
           17.7142857143,
           21.4285714286,
           25.1428571429,
           28.8571428571,
           32.5714285714,
           36.2857142857,
           40
          ],
          "index": "histogram_bins",
          "int_col": [
           2,
           6.6,
           11.2,
           15.8,
           20.4,
           25,
           29.6,
           34.2,
           38.8,
           43.4,
           48
          ],
          "str_col": [],
          "timestamp": []
         },
         {
          "float_col": 200,
          "index": "non_null_count",
          "int_col": 200,
          "str_col": 160,
          "timestamp": 160
         },
         {
          "float_col": 0,
          "index": "null_count",
          "int_col": 0,
          "str_col": 40,
          "timestamp": 40
         },
         {
          "float_col": 18.5714285714,
          "index": "most_freq",
          "int_col": 40,
          "str_col": "foobar",
          "timestamp": "2020-01-01T01:00:00.000Z"
         },
         {
          "float_col": 21.4285714286,
          "index": "2nd_freq",
          "int_col": 37,
          "str_col": "Realllllly long string",
          "timestamp": "2020-01-01T02:00:00.000Z"
         },
         {
          "float_col": 31.4285714286,
          "index": "3rd_freq",
          "int_col": 10,
          "str_col": "",
          "timestamp": "2020-02-28T02:00:00.000Z"
         },
         {
          "float_col": 7.1428571429,
          "index": "4th_freq",
          "int_col": 49,
          "str_col": "normal",
          "timestamp": "2020-03-15T02:00:00.000Z"
         },
         {
          "float_col": 41.4285714286,
          "index": "5th_freq",
          "int_col": 4,
          "str_col": null,
          "timestamp": null
         }
        ],
        "empty": [],
        "main": [
         {
          "float_col": 5.7142857143,
          "index": 0,
          "int_col": 37,
          "str_col": "foobar",
          "timestamp": "2020-01-01T01:00:00.000Z"
         },
         {
          "float_col": 27.1428571429,
          "index": 1,
          "int_col": 27,
          "str_col": "Realllllly long string",
          "timestamp": "2020-01-01T02:00:00.000Z"
         },
         {
          "float_col": 17.1428571429,
          "index": 2,
          "int_col": 9,
          "str_col": "",
          "timestamp": "2020-02-28T02:00:00.000Z"
         },
         {
          "float_col": 21.4285714286,
          "index": 3,
          "int_col": 29,
          "str_col": null,
          "timestamp": "2020-03-15T02:00:00.000Z"
         },
         {
          "float_col": 1.4285714286,
          "index": 4,
          "int_col": 1,
          "str_col": "normal",
          "timestamp": null
         },
         {
          "float_col": 17.1428571429,
          "index": 5,
          "int_col": 10,
          "str_col": "foobar",
          "timestamp": "2020-01-01T01:00:00.000Z"
         },
         {
          "float_col": 41.4285714286,
          "index": 6,
          "int_col": 24,
          "str_col": "Realllllly long string",
          "timestamp": "2020-01-01T02:00:00.000Z"
         },
         {
          "float_col": 25.7142857143,
          "index": 7,
          "int_col": 17,
          "str_col": "",
          "timestamp": "2020-02-28T02:00:00.000Z"
         },
         {
          "float_col": 12.8571428571,
          "index": 8,
          "int_col": 32,
          "str_col": null,
          "timestamp": "2020-03-15T02:00:00.000Z"
         },
         {
          "float_col": 5.7142857143,
          "index": 9,
          "int_col": 42,
          "str_col": "normal",
          "timestamp": null
         },
         {
          "float_col": 30,
          "index": 10,
          "int_col": 23,
          "str_col": "foobar",
          "timestamp": "2020-01-01T01:00:00.000Z"
         },
         {
          "float_col": 11.4285714286,
          "index": 11,
          "int_col": 40,
          "str_col": "Realllllly long string",
          "timestamp": "2020-01-01T02:00:00.000Z"
         },
         {
          "float_col": 8.5714285714,
          "index": 12,
          "int_col": 9,
          "str_col": "",
          "timestamp": "2020-02-28T02:00:00.000Z"
         },
         {
          "float_col": 35.7142857143,
          "index": 13,
          "int_col": 18,
          "str_col": null,
          "timestamp": "2020-03-15T02:00:00.000Z"
         },
         {
          "float_col": 22.8571428571,
          "index": 14,
          "int_col": 1,
          "str_col": "normal",
          "timestamp": null
         },
         {
          "float_col": 18.5714285714,
          "index": 15,
          "int_col": 41,
          "str_col": "foobar",
          "timestamp": "2020-01-01T01:00:00.000Z"
         },
         {
          "float_col": 20,
          "index": 16,
          "int_col": 32,
          "str_col": "Realllllly long string",
          "timestamp": "2020-01-01T02:00:00.000Z"
         },
         {
          "float_col": 2.8571428571,
          "index": 17,
          "int_col": 24,
          "str_col": "",
          "timestamp": "2020-02-28T02:00:00.000Z"
         },
         {
          "float_col": 14.2857142857,
          "index": 18,
          "int_col": 24,
          "str_col": null,
          "timestamp": "2020-03-15T02:00:00.000Z"
         },
         {
          "float_col": 41.4285714286,
          "index": 19,
          "int_col": 39,
          "str_col": "normal",
          "timestamp": null
         },
         {
          "float_col": 5.7142857143,
          "index": 20,
          "int_col": 37,
          "str_col": "foobar",
          "timestamp": "2020-01-01T01:00:00.000Z"
         },
         {
          "float_col": 17.1428571429,
          "index": 21,
          "int_col": 47,
          "str_col": "Realllllly long string",
          "timestamp": "2020-01-01T02:00:00.000Z"
         },
         {
          "float_col": 17.1428571429,
          "index": 22,
          "int_col": 27,
          "str_col": "",
          "timestamp": "2020-02-28T02:00:00.000Z"
         },
         {
          "float_col": 37.1428571429,
          "index": 23,
          "int_col": 26,
          "str_col": null,
          "timestamp": "2020-03-15T02:00:00.000Z"
         },
         {
          "float_col": 30,
          "index": 24,
          "int_col": 10,
          "str_col": "normal",
          "timestamp": null
         },
         {
          "float_col": 32.8571428571,
          "index": 25,
          "int_col": 42,
          "str_col": "foobar",
          "timestamp": "2020-01-01T01:00:00.000Z"
         },
         {
          "float_col": 31.4285714286,
          "index": 26,
          "int_col": 37,
          "str_col": "Realllllly long string",
          "timestamp": "2020-01-01T02:00:00.000Z"
         },
         {
          "float_col": 20,
          "index": 27,
          "int_col": 12,
          "str_col": "",
          "timestamp": "2020-02-28T02:00:00.000Z"
         },
         {
          "float_col": 30,
          "index": 28,
          "int_col": 28,
          "str_col": null,
          "timestamp": "2020-03-15T02:00:00.000Z"
         },
         {
          "float_col": 15.7142857143,
          "index": 29,
          "int_col": 19,
          "str_col": "normal",
          "timestamp": null
         },
         {
          "float_col": 40,
          "index": 30,
          "int_col": 48,
          "str_col": "foobar",
          "timestamp": "2020-01-01T01:00:00.000Z"
         },
         {
          "float_col": 22.8571428571,
          "index": 31,
          "int_col": 42,
          "str_col": "Realllllly long string",
          "timestamp": "2020-01-01T02:00:00.000Z"
         },
         {
          "float_col": 25.7142857143,
          "index": 32,
          "int_col": 18,
          "str_col": "",
          "timestamp": "2020-02-28T02:00:00.000Z"
         },
         {
          "float_col": 41.4285714286,
          "index": 33,
          "int_col": 37,
          "str_col": null,
          "timestamp": "2020-03-15T02:00:00.000Z"
         },
         {
          "float_col": 31.4285714286,
          "index": 34,
          "int_col": 40,
          "str_col": "normal",
          "timestamp": null
         },
         {
          "float_col": 34.2857142857,
          "index": 35,
          "int_col": 2,
          "str_col": "foobar",
          "timestamp": "2020-01-01T01:00:00.000Z"
         },
         {
          "float_col": 7.1428571429,
          "index": 36,
          "int_col": 32,
          "str_col": "Realllllly long string",
          "timestamp": "2020-01-01T02:00:00.000Z"
         },
         {
          "float_col": 11.4285714286,
          "index": 37,
          "int_col": 19,
          "str_col": "",
          "timestamp": "2020-02-28T02:00:00.000Z"
         },
         {
          "float_col": 4.2857142857,
          "index": 38,
          "int_col": 4,
          "str_col": null,
          "timestamp": "2020-03-15T02:00:00.000Z"
         },
         {
          "float_col": 40,
          "index": 39,
          "int_col": 4,
          "str_col": "normal",
          "timestamp": null
         },
         {
          "float_col": 8.5714285714,
          "index": 40,
          "int_col": 27,
          "str_col": "foobar",
          "timestamp": "2020-01-01T01:00:00.000Z"
         },
         {
          "float_col": 7.1428571429,
          "index": 41,
          "int_col": 14,
          "str_col": "Realllllly long string",
          "timestamp": "2020-01-01T02:00:00.000Z"
         },
         {
          "float_col": 21.4285714286,
          "index": 42,
          "int_col": 47,
          "str_col": "",
          "timestamp": "2020-02-28T02:00:00.000Z"
         },
         {
          "float_col": 31.4285714286,
          "index": 43,
          "int_col": 40,
          "str_col": null,
          "timestamp": "2020-03-15T02:00:00.000Z"
         },
         {
          "float_col": 41.4285714286,
          "index": 44,
          "int_col": 34,
          "str_col": "normal",
          "timestamp": null
         },
         {
          "float_col": 27.1428571429,
          "index": 45,
          "int_col": 45,
          "str_col": "foobar",
          "timestamp": "2020-01-01T01:00:00.000Z"
         },
         {
          "float_col": 28.5714285714,
          "index": 46,
          "int_col": 36,
          "str_col": "Realllllly long string",
          "timestamp": "2020-01-01T02:00:00.000Z"
         },
         {
          "float_col": 37.1428571429,
          "index": 47,
          "int_col": 30,
          "str_col": "",
          "timestamp": "2020-02-28T02:00:00.000Z"
         },
         {
          "float_col": 30,
          "index": 48,
          "int_col": 29,
          "str_col": null,
          "timestamp": "2020-03-15T02:00:00.000Z"
         },
         {
          "float_col": 24.2857142857,
          "index": 49,
          "int_col": 33,
          "str_col": "normal",
          "timestamp": null
         },
         {
          "float_col": 7.1428571429,
          "index": 50,
          "int_col": 5,
          "str_col": "foobar",
          "timestamp": "2020-01-01T01:00:00.000Z"
         },
         {
          "float_col": 5.7142857143,
          "index": 51,
          "int_col": 38,
          "str_col": "Realllllly long string",
          "timestamp": "2020-01-01T02:00:00.000Z"
         },
         {
          "float_col": 7.1428571429,
          "index": 52,
          "int_col": 36,
          "str_col": "",
          "timestamp": "2020-02-28T02:00:00.000Z"
         },
         {
          "float_col": 31.4285714286,
          "index": 53,
          "int_col": 9,
          "str_col": null,
          "timestamp": "2020-03-15T02:00:00.000Z"
         },
         {
          "float_col": 34.2857142857,
          "index": 54,
          "int_col": 35,
          "str_col": "normal",
          "timestamp": null
         },
         {
          "float_col": 4.2857142857,
          "index": 55,
          "int_col": 44,
          "str_col": "foobar",
          "timestamp": "2020-01-01T01:00:00.000Z"
         },
         {
          "float_col": 2.8571428571,
          "index": 56,
          "int_col": 35,
          "str_col": "Realllllly long string",
          "timestamp": "2020-01-01T02:00:00.000Z"
         },
         {
          "float_col": 10,
          "index": 57,
          "int_col": 30,
          "str_col": "",
          "timestamp": "2020-02-28T02:00:00.000Z"
         },
         {
          "float_col": 4.2857142857,
          "index": 58,
          "int_col": 6,
          "str_col": null,
          "timestamp": "2020-03-15T02:00:00.000Z"
         },
         {
          "float_col": 24.2857142857,
          "index": 59,
          "int_col": 2,
          "str_col": "normal",
          "timestamp": null
         },
         {
          "float_col": 24.2857142857,
          "index": 60,
          "int_col": 6,
          "str_col": "foobar",
          "timestamp": "2020-01-01T01:00:00.000Z"
         },
         {
          "float_col": 34.2857142857,
          "index": 61,
          "int_col": 1,
          "str_col": "Realllllly long string",
          "timestamp": "2020-01-01T02:00:00.000Z"
         },
         {
          "float_col": 31.4285714286,
          "index": 62,
          "int_col": 34,
          "str_col": "",
          "timestamp": "2020-02-28T02:00:00.000Z"
         },
         {
          "float_col": 30,
          "index": 63,
          "int_col": 8,
          "str_col": null,
          "timestamp": "2020-03-15T02:00:00.000Z"
         },
         {
          "float_col": 20,
          "index": 64,
          "int_col": 46,
          "str_col": "normal",
          "timestamp": null
         },
         {
          "float_col": 21.4285714286,
          "index": 65,
          "int_col": 6,
          "str_col": "foobar",
          "timestamp": "2020-01-01T01:00:00.000Z"
         },
         {
          "float_col": 17.1428571429,
          "index": 66,
          "int_col": 20,
          "str_col": "Realllllly long string",
          "timestamp": "2020-01-01T02:00:00.000Z"
         },
         {
          "float_col": 38.5714285714,
          "index": 67,
          "int_col": 3,
          "str_col": "",
          "timestamp": "2020-02-28T02:00:00.000Z"
         },
         {
          "float_col": 28.5714285714,
          "index": 68,
          "int_col": 20,
          "str_col": null,
          "timestamp": "2020-03-15T02:00:00.000Z"
         },
         {
          "float_col": 24.2857142857,
          "index": 69,
          "int_col": 3,
          "str_col": "normal",
          "timestamp": null
         },
         {
          "float_col": 41.4285714286,
          "index": 70,
          "int_col": 5,
          "str_col": "foobar",
          "timestamp": "2020-01-01T01:00:00.000Z"
         },
         {
          "float_col": 14.2857142857,
          "index": 71,
          "int_col": 39,
          "str_col": "Realllllly long string",
          "timestamp": "2020-01-01T02:00:00.000Z"
         },
         {
          "float_col": 37.1428571429,
          "index": 72,
          "int_col": 17,
          "str_col": "",
          "timestamp": "2020-02-28T02:00:00.000Z"
         },
         {
          "float_col": 18.5714285714,
          "index": 73,
          "int_col": 16,
          "str_col": null,
          "timestamp": "2020-03-15T02:00:00.000Z"
         },
         {
          "float_col": 40,
          "index": 74,
          "int_col": 33,
          "str_col": "normal",
          "timestamp": null
         },
         {
          "float_col": 41.4285714286,
          "index": 75,
          "int_col": 13,
          "str_col": "foobar",
          "timestamp": "2020-01-01T01:00:00.000Z"
         },
         {
          "float_col": 40,
          "index": 76,
          "int_col": 16,
          "str_col": "Realllllly long string",
          "timestamp": "2020-01-01T02:00:00.000Z"
         },
         {
          "float_col": 30,
          "index": 77,
          "int_col": 12,
          "str_col": "",
          "timestamp": "2020-02-28T02:00:00.000Z"
         },
         {
          "float_col": 24.2857142857,
          "index": 78,
          "int_col": 37,
          "str_col": null,
          "timestamp": "2020-03-15T02:00:00.000Z"
         },
         {
          "float_col": 34.2857142857,
          "index": 79,
          "int_col": 12,
          "str_col": "normal",
          "timestamp": null
         },
         {
          "float_col": 38.5714285714,
          "index": 80,
          "int_col": 47,
          "str_col": "foobar",
          "timestamp": "2020-01-01T01:00:00.000Z"
         },
         {
          "float_col": 40,
          "index": 81,
          "int_col": 10,
          "str_col": "Realllllly long string",
          "timestamp": "2020-01-01T02:00:00.000Z"
         },
         {
          "float_col": 18.5714285714,
          "index": 82,
          "int_col": 19,
          "str_col": "",
          "timestamp": "2020-02-28T02:00:00.000Z"
         },
         {
          "float_col": 30,
          "index": 83,
          "int_col": 25,
          "str_col": null,
          "timestamp": "2020-03-15T02:00:00.000Z"
         },
         {
          "float_col": 31.4285714286,
          "index": 84,
          "int_col": 48,
          "str_col": "normal",
          "timestamp": null
         },
         {
          "float_col": 27.1428571429,
          "index": 85,
          "int_col": 45,
          "str_col": "foobar",
          "timestamp": "2020-01-01T01:00:00.000Z"
         },
         {
          "float_col": 37.1428571429,
          "index": 86,
          "int_col": 39,
          "str_col": "Realllllly long string",
          "timestamp": "2020-01-01T02:00:00.000Z"
         },
         {
          "float_col": 8.5714285714,
          "index": 87,
          "int_col": 13,
          "str_col": "",
          "timestamp": "2020-02-28T02:00:00.000Z"
         },
         {
          "float_col": 34.2857142857,
          "index": 88,
          "int_col": 27,
          "str_col": null,
          "timestamp": "2020-03-15T02:00:00.000Z"
         },
         {
          "float_col": 18.5714285714,
          "index": 89,
          "int_col": 40,
          "str_col": "normal",
          "timestamp": null
         },
         {
          "float_col": 28.5714285714,
          "index": 90,
          "int_col": 33,
          "str_col": "foobar",
          "timestamp": "2020-01-01T01:00:00.000Z"
         },
         {
          "float_col": 11.4285714286,
          "index": 91,
          "int_col": 49,
          "str_col": "Realllllly long string",
          "timestamp": "2020-01-01T02:00:00.000Z"
         },
         {
          "float_col": 21.4285714286,
          "index": 92,
          "int_col": 46,
          "str_col": "",
          "timestamp": "2020-02-28T02:00:00.000Z"
         },
         {
          "float_col": 32.8571428571,
          "index": 93,
          "int_col": 9,
          "str_col": null,
          "timestamp": "2020-03-15T02:00:00.000Z"
         },
         {
          "float_col": 18.5714285714,
          "index": 94,
          "int_col": 40,
          "str_col": "normal",
          "timestamp": null
         },
         {
          "float_col": 25.7142857143,
          "index": 95,
          "int_col": 43,
          "str_col": "foobar",
          "timestamp": "2020-01-01T01:00:00.000Z"
         },
         {
          "float_col": 24.2857142857,
          "index": 96,
          "int_col": 20,
          "str_col": "Realllllly long string",
          "timestamp": "2020-01-01T02:00:00.000Z"
         },
         {
          "float_col": 2.8571428571,
          "index": 97,
          "int_col": 46,
          "str_col": "",
          "timestamp": "2020-02-28T02:00:00.000Z"
         },
         {
          "float_col": 18.5714285714,
          "index": 98,
          "int_col": 19,
          "str_col": null,
          "timestamp": "2020-03-15T02:00:00.000Z"
         },
         {
          "float_col": 32.8571428571,
          "index": 99,
          "int_col": 12,
          "str_col": "normal",
          "timestamp": null
         },
         {
          "float_col": 21.4285714286,
          "index": 100,
          "int_col": 44,
          "str_col": "foobar",
          "timestamp": "2020-01-01T01:00:00.000Z"
         },
         {
          "float_col": 5.7142857143,
          "index": 101,
          "int_col": 1,
          "str_col": "Realllllly long string",
          "timestamp": "2020-01-01T02:00:00.000Z"
         },
         {
          "float_col": 15.7142857143,
          "index": 102,
          "int_col": 2,
          "str_col": "",
          "timestamp": "2020-02-28T02:00:00.000Z"
         },
         {
          "float_col": 31.4285714286,
          "index": 103,
          "int_col": 49,
          "str_col": null,
          "timestamp": "2020-03-15T02:00:00.000Z"
         },
         {
          "float_col": 25.7142857143,
          "index": 104,
          "int_col": 12,
          "str_col": "normal",
          "timestamp": null
         },
         {
          "float_col": 11.4285714286,
          "index": 105,
          "int_col": 24,
          "str_col": "foobar",
          "timestamp": "2020-01-01T01:00:00.000Z"
         },
         {
          "float_col": 37.1428571429,
          "index": 106,
          "int_col": 30,
          "str_col": "Realllllly long string",
          "timestamp": "2020-01-01T02:00:00.000Z"
         },
         {
          "float_col": 18.5714285714,
          "index": 107,
          "int_col": 41,
          "str_col": "",
          "timestamp": "2020-02-28T02:00:00.000Z"
         },
         {
          "float_col": 35.7142857143,
          "index": 108,
          "int_col": 7,
          "str_col": null,
          "timestamp": "2020-03-15T02:00:00.000Z"
         },
         {
          "float_col": 1.4285714286,
          "index": 109,
          "int_col": 40,
          "str_col": "normal",
          "timestamp": null
         },
         {
          "float_col": 35.7142857143,
          "index": 110,
          "int_col": 29,
          "str_col": "foobar",
          "timestamp": "2020-01-01T01:00:00.000Z"
         },
         {
          "float_col": 7.1428571429,
          "index": 111,
          "int_col": 4,
          "str_col": "Realllllly long string",
          "timestamp": "2020-01-01T02:00:00.000Z"
         },
         {
          "float_col": 41.4285714286,
          "index": 112,
          "int_col": 47,
          "str_col": "",
          "timestamp": "2020-02-28T02:00:00.000Z"
         },
         {
          "float_col": 31.4285714286,
          "index": 113,
          "int_col": 38,
          "str_col": null,
          "timestamp": "2020-03-15T02:00:00.000Z"
         },
         {
          "float_col": 34.2857142857,
          "index": 114,
          "int_col": 1,
          "str_col": "normal",
          "timestamp": null
         },
         {
          "float_col": 20,
          "index": 115,
          "int_col": 6,
          "str_col": "foobar",
          "timestamp": "2020-01-01T01:00:00.000Z"
         },
         {
          "float_col": 21.4285714286,
          "index": 116,
          "int_col": 31,
          "str_col": "Realllllly long string",
          "timestamp": "2020-01-01T02:00:00.000Z"
         },
         {
          "float_col": 41.4285714286,
          "index": 117,
          "int_col": 16,
          "str_col": "",
          "timestamp": "2020-02-28T02:00:00.000Z"
         },
         {
          "float_col": 10,
          "index": 118,
          "int_col": 25,
          "str_col": null,
          "timestamp": "2020-03-15T02:00:00.000Z"
         },
         {
          "float_col": 38.5714285714,
          "index": 119,
          "int_col": 8,
          "str_col": "normal",
          "timestamp": null
         },
         {
          "float_col": 10,
          "index": 120,
          "int_col": 10,
          "str_col": "foobar",
          "timestamp": "2020-01-01T01:00:00.000Z"
         },
         {
          "float_col": 12.8571428571,
          "index": 121,
          "int_col": 44,
          "str_col": "Realllllly long string",
          "timestamp": "2020-01-01T02:00:00.000Z"
         },
         {
          "float_col": 20,
          "index": 122,
          "int_col": 10,
          "str_col": "",
          "timestamp": "2020-02-28T02:00:00.000Z"
         },
         {
          "float_col": 2.8571428571,
          "index": 123,
          "int_col": 23,
          "str_col": null,
          "timestamp": "2020-03-15T02:00:00.000Z"
         },
         {
          "float_col": 7.1428571429,
          "index": 124,
          "int_col": 45,
          "str_col": "normal",
          "timestamp": null
         },
         {
          "float_col": 10,
          "index": 125,
          "int_col": 35,
          "str_col": "foobar",
          "timestamp": "2020-01-01T01:00:00.000Z"
         },
         {
          "float_col": 14.2857142857,
          "index": 126,
          "int_col": 27,
          "str_col": "Realllllly long string",
          "timestamp": "2020-01-01T02:00:00.000Z"
         },
         {
          "float_col": 24.2857142857,
          "index": 127,
          "int_col": 40,
          "str_col": "",
          "timestamp": "2020-02-28T02:00:00.000Z"
         },
         {
          "float_col": 38.5714285714,
          "index": 128,
          "int_col": 15,
          "str_col": null,
          "timestamp": "2020-03-15T02:00:00.000Z"
         },
         {
          "float_col": 31.4285714286,
          "index": 129,
          "int_col": 20,
          "str_col": "normal",
          "timestamp": null
         },
         {
          "float_col": 41.4285714286,
          "index": 130,
          "int_col": 10,
          "str_col": "foobar",
          "timestamp": "2020-01-01T01:00:00.000Z"
         },
         {
          "float_col": 8.5714285714,
          "index": 131,
          "int_col": 14,
          "str_col": "Realllllly long string",
          "timestamp": "2020-01-01T02:00:00.000Z"
         },
         {
          "float_col": 21.4285714286,
          "index": 132,
          "int_col": 4,
          "str_col": "",
          "timestamp": "2020-02-28T02:00:00.000Z"
         },
         {
          "float_col": 28.5714285714,
          "index": 133,
          "int_col": 43,
          "str_col": null,
          "timestamp": "2020-03-15T02:00:00.000Z"
         },
         {
          "float_col": 7.1428571429,
          "index": 134,
          "int_col": 16,
          "str_col": "normal",
          "timestamp": null
         },
         {
          "float_col": 8.5714285714,
          "index": 135,
          "int_col": 37,
          "str_col": "foobar",
          "timestamp": "2020-01-01T01:00:00.000Z"
         },
         {
          "float_col": 38.5714285714,
          "index": 136,
          "int_col": 25,
          "str_col": "Realllllly long string",
          "timestamp": "2020-01-01T02:00:00.000Z"
         },
         {
          "float_col": 5.7142857143,
          "index": 137,
          "int_col": 23,
          "str_col": "",
          "timestamp": "2020-02-28T02:00:00.000Z"
         },
         {
          "float_col": 35.7142857143,
          "index": 138,
          "int_col": 37,
          "str_col": null,
          "timestamp": "2020-03-15T02:00:00.000Z"
         },
         {
          "float_col": 15.7142857143,
          "index": 139,
          "int_col": 25,
          "str_col": "normal",
          "timestamp": null
         },
         {
          "float_col": 14.2857142857,
          "index": 140,
          "int_col": 7,
          "str_col": "foobar",
          "timestamp": "2020-01-01T01:00:00.000Z"
         },
         {
          "float_col": 1.4285714286,
          "index": 141,
          "int_col": 49,
          "str_col": "Realllllly long string",
          "timestamp": "2020-01-01T02:00:00.000Z"
         },
         {
          "float_col": 12.8571428571,
          "index": 142,
          "int_col": 14,
          "str_col": "",
          "timestamp": "2020-02-28T02:00:00.000Z"
         },
         {
          "float_col": 30,
          "index": 143,
          "int_col": 18,
          "str_col": null,
          "timestamp": "2020-03-15T02:00:00.000Z"
         },
         {
          "float_col": 11.4285714286,
          "index": 144,
          "int_col": 39,
          "str_col": "normal",
          "timestamp": null
         },
         {
          "float_col": 7.1428571429,
          "index": 145,
          "int_col": 8,
          "str_col": "foobar",
          "timestamp": "2020-01-01T01:00:00.000Z"
         },
         {
          "float_col": 18.5714285714,
          "index": 146,
          "int_col": 30,
          "str_col": "Realllllly long string",
          "timestamp": "2020-01-01T02:00:00.000Z"
         },
         {
          "float_col": 18.5714285714,
          "index": 147,
          "int_col": 9,
          "str_col": "",
          "timestamp": "2020-02-28T02:00:00.000Z"
         },
         {
          "float_col": 2.8571428571,
          "index": 148,
          "int_col": 4,
          "str_col": null,
          "timestamp": "2020-03-15T02:00:00.000Z"
         },
         {
          "float_col": 20,
          "index": 149,
          "int_col": 15,
          "str_col": "normal",
          "timestamp": null
         },
         {
          "float_col": 28.5714285714,
          "index": 150,
          "int_col": 49,
          "str_col": "foobar",
          "timestamp": "2020-01-01T01:00:00.000Z"
         },
         {
          "float_col": 34.2857142857,
          "index": 151,
          "int_col": 32,
          "str_col": "Realllllly long string",
          "timestamp": "2020-01-01T02:00:00.000Z"
         },
         {
          "float_col": 17.1428571429,
          "index": 152,
          "int_col": 7,
          "str_col": "",
          "timestamp": "2020-02-28T02:00:00.000Z"
         },
         {
          "float_col": 17.1428571429,
          "index": 153,
          "int_col": 27,
          "str_col": null,
          "timestamp": "2020-03-15T02:00:00.000Z"
         },
         {
          "float_col": 14.2857142857,
          "index": 154,
          "int_col": 37,
          "str_col": "normal",
          "timestamp": null
         },
         {
          "float_col": 8.5714285714,
          "index": 155,
          "int_col": 43,
          "str_col": "foobar",
          "timestamp": "2020-01-01T01:00:00.000Z"
         },
         {
          "float_col": 8.5714285714,
          "index": 156,
          "int_col": 11,
          "str_col": "Realllllly long string",
          "timestamp": "2020-01-01T02:00:00.000Z"
         },
         {
          "float_col": 27.1428571429,
          "index": 157,
          "int_col": 44,
          "str_col": "",
          "timestamp": "2020-02-28T02:00:00.000Z"
         },
         {
          "float_col": 31.4285714286,
          "index": 158,
          "int_col": 13,
          "str_col": null,
          "timestamp": "2020-03-15T02:00:00.000Z"
         },
         {
          "float_col": 21.4285714286,
          "index": 159,
          "int_col": 4,
          "str_col": "normal",
          "timestamp": null
         },
         {
          "float_col": 28.5714285714,
          "index": 160,
          "int_col": 44,
          "str_col": "foobar",
          "timestamp": "2020-01-01T01:00:00.000Z"
         },
         {
          "float_col": 21.4285714286,
          "index": 161,
          "int_col": 4,
          "str_col": "Realllllly long string",
          "timestamp": "2020-01-01T02:00:00.000Z"
         },
         {
          "float_col": 21.4285714286,
          "index": 162,
          "int_col": 21,
          "str_col": "",
          "timestamp": "2020-02-28T02:00:00.000Z"
         },
         {
          "float_col": 21.4285714286,
          "index": 163,
          "int_col": 29,
          "str_col": null,
          "timestamp": "2020-03-15T02:00:00.000Z"
         },
         {
          "float_col": 31.4285714286,
          "index": 164,
          "int_col": 23,
          "str_col": "normal",
          "timestamp": null
         },
         {
          "float_col": 4.2857142857,
          "index": 165,
          "int_col": 45,
          "str_col": "foobar",
          "timestamp": "2020-01-01T01:00:00.000Z"
         },
         {
          "float_col": 38.5714285714,
          "index": 166,
          "int_col": 13,
          "str_col": "Realllllly long string",
          "timestamp": "2020-01-01T02:00:00.000Z"
         },
         {
          "float_col": 38.5714285714,
          "index": 167,
          "int_col": 5,
          "str_col": "",
          "timestamp": "2020-02-28T02:00:00.000Z"
         },
         {
          "float_col": 12.8571428571,
          "index": 168,
          "int_col": 13,
          "str_col": null,
          "timestamp": "2020-03-15T02:00:00.000Z"
         },
         {
          "float_col": 18.5714285714,
          "index": 169,
          "int_col": 32,
          "str_col": "normal",
          "timestamp": null
         },
         {
          "float_col": 12.8571428571,
          "index": 170,
          "int_col": 49,
          "str_col": "foobar",
          "timestamp": "2020-01-01T01:00:00.000Z"
         },
         {
          "float_col": 25.7142857143,
          "index": 171,
          "int_col": 1,
          "str_col": "Realllllly long string",
          "timestamp": "2020-01-01T02:00:00.000Z"
         },
         {
          "float_col": 7.1428571429,
          "index": 172,
          "int_col": 21,
          "str_col": "",
          "timestamp": "2020-02-28T02:00:00.000Z"
         },
         {
          "float_col": 18.5714285714,
          "index": 173,
          "int_col": 8,
          "str_col": null,
          "timestamp": "2020-03-15T02:00:00.000Z"
         },
         {
          "float_col": 37.1428571429,
          "index": 174,
          "int_col": 2,
          "str_col": "normal",
          "timestamp": null
         },
         {
          "float_col": 1.4285714286,
          "index": 175,
          "int_col": 17,
          "str_col": "foobar",
          "timestamp": "2020-01-01T01:00:00.000Z"
         },
         {
          "float_col": 14.2857142857,
          "index": 176,
          "int_col": 29,
          "str_col": "Realllllly long string",
          "timestamp": "2020-01-01T02:00:00.000Z"
         },
         {
          "float_col": 22.8571428571,
          "index": 177,
          "int_col": 24,
          "str_col": "",
          "timestamp": "2020-02-28T02:00:00.000Z"
         },
         {
          "float_col": 5.7142857143,
          "index": 178,
          "int_col": 13,
          "str_col": null,
          "timestamp": "2020-03-15T02:00:00.000Z"
         },
         {
          "float_col": 10,
          "index": 179,
          "int_col": 3,
          "str_col": "normal",
          "timestamp": null
         },
         {
          "float_col": 15.7142857143,
          "index": 180,
          "int_col": 33,
          "str_col": "foobar",
          "timestamp": "2020-01-01T01:00:00.000Z"
         },
         {
          "float_col": 8.5714285714,
          "index": 181,
          "int_col": 5,
          "str_col": "Realllllly long string",
          "timestamp": "2020-01-01T02:00:00.000Z"
         },
         {
          "float_col": 27.1428571429,
          "index": 182,
          "int_col": 7,
          "str_col": "",
          "timestamp": "2020-02-28T02:00:00.000Z"
         },
         {
          "float_col": 11.4285714286,
          "index": 183,
          "int_col": 40,
          "str_col": null,
          "timestamp": "2020-03-15T02:00:00.000Z"
         },
         {
          "float_col": 40,
          "index": 184,
          "int_col": 18,
          "str_col": "normal",
          "timestamp": null
         },
         {
          "float_col": 15.7142857143,
          "index": 185,
          "int_col": 49,
          "str_col": "foobar",
          "timestamp": "2020-01-01T01:00:00.000Z"
         },
         {
          "float_col": 25.7142857143,
          "index": 186,
          "int_col": 40,
          "str_col": "Realllllly long string",
          "timestamp": "2020-01-01T02:00:00.000Z"
         },
         {
          "float_col": 35.7142857143,
          "index": 187,
          "int_col": 41,
          "str_col": "",
          "timestamp": "2020-02-28T02:00:00.000Z"
         },
         {
          "float_col": 1.4285714286,
          "index": 188,
          "int_col": 45,
          "str_col": null,
          "timestamp": "2020-03-15T02:00:00.000Z"
         },
         {
          "float_col": 15.7142857143,
          "index": 189,
          "int_col": 20,
          "str_col": "normal",
          "timestamp": null
         },
         {
          "float_col": 27.1428571429,
          "index": 190,
          "int_col": 8,
          "str_col": "foobar",
          "timestamp": "2020-01-01T01:00:00.000Z"
         },
         {
          "float_col": 7.1428571429,
          "index": 191,
          "int_col": 15,
          "str_col": "Realllllly long string",
          "timestamp": "2020-01-01T02:00:00.000Z"
         },
         {
          "float_col": 4.2857142857,
          "index": 192,
          "int_col": 20,
          "str_col": "",
          "timestamp": "2020-02-28T02:00:00.000Z"
         },
         {
          "float_col": 10,
          "index": 193,
          "int_col": 13,
          "str_col": null,
          "timestamp": "2020-03-15T02:00:00.000Z"
         },
         {
          "float_col": 8.5714285714,
          "index": 194,
          "int_col": 15,
          "str_col": "normal",
          "timestamp": null
         },
         {
          "float_col": 25.7142857143,
          "index": 195,
          "int_col": 11,
          "str_col": "foobar",
          "timestamp": "2020-01-01T01:00:00.000Z"
         },
         {
          "float_col": 4.2857142857,
          "index": 196,
          "int_col": 10,
          "str_col": "Realllllly long string",
          "timestamp": "2020-01-01T02:00:00.000Z"
         },
         {
          "float_col": 20,
          "index": 197,
          "int_col": 39,
          "str_col": "",
          "timestamp": "2020-02-28T02:00:00.000Z"
         },
         {
          "float_col": 27.1428571429,
          "index": 198,
          "int_col": 39,
          "str_col": null,
          "timestamp": "2020-03-15T02:00:00.000Z"
         },
         {
          "float_col": 14.2857142857,
          "index": 199,
          "int_col": 49,
          "str_col": "normal",
          "timestamp": null
         }
        ]
       },
       "df_display_args": {
        "main": {
         "data_key": "main",
         "df_viewer_config": {
          "column_config": [
           {
            "col_name": "index",
            "displayer_args": {
             "displayer": "float",
             "max_fraction_digits": 0,
             "min_fraction_digits": 0
            }
           },
           {
            "col_name": "int_col",
            "displayer_args": {
             "displayer": "float",
             "max_fraction_digits": 0,
             "min_fraction_digits": 0
            }
           },
           {
            "col_name": "float_col",
            "displayer_args": {
             "displayer": "float",
             "max_fraction_digits": 3,
             "min_fraction_digits": 3
            }
           },
           {
            "col_name": "timestamp",
            "displayer_args": {
             "displayer": "obj"
            },
            "tooltip_config": {
             "tooltip_type": "simple",
             "val_column": "timestamp"
            }
           },
           {
            "col_name": "str_col",
            "displayer_args": {
             "displayer": "obj"
            },
            "tooltip_config": {
             "tooltip_type": "simple",
             "val_column": "str_col"
            }
           }
          ],
          "component_config": {},
          "extra_grid_config": {},
          "pinned_rows": [
           {
            "displayer_args": {
             "displayer": "obj"
            },
            "primary_key_val": "dtype"
           },
           {
            "displayer_args": {
             "displayer": "histogram"
            },
            "primary_key_val": "histogram"
           }
          ]
         },
         "summary_stats_key": "all_stats"
        },
        "quin99": {
         "data_key": "empty",
         "df_viewer_config": {
          "column_config": [
           {
            "col_name": "index",
            "displayer_args": {
             "displayer": "obj"
            }
           },
           {
            "col_name": "int_col",
            "displayer_args": {
             "displayer": "obj"
            }
           },
           {
            "col_name": "float_col",
            "displayer_args": {
             "displayer": "obj"
            }
           },
           {
            "col_name": "timestamp",
            "displayer_args": {
             "displayer": "obj"
            }
           },
           {
            "col_name": "str_col",
            "displayer_args": {
             "displayer": "obj"
            }
           }
          ],
          "component_config": {},
          "extra_grid_config": {},
          "pinned_rows": [
           {
            "displayer_args": {
             "displayer": "obj"
            },
            "primary_key_val": "quin99"
           }
          ]
         },
         "summary_stats_key": "all_stats"
        },
        "summary": {
         "data_key": "empty",
         "df_viewer_config": {
          "column_config": [
           {
            "col_name": "index",
            "displayer_args": {
             "displayer": "obj"
            }
           },
           {
            "col_name": "int_col",
            "displayer_args": {
             "displayer": "obj"
            }
           },
           {
            "col_name": "float_col",
            "displayer_args": {
             "displayer": "obj"
            }
           },
           {
            "col_name": "timestamp",
            "displayer_args": {
             "displayer": "obj"
            }
           },
           {
            "col_name": "str_col",
            "displayer_args": {
             "displayer": "obj"
            }
           }
          ],
          "component_config": {},
          "extra_grid_config": {},
          "pinned_rows": [
           {
            "displayer_args": {
             "displayer": "obj"
            },
            "primary_key_val": "dtype"
           },
           {
            "displayer_args": {
             "displayer": "float",
             "max_fraction_digits": 0,
             "min_fraction_digits": 0
            },
            "primary_key_val": "non_null_count"
           },
           {
            "displayer_args": {
             "displayer": "float",
             "max_fraction_digits": 0,
             "min_fraction_digits": 0
            },
            "primary_key_val": "null_count"
           },
           {
            "displayer_args": {
             "displayer": "float",
             "max_fraction_digits": 3,
             "min_fraction_digits": 3
            },
            "primary_key_val": "mean"
           },
           {
            "displayer_args": {
             "displayer": "float",
             "max_fraction_digits": 3,
             "min_fraction_digits": 3
            },
            "primary_key_val": "std"
           },
           {
            "displayer_args": {
             "displayer": "float",
             "max_fraction_digits": 3,
             "min_fraction_digits": 3
            },
            "primary_key_val": "min"
           },
           {
            "displayer_args": {
             "displayer": "float",
             "max_fraction_digits": 3,
             "min_fraction_digits": 3
            },
            "primary_key_val": "25th"
           },
           {
            "displayer_args": {
             "displayer": "float",
             "max_fraction_digits": 3,
             "min_fraction_digits": 3
            },
            "primary_key_val": "median"
           },
           {
            "displayer_args": {
             "displayer": "float",
             "max_fraction_digits": 3,
             "min_fraction_digits": 3
            },
            "primary_key_val": "75th"
           },
           {
            "displayer_args": {
             "displayer": "float",
             "max_fraction_digits": 3,
             "min_fraction_digits": 3
            },
            "primary_key_val": "max"
           },
           {
            "displayer_args": {
             "displayer": "float",
             "max_fraction_digits": 0,
             "min_fraction_digits": 0
            },
            "primary_key_val": "unique_count"
           },
           {
            "displayer_args": {
             "displayer": "float",
             "max_fraction_digits": 0,
             "min_fraction_digits": 0
            },
            "primary_key_val": "distinct_count"
           },
           {
            "displayer_args": {
             "displayer": "obj"
            },
            "primary_key_val": "most_freq"
           },
           {
            "displayer_args": {
             "displayer": "obj"
            },
            "primary_key_val": "2nd_freq"
           },
           {
            "displayer_args": {
             "displayer": "obj"
            },
            "primary_key_val": "3rd_freq"
           },
           {
            "displayer_args": {
             "displayer": "obj"
            },
            "primary_key_val": "4th_freq"
           },
           {
            "displayer_args": {
             "displayer": "obj"
            },
            "primary_key_val": "5th_freq"
           }
          ]
         },
         "summary_stats_key": "all_stats"
        }
       },
       "df_meta": {
        "columns": 4,
        "filtered_rows": 200,
        "rows_shown": 200,
        "total_rows": 200
       },
       "layout": "IPY_MODEL_9ff1f6802f084c139faa8b4ac0bf0738",
       "operation_results": {
        "generated_py_code": "no operations",
        "transformed_df": null
       },
       "operations": []
      }
     },
     "87e13361458842348e6968e53eca9137": {
      "model_module": "buckaroo",
      "model_module_version": "^0.7.11",
      "model_name": "DCEFWidgetModel",
      "state": {
       "_model_module_version": "^0.7.11",
       "_view_module_version": "^0.7.11",
       "_view_name": "DCEFWidgetView",
       "buckaroo_options": {
        "auto_clean": [
         "aggressive",
         "conservative"
        ],
        "df_display": [
         "main",
         "summary"
        ],
        "post_processing": [
         ""
        ],
        "sampled": [
         "random"
        ],
        "show_commands": [
         "on"
        ],
        "summary_stats": [
         "all"
        ]
       },
       "buckaroo_state": {
        "cleaning_method": "NoCleaning",
        "df_display": "main",
        "post_processing": "",
        "quick_command_args": {},
        "sampled": false,
        "search_string": "",
        "show_commands": false
       },
       "commandConfig": {
        "argspecs": {
         "drop_duplicates": [
          [
           3,
           "keep",
           "enum",
           [
            "first",
            "last",
            "False"
           ]
          ]
         ],
         "dropcol": [
          null
         ],
         "fillna": [
          [
           3,
           "fillVal",
           "type",
           "integer"
          ]
         ],
         "groupby": [
          [
           3,
           "colMap",
           "colEnum",
           [
            "null",
            "mean",
            "median",
            "min",
            "max",
            "sum",
            "count",
            "count_null",
            "std",
            "empty",
            "h",
            "nunique",
            "is_monotonic",
            "is_monotonic_decreasing",
            "is_monotonic_increasing",
            "all",
            "any",
            "autocorr",
            "kurt",
            "mad",
            "sem",
            "skew",
            "i",
            "idxmin",
            "dtype",
            "dtypes",
            "nbytes",
            "ndim",
            "size"
           ]
          ]
         ],
         "groupby_transform": [
          [
           3,
           "colMap",
           "colEnum",
           [
            "null",
            "mean",
            "median",
            "min",
            "max",
            "sum",
            "count",
            "count_null",
            "std",
            "empty",
            "h",
            "nunique",
            "is_monotonic",
            "is_monotonic_decreasing",
            "is_monotonic_increasing",
            "all",
            "any",
            "autocorr",
            "kurt",
            "mad",
            "sem",
            "skew",
            "i",
            "idxmin",
            "dtype",
            "dtypes",
            "nbytes",
            "ndim",
            "size"
           ]
          ]
         ],
         "linear_regression": [
          [
           3,
           "x_cols",
           "colEnum",
           [
            "null",
            "basic",
            "one_hot"
           ]
          ]
         ],
         "make_category": [
          null
         ],
         "only_outliers": [
          [
           3,
           "only_outliers",
           "type",
           "float"
          ]
         ],
         "rank": [
          [
           3,
           "method",
           "enum",
           [
            "None",
            "min",
            "dense"
           ]
          ],
          [
           4,
           "new_col",
           "bool"
          ]
         ],
         "remove_outliers": [
          [
           3,
           "remove_outliers",
           "type",
           "float"
          ]
         ],
         "safe_int": [
          null
         ],
         "search": [
          [
           3,
           "term",
           "type",
           "string"
          ]
         ],
         "search_col": [
          [
           3,
           "term",
           "type",
           "string"
          ]
         ]
        },
        "defaultArgs": {
         "drop_duplicates": [
          {
           "symbol": "drop_duplicates"
          },
          {
           "symbol": "df"
          },
          "col",
          "first"
         ],
         "dropcol": [
          {
           "symbol": "dropcol"
          },
          {
           "symbol": "df"
          },
          "col"
         ],
         "fillna": [
          {
           "symbol": "fillna"
          },
          {
           "symbol": "df"
          },
          "col",
          8
         ],
         "groupby": [
          {
           "symbol": "groupby"
          },
          {
           "symbol": "df"
          },
          "col",
          {}
         ],
         "groupby_transform": [
          {
           "symbol": "groupby_transform"
          },
          {
           "symbol": "df"
          },
          "col",
          {}
         ],
         "linear_regression": [
          {
           "symbol": "linear_regression"
          },
          {
           "symbol": "df"
          },
          "col",
          {}
         ],
         "make_category": [
          {
           "symbol": "make_category"
          },
          {
           "symbol": "df"
          },
          "col"
         ],
         "only_outliers": [
          {
           "symbol": "only_outliers"
          },
          {
           "symbol": "df"
          },
          "col",
          0.01
         ],
         "rank": [
          {
           "symbol": "rank"
          },
          {
           "symbol": "df"
          },
          "col",
          "None",
          false
         ],
         "remove_outliers": [
          {
           "symbol": "remove_outliers"
          },
          {
           "symbol": "df"
          },
          "col",
          0.01
         ],
         "safe_int": [
          {
           "symbol": "safe_int"
          },
          {
           "symbol": "df"
          },
          "col"
         ],
         "search": [
          {
           "symbol": "search"
          },
          {
           "symbol": "df"
          },
          "col",
          ""
         ],
         "search_col": [
          {
           "symbol": "search_col"
          },
          {
           "symbol": "df"
          },
          "col",
          ""
         ]
        }
       },
       "df_data_dict": {
        "all_stats": [
         {
          "float_col": "float64",
          "index": "dtype",
          "int_col": "int64",
          "str_col": "object",
          "timestamp": "datetime64[ns, UTC]"
         },
         {
          "float_col": true,
          "index": "is_numeric",
          "int_col": true,
          "str_col": false,
          "timestamp": false
         },
         {
          "float_col": false,
          "index": "is_integer",
          "int_col": true,
          "str_col": false,
          "timestamp": false
         },
         {
          "float_col": false,
          "index": "is_datetime",
          "int_col": false,
          "str_col": false,
          "timestamp": false
         },
         {
          "float_col": false,
          "index": "is_bool",
          "int_col": false,
          "str_col": false,
          "timestamp": false
         },
         {
          "float_col": true,
          "index": "is_float",
          "int_col": false,
          "str_col": false,
          "timestamp": false
         },
         {
          "float_col": "float",
          "index": "_type",
          "int_col": "integer",
          "str_col": "obj",
          "timestamp": "obj"
         },
         {
          "float_col": false,
          "index": "is_string",
          "int_col": false,
          "str_col": false,
          "timestamp": false
         },
         {
          "float_col": 1728,
          "index": "memory_usage",
          "int_col": 1728,
          "str_col": 1728,
          "timestamp": 1728
         },
         {
          "float_col": 200,
          "index": "length",
          "int_col": 200,
          "str_col": 200,
          "timestamp": 200
         },
         {
          "float_col": 1.4285714286,
          "index": "min",
          "int_col": 1,
          "str_col": null,
          "timestamp": null
         },
         {
          "float_col": 41.4285714286,
          "index": "max",
          "int_col": 49,
          "str_col": null,
          "timestamp": null
         },
         {
          "float_col": 21.5571428571,
          "index": "mean",
          "int_col": 24.465,
          "str_col": 0,
          "timestamp": 0
         },
         {
          "float_col": 0,
          "index": "nan_count",
          "int_col": 0,
          "str_col": 40,
          "timestamp": 40
         },
         {
          "float_col": [
           11,
           11,
           11,
           10,
           9,
           9,
           8,
           7,
           7,
           7,
           7,
           7,
           7,
           7,
           7,
           7,
           6,
           6,
           6,
           6,
           6,
           6,
           6,
           5,
           5,
           5,
           5,
           3,
           3
          ],
          "index": "value_counts",
          "int_col": [
           9,
           8,
           7,
           7,
           7,
           7,
           6,
           6,
           6,
           6,
           5,
           5,
           5,
           5,
           5,
           5,
           5,
           5,
           4,
           4,
           4,
           4,
           4,
           4,
           4,
           4,
           4,
           4,
           4,
           4,
           4,
           3,
           3,
           3,
           3,
           3,
           3,
           3,
           3,
           2,
           2,
           2,
           2,
           2,
           2,
           1,
           1,
           1
          ],
          "str_col": [
           40,
           40,
           40,
           40
          ],
          "timestamp": [
           40,
           40,
           40,
           40
          ]
         },
         {
          "float_col": 18.5714285714,
          "index": "mode",
          "int_col": 40,
          "str_col": "",
          "timestamp": "2020-01-01T01:00:00.000"
         },
         {
          "float_col": 0.145,
          "index": "distinct_per",
          "int_col": 0.24,
          "str_col": 0.02,
          "timestamp": 0.02
         },
         {
          "float_col": 0,
          "index": "empty_per",
          "int_col": 0,
          "str_col": 0.2,
          "timestamp": 0
         },
         {
          "float_col": 0,
          "index": "unique_per",
          "int_col": 0.015,
          "str_col": 0,
          "timestamp": 0
         },
         {
          "float_col": 0,
          "index": "nan_per",
          "int_col": 0,
          "str_col": 0.2,
          "timestamp": 0.2
         },
         {
          "float_col": 0,
          "index": "unique_count",
          "int_col": 3,
          "str_col": 0,
          "timestamp": 0
         },
         {
          "float_col": 0,
          "index": "empty_count",
          "int_col": 0,
          "str_col": 40,
          "timestamp": 0
         },
         {
          "float_col": 29,
          "index": "distinct_count",
          "int_col": 48,
          "str_col": 4,
          "timestamp": 4
         },
         {
          "float_col": [
           {
            "name": "1.4285714285714286 - 1.4285714285714286",
            "tail": 1
           },
           {
            "name": "3-7",
            "population": 10
           },
           {
            "name": "7-10",
            "population": 13
           },
           {
            "name": "10-14",
            "population": 6
           },
           {
            "name": "14-18",
            "population": 11
           },
           {
            "name": "18-21",
            "population": 10
           },
           {
            "name": "21-25",
            "population": 11
           },
           {
            "name": "25-29",
            "population": 11
           },
           {
            "name": "29-33",
            "population": 10
           },
           {
            "name": "33-36",
            "population": 8
           },
           {
            "name": "36-40",
            "population": 10
           },
           {
            "name": "41.42857142857143 - 41.42857142857143",
            "tail": 1
           }
          ],
          "index": "histogram",
          "int_col": [
           {
            "name": "1 - 1.0",
            "tail": 1
           },
           {
            "name": "2-7",
            "population": 12
           },
           {
            "name": "7-11",
            "population": 12
           },
           {
            "name": "11-16",
            "population": 10
           },
           {
            "name": "16-20",
            "population": 11
           },
           {
            "name": "20-25",
            "population": 6
           },
           {
            "name": "25-30",
            "population": 9
           },
           {
            "name": "30-34",
            "population": 9
           },
           {
            "name": "34-39",
            "population": 8
           },
           {
            "name": "39-43",
            "population": 13
           },
           {
            "name": "43-48",
            "population": 10
           },
           {
            "name": "49.0 - 49",
            "tail": 1
           }
          ],
          "str_col": [
           {
            "cat_pop": 20,
            "name": "foobar"
           },
           {
            "cat_pop": 20,
            "name": "Realllllly long string"
           },
           {
            "cat_pop": 20,
            "name": ""
           },
           {
            "cat_pop": 20,
            "name": "normal"
           },
           {
            "NA": 20,
            "name": "NA"
           }
          ],
          "timestamp": [
           {
            "cat_pop": 20,
            "name": "2020-01-01T01:00:00.000Z"
           },
           {
            "cat_pop": 20,
            "name": "2020-01-01T02:00:00.000Z"
           },
           {
            "cat_pop": 20,
            "name": "2020-02-28T02:00:00.000Z"
           },
           {
            "cat_pop": 20,
            "name": "2020-03-15T02:00:00.000Z"
           },
           {
            "NA": 20,
            "name": "NA"
           }
          ]
         },
         {
          "float_col": {
           "high_tail": 41.4285714286,
           "low_tail": 1.4285714286,
           "meat_histogram": [
            [
             18,
             25,
             11,
             20,
             18,
             21,
             20,
             19,
             15,
             19
            ],
            [
             2.8571428571,
             6.5714285714,
             10.2857142857,
             14,
             17.7142857143,
             21.4285714286,
             25.1428571429,
             28.8571428571,
             32.5714285714,
             36.2857142857,
             40
            ]
           ],
           "normalized_populations": [
            0.0967741935,
            0.1344086022,
            0.0591397849,
            0.1075268817,
            0.0967741935,
            0.1129032258,
            0.1075268817,
            0.1021505376,
            0.0806451613,
            0.1021505376
           ]
          },
          "index": "histogram_args",
          "int_col": {
           "high_tail": 49,
           "low_tail": 1,
           "meat_histogram": [
            [
             22,
             23,
             19,
             21,
             11,
             17,
             16,
             15,
             24,
             19
            ],
            [
             2,
             6.6,
             11.2,
             15.8,
             20.4,
             25,
             29.6,
             34.2,
             38.8,
             43.4,
             48
            ]
           ],
           "normalized_populations": [
            0.1176470588,
            0.1229946524,
            0.1016042781,
            0.1122994652,
            0.0588235294,
            0.0909090909,
            0.0855614973,
            0.0802139037,
            0.128342246,
            0.1016042781
           ]
          },
          "str_col": {},
          "timestamp": {}
         },
         {
          "float_col": [
           2.8571428571,
           6.5714285714,
           10.2857142857,
           14,
           17.7142857143,
           21.4285714286,
           25.1428571429,
           28.8571428571,
           32.5714285714,
           36.2857142857,
           40
          ],
          "index": "histogram_bins",
          "int_col": [
           2,
           6.6,
           11.2,
           15.8,
           20.4,
           25,
           29.6,
           34.2,
           38.8,
           43.4,
           48
          ],
          "str_col": [],
          "timestamp": []
         },
         {
          "float_col": 200,
          "index": "non_null_count",
          "int_col": 200,
          "str_col": 160,
          "timestamp": 160
         },
         {
          "float_col": 0,
          "index": "null_count",
          "int_col": 0,
          "str_col": 40,
          "timestamp": 40
         },
         {
          "float_col": 18.5714285714,
          "index": "most_freq",
          "int_col": 40,
          "str_col": "foobar",
          "timestamp": "2020-01-01T01:00:00.000Z"
         },
         {
          "float_col": 21.4285714286,
          "index": "2nd_freq",
          "int_col": 37,
          "str_col": "Realllllly long string",
          "timestamp": "2020-01-01T02:00:00.000Z"
         },
         {
          "float_col": 31.4285714286,
          "index": "3rd_freq",
          "int_col": 10,
          "str_col": "",
          "timestamp": "2020-02-28T02:00:00.000Z"
         },
         {
          "float_col": 7.1428571429,
          "index": "4th_freq",
          "int_col": 49,
          "str_col": "normal",
          "timestamp": "2020-03-15T02:00:00.000Z"
         },
         {
          "float_col": 41.4285714286,
          "index": "5th_freq",
          "int_col": 4,
          "str_col": null,
          "timestamp": null
         }
        ],
        "empty": [],
        "main": [
         {
          "float_col": 5.7142857143,
          "index": 0,
          "int_col": 37,
          "str_col": "foobar",
          "timestamp": "2020-01-01T01:00:00.000Z"
         },
         {
          "float_col": 27.1428571429,
          "index": 1,
          "int_col": 27,
          "str_col": "Realllllly long string",
          "timestamp": "2020-01-01T02:00:00.000Z"
         },
         {
          "float_col": 17.1428571429,
          "index": 2,
          "int_col": 9,
          "str_col": "",
          "timestamp": "2020-02-28T02:00:00.000Z"
         },
         {
          "float_col": 21.4285714286,
          "index": 3,
          "int_col": 29,
          "str_col": null,
          "timestamp": "2020-03-15T02:00:00.000Z"
         },
         {
          "float_col": 1.4285714286,
          "index": 4,
          "int_col": 1,
          "str_col": "normal",
          "timestamp": null
         },
         {
          "float_col": 17.1428571429,
          "index": 5,
          "int_col": 10,
          "str_col": "foobar",
          "timestamp": "2020-01-01T01:00:00.000Z"
         },
         {
          "float_col": 41.4285714286,
          "index": 6,
          "int_col": 24,
          "str_col": "Realllllly long string",
          "timestamp": "2020-01-01T02:00:00.000Z"
         },
         {
          "float_col": 25.7142857143,
          "index": 7,
          "int_col": 17,
          "str_col": "",
          "timestamp": "2020-02-28T02:00:00.000Z"
         },
         {
          "float_col": 12.8571428571,
          "index": 8,
          "int_col": 32,
          "str_col": null,
          "timestamp": "2020-03-15T02:00:00.000Z"
         },
         {
          "float_col": 5.7142857143,
          "index": 9,
          "int_col": 42,
          "str_col": "normal",
          "timestamp": null
         },
         {
          "float_col": 30,
          "index": 10,
          "int_col": 23,
          "str_col": "foobar",
          "timestamp": "2020-01-01T01:00:00.000Z"
         },
         {
          "float_col": 11.4285714286,
          "index": 11,
          "int_col": 40,
          "str_col": "Realllllly long string",
          "timestamp": "2020-01-01T02:00:00.000Z"
         },
         {
          "float_col": 8.5714285714,
          "index": 12,
          "int_col": 9,
          "str_col": "",
          "timestamp": "2020-02-28T02:00:00.000Z"
         },
         {
          "float_col": 35.7142857143,
          "index": 13,
          "int_col": 18,
          "str_col": null,
          "timestamp": "2020-03-15T02:00:00.000Z"
         },
         {
          "float_col": 22.8571428571,
          "index": 14,
          "int_col": 1,
          "str_col": "normal",
          "timestamp": null
         },
         {
          "float_col": 18.5714285714,
          "index": 15,
          "int_col": 41,
          "str_col": "foobar",
          "timestamp": "2020-01-01T01:00:00.000Z"
         },
         {
          "float_col": 20,
          "index": 16,
          "int_col": 32,
          "str_col": "Realllllly long string",
          "timestamp": "2020-01-01T02:00:00.000Z"
         },
         {
          "float_col": 2.8571428571,
          "index": 17,
          "int_col": 24,
          "str_col": "",
          "timestamp": "2020-02-28T02:00:00.000Z"
         },
         {
          "float_col": 14.2857142857,
          "index": 18,
          "int_col": 24,
          "str_col": null,
          "timestamp": "2020-03-15T02:00:00.000Z"
         },
         {
          "float_col": 41.4285714286,
          "index": 19,
          "int_col": 39,
          "str_col": "normal",
          "timestamp": null
         },
         {
          "float_col": 5.7142857143,
          "index": 20,
          "int_col": 37,
          "str_col": "foobar",
          "timestamp": "2020-01-01T01:00:00.000Z"
         },
         {
          "float_col": 17.1428571429,
          "index": 21,
          "int_col": 47,
          "str_col": "Realllllly long string",
          "timestamp": "2020-01-01T02:00:00.000Z"
         },
         {
          "float_col": 17.1428571429,
          "index": 22,
          "int_col": 27,
          "str_col": "",
          "timestamp": "2020-02-28T02:00:00.000Z"
         },
         {
          "float_col": 37.1428571429,
          "index": 23,
          "int_col": 26,
          "str_col": null,
          "timestamp": "2020-03-15T02:00:00.000Z"
         },
         {
          "float_col": 30,
          "index": 24,
          "int_col": 10,
          "str_col": "normal",
          "timestamp": null
         },
         {
          "float_col": 32.8571428571,
          "index": 25,
          "int_col": 42,
          "str_col": "foobar",
          "timestamp": "2020-01-01T01:00:00.000Z"
         },
         {
          "float_col": 31.4285714286,
          "index": 26,
          "int_col": 37,
          "str_col": "Realllllly long string",
          "timestamp": "2020-01-01T02:00:00.000Z"
         },
         {
          "float_col": 20,
          "index": 27,
          "int_col": 12,
          "str_col": "",
          "timestamp": "2020-02-28T02:00:00.000Z"
         },
         {
          "float_col": 30,
          "index": 28,
          "int_col": 28,
          "str_col": null,
          "timestamp": "2020-03-15T02:00:00.000Z"
         },
         {
          "float_col": 15.7142857143,
          "index": 29,
          "int_col": 19,
          "str_col": "normal",
          "timestamp": null
         },
         {
          "float_col": 40,
          "index": 30,
          "int_col": 48,
          "str_col": "foobar",
          "timestamp": "2020-01-01T01:00:00.000Z"
         },
         {
          "float_col": 22.8571428571,
          "index": 31,
          "int_col": 42,
          "str_col": "Realllllly long string",
          "timestamp": "2020-01-01T02:00:00.000Z"
         },
         {
          "float_col": 25.7142857143,
          "index": 32,
          "int_col": 18,
          "str_col": "",
          "timestamp": "2020-02-28T02:00:00.000Z"
         },
         {
          "float_col": 41.4285714286,
          "index": 33,
          "int_col": 37,
          "str_col": null,
          "timestamp": "2020-03-15T02:00:00.000Z"
         },
         {
          "float_col": 31.4285714286,
          "index": 34,
          "int_col": 40,
          "str_col": "normal",
          "timestamp": null
         },
         {
          "float_col": 34.2857142857,
          "index": 35,
          "int_col": 2,
          "str_col": "foobar",
          "timestamp": "2020-01-01T01:00:00.000Z"
         },
         {
          "float_col": 7.1428571429,
          "index": 36,
          "int_col": 32,
          "str_col": "Realllllly long string",
          "timestamp": "2020-01-01T02:00:00.000Z"
         },
         {
          "float_col": 11.4285714286,
          "index": 37,
          "int_col": 19,
          "str_col": "",
          "timestamp": "2020-02-28T02:00:00.000Z"
         },
         {
          "float_col": 4.2857142857,
          "index": 38,
          "int_col": 4,
          "str_col": null,
          "timestamp": "2020-03-15T02:00:00.000Z"
         },
         {
          "float_col": 40,
          "index": 39,
          "int_col": 4,
          "str_col": "normal",
          "timestamp": null
         },
         {
          "float_col": 8.5714285714,
          "index": 40,
          "int_col": 27,
          "str_col": "foobar",
          "timestamp": "2020-01-01T01:00:00.000Z"
         },
         {
          "float_col": 7.1428571429,
          "index": 41,
          "int_col": 14,
          "str_col": "Realllllly long string",
          "timestamp": "2020-01-01T02:00:00.000Z"
         },
         {
          "float_col": 21.4285714286,
          "index": 42,
          "int_col": 47,
          "str_col": "",
          "timestamp": "2020-02-28T02:00:00.000Z"
         },
         {
          "float_col": 31.4285714286,
          "index": 43,
          "int_col": 40,
          "str_col": null,
          "timestamp": "2020-03-15T02:00:00.000Z"
         },
         {
          "float_col": 41.4285714286,
          "index": 44,
          "int_col": 34,
          "str_col": "normal",
          "timestamp": null
         },
         {
          "float_col": 27.1428571429,
          "index": 45,
          "int_col": 45,
          "str_col": "foobar",
          "timestamp": "2020-01-01T01:00:00.000Z"
         },
         {
          "float_col": 28.5714285714,
          "index": 46,
          "int_col": 36,
          "str_col": "Realllllly long string",
          "timestamp": "2020-01-01T02:00:00.000Z"
         },
         {
          "float_col": 37.1428571429,
          "index": 47,
          "int_col": 30,
          "str_col": "",
          "timestamp": "2020-02-28T02:00:00.000Z"
         },
         {
          "float_col": 30,
          "index": 48,
          "int_col": 29,
          "str_col": null,
          "timestamp": "2020-03-15T02:00:00.000Z"
         },
         {
          "float_col": 24.2857142857,
          "index": 49,
          "int_col": 33,
          "str_col": "normal",
          "timestamp": null
         },
         {
          "float_col": 7.1428571429,
          "index": 50,
          "int_col": 5,
          "str_col": "foobar",
          "timestamp": "2020-01-01T01:00:00.000Z"
         },
         {
          "float_col": 5.7142857143,
          "index": 51,
          "int_col": 38,
          "str_col": "Realllllly long string",
          "timestamp": "2020-01-01T02:00:00.000Z"
         },
         {
          "float_col": 7.1428571429,
          "index": 52,
          "int_col": 36,
          "str_col": "",
          "timestamp": "2020-02-28T02:00:00.000Z"
         },
         {
          "float_col": 31.4285714286,
          "index": 53,
          "int_col": 9,
          "str_col": null,
          "timestamp": "2020-03-15T02:00:00.000Z"
         },
         {
          "float_col": 34.2857142857,
          "index": 54,
          "int_col": 35,
          "str_col": "normal",
          "timestamp": null
         },
         {
          "float_col": 4.2857142857,
          "index": 55,
          "int_col": 44,
          "str_col": "foobar",
          "timestamp": "2020-01-01T01:00:00.000Z"
         },
         {
          "float_col": 2.8571428571,
          "index": 56,
          "int_col": 35,
          "str_col": "Realllllly long string",
          "timestamp": "2020-01-01T02:00:00.000Z"
         },
         {
          "float_col": 10,
          "index": 57,
          "int_col": 30,
          "str_col": "",
          "timestamp": "2020-02-28T02:00:00.000Z"
         },
         {
          "float_col": 4.2857142857,
          "index": 58,
          "int_col": 6,
          "str_col": null,
          "timestamp": "2020-03-15T02:00:00.000Z"
         },
         {
          "float_col": 24.2857142857,
          "index": 59,
          "int_col": 2,
          "str_col": "normal",
          "timestamp": null
         },
         {
          "float_col": 24.2857142857,
          "index": 60,
          "int_col": 6,
          "str_col": "foobar",
          "timestamp": "2020-01-01T01:00:00.000Z"
         },
         {
          "float_col": 34.2857142857,
          "index": 61,
          "int_col": 1,
          "str_col": "Realllllly long string",
          "timestamp": "2020-01-01T02:00:00.000Z"
         },
         {
          "float_col": 31.4285714286,
          "index": 62,
          "int_col": 34,
          "str_col": "",
          "timestamp": "2020-02-28T02:00:00.000Z"
         },
         {
          "float_col": 30,
          "index": 63,
          "int_col": 8,
          "str_col": null,
          "timestamp": "2020-03-15T02:00:00.000Z"
         },
         {
          "float_col": 20,
          "index": 64,
          "int_col": 46,
          "str_col": "normal",
          "timestamp": null
         },
         {
          "float_col": 21.4285714286,
          "index": 65,
          "int_col": 6,
          "str_col": "foobar",
          "timestamp": "2020-01-01T01:00:00.000Z"
         },
         {
          "float_col": 17.1428571429,
          "index": 66,
          "int_col": 20,
          "str_col": "Realllllly long string",
          "timestamp": "2020-01-01T02:00:00.000Z"
         },
         {
          "float_col": 38.5714285714,
          "index": 67,
          "int_col": 3,
          "str_col": "",
          "timestamp": "2020-02-28T02:00:00.000Z"
         },
         {
          "float_col": 28.5714285714,
          "index": 68,
          "int_col": 20,
          "str_col": null,
          "timestamp": "2020-03-15T02:00:00.000Z"
         },
         {
          "float_col": 24.2857142857,
          "index": 69,
          "int_col": 3,
          "str_col": "normal",
          "timestamp": null
         },
         {
          "float_col": 41.4285714286,
          "index": 70,
          "int_col": 5,
          "str_col": "foobar",
          "timestamp": "2020-01-01T01:00:00.000Z"
         },
         {
          "float_col": 14.2857142857,
          "index": 71,
          "int_col": 39,
          "str_col": "Realllllly long string",
          "timestamp": "2020-01-01T02:00:00.000Z"
         },
         {
          "float_col": 37.1428571429,
          "index": 72,
          "int_col": 17,
          "str_col": "",
          "timestamp": "2020-02-28T02:00:00.000Z"
         },
         {
          "float_col": 18.5714285714,
          "index": 73,
          "int_col": 16,
          "str_col": null,
          "timestamp": "2020-03-15T02:00:00.000Z"
         },
         {
          "float_col": 40,
          "index": 74,
          "int_col": 33,
          "str_col": "normal",
          "timestamp": null
         },
         {
          "float_col": 41.4285714286,
          "index": 75,
          "int_col": 13,
          "str_col": "foobar",
          "timestamp": "2020-01-01T01:00:00.000Z"
         },
         {
          "float_col": 40,
          "index": 76,
          "int_col": 16,
          "str_col": "Realllllly long string",
          "timestamp": "2020-01-01T02:00:00.000Z"
         },
         {
          "float_col": 30,
          "index": 77,
          "int_col": 12,
          "str_col": "",
          "timestamp": "2020-02-28T02:00:00.000Z"
         },
         {
          "float_col": 24.2857142857,
          "index": 78,
          "int_col": 37,
          "str_col": null,
          "timestamp": "2020-03-15T02:00:00.000Z"
         },
         {
          "float_col": 34.2857142857,
          "index": 79,
          "int_col": 12,
          "str_col": "normal",
          "timestamp": null
         },
         {
          "float_col": 38.5714285714,
          "index": 80,
          "int_col": 47,
          "str_col": "foobar",
          "timestamp": "2020-01-01T01:00:00.000Z"
         },
         {
          "float_col": 40,
          "index": 81,
          "int_col": 10,
          "str_col": "Realllllly long string",
          "timestamp": "2020-01-01T02:00:00.000Z"
         },
         {
          "float_col": 18.5714285714,
          "index": 82,
          "int_col": 19,
          "str_col": "",
          "timestamp": "2020-02-28T02:00:00.000Z"
         },
         {
          "float_col": 30,
          "index": 83,
          "int_col": 25,
          "str_col": null,
          "timestamp": "2020-03-15T02:00:00.000Z"
         },
         {
          "float_col": 31.4285714286,
          "index": 84,
          "int_col": 48,
          "str_col": "normal",
          "timestamp": null
         },
         {
          "float_col": 27.1428571429,
          "index": 85,
          "int_col": 45,
          "str_col": "foobar",
          "timestamp": "2020-01-01T01:00:00.000Z"
         },
         {
          "float_col": 37.1428571429,
          "index": 86,
          "int_col": 39,
          "str_col": "Realllllly long string",
          "timestamp": "2020-01-01T02:00:00.000Z"
         },
         {
          "float_col": 8.5714285714,
          "index": 87,
          "int_col": 13,
          "str_col": "",
          "timestamp": "2020-02-28T02:00:00.000Z"
         },
         {
          "float_col": 34.2857142857,
          "index": 88,
          "int_col": 27,
          "str_col": null,
          "timestamp": "2020-03-15T02:00:00.000Z"
         },
         {
          "float_col": 18.5714285714,
          "index": 89,
          "int_col": 40,
          "str_col": "normal",
          "timestamp": null
         },
         {
          "float_col": 28.5714285714,
          "index": 90,
          "int_col": 33,
          "str_col": "foobar",
          "timestamp": "2020-01-01T01:00:00.000Z"
         },
         {
          "float_col": 11.4285714286,
          "index": 91,
          "int_col": 49,
          "str_col": "Realllllly long string",
          "timestamp": "2020-01-01T02:00:00.000Z"
         },
         {
          "float_col": 21.4285714286,
          "index": 92,
          "int_col": 46,
          "str_col": "",
          "timestamp": "2020-02-28T02:00:00.000Z"
         },
         {
          "float_col": 32.8571428571,
          "index": 93,
          "int_col": 9,
          "str_col": null,
          "timestamp": "2020-03-15T02:00:00.000Z"
         },
         {
          "float_col": 18.5714285714,
          "index": 94,
          "int_col": 40,
          "str_col": "normal",
          "timestamp": null
         },
         {
          "float_col": 25.7142857143,
          "index": 95,
          "int_col": 43,
          "str_col": "foobar",
          "timestamp": "2020-01-01T01:00:00.000Z"
         },
         {
          "float_col": 24.2857142857,
          "index": 96,
          "int_col": 20,
          "str_col": "Realllllly long string",
          "timestamp": "2020-01-01T02:00:00.000Z"
         },
         {
          "float_col": 2.8571428571,
          "index": 97,
          "int_col": 46,
          "str_col": "",
          "timestamp": "2020-02-28T02:00:00.000Z"
         },
         {
          "float_col": 18.5714285714,
          "index": 98,
          "int_col": 19,
          "str_col": null,
          "timestamp": "2020-03-15T02:00:00.000Z"
         },
         {
          "float_col": 32.8571428571,
          "index": 99,
          "int_col": 12,
          "str_col": "normal",
          "timestamp": null
         },
         {
          "float_col": 21.4285714286,
          "index": 100,
          "int_col": 44,
          "str_col": "foobar",
          "timestamp": "2020-01-01T01:00:00.000Z"
         },
         {
          "float_col": 5.7142857143,
          "index": 101,
          "int_col": 1,
          "str_col": "Realllllly long string",
          "timestamp": "2020-01-01T02:00:00.000Z"
         },
         {
          "float_col": 15.7142857143,
          "index": 102,
          "int_col": 2,
          "str_col": "",
          "timestamp": "2020-02-28T02:00:00.000Z"
         },
         {
          "float_col": 31.4285714286,
          "index": 103,
          "int_col": 49,
          "str_col": null,
          "timestamp": "2020-03-15T02:00:00.000Z"
         },
         {
          "float_col": 25.7142857143,
          "index": 104,
          "int_col": 12,
          "str_col": "normal",
          "timestamp": null
         },
         {
          "float_col": 11.4285714286,
          "index": 105,
          "int_col": 24,
          "str_col": "foobar",
          "timestamp": "2020-01-01T01:00:00.000Z"
         },
         {
          "float_col": 37.1428571429,
          "index": 106,
          "int_col": 30,
          "str_col": "Realllllly long string",
          "timestamp": "2020-01-01T02:00:00.000Z"
         },
         {
          "float_col": 18.5714285714,
          "index": 107,
          "int_col": 41,
          "str_col": "",
          "timestamp": "2020-02-28T02:00:00.000Z"
         },
         {
          "float_col": 35.7142857143,
          "index": 108,
          "int_col": 7,
          "str_col": null,
          "timestamp": "2020-03-15T02:00:00.000Z"
         },
         {
          "float_col": 1.4285714286,
          "index": 109,
          "int_col": 40,
          "str_col": "normal",
          "timestamp": null
         },
         {
          "float_col": 35.7142857143,
          "index": 110,
          "int_col": 29,
          "str_col": "foobar",
          "timestamp": "2020-01-01T01:00:00.000Z"
         },
         {
          "float_col": 7.1428571429,
          "index": 111,
          "int_col": 4,
          "str_col": "Realllllly long string",
          "timestamp": "2020-01-01T02:00:00.000Z"
         },
         {
          "float_col": 41.4285714286,
          "index": 112,
          "int_col": 47,
          "str_col": "",
          "timestamp": "2020-02-28T02:00:00.000Z"
         },
         {
          "float_col": 31.4285714286,
          "index": 113,
          "int_col": 38,
          "str_col": null,
          "timestamp": "2020-03-15T02:00:00.000Z"
         },
         {
          "float_col": 34.2857142857,
          "index": 114,
          "int_col": 1,
          "str_col": "normal",
          "timestamp": null
         },
         {
          "float_col": 20,
          "index": 115,
          "int_col": 6,
          "str_col": "foobar",
          "timestamp": "2020-01-01T01:00:00.000Z"
         },
         {
          "float_col": 21.4285714286,
          "index": 116,
          "int_col": 31,
          "str_col": "Realllllly long string",
          "timestamp": "2020-01-01T02:00:00.000Z"
         },
         {
          "float_col": 41.4285714286,
          "index": 117,
          "int_col": 16,
          "str_col": "",
          "timestamp": "2020-02-28T02:00:00.000Z"
         },
         {
          "float_col": 10,
          "index": 118,
          "int_col": 25,
          "str_col": null,
          "timestamp": "2020-03-15T02:00:00.000Z"
         },
         {
          "float_col": 38.5714285714,
          "index": 119,
          "int_col": 8,
          "str_col": "normal",
          "timestamp": null
         },
         {
          "float_col": 10,
          "index": 120,
          "int_col": 10,
          "str_col": "foobar",
          "timestamp": "2020-01-01T01:00:00.000Z"
         },
         {
          "float_col": 12.8571428571,
          "index": 121,
          "int_col": 44,
          "str_col": "Realllllly long string",
          "timestamp": "2020-01-01T02:00:00.000Z"
         },
         {
          "float_col": 20,
          "index": 122,
          "int_col": 10,
          "str_col": "",
          "timestamp": "2020-02-28T02:00:00.000Z"
         },
         {
          "float_col": 2.8571428571,
          "index": 123,
          "int_col": 23,
          "str_col": null,
          "timestamp": "2020-03-15T02:00:00.000Z"
         },
         {
          "float_col": 7.1428571429,
          "index": 124,
          "int_col": 45,
          "str_col": "normal",
          "timestamp": null
         },
         {
          "float_col": 10,
          "index": 125,
          "int_col": 35,
          "str_col": "foobar",
          "timestamp": "2020-01-01T01:00:00.000Z"
         },
         {
          "float_col": 14.2857142857,
          "index": 126,
          "int_col": 27,
          "str_col": "Realllllly long string",
          "timestamp": "2020-01-01T02:00:00.000Z"
         },
         {
          "float_col": 24.2857142857,
          "index": 127,
          "int_col": 40,
          "str_col": "",
          "timestamp": "2020-02-28T02:00:00.000Z"
         },
         {
          "float_col": 38.5714285714,
          "index": 128,
          "int_col": 15,
          "str_col": null,
          "timestamp": "2020-03-15T02:00:00.000Z"
         },
         {
          "float_col": 31.4285714286,
          "index": 129,
          "int_col": 20,
          "str_col": "normal",
          "timestamp": null
         },
         {
          "float_col": 41.4285714286,
          "index": 130,
          "int_col": 10,
          "str_col": "foobar",
          "timestamp": "2020-01-01T01:00:00.000Z"
         },
         {
          "float_col": 8.5714285714,
          "index": 131,
          "int_col": 14,
          "str_col": "Realllllly long string",
          "timestamp": "2020-01-01T02:00:00.000Z"
         },
         {
          "float_col": 21.4285714286,
          "index": 132,
          "int_col": 4,
          "str_col": "",
          "timestamp": "2020-02-28T02:00:00.000Z"
         },
         {
          "float_col": 28.5714285714,
          "index": 133,
          "int_col": 43,
          "str_col": null,
          "timestamp": "2020-03-15T02:00:00.000Z"
         },
         {
          "float_col": 7.1428571429,
          "index": 134,
          "int_col": 16,
          "str_col": "normal",
          "timestamp": null
         },
         {
          "float_col": 8.5714285714,
          "index": 135,
          "int_col": 37,
          "str_col": "foobar",
          "timestamp": "2020-01-01T01:00:00.000Z"
         },
         {
          "float_col": 38.5714285714,
          "index": 136,
          "int_col": 25,
          "str_col": "Realllllly long string",
          "timestamp": "2020-01-01T02:00:00.000Z"
         },
         {
          "float_col": 5.7142857143,
          "index": 137,
          "int_col": 23,
          "str_col": "",
          "timestamp": "2020-02-28T02:00:00.000Z"
         },
         {
          "float_col": 35.7142857143,
          "index": 138,
          "int_col": 37,
          "str_col": null,
          "timestamp": "2020-03-15T02:00:00.000Z"
         },
         {
          "float_col": 15.7142857143,
          "index": 139,
          "int_col": 25,
          "str_col": "normal",
          "timestamp": null
         },
         {
          "float_col": 14.2857142857,
          "index": 140,
          "int_col": 7,
          "str_col": "foobar",
          "timestamp": "2020-01-01T01:00:00.000Z"
         },
         {
          "float_col": 1.4285714286,
          "index": 141,
          "int_col": 49,
          "str_col": "Realllllly long string",
          "timestamp": "2020-01-01T02:00:00.000Z"
         },
         {
          "float_col": 12.8571428571,
          "index": 142,
          "int_col": 14,
          "str_col": "",
          "timestamp": "2020-02-28T02:00:00.000Z"
         },
         {
          "float_col": 30,
          "index": 143,
          "int_col": 18,
          "str_col": null,
          "timestamp": "2020-03-15T02:00:00.000Z"
         },
         {
          "float_col": 11.4285714286,
          "index": 144,
          "int_col": 39,
          "str_col": "normal",
          "timestamp": null
         },
         {
          "float_col": 7.1428571429,
          "index": 145,
          "int_col": 8,
          "str_col": "foobar",
          "timestamp": "2020-01-01T01:00:00.000Z"
         },
         {
          "float_col": 18.5714285714,
          "index": 146,
          "int_col": 30,
          "str_col": "Realllllly long string",
          "timestamp": "2020-01-01T02:00:00.000Z"
         },
         {
          "float_col": 18.5714285714,
          "index": 147,
          "int_col": 9,
          "str_col": "",
          "timestamp": "2020-02-28T02:00:00.000Z"
         },
         {
          "float_col": 2.8571428571,
          "index": 148,
          "int_col": 4,
          "str_col": null,
          "timestamp": "2020-03-15T02:00:00.000Z"
         },
         {
          "float_col": 20,
          "index": 149,
          "int_col": 15,
          "str_col": "normal",
          "timestamp": null
         },
         {
          "float_col": 28.5714285714,
          "index": 150,
          "int_col": 49,
          "str_col": "foobar",
          "timestamp": "2020-01-01T01:00:00.000Z"
         },
         {
          "float_col": 34.2857142857,
          "index": 151,
          "int_col": 32,
          "str_col": "Realllllly long string",
          "timestamp": "2020-01-01T02:00:00.000Z"
         },
         {
          "float_col": 17.1428571429,
          "index": 152,
          "int_col": 7,
          "str_col": "",
          "timestamp": "2020-02-28T02:00:00.000Z"
         },
         {
          "float_col": 17.1428571429,
          "index": 153,
          "int_col": 27,
          "str_col": null,
          "timestamp": "2020-03-15T02:00:00.000Z"
         },
         {
          "float_col": 14.2857142857,
          "index": 154,
          "int_col": 37,
          "str_col": "normal",
          "timestamp": null
         },
         {
          "float_col": 8.5714285714,
          "index": 155,
          "int_col": 43,
          "str_col": "foobar",
          "timestamp": "2020-01-01T01:00:00.000Z"
         },
         {
          "float_col": 8.5714285714,
          "index": 156,
          "int_col": 11,
          "str_col": "Realllllly long string",
          "timestamp": "2020-01-01T02:00:00.000Z"
         },
         {
          "float_col": 27.1428571429,
          "index": 157,
          "int_col": 44,
          "str_col": "",
          "timestamp": "2020-02-28T02:00:00.000Z"
         },
         {
          "float_col": 31.4285714286,
          "index": 158,
          "int_col": 13,
          "str_col": null,
          "timestamp": "2020-03-15T02:00:00.000Z"
         },
         {
          "float_col": 21.4285714286,
          "index": 159,
          "int_col": 4,
          "str_col": "normal",
          "timestamp": null
         },
         {
          "float_col": 28.5714285714,
          "index": 160,
          "int_col": 44,
          "str_col": "foobar",
          "timestamp": "2020-01-01T01:00:00.000Z"
         },
         {
          "float_col": 21.4285714286,
          "index": 161,
          "int_col": 4,
          "str_col": "Realllllly long string",
          "timestamp": "2020-01-01T02:00:00.000Z"
         },
         {
          "float_col": 21.4285714286,
          "index": 162,
          "int_col": 21,
          "str_col": "",
          "timestamp": "2020-02-28T02:00:00.000Z"
         },
         {
          "float_col": 21.4285714286,
          "index": 163,
          "int_col": 29,
          "str_col": null,
          "timestamp": "2020-03-15T02:00:00.000Z"
         },
         {
          "float_col": 31.4285714286,
          "index": 164,
          "int_col": 23,
          "str_col": "normal",
          "timestamp": null
         },
         {
          "float_col": 4.2857142857,
          "index": 165,
          "int_col": 45,
          "str_col": "foobar",
          "timestamp": "2020-01-01T01:00:00.000Z"
         },
         {
          "float_col": 38.5714285714,
          "index": 166,
          "int_col": 13,
          "str_col": "Realllllly long string",
          "timestamp": "2020-01-01T02:00:00.000Z"
         },
         {
          "float_col": 38.5714285714,
          "index": 167,
          "int_col": 5,
          "str_col": "",
          "timestamp": "2020-02-28T02:00:00.000Z"
         },
         {
          "float_col": 12.8571428571,
          "index": 168,
          "int_col": 13,
          "str_col": null,
          "timestamp": "2020-03-15T02:00:00.000Z"
         },
         {
          "float_col": 18.5714285714,
          "index": 169,
          "int_col": 32,
          "str_col": "normal",
          "timestamp": null
         },
         {
          "float_col": 12.8571428571,
          "index": 170,
          "int_col": 49,
          "str_col": "foobar",
          "timestamp": "2020-01-01T01:00:00.000Z"
         },
         {
          "float_col": 25.7142857143,
          "index": 171,
          "int_col": 1,
          "str_col": "Realllllly long string",
          "timestamp": "2020-01-01T02:00:00.000Z"
         },
         {
          "float_col": 7.1428571429,
          "index": 172,
          "int_col": 21,
          "str_col": "",
          "timestamp": "2020-02-28T02:00:00.000Z"
         },
         {
          "float_col": 18.5714285714,
          "index": 173,
          "int_col": 8,
          "str_col": null,
          "timestamp": "2020-03-15T02:00:00.000Z"
         },
         {
          "float_col": 37.1428571429,
          "index": 174,
          "int_col": 2,
          "str_col": "normal",
          "timestamp": null
         },
         {
          "float_col": 1.4285714286,
          "index": 175,
          "int_col": 17,
          "str_col": "foobar",
          "timestamp": "2020-01-01T01:00:00.000Z"
         },
         {
          "float_col": 14.2857142857,
          "index": 176,
          "int_col": 29,
          "str_col": "Realllllly long string",
          "timestamp": "2020-01-01T02:00:00.000Z"
         },
         {
          "float_col": 22.8571428571,
          "index": 177,
          "int_col": 24,
          "str_col": "",
          "timestamp": "2020-02-28T02:00:00.000Z"
         },
         {
          "float_col": 5.7142857143,
          "index": 178,
          "int_col": 13,
          "str_col": null,
          "timestamp": "2020-03-15T02:00:00.000Z"
         },
         {
          "float_col": 10,
          "index": 179,
          "int_col": 3,
          "str_col": "normal",
          "timestamp": null
         },
         {
          "float_col": 15.7142857143,
          "index": 180,
          "int_col": 33,
          "str_col": "foobar",
          "timestamp": "2020-01-01T01:00:00.000Z"
         },
         {
          "float_col": 8.5714285714,
          "index": 181,
          "int_col": 5,
          "str_col": "Realllllly long string",
          "timestamp": "2020-01-01T02:00:00.000Z"
         },
         {
          "float_col": 27.1428571429,
          "index": 182,
          "int_col": 7,
          "str_col": "",
          "timestamp": "2020-02-28T02:00:00.000Z"
         },
         {
          "float_col": 11.4285714286,
          "index": 183,
          "int_col": 40,
          "str_col": null,
          "timestamp": "2020-03-15T02:00:00.000Z"
         },
         {
          "float_col": 40,
          "index": 184,
          "int_col": 18,
          "str_col": "normal",
          "timestamp": null
         },
         {
          "float_col": 15.7142857143,
          "index": 185,
          "int_col": 49,
          "str_col": "foobar",
          "timestamp": "2020-01-01T01:00:00.000Z"
         },
         {
          "float_col": 25.7142857143,
          "index": 186,
          "int_col": 40,
          "str_col": "Realllllly long string",
          "timestamp": "2020-01-01T02:00:00.000Z"
         },
         {
          "float_col": 35.7142857143,
          "index": 187,
          "int_col": 41,
          "str_col": "",
          "timestamp": "2020-02-28T02:00:00.000Z"
         },
         {
          "float_col": 1.4285714286,
          "index": 188,
          "int_col": 45,
          "str_col": null,
          "timestamp": "2020-03-15T02:00:00.000Z"
         },
         {
          "float_col": 15.7142857143,
          "index": 189,
          "int_col": 20,
          "str_col": "normal",
          "timestamp": null
         },
         {
          "float_col": 27.1428571429,
          "index": 190,
          "int_col": 8,
          "str_col": "foobar",
          "timestamp": "2020-01-01T01:00:00.000Z"
         },
         {
          "float_col": 7.1428571429,
          "index": 191,
          "int_col": 15,
          "str_col": "Realllllly long string",
          "timestamp": "2020-01-01T02:00:00.000Z"
         },
         {
          "float_col": 4.2857142857,
          "index": 192,
          "int_col": 20,
          "str_col": "",
          "timestamp": "2020-02-28T02:00:00.000Z"
         },
         {
          "float_col": 10,
          "index": 193,
          "int_col": 13,
          "str_col": null,
          "timestamp": "2020-03-15T02:00:00.000Z"
         },
         {
          "float_col": 8.5714285714,
          "index": 194,
          "int_col": 15,
          "str_col": "normal",
          "timestamp": null
         },
         {
          "float_col": 25.7142857143,
          "index": 195,
          "int_col": 11,
          "str_col": "foobar",
          "timestamp": "2020-01-01T01:00:00.000Z"
         },
         {
          "float_col": 4.2857142857,
          "index": 196,
          "int_col": 10,
          "str_col": "Realllllly long string",
          "timestamp": "2020-01-01T02:00:00.000Z"
         },
         {
          "float_col": 20,
          "index": 197,
          "int_col": 39,
          "str_col": "",
          "timestamp": "2020-02-28T02:00:00.000Z"
         },
         {
          "float_col": 27.1428571429,
          "index": 198,
          "int_col": 39,
          "str_col": null,
          "timestamp": "2020-03-15T02:00:00.000Z"
         },
         {
          "float_col": 14.2857142857,
          "index": 199,
          "int_col": 49,
          "str_col": "normal",
          "timestamp": null
         }
        ]
       },
       "df_display_args": {
        "main": {
         "data_key": "main",
         "df_viewer_config": {
          "column_config": [
           {
            "col_name": "index",
            "displayer_args": {
             "displayer": "float",
             "max_fraction_digits": 0,
             "min_fraction_digits": 0
            }
           },
           {
            "col_name": "int_col",
            "displayer_args": {
             "displayer": "float",
             "max_fraction_digits": 0,
             "min_fraction_digits": 0
            }
           },
           {
            "col_name": "float_col",
            "displayer_args": {
             "displayer": "float",
             "max_fraction_digits": 3,
             "min_fraction_digits": 3
            }
           },
           {
            "col_name": "timestamp",
            "displayer_args": {
             "displayer": "obj"
            },
            "tooltip_config": {
             "tooltip_type": "simple",
             "val_column": "timestamp"
            }
           },
           {
            "col_name": "str_col",
            "displayer_args": {
             "displayer": "obj"
            },
            "tooltip_config": {
             "tooltip_type": "simple",
             "val_column": "str_col"
            }
           }
          ],
          "component_config": {},
          "extra_grid_config": {},
          "pinned_rows": [
           {
            "displayer_args": {
             "displayer": "obj"
            },
            "primary_key_val": "dtype"
           },
           {
            "displayer_args": {
             "displayer": "histogram"
            },
            "primary_key_val": "histogram"
           }
          ]
         },
         "summary_stats_key": "all_stats"
        },
        "summary": {
         "data_key": "empty",
         "df_viewer_config": {
          "column_config": [
           {
            "col_name": "index",
            "displayer_args": {
             "displayer": "obj"
            }
           },
           {
            "col_name": "int_col",
            "displayer_args": {
             "displayer": "obj"
            }
           },
           {
            "col_name": "float_col",
            "displayer_args": {
             "displayer": "obj"
            }
           },
           {
            "col_name": "timestamp",
            "displayer_args": {
             "displayer": "obj"
            }
           },
           {
            "col_name": "str_col",
            "displayer_args": {
             "displayer": "obj"
            }
           }
          ],
          "component_config": {},
          "extra_grid_config": {},
          "pinned_rows": [
           {
            "displayer_args": {
             "displayer": "obj"
            },
            "primary_key_val": "dtype"
           },
           {
            "displayer_args": {
             "displayer": "float",
             "max_fraction_digits": 0,
             "min_fraction_digits": 0
            },
            "primary_key_val": "non_null_count"
           },
           {
            "displayer_args": {
             "displayer": "float",
             "max_fraction_digits": 0,
             "min_fraction_digits": 0
            },
            "primary_key_val": "null_count"
           },
           {
            "displayer_args": {
             "displayer": "float",
             "max_fraction_digits": 3,
             "min_fraction_digits": 3
            },
            "primary_key_val": "mean"
           },
           {
            "displayer_args": {
             "displayer": "float",
             "max_fraction_digits": 3,
             "min_fraction_digits": 3
            },
            "primary_key_val": "std"
           },
           {
            "displayer_args": {
             "displayer": "float",
             "max_fraction_digits": 3,
             "min_fraction_digits": 3
            },
            "primary_key_val": "min"
           },
           {
            "displayer_args": {
             "displayer": "float",
             "max_fraction_digits": 3,
             "min_fraction_digits": 3
            },
            "primary_key_val": "25th"
           },
           {
            "displayer_args": {
             "displayer": "float",
             "max_fraction_digits": 3,
             "min_fraction_digits": 3
            },
            "primary_key_val": "median"
           },
           {
            "displayer_args": {
             "displayer": "float",
             "max_fraction_digits": 3,
             "min_fraction_digits": 3
            },
            "primary_key_val": "75th"
           },
           {
            "displayer_args": {
             "displayer": "float",
             "max_fraction_digits": 3,
             "min_fraction_digits": 3
            },
            "primary_key_val": "max"
           },
           {
            "displayer_args": {
             "displayer": "float",
             "max_fraction_digits": 0,
             "min_fraction_digits": 0
            },
            "primary_key_val": "unique_count"
           },
           {
            "displayer_args": {
             "displayer": "float",
             "max_fraction_digits": 0,
             "min_fraction_digits": 0
            },
            "primary_key_val": "distinct_count"
           },
           {
            "displayer_args": {
             "displayer": "obj"
            },
            "primary_key_val": "most_freq"
           },
           {
            "displayer_args": {
             "displayer": "obj"
            },
            "primary_key_val": "2nd_freq"
           },
           {
            "displayer_args": {
             "displayer": "obj"
            },
            "primary_key_val": "3rd_freq"
           },
           {
            "displayer_args": {
             "displayer": "obj"
            },
            "primary_key_val": "4th_freq"
           },
           {
            "displayer_args": {
             "displayer": "obj"
            },
            "primary_key_val": "5th_freq"
           }
          ]
         },
         "summary_stats_key": "all_stats"
        }
       },
       "df_meta": {
        "columns": 4,
        "filtered_rows": 200,
        "rows_shown": 200,
        "total_rows": 200
       },
       "layout": "IPY_MODEL_c7396afa7fff47e1a5bac5b5bd21c1f2",
       "operation_results": {
        "generated_py_code": "no operations",
        "transformed_df": null
       },
       "operations": []
      }
     },
     "944d4406e10a4952a286aeb1716206cc": {
      "model_module": "buckaroo",
      "model_module_version": "^0.7.11",
      "model_name": "DCEFWidgetModel",
      "state": {
       "_model_module_version": "^0.7.11",
       "_view_module_version": "^0.7.11",
       "_view_name": "DCEFWidgetView",
       "buckaroo_options": {
        "auto_clean": [
         "aggressive",
         "conservative"
        ],
        "df_display": [
         "main",
         "summary"
        ],
        "post_processing": [
         ""
        ],
        "sampled": [
         "random"
        ],
        "show_commands": [
         "on"
        ],
        "summary_stats": [
         "all"
        ]
       },
       "buckaroo_state": {
        "cleaning_method": "NoCleaning",
        "df_display": "main",
        "post_processing": "",
        "quick_command_args": {
         "search": [
          "foobar"
         ]
        },
        "sampled": false,
        "search_string": "",
        "show_commands": false
       },
       "commandConfig": {
        "argspecs": {
         "drop_duplicates": [
          [
           3,
           "keep",
           "enum",
           [
            "first",
            "last",
            "False"
           ]
          ]
         ],
         "dropcol": [
          null
         ],
         "fillna": [
          [
           3,
           "fillVal",
           "type",
           "integer"
          ]
         ],
         "groupby": [
          [
           3,
           "colMap",
           "colEnum",
           [
            "null",
            "mean",
            "median",
            "min",
            "max",
            "sum",
            "count",
            "count_null",
            "std",
            "empty",
            "h",
            "nunique",
            "is_monotonic",
            "is_monotonic_decreasing",
            "is_monotonic_increasing",
            "all",
            "any",
            "autocorr",
            "kurt",
            "mad",
            "sem",
            "skew",
            "i",
            "idxmin",
            "dtype",
            "dtypes",
            "nbytes",
            "ndim",
            "size"
           ]
          ]
         ],
         "groupby_transform": [
          [
           3,
           "colMap",
           "colEnum",
           [
            "null",
            "mean",
            "median",
            "min",
            "max",
            "sum",
            "count",
            "count_null",
            "std",
            "empty",
            "h",
            "nunique",
            "is_monotonic",
            "is_monotonic_decreasing",
            "is_monotonic_increasing",
            "all",
            "any",
            "autocorr",
            "kurt",
            "mad",
            "sem",
            "skew",
            "i",
            "idxmin",
            "dtype",
            "dtypes",
            "nbytes",
            "ndim",
            "size"
           ]
          ]
         ],
         "linear_regression": [
          [
           3,
           "x_cols",
           "colEnum",
           [
            "null",
            "basic",
            "one_hot"
           ]
          ]
         ],
         "make_category": [
          null
         ],
         "only_outliers": [
          [
           3,
           "only_outliers",
           "type",
           "float"
          ]
         ],
         "rank": [
          [
           3,
           "method",
           "enum",
           [
            "None",
            "min",
            "dense"
           ]
          ],
          [
           4,
           "new_col",
           "bool"
          ]
         ],
         "remove_outliers": [
          [
           3,
           "remove_outliers",
           "type",
           "float"
          ]
         ],
         "safe_int": [
          null
         ],
         "search": [
          [
           3,
           "term",
           "type",
           "string"
          ]
         ],
         "search_col": [
          [
           3,
           "term",
           "type",
           "string"
          ]
         ]
        },
        "defaultArgs": {
         "drop_duplicates": [
          {
           "symbol": "drop_duplicates"
          },
          {
           "symbol": "df"
          },
          "col",
          "first"
         ],
         "dropcol": [
          {
           "symbol": "dropcol"
          },
          {
           "symbol": "df"
          },
          "col"
         ],
         "fillna": [
          {
           "symbol": "fillna"
          },
          {
           "symbol": "df"
          },
          "col",
          8
         ],
         "groupby": [
          {
           "symbol": "groupby"
          },
          {
           "symbol": "df"
          },
          "col",
          {}
         ],
         "groupby_transform": [
          {
           "symbol": "groupby_transform"
          },
          {
           "symbol": "df"
          },
          "col",
          {}
         ],
         "linear_regression": [
          {
           "symbol": "linear_regression"
          },
          {
           "symbol": "df"
          },
          "col",
          {}
         ],
         "make_category": [
          {
           "symbol": "make_category"
          },
          {
           "symbol": "df"
          },
          "col"
         ],
         "only_outliers": [
          {
           "symbol": "only_outliers"
          },
          {
           "symbol": "df"
          },
          "col",
          0.01
         ],
         "rank": [
          {
           "symbol": "rank"
          },
          {
           "symbol": "df"
          },
          "col",
          "None",
          false
         ],
         "remove_outliers": [
          {
           "symbol": "remove_outliers"
          },
          {
           "symbol": "df"
          },
          "col",
          0.01
         ],
         "safe_int": [
          {
           "symbol": "safe_int"
          },
          {
           "symbol": "df"
          },
          "col"
         ],
         "search": [
          {
           "symbol": "search"
          },
          {
           "symbol": "df"
          },
          "col",
          ""
         ],
         "search_col": [
          {
           "symbol": "search_col"
          },
          {
           "symbol": "df"
          },
          "col",
          ""
         ]
        }
       },
       "df_data_dict": {
        "all_stats": [
         {
          "float_col": "float64",
          "index": "dtype",
          "int_col": "int64",
          "str_col": "object",
          "timestamp": "datetime64[ns, UTC]"
         },
         {
          "float_col": true,
          "index": "is_numeric",
          "int_col": true,
          "str_col": false,
          "timestamp": false
         },
         {
          "float_col": false,
          "index": "is_integer",
          "int_col": true,
          "str_col": false,
          "timestamp": false
         },
         {
          "float_col": false,
          "index": "is_datetime",
          "int_col": false,
          "str_col": false,
          "timestamp": false
         },
         {
          "float_col": false,
          "index": "is_bool",
          "int_col": false,
          "str_col": false,
          "timestamp": false
         },
         {
          "float_col": true,
          "index": "is_float",
          "int_col": false,
          "str_col": false,
          "timestamp": false
         },
         {
          "float_col": "float",
          "index": "_type",
          "int_col": "integer",
          "str_col": "string",
          "timestamp": "obj"
         },
         {
          "float_col": false,
          "index": "is_string",
          "int_col": false,
          "str_col": true,
          "timestamp": false
         },
         {
          "float_col": 1712,
          "index": "memory_usage",
          "int_col": 1712,
          "str_col": 1712,
          "timestamp": 1712
         },
         {
          "float_col": 40,
          "index": "length",
          "int_col": 40,
          "str_col": 40,
          "timestamp": 40
         },
         {
          "float_col": 2.8571428571,
          "index": "min",
          "int_col": 2,
          "str_col": null,
          "timestamp": null
         },
         {
          "float_col": 41.4285714286,
          "index": "max",
          "int_col": 49,
          "str_col": null,
          "timestamp": null
         },
         {
          "float_col": 21.9285714286,
          "index": "mean",
          "int_col": 24.25,
          "str_col": 0,
          "timestamp": 0
         },
         {
          "float_col": 0,
          "index": "nan_count",
          "int_col": 0,
          "str_col": 0,
          "timestamp": 0
         },
         {
          "float_col": [
           4,
           3,
           3,
           3,
           2,
           2,
           2,
           2,
           2,
           2,
           1,
           1,
           1,
           1,
           1,
           1,
           1,
           1,
           1,
           1,
           1,
           1,
           1,
           1,
           1
          ],
          "index": "value_counts",
          "int_col": [
           3,
           3,
           2,
           2,
           2,
           2,
           2,
           2,
           2,
           2,
           1,
           1,
           1,
           1,
           1,
           1,
           1,
           1,
           1,
           1,
           1,
           1,
           1,
           1,
           1,
           1,
           1,
           1
          ],
          "str_col": [
           40
          ],
          "timestamp": [
           40
          ]
         },
         {
          "float_col": 40,
          "index": "mode",
          "int_col": 8,
          "str_col": "foobar",
          "timestamp": "2020-01-01T01:00:00.000"
         },
         {
          "float_col": 0.625,
          "index": "distinct_per",
          "int_col": 0.7,
          "str_col": 0.025,
          "timestamp": 0.025
         },
         {
          "float_col": 0,
          "index": "empty_per",
          "int_col": 0,
          "str_col": 0,
          "timestamp": 0
         },
         {
          "float_col": 0.375,
          "index": "unique_per",
          "int_col": 0.45,
          "str_col": 0,
          "timestamp": 0
         },
         {
          "float_col": 0,
          "index": "nan_per",
          "int_col": 0,
          "str_col": 0,
          "timestamp": 0
         },
         {
          "float_col": 15,
          "index": "unique_count",
          "int_col": 18,
          "str_col": 0,
          "timestamp": 0
         },
         {
          "float_col": 0,
          "index": "empty_count",
          "int_col": 0,
          "str_col": 0,
          "timestamp": 0
         },
         {
          "float_col": 25,
          "index": "distinct_count",
          "int_col": 28,
          "str_col": 1,
          "timestamp": 1
         },
         {
          "float_col": [
           {
            "name": "2.857142857142857 - 2.857142857142857",
            "tail": 1
           },
           {
            "name": "4-8",
            "population": 14
           },
           {
            "name": "8-11",
            "population": 9
           },
           {
            "name": "11-15",
            "population": 14
           },
           {
            "name": "15-19",
            "population": 6
           },
           {
            "name": "19-22",
            "population": 6
           },
           {
            "name": "22-26",
            "population": 9
           },
           {
            "name": "26-29",
            "population": 9
           },
           {
            "name": "29-33",
            "population": 6
           },
           {
            "name": "33-36",
            "population": 6
           },
           {
            "name": "36-40",
            "population": 23
           },
           {
            "name": "41.42857142857143 - 41.42857142857143",
            "tail": 1
           }
          ],
          "index": "histogram",
          "int_col": [
           {
            "name": "2 - 3.56",
            "tail": 1
           },
           {
            "name": "6-10",
            "population": 16
           },
           {
            "name": "10-14",
            "population": 13
           },
           {
            "name": "14-18",
            "population": 8
           },
           {
            "name": "18-22",
            "population": 11
           },
           {
            "name": "22-26",
            "population": 13
           },
           {
            "name": "26-31",
            "population": 11
           },
           {
            "name": "31-35",
            "population": 3
           },
           {
            "name": "35-39",
            "population": 8
           },
           {
            "name": "39-43",
            "population": 13
           },
           {
            "name": "43-47",
            "population": 5
           },
           {
            "name": "48.22 - 49",
            "tail": 1
           }
          ],
          "str_col": [
           {
            "cat_pop": 100,
            "name": "foobar"
           }
          ],
          "timestamp": [
           {
            "cat_pop": 100,
            "name": "2020-01-01T01:00:00.000Z"
           }
          ]
         },
         {
          "float_col": {
           "high_tail": 41.4285714286,
           "low_tail": 2.8571428571,
           "meat_histogram": [
            [
             5,
             3,
             5,
             2,
             2,
             3,
             3,
             2,
             2,
             8
            ],
            [
             4.2857142857,
             7.8571428571,
             11.4285714286,
             15,
             18.5714285714,
             22.1428571429,
             25.7142857143,
             29.2857142857,
             32.8571428571,
             36.4285714286,
             40
            ]
           ],
           "normalized_populations": [
            0.1428571429,
            0.0857142857,
            0.1428571429,
            0.0571428571,
            0.0571428571,
            0.0857142857,
            0.0857142857,
            0.0571428571,
            0.0571428571,
            0.2285714286
           ]
          },
          "index": "histogram_args",
          "int_col": {
           "high_tail": 48.22,
           "low_tail": 3.56,
           "meat_histogram": [
            [
             6,
             5,
             3,
             4,
             5,
             4,
             1,
             3,
             5,
             2
            ],
            [
             6,
             10.1,
             14.2,
             18.3,
             22.4,
             26.5,
             30.6,
             34.7,
             38.8,
             42.9,
             47
            ]
           ],
           "normalized_populations": [
            0.1578947368,
            0.1315789474,
            0.0789473684,
            0.1052631579,
            0.1315789474,
            0.1052631579,
            0.0263157895,
            0.0789473684,
            0.1315789474,
            0.0526315789
           ]
          },
          "str_col": {},
          "timestamp": {}
         },
         {
          "float_col": [
           4.2857142857,
           7.8571428571,
           11.4285714286,
           15,
           18.5714285714,
           22.1428571429,
           25.7142857143,
           29.2857142857,
           32.8571428571,
           36.4285714286,
           40
          ],
          "index": "histogram_bins",
          "int_col": [
           6,
           10.1,
           14.2,
           18.3,
           22.4,
           26.5,
           30.6,
           34.7,
           38.8,
           42.9,
           47
          ],
          "str_col": [],
          "timestamp": []
         },
         {
          "float_col": 40,
          "index": "non_null_count",
          "int_col": 40,
          "str_col": 40,
          "timestamp": 40
         },
         {
          "float_col": 0,
          "index": "null_count",
          "int_col": 0,
          "str_col": 0,
          "timestamp": 0
         },
         {
          "float_col": 40,
          "index": "most_freq",
          "int_col": 8,
          "str_col": "foobar",
          "timestamp": "2020-01-01T01:00:00.000Z"
         },
         {
          "float_col": 2.8571428571,
          "index": "2nd_freq",
          "int_col": 21,
          "str_col": null,
          "timestamp": null
         },
         {
          "float_col": 5.7142857143,
          "index": "3rd_freq",
          "int_col": 38,
          "str_col": null,
          "timestamp": null
         },
         {
          "float_col": 38.5714285714,
          "index": "4th_freq",
          "int_col": 14,
          "str_col": null,
          "timestamp": null
         },
         {
          "float_col": 10,
          "index": "5th_freq",
          "int_col": 26,
          "str_col": null,
          "timestamp": null
         }
        ],
        "empty": [],
        "main": [
         {
          "float_col": 10,
          "index": 0,
          "int_col": 38,
          "str_col": "foobar",
          "timestamp": "2020-01-01T01:00:00.000Z"
         },
         {
          "float_col": 14.2857142857,
          "index": 5,
          "int_col": 7,
          "str_col": "foobar",
          "timestamp": "2020-01-01T01:00:00.000Z"
         },
         {
          "float_col": 5.7142857143,
          "index": 10,
          "int_col": 38,
          "str_col": "foobar",
          "timestamp": "2020-01-01T01:00:00.000Z"
         },
         {
          "float_col": 30,
          "index": 15,
          "int_col": 30,
          "str_col": "foobar",
          "timestamp": "2020-01-01T01:00:00.000Z"
         },
         {
          "float_col": 12.8571428571,
          "index": 20,
          "int_col": 39,
          "str_col": "foobar",
          "timestamp": "2020-01-01T01:00:00.000Z"
         },
         {
          "float_col": 41.4285714286,
          "index": 25,
          "int_col": 17,
          "str_col": "foobar",
          "timestamp": "2020-01-01T01:00:00.000Z"
         },
         {
          "float_col": 24.2857142857,
          "index": 30,
          "int_col": 21,
          "str_col": "foobar",
          "timestamp": "2020-01-01T01:00:00.000Z"
         },
         {
          "float_col": 28.5714285714,
          "index": 35,
          "int_col": 14,
          "str_col": "foobar",
          "timestamp": "2020-01-01T01:00:00.000Z"
         },
         {
          "float_col": 38.5714285714,
          "index": 40,
          "int_col": 6,
          "str_col": "foobar",
          "timestamp": "2020-01-01T01:00:00.000Z"
         },
         {
          "float_col": 5.7142857143,
          "index": 45,
          "int_col": 35,
          "str_col": "foobar",
          "timestamp": "2020-01-01T01:00:00.000Z"
         },
         {
          "float_col": 18.5714285714,
          "index": 50,
          "int_col": 24,
          "str_col": "foobar",
          "timestamp": "2020-01-01T01:00:00.000Z"
         },
         {
          "float_col": 27.1428571429,
          "index": 55,
          "int_col": 8,
          "str_col": "foobar",
          "timestamp": "2020-01-01T01:00:00.000Z"
         },
         {
          "float_col": 40,
          "index": 60,
          "int_col": 26,
          "str_col": "foobar",
          "timestamp": "2020-01-01T01:00:00.000Z"
         },
         {
          "float_col": 40,
          "index": 65,
          "int_col": 26,
          "str_col": "foobar",
          "timestamp": "2020-01-01T01:00:00.000Z"
         },
         {
          "float_col": 40,
          "index": 70,
          "int_col": 2,
          "str_col": "foobar",
          "timestamp": "2020-01-01T01:00:00.000Z"
         },
         {
          "float_col": 15.7142857143,
          "index": 75,
          "int_col": 27,
          "str_col": "foobar",
          "timestamp": "2020-01-01T01:00:00.000Z"
         },
         {
          "float_col": 25.7142857143,
          "index": 80,
          "int_col": 49,
          "str_col": "foobar",
          "timestamp": "2020-01-01T01:00:00.000Z"
         },
         {
          "float_col": 41.4285714286,
          "index": 85,
          "int_col": 32,
          "str_col": "foobar",
          "timestamp": "2020-01-01T01:00:00.000Z"
         },
         {
          "float_col": 10,
          "index": 90,
          "int_col": 15,
          "str_col": "foobar",
          "timestamp": "2020-01-01T01:00:00.000Z"
         },
         {
          "float_col": 38.5714285714,
          "index": 95,
          "int_col": 8,
          "str_col": "foobar",
          "timestamp": "2020-01-01T01:00:00.000Z"
         },
         {
          "float_col": 37.1428571429,
          "index": 100,
          "int_col": 21,
          "str_col": "foobar",
          "timestamp": "2020-01-01T01:00:00.000Z"
         },
         {
          "float_col": 17.1428571429,
          "index": 105,
          "int_col": 45,
          "str_col": "foobar",
          "timestamp": "2020-01-01T01:00:00.000Z"
         },
         {
          "float_col": 2.8571428571,
          "index": 110,
          "int_col": 13,
          "str_col": "foobar",
          "timestamp": "2020-01-01T01:00:00.000Z"
         },
         {
          "float_col": 8.5714285714,
          "index": 115,
          "int_col": 30,
          "str_col": "foobar",
          "timestamp": "2020-01-01T01:00:00.000Z"
         },
         {
          "float_col": 5.7142857143,
          "index": 120,
          "int_col": 21,
          "str_col": "foobar",
          "timestamp": "2020-01-01T01:00:00.000Z"
         },
         {
          "float_col": 35.7142857143,
          "index": 125,
          "int_col": 13,
          "str_col": "foobar",
          "timestamp": "2020-01-01T01:00:00.000Z"
         },
         {
          "float_col": 18.5714285714,
          "index": 130,
          "int_col": 23,
          "str_col": "foobar",
          "timestamp": "2020-01-01T01:00:00.000Z"
         },
         {
          "float_col": 11.4285714286,
          "index": 135,
          "int_col": 39,
          "str_col": "foobar",
          "timestamp": "2020-01-01T01:00:00.000Z"
         },
         {
          "float_col": 22.8571428571,
          "index": 140,
          "int_col": 17,
          "str_col": "foobar",
          "timestamp": "2020-01-01T01:00:00.000Z"
         },
         {
          "float_col": 2.8571428571,
          "index": 145,
          "int_col": 20,
          "str_col": "foobar",
          "timestamp": "2020-01-01T01:00:00.000Z"
         },
         {
          "float_col": 38.5714285714,
          "index": 150,
          "int_col": 12,
          "str_col": "foobar",
          "timestamp": "2020-01-01T01:00:00.000Z"
         },
         {
          "float_col": 22.8571428571,
          "index": 155,
          "int_col": 41,
          "str_col": "foobar",
          "timestamp": "2020-01-01T01:00:00.000Z"
         },
         {
          "float_col": 12.8571428571,
          "index": 160,
          "int_col": 40,
          "str_col": "foobar",
          "timestamp": "2020-01-01T01:00:00.000Z"
         },
         {
          "float_col": 4.2857142857,
          "index": 165,
          "int_col": 8,
          "str_col": "foobar",
          "timestamp": "2020-01-01T01:00:00.000Z"
         },
         {
          "float_col": 11.4285714286,
          "index": 170,
          "int_col": 14,
          "str_col": "foobar",
          "timestamp": "2020-01-01T01:00:00.000Z"
         },
         {
          "float_col": 31.4285714286,
          "index": 175,
          "int_col": 10,
          "str_col": "foobar",
          "timestamp": "2020-01-01T01:00:00.000Z"
         },
         {
          "float_col": 40,
          "index": 180,
          "int_col": 47,
          "str_col": "foobar",
          "timestamp": "2020-01-01T01:00:00.000Z"
         },
         {
          "float_col": 7.1428571429,
          "index": 185,
          "int_col": 28,
          "str_col": "foobar",
          "timestamp": "2020-01-01T01:00:00.000Z"
         },
         {
          "float_col": 34.2857142857,
          "index": 190,
          "int_col": 24,
          "str_col": "foobar",
          "timestamp": "2020-01-01T01:00:00.000Z"
         },
         {
          "float_col": 2.8571428571,
          "index": 195,
          "int_col": 42,
          "str_col": "foobar",
          "timestamp": "2020-01-01T01:00:00.000Z"
         }
        ]
       },
       "df_display_args": {
        "main": {
         "data_key": "main",
         "df_viewer_config": {
          "column_config": [
           {
            "col_name": "index",
            "displayer_args": {
             "displayer": "float",
             "max_fraction_digits": 0,
             "min_fraction_digits": 0
            }
           },
           {
            "col_name": "int_col",
            "displayer_args": {
             "displayer": "float",
             "max_fraction_digits": 0,
             "min_fraction_digits": 0
            }
           },
           {
            "col_name": "float_col",
            "displayer_args": {
             "displayer": "float",
             "max_fraction_digits": 3,
             "min_fraction_digits": 3
            }
           },
           {
            "col_name": "timestamp",
            "displayer_args": {
             "displayer": "obj"
            },
            "tooltip_config": {
             "tooltip_type": "simple",
             "val_column": "timestamp"
            }
           },
           {
            "col_name": "str_col",
            "displayer_args": {
             "displayer": "string",
             "max_length": 35
            },
            "tooltip_config": {
             "tooltip_type": "simple",
             "val_column": "str_col"
            }
           }
          ],
          "component_config": {},
          "extra_grid_config": {},
          "pinned_rows": [
           {
            "displayer_args": {
             "displayer": "obj"
            },
            "primary_key_val": "dtype"
           },
           {
            "displayer_args": {
             "displayer": "histogram"
            },
            "primary_key_val": "histogram"
           }
          ]
         },
         "summary_stats_key": "all_stats"
        },
        "summary": {
         "data_key": "empty",
         "df_viewer_config": {
          "column_config": [
           {
            "col_name": "index",
            "displayer_args": {
             "displayer": "obj"
            }
           },
           {
            "col_name": "int_col",
            "displayer_args": {
             "displayer": "obj"
            }
           },
           {
            "col_name": "float_col",
            "displayer_args": {
             "displayer": "obj"
            }
           },
           {
            "col_name": "timestamp",
            "displayer_args": {
             "displayer": "obj"
            }
           },
           {
            "col_name": "str_col",
            "displayer_args": {
             "displayer": "obj"
            }
           }
          ],
          "component_config": {},
          "extra_grid_config": {},
          "pinned_rows": [
           {
            "displayer_args": {
             "displayer": "obj"
            },
            "primary_key_val": "dtype"
           },
           {
            "displayer_args": {
             "displayer": "float",
             "max_fraction_digits": 0,
             "min_fraction_digits": 0
            },
            "primary_key_val": "non_null_count"
           },
           {
            "displayer_args": {
             "displayer": "float",
             "max_fraction_digits": 0,
             "min_fraction_digits": 0
            },
            "primary_key_val": "null_count"
           },
           {
            "displayer_args": {
             "displayer": "float",
             "max_fraction_digits": 3,
             "min_fraction_digits": 3
            },
            "primary_key_val": "mean"
           },
           {
            "displayer_args": {
             "displayer": "float",
             "max_fraction_digits": 3,
             "min_fraction_digits": 3
            },
            "primary_key_val": "std"
           },
           {
            "displayer_args": {
             "displayer": "float",
             "max_fraction_digits": 3,
             "min_fraction_digits": 3
            },
            "primary_key_val": "min"
           },
           {
            "displayer_args": {
             "displayer": "float",
             "max_fraction_digits": 3,
             "min_fraction_digits": 3
            },
            "primary_key_val": "25th"
           },
           {
            "displayer_args": {
             "displayer": "float",
             "max_fraction_digits": 3,
             "min_fraction_digits": 3
            },
            "primary_key_val": "median"
           },
           {
            "displayer_args": {
             "displayer": "float",
             "max_fraction_digits": 3,
             "min_fraction_digits": 3
            },
            "primary_key_val": "75th"
           },
           {
            "displayer_args": {
             "displayer": "float",
             "max_fraction_digits": 3,
             "min_fraction_digits": 3
            },
            "primary_key_val": "max"
           },
           {
            "displayer_args": {
             "displayer": "float",
             "max_fraction_digits": 0,
             "min_fraction_digits": 0
            },
            "primary_key_val": "unique_count"
           },
           {
            "displayer_args": {
             "displayer": "float",
             "max_fraction_digits": 0,
             "min_fraction_digits": 0
            },
            "primary_key_val": "distinct_count"
           },
           {
            "displayer_args": {
             "displayer": "obj"
            },
            "primary_key_val": "most_freq"
           },
           {
            "displayer_args": {
             "displayer": "obj"
            },
            "primary_key_val": "2nd_freq"
           },
           {
            "displayer_args": {
             "displayer": "obj"
            },
            "primary_key_val": "3rd_freq"
           },
           {
            "displayer_args": {
             "displayer": "obj"
            },
            "primary_key_val": "4th_freq"
           },
           {
            "displayer_args": {
             "displayer": "obj"
            },
            "primary_key_val": "5th_freq"
           }
          ]
         },
         "summary_stats_key": "all_stats"
        }
       },
       "df_meta": {
        "columns": 4,
        "filtered_rows": 40,
        "rows_shown": 40,
        "total_rows": 200
       },
       "layout": "IPY_MODEL_335142c9f5aa47b38e55a969a03a37af",
       "operation_results": {
        "generated_py_code": "def clean(df):\n    df.fillna({'col':'foobar'}, inplace=True)\n    return df",
        "transformed_df": null
       },
       "operations": []
      }
     },
     "9ff1f6802f084c139faa8b4ac0bf0738": {
      "model_module": "@jupyter-widgets/base",
      "model_module_version": "2.0.0",
      "model_name": "LayoutModel",
      "state": {}
     },
     "c7396afa7fff47e1a5bac5b5bd21c1f2": {
      "model_module": "@jupyter-widgets/base",
      "model_module_version": "2.0.0",
      "model_name": "LayoutModel",
      "state": {}
     }
    },
    "version_major": 2,
    "version_minor": 0
   }
  }
 },
 "nbformat": 4,
 "nbformat_minor": 5
}
