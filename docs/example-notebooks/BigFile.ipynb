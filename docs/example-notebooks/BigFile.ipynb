{
 "cells": [
  {
   "cell_type": "code",
   "execution_count": 1,
   "id": "4bacd1ad-6658-4e69-b596-d9db5a0a2201",
   "metadata": {},
   "outputs": [
    {
     "name": "stdout",
     "output_type": "stream",
     "text": [
      "Buckaroo has been enabled as the default DataFrame viewer.  To return to default dataframe visualization use `from buckaroo import disable; disable()`\n"
     ]
    }
   ],
   "source": [
    "import pandas as pd\n",
    "import polars as pl\n",
    "import buckaroo\n",
    "JULY_FILE = \"~/NPPES_Data_Dissemination_July_2025/npidata_pfile_20050523-20250713.csv\"\n"
   ]
  },
  {
   "cell_type": "markdown",
   "id": "2c21c2b4-8d86-4d2e-a7df-5022a0ed296c",
   "metadata": {},
   "source": [
    "# Lets investigate this file\n",
    "We are going to use some unix command line utils.  These are generally going to be very fast and memory efficient"
   ]
  },
  {
   "cell_type": "code",
   "execution_count": 4,
   "id": "8eabb58f-ce10-4ac3-b5eb-99e1a2ada843",
   "metadata": {},
   "outputs": [
    {
     "name": "stdout",
     "output_type": "stream",
     "text": [
      " 10G\t/Users/paddy/NPPES_Data_Dissemination_July_2025/npidata_pfile_20050523-20250713.csv\n"
     ]
    }
   ],
   "source": [
    "!du -h /Users/paddy/NPPES_Data_Dissemination_July_2025/npidata_pfile_20050523-20250713.csv"
   ]
  },
  {
   "cell_type": "code",
   "execution_count": 5,
   "id": "1338b817-097d-4155-a131-cf5b011a8ccc",
   "metadata": {},
   "outputs": [
    {
     "name": "stdout",
     "output_type": "stream",
     "text": [
      "cat  > /dev/null  0.04s user 1.67s system 43% cpu 3.995 total\n"
     ]
    }
   ],
   "source": [
    "!time cat /Users/paddy/NPPES_Data_Dissemination_July_2025/npidata_pfile_20050523-20250713.csv > /dev/null"
   ]
  },
  {
   "cell_type": "code",
   "execution_count": 3,
   "id": "15037796-b479-493d-b9ee-00ddbe69189b",
   "metadata": {},
   "outputs": [
    {
     "name": "stdout",
     "output_type": "stream",
     "text": [
      " 9026997 /Users/paddy/NPPES_Data_Dissemination_July_2025/npidata_pfile_20050523-20250713.csv\n",
      "wc -l ~/NPPES_Data_Dissemination_July_2025/npidata_pfile_20050523-20250713.cs  4.12s user 1.70s system 87% cpu 6.675 total\n"
     ]
    }
   ],
   "source": [
    "!time wc -l ~/NPPES_Data_Dissemination_July_2025/npidata_pfile_20050523-20250713.csv"
   ]
  },
  {
   "cell_type": "markdown",
   "id": "538bfa98-9e1c-4732-b260-c076fb3aba55",
   "metadata": {},
   "source": [
    "# Let's talk about polars\n",
    "\n",
    "Pandas was a huge leap forward for data science when it came out 15 years ago. Polars is a clean slate design oriented around performance.\n",
    "\n",
    "Polars is faster for two reasons, one in operates in parallel, two it works lazily, in many cases it doesn't need to load an entire dataframe into memory"
   ]
  },
  {
   "cell_type": "code",
   "execution_count": 6,
   "id": "4cb4e1a5-b8da-4d39-8ef5-625f095e235b",
   "metadata": {},
   "outputs": [],
   "source": [
    "df = pl.read_csv(JULY_FILE, n_rows=5_000, low_memory=True)\n",
    "#df"
   ]
  },
  {
   "cell_type": "code",
   "execution_count": 1,
   "id": "1cd590d9-c82e-4dfc-b1d9-a1b8d3d52d73",
   "metadata": {},
   "outputs": [],
   "source": [
    "#df"
   ]
  },
  {
   "cell_type": "code",
   "execution_count": 12,
   "id": "35a7f426-be62-43c2-881e-de892b3f3a1c",
   "metadata": {},
   "outputs": [],
   "source": [
    "#df.filter(pl.any_horizontal(pl.col(pl.String).str.contains('GRES')))"
   ]
  },
  {
   "cell_type": "code",
   "execution_count": 9,
   "id": "4d85918d-97da-467e-bd1d-3ac078a115bd",
   "metadata": {},
   "outputs": [
    {
     "name": "stdout",
     "output_type": "stream",
     "text": [
      "3.34 s ± 530 ms per loop (mean ± std. dev. of 7 runs, 1 loop each)\n"
     ]
    }
   ],
   "source": [
    "NROWS=500_000\n",
    "%timeit pl.read_csv(JULY_FILE, n_rows=NROWS).filter(pl.any_horizontal(pl.col(pl.String).str.contains('GRES')))"
   ]
  },
  {
   "cell_type": "code",
   "execution_count": 10,
   "id": "e54a5ed2-b000-4563-9c15-e71c346d5621",
   "metadata": {},
   "outputs": [
    {
     "name": "stdout",
     "output_type": "stream",
     "text": [
      "1.24 s ± 145 ms per loop (mean ± std. dev. of 7 runs, 1 loop each)\n"
     ]
    }
   ],
   "source": [
    "%timeit pl.scan_csv(JULY_FILE, n_rows=NROWS).filter(pl.any_horizontal(pl.col(pl.String).str.contains('GRES'))).collect()"
   ]
  },
  {
   "cell_type": "code",
   "execution_count": 11,
   "id": "74450ee4-c29a-4230-8ed3-e2e3fa987485",
   "metadata": {},
   "outputs": [
    {
     "name": "stderr",
     "output_type": "stream",
     "text": [
      "/Users/paddy/.local/share/uv/python/cpython-3.12.8-macos-aarch64-none/lib/python3.12/pty.py:95: DeprecationWarning: This process (pid=71299) is multi-threaded, use of forkpty() may lead to deadlocks in the child.\n",
      "  pid, fd = os.forkpty()\n"
     ]
    },
    {
     "name": "stdout",
     "output_type": "stream",
     "text": [
      "    4727\n",
      "cat ~/NPPES_Data_Dissemination_July_2025/npidata_pfile_20050523-20250713.csv  0.21s user 2.95s system 3% cpu 1:20.02 total\n",
      "grep 367H  78.77s user 0.78s system 99% cpu 1:20.02 total\n",
      "wc -l  0.00s user 0.00s system 0% cpu 1:20.02 total\n"
     ]
    }
   ],
   "source": [
    "!time cat  ~/NPPES_Data_Dissemination_July_2025/npidata_pfile_20050523-20250713.csv | grep 367H | wc -l"
   ]
  },
  {
   "cell_type": "code",
   "execution_count": null,
   "id": "cb877171-0af5-48a3-b939-647384691139",
   "metadata": {},
   "outputs": [],
   "source": []
  }
 ],
 "metadata": {
  "kernelspec": {
   "display_name": "Python 3 (ipykernel)",
   "language": "python",
   "name": "python3"
  },
  "language_info": {
   "codemirror_mode": {
    "name": "ipython",
    "version": 3
   },
   "file_extension": ".py",
   "mimetype": "text/x-python",
   "name": "python",
   "nbconvert_exporter": "python",
   "pygments_lexer": "ipython3",
   "version": "3.12.8"
  },
  "widgets": {
   "application/vnd.jupyter.widget-state+json": {
    "state": {},
    "version_major": 2,
    "version_minor": 0
   }
  }
 },
 "nbformat": 4,
 "nbformat_minor": 5
}
