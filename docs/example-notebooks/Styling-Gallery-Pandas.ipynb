{
 "cells": [
  {
   "cell_type": "code",
   "execution_count": 1,
   "id": "0",
   "metadata": {
    "tags": []
   },
   "outputs": [
    {
     "name": "stdout",
     "output_type": "stream",
     "text": [
      "Buckaroo has been enabled as the default DataFrame viewer.  To return to default dataframe visualization use `from buckaroo import disable; disable()`\n"
     ]
    }
   ],
   "source": [
    "import pandas as pd\n",
    "import numpy as np\n",
    "from buckaroo.dataflow.dataflow import StylingAnalysis\n",
    "from buckaroo.buckaroo_widget import BuckarooWidget\n",
    "from buckaroo.customizations.analysis import TypingStats\n",
    "N = 500\n",
    "NA = pd.NA"
   ]
  },
  {
   "cell_type": "markdown",
   "id": "1",
   "metadata": {},
   "source": [
    "This notebook generally follows the order of [DFWhole.ts](https://github.com/paddymul/buckaroo/blob/main/js/components/DFViewerParts/DFWhole.ts)\n",
    "\n",
    "Starting with the simple Displayers\n",
    "```js\n",
    "export interface ObjDisplayerA {\n",
    "  displayer: 'obj';}\n",
    "\n",
    "export interface BooleanDisplayerA {\n",
    "  displayer: 'boolean';}\n",
    "\n",
    "export interface StringDisplayerA {\n",
    "  displayer: 'string';\n",
    "  max_length?: number;} \n",
    "  \n",
    "export interface FloatDisplayerA {\n",
    "  displayer: 'float';\n",
    "  min_fraction_digits: number;\n",
    "  max_fraction_digits: number;}\n",
    "\n",
    "export interface DatetimeDefaultDisplayerA {\n",
    "  displayer: 'datetimeDefault';}\n",
    "export interface IntegerDisplayerA {\n",
    "  displayer: 'integer';\n",
    "  min_digits: number;\n",
    "  max_digits: number;}\n",
    "\n",
    "export interface DatetimeLocaleDisplayerA {\n",
    "  displayer: 'datetimeLocaleString';\n",
    "  locale: 'en-US' | 'en-GB' | 'en-CA' | 'fr-FR' | 'es-ES' | 'de-DE' | 'ja-JP';\n",
    "  // https://developer.mozilla.org/en-US/docs/Web/JavaScript/Reference/Global_Objects/Intl/DateTimeFormat/DateTimeFormat\n",
    "  args: Intl.DateTimeFormatOptions;}\n",
    "```"
   ]
  },
  {
   "cell_type": "code",
   "execution_count": 2,
   "id": "2",
   "metadata": {
    "tags": []
   },
   "outputs": [],
   "source": [
    "#simpler Buckaroo that really shows the styling\n",
    "def obj_(pkey):\n",
    "    return {'primary_key_val': pkey, 'displayer_args': { 'displayer': 'obj' } }\n",
    "\n",
    "class GalleryStyling(StylingAnalysis):\n",
    "    requires_summary = ['dtype']\n",
    "    pinned_rows = [obj_('dtype')]\n",
    "class GalleryBuckaroo(BuckarooWidget):\n",
    "    analysis_klasses = [GalleryStyling, TypingStats]"
   ]
  },
  {
   "cell_type": "code",
   "execution_count": 3,
   "id": "3",
   "metadata": {
    "tags": []
   },
   "outputs": [
    {
     "data": {
      "application/vnd.jupyter.widget-view+json": {
       "model_id": "68cb2e031d5e4477b337e9da3c183631",
       "version_major": 2,
       "version_minor": 0
      },
      "text/plain": [
       "GalleryBuckaroo(buckaroo_options={'sampled': ['random'], 'auto_clean': ['aggressive', 'conservative'], 'post_p…"
      ]
     },
     "execution_count": 3,
     "metadata": {},
     "output_type": "execute_result"
    }
   ],
   "source": [
    "obj_df = pd.DataFrame({\n",
    "    'bools':[True, True, False, False, True, None],\n",
    "    'ints': [   5,   20,    30,   -10, 7772, None],\n",
    "    'timestamp':[\"2020-01-01 01:00Z\", \"2020-01-01 02:00Z\", \"2020-02-28 02:00Z\", \"2020-03-15 02:00Z\", None, None],\n",
    "    'dicts': [ {'a':10, 'b':20, 'c':'some string'}, None, None, None, None, None], #polars\n",
    "    'nested_dicts': [{'level_1': {'a':10, 'b':20, 'c':'some string'}}, None, None, None, None, None],\n",
    "    'lists': [['a','b'], [1,2], None, None, None, None],\n",
    "    'lists-string': [['a','b'], ['foo', 'bar'], None, None, None, None],\n",
    "    'lists-int': [[10, 20], [100, 500], [8], None, None, None]}\n",
    ")\n",
    "GalleryBuckaroo(obj_df)"
   ]
  },
  {
   "cell_type": "code",
   "execution_count": 10,
   "id": "695a3e07-d4f7-4525-af91-93fe094d9200",
   "metadata": {},
   "outputs": [
    {
     "name": "stderr",
     "output_type": "stream",
     "text": [
      "/Users/paddy/buckaroo/buckaroo/customizations/analysis.py:44: UserWarning: Unable to sort modes: '<' not supported between instances of 'int' and 'str'\n",
      "  mode_raw = ser.mode()\n"
     ]
    },
    {
     "data": {
      "application/vnd.jupyter.widget-view+json": {
       "model_id": "c9e0a7881fce4c11ae42ba2c1b8aeab0",
       "version_major": 2,
       "version_minor": 0
      },
      "text/plain": [
       "BuckarooWidget(buckaroo_options={'sampled': ['random'], 'auto_clean': ['aggressive', 'conservative'], 'post_pr…"
      ]
     },
     "execution_count": 10,
     "metadata": {},
     "output_type": "execute_result"
    }
   ],
   "source": [
    "BuckarooWidget(obj_df, \n",
    "               component_config={'className':'asdf', \n",
    "                                 'selectionBackground': 'red'})"
   ]
  },
  {
   "cell_type": "code",
   "execution_count": null,
   "id": "4",
   "metadata": {
    "tags": []
   },
   "outputs": [],
   "source": [
    "obj_df = pd.DataFrame({\n",
    "    'bools':[True, True, False, False, True, None],\n",
    "    'ints': [   5,   20,    30,   -10, 7772, None],\n",
    "    'dicts': [ {'a':10, 'b':20, 'c':'some string'}, None, None, None, None, None], #polars\n",
    "    'nested_dicts': [{'level_1': {'a':10, 'b':20, 'c':'some string'}}, None, None, None, None, None],\n",
    "    #'nested_dicts2': pl.Series([{'level_1': {'a':10, 'b':20, 'c':'some string'}}, None, None, None, None, None], dtype=pl.Object)}\n",
    "    }\n",
    ")\n",
    "GalleryBuckaroo(obj_df)"
   ]
  },
  {
   "cell_type": "code",
   "execution_count": null,
   "id": "5",
   "metadata": {
    "tags": []
   },
   "outputs": [],
   "source": [
    "bool_ser = pd.Series([True, True, False, False, True, None])\n",
    "bool_df = pd.DataFrame({\n",
    "    'bools_obj_displayer':bool_ser,\n",
    "    'bools_boolean_displayer': bool_ser})\n",
    "#fix         #'bools_bool_checkbox_displayer':  {'displayer_args': {'displayer': 'boolean_checkbox'}\n",
    "BuckarooWidget(\n",
    "    bool_df, \n",
    "    column_config_overrides={\n",
    "        'bools_obj_displayer':  {'displayer_args': {'displayer': 'obj'}},      \n",
    "        'bools_boolean_displayer': {'displayer_args': {'displayer': 'boolean'}}}\n",
    ")"
   ]
  },
  {
   "cell_type": "code",
   "execution_count": null,
   "id": "6",
   "metadata": {
    "tags": []
   },
   "outputs": [],
   "source": [
    "string_ser = pd.Series([\"asdf\", \"qwerty\", \"really long string, much  much longer\", None,  \"A\"])\n",
    "string_df = pd.DataFrame({\n",
    "    'strings_obj_displayer':string_ser,\n",
    "    'strings_string_displayer':string_ser,\n",
    "    'strings_string_displayer_max_len':string_ser})\n",
    "BuckarooWidget(\n",
    "    string_df, \n",
    "    column_config_overrides={\n",
    "        'strings_obj_displayer':  {'displayer_args': {'displayer': 'obj'}},      \n",
    "        'strings_string_displayer': {'displayer_args': {'displayer': 'string'}},\n",
    "        'strings_string_displayer_max_len': {'displayer_args': {'displayer': 'string', 'max_length':15}}\n",
    "    })"
   ]
  },
  {
   "cell_type": "code",
   "execution_count": null,
   "id": "7",
   "metadata": {},
   "outputs": [],
   "source": [
    "float_ser = pd.Series(\n",
    "    [5, -8, 13.23, -8.01, -999.345245234, None])\n",
    "\n",
    "def float_(min_digits, max_digits):\n",
    "    return {'displayer_args': { 'displayer': 'float', 'min_fraction_digits':min_digits, 'max_fraction_digits': max_digits}}\n",
    "float_df = pd.DataFrame({\n",
    "        'float_obj_displayer':float_ser,\n",
    "        'float_float_displayer_1__3':float_ser,\n",
    "        'float_float_displayer_0__3':float_ser,\n",
    "        'float_float_displayer_3__3':float_ser,\n",
    "        'float_float_displayer_3_13':float_ser})\n",
    "BuckarooWidget(\n",
    "    float_df,\n",
    "    column_config_overrides={\n",
    "        'float_obj_displayer':  {'displayer_args': {'displayer': 'obj'}},      \n",
    "        'float_float_displayer_1__3' : float_(1,3),\n",
    "        'float_float_displayer_0__3' : float_(0,3),\n",
    "        'float_float_displayer_3__3' : float_(3,3),\n",
    "        'float_float_displayer_3_13' : float_(3,13)})"
   ]
  },
  {
   "cell_type": "code",
   "execution_count": null,
   "id": "8",
   "metadata": {
    "tags": []
   },
   "outputs": [],
   "source": [
    "datetime_ser = pd.to_datetime(\n",
    "    pd.Series([\"2020-01-01 01:00Z\", \"2020-01-01 02:00Z\", \"2020-02-28 02:00Z\", \"2020-03-15 02:00Z\", None]))\n",
    "datetime_df = pd.DataFrame({\n",
    "        'timestamp_obj_displayer':datetime_ser,\n",
    "        'timestamp_datetime_default_displayer':datetime_ser,\n",
    "        'timestamp_datetime_locale_en-US':datetime_ser,\n",
    "        'timestamp_datetime_locale_en-US-Long':datetime_ser,\n",
    "        'timestamp_datetime_locale_en-GB':datetime_ser,})\n",
    "def locale(locale, args={}):\n",
    "    return {'displayer_args': {'displayer': 'datetimeLocaleString',\n",
    "                                'locale':locale,\n",
    "                                'args':args}}\n",
    "BuckarooWidget(datetime_df,\n",
    "    column_config_overrides={\n",
    "        'timestamp_obj_displayer':  {'displayer_args': {'displayer': 'obj'}},    \n",
    "        'timestamp_datetime_default_displayer' : {'displayer_args':  {  'displayer': 'datetimeDefault'}},\n",
    "        'timestamp_datetime_locale_en-US' :locale('en-US'),\n",
    "        'timestamp_datetime_locale_en-US-Long': locale('en-US', { 'weekday': 'long'}),\n",
    "        'timestamp_datetime_locale_en-GB' : locale('en-GB')})"
   ]
  },
  {
   "cell_type": "code",
   "execution_count": null,
   "id": "9",
   "metadata": {
    "tags": []
   },
   "outputs": [],
   "source": [
    "link_df = pd.DataFrame({'raw':      ['https://github.com/paddymul/buckaroo', 'https://github.com/pola-rs/polars'],\n",
    "                    'linkify' : ['https://github.com/paddymul/buckaroo', 'https://github.com/pola-rs/polars']})\n",
    "BuckarooWidget(link_df,\n",
    "               column_config_overrides={'linkify': {'displayer_args':  {  'displayer': 'linkify'}}})\n",
    "#fixme no underline or blue highlighting of links... but they are links"
   ]
  },
  {
   "cell_type": "code",
   "execution_count": null,
   "id": "10",
   "metadata": {
    "tags": []
   },
   "outputs": [],
   "source": [
    "histo_df = pd.DataFrame({\n",
    "    'names': ['index', 'all_NA', 'half_NA', 'longtail', 'longtail_unique'],\n",
    "     'histogram_props': ['histogram',\n",
    "          [{'name': 'NA', 'NA': 100.0}],\n",
    "          [{'name': 1, 'cat_pop': 44.0}, {'name': 'NA', 'NA': 56.0}],\n",
    "          [{'name': 'long_97', 'cat_pop': 0.0},\n",
    "           {'name': 'long_139', 'cat_pop': 0.0},\n",
    "           {'name': 'long_12', 'cat_pop': 0.0},\n",
    "           {'name': 'long_134', 'cat_pop': 0.0},\n",
    "           {'name': 'long_21', 'cat_pop': 0.0},\n",
    "           {'name': 'long_44', 'cat_pop': 0.0},\n",
    "           {'name': 'long_58', 'cat_pop': 0.0},\n",
    "           {'name': 'longtail', 'longtail': 77.0},\n",
    "           {'name': 'NA', 'NA': 20.0}],\n",
    "          [{'name': 'long_113', 'cat_pop': 0.0},\n",
    "           {'name': 'long_116', 'cat_pop': 0.0},\n",
    "           {'name': 'long_33', 'cat_pop': 0.0},\n",
    "           {'name': 'long_72', 'cat_pop': 0.0},\n",
    "           {'name': 'long_122', 'cat_pop': 0.0},\n",
    "           {'name': 'long_6', 'cat_pop': 0.0},\n",
    "           {'name': 'long_83', 'cat_pop': 0.0},\n",
    "           {'name': 'longtail', 'unique': 50.0, 'longtail': 47.0}]]})\n",
    "from buckaroo.customizations.analysis import TypingStats\n",
    "from buckaroo.buckaroo_widget import BuckarooWidget\n",
    "class PdGalleryBuckaroo(BuckarooWidget):\n",
    "    analysis_klasses = [GalleryStyling, TypingStats]\n",
    "PdGalleryBuckaroo(histo_df,\n",
    "                   column_config_overrides={\n",
    "                    'histogram_props': {'displayer_args': {'displayer': 'histogram'}}})\n",
    "#Fixme, this doesn't work with polars right now, probably related to the object dtype problem"
   ]
  },
  {
   "cell_type": "code",
   "execution_count": null,
   "id": "11",
   "metadata": {
    "tags": []
   },
   "outputs": [],
   "source": [
    "png_smiley = 'iVBORw0KGgoAAAANSUhEUgAAABgAAAAYCAYAAADgdz34AAAABHNCSVQICAgIfAhkiAAAAAlwSFlzAAAApgAAAKYB3X3/OAAAABl0RVh0U29mdHdhcmUAd3d3Lmlua3NjYXBlLm9yZ5vuPBoAAANCSURBVEiJtZZPbBtFFMZ/M7ubXdtdb1xSFyeilBapySVU8h8OoFaooFSqiihIVIpQBKci6KEg9Q6H9kovIHoCIVQJJCKE1ENFjnAgcaSGC6rEnxBwA04Tx43t2FnvDAfjkNibxgHxnWb2e/u992bee7tCa00YFsffekFY+nUzFtjW0LrvjRXrCDIAaPLlW0nHL0SsZtVoaF98mLrx3pdhOqLtYPHChahZcYYO7KvPFxvRl5XPp1sN3adWiD1ZAqD6XYK1b/dvE5IWryTt2udLFedwc1+9kLp+vbbpoDh+6TklxBeAi9TL0taeWpdmZzQDry0AcO+jQ12RyohqqoYoo8RDwJrU+qXkjWtfi8Xxt58BdQuwQs9qC/afLwCw8tnQbqYAPsgxE1S6F3EAIXux2oQFKm0ihMsOF71dHYx+f3NND68ghCu1YIoePPQN1pGRABkJ6Bus96CutRZMydTl+TvuiRW1m3n0eDl0vRPcEysqdXn+jsQPsrHMquGeXEaY4Yk4wxWcY5V/9scqOMOVUFthatyTy8QyqwZ+kDURKoMWxNKr2EeqVKcTNOajqKoBgOE28U4tdQl5p5bwCw7BWquaZSzAPlwjlithJtp3pTImSqQRrb2Z8PHGigD4RZuNX6JYj6wj7O4TFLbCO/Mn/m8R+h6rYSUb3ekokRY6f/YukArN979jcW+V/S8g0eT/N3VN3kTqWbQ428m9/8k0P/1aIhF36PccEl6EhOcAUCrXKZXXWS3XKd2vc/TRBG9O5ELC17MmWubD2nKhUKZa26Ba2+D3P+4/MNCFwg59oWVeYhkzgN/JDR8deKBoD7Y+ljEjGZ0sosXVTvbc6RHirr2reNy1OXd6pJsQ+gqjk8VWFYmHrwBzW/n+uMPFiRwHB2I7ih8ciHFxIkd/3Omk5tCDV1t+2nNu5sxxpDFNx+huNhVT3/zMDz8usXC3ddaHBj1GHj/As08fwTS7Kt1HBTmyN29vdwAw+/wbwLVOJ3uAD1wi/dUH7Qei66PfyuRj4Ik9is+hglfbkbfR3cnZm7chlUWLdwmprtCohX4HUtlOcQjLYCu+fzGJH2QRKvP3UNz8bWk1qMxjGTOMThZ3kvgLI5AzFfo379UAAAAASUVORK5CYII=';"
   ]
  },
  {
   "cell_type": "code",
   "execution_count": null,
   "id": "12",
   "metadata": {
    "tags": []
   },
   "outputs": [],
   "source": [
    "img_df = pd.DataFrame({'raw':            [png_smiley, None],\n",
    "                    'img_displayer' : [png_smiley, None]})\n",
    "BuckarooWidget(img_df,\n",
    "               column_config_overrides={\n",
    "                   'raw':           {'displayer_args': {'displayer': 'string', 'max_length':40}},\n",
    "                   'img_displayer': {'displayer_args': {'displayer': 'Base64PNGImageDisplayer'}, 'ag_grid_specs' : {'width':150}}})"
   ]
  },
  {
   "cell_type": "markdown",
   "id": "13",
   "metadata": {},
   "source": [
    "# Tooltips"
   ]
  },
  {
   "cell_type": "code",
   "execution_count": null,
   "id": "14",
   "metadata": {
    "tags": []
   },
   "outputs": [],
   "source": [
    "ROWS = 200\n",
    "typed_df = pd.DataFrame({'int_col':np.random.randint(1,50, ROWS), 'float_col': np.random.randint(1,30, ROWS)/.7,\n",
    "                         \"str_col\": [\"foobar\"]* ROWS})\n",
    "bw = BuckarooWidget(\n",
    "    typed_df, \n",
    "    column_config_overrides={\n",
    "        'str_col':\n",
    "            {'tooltip_config': { 'tooltip_type':'simple', 'val_column': 'int_col'}}})\n",
    "bw"
   ]
  },
  {
   "cell_type": "code",
   "execution_count": null,
   "id": "15",
   "metadata": {},
   "outputs": [],
   "source": [
    "bw.df_display_args"
   ]
  },
  {
   "cell_type": "markdown",
   "id": "16",
   "metadata": {},
   "source": [
    "# Color_map_config\n",
    "```ts\n",
    "//ColorMapRules\n",
    "export interface ColorMapRules {\n",
    "  color_rule: 'color_map';\n",
    "  map_name: 'BLUE_TO_YELLOW' | 'DIVERGING_RED_WHITE_BLUE';\n",
    "  //optional, the column to base the ranges on.  the proper histogram_bins must still be sent in for that column\n",
    "  val_column?: string;\n",
    "}\n",
    "\n",
    "//if exist_column is not null,  set cell style to condtional_color... used for highlighting changed values or errored_rows\n",
    "export interface ColorWhenNotNullRules {\n",
    "  color_rule: 'color_not_null';\n",
    "  conditional_color: string | 'red';\n",
    "  exist_column: string;\n",
    "}\n",
    "\n",
    "export interface ColorFromColumn {\n",
    "  color_rule: 'color_from_column';\n",
    "  col_name: string;\n",
    "}\n",
    "```"
   ]
  },
  {
   "cell_type": "code",
   "execution_count": null,
   "id": "17",
   "metadata": {
    "tags": []
   },
   "outputs": [],
   "source": [
    "BuckarooWidget(\n",
    "    typed_df, \n",
    "    column_config_overrides={\n",
    "        'float_col': {'color_map_config': {\n",
    "          'color_rule': 'color_map',\n",
    "          'map_name': 'BLUE_TO_YELLOW',\n",
    "        }}})"
   ]
  },
  {
   "cell_type": "code",
   "execution_count": null,
   "id": "18",
   "metadata": {
    "tags": []
   },
   "outputs": [],
   "source": [
    "error_df = pd.DataFrame({\n",
    "    'a': [10, 20, 30],\n",
    "    'err_messages': [None, \"a must be less than 19, it is 20\", \"a must be less than 19, it is 30\"]})\n",
    "\n",
    "BuckarooWidget(\n",
    "    error_df, \n",
    "    column_config_overrides={\n",
    "        'a': {'color_map_config': {\n",
    "            'color_rule': 'color_not_null',\n",
    "            'conditional_color': 'red',\n",
    "            'exist_column': 'err_messages'}}})"
   ]
  },
  {
   "cell_type": "code",
   "execution_count": null,
   "id": "19",
   "metadata": {
    "tags": []
   },
   "outputs": [],
   "source": [
    "color_df = pd.DataFrame({\n",
    "    'a': [10, 20, 30],\n",
    "    'a_colors': ['red', '#d3a', 'green']})\n",
    "\n",
    "BuckarooWidget(\n",
    "    color_df, \n",
    "    column_config_overrides={\n",
    "        'a': { 'color_map_config': {\n",
    "          'color_rule': 'color_from_column',\n",
    "          'col_name': 'a_colors'}}})"
   ]
  },
  {
   "cell_type": "markdown",
   "id": "20",
   "metadata": {},
   "source": [
    "Extra col def type\n",
    "\n",
    "`ag_grid_specs`\n",
    "only to be used for very specific hacking.  You can set any primitive property, but can't set function props\n",
    "https://github.com/ag-grid/ag-grid/blob/latest/packages/ag-grid-community/src/entities/colDef.ts"
   ]
  },
  {
   "cell_type": "markdown",
   "id": "21",
   "metadata": {},
   "source": [
    "# Utility Code"
   ]
  },
  {
   "cell_type": "code",
   "execution_count": null,
   "id": "22",
   "metadata": {
    "tags": []
   },
   "outputs": [],
   "source": [
    "#utility code for generating histogram data structures\n",
    "from buckaroo.buckaroo_widget import BuckarooWidget\n",
    "\n",
    "NA = pd.NA\n",
    "def rand_cat(named_p, na_per, N):\n",
    "    choices, p = [], []\n",
    "    named_total_per = sum(named_p.values()) + na_per\n",
    "    total_len = int(np.floor(named_total_per * N))\n",
    "    if named_total_per > 0:\n",
    "        for k, v in named_p.items():\n",
    "            choices.append(k)\n",
    "            p.append(v/named_total_per)\n",
    "\n",
    "        choices.append(NA)\n",
    "        p.append(na_per/named_total_per)    \n",
    "        return [np.random.choice(choices, p=p) for k in range(total_len)]\n",
    "    else:\n",
    "        return []\n",
    "\n",
    "def random_categorical(named_p, unique_per, na_per, longtail_per, N):\n",
    "    choice_arr = rand_cat(named_p, na_per, N)\n",
    "    discrete_choice_len = len(choice_arr)\n",
    "\n",
    "    longtail_count = int(np.floor(longtail_per * N))//2\n",
    "    extra_arr = []\n",
    "    for i in range(longtail_count):\n",
    "        extra_arr.append(\"long_%d\" % i)\n",
    "        extra_arr.append(\"long_%d\" % i)\n",
    "\n",
    "    unique_len = N - (len(extra_arr) + discrete_choice_len)\n",
    "    #print(\"discrete_choice_len\", discrete_choice_len, \"longtail_count\", longtail_count, \"unique_len\", unique_len)\n",
    "    for i in range(unique_len):\n",
    "        extra_arr.append(\"unique_%d\" % i)\n",
    "    all_arr = np.concatenate([choice_arr, extra_arr])\n",
    "    np.random.shuffle(all_arr)\n",
    "    return all_arr        \n",
    "cat_histo_df = pd.DataFrame({\n",
    "    'all_NA' :          [NA] * N,\n",
    "    'half_NA' :         random_categorical({1: .5}, unique_per=0,   na_per=.5, longtail_per=.0, N=N),\n",
    "    'longtail' :        random_categorical({},      unique_per=0,   na_per=.2, longtail_per=.8, N=N),\n",
    "    'longtail_unique' : random_categorical({},      unique_per=0.5, na_per=.0, longtail_per=.5, N=N),\n",
    "})\n",
    "bw = BuckarooWidget(\n",
    "    cat_histo_df, \n",
    "    pinned_rows=[\n",
    "        { 'primary_key_val': 'dtype',     'displayer_args': { 'displayer': 'obj' } },\n",
    "        { 'primary_key_val': 'histogram', 'displayer_args': { 'displayer': 'histogram' }},   \n",
    "    ])\n",
    "histogram_vals = [x for x in bw.df_data_dict['all_stats'] if x['index'] == 'histogram'][0]\n",
    "def format_histo(bw):\n",
    "    histogram_vals = [x for x in bw.df_data_dict['all_stats'] if x['index'] == 'histogram'][0]\n",
    "    return dict(\n",
    "        names = list(histogram_vals.keys()),\n",
    "        histogram_props = list(histogram_vals.values()))\n",
    "format_histo(bw)"
   ]
  },
  {
   "cell_type": "code",
   "execution_count": null,
   "id": "23",
   "metadata": {},
   "outputs": [],
   "source": []
  }
 ],
 "metadata": {
  "kernelspec": {
   "display_name": "Python 3 (ipykernel)",
   "language": "python",
   "name": "python3"
  },
  "language_info": {
   "codemirror_mode": {
    "name": "ipython",
    "version": 3
   },
   "file_extension": ".py",
   "mimetype": "text/x-python",
   "name": "python",
   "nbconvert_exporter": "python",
   "pygments_lexer": "ipython3",
   "version": "3.9.20"
  },
  "widgets": {
   "application/vnd.jupyter.widget-state+json": {
    "state": {
     "10d50be71d3746c78a7ae7c8347ce74f": {
      "model_module": "@jupyter-widgets/base",
      "model_module_version": "2.0.0",
      "model_name": "LayoutModel",
      "state": {}
     },
     "27559e15607a4e8f9379416a78c1e1b7": {
      "model_module": "@jupyter-widgets/base",
      "model_module_version": "2.0.0",
      "model_name": "LayoutModel",
      "state": {}
     },
     "3c188705806d42a8bdfbfe89020213a9": {
      "model_module": "buckaroo",
      "model_module_version": "^0.7.9",
      "model_name": "DCEFWidgetModel",
      "state": {
       "_model_module_version": "^0.7.9",
       "_view_module_version": "^0.7.9",
       "_view_name": "DCEFWidgetView",
       "buckaroo_options": {
        "auto_clean": [
         "aggressive",
         "conservative"
        ],
        "df_display": [
         "main",
         "summary"
        ],
        "post_processing": [
         ""
        ],
        "sampled": [
         "random"
        ],
        "show_commands": [
         "on"
        ],
        "summary_stats": [
         "all"
        ]
       },
       "buckaroo_state": {
        "cleaning_method": "NoCleaning",
        "df_display": "main",
        "post_processing": "",
        "quick_command_args": {},
        "sampled": false,
        "search_string": "",
        "show_commands": false
       },
       "commandConfig": {
        "argspecs": {
         "drop_duplicates": [
          [
           3,
           "keep",
           "enum",
           [
            "first",
            "last",
            "False"
           ]
          ]
         ],
         "dropcol": [
          null
         ],
         "fillna": [
          [
           3,
           "fillVal",
           "type",
           "integer"
          ]
         ],
         "groupby": [
          [
           3,
           "colMap",
           "colEnum",
           [
            "null",
            "mean",
            "median",
            "min",
            "max",
            "sum",
            "count",
            "count_null",
            "std",
            "empty",
            "h",
            "nunique",
            "is_monotonic",
            "is_monotonic_decreasing",
            "is_monotonic_increasing",
            "all",
            "any",
            "autocorr",
            "kurt",
            "mad",
            "sem",
            "skew",
            "i",
            "idxmin",
            "dtype",
            "dtypes",
            "nbytes",
            "ndim",
            "size"
           ]
          ]
         ],
         "groupby_transform": [
          [
           3,
           "colMap",
           "colEnum",
           [
            "null",
            "mean",
            "median",
            "min",
            "max",
            "sum",
            "count",
            "count_null",
            "std",
            "empty",
            "h",
            "nunique",
            "is_monotonic",
            "is_monotonic_decreasing",
            "is_monotonic_increasing",
            "all",
            "any",
            "autocorr",
            "kurt",
            "mad",
            "sem",
            "skew",
            "i",
            "idxmin",
            "dtype",
            "dtypes",
            "nbytes",
            "ndim",
            "size"
           ]
          ]
         ],
         "linear_regression": [
          [
           3,
           "x_cols",
           "colEnum",
           [
            "null",
            "basic",
            "one_hot"
           ]
          ]
         ],
         "make_category": [
          null
         ],
         "only_outliers": [
          [
           3,
           "only_outliers",
           "type",
           "float"
          ]
         ],
         "rank": [
          [
           3,
           "method",
           "enum",
           [
            "None",
            "min",
            "dense"
           ]
          ],
          [
           4,
           "new_col",
           "bool"
          ]
         ],
         "remove_outliers": [
          [
           3,
           "remove_outliers",
           "type",
           "float"
          ]
         ],
         "safe_int": [
          null
         ],
         "search": [
          [
           3,
           "term",
           "type",
           "string"
          ]
         ],
         "search_col": [
          [
           3,
           "term",
           "type",
           "string"
          ]
         ]
        },
        "defaultArgs": {
         "drop_duplicates": [
          {
           "symbol": "drop_duplicates"
          },
          {
           "symbol": "df"
          },
          "col",
          "first"
         ],
         "dropcol": [
          {
           "symbol": "dropcol"
          },
          {
           "symbol": "df"
          },
          "col"
         ],
         "fillna": [
          {
           "symbol": "fillna"
          },
          {
           "symbol": "df"
          },
          "col",
          8
         ],
         "groupby": [
          {
           "symbol": "groupby"
          },
          {
           "symbol": "df"
          },
          "col",
          {}
         ],
         "groupby_transform": [
          {
           "symbol": "groupby_transform"
          },
          {
           "symbol": "df"
          },
          "col",
          {}
         ],
         "linear_regression": [
          {
           "symbol": "linear_regression"
          },
          {
           "symbol": "df"
          },
          "col",
          {}
         ],
         "make_category": [
          {
           "symbol": "make_category"
          },
          {
           "symbol": "df"
          },
          "col"
         ],
         "only_outliers": [
          {
           "symbol": "only_outliers"
          },
          {
           "symbol": "df"
          },
          "col",
          0.01
         ],
         "rank": [
          {
           "symbol": "rank"
          },
          {
           "symbol": "df"
          },
          "col",
          "None",
          false
         ],
         "remove_outliers": [
          {
           "symbol": "remove_outliers"
          },
          {
           "symbol": "df"
          },
          "col",
          0.01
         ],
         "safe_int": [
          {
           "symbol": "safe_int"
          },
          {
           "symbol": "df"
          },
          "col"
         ],
         "search": [
          {
           "symbol": "search"
          },
          {
           "symbol": "df"
          },
          "col",
          ""
         ],
         "search_col": [
          {
           "symbol": "search_col"
          },
          {
           "symbol": "df"
          },
          "col",
          ""
         ]
        }
       },
       "df_data_dict": {
        "all_stats": [
         {
          "bools": "object",
          "dicts": "object",
          "index": "dtype",
          "ints": "float64",
          "lists": "object",
          "lists-int": "object",
          "lists-string": "object",
          "nested_dicts": "object",
          "timestamp": "object"
         },
         {
          "bools": false,
          "dicts": false,
          "index": "is_numeric",
          "ints": true,
          "lists": false,
          "lists-int": false,
          "lists-string": false,
          "nested_dicts": false,
          "timestamp": false
         },
         {
          "bools": false,
          "dicts": false,
          "index": "is_integer",
          "ints": false,
          "lists": false,
          "lists-int": false,
          "lists-string": false,
          "nested_dicts": false,
          "timestamp": false
         },
         {
          "bools": false,
          "dicts": false,
          "index": "is_datetime",
          "ints": false,
          "lists": false,
          "lists-int": false,
          "lists-string": false,
          "nested_dicts": false,
          "timestamp": false
         },
         {
          "bools": false,
          "dicts": false,
          "index": "is_bool",
          "ints": false,
          "lists": false,
          "lists-int": false,
          "lists-string": false,
          "nested_dicts": false,
          "timestamp": false
         },
         {
          "bools": false,
          "dicts": false,
          "index": "is_float",
          "ints": true,
          "lists": false,
          "lists-int": false,
          "lists-string": false,
          "nested_dicts": false,
          "timestamp": false
         },
         {
          "bools": "obj",
          "dicts": "obj",
          "index": "_type",
          "ints": "float",
          "lists": "obj",
          "lists-int": "obj",
          "lists-string": "obj",
          "nested_dicts": "obj",
          "timestamp": "obj"
         },
         {
          "bools": false,
          "dicts": false,
          "index": "is_string",
          "ints": false,
          "lists": false,
          "lists-int": false,
          "lists-string": false,
          "nested_dicts": false,
          "timestamp": false
         },
         {
          "bools": 176,
          "dicts": 176,
          "index": "memory_usage",
          "ints": 176,
          "lists": 176,
          "lists-int": 176,
          "lists-string": 176,
          "nested_dicts": 176,
          "timestamp": 176
         },
         {
          "bools": 6,
          "dicts": 6,
          "index": "length",
          "ints": 6,
          "lists": 6,
          "lists-int": 6,
          "lists-string": 6,
          "nested_dicts": 6,
          "timestamp": 6
         },
         {
          "bools": null,
          "dicts": null,
          "index": "min",
          "ints": -10,
          "lists": null,
          "lists-int": null,
          "lists-string": null,
          "nested_dicts": null,
          "timestamp": null
         },
         {
          "bools": null,
          "dicts": null,
          "index": "max",
          "ints": 7772,
          "lists": null,
          "lists-int": null,
          "lists-string": null,
          "nested_dicts": null,
          "timestamp": null
         },
         {
          "bools": 0,
          "dicts": 0,
          "index": "mean",
          "ints": 1563.4,
          "lists": 0,
          "lists-int": 0,
          "lists-string": 0,
          "nested_dicts": 0,
          "timestamp": 0
         },
         {
          "bools": 1,
          "dicts": 5,
          "index": "nan_count",
          "ints": 1,
          "lists": 4,
          "lists-int": 3,
          "lists-string": 4,
          "nested_dicts": 5,
          "timestamp": 2
         },
         {
          "bools": [
           3,
           2
          ],
          "dicts": [
           1
          ],
          "index": "value_counts",
          "ints": [
           1,
           1,
           1,
           1,
           1
          ],
          "lists": [
           1,
           1
          ],
          "lists-int": [
           1,
           1,
           1
          ],
          "lists-string": [
           1,
           1
          ],
          "nested_dicts": [
           1
          ],
          "timestamp": [
           1,
           1,
           1,
           1
          ]
         },
         {
          "bools": true,
          "dicts": {
           "a": 10,
           "b": 20,
           "c": "some string"
          },
          "index": "mode",
          "ints": -10,
          "lists": [
           "a",
           "b"
          ],
          "lists-int": [
           8
          ],
          "lists-string": [
           "a",
           "b"
          ],
          "nested_dicts": {
           "level_1": {
            "a": 10,
            "b": 20,
            "c": "some string"
           }
          },
          "timestamp": "2020-01-01 01:00Z"
         },
         {
          "bools": 0.3333333333,
          "dicts": 0.1666666667,
          "index": "distinct_per",
          "ints": 0.8333333333,
          "lists": 0.3333333333,
          "lists-int": 0.5,
          "lists-string": 0.3333333333,
          "nested_dicts": 0.1666666667,
          "timestamp": 0.6666666667
         },
         {
          "bools": 0,
          "dicts": 0,
          "index": "empty_per",
          "ints": 0,
          "lists": 0,
          "lists-int": 0,
          "lists-string": 0,
          "nested_dicts": 0,
          "timestamp": 0
         },
         {
          "bools": 0,
          "dicts": 0.1666666667,
          "index": "unique_per",
          "ints": 0.8333333333,
          "lists": 0.3333333333,
          "lists-int": 0.5,
          "lists-string": 0.3333333333,
          "nested_dicts": 0.1666666667,
          "timestamp": 0.6666666667
         },
         {
          "bools": 0.1666666667,
          "dicts": 0.8333333333,
          "index": "nan_per",
          "ints": 0.1666666667,
          "lists": 0.6666666667,
          "lists-int": 0.5,
          "lists-string": 0.6666666667,
          "nested_dicts": 0.8333333333,
          "timestamp": 0.3333333333
         },
         {
          "bools": 0,
          "dicts": 1,
          "index": "unique_count",
          "ints": 5,
          "lists": 2,
          "lists-int": 3,
          "lists-string": 2,
          "nested_dicts": 1,
          "timestamp": 4
         },
         {
          "bools": 0,
          "dicts": 0,
          "index": "empty_count",
          "ints": 0,
          "lists": 0,
          "lists-int": 0,
          "lists-string": 0,
          "nested_dicts": 0,
          "timestamp": 0
         },
         {
          "bools": 2,
          "dicts": 1,
          "index": "distinct_count",
          "ints": 5,
          "lists": 2,
          "lists-int": 3,
          "lists-string": 2,
          "nested_dicts": 1,
          "timestamp": 4
         },
         {
          "bools": [
           {
            "cat_pop": 50,
            "name": true
           },
           {
            "cat_pop": 33,
            "name": false
           },
           {
            "NA": 17,
            "name": "NA"
           }
          ],
          "dicts": [
           {
            "cat_pop": 17,
            "name": "{'a': 10, 'b': 20, 'c': 'some string'}"
           },
           {
            "name": "longtail",
            "unique": 17
           },
           {
            "NA": 83,
            "name": "NA"
           }
          ],
          "index": "histogram",
          "ints": [
           {
            "cat_pop": 17,
            "name": 5
           },
           {
            "cat_pop": 17,
            "name": 20
           },
           {
            "cat_pop": 17,
            "name": 30
           },
           {
            "cat_pop": 17,
            "name": -10
           },
           {
            "cat_pop": 17,
            "name": 7772
           },
           {
            "name": "longtail",
            "unique": 83
           },
           {
            "NA": 17,
            "name": "NA"
           }
          ],
          "lists": [
           {
            "cat_pop": 17,
            "name": "['a', 'b']"
           },
           {
            "cat_pop": 17,
            "name": "[1, 2]"
           },
           {
            "name": "longtail",
            "unique": 33
           },
           {
            "NA": 67,
            "name": "NA"
           }
          ],
          "lists-int": [
           {
            "cat_pop": 17,
            "name": "[10, 20]"
           },
           {
            "cat_pop": 17,
            "name": "[100, 500]"
           },
           {
            "cat_pop": 17,
            "name": "[8]"
           },
           {
            "name": "longtail",
            "unique": 50
           },
           {
            "NA": 50,
            "name": "NA"
           }
          ],
          "lists-string": [
           {
            "cat_pop": 17,
            "name": "['a', 'b']"
           },
           {
            "cat_pop": 17,
            "name": "['foo', 'bar']"
           },
           {
            "name": "longtail",
            "unique": 33
           },
           {
            "NA": 67,
            "name": "NA"
           }
          ],
          "nested_dicts": [
           {
            "cat_pop": 17,
            "name": "{'level_1': {'a': 10, 'b': 20, 'c': 'some string'}}"
           },
           {
            "name": "longtail",
            "unique": 17
           },
           {
            "NA": 83,
            "name": "NA"
           }
          ],
          "timestamp": [
           {
            "cat_pop": 17,
            "name": "2020-01-01 01:00Z"
           },
           {
            "cat_pop": 17,
            "name": "2020-01-01 02:00Z"
           },
           {
            "cat_pop": 17,
            "name": "2020-02-28 02:00Z"
           },
           {
            "cat_pop": 17,
            "name": "2020-03-15 02:00Z"
           },
           {
            "name": "longtail",
            "unique": 67
           },
           {
            "NA": 33,
            "name": "NA"
           }
          ]
         },
         {
          "bools": {},
          "dicts": {},
          "index": "histogram_args",
          "ints": {
           "high_tail": 7462.32,
           "low_tail": -9.4,
           "meat_histogram": [
            [
             1,
             0,
             0,
             0,
             0,
             0,
             1,
             0,
             0,
             1
            ],
            [
             5,
             7.5,
             10,
             12.5,
             15,
             17.5,
             20,
             22.5,
             25,
             27.5,
             30
            ]
           ],
           "normalized_populations": [
            0.3333333333,
            0,
            0,
            0,
            0,
            0,
            0.3333333333,
            0,
            0,
            0.3333333333
           ]
          },
          "lists": {},
          "lists-int": {},
          "lists-string": {},
          "nested_dicts": {},
          "timestamp": {}
         },
         {
          "bools": [],
          "dicts": [],
          "index": "histogram_bins",
          "ints": [
           5,
           7.5,
           10,
           12.5,
           15,
           17.5,
           20,
           22.5,
           25,
           27.5,
           30
          ],
          "lists": [],
          "lists-int": [],
          "lists-string": [],
          "nested_dicts": [],
          "timestamp": []
         },
         {
          "bools": 5,
          "dicts": 1,
          "index": "non_null_count",
          "ints": 5,
          "lists": 2,
          "lists-int": 3,
          "lists-string": 2,
          "nested_dicts": 1,
          "timestamp": 4
         },
         {
          "bools": 1,
          "dicts": 5,
          "index": "null_count",
          "ints": 1,
          "lists": 4,
          "lists-int": 3,
          "lists-string": 4,
          "nested_dicts": 5,
          "timestamp": 2
         },
         {
          "bools": true,
          "dicts": {
           "a": 10,
           "b": 20,
           "c": "some string"
          },
          "index": "most_freq",
          "ints": 5,
          "lists": [
           "a",
           "b"
          ],
          "lists-int": [
           10,
           20
          ],
          "lists-string": [
           "a",
           "b"
          ],
          "nested_dicts": {
           "level_1": {
            "a": 10,
            "b": 20,
            "c": "some string"
           }
          },
          "timestamp": "2020-01-01 01:00Z"
         },
         {
          "bools": false,
          "dicts": null,
          "index": "2nd_freq",
          "ints": 20,
          "lists": [
           1,
           2
          ],
          "lists-int": [
           100,
           500
          ],
          "lists-string": [
           "foo",
           "bar"
          ],
          "nested_dicts": null,
          "timestamp": "2020-01-01 02:00Z"
         },
         {
          "bools": null,
          "dicts": null,
          "index": "3rd_freq",
          "ints": 30,
          "lists": null,
          "lists-int": [
           8
          ],
          "lists-string": null,
          "nested_dicts": null,
          "timestamp": "2020-02-28 02:00Z"
         },
         {
          "bools": null,
          "dicts": null,
          "index": "4th_freq",
          "ints": -10,
          "lists": null,
          "lists-int": null,
          "lists-string": null,
          "nested_dicts": null,
          "timestamp": "2020-03-15 02:00Z"
         },
         {
          "bools": null,
          "dicts": null,
          "index": "5th_freq",
          "ints": 7772,
          "lists": null,
          "lists-int": null,
          "lists-string": null,
          "nested_dicts": null,
          "timestamp": null
         }
        ],
        "empty": [],
        "main": [
         {
          "bools": true,
          "dicts": {
           "a": 10,
           "b": 20,
           "c": "some string"
          },
          "index": 0,
          "ints": 5,
          "lists": [
           "a",
           "b"
          ],
          "lists-int": [
           10,
           20
          ],
          "lists-string": [
           "a",
           "b"
          ],
          "nested_dicts": {
           "level_1": {
            "a": 10,
            "b": 20,
            "c": "some string"
           }
          },
          "timestamp": "2020-01-01 01:00Z"
         },
         {
          "bools": true,
          "dicts": null,
          "index": 1,
          "ints": 20,
          "lists": [
           1,
           2
          ],
          "lists-int": [
           100,
           500
          ],
          "lists-string": [
           "foo",
           "bar"
          ],
          "nested_dicts": null,
          "timestamp": "2020-01-01 02:00Z"
         },
         {
          "bools": false,
          "dicts": null,
          "index": 2,
          "ints": 30,
          "lists": null,
          "lists-int": [
           8
          ],
          "lists-string": null,
          "nested_dicts": null,
          "timestamp": "2020-02-28 02:00Z"
         },
         {
          "bools": false,
          "dicts": null,
          "index": 3,
          "ints": -10,
          "lists": null,
          "lists-int": null,
          "lists-string": null,
          "nested_dicts": null,
          "timestamp": "2020-03-15 02:00Z"
         },
         {
          "bools": true,
          "dicts": null,
          "index": 4,
          "ints": 7772,
          "lists": null,
          "lists-int": null,
          "lists-string": null,
          "nested_dicts": null,
          "timestamp": null
         },
         {
          "bools": null,
          "dicts": null,
          "index": 5,
          "ints": null,
          "lists": null,
          "lists-int": null,
          "lists-string": null,
          "nested_dicts": null,
          "timestamp": null
         }
        ]
       },
       "df_display_args": {
        "main": {
         "data_key": "main",
         "df_viewer_config": {
          "column_config": [
           {
            "col_name": "index",
            "displayer_args": {
             "displayer": "float",
             "max_fraction_digits": 0,
             "min_fraction_digits": 0
            }
           },
           {
            "col_name": "bools",
            "displayer_args": {
             "displayer": "obj"
            },
            "tooltip_config": {
             "tooltip_type": "simple",
             "val_column": "bools"
            }
           },
           {
            "col_name": "ints",
            "displayer_args": {
             "displayer": "float",
             "max_fraction_digits": 3,
             "min_fraction_digits": 3
            }
           },
           {
            "col_name": "timestamp",
            "displayer_args": {
             "displayer": "obj"
            },
            "tooltip_config": {
             "tooltip_type": "simple",
             "val_column": "timestamp"
            }
           },
           {
            "col_name": "dicts",
            "displayer_args": {
             "displayer": "obj"
            },
            "tooltip_config": {
             "tooltip_type": "simple",
             "val_column": "dicts"
            }
           },
           {
            "col_name": "nested_dicts",
            "displayer_args": {
             "displayer": "obj"
            },
            "tooltip_config": {
             "tooltip_type": "simple",
             "val_column": "nested_dicts"
            }
           },
           {
            "col_name": "lists",
            "displayer_args": {
             "displayer": "obj"
            },
            "tooltip_config": {
             "tooltip_type": "simple",
             "val_column": "lists"
            }
           },
           {
            "col_name": "lists-string",
            "displayer_args": {
             "displayer": "obj"
            },
            "tooltip_config": {
             "tooltip_type": "simple",
             "val_column": "lists-string"
            }
           },
           {
            "col_name": "lists-int",
            "displayer_args": {
             "displayer": "obj"
            },
            "tooltip_config": {
             "tooltip_type": "simple",
             "val_column": "lists-int"
            }
           }
          ],
          "component_config": {
           "className": "asdf",
           "selectionBackground": "var(--ag-range-selection-background-color-)"
          },
          "extra_grid_config": {},
          "pinned_rows": [
           {
            "displayer_args": {
             "displayer": "obj"
            },
            "primary_key_val": "dtype"
           },
           {
            "displayer_args": {
             "displayer": "histogram"
            },
            "primary_key_val": "histogram"
           }
          ]
         },
         "summary_stats_key": "all_stats"
        },
        "summary": {
         "data_key": "empty",
         "df_viewer_config": {
          "column_config": [
           {
            "col_name": "index",
            "displayer_args": {
             "displayer": "obj"
            }
           },
           {
            "col_name": "bools",
            "displayer_args": {
             "displayer": "obj"
            }
           },
           {
            "col_name": "ints",
            "displayer_args": {
             "displayer": "obj"
            }
           },
           {
            "col_name": "timestamp",
            "displayer_args": {
             "displayer": "obj"
            }
           },
           {
            "col_name": "dicts",
            "displayer_args": {
             "displayer": "obj"
            }
           },
           {
            "col_name": "nested_dicts",
            "displayer_args": {
             "displayer": "obj"
            }
           },
           {
            "col_name": "lists",
            "displayer_args": {
             "displayer": "obj"
            }
           },
           {
            "col_name": "lists-string",
            "displayer_args": {
             "displayer": "obj"
            }
           },
           {
            "col_name": "lists-int",
            "displayer_args": {
             "displayer": "obj"
            }
           }
          ],
          "component_config": {},
          "extra_grid_config": {},
          "pinned_rows": [
           {
            "displayer_args": {
             "displayer": "obj"
            },
            "primary_key_val": "dtype"
           },
           {
            "displayer_args": {
             "displayer": "float",
             "max_fraction_digits": 0,
             "min_fraction_digits": 0
            },
            "primary_key_val": "non_null_count"
           },
           {
            "displayer_args": {
             "displayer": "float",
             "max_fraction_digits": 0,
             "min_fraction_digits": 0
            },
            "primary_key_val": "null_count"
           },
           {
            "displayer_args": {
             "displayer": "float",
             "max_fraction_digits": 3,
             "min_fraction_digits": 3
            },
            "primary_key_val": "mean"
           },
           {
            "displayer_args": {
             "displayer": "float",
             "max_fraction_digits": 3,
             "min_fraction_digits": 3
            },
            "primary_key_val": "std"
           },
           {
            "displayer_args": {
             "displayer": "float",
             "max_fraction_digits": 3,
             "min_fraction_digits": 3
            },
            "primary_key_val": "min"
           },
           {
            "displayer_args": {
             "displayer": "float",
             "max_fraction_digits": 3,
             "min_fraction_digits": 3
            },
            "primary_key_val": "25th"
           },
           {
            "displayer_args": {
             "displayer": "float",
             "max_fraction_digits": 3,
             "min_fraction_digits": 3
            },
            "primary_key_val": "median"
           },
           {
            "displayer_args": {
             "displayer": "float",
             "max_fraction_digits": 3,
             "min_fraction_digits": 3
            },
            "primary_key_val": "75th"
           },
           {
            "displayer_args": {
             "displayer": "float",
             "max_fraction_digits": 3,
             "min_fraction_digits": 3
            },
            "primary_key_val": "max"
           },
           {
            "displayer_args": {
             "displayer": "float",
             "max_fraction_digits": 0,
             "min_fraction_digits": 0
            },
            "primary_key_val": "unique_count"
           },
           {
            "displayer_args": {
             "displayer": "float",
             "max_fraction_digits": 0,
             "min_fraction_digits": 0
            },
            "primary_key_val": "distinct_count"
           },
           {
            "displayer_args": {
             "displayer": "obj"
            },
            "primary_key_val": "most_freq"
           },
           {
            "displayer_args": {
             "displayer": "obj"
            },
            "primary_key_val": "2nd_freq"
           },
           {
            "displayer_args": {
             "displayer": "obj"
            },
            "primary_key_val": "3rd_freq"
           },
           {
            "displayer_args": {
             "displayer": "obj"
            },
            "primary_key_val": "4th_freq"
           },
           {
            "displayer_args": {
             "displayer": "obj"
            },
            "primary_key_val": "5th_freq"
           }
          ]
         },
         "summary_stats_key": "all_stats"
        }
       },
       "df_meta": {
        "columns": 8,
        "filtered_rows": 6,
        "rows_shown": 6,
        "total_rows": 6
       },
       "layout": "IPY_MODEL_412c9b024d5045b28f46a0e2c93d5704",
       "operation_results": {
        "generated_py_code": "no operations",
        "transformed_df": null
       },
       "operations": []
      }
     },
     "412c9b024d5045b28f46a0e2c93d5704": {
      "model_module": "@jupyter-widgets/base",
      "model_module_version": "2.0.0",
      "model_name": "LayoutModel",
      "state": {}
     },
     "526cd4f5a42240ea82a5f744352e98d9": {
      "model_module": "buckaroo",
      "model_module_version": "^0.7.9",
      "model_name": "DCEFWidgetModel",
      "state": {
       "_model_module_version": "^0.7.9",
       "_view_module_version": "^0.7.9",
       "_view_name": "DCEFWidgetView",
       "buckaroo_options": {
        "auto_clean": [
         "aggressive",
         "conservative"
        ],
        "df_display": [
         "main",
         "summary"
        ],
        "post_processing": [
         ""
        ],
        "sampled": [
         "random"
        ],
        "show_commands": [
         "on"
        ],
        "summary_stats": [
         "all"
        ]
       },
       "buckaroo_state": {
        "cleaning_method": "NoCleaning",
        "df_display": "main",
        "post_processing": "",
        "quick_command_args": {},
        "sampled": false,
        "search_string": "",
        "show_commands": false
       },
       "commandConfig": {
        "argspecs": {
         "drop_duplicates": [
          [
           3,
           "keep",
           "enum",
           [
            "first",
            "last",
            "False"
           ]
          ]
         ],
         "dropcol": [
          null
         ],
         "fillna": [
          [
           3,
           "fillVal",
           "type",
           "integer"
          ]
         ],
         "groupby": [
          [
           3,
           "colMap",
           "colEnum",
           [
            "null",
            "mean",
            "median",
            "min",
            "max",
            "sum",
            "count",
            "count_null",
            "std",
            "empty",
            "h",
            "nunique",
            "is_monotonic",
            "is_monotonic_decreasing",
            "is_monotonic_increasing",
            "all",
            "any",
            "autocorr",
            "kurt",
            "mad",
            "sem",
            "skew",
            "i",
            "idxmin",
            "dtype",
            "dtypes",
            "nbytes",
            "ndim",
            "size"
           ]
          ]
         ],
         "groupby_transform": [
          [
           3,
           "colMap",
           "colEnum",
           [
            "null",
            "mean",
            "median",
            "min",
            "max",
            "sum",
            "count",
            "count_null",
            "std",
            "empty",
            "h",
            "nunique",
            "is_monotonic",
            "is_monotonic_decreasing",
            "is_monotonic_increasing",
            "all",
            "any",
            "autocorr",
            "kurt",
            "mad",
            "sem",
            "skew",
            "i",
            "idxmin",
            "dtype",
            "dtypes",
            "nbytes",
            "ndim",
            "size"
           ]
          ]
         ],
         "linear_regression": [
          [
           3,
           "x_cols",
           "colEnum",
           [
            "null",
            "basic",
            "one_hot"
           ]
          ]
         ],
         "make_category": [
          null
         ],
         "only_outliers": [
          [
           3,
           "only_outliers",
           "type",
           "float"
          ]
         ],
         "rank": [
          [
           3,
           "method",
           "enum",
           [
            "None",
            "min",
            "dense"
           ]
          ],
          [
           4,
           "new_col",
           "bool"
          ]
         ],
         "remove_outliers": [
          [
           3,
           "remove_outliers",
           "type",
           "float"
          ]
         ],
         "safe_int": [
          null
         ],
         "search": [
          [
           3,
           "term",
           "type",
           "string"
          ]
         ],
         "search_col": [
          [
           3,
           "term",
           "type",
           "string"
          ]
         ]
        },
        "defaultArgs": {
         "drop_duplicates": [
          {
           "symbol": "drop_duplicates"
          },
          {
           "symbol": "df"
          },
          "col",
          "first"
         ],
         "dropcol": [
          {
           "symbol": "dropcol"
          },
          {
           "symbol": "df"
          },
          "col"
         ],
         "fillna": [
          {
           "symbol": "fillna"
          },
          {
           "symbol": "df"
          },
          "col",
          8
         ],
         "groupby": [
          {
           "symbol": "groupby"
          },
          {
           "symbol": "df"
          },
          "col",
          {}
         ],
         "groupby_transform": [
          {
           "symbol": "groupby_transform"
          },
          {
           "symbol": "df"
          },
          "col",
          {}
         ],
         "linear_regression": [
          {
           "symbol": "linear_regression"
          },
          {
           "symbol": "df"
          },
          "col",
          {}
         ],
         "make_category": [
          {
           "symbol": "make_category"
          },
          {
           "symbol": "df"
          },
          "col"
         ],
         "only_outliers": [
          {
           "symbol": "only_outliers"
          },
          {
           "symbol": "df"
          },
          "col",
          0.01
         ],
         "rank": [
          {
           "symbol": "rank"
          },
          {
           "symbol": "df"
          },
          "col",
          "None",
          false
         ],
         "remove_outliers": [
          {
           "symbol": "remove_outliers"
          },
          {
           "symbol": "df"
          },
          "col",
          0.01
         ],
         "safe_int": [
          {
           "symbol": "safe_int"
          },
          {
           "symbol": "df"
          },
          "col"
         ],
         "search": [
          {
           "symbol": "search"
          },
          {
           "symbol": "df"
          },
          "col",
          ""
         ],
         "search_col": [
          {
           "symbol": "search_col"
          },
          {
           "symbol": "df"
          },
          "col",
          ""
         ]
        }
       },
       "df_data_dict": {
        "all_stats": [
         {
          "bools": "object",
          "dicts": "object",
          "index": "dtype",
          "ints": "float64",
          "lists": "object",
          "lists-int": "object",
          "lists-string": "object",
          "nested_dicts": "object",
          "timestamp": "object"
         },
         {
          "bools": false,
          "dicts": false,
          "index": "is_numeric",
          "ints": true,
          "lists": false,
          "lists-int": false,
          "lists-string": false,
          "nested_dicts": false,
          "timestamp": false
         },
         {
          "bools": false,
          "dicts": false,
          "index": "is_integer",
          "ints": false,
          "lists": false,
          "lists-int": false,
          "lists-string": false,
          "nested_dicts": false,
          "timestamp": false
         },
         {
          "bools": false,
          "dicts": false,
          "index": "is_datetime",
          "ints": false,
          "lists": false,
          "lists-int": false,
          "lists-string": false,
          "nested_dicts": false,
          "timestamp": false
         },
         {
          "bools": false,
          "dicts": false,
          "index": "is_bool",
          "ints": false,
          "lists": false,
          "lists-int": false,
          "lists-string": false,
          "nested_dicts": false,
          "timestamp": false
         },
         {
          "bools": false,
          "dicts": false,
          "index": "is_float",
          "ints": true,
          "lists": false,
          "lists-int": false,
          "lists-string": false,
          "nested_dicts": false,
          "timestamp": false
         },
         {
          "bools": "obj",
          "dicts": "obj",
          "index": "_type",
          "ints": "float",
          "lists": "obj",
          "lists-int": "obj",
          "lists-string": "obj",
          "nested_dicts": "obj",
          "timestamp": "obj"
         },
         {
          "bools": false,
          "dicts": false,
          "index": "is_string",
          "ints": false,
          "lists": false,
          "lists-int": false,
          "lists-string": false,
          "nested_dicts": false,
          "timestamp": false
         },
         {
          "bools": 176,
          "dicts": 176,
          "index": "memory_usage",
          "ints": 176,
          "lists": 176,
          "lists-int": 176,
          "lists-string": 176,
          "nested_dicts": 176,
          "timestamp": 176
         },
         {
          "bools": 6,
          "dicts": 6,
          "index": "length",
          "ints": 6,
          "lists": 6,
          "lists-int": 6,
          "lists-string": 6,
          "nested_dicts": 6,
          "timestamp": 6
         },
         {
          "bools": null,
          "dicts": null,
          "index": "min",
          "ints": -10,
          "lists": null,
          "lists-int": null,
          "lists-string": null,
          "nested_dicts": null,
          "timestamp": null
         },
         {
          "bools": null,
          "dicts": null,
          "index": "max",
          "ints": 7772,
          "lists": null,
          "lists-int": null,
          "lists-string": null,
          "nested_dicts": null,
          "timestamp": null
         },
         {
          "bools": 0,
          "dicts": 0,
          "index": "mean",
          "ints": 1563.4,
          "lists": 0,
          "lists-int": 0,
          "lists-string": 0,
          "nested_dicts": 0,
          "timestamp": 0
         },
         {
          "bools": 1,
          "dicts": 5,
          "index": "nan_count",
          "ints": 1,
          "lists": 4,
          "lists-int": 3,
          "lists-string": 4,
          "nested_dicts": 5,
          "timestamp": 2
         },
         {
          "bools": [
           3,
           2
          ],
          "dicts": [
           1
          ],
          "index": "value_counts",
          "ints": [
           1,
           1,
           1,
           1,
           1
          ],
          "lists": [
           1,
           1
          ],
          "lists-int": [
           1,
           1,
           1
          ],
          "lists-string": [
           1,
           1
          ],
          "nested_dicts": [
           1
          ],
          "timestamp": [
           1,
           1,
           1,
           1
          ]
         },
         {
          "bools": true,
          "dicts": {
           "a": 10,
           "b": 20,
           "c": "some string"
          },
          "index": "mode",
          "ints": -10,
          "lists": [
           "a",
           "b"
          ],
          "lists-int": [
           8
          ],
          "lists-string": [
           "a",
           "b"
          ],
          "nested_dicts": {
           "level_1": {
            "a": 10,
            "b": 20,
            "c": "some string"
           }
          },
          "timestamp": "2020-01-01 01:00Z"
         },
         {
          "bools": 0.3333333333,
          "dicts": 0.1666666667,
          "index": "distinct_per",
          "ints": 0.8333333333,
          "lists": 0.3333333333,
          "lists-int": 0.5,
          "lists-string": 0.3333333333,
          "nested_dicts": 0.1666666667,
          "timestamp": 0.6666666667
         },
         {
          "bools": 0,
          "dicts": 0,
          "index": "empty_per",
          "ints": 0,
          "lists": 0,
          "lists-int": 0,
          "lists-string": 0,
          "nested_dicts": 0,
          "timestamp": 0
         },
         {
          "bools": 0,
          "dicts": 0.1666666667,
          "index": "unique_per",
          "ints": 0.8333333333,
          "lists": 0.3333333333,
          "lists-int": 0.5,
          "lists-string": 0.3333333333,
          "nested_dicts": 0.1666666667,
          "timestamp": 0.6666666667
         },
         {
          "bools": 0.1666666667,
          "dicts": 0.8333333333,
          "index": "nan_per",
          "ints": 0.1666666667,
          "lists": 0.6666666667,
          "lists-int": 0.5,
          "lists-string": 0.6666666667,
          "nested_dicts": 0.8333333333,
          "timestamp": 0.3333333333
         },
         {
          "bools": 0,
          "dicts": 1,
          "index": "unique_count",
          "ints": 5,
          "lists": 2,
          "lists-int": 3,
          "lists-string": 2,
          "nested_dicts": 1,
          "timestamp": 4
         },
         {
          "bools": 0,
          "dicts": 0,
          "index": "empty_count",
          "ints": 0,
          "lists": 0,
          "lists-int": 0,
          "lists-string": 0,
          "nested_dicts": 0,
          "timestamp": 0
         },
         {
          "bools": 2,
          "dicts": 1,
          "index": "distinct_count",
          "ints": 5,
          "lists": 2,
          "lists-int": 3,
          "lists-string": 2,
          "nested_dicts": 1,
          "timestamp": 4
         },
         {
          "bools": [
           {
            "cat_pop": 50,
            "name": true
           },
           {
            "cat_pop": 33,
            "name": false
           },
           {
            "NA": 17,
            "name": "NA"
           }
          ],
          "dicts": [
           {
            "cat_pop": 17,
            "name": "{'a': 10, 'b': 20, 'c': 'some string'}"
           },
           {
            "name": "longtail",
            "unique": 17
           },
           {
            "NA": 83,
            "name": "NA"
           }
          ],
          "index": "histogram",
          "ints": [
           {
            "cat_pop": 17,
            "name": 5
           },
           {
            "cat_pop": 17,
            "name": 20
           },
           {
            "cat_pop": 17,
            "name": 30
           },
           {
            "cat_pop": 17,
            "name": -10
           },
           {
            "cat_pop": 17,
            "name": 7772
           },
           {
            "name": "longtail",
            "unique": 83
           },
           {
            "NA": 17,
            "name": "NA"
           }
          ],
          "lists": [
           {
            "cat_pop": 17,
            "name": "['a', 'b']"
           },
           {
            "cat_pop": 17,
            "name": "[1, 2]"
           },
           {
            "name": "longtail",
            "unique": 33
           },
           {
            "NA": 67,
            "name": "NA"
           }
          ],
          "lists-int": [
           {
            "cat_pop": 17,
            "name": "[10, 20]"
           },
           {
            "cat_pop": 17,
            "name": "[100, 500]"
           },
           {
            "cat_pop": 17,
            "name": "[8]"
           },
           {
            "name": "longtail",
            "unique": 50
           },
           {
            "NA": 50,
            "name": "NA"
           }
          ],
          "lists-string": [
           {
            "cat_pop": 17,
            "name": "['a', 'b']"
           },
           {
            "cat_pop": 17,
            "name": "['foo', 'bar']"
           },
           {
            "name": "longtail",
            "unique": 33
           },
           {
            "NA": 67,
            "name": "NA"
           }
          ],
          "nested_dicts": [
           {
            "cat_pop": 17,
            "name": "{'level_1': {'a': 10, 'b': 20, 'c': 'some string'}}"
           },
           {
            "name": "longtail",
            "unique": 17
           },
           {
            "NA": 83,
            "name": "NA"
           }
          ],
          "timestamp": [
           {
            "cat_pop": 17,
            "name": "2020-01-01 01:00Z"
           },
           {
            "cat_pop": 17,
            "name": "2020-01-01 02:00Z"
           },
           {
            "cat_pop": 17,
            "name": "2020-02-28 02:00Z"
           },
           {
            "cat_pop": 17,
            "name": "2020-03-15 02:00Z"
           },
           {
            "name": "longtail",
            "unique": 67
           },
           {
            "NA": 33,
            "name": "NA"
           }
          ]
         },
         {
          "bools": {},
          "dicts": {},
          "index": "histogram_args",
          "ints": {
           "high_tail": 7462.32,
           "low_tail": -9.4,
           "meat_histogram": [
            [
             1,
             0,
             0,
             0,
             0,
             0,
             1,
             0,
             0,
             1
            ],
            [
             5,
             7.5,
             10,
             12.5,
             15,
             17.5,
             20,
             22.5,
             25,
             27.5,
             30
            ]
           ],
           "normalized_populations": [
            0.3333333333,
            0,
            0,
            0,
            0,
            0,
            0.3333333333,
            0,
            0,
            0.3333333333
           ]
          },
          "lists": {},
          "lists-int": {},
          "lists-string": {},
          "nested_dicts": {},
          "timestamp": {}
         },
         {
          "bools": [],
          "dicts": [],
          "index": "histogram_bins",
          "ints": [
           5,
           7.5,
           10,
           12.5,
           15,
           17.5,
           20,
           22.5,
           25,
           27.5,
           30
          ],
          "lists": [],
          "lists-int": [],
          "lists-string": [],
          "nested_dicts": [],
          "timestamp": []
         },
         {
          "bools": 5,
          "dicts": 1,
          "index": "non_null_count",
          "ints": 5,
          "lists": 2,
          "lists-int": 3,
          "lists-string": 2,
          "nested_dicts": 1,
          "timestamp": 4
         },
         {
          "bools": 1,
          "dicts": 5,
          "index": "null_count",
          "ints": 1,
          "lists": 4,
          "lists-int": 3,
          "lists-string": 4,
          "nested_dicts": 5,
          "timestamp": 2
         },
         {
          "bools": true,
          "dicts": {
           "a": 10,
           "b": 20,
           "c": "some string"
          },
          "index": "most_freq",
          "ints": 5,
          "lists": [
           "a",
           "b"
          ],
          "lists-int": [
           10,
           20
          ],
          "lists-string": [
           "a",
           "b"
          ],
          "nested_dicts": {
           "level_1": {
            "a": 10,
            "b": 20,
            "c": "some string"
           }
          },
          "timestamp": "2020-01-01 01:00Z"
         },
         {
          "bools": false,
          "dicts": null,
          "index": "2nd_freq",
          "ints": 20,
          "lists": [
           1,
           2
          ],
          "lists-int": [
           100,
           500
          ],
          "lists-string": [
           "foo",
           "bar"
          ],
          "nested_dicts": null,
          "timestamp": "2020-01-01 02:00Z"
         },
         {
          "bools": null,
          "dicts": null,
          "index": "3rd_freq",
          "ints": 30,
          "lists": null,
          "lists-int": [
           8
          ],
          "lists-string": null,
          "nested_dicts": null,
          "timestamp": "2020-02-28 02:00Z"
         },
         {
          "bools": null,
          "dicts": null,
          "index": "4th_freq",
          "ints": -10,
          "lists": null,
          "lists-int": null,
          "lists-string": null,
          "nested_dicts": null,
          "timestamp": "2020-03-15 02:00Z"
         },
         {
          "bools": null,
          "dicts": null,
          "index": "5th_freq",
          "ints": 7772,
          "lists": null,
          "lists-int": null,
          "lists-string": null,
          "nested_dicts": null,
          "timestamp": null
         }
        ],
        "empty": [],
        "main": [
         {
          "bools": true,
          "dicts": {
           "a": 10,
           "b": 20,
           "c": "some string"
          },
          "index": 0,
          "ints": 5,
          "lists": [
           "a",
           "b"
          ],
          "lists-int": [
           10,
           20
          ],
          "lists-string": [
           "a",
           "b"
          ],
          "nested_dicts": {
           "level_1": {
            "a": 10,
            "b": 20,
            "c": "some string"
           }
          },
          "timestamp": "2020-01-01 01:00Z"
         },
         {
          "bools": true,
          "dicts": null,
          "index": 1,
          "ints": 20,
          "lists": [
           1,
           2
          ],
          "lists-int": [
           100,
           500
          ],
          "lists-string": [
           "foo",
           "bar"
          ],
          "nested_dicts": null,
          "timestamp": "2020-01-01 02:00Z"
         },
         {
          "bools": false,
          "dicts": null,
          "index": 2,
          "ints": 30,
          "lists": null,
          "lists-int": [
           8
          ],
          "lists-string": null,
          "nested_dicts": null,
          "timestamp": "2020-02-28 02:00Z"
         },
         {
          "bools": false,
          "dicts": null,
          "index": 3,
          "ints": -10,
          "lists": null,
          "lists-int": null,
          "lists-string": null,
          "nested_dicts": null,
          "timestamp": "2020-03-15 02:00Z"
         },
         {
          "bools": true,
          "dicts": null,
          "index": 4,
          "ints": 7772,
          "lists": null,
          "lists-int": null,
          "lists-string": null,
          "nested_dicts": null,
          "timestamp": null
         },
         {
          "bools": null,
          "dicts": null,
          "index": 5,
          "ints": null,
          "lists": null,
          "lists-int": null,
          "lists-string": null,
          "nested_dicts": null,
          "timestamp": null
         }
        ]
       },
       "df_display_args": {
        "main": {
         "data_key": "main",
         "df_viewer_config": {
          "column_config": [
           {
            "col_name": "index",
            "displayer_args": {
             "displayer": "float",
             "max_fraction_digits": 0,
             "min_fraction_digits": 0
            }
           },
           {
            "col_name": "bools",
            "displayer_args": {
             "displayer": "obj"
            },
            "tooltip_config": {
             "tooltip_type": "simple",
             "val_column": "bools"
            }
           },
           {
            "col_name": "ints",
            "displayer_args": {
             "displayer": "float",
             "max_fraction_digits": 3,
             "min_fraction_digits": 3
            }
           },
           {
            "col_name": "timestamp",
            "displayer_args": {
             "displayer": "obj"
            },
            "tooltip_config": {
             "tooltip_type": "simple",
             "val_column": "timestamp"
            }
           },
           {
            "col_name": "dicts",
            "displayer_args": {
             "displayer": "obj"
            },
            "tooltip_config": {
             "tooltip_type": "simple",
             "val_column": "dicts"
            }
           },
           {
            "col_name": "nested_dicts",
            "displayer_args": {
             "displayer": "obj"
            },
            "tooltip_config": {
             "tooltip_type": "simple",
             "val_column": "nested_dicts"
            }
           },
           {
            "col_name": "lists",
            "displayer_args": {
             "displayer": "obj"
            },
            "tooltip_config": {
             "tooltip_type": "simple",
             "val_column": "lists"
            }
           },
           {
            "col_name": "lists-string",
            "displayer_args": {
             "displayer": "obj"
            },
            "tooltip_config": {
             "tooltip_type": "simple",
             "val_column": "lists-string"
            }
           },
           {
            "col_name": "lists-int",
            "displayer_args": {
             "displayer": "obj"
            },
            "tooltip_config": {
             "tooltip_type": "simple",
             "val_column": "lists-int"
            }
           }
          ],
          "component_config": {
           "className": "asdf",
           "selectionBackground": "var(--ag-range-selection-background-color-0)"
          },
          "extra_grid_config": {},
          "pinned_rows": [
           {
            "displayer_args": {
             "displayer": "obj"
            },
            "primary_key_val": "dtype"
           },
           {
            "displayer_args": {
             "displayer": "histogram"
            },
            "primary_key_val": "histogram"
           }
          ]
         },
         "summary_stats_key": "all_stats"
        },
        "summary": {
         "data_key": "empty",
         "df_viewer_config": {
          "column_config": [
           {
            "col_name": "index",
            "displayer_args": {
             "displayer": "obj"
            }
           },
           {
            "col_name": "bools",
            "displayer_args": {
             "displayer": "obj"
            }
           },
           {
            "col_name": "ints",
            "displayer_args": {
             "displayer": "obj"
            }
           },
           {
            "col_name": "timestamp",
            "displayer_args": {
             "displayer": "obj"
            }
           },
           {
            "col_name": "dicts",
            "displayer_args": {
             "displayer": "obj"
            }
           },
           {
            "col_name": "nested_dicts",
            "displayer_args": {
             "displayer": "obj"
            }
           },
           {
            "col_name": "lists",
            "displayer_args": {
             "displayer": "obj"
            }
           },
           {
            "col_name": "lists-string",
            "displayer_args": {
             "displayer": "obj"
            }
           },
           {
            "col_name": "lists-int",
            "displayer_args": {
             "displayer": "obj"
            }
           }
          ],
          "component_config": {},
          "extra_grid_config": {},
          "pinned_rows": [
           {
            "displayer_args": {
             "displayer": "obj"
            },
            "primary_key_val": "dtype"
           },
           {
            "displayer_args": {
             "displayer": "float",
             "max_fraction_digits": 0,
             "min_fraction_digits": 0
            },
            "primary_key_val": "non_null_count"
           },
           {
            "displayer_args": {
             "displayer": "float",
             "max_fraction_digits": 0,
             "min_fraction_digits": 0
            },
            "primary_key_val": "null_count"
           },
           {
            "displayer_args": {
             "displayer": "float",
             "max_fraction_digits": 3,
             "min_fraction_digits": 3
            },
            "primary_key_val": "mean"
           },
           {
            "displayer_args": {
             "displayer": "float",
             "max_fraction_digits": 3,
             "min_fraction_digits": 3
            },
            "primary_key_val": "std"
           },
           {
            "displayer_args": {
             "displayer": "float",
             "max_fraction_digits": 3,
             "min_fraction_digits": 3
            },
            "primary_key_val": "min"
           },
           {
            "displayer_args": {
             "displayer": "float",
             "max_fraction_digits": 3,
             "min_fraction_digits": 3
            },
            "primary_key_val": "25th"
           },
           {
            "displayer_args": {
             "displayer": "float",
             "max_fraction_digits": 3,
             "min_fraction_digits": 3
            },
            "primary_key_val": "median"
           },
           {
            "displayer_args": {
             "displayer": "float",
             "max_fraction_digits": 3,
             "min_fraction_digits": 3
            },
            "primary_key_val": "75th"
           },
           {
            "displayer_args": {
             "displayer": "float",
             "max_fraction_digits": 3,
             "min_fraction_digits": 3
            },
            "primary_key_val": "max"
           },
           {
            "displayer_args": {
             "displayer": "float",
             "max_fraction_digits": 0,
             "min_fraction_digits": 0
            },
            "primary_key_val": "unique_count"
           },
           {
            "displayer_args": {
             "displayer": "float",
             "max_fraction_digits": 0,
             "min_fraction_digits": 0
            },
            "primary_key_val": "distinct_count"
           },
           {
            "displayer_args": {
             "displayer": "obj"
            },
            "primary_key_val": "most_freq"
           },
           {
            "displayer_args": {
             "displayer": "obj"
            },
            "primary_key_val": "2nd_freq"
           },
           {
            "displayer_args": {
             "displayer": "obj"
            },
            "primary_key_val": "3rd_freq"
           },
           {
            "displayer_args": {
             "displayer": "obj"
            },
            "primary_key_val": "4th_freq"
           },
           {
            "displayer_args": {
             "displayer": "obj"
            },
            "primary_key_val": "5th_freq"
           }
          ]
         },
         "summary_stats_key": "all_stats"
        }
       },
       "df_meta": {
        "columns": 8,
        "filtered_rows": 6,
        "rows_shown": 6,
        "total_rows": 6
       },
       "layout": "IPY_MODEL_27559e15607a4e8f9379416a78c1e1b7",
       "operation_results": {
        "generated_py_code": "no operations",
        "transformed_df": null
       },
       "operations": []
      }
     },
     "5b78fd497c39480cbb56863cd75d842f": {
      "model_module": "@jupyter-widgets/base",
      "model_module_version": "2.0.0",
      "model_name": "LayoutModel",
      "state": {}
     },
     "62916828fbb04bcb93ed303ae6e419ff": {
      "model_module": "buckaroo",
      "model_module_version": "^0.7.9",
      "model_name": "DCEFWidgetModel",
      "state": {
       "_model_module_version": "^0.7.9",
       "_view_module_version": "^0.7.9",
       "_view_name": "DCEFWidgetView",
       "buckaroo_options": {
        "auto_clean": [
         "aggressive",
         "conservative"
        ],
        "df_display": [
         "main",
         "summary"
        ],
        "post_processing": [
         ""
        ],
        "sampled": [
         "random"
        ],
        "show_commands": [
         "on"
        ],
        "summary_stats": [
         "all"
        ]
       },
       "buckaroo_state": {
        "cleaning_method": "NoCleaning",
        "df_display": "main",
        "post_processing": "",
        "quick_command_args": {},
        "sampled": false,
        "search_string": "",
        "show_commands": false
       },
       "commandConfig": {
        "argspecs": {
         "drop_duplicates": [
          [
           3,
           "keep",
           "enum",
           [
            "first",
            "last",
            "False"
           ]
          ]
         ],
         "dropcol": [
          null
         ],
         "fillna": [
          [
           3,
           "fillVal",
           "type",
           "integer"
          ]
         ],
         "groupby": [
          [
           3,
           "colMap",
           "colEnum",
           [
            "null",
            "mean",
            "median",
            "min",
            "max",
            "sum",
            "count",
            "count_null",
            "std",
            "empty",
            "h",
            "nunique",
            "is_monotonic",
            "is_monotonic_decreasing",
            "is_monotonic_increasing",
            "all",
            "any",
            "autocorr",
            "kurt",
            "mad",
            "sem",
            "skew",
            "i",
            "idxmin",
            "dtype",
            "dtypes",
            "nbytes",
            "ndim",
            "size"
           ]
          ]
         ],
         "groupby_transform": [
          [
           3,
           "colMap",
           "colEnum",
           [
            "null",
            "mean",
            "median",
            "min",
            "max",
            "sum",
            "count",
            "count_null",
            "std",
            "empty",
            "h",
            "nunique",
            "is_monotonic",
            "is_monotonic_decreasing",
            "is_monotonic_increasing",
            "all",
            "any",
            "autocorr",
            "kurt",
            "mad",
            "sem",
            "skew",
            "i",
            "idxmin",
            "dtype",
            "dtypes",
            "nbytes",
            "ndim",
            "size"
           ]
          ]
         ],
         "linear_regression": [
          [
           3,
           "x_cols",
           "colEnum",
           [
            "null",
            "basic",
            "one_hot"
           ]
          ]
         ],
         "make_category": [
          null
         ],
         "only_outliers": [
          [
           3,
           "only_outliers",
           "type",
           "float"
          ]
         ],
         "rank": [
          [
           3,
           "method",
           "enum",
           [
            "None",
            "min",
            "dense"
           ]
          ],
          [
           4,
           "new_col",
           "bool"
          ]
         ],
         "remove_outliers": [
          [
           3,
           "remove_outliers",
           "type",
           "float"
          ]
         ],
         "safe_int": [
          null
         ],
         "search": [
          [
           3,
           "term",
           "type",
           "string"
          ]
         ],
         "search_col": [
          [
           3,
           "term",
           "type",
           "string"
          ]
         ]
        },
        "defaultArgs": {
         "drop_duplicates": [
          {
           "symbol": "drop_duplicates"
          },
          {
           "symbol": "df"
          },
          "col",
          "first"
         ],
         "dropcol": [
          {
           "symbol": "dropcol"
          },
          {
           "symbol": "df"
          },
          "col"
         ],
         "fillna": [
          {
           "symbol": "fillna"
          },
          {
           "symbol": "df"
          },
          "col",
          8
         ],
         "groupby": [
          {
           "symbol": "groupby"
          },
          {
           "symbol": "df"
          },
          "col",
          {}
         ],
         "groupby_transform": [
          {
           "symbol": "groupby_transform"
          },
          {
           "symbol": "df"
          },
          "col",
          {}
         ],
         "linear_regression": [
          {
           "symbol": "linear_regression"
          },
          {
           "symbol": "df"
          },
          "col",
          {}
         ],
         "make_category": [
          {
           "symbol": "make_category"
          },
          {
           "symbol": "df"
          },
          "col"
         ],
         "only_outliers": [
          {
           "symbol": "only_outliers"
          },
          {
           "symbol": "df"
          },
          "col",
          0.01
         ],
         "rank": [
          {
           "symbol": "rank"
          },
          {
           "symbol": "df"
          },
          "col",
          "None",
          false
         ],
         "remove_outliers": [
          {
           "symbol": "remove_outliers"
          },
          {
           "symbol": "df"
          },
          "col",
          0.01
         ],
         "safe_int": [
          {
           "symbol": "safe_int"
          },
          {
           "symbol": "df"
          },
          "col"
         ],
         "search": [
          {
           "symbol": "search"
          },
          {
           "symbol": "df"
          },
          "col",
          ""
         ],
         "search_col": [
          {
           "symbol": "search_col"
          },
          {
           "symbol": "df"
          },
          "col",
          ""
         ]
        }
       },
       "df_data_dict": {
        "all_stats": [
         {
          "bools": "object",
          "dicts": "object",
          "index": "dtype",
          "ints": "float64",
          "lists": "object",
          "lists-int": "object",
          "lists-string": "object",
          "nested_dicts": "object",
          "timestamp": "object"
         },
         {
          "bools": false,
          "dicts": false,
          "index": "is_numeric",
          "ints": true,
          "lists": false,
          "lists-int": false,
          "lists-string": false,
          "nested_dicts": false,
          "timestamp": false
         },
         {
          "bools": false,
          "dicts": false,
          "index": "is_integer",
          "ints": false,
          "lists": false,
          "lists-int": false,
          "lists-string": false,
          "nested_dicts": false,
          "timestamp": false
         },
         {
          "bools": false,
          "dicts": false,
          "index": "is_datetime",
          "ints": false,
          "lists": false,
          "lists-int": false,
          "lists-string": false,
          "nested_dicts": false,
          "timestamp": false
         },
         {
          "bools": false,
          "dicts": false,
          "index": "is_bool",
          "ints": false,
          "lists": false,
          "lists-int": false,
          "lists-string": false,
          "nested_dicts": false,
          "timestamp": false
         },
         {
          "bools": false,
          "dicts": false,
          "index": "is_float",
          "ints": true,
          "lists": false,
          "lists-int": false,
          "lists-string": false,
          "nested_dicts": false,
          "timestamp": false
         },
         {
          "bools": "obj",
          "dicts": "obj",
          "index": "_type",
          "ints": "float",
          "lists": "obj",
          "lists-int": "obj",
          "lists-string": "obj",
          "nested_dicts": "obj",
          "timestamp": "obj"
         },
         {
          "bools": false,
          "dicts": false,
          "index": "is_string",
          "ints": false,
          "lists": false,
          "lists-int": false,
          "lists-string": false,
          "nested_dicts": false,
          "timestamp": false
         },
         {
          "bools": 176,
          "dicts": 176,
          "index": "memory_usage",
          "ints": 176,
          "lists": 176,
          "lists-int": 176,
          "lists-string": 176,
          "nested_dicts": 176,
          "timestamp": 176
         },
         {
          "bools": 6,
          "dicts": 6,
          "index": "length",
          "ints": 6,
          "lists": 6,
          "lists-int": 6,
          "lists-string": 6,
          "nested_dicts": 6,
          "timestamp": 6
         },
         {
          "bools": null,
          "dicts": null,
          "index": "min",
          "ints": -10,
          "lists": null,
          "lists-int": null,
          "lists-string": null,
          "nested_dicts": null,
          "timestamp": null
         },
         {
          "bools": null,
          "dicts": null,
          "index": "max",
          "ints": 7772,
          "lists": null,
          "lists-int": null,
          "lists-string": null,
          "nested_dicts": null,
          "timestamp": null
         },
         {
          "bools": 0,
          "dicts": 0,
          "index": "mean",
          "ints": 1563.4,
          "lists": 0,
          "lists-int": 0,
          "lists-string": 0,
          "nested_dicts": 0,
          "timestamp": 0
         },
         {
          "bools": 1,
          "dicts": 5,
          "index": "nan_count",
          "ints": 1,
          "lists": 4,
          "lists-int": 3,
          "lists-string": 4,
          "nested_dicts": 5,
          "timestamp": 2
         },
         {
          "bools": [
           3,
           2
          ],
          "dicts": [
           1
          ],
          "index": "value_counts",
          "ints": [
           1,
           1,
           1,
           1,
           1
          ],
          "lists": [
           1,
           1
          ],
          "lists-int": [
           1,
           1,
           1
          ],
          "lists-string": [
           1,
           1
          ],
          "nested_dicts": [
           1
          ],
          "timestamp": [
           1,
           1,
           1,
           1
          ]
         },
         {
          "bools": true,
          "dicts": {
           "a": 10,
           "b": 20,
           "c": "some string"
          },
          "index": "mode",
          "ints": -10,
          "lists": [
           "a",
           "b"
          ],
          "lists-int": [
           8
          ],
          "lists-string": [
           "a",
           "b"
          ],
          "nested_dicts": {
           "level_1": {
            "a": 10,
            "b": 20,
            "c": "some string"
           }
          },
          "timestamp": "2020-01-01 01:00Z"
         },
         {
          "bools": 0.3333333333,
          "dicts": 0.1666666667,
          "index": "distinct_per",
          "ints": 0.8333333333,
          "lists": 0.3333333333,
          "lists-int": 0.5,
          "lists-string": 0.3333333333,
          "nested_dicts": 0.1666666667,
          "timestamp": 0.6666666667
         },
         {
          "bools": 0,
          "dicts": 0,
          "index": "empty_per",
          "ints": 0,
          "lists": 0,
          "lists-int": 0,
          "lists-string": 0,
          "nested_dicts": 0,
          "timestamp": 0
         },
         {
          "bools": 0,
          "dicts": 0.1666666667,
          "index": "unique_per",
          "ints": 0.8333333333,
          "lists": 0.3333333333,
          "lists-int": 0.5,
          "lists-string": 0.3333333333,
          "nested_dicts": 0.1666666667,
          "timestamp": 0.6666666667
         },
         {
          "bools": 0.1666666667,
          "dicts": 0.8333333333,
          "index": "nan_per",
          "ints": 0.1666666667,
          "lists": 0.6666666667,
          "lists-int": 0.5,
          "lists-string": 0.6666666667,
          "nested_dicts": 0.8333333333,
          "timestamp": 0.3333333333
         },
         {
          "bools": 0,
          "dicts": 1,
          "index": "unique_count",
          "ints": 5,
          "lists": 2,
          "lists-int": 3,
          "lists-string": 2,
          "nested_dicts": 1,
          "timestamp": 4
         },
         {
          "bools": 0,
          "dicts": 0,
          "index": "empty_count",
          "ints": 0,
          "lists": 0,
          "lists-int": 0,
          "lists-string": 0,
          "nested_dicts": 0,
          "timestamp": 0
         },
         {
          "bools": 2,
          "dicts": 1,
          "index": "distinct_count",
          "ints": 5,
          "lists": 2,
          "lists-int": 3,
          "lists-string": 2,
          "nested_dicts": 1,
          "timestamp": 4
         },
         {
          "bools": [
           {
            "cat_pop": 50,
            "name": true
           },
           {
            "cat_pop": 33,
            "name": false
           },
           {
            "NA": 17,
            "name": "NA"
           }
          ],
          "dicts": [
           {
            "cat_pop": 17,
            "name": "{'a': 10, 'b': 20, 'c': 'some string'}"
           },
           {
            "name": "longtail",
            "unique": 17
           },
           {
            "NA": 83,
            "name": "NA"
           }
          ],
          "index": "histogram",
          "ints": [
           {
            "cat_pop": 17,
            "name": 5
           },
           {
            "cat_pop": 17,
            "name": 20
           },
           {
            "cat_pop": 17,
            "name": 30
           },
           {
            "cat_pop": 17,
            "name": -10
           },
           {
            "cat_pop": 17,
            "name": 7772
           },
           {
            "name": "longtail",
            "unique": 83
           },
           {
            "NA": 17,
            "name": "NA"
           }
          ],
          "lists": [
           {
            "cat_pop": 17,
            "name": "['a', 'b']"
           },
           {
            "cat_pop": 17,
            "name": "[1, 2]"
           },
           {
            "name": "longtail",
            "unique": 33
           },
           {
            "NA": 67,
            "name": "NA"
           }
          ],
          "lists-int": [
           {
            "cat_pop": 17,
            "name": "[10, 20]"
           },
           {
            "cat_pop": 17,
            "name": "[100, 500]"
           },
           {
            "cat_pop": 17,
            "name": "[8]"
           },
           {
            "name": "longtail",
            "unique": 50
           },
           {
            "NA": 50,
            "name": "NA"
           }
          ],
          "lists-string": [
           {
            "cat_pop": 17,
            "name": "['a', 'b']"
           },
           {
            "cat_pop": 17,
            "name": "['foo', 'bar']"
           },
           {
            "name": "longtail",
            "unique": 33
           },
           {
            "NA": 67,
            "name": "NA"
           }
          ],
          "nested_dicts": [
           {
            "cat_pop": 17,
            "name": "{'level_1': {'a': 10, 'b': 20, 'c': 'some string'}}"
           },
           {
            "name": "longtail",
            "unique": 17
           },
           {
            "NA": 83,
            "name": "NA"
           }
          ],
          "timestamp": [
           {
            "cat_pop": 17,
            "name": "2020-01-01 01:00Z"
           },
           {
            "cat_pop": 17,
            "name": "2020-01-01 02:00Z"
           },
           {
            "cat_pop": 17,
            "name": "2020-02-28 02:00Z"
           },
           {
            "cat_pop": 17,
            "name": "2020-03-15 02:00Z"
           },
           {
            "name": "longtail",
            "unique": 67
           },
           {
            "NA": 33,
            "name": "NA"
           }
          ]
         },
         {
          "bools": {},
          "dicts": {},
          "index": "histogram_args",
          "ints": {
           "high_tail": 7462.32,
           "low_tail": -9.4,
           "meat_histogram": [
            [
             1,
             0,
             0,
             0,
             0,
             0,
             1,
             0,
             0,
             1
            ],
            [
             5,
             7.5,
             10,
             12.5,
             15,
             17.5,
             20,
             22.5,
             25,
             27.5,
             30
            ]
           ],
           "normalized_populations": [
            0.3333333333,
            0,
            0,
            0,
            0,
            0,
            0.3333333333,
            0,
            0,
            0.3333333333
           ]
          },
          "lists": {},
          "lists-int": {},
          "lists-string": {},
          "nested_dicts": {},
          "timestamp": {}
         },
         {
          "bools": [],
          "dicts": [],
          "index": "histogram_bins",
          "ints": [
           5,
           7.5,
           10,
           12.5,
           15,
           17.5,
           20,
           22.5,
           25,
           27.5,
           30
          ],
          "lists": [],
          "lists-int": [],
          "lists-string": [],
          "nested_dicts": [],
          "timestamp": []
         },
         {
          "bools": 5,
          "dicts": 1,
          "index": "non_null_count",
          "ints": 5,
          "lists": 2,
          "lists-int": 3,
          "lists-string": 2,
          "nested_dicts": 1,
          "timestamp": 4
         },
         {
          "bools": 1,
          "dicts": 5,
          "index": "null_count",
          "ints": 1,
          "lists": 4,
          "lists-int": 3,
          "lists-string": 4,
          "nested_dicts": 5,
          "timestamp": 2
         },
         {
          "bools": true,
          "dicts": {
           "a": 10,
           "b": 20,
           "c": "some string"
          },
          "index": "most_freq",
          "ints": 5,
          "lists": [
           "a",
           "b"
          ],
          "lists-int": [
           10,
           20
          ],
          "lists-string": [
           "a",
           "b"
          ],
          "nested_dicts": {
           "level_1": {
            "a": 10,
            "b": 20,
            "c": "some string"
           }
          },
          "timestamp": "2020-01-01 01:00Z"
         },
         {
          "bools": false,
          "dicts": null,
          "index": "2nd_freq",
          "ints": 20,
          "lists": [
           1,
           2
          ],
          "lists-int": [
           100,
           500
          ],
          "lists-string": [
           "foo",
           "bar"
          ],
          "nested_dicts": null,
          "timestamp": "2020-01-01 02:00Z"
         },
         {
          "bools": null,
          "dicts": null,
          "index": "3rd_freq",
          "ints": 30,
          "lists": null,
          "lists-int": [
           8
          ],
          "lists-string": null,
          "nested_dicts": null,
          "timestamp": "2020-02-28 02:00Z"
         },
         {
          "bools": null,
          "dicts": null,
          "index": "4th_freq",
          "ints": -10,
          "lists": null,
          "lists-int": null,
          "lists-string": null,
          "nested_dicts": null,
          "timestamp": "2020-03-15 02:00Z"
         },
         {
          "bools": null,
          "dicts": null,
          "index": "5th_freq",
          "ints": 7772,
          "lists": null,
          "lists-int": null,
          "lists-string": null,
          "nested_dicts": null,
          "timestamp": null
         }
        ],
        "empty": [],
        "main": [
         {
          "bools": true,
          "dicts": {
           "a": 10,
           "b": 20,
           "c": "some string"
          },
          "index": 0,
          "ints": 5,
          "lists": [
           "a",
           "b"
          ],
          "lists-int": [
           10,
           20
          ],
          "lists-string": [
           "a",
           "b"
          ],
          "nested_dicts": {
           "level_1": {
            "a": 10,
            "b": 20,
            "c": "some string"
           }
          },
          "timestamp": "2020-01-01 01:00Z"
         },
         {
          "bools": true,
          "dicts": null,
          "index": 1,
          "ints": 20,
          "lists": [
           1,
           2
          ],
          "lists-int": [
           100,
           500
          ],
          "lists-string": [
           "foo",
           "bar"
          ],
          "nested_dicts": null,
          "timestamp": "2020-01-01 02:00Z"
         },
         {
          "bools": false,
          "dicts": null,
          "index": 2,
          "ints": 30,
          "lists": null,
          "lists-int": [
           8
          ],
          "lists-string": null,
          "nested_dicts": null,
          "timestamp": "2020-02-28 02:00Z"
         },
         {
          "bools": false,
          "dicts": null,
          "index": 3,
          "ints": -10,
          "lists": null,
          "lists-int": null,
          "lists-string": null,
          "nested_dicts": null,
          "timestamp": "2020-03-15 02:00Z"
         },
         {
          "bools": true,
          "dicts": null,
          "index": 4,
          "ints": 7772,
          "lists": null,
          "lists-int": null,
          "lists-string": null,
          "nested_dicts": null,
          "timestamp": null
         },
         {
          "bools": null,
          "dicts": null,
          "index": 5,
          "ints": null,
          "lists": null,
          "lists-int": null,
          "lists-string": null,
          "nested_dicts": null,
          "timestamp": null
         }
        ]
       },
       "df_display_args": {
        "main": {
         "data_key": "main",
         "df_viewer_config": {
          "column_config": [
           {
            "col_name": "index",
            "displayer_args": {
             "displayer": "float",
             "max_fraction_digits": 0,
             "min_fraction_digits": 0
            }
           },
           {
            "col_name": "bools",
            "displayer_args": {
             "displayer": "obj"
            },
            "tooltip_config": {
             "tooltip_type": "simple",
             "val_column": "bools"
            }
           },
           {
            "col_name": "ints",
            "displayer_args": {
             "displayer": "float",
             "max_fraction_digits": 3,
             "min_fraction_digits": 3
            }
           },
           {
            "col_name": "timestamp",
            "displayer_args": {
             "displayer": "obj"
            },
            "tooltip_config": {
             "tooltip_type": "simple",
             "val_column": "timestamp"
            }
           },
           {
            "col_name": "dicts",
            "displayer_args": {
             "displayer": "obj"
            },
            "tooltip_config": {
             "tooltip_type": "simple",
             "val_column": "dicts"
            }
           },
           {
            "col_name": "nested_dicts",
            "displayer_args": {
             "displayer": "obj"
            },
            "tooltip_config": {
             "tooltip_type": "simple",
             "val_column": "nested_dicts"
            }
           },
           {
            "col_name": "lists",
            "displayer_args": {
             "displayer": "obj"
            },
            "tooltip_config": {
             "tooltip_type": "simple",
             "val_column": "lists"
            }
           },
           {
            "col_name": "lists-string",
            "displayer_args": {
             "displayer": "obj"
            },
            "tooltip_config": {
             "tooltip_type": "simple",
             "val_column": "lists-string"
            }
           },
           {
            "col_name": "lists-int",
            "displayer_args": {
             "displayer": "obj"
            },
            "tooltip_config": {
             "tooltip_type": "simple",
             "val_column": "lists-int"
            }
           }
          ],
          "component_config": {
           "className": "asdf",
           "selectionBackground": "var(--ag-range-selection-background-color)"
          },
          "extra_grid_config": {},
          "pinned_rows": [
           {
            "displayer_args": {
             "displayer": "obj"
            },
            "primary_key_val": "dtype"
           },
           {
            "displayer_args": {
             "displayer": "histogram"
            },
            "primary_key_val": "histogram"
           }
          ]
         },
         "summary_stats_key": "all_stats"
        },
        "summary": {
         "data_key": "empty",
         "df_viewer_config": {
          "column_config": [
           {
            "col_name": "index",
            "displayer_args": {
             "displayer": "obj"
            }
           },
           {
            "col_name": "bools",
            "displayer_args": {
             "displayer": "obj"
            }
           },
           {
            "col_name": "ints",
            "displayer_args": {
             "displayer": "obj"
            }
           },
           {
            "col_name": "timestamp",
            "displayer_args": {
             "displayer": "obj"
            }
           },
           {
            "col_name": "dicts",
            "displayer_args": {
             "displayer": "obj"
            }
           },
           {
            "col_name": "nested_dicts",
            "displayer_args": {
             "displayer": "obj"
            }
           },
           {
            "col_name": "lists",
            "displayer_args": {
             "displayer": "obj"
            }
           },
           {
            "col_name": "lists-string",
            "displayer_args": {
             "displayer": "obj"
            }
           },
           {
            "col_name": "lists-int",
            "displayer_args": {
             "displayer": "obj"
            }
           }
          ],
          "component_config": {},
          "extra_grid_config": {},
          "pinned_rows": [
           {
            "displayer_args": {
             "displayer": "obj"
            },
            "primary_key_val": "dtype"
           },
           {
            "displayer_args": {
             "displayer": "float",
             "max_fraction_digits": 0,
             "min_fraction_digits": 0
            },
            "primary_key_val": "non_null_count"
           },
           {
            "displayer_args": {
             "displayer": "float",
             "max_fraction_digits": 0,
             "min_fraction_digits": 0
            },
            "primary_key_val": "null_count"
           },
           {
            "displayer_args": {
             "displayer": "float",
             "max_fraction_digits": 3,
             "min_fraction_digits": 3
            },
            "primary_key_val": "mean"
           },
           {
            "displayer_args": {
             "displayer": "float",
             "max_fraction_digits": 3,
             "min_fraction_digits": 3
            },
            "primary_key_val": "std"
           },
           {
            "displayer_args": {
             "displayer": "float",
             "max_fraction_digits": 3,
             "min_fraction_digits": 3
            },
            "primary_key_val": "min"
           },
           {
            "displayer_args": {
             "displayer": "float",
             "max_fraction_digits": 3,
             "min_fraction_digits": 3
            },
            "primary_key_val": "25th"
           },
           {
            "displayer_args": {
             "displayer": "float",
             "max_fraction_digits": 3,
             "min_fraction_digits": 3
            },
            "primary_key_val": "median"
           },
           {
            "displayer_args": {
             "displayer": "float",
             "max_fraction_digits": 3,
             "min_fraction_digits": 3
            },
            "primary_key_val": "75th"
           },
           {
            "displayer_args": {
             "displayer": "float",
             "max_fraction_digits": 3,
             "min_fraction_digits": 3
            },
            "primary_key_val": "max"
           },
           {
            "displayer_args": {
             "displayer": "float",
             "max_fraction_digits": 0,
             "min_fraction_digits": 0
            },
            "primary_key_val": "unique_count"
           },
           {
            "displayer_args": {
             "displayer": "float",
             "max_fraction_digits": 0,
             "min_fraction_digits": 0
            },
            "primary_key_val": "distinct_count"
           },
           {
            "displayer_args": {
             "displayer": "obj"
            },
            "primary_key_val": "most_freq"
           },
           {
            "displayer_args": {
             "displayer": "obj"
            },
            "primary_key_val": "2nd_freq"
           },
           {
            "displayer_args": {
             "displayer": "obj"
            },
            "primary_key_val": "3rd_freq"
           },
           {
            "displayer_args": {
             "displayer": "obj"
            },
            "primary_key_val": "4th_freq"
           },
           {
            "displayer_args": {
             "displayer": "obj"
            },
            "primary_key_val": "5th_freq"
           }
          ]
         },
         "summary_stats_key": "all_stats"
        }
       },
       "df_meta": {
        "columns": 8,
        "filtered_rows": 6,
        "rows_shown": 6,
        "total_rows": 6
       },
       "layout": "IPY_MODEL_5b78fd497c39480cbb56863cd75d842f",
       "operation_results": {
        "generated_py_code": "no operations",
        "transformed_df": null
       },
       "operations": []
      }
     },
     "68cb2e031d5e4477b337e9da3c183631": {
      "model_module": "buckaroo",
      "model_module_version": "^0.7.9",
      "model_name": "DCEFWidgetModel",
      "state": {
       "_model_module_version": "^0.7.9",
       "_view_module_version": "^0.7.9",
       "_view_name": "DCEFWidgetView",
       "buckaroo_options": {
        "auto_clean": [
         "aggressive",
         "conservative"
        ],
        "df_display": [
         "main"
        ],
        "post_processing": [
         ""
        ],
        "sampled": [
         "random"
        ],
        "show_commands": [
         "on"
        ],
        "summary_stats": [
         "all"
        ]
       },
       "buckaroo_state": {
        "cleaning_method": "NoCleaning",
        "df_display": "main",
        "post_processing": "",
        "quick_command_args": {},
        "sampled": false,
        "search_string": "",
        "show_commands": false
       },
       "commandConfig": {
        "argspecs": {
         "drop_duplicates": [
          [
           3,
           "keep",
           "enum",
           [
            "first",
            "last",
            "False"
           ]
          ]
         ],
         "dropcol": [
          null
         ],
         "fillna": [
          [
           3,
           "fillVal",
           "type",
           "integer"
          ]
         ],
         "groupby": [
          [
           3,
           "colMap",
           "colEnum",
           [
            "null",
            "mean",
            "median",
            "min",
            "max",
            "sum",
            "count",
            "count_null",
            "std",
            "empty",
            "h",
            "nunique",
            "is_monotonic",
            "is_monotonic_decreasing",
            "is_monotonic_increasing",
            "all",
            "any",
            "autocorr",
            "kurt",
            "mad",
            "sem",
            "skew",
            "i",
            "idxmin",
            "dtype",
            "dtypes",
            "nbytes",
            "ndim",
            "size"
           ]
          ]
         ],
         "groupby_transform": [
          [
           3,
           "colMap",
           "colEnum",
           [
            "null",
            "mean",
            "median",
            "min",
            "max",
            "sum",
            "count",
            "count_null",
            "std",
            "empty",
            "h",
            "nunique",
            "is_monotonic",
            "is_monotonic_decreasing",
            "is_monotonic_increasing",
            "all",
            "any",
            "autocorr",
            "kurt",
            "mad",
            "sem",
            "skew",
            "i",
            "idxmin",
            "dtype",
            "dtypes",
            "nbytes",
            "ndim",
            "size"
           ]
          ]
         ],
         "linear_regression": [
          [
           3,
           "x_cols",
           "colEnum",
           [
            "null",
            "basic",
            "one_hot"
           ]
          ]
         ],
         "make_category": [
          null
         ],
         "only_outliers": [
          [
           3,
           "only_outliers",
           "type",
           "float"
          ]
         ],
         "rank": [
          [
           3,
           "method",
           "enum",
           [
            "None",
            "min",
            "dense"
           ]
          ],
          [
           4,
           "new_col",
           "bool"
          ]
         ],
         "remove_outliers": [
          [
           3,
           "remove_outliers",
           "type",
           "float"
          ]
         ],
         "safe_int": [
          null
         ],
         "search": [
          [
           3,
           "term",
           "type",
           "string"
          ]
         ],
         "search_col": [
          [
           3,
           "term",
           "type",
           "string"
          ]
         ]
        },
        "defaultArgs": {
         "drop_duplicates": [
          {
           "symbol": "drop_duplicates"
          },
          {
           "symbol": "df"
          },
          "col",
          "first"
         ],
         "dropcol": [
          {
           "symbol": "dropcol"
          },
          {
           "symbol": "df"
          },
          "col"
         ],
         "fillna": [
          {
           "symbol": "fillna"
          },
          {
           "symbol": "df"
          },
          "col",
          8
         ],
         "groupby": [
          {
           "symbol": "groupby"
          },
          {
           "symbol": "df"
          },
          "col",
          {}
         ],
         "groupby_transform": [
          {
           "symbol": "groupby_transform"
          },
          {
           "symbol": "df"
          },
          "col",
          {}
         ],
         "linear_regression": [
          {
           "symbol": "linear_regression"
          },
          {
           "symbol": "df"
          },
          "col",
          {}
         ],
         "make_category": [
          {
           "symbol": "make_category"
          },
          {
           "symbol": "df"
          },
          "col"
         ],
         "only_outliers": [
          {
           "symbol": "only_outliers"
          },
          {
           "symbol": "df"
          },
          "col",
          0.01
         ],
         "rank": [
          {
           "symbol": "rank"
          },
          {
           "symbol": "df"
          },
          "col",
          "None",
          false
         ],
         "remove_outliers": [
          {
           "symbol": "remove_outliers"
          },
          {
           "symbol": "df"
          },
          "col",
          0.01
         ],
         "safe_int": [
          {
           "symbol": "safe_int"
          },
          {
           "symbol": "df"
          },
          "col"
         ],
         "search": [
          {
           "symbol": "search"
          },
          {
           "symbol": "df"
          },
          "col",
          ""
         ],
         "search_col": [
          {
           "symbol": "search_col"
          },
          {
           "symbol": "df"
          },
          "col",
          ""
         ]
        }
       },
       "df_data_dict": {
        "all_stats": [
         {
          "bools": "object",
          "dicts": "object",
          "index": "dtype",
          "ints": "float64",
          "lists": "object",
          "lists-int": "object",
          "lists-string": "object",
          "nested_dicts": "object",
          "timestamp": "object"
         },
         {
          "bools": false,
          "dicts": false,
          "index": "is_numeric",
          "ints": true,
          "lists": false,
          "lists-int": false,
          "lists-string": false,
          "nested_dicts": false,
          "timestamp": false
         },
         {
          "bools": false,
          "dicts": false,
          "index": "is_integer",
          "ints": false,
          "lists": false,
          "lists-int": false,
          "lists-string": false,
          "nested_dicts": false,
          "timestamp": false
         },
         {
          "bools": false,
          "dicts": false,
          "index": "is_datetime",
          "ints": false,
          "lists": false,
          "lists-int": false,
          "lists-string": false,
          "nested_dicts": false,
          "timestamp": false
         },
         {
          "bools": false,
          "dicts": false,
          "index": "is_bool",
          "ints": false,
          "lists": false,
          "lists-int": false,
          "lists-string": false,
          "nested_dicts": false,
          "timestamp": false
         },
         {
          "bools": false,
          "dicts": false,
          "index": "is_float",
          "ints": true,
          "lists": false,
          "lists-int": false,
          "lists-string": false,
          "nested_dicts": false,
          "timestamp": false
         },
         {
          "bools": "obj",
          "dicts": "obj",
          "index": "_type",
          "ints": "float",
          "lists": "obj",
          "lists-int": "obj",
          "lists-string": "obj",
          "nested_dicts": "obj",
          "timestamp": "obj"
         },
         {
          "bools": false,
          "dicts": false,
          "index": "is_string",
          "ints": false,
          "lists": false,
          "lists-int": false,
          "lists-string": false,
          "nested_dicts": false,
          "timestamp": false
         },
         {
          "bools": 176,
          "dicts": 176,
          "index": "memory_usage",
          "ints": 176,
          "lists": 176,
          "lists-int": 176,
          "lists-string": 176,
          "nested_dicts": 176,
          "timestamp": 176
         }
        ],
        "empty": [],
        "main": [
         {
          "bools": true,
          "dicts": {
           "a": 10,
           "b": 20,
           "c": "some string"
          },
          "index": 0,
          "ints": 5,
          "lists": [
           "a",
           "b"
          ],
          "lists-int": [
           10,
           20
          ],
          "lists-string": [
           "a",
           "b"
          ],
          "nested_dicts": {
           "level_1": {
            "a": 10,
            "b": 20,
            "c": "some string"
           }
          },
          "timestamp": "2020-01-01 01:00Z"
         },
         {
          "bools": true,
          "dicts": null,
          "index": 1,
          "ints": 20,
          "lists": [
           1,
           2
          ],
          "lists-int": [
           100,
           500
          ],
          "lists-string": [
           "foo",
           "bar"
          ],
          "nested_dicts": null,
          "timestamp": "2020-01-01 02:00Z"
         },
         {
          "bools": false,
          "dicts": null,
          "index": 2,
          "ints": 30,
          "lists": null,
          "lists-int": [
           8
          ],
          "lists-string": null,
          "nested_dicts": null,
          "timestamp": "2020-02-28 02:00Z"
         },
         {
          "bools": false,
          "dicts": null,
          "index": 3,
          "ints": -10,
          "lists": null,
          "lists-int": null,
          "lists-string": null,
          "nested_dicts": null,
          "timestamp": "2020-03-15 02:00Z"
         },
         {
          "bools": true,
          "dicts": null,
          "index": 4,
          "ints": 7772,
          "lists": null,
          "lists-int": null,
          "lists-string": null,
          "nested_dicts": null,
          "timestamp": null
         },
         {
          "bools": null,
          "dicts": null,
          "index": 5,
          "ints": null,
          "lists": null,
          "lists-int": null,
          "lists-string": null,
          "nested_dicts": null,
          "timestamp": null
         }
        ]
       },
       "df_display_args": {
        "main": {
         "data_key": "main",
         "df_viewer_config": {
          "column_config": [
           {
            "col_name": "index",
            "displayer_args": {
             "displayer": "obj"
            }
           },
           {
            "col_name": "bools",
            "displayer_args": {
             "displayer": "obj"
            }
           },
           {
            "col_name": "ints",
            "displayer_args": {
             "displayer": "obj"
            }
           },
           {
            "col_name": "timestamp",
            "displayer_args": {
             "displayer": "obj"
            }
           },
           {
            "col_name": "dicts",
            "displayer_args": {
             "displayer": "obj"
            }
           },
           {
            "col_name": "nested_dicts",
            "displayer_args": {
             "displayer": "obj"
            }
           },
           {
            "col_name": "lists",
            "displayer_args": {
             "displayer": "obj"
            }
           },
           {
            "col_name": "lists-string",
            "displayer_args": {
             "displayer": "obj"
            }
           },
           {
            "col_name": "lists-int",
            "displayer_args": {
             "displayer": "obj"
            }
           }
          ],
          "component_config": {},
          "extra_grid_config": {},
          "pinned_rows": [
           {
            "displayer_args": {
             "displayer": "obj"
            },
            "primary_key_val": "dtype"
           }
          ]
         },
         "summary_stats_key": "all_stats"
        }
       },
       "df_meta": {
        "columns": 8,
        "filtered_rows": 6,
        "rows_shown": 6,
        "total_rows": 6
       },
       "layout": "IPY_MODEL_7997d2dfa16541f9be57f59e958f6a6f",
       "operation_results": {
        "generated_py_code": "no operations",
        "transformed_df": null
       },
       "operations": []
      }
     },
     "6af42cdc4b004d8394c6d953770f9dba": {
      "model_module": "buckaroo",
      "model_module_version": "^0.7.9",
      "model_name": "DCEFWidgetModel",
      "state": {
       "_model_module_version": "^0.7.9",
       "_view_module_version": "^0.7.9",
       "_view_name": "DCEFWidgetView",
       "buckaroo_options": {
        "auto_clean": [
         "aggressive",
         "conservative"
        ],
        "df_display": [
         "main",
         "summary"
        ],
        "post_processing": [
         ""
        ],
        "sampled": [
         "random"
        ],
        "show_commands": [
         "on"
        ],
        "summary_stats": [
         "all"
        ]
       },
       "buckaroo_state": {
        "cleaning_method": "NoCleaning",
        "df_display": "main",
        "post_processing": "",
        "quick_command_args": {},
        "sampled": false,
        "search_string": "",
        "show_commands": false
       },
       "commandConfig": {
        "argspecs": {
         "drop_duplicates": [
          [
           3,
           "keep",
           "enum",
           [
            "first",
            "last",
            "False"
           ]
          ]
         ],
         "dropcol": [
          null
         ],
         "fillna": [
          [
           3,
           "fillVal",
           "type",
           "integer"
          ]
         ],
         "groupby": [
          [
           3,
           "colMap",
           "colEnum",
           [
            "null",
            "mean",
            "median",
            "min",
            "max",
            "sum",
            "count",
            "count_null",
            "std",
            "empty",
            "h",
            "nunique",
            "is_monotonic",
            "is_monotonic_decreasing",
            "is_monotonic_increasing",
            "all",
            "any",
            "autocorr",
            "kurt",
            "mad",
            "sem",
            "skew",
            "i",
            "idxmin",
            "dtype",
            "dtypes",
            "nbytes",
            "ndim",
            "size"
           ]
          ]
         ],
         "groupby_transform": [
          [
           3,
           "colMap",
           "colEnum",
           [
            "null",
            "mean",
            "median",
            "min",
            "max",
            "sum",
            "count",
            "count_null",
            "std",
            "empty",
            "h",
            "nunique",
            "is_monotonic",
            "is_monotonic_decreasing",
            "is_monotonic_increasing",
            "all",
            "any",
            "autocorr",
            "kurt",
            "mad",
            "sem",
            "skew",
            "i",
            "idxmin",
            "dtype",
            "dtypes",
            "nbytes",
            "ndim",
            "size"
           ]
          ]
         ],
         "linear_regression": [
          [
           3,
           "x_cols",
           "colEnum",
           [
            "null",
            "basic",
            "one_hot"
           ]
          ]
         ],
         "make_category": [
          null
         ],
         "only_outliers": [
          [
           3,
           "only_outliers",
           "type",
           "float"
          ]
         ],
         "rank": [
          [
           3,
           "method",
           "enum",
           [
            "None",
            "min",
            "dense"
           ]
          ],
          [
           4,
           "new_col",
           "bool"
          ]
         ],
         "remove_outliers": [
          [
           3,
           "remove_outliers",
           "type",
           "float"
          ]
         ],
         "safe_int": [
          null
         ],
         "search": [
          [
           3,
           "term",
           "type",
           "string"
          ]
         ],
         "search_col": [
          [
           3,
           "term",
           "type",
           "string"
          ]
         ]
        },
        "defaultArgs": {
         "drop_duplicates": [
          {
           "symbol": "drop_duplicates"
          },
          {
           "symbol": "df"
          },
          "col",
          "first"
         ],
         "dropcol": [
          {
           "symbol": "dropcol"
          },
          {
           "symbol": "df"
          },
          "col"
         ],
         "fillna": [
          {
           "symbol": "fillna"
          },
          {
           "symbol": "df"
          },
          "col",
          8
         ],
         "groupby": [
          {
           "symbol": "groupby"
          },
          {
           "symbol": "df"
          },
          "col",
          {}
         ],
         "groupby_transform": [
          {
           "symbol": "groupby_transform"
          },
          {
           "symbol": "df"
          },
          "col",
          {}
         ],
         "linear_regression": [
          {
           "symbol": "linear_regression"
          },
          {
           "symbol": "df"
          },
          "col",
          {}
         ],
         "make_category": [
          {
           "symbol": "make_category"
          },
          {
           "symbol": "df"
          },
          "col"
         ],
         "only_outliers": [
          {
           "symbol": "only_outliers"
          },
          {
           "symbol": "df"
          },
          "col",
          0.01
         ],
         "rank": [
          {
           "symbol": "rank"
          },
          {
           "symbol": "df"
          },
          "col",
          "None",
          false
         ],
         "remove_outliers": [
          {
           "symbol": "remove_outliers"
          },
          {
           "symbol": "df"
          },
          "col",
          0.01
         ],
         "safe_int": [
          {
           "symbol": "safe_int"
          },
          {
           "symbol": "df"
          },
          "col"
         ],
         "search": [
          {
           "symbol": "search"
          },
          {
           "symbol": "df"
          },
          "col",
          ""
         ],
         "search_col": [
          {
           "symbol": "search_col"
          },
          {
           "symbol": "df"
          },
          "col",
          ""
         ]
        }
       },
       "df_data_dict": {
        "all_stats": [
         {
          "bools": "object",
          "dicts": "object",
          "index": "dtype",
          "ints": "float64",
          "lists": "object",
          "lists-int": "object",
          "lists-string": "object",
          "nested_dicts": "object",
          "timestamp": "object"
         },
         {
          "bools": false,
          "dicts": false,
          "index": "is_numeric",
          "ints": true,
          "lists": false,
          "lists-int": false,
          "lists-string": false,
          "nested_dicts": false,
          "timestamp": false
         },
         {
          "bools": false,
          "dicts": false,
          "index": "is_integer",
          "ints": false,
          "lists": false,
          "lists-int": false,
          "lists-string": false,
          "nested_dicts": false,
          "timestamp": false
         },
         {
          "bools": false,
          "dicts": false,
          "index": "is_datetime",
          "ints": false,
          "lists": false,
          "lists-int": false,
          "lists-string": false,
          "nested_dicts": false,
          "timestamp": false
         },
         {
          "bools": false,
          "dicts": false,
          "index": "is_bool",
          "ints": false,
          "lists": false,
          "lists-int": false,
          "lists-string": false,
          "nested_dicts": false,
          "timestamp": false
         },
         {
          "bools": false,
          "dicts": false,
          "index": "is_float",
          "ints": true,
          "lists": false,
          "lists-int": false,
          "lists-string": false,
          "nested_dicts": false,
          "timestamp": false
         },
         {
          "bools": "obj",
          "dicts": "obj",
          "index": "_type",
          "ints": "float",
          "lists": "obj",
          "lists-int": "obj",
          "lists-string": "obj",
          "nested_dicts": "obj",
          "timestamp": "obj"
         },
         {
          "bools": false,
          "dicts": false,
          "index": "is_string",
          "ints": false,
          "lists": false,
          "lists-int": false,
          "lists-string": false,
          "nested_dicts": false,
          "timestamp": false
         },
         {
          "bools": 176,
          "dicts": 176,
          "index": "memory_usage",
          "ints": 176,
          "lists": 176,
          "lists-int": 176,
          "lists-string": 176,
          "nested_dicts": 176,
          "timestamp": 176
         },
         {
          "bools": 6,
          "dicts": 6,
          "index": "length",
          "ints": 6,
          "lists": 6,
          "lists-int": 6,
          "lists-string": 6,
          "nested_dicts": 6,
          "timestamp": 6
         },
         {
          "bools": null,
          "dicts": null,
          "index": "min",
          "ints": -10,
          "lists": null,
          "lists-int": null,
          "lists-string": null,
          "nested_dicts": null,
          "timestamp": null
         },
         {
          "bools": null,
          "dicts": null,
          "index": "max",
          "ints": 7772,
          "lists": null,
          "lists-int": null,
          "lists-string": null,
          "nested_dicts": null,
          "timestamp": null
         },
         {
          "bools": 0,
          "dicts": 0,
          "index": "mean",
          "ints": 1563.4,
          "lists": 0,
          "lists-int": 0,
          "lists-string": 0,
          "nested_dicts": 0,
          "timestamp": 0
         },
         {
          "bools": 1,
          "dicts": 5,
          "index": "nan_count",
          "ints": 1,
          "lists": 4,
          "lists-int": 3,
          "lists-string": 4,
          "nested_dicts": 5,
          "timestamp": 2
         },
         {
          "bools": [
           3,
           2
          ],
          "dicts": [
           1
          ],
          "index": "value_counts",
          "ints": [
           1,
           1,
           1,
           1,
           1
          ],
          "lists": [
           1,
           1
          ],
          "lists-int": [
           1,
           1,
           1
          ],
          "lists-string": [
           1,
           1
          ],
          "nested_dicts": [
           1
          ],
          "timestamp": [
           1,
           1,
           1,
           1
          ]
         },
         {
          "bools": true,
          "dicts": {
           "a": 10,
           "b": 20,
           "c": "some string"
          },
          "index": "mode",
          "ints": -10,
          "lists": [
           "a",
           "b"
          ],
          "lists-int": [
           8
          ],
          "lists-string": [
           "a",
           "b"
          ],
          "nested_dicts": {
           "level_1": {
            "a": 10,
            "b": 20,
            "c": "some string"
           }
          },
          "timestamp": "2020-01-01 01:00Z"
         },
         {
          "bools": 0.3333333333,
          "dicts": 0.1666666667,
          "index": "distinct_per",
          "ints": 0.8333333333,
          "lists": 0.3333333333,
          "lists-int": 0.5,
          "lists-string": 0.3333333333,
          "nested_dicts": 0.1666666667,
          "timestamp": 0.6666666667
         },
         {
          "bools": 0,
          "dicts": 0,
          "index": "empty_per",
          "ints": 0,
          "lists": 0,
          "lists-int": 0,
          "lists-string": 0,
          "nested_dicts": 0,
          "timestamp": 0
         },
         {
          "bools": 0,
          "dicts": 0.1666666667,
          "index": "unique_per",
          "ints": 0.8333333333,
          "lists": 0.3333333333,
          "lists-int": 0.5,
          "lists-string": 0.3333333333,
          "nested_dicts": 0.1666666667,
          "timestamp": 0.6666666667
         },
         {
          "bools": 0.1666666667,
          "dicts": 0.8333333333,
          "index": "nan_per",
          "ints": 0.1666666667,
          "lists": 0.6666666667,
          "lists-int": 0.5,
          "lists-string": 0.6666666667,
          "nested_dicts": 0.8333333333,
          "timestamp": 0.3333333333
         },
         {
          "bools": 0,
          "dicts": 1,
          "index": "unique_count",
          "ints": 5,
          "lists": 2,
          "lists-int": 3,
          "lists-string": 2,
          "nested_dicts": 1,
          "timestamp": 4
         },
         {
          "bools": 0,
          "dicts": 0,
          "index": "empty_count",
          "ints": 0,
          "lists": 0,
          "lists-int": 0,
          "lists-string": 0,
          "nested_dicts": 0,
          "timestamp": 0
         },
         {
          "bools": 2,
          "dicts": 1,
          "index": "distinct_count",
          "ints": 5,
          "lists": 2,
          "lists-int": 3,
          "lists-string": 2,
          "nested_dicts": 1,
          "timestamp": 4
         },
         {
          "bools": [
           {
            "cat_pop": 50,
            "name": true
           },
           {
            "cat_pop": 33,
            "name": false
           },
           {
            "NA": 17,
            "name": "NA"
           }
          ],
          "dicts": [
           {
            "cat_pop": 17,
            "name": "{'a': 10, 'b': 20, 'c': 'some string'}"
           },
           {
            "name": "longtail",
            "unique": 17
           },
           {
            "NA": 83,
            "name": "NA"
           }
          ],
          "index": "histogram",
          "ints": [
           {
            "cat_pop": 17,
            "name": 5
           },
           {
            "cat_pop": 17,
            "name": 20
           },
           {
            "cat_pop": 17,
            "name": 30
           },
           {
            "cat_pop": 17,
            "name": -10
           },
           {
            "cat_pop": 17,
            "name": 7772
           },
           {
            "name": "longtail",
            "unique": 83
           },
           {
            "NA": 17,
            "name": "NA"
           }
          ],
          "lists": [
           {
            "cat_pop": 17,
            "name": "['a', 'b']"
           },
           {
            "cat_pop": 17,
            "name": "[1, 2]"
           },
           {
            "name": "longtail",
            "unique": 33
           },
           {
            "NA": 67,
            "name": "NA"
           }
          ],
          "lists-int": [
           {
            "cat_pop": 17,
            "name": "[10, 20]"
           },
           {
            "cat_pop": 17,
            "name": "[100, 500]"
           },
           {
            "cat_pop": 17,
            "name": "[8]"
           },
           {
            "name": "longtail",
            "unique": 50
           },
           {
            "NA": 50,
            "name": "NA"
           }
          ],
          "lists-string": [
           {
            "cat_pop": 17,
            "name": "['a', 'b']"
           },
           {
            "cat_pop": 17,
            "name": "['foo', 'bar']"
           },
           {
            "name": "longtail",
            "unique": 33
           },
           {
            "NA": 67,
            "name": "NA"
           }
          ],
          "nested_dicts": [
           {
            "cat_pop": 17,
            "name": "{'level_1': {'a': 10, 'b': 20, 'c': 'some string'}}"
           },
           {
            "name": "longtail",
            "unique": 17
           },
           {
            "NA": 83,
            "name": "NA"
           }
          ],
          "timestamp": [
           {
            "cat_pop": 17,
            "name": "2020-01-01 01:00Z"
           },
           {
            "cat_pop": 17,
            "name": "2020-01-01 02:00Z"
           },
           {
            "cat_pop": 17,
            "name": "2020-02-28 02:00Z"
           },
           {
            "cat_pop": 17,
            "name": "2020-03-15 02:00Z"
           },
           {
            "name": "longtail",
            "unique": 67
           },
           {
            "NA": 33,
            "name": "NA"
           }
          ]
         },
         {
          "bools": {},
          "dicts": {},
          "index": "histogram_args",
          "ints": {
           "high_tail": 7462.32,
           "low_tail": -9.4,
           "meat_histogram": [
            [
             1,
             0,
             0,
             0,
             0,
             0,
             1,
             0,
             0,
             1
            ],
            [
             5,
             7.5,
             10,
             12.5,
             15,
             17.5,
             20,
             22.5,
             25,
             27.5,
             30
            ]
           ],
           "normalized_populations": [
            0.3333333333,
            0,
            0,
            0,
            0,
            0,
            0.3333333333,
            0,
            0,
            0.3333333333
           ]
          },
          "lists": {},
          "lists-int": {},
          "lists-string": {},
          "nested_dicts": {},
          "timestamp": {}
         },
         {
          "bools": [],
          "dicts": [],
          "index": "histogram_bins",
          "ints": [
           5,
           7.5,
           10,
           12.5,
           15,
           17.5,
           20,
           22.5,
           25,
           27.5,
           30
          ],
          "lists": [],
          "lists-int": [],
          "lists-string": [],
          "nested_dicts": [],
          "timestamp": []
         },
         {
          "bools": 5,
          "dicts": 1,
          "index": "non_null_count",
          "ints": 5,
          "lists": 2,
          "lists-int": 3,
          "lists-string": 2,
          "nested_dicts": 1,
          "timestamp": 4
         },
         {
          "bools": 1,
          "dicts": 5,
          "index": "null_count",
          "ints": 1,
          "lists": 4,
          "lists-int": 3,
          "lists-string": 4,
          "nested_dicts": 5,
          "timestamp": 2
         },
         {
          "bools": true,
          "dicts": {
           "a": 10,
           "b": 20,
           "c": "some string"
          },
          "index": "most_freq",
          "ints": 5,
          "lists": [
           "a",
           "b"
          ],
          "lists-int": [
           10,
           20
          ],
          "lists-string": [
           "a",
           "b"
          ],
          "nested_dicts": {
           "level_1": {
            "a": 10,
            "b": 20,
            "c": "some string"
           }
          },
          "timestamp": "2020-01-01 01:00Z"
         },
         {
          "bools": false,
          "dicts": null,
          "index": "2nd_freq",
          "ints": 20,
          "lists": [
           1,
           2
          ],
          "lists-int": [
           100,
           500
          ],
          "lists-string": [
           "foo",
           "bar"
          ],
          "nested_dicts": null,
          "timestamp": "2020-01-01 02:00Z"
         },
         {
          "bools": null,
          "dicts": null,
          "index": "3rd_freq",
          "ints": 30,
          "lists": null,
          "lists-int": [
           8
          ],
          "lists-string": null,
          "nested_dicts": null,
          "timestamp": "2020-02-28 02:00Z"
         },
         {
          "bools": null,
          "dicts": null,
          "index": "4th_freq",
          "ints": -10,
          "lists": null,
          "lists-int": null,
          "lists-string": null,
          "nested_dicts": null,
          "timestamp": "2020-03-15 02:00Z"
         },
         {
          "bools": null,
          "dicts": null,
          "index": "5th_freq",
          "ints": 7772,
          "lists": null,
          "lists-int": null,
          "lists-string": null,
          "nested_dicts": null,
          "timestamp": null
         }
        ],
        "empty": [],
        "main": [
         {
          "bools": true,
          "dicts": {
           "a": 10,
           "b": 20,
           "c": "some string"
          },
          "index": 0,
          "ints": 5,
          "lists": [
           "a",
           "b"
          ],
          "lists-int": [
           10,
           20
          ],
          "lists-string": [
           "a",
           "b"
          ],
          "nested_dicts": {
           "level_1": {
            "a": 10,
            "b": 20,
            "c": "some string"
           }
          },
          "timestamp": "2020-01-01 01:00Z"
         },
         {
          "bools": true,
          "dicts": null,
          "index": 1,
          "ints": 20,
          "lists": [
           1,
           2
          ],
          "lists-int": [
           100,
           500
          ],
          "lists-string": [
           "foo",
           "bar"
          ],
          "nested_dicts": null,
          "timestamp": "2020-01-01 02:00Z"
         },
         {
          "bools": false,
          "dicts": null,
          "index": 2,
          "ints": 30,
          "lists": null,
          "lists-int": [
           8
          ],
          "lists-string": null,
          "nested_dicts": null,
          "timestamp": "2020-02-28 02:00Z"
         },
         {
          "bools": false,
          "dicts": null,
          "index": 3,
          "ints": -10,
          "lists": null,
          "lists-int": null,
          "lists-string": null,
          "nested_dicts": null,
          "timestamp": "2020-03-15 02:00Z"
         },
         {
          "bools": true,
          "dicts": null,
          "index": 4,
          "ints": 7772,
          "lists": null,
          "lists-int": null,
          "lists-string": null,
          "nested_dicts": null,
          "timestamp": null
         },
         {
          "bools": null,
          "dicts": null,
          "index": 5,
          "ints": null,
          "lists": null,
          "lists-int": null,
          "lists-string": null,
          "nested_dicts": null,
          "timestamp": null
         }
        ]
       },
       "df_display_args": {
        "main": {
         "data_key": "main",
         "df_viewer_config": {
          "column_config": [
           {
            "col_name": "index",
            "displayer_args": {
             "displayer": "float",
             "max_fraction_digits": 0,
             "min_fraction_digits": 0
            }
           },
           {
            "col_name": "bools",
            "displayer_args": {
             "displayer": "obj"
            },
            "tooltip_config": {
             "tooltip_type": "simple",
             "val_column": "bools"
            }
           },
           {
            "col_name": "ints",
            "displayer_args": {
             "displayer": "float",
             "max_fraction_digits": 3,
             "min_fraction_digits": 3
            }
           },
           {
            "col_name": "timestamp",
            "displayer_args": {
             "displayer": "obj"
            },
            "tooltip_config": {
             "tooltip_type": "simple",
             "val_column": "timestamp"
            }
           },
           {
            "col_name": "dicts",
            "displayer_args": {
             "displayer": "obj"
            },
            "tooltip_config": {
             "tooltip_type": "simple",
             "val_column": "dicts"
            }
           },
           {
            "col_name": "nested_dicts",
            "displayer_args": {
             "displayer": "obj"
            },
            "tooltip_config": {
             "tooltip_type": "simple",
             "val_column": "nested_dicts"
            }
           },
           {
            "col_name": "lists",
            "displayer_args": {
             "displayer": "obj"
            },
            "tooltip_config": {
             "tooltip_type": "simple",
             "val_column": "lists"
            }
           },
           {
            "col_name": "lists-string",
            "displayer_args": {
             "displayer": "obj"
            },
            "tooltip_config": {
             "tooltip_type": "simple",
             "val_column": "lists-string"
            }
           },
           {
            "col_name": "lists-int",
            "displayer_args": {
             "displayer": "obj"
            },
            "tooltip_config": {
             "tooltip_type": "simple",
             "val_column": "lists-int"
            }
           }
          ],
          "component_config": {
           "className": "asdf"
          },
          "extra_grid_config": {},
          "pinned_rows": [
           {
            "displayer_args": {
             "displayer": "obj"
            },
            "primary_key_val": "dtype"
           },
           {
            "displayer_args": {
             "displayer": "histogram"
            },
            "primary_key_val": "histogram"
           }
          ]
         },
         "summary_stats_key": "all_stats"
        },
        "summary": {
         "data_key": "empty",
         "df_viewer_config": {
          "column_config": [
           {
            "col_name": "index",
            "displayer_args": {
             "displayer": "obj"
            }
           },
           {
            "col_name": "bools",
            "displayer_args": {
             "displayer": "obj"
            }
           },
           {
            "col_name": "ints",
            "displayer_args": {
             "displayer": "obj"
            }
           },
           {
            "col_name": "timestamp",
            "displayer_args": {
             "displayer": "obj"
            }
           },
           {
            "col_name": "dicts",
            "displayer_args": {
             "displayer": "obj"
            }
           },
           {
            "col_name": "nested_dicts",
            "displayer_args": {
             "displayer": "obj"
            }
           },
           {
            "col_name": "lists",
            "displayer_args": {
             "displayer": "obj"
            }
           },
           {
            "col_name": "lists-string",
            "displayer_args": {
             "displayer": "obj"
            }
           },
           {
            "col_name": "lists-int",
            "displayer_args": {
             "displayer": "obj"
            }
           }
          ],
          "component_config": {},
          "extra_grid_config": {},
          "pinned_rows": [
           {
            "displayer_args": {
             "displayer": "obj"
            },
            "primary_key_val": "dtype"
           },
           {
            "displayer_args": {
             "displayer": "float",
             "max_fraction_digits": 0,
             "min_fraction_digits": 0
            },
            "primary_key_val": "non_null_count"
           },
           {
            "displayer_args": {
             "displayer": "float",
             "max_fraction_digits": 0,
             "min_fraction_digits": 0
            },
            "primary_key_val": "null_count"
           },
           {
            "displayer_args": {
             "displayer": "float",
             "max_fraction_digits": 3,
             "min_fraction_digits": 3
            },
            "primary_key_val": "mean"
           },
           {
            "displayer_args": {
             "displayer": "float",
             "max_fraction_digits": 3,
             "min_fraction_digits": 3
            },
            "primary_key_val": "std"
           },
           {
            "displayer_args": {
             "displayer": "float",
             "max_fraction_digits": 3,
             "min_fraction_digits": 3
            },
            "primary_key_val": "min"
           },
           {
            "displayer_args": {
             "displayer": "float",
             "max_fraction_digits": 3,
             "min_fraction_digits": 3
            },
            "primary_key_val": "25th"
           },
           {
            "displayer_args": {
             "displayer": "float",
             "max_fraction_digits": 3,
             "min_fraction_digits": 3
            },
            "primary_key_val": "median"
           },
           {
            "displayer_args": {
             "displayer": "float",
             "max_fraction_digits": 3,
             "min_fraction_digits": 3
            },
            "primary_key_val": "75th"
           },
           {
            "displayer_args": {
             "displayer": "float",
             "max_fraction_digits": 3,
             "min_fraction_digits": 3
            },
            "primary_key_val": "max"
           },
           {
            "displayer_args": {
             "displayer": "float",
             "max_fraction_digits": 0,
             "min_fraction_digits": 0
            },
            "primary_key_val": "unique_count"
           },
           {
            "displayer_args": {
             "displayer": "float",
             "max_fraction_digits": 0,
             "min_fraction_digits": 0
            },
            "primary_key_val": "distinct_count"
           },
           {
            "displayer_args": {
             "displayer": "obj"
            },
            "primary_key_val": "most_freq"
           },
           {
            "displayer_args": {
             "displayer": "obj"
            },
            "primary_key_val": "2nd_freq"
           },
           {
            "displayer_args": {
             "displayer": "obj"
            },
            "primary_key_val": "3rd_freq"
           },
           {
            "displayer_args": {
             "displayer": "obj"
            },
            "primary_key_val": "4th_freq"
           },
           {
            "displayer_args": {
             "displayer": "obj"
            },
            "primary_key_val": "5th_freq"
           }
          ]
         },
         "summary_stats_key": "all_stats"
        }
       },
       "df_meta": {
        "columns": 8,
        "filtered_rows": 6,
        "rows_shown": 6,
        "total_rows": 6
       },
       "layout": "IPY_MODEL_10d50be71d3746c78a7ae7c8347ce74f",
       "operation_results": {
        "generated_py_code": "no operations",
        "transformed_df": null
       },
       "operations": []
      }
     },
     "70d0cd6aecbc4d5ea419d4f44402d658": {
      "model_module": "@jupyter-widgets/base",
      "model_module_version": "2.0.0",
      "model_name": "LayoutModel",
      "state": {}
     },
     "7997d2dfa16541f9be57f59e958f6a6f": {
      "model_module": "@jupyter-widgets/base",
      "model_module_version": "2.0.0",
      "model_name": "LayoutModel",
      "state": {}
     },
     "aca1a4d59dda43d2b2c6fbcc5b992990": {
      "model_module": "buckaroo",
      "model_module_version": "^0.7.9",
      "model_name": "DCEFWidgetModel",
      "state": {
       "_model_module_version": "^0.7.9",
       "_view_module_version": "^0.7.9",
       "_view_name": "DCEFWidgetView",
       "buckaroo_options": {
        "auto_clean": [
         "aggressive",
         "conservative"
        ],
        "df_display": [
         "main",
         "summary"
        ],
        "post_processing": [
         ""
        ],
        "sampled": [
         "random"
        ],
        "show_commands": [
         "on"
        ],
        "summary_stats": [
         "all"
        ]
       },
       "buckaroo_state": {
        "cleaning_method": "NoCleaning",
        "df_display": "main",
        "post_processing": "",
        "quick_command_args": {},
        "sampled": false,
        "search_string": "",
        "show_commands": false
       },
       "commandConfig": {
        "argspecs": {
         "drop_duplicates": [
          [
           3,
           "keep",
           "enum",
           [
            "first",
            "last",
            "False"
           ]
          ]
         ],
         "dropcol": [
          null
         ],
         "fillna": [
          [
           3,
           "fillVal",
           "type",
           "integer"
          ]
         ],
         "groupby": [
          [
           3,
           "colMap",
           "colEnum",
           [
            "null",
            "mean",
            "median",
            "min",
            "max",
            "sum",
            "count",
            "count_null",
            "std",
            "empty",
            "h",
            "nunique",
            "is_monotonic",
            "is_monotonic_decreasing",
            "is_monotonic_increasing",
            "all",
            "any",
            "autocorr",
            "kurt",
            "mad",
            "sem",
            "skew",
            "i",
            "idxmin",
            "dtype",
            "dtypes",
            "nbytes",
            "ndim",
            "size"
           ]
          ]
         ],
         "groupby_transform": [
          [
           3,
           "colMap",
           "colEnum",
           [
            "null",
            "mean",
            "median",
            "min",
            "max",
            "sum",
            "count",
            "count_null",
            "std",
            "empty",
            "h",
            "nunique",
            "is_monotonic",
            "is_monotonic_decreasing",
            "is_monotonic_increasing",
            "all",
            "any",
            "autocorr",
            "kurt",
            "mad",
            "sem",
            "skew",
            "i",
            "idxmin",
            "dtype",
            "dtypes",
            "nbytes",
            "ndim",
            "size"
           ]
          ]
         ],
         "linear_regression": [
          [
           3,
           "x_cols",
           "colEnum",
           [
            "null",
            "basic",
            "one_hot"
           ]
          ]
         ],
         "make_category": [
          null
         ],
         "only_outliers": [
          [
           3,
           "only_outliers",
           "type",
           "float"
          ]
         ],
         "rank": [
          [
           3,
           "method",
           "enum",
           [
            "None",
            "min",
            "dense"
           ]
          ],
          [
           4,
           "new_col",
           "bool"
          ]
         ],
         "remove_outliers": [
          [
           3,
           "remove_outliers",
           "type",
           "float"
          ]
         ],
         "safe_int": [
          null
         ],
         "search": [
          [
           3,
           "term",
           "type",
           "string"
          ]
         ],
         "search_col": [
          [
           3,
           "term",
           "type",
           "string"
          ]
         ]
        },
        "defaultArgs": {
         "drop_duplicates": [
          {
           "symbol": "drop_duplicates"
          },
          {
           "symbol": "df"
          },
          "col",
          "first"
         ],
         "dropcol": [
          {
           "symbol": "dropcol"
          },
          {
           "symbol": "df"
          },
          "col"
         ],
         "fillna": [
          {
           "symbol": "fillna"
          },
          {
           "symbol": "df"
          },
          "col",
          8
         ],
         "groupby": [
          {
           "symbol": "groupby"
          },
          {
           "symbol": "df"
          },
          "col",
          {}
         ],
         "groupby_transform": [
          {
           "symbol": "groupby_transform"
          },
          {
           "symbol": "df"
          },
          "col",
          {}
         ],
         "linear_regression": [
          {
           "symbol": "linear_regression"
          },
          {
           "symbol": "df"
          },
          "col",
          {}
         ],
         "make_category": [
          {
           "symbol": "make_category"
          },
          {
           "symbol": "df"
          },
          "col"
         ],
         "only_outliers": [
          {
           "symbol": "only_outliers"
          },
          {
           "symbol": "df"
          },
          "col",
          0.01
         ],
         "rank": [
          {
           "symbol": "rank"
          },
          {
           "symbol": "df"
          },
          "col",
          "None",
          false
         ],
         "remove_outliers": [
          {
           "symbol": "remove_outliers"
          },
          {
           "symbol": "df"
          },
          "col",
          0.01
         ],
         "safe_int": [
          {
           "symbol": "safe_int"
          },
          {
           "symbol": "df"
          },
          "col"
         ],
         "search": [
          {
           "symbol": "search"
          },
          {
           "symbol": "df"
          },
          "col",
          ""
         ],
         "search_col": [
          {
           "symbol": "search_col"
          },
          {
           "symbol": "df"
          },
          "col",
          ""
         ]
        }
       },
       "df_data_dict": {
        "all_stats": [
         {
          "bools": "object",
          "dicts": "object",
          "index": "dtype",
          "ints": "float64",
          "lists": "object",
          "lists-int": "object",
          "lists-string": "object",
          "nested_dicts": "object",
          "timestamp": "object"
         },
         {
          "bools": false,
          "dicts": false,
          "index": "is_numeric",
          "ints": true,
          "lists": false,
          "lists-int": false,
          "lists-string": false,
          "nested_dicts": false,
          "timestamp": false
         },
         {
          "bools": false,
          "dicts": false,
          "index": "is_integer",
          "ints": false,
          "lists": false,
          "lists-int": false,
          "lists-string": false,
          "nested_dicts": false,
          "timestamp": false
         },
         {
          "bools": false,
          "dicts": false,
          "index": "is_datetime",
          "ints": false,
          "lists": false,
          "lists-int": false,
          "lists-string": false,
          "nested_dicts": false,
          "timestamp": false
         },
         {
          "bools": false,
          "dicts": false,
          "index": "is_bool",
          "ints": false,
          "lists": false,
          "lists-int": false,
          "lists-string": false,
          "nested_dicts": false,
          "timestamp": false
         },
         {
          "bools": false,
          "dicts": false,
          "index": "is_float",
          "ints": true,
          "lists": false,
          "lists-int": false,
          "lists-string": false,
          "nested_dicts": false,
          "timestamp": false
         },
         {
          "bools": "obj",
          "dicts": "obj",
          "index": "_type",
          "ints": "float",
          "lists": "obj",
          "lists-int": "obj",
          "lists-string": "obj",
          "nested_dicts": "obj",
          "timestamp": "obj"
         },
         {
          "bools": false,
          "dicts": false,
          "index": "is_string",
          "ints": false,
          "lists": false,
          "lists-int": false,
          "lists-string": false,
          "nested_dicts": false,
          "timestamp": false
         },
         {
          "bools": 176,
          "dicts": 176,
          "index": "memory_usage",
          "ints": 176,
          "lists": 176,
          "lists-int": 176,
          "lists-string": 176,
          "nested_dicts": 176,
          "timestamp": 176
         },
         {
          "bools": 6,
          "dicts": 6,
          "index": "length",
          "ints": 6,
          "lists": 6,
          "lists-int": 6,
          "lists-string": 6,
          "nested_dicts": 6,
          "timestamp": 6
         },
         {
          "bools": null,
          "dicts": null,
          "index": "min",
          "ints": -10,
          "lists": null,
          "lists-int": null,
          "lists-string": null,
          "nested_dicts": null,
          "timestamp": null
         },
         {
          "bools": null,
          "dicts": null,
          "index": "max",
          "ints": 7772,
          "lists": null,
          "lists-int": null,
          "lists-string": null,
          "nested_dicts": null,
          "timestamp": null
         },
         {
          "bools": 0,
          "dicts": 0,
          "index": "mean",
          "ints": 1563.4,
          "lists": 0,
          "lists-int": 0,
          "lists-string": 0,
          "nested_dicts": 0,
          "timestamp": 0
         },
         {
          "bools": 1,
          "dicts": 5,
          "index": "nan_count",
          "ints": 1,
          "lists": 4,
          "lists-int": 3,
          "lists-string": 4,
          "nested_dicts": 5,
          "timestamp": 2
         },
         {
          "bools": [
           3,
           2
          ],
          "dicts": [
           1
          ],
          "index": "value_counts",
          "ints": [
           1,
           1,
           1,
           1,
           1
          ],
          "lists": [
           1,
           1
          ],
          "lists-int": [
           1,
           1,
           1
          ],
          "lists-string": [
           1,
           1
          ],
          "nested_dicts": [
           1
          ],
          "timestamp": [
           1,
           1,
           1,
           1
          ]
         },
         {
          "bools": true,
          "dicts": {
           "a": 10,
           "b": 20,
           "c": "some string"
          },
          "index": "mode",
          "ints": -10,
          "lists": [
           "a",
           "b"
          ],
          "lists-int": [
           8
          ],
          "lists-string": [
           "a",
           "b"
          ],
          "nested_dicts": {
           "level_1": {
            "a": 10,
            "b": 20,
            "c": "some string"
           }
          },
          "timestamp": "2020-01-01 01:00Z"
         },
         {
          "bools": 0.3333333333,
          "dicts": 0.1666666667,
          "index": "distinct_per",
          "ints": 0.8333333333,
          "lists": 0.3333333333,
          "lists-int": 0.5,
          "lists-string": 0.3333333333,
          "nested_dicts": 0.1666666667,
          "timestamp": 0.6666666667
         },
         {
          "bools": 0,
          "dicts": 0,
          "index": "empty_per",
          "ints": 0,
          "lists": 0,
          "lists-int": 0,
          "lists-string": 0,
          "nested_dicts": 0,
          "timestamp": 0
         },
         {
          "bools": 0,
          "dicts": 0.1666666667,
          "index": "unique_per",
          "ints": 0.8333333333,
          "lists": 0.3333333333,
          "lists-int": 0.5,
          "lists-string": 0.3333333333,
          "nested_dicts": 0.1666666667,
          "timestamp": 0.6666666667
         },
         {
          "bools": 0.1666666667,
          "dicts": 0.8333333333,
          "index": "nan_per",
          "ints": 0.1666666667,
          "lists": 0.6666666667,
          "lists-int": 0.5,
          "lists-string": 0.6666666667,
          "nested_dicts": 0.8333333333,
          "timestamp": 0.3333333333
         },
         {
          "bools": 0,
          "dicts": 1,
          "index": "unique_count",
          "ints": 5,
          "lists": 2,
          "lists-int": 3,
          "lists-string": 2,
          "nested_dicts": 1,
          "timestamp": 4
         },
         {
          "bools": 0,
          "dicts": 0,
          "index": "empty_count",
          "ints": 0,
          "lists": 0,
          "lists-int": 0,
          "lists-string": 0,
          "nested_dicts": 0,
          "timestamp": 0
         },
         {
          "bools": 2,
          "dicts": 1,
          "index": "distinct_count",
          "ints": 5,
          "lists": 2,
          "lists-int": 3,
          "lists-string": 2,
          "nested_dicts": 1,
          "timestamp": 4
         },
         {
          "bools": [
           {
            "cat_pop": 50,
            "name": true
           },
           {
            "cat_pop": 33,
            "name": false
           },
           {
            "NA": 17,
            "name": "NA"
           }
          ],
          "dicts": [
           {
            "cat_pop": 17,
            "name": "{'a': 10, 'b': 20, 'c': 'some string'}"
           },
           {
            "name": "longtail",
            "unique": 17
           },
           {
            "NA": 83,
            "name": "NA"
           }
          ],
          "index": "histogram",
          "ints": [
           {
            "cat_pop": 17,
            "name": 5
           },
           {
            "cat_pop": 17,
            "name": 20
           },
           {
            "cat_pop": 17,
            "name": 30
           },
           {
            "cat_pop": 17,
            "name": -10
           },
           {
            "cat_pop": 17,
            "name": 7772
           },
           {
            "name": "longtail",
            "unique": 83
           },
           {
            "NA": 17,
            "name": "NA"
           }
          ],
          "lists": [
           {
            "cat_pop": 17,
            "name": "['a', 'b']"
           },
           {
            "cat_pop": 17,
            "name": "[1, 2]"
           },
           {
            "name": "longtail",
            "unique": 33
           },
           {
            "NA": 67,
            "name": "NA"
           }
          ],
          "lists-int": [
           {
            "cat_pop": 17,
            "name": "[10, 20]"
           },
           {
            "cat_pop": 17,
            "name": "[100, 500]"
           },
           {
            "cat_pop": 17,
            "name": "[8]"
           },
           {
            "name": "longtail",
            "unique": 50
           },
           {
            "NA": 50,
            "name": "NA"
           }
          ],
          "lists-string": [
           {
            "cat_pop": 17,
            "name": "['a', 'b']"
           },
           {
            "cat_pop": 17,
            "name": "['foo', 'bar']"
           },
           {
            "name": "longtail",
            "unique": 33
           },
           {
            "NA": 67,
            "name": "NA"
           }
          ],
          "nested_dicts": [
           {
            "cat_pop": 17,
            "name": "{'level_1': {'a': 10, 'b': 20, 'c': 'some string'}}"
           },
           {
            "name": "longtail",
            "unique": 17
           },
           {
            "NA": 83,
            "name": "NA"
           }
          ],
          "timestamp": [
           {
            "cat_pop": 17,
            "name": "2020-01-01 01:00Z"
           },
           {
            "cat_pop": 17,
            "name": "2020-01-01 02:00Z"
           },
           {
            "cat_pop": 17,
            "name": "2020-02-28 02:00Z"
           },
           {
            "cat_pop": 17,
            "name": "2020-03-15 02:00Z"
           },
           {
            "name": "longtail",
            "unique": 67
           },
           {
            "NA": 33,
            "name": "NA"
           }
          ]
         },
         {
          "bools": {},
          "dicts": {},
          "index": "histogram_args",
          "ints": {
           "high_tail": 7462.32,
           "low_tail": -9.4,
           "meat_histogram": [
            [
             1,
             0,
             0,
             0,
             0,
             0,
             1,
             0,
             0,
             1
            ],
            [
             5,
             7.5,
             10,
             12.5,
             15,
             17.5,
             20,
             22.5,
             25,
             27.5,
             30
            ]
           ],
           "normalized_populations": [
            0.3333333333,
            0,
            0,
            0,
            0,
            0,
            0.3333333333,
            0,
            0,
            0.3333333333
           ]
          },
          "lists": {},
          "lists-int": {},
          "lists-string": {},
          "nested_dicts": {},
          "timestamp": {}
         },
         {
          "bools": [],
          "dicts": [],
          "index": "histogram_bins",
          "ints": [
           5,
           7.5,
           10,
           12.5,
           15,
           17.5,
           20,
           22.5,
           25,
           27.5,
           30
          ],
          "lists": [],
          "lists-int": [],
          "lists-string": [],
          "nested_dicts": [],
          "timestamp": []
         },
         {
          "bools": 5,
          "dicts": 1,
          "index": "non_null_count",
          "ints": 5,
          "lists": 2,
          "lists-int": 3,
          "lists-string": 2,
          "nested_dicts": 1,
          "timestamp": 4
         },
         {
          "bools": 1,
          "dicts": 5,
          "index": "null_count",
          "ints": 1,
          "lists": 4,
          "lists-int": 3,
          "lists-string": 4,
          "nested_dicts": 5,
          "timestamp": 2
         },
         {
          "bools": true,
          "dicts": {
           "a": 10,
           "b": 20,
           "c": "some string"
          },
          "index": "most_freq",
          "ints": 5,
          "lists": [
           "a",
           "b"
          ],
          "lists-int": [
           10,
           20
          ],
          "lists-string": [
           "a",
           "b"
          ],
          "nested_dicts": {
           "level_1": {
            "a": 10,
            "b": 20,
            "c": "some string"
           }
          },
          "timestamp": "2020-01-01 01:00Z"
         },
         {
          "bools": false,
          "dicts": null,
          "index": "2nd_freq",
          "ints": 20,
          "lists": [
           1,
           2
          ],
          "lists-int": [
           100,
           500
          ],
          "lists-string": [
           "foo",
           "bar"
          ],
          "nested_dicts": null,
          "timestamp": "2020-01-01 02:00Z"
         },
         {
          "bools": null,
          "dicts": null,
          "index": "3rd_freq",
          "ints": 30,
          "lists": null,
          "lists-int": [
           8
          ],
          "lists-string": null,
          "nested_dicts": null,
          "timestamp": "2020-02-28 02:00Z"
         },
         {
          "bools": null,
          "dicts": null,
          "index": "4th_freq",
          "ints": -10,
          "lists": null,
          "lists-int": null,
          "lists-string": null,
          "nested_dicts": null,
          "timestamp": "2020-03-15 02:00Z"
         },
         {
          "bools": null,
          "dicts": null,
          "index": "5th_freq",
          "ints": 7772,
          "lists": null,
          "lists-int": null,
          "lists-string": null,
          "nested_dicts": null,
          "timestamp": null
         }
        ],
        "empty": [],
        "main": [
         {
          "bools": true,
          "dicts": {
           "a": 10,
           "b": 20,
           "c": "some string"
          },
          "index": 0,
          "ints": 5,
          "lists": [
           "a",
           "b"
          ],
          "lists-int": [
           10,
           20
          ],
          "lists-string": [
           "a",
           "b"
          ],
          "nested_dicts": {
           "level_1": {
            "a": 10,
            "b": 20,
            "c": "some string"
           }
          },
          "timestamp": "2020-01-01 01:00Z"
         },
         {
          "bools": true,
          "dicts": null,
          "index": 1,
          "ints": 20,
          "lists": [
           1,
           2
          ],
          "lists-int": [
           100,
           500
          ],
          "lists-string": [
           "foo",
           "bar"
          ],
          "nested_dicts": null,
          "timestamp": "2020-01-01 02:00Z"
         },
         {
          "bools": false,
          "dicts": null,
          "index": 2,
          "ints": 30,
          "lists": null,
          "lists-int": [
           8
          ],
          "lists-string": null,
          "nested_dicts": null,
          "timestamp": "2020-02-28 02:00Z"
         },
         {
          "bools": false,
          "dicts": null,
          "index": 3,
          "ints": -10,
          "lists": null,
          "lists-int": null,
          "lists-string": null,
          "nested_dicts": null,
          "timestamp": "2020-03-15 02:00Z"
         },
         {
          "bools": true,
          "dicts": null,
          "index": 4,
          "ints": 7772,
          "lists": null,
          "lists-int": null,
          "lists-string": null,
          "nested_dicts": null,
          "timestamp": null
         },
         {
          "bools": null,
          "dicts": null,
          "index": 5,
          "ints": null,
          "lists": null,
          "lists-int": null,
          "lists-string": null,
          "nested_dicts": null,
          "timestamp": null
         }
        ]
       },
       "df_display_args": {
        "main": {
         "data_key": "main",
         "df_viewer_config": {
          "column_config": [
           {
            "col_name": "index",
            "displayer_args": {
             "displayer": "float",
             "max_fraction_digits": 0,
             "min_fraction_digits": 0
            }
           },
           {
            "col_name": "bools",
            "displayer_args": {
             "displayer": "obj"
            },
            "tooltip_config": {
             "tooltip_type": "simple",
             "val_column": "bools"
            }
           },
           {
            "col_name": "ints",
            "displayer_args": {
             "displayer": "float",
             "max_fraction_digits": 3,
             "min_fraction_digits": 3
            }
           },
           {
            "col_name": "timestamp",
            "displayer_args": {
             "displayer": "obj"
            },
            "tooltip_config": {
             "tooltip_type": "simple",
             "val_column": "timestamp"
            }
           },
           {
            "col_name": "dicts",
            "displayer_args": {
             "displayer": "obj"
            },
            "tooltip_config": {
             "tooltip_type": "simple",
             "val_column": "dicts"
            }
           },
           {
            "col_name": "nested_dicts",
            "displayer_args": {
             "displayer": "obj"
            },
            "tooltip_config": {
             "tooltip_type": "simple",
             "val_column": "nested_dicts"
            }
           },
           {
            "col_name": "lists",
            "displayer_args": {
             "displayer": "obj"
            },
            "tooltip_config": {
             "tooltip_type": "simple",
             "val_column": "lists"
            }
           },
           {
            "col_name": "lists-string",
            "displayer_args": {
             "displayer": "obj"
            },
            "tooltip_config": {
             "tooltip_type": "simple",
             "val_column": "lists-string"
            }
           },
           {
            "col_name": "lists-int",
            "displayer_args": {
             "displayer": "obj"
            },
            "tooltip_config": {
             "tooltip_type": "simple",
             "val_column": "lists-int"
            }
           }
          ],
          "component_config": {
           "className": "asdf",
           "selectionBackground": "var(--ag-range-selection-background-color-1)"
          },
          "extra_grid_config": {},
          "pinned_rows": [
           {
            "displayer_args": {
             "displayer": "obj"
            },
            "primary_key_val": "dtype"
           },
           {
            "displayer_args": {
             "displayer": "histogram"
            },
            "primary_key_val": "histogram"
           }
          ]
         },
         "summary_stats_key": "all_stats"
        },
        "summary": {
         "data_key": "empty",
         "df_viewer_config": {
          "column_config": [
           {
            "col_name": "index",
            "displayer_args": {
             "displayer": "obj"
            }
           },
           {
            "col_name": "bools",
            "displayer_args": {
             "displayer": "obj"
            }
           },
           {
            "col_name": "ints",
            "displayer_args": {
             "displayer": "obj"
            }
           },
           {
            "col_name": "timestamp",
            "displayer_args": {
             "displayer": "obj"
            }
           },
           {
            "col_name": "dicts",
            "displayer_args": {
             "displayer": "obj"
            }
           },
           {
            "col_name": "nested_dicts",
            "displayer_args": {
             "displayer": "obj"
            }
           },
           {
            "col_name": "lists",
            "displayer_args": {
             "displayer": "obj"
            }
           },
           {
            "col_name": "lists-string",
            "displayer_args": {
             "displayer": "obj"
            }
           },
           {
            "col_name": "lists-int",
            "displayer_args": {
             "displayer": "obj"
            }
           }
          ],
          "component_config": {},
          "extra_grid_config": {},
          "pinned_rows": [
           {
            "displayer_args": {
             "displayer": "obj"
            },
            "primary_key_val": "dtype"
           },
           {
            "displayer_args": {
             "displayer": "float",
             "max_fraction_digits": 0,
             "min_fraction_digits": 0
            },
            "primary_key_val": "non_null_count"
           },
           {
            "displayer_args": {
             "displayer": "float",
             "max_fraction_digits": 0,
             "min_fraction_digits": 0
            },
            "primary_key_val": "null_count"
           },
           {
            "displayer_args": {
             "displayer": "float",
             "max_fraction_digits": 3,
             "min_fraction_digits": 3
            },
            "primary_key_val": "mean"
           },
           {
            "displayer_args": {
             "displayer": "float",
             "max_fraction_digits": 3,
             "min_fraction_digits": 3
            },
            "primary_key_val": "std"
           },
           {
            "displayer_args": {
             "displayer": "float",
             "max_fraction_digits": 3,
             "min_fraction_digits": 3
            },
            "primary_key_val": "min"
           },
           {
            "displayer_args": {
             "displayer": "float",
             "max_fraction_digits": 3,
             "min_fraction_digits": 3
            },
            "primary_key_val": "25th"
           },
           {
            "displayer_args": {
             "displayer": "float",
             "max_fraction_digits": 3,
             "min_fraction_digits": 3
            },
            "primary_key_val": "median"
           },
           {
            "displayer_args": {
             "displayer": "float",
             "max_fraction_digits": 3,
             "min_fraction_digits": 3
            },
            "primary_key_val": "75th"
           },
           {
            "displayer_args": {
             "displayer": "float",
             "max_fraction_digits": 3,
             "min_fraction_digits": 3
            },
            "primary_key_val": "max"
           },
           {
            "displayer_args": {
             "displayer": "float",
             "max_fraction_digits": 0,
             "min_fraction_digits": 0
            },
            "primary_key_val": "unique_count"
           },
           {
            "displayer_args": {
             "displayer": "float",
             "max_fraction_digits": 0,
             "min_fraction_digits": 0
            },
            "primary_key_val": "distinct_count"
           },
           {
            "displayer_args": {
             "displayer": "obj"
            },
            "primary_key_val": "most_freq"
           },
           {
            "displayer_args": {
             "displayer": "obj"
            },
            "primary_key_val": "2nd_freq"
           },
           {
            "displayer_args": {
             "displayer": "obj"
            },
            "primary_key_val": "3rd_freq"
           },
           {
            "displayer_args": {
             "displayer": "obj"
            },
            "primary_key_val": "4th_freq"
           },
           {
            "displayer_args": {
             "displayer": "obj"
            },
            "primary_key_val": "5th_freq"
           }
          ]
         },
         "summary_stats_key": "all_stats"
        }
       },
       "df_meta": {
        "columns": 8,
        "filtered_rows": 6,
        "rows_shown": 6,
        "total_rows": 6
       },
       "layout": "IPY_MODEL_70d0cd6aecbc4d5ea419d4f44402d658",
       "operation_results": {
        "generated_py_code": "no operations",
        "transformed_df": null
       },
       "operations": []
      }
     },
     "ad78a09bacb94b4893426a3feb8b5e4a": {
      "model_module": "buckaroo",
      "model_module_version": "^0.7.9",
      "model_name": "DCEFWidgetModel",
      "state": {
       "_model_module_version": "^0.7.9",
       "_view_module_version": "^0.7.9",
       "_view_name": "DCEFWidgetView",
       "buckaroo_options": {
        "auto_clean": [
         "aggressive",
         "conservative"
        ],
        "df_display": [
         "main",
         "summary"
        ],
        "post_processing": [
         ""
        ],
        "sampled": [
         "random"
        ],
        "show_commands": [
         "on"
        ],
        "summary_stats": [
         "all"
        ]
       },
       "buckaroo_state": {
        "cleaning_method": "NoCleaning",
        "df_display": "main",
        "post_processing": "",
        "quick_command_args": {},
        "sampled": false,
        "search_string": "",
        "show_commands": false
       },
       "commandConfig": {
        "argspecs": {
         "drop_duplicates": [
          [
           3,
           "keep",
           "enum",
           [
            "first",
            "last",
            "False"
           ]
          ]
         ],
         "dropcol": [
          null
         ],
         "fillna": [
          [
           3,
           "fillVal",
           "type",
           "integer"
          ]
         ],
         "groupby": [
          [
           3,
           "colMap",
           "colEnum",
           [
            "null",
            "mean",
            "median",
            "min",
            "max",
            "sum",
            "count",
            "count_null",
            "std",
            "empty",
            "h",
            "nunique",
            "is_monotonic",
            "is_monotonic_decreasing",
            "is_monotonic_increasing",
            "all",
            "any",
            "autocorr",
            "kurt",
            "mad",
            "sem",
            "skew",
            "i",
            "idxmin",
            "dtype",
            "dtypes",
            "nbytes",
            "ndim",
            "size"
           ]
          ]
         ],
         "groupby_transform": [
          [
           3,
           "colMap",
           "colEnum",
           [
            "null",
            "mean",
            "median",
            "min",
            "max",
            "sum",
            "count",
            "count_null",
            "std",
            "empty",
            "h",
            "nunique",
            "is_monotonic",
            "is_monotonic_decreasing",
            "is_monotonic_increasing",
            "all",
            "any",
            "autocorr",
            "kurt",
            "mad",
            "sem",
            "skew",
            "i",
            "idxmin",
            "dtype",
            "dtypes",
            "nbytes",
            "ndim",
            "size"
           ]
          ]
         ],
         "linear_regression": [
          [
           3,
           "x_cols",
           "colEnum",
           [
            "null",
            "basic",
            "one_hot"
           ]
          ]
         ],
         "make_category": [
          null
         ],
         "only_outliers": [
          [
           3,
           "only_outliers",
           "type",
           "float"
          ]
         ],
         "rank": [
          [
           3,
           "method",
           "enum",
           [
            "None",
            "min",
            "dense"
           ]
          ],
          [
           4,
           "new_col",
           "bool"
          ]
         ],
         "remove_outliers": [
          [
           3,
           "remove_outliers",
           "type",
           "float"
          ]
         ],
         "safe_int": [
          null
         ],
         "search": [
          [
           3,
           "term",
           "type",
           "string"
          ]
         ],
         "search_col": [
          [
           3,
           "term",
           "type",
           "string"
          ]
         ]
        },
        "defaultArgs": {
         "drop_duplicates": [
          {
           "symbol": "drop_duplicates"
          },
          {
           "symbol": "df"
          },
          "col",
          "first"
         ],
         "dropcol": [
          {
           "symbol": "dropcol"
          },
          {
           "symbol": "df"
          },
          "col"
         ],
         "fillna": [
          {
           "symbol": "fillna"
          },
          {
           "symbol": "df"
          },
          "col",
          8
         ],
         "groupby": [
          {
           "symbol": "groupby"
          },
          {
           "symbol": "df"
          },
          "col",
          {}
         ],
         "groupby_transform": [
          {
           "symbol": "groupby_transform"
          },
          {
           "symbol": "df"
          },
          "col",
          {}
         ],
         "linear_regression": [
          {
           "symbol": "linear_regression"
          },
          {
           "symbol": "df"
          },
          "col",
          {}
         ],
         "make_category": [
          {
           "symbol": "make_category"
          },
          {
           "symbol": "df"
          },
          "col"
         ],
         "only_outliers": [
          {
           "symbol": "only_outliers"
          },
          {
           "symbol": "df"
          },
          "col",
          0.01
         ],
         "rank": [
          {
           "symbol": "rank"
          },
          {
           "symbol": "df"
          },
          "col",
          "None",
          false
         ],
         "remove_outliers": [
          {
           "symbol": "remove_outliers"
          },
          {
           "symbol": "df"
          },
          "col",
          0.01
         ],
         "safe_int": [
          {
           "symbol": "safe_int"
          },
          {
           "symbol": "df"
          },
          "col"
         ],
         "search": [
          {
           "symbol": "search"
          },
          {
           "symbol": "df"
          },
          "col",
          ""
         ],
         "search_col": [
          {
           "symbol": "search_col"
          },
          {
           "symbol": "df"
          },
          "col",
          ""
         ]
        }
       },
       "df_data_dict": {
        "all_stats": [
         {
          "bools": "object",
          "dicts": "object",
          "index": "dtype",
          "ints": "float64",
          "lists": "object",
          "lists-int": "object",
          "lists-string": "object",
          "nested_dicts": "object",
          "timestamp": "object"
         },
         {
          "bools": false,
          "dicts": false,
          "index": "is_numeric",
          "ints": true,
          "lists": false,
          "lists-int": false,
          "lists-string": false,
          "nested_dicts": false,
          "timestamp": false
         },
         {
          "bools": false,
          "dicts": false,
          "index": "is_integer",
          "ints": false,
          "lists": false,
          "lists-int": false,
          "lists-string": false,
          "nested_dicts": false,
          "timestamp": false
         },
         {
          "bools": false,
          "dicts": false,
          "index": "is_datetime",
          "ints": false,
          "lists": false,
          "lists-int": false,
          "lists-string": false,
          "nested_dicts": false,
          "timestamp": false
         },
         {
          "bools": false,
          "dicts": false,
          "index": "is_bool",
          "ints": false,
          "lists": false,
          "lists-int": false,
          "lists-string": false,
          "nested_dicts": false,
          "timestamp": false
         },
         {
          "bools": false,
          "dicts": false,
          "index": "is_float",
          "ints": true,
          "lists": false,
          "lists-int": false,
          "lists-string": false,
          "nested_dicts": false,
          "timestamp": false
         },
         {
          "bools": "obj",
          "dicts": "obj",
          "index": "_type",
          "ints": "float",
          "lists": "obj",
          "lists-int": "obj",
          "lists-string": "obj",
          "nested_dicts": "obj",
          "timestamp": "obj"
         },
         {
          "bools": false,
          "dicts": false,
          "index": "is_string",
          "ints": false,
          "lists": false,
          "lists-int": false,
          "lists-string": false,
          "nested_dicts": false,
          "timestamp": false
         },
         {
          "bools": 176,
          "dicts": 176,
          "index": "memory_usage",
          "ints": 176,
          "lists": 176,
          "lists-int": 176,
          "lists-string": 176,
          "nested_dicts": 176,
          "timestamp": 176
         },
         {
          "bools": 6,
          "dicts": 6,
          "index": "length",
          "ints": 6,
          "lists": 6,
          "lists-int": 6,
          "lists-string": 6,
          "nested_dicts": 6,
          "timestamp": 6
         },
         {
          "bools": null,
          "dicts": null,
          "index": "min",
          "ints": -10,
          "lists": null,
          "lists-int": null,
          "lists-string": null,
          "nested_dicts": null,
          "timestamp": null
         },
         {
          "bools": null,
          "dicts": null,
          "index": "max",
          "ints": 7772,
          "lists": null,
          "lists-int": null,
          "lists-string": null,
          "nested_dicts": null,
          "timestamp": null
         },
         {
          "bools": 0,
          "dicts": 0,
          "index": "mean",
          "ints": 1563.4,
          "lists": 0,
          "lists-int": 0,
          "lists-string": 0,
          "nested_dicts": 0,
          "timestamp": 0
         },
         {
          "bools": 1,
          "dicts": 5,
          "index": "nan_count",
          "ints": 1,
          "lists": 4,
          "lists-int": 3,
          "lists-string": 4,
          "nested_dicts": 5,
          "timestamp": 2
         },
         {
          "bools": [
           3,
           2
          ],
          "dicts": [
           1
          ],
          "index": "value_counts",
          "ints": [
           1,
           1,
           1,
           1,
           1
          ],
          "lists": [
           1,
           1
          ],
          "lists-int": [
           1,
           1,
           1
          ],
          "lists-string": [
           1,
           1
          ],
          "nested_dicts": [
           1
          ],
          "timestamp": [
           1,
           1,
           1,
           1
          ]
         },
         {
          "bools": true,
          "dicts": {
           "a": 10,
           "b": 20,
           "c": "some string"
          },
          "index": "mode",
          "ints": -10,
          "lists": [
           "a",
           "b"
          ],
          "lists-int": [
           8
          ],
          "lists-string": [
           "a",
           "b"
          ],
          "nested_dicts": {
           "level_1": {
            "a": 10,
            "b": 20,
            "c": "some string"
           }
          },
          "timestamp": "2020-01-01 01:00Z"
         },
         {
          "bools": 0.3333333333,
          "dicts": 0.1666666667,
          "index": "distinct_per",
          "ints": 0.8333333333,
          "lists": 0.3333333333,
          "lists-int": 0.5,
          "lists-string": 0.3333333333,
          "nested_dicts": 0.1666666667,
          "timestamp": 0.6666666667
         },
         {
          "bools": 0,
          "dicts": 0,
          "index": "empty_per",
          "ints": 0,
          "lists": 0,
          "lists-int": 0,
          "lists-string": 0,
          "nested_dicts": 0,
          "timestamp": 0
         },
         {
          "bools": 0,
          "dicts": 0.1666666667,
          "index": "unique_per",
          "ints": 0.8333333333,
          "lists": 0.3333333333,
          "lists-int": 0.5,
          "lists-string": 0.3333333333,
          "nested_dicts": 0.1666666667,
          "timestamp": 0.6666666667
         },
         {
          "bools": 0.1666666667,
          "dicts": 0.8333333333,
          "index": "nan_per",
          "ints": 0.1666666667,
          "lists": 0.6666666667,
          "lists-int": 0.5,
          "lists-string": 0.6666666667,
          "nested_dicts": 0.8333333333,
          "timestamp": 0.3333333333
         },
         {
          "bools": 0,
          "dicts": 1,
          "index": "unique_count",
          "ints": 5,
          "lists": 2,
          "lists-int": 3,
          "lists-string": 2,
          "nested_dicts": 1,
          "timestamp": 4
         },
         {
          "bools": 0,
          "dicts": 0,
          "index": "empty_count",
          "ints": 0,
          "lists": 0,
          "lists-int": 0,
          "lists-string": 0,
          "nested_dicts": 0,
          "timestamp": 0
         },
         {
          "bools": 2,
          "dicts": 1,
          "index": "distinct_count",
          "ints": 5,
          "lists": 2,
          "lists-int": 3,
          "lists-string": 2,
          "nested_dicts": 1,
          "timestamp": 4
         },
         {
          "bools": [
           {
            "cat_pop": 50,
            "name": true
           },
           {
            "cat_pop": 33,
            "name": false
           },
           {
            "NA": 17,
            "name": "NA"
           }
          ],
          "dicts": [
           {
            "cat_pop": 17,
            "name": "{'a': 10, 'b': 20, 'c': 'some string'}"
           },
           {
            "name": "longtail",
            "unique": 17
           },
           {
            "NA": 83,
            "name": "NA"
           }
          ],
          "index": "histogram",
          "ints": [
           {
            "cat_pop": 17,
            "name": 5
           },
           {
            "cat_pop": 17,
            "name": 20
           },
           {
            "cat_pop": 17,
            "name": 30
           },
           {
            "cat_pop": 17,
            "name": -10
           },
           {
            "cat_pop": 17,
            "name": 7772
           },
           {
            "name": "longtail",
            "unique": 83
           },
           {
            "NA": 17,
            "name": "NA"
           }
          ],
          "lists": [
           {
            "cat_pop": 17,
            "name": "['a', 'b']"
           },
           {
            "cat_pop": 17,
            "name": "[1, 2]"
           },
           {
            "name": "longtail",
            "unique": 33
           },
           {
            "NA": 67,
            "name": "NA"
           }
          ],
          "lists-int": [
           {
            "cat_pop": 17,
            "name": "[10, 20]"
           },
           {
            "cat_pop": 17,
            "name": "[100, 500]"
           },
           {
            "cat_pop": 17,
            "name": "[8]"
           },
           {
            "name": "longtail",
            "unique": 50
           },
           {
            "NA": 50,
            "name": "NA"
           }
          ],
          "lists-string": [
           {
            "cat_pop": 17,
            "name": "['a', 'b']"
           },
           {
            "cat_pop": 17,
            "name": "['foo', 'bar']"
           },
           {
            "name": "longtail",
            "unique": 33
           },
           {
            "NA": 67,
            "name": "NA"
           }
          ],
          "nested_dicts": [
           {
            "cat_pop": 17,
            "name": "{'level_1': {'a': 10, 'b': 20, 'c': 'some string'}}"
           },
           {
            "name": "longtail",
            "unique": 17
           },
           {
            "NA": 83,
            "name": "NA"
           }
          ],
          "timestamp": [
           {
            "cat_pop": 17,
            "name": "2020-01-01 01:00Z"
           },
           {
            "cat_pop": 17,
            "name": "2020-01-01 02:00Z"
           },
           {
            "cat_pop": 17,
            "name": "2020-02-28 02:00Z"
           },
           {
            "cat_pop": 17,
            "name": "2020-03-15 02:00Z"
           },
           {
            "name": "longtail",
            "unique": 67
           },
           {
            "NA": 33,
            "name": "NA"
           }
          ]
         },
         {
          "bools": {},
          "dicts": {},
          "index": "histogram_args",
          "ints": {
           "high_tail": 7462.32,
           "low_tail": -9.4,
           "meat_histogram": [
            [
             1,
             0,
             0,
             0,
             0,
             0,
             1,
             0,
             0,
             1
            ],
            [
             5,
             7.5,
             10,
             12.5,
             15,
             17.5,
             20,
             22.5,
             25,
             27.5,
             30
            ]
           ],
           "normalized_populations": [
            0.3333333333,
            0,
            0,
            0,
            0,
            0,
            0.3333333333,
            0,
            0,
            0.3333333333
           ]
          },
          "lists": {},
          "lists-int": {},
          "lists-string": {},
          "nested_dicts": {},
          "timestamp": {}
         },
         {
          "bools": [],
          "dicts": [],
          "index": "histogram_bins",
          "ints": [
           5,
           7.5,
           10,
           12.5,
           15,
           17.5,
           20,
           22.5,
           25,
           27.5,
           30
          ],
          "lists": [],
          "lists-int": [],
          "lists-string": [],
          "nested_dicts": [],
          "timestamp": []
         },
         {
          "bools": 5,
          "dicts": 1,
          "index": "non_null_count",
          "ints": 5,
          "lists": 2,
          "lists-int": 3,
          "lists-string": 2,
          "nested_dicts": 1,
          "timestamp": 4
         },
         {
          "bools": 1,
          "dicts": 5,
          "index": "null_count",
          "ints": 1,
          "lists": 4,
          "lists-int": 3,
          "lists-string": 4,
          "nested_dicts": 5,
          "timestamp": 2
         },
         {
          "bools": true,
          "dicts": {
           "a": 10,
           "b": 20,
           "c": "some string"
          },
          "index": "most_freq",
          "ints": 5,
          "lists": [
           "a",
           "b"
          ],
          "lists-int": [
           10,
           20
          ],
          "lists-string": [
           "a",
           "b"
          ],
          "nested_dicts": {
           "level_1": {
            "a": 10,
            "b": 20,
            "c": "some string"
           }
          },
          "timestamp": "2020-01-01 01:00Z"
         },
         {
          "bools": false,
          "dicts": null,
          "index": "2nd_freq",
          "ints": 20,
          "lists": [
           1,
           2
          ],
          "lists-int": [
           100,
           500
          ],
          "lists-string": [
           "foo",
           "bar"
          ],
          "nested_dicts": null,
          "timestamp": "2020-01-01 02:00Z"
         },
         {
          "bools": null,
          "dicts": null,
          "index": "3rd_freq",
          "ints": 30,
          "lists": null,
          "lists-int": [
           8
          ],
          "lists-string": null,
          "nested_dicts": null,
          "timestamp": "2020-02-28 02:00Z"
         },
         {
          "bools": null,
          "dicts": null,
          "index": "4th_freq",
          "ints": -10,
          "lists": null,
          "lists-int": null,
          "lists-string": null,
          "nested_dicts": null,
          "timestamp": "2020-03-15 02:00Z"
         },
         {
          "bools": null,
          "dicts": null,
          "index": "5th_freq",
          "ints": 7772,
          "lists": null,
          "lists-int": null,
          "lists-string": null,
          "nested_dicts": null,
          "timestamp": null
         }
        ],
        "empty": [],
        "main": [
         {
          "bools": true,
          "dicts": {
           "a": 10,
           "b": 20,
           "c": "some string"
          },
          "index": 0,
          "ints": 5,
          "lists": [
           "a",
           "b"
          ],
          "lists-int": [
           10,
           20
          ],
          "lists-string": [
           "a",
           "b"
          ],
          "nested_dicts": {
           "level_1": {
            "a": 10,
            "b": 20,
            "c": "some string"
           }
          },
          "timestamp": "2020-01-01 01:00Z"
         },
         {
          "bools": true,
          "dicts": null,
          "index": 1,
          "ints": 20,
          "lists": [
           1,
           2
          ],
          "lists-int": [
           100,
           500
          ],
          "lists-string": [
           "foo",
           "bar"
          ],
          "nested_dicts": null,
          "timestamp": "2020-01-01 02:00Z"
         },
         {
          "bools": false,
          "dicts": null,
          "index": 2,
          "ints": 30,
          "lists": null,
          "lists-int": [
           8
          ],
          "lists-string": null,
          "nested_dicts": null,
          "timestamp": "2020-02-28 02:00Z"
         },
         {
          "bools": false,
          "dicts": null,
          "index": 3,
          "ints": -10,
          "lists": null,
          "lists-int": null,
          "lists-string": null,
          "nested_dicts": null,
          "timestamp": "2020-03-15 02:00Z"
         },
         {
          "bools": true,
          "dicts": null,
          "index": 4,
          "ints": 7772,
          "lists": null,
          "lists-int": null,
          "lists-string": null,
          "nested_dicts": null,
          "timestamp": null
         },
         {
          "bools": null,
          "dicts": null,
          "index": 5,
          "ints": null,
          "lists": null,
          "lists-int": null,
          "lists-string": null,
          "nested_dicts": null,
          "timestamp": null
         }
        ]
       },
       "df_display_args": {
        "main": {
         "data_key": "main",
         "df_viewer_config": {
          "column_config": [
           {
            "col_name": "index",
            "displayer_args": {
             "displayer": "float",
             "max_fraction_digits": 0,
             "min_fraction_digits": 0
            }
           },
           {
            "col_name": "bools",
            "displayer_args": {
             "displayer": "obj"
            },
            "tooltip_config": {
             "tooltip_type": "simple",
             "val_column": "bools"
            }
           },
           {
            "col_name": "ints",
            "displayer_args": {
             "displayer": "float",
             "max_fraction_digits": 3,
             "min_fraction_digits": 3
            }
           },
           {
            "col_name": "timestamp",
            "displayer_args": {
             "displayer": "obj"
            },
            "tooltip_config": {
             "tooltip_type": "simple",
             "val_column": "timestamp"
            }
           },
           {
            "col_name": "dicts",
            "displayer_args": {
             "displayer": "obj"
            },
            "tooltip_config": {
             "tooltip_type": "simple",
             "val_column": "dicts"
            }
           },
           {
            "col_name": "nested_dicts",
            "displayer_args": {
             "displayer": "obj"
            },
            "tooltip_config": {
             "tooltip_type": "simple",
             "val_column": "nested_dicts"
            }
           },
           {
            "col_name": "lists",
            "displayer_args": {
             "displayer": "obj"
            },
            "tooltip_config": {
             "tooltip_type": "simple",
             "val_column": "lists"
            }
           },
           {
            "col_name": "lists-string",
            "displayer_args": {
             "displayer": "obj"
            },
            "tooltip_config": {
             "tooltip_type": "simple",
             "val_column": "lists-string"
            }
           },
           {
            "col_name": "lists-int",
            "displayer_args": {
             "displayer": "obj"
            },
            "tooltip_config": {
             "tooltip_type": "simple",
             "val_column": "lists-int"
            }
           }
          ],
          "component_config": {
           "className": "asdf",
           "selectionBackground": "var(--ag-range-selection-background-color-3)"
          },
          "extra_grid_config": {},
          "pinned_rows": [
           {
            "displayer_args": {
             "displayer": "obj"
            },
            "primary_key_val": "dtype"
           },
           {
            "displayer_args": {
             "displayer": "histogram"
            },
            "primary_key_val": "histogram"
           }
          ]
         },
         "summary_stats_key": "all_stats"
        },
        "summary": {
         "data_key": "empty",
         "df_viewer_config": {
          "column_config": [
           {
            "col_name": "index",
            "displayer_args": {
             "displayer": "obj"
            }
           },
           {
            "col_name": "bools",
            "displayer_args": {
             "displayer": "obj"
            }
           },
           {
            "col_name": "ints",
            "displayer_args": {
             "displayer": "obj"
            }
           },
           {
            "col_name": "timestamp",
            "displayer_args": {
             "displayer": "obj"
            }
           },
           {
            "col_name": "dicts",
            "displayer_args": {
             "displayer": "obj"
            }
           },
           {
            "col_name": "nested_dicts",
            "displayer_args": {
             "displayer": "obj"
            }
           },
           {
            "col_name": "lists",
            "displayer_args": {
             "displayer": "obj"
            }
           },
           {
            "col_name": "lists-string",
            "displayer_args": {
             "displayer": "obj"
            }
           },
           {
            "col_name": "lists-int",
            "displayer_args": {
             "displayer": "obj"
            }
           }
          ],
          "component_config": {},
          "extra_grid_config": {},
          "pinned_rows": [
           {
            "displayer_args": {
             "displayer": "obj"
            },
            "primary_key_val": "dtype"
           },
           {
            "displayer_args": {
             "displayer": "float",
             "max_fraction_digits": 0,
             "min_fraction_digits": 0
            },
            "primary_key_val": "non_null_count"
           },
           {
            "displayer_args": {
             "displayer": "float",
             "max_fraction_digits": 0,
             "min_fraction_digits": 0
            },
            "primary_key_val": "null_count"
           },
           {
            "displayer_args": {
             "displayer": "float",
             "max_fraction_digits": 3,
             "min_fraction_digits": 3
            },
            "primary_key_val": "mean"
           },
           {
            "displayer_args": {
             "displayer": "float",
             "max_fraction_digits": 3,
             "min_fraction_digits": 3
            },
            "primary_key_val": "std"
           },
           {
            "displayer_args": {
             "displayer": "float",
             "max_fraction_digits": 3,
             "min_fraction_digits": 3
            },
            "primary_key_val": "min"
           },
           {
            "displayer_args": {
             "displayer": "float",
             "max_fraction_digits": 3,
             "min_fraction_digits": 3
            },
            "primary_key_val": "25th"
           },
           {
            "displayer_args": {
             "displayer": "float",
             "max_fraction_digits": 3,
             "min_fraction_digits": 3
            },
            "primary_key_val": "median"
           },
           {
            "displayer_args": {
             "displayer": "float",
             "max_fraction_digits": 3,
             "min_fraction_digits": 3
            },
            "primary_key_val": "75th"
           },
           {
            "displayer_args": {
             "displayer": "float",
             "max_fraction_digits": 3,
             "min_fraction_digits": 3
            },
            "primary_key_val": "max"
           },
           {
            "displayer_args": {
             "displayer": "float",
             "max_fraction_digits": 0,
             "min_fraction_digits": 0
            },
            "primary_key_val": "unique_count"
           },
           {
            "displayer_args": {
             "displayer": "float",
             "max_fraction_digits": 0,
             "min_fraction_digits": 0
            },
            "primary_key_val": "distinct_count"
           },
           {
            "displayer_args": {
             "displayer": "obj"
            },
            "primary_key_val": "most_freq"
           },
           {
            "displayer_args": {
             "displayer": "obj"
            },
            "primary_key_val": "2nd_freq"
           },
           {
            "displayer_args": {
             "displayer": "obj"
            },
            "primary_key_val": "3rd_freq"
           },
           {
            "displayer_args": {
             "displayer": "obj"
            },
            "primary_key_val": "4th_freq"
           },
           {
            "displayer_args": {
             "displayer": "obj"
            },
            "primary_key_val": "5th_freq"
           }
          ]
         },
         "summary_stats_key": "all_stats"
        }
       },
       "df_meta": {
        "columns": 8,
        "filtered_rows": 6,
        "rows_shown": 6,
        "total_rows": 6
       },
       "layout": "IPY_MODEL_df1fcca8edbb49ff878cec5abb6b2972",
       "operation_results": {
        "generated_py_code": "no operations",
        "transformed_df": null
       },
       "operations": []
      }
     },
     "c864caf2caf84403a827a4fbed58b86a": {
      "model_module": "@jupyter-widgets/base",
      "model_module_version": "2.0.0",
      "model_name": "LayoutModel",
      "state": {}
     },
     "c9e0a7881fce4c11ae42ba2c1b8aeab0": {
      "model_module": "buckaroo",
      "model_module_version": "^0.7.9",
      "model_name": "DCEFWidgetModel",
      "state": {
       "_model_module_version": "^0.7.9",
       "_view_module_version": "^0.7.9",
       "_view_name": "DCEFWidgetView",
       "buckaroo_options": {
        "auto_clean": [
         "aggressive",
         "conservative"
        ],
        "df_display": [
         "main",
         "summary"
        ],
        "post_processing": [
         ""
        ],
        "sampled": [
         "random"
        ],
        "show_commands": [
         "on"
        ],
        "summary_stats": [
         "all"
        ]
       },
       "buckaroo_state": {
        "cleaning_method": "NoCleaning",
        "df_display": "main",
        "post_processing": "",
        "quick_command_args": {},
        "sampled": false,
        "search_string": "",
        "show_commands": false
       },
       "commandConfig": {
        "argspecs": {
         "drop_duplicates": [
          [
           3,
           "keep",
           "enum",
           [
            "first",
            "last",
            "False"
           ]
          ]
         ],
         "dropcol": [
          null
         ],
         "fillna": [
          [
           3,
           "fillVal",
           "type",
           "integer"
          ]
         ],
         "groupby": [
          [
           3,
           "colMap",
           "colEnum",
           [
            "null",
            "mean",
            "median",
            "min",
            "max",
            "sum",
            "count",
            "count_null",
            "std",
            "empty",
            "h",
            "nunique",
            "is_monotonic",
            "is_monotonic_decreasing",
            "is_monotonic_increasing",
            "all",
            "any",
            "autocorr",
            "kurt",
            "mad",
            "sem",
            "skew",
            "i",
            "idxmin",
            "dtype",
            "dtypes",
            "nbytes",
            "ndim",
            "size"
           ]
          ]
         ],
         "groupby_transform": [
          [
           3,
           "colMap",
           "colEnum",
           [
            "null",
            "mean",
            "median",
            "min",
            "max",
            "sum",
            "count",
            "count_null",
            "std",
            "empty",
            "h",
            "nunique",
            "is_monotonic",
            "is_monotonic_decreasing",
            "is_monotonic_increasing",
            "all",
            "any",
            "autocorr",
            "kurt",
            "mad",
            "sem",
            "skew",
            "i",
            "idxmin",
            "dtype",
            "dtypes",
            "nbytes",
            "ndim",
            "size"
           ]
          ]
         ],
         "linear_regression": [
          [
           3,
           "x_cols",
           "colEnum",
           [
            "null",
            "basic",
            "one_hot"
           ]
          ]
         ],
         "make_category": [
          null
         ],
         "only_outliers": [
          [
           3,
           "only_outliers",
           "type",
           "float"
          ]
         ],
         "rank": [
          [
           3,
           "method",
           "enum",
           [
            "None",
            "min",
            "dense"
           ]
          ],
          [
           4,
           "new_col",
           "bool"
          ]
         ],
         "remove_outliers": [
          [
           3,
           "remove_outliers",
           "type",
           "float"
          ]
         ],
         "safe_int": [
          null
         ],
         "search": [
          [
           3,
           "term",
           "type",
           "string"
          ]
         ],
         "search_col": [
          [
           3,
           "term",
           "type",
           "string"
          ]
         ]
        },
        "defaultArgs": {
         "drop_duplicates": [
          {
           "symbol": "drop_duplicates"
          },
          {
           "symbol": "df"
          },
          "col",
          "first"
         ],
         "dropcol": [
          {
           "symbol": "dropcol"
          },
          {
           "symbol": "df"
          },
          "col"
         ],
         "fillna": [
          {
           "symbol": "fillna"
          },
          {
           "symbol": "df"
          },
          "col",
          8
         ],
         "groupby": [
          {
           "symbol": "groupby"
          },
          {
           "symbol": "df"
          },
          "col",
          {}
         ],
         "groupby_transform": [
          {
           "symbol": "groupby_transform"
          },
          {
           "symbol": "df"
          },
          "col",
          {}
         ],
         "linear_regression": [
          {
           "symbol": "linear_regression"
          },
          {
           "symbol": "df"
          },
          "col",
          {}
         ],
         "make_category": [
          {
           "symbol": "make_category"
          },
          {
           "symbol": "df"
          },
          "col"
         ],
         "only_outliers": [
          {
           "symbol": "only_outliers"
          },
          {
           "symbol": "df"
          },
          "col",
          0.01
         ],
         "rank": [
          {
           "symbol": "rank"
          },
          {
           "symbol": "df"
          },
          "col",
          "None",
          false
         ],
         "remove_outliers": [
          {
           "symbol": "remove_outliers"
          },
          {
           "symbol": "df"
          },
          "col",
          0.01
         ],
         "safe_int": [
          {
           "symbol": "safe_int"
          },
          {
           "symbol": "df"
          },
          "col"
         ],
         "search": [
          {
           "symbol": "search"
          },
          {
           "symbol": "df"
          },
          "col",
          ""
         ],
         "search_col": [
          {
           "symbol": "search_col"
          },
          {
           "symbol": "df"
          },
          "col",
          ""
         ]
        }
       },
       "df_data_dict": {
        "all_stats": [
         {
          "bools": "object",
          "dicts": "object",
          "index": "dtype",
          "ints": "float64",
          "lists": "object",
          "lists-int": "object",
          "lists-string": "object",
          "nested_dicts": "object",
          "timestamp": "object"
         },
         {
          "bools": false,
          "dicts": false,
          "index": "is_numeric",
          "ints": true,
          "lists": false,
          "lists-int": false,
          "lists-string": false,
          "nested_dicts": false,
          "timestamp": false
         },
         {
          "bools": false,
          "dicts": false,
          "index": "is_integer",
          "ints": false,
          "lists": false,
          "lists-int": false,
          "lists-string": false,
          "nested_dicts": false,
          "timestamp": false
         },
         {
          "bools": false,
          "dicts": false,
          "index": "is_datetime",
          "ints": false,
          "lists": false,
          "lists-int": false,
          "lists-string": false,
          "nested_dicts": false,
          "timestamp": false
         },
         {
          "bools": false,
          "dicts": false,
          "index": "is_bool",
          "ints": false,
          "lists": false,
          "lists-int": false,
          "lists-string": false,
          "nested_dicts": false,
          "timestamp": false
         },
         {
          "bools": false,
          "dicts": false,
          "index": "is_float",
          "ints": true,
          "lists": false,
          "lists-int": false,
          "lists-string": false,
          "nested_dicts": false,
          "timestamp": false
         },
         {
          "bools": "obj",
          "dicts": "obj",
          "index": "_type",
          "ints": "float",
          "lists": "obj",
          "lists-int": "obj",
          "lists-string": "obj",
          "nested_dicts": "obj",
          "timestamp": "obj"
         },
         {
          "bools": false,
          "dicts": false,
          "index": "is_string",
          "ints": false,
          "lists": false,
          "lists-int": false,
          "lists-string": false,
          "nested_dicts": false,
          "timestamp": false
         },
         {
          "bools": 176,
          "dicts": 176,
          "index": "memory_usage",
          "ints": 176,
          "lists": 176,
          "lists-int": 176,
          "lists-string": 176,
          "nested_dicts": 176,
          "timestamp": 176
         },
         {
          "bools": 6,
          "dicts": 6,
          "index": "length",
          "ints": 6,
          "lists": 6,
          "lists-int": 6,
          "lists-string": 6,
          "nested_dicts": 6,
          "timestamp": 6
         },
         {
          "bools": null,
          "dicts": null,
          "index": "min",
          "ints": -10,
          "lists": null,
          "lists-int": null,
          "lists-string": null,
          "nested_dicts": null,
          "timestamp": null
         },
         {
          "bools": null,
          "dicts": null,
          "index": "max",
          "ints": 7772,
          "lists": null,
          "lists-int": null,
          "lists-string": null,
          "nested_dicts": null,
          "timestamp": null
         },
         {
          "bools": 0,
          "dicts": 0,
          "index": "mean",
          "ints": 1563.4,
          "lists": 0,
          "lists-int": 0,
          "lists-string": 0,
          "nested_dicts": 0,
          "timestamp": 0
         },
         {
          "bools": 1,
          "dicts": 5,
          "index": "nan_count",
          "ints": 1,
          "lists": 4,
          "lists-int": 3,
          "lists-string": 4,
          "nested_dicts": 5,
          "timestamp": 2
         },
         {
          "bools": [
           3,
           2
          ],
          "dicts": [
           1
          ],
          "index": "value_counts",
          "ints": [
           1,
           1,
           1,
           1,
           1
          ],
          "lists": [
           1,
           1
          ],
          "lists-int": [
           1,
           1,
           1
          ],
          "lists-string": [
           1,
           1
          ],
          "nested_dicts": [
           1
          ],
          "timestamp": [
           1,
           1,
           1,
           1
          ]
         },
         {
          "bools": true,
          "dicts": {
           "a": 10,
           "b": 20,
           "c": "some string"
          },
          "index": "mode",
          "ints": -10,
          "lists": [
           "a",
           "b"
          ],
          "lists-int": [
           8
          ],
          "lists-string": [
           "a",
           "b"
          ],
          "nested_dicts": {
           "level_1": {
            "a": 10,
            "b": 20,
            "c": "some string"
           }
          },
          "timestamp": "2020-01-01 01:00Z"
         },
         {
          "bools": 0.3333333333,
          "dicts": 0.1666666667,
          "index": "distinct_per",
          "ints": 0.8333333333,
          "lists": 0.3333333333,
          "lists-int": 0.5,
          "lists-string": 0.3333333333,
          "nested_dicts": 0.1666666667,
          "timestamp": 0.6666666667
         },
         {
          "bools": 0,
          "dicts": 0,
          "index": "empty_per",
          "ints": 0,
          "lists": 0,
          "lists-int": 0,
          "lists-string": 0,
          "nested_dicts": 0,
          "timestamp": 0
         },
         {
          "bools": 0,
          "dicts": 0.1666666667,
          "index": "unique_per",
          "ints": 0.8333333333,
          "lists": 0.3333333333,
          "lists-int": 0.5,
          "lists-string": 0.3333333333,
          "nested_dicts": 0.1666666667,
          "timestamp": 0.6666666667
         },
         {
          "bools": 0.1666666667,
          "dicts": 0.8333333333,
          "index": "nan_per",
          "ints": 0.1666666667,
          "lists": 0.6666666667,
          "lists-int": 0.5,
          "lists-string": 0.6666666667,
          "nested_dicts": 0.8333333333,
          "timestamp": 0.3333333333
         },
         {
          "bools": 0,
          "dicts": 1,
          "index": "unique_count",
          "ints": 5,
          "lists": 2,
          "lists-int": 3,
          "lists-string": 2,
          "nested_dicts": 1,
          "timestamp": 4
         },
         {
          "bools": 0,
          "dicts": 0,
          "index": "empty_count",
          "ints": 0,
          "lists": 0,
          "lists-int": 0,
          "lists-string": 0,
          "nested_dicts": 0,
          "timestamp": 0
         },
         {
          "bools": 2,
          "dicts": 1,
          "index": "distinct_count",
          "ints": 5,
          "lists": 2,
          "lists-int": 3,
          "lists-string": 2,
          "nested_dicts": 1,
          "timestamp": 4
         },
         {
          "bools": [
           {
            "cat_pop": 50,
            "name": true
           },
           {
            "cat_pop": 33,
            "name": false
           },
           {
            "NA": 17,
            "name": "NA"
           }
          ],
          "dicts": [
           {
            "cat_pop": 17,
            "name": "{'a': 10, 'b': 20, 'c': 'some string'}"
           },
           {
            "name": "longtail",
            "unique": 17
           },
           {
            "NA": 83,
            "name": "NA"
           }
          ],
          "index": "histogram",
          "ints": [
           {
            "cat_pop": 17,
            "name": 5
           },
           {
            "cat_pop": 17,
            "name": 20
           },
           {
            "cat_pop": 17,
            "name": 30
           },
           {
            "cat_pop": 17,
            "name": -10
           },
           {
            "cat_pop": 17,
            "name": 7772
           },
           {
            "name": "longtail",
            "unique": 83
           },
           {
            "NA": 17,
            "name": "NA"
           }
          ],
          "lists": [
           {
            "cat_pop": 17,
            "name": "['a', 'b']"
           },
           {
            "cat_pop": 17,
            "name": "[1, 2]"
           },
           {
            "name": "longtail",
            "unique": 33
           },
           {
            "NA": 67,
            "name": "NA"
           }
          ],
          "lists-int": [
           {
            "cat_pop": 17,
            "name": "[10, 20]"
           },
           {
            "cat_pop": 17,
            "name": "[100, 500]"
           },
           {
            "cat_pop": 17,
            "name": "[8]"
           },
           {
            "name": "longtail",
            "unique": 50
           },
           {
            "NA": 50,
            "name": "NA"
           }
          ],
          "lists-string": [
           {
            "cat_pop": 17,
            "name": "['a', 'b']"
           },
           {
            "cat_pop": 17,
            "name": "['foo', 'bar']"
           },
           {
            "name": "longtail",
            "unique": 33
           },
           {
            "NA": 67,
            "name": "NA"
           }
          ],
          "nested_dicts": [
           {
            "cat_pop": 17,
            "name": "{'level_1': {'a': 10, 'b': 20, 'c': 'some string'}}"
           },
           {
            "name": "longtail",
            "unique": 17
           },
           {
            "NA": 83,
            "name": "NA"
           }
          ],
          "timestamp": [
           {
            "cat_pop": 17,
            "name": "2020-01-01 01:00Z"
           },
           {
            "cat_pop": 17,
            "name": "2020-01-01 02:00Z"
           },
           {
            "cat_pop": 17,
            "name": "2020-02-28 02:00Z"
           },
           {
            "cat_pop": 17,
            "name": "2020-03-15 02:00Z"
           },
           {
            "name": "longtail",
            "unique": 67
           },
           {
            "NA": 33,
            "name": "NA"
           }
          ]
         },
         {
          "bools": {},
          "dicts": {},
          "index": "histogram_args",
          "ints": {
           "high_tail": 7462.32,
           "low_tail": -9.4,
           "meat_histogram": [
            [
             1,
             0,
             0,
             0,
             0,
             0,
             1,
             0,
             0,
             1
            ],
            [
             5,
             7.5,
             10,
             12.5,
             15,
             17.5,
             20,
             22.5,
             25,
             27.5,
             30
            ]
           ],
           "normalized_populations": [
            0.3333333333,
            0,
            0,
            0,
            0,
            0,
            0.3333333333,
            0,
            0,
            0.3333333333
           ]
          },
          "lists": {},
          "lists-int": {},
          "lists-string": {},
          "nested_dicts": {},
          "timestamp": {}
         },
         {
          "bools": [],
          "dicts": [],
          "index": "histogram_bins",
          "ints": [
           5,
           7.5,
           10,
           12.5,
           15,
           17.5,
           20,
           22.5,
           25,
           27.5,
           30
          ],
          "lists": [],
          "lists-int": [],
          "lists-string": [],
          "nested_dicts": [],
          "timestamp": []
         },
         {
          "bools": 5,
          "dicts": 1,
          "index": "non_null_count",
          "ints": 5,
          "lists": 2,
          "lists-int": 3,
          "lists-string": 2,
          "nested_dicts": 1,
          "timestamp": 4
         },
         {
          "bools": 1,
          "dicts": 5,
          "index": "null_count",
          "ints": 1,
          "lists": 4,
          "lists-int": 3,
          "lists-string": 4,
          "nested_dicts": 5,
          "timestamp": 2
         },
         {
          "bools": true,
          "dicts": {
           "a": 10,
           "b": 20,
           "c": "some string"
          },
          "index": "most_freq",
          "ints": 5,
          "lists": [
           "a",
           "b"
          ],
          "lists-int": [
           10,
           20
          ],
          "lists-string": [
           "a",
           "b"
          ],
          "nested_dicts": {
           "level_1": {
            "a": 10,
            "b": 20,
            "c": "some string"
           }
          },
          "timestamp": "2020-01-01 01:00Z"
         },
         {
          "bools": false,
          "dicts": null,
          "index": "2nd_freq",
          "ints": 20,
          "lists": [
           1,
           2
          ],
          "lists-int": [
           100,
           500
          ],
          "lists-string": [
           "foo",
           "bar"
          ],
          "nested_dicts": null,
          "timestamp": "2020-01-01 02:00Z"
         },
         {
          "bools": null,
          "dicts": null,
          "index": "3rd_freq",
          "ints": 30,
          "lists": null,
          "lists-int": [
           8
          ],
          "lists-string": null,
          "nested_dicts": null,
          "timestamp": "2020-02-28 02:00Z"
         },
         {
          "bools": null,
          "dicts": null,
          "index": "4th_freq",
          "ints": -10,
          "lists": null,
          "lists-int": null,
          "lists-string": null,
          "nested_dicts": null,
          "timestamp": "2020-03-15 02:00Z"
         },
         {
          "bools": null,
          "dicts": null,
          "index": "5th_freq",
          "ints": 7772,
          "lists": null,
          "lists-int": null,
          "lists-string": null,
          "nested_dicts": null,
          "timestamp": null
         }
        ],
        "empty": [],
        "main": [
         {
          "bools": true,
          "dicts": {
           "a": 10,
           "b": 20,
           "c": "some string"
          },
          "index": 0,
          "ints": 5,
          "lists": [
           "a",
           "b"
          ],
          "lists-int": [
           10,
           20
          ],
          "lists-string": [
           "a",
           "b"
          ],
          "nested_dicts": {
           "level_1": {
            "a": 10,
            "b": 20,
            "c": "some string"
           }
          },
          "timestamp": "2020-01-01 01:00Z"
         },
         {
          "bools": true,
          "dicts": null,
          "index": 1,
          "ints": 20,
          "lists": [
           1,
           2
          ],
          "lists-int": [
           100,
           500
          ],
          "lists-string": [
           "foo",
           "bar"
          ],
          "nested_dicts": null,
          "timestamp": "2020-01-01 02:00Z"
         },
         {
          "bools": false,
          "dicts": null,
          "index": 2,
          "ints": 30,
          "lists": null,
          "lists-int": [
           8
          ],
          "lists-string": null,
          "nested_dicts": null,
          "timestamp": "2020-02-28 02:00Z"
         },
         {
          "bools": false,
          "dicts": null,
          "index": 3,
          "ints": -10,
          "lists": null,
          "lists-int": null,
          "lists-string": null,
          "nested_dicts": null,
          "timestamp": "2020-03-15 02:00Z"
         },
         {
          "bools": true,
          "dicts": null,
          "index": 4,
          "ints": 7772,
          "lists": null,
          "lists-int": null,
          "lists-string": null,
          "nested_dicts": null,
          "timestamp": null
         },
         {
          "bools": null,
          "dicts": null,
          "index": 5,
          "ints": null,
          "lists": null,
          "lists-int": null,
          "lists-string": null,
          "nested_dicts": null,
          "timestamp": null
         }
        ]
       },
       "df_display_args": {
        "main": {
         "data_key": "main",
         "df_viewer_config": {
          "column_config": [
           {
            "col_name": "index",
            "displayer_args": {
             "displayer": "float",
             "max_fraction_digits": 0,
             "min_fraction_digits": 0
            }
           },
           {
            "col_name": "bools",
            "displayer_args": {
             "displayer": "obj"
            },
            "tooltip_config": {
             "tooltip_type": "simple",
             "val_column": "bools"
            }
           },
           {
            "col_name": "ints",
            "displayer_args": {
             "displayer": "float",
             "max_fraction_digits": 3,
             "min_fraction_digits": 3
            }
           },
           {
            "col_name": "timestamp",
            "displayer_args": {
             "displayer": "obj"
            },
            "tooltip_config": {
             "tooltip_type": "simple",
             "val_column": "timestamp"
            }
           },
           {
            "col_name": "dicts",
            "displayer_args": {
             "displayer": "obj"
            },
            "tooltip_config": {
             "tooltip_type": "simple",
             "val_column": "dicts"
            }
           },
           {
            "col_name": "nested_dicts",
            "displayer_args": {
             "displayer": "obj"
            },
            "tooltip_config": {
             "tooltip_type": "simple",
             "val_column": "nested_dicts"
            }
           },
           {
            "col_name": "lists",
            "displayer_args": {
             "displayer": "obj"
            },
            "tooltip_config": {
             "tooltip_type": "simple",
             "val_column": "lists"
            }
           },
           {
            "col_name": "lists-string",
            "displayer_args": {
             "displayer": "obj"
            },
            "tooltip_config": {
             "tooltip_type": "simple",
             "val_column": "lists-string"
            }
           },
           {
            "col_name": "lists-int",
            "displayer_args": {
             "displayer": "obj"
            },
            "tooltip_config": {
             "tooltip_type": "simple",
             "val_column": "lists-int"
            }
           }
          ],
          "component_config": {
           "className": "asdf",
           "selectionBackground": "red"
          },
          "extra_grid_config": {},
          "pinned_rows": [
           {
            "displayer_args": {
             "displayer": "obj"
            },
            "primary_key_val": "dtype"
           },
           {
            "displayer_args": {
             "displayer": "histogram"
            },
            "primary_key_val": "histogram"
           }
          ]
         },
         "summary_stats_key": "all_stats"
        },
        "summary": {
         "data_key": "empty",
         "df_viewer_config": {
          "column_config": [
           {
            "col_name": "index",
            "displayer_args": {
             "displayer": "obj"
            }
           },
           {
            "col_name": "bools",
            "displayer_args": {
             "displayer": "obj"
            }
           },
           {
            "col_name": "ints",
            "displayer_args": {
             "displayer": "obj"
            }
           },
           {
            "col_name": "timestamp",
            "displayer_args": {
             "displayer": "obj"
            }
           },
           {
            "col_name": "dicts",
            "displayer_args": {
             "displayer": "obj"
            }
           },
           {
            "col_name": "nested_dicts",
            "displayer_args": {
             "displayer": "obj"
            }
           },
           {
            "col_name": "lists",
            "displayer_args": {
             "displayer": "obj"
            }
           },
           {
            "col_name": "lists-string",
            "displayer_args": {
             "displayer": "obj"
            }
           },
           {
            "col_name": "lists-int",
            "displayer_args": {
             "displayer": "obj"
            }
           }
          ],
          "component_config": {},
          "extra_grid_config": {},
          "pinned_rows": [
           {
            "displayer_args": {
             "displayer": "obj"
            },
            "primary_key_val": "dtype"
           },
           {
            "displayer_args": {
             "displayer": "float",
             "max_fraction_digits": 0,
             "min_fraction_digits": 0
            },
            "primary_key_val": "non_null_count"
           },
           {
            "displayer_args": {
             "displayer": "float",
             "max_fraction_digits": 0,
             "min_fraction_digits": 0
            },
            "primary_key_val": "null_count"
           },
           {
            "displayer_args": {
             "displayer": "float",
             "max_fraction_digits": 3,
             "min_fraction_digits": 3
            },
            "primary_key_val": "mean"
           },
           {
            "displayer_args": {
             "displayer": "float",
             "max_fraction_digits": 3,
             "min_fraction_digits": 3
            },
            "primary_key_val": "std"
           },
           {
            "displayer_args": {
             "displayer": "float",
             "max_fraction_digits": 3,
             "min_fraction_digits": 3
            },
            "primary_key_val": "min"
           },
           {
            "displayer_args": {
             "displayer": "float",
             "max_fraction_digits": 3,
             "min_fraction_digits": 3
            },
            "primary_key_val": "25th"
           },
           {
            "displayer_args": {
             "displayer": "float",
             "max_fraction_digits": 3,
             "min_fraction_digits": 3
            },
            "primary_key_val": "median"
           },
           {
            "displayer_args": {
             "displayer": "float",
             "max_fraction_digits": 3,
             "min_fraction_digits": 3
            },
            "primary_key_val": "75th"
           },
           {
            "displayer_args": {
             "displayer": "float",
             "max_fraction_digits": 3,
             "min_fraction_digits": 3
            },
            "primary_key_val": "max"
           },
           {
            "displayer_args": {
             "displayer": "float",
             "max_fraction_digits": 0,
             "min_fraction_digits": 0
            },
            "primary_key_val": "unique_count"
           },
           {
            "displayer_args": {
             "displayer": "float",
             "max_fraction_digits": 0,
             "min_fraction_digits": 0
            },
            "primary_key_val": "distinct_count"
           },
           {
            "displayer_args": {
             "displayer": "obj"
            },
            "primary_key_val": "most_freq"
           },
           {
            "displayer_args": {
             "displayer": "obj"
            },
            "primary_key_val": "2nd_freq"
           },
           {
            "displayer_args": {
             "displayer": "obj"
            },
            "primary_key_val": "3rd_freq"
           },
           {
            "displayer_args": {
             "displayer": "obj"
            },
            "primary_key_val": "4th_freq"
           },
           {
            "displayer_args": {
             "displayer": "obj"
            },
            "primary_key_val": "5th_freq"
           }
          ]
         },
         "summary_stats_key": "all_stats"
        }
       },
       "df_meta": {
        "columns": 8,
        "filtered_rows": 6,
        "rows_shown": 6,
        "total_rows": 6
       },
       "layout": "IPY_MODEL_c864caf2caf84403a827a4fbed58b86a",
       "operation_results": {
        "generated_py_code": "no operations",
        "transformed_df": null
       },
       "operations": []
      }
     },
     "df1fcca8edbb49ff878cec5abb6b2972": {
      "model_module": "@jupyter-widgets/base",
      "model_module_version": "2.0.0",
      "model_name": "LayoutModel",
      "state": {}
     }
    },
    "version_major": 2,
    "version_minor": 0
   }
  }
 },
 "nbformat": 4,
 "nbformat_minor": 5
}
