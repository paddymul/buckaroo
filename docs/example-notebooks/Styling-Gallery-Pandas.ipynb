{
 "cells": [
  {
   "cell_type": "code",
   "execution_count": 1,
   "id": "0",
   "metadata": {
    "tags": []
   },
   "outputs": [
    {
     "name": "stdout",
     "output_type": "stream",
     "text": [
      "Buckaroo has been enabled as the default DataFrame viewer.  To return to default dataframe visualization use `from buckaroo import disable; disable()`\n"
     ]
    }
   ],
   "source": [
    "import pandas as pd\n",
    "import numpy as np\n",
    "from buckaroo.dataflow.dataflow import StylingAnalysis\n",
    "from buckaroo.buckaroo_widget import BuckarooWidget\n",
    "from buckaroo.customizations.analysis import TypingStats\n",
    "N = 500\n",
    "NA = pd.NA"
   ]
  },
  {
   "cell_type": "markdown",
   "id": "1",
   "metadata": {},
   "source": [
    "This notebook generally follows the order of [DFWhole.ts](https://github.com/paddymul/buckaroo/blob/main/js/components/DFViewerParts/DFWhole.ts)\n",
    "\n",
    "Starting with the simple Displayers\n",
    "```js\n",
    "export interface ObjDisplayerA {\n",
    "  displayer: 'obj';}\n",
    "\n",
    "export interface BooleanDisplayerA {\n",
    "  displayer: 'boolean';}\n",
    "\n",
    "export interface StringDisplayerA {\n",
    "  displayer: 'string';\n",
    "  max_length?: number;} \n",
    "  \n",
    "export interface FloatDisplayerA {\n",
    "  displayer: 'float';\n",
    "  min_fraction_digits: number;\n",
    "  max_fraction_digits: number;}\n",
    "\n",
    "export interface DatetimeDefaultDisplayerA {\n",
    "  displayer: 'datetimeDefault';}\n",
    "export interface IntegerDisplayerA {\n",
    "  displayer: 'integer';\n",
    "  min_digits: number;\n",
    "  max_digits: number;}\n",
    "\n",
    "export interface DatetimeLocaleDisplayerA {\n",
    "  displayer: 'datetimeLocaleString';\n",
    "  locale: 'en-US' | 'en-GB' | 'en-CA' | 'fr-FR' | 'es-ES' | 'de-DE' | 'ja-JP';\n",
    "  // https://developer.mozilla.org/en-US/docs/Web/JavaScript/Reference/Global_Objects/Intl/DateTimeFormat/DateTimeFormat\n",
    "  args: Intl.DateTimeFormatOptions;}\n",
    "```"
   ]
  },
  {
   "cell_type": "code",
   "execution_count": 2,
   "id": "2",
   "metadata": {
    "tags": []
   },
   "outputs": [],
   "source": [
    "#simpler Buckaroo that really shows the styling\n",
    "def obj_(pkey):\n",
    "    return {'primary_key_val': pkey, 'displayer_args': { 'displayer': 'obj' } }\n",
    "\n",
    "class GalleryStyling(StylingAnalysis):\n",
    "    requires_summary = ['dtype']\n",
    "    pinned_rows = [obj_('dtype')]\n",
    "class GalleryBuckaroo(BuckarooWidget):\n",
    "    analysis_klasses = [GalleryStyling, TypingStats]"
   ]
  },
  {
   "cell_type": "code",
   "execution_count": 5,
   "id": "3",
   "metadata": {
    "tags": []
   },
   "outputs": [
    {
     "name": "stdout",
     "output_type": "stream",
     "text": [
      "defaultmainstyling\n",
      "defaultmainstyling\n",
      "defaultmainstyling\n",
      "defaultmainstyling\n",
      "defaultmainstyling\n",
      "defaultmainstyling\n",
      "defaultmainstyling\n",
      "defaultmainstyling\n",
      "defaultmainstyling\n"
     ]
    },
    {
     "name": "stderr",
     "output_type": "stream",
     "text": [
      "/Users/paddy/buckaroo/buckaroo/customizations/analysis.py:44: UserWarning: Unable to sort modes: '<' not supported between instances of 'int' and 'str'\n",
      "  mode_raw = ser.mode()\n"
     ]
    }
   ],
   "source": [
    "obj_df = pd.DataFrame({\n",
    "    'bools':[True, True, False, False, True, None],\n",
    "    'ints': [   5,   20,    30,   -10, 7772, None],\n",
    "    'timestamp':[\"2020-01-01 01:00Z\", \"2020-01-01 02:00Z\", \"2020-02-28 02:00Z\", \"2020-03-15 02:00Z\", None, None],\n",
    "    'dicts': [ {'a':10, 'b':20, 'c':'some string'}, None, None, None, None, None], #polars\n",
    "    'nested_dicts': [{'level_1': {'a':10, 'b':20, 'c':'some string'}}, None, None, None, None, None],\n",
    "    'lists': [['a','b'], [1,2], None, None, None, None],\n",
    "    'lists-string': [['a','b'], ['foo', 'bar'], None, None, None, None],\n",
    "    'lists-int': [[10, 20], [100, 500], [8], None, None, None]}\n",
    ")\n",
    "gbw = BuckarooWidget(obj_df)"
   ]
  },
  {
   "cell_type": "code",
   "execution_count": 8,
   "id": "4",
   "metadata": {},
   "outputs": [
    {
     "data": {
      "text/plain": [
       "{'main': {'data_key': 'main',\n",
       "  'df_viewer_config': {'pinned_rows': [{'primary_key_val': 'dtype',\n",
       "     'displayer_args': {'displayer': 'obj'}},\n",
       "    {'primary_key_val': 'histogram',\n",
       "     'displayer_args': {'displayer': 'histogram'}}],\n",
       "   'column_config': [{'col_name': 'index',\n",
       "     'displayer_args': {'displayer': 'float',\n",
       "      'min_fraction_digits': 0,\n",
       "      'max_fraction_digits': 0}},\n",
       "    {'col_name': 'bools',\n",
       "     'displayer_args': {'displayer': 'obj',\n",
       "      'tooltip_config': {'tooltip_type': 'simple', 'val_column': 'bools'}}},\n",
       "    {'col_name': 'ints',\n",
       "     'displayer_args': {'displayer': 'float',\n",
       "      'min_fraction_digits': 3,\n",
       "      'max_fraction_digits': 3}},\n",
       "    {'col_name': 'timestamp',\n",
       "     'displayer_args': {'displayer': 'obj',\n",
       "      'tooltip_config': {'tooltip_type': 'simple',\n",
       "       'val_column': 'timestamp'}}},\n",
       "    {'col_name': 'dicts',\n",
       "     'displayer_args': {'displayer': 'obj',\n",
       "      'tooltip_config': {'tooltip_type': 'simple', 'val_column': 'dicts'}}},\n",
       "    {'col_name': 'nested_dicts',\n",
       "     'displayer_args': {'displayer': 'obj',\n",
       "      'tooltip_config': {'tooltip_type': 'simple',\n",
       "       'val_column': 'nested_dicts'}}},\n",
       "    {'col_name': 'lists',\n",
       "     'displayer_args': {'displayer': 'obj',\n",
       "      'tooltip_config': {'tooltip_type': 'simple', 'val_column': 'lists'}}},\n",
       "    {'col_name': 'lists-string',\n",
       "     'displayer_args': {'displayer': 'obj',\n",
       "      'tooltip_config': {'tooltip_type': 'simple',\n",
       "       'val_column': 'lists-string'}}},\n",
       "    {'col_name': 'lists-int',\n",
       "     'displayer_args': {'displayer': 'obj',\n",
       "      'tooltip_config': {'tooltip_type': 'simple',\n",
       "       'val_column': 'lists-int'}}}],\n",
       "   'extra_grid_config': {},\n",
       "   'component_config': {}},\n",
       "  'summary_stats_key': 'all_stats'},\n",
       " 'summary': {'data_key': 'empty',\n",
       "  'df_viewer_config': {'pinned_rows': [{'primary_key_val': 'dtype',\n",
       "     'displayer_args': {'displayer': 'obj'}},\n",
       "    {'primary_key_val': 'non_null_count',\n",
       "     'displayer_args': {'displayer': 'float',\n",
       "      'min_fraction_digits': 0,\n",
       "      'max_fraction_digits': 0}},\n",
       "    {'primary_key_val': 'null_count',\n",
       "     'displayer_args': {'displayer': 'float',\n",
       "      'min_fraction_digits': 0,\n",
       "      'max_fraction_digits': 0}},\n",
       "    {'primary_key_val': 'mean',\n",
       "     'displayer_args': {'displayer': 'float',\n",
       "      'min_fraction_digits': 3,\n",
       "      'max_fraction_digits': 3}},\n",
       "    {'primary_key_val': 'std',\n",
       "     'displayer_args': {'displayer': 'float',\n",
       "      'min_fraction_digits': 3,\n",
       "      'max_fraction_digits': 3}},\n",
       "    {'primary_key_val': 'min',\n",
       "     'displayer_args': {'displayer': 'float',\n",
       "      'min_fraction_digits': 3,\n",
       "      'max_fraction_digits': 3}},\n",
       "    {'primary_key_val': '25th',\n",
       "     'displayer_args': {'displayer': 'float',\n",
       "      'min_fraction_digits': 3,\n",
       "      'max_fraction_digits': 3}},\n",
       "    {'primary_key_val': 'median',\n",
       "     'displayer_args': {'displayer': 'float',\n",
       "      'min_fraction_digits': 3,\n",
       "      'max_fraction_digits': 3}},\n",
       "    {'primary_key_val': '75th',\n",
       "     'displayer_args': {'displayer': 'float',\n",
       "      'min_fraction_digits': 3,\n",
       "      'max_fraction_digits': 3}},\n",
       "    {'primary_key_val': 'max',\n",
       "     'displayer_args': {'displayer': 'float',\n",
       "      'min_fraction_digits': 3,\n",
       "      'max_fraction_digits': 3}},\n",
       "    {'primary_key_val': 'unique_count',\n",
       "     'displayer_args': {'displayer': 'float',\n",
       "      'min_fraction_digits': 0,\n",
       "      'max_fraction_digits': 0}},\n",
       "    {'primary_key_val': 'distinct_count',\n",
       "     'displayer_args': {'displayer': 'float',\n",
       "      'min_fraction_digits': 0,\n",
       "      'max_fraction_digits': 0}},\n",
       "    {'primary_key_val': 'most_freq', 'displayer_args': {'displayer': 'obj'}},\n",
       "    {'primary_key_val': '2nd_freq', 'displayer_args': {'displayer': 'obj'}},\n",
       "    {'primary_key_val': '3rd_freq', 'displayer_args': {'displayer': 'obj'}},\n",
       "    {'primary_key_val': '4th_freq', 'displayer_args': {'displayer': 'obj'}},\n",
       "    {'primary_key_val': '5th_freq', 'displayer_args': {'displayer': 'obj'}}],\n",
       "   'column_config': [{'col_name': 'index',\n",
       "     'displayer_args': {'displayer': 'obj'}},\n",
       "    {'col_name': 'bools', 'displayer_args': {'displayer': 'obj'}},\n",
       "    {'col_name': 'ints', 'displayer_args': {'displayer': 'obj'}},\n",
       "    {'col_name': 'timestamp', 'displayer_args': {'displayer': 'obj'}},\n",
       "    {'col_name': 'dicts', 'displayer_args': {'displayer': 'obj'}},\n",
       "    {'col_name': 'nested_dicts', 'displayer_args': {'displayer': 'obj'}},\n",
       "    {'col_name': 'lists', 'displayer_args': {'displayer': 'obj'}},\n",
       "    {'col_name': 'lists-string', 'displayer_args': {'displayer': 'obj'}},\n",
       "    {'col_name': 'lists-int', 'displayer_args': {'displayer': 'obj'}}],\n",
       "   'extra_grid_config': {},\n",
       "   'component_config': {}},\n",
       "  'summary_stats_key': 'all_stats'}}"
      ]
     },
     "execution_count": 8,
     "metadata": {},
     "output_type": "execute_result"
    }
   ],
   "source": [
    "gbw.df_display_args"
   ]
  },
  {
   "cell_type": "code",
   "execution_count": null,
   "id": "5",
   "metadata": {
    "tags": []
   },
   "outputs": [],
   "source": [
    "obj_df = pd.DataFrame({\n",
    "    'bools':[True, True, False, False, True, None],\n",
    "    'ints': [   5,   20,    30,   -10, 7772, None],\n",
    "    'dicts': [ {'a':10, 'b':20, 'c':'some string'}, None, None, None, None, None], #polars\n",
    "    'nested_dicts': [{'level_1': {'a':10, 'b':20, 'c':'some string'}}, None, None, None, None, None],\n",
    "    #'nested_dicts2': pl.Series([{'level_1': {'a':10, 'b':20, 'c':'some string'}}, None, None, None, None, None], dtype=pl.Object)}\n",
    "    }\n",
    ")\n",
    "GalleryBuckaroo(obj_df)"
   ]
  },
  {
   "cell_type": "code",
   "execution_count": null,
   "id": "6",
   "metadata": {
    "tags": []
   },
   "outputs": [],
   "source": [
    "bool_ser = pd.Series([True, True, False, False, True, None])\n",
    "bool_df = pd.DataFrame({\n",
    "    'bools_obj_displayer':bool_ser,\n",
    "    'bools_boolean_displayer': bool_ser})\n",
    "#fix         #'bools_bool_checkbox_displayer':  {'displayer_args': {'displayer': 'boolean_checkbox'}\n",
    "BuckarooWidget(\n",
    "    bool_df, \n",
    "    column_config_overrides={\n",
    "        'bools_obj_displayer':  {'displayer_args': {'displayer': 'obj'}},      \n",
    "        'bools_boolean_displayer': {'displayer_args': {'displayer': 'boolean'}}}\n",
    ")"
   ]
  },
  {
   "cell_type": "code",
   "execution_count": null,
   "id": "7",
   "metadata": {
    "tags": []
   },
   "outputs": [],
   "source": [
    "string_ser = pd.Series([\"asdf\", \"qwerty\", \"really long string, much  much longer\", None,  \"A\"])\n",
    "string_df = pd.DataFrame({\n",
    "    'strings_obj_displayer':string_ser,\n",
    "    'strings_string_displayer':string_ser,\n",
    "    'strings_string_displayer_max_len':string_ser})\n",
    "BuckarooWidget(\n",
    "    string_df, \n",
    "    column_config_overrides={\n",
    "        'strings_obj_displayer':  {'displayer_args': {'displayer': 'obj'}},      \n",
    "        'strings_string_displayer': {'displayer_args': {'displayer': 'string'}},\n",
    "        'strings_string_displayer_max_len': {'displayer_args': {'displayer': 'string', 'max_length':15}}\n",
    "    })"
   ]
  },
  {
   "cell_type": "code",
   "execution_count": null,
   "id": "8",
   "metadata": {},
   "outputs": [],
   "source": [
    "float_ser = pd.Series(\n",
    "    [5, -8, 13.23, -8.01, -999.345245234, None])\n",
    "\n",
    "def float_(min_digits, max_digits):\n",
    "    return {'displayer_args': { 'displayer': 'float', 'min_fraction_digits':min_digits, 'max_fraction_digits': max_digits}}\n",
    "float_df = pd.DataFrame({\n",
    "        'float_obj_displayer':float_ser,\n",
    "        'float_float_displayer_1__3':float_ser,\n",
    "        'float_float_displayer_0__3':float_ser,\n",
    "        'float_float_displayer_3__3':float_ser,\n",
    "        'float_float_displayer_3_13':float_ser})\n",
    "BuckarooWidget(\n",
    "    float_df,\n",
    "    column_config_overrides={\n",
    "        'float_obj_displayer':  {'displayer_args': {'displayer': 'obj'}},      \n",
    "        'float_float_displayer_1__3' : float_(1,3),\n",
    "        'float_float_displayer_0__3' : float_(0,3),\n",
    "        'float_float_displayer_3__3' : float_(3,3),\n",
    "        'float_float_displayer_3_13' : float_(3,13)})"
   ]
  },
  {
   "cell_type": "code",
   "execution_count": null,
   "id": "9",
   "metadata": {
    "tags": []
   },
   "outputs": [],
   "source": [
    "datetime_ser = pd.to_datetime(\n",
    "    pd.Series([\"2020-01-01 01:00Z\", \"2020-01-01 02:00Z\", \"2020-02-28 02:00Z\", \"2020-03-15 02:00Z\", None]))\n",
    "datetime_df = pd.DataFrame({\n",
    "        'timestamp_obj_displayer':datetime_ser,\n",
    "        'timestamp_datetime_default_displayer':datetime_ser,\n",
    "        'timestamp_datetime_locale_en-US':datetime_ser,\n",
    "        'timestamp_datetime_locale_en-US-Long':datetime_ser,\n",
    "        'timestamp_datetime_locale_en-GB':datetime_ser,})\n",
    "def locale(locale, args={}):\n",
    "    return {'displayer_args': {'displayer': 'datetimeLocaleString',\n",
    "                                'locale':locale,\n",
    "                                'args':args}}\n",
    "BuckarooWidget(datetime_df,\n",
    "    column_config_overrides={\n",
    "        'timestamp_obj_displayer':  {'displayer_args': {'displayer': 'obj'}},    \n",
    "        'timestamp_datetime_default_displayer' : {'displayer_args':  {  'displayer': 'datetimeDefault'}},\n",
    "        'timestamp_datetime_locale_en-US' :locale('en-US'),\n",
    "        'timestamp_datetime_locale_en-US-Long': locale('en-US', { 'weekday': 'long'}),\n",
    "        'timestamp_datetime_locale_en-GB' : locale('en-GB')})"
   ]
  },
  {
   "cell_type": "code",
   "execution_count": null,
   "id": "10",
   "metadata": {
    "tags": []
   },
   "outputs": [],
   "source": [
    "link_df = pd.DataFrame({'raw':      ['https://github.com/paddymul/buckaroo', 'https://github.com/pola-rs/polars'],\n",
    "                    'linkify' : ['https://github.com/paddymul/buckaroo', 'https://github.com/pola-rs/polars']})\n",
    "BuckarooWidget(link_df,\n",
    "               column_config_overrides={'linkify': {'displayer_args':  {  'displayer': 'linkify'}}})\n",
    "#fixme no underline or blue highlighting of links... but they are links"
   ]
  },
  {
   "cell_type": "code",
   "execution_count": null,
   "id": "11",
   "metadata": {
    "tags": []
   },
   "outputs": [],
   "source": [
    "histo_df = pd.DataFrame({\n",
    "    'names': ['index', 'all_NA', 'half_NA', 'longtail', 'longtail_unique'],\n",
    "     'histogram_props': ['histogram',\n",
    "          [{'name': 'NA', 'NA': 100.0}],\n",
    "          [{'name': 1, 'cat_pop': 44.0}, {'name': 'NA', 'NA': 56.0}],\n",
    "          [{'name': 'long_97', 'cat_pop': 0.0},\n",
    "           {'name': 'long_139', 'cat_pop': 0.0},\n",
    "           {'name': 'long_12', 'cat_pop': 0.0},\n",
    "           {'name': 'long_134', 'cat_pop': 0.0},\n",
    "           {'name': 'long_21', 'cat_pop': 0.0},\n",
    "           {'name': 'long_44', 'cat_pop': 0.0},\n",
    "           {'name': 'long_58', 'cat_pop': 0.0},\n",
    "           {'name': 'longtail', 'longtail': 77.0},\n",
    "           {'name': 'NA', 'NA': 20.0}],\n",
    "          [{'name': 'long_113', 'cat_pop': 0.0},\n",
    "           {'name': 'long_116', 'cat_pop': 0.0},\n",
    "           {'name': 'long_33', 'cat_pop': 0.0},\n",
    "           {'name': 'long_72', 'cat_pop': 0.0},\n",
    "           {'name': 'long_122', 'cat_pop': 0.0},\n",
    "           {'name': 'long_6', 'cat_pop': 0.0},\n",
    "           {'name': 'long_83', 'cat_pop': 0.0},\n",
    "           {'name': 'longtail', 'unique': 50.0, 'longtail': 47.0}]]})\n",
    "from buckaroo.customizations.analysis import TypingStats\n",
    "from buckaroo.buckaroo_widget import BuckarooWidget\n",
    "class PdGalleryBuckaroo(BuckarooWidget):\n",
    "    analysis_klasses = [GalleryStyling, TypingStats]\n",
    "PdGalleryBuckaroo(histo_df,\n",
    "                   column_config_overrides={\n",
    "                    'histogram_props': {'displayer_args': {'displayer': 'histogram'}}})\n",
    "#Fixme, this doesn't work with polars right now, probably related to the object dtype problem"
   ]
  },
  {
   "cell_type": "code",
   "execution_count": null,
   "id": "12",
   "metadata": {
    "tags": []
   },
   "outputs": [],
   "source": [
    "png_smiley = 'iVBORw0KGgoAAAANSUhEUgAAABgAAAAYCAYAAADgdz34AAAABHNCSVQICAgIfAhkiAAAAAlwSFlzAAAApgAAAKYB3X3/OAAAABl0RVh0U29mdHdhcmUAd3d3Lmlua3NjYXBlLm9yZ5vuPBoAAANCSURBVEiJtZZPbBtFFMZ/M7ubXdtdb1xSFyeilBapySVU8h8OoFaooFSqiihIVIpQBKci6KEg9Q6H9kovIHoCIVQJJCKE1ENFjnAgcaSGC6rEnxBwA04Tx43t2FnvDAfjkNibxgHxnWb2e/u992bee7tCa00YFsffekFY+nUzFtjW0LrvjRXrCDIAaPLlW0nHL0SsZtVoaF98mLrx3pdhOqLtYPHChahZcYYO7KvPFxvRl5XPp1sN3adWiD1ZAqD6XYK1b/dvE5IWryTt2udLFedwc1+9kLp+vbbpoDh+6TklxBeAi9TL0taeWpdmZzQDry0AcO+jQ12RyohqqoYoo8RDwJrU+qXkjWtfi8Xxt58BdQuwQs9qC/afLwCw8tnQbqYAPsgxE1S6F3EAIXux2oQFKm0ihMsOF71dHYx+f3NND68ghCu1YIoePPQN1pGRABkJ6Bus96CutRZMydTl+TvuiRW1m3n0eDl0vRPcEysqdXn+jsQPsrHMquGeXEaY4Yk4wxWcY5V/9scqOMOVUFthatyTy8QyqwZ+kDURKoMWxNKr2EeqVKcTNOajqKoBgOE28U4tdQl5p5bwCw7BWquaZSzAPlwjlithJtp3pTImSqQRrb2Z8PHGigD4RZuNX6JYj6wj7O4TFLbCO/Mn/m8R+h6rYSUb3ekokRY6f/YukArN979jcW+V/S8g0eT/N3VN3kTqWbQ428m9/8k0P/1aIhF36PccEl6EhOcAUCrXKZXXWS3XKd2vc/TRBG9O5ELC17MmWubD2nKhUKZa26Ba2+D3P+4/MNCFwg59oWVeYhkzgN/JDR8deKBoD7Y+ljEjGZ0sosXVTvbc6RHirr2reNy1OXd6pJsQ+gqjk8VWFYmHrwBzW/n+uMPFiRwHB2I7ih8ciHFxIkd/3Omk5tCDV1t+2nNu5sxxpDFNx+huNhVT3/zMDz8usXC3ddaHBj1GHj/As08fwTS7Kt1HBTmyN29vdwAw+/wbwLVOJ3uAD1wi/dUH7Qei66PfyuRj4Ik9is+hglfbkbfR3cnZm7chlUWLdwmprtCohX4HUtlOcQjLYCu+fzGJH2QRKvP3UNz8bWk1qMxjGTOMThZ3kvgLI5AzFfo379UAAAAASUVORK5CYII=';"
   ]
  },
  {
   "cell_type": "code",
   "execution_count": null,
   "id": "13",
   "metadata": {
    "tags": []
   },
   "outputs": [],
   "source": [
    "img_df = pd.DataFrame({'raw':            [png_smiley, None],\n",
    "                    'img_displayer' : [png_smiley, None]})\n",
    "BuckarooWidget(img_df,\n",
    "               column_config_overrides={\n",
    "                   'raw':           {'displayer_args': {'displayer': 'string', 'max_length':40}},\n",
    "                   'img_displayer': {'displayer_args': {'displayer': 'Base64PNGImageDisplayer'}, 'ag_grid_specs' : {'width':150}}})"
   ]
  },
  {
   "cell_type": "markdown",
   "id": "14",
   "metadata": {},
   "source": [
    "# Tooltips"
   ]
  },
  {
   "cell_type": "code",
   "execution_count": 10,
   "id": "15",
   "metadata": {
    "tags": []
   },
   "outputs": [
    {
     "name": "stdout",
     "output_type": "stream",
     "text": [
      "defaultmainstyling\n",
      "defaultmainstyling\n",
      "defaultmainstyling\n",
      "defaultmainstyling\n"
     ]
    },
    {
     "data": {
      "application/vnd.jupyter.widget-view+json": {
       "model_id": "f4051cc891454fcb93bf33cb89b703d1",
       "version_major": 2,
       "version_minor": 0
      },
      "text/plain": [
       "BuckarooWidget(buckaroo_options={'sampled': ['random'], 'auto_clean': ['aggressive', 'conservative'], 'post_pr…"
      ]
     },
     "execution_count": 10,
     "metadata": {},
     "output_type": "execute_result"
    }
   ],
   "source": [
    "ROWS = 200\n",
    "typed_df = pd.DataFrame({'int_col':np.random.randint(1,50, ROWS), 'float_col': np.random.randint(1,30, ROWS)/.7,\n",
    "                         \"str_col\": [\"foobar\"]* ROWS})\n",
    "bw = BuckarooWidget(\n",
    "    typed_df, \n",
    "    column_config_overrides={\n",
    "        'str_col':\n",
    "            {'tooltip_config': { 'tooltip_type':'simple', 'val_column': 'int_col'}}})\n",
    "bw"
   ]
  },
  {
   "cell_type": "code",
   "execution_count": 11,
   "id": "29074ce6-c907-477f-9b52-b40762cb5dbb",
   "metadata": {},
   "outputs": [
    {
     "data": {
      "text/plain": [
       "{'main': {'data_key': 'main',\n",
       "  'df_viewer_config': {'pinned_rows': [{'primary_key_val': 'dtype',\n",
       "     'displayer_args': {'displayer': 'obj'}},\n",
       "    {'primary_key_val': 'histogram',\n",
       "     'displayer_args': {'displayer': 'histogram'}}],\n",
       "   'column_config': [{'col_name': 'index',\n",
       "     'displayer_args': {'displayer': 'float',\n",
       "      'min_fraction_digits': 0,\n",
       "      'max_fraction_digits': 0}},\n",
       "    {'col_name': 'int_col',\n",
       "     'displayer_args': {'displayer': 'float',\n",
       "      'min_fraction_digits': 0,\n",
       "      'max_fraction_digits': 0}},\n",
       "    {'col_name': 'float_col',\n",
       "     'displayer_args': {'displayer': 'float',\n",
       "      'min_fraction_digits': 3,\n",
       "      'max_fraction_digits': 3}},\n",
       "    {'col_name': 'str_col',\n",
       "     'displayer_args': {'displayer': 'string',\n",
       "      'max_length': 35,\n",
       "      'tooltip_config': {'tooltip_type': 'simple', 'val_column': 'str_col'}},\n",
       "     'tooltip_config': {'tooltip_type': 'simple', 'val_column': 'int_col'}}],\n",
       "   'extra_grid_config': {},\n",
       "   'component_config': {}},\n",
       "  'summary_stats_key': 'all_stats'},\n",
       " 'summary': {'data_key': 'empty',\n",
       "  'df_viewer_config': {'pinned_rows': [{'primary_key_val': 'dtype',\n",
       "     'displayer_args': {'displayer': 'obj'}},\n",
       "    {'primary_key_val': 'non_null_count',\n",
       "     'displayer_args': {'displayer': 'float',\n",
       "      'min_fraction_digits': 0,\n",
       "      'max_fraction_digits': 0}},\n",
       "    {'primary_key_val': 'null_count',\n",
       "     'displayer_args': {'displayer': 'float',\n",
       "      'min_fraction_digits': 0,\n",
       "      'max_fraction_digits': 0}},\n",
       "    {'primary_key_val': 'mean',\n",
       "     'displayer_args': {'displayer': 'float',\n",
       "      'min_fraction_digits': 3,\n",
       "      'max_fraction_digits': 3}},\n",
       "    {'primary_key_val': 'std',\n",
       "     'displayer_args': {'displayer': 'float',\n",
       "      'min_fraction_digits': 3,\n",
       "      'max_fraction_digits': 3}},\n",
       "    {'primary_key_val': 'min',\n",
       "     'displayer_args': {'displayer': 'float',\n",
       "      'min_fraction_digits': 3,\n",
       "      'max_fraction_digits': 3}},\n",
       "    {'primary_key_val': '25th',\n",
       "     'displayer_args': {'displayer': 'float',\n",
       "      'min_fraction_digits': 3,\n",
       "      'max_fraction_digits': 3}},\n",
       "    {'primary_key_val': 'median',\n",
       "     'displayer_args': {'displayer': 'float',\n",
       "      'min_fraction_digits': 3,\n",
       "      'max_fraction_digits': 3}},\n",
       "    {'primary_key_val': '75th',\n",
       "     'displayer_args': {'displayer': 'float',\n",
       "      'min_fraction_digits': 3,\n",
       "      'max_fraction_digits': 3}},\n",
       "    {'primary_key_val': 'max',\n",
       "     'displayer_args': {'displayer': 'float',\n",
       "      'min_fraction_digits': 3,\n",
       "      'max_fraction_digits': 3}},\n",
       "    {'primary_key_val': 'unique_count',\n",
       "     'displayer_args': {'displayer': 'float',\n",
       "      'min_fraction_digits': 0,\n",
       "      'max_fraction_digits': 0}},\n",
       "    {'primary_key_val': 'distinct_count',\n",
       "     'displayer_args': {'displayer': 'float',\n",
       "      'min_fraction_digits': 0,\n",
       "      'max_fraction_digits': 0}},\n",
       "    {'primary_key_val': 'most_freq', 'displayer_args': {'displayer': 'obj'}},\n",
       "    {'primary_key_val': '2nd_freq', 'displayer_args': {'displayer': 'obj'}},\n",
       "    {'primary_key_val': '3rd_freq', 'displayer_args': {'displayer': 'obj'}},\n",
       "    {'primary_key_val': '4th_freq', 'displayer_args': {'displayer': 'obj'}},\n",
       "    {'primary_key_val': '5th_freq', 'displayer_args': {'displayer': 'obj'}}],\n",
       "   'column_config': [{'col_name': 'index',\n",
       "     'displayer_args': {'displayer': 'obj'}},\n",
       "    {'col_name': 'int_col', 'displayer_args': {'displayer': 'obj'}},\n",
       "    {'col_name': 'float_col', 'displayer_args': {'displayer': 'obj'}},\n",
       "    {'col_name': 'str_col',\n",
       "     'displayer_args': {'displayer': 'obj'},\n",
       "     'tooltip_config': {'tooltip_type': 'simple', 'val_column': 'int_col'}}],\n",
       "   'extra_grid_config': {},\n",
       "   'component_config': {}},\n",
       "  'summary_stats_key': 'all_stats'}}"
      ]
     },
     "execution_count": 11,
     "metadata": {},
     "output_type": "execute_result"
    }
   ],
   "source": [
    "bw.df_display_args"
   ]
  },
  {
   "cell_type": "code",
   "execution_count": null,
   "id": "881c7835-1eac-4f60-a084-c5ecb59a085d",
   "metadata": {},
   "outputs": [],
   "source": []
  },
  {
   "cell_type": "markdown",
   "id": "16",
   "metadata": {},
   "source": [
    "# Color_map_config\n",
    "```ts\n",
    "//ColorMapRules\n",
    "export interface ColorMapRules {\n",
    "  color_rule: 'color_map';\n",
    "  map_name: 'BLUE_TO_YELLOW' | 'DIVERGING_RED_WHITE_BLUE';\n",
    "  //optional, the column to base the ranges on.  the proper histogram_bins must still be sent in for that column\n",
    "  val_column?: string;\n",
    "}\n",
    "\n",
    "//if exist_column is not null,  set cell style to condtional_color... used for highlighting changed values or errored_rows\n",
    "export interface ColorWhenNotNullRules {\n",
    "  color_rule: 'color_not_null';\n",
    "  conditional_color: string | 'red';\n",
    "  exist_column: string;\n",
    "}\n",
    "\n",
    "export interface ColorFromColumn {\n",
    "  color_rule: 'color_from_column';\n",
    "  col_name: string;\n",
    "}\n",
    "```"
   ]
  },
  {
   "cell_type": "code",
   "execution_count": null,
   "id": "17",
   "metadata": {
    "tags": []
   },
   "outputs": [],
   "source": [
    "BuckarooWidget(\n",
    "    typed_df, \n",
    "    column_config_overrides={\n",
    "        'float_col': {'color_map_config': {\n",
    "          'color_rule': 'color_map',\n",
    "          'map_name': 'BLUE_TO_YELLOW',\n",
    "        }}})"
   ]
  },
  {
   "cell_type": "code",
   "execution_count": null,
   "id": "18",
   "metadata": {
    "tags": []
   },
   "outputs": [],
   "source": [
    "error_df = pd.DataFrame({\n",
    "    'a': [10, 20, 30],\n",
    "    'err_messages': [None, \"a must be less than 19, it is 20\", \"a must be less than 19, it is 30\"]})\n",
    "\n",
    "BuckarooWidget(\n",
    "    error_df, \n",
    "    column_config_overrides={\n",
    "        'a': {'color_map_config': {\n",
    "            'color_rule': 'color_not_null',\n",
    "            'conditional_color': 'red',\n",
    "            'exist_column': 'err_messages'}}})"
   ]
  },
  {
   "cell_type": "code",
   "execution_count": null,
   "id": "19",
   "metadata": {
    "tags": []
   },
   "outputs": [],
   "source": [
    "color_df = pd.DataFrame({\n",
    "    'a': [10, 20, 30],\n",
    "    'a_colors': ['red', '#d3a', 'green']})\n",
    "\n",
    "BuckarooWidget(\n",
    "    color_df, \n",
    "    column_config_overrides={\n",
    "        'a': { 'color_map_config': {\n",
    "          'color_rule': 'color_from_column',\n",
    "          'col_name': 'a_colors'}}})"
   ]
  },
  {
   "cell_type": "markdown",
   "id": "20",
   "metadata": {},
   "source": [
    "Extra col def type\n",
    "\n",
    "`ag_grid_specs`\n",
    "only to be used for very specific hacking.  You can set any primitive property, but can't set function props\n",
    "https://github.com/ag-grid/ag-grid/blob/latest/packages/ag-grid-community/src/entities/colDef.ts"
   ]
  },
  {
   "cell_type": "markdown",
   "id": "21",
   "metadata": {},
   "source": [
    "# Utility Code"
   ]
  },
  {
   "cell_type": "code",
   "execution_count": null,
   "id": "22",
   "metadata": {
    "tags": []
   },
   "outputs": [],
   "source": [
    "#utility code for generating histogram data structures\n",
    "from buckaroo.buckaroo_widget import BuckarooWidget\n",
    "\n",
    "NA = pd.NA\n",
    "def rand_cat(named_p, na_per, N):\n",
    "    choices, p = [], []\n",
    "    named_total_per = sum(named_p.values()) + na_per\n",
    "    total_len = int(np.floor(named_total_per * N))\n",
    "    if named_total_per > 0:\n",
    "        for k, v in named_p.items():\n",
    "            choices.append(k)\n",
    "            p.append(v/named_total_per)\n",
    "\n",
    "        choices.append(NA)\n",
    "        p.append(na_per/named_total_per)    \n",
    "        return [np.random.choice(choices, p=p) for k in range(total_len)]\n",
    "    else:\n",
    "        return []\n",
    "\n",
    "def random_categorical(named_p, unique_per, na_per, longtail_per, N):\n",
    "    choice_arr = rand_cat(named_p, na_per, N)\n",
    "    discrete_choice_len = len(choice_arr)\n",
    "\n",
    "    longtail_count = int(np.floor(longtail_per * N))//2\n",
    "    extra_arr = []\n",
    "    for i in range(longtail_count):\n",
    "        extra_arr.append(\"long_%d\" % i)\n",
    "        extra_arr.append(\"long_%d\" % i)\n",
    "\n",
    "    unique_len = N - (len(extra_arr) + discrete_choice_len)\n",
    "    #print(\"discrete_choice_len\", discrete_choice_len, \"longtail_count\", longtail_count, \"unique_len\", unique_len)\n",
    "    for i in range(unique_len):\n",
    "        extra_arr.append(\"unique_%d\" % i)\n",
    "    all_arr = np.concatenate([choice_arr, extra_arr])\n",
    "    np.random.shuffle(all_arr)\n",
    "    return all_arr        \n",
    "cat_histo_df = pd.DataFrame({\n",
    "    'all_NA' :          [NA] * N,\n",
    "    'half_NA' :         random_categorical({1: .5}, unique_per=0,   na_per=.5, longtail_per=.0, N=N),\n",
    "    'longtail' :        random_categorical({},      unique_per=0,   na_per=.2, longtail_per=.8, N=N),\n",
    "    'longtail_unique' : random_categorical({},      unique_per=0.5, na_per=.0, longtail_per=.5, N=N),\n",
    "})\n",
    "bw = BuckarooWidget(\n",
    "    cat_histo_df, \n",
    "    pinned_rows=[\n",
    "        { 'primary_key_val': 'dtype',     'displayer_args': { 'displayer': 'obj' } },\n",
    "        { 'primary_key_val': 'histogram', 'displayer_args': { 'displayer': 'histogram' }},   \n",
    "    ])\n",
    "histogram_vals = [x for x in bw.df_data_dict['all_stats'] if x['index'] == 'histogram'][0]\n",
    "def format_histo(bw):\n",
    "    histogram_vals = [x for x in bw.df_data_dict['all_stats'] if x['index'] == 'histogram'][0]\n",
    "    return dict(\n",
    "        names = list(histogram_vals.keys()),\n",
    "        histogram_props = list(histogram_vals.values()))\n",
    "format_histo(bw)"
   ]
  },
  {
   "cell_type": "code",
   "execution_count": null,
   "id": "23",
   "metadata": {},
   "outputs": [],
   "source": []
  }
 ],
 "metadata": {
  "kernelspec": {
   "display_name": "Python 3 (ipykernel)",
   "language": "python",
   "name": "python3"
  },
  "language_info": {
   "codemirror_mode": {
    "name": "ipython",
    "version": 3
   },
   "file_extension": ".py",
   "mimetype": "text/x-python",
   "name": "python",
   "nbconvert_exporter": "python",
   "pygments_lexer": "ipython3",
   "version": "3.9.20"
  },
  "widgets": {
   "application/vnd.jupyter.widget-state+json": {
    "state": {
     "2b8e80b156e5419e96b2a2c7b34656b4": {
      "model_module": "@jupyter-widgets/base",
      "model_module_version": "2.0.0",
      "model_name": "LayoutModel",
      "state": {}
     },
     "76507679c20744ec8eb8611e60148128": {
      "model_module": "@jupyter-widgets/base",
      "model_module_version": "2.0.0",
      "model_name": "LayoutModel",
      "state": {}
     },
     "76f019645b954605abab66819d140e4d": {
      "model_module": "buckaroo",
      "model_module_version": "^0.7.8",
      "model_name": "DCEFWidgetModel",
      "state": {
       "_model_module_version": "^0.7.8",
       "_view_module_version": "^0.7.8",
       "_view_name": "DCEFWidgetView",
       "buckaroo_options": {
        "auto_clean": [
         "aggressive",
         "conservative"
        ],
        "df_display": [
         "main"
        ],
        "post_processing": [
         ""
        ],
        "sampled": [
         "random"
        ],
        "show_commands": [
         "on"
        ],
        "summary_stats": [
         "all"
        ]
       },
       "buckaroo_state": {
        "cleaning_method": "NoCleaning",
        "df_display": "main",
        "post_processing": "",
        "quick_command_args": {},
        "sampled": false,
        "search_string": "",
        "show_commands": false
       },
       "commandConfig": {
        "argspecs": {
         "drop_duplicates": [
          [
           3,
           "keep",
           "enum",
           [
            "first",
            "last",
            "False"
           ]
          ]
         ],
         "dropcol": [
          null
         ],
         "fillna": [
          [
           3,
           "fillVal",
           "type",
           "integer"
          ]
         ],
         "groupby": [
          [
           3,
           "colMap",
           "colEnum",
           [
            "null",
            "mean",
            "median",
            "min",
            "max",
            "sum",
            "count",
            "count_null",
            "std",
            "empty",
            "h",
            "nunique",
            "is_monotonic",
            "is_monotonic_decreasing",
            "is_monotonic_increasing",
            "all",
            "any",
            "autocorr",
            "kurt",
            "mad",
            "sem",
            "skew",
            "i",
            "idxmin",
            "dtype",
            "dtypes",
            "nbytes",
            "ndim",
            "size"
           ]
          ]
         ],
         "groupby_transform": [
          [
           3,
           "colMap",
           "colEnum",
           [
            "null",
            "mean",
            "median",
            "min",
            "max",
            "sum",
            "count",
            "count_null",
            "std",
            "empty",
            "h",
            "nunique",
            "is_monotonic",
            "is_monotonic_decreasing",
            "is_monotonic_increasing",
            "all",
            "any",
            "autocorr",
            "kurt",
            "mad",
            "sem",
            "skew",
            "i",
            "idxmin",
            "dtype",
            "dtypes",
            "nbytes",
            "ndim",
            "size"
           ]
          ]
         ],
         "linear_regression": [
          [
           3,
           "x_cols",
           "colEnum",
           [
            "null",
            "basic",
            "one_hot"
           ]
          ]
         ],
         "make_category": [
          null
         ],
         "only_outliers": [
          [
           3,
           "only_outliers",
           "type",
           "float"
          ]
         ],
         "rank": [
          [
           3,
           "method",
           "enum",
           [
            "None",
            "min",
            "dense"
           ]
          ],
          [
           4,
           "new_col",
           "bool"
          ]
         ],
         "remove_outliers": [
          [
           3,
           "remove_outliers",
           "type",
           "float"
          ]
         ],
         "safe_int": [
          null
         ],
         "search": [
          [
           3,
           "term",
           "type",
           "string"
          ]
         ],
         "search_col": [
          [
           3,
           "term",
           "type",
           "string"
          ]
         ]
        },
        "defaultArgs": {
         "drop_duplicates": [
          {
           "symbol": "drop_duplicates"
          },
          {
           "symbol": "df"
          },
          "col",
          "first"
         ],
         "dropcol": [
          {
           "symbol": "dropcol"
          },
          {
           "symbol": "df"
          },
          "col"
         ],
         "fillna": [
          {
           "symbol": "fillna"
          },
          {
           "symbol": "df"
          },
          "col",
          8
         ],
         "groupby": [
          {
           "symbol": "groupby"
          },
          {
           "symbol": "df"
          },
          "col",
          {}
         ],
         "groupby_transform": [
          {
           "symbol": "groupby_transform"
          },
          {
           "symbol": "df"
          },
          "col",
          {}
         ],
         "linear_regression": [
          {
           "symbol": "linear_regression"
          },
          {
           "symbol": "df"
          },
          "col",
          {}
         ],
         "make_category": [
          {
           "symbol": "make_category"
          },
          {
           "symbol": "df"
          },
          "col"
         ],
         "only_outliers": [
          {
           "symbol": "only_outliers"
          },
          {
           "symbol": "df"
          },
          "col",
          0.01
         ],
         "rank": [
          {
           "symbol": "rank"
          },
          {
           "symbol": "df"
          },
          "col",
          "None",
          false
         ],
         "remove_outliers": [
          {
           "symbol": "remove_outliers"
          },
          {
           "symbol": "df"
          },
          "col",
          0.01
         ],
         "safe_int": [
          {
           "symbol": "safe_int"
          },
          {
           "symbol": "df"
          },
          "col"
         ],
         "search": [
          {
           "symbol": "search"
          },
          {
           "symbol": "df"
          },
          "col",
          ""
         ],
         "search_col": [
          {
           "symbol": "search_col"
          },
          {
           "symbol": "df"
          },
          "col",
          ""
         ]
        }
       },
       "df_data_dict": {
        "all_stats": [
         {
          "bools": "object",
          "dicts": "object",
          "index": "dtype",
          "ints": "float64",
          "lists": "object",
          "lists-int": "object",
          "lists-string": "object",
          "nested_dicts": "object",
          "timestamp": "object"
         },
         {
          "bools": false,
          "dicts": false,
          "index": "is_numeric",
          "ints": true,
          "lists": false,
          "lists-int": false,
          "lists-string": false,
          "nested_dicts": false,
          "timestamp": false
         },
         {
          "bools": false,
          "dicts": false,
          "index": "is_integer",
          "ints": false,
          "lists": false,
          "lists-int": false,
          "lists-string": false,
          "nested_dicts": false,
          "timestamp": false
         },
         {
          "bools": false,
          "dicts": false,
          "index": "is_datetime",
          "ints": false,
          "lists": false,
          "lists-int": false,
          "lists-string": false,
          "nested_dicts": false,
          "timestamp": false
         },
         {
          "bools": false,
          "dicts": false,
          "index": "is_bool",
          "ints": false,
          "lists": false,
          "lists-int": false,
          "lists-string": false,
          "nested_dicts": false,
          "timestamp": false
         },
         {
          "bools": false,
          "dicts": false,
          "index": "is_float",
          "ints": true,
          "lists": false,
          "lists-int": false,
          "lists-string": false,
          "nested_dicts": false,
          "timestamp": false
         },
         {
          "bools": "obj",
          "dicts": "obj",
          "index": "_type",
          "ints": "float",
          "lists": "obj",
          "lists-int": "obj",
          "lists-string": "obj",
          "nested_dicts": "obj",
          "timestamp": "obj"
         },
         {
          "bools": false,
          "dicts": false,
          "index": "is_string",
          "ints": false,
          "lists": false,
          "lists-int": false,
          "lists-string": false,
          "nested_dicts": false,
          "timestamp": false
         },
         {
          "bools": 176,
          "dicts": 176,
          "index": "memory_usage",
          "ints": 176,
          "lists": 176,
          "lists-int": 176,
          "lists-string": 176,
          "nested_dicts": 176,
          "timestamp": 176
         }
        ],
        "empty": [],
        "main": [
         {
          "bools": true,
          "dicts": {
           "a": 10,
           "b": 20,
           "c": "some string"
          },
          "index": 0,
          "ints": 5,
          "lists": [
           "a",
           "b"
          ],
          "lists-int": [
           10,
           20
          ],
          "lists-string": [
           "a",
           "b"
          ],
          "nested_dicts": {
           "level_1": {
            "a": 10,
            "b": 20,
            "c": "some string"
           }
          },
          "timestamp": "2020-01-01 01:00Z"
         },
         {
          "bools": true,
          "dicts": null,
          "index": 1,
          "ints": 20,
          "lists": [
           1,
           2
          ],
          "lists-int": [
           100,
           500
          ],
          "lists-string": [
           "foo",
           "bar"
          ],
          "nested_dicts": null,
          "timestamp": "2020-01-01 02:00Z"
         },
         {
          "bools": false,
          "dicts": null,
          "index": 2,
          "ints": 30,
          "lists": null,
          "lists-int": [
           8
          ],
          "lists-string": null,
          "nested_dicts": null,
          "timestamp": "2020-02-28 02:00Z"
         },
         {
          "bools": false,
          "dicts": null,
          "index": 3,
          "ints": -10,
          "lists": null,
          "lists-int": null,
          "lists-string": null,
          "nested_dicts": null,
          "timestamp": "2020-03-15 02:00Z"
         },
         {
          "bools": true,
          "dicts": null,
          "index": 4,
          "ints": 7772,
          "lists": null,
          "lists-int": null,
          "lists-string": null,
          "nested_dicts": null,
          "timestamp": null
         },
         {
          "bools": null,
          "dicts": null,
          "index": 5,
          "ints": null,
          "lists": null,
          "lists-int": null,
          "lists-string": null,
          "nested_dicts": null,
          "timestamp": null
         }
        ]
       },
       "df_display_args": {
        "main": {
         "data_key": "main",
         "df_viewer_config": {
          "column_config": [
           {
            "col_name": "index",
            "displayer_args": {
             "displayer": "obj"
            }
           },
           {
            "col_name": "bools",
            "displayer_args": {
             "displayer": "obj"
            }
           },
           {
            "col_name": "ints",
            "displayer_args": {
             "displayer": "obj"
            }
           },
           {
            "col_name": "timestamp",
            "displayer_args": {
             "displayer": "obj"
            }
           },
           {
            "col_name": "dicts",
            "displayer_args": {
             "displayer": "obj"
            }
           },
           {
            "col_name": "nested_dicts",
            "displayer_args": {
             "displayer": "obj"
            }
           },
           {
            "col_name": "lists",
            "displayer_args": {
             "displayer": "obj"
            }
           },
           {
            "col_name": "lists-string",
            "displayer_args": {
             "displayer": "obj"
            }
           },
           {
            "col_name": "lists-int",
            "displayer_args": {
             "displayer": "obj"
            }
           }
          ],
          "component_config": {},
          "extra_grid_config": {},
          "pinned_rows": [
           {
            "displayer_args": {
             "displayer": "obj"
            },
            "primary_key_val": "dtype"
           }
          ]
         },
         "summary_stats_key": "all_stats"
        }
       },
       "df_meta": {
        "columns": 8,
        "filtered_rows": 6,
        "rows_shown": 6,
        "total_rows": 6
       },
       "layout": "IPY_MODEL_2b8e80b156e5419e96b2a2c7b34656b4",
       "operation_results": {
        "generated_py_code": "no operations",
        "transformed_df": null
       },
       "operations": []
      }
     },
     "8dab305894a14f9bbc02580705adba78": {
      "model_module": "@jupyter-widgets/base",
      "model_module_version": "2.0.0",
      "model_name": "LayoutModel",
      "state": {}
     },
     "a0102c019e6540adb68cab9db2530ef6": {
      "model_module": "@jupyter-widgets/base",
      "model_module_version": "2.0.0",
      "model_name": "LayoutModel",
      "state": {}
     },
     "ba12a15279144ff2876544321e5e9180": {
      "model_module": "buckaroo",
      "model_module_version": "^0.7.8",
      "model_name": "DCEFWidgetModel",
      "state": {
       "_model_module_version": "^0.7.8",
       "_view_module_version": "^0.7.8",
       "_view_name": "DCEFWidgetView",
       "buckaroo_options": {
        "auto_clean": [
         "aggressive",
         "conservative"
        ],
        "df_display": [
         "main",
         "summary"
        ],
        "post_processing": [
         ""
        ],
        "sampled": [
         "random"
        ],
        "show_commands": [
         "on"
        ],
        "summary_stats": [
         "all"
        ]
       },
       "buckaroo_state": {
        "cleaning_method": "NoCleaning",
        "df_display": "main",
        "post_processing": "",
        "quick_command_args": {},
        "sampled": false,
        "search_string": "",
        "show_commands": false
       },
       "commandConfig": {
        "argspecs": {
         "drop_duplicates": [
          [
           3,
           "keep",
           "enum",
           [
            "first",
            "last",
            "False"
           ]
          ]
         ],
         "dropcol": [
          null
         ],
         "fillna": [
          [
           3,
           "fillVal",
           "type",
           "integer"
          ]
         ],
         "groupby": [
          [
           3,
           "colMap",
           "colEnum",
           [
            "null",
            "mean",
            "median",
            "min",
            "max",
            "sum",
            "count",
            "count_null",
            "std",
            "empty",
            "h",
            "nunique",
            "is_monotonic",
            "is_monotonic_decreasing",
            "is_monotonic_increasing",
            "all",
            "any",
            "autocorr",
            "kurt",
            "mad",
            "sem",
            "skew",
            "i",
            "idxmin",
            "dtype",
            "dtypes",
            "nbytes",
            "ndim",
            "size"
           ]
          ]
         ],
         "groupby_transform": [
          [
           3,
           "colMap",
           "colEnum",
           [
            "null",
            "mean",
            "median",
            "min",
            "max",
            "sum",
            "count",
            "count_null",
            "std",
            "empty",
            "h",
            "nunique",
            "is_monotonic",
            "is_monotonic_decreasing",
            "is_monotonic_increasing",
            "all",
            "any",
            "autocorr",
            "kurt",
            "mad",
            "sem",
            "skew",
            "i",
            "idxmin",
            "dtype",
            "dtypes",
            "nbytes",
            "ndim",
            "size"
           ]
          ]
         ],
         "linear_regression": [
          [
           3,
           "x_cols",
           "colEnum",
           [
            "null",
            "basic",
            "one_hot"
           ]
          ]
         ],
         "make_category": [
          null
         ],
         "only_outliers": [
          [
           3,
           "only_outliers",
           "type",
           "float"
          ]
         ],
         "rank": [
          [
           3,
           "method",
           "enum",
           [
            "None",
            "min",
            "dense"
           ]
          ],
          [
           4,
           "new_col",
           "bool"
          ]
         ],
         "remove_outliers": [
          [
           3,
           "remove_outliers",
           "type",
           "float"
          ]
         ],
         "safe_int": [
          null
         ],
         "search": [
          [
           3,
           "term",
           "type",
           "string"
          ]
         ],
         "search_col": [
          [
           3,
           "term",
           "type",
           "string"
          ]
         ]
        },
        "defaultArgs": {
         "drop_duplicates": [
          {
           "symbol": "drop_duplicates"
          },
          {
           "symbol": "df"
          },
          "col",
          "first"
         ],
         "dropcol": [
          {
           "symbol": "dropcol"
          },
          {
           "symbol": "df"
          },
          "col"
         ],
         "fillna": [
          {
           "symbol": "fillna"
          },
          {
           "symbol": "df"
          },
          "col",
          8
         ],
         "groupby": [
          {
           "symbol": "groupby"
          },
          {
           "symbol": "df"
          },
          "col",
          {}
         ],
         "groupby_transform": [
          {
           "symbol": "groupby_transform"
          },
          {
           "symbol": "df"
          },
          "col",
          {}
         ],
         "linear_regression": [
          {
           "symbol": "linear_regression"
          },
          {
           "symbol": "df"
          },
          "col",
          {}
         ],
         "make_category": [
          {
           "symbol": "make_category"
          },
          {
           "symbol": "df"
          },
          "col"
         ],
         "only_outliers": [
          {
           "symbol": "only_outliers"
          },
          {
           "symbol": "df"
          },
          "col",
          0.01
         ],
         "rank": [
          {
           "symbol": "rank"
          },
          {
           "symbol": "df"
          },
          "col",
          "None",
          false
         ],
         "remove_outliers": [
          {
           "symbol": "remove_outliers"
          },
          {
           "symbol": "df"
          },
          "col",
          0.01
         ],
         "safe_int": [
          {
           "symbol": "safe_int"
          },
          {
           "symbol": "df"
          },
          "col"
         ],
         "search": [
          {
           "symbol": "search"
          },
          {
           "symbol": "df"
          },
          "col",
          ""
         ],
         "search_col": [
          {
           "symbol": "search_col"
          },
          {
           "symbol": "df"
          },
          "col",
          ""
         ]
        }
       },
       "df_data_dict": {
        "all_stats": [
         {
          "bools": "object",
          "dicts": "object",
          "index": "dtype",
          "ints": "float64",
          "lists": "object",
          "lists-int": "object",
          "lists-string": "object",
          "nested_dicts": "object",
          "timestamp": "object"
         },
         {
          "bools": false,
          "dicts": false,
          "index": "is_numeric",
          "ints": true,
          "lists": false,
          "lists-int": false,
          "lists-string": false,
          "nested_dicts": false,
          "timestamp": false
         },
         {
          "bools": false,
          "dicts": false,
          "index": "is_integer",
          "ints": false,
          "lists": false,
          "lists-int": false,
          "lists-string": false,
          "nested_dicts": false,
          "timestamp": false
         },
         {
          "bools": false,
          "dicts": false,
          "index": "is_datetime",
          "ints": false,
          "lists": false,
          "lists-int": false,
          "lists-string": false,
          "nested_dicts": false,
          "timestamp": false
         },
         {
          "bools": false,
          "dicts": false,
          "index": "is_bool",
          "ints": false,
          "lists": false,
          "lists-int": false,
          "lists-string": false,
          "nested_dicts": false,
          "timestamp": false
         },
         {
          "bools": false,
          "dicts": false,
          "index": "is_float",
          "ints": true,
          "lists": false,
          "lists-int": false,
          "lists-string": false,
          "nested_dicts": false,
          "timestamp": false
         },
         {
          "bools": "obj",
          "dicts": "obj",
          "index": "_type",
          "ints": "float",
          "lists": "obj",
          "lists-int": "obj",
          "lists-string": "obj",
          "nested_dicts": "obj",
          "timestamp": "obj"
         },
         {
          "bools": false,
          "dicts": false,
          "index": "is_string",
          "ints": false,
          "lists": false,
          "lists-int": false,
          "lists-string": false,
          "nested_dicts": false,
          "timestamp": false
         },
         {
          "bools": 176,
          "dicts": 176,
          "index": "memory_usage",
          "ints": 176,
          "lists": 176,
          "lists-int": 176,
          "lists-string": 176,
          "nested_dicts": 176,
          "timestamp": 176
         },
         {
          "bools": 6,
          "dicts": 6,
          "index": "length",
          "ints": 6,
          "lists": 6,
          "lists-int": 6,
          "lists-string": 6,
          "nested_dicts": 6,
          "timestamp": 6
         },
         {
          "bools": null,
          "dicts": null,
          "index": "min",
          "ints": -10,
          "lists": null,
          "lists-int": null,
          "lists-string": null,
          "nested_dicts": null,
          "timestamp": null
         },
         {
          "bools": null,
          "dicts": null,
          "index": "max",
          "ints": 7772,
          "lists": null,
          "lists-int": null,
          "lists-string": null,
          "nested_dicts": null,
          "timestamp": null
         },
         {
          "bools": 0,
          "dicts": 0,
          "index": "mean",
          "ints": 1563.4,
          "lists": 0,
          "lists-int": 0,
          "lists-string": 0,
          "nested_dicts": 0,
          "timestamp": 0
         },
         {
          "bools": 1,
          "dicts": 5,
          "index": "nan_count",
          "ints": 1,
          "lists": 4,
          "lists-int": 3,
          "lists-string": 4,
          "nested_dicts": 5,
          "timestamp": 2
         },
         {
          "bools": [
           3,
           2
          ],
          "dicts": [
           1
          ],
          "index": "value_counts",
          "ints": [
           1,
           1,
           1,
           1,
           1
          ],
          "lists": [
           1,
           1
          ],
          "lists-int": [
           1,
           1,
           1
          ],
          "lists-string": [
           1,
           1
          ],
          "nested_dicts": [
           1
          ],
          "timestamp": [
           1,
           1,
           1,
           1
          ]
         },
         {
          "bools": true,
          "dicts": {
           "a": 10,
           "b": 20,
           "c": "some string"
          },
          "index": "mode",
          "ints": -10,
          "lists": [
           "a",
           "b"
          ],
          "lists-int": [
           8
          ],
          "lists-string": [
           "a",
           "b"
          ],
          "nested_dicts": {
           "level_1": {
            "a": 10,
            "b": 20,
            "c": "some string"
           }
          },
          "timestamp": "2020-01-01 01:00Z"
         },
         {
          "bools": 0.3333333333,
          "dicts": 0.1666666667,
          "index": "distinct_per",
          "ints": 0.8333333333,
          "lists": 0.3333333333,
          "lists-int": 0.5,
          "lists-string": 0.3333333333,
          "nested_dicts": 0.1666666667,
          "timestamp": 0.6666666667
         },
         {
          "bools": 0,
          "dicts": 0,
          "index": "empty_per",
          "ints": 0,
          "lists": 0,
          "lists-int": 0,
          "lists-string": 0,
          "nested_dicts": 0,
          "timestamp": 0
         },
         {
          "bools": 0,
          "dicts": 0.1666666667,
          "index": "unique_per",
          "ints": 0.8333333333,
          "lists": 0.3333333333,
          "lists-int": 0.5,
          "lists-string": 0.3333333333,
          "nested_dicts": 0.1666666667,
          "timestamp": 0.6666666667
         },
         {
          "bools": 0.1666666667,
          "dicts": 0.8333333333,
          "index": "nan_per",
          "ints": 0.1666666667,
          "lists": 0.6666666667,
          "lists-int": 0.5,
          "lists-string": 0.6666666667,
          "nested_dicts": 0.8333333333,
          "timestamp": 0.3333333333
         },
         {
          "bools": 0,
          "dicts": 1,
          "index": "unique_count",
          "ints": 5,
          "lists": 2,
          "lists-int": 3,
          "lists-string": 2,
          "nested_dicts": 1,
          "timestamp": 4
         },
         {
          "bools": 0,
          "dicts": 0,
          "index": "empty_count",
          "ints": 0,
          "lists": 0,
          "lists-int": 0,
          "lists-string": 0,
          "nested_dicts": 0,
          "timestamp": 0
         },
         {
          "bools": 2,
          "dicts": 1,
          "index": "distinct_count",
          "ints": 5,
          "lists": 2,
          "lists-int": 3,
          "lists-string": 2,
          "nested_dicts": 1,
          "timestamp": 4
         },
         {
          "bools": [
           {
            "cat_pop": 50,
            "name": true
           },
           {
            "cat_pop": 33,
            "name": false
           },
           {
            "NA": 17,
            "name": "NA"
           }
          ],
          "dicts": [
           {
            "cat_pop": 17,
            "name": "{'a': 10, 'b': 20, 'c': 'some string'}"
           },
           {
            "name": "longtail",
            "unique": 17
           },
           {
            "NA": 83,
            "name": "NA"
           }
          ],
          "index": "histogram",
          "ints": [
           {
            "cat_pop": 17,
            "name": 5
           },
           {
            "cat_pop": 17,
            "name": 20
           },
           {
            "cat_pop": 17,
            "name": 30
           },
           {
            "cat_pop": 17,
            "name": -10
           },
           {
            "cat_pop": 17,
            "name": 7772
           },
           {
            "name": "longtail",
            "unique": 83
           },
           {
            "NA": 17,
            "name": "NA"
           }
          ],
          "lists": [
           {
            "cat_pop": 17,
            "name": "['a', 'b']"
           },
           {
            "cat_pop": 17,
            "name": "[1, 2]"
           },
           {
            "name": "longtail",
            "unique": 33
           },
           {
            "NA": 67,
            "name": "NA"
           }
          ],
          "lists-int": [
           {
            "cat_pop": 17,
            "name": "[10, 20]"
           },
           {
            "cat_pop": 17,
            "name": "[100, 500]"
           },
           {
            "cat_pop": 17,
            "name": "[8]"
           },
           {
            "name": "longtail",
            "unique": 50
           },
           {
            "NA": 50,
            "name": "NA"
           }
          ],
          "lists-string": [
           {
            "cat_pop": 17,
            "name": "['a', 'b']"
           },
           {
            "cat_pop": 17,
            "name": "['foo', 'bar']"
           },
           {
            "name": "longtail",
            "unique": 33
           },
           {
            "NA": 67,
            "name": "NA"
           }
          ],
          "nested_dicts": [
           {
            "cat_pop": 17,
            "name": "{'level_1': {'a': 10, 'b': 20, 'c': 'some string'}}"
           },
           {
            "name": "longtail",
            "unique": 17
           },
           {
            "NA": 83,
            "name": "NA"
           }
          ],
          "timestamp": [
           {
            "cat_pop": 17,
            "name": "2020-01-01 01:00Z"
           },
           {
            "cat_pop": 17,
            "name": "2020-01-01 02:00Z"
           },
           {
            "cat_pop": 17,
            "name": "2020-02-28 02:00Z"
           },
           {
            "cat_pop": 17,
            "name": "2020-03-15 02:00Z"
           },
           {
            "name": "longtail",
            "unique": 67
           },
           {
            "NA": 33,
            "name": "NA"
           }
          ]
         },
         {
          "bools": {},
          "dicts": {},
          "index": "histogram_args",
          "ints": {
           "high_tail": 7462.32,
           "low_tail": -9.4,
           "meat_histogram": [
            [
             1,
             0,
             0,
             0,
             0,
             0,
             1,
             0,
             0,
             1
            ],
            [
             5,
             7.5,
             10,
             12.5,
             15,
             17.5,
             20,
             22.5,
             25,
             27.5,
             30
            ]
           ],
           "normalized_populations": [
            0.3333333333,
            0,
            0,
            0,
            0,
            0,
            0.3333333333,
            0,
            0,
            0.3333333333
           ]
          },
          "lists": {},
          "lists-int": {},
          "lists-string": {},
          "nested_dicts": {},
          "timestamp": {}
         },
         {
          "bools": [],
          "dicts": [],
          "index": "histogram_bins",
          "ints": [
           5,
           7.5,
           10,
           12.5,
           15,
           17.5,
           20,
           22.5,
           25,
           27.5,
           30
          ],
          "lists": [],
          "lists-int": [],
          "lists-string": [],
          "nested_dicts": [],
          "timestamp": []
         },
         {
          "bools": 5,
          "dicts": 1,
          "index": "non_null_count",
          "ints": 5,
          "lists": 2,
          "lists-int": 3,
          "lists-string": 2,
          "nested_dicts": 1,
          "timestamp": 4
         },
         {
          "bools": 1,
          "dicts": 5,
          "index": "null_count",
          "ints": 1,
          "lists": 4,
          "lists-int": 3,
          "lists-string": 4,
          "nested_dicts": 5,
          "timestamp": 2
         },
         {
          "bools": true,
          "dicts": {
           "a": 10,
           "b": 20,
           "c": "some string"
          },
          "index": "most_freq",
          "ints": 5,
          "lists": [
           "a",
           "b"
          ],
          "lists-int": [
           10,
           20
          ],
          "lists-string": [
           "a",
           "b"
          ],
          "nested_dicts": {
           "level_1": {
            "a": 10,
            "b": 20,
            "c": "some string"
           }
          },
          "timestamp": "2020-01-01 01:00Z"
         },
         {
          "bools": false,
          "dicts": null,
          "index": "2nd_freq",
          "ints": 20,
          "lists": [
           1,
           2
          ],
          "lists-int": [
           100,
           500
          ],
          "lists-string": [
           "foo",
           "bar"
          ],
          "nested_dicts": null,
          "timestamp": "2020-01-01 02:00Z"
         },
         {
          "bools": null,
          "dicts": null,
          "index": "3rd_freq",
          "ints": 30,
          "lists": null,
          "lists-int": [
           8
          ],
          "lists-string": null,
          "nested_dicts": null,
          "timestamp": "2020-02-28 02:00Z"
         },
         {
          "bools": null,
          "dicts": null,
          "index": "4th_freq",
          "ints": -10,
          "lists": null,
          "lists-int": null,
          "lists-string": null,
          "nested_dicts": null,
          "timestamp": "2020-03-15 02:00Z"
         },
         {
          "bools": null,
          "dicts": null,
          "index": "5th_freq",
          "ints": 7772,
          "lists": null,
          "lists-int": null,
          "lists-string": null,
          "nested_dicts": null,
          "timestamp": null
         }
        ],
        "empty": [],
        "main": [
         {
          "bools": true,
          "dicts": {
           "a": 10,
           "b": 20,
           "c": "some string"
          },
          "index": 0,
          "ints": 5,
          "lists": [
           "a",
           "b"
          ],
          "lists-int": [
           10,
           20
          ],
          "lists-string": [
           "a",
           "b"
          ],
          "nested_dicts": {
           "level_1": {
            "a": 10,
            "b": 20,
            "c": "some string"
           }
          },
          "timestamp": "2020-01-01 01:00Z"
         },
         {
          "bools": true,
          "dicts": null,
          "index": 1,
          "ints": 20,
          "lists": [
           1,
           2
          ],
          "lists-int": [
           100,
           500
          ],
          "lists-string": [
           "foo",
           "bar"
          ],
          "nested_dicts": null,
          "timestamp": "2020-01-01 02:00Z"
         },
         {
          "bools": false,
          "dicts": null,
          "index": 2,
          "ints": 30,
          "lists": null,
          "lists-int": [
           8
          ],
          "lists-string": null,
          "nested_dicts": null,
          "timestamp": "2020-02-28 02:00Z"
         },
         {
          "bools": false,
          "dicts": null,
          "index": 3,
          "ints": -10,
          "lists": null,
          "lists-int": null,
          "lists-string": null,
          "nested_dicts": null,
          "timestamp": "2020-03-15 02:00Z"
         },
         {
          "bools": true,
          "dicts": null,
          "index": 4,
          "ints": 7772,
          "lists": null,
          "lists-int": null,
          "lists-string": null,
          "nested_dicts": null,
          "timestamp": null
         },
         {
          "bools": null,
          "dicts": null,
          "index": 5,
          "ints": null,
          "lists": null,
          "lists-int": null,
          "lists-string": null,
          "nested_dicts": null,
          "timestamp": null
         }
        ]
       },
       "df_display_args": {
        "main": {
         "data_key": "main",
         "df_viewer_config": {
          "column_config": [
           {
            "col_name": "index",
            "displayer_args": {
             "displayer": "float",
             "max_fraction_digits": 0,
             "min_fraction_digits": 0
            }
           },
           {
            "col_name": "bools",
            "displayer_args": {
             "displayer": "obj",
             "tooltip_config": {
              "tooltip_type": "simple",
              "val_column": "bools"
             }
            }
           },
           {
            "col_name": "ints",
            "displayer_args": {
             "displayer": "float",
             "max_fraction_digits": 3,
             "min_fraction_digits": 3
            }
           },
           {
            "col_name": "timestamp",
            "displayer_args": {
             "displayer": "obj",
             "tooltip_config": {
              "tooltip_type": "simple",
              "val_column": "timestamp"
             }
            }
           },
           {
            "col_name": "dicts",
            "displayer_args": {
             "displayer": "obj",
             "tooltip_config": {
              "tooltip_type": "simple",
              "val_column": "dicts"
             }
            }
           },
           {
            "col_name": "nested_dicts",
            "displayer_args": {
             "displayer": "obj",
             "tooltip_config": {
              "tooltip_type": "simple",
              "val_column": "nested_dicts"
             }
            }
           },
           {
            "col_name": "lists",
            "displayer_args": {
             "displayer": "obj",
             "tooltip_config": {
              "tooltip_type": "simple",
              "val_column": "lists"
             }
            }
           },
           {
            "col_name": "lists-string",
            "displayer_args": {
             "displayer": "obj",
             "tooltip_config": {
              "tooltip_type": "simple",
              "val_column": "lists-string"
             }
            }
           },
           {
            "col_name": "lists-int",
            "displayer_args": {
             "displayer": "obj",
             "tooltip_config": {
              "tooltip_type": "simple",
              "val_column": "lists-int"
             }
            }
           }
          ],
          "component_config": {},
          "extra_grid_config": {},
          "pinned_rows": [
           {
            "displayer_args": {
             "displayer": "obj"
            },
            "primary_key_val": "dtype"
           },
           {
            "displayer_args": {
             "displayer": "histogram"
            },
            "primary_key_val": "histogram"
           }
          ]
         },
         "summary_stats_key": "all_stats"
        },
        "summary": {
         "data_key": "empty",
         "df_viewer_config": {
          "column_config": [
           {
            "col_name": "index",
            "displayer_args": {
             "displayer": "obj"
            }
           },
           {
            "col_name": "bools",
            "displayer_args": {
             "displayer": "obj"
            }
           },
           {
            "col_name": "ints",
            "displayer_args": {
             "displayer": "obj"
            }
           },
           {
            "col_name": "timestamp",
            "displayer_args": {
             "displayer": "obj"
            }
           },
           {
            "col_name": "dicts",
            "displayer_args": {
             "displayer": "obj"
            }
           },
           {
            "col_name": "nested_dicts",
            "displayer_args": {
             "displayer": "obj"
            }
           },
           {
            "col_name": "lists",
            "displayer_args": {
             "displayer": "obj"
            }
           },
           {
            "col_name": "lists-string",
            "displayer_args": {
             "displayer": "obj"
            }
           },
           {
            "col_name": "lists-int",
            "displayer_args": {
             "displayer": "obj"
            }
           }
          ],
          "component_config": {},
          "extra_grid_config": {},
          "pinned_rows": [
           {
            "displayer_args": {
             "displayer": "obj"
            },
            "primary_key_val": "dtype"
           },
           {
            "displayer_args": {
             "displayer": "float",
             "max_fraction_digits": 0,
             "min_fraction_digits": 0
            },
            "primary_key_val": "non_null_count"
           },
           {
            "displayer_args": {
             "displayer": "float",
             "max_fraction_digits": 0,
             "min_fraction_digits": 0
            },
            "primary_key_val": "null_count"
           },
           {
            "displayer_args": {
             "displayer": "float",
             "max_fraction_digits": 3,
             "min_fraction_digits": 3
            },
            "primary_key_val": "mean"
           },
           {
            "displayer_args": {
             "displayer": "float",
             "max_fraction_digits": 3,
             "min_fraction_digits": 3
            },
            "primary_key_val": "std"
           },
           {
            "displayer_args": {
             "displayer": "float",
             "max_fraction_digits": 3,
             "min_fraction_digits": 3
            },
            "primary_key_val": "min"
           },
           {
            "displayer_args": {
             "displayer": "float",
             "max_fraction_digits": 3,
             "min_fraction_digits": 3
            },
            "primary_key_val": "25th"
           },
           {
            "displayer_args": {
             "displayer": "float",
             "max_fraction_digits": 3,
             "min_fraction_digits": 3
            },
            "primary_key_val": "median"
           },
           {
            "displayer_args": {
             "displayer": "float",
             "max_fraction_digits": 3,
             "min_fraction_digits": 3
            },
            "primary_key_val": "75th"
           },
           {
            "displayer_args": {
             "displayer": "float",
             "max_fraction_digits": 3,
             "min_fraction_digits": 3
            },
            "primary_key_val": "max"
           },
           {
            "displayer_args": {
             "displayer": "float",
             "max_fraction_digits": 0,
             "min_fraction_digits": 0
            },
            "primary_key_val": "unique_count"
           },
           {
            "displayer_args": {
             "displayer": "float",
             "max_fraction_digits": 0,
             "min_fraction_digits": 0
            },
            "primary_key_val": "distinct_count"
           },
           {
            "displayer_args": {
             "displayer": "obj"
            },
            "primary_key_val": "most_freq"
           },
           {
            "displayer_args": {
             "displayer": "obj"
            },
            "primary_key_val": "2nd_freq"
           },
           {
            "displayer_args": {
             "displayer": "obj"
            },
            "primary_key_val": "3rd_freq"
           },
           {
            "displayer_args": {
             "displayer": "obj"
            },
            "primary_key_val": "4th_freq"
           },
           {
            "displayer_args": {
             "displayer": "obj"
            },
            "primary_key_val": "5th_freq"
           }
          ]
         },
         "summary_stats_key": "all_stats"
        }
       },
       "df_meta": {
        "columns": 8,
        "filtered_rows": 6,
        "rows_shown": 6,
        "total_rows": 6
       },
       "layout": "IPY_MODEL_8dab305894a14f9bbc02580705adba78",
       "operation_results": {
        "generated_py_code": "no operations",
        "transformed_df": null
       },
       "operations": []
      }
     },
     "c6cd85889ce54ca9b0236bddb54248f4": {
      "model_module": "buckaroo",
      "model_module_version": "^0.7.8",
      "model_name": "DCEFWidgetModel",
      "state": {
       "_model_module_version": "^0.7.8",
       "_view_module_version": "^0.7.8",
       "_view_name": "DCEFWidgetView",
       "buckaroo_options": {
        "auto_clean": [
         "aggressive",
         "conservative"
        ],
        "df_display": [
         "main",
         "summary"
        ],
        "post_processing": [
         ""
        ],
        "sampled": [
         "random"
        ],
        "show_commands": [
         "on"
        ],
        "summary_stats": [
         "all"
        ]
       },
       "buckaroo_state": {
        "cleaning_method": "NoCleaning",
        "df_display": "main",
        "post_processing": "",
        "quick_command_args": {},
        "sampled": false,
        "search_string": "",
        "show_commands": false
       },
       "commandConfig": {
        "argspecs": {
         "drop_duplicates": [
          [
           3,
           "keep",
           "enum",
           [
            "first",
            "last",
            "False"
           ]
          ]
         ],
         "dropcol": [
          null
         ],
         "fillna": [
          [
           3,
           "fillVal",
           "type",
           "integer"
          ]
         ],
         "groupby": [
          [
           3,
           "colMap",
           "colEnum",
           [
            "null",
            "mean",
            "median",
            "min",
            "max",
            "sum",
            "count",
            "count_null",
            "std",
            "empty",
            "h",
            "nunique",
            "is_monotonic",
            "is_monotonic_decreasing",
            "is_monotonic_increasing",
            "all",
            "any",
            "autocorr",
            "kurt",
            "mad",
            "sem",
            "skew",
            "i",
            "idxmin",
            "dtype",
            "dtypes",
            "nbytes",
            "ndim",
            "size"
           ]
          ]
         ],
         "groupby_transform": [
          [
           3,
           "colMap",
           "colEnum",
           [
            "null",
            "mean",
            "median",
            "min",
            "max",
            "sum",
            "count",
            "count_null",
            "std",
            "empty",
            "h",
            "nunique",
            "is_monotonic",
            "is_monotonic_decreasing",
            "is_monotonic_increasing",
            "all",
            "any",
            "autocorr",
            "kurt",
            "mad",
            "sem",
            "skew",
            "i",
            "idxmin",
            "dtype",
            "dtypes",
            "nbytes",
            "ndim",
            "size"
           ]
          ]
         ],
         "linear_regression": [
          [
           3,
           "x_cols",
           "colEnum",
           [
            "null",
            "basic",
            "one_hot"
           ]
          ]
         ],
         "make_category": [
          null
         ],
         "only_outliers": [
          [
           3,
           "only_outliers",
           "type",
           "float"
          ]
         ],
         "rank": [
          [
           3,
           "method",
           "enum",
           [
            "None",
            "min",
            "dense"
           ]
          ],
          [
           4,
           "new_col",
           "bool"
          ]
         ],
         "remove_outliers": [
          [
           3,
           "remove_outliers",
           "type",
           "float"
          ]
         ],
         "safe_int": [
          null
         ],
         "search": [
          [
           3,
           "term",
           "type",
           "string"
          ]
         ],
         "search_col": [
          [
           3,
           "term",
           "type",
           "string"
          ]
         ]
        },
        "defaultArgs": {
         "drop_duplicates": [
          {
           "symbol": "drop_duplicates"
          },
          {
           "symbol": "df"
          },
          "col",
          "first"
         ],
         "dropcol": [
          {
           "symbol": "dropcol"
          },
          {
           "symbol": "df"
          },
          "col"
         ],
         "fillna": [
          {
           "symbol": "fillna"
          },
          {
           "symbol": "df"
          },
          "col",
          8
         ],
         "groupby": [
          {
           "symbol": "groupby"
          },
          {
           "symbol": "df"
          },
          "col",
          {}
         ],
         "groupby_transform": [
          {
           "symbol": "groupby_transform"
          },
          {
           "symbol": "df"
          },
          "col",
          {}
         ],
         "linear_regression": [
          {
           "symbol": "linear_regression"
          },
          {
           "symbol": "df"
          },
          "col",
          {}
         ],
         "make_category": [
          {
           "symbol": "make_category"
          },
          {
           "symbol": "df"
          },
          "col"
         ],
         "only_outliers": [
          {
           "symbol": "only_outliers"
          },
          {
           "symbol": "df"
          },
          "col",
          0.01
         ],
         "rank": [
          {
           "symbol": "rank"
          },
          {
           "symbol": "df"
          },
          "col",
          "None",
          false
         ],
         "remove_outliers": [
          {
           "symbol": "remove_outliers"
          },
          {
           "symbol": "df"
          },
          "col",
          0.01
         ],
         "safe_int": [
          {
           "symbol": "safe_int"
          },
          {
           "symbol": "df"
          },
          "col"
         ],
         "search": [
          {
           "symbol": "search"
          },
          {
           "symbol": "df"
          },
          "col",
          ""
         ],
         "search_col": [
          {
           "symbol": "search_col"
          },
          {
           "symbol": "df"
          },
          "col",
          ""
         ]
        }
       },
       "df_data_dict": {
        "all_stats": [
         {
          "float_col": "float64",
          "index": "dtype",
          "int_col": "int64",
          "str_col": "object"
         },
         {
          "float_col": true,
          "index": "is_numeric",
          "int_col": true,
          "str_col": false
         },
         {
          "float_col": false,
          "index": "is_integer",
          "int_col": true,
          "str_col": false
         },
         {
          "float_col": false,
          "index": "is_datetime",
          "int_col": false,
          "str_col": false
         },
         {
          "float_col": false,
          "index": "is_bool",
          "int_col": false,
          "str_col": false
         },
         {
          "float_col": true,
          "index": "is_float",
          "int_col": false,
          "str_col": false
         },
         {
          "float_col": "float",
          "index": "_type",
          "int_col": "integer",
          "str_col": "string"
         },
         {
          "float_col": false,
          "index": "is_string",
          "int_col": false,
          "str_col": true
         },
         {
          "float_col": 1728,
          "index": "memory_usage",
          "int_col": 1728,
          "str_col": 1728
         },
         {
          "float_col": 200,
          "index": "length",
          "int_col": 200,
          "str_col": 200
         },
         {
          "float_col": 1.4285714286,
          "index": "min",
          "int_col": 1,
          "str_col": null
         },
         {
          "float_col": 41.4285714286,
          "index": "max",
          "int_col": 49,
          "str_col": null
         },
         {
          "float_col": 20.8,
          "index": "mean",
          "int_col": 26.13,
          "str_col": 0
         },
         {
          "float_col": 0,
          "index": "nan_count",
          "int_col": 0,
          "str_col": 0
         },
         {
          "float_col": [
           14,
           12,
           11,
           9,
           8,
           8,
           8,
           7,
           7,
           7,
           7,
           7,
           7,
           7,
           6,
           6,
           6,
           6,
           6,
           6,
           6,
           6,
           6,
           5,
           5,
           5,
           4,
           4,
           4
          ],
          "index": "value_counts",
          "int_col": [
           9,
           9,
           8,
           8,
           7,
           7,
           7,
           6,
           6,
           6,
           6,
           6,
           6,
           5,
           5,
           5,
           5,
           5,
           4,
           4,
           4,
           4,
           4,
           4,
           4,
           4,
           3,
           3,
           3,
           3,
           3,
           3,
           3,
           3,
           3,
           3,
           3,
           2,
           2,
           2,
           2,
           2,
           2,
           2,
           1,
           1,
           1,
           1,
           1
          ],
          "str_col": [
           200
          ]
         },
         {
          "float_col": 31.4285714286,
          "index": "mode",
          "int_col": 6,
          "str_col": "foobar"
         },
         {
          "float_col": 0.145,
          "index": "distinct_per",
          "int_col": 0.245,
          "str_col": 0.005
         },
         {
          "float_col": 0,
          "index": "empty_per",
          "int_col": 0,
          "str_col": 0
         },
         {
          "float_col": 0,
          "index": "unique_per",
          "int_col": 0.025,
          "str_col": 0
         },
         {
          "float_col": 0,
          "index": "nan_per",
          "int_col": 0,
          "str_col": 0
         },
         {
          "float_col": 0,
          "index": "unique_count",
          "int_col": 5,
          "str_col": 0
         },
         {
          "float_col": 0,
          "index": "empty_count",
          "int_col": 0,
          "str_col": 0
         },
         {
          "float_col": 29,
          "index": "distinct_count",
          "int_col": 49,
          "str_col": 1
         },
         {
          "float_col": [
           {
            "name": "1.4285714285714286 - 1.4285714285714286",
            "tail": 1
           },
           {
            "name": "3-7",
            "population": 11
           },
           {
            "name": "7-10",
            "population": 17
           },
           {
            "name": "10-14",
            "population": 7
           },
           {
            "name": "14-18",
            "population": 11
           },
           {
            "name": "18-21",
            "population": 6
           },
           {
            "name": "21-25",
            "population": 10
           },
           {
            "name": "25-29",
            "population": 10
           },
           {
            "name": "29-33",
            "population": 11
           },
           {
            "name": "33-36",
            "population": 8
           },
           {
            "name": "36-40",
            "population": 10
           },
           {
            "name": "41.42857142857143 - 41.42857142857143",
            "tail": 1
           }
          ],
          "index": "histogram",
          "int_col": [
           {
            "name": "1 - 1.0",
            "tail": 1
           },
           {
            "name": "2-7",
            "population": 12
           },
           {
            "name": "7-11",
            "population": 7
           },
           {
            "name": "11-16",
            "population": 12
           },
           {
            "name": "16-20",
            "population": 7
           },
           {
            "name": "20-25",
            "population": 7
           },
           {
            "name": "25-30",
            "population": 10
           },
           {
            "name": "30-34",
            "population": 12
           },
           {
            "name": "34-39",
            "population": 10
           },
           {
            "name": "39-43",
            "population": 12
           },
           {
            "name": "43-48",
            "population": 11
           },
           {
            "name": "49.0 - 49",
            "tail": 1
           }
          ],
          "str_col": [
           {
            "cat_pop": 100,
            "name": "foobar"
           }
          ]
         },
         {
          "float_col": {
           "high_tail": 41.4285714286,
           "low_tail": 1.4285714286,
           "meat_histogram": [
            [
             20,
             32,
             14,
             20,
             11,
             19,
             18,
             21,
             16,
             18
            ],
            [
             2.8571428571,
             6.5714285714,
             10.2857142857,
             14,
             17.7142857143,
             21.4285714286,
             25.1428571429,
             28.8571428571,
             32.5714285714,
             36.2857142857,
             40
            ]
           ],
           "normalized_populations": [
            0.1058201058,
            0.1693121693,
            0.0740740741,
            0.1058201058,
            0.0582010582,
            0.1005291005,
            0.0952380952,
            0.1111111111,
            0.0846560847,
            0.0952380952
           ]
          },
          "index": "histogram_args",
          "int_col": {
           "high_tail": 49,
           "low_tail": 1,
           "meat_histogram": [
            [
             23,
             13,
             23,
             14,
             14,
             18,
             22,
             19,
             22,
             21
            ],
            [
             2,
             6.6,
             11.2,
             15.8,
             20.4,
             25,
             29.6,
             34.2,
             38.8,
             43.4,
             48
            ]
           ],
           "normalized_populations": [
            0.1216931217,
            0.0687830688,
            0.1216931217,
            0.0740740741,
            0.0740740741,
            0.0952380952,
            0.1164021164,
            0.1005291005,
            0.1164021164,
            0.1111111111
           ]
          },
          "str_col": {}
         },
         {
          "float_col": [
           2.8571428571,
           6.5714285714,
           10.2857142857,
           14,
           17.7142857143,
           21.4285714286,
           25.1428571429,
           28.8571428571,
           32.5714285714,
           36.2857142857,
           40
          ],
          "index": "histogram_bins",
          "int_col": [
           2,
           6.6,
           11.2,
           15.8,
           20.4,
           25,
           29.6,
           34.2,
           38.8,
           43.4,
           48
          ],
          "str_col": []
         },
         {
          "float_col": 200,
          "index": "non_null_count",
          "int_col": 200,
          "str_col": 200
         },
         {
          "float_col": 0,
          "index": "null_count",
          "int_col": 0,
          "str_col": 0
         },
         {
          "float_col": 31.4285714286,
          "index": "most_freq",
          "int_col": 39,
          "str_col": "foobar"
         },
         {
          "float_col": 7.1428571429,
          "index": "2nd_freq",
          "int_col": 6,
          "str_col": null
         },
         {
          "float_col": 8.5714285714,
          "index": "3rd_freq",
          "int_col": 40,
          "str_col": null
         },
         {
          "float_col": 10,
          "index": "4th_freq",
          "int_col": 49,
          "str_col": null
         },
         {
          "float_col": 14.2857142857,
          "index": "5th_freq",
          "int_col": 15,
          "str_col": null
         }
        ],
        "empty": [],
        "main": [
         {
          "float_col": 24.2857142857,
          "index": 0,
          "int_col": 1,
          "str_col": "foobar"
         },
         {
          "float_col": 38.5714285714,
          "index": 1,
          "int_col": 34,
          "str_col": "foobar"
         },
         {
          "float_col": 22.8571428571,
          "index": 2,
          "int_col": 21,
          "str_col": "foobar"
         },
         {
          "float_col": 22.8571428571,
          "index": 3,
          "int_col": 8,
          "str_col": "foobar"
         },
         {
          "float_col": 4.2857142857,
          "index": 4,
          "int_col": 34,
          "str_col": "foobar"
         },
         {
          "float_col": 15.7142857143,
          "index": 5,
          "int_col": 7,
          "str_col": "foobar"
         },
         {
          "float_col": 15.7142857143,
          "index": 6,
          "int_col": 35,
          "str_col": "foobar"
         },
         {
          "float_col": 2.8571428571,
          "index": 7,
          "int_col": 29,
          "str_col": "foobar"
         },
         {
          "float_col": 17.1428571429,
          "index": 8,
          "int_col": 34,
          "str_col": "foobar"
         },
         {
          "float_col": 7.1428571429,
          "index": 9,
          "int_col": 37,
          "str_col": "foobar"
         },
         {
          "float_col": 18.5714285714,
          "index": 10,
          "int_col": 28,
          "str_col": "foobar"
         },
         {
          "float_col": 21.4285714286,
          "index": 11,
          "int_col": 1,
          "str_col": "foobar"
         },
         {
          "float_col": 14.2857142857,
          "index": 12,
          "int_col": 49,
          "str_col": "foobar"
         },
         {
          "float_col": 2.8571428571,
          "index": 13,
          "int_col": 34,
          "str_col": "foobar"
         },
         {
          "float_col": 18.5714285714,
          "index": 14,
          "int_col": 14,
          "str_col": "foobar"
         },
         {
          "float_col": 21.4285714286,
          "index": 15,
          "int_col": 14,
          "str_col": "foobar"
         },
         {
          "float_col": 21.4285714286,
          "index": 16,
          "int_col": 47,
          "str_col": "foobar"
         },
         {
          "float_col": 8.5714285714,
          "index": 17,
          "int_col": 33,
          "str_col": "foobar"
         },
         {
          "float_col": 8.5714285714,
          "index": 18,
          "int_col": 15,
          "str_col": "foobar"
         },
         {
          "float_col": 21.4285714286,
          "index": 19,
          "int_col": 5,
          "str_col": "foobar"
         },
         {
          "float_col": 8.5714285714,
          "index": 20,
          "int_col": 31,
          "str_col": "foobar"
         },
         {
          "float_col": 7.1428571429,
          "index": 21,
          "int_col": 45,
          "str_col": "foobar"
         },
         {
          "float_col": 8.5714285714,
          "index": 22,
          "int_col": 2,
          "str_col": "foobar"
         },
         {
          "float_col": 41.4285714286,
          "index": 23,
          "int_col": 19,
          "str_col": "foobar"
         },
         {
          "float_col": 38.5714285714,
          "index": 24,
          "int_col": 23,
          "str_col": "foobar"
         },
         {
          "float_col": 34.2857142857,
          "index": 25,
          "int_col": 13,
          "str_col": "foobar"
         },
         {
          "float_col": 31.4285714286,
          "index": 26,
          "int_col": 46,
          "str_col": "foobar"
         },
         {
          "float_col": 1.4285714286,
          "index": 27,
          "int_col": 28,
          "str_col": "foobar"
         },
         {
          "float_col": 25.7142857143,
          "index": 28,
          "int_col": 15,
          "str_col": "foobar"
         },
         {
          "float_col": 7.1428571429,
          "index": 29,
          "int_col": 9,
          "str_col": "foobar"
         },
         {
          "float_col": 40,
          "index": 30,
          "int_col": 35,
          "str_col": "foobar"
         },
         {
          "float_col": 40,
          "index": 31,
          "int_col": 36,
          "str_col": "foobar"
         },
         {
          "float_col": 14.2857142857,
          "index": 32,
          "int_col": 25,
          "str_col": "foobar"
         },
         {
          "float_col": 10,
          "index": 33,
          "int_col": 6,
          "str_col": "foobar"
         },
         {
          "float_col": 28.5714285714,
          "index": 34,
          "int_col": 30,
          "str_col": "foobar"
         },
         {
          "float_col": 41.4285714286,
          "index": 35,
          "int_col": 35,
          "str_col": "foobar"
         },
         {
          "float_col": 30,
          "index": 36,
          "int_col": 49,
          "str_col": "foobar"
         },
         {
          "float_col": 30,
          "index": 37,
          "int_col": 9,
          "str_col": "foobar"
         },
         {
          "float_col": 20,
          "index": 38,
          "int_col": 39,
          "str_col": "foobar"
         },
         {
          "float_col": 37.1428571429,
          "index": 39,
          "int_col": 16,
          "str_col": "foobar"
         },
         {
          "float_col": 24.2857142857,
          "index": 40,
          "int_col": 11,
          "str_col": "foobar"
         },
         {
          "float_col": 8.5714285714,
          "index": 41,
          "int_col": 37,
          "str_col": "foobar"
         },
         {
          "float_col": 24.2857142857,
          "index": 42,
          "int_col": 19,
          "str_col": "foobar"
         },
         {
          "float_col": 40,
          "index": 43,
          "int_col": 2,
          "str_col": "foobar"
         },
         {
          "float_col": 4.2857142857,
          "index": 44,
          "int_col": 8,
          "str_col": "foobar"
         },
         {
          "float_col": 25.7142857143,
          "index": 45,
          "int_col": 6,
          "str_col": "foobar"
         },
         {
          "float_col": 18.5714285714,
          "index": 46,
          "int_col": 40,
          "str_col": "foobar"
         },
         {
          "float_col": 12.8571428571,
          "index": 47,
          "int_col": 12,
          "str_col": "foobar"
         },
         {
          "float_col": 31.4285714286,
          "index": 48,
          "int_col": 49,
          "str_col": "foobar"
         },
         {
          "float_col": 5.7142857143,
          "index": 49,
          "int_col": 25,
          "str_col": "foobar"
         },
         {
          "float_col": 35.7142857143,
          "index": 50,
          "int_col": 42,
          "str_col": "foobar"
         },
         {
          "float_col": 25.7142857143,
          "index": 51,
          "int_col": 39,
          "str_col": "foobar"
         },
         {
          "float_col": 11.4285714286,
          "index": 52,
          "int_col": 46,
          "str_col": "foobar"
         },
         {
          "float_col": 38.5714285714,
          "index": 53,
          "int_col": 6,
          "str_col": "foobar"
         },
         {
          "float_col": 14.2857142857,
          "index": 54,
          "int_col": 44,
          "str_col": "foobar"
         },
         {
          "float_col": 32.8571428571,
          "index": 55,
          "int_col": 25,
          "str_col": "foobar"
         },
         {
          "float_col": 37.1428571429,
          "index": 56,
          "int_col": 32,
          "str_col": "foobar"
         },
         {
          "float_col": 31.4285714286,
          "index": 57,
          "int_col": 40,
          "str_col": "foobar"
         },
         {
          "float_col": 5.7142857143,
          "index": 58,
          "int_col": 6,
          "str_col": "foobar"
         },
         {
          "float_col": 31.4285714286,
          "index": 59,
          "int_col": 30,
          "str_col": "foobar"
         },
         {
          "float_col": 30,
          "index": 60,
          "int_col": 24,
          "str_col": "foobar"
         },
         {
          "float_col": 17.1428571429,
          "index": 61,
          "int_col": 45,
          "str_col": "foobar"
         },
         {
          "float_col": 2.8571428571,
          "index": 62,
          "int_col": 47,
          "str_col": "foobar"
         },
         {
          "float_col": 32.8571428571,
          "index": 63,
          "int_col": 48,
          "str_col": "foobar"
         },
         {
          "float_col": 28.5714285714,
          "index": 64,
          "int_col": 20,
          "str_col": "foobar"
         },
         {
          "float_col": 12.8571428571,
          "index": 65,
          "int_col": 39,
          "str_col": "foobar"
         },
         {
          "float_col": 8.5714285714,
          "index": 66,
          "int_col": 10,
          "str_col": "foobar"
         },
         {
          "float_col": 25.7142857143,
          "index": 67,
          "int_col": 20,
          "str_col": "foobar"
         },
         {
          "float_col": 21.4285714286,
          "index": 68,
          "int_col": 49,
          "str_col": "foobar"
         },
         {
          "float_col": 31.4285714286,
          "index": 69,
          "int_col": 17,
          "str_col": "foobar"
         },
         {
          "float_col": 31.4285714286,
          "index": 70,
          "int_col": 17,
          "str_col": "foobar"
         },
         {
          "float_col": 37.1428571429,
          "index": 71,
          "int_col": 13,
          "str_col": "foobar"
         },
         {
          "float_col": 22.8571428571,
          "index": 72,
          "int_col": 14,
          "str_col": "foobar"
         },
         {
          "float_col": 20,
          "index": 73,
          "int_col": 15,
          "str_col": "foobar"
         },
         {
          "float_col": 28.5714285714,
          "index": 74,
          "int_col": 15,
          "str_col": "foobar"
         },
         {
          "float_col": 38.5714285714,
          "index": 75,
          "int_col": 13,
          "str_col": "foobar"
         },
         {
          "float_col": 31.4285714286,
          "index": 76,
          "int_col": 32,
          "str_col": "foobar"
         },
         {
          "float_col": 4.2857142857,
          "index": 77,
          "int_col": 25,
          "str_col": "foobar"
         },
         {
          "float_col": 10,
          "index": 78,
          "int_col": 44,
          "str_col": "foobar"
         },
         {
          "float_col": 18.5714285714,
          "index": 79,
          "int_col": 35,
          "str_col": "foobar"
         },
         {
          "float_col": 11.4285714286,
          "index": 80,
          "int_col": 49,
          "str_col": "foobar"
         },
         {
          "float_col": 7.1428571429,
          "index": 81,
          "int_col": 28,
          "str_col": "foobar"
         },
         {
          "float_col": 4.2857142857,
          "index": 82,
          "int_col": 48,
          "str_col": "foobar"
         },
         {
          "float_col": 41.4285714286,
          "index": 83,
          "int_col": 34,
          "str_col": "foobar"
         },
         {
          "float_col": 10,
          "index": 84,
          "int_col": 39,
          "str_col": "foobar"
         },
         {
          "float_col": 35.7142857143,
          "index": 85,
          "int_col": 28,
          "str_col": "foobar"
         },
         {
          "float_col": 27.1428571429,
          "index": 86,
          "int_col": 43,
          "str_col": "foobar"
         },
         {
          "float_col": 20,
          "index": 87,
          "int_col": 41,
          "str_col": "foobar"
         },
         {
          "float_col": 4.2857142857,
          "index": 88,
          "int_col": 6,
          "str_col": "foobar"
         },
         {
          "float_col": 2.8571428571,
          "index": 89,
          "int_col": 22,
          "str_col": "foobar"
         },
         {
          "float_col": 5.7142857143,
          "index": 90,
          "int_col": 30,
          "str_col": "foobar"
         },
         {
          "float_col": 35.7142857143,
          "index": 91,
          "int_col": 39,
          "str_col": "foobar"
         },
         {
          "float_col": 27.1428571429,
          "index": 92,
          "int_col": 37,
          "str_col": "foobar"
         },
         {
          "float_col": 10,
          "index": 93,
          "int_col": 3,
          "str_col": "foobar"
         },
         {
          "float_col": 37.1428571429,
          "index": 94,
          "int_col": 29,
          "str_col": "foobar"
         },
         {
          "float_col": 31.4285714286,
          "index": 95,
          "int_col": 6,
          "str_col": "foobar"
         },
         {
          "float_col": 21.4285714286,
          "index": 96,
          "int_col": 4,
          "str_col": "foobar"
         },
         {
          "float_col": 15.7142857143,
          "index": 97,
          "int_col": 28,
          "str_col": "foobar"
         },
         {
          "float_col": 7.1428571429,
          "index": 98,
          "int_col": 40,
          "str_col": "foobar"
         },
         {
          "float_col": 5.7142857143,
          "index": 99,
          "int_col": 23,
          "str_col": "foobar"
         },
         {
          "float_col": 18.5714285714,
          "index": 100,
          "int_col": 12,
          "str_col": "foobar"
         },
         {
          "float_col": 28.5714285714,
          "index": 101,
          "int_col": 45,
          "str_col": "foobar"
         },
         {
          "float_col": 7.1428571429,
          "index": 102,
          "int_col": 20,
          "str_col": "foobar"
         },
         {
          "float_col": 12.8571428571,
          "index": 103,
          "int_col": 47,
          "str_col": "foobar"
         },
         {
          "float_col": 18.5714285714,
          "index": 104,
          "int_col": 12,
          "str_col": "foobar"
         },
         {
          "float_col": 34.2857142857,
          "index": 105,
          "int_col": 31,
          "str_col": "foobar"
         },
         {
          "float_col": 11.4285714286,
          "index": 106,
          "int_col": 11,
          "str_col": "foobar"
         },
         {
          "float_col": 34.2857142857,
          "index": 107,
          "int_col": 49,
          "str_col": "foobar"
         },
         {
          "float_col": 8.5714285714,
          "index": 108,
          "int_col": 40,
          "str_col": "foobar"
         },
         {
          "float_col": 35.7142857143,
          "index": 109,
          "int_col": 40,
          "str_col": "foobar"
         },
         {
          "float_col": 22.8571428571,
          "index": 110,
          "int_col": 3,
          "str_col": "foobar"
         },
         {
          "float_col": 7.1428571429,
          "index": 111,
          "int_col": 7,
          "str_col": "foobar"
         },
         {
          "float_col": 37.1428571429,
          "index": 112,
          "int_col": 30,
          "str_col": "foobar"
         },
         {
          "float_col": 27.1428571429,
          "index": 113,
          "int_col": 14,
          "str_col": "foobar"
         },
         {
          "float_col": 1.4285714286,
          "index": 114,
          "int_col": 7,
          "str_col": "foobar"
         },
         {
          "float_col": 31.4285714286,
          "index": 115,
          "int_col": 15,
          "str_col": "foobar"
         },
         {
          "float_col": 2.8571428571,
          "index": 116,
          "int_col": 39,
          "str_col": "foobar"
         },
         {
          "float_col": 4.2857142857,
          "index": 117,
          "int_col": 14,
          "str_col": "foobar"
         },
         {
          "float_col": 27.1428571429,
          "index": 118,
          "int_col": 19,
          "str_col": "foobar"
         },
         {
          "float_col": 41.4285714286,
          "index": 119,
          "int_col": 9,
          "str_col": "foobar"
         },
         {
          "float_col": 10,
          "index": 120,
          "int_col": 44,
          "str_col": "foobar"
         },
         {
          "float_col": 31.4285714286,
          "index": 121,
          "int_col": 43,
          "str_col": "foobar"
         },
         {
          "float_col": 34.2857142857,
          "index": 122,
          "int_col": 23,
          "str_col": "foobar"
         },
         {
          "float_col": 17.1428571429,
          "index": 123,
          "int_col": 31,
          "str_col": "foobar"
         },
         {
          "float_col": 27.1428571429,
          "index": 124,
          "int_col": 33,
          "str_col": "foobar"
         },
         {
          "float_col": 10,
          "index": 125,
          "int_col": 46,
          "str_col": "foobar"
         },
         {
          "float_col": 10,
          "index": 126,
          "int_col": 45,
          "str_col": "foobar"
         },
         {
          "float_col": 10,
          "index": 127,
          "int_col": 5,
          "str_col": "foobar"
         },
         {
          "float_col": 18.5714285714,
          "index": 128,
          "int_col": 5,
          "str_col": "foobar"
         },
         {
          "float_col": 7.1428571429,
          "index": 129,
          "int_col": 34,
          "str_col": "foobar"
         },
         {
          "float_col": 21.4285714286,
          "index": 130,
          "int_col": 3,
          "str_col": "foobar"
         },
         {
          "float_col": 14.2857142857,
          "index": 131,
          "int_col": 14,
          "str_col": "foobar"
         },
         {
          "float_col": 32.8571428571,
          "index": 132,
          "int_col": 24,
          "str_col": "foobar"
         },
         {
          "float_col": 22.8571428571,
          "index": 133,
          "int_col": 26,
          "str_col": "foobar"
         },
         {
          "float_col": 8.5714285714,
          "index": 134,
          "int_col": 47,
          "str_col": "foobar"
         },
         {
          "float_col": 2.8571428571,
          "index": 135,
          "int_col": 32,
          "str_col": "foobar"
         },
         {
          "float_col": 5.7142857143,
          "index": 136,
          "int_col": 36,
          "str_col": "foobar"
         },
         {
          "float_col": 41.4285714286,
          "index": 137,
          "int_col": 37,
          "str_col": "foobar"
         },
         {
          "float_col": 20,
          "index": 138,
          "int_col": 36,
          "str_col": "foobar"
         },
         {
          "float_col": 17.1428571429,
          "index": 139,
          "int_col": 2,
          "str_col": "foobar"
         },
         {
          "float_col": 17.1428571429,
          "index": 140,
          "int_col": 37,
          "str_col": "foobar"
         },
         {
          "float_col": 35.7142857143,
          "index": 141,
          "int_col": 22,
          "str_col": "foobar"
         },
         {
          "float_col": 8.5714285714,
          "index": 142,
          "int_col": 15,
          "str_col": "foobar"
         },
         {
          "float_col": 38.5714285714,
          "index": 143,
          "int_col": 30,
          "str_col": "foobar"
         },
         {
          "float_col": 11.4285714286,
          "index": 144,
          "int_col": 4,
          "str_col": "foobar"
         },
         {
          "float_col": 1.4285714286,
          "index": 145,
          "int_col": 45,
          "str_col": "foobar"
         },
         {
          "float_col": 4.2857142857,
          "index": 146,
          "int_col": 24,
          "str_col": "foobar"
         },
         {
          "float_col": 15.7142857143,
          "index": 147,
          "int_col": 13,
          "str_col": "foobar"
         },
         {
          "float_col": 40,
          "index": 148,
          "int_col": 7,
          "str_col": "foobar"
         },
         {
          "float_col": 32.8571428571,
          "index": 149,
          "int_col": 4,
          "str_col": "foobar"
         },
         {
          "float_col": 30,
          "index": 150,
          "int_col": 17,
          "str_col": "foobar"
         },
         {
          "float_col": 1.4285714286,
          "index": 151,
          "int_col": 22,
          "str_col": "foobar"
         },
         {
          "float_col": 7.1428571429,
          "index": 152,
          "int_col": 15,
          "str_col": "foobar"
         },
         {
          "float_col": 40,
          "index": 153,
          "int_col": 48,
          "str_col": "foobar"
         },
         {
          "float_col": 14.2857142857,
          "index": 154,
          "int_col": 24,
          "str_col": "foobar"
         },
         {
          "float_col": 11.4285714286,
          "index": 155,
          "int_col": 46,
          "str_col": "foobar"
         },
         {
          "float_col": 31.4285714286,
          "index": 156,
          "int_col": 39,
          "str_col": "foobar"
         },
         {
          "float_col": 14.2857142857,
          "index": 157,
          "int_col": 40,
          "str_col": "foobar"
         },
         {
          "float_col": 31.4285714286,
          "index": 158,
          "int_col": 49,
          "str_col": "foobar"
         },
         {
          "float_col": 28.5714285714,
          "index": 159,
          "int_col": 39,
          "str_col": "foobar"
         },
         {
          "float_col": 24.2857142857,
          "index": 160,
          "int_col": 12,
          "str_col": "foobar"
         },
         {
          "float_col": 10,
          "index": 161,
          "int_col": 29,
          "str_col": "foobar"
         },
         {
          "float_col": 12.8571428571,
          "index": 162,
          "int_col": 23,
          "str_col": "foobar"
         },
         {
          "float_col": 31.4285714286,
          "index": 163,
          "int_col": 12,
          "str_col": "foobar"
         },
         {
          "float_col": 28.5714285714,
          "index": 164,
          "int_col": 18,
          "str_col": "foobar"
         },
         {
          "float_col": 14.2857142857,
          "index": 165,
          "int_col": 5,
          "str_col": "foobar"
         },
         {
          "float_col": 11.4285714286,
          "index": 166,
          "int_col": 28,
          "str_col": "foobar"
         },
         {
          "float_col": 17.1428571429,
          "index": 167,
          "int_col": 40,
          "str_col": "foobar"
         },
         {
          "float_col": 38.5714285714,
          "index": 168,
          "int_col": 6,
          "str_col": "foobar"
         },
         {
          "float_col": 21.4285714286,
          "index": 169,
          "int_col": 30,
          "str_col": "foobar"
         },
         {
          "float_col": 7.1428571429,
          "index": 170,
          "int_col": 39,
          "str_col": "foobar"
         },
         {
          "float_col": 8.5714285714,
          "index": 171,
          "int_col": 36,
          "str_col": "foobar"
         },
         {
          "float_col": 2.8571428571,
          "index": 172,
          "int_col": 6,
          "str_col": "foobar"
         },
         {
          "float_col": 27.1428571429,
          "index": 173,
          "int_col": 26,
          "str_col": "foobar"
         },
         {
          "float_col": 11.4285714286,
          "index": 174,
          "int_col": 20,
          "str_col": "foobar"
         },
         {
          "float_col": 12.8571428571,
          "index": 175,
          "int_col": 12,
          "str_col": "foobar"
         },
         {
          "float_col": 24.2857142857,
          "index": 176,
          "int_col": 1,
          "str_col": "foobar"
         },
         {
          "float_col": 38.5714285714,
          "index": 177,
          "int_col": 37,
          "str_col": "foobar"
         },
         {
          "float_col": 7.1428571429,
          "index": 178,
          "int_col": 31,
          "str_col": "foobar"
         },
         {
          "float_col": 25.7142857143,
          "index": 179,
          "int_col": 22,
          "str_col": "foobar"
         },
         {
          "float_col": 24.2857142857,
          "index": 180,
          "int_col": 3,
          "str_col": "foobar"
         },
         {
          "float_col": 34.2857142857,
          "index": 181,
          "int_col": 38,
          "str_col": "foobar"
         },
         {
          "float_col": 8.5714285714,
          "index": 182,
          "int_col": 49,
          "str_col": "foobar"
         },
         {
          "float_col": 35.7142857143,
          "index": 183,
          "int_col": 25,
          "str_col": "foobar"
         },
         {
          "float_col": 14.2857142857,
          "index": 184,
          "int_col": 47,
          "str_col": "foobar"
         },
         {
          "float_col": 15.7142857143,
          "index": 185,
          "int_col": 25,
          "str_col": "foobar"
         },
         {
          "float_col": 30,
          "index": 186,
          "int_col": 18,
          "str_col": "foobar"
         },
         {
          "float_col": 15.7142857143,
          "index": 187,
          "int_col": 36,
          "str_col": "foobar"
         },
         {
          "float_col": 5.7142857143,
          "index": 188,
          "int_col": 11,
          "str_col": "foobar"
         },
         {
          "float_col": 28.5714285714,
          "index": 189,
          "int_col": 34,
          "str_col": "foobar"
         },
         {
          "float_col": 34.2857142857,
          "index": 190,
          "int_col": 24,
          "str_col": "foobar"
         },
         {
          "float_col": 12.8571428571,
          "index": 191,
          "int_col": 6,
          "str_col": "foobar"
         },
         {
          "float_col": 30,
          "index": 192,
          "int_col": 37,
          "str_col": "foobar"
         },
         {
          "float_col": 7.1428571429,
          "index": 193,
          "int_col": 27,
          "str_col": "foobar"
         },
         {
          "float_col": 41.4285714286,
          "index": 194,
          "int_col": 40,
          "str_col": "foobar"
         },
         {
          "float_col": 11.4285714286,
          "index": 195,
          "int_col": 36,
          "str_col": "foobar"
         },
         {
          "float_col": 31.4285714286,
          "index": 196,
          "int_col": 35,
          "str_col": "foobar"
         },
         {
          "float_col": 40,
          "index": 197,
          "int_col": 46,
          "str_col": "foobar"
         },
         {
          "float_col": 30,
          "index": 198,
          "int_col": 41,
          "str_col": "foobar"
         },
         {
          "float_col": 41.4285714286,
          "index": 199,
          "int_col": 16,
          "str_col": "foobar"
         }
        ]
       },
       "df_display_args": {
        "main": {
         "data_key": "main",
         "df_viewer_config": {
          "column_config": [
           {
            "col_name": "index",
            "displayer_args": {
             "displayer": "float",
             "max_fraction_digits": 0,
             "min_fraction_digits": 0
            }
           },
           {
            "col_name": "int_col",
            "displayer_args": {
             "displayer": "float",
             "max_fraction_digits": 0,
             "min_fraction_digits": 0
            }
           },
           {
            "col_name": "float_col",
            "displayer_args": {
             "displayer": "float",
             "max_fraction_digits": 3,
             "min_fraction_digits": 3
            }
           },
           {
            "col_name": "str_col",
            "displayer_args": {
             "displayer": "string",
             "max_length": 35,
             "tooltip_config": {
              "tooltip_type": "simple",
              "val_column": "str_col"
             }
            },
            "tooltip_config": {
             "tooltip_type": "simple",
             "val_column": "int_col"
            }
           }
          ],
          "component_config": {},
          "extra_grid_config": {},
          "pinned_rows": [
           {
            "displayer_args": {
             "displayer": "obj"
            },
            "primary_key_val": "dtype"
           },
           {
            "displayer_args": {
             "displayer": "histogram"
            },
            "primary_key_val": "histogram"
           }
          ]
         },
         "summary_stats_key": "all_stats"
        },
        "summary": {
         "data_key": "empty",
         "df_viewer_config": {
          "column_config": [
           {
            "col_name": "index",
            "displayer_args": {
             "displayer": "obj"
            }
           },
           {
            "col_name": "int_col",
            "displayer_args": {
             "displayer": "obj"
            }
           },
           {
            "col_name": "float_col",
            "displayer_args": {
             "displayer": "obj"
            }
           },
           {
            "col_name": "str_col",
            "displayer_args": {
             "displayer": "obj"
            },
            "tooltip_config": {
             "tooltip_type": "simple",
             "val_column": "int_col"
            }
           }
          ],
          "component_config": {},
          "extra_grid_config": {},
          "pinned_rows": [
           {
            "displayer_args": {
             "displayer": "obj"
            },
            "primary_key_val": "dtype"
           },
           {
            "displayer_args": {
             "displayer": "float",
             "max_fraction_digits": 0,
             "min_fraction_digits": 0
            },
            "primary_key_val": "non_null_count"
           },
           {
            "displayer_args": {
             "displayer": "float",
             "max_fraction_digits": 0,
             "min_fraction_digits": 0
            },
            "primary_key_val": "null_count"
           },
           {
            "displayer_args": {
             "displayer": "float",
             "max_fraction_digits": 3,
             "min_fraction_digits": 3
            },
            "primary_key_val": "mean"
           },
           {
            "displayer_args": {
             "displayer": "float",
             "max_fraction_digits": 3,
             "min_fraction_digits": 3
            },
            "primary_key_val": "std"
           },
           {
            "displayer_args": {
             "displayer": "float",
             "max_fraction_digits": 3,
             "min_fraction_digits": 3
            },
            "primary_key_val": "min"
           },
           {
            "displayer_args": {
             "displayer": "float",
             "max_fraction_digits": 3,
             "min_fraction_digits": 3
            },
            "primary_key_val": "25th"
           },
           {
            "displayer_args": {
             "displayer": "float",
             "max_fraction_digits": 3,
             "min_fraction_digits": 3
            },
            "primary_key_val": "median"
           },
           {
            "displayer_args": {
             "displayer": "float",
             "max_fraction_digits": 3,
             "min_fraction_digits": 3
            },
            "primary_key_val": "75th"
           },
           {
            "displayer_args": {
             "displayer": "float",
             "max_fraction_digits": 3,
             "min_fraction_digits": 3
            },
            "primary_key_val": "max"
           },
           {
            "displayer_args": {
             "displayer": "float",
             "max_fraction_digits": 0,
             "min_fraction_digits": 0
            },
            "primary_key_val": "unique_count"
           },
           {
            "displayer_args": {
             "displayer": "float",
             "max_fraction_digits": 0,
             "min_fraction_digits": 0
            },
            "primary_key_val": "distinct_count"
           },
           {
            "displayer_args": {
             "displayer": "obj"
            },
            "primary_key_val": "most_freq"
           },
           {
            "displayer_args": {
             "displayer": "obj"
            },
            "primary_key_val": "2nd_freq"
           },
           {
            "displayer_args": {
             "displayer": "obj"
            },
            "primary_key_val": "3rd_freq"
           },
           {
            "displayer_args": {
             "displayer": "obj"
            },
            "primary_key_val": "4th_freq"
           },
           {
            "displayer_args": {
             "displayer": "obj"
            },
            "primary_key_val": "5th_freq"
           }
          ]
         },
         "summary_stats_key": "all_stats"
        }
       },
       "df_meta": {
        "columns": 3,
        "filtered_rows": 200,
        "rows_shown": 200,
        "total_rows": 200
       },
       "layout": "IPY_MODEL_76507679c20744ec8eb8611e60148128",
       "operation_results": {
        "generated_py_code": "no operations",
        "transformed_df": null
       },
       "operations": []
      }
     },
     "f4051cc891454fcb93bf33cb89b703d1": {
      "model_module": "buckaroo",
      "model_module_version": "^0.7.8",
      "model_name": "DCEFWidgetModel",
      "state": {
       "_model_module_version": "^0.7.8",
       "_view_module_version": "^0.7.8",
       "_view_name": "DCEFWidgetView",
       "buckaroo_options": {
        "auto_clean": [
         "aggressive",
         "conservative"
        ],
        "df_display": [
         "main",
         "summary"
        ],
        "post_processing": [
         ""
        ],
        "sampled": [
         "random"
        ],
        "show_commands": [
         "on"
        ],
        "summary_stats": [
         "all"
        ]
       },
       "buckaroo_state": {
        "cleaning_method": "NoCleaning",
        "df_display": "main",
        "post_processing": "",
        "quick_command_args": {},
        "sampled": false,
        "search_string": "",
        "show_commands": false
       },
       "commandConfig": {
        "argspecs": {
         "drop_duplicates": [
          [
           3,
           "keep",
           "enum",
           [
            "first",
            "last",
            "False"
           ]
          ]
         ],
         "dropcol": [
          null
         ],
         "fillna": [
          [
           3,
           "fillVal",
           "type",
           "integer"
          ]
         ],
         "groupby": [
          [
           3,
           "colMap",
           "colEnum",
           [
            "null",
            "mean",
            "median",
            "min",
            "max",
            "sum",
            "count",
            "count_null",
            "std",
            "empty",
            "h",
            "nunique",
            "is_monotonic",
            "is_monotonic_decreasing",
            "is_monotonic_increasing",
            "all",
            "any",
            "autocorr",
            "kurt",
            "mad",
            "sem",
            "skew",
            "i",
            "idxmin",
            "dtype",
            "dtypes",
            "nbytes",
            "ndim",
            "size"
           ]
          ]
         ],
         "groupby_transform": [
          [
           3,
           "colMap",
           "colEnum",
           [
            "null",
            "mean",
            "median",
            "min",
            "max",
            "sum",
            "count",
            "count_null",
            "std",
            "empty",
            "h",
            "nunique",
            "is_monotonic",
            "is_monotonic_decreasing",
            "is_monotonic_increasing",
            "all",
            "any",
            "autocorr",
            "kurt",
            "mad",
            "sem",
            "skew",
            "i",
            "idxmin",
            "dtype",
            "dtypes",
            "nbytes",
            "ndim",
            "size"
           ]
          ]
         ],
         "linear_regression": [
          [
           3,
           "x_cols",
           "colEnum",
           [
            "null",
            "basic",
            "one_hot"
           ]
          ]
         ],
         "make_category": [
          null
         ],
         "only_outliers": [
          [
           3,
           "only_outliers",
           "type",
           "float"
          ]
         ],
         "rank": [
          [
           3,
           "method",
           "enum",
           [
            "None",
            "min",
            "dense"
           ]
          ],
          [
           4,
           "new_col",
           "bool"
          ]
         ],
         "remove_outliers": [
          [
           3,
           "remove_outliers",
           "type",
           "float"
          ]
         ],
         "safe_int": [
          null
         ],
         "search": [
          [
           3,
           "term",
           "type",
           "string"
          ]
         ],
         "search_col": [
          [
           3,
           "term",
           "type",
           "string"
          ]
         ]
        },
        "defaultArgs": {
         "drop_duplicates": [
          {
           "symbol": "drop_duplicates"
          },
          {
           "symbol": "df"
          },
          "col",
          "first"
         ],
         "dropcol": [
          {
           "symbol": "dropcol"
          },
          {
           "symbol": "df"
          },
          "col"
         ],
         "fillna": [
          {
           "symbol": "fillna"
          },
          {
           "symbol": "df"
          },
          "col",
          8
         ],
         "groupby": [
          {
           "symbol": "groupby"
          },
          {
           "symbol": "df"
          },
          "col",
          {}
         ],
         "groupby_transform": [
          {
           "symbol": "groupby_transform"
          },
          {
           "symbol": "df"
          },
          "col",
          {}
         ],
         "linear_regression": [
          {
           "symbol": "linear_regression"
          },
          {
           "symbol": "df"
          },
          "col",
          {}
         ],
         "make_category": [
          {
           "symbol": "make_category"
          },
          {
           "symbol": "df"
          },
          "col"
         ],
         "only_outliers": [
          {
           "symbol": "only_outliers"
          },
          {
           "symbol": "df"
          },
          "col",
          0.01
         ],
         "rank": [
          {
           "symbol": "rank"
          },
          {
           "symbol": "df"
          },
          "col",
          "None",
          false
         ],
         "remove_outliers": [
          {
           "symbol": "remove_outliers"
          },
          {
           "symbol": "df"
          },
          "col",
          0.01
         ],
         "safe_int": [
          {
           "symbol": "safe_int"
          },
          {
           "symbol": "df"
          },
          "col"
         ],
         "search": [
          {
           "symbol": "search"
          },
          {
           "symbol": "df"
          },
          "col",
          ""
         ],
         "search_col": [
          {
           "symbol": "search_col"
          },
          {
           "symbol": "df"
          },
          "col",
          ""
         ]
        }
       },
       "df_data_dict": {
        "all_stats": [
         {
          "float_col": "float64",
          "index": "dtype",
          "int_col": "int64",
          "str_col": "object"
         },
         {
          "float_col": true,
          "index": "is_numeric",
          "int_col": true,
          "str_col": false
         },
         {
          "float_col": false,
          "index": "is_integer",
          "int_col": true,
          "str_col": false
         },
         {
          "float_col": false,
          "index": "is_datetime",
          "int_col": false,
          "str_col": false
         },
         {
          "float_col": false,
          "index": "is_bool",
          "int_col": false,
          "str_col": false
         },
         {
          "float_col": true,
          "index": "is_float",
          "int_col": false,
          "str_col": false
         },
         {
          "float_col": "float",
          "index": "_type",
          "int_col": "integer",
          "str_col": "string"
         },
         {
          "float_col": false,
          "index": "is_string",
          "int_col": false,
          "str_col": true
         },
         {
          "float_col": 1728,
          "index": "memory_usage",
          "int_col": 1728,
          "str_col": 1728
         },
         {
          "float_col": 200,
          "index": "length",
          "int_col": 200,
          "str_col": 200
         },
         {
          "float_col": 1.4285714286,
          "index": "min",
          "int_col": 1,
          "str_col": null
         },
         {
          "float_col": 41.4285714286,
          "index": "max",
          "int_col": 49,
          "str_col": null
         },
         {
          "float_col": 20.8928571429,
          "index": "mean",
          "int_col": 25.47,
          "str_col": 0
         },
         {
          "float_col": 0,
          "index": "nan_count",
          "int_col": 0,
          "str_col": 0
         },
         {
          "float_col": [
           12,
           11,
           10,
           10,
           10,
           9,
           9,
           9,
           9,
           8,
           8,
           8,
           7,
           7,
           7,
           6,
           6,
           6,
           6,
           5,
           5,
           5,
           5,
           5,
           5,
           4,
           4,
           3,
           1
          ],
          "index": "value_counts",
          "int_col": [
           9,
           8,
           7,
           7,
           6,
           6,
           6,
           6,
           6,
           6,
           5,
           5,
           5,
           5,
           5,
           5,
           5,
           5,
           4,
           4,
           4,
           4,
           4,
           4,
           4,
           4,
           4,
           4,
           4,
           4,
           4,
           3,
           3,
           3,
           3,
           3,
           3,
           3,
           3,
           3,
           2,
           2,
           2,
           2,
           2,
           2,
           1,
           1
          ],
          "str_col": [
           200
          ]
         },
         {
          "float_col": 15.7142857143,
          "index": "mode",
          "int_col": 22,
          "str_col": "foobar"
         },
         {
          "float_col": 0.145,
          "index": "distinct_per",
          "int_col": 0.24,
          "str_col": 0.005
         },
         {
          "float_col": 0,
          "index": "empty_per",
          "int_col": 0,
          "str_col": 0
         },
         {
          "float_col": 0.005,
          "index": "unique_per",
          "int_col": 0.01,
          "str_col": 0
         },
         {
          "float_col": 0,
          "index": "nan_per",
          "int_col": 0,
          "str_col": 0
         },
         {
          "float_col": 1,
          "index": "unique_count",
          "int_col": 2,
          "str_col": 0
         },
         {
          "float_col": 0,
          "index": "empty_count",
          "int_col": 0,
          "str_col": 0
         },
         {
          "float_col": 29,
          "index": "distinct_count",
          "int_col": 48,
          "str_col": 1
         },
         {
          "float_col": [
           {
            "name": "1.4285714285714286 - 1.4285714285714286",
            "tail": 1
           },
           {
            "name": "3-7",
            "population": 14
           },
           {
            "name": "7-10",
            "population": 11
           },
           {
            "name": "10-14",
            "population": 5
           },
           {
            "name": "14-18",
            "population": 11
           },
           {
            "name": "18-21",
            "population": 5
           },
           {
            "name": "21-25",
            "population": 14
           },
           {
            "name": "25-29",
            "population": 11
           },
           {
            "name": "29-33",
            "population": 6
           },
           {
            "name": "33-36",
            "population": 13
           },
           {
            "name": "36-40",
            "population": 11
           },
           {
            "name": "41.42857142857143 - 41.42857142857143",
            "tail": 1
           }
          ],
          "index": "histogram",
          "int_col": [
           {
            "name": "1 - 1.99",
            "tail": 1
           },
           {
            "name": "2-7",
            "population": 11
           },
           {
            "name": "7-11",
            "population": 9
           },
           {
            "name": "11-16",
            "population": 10
           },
           {
            "name": "16-20",
            "population": 11
           },
           {
            "name": "20-25",
            "population": 11
           },
           {
            "name": "25-30",
            "population": 8
           },
           {
            "name": "30-34",
            "population": 6
           },
           {
            "name": "34-39",
            "population": 8
           },
           {
            "name": "39-43",
            "population": 12
           },
           {
            "name": "43-48",
            "population": 14
           },
           {
            "name": "48.00999999999999 - 49",
            "tail": 1
           }
          ],
          "str_col": [
           {
            "cat_pop": 100,
            "name": "foobar"
           }
          ]
         },
         {
          "float_col": {
           "high_tail": 41.4285714286,
           "low_tail": 1.4285714286,
           "meat_histogram": [
            [
             26,
             21,
             10,
             21,
             9,
             26,
             21,
             11,
             24,
             21
            ],
            [
             2.8571428571,
             6.5714285714,
             10.2857142857,
             14,
             17.7142857143,
             21.4285714286,
             25.1428571429,
             28.8571428571,
             32.5714285714,
             36.2857142857,
             40
            ]
           ],
           "normalized_populations": [
            0.1368421053,
            0.1105263158,
            0.0526315789,
            0.1105263158,
            0.0473684211,
            0.1368421053,
            0.1105263158,
            0.0578947368,
            0.1263157895,
            0.1105263158
           ]
          },
          "index": "histogram_args",
          "int_col": {
           "high_tail": 48.01,
           "low_tail": 1.99,
           "meat_histogram": [
            [
             22,
             18,
             19,
             21,
             22,
             16,
             11,
             16,
             24,
             27
            ],
            [
             2,
             6.6,
             11.2,
             15.8,
             20.4,
             25,
             29.6,
             34.2,
             38.8,
             43.4,
             48
            ]
           ],
           "normalized_populations": [
            0.112244898,
            0.0918367347,
            0.0969387755,
            0.1071428571,
            0.112244898,
            0.0816326531,
            0.056122449,
            0.0816326531,
            0.1224489796,
            0.137755102
           ]
          },
          "str_col": {}
         },
         {
          "float_col": [
           2.8571428571,
           6.5714285714,
           10.2857142857,
           14,
           17.7142857143,
           21.4285714286,
           25.1428571429,
           28.8571428571,
           32.5714285714,
           36.2857142857,
           40
          ],
          "index": "histogram_bins",
          "int_col": [
           2,
           6.6,
           11.2,
           15.8,
           20.4,
           25,
           29.6,
           34.2,
           38.8,
           43.4,
           48
          ],
          "str_col": []
         },
         {
          "float_col": 200,
          "index": "non_null_count",
          "int_col": 200,
          "str_col": 200
         },
         {
          "float_col": 0,
          "index": "null_count",
          "int_col": 0,
          "str_col": 0
         },
         {
          "float_col": 15.7142857143,
          "index": "most_freq",
          "int_col": 22,
          "str_col": "foobar"
         },
         {
          "float_col": 7.1428571429,
          "index": "2nd_freq",
          "int_col": 47,
          "str_col": null
         },
         {
          "float_col": 35.7142857143,
          "index": "3rd_freq",
          "int_col": 46,
          "str_col": null
         },
         {
          "float_col": 27.1428571429,
          "index": "4th_freq",
          "int_col": 18,
          "str_col": null
         },
         {
          "float_col": 24.2857142857,
          "index": "5th_freq",
          "int_col": 29,
          "str_col": null
         }
        ],
        "empty": [],
        "main": [
         {
          "float_col": 5.7142857143,
          "index": 0,
          "int_col": 46,
          "str_col": "foobar"
         },
         {
          "float_col": 24.2857142857,
          "index": 1,
          "int_col": 48,
          "str_col": "foobar"
         },
         {
          "float_col": 7.1428571429,
          "index": 2,
          "int_col": 39,
          "str_col": "foobar"
         },
         {
          "float_col": 35.7142857143,
          "index": 3,
          "int_col": 4,
          "str_col": "foobar"
         },
         {
          "float_col": 40,
          "index": 4,
          "int_col": 35,
          "str_col": "foobar"
         },
         {
          "float_col": 21.4285714286,
          "index": 5,
          "int_col": 10,
          "str_col": "foobar"
         },
         {
          "float_col": 1.4285714286,
          "index": 6,
          "int_col": 23,
          "str_col": "foobar"
         },
         {
          "float_col": 32.8571428571,
          "index": 7,
          "int_col": 22,
          "str_col": "foobar"
         },
         {
          "float_col": 28.5714285714,
          "index": 8,
          "int_col": 35,
          "str_col": "foobar"
         },
         {
          "float_col": 31.4285714286,
          "index": 9,
          "int_col": 11,
          "str_col": "foobar"
         },
         {
          "float_col": 24.2857142857,
          "index": 10,
          "int_col": 45,
          "str_col": "foobar"
         },
         {
          "float_col": 7.1428571429,
          "index": 11,
          "int_col": 11,
          "str_col": "foobar"
         },
         {
          "float_col": 35.7142857143,
          "index": 12,
          "int_col": 22,
          "str_col": "foobar"
         },
         {
          "float_col": 14.2857142857,
          "index": 13,
          "int_col": 47,
          "str_col": "foobar"
         },
         {
          "float_col": 35.7142857143,
          "index": 14,
          "int_col": 7,
          "str_col": "foobar"
         },
         {
          "float_col": 4.2857142857,
          "index": 15,
          "int_col": 6,
          "str_col": "foobar"
         },
         {
          "float_col": 15.7142857143,
          "index": 16,
          "int_col": 3,
          "str_col": "foobar"
         },
         {
          "float_col": 14.2857142857,
          "index": 17,
          "int_col": 3,
          "str_col": "foobar"
         },
         {
          "float_col": 41.4285714286,
          "index": 18,
          "int_col": 18,
          "str_col": "foobar"
         },
         {
          "float_col": 5.7142857143,
          "index": 19,
          "int_col": 34,
          "str_col": "foobar"
         },
         {
          "float_col": 5.7142857143,
          "index": 20,
          "int_col": 16,
          "str_col": "foobar"
         },
         {
          "float_col": 37.1428571429,
          "index": 21,
          "int_col": 21,
          "str_col": "foobar"
         },
         {
          "float_col": 14.2857142857,
          "index": 22,
          "int_col": 11,
          "str_col": "foobar"
         },
         {
          "float_col": 7.1428571429,
          "index": 23,
          "int_col": 21,
          "str_col": "foobar"
         },
         {
          "float_col": 25.7142857143,
          "index": 24,
          "int_col": 46,
          "str_col": "foobar"
         },
         {
          "float_col": 22.8571428571,
          "index": 25,
          "int_col": 47,
          "str_col": "foobar"
         },
         {
          "float_col": 21.4285714286,
          "index": 26,
          "int_col": 39,
          "str_col": "foobar"
         },
         {
          "float_col": 1.4285714286,
          "index": 27,
          "int_col": 47,
          "str_col": "foobar"
         },
         {
          "float_col": 17.1428571429,
          "index": 28,
          "int_col": 25,
          "str_col": "foobar"
         },
         {
          "float_col": 35.7142857143,
          "index": 29,
          "int_col": 12,
          "str_col": "foobar"
         },
         {
          "float_col": 35.7142857143,
          "index": 30,
          "int_col": 25,
          "str_col": "foobar"
         },
         {
          "float_col": 34.2857142857,
          "index": 31,
          "int_col": 18,
          "str_col": "foobar"
         },
         {
          "float_col": 15.7142857143,
          "index": 32,
          "int_col": 29,
          "str_col": "foobar"
         },
         {
          "float_col": 41.4285714286,
          "index": 33,
          "int_col": 16,
          "str_col": "foobar"
         },
         {
          "float_col": 4.2857142857,
          "index": 34,
          "int_col": 22,
          "str_col": "foobar"
         },
         {
          "float_col": 31.4285714286,
          "index": 35,
          "int_col": 6,
          "str_col": "foobar"
         },
         {
          "float_col": 27.1428571429,
          "index": 36,
          "int_col": 3,
          "str_col": "foobar"
         },
         {
          "float_col": 1.4285714286,
          "index": 37,
          "int_col": 6,
          "str_col": "foobar"
         },
         {
          "float_col": 11.4285714286,
          "index": 38,
          "int_col": 24,
          "str_col": "foobar"
         },
         {
          "float_col": 4.2857142857,
          "index": 39,
          "int_col": 41,
          "str_col": "foobar"
         },
         {
          "float_col": 15.7142857143,
          "index": 40,
          "int_col": 9,
          "str_col": "foobar"
         },
         {
          "float_col": 34.2857142857,
          "index": 41,
          "int_col": 23,
          "str_col": "foobar"
         },
         {
          "float_col": 18.5714285714,
          "index": 42,
          "int_col": 34,
          "str_col": "foobar"
         },
         {
          "float_col": 22.8571428571,
          "index": 43,
          "int_col": 9,
          "str_col": "foobar"
         },
         {
          "float_col": 34.2857142857,
          "index": 44,
          "int_col": 43,
          "str_col": "foobar"
         },
         {
          "float_col": 27.1428571429,
          "index": 45,
          "int_col": 9,
          "str_col": "foobar"
         },
         {
          "float_col": 22.8571428571,
          "index": 46,
          "int_col": 47,
          "str_col": "foobar"
         },
         {
          "float_col": 5.7142857143,
          "index": 47,
          "int_col": 23,
          "str_col": "foobar"
         },
         {
          "float_col": 24.2857142857,
          "index": 48,
          "int_col": 36,
          "str_col": "foobar"
         },
         {
          "float_col": 31.4285714286,
          "index": 49,
          "int_col": 21,
          "str_col": "foobar"
         },
         {
          "float_col": 2.8571428571,
          "index": 50,
          "int_col": 27,
          "str_col": "foobar"
         },
         {
          "float_col": 2.8571428571,
          "index": 51,
          "int_col": 20,
          "str_col": "foobar"
         },
         {
          "float_col": 30,
          "index": 52,
          "int_col": 4,
          "str_col": "foobar"
         },
         {
          "float_col": 5.7142857143,
          "index": 53,
          "int_col": 20,
          "str_col": "foobar"
         },
         {
          "float_col": 2.8571428571,
          "index": 54,
          "int_col": 1,
          "str_col": "foobar"
         },
         {
          "float_col": 4.2857142857,
          "index": 55,
          "int_col": 19,
          "str_col": "foobar"
         },
         {
          "float_col": 24.2857142857,
          "index": 56,
          "int_col": 7,
          "str_col": "foobar"
         },
         {
          "float_col": 15.7142857143,
          "index": 57,
          "int_col": 38,
          "str_col": "foobar"
         },
         {
          "float_col": 8.5714285714,
          "index": 58,
          "int_col": 48,
          "str_col": "foobar"
         },
         {
          "float_col": 2.8571428571,
          "index": 59,
          "int_col": 47,
          "str_col": "foobar"
         },
         {
          "float_col": 4.2857142857,
          "index": 60,
          "int_col": 5,
          "str_col": "foobar"
         },
         {
          "float_col": 34.2857142857,
          "index": 61,
          "int_col": 22,
          "str_col": "foobar"
         },
         {
          "float_col": 17.1428571429,
          "index": 62,
          "int_col": 10,
          "str_col": "foobar"
         },
         {
          "float_col": 22.8571428571,
          "index": 63,
          "int_col": 6,
          "str_col": "foobar"
         },
         {
          "float_col": 34.2857142857,
          "index": 64,
          "int_col": 23,
          "str_col": "foobar"
         },
         {
          "float_col": 21.4285714286,
          "index": 65,
          "int_col": 26,
          "str_col": "foobar"
         },
         {
          "float_col": 27.1428571429,
          "index": 66,
          "int_col": 34,
          "str_col": "foobar"
         },
         {
          "float_col": 11.4285714286,
          "index": 67,
          "int_col": 38,
          "str_col": "foobar"
         },
         {
          "float_col": 11.4285714286,
          "index": 68,
          "int_col": 20,
          "str_col": "foobar"
         },
         {
          "float_col": 24.2857142857,
          "index": 69,
          "int_col": 22,
          "str_col": "foobar"
         },
         {
          "float_col": 25.7142857143,
          "index": 70,
          "int_col": 26,
          "str_col": "foobar"
         },
         {
          "float_col": 24.2857142857,
          "index": 71,
          "int_col": 17,
          "str_col": "foobar"
         },
         {
          "float_col": 35.7142857143,
          "index": 72,
          "int_col": 41,
          "str_col": "foobar"
         },
         {
          "float_col": 2.8571428571,
          "index": 73,
          "int_col": 42,
          "str_col": "foobar"
         },
         {
          "float_col": 27.1428571429,
          "index": 74,
          "int_col": 26,
          "str_col": "foobar"
         },
         {
          "float_col": 2.8571428571,
          "index": 75,
          "int_col": 32,
          "str_col": "foobar"
         },
         {
          "float_col": 15.7142857143,
          "index": 76,
          "int_col": 16,
          "str_col": "foobar"
         },
         {
          "float_col": 27.1428571429,
          "index": 77,
          "int_col": 37,
          "str_col": "foobar"
         },
         {
          "float_col": 28.5714285714,
          "index": 78,
          "int_col": 48,
          "str_col": "foobar"
         },
         {
          "float_col": 21.4285714286,
          "index": 79,
          "int_col": 5,
          "str_col": "foobar"
         },
         {
          "float_col": 25.7142857143,
          "index": 80,
          "int_col": 15,
          "str_col": "foobar"
         },
         {
          "float_col": 30,
          "index": 81,
          "int_col": 39,
          "str_col": "foobar"
         },
         {
          "float_col": 11.4285714286,
          "index": 82,
          "int_col": 23,
          "str_col": "foobar"
         },
         {
          "float_col": 32.8571428571,
          "index": 83,
          "int_col": 14,
          "str_col": "foobar"
         },
         {
          "float_col": 37.1428571429,
          "index": 84,
          "int_col": 18,
          "str_col": "foobar"
         },
         {
          "float_col": 30,
          "index": 85,
          "int_col": 20,
          "str_col": "foobar"
         },
         {
          "float_col": 11.4285714286,
          "index": 86,
          "int_col": 15,
          "str_col": "foobar"
         },
         {
          "float_col": 20,
          "index": 87,
          "int_col": 18,
          "str_col": "foobar"
         },
         {
          "float_col": 5.7142857143,
          "index": 88,
          "int_col": 36,
          "str_col": "foobar"
         },
         {
          "float_col": 27.1428571429,
          "index": 89,
          "int_col": 1,
          "str_col": "foobar"
         },
         {
          "float_col": 17.1428571429,
          "index": 90,
          "int_col": 20,
          "str_col": "foobar"
         },
         {
          "float_col": 32.8571428571,
          "index": 91,
          "int_col": 38,
          "str_col": "foobar"
         },
         {
          "float_col": 7.1428571429,
          "index": 92,
          "int_col": 42,
          "str_col": "foobar"
         },
         {
          "float_col": 40,
          "index": 93,
          "int_col": 35,
          "str_col": "foobar"
         },
         {
          "float_col": 21.4285714286,
          "index": 94,
          "int_col": 18,
          "str_col": "foobar"
         },
         {
          "float_col": 22.8571428571,
          "index": 95,
          "int_col": 12,
          "str_col": "foobar"
         },
         {
          "float_col": 28.5714285714,
          "index": 96,
          "int_col": 25,
          "str_col": "foobar"
         },
         {
          "float_col": 22.8571428571,
          "index": 97,
          "int_col": 40,
          "str_col": "foobar"
         },
         {
          "float_col": 7.1428571429,
          "index": 98,
          "int_col": 46,
          "str_col": "foobar"
         },
         {
          "float_col": 27.1428571429,
          "index": 99,
          "int_col": 37,
          "str_col": "foobar"
         },
         {
          "float_col": 11.4285714286,
          "index": 100,
          "int_col": 46,
          "str_col": "foobar"
         },
         {
          "float_col": 18.5714285714,
          "index": 101,
          "int_col": 30,
          "str_col": "foobar"
         },
         {
          "float_col": 35.7142857143,
          "index": 102,
          "int_col": 37,
          "str_col": "foobar"
         },
         {
          "float_col": 22.8571428571,
          "index": 103,
          "int_col": 30,
          "str_col": "foobar"
         },
         {
          "float_col": 11.4285714286,
          "index": 104,
          "int_col": 4,
          "str_col": "foobar"
         },
         {
          "float_col": 1.4285714286,
          "index": 105,
          "int_col": 22,
          "str_col": "foobar"
         },
         {
          "float_col": 37.1428571429,
          "index": 106,
          "int_col": 14,
          "str_col": "foobar"
         },
         {
          "float_col": 40,
          "index": 107,
          "int_col": 12,
          "str_col": "foobar"
         },
         {
          "float_col": 27.1428571429,
          "index": 108,
          "int_col": 48,
          "str_col": "foobar"
         },
         {
          "float_col": 30,
          "index": 109,
          "int_col": 3,
          "str_col": "foobar"
         },
         {
          "float_col": 18.5714285714,
          "index": 110,
          "int_col": 5,
          "str_col": "foobar"
         },
         {
          "float_col": 40,
          "index": 111,
          "int_col": 29,
          "str_col": "foobar"
         },
         {
          "float_col": 1.4285714286,
          "index": 112,
          "int_col": 24,
          "str_col": "foobar"
         },
         {
          "float_col": 15.7142857143,
          "index": 113,
          "int_col": 10,
          "str_col": "foobar"
         },
         {
          "float_col": 31.4285714286,
          "index": 114,
          "int_col": 39,
          "str_col": "foobar"
         },
         {
          "float_col": 15.7142857143,
          "index": 115,
          "int_col": 45,
          "str_col": "foobar"
         },
         {
          "float_col": 10,
          "index": 116,
          "int_col": 2,
          "str_col": "foobar"
         },
         {
          "float_col": 4.2857142857,
          "index": 117,
          "int_col": 5,
          "str_col": "foobar"
         },
         {
          "float_col": 37.1428571429,
          "index": 118,
          "int_col": 44,
          "str_col": "foobar"
         },
         {
          "float_col": 7.1428571429,
          "index": 119,
          "int_col": 13,
          "str_col": "foobar"
         },
         {
          "float_col": 24.2857142857,
          "index": 120,
          "int_col": 45,
          "str_col": "foobar"
         },
         {
          "float_col": 32.8571428571,
          "index": 121,
          "int_col": 49,
          "str_col": "foobar"
         },
         {
          "float_col": 7.1428571429,
          "index": 122,
          "int_col": 19,
          "str_col": "foobar"
         },
         {
          "float_col": 4.2857142857,
          "index": 123,
          "int_col": 10,
          "str_col": "foobar"
         },
         {
          "float_col": 40,
          "index": 124,
          "int_col": 39,
          "str_col": "foobar"
         },
         {
          "float_col": 32.8571428571,
          "index": 125,
          "int_col": 15,
          "str_col": "foobar"
         },
         {
          "float_col": 21.4285714286,
          "index": 126,
          "int_col": 26,
          "str_col": "foobar"
         },
         {
          "float_col": 38.5714285714,
          "index": 127,
          "int_col": 32,
          "str_col": "foobar"
         },
         {
          "float_col": 10,
          "index": 128,
          "int_col": 14,
          "str_col": "foobar"
         },
         {
          "float_col": 2.8571428571,
          "index": 129,
          "int_col": 47,
          "str_col": "foobar"
         },
         {
          "float_col": 8.5714285714,
          "index": 130,
          "int_col": 46,
          "str_col": "foobar"
         },
         {
          "float_col": 32.8571428571,
          "index": 131,
          "int_col": 24,
          "str_col": "foobar"
         },
         {
          "float_col": 37.1428571429,
          "index": 132,
          "int_col": 47,
          "str_col": "foobar"
         },
         {
          "float_col": 10,
          "index": 133,
          "int_col": 42,
          "str_col": "foobar"
         },
         {
          "float_col": 8.5714285714,
          "index": 134,
          "int_col": 17,
          "str_col": "foobar"
         },
         {
          "float_col": 20,
          "index": 135,
          "int_col": 9,
          "str_col": "foobar"
         },
         {
          "float_col": 28.5714285714,
          "index": 136,
          "int_col": 43,
          "str_col": "foobar"
         },
         {
          "float_col": 41.4285714286,
          "index": 137,
          "int_col": 37,
          "str_col": "foobar"
         },
         {
          "float_col": 15.7142857143,
          "index": 138,
          "int_col": 29,
          "str_col": "foobar"
         },
         {
          "float_col": 15.7142857143,
          "index": 139,
          "int_col": 44,
          "str_col": "foobar"
         },
         {
          "float_col": 2.8571428571,
          "index": 140,
          "int_col": 2,
          "str_col": "foobar"
         },
         {
          "float_col": 4.2857142857,
          "index": 141,
          "int_col": 36,
          "str_col": "foobar"
         },
         {
          "float_col": 27.1428571429,
          "index": 142,
          "int_col": 18,
          "str_col": "foobar"
         },
         {
          "float_col": 31.4285714286,
          "index": 143,
          "int_col": 46,
          "str_col": "foobar"
         },
         {
          "float_col": 35.7142857143,
          "index": 144,
          "int_col": 43,
          "str_col": "foobar"
         },
         {
          "float_col": 28.5714285714,
          "index": 145,
          "int_col": 40,
          "str_col": "foobar"
         },
         {
          "float_col": 1.4285714286,
          "index": 146,
          "int_col": 9,
          "str_col": "foobar"
         },
         {
          "float_col": 38.5714285714,
          "index": 147,
          "int_col": 30,
          "str_col": "foobar"
         },
         {
          "float_col": 40,
          "index": 148,
          "int_col": 8,
          "str_col": "foobar"
         },
         {
          "float_col": 14.2857142857,
          "index": 149,
          "int_col": 44,
          "str_col": "foobar"
         },
         {
          "float_col": 25.7142857143,
          "index": 150,
          "int_col": 18,
          "str_col": "foobar"
         },
         {
          "float_col": 11.4285714286,
          "index": 151,
          "int_col": 22,
          "str_col": "foobar"
         },
         {
          "float_col": 10,
          "index": 152,
          "int_col": 11,
          "str_col": "foobar"
         },
         {
          "float_col": 34.2857142857,
          "index": 153,
          "int_col": 10,
          "str_col": "foobar"
         },
         {
          "float_col": 38.5714285714,
          "index": 154,
          "int_col": 6,
          "str_col": "foobar"
         },
         {
          "float_col": 18.5714285714,
          "index": 155,
          "int_col": 17,
          "str_col": "foobar"
         },
         {
          "float_col": 7.1428571429,
          "index": 156,
          "int_col": 22,
          "str_col": "foobar"
         },
         {
          "float_col": 11.4285714286,
          "index": 157,
          "int_col": 14,
          "str_col": "foobar"
         },
         {
          "float_col": 24.2857142857,
          "index": 158,
          "int_col": 21,
          "str_col": "foobar"
         },
         {
          "float_col": 27.1428571429,
          "index": 159,
          "int_col": 45,
          "str_col": "foobar"
         },
         {
          "float_col": 17.1428571429,
          "index": 160,
          "int_col": 10,
          "str_col": "foobar"
         },
         {
          "float_col": 35.7142857143,
          "index": 161,
          "int_col": 42,
          "str_col": "foobar"
         },
         {
          "float_col": 21.4285714286,
          "index": 162,
          "int_col": 41,
          "str_col": "foobar"
         },
         {
          "float_col": 31.4285714286,
          "index": 163,
          "int_col": 42,
          "str_col": "foobar"
         },
         {
          "float_col": 15.7142857143,
          "index": 164,
          "int_col": 13,
          "str_col": "foobar"
         },
         {
          "float_col": 22.8571428571,
          "index": 165,
          "int_col": 41,
          "str_col": "foobar"
         },
         {
          "float_col": 4.2857142857,
          "index": 166,
          "int_col": 36,
          "str_col": "foobar"
         },
         {
          "float_col": 15.7142857143,
          "index": 167,
          "int_col": 43,
          "str_col": "foobar"
         },
         {
          "float_col": 38.5714285714,
          "index": 168,
          "int_col": 4,
          "str_col": "foobar"
         },
         {
          "float_col": 7.1428571429,
          "index": 169,
          "int_col": 37,
          "str_col": "foobar"
         },
         {
          "float_col": 28.5714285714,
          "index": 170,
          "int_col": 40,
          "str_col": "foobar"
         },
         {
          "float_col": 5.7142857143,
          "index": 171,
          "int_col": 47,
          "str_col": "foobar"
         },
         {
          "float_col": 24.2857142857,
          "index": 172,
          "int_col": 35,
          "str_col": "foobar"
         },
         {
          "float_col": 22.8571428571,
          "index": 173,
          "int_col": 31,
          "str_col": "foobar"
         },
         {
          "float_col": 14.2857142857,
          "index": 174,
          "int_col": 4,
          "str_col": "foobar"
         },
         {
          "float_col": 8.5714285714,
          "index": 175,
          "int_col": 40,
          "str_col": "foobar"
         },
         {
          "float_col": 7.1428571429,
          "index": 176,
          "int_col": 27,
          "str_col": "foobar"
         },
         {
          "float_col": 25.7142857143,
          "index": 177,
          "int_col": 19,
          "str_col": "foobar"
         },
         {
          "float_col": 20,
          "index": 178,
          "int_col": 12,
          "str_col": "foobar"
         },
         {
          "float_col": 20,
          "index": 179,
          "int_col": 13,
          "str_col": "foobar"
         },
         {
          "float_col": 20,
          "index": 180,
          "int_col": 44,
          "str_col": "foobar"
         },
         {
          "float_col": 7.1428571429,
          "index": 181,
          "int_col": 13,
          "str_col": "foobar"
         },
         {
          "float_col": 34.2857142857,
          "index": 182,
          "int_col": 6,
          "str_col": "foobar"
         },
         {
          "float_col": 12.8571428571,
          "index": 183,
          "int_col": 29,
          "str_col": "foobar"
         },
         {
          "float_col": 30,
          "index": 184,
          "int_col": 14,
          "str_col": "foobar"
         },
         {
          "float_col": 37.1428571429,
          "index": 185,
          "int_col": 41,
          "str_col": "foobar"
         },
         {
          "float_col": 10,
          "index": 186,
          "int_col": 29,
          "str_col": "foobar"
         },
         {
          "float_col": 1.4285714286,
          "index": 187,
          "int_col": 12,
          "str_col": "foobar"
         },
         {
          "float_col": 38.5714285714,
          "index": 188,
          "int_col": 14,
          "str_col": "foobar"
         },
         {
          "float_col": 8.5714285714,
          "index": 189,
          "int_col": 46,
          "str_col": "foobar"
         },
         {
          "float_col": 38.5714285714,
          "index": 190,
          "int_col": 42,
          "str_col": "foobar"
         },
         {
          "float_col": 37.1428571429,
          "index": 191,
          "int_col": 26,
          "str_col": "foobar"
         },
         {
          "float_col": 38.5714285714,
          "index": 192,
          "int_col": 22,
          "str_col": "foobar"
         },
         {
          "float_col": 5.7142857143,
          "index": 193,
          "int_col": 23,
          "str_col": "foobar"
         },
         {
          "float_col": 24.2857142857,
          "index": 194,
          "int_col": 29,
          "str_col": "foobar"
         },
         {
          "float_col": 2.8571428571,
          "index": 195,
          "int_col": 33,
          "str_col": "foobar"
         },
         {
          "float_col": 35.7142857143,
          "index": 196,
          "int_col": 15,
          "str_col": "foobar"
         },
         {
          "float_col": 37.1428571429,
          "index": 197,
          "int_col": 49,
          "str_col": "foobar"
         },
         {
          "float_col": 34.2857142857,
          "index": 198,
          "int_col": 2,
          "str_col": "foobar"
         },
         {
          "float_col": 15.7142857143,
          "index": 199,
          "int_col": 33,
          "str_col": "foobar"
         }
        ]
       },
       "df_display_args": {
        "main": {
         "data_key": "main",
         "df_viewer_config": {
          "column_config": [
           {
            "col_name": "index",
            "displayer_args": {
             "displayer": "float",
             "max_fraction_digits": 0,
             "min_fraction_digits": 0
            }
           },
           {
            "col_name": "int_col",
            "displayer_args": {
             "displayer": "float",
             "max_fraction_digits": 0,
             "min_fraction_digits": 0
            }
           },
           {
            "col_name": "float_col",
            "displayer_args": {
             "displayer": "float",
             "max_fraction_digits": 3,
             "min_fraction_digits": 3
            }
           },
           {
            "col_name": "str_col",
            "displayer_args": {
             "displayer": "string",
             "max_length": 35,
             "tooltip_config": {
              "tooltip_type": "simple",
              "val_column": "str_col"
             }
            },
            "tooltip_config": {
             "tooltip_type": "simple",
             "val_column": "int_col"
            }
           }
          ],
          "component_config": {},
          "extra_grid_config": {},
          "pinned_rows": [
           {
            "displayer_args": {
             "displayer": "obj"
            },
            "primary_key_val": "dtype"
           },
           {
            "displayer_args": {
             "displayer": "histogram"
            },
            "primary_key_val": "histogram"
           }
          ]
         },
         "summary_stats_key": "all_stats"
        },
        "summary": {
         "data_key": "empty",
         "df_viewer_config": {
          "column_config": [
           {
            "col_name": "index",
            "displayer_args": {
             "displayer": "obj"
            }
           },
           {
            "col_name": "int_col",
            "displayer_args": {
             "displayer": "obj"
            }
           },
           {
            "col_name": "float_col",
            "displayer_args": {
             "displayer": "obj"
            }
           },
           {
            "col_name": "str_col",
            "displayer_args": {
             "displayer": "obj"
            },
            "tooltip_config": {
             "tooltip_type": "simple",
             "val_column": "int_col"
            }
           }
          ],
          "component_config": {},
          "extra_grid_config": {},
          "pinned_rows": [
           {
            "displayer_args": {
             "displayer": "obj"
            },
            "primary_key_val": "dtype"
           },
           {
            "displayer_args": {
             "displayer": "float",
             "max_fraction_digits": 0,
             "min_fraction_digits": 0
            },
            "primary_key_val": "non_null_count"
           },
           {
            "displayer_args": {
             "displayer": "float",
             "max_fraction_digits": 0,
             "min_fraction_digits": 0
            },
            "primary_key_val": "null_count"
           },
           {
            "displayer_args": {
             "displayer": "float",
             "max_fraction_digits": 3,
             "min_fraction_digits": 3
            },
            "primary_key_val": "mean"
           },
           {
            "displayer_args": {
             "displayer": "float",
             "max_fraction_digits": 3,
             "min_fraction_digits": 3
            },
            "primary_key_val": "std"
           },
           {
            "displayer_args": {
             "displayer": "float",
             "max_fraction_digits": 3,
             "min_fraction_digits": 3
            },
            "primary_key_val": "min"
           },
           {
            "displayer_args": {
             "displayer": "float",
             "max_fraction_digits": 3,
             "min_fraction_digits": 3
            },
            "primary_key_val": "25th"
           },
           {
            "displayer_args": {
             "displayer": "float",
             "max_fraction_digits": 3,
             "min_fraction_digits": 3
            },
            "primary_key_val": "median"
           },
           {
            "displayer_args": {
             "displayer": "float",
             "max_fraction_digits": 3,
             "min_fraction_digits": 3
            },
            "primary_key_val": "75th"
           },
           {
            "displayer_args": {
             "displayer": "float",
             "max_fraction_digits": 3,
             "min_fraction_digits": 3
            },
            "primary_key_val": "max"
           },
           {
            "displayer_args": {
             "displayer": "float",
             "max_fraction_digits": 0,
             "min_fraction_digits": 0
            },
            "primary_key_val": "unique_count"
           },
           {
            "displayer_args": {
             "displayer": "float",
             "max_fraction_digits": 0,
             "min_fraction_digits": 0
            },
            "primary_key_val": "distinct_count"
           },
           {
            "displayer_args": {
             "displayer": "obj"
            },
            "primary_key_val": "most_freq"
           },
           {
            "displayer_args": {
             "displayer": "obj"
            },
            "primary_key_val": "2nd_freq"
           },
           {
            "displayer_args": {
             "displayer": "obj"
            },
            "primary_key_val": "3rd_freq"
           },
           {
            "displayer_args": {
             "displayer": "obj"
            },
            "primary_key_val": "4th_freq"
           },
           {
            "displayer_args": {
             "displayer": "obj"
            },
            "primary_key_val": "5th_freq"
           }
          ]
         },
         "summary_stats_key": "all_stats"
        }
       },
       "df_meta": {
        "columns": 3,
        "filtered_rows": 200,
        "rows_shown": 200,
        "total_rows": 200
       },
       "layout": "IPY_MODEL_a0102c019e6540adb68cab9db2530ef6",
       "operation_results": {
        "generated_py_code": "no operations",
        "transformed_df": null
       },
       "operations": []
      }
     }
    },
    "version_major": 2,
    "version_minor": 0
   }
  }
 },
 "nbformat": 4,
 "nbformat_minor": 5
}
